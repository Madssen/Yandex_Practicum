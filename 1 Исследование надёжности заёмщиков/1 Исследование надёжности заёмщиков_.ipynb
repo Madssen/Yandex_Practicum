{
 "cells": [
  {
   "cell_type": "markdown",
   "metadata": {},
   "source": [
    "# Исследование надёжности заёмщиков\n",
    "\n",
    "Заказчик — кредитный отдел банка. Нужно разобраться, влияет ли семейное положение и количество детей клиента на факт погашения кредита в срок. Входные данные от банка — статистика о платёжеспособности клиентов.\n",
    "\n",
    "Результаты исследования будут учтены при построении модели **кредитного скоринга** — специальной системы, которая оценивает способность потенциального заёмщика вернуть кредит банку."
   ]
  },
  {
   "cell_type": "markdown",
   "metadata": {},
   "source": [
    "## Шаг 1. Откройте файл с данными и изучите общую информацию"
   ]
  },
  {
   "cell_type": "code",
   "execution_count": 1,
   "metadata": {
    "scrolled": true
   },
   "outputs": [
    {
     "data": {
      "text/html": [
       "<div>\n",
       "<style scoped>\n",
       "    .dataframe tbody tr th:only-of-type {\n",
       "        vertical-align: middle;\n",
       "    }\n",
       "\n",
       "    .dataframe tbody tr th {\n",
       "        vertical-align: top;\n",
       "    }\n",
       "\n",
       "    .dataframe thead th {\n",
       "        text-align: right;\n",
       "    }\n",
       "</style>\n",
       "<table border=\"1\" class=\"dataframe\">\n",
       "  <thead>\n",
       "    <tr style=\"text-align: right;\">\n",
       "      <th></th>\n",
       "      <th>children</th>\n",
       "      <th>days_employed</th>\n",
       "      <th>dob_years</th>\n",
       "      <th>education</th>\n",
       "      <th>education_id</th>\n",
       "      <th>family_status</th>\n",
       "      <th>family_status_id</th>\n",
       "      <th>gender</th>\n",
       "      <th>income_type</th>\n",
       "      <th>debt</th>\n",
       "      <th>total_income</th>\n",
       "      <th>purpose</th>\n",
       "    </tr>\n",
       "  </thead>\n",
       "  <tbody>\n",
       "    <tr>\n",
       "      <th>0</th>\n",
       "      <td>1</td>\n",
       "      <td>-8437.673028</td>\n",
       "      <td>42</td>\n",
       "      <td>высшее</td>\n",
       "      <td>0</td>\n",
       "      <td>женат / замужем</td>\n",
       "      <td>0</td>\n",
       "      <td>F</td>\n",
       "      <td>сотрудник</td>\n",
       "      <td>0</td>\n",
       "      <td>253875.639453</td>\n",
       "      <td>покупка жилья</td>\n",
       "    </tr>\n",
       "    <tr>\n",
       "      <th>1</th>\n",
       "      <td>1</td>\n",
       "      <td>-4024.803754</td>\n",
       "      <td>36</td>\n",
       "      <td>среднее</td>\n",
       "      <td>1</td>\n",
       "      <td>женат / замужем</td>\n",
       "      <td>0</td>\n",
       "      <td>F</td>\n",
       "      <td>сотрудник</td>\n",
       "      <td>0</td>\n",
       "      <td>112080.014102</td>\n",
       "      <td>приобретение автомобиля</td>\n",
       "    </tr>\n",
       "    <tr>\n",
       "      <th>2</th>\n",
       "      <td>0</td>\n",
       "      <td>-5623.422610</td>\n",
       "      <td>33</td>\n",
       "      <td>Среднее</td>\n",
       "      <td>1</td>\n",
       "      <td>женат / замужем</td>\n",
       "      <td>0</td>\n",
       "      <td>M</td>\n",
       "      <td>сотрудник</td>\n",
       "      <td>0</td>\n",
       "      <td>145885.952297</td>\n",
       "      <td>покупка жилья</td>\n",
       "    </tr>\n",
       "    <tr>\n",
       "      <th>3</th>\n",
       "      <td>3</td>\n",
       "      <td>-4124.747207</td>\n",
       "      <td>32</td>\n",
       "      <td>среднее</td>\n",
       "      <td>1</td>\n",
       "      <td>женат / замужем</td>\n",
       "      <td>0</td>\n",
       "      <td>M</td>\n",
       "      <td>сотрудник</td>\n",
       "      <td>0</td>\n",
       "      <td>267628.550329</td>\n",
       "      <td>дополнительное образование</td>\n",
       "    </tr>\n",
       "    <tr>\n",
       "      <th>4</th>\n",
       "      <td>0</td>\n",
       "      <td>340266.072047</td>\n",
       "      <td>53</td>\n",
       "      <td>среднее</td>\n",
       "      <td>1</td>\n",
       "      <td>гражданский брак</td>\n",
       "      <td>1</td>\n",
       "      <td>F</td>\n",
       "      <td>пенсионер</td>\n",
       "      <td>0</td>\n",
       "      <td>158616.077870</td>\n",
       "      <td>сыграть свадьбу</td>\n",
       "    </tr>\n",
       "  </tbody>\n",
       "</table>\n",
       "</div>"
      ],
      "text/plain": [
       "   children  days_employed  dob_years education  education_id  \\\n",
       "0         1   -8437.673028         42    высшее             0   \n",
       "1         1   -4024.803754         36   среднее             1   \n",
       "2         0   -5623.422610         33   Среднее             1   \n",
       "3         3   -4124.747207         32   среднее             1   \n",
       "4         0  340266.072047         53   среднее             1   \n",
       "\n",
       "      family_status  family_status_id gender income_type  debt   total_income  \\\n",
       "0   женат / замужем                 0      F   сотрудник     0  253875.639453   \n",
       "1   женат / замужем                 0      F   сотрудник     0  112080.014102   \n",
       "2   женат / замужем                 0      M   сотрудник     0  145885.952297   \n",
       "3   женат / замужем                 0      M   сотрудник     0  267628.550329   \n",
       "4  гражданский брак                 1      F   пенсионер     0  158616.077870   \n",
       "\n",
       "                      purpose  \n",
       "0               покупка жилья  \n",
       "1     приобретение автомобиля  \n",
       "2               покупка жилья  \n",
       "3  дополнительное образование  \n",
       "4             сыграть свадьбу  "
      ]
     },
     "execution_count": 1,
     "metadata": {},
     "output_type": "execute_result"
    }
   ],
   "source": [
    "import os\n",
    "import pandas as pd\n",
    "os.chdir(\"C:/Users/Admin/Downloads/ЯНДЕКС/Проекты из курса\")\n",
    "data = pd.read_csv('predobrabotka_dan.csv')\n",
    "data.head()"
   ]
  },
  {
   "cell_type": "code",
   "execution_count": 2,
   "metadata": {},
   "outputs": [
    {
     "name": "stdout",
     "output_type": "stream",
     "text": [
      "<class 'pandas.core.frame.DataFrame'>\n",
      "RangeIndex: 21525 entries, 0 to 21524\n",
      "Data columns (total 12 columns):\n",
      " #   Column            Non-Null Count  Dtype  \n",
      "---  ------            --------------  -----  \n",
      " 0   children          21525 non-null  int64  \n",
      " 1   days_employed     19351 non-null  float64\n",
      " 2   dob_years         21525 non-null  int64  \n",
      " 3   education         21525 non-null  object \n",
      " 4   education_id      21525 non-null  int64  \n",
      " 5   family_status     21525 non-null  object \n",
      " 6   family_status_id  21525 non-null  int64  \n",
      " 7   gender            21525 non-null  object \n",
      " 8   income_type       21525 non-null  object \n",
      " 9   debt              21525 non-null  int64  \n",
      " 10  total_income      19351 non-null  float64\n",
      " 11  purpose           21525 non-null  object \n",
      "dtypes: float64(2), int64(5), object(5)\n",
      "memory usage: 2.0+ MB\n"
     ]
    }
   ],
   "source": [
    "data.info()"
   ]
  },
  {
   "cell_type": "code",
   "execution_count": 3,
   "metadata": {},
   "outputs": [
    {
     "data": {
      "text/html": [
       "<div>\n",
       "<style scoped>\n",
       "    .dataframe tbody tr th:only-of-type {\n",
       "        vertical-align: middle;\n",
       "    }\n",
       "\n",
       "    .dataframe tbody tr th {\n",
       "        vertical-align: top;\n",
       "    }\n",
       "\n",
       "    .dataframe thead th {\n",
       "        text-align: right;\n",
       "    }\n",
       "</style>\n",
       "<table border=\"1\" class=\"dataframe\">\n",
       "  <thead>\n",
       "    <tr style=\"text-align: right;\">\n",
       "      <th></th>\n",
       "      <th>children</th>\n",
       "      <th>days_employed</th>\n",
       "      <th>dob_years</th>\n",
       "      <th>education_id</th>\n",
       "      <th>family_status_id</th>\n",
       "      <th>debt</th>\n",
       "      <th>total_income</th>\n",
       "    </tr>\n",
       "  </thead>\n",
       "  <tbody>\n",
       "    <tr>\n",
       "      <th>count</th>\n",
       "      <td>21525.000000</td>\n",
       "      <td>19351.000000</td>\n",
       "      <td>21525.000000</td>\n",
       "      <td>21525.000000</td>\n",
       "      <td>21525.000000</td>\n",
       "      <td>21525.000000</td>\n",
       "      <td>1.935100e+04</td>\n",
       "    </tr>\n",
       "    <tr>\n",
       "      <th>mean</th>\n",
       "      <td>0.538908</td>\n",
       "      <td>63046.497661</td>\n",
       "      <td>43.293380</td>\n",
       "      <td>0.817236</td>\n",
       "      <td>0.972544</td>\n",
       "      <td>0.080883</td>\n",
       "      <td>1.674223e+05</td>\n",
       "    </tr>\n",
       "    <tr>\n",
       "      <th>std</th>\n",
       "      <td>1.381587</td>\n",
       "      <td>140827.311974</td>\n",
       "      <td>12.574584</td>\n",
       "      <td>0.548138</td>\n",
       "      <td>1.420324</td>\n",
       "      <td>0.272661</td>\n",
       "      <td>1.029716e+05</td>\n",
       "    </tr>\n",
       "    <tr>\n",
       "      <th>min</th>\n",
       "      <td>-1.000000</td>\n",
       "      <td>-18388.949901</td>\n",
       "      <td>0.000000</td>\n",
       "      <td>0.000000</td>\n",
       "      <td>0.000000</td>\n",
       "      <td>0.000000</td>\n",
       "      <td>2.066726e+04</td>\n",
       "    </tr>\n",
       "    <tr>\n",
       "      <th>25%</th>\n",
       "      <td>0.000000</td>\n",
       "      <td>-2747.423625</td>\n",
       "      <td>33.000000</td>\n",
       "      <td>1.000000</td>\n",
       "      <td>0.000000</td>\n",
       "      <td>0.000000</td>\n",
       "      <td>1.030532e+05</td>\n",
       "    </tr>\n",
       "    <tr>\n",
       "      <th>50%</th>\n",
       "      <td>0.000000</td>\n",
       "      <td>-1203.369529</td>\n",
       "      <td>42.000000</td>\n",
       "      <td>1.000000</td>\n",
       "      <td>0.000000</td>\n",
       "      <td>0.000000</td>\n",
       "      <td>1.450179e+05</td>\n",
       "    </tr>\n",
       "    <tr>\n",
       "      <th>75%</th>\n",
       "      <td>1.000000</td>\n",
       "      <td>-291.095954</td>\n",
       "      <td>53.000000</td>\n",
       "      <td>1.000000</td>\n",
       "      <td>1.000000</td>\n",
       "      <td>0.000000</td>\n",
       "      <td>2.034351e+05</td>\n",
       "    </tr>\n",
       "    <tr>\n",
       "      <th>max</th>\n",
       "      <td>20.000000</td>\n",
       "      <td>401755.400475</td>\n",
       "      <td>75.000000</td>\n",
       "      <td>4.000000</td>\n",
       "      <td>4.000000</td>\n",
       "      <td>1.000000</td>\n",
       "      <td>2.265604e+06</td>\n",
       "    </tr>\n",
       "  </tbody>\n",
       "</table>\n",
       "</div>"
      ],
      "text/plain": [
       "           children  days_employed     dob_years  education_id  \\\n",
       "count  21525.000000   19351.000000  21525.000000  21525.000000   \n",
       "mean       0.538908   63046.497661     43.293380      0.817236   \n",
       "std        1.381587  140827.311974     12.574584      0.548138   \n",
       "min       -1.000000  -18388.949901      0.000000      0.000000   \n",
       "25%        0.000000   -2747.423625     33.000000      1.000000   \n",
       "50%        0.000000   -1203.369529     42.000000      1.000000   \n",
       "75%        1.000000    -291.095954     53.000000      1.000000   \n",
       "max       20.000000  401755.400475     75.000000      4.000000   \n",
       "\n",
       "       family_status_id          debt  total_income  \n",
       "count      21525.000000  21525.000000  1.935100e+04  \n",
       "mean           0.972544      0.080883  1.674223e+05  \n",
       "std            1.420324      0.272661  1.029716e+05  \n",
       "min            0.000000      0.000000  2.066726e+04  \n",
       "25%            0.000000      0.000000  1.030532e+05  \n",
       "50%            0.000000      0.000000  1.450179e+05  \n",
       "75%            1.000000      0.000000  2.034351e+05  \n",
       "max            4.000000      1.000000  2.265604e+06  "
      ]
     },
     "execution_count": 3,
     "metadata": {},
     "output_type": "execute_result"
    }
   ],
   "source": [
    "data.describe()"
   ]
  },
  {
   "cell_type": "markdown",
   "metadata": {},
   "source": [
    "**Вывод**"
   ]
  },
  {
   "cell_type": "markdown",
   "metadata": {},
   "source": [
    "Таблица с различными типами данных в столбцах. 12 столбцов и 21525 строк."
   ]
  },
  {
   "cell_type": "markdown",
   "metadata": {},
   "source": [
    "## Шаг 2. Предобработка данных"
   ]
  },
  {
   "cell_type": "markdown",
   "metadata": {},
   "source": [
    "### Обработка пропусков"
   ]
  },
  {
   "cell_type": "markdown",
   "metadata": {},
   "source": [
    "**Поиск пропущенных значений методом isna(). Выведены первые строки для оценки пропусков.**"
   ]
  },
  {
   "cell_type": "code",
   "execution_count": 4,
   "metadata": {
    "scrolled": true
   },
   "outputs": [
    {
     "data": {
      "text/plain": [
       "children               0\n",
       "days_employed       2174\n",
       "dob_years              0\n",
       "education              0\n",
       "education_id           0\n",
       "family_status          0\n",
       "family_status_id       0\n",
       "gender                 0\n",
       "income_type            0\n",
       "debt                   0\n",
       "total_income        2174\n",
       "purpose                0\n",
       "dtype: int64"
      ]
     },
     "execution_count": 4,
     "metadata": {},
     "output_type": "execute_result"
    }
   ],
   "source": [
    "data.isna().sum()"
   ]
  },
  {
   "cell_type": "code",
   "execution_count": 5,
   "metadata": {
    "scrolled": true
   },
   "outputs": [
    {
     "data": {
      "text/html": [
       "<div>\n",
       "<style scoped>\n",
       "    .dataframe tbody tr th:only-of-type {\n",
       "        vertical-align: middle;\n",
       "    }\n",
       "\n",
       "    .dataframe tbody tr th {\n",
       "        vertical-align: top;\n",
       "    }\n",
       "\n",
       "    .dataframe thead th {\n",
       "        text-align: right;\n",
       "    }\n",
       "</style>\n",
       "<table border=\"1\" class=\"dataframe\">\n",
       "  <thead>\n",
       "    <tr style=\"text-align: right;\">\n",
       "      <th></th>\n",
       "      <th>children</th>\n",
       "      <th>days_employed</th>\n",
       "      <th>dob_years</th>\n",
       "      <th>education</th>\n",
       "      <th>education_id</th>\n",
       "      <th>family_status</th>\n",
       "      <th>family_status_id</th>\n",
       "      <th>gender</th>\n",
       "      <th>income_type</th>\n",
       "      <th>debt</th>\n",
       "      <th>total_income</th>\n",
       "      <th>purpose</th>\n",
       "    </tr>\n",
       "  </thead>\n",
       "  <tbody>\n",
       "    <tr>\n",
       "      <th>12</th>\n",
       "      <td>0</td>\n",
       "      <td>NaN</td>\n",
       "      <td>65</td>\n",
       "      <td>среднее</td>\n",
       "      <td>1</td>\n",
       "      <td>гражданский брак</td>\n",
       "      <td>1</td>\n",
       "      <td>M</td>\n",
       "      <td>пенсионер</td>\n",
       "      <td>0</td>\n",
       "      <td>NaN</td>\n",
       "      <td>сыграть свадьбу</td>\n",
       "    </tr>\n",
       "    <tr>\n",
       "      <th>26</th>\n",
       "      <td>0</td>\n",
       "      <td>NaN</td>\n",
       "      <td>41</td>\n",
       "      <td>среднее</td>\n",
       "      <td>1</td>\n",
       "      <td>женат / замужем</td>\n",
       "      <td>0</td>\n",
       "      <td>M</td>\n",
       "      <td>госслужащий</td>\n",
       "      <td>0</td>\n",
       "      <td>NaN</td>\n",
       "      <td>образование</td>\n",
       "    </tr>\n",
       "    <tr>\n",
       "      <th>29</th>\n",
       "      <td>0</td>\n",
       "      <td>NaN</td>\n",
       "      <td>63</td>\n",
       "      <td>среднее</td>\n",
       "      <td>1</td>\n",
       "      <td>Не женат / не замужем</td>\n",
       "      <td>4</td>\n",
       "      <td>F</td>\n",
       "      <td>пенсионер</td>\n",
       "      <td>0</td>\n",
       "      <td>NaN</td>\n",
       "      <td>строительство жилой недвижимости</td>\n",
       "    </tr>\n",
       "    <tr>\n",
       "      <th>41</th>\n",
       "      <td>0</td>\n",
       "      <td>NaN</td>\n",
       "      <td>50</td>\n",
       "      <td>среднее</td>\n",
       "      <td>1</td>\n",
       "      <td>женат / замужем</td>\n",
       "      <td>0</td>\n",
       "      <td>F</td>\n",
       "      <td>госслужащий</td>\n",
       "      <td>0</td>\n",
       "      <td>NaN</td>\n",
       "      <td>сделка с подержанным автомобилем</td>\n",
       "    </tr>\n",
       "    <tr>\n",
       "      <th>55</th>\n",
       "      <td>0</td>\n",
       "      <td>NaN</td>\n",
       "      <td>54</td>\n",
       "      <td>среднее</td>\n",
       "      <td>1</td>\n",
       "      <td>гражданский брак</td>\n",
       "      <td>1</td>\n",
       "      <td>F</td>\n",
       "      <td>пенсионер</td>\n",
       "      <td>1</td>\n",
       "      <td>NaN</td>\n",
       "      <td>сыграть свадьбу</td>\n",
       "    </tr>\n",
       "  </tbody>\n",
       "</table>\n",
       "</div>"
      ],
      "text/plain": [
       "    children  days_employed  dob_years education  education_id  \\\n",
       "12         0            NaN         65   среднее             1   \n",
       "26         0            NaN         41   среднее             1   \n",
       "29         0            NaN         63   среднее             1   \n",
       "41         0            NaN         50   среднее             1   \n",
       "55         0            NaN         54   среднее             1   \n",
       "\n",
       "            family_status  family_status_id gender  income_type  debt  \\\n",
       "12       гражданский брак                 1      M    пенсионер     0   \n",
       "26        женат / замужем                 0      M  госслужащий     0   \n",
       "29  Не женат / не замужем                 4      F    пенсионер     0   \n",
       "41        женат / замужем                 0      F  госслужащий     0   \n",
       "55       гражданский брак                 1      F    пенсионер     1   \n",
       "\n",
       "    total_income                           purpose  \n",
       "12           NaN                   сыграть свадьбу  \n",
       "26           NaN                       образование  \n",
       "29           NaN  строительство жилой недвижимости  \n",
       "41           NaN  сделка с подержанным автомобилем  \n",
       "55           NaN                   сыграть свадьбу  "
      ]
     },
     "execution_count": 5,
     "metadata": {},
     "output_type": "execute_result"
    }
   ],
   "source": [
    "data[data['days_employed'].isna()].head()"
   ]
  },
  {
   "cell_type": "markdown",
   "metadata": {},
   "source": [
    "**Пропущенные значения в столбце days_employed соответствуют пропущенным значениям в столбце total_income. Можно предположить, что люди не имеющие дохода не имеют опыта работы(и наоборот), следовательно заменить отсутсвующие значения в обоих стобцах на ноль. Использован метод fillna() для заполнения пропусков.**"
   ]
  },
  {
   "cell_type": "markdown",
   "metadata": {},
   "source": [
    "Чтобы проверить это соответствие, нужно отдельно посчитать количество строк, где одноврменно есть пропуски в обоих столбцах:"
   ]
  },
  {
   "cell_type": "code",
   "execution_count": 6,
   "metadata": {},
   "outputs": [
    {
     "data": {
      "text/plain": [
       "children            2174\n",
       "days_employed          0\n",
       "dob_years           2174\n",
       "education           2174\n",
       "education_id        2174\n",
       "family_status       2174\n",
       "family_status_id    2174\n",
       "gender              2174\n",
       "income_type         2174\n",
       "debt                2174\n",
       "total_income           0\n",
       "purpose             2174\n",
       "dtype: int64"
      ]
     },
     "execution_count": 6,
     "metadata": {},
     "output_type": "execute_result"
    }
   ],
   "source": [
    "data[(data['days_employed'].isna()) & (data['total_income'].isna())].count()"
   ]
  },
  {
   "cell_type": "code",
   "execution_count": 7,
   "metadata": {},
   "outputs": [
    {
     "data": {
      "text/plain": [
       "income_type\n",
       "безработный        131339.751676\n",
       "в декрете           53829.130729\n",
       "госслужащий        150447.935283\n",
       "компаньон          172357.950966\n",
       "пенсионер          118514.486412\n",
       "предприниматель    499163.144947\n",
       "сотрудник          142594.396847\n",
       "студент             98201.625314\n",
       "Name: total_income, dtype: float64"
      ]
     },
     "execution_count": 7,
     "metadata": {},
     "output_type": "execute_result"
    }
   ],
   "source": [
    "data.groupby('income_type')['total_income'].median()"
   ]
  },
  {
   "cell_type": "code",
   "execution_count": 8,
   "metadata": {},
   "outputs": [
    {
     "data": {
      "text/plain": [
       "income_type\n",
       "безработный        366413.652744\n",
       "в декрете           -3296.759962\n",
       "госслужащий         -2689.368353\n",
       "компаньон           -1547.382223\n",
       "пенсионер          365213.306266\n",
       "предприниматель      -520.848083\n",
       "сотрудник           -1574.202821\n",
       "студент              -578.751554\n",
       "Name: days_employed, dtype: float64"
      ]
     },
     "execution_count": 8,
     "metadata": {},
     "output_type": "execute_result"
    }
   ],
   "source": [
    "data.groupby('income_type')['days_employed'].median()"
   ]
  },
  {
   "cell_type": "code",
   "execution_count": 9,
   "metadata": {},
   "outputs": [],
   "source": [
    "days_median = data.groupby('income_type')['days_employed'].median()\n",
    "\n",
    "# для каждого типа занятости из серии, составленной выше\n",
    "for income_type in days_median.index: \n",
    "# в нашем датафрейме мы выбираем только те строки, где тип занятости соответствует выбранному выше (по очереди), и берем из доход\n",
    "    data.loc[data['income_type'] == income_type,'days_employed'] =  data.loc[data['income_type'] == income_type,'days_employed'].fillna(days_median.loc[income_type]) \n",
    "# и приравниваем их к самим себе (сохраняем), только заполняя пропуски доходом из таблички со средним доходом\n"
   ]
  },
  {
   "cell_type": "code",
   "execution_count": 10,
   "metadata": {},
   "outputs": [],
   "source": [
    "income_median = data.groupby('income_type')['total_income'].median()\n",
    "\n",
    "# для каждого типа занятости из серии, составленной выше\n",
    "for income_type in days_median.index: \n",
    "    data.loc[data['income_type'] == income_type,'total_income'] =  data.loc[data['income_type'] == income_type,'total_income'].fillna(days_median.loc[income_type]) \n",
    "\n"
   ]
  },
  {
   "cell_type": "code",
   "execution_count": 11,
   "metadata": {},
   "outputs": [
    {
     "data": {
      "text/plain": [
       "children            0\n",
       "days_employed       0\n",
       "dob_years           0\n",
       "education           0\n",
       "education_id        0\n",
       "family_status       0\n",
       "family_status_id    0\n",
       "gender              0\n",
       "income_type         0\n",
       "debt                0\n",
       "total_income        0\n",
       "purpose             0\n",
       "dtype: int64"
      ]
     },
     "execution_count": 11,
     "metadata": {},
     "output_type": "execute_result"
    }
   ],
   "source": [
    "data.isna().sum()"
   ]
  },
  {
   "cell_type": "markdown",
   "metadata": {},
   "source": [
    "### Замена типа данных"
   ]
  },
  {
   "cell_type": "markdown",
   "metadata": {},
   "source": [
    "**При анализе (data.info()) таблицы обнаружены вещественные значения в стобцах 'days_employed' и 'total_income'.\n",
    "В теории рассматривали два метода изменения типов данных: \n",
    "    метод to_numeric() - при переводе все числа будут иметь тип данных float. \n",
    "    метод astype() - переводит в указанный тип значения. \n",
    "Так как переводим в целое число, используем метод astype() с аргументом 'int'**"
   ]
  },
  {
   "cell_type": "code",
   "execution_count": 12,
   "metadata": {},
   "outputs": [
    {
     "name": "stdout",
     "output_type": "stream",
     "text": [
      "<class 'pandas.core.frame.DataFrame'>\n",
      "RangeIndex: 21525 entries, 0 to 21524\n",
      "Data columns (total 12 columns):\n",
      " #   Column            Non-Null Count  Dtype \n",
      "---  ------            --------------  ----- \n",
      " 0   children          21525 non-null  int64 \n",
      " 1   days_employed     21525 non-null  int32 \n",
      " 2   dob_years         21525 non-null  int64 \n",
      " 3   education         21525 non-null  object\n",
      " 4   education_id      21525 non-null  int64 \n",
      " 5   family_status     21525 non-null  object\n",
      " 6   family_status_id  21525 non-null  int64 \n",
      " 7   gender            21525 non-null  object\n",
      " 8   income_type       21525 non-null  object\n",
      " 9   debt              21525 non-null  int64 \n",
      " 10  total_income      21525 non-null  int32 \n",
      " 11  purpose           21525 non-null  object\n",
      "dtypes: int32(2), int64(5), object(5)\n",
      "memory usage: 1.8+ MB\n"
     ]
    }
   ],
   "source": [
    "#замена вещественных значений в столбцах 'days_employed' и 'total_income' на целочисленные\n",
    "data['days_employed'] = data['days_employed'].astype('int')\n",
    "data['total_income'] = data['total_income'].astype('int')\n",
    "data.info() #проверяем, что замена прошла успешно\n"
   ]
  },
  {
   "cell_type": "code",
   "execution_count": 13,
   "metadata": {},
   "outputs": [
    {
     "data": {
      "text/html": [
       "<div>\n",
       "<style scoped>\n",
       "    .dataframe tbody tr th:only-of-type {\n",
       "        vertical-align: middle;\n",
       "    }\n",
       "\n",
       "    .dataframe tbody tr th {\n",
       "        vertical-align: top;\n",
       "    }\n",
       "\n",
       "    .dataframe thead th {\n",
       "        text-align: right;\n",
       "    }\n",
       "</style>\n",
       "<table border=\"1\" class=\"dataframe\">\n",
       "  <thead>\n",
       "    <tr style=\"text-align: right;\">\n",
       "      <th></th>\n",
       "      <th>children</th>\n",
       "      <th>days_employed</th>\n",
       "      <th>dob_years</th>\n",
       "      <th>education</th>\n",
       "      <th>education_id</th>\n",
       "      <th>family_status</th>\n",
       "      <th>family_status_id</th>\n",
       "      <th>gender</th>\n",
       "      <th>income_type</th>\n",
       "      <th>debt</th>\n",
       "      <th>total_income</th>\n",
       "      <th>purpose</th>\n",
       "    </tr>\n",
       "  </thead>\n",
       "  <tbody>\n",
       "    <tr>\n",
       "      <th>0</th>\n",
       "      <td>1</td>\n",
       "      <td>-8437</td>\n",
       "      <td>42</td>\n",
       "      <td>высшее</td>\n",
       "      <td>0</td>\n",
       "      <td>женат / замужем</td>\n",
       "      <td>0</td>\n",
       "      <td>F</td>\n",
       "      <td>сотрудник</td>\n",
       "      <td>0</td>\n",
       "      <td>253875</td>\n",
       "      <td>покупка жилья</td>\n",
       "    </tr>\n",
       "    <tr>\n",
       "      <th>1</th>\n",
       "      <td>1</td>\n",
       "      <td>-4024</td>\n",
       "      <td>36</td>\n",
       "      <td>среднее</td>\n",
       "      <td>1</td>\n",
       "      <td>женат / замужем</td>\n",
       "      <td>0</td>\n",
       "      <td>F</td>\n",
       "      <td>сотрудник</td>\n",
       "      <td>0</td>\n",
       "      <td>112080</td>\n",
       "      <td>приобретение автомобиля</td>\n",
       "    </tr>\n",
       "    <tr>\n",
       "      <th>2</th>\n",
       "      <td>0</td>\n",
       "      <td>-5623</td>\n",
       "      <td>33</td>\n",
       "      <td>Среднее</td>\n",
       "      <td>1</td>\n",
       "      <td>женат / замужем</td>\n",
       "      <td>0</td>\n",
       "      <td>M</td>\n",
       "      <td>сотрудник</td>\n",
       "      <td>0</td>\n",
       "      <td>145885</td>\n",
       "      <td>покупка жилья</td>\n",
       "    </tr>\n",
       "    <tr>\n",
       "      <th>3</th>\n",
       "      <td>3</td>\n",
       "      <td>-4124</td>\n",
       "      <td>32</td>\n",
       "      <td>среднее</td>\n",
       "      <td>1</td>\n",
       "      <td>женат / замужем</td>\n",
       "      <td>0</td>\n",
       "      <td>M</td>\n",
       "      <td>сотрудник</td>\n",
       "      <td>0</td>\n",
       "      <td>267628</td>\n",
       "      <td>дополнительное образование</td>\n",
       "    </tr>\n",
       "    <tr>\n",
       "      <th>4</th>\n",
       "      <td>0</td>\n",
       "      <td>340266</td>\n",
       "      <td>53</td>\n",
       "      <td>среднее</td>\n",
       "      <td>1</td>\n",
       "      <td>гражданский брак</td>\n",
       "      <td>1</td>\n",
       "      <td>F</td>\n",
       "      <td>пенсионер</td>\n",
       "      <td>0</td>\n",
       "      <td>158616</td>\n",
       "      <td>сыграть свадьбу</td>\n",
       "    </tr>\n",
       "  </tbody>\n",
       "</table>\n",
       "</div>"
      ],
      "text/plain": [
       "   children  days_employed  dob_years education  education_id  \\\n",
       "0         1          -8437         42    высшее             0   \n",
       "1         1          -4024         36   среднее             1   \n",
       "2         0          -5623         33   Среднее             1   \n",
       "3         3          -4124         32   среднее             1   \n",
       "4         0         340266         53   среднее             1   \n",
       "\n",
       "      family_status  family_status_id gender income_type  debt  total_income  \\\n",
       "0   женат / замужем                 0      F   сотрудник     0        253875   \n",
       "1   женат / замужем                 0      F   сотрудник     0        112080   \n",
       "2   женат / замужем                 0      M   сотрудник     0        145885   \n",
       "3   женат / замужем                 0      M   сотрудник     0        267628   \n",
       "4  гражданский брак                 1      F   пенсионер     0        158616   \n",
       "\n",
       "                      purpose  \n",
       "0               покупка жилья  \n",
       "1     приобретение автомобиля  \n",
       "2               покупка жилья  \n",
       "3  дополнительное образование  \n",
       "4             сыграть свадьбу  "
      ]
     },
     "execution_count": 13,
     "metadata": {},
     "output_type": "execute_result"
    }
   ],
   "source": [
    "data.head() #еще одна проверка"
   ]
  },
  {
   "cell_type": "markdown",
   "metadata": {},
   "source": [
    "**Вывод**"
   ]
  },
  {
   "cell_type": "markdown",
   "metadata": {},
   "source": [
    "- заменен вещественный тип данных на целочисленный (столбцы 'days_employed' и 'total_income')\n",
    "- есть пояснение, какой метод используется для изменения типа данных и почему"
   ]
  },
  {
   "cell_type": "markdown",
   "metadata": {},
   "source": [
    "### Обработка дубликатов"
   ]
  },
  {
   "cell_type": "markdown",
   "metadata": {},
   "source": [
    "**При беглом анализе таблицы уже заметно наличие дубликатов в столбце 'education', отобразить их можно методом unique() или value_counts().**"
   ]
  },
  {
   "cell_type": "code",
   "execution_count": 14,
   "metadata": {
    "scrolled": true
   },
   "outputs": [
    {
     "data": {
      "text/plain": [
       "array(['высшее', 'среднее', 'Среднее', 'СРЕДНЕЕ', 'ВЫСШЕЕ',\n",
       "       'неоконченное высшее', 'начальное', 'Высшее',\n",
       "       'НЕОКОНЧЕННОЕ ВЫСШЕЕ', 'Неоконченное высшее', 'НАЧАЛЬНОЕ',\n",
       "       'Начальное', 'Ученая степень', 'УЧЕНАЯ СТЕПЕНЬ', 'ученая степень'],\n",
       "      dtype=object)"
      ]
     },
     "execution_count": 14,
     "metadata": {},
     "output_type": "execute_result"
    }
   ],
   "source": [
    "data['education'].unique()"
   ]
  },
  {
   "cell_type": "code",
   "execution_count": 15,
   "metadata": {},
   "outputs": [
    {
     "data": {
      "text/plain": [
       "среднее                13750\n",
       "высшее                  4718\n",
       "СРЕДНЕЕ                  772\n",
       "Среднее                  711\n",
       "неоконченное высшее      668\n",
       "ВЫСШЕЕ                   274\n",
       "Высшее                   268\n",
       "начальное                250\n",
       "Неоконченное высшее       47\n",
       "НЕОКОНЧЕННОЕ ВЫСШЕЕ       29\n",
       "НАЧАЛЬНОЕ                 17\n",
       "Начальное                 15\n",
       "ученая степень             4\n",
       "Ученая степень             1\n",
       "УЧЕНАЯ СТЕПЕНЬ             1\n",
       "Name: education, dtype: int64"
      ]
     },
     "execution_count": 15,
     "metadata": {},
     "output_type": "execute_result"
    }
   ],
   "source": [
    "data['education'].value_counts()"
   ]
  },
  {
   "cell_type": "markdown",
   "metadata": {},
   "source": [
    "**Дубликаты можем устранить приведением всех строк в столбце к единому регистру. Используем str.lower().**"
   ]
  },
  {
   "cell_type": "code",
   "execution_count": 16,
   "metadata": {},
   "outputs": [
    {
     "data": {
      "text/plain": [
       "среднее                15233\n",
       "высшее                  5260\n",
       "неоконченное высшее      744\n",
       "начальное                282\n",
       "ученая степень             6\n",
       "Name: education, dtype: int64"
      ]
     },
     "execution_count": 16,
     "metadata": {},
     "output_type": "execute_result"
    }
   ],
   "source": [
    "data['education'] = data['education'].str.lower()\n",
    "data['education'].value_counts()"
   ]
  },
  {
   "cell_type": "markdown",
   "metadata": {},
   "source": [
    "**Проверим наличие дубликатов в столбцах, необходимых для предоставления ответов в дальнейшем. Это столбцы 'family_status', 'income_type', 'purpose'**"
   ]
  },
  {
   "cell_type": "code",
   "execution_count": 17,
   "metadata": {
    "scrolled": true
   },
   "outputs": [
    {
     "data": {
      "text/plain": [
       "71"
      ]
     },
     "execution_count": 17,
     "metadata": {},
     "output_type": "execute_result"
    }
   ],
   "source": [
    "data.duplicated().sum()"
   ]
  },
  {
   "cell_type": "code",
   "execution_count": 18,
   "metadata": {},
   "outputs": [
    {
     "data": {
      "text/plain": [
       "0"
      ]
     },
     "execution_count": 18,
     "metadata": {},
     "output_type": "execute_result"
    }
   ],
   "source": [
    "data = data.drop_duplicates().reset_index(drop=True) \n",
    "data.duplicated().sum() #проверка"
   ]
  },
  {
   "cell_type": "markdown",
   "metadata": {},
   "source": [
    "**Вывод**\n",
    "\n",
    "- удалены дубликаты;\n",
    "- есть пояснение, какой метод используется для поиска и удаления дубликатов (комбинирование value_counts() и str.lower());\n",
    "- описаны возможные причины появления дубликатов в данных (использование разных регистров при вводе значения);"
   ]
  },
  {
   "cell_type": "markdown",
   "metadata": {},
   "source": [
    "### Лемматизация"
   ]
  },
  {
   "cell_type": "markdown",
   "metadata": {},
   "source": [
    "**В предыдущем пункте мы обнаружили скрытые дубликаты в столбце целей кредита. Повторно выведем список методом unique(). Напишем функцию которая возвращает значения, соответвующие лемме. Добавим столбец 'purpose_def' с указанем общей категории.**"
   ]
  },
  {
   "cell_type": "code",
   "execution_count": 19,
   "metadata": {},
   "outputs": [],
   "source": [
    "from pymystem3 import Mystem\n",
    "m = Mystem()\n",
    "joint_data_purpose = ' '.join(data['purpose'])\n",
    "lemmas = m.lemmatize(joint_data_purpose)"
   ]
  },
  {
   "cell_type": "code",
   "execution_count": 20,
   "metadata": {},
   "outputs": [
    {
     "data": {
      "text/plain": [
       "Counter({'покупка': 5897,\n",
       "         ' ': 55023,\n",
       "         'жилье': 4460,\n",
       "         'приобретение': 461,\n",
       "         'автомобиль': 4306,\n",
       "         'дополнительный': 906,\n",
       "         'образование': 4013,\n",
       "         'сыграть': 765,\n",
       "         'свадьба': 2324,\n",
       "         'операция': 2604,\n",
       "         'с': 2918,\n",
       "         'на': 2222,\n",
       "         'проведение': 768,\n",
       "         'для': 1289,\n",
       "         'семья': 638,\n",
       "         'недвижимость': 6351,\n",
       "         'коммерческий': 1311,\n",
       "         'жилой': 1230,\n",
       "         'строительство': 1878,\n",
       "         'собственный': 635,\n",
       "         'подержать': 853,\n",
       "         'свой': 2230,\n",
       "         'со': 627,\n",
       "         'заниматься': 904,\n",
       "         'сделка': 941,\n",
       "         'получение': 1314,\n",
       "         'высокий': 1374,\n",
       "         'подержанный': 111,\n",
       "         'профильный': 436,\n",
       "         'сдача': 651,\n",
       "         'ремонт': 607,\n",
       "         '\\n': 1})"
      ]
     },
     "execution_count": 20,
     "metadata": {},
     "output_type": "execute_result"
    }
   ],
   "source": [
    "from collections import Counter\n",
    "Counter(lemmas)"
   ]
  },
  {
   "cell_type": "code",
   "execution_count": null,
   "metadata": {},
   "outputs": [
    {
     "name": "stdout",
     "output_type": "stream",
     "text": [
      "['покупка жилья' 'приобретение автомобиля' 'дополнительное образование'\n",
      " 'сыграть свадьбу' 'операции с жильем' 'образование'\n",
      " 'на проведение свадьбы' 'покупка жилья для семьи' 'покупка недвижимости'\n",
      " 'покупка коммерческой недвижимости' 'покупка жилой недвижимости'\n",
      " 'строительство собственной недвижимости' 'недвижимость'\n",
      " 'строительство недвижимости' 'на покупку подержанного автомобиля'\n",
      " 'на покупку своего автомобиля' 'операции с коммерческой недвижимостью'\n",
      " 'строительство жилой недвижимости' 'жилье'\n",
      " 'операции со своей недвижимостью' 'автомобили' 'заняться образованием'\n",
      " 'сделка с подержанным автомобилем' 'получение образования' 'автомобиль'\n",
      " 'свадьба' 'получение дополнительного образования' 'покупка своего жилья'\n",
      " 'операции с недвижимостью' 'получение высшего образования'\n",
      " 'свой автомобиль' 'сделка с автомобилем' 'профильное образование'\n",
      " 'высшее образование' 'покупка жилья для сдачи' 'на покупку автомобиля'\n",
      " 'ремонт жилью' 'заняться высшим образованием']\n"
     ]
    }
   ],
   "source": [
    "purpose_list = data['purpose'].unique()\n",
    "print(purpose_list)\n",
    "#Делаем список\n",
    "def purpose_change(purpose):\n",
    "    lemma = m.lemmatize(purpose)\n",
    "    if 'автомобиль' in lemma:\n",
    "        return 'автомобиль'    \n",
    "    #elif 'ремонт' in lemma:\n",
    "        #return 'ремонт'       \n",
    "    #elif 'строительство' in lemma:\n",
    "        #return 'строительство'\n",
    "    elif 'образование' in lemma:\n",
    "        return 'образование'\n",
    "    elif 'свадьба' in lemma:\n",
    "        return 'свадьба'\n",
    "    elif ('жилье' in lemma) | ('недвиж' in lemma) | ('ремонт' in lemma) | ('строительство' in lemma):\n",
    "        return 'недвижимость и строительство'\n",
    "    else:\n",
    "        return 'другое'\n",
    "\n",
    "    \n",
    "data['purpose_def']= data['purpose'].apply(purpose_change) \n",
    "\n",
    "#проверяем\n",
    "display(data.head(10))\n"
   ]
  },
  {
   "cell_type": "markdown",
   "metadata": {},
   "source": [
    "**Вывод**"
   ]
  },
  {
   "cell_type": "markdown",
   "metadata": {},
   "source": [
    "**Основные цели получения кредита можно сгруппировать в группы:**\n",
    "- автомобиль\n",
    "- ремонт\n",
    "- строительство\n",
    "- образование\n",
    "- свадьба\n",
    "- жилье\n",
    "- другое"
   ]
  },
  {
   "cell_type": "markdown",
   "metadata": {},
   "source": [
    "### Категоризация данных"
   ]
  },
  {
   "cell_type": "markdown",
   "metadata": {},
   "source": [
    "**Для ответа на последующие вопросы, проведена категоризация столбцов 'children' и 'total_income'. Для этого написана функция, которая возвращает наименование категории.**"
   ]
  },
  {
   "cell_type": "code",
   "execution_count": null,
   "metadata": {},
   "outputs": [],
   "source": [
    "def get_children(qty):\n",
    "    if qty == 0:\n",
    "        return 'нет детей'\n",
    "    return 'есть дети'\n",
    "\n",
    "data['children_status'] = data['children'].apply(get_children)\n",
    "data"
   ]
  },
  {
   "cell_type": "code",
   "execution_count": null,
   "metadata": {},
   "outputs": [],
   "source": [
    "data['total_income'].max()"
   ]
  },
  {
   "cell_type": "code",
   "execution_count": null,
   "metadata": {},
   "outputs": [],
   "source": [
    "data['total_income'].median()"
   ]
  },
  {
   "cell_type": "code",
   "execution_count": null,
   "metadata": {},
   "outputs": [],
   "source": [
    "def get_income(qty):\n",
    "    if qty <= 100000:\n",
    "        return 'низкий уровень дохода'\n",
    "    if qty <= 200000:\n",
    "        return 'средний уровень дохода'\n",
    "    return 'высокий уровень дохода'\n",
    "\n",
    "data['income_level'] = data['total_income'].apply(get_income)\n",
    "data"
   ]
  },
  {
   "cell_type": "markdown",
   "metadata": {},
   "source": [
    "**Вывод**"
   ]
  },
  {
   "cell_type": "markdown",
   "metadata": {},
   "source": [
    "**Добавлены категории есть дети/нет детей, а также уровень дохода разбит на три категории: высокий, средний, низкий.**"
   ]
  },
  {
   "cell_type": "markdown",
   "metadata": {},
   "source": [
    "## Шаг 3. Ответьте на вопросы"
   ]
  },
  {
   "cell_type": "markdown",
   "metadata": {},
   "source": [
    "- Есть ли зависимость между наличием детей и возвратом кредита в срок?"
   ]
  },
  {
   "cell_type": "code",
   "execution_count": null,
   "metadata": {},
   "outputs": [],
   "source": [
    "#проверяем значения в столбце 'children'\n",
    "data['children'].value_counts()"
   ]
  },
  {
   "cell_type": "markdown",
   "metadata": {},
   "source": [
    "**76 человек с количеством детей 20 похоже на ошибку, так как происхождение ошибки не понятно, заменю на среднее значение количества детей\n",
    "количество детей -1 похоже на опечатку, заменяем на 1**"
   ]
  },
  {
   "cell_type": "code",
   "execution_count": null,
   "metadata": {},
   "outputs": [],
   "source": [
    "data.loc[data['children'] == -1, 'children'] = 1\n",
    "data.loc[data['children'] == 20, 'children'] = 1\n",
    "#children_mean = data['children'].mean()\n",
    "data['children'].value_counts() #проверяю, что замена произошла успешно\n"
   ]
  },
  {
   "cell_type": "markdown",
   "metadata": {},
   "source": [
    "**Произведено две группировки:**\n",
    "1. по принципу наличия/отсутствия детей\n",
    "2. по количеству детей"
   ]
  },
  {
   "cell_type": "code",
   "execution_count": null,
   "metadata": {},
   "outputs": [],
   "source": [
    "children_grouped2 = data.groupby(['children_status', 'debt']).agg({'debt':'count'})\n",
    "children_grouped2['rate'] = (children_grouped2['debt']/\n",
    "                                   (children_grouped2.groupby('children_status')['debt'].transform('sum')))\n",
    "children_grouped2['rate'] = children_grouped2['rate'].apply(lambda x: format(x, '.2%'))\n",
    "children_grouped2"
   ]
  },
  {
   "cell_type": "markdown",
   "metadata": {},
   "source": [
    "**Процент возврата кредита в группе 'нет детей' выше. Можно сделать вывод, что отсутствие детей увеличивает вероятность возврата кредита в срок.**"
   ]
  },
  {
   "cell_type": "markdown",
   "metadata": {},
   "source": [
    "**Анализ влияния количества детей (не только их наличия), на вероятность возврата кредита в срок:**"
   ]
  },
  {
   "cell_type": "code",
   "execution_count": null,
   "metadata": {},
   "outputs": [],
   "source": [
    "children_grouped = data.groupby(['children', 'debt',]).agg({'debt':'count'})\n",
    "children_grouped['rate'] = (children_grouped['debt']/\n",
    "                                   (children_grouped.groupby('children')['debt'].transform('sum'))).apply(lambda x: format(x, '.2%'))\n",
    "children_grouped"
   ]
  },
  {
   "cell_type": "markdown",
   "metadata": {},
   "source": [
    "**- Процент возврата в группах людей с одим ребенком и с двумя почти одинаковый. Можно сделать вывод, что само количество (один или два ребенка) не влияет на вероятность возрата кредита в срок.**"
   ]
  },
  {
   "cell_type": "markdown",
   "metadata": {},
   "source": [
    "**- Данных по количеству детей 3, 4 и 5 мало для проведения аналогичной аналитики.**"
   ]
  },
  {
   "cell_type": "markdown",
   "metadata": {},
   "source": [
    "**Вывод**"
   ]
  },
  {
   "cell_type": "markdown",
   "metadata": {},
   "source": [
    "**Отсутствие детей увеличивает вероятность возврата кредита в срок**"
   ]
  },
  {
   "cell_type": "markdown",
   "metadata": {},
   "source": [
    "- Есть ли зависимость между семейным положением и возвратом кредита в срок?"
   ]
  },
  {
   "cell_type": "code",
   "execution_count": null,
   "metadata": {},
   "outputs": [],
   "source": [
    "family_grouped = data.groupby(['family_status_id', 'debt', 'family_status']).agg({'debt':'count'})\n",
    "family_grouped['rate'] = (family_grouped['debt']/\n",
    "                                   (family_grouped.groupby('family_status_id')['debt'].transform('sum'))).apply(lambda x: format(x, '.2%'))\n",
    "family_grouped\n"
   ]
  },
  {
   "cell_type": "markdown",
   "metadata": {},
   "source": [
    "**Вывод**"
   ]
  },
  {
   "cell_type": "markdown",
   "metadata": {},
   "source": [
    "**Наибольший процент возврата кредита в срок наблюдается в группе вдовец / вдова, в разводе, женат / замужем. По предоставленным данным можно сделать вывод, что наиболее внушающими доверие для банков должны быть вдовы и вдовцы, и наименее - одинокие люди, не состоявшие в официальном браке. Рейтинг выглядит следующим образом:**"
   ]
  },
  {
   "cell_type": "code",
   "execution_count": null,
   "metadata": {
    "scrolled": true
   },
   "outputs": [],
   "source": [
    "family_grouped.sort_values(by='rate', ascending=False)"
   ]
  },
  {
   "cell_type": "markdown",
   "metadata": {},
   "source": [
    "- Есть ли зависимость между уровнем дохода и возвратом кредита в срок?"
   ]
  },
  {
   "cell_type": "code",
   "execution_count": null,
   "metadata": {},
   "outputs": [],
   "source": [
    "income_level = data.groupby(['income_level', 'debt']).agg({'debt':'count'})\n",
    "income_level['rate'] = (income_level['debt']/\n",
    "                                   (income_level.groupby('income_level')['debt'].transform('sum'))).apply(lambda x: format(x, '.2%'))\n",
    "income_level.sort_values(by='rate', ascending=False)\n"
   ]
  },
  {
   "cell_type": "markdown",
   "metadata": {},
   "source": [
    "**Вывод**"
   ]
  },
  {
   "cell_type": "markdown",
   "metadata": {},
   "source": [
    "**Возврат кредита в срок менее вероятен у людей в категории \"средний уровень дохода\" (от 100 до 200)**"
   ]
  },
  {
   "cell_type": "markdown",
   "metadata": {},
   "source": [
    "- Как разные цели кредита влияют на его возврат в срок?"
   ]
  },
  {
   "cell_type": "code",
   "execution_count": null,
   "metadata": {},
   "outputs": [],
   "source": [
    "purpose_grouped = data.groupby(['purpose_def', 'debt']).agg({'debt':'count'})\n",
    "purpose_grouped['rate'] = (purpose_grouped['debt']/\n",
    "                                   (purpose_grouped.groupby('purpose_def')['debt'].transform('sum'))).apply(lambda x: format(x, '.2%'))\n",
    "purpose_grouped.sort_values(by='rate', ascending=False)"
   ]
  },
  {
   "cell_type": "markdown",
   "metadata": {},
   "source": [
    "**Вывод**"
   ]
  },
  {
   "cell_type": "markdown",
   "metadata": {},
   "source": [
    "**Предпочтительными целями получения кредита для банка должны быть цели, связанные с ремонтом и недвижимостью, наименее предпочтительные - связанные с образованием и авто.**"
   ]
  },
  {
   "cell_type": "markdown",
   "metadata": {},
   "source": [
    "## Шаг 4. Общий вывод"
   ]
  },
  {
   "cell_type": "markdown",
   "metadata": {},
   "source": [
    "**Идеальный кандидат: вдова/вдовец, без детей, с высоким уровенем дохода, затеявший ремонт. Портрет нежелательного: не женат/не замужем, с детьми, средний уровень дохода, заинтересовавшийся образованием либо действиями связанными с автомобилем.**"
   ]
  }
 ],
 "metadata": {
  "ExecuteTimeLog": [
   {
    "duration": 610,
    "start_time": "2021-12-11T16:51:33.189Z"
   },
   {
    "duration": 52,
    "start_time": "2021-12-11T16:51:53.275Z"
   },
   {
    "duration": 85,
    "start_time": "2021-12-11T16:52:22.493Z"
   },
   {
    "duration": 56,
    "start_time": "2021-12-11T16:52:56.269Z"
   },
   {
    "duration": 56,
    "start_time": "2021-12-11T16:58:40.300Z"
   },
   {
    "duration": 54,
    "start_time": "2021-12-11T17:04:16.594Z"
   },
   {
    "duration": 15,
    "start_time": "2021-12-11T17:04:39.811Z"
   },
   {
    "duration": 17,
    "start_time": "2021-12-11T17:08:11.026Z"
   },
   {
    "duration": 16,
    "start_time": "2021-12-11T17:08:32.192Z"
   },
   {
    "duration": 297,
    "start_time": "2021-12-11T17:11:29.450Z"
   },
   {
    "duration": 271,
    "start_time": "2021-12-11T17:11:39.136Z"
   },
   {
    "duration": 9,
    "start_time": "2021-12-11T17:11:43.649Z"
   },
   {
    "duration": 4,
    "start_time": "2021-12-11T17:18:43.977Z"
   },
   {
    "duration": 5,
    "start_time": "2021-12-11T17:18:46.304Z"
   },
   {
    "duration": 8,
    "start_time": "2021-12-11T17:18:54.152Z"
   },
   {
    "duration": 17,
    "start_time": "2021-12-11T17:20:36.833Z"
   },
   {
    "duration": 5,
    "start_time": "2021-12-11T17:21:39.408Z"
   },
   {
    "duration": 16,
    "start_time": "2021-12-11T17:22:03.713Z"
   },
   {
    "duration": 23,
    "start_time": "2021-12-11T17:22:19.801Z"
   },
   {
    "duration": 20,
    "start_time": "2021-12-11T17:22:21.528Z"
   },
   {
    "duration": 20,
    "start_time": "2021-12-11T17:22:25.736Z"
   },
   {
    "duration": 16,
    "start_time": "2021-12-11T17:22:33.064Z"
   },
   {
    "duration": 50,
    "start_time": "2021-12-11T17:26:37.974Z"
   },
   {
    "duration": 17,
    "start_time": "2021-12-11T17:26:40.568Z"
   },
   {
    "duration": 57,
    "start_time": "2021-12-11T17:28:16.495Z"
   },
   {
    "duration": 8,
    "start_time": "2021-12-11T17:40:00.092Z"
   },
   {
    "duration": 11,
    "start_time": "2021-12-11T17:40:12.574Z"
   },
   {
    "duration": 13,
    "start_time": "2021-12-11T17:42:04.716Z"
   },
   {
    "duration": 13,
    "start_time": "2021-12-11T17:42:12.022Z"
   },
   {
    "duration": 12,
    "start_time": "2021-12-11T17:42:20.134Z"
   },
   {
    "duration": 2,
    "start_time": "2021-12-11T17:42:27.134Z"
   },
   {
    "duration": 11,
    "start_time": "2021-12-11T17:42:30.550Z"
   },
   {
    "duration": 18,
    "start_time": "2021-12-11T17:45:07.283Z"
   },
   {
    "duration": 33,
    "start_time": "2021-12-11T17:45:36.334Z"
   },
   {
    "duration": 18,
    "start_time": "2021-12-11T17:45:52.061Z"
   },
   {
    "duration": 7,
    "start_time": "2021-12-11T17:46:41.308Z"
   },
   {
    "duration": 24,
    "start_time": "2021-12-11T17:46:46.894Z"
   },
   {
    "duration": 8,
    "start_time": "2021-12-11T17:46:50.597Z"
   },
   {
    "duration": 8,
    "start_time": "2021-12-11T17:47:31.413Z"
   },
   {
    "duration": 8,
    "start_time": "2021-12-11T17:47:32.356Z"
   },
   {
    "duration": 9,
    "start_time": "2021-12-11T17:47:36.212Z"
   },
   {
    "duration": 64,
    "start_time": "2021-12-11T17:47:50.685Z"
   },
   {
    "duration": 11,
    "start_time": "2021-12-11T17:47:53.124Z"
   },
   {
    "duration": 16,
    "start_time": "2021-12-11T17:48:00.069Z"
   },
   {
    "duration": 7,
    "start_time": "2021-12-11T17:48:02.453Z"
   },
   {
    "duration": 57,
    "start_time": "2021-12-11T17:48:08.586Z"
   },
   {
    "duration": 11,
    "start_time": "2021-12-11T17:48:10.405Z"
   },
   {
    "duration": 15,
    "start_time": "2021-12-11T17:48:12.532Z"
   },
   {
    "duration": 271,
    "start_time": "2021-12-11T18:08:58.168Z"
   },
   {
    "duration": 266,
    "start_time": "2021-12-11T18:09:30.889Z"
   },
   {
    "duration": 226,
    "start_time": "2021-12-11T18:09:36.150Z"
   },
   {
    "duration": 449,
    "start_time": "2021-12-11T18:09:43.715Z"
   },
   {
    "duration": -87,
    "start_time": "2021-12-11T18:09:44.253Z"
   },
   {
    "duration": 264,
    "start_time": "2021-12-11T18:09:56.097Z"
   },
   {
    "duration": 3135,
    "start_time": "2021-12-11T18:10:01.304Z"
   },
   {
    "duration": -120,
    "start_time": "2021-12-11T18:10:04.561Z"
   },
   {
    "duration": 59,
    "start_time": "2021-12-11T18:10:10.813Z"
   },
   {
    "duration": 12,
    "start_time": "2021-12-11T18:10:10.875Z"
   },
   {
    "duration": 18,
    "start_time": "2021-12-11T18:10:10.889Z"
   },
   {
    "duration": 16,
    "start_time": "2021-12-11T18:10:22.392Z"
   },
   {
    "duration": 20,
    "start_time": "2021-12-11T18:11:34.041Z"
   },
   {
    "duration": 10,
    "start_time": "2021-12-11T18:11:45.881Z"
   },
   {
    "duration": 12,
    "start_time": "2021-12-11T18:13:11.473Z"
   },
   {
    "duration": 12,
    "start_time": "2021-12-11T18:13:35.265Z"
   },
   {
    "duration": 10,
    "start_time": "2021-12-11T18:13:42.776Z"
   },
   {
    "duration": 10,
    "start_time": "2021-12-11T18:13:46.855Z"
   },
   {
    "duration": 56,
    "start_time": "2021-12-11T18:13:56.118Z"
   },
   {
    "duration": 13,
    "start_time": "2021-12-11T18:13:56.176Z"
   },
   {
    "duration": 19,
    "start_time": "2021-12-11T18:13:56.191Z"
   },
   {
    "duration": 10,
    "start_time": "2021-12-11T18:13:56.211Z"
   },
   {
    "duration": 10,
    "start_time": "2021-12-11T18:14:30.881Z"
   },
   {
    "duration": -102,
    "start_time": "2021-12-11T18:15:44.606Z"
   },
   {
    "duration": 7835,
    "start_time": "2021-12-11T18:15:52.655Z"
   },
   {
    "duration": 6241,
    "start_time": "2021-12-11T18:16:08.113Z"
   },
   {
    "duration": 5,
    "start_time": "2021-12-11T18:16:29.992Z"
   },
   {
    "duration": 14,
    "start_time": "2021-12-11T18:18:39.288Z"
   },
   {
    "duration": 14,
    "start_time": "2021-12-11T18:18:47.856Z"
   },
   {
    "duration": 4,
    "start_time": "2021-12-11T18:19:06.272Z"
   },
   {
    "duration": 6,
    "start_time": "2021-12-11T18:19:50.288Z"
   },
   {
    "duration": 266,
    "start_time": "2021-12-11T18:23:27.789Z"
   },
   {
    "duration": 16,
    "start_time": "2021-12-11T18:24:39.863Z"
   },
   {
    "duration": 7,
    "start_time": "2021-12-11T18:25:27.271Z"
   },
   {
    "duration": 7,
    "start_time": "2021-12-11T18:25:53.911Z"
   },
   {
    "duration": 7,
    "start_time": "2021-12-11T18:26:20.144Z"
   },
   {
    "duration": 37,
    "start_time": "2021-12-11T20:04:41.127Z"
   },
   {
    "duration": 2,
    "start_time": "2021-12-11T20:05:00.440Z"
   },
   {
    "duration": 229,
    "start_time": "2021-12-11T20:07:54.190Z"
   },
   {
    "duration": 105,
    "start_time": "2021-12-11T20:12:05.030Z"
   },
   {
    "duration": 15,
    "start_time": "2021-12-11T20:12:10.560Z"
   },
   {
    "duration": 15,
    "start_time": "2021-12-11T20:12:28.046Z"
   },
   {
    "duration": 236,
    "start_time": "2021-12-11T20:26:56.685Z"
   },
   {
    "duration": 8200,
    "start_time": "2021-12-11T20:27:36.490Z"
   },
   {
    "duration": 7972,
    "start_time": "2021-12-11T20:27:57.408Z"
   },
   {
    "duration": 7,
    "start_time": "2021-12-12T16:15:06.019Z"
   },
   {
    "duration": 7,
    "start_time": "2021-12-12T16:15:07.212Z"
   },
   {
    "duration": 7,
    "start_time": "2021-12-12T16:15:10.699Z"
   },
   {
    "duration": 622,
    "start_time": "2021-12-12T16:15:37.738Z"
   },
   {
    "duration": 307,
    "start_time": "2021-12-12T16:16:58.307Z"
   },
   {
    "duration": 279,
    "start_time": "2021-12-12T16:17:09.906Z"
   },
   {
    "duration": 873,
    "start_time": "2021-12-12T16:17:15.681Z"
   },
   {
    "duration": 31,
    "start_time": "2021-12-12T16:17:16.556Z"
   },
   {
    "duration": 27,
    "start_time": "2021-12-12T16:17:16.590Z"
   },
   {
    "duration": 20,
    "start_time": "2021-12-12T16:17:16.619Z"
   },
   {
    "duration": 17,
    "start_time": "2021-12-12T16:17:16.668Z"
   },
   {
    "duration": 9,
    "start_time": "2021-12-12T16:17:16.688Z"
   },
   {
    "duration": 11,
    "start_time": "2021-12-12T16:17:16.699Z"
   },
   {
    "duration": 73,
    "start_time": "2021-12-12T16:17:16.714Z"
   },
   {
    "duration": 11,
    "start_time": "2021-12-12T16:17:16.790Z"
   },
   {
    "duration": 13,
    "start_time": "2021-12-12T16:17:16.804Z"
   },
   {
    "duration": 12,
    "start_time": "2021-12-12T16:17:16.819Z"
   },
   {
    "duration": 10,
    "start_time": "2021-12-12T16:17:16.868Z"
   },
   {
    "duration": 8,
    "start_time": "2021-12-12T16:17:16.880Z"
   },
   {
    "duration": 8,
    "start_time": "2021-12-12T16:17:31.266Z"
   },
   {
    "duration": 940,
    "start_time": "2021-12-12T16:18:36.671Z"
   },
   {
    "duration": 7,
    "start_time": "2021-12-12T16:18:39.892Z"
   },
   {
    "duration": 10,
    "start_time": "2021-12-12T16:18:49.042Z"
   },
   {
    "duration": 446,
    "start_time": "2021-12-12T16:19:03.979Z"
   },
   {
    "duration": 26,
    "start_time": "2021-12-12T16:21:45.330Z"
   },
   {
    "duration": 8545,
    "start_time": "2021-12-12T16:25:18.687Z"
   },
   {
    "duration": 6818,
    "start_time": "2021-12-12T16:28:54.800Z"
   },
   {
    "duration": 12,
    "start_time": "2021-12-12T16:30:25.392Z"
   },
   {
    "duration": 13,
    "start_time": "2021-12-12T16:30:29.122Z"
   },
   {
    "duration": 371,
    "start_time": "2021-12-12T16:30:37.752Z"
   },
   {
    "duration": 293,
    "start_time": "2021-12-12T16:31:01.113Z"
   },
   {
    "duration": 24,
    "start_time": "2021-12-12T16:31:10.593Z"
   },
   {
    "duration": 267,
    "start_time": "2021-12-12T16:32:53.703Z"
   },
   {
    "duration": 270,
    "start_time": "2021-12-12T16:33:32.352Z"
   },
   {
    "duration": 114,
    "start_time": "2021-12-12T16:35:00.728Z"
   },
   {
    "duration": 259,
    "start_time": "2021-12-12T16:35:16.856Z"
   },
   {
    "duration": 537,
    "start_time": "2021-12-12T16:37:56.368Z"
   },
   {
    "duration": 271,
    "start_time": "2021-12-12T16:38:05.686Z"
   },
   {
    "duration": 6,
    "start_time": "2021-12-12T16:39:20.512Z"
   },
   {
    "duration": 256,
    "start_time": "2021-12-12T16:39:33.622Z"
   },
   {
    "duration": 280,
    "start_time": "2021-12-12T16:46:24.241Z"
   },
   {
    "duration": 4879,
    "start_time": "2021-12-12T16:47:00.846Z"
   },
   {
    "duration": 4524,
    "start_time": "2021-12-12T16:47:26.629Z"
   },
   {
    "duration": 4152,
    "start_time": "2021-12-12T16:51:16.636Z"
   },
   {
    "duration": 4371,
    "start_time": "2021-12-12T16:51:36.685Z"
   },
   {
    "duration": 4623,
    "start_time": "2021-12-12T16:54:23.644Z"
   },
   {
    "duration": 4050,
    "start_time": "2021-12-12T16:54:58.500Z"
   },
   {
    "duration": 3939,
    "start_time": "2021-12-12T17:27:19.255Z"
   },
   {
    "duration": 536,
    "start_time": "2021-12-14T17:12:21.464Z"
   },
   {
    "duration": 905,
    "start_time": "2021-12-14T17:12:35.360Z"
   },
   {
    "duration": 32,
    "start_time": "2021-12-14T17:12:36.268Z"
   },
   {
    "duration": 30,
    "start_time": "2021-12-14T17:12:36.303Z"
   },
   {
    "duration": 19,
    "start_time": "2021-12-14T17:12:36.368Z"
   },
   {
    "duration": 17,
    "start_time": "2021-12-14T17:12:36.389Z"
   },
   {
    "duration": 11,
    "start_time": "2021-12-14T17:12:36.409Z"
   },
   {
    "duration": 52,
    "start_time": "2021-12-14T17:12:36.422Z"
   },
   {
    "duration": 26,
    "start_time": "2021-12-14T17:12:36.479Z"
   },
   {
    "duration": 57,
    "start_time": "2021-12-14T17:12:36.509Z"
   },
   {
    "duration": 12,
    "start_time": "2021-12-14T17:12:36.569Z"
   },
   {
    "duration": 14,
    "start_time": "2021-12-14T17:12:36.584Z"
   },
   {
    "duration": 20,
    "start_time": "2021-12-14T17:12:36.600Z"
   },
   {
    "duration": 4658,
    "start_time": "2021-12-14T17:12:36.622Z"
   },
   {
    "duration": 30,
    "start_time": "2021-12-14T17:12:41.283Z"
   },
   {
    "duration": 12,
    "start_time": "2021-12-14T17:15:07.019Z"
   },
   {
    "duration": 24,
    "start_time": "2021-12-14T17:15:16.099Z"
   },
   {
    "duration": 25,
    "start_time": "2021-12-14T17:15:24.907Z"
   },
   {
    "duration": 26,
    "start_time": "2021-12-14T17:15:32.954Z"
   },
   {
    "duration": 11,
    "start_time": "2021-12-14T17:19:10.858Z"
   },
   {
    "duration": 13,
    "start_time": "2021-12-14T17:19:16.699Z"
   },
   {
    "duration": 22,
    "start_time": "2021-12-14T17:19:32.530Z"
   },
   {
    "duration": 23,
    "start_time": "2021-12-14T17:19:38.642Z"
   },
   {
    "duration": 8,
    "start_time": "2021-12-14T17:19:44.945Z"
   },
   {
    "duration": 322,
    "start_time": "2021-12-14T17:20:28.619Z"
   },
   {
    "duration": 10,
    "start_time": "2021-12-14T17:21:27.171Z"
   },
   {
    "duration": 271,
    "start_time": "2021-12-14T17:21:38.025Z"
   },
   {
    "duration": 13,
    "start_time": "2021-12-14T17:21:47.476Z"
   },
   {
    "duration": 9,
    "start_time": "2021-12-14T17:22:59.547Z"
   },
   {
    "duration": 13,
    "start_time": "2021-12-14T17:23:03.762Z"
   },
   {
    "duration": 320,
    "start_time": "2021-12-14T17:24:02.106Z"
   },
   {
    "duration": 7766,
    "start_time": "2021-12-14T17:24:14.081Z"
   },
   {
    "duration": 964,
    "start_time": "2021-12-14T17:24:23.994Z"
   },
   {
    "duration": 6,
    "start_time": "2021-12-14T17:24:41.146Z"
   },
   {
    "duration": -137,
    "start_time": "2021-12-14T17:25:55.849Z"
   },
   {
    "duration": 7341,
    "start_time": "2021-12-14T17:26:01.801Z"
   },
   {
    "duration": 6568,
    "start_time": "2021-12-14T17:26:11.225Z"
   },
   {
    "duration": 6744,
    "start_time": "2021-12-14T17:31:16.792Z"
   },
   {
    "duration": 6792,
    "start_time": "2021-12-14T17:31:53.345Z"
   },
   {
    "duration": 7,
    "start_time": "2021-12-14T17:36:12.477Z"
   },
   {
    "duration": 687,
    "start_time": "2021-12-14T17:36:19.229Z"
   },
   {
    "duration": 623,
    "start_time": "2021-12-14T17:36:24.627Z"
   },
   {
    "duration": 6,
    "start_time": "2021-12-14T17:36:31.871Z"
   },
   {
    "duration": 7,
    "start_time": "2021-12-14T17:36:51.286Z"
   },
   {
    "duration": -112,
    "start_time": "2021-12-14T17:38:07.801Z"
   },
   {
    "duration": 6752,
    "start_time": "2021-12-14T17:38:09.639Z"
   },
   {
    "duration": 8,
    "start_time": "2021-12-14T17:38:49.087Z"
   },
   {
    "duration": 5,
    "start_time": "2021-12-14T17:43:41.966Z"
   },
   {
    "duration": 6,
    "start_time": "2021-12-14T17:43:48.974Z"
   },
   {
    "duration": 6,
    "start_time": "2021-12-14T17:43:52.942Z"
   },
   {
    "duration": 6,
    "start_time": "2021-12-14T17:44:32.269Z"
   },
   {
    "duration": -81,
    "start_time": "2021-12-14T17:44:43.550Z"
   },
   {
    "duration": 87,
    "start_time": "2021-12-14T17:44:46.117Z"
   },
   {
    "duration": 20,
    "start_time": "2021-12-14T17:44:46.207Z"
   },
   {
    "duration": 54,
    "start_time": "2021-12-14T17:44:46.230Z"
   },
   {
    "duration": 18,
    "start_time": "2021-12-14T17:44:46.287Z"
   },
   {
    "duration": 17,
    "start_time": "2021-12-14T17:44:46.308Z"
   },
   {
    "duration": 42,
    "start_time": "2021-12-14T17:44:46.327Z"
   },
   {
    "duration": 14,
    "start_time": "2021-12-14T17:44:46.371Z"
   },
   {
    "duration": 30,
    "start_time": "2021-12-14T17:44:46.389Z"
   },
   {
    "duration": 51,
    "start_time": "2021-12-14T17:44:46.422Z"
   },
   {
    "duration": 14,
    "start_time": "2021-12-14T17:44:46.476Z"
   },
   {
    "duration": 15,
    "start_time": "2021-12-14T17:44:46.494Z"
   },
   {
    "duration": 71,
    "start_time": "2021-12-14T17:44:46.513Z"
   },
   {
    "duration": 4756,
    "start_time": "2021-12-14T17:44:46.587Z"
   },
   {
    "duration": 24,
    "start_time": "2021-12-14T17:44:51.393Z"
   },
   {
    "duration": 12,
    "start_time": "2021-12-14T17:44:56.046Z"
   },
   {
    "duration": 7,
    "start_time": "2021-12-14T17:45:04.069Z"
   },
   {
    "duration": 4284,
    "start_time": "2021-12-14T17:45:25.414Z"
   },
   {
    "duration": 332,
    "start_time": "2021-12-14T17:45:42.990Z"
   },
   {
    "duration": 258,
    "start_time": "2021-12-14T17:45:49.550Z"
   },
   {
    "duration": 3883,
    "start_time": "2021-12-14T17:46:01.341Z"
   },
   {
    "duration": 90,
    "start_time": "2021-12-14T17:46:12.602Z"
   },
   {
    "duration": 23,
    "start_time": "2021-12-14T17:46:12.696Z"
   },
   {
    "duration": 74,
    "start_time": "2021-12-14T17:46:12.724Z"
   },
   {
    "duration": 28,
    "start_time": "2021-12-14T17:46:12.801Z"
   },
   {
    "duration": 41,
    "start_time": "2021-12-14T17:46:12.832Z"
   },
   {
    "duration": 11,
    "start_time": "2021-12-14T17:46:12.876Z"
   },
   {
    "duration": 22,
    "start_time": "2021-12-14T17:46:12.890Z"
   },
   {
    "duration": 63,
    "start_time": "2021-12-14T17:46:12.916Z"
   },
   {
    "duration": 11,
    "start_time": "2021-12-14T17:46:12.982Z"
   },
   {
    "duration": 24,
    "start_time": "2021-12-14T17:46:12.997Z"
   },
   {
    "duration": 50,
    "start_time": "2021-12-14T17:46:13.024Z"
   },
   {
    "duration": 37,
    "start_time": "2021-12-14T17:46:13.078Z"
   },
   {
    "duration": 5062,
    "start_time": "2021-12-14T17:46:13.118Z"
   },
   {
    "duration": 27,
    "start_time": "2021-12-14T17:46:18.183Z"
   },
   {
    "duration": 9,
    "start_time": "2021-12-14T17:46:26.206Z"
   },
   {
    "duration": 7,
    "start_time": "2021-12-14T17:46:58.475Z"
   },
   {
    "duration": 16,
    "start_time": "2021-12-14T17:47:26.069Z"
   },
   {
    "duration": 6,
    "start_time": "2021-12-14T17:47:57.907Z"
   },
   {
    "duration": 12,
    "start_time": "2021-12-14T17:48:12.351Z"
   },
   {
    "duration": 8,
    "start_time": "2021-12-14T17:50:27.973Z"
   },
   {
    "duration": -82,
    "start_time": "2021-12-14T17:51:11.319Z"
   },
   {
    "duration": -81,
    "start_time": "2021-12-14T17:51:30.205Z"
   },
   {
    "duration": 7749,
    "start_time": "2021-12-14T17:54:42.868Z"
   },
   {
    "duration": 6,
    "start_time": "2021-12-14T17:55:06.963Z"
   },
   {
    "duration": 7,
    "start_time": "2021-12-14T17:55:24.899Z"
   },
   {
    "duration": 8,
    "start_time": "2021-12-14T17:55:28.692Z"
   },
   {
    "duration": 6620,
    "start_time": "2021-12-14T17:56:07.660Z"
   },
   {
    "duration": 7513,
    "start_time": "2021-12-14T17:56:18.531Z"
   },
   {
    "duration": 9,
    "start_time": "2021-12-14T18:02:16.537Z"
   },
   {
    "duration": 9,
    "start_time": "2021-12-14T18:02:36.171Z"
   },
   {
    "duration": 285,
    "start_time": "2021-12-14T18:04:06.490Z"
   },
   {
    "duration": 268,
    "start_time": "2021-12-14T18:04:37.281Z"
   },
   {
    "duration": 6,
    "start_time": "2021-12-14T18:04:46.369Z"
   },
   {
    "duration": 42,
    "start_time": "2021-12-14T18:05:00.074Z"
   },
   {
    "duration": 6537,
    "start_time": "2021-12-14T18:07:16.281Z"
   },
   {
    "duration": 9144,
    "start_time": "2021-12-14T18:07:25.625Z"
   },
   {
    "duration": 15,
    "start_time": "2021-12-14T18:17:54.830Z"
   },
   {
    "duration": 270,
    "start_time": "2021-12-14T18:19:42.102Z"
   },
   {
    "duration": 9,
    "start_time": "2021-12-14T18:19:55.912Z"
   },
   {
    "duration": 270,
    "start_time": "2021-12-14T18:41:18.300Z"
   },
   {
    "duration": 26,
    "start_time": "2021-12-14T18:41:25.381Z"
   },
   {
    "duration": 29,
    "start_time": "2021-12-14T18:41:35.717Z"
   },
   {
    "duration": 87,
    "start_time": "2021-12-14T18:41:41.463Z"
   },
   {
    "duration": 33,
    "start_time": "2021-12-14T18:41:41.552Z"
   },
   {
    "duration": 50,
    "start_time": "2021-12-14T18:41:41.588Z"
   },
   {
    "duration": 35,
    "start_time": "2021-12-14T18:41:41.641Z"
   },
   {
    "duration": 17,
    "start_time": "2021-12-14T18:41:41.678Z"
   },
   {
    "duration": 11,
    "start_time": "2021-12-14T18:41:41.697Z"
   },
   {
    "duration": 13,
    "start_time": "2021-12-14T18:41:41.710Z"
   },
   {
    "duration": 24,
    "start_time": "2021-12-14T18:41:41.769Z"
   },
   {
    "duration": 12,
    "start_time": "2021-12-14T18:41:41.796Z"
   },
   {
    "duration": 15,
    "start_time": "2021-12-14T18:41:41.811Z"
   },
   {
    "duration": 15,
    "start_time": "2021-12-14T18:41:41.869Z"
   },
   {
    "duration": 35,
    "start_time": "2021-12-14T18:41:41.886Z"
   },
   {
    "duration": 4713,
    "start_time": "2021-12-14T18:41:41.924Z"
   },
   {
    "duration": 48,
    "start_time": "2021-12-14T18:41:46.640Z"
   },
   {
    "duration": 8,
    "start_time": "2021-12-14T18:41:46.691Z"
   },
   {
    "duration": 53,
    "start_time": "2021-12-14T18:41:46.702Z"
   },
   {
    "duration": 60,
    "start_time": "2021-12-14T18:41:46.758Z"
   },
   {
    "duration": 56,
    "start_time": "2021-12-14T18:41:46.821Z"
   },
   {
    "duration": 29,
    "start_time": "2021-12-14T18:41:46.879Z"
   },
   {
    "duration": 38,
    "start_time": "2021-12-14T18:41:46.911Z"
   },
   {
    "duration": 55,
    "start_time": "2021-12-14T18:41:46.951Z"
   },
   {
    "duration": 18,
    "start_time": "2021-12-14T18:41:47.009Z"
   },
   {
    "duration": 35,
    "start_time": "2021-12-14T18:42:01.061Z"
   },
   {
    "duration": 338,
    "start_time": "2021-12-14T18:44:46.450Z"
   },
   {
    "duration": 49,
    "start_time": "2021-12-14T18:44:56.589Z"
   },
   {
    "duration": 521,
    "start_time": "2021-12-14T18:46:07.635Z"
   },
   {
    "duration": 248,
    "start_time": "2021-12-14T18:47:11.939Z"
   },
   {
    "duration": 285,
    "start_time": "2021-12-14T18:47:16.307Z"
   },
   {
    "duration": 267,
    "start_time": "2021-12-14T18:49:54.539Z"
   },
   {
    "duration": 26,
    "start_time": "2021-12-14T18:50:01.418Z"
   },
   {
    "duration": 10,
    "start_time": "2021-12-14T18:56:38.567Z"
   },
   {
    "duration": 8,
    "start_time": "2021-12-14T18:57:50.144Z"
   },
   {
    "duration": 10,
    "start_time": "2021-12-14T19:01:21.033Z"
   },
   {
    "duration": 265,
    "start_time": "2021-12-14T19:03:19.305Z"
   },
   {
    "duration": 9,
    "start_time": "2021-12-14T19:06:53.734Z"
   },
   {
    "duration": 15,
    "start_time": "2021-12-14T19:07:01.768Z"
   },
   {
    "duration": 18,
    "start_time": "2021-12-14T19:08:36.592Z"
   },
   {
    "duration": 8,
    "start_time": "2021-12-14T19:10:58.303Z"
   },
   {
    "duration": 15,
    "start_time": "2021-12-14T19:11:05.989Z"
   },
   {
    "duration": 25,
    "start_time": "2021-12-14T19:12:04.183Z"
   },
   {
    "duration": 32,
    "start_time": "2021-12-14T19:16:12.269Z"
   },
   {
    "duration": 33,
    "start_time": "2021-12-14T19:18:23.638Z"
   },
   {
    "duration": 12,
    "start_time": "2021-12-14T19:18:42.142Z"
   },
   {
    "duration": 7,
    "start_time": "2021-12-14T19:18:45.629Z"
   },
   {
    "duration": 49,
    "start_time": "2021-12-14T19:18:48.950Z"
   },
   {
    "duration": 11,
    "start_time": "2021-12-14T19:19:35.246Z"
   },
   {
    "duration": 9,
    "start_time": "2021-12-14T19:19:57.951Z"
   },
   {
    "duration": 29,
    "start_time": "2021-12-14T19:20:29.341Z"
   },
   {
    "duration": 32,
    "start_time": "2021-12-14T19:20:39.037Z"
   },
   {
    "duration": 35,
    "start_time": "2021-12-14T19:37:55.313Z"
   },
   {
    "duration": 38,
    "start_time": "2021-12-14T19:38:20.380Z"
   },
   {
    "duration": 6,
    "start_time": "2021-12-14T19:38:34.428Z"
   },
   {
    "duration": 279,
    "start_time": "2021-12-14T19:40:49.155Z"
   },
   {
    "duration": 7,
    "start_time": "2021-12-14T19:40:54.691Z"
   },
   {
    "duration": 6,
    "start_time": "2021-12-14T19:41:47.226Z"
   },
   {
    "duration": 23,
    "start_time": "2021-12-14T19:43:02.593Z"
   },
   {
    "duration": 18,
    "start_time": "2021-12-14T19:43:21.201Z"
   },
   {
    "duration": 297,
    "start_time": "2021-12-14T19:43:32.714Z"
   },
   {
    "duration": 24,
    "start_time": "2021-12-14T19:43:47.563Z"
   },
   {
    "duration": 6,
    "start_time": "2021-12-14T19:45:16.897Z"
   },
   {
    "duration": 34,
    "start_time": "2021-12-14T19:45:25.336Z"
   },
   {
    "duration": 14,
    "start_time": "2021-12-14T19:48:15.041Z"
   },
   {
    "duration": 10,
    "start_time": "2021-12-14T19:48:24.233Z"
   },
   {
    "duration": 35,
    "start_time": "2021-12-14T19:48:37.744Z"
   },
   {
    "duration": 322,
    "start_time": "2021-12-15T15:06:21.438Z"
   },
   {
    "duration": 617,
    "start_time": "2021-12-15T15:06:30.701Z"
   },
   {
    "duration": 16,
    "start_time": "2021-12-15T15:06:31.319Z"
   },
   {
    "duration": 17,
    "start_time": "2021-12-15T15:06:31.337Z"
   },
   {
    "duration": 11,
    "start_time": "2021-12-15T15:06:31.356Z"
   },
   {
    "duration": 26,
    "start_time": "2021-12-15T15:06:31.368Z"
   },
   {
    "duration": 8,
    "start_time": "2021-12-15T15:06:31.396Z"
   },
   {
    "duration": 12,
    "start_time": "2021-12-15T15:06:31.405Z"
   },
   {
    "duration": 14,
    "start_time": "2021-12-15T15:06:31.419Z"
   },
   {
    "duration": 8,
    "start_time": "2021-12-15T15:06:31.435Z"
   },
   {
    "duration": 11,
    "start_time": "2021-12-15T15:06:31.444Z"
   },
   {
    "duration": 15,
    "start_time": "2021-12-15T15:06:31.456Z"
   },
   {
    "duration": 16,
    "start_time": "2021-12-15T15:06:31.472Z"
   },
   {
    "duration": 3361,
    "start_time": "2021-12-15T15:06:31.489Z"
   },
   {
    "duration": 24,
    "start_time": "2021-12-15T15:06:34.852Z"
   },
   {
    "duration": 251,
    "start_time": "2021-12-15T15:06:34.888Z"
   },
   {
    "duration": -40,
    "start_time": "2021-12-15T15:06:35.181Z"
   },
   {
    "duration": -40,
    "start_time": "2021-12-15T15:06:35.182Z"
   },
   {
    "duration": -69,
    "start_time": "2021-12-15T15:06:35.212Z"
   },
   {
    "duration": -74,
    "start_time": "2021-12-15T15:06:35.218Z"
   },
   {
    "duration": -75,
    "start_time": "2021-12-15T15:06:35.220Z"
   },
   {
    "duration": -75,
    "start_time": "2021-12-15T15:06:35.221Z"
   },
   {
    "duration": -76,
    "start_time": "2021-12-15T15:06:35.222Z"
   },
   {
    "duration": -76,
    "start_time": "2021-12-15T15:06:35.223Z"
   },
   {
    "duration": -77,
    "start_time": "2021-12-15T15:06:35.225Z"
   },
   {
    "duration": -77,
    "start_time": "2021-12-15T15:06:35.226Z"
   },
   {
    "duration": 5,
    "start_time": "2021-12-15T15:06:44.463Z"
   },
   {
    "duration": 238,
    "start_time": "2021-12-15T15:06:47.287Z"
   },
   {
    "duration": 244,
    "start_time": "2021-12-15T15:07:13.871Z"
   },
   {
    "duration": 21,
    "start_time": "2021-12-15T15:07:20.791Z"
   },
   {
    "duration": 13,
    "start_time": "2021-12-15T15:08:25.966Z"
   },
   {
    "duration": 236,
    "start_time": "2021-12-15T15:08:49.799Z"
   },
   {
    "duration": 227,
    "start_time": "2021-12-15T15:09:04.863Z"
   },
   {
    "duration": 9,
    "start_time": "2021-12-15T15:09:49.926Z"
   },
   {
    "duration": 280,
    "start_time": "2021-12-15T15:09:53.974Z"
   },
   {
    "duration": 11,
    "start_time": "2021-12-15T15:10:23.925Z"
   },
   {
    "duration": 11,
    "start_time": "2021-12-15T15:12:44.599Z"
   },
   {
    "duration": 12,
    "start_time": "2021-12-15T15:12:46.645Z"
   },
   {
    "duration": 5,
    "start_time": "2021-12-15T15:23:00.475Z"
   },
   {
    "duration": 7,
    "start_time": "2021-12-15T15:40:51.616Z"
   },
   {
    "duration": 6,
    "start_time": "2021-12-15T15:41:04.929Z"
   },
   {
    "duration": 8,
    "start_time": "2021-12-15T15:41:23.929Z"
   },
   {
    "duration": 10,
    "start_time": "2021-12-15T15:41:26.442Z"
   },
   {
    "duration": 8,
    "start_time": "2021-12-15T15:42:15.593Z"
   },
   {
    "duration": 8,
    "start_time": "2021-12-15T15:42:22.953Z"
   },
   {
    "duration": 8,
    "start_time": "2021-12-15T15:42:28.081Z"
   },
   {
    "duration": 8,
    "start_time": "2021-12-15T15:42:35.305Z"
   },
   {
    "duration": 8,
    "start_time": "2021-12-15T15:42:38.697Z"
   },
   {
    "duration": 14,
    "start_time": "2021-12-15T15:56:07.856Z"
   },
   {
    "duration": 251,
    "start_time": "2021-12-15T15:56:20.872Z"
   },
   {
    "duration": 253,
    "start_time": "2021-12-15T15:57:03.591Z"
   },
   {
    "duration": 11,
    "start_time": "2021-12-15T15:57:33.944Z"
   },
   {
    "duration": 59,
    "start_time": "2021-12-15T15:57:40.344Z"
   },
   {
    "duration": 11,
    "start_time": "2021-12-15T15:57:40.405Z"
   },
   {
    "duration": 21,
    "start_time": "2021-12-15T15:57:40.418Z"
   },
   {
    "duration": 14,
    "start_time": "2021-12-15T15:57:40.441Z"
   },
   {
    "duration": 10,
    "start_time": "2021-12-15T15:57:40.456Z"
   },
   {
    "duration": 24,
    "start_time": "2021-12-15T15:57:40.467Z"
   },
   {
    "duration": 9,
    "start_time": "2021-12-15T15:57:40.492Z"
   },
   {
    "duration": 19,
    "start_time": "2021-12-15T15:57:40.503Z"
   },
   {
    "duration": 7,
    "start_time": "2021-12-15T15:57:40.523Z"
   },
   {
    "duration": 9,
    "start_time": "2021-12-15T15:57:40.531Z"
   },
   {
    "duration": 10,
    "start_time": "2021-12-15T15:57:40.541Z"
   },
   {
    "duration": 38,
    "start_time": "2021-12-15T15:57:40.552Z"
   },
   {
    "duration": 3413,
    "start_time": "2021-12-15T15:57:40.592Z"
   },
   {
    "duration": 7,
    "start_time": "2021-12-15T15:57:44.007Z"
   },
   {
    "duration": 17,
    "start_time": "2021-12-15T15:57:44.015Z"
   },
   {
    "duration": 19,
    "start_time": "2021-12-15T15:57:44.033Z"
   },
   {
    "duration": 10,
    "start_time": "2021-12-15T15:57:44.054Z"
   },
   {
    "duration": 12,
    "start_time": "2021-12-15T15:57:44.088Z"
   },
   {
    "duration": 4,
    "start_time": "2021-12-15T15:58:16.447Z"
   },
   {
    "duration": 5,
    "start_time": "2021-12-15T15:58:27.702Z"
   },
   {
    "duration": 4,
    "start_time": "2021-12-15T15:58:37.583Z"
   },
   {
    "duration": 4,
    "start_time": "2021-12-15T15:59:11.343Z"
   },
   {
    "duration": 4,
    "start_time": "2021-12-15T15:59:13.831Z"
   },
   {
    "duration": 5,
    "start_time": "2021-12-15T15:59:19.527Z"
   },
   {
    "duration": 4,
    "start_time": "2021-12-15T16:03:41.711Z"
   },
   {
    "duration": 7,
    "start_time": "2021-12-15T16:03:58.198Z"
   },
   {
    "duration": 9,
    "start_time": "2021-12-15T16:04:04.670Z"
   },
   {
    "duration": 8,
    "start_time": "2021-12-15T16:04:14.165Z"
   },
   {
    "duration": 8,
    "start_time": "2021-12-15T16:04:21.806Z"
   },
   {
    "duration": 8,
    "start_time": "2021-12-15T16:04:23.782Z"
   },
   {
    "duration": 9,
    "start_time": "2021-12-15T16:04:32.158Z"
   },
   {
    "duration": 9,
    "start_time": "2021-12-15T16:04:37.574Z"
   },
   {
    "duration": 60,
    "start_time": "2021-12-15T16:04:43.566Z"
   },
   {
    "duration": 11,
    "start_time": "2021-12-15T16:04:43.628Z"
   },
   {
    "duration": 23,
    "start_time": "2021-12-15T16:04:43.641Z"
   },
   {
    "duration": 21,
    "start_time": "2021-12-15T16:04:43.666Z"
   },
   {
    "duration": 9,
    "start_time": "2021-12-15T16:04:43.690Z"
   },
   {
    "duration": 6,
    "start_time": "2021-12-15T16:04:43.701Z"
   },
   {
    "duration": 6,
    "start_time": "2021-12-15T16:04:43.708Z"
   },
   {
    "duration": 19,
    "start_time": "2021-12-15T16:04:43.716Z"
   },
   {
    "duration": 6,
    "start_time": "2021-12-15T16:04:43.736Z"
   },
   {
    "duration": 7,
    "start_time": "2021-12-15T16:04:43.743Z"
   },
   {
    "duration": 40,
    "start_time": "2021-12-15T16:04:43.751Z"
   },
   {
    "duration": 18,
    "start_time": "2021-12-15T16:04:43.792Z"
   },
   {
    "duration": 3411,
    "start_time": "2021-12-15T16:04:43.812Z"
   },
   {
    "duration": 6,
    "start_time": "2021-12-15T16:04:47.225Z"
   },
   {
    "duration": 12,
    "start_time": "2021-12-15T16:04:47.233Z"
   },
   {
    "duration": 19,
    "start_time": "2021-12-15T16:05:00.806Z"
   },
   {
    "duration": 10,
    "start_time": "2021-12-15T16:05:36.414Z"
   },
   {
    "duration": 10,
    "start_time": "2021-12-15T16:06:42.742Z"
   },
   {
    "duration": 1536,
    "start_time": "2021-12-15T16:10:21.332Z"
   },
   {
    "duration": 304,
    "start_time": "2021-12-15T16:10:44.542Z"
   },
   {
    "duration": 8,
    "start_time": "2021-12-15T16:10:59.086Z"
   },
   {
    "duration": 10,
    "start_time": "2021-12-15T16:11:32.342Z"
   },
   {
    "duration": 11,
    "start_time": "2021-12-15T16:11:49.613Z"
   },
   {
    "duration": 11,
    "start_time": "2021-12-15T16:12:05.117Z"
   },
   {
    "duration": 11,
    "start_time": "2021-12-15T16:12:08.332Z"
   },
   {
    "duration": 7,
    "start_time": "2021-12-15T16:12:22.636Z"
   },
   {
    "duration": 8,
    "start_time": "2021-12-15T16:12:28.957Z"
   },
   {
    "duration": 7,
    "start_time": "2021-12-15T16:12:30.861Z"
   },
   {
    "duration": 2,
    "start_time": "2021-12-15T16:16:17.644Z"
   },
   {
    "duration": 3,
    "start_time": "2021-12-15T16:16:21.892Z"
   },
   {
    "duration": 3,
    "start_time": "2021-12-15T16:16:31.372Z"
   },
   {
    "duration": 5,
    "start_time": "2021-12-15T16:16:38.996Z"
   },
   {
    "duration": 4,
    "start_time": "2021-12-15T16:16:58.732Z"
   },
   {
    "duration": 11,
    "start_time": "2021-12-15T16:24:42.057Z"
   },
   {
    "duration": 10,
    "start_time": "2021-12-15T16:25:18.353Z"
   },
   {
    "duration": 6502,
    "start_time": "2021-12-15T16:26:07.091Z"
   },
   {
    "duration": -68,
    "start_time": "2021-12-15T16:26:29.886Z"
   },
   {
    "duration": 5723,
    "start_time": "2021-12-15T16:26:30.131Z"
   },
   {
    "duration": -67,
    "start_time": "2021-12-15T16:26:35.922Z"
   },
   {
    "duration": -66,
    "start_time": "2021-12-15T16:26:52.886Z"
   },
   {
    "duration": 241,
    "start_time": "2021-12-15T16:26:54.235Z"
   },
   {
    "duration": 13,
    "start_time": "2021-12-15T16:27:04.539Z"
   },
   {
    "duration": 12,
    "start_time": "2021-12-15T16:27:06.546Z"
   },
   {
    "duration": 5532,
    "start_time": "2021-12-15T16:27:09.931Z"
   },
   {
    "duration": 5529,
    "start_time": "2021-12-15T16:27:43.627Z"
   },
   {
    "duration": 6756,
    "start_time": "2021-12-15T16:27:57.355Z"
   },
   {
    "duration": 9,
    "start_time": "2021-12-15T16:28:08.691Z"
   },
   {
    "duration": -67,
    "start_time": "2021-12-15T16:28:53.150Z"
   },
   {
    "duration": 12,
    "start_time": "2021-12-15T16:29:00.402Z"
   },
   {
    "duration": 5658,
    "start_time": "2021-12-15T16:29:02.411Z"
   },
   {
    "duration": 10,
    "start_time": "2021-12-15T16:29:34.594Z"
   },
   {
    "duration": 5581,
    "start_time": "2021-12-15T16:29:44.795Z"
   },
   {
    "duration": 11,
    "start_time": "2021-12-15T16:30:10.402Z"
   },
   {
    "duration": 14,
    "start_time": "2021-12-15T16:30:54.137Z"
   },
   {
    "duration": 15,
    "start_time": "2021-12-15T16:32:26.258Z"
   },
   {
    "duration": 15,
    "start_time": "2021-12-15T16:32:53.832Z"
   },
   {
    "duration": 4,
    "start_time": "2021-12-15T16:36:18.953Z"
   },
   {
    "duration": 449,
    "start_time": "2021-12-15T18:06:50.676Z"
   },
   {
    "duration": 949,
    "start_time": "2021-12-15T18:06:55.919Z"
   },
   {
    "duration": 41,
    "start_time": "2021-12-15T18:06:56.872Z"
   },
   {
    "duration": 60,
    "start_time": "2021-12-15T18:06:56.917Z"
   },
   {
    "duration": 18,
    "start_time": "2021-12-15T18:06:56.981Z"
   },
   {
    "duration": 25,
    "start_time": "2021-12-15T18:06:57.002Z"
   },
   {
    "duration": 36,
    "start_time": "2021-12-15T18:06:57.030Z"
   },
   {
    "duration": 19,
    "start_time": "2021-12-15T18:06:57.069Z"
   },
   {
    "duration": 40,
    "start_time": "2021-12-15T18:06:57.092Z"
   },
   {
    "duration": 16,
    "start_time": "2021-12-15T18:06:57.161Z"
   },
   {
    "duration": 33,
    "start_time": "2021-12-15T18:06:57.180Z"
   },
   {
    "duration": 27,
    "start_time": "2021-12-15T18:06:57.216Z"
   },
   {
    "duration": 29,
    "start_time": "2021-12-15T18:06:57.245Z"
   },
   {
    "duration": 5772,
    "start_time": "2021-12-15T18:06:57.277Z"
   },
   {
    "duration": 13,
    "start_time": "2021-12-15T18:07:03.051Z"
   },
   {
    "duration": 20,
    "start_time": "2021-12-15T18:07:03.067Z"
   },
   {
    "duration": 16,
    "start_time": "2021-12-15T18:07:03.089Z"
   },
   {
    "duration": 30,
    "start_time": "2021-12-15T18:07:03.159Z"
   },
   {
    "duration": 27,
    "start_time": "2021-12-15T18:07:03.191Z"
   },
   {
    "duration": 38,
    "start_time": "2021-12-15T18:07:03.221Z"
   },
   {
    "duration": 7,
    "start_time": "2021-12-15T18:07:03.262Z"
   },
   {
    "duration": 13,
    "start_time": "2021-12-15T18:07:03.275Z"
   },
   {
    "duration": 41,
    "start_time": "2021-12-15T18:09:18.864Z"
   },
   {
    "duration": 39,
    "start_time": "2021-12-15T18:09:51.741Z"
   },
   {
    "duration": 39,
    "start_time": "2021-12-15T18:09:55.206Z"
   },
   {
    "duration": -80,
    "start_time": "2021-12-15T18:11:16.103Z"
   },
   {
    "duration": 10458,
    "start_time": "2021-12-15T18:11:20.839Z"
   },
   {
    "duration": 6,
    "start_time": "2021-12-15T18:11:37.814Z"
   },
   {
    "duration": 3,
    "start_time": "2021-12-15T18:13:05.335Z"
   },
   {
    "duration": 4,
    "start_time": "2021-12-15T18:13:08.358Z"
   },
   {
    "duration": 6,
    "start_time": "2021-12-15T18:13:46.262Z"
   },
   {
    "duration": 11338,
    "start_time": "2021-12-15T18:16:01.486Z"
   },
   {
    "duration": 59,
    "start_time": "2021-12-15T18:16:31.558Z"
   },
   {
    "duration": 13,
    "start_time": "2021-12-15T18:18:39.110Z"
   },
   {
    "duration": 42,
    "start_time": "2021-12-15T18:19:04.357Z"
   },
   {
    "duration": 50,
    "start_time": "2021-12-15T18:20:28.171Z"
   },
   {
    "duration": 52,
    "start_time": "2021-12-15T18:20:46.476Z"
   },
   {
    "duration": 40,
    "start_time": "2021-12-15T18:21:24.870Z"
   },
   {
    "duration": 23,
    "start_time": "2021-12-15T18:22:39.925Z"
   },
   {
    "duration": 12,
    "start_time": "2021-12-15T18:29:49.042Z"
   },
   {
    "duration": 8,
    "start_time": "2021-12-15T18:31:10.779Z"
   },
   {
    "duration": 9,
    "start_time": "2021-12-15T18:31:34.673Z"
   },
   {
    "duration": 12,
    "start_time": "2021-12-15T18:31:58.692Z"
   },
   {
    "duration": 376,
    "start_time": "2021-12-15T18:34:02.532Z"
   },
   {
    "duration": 441,
    "start_time": "2021-12-15T18:34:17.331Z"
   },
   {
    "duration": 6,
    "start_time": "2021-12-15T18:34:44.684Z"
   },
   {
    "duration": 7,
    "start_time": "2021-12-15T18:34:53.378Z"
   },
   {
    "duration": 6,
    "start_time": "2021-12-15T18:35:10.747Z"
   },
   {
    "duration": 5,
    "start_time": "2021-12-15T18:35:15.883Z"
   },
   {
    "duration": 9,
    "start_time": "2021-12-15T18:35:19.467Z"
   },
   {
    "duration": 13,
    "start_time": "2021-12-15T18:35:44.947Z"
   },
   {
    "duration": 418,
    "start_time": "2021-12-15T18:38:31.382Z"
   },
   {
    "duration": 21,
    "start_time": "2021-12-15T18:38:44.514Z"
   },
   {
    "duration": 20,
    "start_time": "2021-12-15T18:39:13.184Z"
   },
   {
    "duration": 24,
    "start_time": "2021-12-15T18:39:56.266Z"
   },
   {
    "duration": 22,
    "start_time": "2021-12-15T18:40:00.154Z"
   },
   {
    "duration": 572,
    "start_time": "2021-12-15T18:40:37.930Z"
   },
   {
    "duration": 23,
    "start_time": "2021-12-15T18:40:43.289Z"
   },
   {
    "duration": 400,
    "start_time": "2021-12-15T18:41:08.058Z"
   },
   {
    "duration": 23,
    "start_time": "2021-12-15T18:41:12.425Z"
   },
   {
    "duration": 107,
    "start_time": "2021-12-15T18:41:23.262Z"
   },
   {
    "duration": 22,
    "start_time": "2021-12-15T18:41:23.372Z"
   },
   {
    "duration": 27,
    "start_time": "2021-12-15T18:41:23.397Z"
   },
   {
    "duration": 43,
    "start_time": "2021-12-15T18:41:23.427Z"
   },
   {
    "duration": 17,
    "start_time": "2021-12-15T18:41:23.472Z"
   },
   {
    "duration": 9,
    "start_time": "2021-12-15T18:41:23.492Z"
   },
   {
    "duration": 11,
    "start_time": "2021-12-15T18:41:23.504Z"
   },
   {
    "duration": 25,
    "start_time": "2021-12-15T18:41:23.563Z"
   },
   {
    "duration": 11,
    "start_time": "2021-12-15T18:41:23.592Z"
   },
   {
    "duration": 12,
    "start_time": "2021-12-15T18:41:23.606Z"
   },
   {
    "duration": 48,
    "start_time": "2021-12-15T18:41:23.620Z"
   },
   {
    "duration": 25,
    "start_time": "2021-12-15T18:41:23.671Z"
   },
   {
    "duration": 4744,
    "start_time": "2021-12-15T18:41:23.699Z"
   },
   {
    "duration": 42,
    "start_time": "2021-12-15T18:41:28.458Z"
   },
   {
    "duration": 5,
    "start_time": "2021-12-15T18:41:28.503Z"
   },
   {
    "duration": 10,
    "start_time": "2021-12-15T18:41:28.510Z"
   },
   {
    "duration": 72,
    "start_time": "2021-12-15T18:41:28.523Z"
   },
   {
    "duration": 10,
    "start_time": "2021-12-15T18:41:28.598Z"
   },
   {
    "duration": 55,
    "start_time": "2021-12-15T18:41:28.610Z"
   },
   {
    "duration": 13,
    "start_time": "2021-12-15T18:41:28.668Z"
   },
   {
    "duration": 12,
    "start_time": "2021-12-15T18:41:28.683Z"
   },
   {
    "duration": 22,
    "start_time": "2021-12-15T18:41:28.697Z"
   },
   {
    "duration": 45,
    "start_time": "2021-12-15T18:41:28.724Z"
   },
   {
    "duration": 28,
    "start_time": "2021-12-15T18:41:28.772Z"
   },
   {
    "duration": 59,
    "start_time": "2021-12-15T18:41:28.802Z"
   },
   {
    "duration": 23,
    "start_time": "2021-12-15T18:41:28.863Z"
   },
   {
    "duration": 22,
    "start_time": "2021-12-15T18:41:28.888Z"
   },
   {
    "duration": 78,
    "start_time": "2021-12-15T18:45:17.202Z"
   },
   {
    "duration": 74,
    "start_time": "2021-12-15T18:45:25.281Z"
   },
   {
    "duration": 79,
    "start_time": "2021-12-15T18:45:30.657Z"
   },
   {
    "duration": 82,
    "start_time": "2021-12-15T18:45:48.889Z"
   },
   {
    "duration": 15,
    "start_time": "2021-12-15T18:46:06.634Z"
   },
   {
    "duration": 79,
    "start_time": "2021-12-15T18:46:16.657Z"
   },
   {
    "duration": 301,
    "start_time": "2021-12-16T17:46:35.548Z"
   },
   {
    "duration": 829,
    "start_time": "2021-12-16T17:46:42.734Z"
   },
   {
    "duration": 18,
    "start_time": "2021-12-16T17:46:43.567Z"
   },
   {
    "duration": 43,
    "start_time": "2021-12-16T17:46:43.589Z"
   },
   {
    "duration": 28,
    "start_time": "2021-12-16T17:46:43.634Z"
   },
   {
    "duration": 21,
    "start_time": "2021-12-16T17:46:43.665Z"
   },
   {
    "duration": 42,
    "start_time": "2021-12-16T17:46:43.688Z"
   },
   {
    "duration": 9,
    "start_time": "2021-12-16T17:46:43.733Z"
   },
   {
    "duration": 10,
    "start_time": "2021-12-16T17:46:43.748Z"
   },
   {
    "duration": 61,
    "start_time": "2021-12-16T17:46:43.762Z"
   },
   {
    "duration": 9,
    "start_time": "2021-12-16T17:46:43.826Z"
   },
   {
    "duration": 16,
    "start_time": "2021-12-16T17:46:43.838Z"
   },
   {
    "duration": 19,
    "start_time": "2021-12-16T17:46:43.857Z"
   },
   {
    "duration": 39,
    "start_time": "2021-12-16T17:46:43.879Z"
   },
   {
    "duration": 4937,
    "start_time": "2021-12-16T17:46:43.920Z"
   },
   {
    "duration": 38,
    "start_time": "2021-12-16T17:46:48.860Z"
   },
   {
    "duration": 6,
    "start_time": "2021-12-16T17:46:48.917Z"
   },
   {
    "duration": 7,
    "start_time": "2021-12-16T17:46:48.925Z"
   },
   {
    "duration": 82,
    "start_time": "2021-12-16T17:46:48.935Z"
   },
   {
    "duration": 10,
    "start_time": "2021-12-16T17:46:49.021Z"
   },
   {
    "duration": 24,
    "start_time": "2021-12-16T17:46:49.034Z"
   },
   {
    "duration": 12,
    "start_time": "2021-12-16T17:46:49.061Z"
   },
   {
    "duration": 51,
    "start_time": "2021-12-16T17:46:49.075Z"
   },
   {
    "duration": 27,
    "start_time": "2021-12-16T17:46:49.130Z"
   },
   {
    "duration": 21,
    "start_time": "2021-12-16T17:46:49.160Z"
   },
   {
    "duration": 55,
    "start_time": "2021-12-16T17:46:49.183Z"
   },
   {
    "duration": 33,
    "start_time": "2021-12-16T17:46:49.241Z"
   },
   {
    "duration": 64,
    "start_time": "2021-12-16T17:46:49.277Z"
   },
   {
    "duration": 24,
    "start_time": "2021-12-16T17:48:46.203Z"
   },
   {
    "duration": 21,
    "start_time": "2021-12-16T17:48:49.149Z"
   },
   {
    "duration": 21,
    "start_time": "2021-12-16T17:48:55.292Z"
   },
   {
    "duration": 77,
    "start_time": "2021-12-16T17:49:00.884Z"
   },
   {
    "duration": 14,
    "start_time": "2021-12-16T17:49:00.963Z"
   },
   {
    "duration": 48,
    "start_time": "2021-12-16T17:49:00.980Z"
   },
   {
    "duration": 83,
    "start_time": "2021-12-16T17:49:01.031Z"
   },
   {
    "duration": -56,
    "start_time": "2021-12-16T17:49:01.173Z"
   },
   {
    "duration": -62,
    "start_time": "2021-12-16T17:49:01.181Z"
   },
   {
    "duration": -62,
    "start_time": "2021-12-16T17:49:01.183Z"
   },
   {
    "duration": -63,
    "start_time": "2021-12-16T17:49:01.185Z"
   },
   {
    "duration": -62,
    "start_time": "2021-12-16T17:49:01.186Z"
   },
   {
    "duration": -66,
    "start_time": "2021-12-16T17:49:01.191Z"
   },
   {
    "duration": -70,
    "start_time": "2021-12-16T17:49:01.197Z"
   },
   {
    "duration": -70,
    "start_time": "2021-12-16T17:49:01.198Z"
   },
   {
    "duration": -71,
    "start_time": "2021-12-16T17:49:01.200Z"
   },
   {
    "duration": -71,
    "start_time": "2021-12-16T17:49:01.202Z"
   },
   {
    "duration": -71,
    "start_time": "2021-12-16T17:49:01.203Z"
   },
   {
    "duration": -71,
    "start_time": "2021-12-16T17:49:01.205Z"
   },
   {
    "duration": -71,
    "start_time": "2021-12-16T17:49:01.206Z"
   },
   {
    "duration": -71,
    "start_time": "2021-12-16T17:49:01.208Z"
   },
   {
    "duration": -74,
    "start_time": "2021-12-16T17:49:01.213Z"
   },
   {
    "duration": -75,
    "start_time": "2021-12-16T17:49:01.215Z"
   },
   {
    "duration": -75,
    "start_time": "2021-12-16T17:49:01.216Z"
   },
   {
    "duration": -121,
    "start_time": "2021-12-16T17:49:01.264Z"
   },
   {
    "duration": -151,
    "start_time": "2021-12-16T17:49:01.295Z"
   },
   {
    "duration": -153,
    "start_time": "2021-12-16T17:49:01.299Z"
   },
   {
    "duration": -154,
    "start_time": "2021-12-16T17:49:01.301Z"
   },
   {
    "duration": -153,
    "start_time": "2021-12-16T17:49:01.302Z"
   },
   {
    "duration": -154,
    "start_time": "2021-12-16T17:49:01.304Z"
   },
   {
    "duration": -154,
    "start_time": "2021-12-16T17:49:01.305Z"
   },
   {
    "duration": 14,
    "start_time": "2021-12-16T17:49:46.060Z"
   },
   {
    "duration": 21,
    "start_time": "2021-12-16T17:49:57.477Z"
   },
   {
    "duration": 297,
    "start_time": "2021-12-16T18:01:41.729Z"
   },
   {
    "duration": 18,
    "start_time": "2021-12-16T18:01:49.242Z"
   },
   {
    "duration": 76,
    "start_time": "2021-12-16T18:02:09.416Z"
   },
   {
    "duration": 25,
    "start_time": "2021-12-16T18:02:09.495Z"
   },
   {
    "duration": 13,
    "start_time": "2021-12-16T18:02:09.524Z"
   },
   {
    "duration": 19,
    "start_time": "2021-12-16T18:02:09.539Z"
   },
   {
    "duration": 66,
    "start_time": "2021-12-16T18:02:09.561Z"
   },
   {
    "duration": 18,
    "start_time": "2021-12-16T18:02:09.630Z"
   },
   {
    "duration": 16,
    "start_time": "2021-12-16T18:02:09.650Z"
   },
   {
    "duration": 7,
    "start_time": "2021-12-16T18:02:09.670Z"
   },
   {
    "duration": 9,
    "start_time": "2021-12-16T18:03:11.919Z"
   },
   {
    "duration": 24,
    "start_time": "2021-12-16T18:03:14.816Z"
   },
   {
    "duration": 11,
    "start_time": "2021-12-16T18:03:16.760Z"
   },
   {
    "duration": 10,
    "start_time": "2021-12-16T18:03:19.194Z"
   },
   {
    "duration": 10,
    "start_time": "2021-12-16T18:03:21.065Z"
   },
   {
    "duration": 485,
    "start_time": "2021-12-16T18:06:07.144Z"
   },
   {
    "duration": 82,
    "start_time": "2021-12-16T18:06:16.808Z"
   },
   {
    "duration": 3640,
    "start_time": "2021-12-16T18:13:57.367Z"
   },
   {
    "duration": 413,
    "start_time": "2021-12-16T18:16:40.956Z"
   },
   {
    "duration": 88,
    "start_time": "2021-12-16T18:21:12.379Z"
   },
   {
    "duration": 85,
    "start_time": "2021-12-16T18:21:18.781Z"
   },
   {
    "duration": 41,
    "start_time": "2021-12-16T18:21:35.846Z"
   },
   {
    "duration": 9,
    "start_time": "2021-12-16T18:23:40.053Z"
   },
   {
    "duration": 21,
    "start_time": "2021-12-16T18:23:47.260Z"
   },
   {
    "duration": 20,
    "start_time": "2021-12-16T18:24:41.628Z"
   },
   {
    "duration": 22,
    "start_time": "2021-12-16T18:24:44.397Z"
   },
   {
    "duration": 114,
    "start_time": "2021-12-16T18:27:21.036Z"
   },
   {
    "duration": 101,
    "start_time": "2021-12-16T18:27:31.115Z"
   },
   {
    "duration": 22,
    "start_time": "2021-12-16T18:29:22.844Z"
   },
   {
    "duration": 23,
    "start_time": "2021-12-16T18:29:29.556Z"
   },
   {
    "duration": 101,
    "start_time": "2021-12-16T18:30:00.125Z"
   },
   {
    "duration": 78,
    "start_time": "2021-12-16T18:30:02.419Z"
   },
   {
    "duration": 21,
    "start_time": "2021-12-16T18:30:08.052Z"
   },
   {
    "duration": 25,
    "start_time": "2021-12-16T18:30:31.467Z"
   },
   {
    "duration": 76,
    "start_time": "2021-12-16T18:34:07.555Z"
   },
   {
    "duration": 21,
    "start_time": "2021-12-16T18:39:15.492Z"
   },
   {
    "duration": 78,
    "start_time": "2021-12-16T18:41:09.970Z"
   },
   {
    "duration": 13,
    "start_time": "2021-12-16T18:46:25.607Z"
   },
   {
    "duration": 252,
    "start_time": "2021-12-16T18:48:38.889Z"
   },
   {
    "duration": 13,
    "start_time": "2021-12-16T18:48:48.073Z"
   },
   {
    "duration": 241,
    "start_time": "2021-12-16T18:49:29.729Z"
   },
   {
    "duration": 257,
    "start_time": "2021-12-16T18:49:47.731Z"
   },
   {
    "duration": 14,
    "start_time": "2021-12-16T18:49:55.937Z"
   },
   {
    "duration": 257,
    "start_time": "2021-12-16T18:51:15.345Z"
   },
   {
    "duration": 249,
    "start_time": "2021-12-16T18:51:31.640Z"
   },
   {
    "duration": 226,
    "start_time": "2021-12-16T18:51:33.521Z"
   },
   {
    "duration": 76,
    "start_time": "2021-12-16T18:51:38.834Z"
   },
   {
    "duration": 15,
    "start_time": "2021-12-16T18:51:38.913Z"
   },
   {
    "duration": 14,
    "start_time": "2021-12-16T18:51:38.931Z"
   },
   {
    "duration": 21,
    "start_time": "2021-12-16T18:51:38.948Z"
   },
   {
    "duration": 70,
    "start_time": "2021-12-16T18:51:38.971Z"
   },
   {
    "duration": 18,
    "start_time": "2021-12-16T18:51:39.044Z"
   },
   {
    "duration": 20,
    "start_time": "2021-12-16T18:51:39.065Z"
   },
   {
    "duration": 36,
    "start_time": "2021-12-16T18:51:39.090Z"
   },
   {
    "duration": 11,
    "start_time": "2021-12-16T18:51:39.130Z"
   },
   {
    "duration": 36,
    "start_time": "2021-12-16T18:51:39.144Z"
   },
   {
    "duration": 14,
    "start_time": "2021-12-16T18:51:39.218Z"
   },
   {
    "duration": 28,
    "start_time": "2021-12-16T18:51:39.235Z"
   },
   {
    "duration": 28,
    "start_time": "2021-12-16T18:51:39.266Z"
   },
   {
    "duration": 50,
    "start_time": "2021-12-16T18:51:39.297Z"
   },
   {
    "duration": 4553,
    "start_time": "2021-12-16T18:51:39.349Z"
   },
   {
    "duration": 62,
    "start_time": "2021-12-16T18:51:43.904Z"
   },
   {
    "duration": 7,
    "start_time": "2021-12-16T18:51:43.969Z"
   },
   {
    "duration": 41,
    "start_time": "2021-12-16T18:51:43.979Z"
   },
   {
    "duration": 62,
    "start_time": "2021-12-16T18:51:44.023Z"
   },
   {
    "duration": 8,
    "start_time": "2021-12-16T18:51:44.088Z"
   },
   {
    "duration": 42,
    "start_time": "2021-12-16T18:51:44.098Z"
   },
   {
    "duration": 24,
    "start_time": "2021-12-16T18:51:44.143Z"
   },
   {
    "duration": 54,
    "start_time": "2021-12-16T18:51:44.171Z"
   },
   {
    "duration": 29,
    "start_time": "2021-12-16T18:51:44.227Z"
   },
   {
    "duration": 22,
    "start_time": "2021-12-16T18:51:44.259Z"
   },
   {
    "duration": 49,
    "start_time": "2021-12-16T18:51:44.284Z"
   },
   {
    "duration": 25,
    "start_time": "2021-12-16T18:51:44.336Z"
   },
   {
    "duration": 63,
    "start_time": "2021-12-16T18:51:44.363Z"
   },
   {
    "duration": 11,
    "start_time": "2021-12-16T18:51:46.408Z"
   },
   {
    "duration": 16,
    "start_time": "2021-12-16T18:53:08.738Z"
   },
   {
    "duration": 23,
    "start_time": "2021-12-16T18:53:26.688Z"
   },
   {
    "duration": 22,
    "start_time": "2021-12-16T18:53:43.886Z"
   },
   {
    "duration": 70,
    "start_time": "2021-12-16T18:53:57.585Z"
   },
   {
    "duration": 155,
    "start_time": "2021-12-16T18:54:03.217Z"
   },
   {
    "duration": 25,
    "start_time": "2021-12-16T18:54:05.880Z"
   },
   {
    "duration": 23,
    "start_time": "2021-12-16T18:54:20.681Z"
   },
   {
    "duration": 24,
    "start_time": "2021-12-16T18:54:55.473Z"
   },
   {
    "duration": 24,
    "start_time": "2021-12-16T18:56:29.600Z"
   },
   {
    "duration": 86,
    "start_time": "2021-12-16T19:21:14.326Z"
   },
   {
    "duration": 400,
    "start_time": "2021-12-17T09:41:11.061Z"
   },
   {
    "duration": 828,
    "start_time": "2021-12-17T09:41:20.259Z"
   },
   {
    "duration": 27,
    "start_time": "2021-12-17T09:41:21.090Z"
   },
   {
    "duration": 13,
    "start_time": "2021-12-17T09:41:21.120Z"
   },
   {
    "duration": 21,
    "start_time": "2021-12-17T09:41:21.136Z"
   },
   {
    "duration": 75,
    "start_time": "2021-12-17T09:41:21.159Z"
   },
   {
    "duration": 29,
    "start_time": "2021-12-17T09:41:21.237Z"
   },
   {
    "duration": 20,
    "start_time": "2021-12-17T09:41:21.268Z"
   },
   {
    "duration": 17,
    "start_time": "2021-12-17T09:41:21.318Z"
   },
   {
    "duration": 7,
    "start_time": "2021-12-17T09:41:21.338Z"
   },
   {
    "duration": 10,
    "start_time": "2021-12-17T09:41:21.349Z"
   },
   {
    "duration": 64,
    "start_time": "2021-12-17T09:41:21.361Z"
   },
   {
    "duration": 12,
    "start_time": "2021-12-17T09:41:21.428Z"
   },
   {
    "duration": 13,
    "start_time": "2021-12-17T09:41:21.443Z"
   },
   {
    "duration": 12,
    "start_time": "2021-12-17T09:41:21.459Z"
   },
   {
    "duration": 44,
    "start_time": "2021-12-17T09:41:21.474Z"
   },
   {
    "duration": 4844,
    "start_time": "2021-12-17T09:41:21.520Z"
   },
   {
    "duration": 71,
    "start_time": "2021-12-17T09:41:26.367Z"
   },
   {
    "duration": 8,
    "start_time": "2021-12-17T09:41:26.441Z"
   },
   {
    "duration": 8,
    "start_time": "2021-12-17T09:41:26.451Z"
   },
   {
    "duration": 75,
    "start_time": "2021-12-17T09:41:26.461Z"
   },
   {
    "duration": 8,
    "start_time": "2021-12-17T09:41:26.539Z"
   },
   {
    "duration": 23,
    "start_time": "2021-12-17T09:41:26.550Z"
   },
   {
    "duration": 64,
    "start_time": "2021-12-17T09:41:26.577Z"
   },
   {
    "duration": 21,
    "start_time": "2021-12-17T09:41:26.643Z"
   },
   {
    "duration": 24,
    "start_time": "2021-12-17T09:41:26.666Z"
   },
   {
    "duration": 13,
    "start_time": "2021-12-17T09:41:26.718Z"
   },
   {
    "duration": 25,
    "start_time": "2021-12-17T09:41:26.733Z"
   },
   {
    "duration": 55,
    "start_time": "2021-12-17T09:41:26.761Z"
   },
   {
    "duration": 333,
    "start_time": "2021-12-17T11:31:30.607Z"
   },
   {
    "duration": 174,
    "start_time": "2021-12-20T17:31:02.851Z"
   },
   {
    "duration": 644,
    "start_time": "2021-12-20T17:31:07.765Z"
   },
   {
    "duration": 11,
    "start_time": "2021-12-20T17:31:08.411Z"
   },
   {
    "duration": 33,
    "start_time": "2021-12-20T17:31:08.424Z"
   },
   {
    "duration": 11,
    "start_time": "2021-12-20T17:31:08.458Z"
   },
   {
    "duration": 33,
    "start_time": "2021-12-20T17:31:08.471Z"
   },
   {
    "duration": 22,
    "start_time": "2021-12-20T17:31:08.505Z"
   },
   {
    "duration": 13,
    "start_time": "2021-12-20T17:31:08.529Z"
   },
   {
    "duration": 10,
    "start_time": "2021-12-20T17:31:08.544Z"
   },
   {
    "duration": 40,
    "start_time": "2021-12-20T17:31:08.555Z"
   },
   {
    "duration": 8,
    "start_time": "2021-12-20T17:31:08.597Z"
   },
   {
    "duration": 18,
    "start_time": "2021-12-20T17:31:08.606Z"
   },
   {
    "duration": 6,
    "start_time": "2021-12-20T17:31:08.626Z"
   },
   {
    "duration": 9,
    "start_time": "2021-12-20T17:31:08.633Z"
   },
   {
    "duration": 49,
    "start_time": "2021-12-20T17:31:08.643Z"
   },
   {
    "duration": 4,
    "start_time": "2021-12-20T17:31:08.694Z"
   },
   {
    "duration": 3630,
    "start_time": "2021-12-20T17:31:08.700Z"
   },
   {
    "duration": 25,
    "start_time": "2021-12-20T17:31:12.332Z"
   },
   {
    "duration": 5,
    "start_time": "2021-12-20T17:31:12.359Z"
   },
   {
    "duration": 30,
    "start_time": "2021-12-20T17:31:12.366Z"
   },
   {
    "duration": 24,
    "start_time": "2021-12-20T17:31:12.398Z"
   },
   {
    "duration": 5,
    "start_time": "2021-12-20T17:31:12.424Z"
   },
   {
    "duration": 29,
    "start_time": "2021-12-20T17:31:12.430Z"
   },
   {
    "duration": 32,
    "start_time": "2021-12-20T17:31:12.462Z"
   },
   {
    "duration": 13,
    "start_time": "2021-12-20T17:31:12.496Z"
   },
   {
    "duration": 15,
    "start_time": "2021-12-20T17:31:12.510Z"
   },
   {
    "duration": 8,
    "start_time": "2021-12-20T17:31:12.527Z"
   },
   {
    "duration": 15,
    "start_time": "2021-12-20T17:31:12.536Z"
   },
   {
    "duration": 46,
    "start_time": "2021-12-20T17:31:12.553Z"
   },
   {
    "duration": 42,
    "start_time": "2021-12-20T17:32:56.699Z"
   },
   {
    "duration": 42,
    "start_time": "2021-12-20T17:33:27.060Z"
   },
   {
    "duration": 54,
    "start_time": "2021-12-20T17:33:56.538Z"
   },
   {
    "duration": 44,
    "start_time": "2021-12-20T17:33:59.787Z"
   },
   {
    "duration": 10,
    "start_time": "2021-12-20T17:35:10.019Z"
   },
   {
    "duration": 8,
    "start_time": "2021-12-20T17:35:42.835Z"
   },
   {
    "duration": 153,
    "start_time": "2021-12-20T17:43:10.472Z"
   },
   {
    "duration": 5,
    "start_time": "2021-12-20T17:44:17.023Z"
   },
   {
    "duration": 8,
    "start_time": "2021-12-20T17:44:23.497Z"
   },
   {
    "duration": 9,
    "start_time": "2021-12-20T17:44:37.548Z"
   },
   {
    "duration": 7,
    "start_time": "2021-12-20T17:45:02.266Z"
   },
   {
    "duration": 5,
    "start_time": "2021-12-20T17:50:31.033Z"
   },
   {
    "duration": 11,
    "start_time": "2021-12-20T17:50:42.010Z"
   },
   {
    "duration": 5,
    "start_time": "2021-12-20T17:50:56.802Z"
   },
   {
    "duration": 4,
    "start_time": "2021-12-20T17:51:21.785Z"
   },
   {
    "duration": 4,
    "start_time": "2021-12-20T17:51:44.881Z"
   },
   {
    "duration": 6,
    "start_time": "2021-12-20T17:51:49.720Z"
   },
   {
    "duration": 4,
    "start_time": "2021-12-20T17:51:52.535Z"
   },
   {
    "duration": 4226,
    "start_time": "2021-12-20T18:06:31.397Z"
   },
   {
    "duration": 11,
    "start_time": "2021-12-20T18:06:37.894Z"
   },
   {
    "duration": 12,
    "start_time": "2021-12-20T18:06:41.494Z"
   },
   {
    "duration": 8,
    "start_time": "2021-12-20T18:07:03.199Z"
   },
   {
    "duration": 144,
    "start_time": "2021-12-20T18:07:12.911Z"
   },
   {
    "duration": 7,
    "start_time": "2021-12-20T18:07:39.863Z"
   },
   {
    "duration": 55,
    "start_time": "2021-12-20T18:09:03.294Z"
   },
   {
    "duration": 150,
    "start_time": "2021-12-20T18:09:06.279Z"
   },
   {
    "duration": 4,
    "start_time": "2021-12-20T18:09:20.847Z"
   },
   {
    "duration": 8,
    "start_time": "2021-12-20T18:10:11.183Z"
   },
   {
    "duration": 41,
    "start_time": "2021-12-20T18:12:29.783Z"
   },
   {
    "duration": 3,
    "start_time": "2021-12-20T18:12:34.941Z"
   },
   {
    "duration": 890,
    "start_time": "2021-12-20T18:13:04.269Z"
   },
   {
    "duration": 9,
    "start_time": "2021-12-20T18:15:48.141Z"
   },
   {
    "duration": 12,
    "start_time": "2021-12-20T18:16:41.396Z"
   },
   {
    "duration": 34,
    "start_time": "2021-12-20T18:17:19.573Z"
   },
   {
    "duration": 9,
    "start_time": "2021-12-20T18:19:10.997Z"
   },
   {
    "duration": 38,
    "start_time": "2021-12-20T18:19:13.100Z"
   },
   {
    "duration": 17,
    "start_time": "2021-12-20T18:20:18.371Z"
   },
   {
    "duration": 57,
    "start_time": "2021-12-20T18:20:39.860Z"
   },
   {
    "duration": 10,
    "start_time": "2021-12-20T18:20:39.919Z"
   },
   {
    "duration": 32,
    "start_time": "2021-12-20T18:20:39.931Z"
   },
   {
    "duration": 29,
    "start_time": "2021-12-20T18:20:39.965Z"
   },
   {
    "duration": 16,
    "start_time": "2021-12-20T18:20:39.995Z"
   },
   {
    "duration": 11,
    "start_time": "2021-12-20T18:20:40.013Z"
   },
   {
    "duration": 8,
    "start_time": "2021-12-20T18:20:40.026Z"
   },
   {
    "duration": 8,
    "start_time": "2021-12-20T18:20:40.037Z"
   },
   {
    "duration": 45,
    "start_time": "2021-12-20T18:20:40.047Z"
   },
   {
    "duration": 6,
    "start_time": "2021-12-20T18:20:40.094Z"
   },
   {
    "duration": 18,
    "start_time": "2021-12-20T18:20:43.813Z"
   },
   {
    "duration": 9,
    "start_time": "2021-12-20T18:21:01.366Z"
   },
   {
    "duration": 34,
    "start_time": "2021-12-20T18:21:18.828Z"
   },
   {
    "duration": 1839,
    "start_time": "2021-12-20T18:22:46.301Z"
   },
   {
    "duration": 24,
    "start_time": "2021-12-20T18:23:08.597Z"
   },
   {
    "duration": 10,
    "start_time": "2021-12-20T18:23:50.245Z"
   },
   {
    "duration": 10,
    "start_time": "2021-12-20T18:23:52.821Z"
   },
   {
    "duration": 60,
    "start_time": "2021-12-20T18:23:57.635Z"
   },
   {
    "duration": 11,
    "start_time": "2021-12-20T18:23:57.697Z"
   },
   {
    "duration": 36,
    "start_time": "2021-12-20T18:23:57.711Z"
   },
   {
    "duration": 10,
    "start_time": "2021-12-20T18:23:57.749Z"
   },
   {
    "duration": 37,
    "start_time": "2021-12-20T18:23:57.761Z"
   },
   {
    "duration": 9,
    "start_time": "2021-12-20T18:23:57.800Z"
   },
   {
    "duration": 7,
    "start_time": "2021-12-20T18:23:57.810Z"
   },
   {
    "duration": 7,
    "start_time": "2021-12-20T18:23:57.819Z"
   },
   {
    "duration": 7,
    "start_time": "2021-12-20T18:23:57.827Z"
   },
   {
    "duration": 8,
    "start_time": "2021-12-20T18:23:57.835Z"
   },
   {
    "duration": 10,
    "start_time": "2021-12-20T18:23:59.620Z"
   },
   {
    "duration": 5,
    "start_time": "2021-12-20T18:26:30.586Z"
   },
   {
    "duration": 9,
    "start_time": "2021-12-20T18:26:33.110Z"
   },
   {
    "duration": 9,
    "start_time": "2021-12-20T18:26:35.763Z"
   },
   {
    "duration": 15,
    "start_time": "2021-12-20T18:26:55.988Z"
   },
   {
    "duration": 11,
    "start_time": "2021-12-20T18:26:57.107Z"
   },
   {
    "duration": 15,
    "start_time": "2021-12-20T18:27:26.084Z"
   },
   {
    "duration": 11,
    "start_time": "2021-12-20T18:27:28.027Z"
   },
   {
    "duration": 10,
    "start_time": "2021-12-20T18:27:29.931Z"
   },
   {
    "duration": 14,
    "start_time": "2021-12-20T18:27:33.115Z"
   },
   {
    "duration": 10,
    "start_time": "2021-12-20T18:27:34.932Z"
   },
   {
    "duration": 16,
    "start_time": "2021-12-20T18:27:52.203Z"
   },
   {
    "duration": 12,
    "start_time": "2021-12-20T18:27:54.675Z"
   },
   {
    "duration": 46,
    "start_time": "2021-12-20T20:02:28.654Z"
   },
   {
    "duration": 11,
    "start_time": "2021-12-20T20:03:02.871Z"
   },
   {
    "duration": 11,
    "start_time": "2021-12-20T20:06:29.644Z"
   },
   {
    "duration": 11,
    "start_time": "2021-12-20T20:06:31.533Z"
   },
   {
    "duration": 11,
    "start_time": "2021-12-20T20:07:58.726Z"
   },
   {
    "duration": 11,
    "start_time": "2021-12-20T20:08:00.622Z"
   },
   {
    "duration": 60,
    "start_time": "2021-12-20T20:08:10.028Z"
   },
   {
    "duration": 11,
    "start_time": "2021-12-20T20:08:10.090Z"
   },
   {
    "duration": 58,
    "start_time": "2021-12-20T20:08:10.103Z"
   },
   {
    "duration": 11,
    "start_time": "2021-12-20T20:08:10.163Z"
   },
   {
    "duration": 29,
    "start_time": "2021-12-20T20:08:10.176Z"
   },
   {
    "duration": 19,
    "start_time": "2021-12-20T20:08:10.207Z"
   },
   {
    "duration": 22,
    "start_time": "2021-12-20T20:08:10.227Z"
   },
   {
    "duration": 10,
    "start_time": "2021-12-20T20:08:10.251Z"
   },
   {
    "duration": 11,
    "start_time": "2021-12-20T20:08:10.263Z"
   },
   {
    "duration": 17,
    "start_time": "2021-12-20T20:08:10.276Z"
   },
   {
    "duration": 54,
    "start_time": "2021-12-20T20:08:10.295Z"
   },
   {
    "duration": 24,
    "start_time": "2021-12-20T20:08:22.326Z"
   },
   {
    "duration": 12,
    "start_time": "2021-12-20T20:08:24.447Z"
   },
   {
    "duration": 27,
    "start_time": "2021-12-20T20:09:10.350Z"
   },
   {
    "duration": 25,
    "start_time": "2021-12-20T20:10:05.639Z"
   },
   {
    "duration": 29,
    "start_time": "2021-12-20T20:10:30.046Z"
   },
   {
    "duration": 55,
    "start_time": "2021-12-20T20:12:41.502Z"
   },
   {
    "duration": 15,
    "start_time": "2021-12-20T20:13:37.925Z"
   },
   {
    "duration": 5,
    "start_time": "2021-12-20T20:14:01.822Z"
   },
   {
    "duration": 46,
    "start_time": "2021-12-20T20:15:39.669Z"
   },
   {
    "duration": 136,
    "start_time": "2021-12-20T20:16:18.140Z"
   },
   {
    "duration": 1159,
    "start_time": "2021-12-20T20:16:53.637Z"
   },
   {
    "duration": 135,
    "start_time": "2021-12-20T20:18:38.197Z"
   },
   {
    "duration": 140,
    "start_time": "2021-12-20T20:18:44.392Z"
   },
   {
    "duration": 147,
    "start_time": "2021-12-20T20:20:47.380Z"
   },
   {
    "duration": 887,
    "start_time": "2021-12-21T17:10:03.606Z"
   },
   {
    "duration": 15,
    "start_time": "2021-12-21T17:10:04.495Z"
   },
   {
    "duration": 74,
    "start_time": "2021-12-21T17:10:04.514Z"
   },
   {
    "duration": 13,
    "start_time": "2021-12-21T17:10:04.591Z"
   },
   {
    "duration": 26,
    "start_time": "2021-12-21T17:10:04.606Z"
   },
   {
    "duration": 12,
    "start_time": "2021-12-21T17:10:04.658Z"
   },
   {
    "duration": 9,
    "start_time": "2021-12-21T17:10:04.672Z"
   },
   {
    "duration": 10,
    "start_time": "2021-12-21T17:10:04.685Z"
   },
   {
    "duration": 13,
    "start_time": "2021-12-21T17:10:04.698Z"
   },
   {
    "duration": 46,
    "start_time": "2021-12-21T17:10:04.713Z"
   },
   {
    "duration": 48,
    "start_time": "2021-12-21T17:10:04.763Z"
   },
   {
    "duration": 14,
    "start_time": "2021-12-21T17:10:04.814Z"
   },
   {
    "duration": 68,
    "start_time": "2021-12-21T17:10:04.830Z"
   },
   {
    "duration": 16,
    "start_time": "2021-12-21T17:10:04.900Z"
   },
   {
    "duration": 50,
    "start_time": "2021-12-21T17:10:04.919Z"
   },
   {
    "duration": 11,
    "start_time": "2021-12-21T17:10:04.972Z"
   },
   {
    "duration": 20,
    "start_time": "2021-12-21T17:10:04.985Z"
   },
   {
    "duration": 62,
    "start_time": "2021-12-21T17:10:05.008Z"
   },
   {
    "duration": 23,
    "start_time": "2021-12-21T17:10:05.073Z"
   },
   {
    "duration": 18,
    "start_time": "2021-12-21T17:10:05.099Z"
   },
   {
    "duration": 20,
    "start_time": "2021-12-21T17:10:05.119Z"
   },
   {
    "duration": 24,
    "start_time": "2021-12-21T17:10:05.141Z"
   },
   {
    "duration": 1064,
    "start_time": "2021-12-21T17:10:06.310Z"
   },
   {
    "duration": 370,
    "start_time": "2021-12-21T17:10:20.750Z"
   },
   {
    "duration": 524,
    "start_time": "2021-12-21T17:10:30.294Z"
   },
   {
    "duration": 347,
    "start_time": "2021-12-21T17:10:40.310Z"
   },
   {
    "duration": 355,
    "start_time": "2021-12-21T17:19:23.491Z"
   },
   {
    "duration": 348,
    "start_time": "2021-12-21T17:20:13.014Z"
   },
   {
    "duration": 5604,
    "start_time": "2021-12-21T17:20:17.540Z"
   },
   {
    "duration": 492,
    "start_time": "2021-12-21T17:30:38.379Z"
   },
   {
    "duration": 7,
    "start_time": "2021-12-21T17:34:38.369Z"
   },
   {
    "duration": 499,
    "start_time": "2021-12-21T17:35:09.529Z"
   },
   {
    "duration": 6,
    "start_time": "2021-12-21T17:35:18.985Z"
   },
   {
    "duration": 7,
    "start_time": "2021-12-21T17:35:51.758Z"
   },
   {
    "duration": 369,
    "start_time": "2021-12-21T17:38:52.345Z"
   },
   {
    "duration": 8,
    "start_time": "2021-12-21T17:39:08.522Z"
   },
   {
    "duration": 79,
    "start_time": "2021-12-21T17:39:10.457Z"
   },
   {
    "duration": 3294,
    "start_time": "2021-12-21T17:40:17.409Z"
   },
   {
    "duration": 21,
    "start_time": "2021-12-21T17:40:20.706Z"
   },
   {
    "duration": 4192,
    "start_time": "2021-12-21T17:52:31.911Z"
   },
   {
    "duration": 45,
    "start_time": "2021-12-21T17:52:46.640Z"
   },
   {
    "duration": 42,
    "start_time": "2021-12-21T17:53:01.904Z"
   },
   {
    "duration": 89,
    "start_time": "2021-12-21T17:53:36.421Z"
   },
   {
    "duration": 31,
    "start_time": "2021-12-21T18:06:06.013Z"
   },
   {
    "duration": 11,
    "start_time": "2021-12-21T18:06:30.582Z"
   },
   {
    "duration": 9,
    "start_time": "2021-12-21T18:06:32.473Z"
   },
   {
    "duration": 10,
    "start_time": "2021-12-21T18:06:34.589Z"
   },
   {
    "duration": 27,
    "start_time": "2021-12-21T18:06:36.941Z"
   },
   {
    "duration": 34,
    "start_time": "2021-12-21T18:07:21.885Z"
   },
   {
    "duration": 7,
    "start_time": "2021-12-21T18:09:06.292Z"
   },
   {
    "duration": 32,
    "start_time": "2021-12-21T18:22:14.681Z"
   },
   {
    "duration": 27,
    "start_time": "2021-12-21T18:22:34.860Z"
   },
   {
    "duration": 24,
    "start_time": "2021-12-21T18:23:29.470Z"
   },
   {
    "duration": 160,
    "start_time": "2021-12-21T18:23:49.739Z"
   },
   {
    "duration": 30,
    "start_time": "2021-12-21T18:23:49.904Z"
   },
   {
    "duration": 84,
    "start_time": "2021-12-21T18:23:49.938Z"
   },
   {
    "duration": 14,
    "start_time": "2021-12-21T18:23:50.026Z"
   },
   {
    "duration": 37,
    "start_time": "2021-12-21T18:23:50.043Z"
   },
   {
    "duration": 12,
    "start_time": "2021-12-21T18:23:50.083Z"
   },
   {
    "duration": 9,
    "start_time": "2021-12-21T18:23:50.097Z"
   },
   {
    "duration": 9,
    "start_time": "2021-12-21T18:23:50.110Z"
   },
   {
    "duration": 56,
    "start_time": "2021-12-21T18:23:50.123Z"
   },
   {
    "duration": 14,
    "start_time": "2021-12-21T18:23:50.182Z"
   },
   {
    "duration": 64,
    "start_time": "2021-12-21T18:23:50.198Z"
   },
   {
    "duration": 21,
    "start_time": "2021-12-21T18:23:50.265Z"
   },
   {
    "duration": 22,
    "start_time": "2021-12-21T18:23:50.289Z"
   },
   {
    "duration": 7,
    "start_time": "2021-12-21T18:23:50.313Z"
   },
   {
    "duration": 44,
    "start_time": "2021-12-21T18:23:50.323Z"
   },
   {
    "duration": 25,
    "start_time": "2021-12-21T18:23:50.370Z"
   },
   {
    "duration": 64,
    "start_time": "2021-12-21T18:23:50.398Z"
   },
   {
    "duration": 37,
    "start_time": "2021-12-21T18:23:50.466Z"
   },
   {
    "duration": 28,
    "start_time": "2021-12-21T18:23:50.506Z"
   },
   {
    "duration": 3501,
    "start_time": "2021-12-21T18:23:50.560Z"
   },
   {
    "duration": 22,
    "start_time": "2021-12-21T18:23:54.063Z"
   },
   {
    "duration": 3982,
    "start_time": "2021-12-21T18:23:54.088Z"
   },
   {
    "duration": 40,
    "start_time": "2021-12-21T18:23:58.073Z"
   },
   {
    "duration": 6,
    "start_time": "2021-12-21T18:23:58.115Z"
   },
   {
    "duration": 37,
    "start_time": "2021-12-21T18:23:58.123Z"
   },
   {
    "duration": 45,
    "start_time": "2021-12-21T18:23:58.162Z"
   },
   {
    "duration": 8,
    "start_time": "2021-12-21T18:23:58.213Z"
   },
   {
    "duration": 50,
    "start_time": "2021-12-21T18:23:58.223Z"
   },
   {
    "duration": 24,
    "start_time": "2021-12-21T18:23:58.275Z"
   },
   {
    "duration": 59,
    "start_time": "2021-12-21T18:23:58.301Z"
   },
   {
    "duration": 27,
    "start_time": "2021-12-21T18:23:58.363Z"
   },
   {
    "duration": 13,
    "start_time": "2021-12-21T18:23:58.392Z"
   },
   {
    "duration": 54,
    "start_time": "2021-12-21T18:23:58.407Z"
   },
   {
    "duration": 31,
    "start_time": "2021-12-21T18:23:58.463Z"
   },
   {
    "duration": 23,
    "start_time": "2021-12-21T18:25:38.186Z"
   },
   {
    "duration": 105,
    "start_time": "2021-12-21T18:29:55.882Z"
   },
   {
    "duration": 125,
    "start_time": "2021-12-21T18:30:01.965Z"
   },
   {
    "duration": 127,
    "start_time": "2021-12-21T18:30:36.178Z"
   },
   {
    "duration": 14,
    "start_time": "2021-12-21T18:31:32.599Z"
   },
   {
    "duration": 14,
    "start_time": "2021-12-21T18:31:35.425Z"
   },
   {
    "duration": 17,
    "start_time": "2021-12-21T18:31:42.113Z"
   },
   {
    "duration": 76,
    "start_time": "2021-12-21T18:31:50.958Z"
   },
   {
    "duration": 15,
    "start_time": "2021-12-21T18:31:51.037Z"
   },
   {
    "duration": 78,
    "start_time": "2021-12-21T18:31:51.061Z"
   },
   {
    "duration": 33,
    "start_time": "2021-12-21T18:31:51.143Z"
   },
   {
    "duration": 30,
    "start_time": "2021-12-21T18:31:51.179Z"
   },
   {
    "duration": 55,
    "start_time": "2021-12-21T18:31:51.212Z"
   },
   {
    "duration": 11,
    "start_time": "2021-12-21T18:31:51.271Z"
   },
   {
    "duration": 11,
    "start_time": "2021-12-21T18:31:53.880Z"
   },
   {
    "duration": 29,
    "start_time": "2021-12-21T18:33:42.038Z"
   },
   {
    "duration": 24,
    "start_time": "2021-12-21T18:34:53.415Z"
   },
   {
    "duration": 17,
    "start_time": "2021-12-21T18:35:03.001Z"
   },
   {
    "duration": 39,
    "start_time": "2021-12-21T18:37:05.656Z"
   },
   {
    "duration": 18,
    "start_time": "2021-12-21T18:37:09.944Z"
   },
   {
    "duration": 1793,
    "start_time": "2021-12-21T18:39:15.968Z"
   },
   {
    "duration": 677,
    "start_time": "2021-12-21T18:39:38.136Z"
   },
   {
    "duration": 523,
    "start_time": "2021-12-21T18:39:44.144Z"
   },
   {
    "duration": 122,
    "start_time": "2021-12-21T18:39:54.047Z"
   },
   {
    "duration": 34,
    "start_time": "2021-12-21T18:40:48.496Z"
   },
   {
    "duration": 17,
    "start_time": "2021-12-21T18:40:51.919Z"
   },
   {
    "duration": 6970,
    "start_time": "2021-12-21T18:44:02.046Z"
   },
   {
    "duration": 7058,
    "start_time": "2021-12-21T18:44:12.367Z"
   },
   {
    "duration": 26,
    "start_time": "2021-12-21T18:44:19.443Z"
   },
   {
    "duration": 14,
    "start_time": "2021-12-21T18:44:45.871Z"
   },
   {
    "duration": 75,
    "start_time": "2021-12-21T18:44:48.683Z"
   },
   {
    "duration": 16,
    "start_time": "2021-12-21T18:44:48.760Z"
   },
   {
    "duration": 47,
    "start_time": "2021-12-21T18:44:48.779Z"
   },
   {
    "duration": 41,
    "start_time": "2021-12-21T18:44:48.829Z"
   },
   {
    "duration": 22,
    "start_time": "2021-12-21T18:44:48.872Z"
   },
   {
    "duration": 12,
    "start_time": "2021-12-21T18:44:48.896Z"
   },
   {
    "duration": 10,
    "start_time": "2021-12-21T18:44:48.910Z"
   },
   {
    "duration": 41,
    "start_time": "2021-12-21T18:44:48.923Z"
   },
   {
    "duration": 6681,
    "start_time": "2021-12-21T18:44:48.967Z"
   },
   {
    "duration": 12,
    "start_time": "2021-12-21T18:44:55.672Z"
   },
   {
    "duration": 17,
    "start_time": "2021-12-21T18:44:55.686Z"
   },
   {
    "duration": 88,
    "start_time": "2021-12-21T18:45:51.571Z"
   },
   {
    "duration": 15,
    "start_time": "2021-12-21T18:45:51.662Z"
   },
   {
    "duration": 48,
    "start_time": "2021-12-21T18:45:51.680Z"
   },
   {
    "duration": 40,
    "start_time": "2021-12-21T18:45:51.731Z"
   },
   {
    "duration": 22,
    "start_time": "2021-12-21T18:45:51.774Z"
   },
   {
    "duration": 11,
    "start_time": "2021-12-21T18:45:51.798Z"
   },
   {
    "duration": 50,
    "start_time": "2021-12-21T18:45:51.811Z"
   },
   {
    "duration": 12,
    "start_time": "2021-12-21T18:45:51.865Z"
   },
   {
    "duration": 6449,
    "start_time": "2021-12-21T18:45:51.881Z"
   },
   {
    "duration": 14,
    "start_time": "2021-12-21T18:45:58.333Z"
   },
   {
    "duration": 325,
    "start_time": "2021-12-21T18:45:58.360Z"
   },
   {
    "duration": -102,
    "start_time": "2021-12-21T18:45:58.791Z"
   },
   {
    "duration": -102,
    "start_time": "2021-12-21T18:45:58.793Z"
   },
   {
    "duration": -102,
    "start_time": "2021-12-21T18:45:58.795Z"
   },
   {
    "duration": -102,
    "start_time": "2021-12-21T18:45:58.797Z"
   },
   {
    "duration": -116,
    "start_time": "2021-12-21T18:45:58.813Z"
   },
   {
    "duration": -116,
    "start_time": "2021-12-21T18:45:58.816Z"
   },
   {
    "duration": -117,
    "start_time": "2021-12-21T18:45:58.819Z"
   },
   {
    "duration": -117,
    "start_time": "2021-12-21T18:45:58.821Z"
   },
   {
    "duration": -117,
    "start_time": "2021-12-21T18:45:58.823Z"
   },
   {
    "duration": -117,
    "start_time": "2021-12-21T18:45:58.825Z"
   },
   {
    "duration": -116,
    "start_time": "2021-12-21T18:45:58.827Z"
   },
   {
    "duration": -124,
    "start_time": "2021-12-21T18:45:58.837Z"
   },
   {
    "duration": -125,
    "start_time": "2021-12-21T18:45:58.840Z"
   },
   {
    "duration": -125,
    "start_time": "2021-12-21T18:45:58.842Z"
   },
   {
    "duration": -158,
    "start_time": "2021-12-21T18:45:58.877Z"
   },
   {
    "duration": -161,
    "start_time": "2021-12-21T18:45:58.882Z"
   },
   {
    "duration": -126,
    "start_time": "2021-12-21T18:45:58.885Z"
   },
   {
    "duration": -125,
    "start_time": "2021-12-21T18:45:58.887Z"
   },
   {
    "duration": -125,
    "start_time": "2021-12-21T18:45:58.889Z"
   },
   {
    "duration": -125,
    "start_time": "2021-12-21T18:45:58.891Z"
   },
   {
    "duration": -125,
    "start_time": "2021-12-21T18:45:58.893Z"
   },
   {
    "duration": -124,
    "start_time": "2021-12-21T18:45:58.895Z"
   },
   {
    "duration": 84,
    "start_time": "2021-12-21T18:46:46.218Z"
   },
   {
    "duration": 17,
    "start_time": "2021-12-21T18:46:46.306Z"
   },
   {
    "duration": 77,
    "start_time": "2021-12-21T18:46:46.326Z"
   },
   {
    "duration": 13,
    "start_time": "2021-12-21T18:46:46.406Z"
   },
   {
    "duration": 47,
    "start_time": "2021-12-21T18:46:46.421Z"
   },
   {
    "duration": 15,
    "start_time": "2021-12-21T18:46:46.471Z"
   },
   {
    "duration": 13,
    "start_time": "2021-12-21T18:46:46.488Z"
   },
   {
    "duration": 12,
    "start_time": "2021-12-21T18:46:46.504Z"
   },
   {
    "duration": 14,
    "start_time": "2021-12-21T18:46:46.562Z"
   },
   {
    "duration": 729,
    "start_time": "2021-12-21T18:46:46.580Z"
   },
   {
    "duration": -94,
    "start_time": "2021-12-21T18:46:47.406Z"
   },
   {
    "duration": -96,
    "start_time": "2021-12-21T18:46:47.409Z"
   },
   {
    "duration": -95,
    "start_time": "2021-12-21T18:46:47.410Z"
   },
   {
    "duration": -116,
    "start_time": "2021-12-21T18:46:47.432Z"
   },
   {
    "duration": -120,
    "start_time": "2021-12-21T18:46:47.437Z"
   },
   {
    "duration": -120,
    "start_time": "2021-12-21T18:46:47.439Z"
   },
   {
    "duration": -121,
    "start_time": "2021-12-21T18:46:47.441Z"
   },
   {
    "duration": -122,
    "start_time": "2021-12-21T18:46:47.445Z"
   },
   {
    "duration": -123,
    "start_time": "2021-12-21T18:46:47.447Z"
   },
   {
    "duration": -128,
    "start_time": "2021-12-21T18:46:47.454Z"
   },
   {
    "duration": -130,
    "start_time": "2021-12-21T18:46:47.457Z"
   },
   {
    "duration": -131,
    "start_time": "2021-12-21T18:46:47.459Z"
   },
   {
    "duration": -133,
    "start_time": "2021-12-21T18:46:47.462Z"
   },
   {
    "duration": -134,
    "start_time": "2021-12-21T18:46:47.465Z"
   },
   {
    "duration": -137,
    "start_time": "2021-12-21T18:46:47.471Z"
   },
   {
    "duration": -139,
    "start_time": "2021-12-21T18:46:47.475Z"
   },
   {
    "duration": -140,
    "start_time": "2021-12-21T18:46:47.477Z"
   },
   {
    "duration": -141,
    "start_time": "2021-12-21T18:46:47.479Z"
   },
   {
    "duration": -141,
    "start_time": "2021-12-21T18:46:47.481Z"
   },
   {
    "duration": -146,
    "start_time": "2021-12-21T18:46:47.487Z"
   },
   {
    "duration": -147,
    "start_time": "2021-12-21T18:46:47.490Z"
   },
   {
    "duration": -149,
    "start_time": "2021-12-21T18:46:47.493Z"
   },
   {
    "duration": 357,
    "start_time": "2021-12-21T18:46:52.556Z"
   },
   {
    "duration": 14,
    "start_time": "2021-12-21T18:47:09.174Z"
   },
   {
    "duration": 10,
    "start_time": "2021-12-21T18:47:13.453Z"
   },
   {
    "duration": 10,
    "start_time": "2021-12-21T18:47:15.062Z"
   },
   {
    "duration": 12,
    "start_time": "2021-12-21T18:47:17.847Z"
   },
   {
    "duration": 74,
    "start_time": "2021-12-21T18:47:58.529Z"
   },
   {
    "duration": 17,
    "start_time": "2021-12-21T18:47:58.607Z"
   },
   {
    "duration": 68,
    "start_time": "2021-12-21T18:47:58.628Z"
   },
   {
    "duration": 12,
    "start_time": "2021-12-21T18:47:58.699Z"
   },
   {
    "duration": 52,
    "start_time": "2021-12-21T18:47:58.713Z"
   },
   {
    "duration": 11,
    "start_time": "2021-12-21T18:47:58.768Z"
   },
   {
    "duration": 10,
    "start_time": "2021-12-21T18:47:58.782Z"
   },
   {
    "duration": 9,
    "start_time": "2021-12-21T18:47:58.794Z"
   },
   {
    "duration": 52,
    "start_time": "2021-12-21T18:47:58.807Z"
   },
   {
    "duration": 379,
    "start_time": "2021-12-21T18:48:00.830Z"
   },
   {
    "duration": 47,
    "start_time": "2021-12-21T18:50:57.245Z"
   },
   {
    "duration": 14,
    "start_time": "2021-12-21T18:50:59.205Z"
   },
   {
    "duration": 21,
    "start_time": "2021-12-21T18:51:04.711Z"
   },
   {
    "duration": 12,
    "start_time": "2021-12-21T18:51:18.975Z"
   },
   {
    "duration": 11,
    "start_time": "2021-12-21T18:51:20.806Z"
   },
   {
    "duration": 13,
    "start_time": "2021-12-21T18:51:23.119Z"
   },
   {
    "duration": 24,
    "start_time": "2021-12-21T18:55:29.396Z"
   },
   {
    "duration": 18,
    "start_time": "2021-12-21T18:55:38.119Z"
   },
   {
    "duration": 127,
    "start_time": "2021-12-21T18:56:06.754Z"
   },
   {
    "duration": 19,
    "start_time": "2021-12-21T18:56:06.885Z"
   },
   {
    "duration": 74,
    "start_time": "2021-12-21T18:56:06.907Z"
   },
   {
    "duration": 14,
    "start_time": "2021-12-21T18:56:06.985Z"
   },
   {
    "duration": 24,
    "start_time": "2021-12-21T18:56:07.001Z"
   },
   {
    "duration": 36,
    "start_time": "2021-12-21T18:56:07.027Z"
   },
   {
    "duration": 10,
    "start_time": "2021-12-21T18:56:07.066Z"
   },
   {
    "duration": 12,
    "start_time": "2021-12-21T18:56:07.078Z"
   },
   {
    "duration": 13,
    "start_time": "2021-12-21T18:56:07.095Z"
   },
   {
    "duration": 81,
    "start_time": "2021-12-21T18:56:07.112Z"
   },
   {
    "duration": 25,
    "start_time": "2021-12-21T18:56:07.196Z"
   },
   {
    "duration": 48,
    "start_time": "2021-12-21T18:56:07.224Z"
   },
   {
    "duration": 10,
    "start_time": "2021-12-21T18:56:07.275Z"
   },
   {
    "duration": 10,
    "start_time": "2021-12-21T18:56:07.288Z"
   },
   {
    "duration": 68,
    "start_time": "2021-12-21T18:56:07.300Z"
   },
   {
    "duration": 27,
    "start_time": "2021-12-21T18:56:07.370Z"
   },
   {
    "duration": 28,
    "start_time": "2021-12-21T18:56:07.399Z"
   },
   {
    "duration": 52,
    "start_time": "2021-12-21T18:56:07.429Z"
   },
   {
    "duration": 3739,
    "start_time": "2021-12-21T18:56:07.484Z"
   },
   {
    "duration": 39,
    "start_time": "2021-12-21T18:56:11.226Z"
   },
   {
    "duration": 5236,
    "start_time": "2021-12-21T18:56:11.269Z"
   },
   {
    "duration": 66,
    "start_time": "2021-12-21T18:56:16.508Z"
   },
   {
    "duration": 7,
    "start_time": "2021-12-21T18:56:16.577Z"
   },
   {
    "duration": 13,
    "start_time": "2021-12-21T18:56:16.588Z"
   },
   {
    "duration": 70,
    "start_time": "2021-12-21T18:56:16.604Z"
   },
   {
    "duration": 9,
    "start_time": "2021-12-21T18:56:16.676Z"
   },
   {
    "duration": 22,
    "start_time": "2021-12-21T18:56:16.691Z"
   },
   {
    "duration": 65,
    "start_time": "2021-12-21T18:56:16.716Z"
   },
   {
    "duration": 21,
    "start_time": "2021-12-21T18:56:16.784Z"
   },
   {
    "duration": 60,
    "start_time": "2021-12-21T18:56:16.808Z"
   },
   {
    "duration": 20,
    "start_time": "2021-12-21T18:56:16.871Z"
   },
   {
    "duration": 65,
    "start_time": "2021-12-21T18:56:16.895Z"
   },
   {
    "duration": 43,
    "start_time": "2021-12-21T18:56:16.963Z"
   },
   {
    "duration": 30,
    "start_time": "2021-12-21T19:00:04.492Z"
   },
   {
    "duration": 34,
    "start_time": "2021-12-21T19:00:10.172Z"
   },
   {
    "duration": 34,
    "start_time": "2021-12-21T19:00:24.053Z"
   },
   {
    "duration": 34,
    "start_time": "2021-12-21T19:00:29.197Z"
   },
   {
    "duration": 32,
    "start_time": "2021-12-21T19:00:31.444Z"
   },
   {
    "duration": 3,
    "start_time": "2021-12-21T19:01:50.677Z"
   },
   {
    "duration": 22,
    "start_time": "2021-12-21T19:01:53.524Z"
   },
   {
    "duration": 21,
    "start_time": "2021-12-21T19:01:55.528Z"
   },
   {
    "duration": 83,
    "start_time": "2021-12-21T19:02:07.426Z"
   },
   {
    "duration": 15,
    "start_time": "2021-12-21T19:02:07.512Z"
   },
   {
    "duration": 68,
    "start_time": "2021-12-21T19:02:07.530Z"
   },
   {
    "duration": 13,
    "start_time": "2021-12-21T19:02:07.601Z"
   },
   {
    "duration": 51,
    "start_time": "2021-12-21T19:02:07.618Z"
   },
   {
    "duration": 15,
    "start_time": "2021-12-21T19:02:07.672Z"
   },
   {
    "duration": 9,
    "start_time": "2021-12-21T19:02:07.690Z"
   },
   {
    "duration": 9,
    "start_time": "2021-12-21T19:02:07.702Z"
   },
   {
    "duration": 63,
    "start_time": "2021-12-21T19:02:07.714Z"
   },
   {
    "duration": 3,
    "start_time": "2021-12-21T19:02:07.780Z"
   },
   {
    "duration": 502,
    "start_time": "2021-12-21T19:02:10.236Z"
   },
   {
    "duration": 32,
    "start_time": "2021-12-21T19:02:16.380Z"
   },
   {
    "duration": 23,
    "start_time": "2021-12-21T19:03:16.246Z"
   },
   {
    "duration": 583,
    "start_time": "2021-12-21T19:11:53.013Z"
   },
   {
    "duration": 344,
    "start_time": "2021-12-21T19:13:03.245Z"
   },
   {
    "duration": 18,
    "start_time": "2021-12-21T19:13:09.077Z"
   },
   {
    "duration": 24,
    "start_time": "2021-12-21T19:13:10.998Z"
   },
   {
    "duration": 23,
    "start_time": "2021-12-21T19:13:19.580Z"
   },
   {
    "duration": 322,
    "start_time": "2021-12-21T19:14:12.389Z"
   },
   {
    "duration": 42,
    "start_time": "2021-12-21T19:14:22.676Z"
   },
   {
    "duration": 46,
    "start_time": "2021-12-21T19:14:25.907Z"
   },
   {
    "duration": 42,
    "start_time": "2021-12-21T19:14:32.492Z"
   },
   {
    "duration": 349,
    "start_time": "2021-12-21T21:35:50.346Z"
   },
   {
    "duration": 675,
    "start_time": "2021-12-21T21:35:54.771Z"
   },
   {
    "duration": 11,
    "start_time": "2021-12-21T21:35:55.448Z"
   },
   {
    "duration": 52,
    "start_time": "2021-12-21T21:35:55.461Z"
   },
   {
    "duration": 19,
    "start_time": "2021-12-21T21:35:55.515Z"
   },
   {
    "duration": 27,
    "start_time": "2021-12-21T21:35:55.535Z"
   },
   {
    "duration": 28,
    "start_time": "2021-12-21T21:35:55.564Z"
   },
   {
    "duration": 14,
    "start_time": "2021-12-21T21:35:55.594Z"
   },
   {
    "duration": 23,
    "start_time": "2021-12-21T21:35:55.611Z"
   },
   {
    "duration": 33,
    "start_time": "2021-12-21T21:35:55.636Z"
   },
   {
    "duration": 29,
    "start_time": "2021-12-21T21:35:55.671Z"
   },
   {
    "duration": 5,
    "start_time": "2021-12-21T21:35:55.702Z"
   },
   {
    "duration": 56,
    "start_time": "2021-12-21T21:35:55.709Z"
   },
   {
    "duration": 24,
    "start_time": "2021-12-21T21:35:55.766Z"
   },
   {
    "duration": 32,
    "start_time": "2021-12-21T21:35:55.792Z"
   },
   {
    "duration": 15,
    "start_time": "2021-12-21T21:35:55.826Z"
   },
   {
    "duration": 34,
    "start_time": "2021-12-21T21:35:55.842Z"
   },
   {
    "duration": 25,
    "start_time": "2021-12-21T21:35:55.877Z"
   },
   {
    "duration": 29,
    "start_time": "2021-12-21T21:35:55.903Z"
   },
   {
    "duration": 2375,
    "start_time": "2021-12-21T21:35:55.933Z"
   },
   {
    "duration": 16,
    "start_time": "2021-12-21T21:35:58.310Z"
   },
   {
    "duration": 3105,
    "start_time": "2021-12-21T21:35:58.327Z"
   },
   {
    "duration": 39,
    "start_time": "2021-12-21T21:36:01.433Z"
   },
   {
    "duration": 4,
    "start_time": "2021-12-21T21:36:01.475Z"
   },
   {
    "duration": 11,
    "start_time": "2021-12-21T21:36:01.481Z"
   },
   {
    "duration": 46,
    "start_time": "2021-12-21T21:36:01.494Z"
   },
   {
    "duration": 20,
    "start_time": "2021-12-21T21:36:01.541Z"
   },
   {
    "duration": 33,
    "start_time": "2021-12-21T21:36:01.563Z"
   },
   {
    "duration": 21,
    "start_time": "2021-12-21T21:36:01.598Z"
   },
   {
    "duration": 17,
    "start_time": "2021-12-21T21:36:01.621Z"
   },
   {
    "duration": 35,
    "start_time": "2021-12-21T21:36:01.640Z"
   },
   {
    "duration": 10,
    "start_time": "2021-12-21T21:36:01.677Z"
   },
   {
    "duration": 21,
    "start_time": "2021-12-21T21:36:01.688Z"
   },
   {
    "duration": 17,
    "start_time": "2021-12-21T21:36:01.711Z"
   },
   {
    "duration": 5,
    "start_time": "2021-12-21T21:36:31.587Z"
   },
   {
    "duration": 60,
    "start_time": "2021-12-21T21:37:10.316Z"
   },
   {
    "duration": 12,
    "start_time": "2021-12-21T21:37:10.497Z"
   },
   {
    "duration": 32,
    "start_time": "2021-12-21T21:37:10.666Z"
   },
   {
    "duration": 9,
    "start_time": "2021-12-21T21:37:12.259Z"
   },
   {
    "duration": 14,
    "start_time": "2021-12-21T21:37:12.450Z"
   },
   {
    "duration": 9,
    "start_time": "2021-12-21T21:37:12.780Z"
   },
   {
    "duration": 7,
    "start_time": "2021-12-21T21:37:13.694Z"
   },
   {
    "duration": 8,
    "start_time": "2021-12-21T21:37:13.890Z"
   },
   {
    "duration": 10,
    "start_time": "2021-12-21T21:37:14.102Z"
   },
   {
    "duration": 2,
    "start_time": "2021-12-21T21:37:14.339Z"
   },
   {
    "duration": 6,
    "start_time": "2021-12-21T21:37:18.118Z"
   },
   {
    "duration": 9,
    "start_time": "2021-12-21T21:37:18.838Z"
   },
   {
    "duration": 11,
    "start_time": "2021-12-21T21:37:25.460Z"
   },
   {
    "duration": 14,
    "start_time": "2021-12-21T21:37:34.900Z"
   },
   {
    "duration": 8,
    "start_time": "2021-12-21T21:37:55.653Z"
   },
   {
    "duration": 9,
    "start_time": "2021-12-21T21:38:07.761Z"
   },
   {
    "duration": 6,
    "start_time": "2021-12-21T21:38:14.917Z"
   },
   {
    "duration": 5,
    "start_time": "2021-12-21T21:38:24.674Z"
   },
   {
    "duration": 650,
    "start_time": "2021-12-21T21:41:52.074Z"
   },
   {
    "duration": 11,
    "start_time": "2021-12-21T21:41:52.725Z"
   },
   {
    "duration": 35,
    "start_time": "2021-12-21T21:41:52.741Z"
   },
   {
    "duration": 9,
    "start_time": "2021-12-21T21:41:52.778Z"
   },
   {
    "duration": 20,
    "start_time": "2021-12-21T21:41:52.788Z"
   },
   {
    "duration": 8,
    "start_time": "2021-12-21T21:41:52.810Z"
   },
   {
    "duration": 7,
    "start_time": "2021-12-21T21:41:52.820Z"
   },
   {
    "duration": 34,
    "start_time": "2021-12-21T21:41:52.829Z"
   },
   {
    "duration": 10,
    "start_time": "2021-12-21T21:41:52.865Z"
   },
   {
    "duration": 11,
    "start_time": "2021-12-21T21:41:52.877Z"
   },
   {
    "duration": 13,
    "start_time": "2021-12-21T21:41:52.890Z"
   },
   {
    "duration": 10,
    "start_time": "2021-12-21T21:41:52.904Z"
   },
   {
    "duration": 7,
    "start_time": "2021-12-21T21:41:52.916Z"
   },
   {
    "duration": 39,
    "start_time": "2021-12-21T21:41:52.924Z"
   },
   {
    "duration": 18,
    "start_time": "2021-12-21T21:41:52.965Z"
   },
   {
    "duration": 18,
    "start_time": "2021-12-21T21:41:52.985Z"
   },
   {
    "duration": 33,
    "start_time": "2021-12-21T21:41:53.005Z"
   },
   {
    "duration": 2603,
    "start_time": "2021-12-21T21:41:53.062Z"
   },
   {
    "duration": 17,
    "start_time": "2021-12-21T21:41:55.667Z"
   },
   {
    "duration": 3041,
    "start_time": "2021-12-21T21:41:55.686Z"
   },
   {
    "duration": 41,
    "start_time": "2021-12-21T21:41:58.730Z"
   },
   {
    "duration": 5,
    "start_time": "2021-12-21T21:41:58.773Z"
   },
   {
    "duration": 7,
    "start_time": "2021-12-21T21:41:58.779Z"
   },
   {
    "duration": 26,
    "start_time": "2021-12-21T21:41:58.788Z"
   },
   {
    "duration": 6,
    "start_time": "2021-12-21T21:41:58.815Z"
   },
   {
    "duration": 44,
    "start_time": "2021-12-21T21:41:58.824Z"
   },
   {
    "duration": 20,
    "start_time": "2021-12-21T21:41:58.870Z"
   },
   {
    "duration": 13,
    "start_time": "2021-12-21T21:41:58.892Z"
   },
   {
    "duration": 17,
    "start_time": "2021-12-21T21:41:58.907Z"
   },
   {
    "duration": 38,
    "start_time": "2021-12-21T21:41:58.925Z"
   },
   {
    "duration": 18,
    "start_time": "2021-12-21T21:41:58.965Z"
   },
   {
    "duration": 17,
    "start_time": "2021-12-21T21:41:58.984Z"
   },
   {
    "duration": 84,
    "start_time": "2021-12-22T15:20:44.003Z"
   },
   {
    "duration": 136,
    "start_time": "2021-12-22T15:20:56.492Z"
   },
   {
    "duration": 117,
    "start_time": "2021-12-22T15:21:14.880Z"
   },
   {
    "duration": 87,
    "start_time": "2021-12-22T15:21:35.587Z"
   },
   {
    "duration": 99,
    "start_time": "2021-12-22T15:21:44.482Z"
   },
   {
    "duration": 376,
    "start_time": "2021-12-22T15:21:52.427Z"
   },
   {
    "duration": 818,
    "start_time": "2021-12-22T15:22:00.767Z"
   },
   {
    "duration": 14,
    "start_time": "2021-12-22T15:22:01.588Z"
   },
   {
    "duration": 71,
    "start_time": "2021-12-22T15:22:01.605Z"
   },
   {
    "duration": 12,
    "start_time": "2021-12-22T15:22:01.679Z"
   },
   {
    "duration": 25,
    "start_time": "2021-12-22T15:22:01.693Z"
   },
   {
    "duration": 47,
    "start_time": "2021-12-22T15:22:01.720Z"
   },
   {
    "duration": 10,
    "start_time": "2021-12-22T15:22:01.770Z"
   },
   {
    "duration": 14,
    "start_time": "2021-12-22T15:22:01.783Z"
   },
   {
    "duration": 65,
    "start_time": "2021-12-22T15:22:05.051Z"
   },
   {
    "duration": 13,
    "start_time": "2021-12-22T15:22:08.668Z"
   },
   {
    "duration": 64,
    "start_time": "2021-12-22T15:23:29.922Z"
   },
   {
    "duration": 13,
    "start_time": "2021-12-22T15:23:31.555Z"
   },
   {
    "duration": 18,
    "start_time": "2021-12-22T15:28:44.379Z"
   },
   {
    "duration": 79,
    "start_time": "2021-12-22T15:28:58.504Z"
   },
   {
    "duration": 16,
    "start_time": "2021-12-22T15:28:58.586Z"
   },
   {
    "duration": 106,
    "start_time": "2021-12-22T15:28:58.606Z"
   },
   {
    "duration": 19,
    "start_time": "2021-12-22T15:28:58.716Z"
   },
   {
    "duration": 20,
    "start_time": "2021-12-22T15:28:58.763Z"
   },
   {
    "duration": 13,
    "start_time": "2021-12-22T15:28:58.786Z"
   },
   {
    "duration": 10,
    "start_time": "2021-12-22T15:28:58.801Z"
   },
   {
    "duration": 11,
    "start_time": "2021-12-22T15:28:58.865Z"
   },
   {
    "duration": 102,
    "start_time": "2021-12-22T15:28:58.879Z"
   },
   {
    "duration": 57,
    "start_time": "2021-12-22T15:28:58.983Z"
   },
   {
    "duration": 31,
    "start_time": "2021-12-22T15:28:59.043Z"
   },
   {
    "duration": 19,
    "start_time": "2021-12-22T15:28:59.076Z"
   },
   {
    "duration": 23,
    "start_time": "2021-12-22T15:28:59.097Z"
   },
   {
    "duration": 46,
    "start_time": "2021-12-22T15:28:59.122Z"
   },
   {
    "duration": 15,
    "start_time": "2021-12-22T15:28:59.170Z"
   },
   {
    "duration": 87,
    "start_time": "2021-12-22T15:28:59.188Z"
   },
   {
    "duration": 27,
    "start_time": "2021-12-22T15:28:59.277Z"
   },
   {
    "duration": 103,
    "start_time": "2021-12-22T15:28:59.307Z"
   },
   {
    "duration": 3306,
    "start_time": "2021-12-22T15:28:59.414Z"
   },
   {
    "duration": 21,
    "start_time": "2021-12-22T15:29:02.723Z"
   },
   {
    "duration": 4550,
    "start_time": "2021-12-22T15:29:02.764Z"
   },
   {
    "duration": 57,
    "start_time": "2021-12-22T15:29:07.319Z"
   },
   {
    "duration": 8,
    "start_time": "2021-12-22T15:29:07.381Z"
   },
   {
    "duration": 14,
    "start_time": "2021-12-22T15:29:07.392Z"
   },
   {
    "duration": 77,
    "start_time": "2021-12-22T15:29:07.409Z"
   },
   {
    "duration": 8,
    "start_time": "2021-12-22T15:29:07.489Z"
   },
   {
    "duration": 25,
    "start_time": "2021-12-22T15:29:07.500Z"
   },
   {
    "duration": 52,
    "start_time": "2021-12-22T15:29:07.565Z"
   },
   {
    "duration": 23,
    "start_time": "2021-12-22T15:29:07.620Z"
   },
   {
    "duration": 27,
    "start_time": "2021-12-22T15:29:07.662Z"
   },
   {
    "duration": 17,
    "start_time": "2021-12-22T15:29:07.692Z"
   },
   {
    "duration": 81,
    "start_time": "2021-12-22T15:29:07.712Z"
   },
   {
    "duration": 24,
    "start_time": "2021-12-22T15:29:07.796Z"
   },
   {
    "duration": 785,
    "start_time": "2022-02-13T09:20:05.671Z"
   },
   {
    "duration": 13,
    "start_time": "2022-02-13T09:20:06.458Z"
   },
   {
    "duration": 60,
    "start_time": "2022-02-13T09:20:06.474Z"
   },
   {
    "duration": 11,
    "start_time": "2022-02-13T09:20:06.536Z"
   },
   {
    "duration": 18,
    "start_time": "2022-02-13T09:20:06.549Z"
   },
   {
    "duration": 9,
    "start_time": "2022-02-13T09:20:06.569Z"
   },
   {
    "duration": 11,
    "start_time": "2022-02-13T09:20:06.606Z"
   },
   {
    "duration": 10,
    "start_time": "2022-02-13T09:20:06.621Z"
   },
   {
    "duration": 80,
    "start_time": "2022-02-13T09:20:06.633Z"
   },
   {
    "duration": 46,
    "start_time": "2022-02-13T09:20:06.715Z"
   },
   {
    "duration": 10,
    "start_time": "2022-02-13T09:20:06.763Z"
   },
   {
    "duration": 42,
    "start_time": "2022-02-13T09:20:06.775Z"
   },
   {
    "duration": 13,
    "start_time": "2022-02-13T09:20:06.819Z"
   },
   {
    "duration": 14,
    "start_time": "2022-02-13T09:20:06.834Z"
   },
   {
    "duration": 9,
    "start_time": "2022-02-13T09:20:06.850Z"
   },
   {
    "duration": 53,
    "start_time": "2022-02-13T09:20:06.861Z"
   },
   {
    "duration": 21,
    "start_time": "2022-02-13T09:20:06.916Z"
   },
   {
    "duration": 35,
    "start_time": "2022-02-13T09:20:06.939Z"
   },
   {
    "duration": 2578,
    "start_time": "2022-02-13T09:20:06.976Z"
   },
   {
    "duration": 19,
    "start_time": "2022-02-13T09:20:09.557Z"
   },
   {
    "duration": 4035,
    "start_time": "2022-02-13T09:20:09.578Z"
   },
   {
    "duration": 40,
    "start_time": "2022-02-13T09:20:13.616Z"
   },
   {
    "duration": 5,
    "start_time": "2022-02-13T09:20:13.659Z"
   },
   {
    "duration": 25,
    "start_time": "2022-02-13T09:20:13.666Z"
   },
   {
    "duration": 43,
    "start_time": "2022-02-13T09:20:13.693Z"
   },
   {
    "duration": 9,
    "start_time": "2022-02-13T09:20:13.739Z"
   },
   {
    "duration": 28,
    "start_time": "2022-02-13T09:20:13.750Z"
   },
   {
    "duration": 44,
    "start_time": "2022-02-13T09:20:13.780Z"
   },
   {
    "duration": 17,
    "start_time": "2022-02-13T09:20:13.825Z"
   },
   {
    "duration": 21,
    "start_time": "2022-02-13T09:20:13.844Z"
   },
   {
    "duration": 17,
    "start_time": "2022-02-13T09:20:13.867Z"
   },
   {
    "duration": 40,
    "start_time": "2022-02-13T09:20:13.886Z"
   },
   {
    "duration": 18,
    "start_time": "2022-02-13T09:20:13.928Z"
   }
  ],
  "kernelspec": {
   "display_name": "Python 3 (ipykernel)",
   "language": "python",
   "name": "python3"
  },
  "language_info": {
   "codemirror_mode": {
    "name": "ipython",
    "version": 3
   },
   "file_extension": ".py",
   "mimetype": "text/x-python",
   "name": "python",
   "nbconvert_exporter": "python",
   "pygments_lexer": "ipython3",
   "version": "3.9.7"
  },
  "toc": {
   "base_numbering": 1,
   "nav_menu": {},
   "number_sections": true,
   "sideBar": true,
   "skip_h1_title": true,
   "title_cell": "Table of Contents",
   "title_sidebar": "Contents",
   "toc_cell": false,
   "toc_position": {},
   "toc_section_display": true,
   "toc_window_display": false
  }
 },
 "nbformat": 4,
 "nbformat_minor": 2
}
