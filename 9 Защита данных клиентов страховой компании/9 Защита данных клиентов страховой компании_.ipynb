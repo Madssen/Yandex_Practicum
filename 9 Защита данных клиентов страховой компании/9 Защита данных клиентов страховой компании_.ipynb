{
 "cells": [
  {
   "cell_type": "markdown",
   "metadata": {
    "toc": true
   },
   "source": [
    "<h1>Содержание<span class=\"tocSkip\"></span></h1>\n",
    "<div class=\"toc\"><ul class=\"toc-item\"><li><span><a href=\"#Загрузка-данных\" data-toc-modified-id=\"Загрузка-данных-1\"><span class=\"toc-item-num\">1&nbsp;&nbsp;</span>Загрузка данных</a></span></li><li><span><a href=\"#Умножение-матриц\" data-toc-modified-id=\"Умножение-матриц-2\"><span class=\"toc-item-num\">2&nbsp;&nbsp;</span>Умножение матриц</a></span></li><li><span><a href=\"#Алгоритм-преобразования\" data-toc-modified-id=\"Алгоритм-преобразования-3\"><span class=\"toc-item-num\">3&nbsp;&nbsp;</span>Алгоритм преобразования</a></span></li><li><span><a href=\"#Проверка-алгоритма\" data-toc-modified-id=\"Проверка-алгоритма-4\"><span class=\"toc-item-num\">4&nbsp;&nbsp;</span>Проверка алгоритма</a></span></li><li><span><a href=\"#Чек-лист-проверки\" data-toc-modified-id=\"Чек-лист-проверки-5\"><span class=\"toc-item-num\">5&nbsp;&nbsp;</span>Чек-лист проверки</a></span></li></ul></div>"
   ]
  },
  {
   "cell_type": "markdown",
   "metadata": {},
   "source": [
    "# Защита персональных данных клиентов"
   ]
  },
  {
   "cell_type": "markdown",
   "metadata": {},
   "source": [
    "Вам нужно защитить данные клиентов страховой компании «Хоть потоп». Разработайте такой метод преобразования данных, чтобы по ним было сложно восстановить персональную информацию. Обоснуйте корректность его работы.\n",
    "\n",
    "Нужно защитить данные, чтобы при преобразовании качество моделей машинного обучения не ухудшилось. Подбирать наилучшую модель не требуется."
   ]
  },
  {
   "cell_type": "markdown",
   "metadata": {},
   "source": [
    "**Описание данных**\n",
    " - Признаки: пол, возраст и зарплата застрахованного, количество членов его семьи.\n",
    " - Целевой признак: количество страховых выплат клиенту за последние 5 лет."
   ]
  },
  {
   "cell_type": "markdown",
   "metadata": {},
   "source": [
    "## Загрузка данных"
   ]
  },
  {
   "cell_type": "code",
   "execution_count": 1,
   "metadata": {},
   "outputs": [],
   "source": [
    "import pandas as pd\n",
    "import numpy as np\n",
    "import matplotlib.pyplot as plt\n",
    "import seaborn as sns\n",
    "from sklearn.metrics import r2_score\n",
    "from sklearn.preprocessing import StandardScaler\n",
    "from sklearn.linear_model import LinearRegression"
   ]
  },
  {
   "cell_type": "code",
   "execution_count": 2,
   "metadata": {},
   "outputs": [
    {
     "data": {
      "text/html": [
       "<div>\n",
       "<style scoped>\n",
       "    .dataframe tbody tr th:only-of-type {\n",
       "        vertical-align: middle;\n",
       "    }\n",
       "\n",
       "    .dataframe tbody tr th {\n",
       "        vertical-align: top;\n",
       "    }\n",
       "\n",
       "    .dataframe thead th {\n",
       "        text-align: right;\n",
       "    }\n",
       "</style>\n",
       "<table border=\"1\" class=\"dataframe\">\n",
       "  <thead>\n",
       "    <tr style=\"text-align: right;\">\n",
       "      <th></th>\n",
       "      <th>Пол</th>\n",
       "      <th>Возраст</th>\n",
       "      <th>Зарплата</th>\n",
       "      <th>Члены семьи</th>\n",
       "      <th>Страховые выплаты</th>\n",
       "    </tr>\n",
       "  </thead>\n",
       "  <tbody>\n",
       "    <tr>\n",
       "      <th>0</th>\n",
       "      <td>1</td>\n",
       "      <td>41.0</td>\n",
       "      <td>49600.0</td>\n",
       "      <td>1</td>\n",
       "      <td>0</td>\n",
       "    </tr>\n",
       "    <tr>\n",
       "      <th>1</th>\n",
       "      <td>0</td>\n",
       "      <td>46.0</td>\n",
       "      <td>38000.0</td>\n",
       "      <td>1</td>\n",
       "      <td>1</td>\n",
       "    </tr>\n",
       "    <tr>\n",
       "      <th>2</th>\n",
       "      <td>0</td>\n",
       "      <td>29.0</td>\n",
       "      <td>21000.0</td>\n",
       "      <td>0</td>\n",
       "      <td>0</td>\n",
       "    </tr>\n",
       "    <tr>\n",
       "      <th>3</th>\n",
       "      <td>0</td>\n",
       "      <td>21.0</td>\n",
       "      <td>41700.0</td>\n",
       "      <td>2</td>\n",
       "      <td>0</td>\n",
       "    </tr>\n",
       "    <tr>\n",
       "      <th>4</th>\n",
       "      <td>1</td>\n",
       "      <td>28.0</td>\n",
       "      <td>26100.0</td>\n",
       "      <td>0</td>\n",
       "      <td>0</td>\n",
       "    </tr>\n",
       "  </tbody>\n",
       "</table>\n",
       "</div>"
      ],
      "text/plain": [
       "   Пол  Возраст  Зарплата  Члены семьи  Страховые выплаты\n",
       "0    1     41.0   49600.0            1                  0\n",
       "1    0     46.0   38000.0            1                  1\n",
       "2    0     29.0   21000.0            0                  0\n",
       "3    0     21.0   41700.0            2                  0\n",
       "4    1     28.0   26100.0            0                  0"
      ]
     },
     "execution_count": 2,
     "metadata": {},
     "output_type": "execute_result"
    }
   ],
   "source": [
    "df = pd.read_csv('/datasets/insurance.csv')\n",
    "df.head()"
   ]
  },
  {
   "cell_type": "code",
   "execution_count": 3,
   "metadata": {},
   "outputs": [
    {
     "name": "stdout",
     "output_type": "stream",
     "text": [
      "<class 'pandas.core.frame.DataFrame'>\n",
      "RangeIndex: 5000 entries, 0 to 4999\n",
      "Data columns (total 5 columns):\n",
      " #   Column             Non-Null Count  Dtype  \n",
      "---  ------             --------------  -----  \n",
      " 0   Пол                5000 non-null   int64  \n",
      " 1   Возраст            5000 non-null   float64\n",
      " 2   Зарплата           5000 non-null   float64\n",
      " 3   Члены семьи        5000 non-null   int64  \n",
      " 4   Страховые выплаты  5000 non-null   int64  \n",
      "dtypes: float64(2), int64(3)\n",
      "memory usage: 195.4 KB\n"
     ]
    }
   ],
   "source": [
    "df.info()"
   ]
  },
  {
   "cell_type": "code",
   "execution_count": 4,
   "metadata": {},
   "outputs": [
    {
     "data": {
      "text/plain": [
       "153"
      ]
     },
     "execution_count": 4,
     "metadata": {},
     "output_type": "execute_result"
    }
   ],
   "source": [
    "df.duplicated().sum()"
   ]
  },
  {
   "cell_type": "markdown",
   "metadata": {},
   "source": [
    "Имеются дубликаты, но с учетом данных таблицы, такое возможно, удалять их смысла нет"
   ]
  },
  {
   "cell_type": "code",
   "execution_count": 5,
   "metadata": {},
   "outputs": [],
   "source": [
    "df.columns=['sex', 'age', 'salary', 'family', 'payments']"
   ]
  },
  {
   "cell_type": "markdown",
   "metadata": {},
   "source": [
    "Преобразуем признаки и целевой признак в векторы:"
   ]
  },
  {
   "cell_type": "code",
   "execution_count": 6,
   "metadata": {},
   "outputs": [
    {
     "data": {
      "text/plain": [
       "(array([[1.00e+00, 4.10e+01, 4.96e+04, 1.00e+00],\n",
       "        [0.00e+00, 4.60e+01, 3.80e+04, 1.00e+00],\n",
       "        [0.00e+00, 2.90e+01, 2.10e+04, 0.00e+00],\n",
       "        ...,\n",
       "        [0.00e+00, 2.00e+01, 3.39e+04, 2.00e+00],\n",
       "        [1.00e+00, 2.20e+01, 3.27e+04, 3.00e+00],\n",
       "        [1.00e+00, 2.80e+01, 4.06e+04, 1.00e+00]]),\n",
       " array([0, 1, 0, ..., 0, 0, 0]))"
      ]
     },
     "execution_count": 6,
     "metadata": {},
     "output_type": "execute_result"
    }
   ],
   "source": [
    "X = df.drop('payments', axis=1).values\n",
    "y = df.payments.values\n",
    "X, y"
   ]
  },
  {
   "cell_type": "markdown",
   "metadata": {},
   "source": [
    "## Умножение матриц"
   ]
  },
  {
   "cell_type": "markdown",
   "metadata": {},
   "source": [
    "В этом задании вы можете записывать формулы в *Jupyter Notebook.*\n",
    "\n",
    "Чтобы записать формулу внутри текста, окружите её символами доллара \\\\$; если снаружи —  двойными символами \\\\$\\\\$. Эти формулы записываются на языке вёрстки *LaTeX.* \n",
    "\n",
    "Для примера мы записали формулы линейной регрессии. Можете их скопировать и отредактировать, чтобы решить задачу.\n",
    "\n",
    "Работать в *LaTeX* необязательно."
   ]
  },
  {
   "cell_type": "markdown",
   "metadata": {},
   "source": [
    "Обозначения:\n",
    "\n",
    "- $X$ — матрица признаков (нулевой столбец состоит из единиц)\n",
    "\n",
    "- $y$ — вектор целевого признака\n",
    "\n",
    "- $P$ — матрица, на которую умножаются признаки\n",
    "\n",
    "- $w$ — вектор весов линейной регрессии (нулевой элемент равен сдвигу)"
   ]
  },
  {
   "cell_type": "markdown",
   "metadata": {},
   "source": [
    "Предсказания:\n",
    "\n",
    "$$\n",
    "a = Xw\n",
    "$$\n",
    "\n",
    "Задача обучения:\n",
    "\n",
    "$$\n",
    "w = \\arg\\min_w MSE(Xw, y)\n",
    "$$\n",
    "\n",
    "Формула обучения:\n",
    "\n",
    "$$\n",
    "w = (X^T X)^{-1} X^T y\n",
    "$$"
   ]
  },
  {
   "cell_type": "markdown",
   "metadata": {},
   "source": [
    "**Ответ:** При умножении признаков на обратимую матрицу качество линейной регрессии не изменится.\n",
    "\n",
    "**Обоснование:**\n",
    "\n",
    "Вместо $X - XP$\n",
    "\n",
    "$$\n",
    "a_{new} = XPw_{new}\n",
    "$$\n",
    "$$\n",
    "w_{new} = ((XP)^TXP)^{-1}(XP)^Ty\n",
    "$$\n",
    "\n",
    "подставим w_{new} в a_{new} и преобразуем:\n",
    "\n",
    "$$\n",
    "a_{new} = XP((XP)^TXP)^{-1}(XP)^Ty = XP(P^TX^TXP)^{-1}P^TX^Ty = XP(X^TXP)^{-1}(P^T)^{-1}P^TX^Ty = XPP^{-1}(X^TX)^{-1}P^TX^Ty = XE(X^TX)^{-1}EX^Ty=X(X^TX)^{-1}X^Ty=Xw\n",
    "$$\n",
    "\n",
    "Примечания:\n",
    "$$\n",
    "(AB)^T=B^TA^T\n",
    "$$\n",
    "\n",
    "Таким образом:\n",
    "$$\n",
    "a_{new} = a\n",
    "$$\n",
    "\n"
   ]
  },
  {
   "cell_type": "markdown",
   "metadata": {},
   "source": [
    "Проверим изначальные значения линейной регрессии:"
   ]
  },
  {
   "cell_type": "code",
   "execution_count": 7,
   "metadata": {},
   "outputs": [],
   "source": [
    "class Linear_r2: #Обучение линейной регрессии на признаках\n",
    "    def __init__(self, features, target):\n",
    "        self.model = LinearRegression()\n",
    "        self.preds = self.model.fit(features, target).predict(features)\n",
    "        self.score = r2_score(target, self.preds)"
   ]
  },
  {
   "cell_type": "code",
   "execution_count": 8,
   "metadata": {},
   "outputs": [
    {
     "data": {
      "text/plain": [
       "0.42494550286668"
      ]
     },
     "execution_count": 8,
     "metadata": {},
     "output_type": "execute_result"
    }
   ],
   "source": [
    "r2_initial = Linear_r2(X, y)\n",
    "r2_initial.score"
   ]
  },
  {
   "cell_type": "markdown",
   "metadata": {},
   "source": [
    "Отталкиевамся от значения R2 = 0.42"
   ]
  },
  {
   "cell_type": "markdown",
   "metadata": {},
   "source": [
    "Создаем произвольную матрицу:"
   ]
  },
  {
   "cell_type": "code",
   "execution_count": 9,
   "metadata": {},
   "outputs": [
    {
     "data": {
      "text/plain": [
       "array([[61, 29, 98, 87],\n",
       "       [67, 77, 86, 43],\n",
       "       [59, 64, 37, 86],\n",
       "       [98, 95, 27, 30]])"
      ]
     },
     "execution_count": 9,
     "metadata": {},
     "output_type": "execute_result"
    }
   ],
   "source": [
    "np.random.seed(125)\n",
    "P = np.random.randint(100, size=(X.shape[1], X.shape[1]))\n",
    "P"
   ]
  },
  {
   "cell_type": "code",
   "execution_count": 10,
   "metadata": {},
   "outputs": [
    {
     "data": {
      "text/plain": [
       "array([[ 0.01946318, -0.02235339, -0.01668047,  0.02341399],\n",
       "       [-0.02140401,  0.021283  ,  0.01448086, -0.00994578],\n",
       "       [ 0.00345646,  0.0130447 , -0.00779438, -0.00637725],\n",
       "       [ 0.00108884, -0.0061153 ,  0.01564843, -0.00591787]])"
      ]
     },
     "execution_count": 10,
     "metadata": {},
     "output_type": "execute_result"
    }
   ],
   "source": [
    "# Проверка обратимости матрицы P\n",
    "P_inv = np.linalg.inv(P)\n",
    "P_inv"
   ]
  },
  {
   "cell_type": "code",
   "execution_count": 11,
   "metadata": {},
   "outputs": [
    {
     "data": {
      "text/plain": [
       "(5000, 4)"
      ]
     },
     "execution_count": 11,
     "metadata": {},
     "output_type": "execute_result"
    }
   ],
   "source": [
    "# Преобразование признаков  через матрицу P\n",
    "X_transformed = X @ P\n",
    "X_transformed.shape"
   ]
  },
  {
   "cell_type": "code",
   "execution_count": 12,
   "metadata": {},
   "outputs": [
    {
     "data": {
      "text/plain": [
       "array([[2929306., 3177681., 1838851., 4267480.],\n",
       "       [2245180., 2435637., 1409983., 3270008.],\n",
       "       [1240943., 1346233.,  779494., 1807247.],\n",
       "       ...,\n",
       "       [2001636., 2171330., 1256074., 2916320.],\n",
       "       [1931129., 2094808., 1211971., 2813323.],\n",
       "       [2397435., 2600680., 1504733., 3492921.]])"
      ]
     },
     "execution_count": 12,
     "metadata": {},
     "output_type": "execute_result"
    }
   ],
   "source": [
    "X_transformed"
   ]
  },
  {
   "cell_type": "markdown",
   "metadata": {},
   "source": [
    "Обучим линейную регрессию и измерим её R2."
   ]
  },
  {
   "cell_type": "code",
   "execution_count": 13,
   "metadata": {},
   "outputs": [
    {
     "data": {
      "text/plain": [
       "0.4249455028666701"
      ]
     },
     "execution_count": 13,
     "metadata": {},
     "output_type": "execute_result"
    }
   ],
   "source": [
    "r2_transformed = Linear_r2(X_transformed, y)\n",
    "r2_transformed.score"
   ]
  },
  {
   "cell_type": "markdown",
   "metadata": {},
   "source": [
    "**Вывод: Как мы видим, значительных изменений метрики R2 не произошло, что соответвует обоснованию выше**"
   ]
  },
  {
   "cell_type": "markdown",
   "metadata": {},
   "source": [
    "## Алгоритм преобразования"
   ]
  },
  {
   "cell_type": "code",
   "execution_count": 14,
   "metadata": {},
   "outputs": [],
   "source": [
    "features = df.drop('payments', axis=1)\n",
    "target = df['payments']"
   ]
  },
  {
   "cell_type": "markdown",
   "metadata": {},
   "source": [
    "Напишем алгоритм - функцию преобразования исходных данных в зашифрованный вид, закодировав исходную матрицу:"
   ]
  },
  {
   "cell_type": "code",
   "execution_count": 15,
   "metadata": {},
   "outputs": [],
   "source": [
    "def encode(features):\n",
    "    random_matrix = np.random.normal(0, 1, (features.shape[1], features.shape[1]))\n",
    "    encoded_features = features.dot(random_matrix)\n",
    "    return encoded_features"
   ]
  },
  {
   "cell_type": "code",
   "execution_count": 16,
   "metadata": {},
   "outputs": [
    {
     "data": {
      "text/html": [
       "<div>\n",
       "<style scoped>\n",
       "    .dataframe tbody tr th:only-of-type {\n",
       "        vertical-align: middle;\n",
       "    }\n",
       "\n",
       "    .dataframe tbody tr th {\n",
       "        vertical-align: top;\n",
       "    }\n",
       "\n",
       "    .dataframe thead th {\n",
       "        text-align: right;\n",
       "    }\n",
       "</style>\n",
       "<table border=\"1\" class=\"dataframe\">\n",
       "  <thead>\n",
       "    <tr style=\"text-align: right;\">\n",
       "      <th></th>\n",
       "      <th>0</th>\n",
       "      <th>1</th>\n",
       "      <th>2</th>\n",
       "      <th>3</th>\n",
       "    </tr>\n",
       "  </thead>\n",
       "  <tbody>\n",
       "    <tr>\n",
       "      <th>0</th>\n",
       "      <td>-21691.210848</td>\n",
       "      <td>-45845.997865</td>\n",
       "      <td>-52040.368065</td>\n",
       "      <td>-44175.332613</td>\n",
       "    </tr>\n",
       "    <tr>\n",
       "      <th>1</th>\n",
       "      <td>-16614.188114</td>\n",
       "      <td>-35152.312990</td>\n",
       "      <td>-39841.967091</td>\n",
       "      <td>-33839.570952</td>\n",
       "    </tr>\n",
       "    <tr>\n",
       "      <th>2</th>\n",
       "      <td>-9179.083914</td>\n",
       "      <td>-19432.278091</td>\n",
       "      <td>-22011.256807</td>\n",
       "      <td>-18700.572688</td>\n",
       "    </tr>\n",
       "    <tr>\n",
       "      <th>3</th>\n",
       "      <td>-18243.070361</td>\n",
       "      <td>-38519.504316</td>\n",
       "      <td>-43777.258141</td>\n",
       "      <td>-37139.669494</td>\n",
       "    </tr>\n",
       "    <tr>\n",
       "      <th>4</th>\n",
       "      <td>-11411.009548</td>\n",
       "      <td>-24136.321137</td>\n",
       "      <td>-27371.918049</td>\n",
       "      <td>-23245.428371</td>\n",
       "    </tr>\n",
       "    <tr>\n",
       "      <th>...</th>\n",
       "      <td>...</td>\n",
       "      <td>...</td>\n",
       "      <td>...</td>\n",
       "      <td>...</td>\n",
       "    </tr>\n",
       "    <tr>\n",
       "      <th>4995</th>\n",
       "      <td>-15615.819480</td>\n",
       "      <td>-32997.005057</td>\n",
       "      <td>-37459.194168</td>\n",
       "      <td>-31793.546537</td>\n",
       "    </tr>\n",
       "    <tr>\n",
       "      <th>4996</th>\n",
       "      <td>-22918.128322</td>\n",
       "      <td>-48415.599946</td>\n",
       "      <td>-54996.172176</td>\n",
       "      <td>-46669.291904</td>\n",
       "    </tr>\n",
       "    <tr>\n",
       "      <th>4997</th>\n",
       "      <td>-14830.720312</td>\n",
       "      <td>-31320.710234</td>\n",
       "      <td>-35583.024839</td>\n",
       "      <td>-30191.759414</td>\n",
       "    </tr>\n",
       "    <tr>\n",
       "      <th>4998</th>\n",
       "      <td>-14307.802180</td>\n",
       "      <td>-30219.386674</td>\n",
       "      <td>-34317.740367</td>\n",
       "      <td>-29123.193911</td>\n",
       "    </tr>\n",
       "    <tr>\n",
       "      <th>4999</th>\n",
       "      <td>-17757.491778</td>\n",
       "      <td>-37516.772881</td>\n",
       "      <td>-42608.061392</td>\n",
       "      <td>-36160.917431</td>\n",
       "    </tr>\n",
       "  </tbody>\n",
       "</table>\n",
       "<p>5000 rows × 4 columns</p>\n",
       "</div>"
      ],
      "text/plain": [
       "                 0             1             2             3\n",
       "0    -21691.210848 -45845.997865 -52040.368065 -44175.332613\n",
       "1    -16614.188114 -35152.312990 -39841.967091 -33839.570952\n",
       "2     -9179.083914 -19432.278091 -22011.256807 -18700.572688\n",
       "3    -18243.070361 -38519.504316 -43777.258141 -37139.669494\n",
       "4    -11411.009548 -24136.321137 -27371.918049 -23245.428371\n",
       "...            ...           ...           ...           ...\n",
       "4995 -15615.819480 -32997.005057 -37459.194168 -31793.546537\n",
       "4996 -22918.128322 -48415.599946 -54996.172176 -46669.291904\n",
       "4997 -14830.720312 -31320.710234 -35583.024839 -30191.759414\n",
       "4998 -14307.802180 -30219.386674 -34317.740367 -29123.193911\n",
       "4999 -17757.491778 -37516.772881 -42608.061392 -36160.917431\n",
       "\n",
       "[5000 rows x 4 columns]"
      ]
     },
     "execution_count": 16,
     "metadata": {},
     "output_type": "execute_result"
    }
   ],
   "source": [
    "encode(features)"
   ]
  },
  {
   "cell_type": "markdown",
   "metadata": {},
   "source": [
    "Для расшифровки данных напишем алгоритм - функцию дешифрования, принимающая на вход зашифрованную матрицу encoded_features и возвращающая исходную features:"
   ]
  },
  {
   "cell_type": "code",
   "execution_count": 17,
   "metadata": {},
   "outputs": [],
   "source": [
    "encoded_features = features.dot(P)"
   ]
  },
  {
   "cell_type": "code",
   "execution_count": 18,
   "metadata": {},
   "outputs": [],
   "source": [
    "def decode(encoded_features):\n",
    "    decoded_features = round(abs(encoded_features.dot(np.linalg.inv(P))))\n",
    "    for i in decoded_features.iloc[:, [0, 3]]:\n",
    "        decoded_features[i] = decoded_features[i].astype(int)\n",
    "    decoded_features.columns = features.columns\n",
    "    return decoded_features"
   ]
  },
  {
   "cell_type": "code",
   "execution_count": 19,
   "metadata": {},
   "outputs": [
    {
     "data": {
      "text/html": [
       "<div>\n",
       "<style scoped>\n",
       "    .dataframe tbody tr th:only-of-type {\n",
       "        vertical-align: middle;\n",
       "    }\n",
       "\n",
       "    .dataframe tbody tr th {\n",
       "        vertical-align: top;\n",
       "    }\n",
       "\n",
       "    .dataframe thead th {\n",
       "        text-align: right;\n",
       "    }\n",
       "</style>\n",
       "<table border=\"1\" class=\"dataframe\">\n",
       "  <thead>\n",
       "    <tr style=\"text-align: right;\">\n",
       "      <th></th>\n",
       "      <th>sex</th>\n",
       "      <th>age</th>\n",
       "      <th>salary</th>\n",
       "      <th>family</th>\n",
       "    </tr>\n",
       "  </thead>\n",
       "  <tbody>\n",
       "    <tr>\n",
       "      <th>0</th>\n",
       "      <td>1</td>\n",
       "      <td>41.0</td>\n",
       "      <td>49600.0</td>\n",
       "      <td>1</td>\n",
       "    </tr>\n",
       "    <tr>\n",
       "      <th>1</th>\n",
       "      <td>0</td>\n",
       "      <td>46.0</td>\n",
       "      <td>38000.0</td>\n",
       "      <td>1</td>\n",
       "    </tr>\n",
       "    <tr>\n",
       "      <th>2</th>\n",
       "      <td>0</td>\n",
       "      <td>29.0</td>\n",
       "      <td>21000.0</td>\n",
       "      <td>0</td>\n",
       "    </tr>\n",
       "    <tr>\n",
       "      <th>3</th>\n",
       "      <td>0</td>\n",
       "      <td>21.0</td>\n",
       "      <td>41700.0</td>\n",
       "      <td>2</td>\n",
       "    </tr>\n",
       "    <tr>\n",
       "      <th>4</th>\n",
       "      <td>1</td>\n",
       "      <td>28.0</td>\n",
       "      <td>26100.0</td>\n",
       "      <td>0</td>\n",
       "    </tr>\n",
       "    <tr>\n",
       "      <th>...</th>\n",
       "      <td>...</td>\n",
       "      <td>...</td>\n",
       "      <td>...</td>\n",
       "      <td>...</td>\n",
       "    </tr>\n",
       "    <tr>\n",
       "      <th>4995</th>\n",
       "      <td>0</td>\n",
       "      <td>28.0</td>\n",
       "      <td>35700.0</td>\n",
       "      <td>2</td>\n",
       "    </tr>\n",
       "    <tr>\n",
       "      <th>4996</th>\n",
       "      <td>0</td>\n",
       "      <td>34.0</td>\n",
       "      <td>52400.0</td>\n",
       "      <td>1</td>\n",
       "    </tr>\n",
       "    <tr>\n",
       "      <th>4997</th>\n",
       "      <td>0</td>\n",
       "      <td>20.0</td>\n",
       "      <td>33900.0</td>\n",
       "      <td>2</td>\n",
       "    </tr>\n",
       "    <tr>\n",
       "      <th>4998</th>\n",
       "      <td>1</td>\n",
       "      <td>22.0</td>\n",
       "      <td>32700.0</td>\n",
       "      <td>3</td>\n",
       "    </tr>\n",
       "    <tr>\n",
       "      <th>4999</th>\n",
       "      <td>1</td>\n",
       "      <td>28.0</td>\n",
       "      <td>40600.0</td>\n",
       "      <td>1</td>\n",
       "    </tr>\n",
       "  </tbody>\n",
       "</table>\n",
       "<p>5000 rows × 4 columns</p>\n",
       "</div>"
      ],
      "text/plain": [
       "      sex   age   salary  family\n",
       "0       1  41.0  49600.0       1\n",
       "1       0  46.0  38000.0       1\n",
       "2       0  29.0  21000.0       0\n",
       "3       0  21.0  41700.0       2\n",
       "4       1  28.0  26100.0       0\n",
       "...   ...   ...      ...     ...\n",
       "4995    0  28.0  35700.0       2\n",
       "4996    0  34.0  52400.0       1\n",
       "4997    0  20.0  33900.0       2\n",
       "4998    1  22.0  32700.0       3\n",
       "4999    1  28.0  40600.0       1\n",
       "\n",
       "[5000 rows x 4 columns]"
      ]
     },
     "execution_count": 19,
     "metadata": {},
     "output_type": "execute_result"
    }
   ],
   "source": [
    "decode(encoded_features)"
   ]
  },
  {
   "cell_type": "markdown",
   "metadata": {},
   "source": [
    "Сравним с исходными features:"
   ]
  },
  {
   "cell_type": "code",
   "execution_count": 20,
   "metadata": {},
   "outputs": [
    {
     "data": {
      "text/html": [
       "<div>\n",
       "<style scoped>\n",
       "    .dataframe tbody tr th:only-of-type {\n",
       "        vertical-align: middle;\n",
       "    }\n",
       "\n",
       "    .dataframe tbody tr th {\n",
       "        vertical-align: top;\n",
       "    }\n",
       "\n",
       "    .dataframe thead th {\n",
       "        text-align: right;\n",
       "    }\n",
       "</style>\n",
       "<table border=\"1\" class=\"dataframe\">\n",
       "  <thead>\n",
       "    <tr style=\"text-align: right;\">\n",
       "      <th></th>\n",
       "      <th>sex</th>\n",
       "      <th>age</th>\n",
       "      <th>salary</th>\n",
       "      <th>family</th>\n",
       "    </tr>\n",
       "  </thead>\n",
       "  <tbody>\n",
       "    <tr>\n",
       "      <th>0</th>\n",
       "      <td>1</td>\n",
       "      <td>41.0</td>\n",
       "      <td>49600.0</td>\n",
       "      <td>1</td>\n",
       "    </tr>\n",
       "    <tr>\n",
       "      <th>1</th>\n",
       "      <td>0</td>\n",
       "      <td>46.0</td>\n",
       "      <td>38000.0</td>\n",
       "      <td>1</td>\n",
       "    </tr>\n",
       "    <tr>\n",
       "      <th>2</th>\n",
       "      <td>0</td>\n",
       "      <td>29.0</td>\n",
       "      <td>21000.0</td>\n",
       "      <td>0</td>\n",
       "    </tr>\n",
       "    <tr>\n",
       "      <th>3</th>\n",
       "      <td>0</td>\n",
       "      <td>21.0</td>\n",
       "      <td>41700.0</td>\n",
       "      <td>2</td>\n",
       "    </tr>\n",
       "    <tr>\n",
       "      <th>4</th>\n",
       "      <td>1</td>\n",
       "      <td>28.0</td>\n",
       "      <td>26100.0</td>\n",
       "      <td>0</td>\n",
       "    </tr>\n",
       "    <tr>\n",
       "      <th>...</th>\n",
       "      <td>...</td>\n",
       "      <td>...</td>\n",
       "      <td>...</td>\n",
       "      <td>...</td>\n",
       "    </tr>\n",
       "    <tr>\n",
       "      <th>4995</th>\n",
       "      <td>0</td>\n",
       "      <td>28.0</td>\n",
       "      <td>35700.0</td>\n",
       "      <td>2</td>\n",
       "    </tr>\n",
       "    <tr>\n",
       "      <th>4996</th>\n",
       "      <td>0</td>\n",
       "      <td>34.0</td>\n",
       "      <td>52400.0</td>\n",
       "      <td>1</td>\n",
       "    </tr>\n",
       "    <tr>\n",
       "      <th>4997</th>\n",
       "      <td>0</td>\n",
       "      <td>20.0</td>\n",
       "      <td>33900.0</td>\n",
       "      <td>2</td>\n",
       "    </tr>\n",
       "    <tr>\n",
       "      <th>4998</th>\n",
       "      <td>1</td>\n",
       "      <td>22.0</td>\n",
       "      <td>32700.0</td>\n",
       "      <td>3</td>\n",
       "    </tr>\n",
       "    <tr>\n",
       "      <th>4999</th>\n",
       "      <td>1</td>\n",
       "      <td>28.0</td>\n",
       "      <td>40600.0</td>\n",
       "      <td>1</td>\n",
       "    </tr>\n",
       "  </tbody>\n",
       "</table>\n",
       "<p>5000 rows × 4 columns</p>\n",
       "</div>"
      ],
      "text/plain": [
       "      sex   age   salary  family\n",
       "0       1  41.0  49600.0       1\n",
       "1       0  46.0  38000.0       1\n",
       "2       0  29.0  21000.0       0\n",
       "3       0  21.0  41700.0       2\n",
       "4       1  28.0  26100.0       0\n",
       "...   ...   ...      ...     ...\n",
       "4995    0  28.0  35700.0       2\n",
       "4996    0  34.0  52400.0       1\n",
       "4997    0  20.0  33900.0       2\n",
       "4998    1  22.0  32700.0       3\n",
       "4999    1  28.0  40600.0       1\n",
       "\n",
       "[5000 rows x 4 columns]"
      ]
     },
     "execution_count": 20,
     "metadata": {},
     "output_type": "execute_result"
    }
   ],
   "source": [
    "features"
   ]
  },
  {
   "cell_type": "markdown",
   "metadata": {},
   "source": [
    "**Вывод: Данные успешно восстановлены**\n"
   ]
  },
  {
   "cell_type": "markdown",
   "metadata": {},
   "source": [
    "## Проверка алгоритма"
   ]
  },
  {
   "cell_type": "markdown",
   "metadata": {},
   "source": [
    "Создадим модель sklearn_model для проверки метрики R2 и обучим на 2 обучающих матрицах:\n",
    "\n",
    " - исходной features\n",
    " - кодированной encoded_features"
   ]
  },
  {
   "cell_type": "code",
   "execution_count": 21,
   "metadata": {},
   "outputs": [
    {
     "data": {
      "text/plain": [
       "0.42494550286668"
      ]
     },
     "execution_count": 21,
     "metadata": {},
     "output_type": "execute_result"
    }
   ],
   "source": [
    "sklearn_model = LinearRegression().fit(features, target)\n",
    "pred = sklearn_model.predict(features)\n",
    "r2_score(target, pred)"
   ]
  },
  {
   "cell_type": "code",
   "execution_count": 22,
   "metadata": {},
   "outputs": [
    {
     "data": {
      "text/plain": [
       "0.4249455028666701"
      ]
     },
     "execution_count": 22,
     "metadata": {},
     "output_type": "execute_result"
    }
   ],
   "source": [
    "sklearn_model.fit(encoded_features, target)\n",
    "pred = sklearn_model.predict(encoded_features)\n",
    "r2_score(target, pred)"
   ]
  },
  {
   "cell_type": "markdown",
   "metadata": {},
   "source": [
    "**Вывод: R2 по обеим матрицам совпадает.**"
   ]
  }
 ],
 "metadata": {
  "ExecuteTimeLog": [
   {
    "duration": 3,
    "start_time": "2022-04-12T16:31:55.505Z"
   },
   {
    "duration": 31,
    "start_time": "2022-04-12T16:32:18.176Z"
   },
   {
    "duration": 11,
    "start_time": "2022-04-12T16:32:27.337Z"
   },
   {
    "duration": 6,
    "start_time": "2022-04-12T16:32:54.280Z"
   },
   {
    "duration": 95,
    "start_time": "2022-04-12T16:34:34.360Z"
   },
   {
    "duration": 12,
    "start_time": "2022-04-12T16:34:42.615Z"
   },
   {
    "duration": 155,
    "start_time": "2022-04-12T16:34:52.993Z"
   },
   {
    "duration": 9,
    "start_time": "2022-04-12T16:35:07.360Z"
   },
   {
    "duration": 3,
    "start_time": "2022-04-12T16:35:10.904Z"
   },
   {
    "duration": 9,
    "start_time": "2022-04-12T16:35:22.864Z"
   },
   {
    "duration": 6,
    "start_time": "2022-04-12T16:35:27.016Z"
   },
   {
    "duration": 4,
    "start_time": "2022-04-12T16:40:00.183Z"
   },
   {
    "duration": 11,
    "start_time": "2022-04-12T16:40:09.686Z"
   },
   {
    "duration": 5,
    "start_time": "2022-04-12T16:40:48.447Z"
   },
   {
    "duration": 5,
    "start_time": "2022-04-12T16:42:50.046Z"
   },
   {
    "duration": 5,
    "start_time": "2022-04-12T16:42:57.223Z"
   },
   {
    "duration": 5,
    "start_time": "2022-04-12T16:43:16.599Z"
   },
   {
    "duration": 5,
    "start_time": "2022-04-12T16:43:53.511Z"
   },
   {
    "duration": 4,
    "start_time": "2022-04-12T16:44:10.751Z"
   },
   {
    "duration": 12,
    "start_time": "2022-04-12T16:44:35.071Z"
   },
   {
    "duration": 147,
    "start_time": "2022-04-12T16:45:07.823Z"
   },
   {
    "duration": 4,
    "start_time": "2022-04-12T18:43:00.869Z"
   },
   {
    "duration": 11,
    "start_time": "2022-04-12T18:43:28.886Z"
   },
   {
    "duration": 3,
    "start_time": "2022-04-12T18:43:31.461Z"
   },
   {
    "duration": 11,
    "start_time": "2022-04-12T18:43:32.350Z"
   },
   {
    "duration": 4,
    "start_time": "2022-04-12T18:45:18.990Z"
   },
   {
    "duration": 3,
    "start_time": "2022-04-12T18:45:21.157Z"
   },
   {
    "duration": 11,
    "start_time": "2022-04-12T18:45:21.877Z"
   },
   {
    "duration": 3,
    "start_time": "2022-04-12T18:47:02.343Z"
   },
   {
    "duration": 3,
    "start_time": "2022-04-12T18:47:13.910Z"
   },
   {
    "duration": 9,
    "start_time": "2022-04-12T18:47:18.357Z"
   },
   {
    "duration": 3,
    "start_time": "2022-04-12T18:47:32.805Z"
   },
   {
    "duration": 8,
    "start_time": "2022-04-12T18:47:33.597Z"
   },
   {
    "duration": 8,
    "start_time": "2022-04-12T18:48:00.693Z"
   },
   {
    "duration": 3,
    "start_time": "2022-04-12T18:54:09.397Z"
   },
   {
    "duration": 3,
    "start_time": "2022-04-12T18:54:10.860Z"
   },
   {
    "duration": 11,
    "start_time": "2022-04-12T18:54:11.692Z"
   },
   {
    "duration": 3,
    "start_time": "2022-04-12T18:54:23.877Z"
   },
   {
    "duration": 15,
    "start_time": "2022-04-12T18:54:24.716Z"
   },
   {
    "duration": 10,
    "start_time": "2022-04-12T18:54:53.812Z"
   },
   {
    "duration": 188,
    "start_time": "2022-04-12T19:25:50.904Z"
   },
   {
    "duration": 153,
    "start_time": "2022-04-12T19:26:38.376Z"
   },
   {
    "duration": 10,
    "start_time": "2022-04-12T19:28:01.336Z"
   },
   {
    "duration": 11,
    "start_time": "2022-04-12T19:28:07.007Z"
   },
   {
    "duration": 164,
    "start_time": "2022-04-12T19:28:43.119Z"
   },
   {
    "duration": 3,
    "start_time": "2022-04-12T19:29:55.183Z"
   },
   {
    "duration": 10,
    "start_time": "2022-04-12T19:29:57.423Z"
   },
   {
    "duration": 6,
    "start_time": "2022-04-12T19:30:03.727Z"
   },
   {
    "duration": 3,
    "start_time": "2022-04-12T19:30:09.743Z"
   },
   {
    "duration": 14,
    "start_time": "2022-04-12T19:30:10.615Z"
   },
   {
    "duration": 3,
    "start_time": "2022-04-12T19:30:16.055Z"
   },
   {
    "duration": 3,
    "start_time": "2022-04-12T19:30:18.654Z"
   },
   {
    "duration": 11,
    "start_time": "2022-04-12T19:30:19.271Z"
   },
   {
    "duration": 4,
    "start_time": "2022-04-12T19:30:21.174Z"
   },
   {
    "duration": 21,
    "start_time": "2022-04-12T19:30:24.279Z"
   },
   {
    "duration": 15,
    "start_time": "2022-04-12T19:30:27.606Z"
   },
   {
    "duration": 1469,
    "start_time": "2022-04-12T19:33:13.128Z"
   },
   {
    "duration": 40,
    "start_time": "2022-04-12T19:33:14.599Z"
   },
   {
    "duration": 11,
    "start_time": "2022-04-12T19:33:14.640Z"
   },
   {
    "duration": 7,
    "start_time": "2022-04-12T19:33:14.653Z"
   },
   {
    "duration": 5,
    "start_time": "2022-04-12T19:33:14.661Z"
   },
   {
    "duration": 8,
    "start_time": "2022-04-12T19:33:14.667Z"
   },
   {
    "duration": 4,
    "start_time": "2022-04-12T19:33:14.677Z"
   },
   {
    "duration": 28,
    "start_time": "2022-04-12T19:33:14.683Z"
   },
   {
    "duration": 90,
    "start_time": "2022-04-12T19:33:14.712Z"
   },
   {
    "duration": 99,
    "start_time": "2022-04-12T19:33:14.805Z"
   },
   {
    "duration": 10,
    "start_time": "2022-04-12T19:33:14.906Z"
   },
   {
    "duration": 85,
    "start_time": "2022-04-12T19:33:14.917Z"
   },
   {
    "duration": 103,
    "start_time": "2022-04-12T19:33:15.004Z"
   },
   {
    "duration": 4,
    "start_time": "2022-04-12T19:33:15.109Z"
   },
   {
    "duration": 94,
    "start_time": "2022-04-12T19:33:15.115Z"
   },
   {
    "duration": 12,
    "start_time": "2022-04-12T19:33:15.211Z"
   },
   {
    "duration": 3,
    "start_time": "2022-04-12T19:33:15.224Z"
   },
   {
    "duration": 4,
    "start_time": "2022-04-12T19:33:15.229Z"
   },
   {
    "duration": 75,
    "start_time": "2022-04-12T19:33:15.235Z"
   },
   {
    "duration": 92,
    "start_time": "2022-04-12T19:33:15.312Z"
   },
   {
    "duration": 16,
    "start_time": "2022-04-12T19:33:15.405Z"
   },
   {
    "duration": 179,
    "start_time": "2022-04-12T19:33:15.423Z"
   },
   {
    "duration": 1574,
    "start_time": "2022-04-12T19:38:28.653Z"
   },
   {
    "duration": 26,
    "start_time": "2022-04-12T19:38:30.229Z"
   },
   {
    "duration": 10,
    "start_time": "2022-04-12T19:38:30.257Z"
   },
   {
    "duration": 6,
    "start_time": "2022-04-12T19:38:30.269Z"
   },
   {
    "duration": 3,
    "start_time": "2022-04-12T19:38:30.300Z"
   },
   {
    "duration": 14,
    "start_time": "2022-04-12T19:38:30.305Z"
   },
   {
    "duration": 10,
    "start_time": "2022-04-12T19:38:30.320Z"
   },
   {
    "duration": 170,
    "start_time": "2022-04-12T19:38:30.331Z"
   },
   {
    "duration": 5,
    "start_time": "2022-04-12T19:38:30.503Z"
   },
   {
    "duration": 5,
    "start_time": "2022-04-12T19:38:30.512Z"
   },
   {
    "duration": 83,
    "start_time": "2022-04-12T19:38:30.519Z"
   },
   {
    "duration": 6,
    "start_time": "2022-04-12T19:38:30.604Z"
   },
   {
    "duration": 190,
    "start_time": "2022-04-12T19:38:30.612Z"
   },
   {
    "duration": 112,
    "start_time": "2022-04-12T19:38:30.804Z"
   },
   {
    "duration": 17,
    "start_time": "2022-04-12T19:38:30.918Z"
   },
   {
    "duration": 19,
    "start_time": "2022-04-12T19:38:30.938Z"
   },
   {
    "duration": 4,
    "start_time": "2022-04-12T19:38:30.959Z"
   },
   {
    "duration": 11,
    "start_time": "2022-04-12T19:38:30.965Z"
   },
   {
    "duration": 32,
    "start_time": "2022-04-12T19:38:30.978Z"
   },
   {
    "duration": 90,
    "start_time": "2022-04-12T19:38:31.012Z"
   },
   {
    "duration": 99,
    "start_time": "2022-04-12T19:38:31.104Z"
   },
   {
    "duration": 105,
    "start_time": "2022-04-12T19:38:31.205Z"
   },
   {
    "duration": 82,
    "start_time": "2022-04-14T06:33:32.971Z"
   }
  ],
  "kernelspec": {
   "display_name": "Python 3 (ipykernel)",
   "language": "python",
   "name": "python3"
  },
  "language_info": {
   "codemirror_mode": {
    "name": "ipython",
    "version": 3
   },
   "file_extension": ".py",
   "mimetype": "text/x-python",
   "name": "python",
   "nbconvert_exporter": "python",
   "pygments_lexer": "ipython3",
   "version": "3.9.7"
  },
  "toc": {
   "base_numbering": 1,
   "nav_menu": {},
   "number_sections": true,
   "sideBar": true,
   "skip_h1_title": true,
   "title_cell": "Содержание",
   "title_sidebar": "Contents",
   "toc_cell": true,
   "toc_position": {},
   "toc_section_display": true,
   "toc_window_display": true
  }
 },
 "nbformat": 4,
 "nbformat_minor": 2
}
