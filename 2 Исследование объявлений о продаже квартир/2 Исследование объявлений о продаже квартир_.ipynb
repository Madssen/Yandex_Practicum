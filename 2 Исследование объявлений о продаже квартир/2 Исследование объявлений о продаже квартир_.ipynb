{
 "cells": [
  {
   "cell_type": "markdown",
   "metadata": {
    "toc": true
   },
   "source": [
    "<h1>Содержание<span class=\"tocSkip\"></span></h1>\n",
    "<div class=\"toc\"><ul class=\"toc-item\"><li><span><a href=\"#Изучение-данных-из-файла\" data-toc-modified-id=\"Изучение-данных-из-файла-1\"><span class=\"toc-item-num\">1&nbsp;&nbsp;</span>Изучение данных из файла</a></span><ul class=\"toc-item\"><li><span><a href=\"#Вывод\" data-toc-modified-id=\"Вывод-1.1\"><span class=\"toc-item-num\">1.1&nbsp;&nbsp;</span>Вывод</a></span></li></ul></li><li><span><a href=\"#Предобработка-данных\" data-toc-modified-id=\"Предобработка-данных-2\"><span class=\"toc-item-num\">2&nbsp;&nbsp;</span>Предобработка данных</a></span></li><li><span><a href=\"#Расчёты-и-добавление-результатов-в-таблицу\" data-toc-modified-id=\"Расчёты-и-добавление-результатов-в-таблицу-3\"><span class=\"toc-item-num\">3&nbsp;&nbsp;</span>Расчёты и добавление результатов в таблицу</a></span></li><li><span><a href=\"#Исследовательский-анализ-данных\" data-toc-modified-id=\"Исследовательский-анализ-данных-4\"><span class=\"toc-item-num\">4&nbsp;&nbsp;</span>Исследовательский анализ данных</a></span></li><li><span><a href=\"#Общий-вывод\" data-toc-modified-id=\"Общий-вывод-5\"><span class=\"toc-item-num\">5&nbsp;&nbsp;</span>Общий вывод</a></span></li><li><span><a href=\"#Чек-лист-готовности-проекта\" data-toc-modified-id=\"Чек-лист-готовности-проекта-6\"><span class=\"toc-item-num\">6&nbsp;&nbsp;</span>Чек-лист готовности проекта</a></span></li></ul></div>"
   ]
  },
  {
   "cell_type": "markdown",
   "metadata": {},
   "source": [
    "# Исследование объявлений о продаже квартир\n",
    "\n",
    "В вашем распоряжении данные сервиса Яндекс.Недвижимость — архив объявлений о продаже квартир в Санкт-Петербурге и соседних населённых пунктах за несколько лет. Нужно научиться определять рыночную стоимость объектов недвижимости. Ваша задача — установить параметры. Это позволит построить автоматизированную систему: она отследит аномалии и мошенническую деятельность. \n",
    "\n",
    "По каждой квартире на продажу доступны два вида данных. Первые вписаны пользователем, вторые получены автоматически на основе картографических данных. Например, расстояние до центра, аэропорта, ближайшего парка и водоёма. "
   ]
  },
  {
   "cell_type": "markdown",
   "metadata": {},
   "source": [
    "## Изучение данных из файла"
   ]
  },
  {
   "cell_type": "markdown",
   "metadata": {},
   "source": [
    "Выполнение проекта давалось не очень легко, ниже очень очень печальная картина. Думаю, после комментариев ревьювера и корректировки проекта картина будет более ясной. Заранее извиняюсь перед проверяющим, прошу понять и простить, так как у меня нет опыта ни в аналитике, ни в python) Старалась изо всех сил)"
   ]
  },
  {
   "cell_type": "code",
   "execution_count": 1,
   "metadata": {
    "scrolled": true
   },
   "outputs": [
    {
     "data": {
      "text/html": [
       "<div>\n",
       "<style scoped>\n",
       "    .dataframe tbody tr th:only-of-type {\n",
       "        vertical-align: middle;\n",
       "    }\n",
       "\n",
       "    .dataframe tbody tr th {\n",
       "        vertical-align: top;\n",
       "    }\n",
       "\n",
       "    .dataframe thead th {\n",
       "        text-align: right;\n",
       "    }\n",
       "</style>\n",
       "<table border=\"1\" class=\"dataframe\">\n",
       "  <thead>\n",
       "    <tr style=\"text-align: right;\">\n",
       "      <th></th>\n",
       "      <th>total_images</th>\n",
       "      <th>last_price</th>\n",
       "      <th>total_area</th>\n",
       "      <th>first_day_exposition</th>\n",
       "      <th>rooms</th>\n",
       "      <th>ceiling_height</th>\n",
       "      <th>floors_total</th>\n",
       "      <th>living_area</th>\n",
       "      <th>floor</th>\n",
       "      <th>is_apartment</th>\n",
       "      <th>...</th>\n",
       "      <th>kitchen_area</th>\n",
       "      <th>balcony</th>\n",
       "      <th>locality_name</th>\n",
       "      <th>airports_nearest</th>\n",
       "      <th>cityCenters_nearest</th>\n",
       "      <th>parks_around3000</th>\n",
       "      <th>parks_nearest</th>\n",
       "      <th>ponds_around3000</th>\n",
       "      <th>ponds_nearest</th>\n",
       "      <th>days_exposition</th>\n",
       "    </tr>\n",
       "  </thead>\n",
       "  <tbody>\n",
       "    <tr>\n",
       "      <th>0</th>\n",
       "      <td>20</td>\n",
       "      <td>13000000.0</td>\n",
       "      <td>108.0</td>\n",
       "      <td>2019-03-07T00:00:00</td>\n",
       "      <td>3</td>\n",
       "      <td>2.70</td>\n",
       "      <td>16.0</td>\n",
       "      <td>51.0</td>\n",
       "      <td>8</td>\n",
       "      <td>NaN</td>\n",
       "      <td>...</td>\n",
       "      <td>25.0</td>\n",
       "      <td>NaN</td>\n",
       "      <td>Санкт-Петербург</td>\n",
       "      <td>18863.0</td>\n",
       "      <td>16028.0</td>\n",
       "      <td>1.0</td>\n",
       "      <td>482.0</td>\n",
       "      <td>2.0</td>\n",
       "      <td>755.0</td>\n",
       "      <td>NaN</td>\n",
       "    </tr>\n",
       "    <tr>\n",
       "      <th>1</th>\n",
       "      <td>7</td>\n",
       "      <td>3350000.0</td>\n",
       "      <td>40.4</td>\n",
       "      <td>2018-12-04T00:00:00</td>\n",
       "      <td>1</td>\n",
       "      <td>NaN</td>\n",
       "      <td>11.0</td>\n",
       "      <td>18.6</td>\n",
       "      <td>1</td>\n",
       "      <td>NaN</td>\n",
       "      <td>...</td>\n",
       "      <td>11.0</td>\n",
       "      <td>2.0</td>\n",
       "      <td>посёлок Шушары</td>\n",
       "      <td>12817.0</td>\n",
       "      <td>18603.0</td>\n",
       "      <td>0.0</td>\n",
       "      <td>NaN</td>\n",
       "      <td>0.0</td>\n",
       "      <td>NaN</td>\n",
       "      <td>81.0</td>\n",
       "    </tr>\n",
       "    <tr>\n",
       "      <th>2</th>\n",
       "      <td>10</td>\n",
       "      <td>5196000.0</td>\n",
       "      <td>56.0</td>\n",
       "      <td>2015-08-20T00:00:00</td>\n",
       "      <td>2</td>\n",
       "      <td>NaN</td>\n",
       "      <td>5.0</td>\n",
       "      <td>34.3</td>\n",
       "      <td>4</td>\n",
       "      <td>NaN</td>\n",
       "      <td>...</td>\n",
       "      <td>8.3</td>\n",
       "      <td>0.0</td>\n",
       "      <td>Санкт-Петербург</td>\n",
       "      <td>21741.0</td>\n",
       "      <td>13933.0</td>\n",
       "      <td>1.0</td>\n",
       "      <td>90.0</td>\n",
       "      <td>2.0</td>\n",
       "      <td>574.0</td>\n",
       "      <td>558.0</td>\n",
       "    </tr>\n",
       "    <tr>\n",
       "      <th>3</th>\n",
       "      <td>0</td>\n",
       "      <td>64900000.0</td>\n",
       "      <td>159.0</td>\n",
       "      <td>2015-07-24T00:00:00</td>\n",
       "      <td>3</td>\n",
       "      <td>NaN</td>\n",
       "      <td>14.0</td>\n",
       "      <td>NaN</td>\n",
       "      <td>9</td>\n",
       "      <td>NaN</td>\n",
       "      <td>...</td>\n",
       "      <td>NaN</td>\n",
       "      <td>0.0</td>\n",
       "      <td>Санкт-Петербург</td>\n",
       "      <td>28098.0</td>\n",
       "      <td>6800.0</td>\n",
       "      <td>2.0</td>\n",
       "      <td>84.0</td>\n",
       "      <td>3.0</td>\n",
       "      <td>234.0</td>\n",
       "      <td>424.0</td>\n",
       "    </tr>\n",
       "    <tr>\n",
       "      <th>4</th>\n",
       "      <td>2</td>\n",
       "      <td>10000000.0</td>\n",
       "      <td>100.0</td>\n",
       "      <td>2018-06-19T00:00:00</td>\n",
       "      <td>2</td>\n",
       "      <td>3.03</td>\n",
       "      <td>14.0</td>\n",
       "      <td>32.0</td>\n",
       "      <td>13</td>\n",
       "      <td>NaN</td>\n",
       "      <td>...</td>\n",
       "      <td>41.0</td>\n",
       "      <td>NaN</td>\n",
       "      <td>Санкт-Петербург</td>\n",
       "      <td>31856.0</td>\n",
       "      <td>8098.0</td>\n",
       "      <td>2.0</td>\n",
       "      <td>112.0</td>\n",
       "      <td>1.0</td>\n",
       "      <td>48.0</td>\n",
       "      <td>121.0</td>\n",
       "    </tr>\n",
       "  </tbody>\n",
       "</table>\n",
       "<p>5 rows × 22 columns</p>\n",
       "</div>"
      ],
      "text/plain": [
       "   total_images  last_price  total_area first_day_exposition  rooms  \\\n",
       "0            20  13000000.0       108.0  2019-03-07T00:00:00      3   \n",
       "1             7   3350000.0        40.4  2018-12-04T00:00:00      1   \n",
       "2            10   5196000.0        56.0  2015-08-20T00:00:00      2   \n",
       "3             0  64900000.0       159.0  2015-07-24T00:00:00      3   \n",
       "4             2  10000000.0       100.0  2018-06-19T00:00:00      2   \n",
       "\n",
       "   ceiling_height  floors_total  living_area  floor is_apartment  ...  \\\n",
       "0            2.70          16.0         51.0      8          NaN  ...   \n",
       "1             NaN          11.0         18.6      1          NaN  ...   \n",
       "2             NaN           5.0         34.3      4          NaN  ...   \n",
       "3             NaN          14.0          NaN      9          NaN  ...   \n",
       "4            3.03          14.0         32.0     13          NaN  ...   \n",
       "\n",
       "   kitchen_area  balcony    locality_name  airports_nearest  \\\n",
       "0          25.0      NaN  Санкт-Петербург           18863.0   \n",
       "1          11.0      2.0   посёлок Шушары           12817.0   \n",
       "2           8.3      0.0  Санкт-Петербург           21741.0   \n",
       "3           NaN      0.0  Санкт-Петербург           28098.0   \n",
       "4          41.0      NaN  Санкт-Петербург           31856.0   \n",
       "\n",
       "  cityCenters_nearest  parks_around3000  parks_nearest  ponds_around3000  \\\n",
       "0             16028.0               1.0          482.0               2.0   \n",
       "1             18603.0               0.0            NaN               0.0   \n",
       "2             13933.0               1.0           90.0               2.0   \n",
       "3              6800.0               2.0           84.0               3.0   \n",
       "4              8098.0               2.0          112.0               1.0   \n",
       "\n",
       "   ponds_nearest  days_exposition  \n",
       "0          755.0              NaN  \n",
       "1            NaN             81.0  \n",
       "2          574.0            558.0  \n",
       "3          234.0            424.0  \n",
       "4           48.0            121.0  \n",
       "\n",
       "[5 rows x 22 columns]"
      ]
     },
     "execution_count": 1,
     "metadata": {},
     "output_type": "execute_result"
    }
   ],
   "source": [
    "import pandas as pd\n",
    "import matplotlib.pyplot as plt\n",
    "\n",
    "import os\n",
    "import pandas as pd\n",
    "os.chdir(\"C:/Users/Admin/Downloads/ЯНДЕКС/Проекты из курса\")\n",
    "data = pd.read_csv('real_estate_data.csv', sep='\\t')\n",
    "\n",
    "#pd.set_option('display.max_columns', None)\n",
    "data.head()\n"
   ]
  },
  {
   "cell_type": "code",
   "execution_count": 2,
   "metadata": {},
   "outputs": [
    {
     "name": "stdout",
     "output_type": "stream",
     "text": [
      "<class 'pandas.core.frame.DataFrame'>\n",
      "RangeIndex: 23699 entries, 0 to 23698\n",
      "Data columns (total 22 columns):\n",
      " #   Column                Non-Null Count  Dtype  \n",
      "---  ------                --------------  -----  \n",
      " 0   total_images          23699 non-null  int64  \n",
      " 1   last_price            23699 non-null  float64\n",
      " 2   total_area            23699 non-null  float64\n",
      " 3   first_day_exposition  23699 non-null  object \n",
      " 4   rooms                 23699 non-null  int64  \n",
      " 5   ceiling_height        14504 non-null  float64\n",
      " 6   floors_total          23613 non-null  float64\n",
      " 7   living_area           21796 non-null  float64\n",
      " 8   floor                 23699 non-null  int64  \n",
      " 9   is_apartment          2775 non-null   object \n",
      " 10  studio                23699 non-null  bool   \n",
      " 11  open_plan             23699 non-null  bool   \n",
      " 12  kitchen_area          21421 non-null  float64\n",
      " 13  balcony               12180 non-null  float64\n",
      " 14  locality_name         23650 non-null  object \n",
      " 15  airports_nearest      18157 non-null  float64\n",
      " 16  cityCenters_nearest   18180 non-null  float64\n",
      " 17  parks_around3000      18181 non-null  float64\n",
      " 18  parks_nearest         8079 non-null   float64\n",
      " 19  ponds_around3000      18181 non-null  float64\n",
      " 20  ponds_nearest         9110 non-null   float64\n",
      " 21  days_exposition       20518 non-null  float64\n",
      "dtypes: bool(2), float64(14), int64(3), object(3)\n",
      "memory usage: 3.7+ MB\n"
     ]
    }
   ],
   "source": [
    "#data.describe()\n",
    "data.info()"
   ]
  },
  {
   "cell_type": "markdown",
   "metadata": {},
   "source": [
    "### Вывод"
   ]
  },
  {
   "cell_type": "markdown",
   "metadata": {},
   "source": []
  },
  {
   "cell_type": "markdown",
   "metadata": {},
   "source": [
    "## Предобработка данных"
   ]
  },
  {
   "cell_type": "markdown",
   "metadata": {},
   "source": [
    "Рассмотрим пропущенные значения:"
   ]
  },
  {
   "cell_type": "code",
   "execution_count": 3,
   "metadata": {
    "scrolled": false
   },
   "outputs": [
    {
     "data": {
      "text/plain": [
       "total_images                0\n",
       "last_price                  0\n",
       "total_area                  0\n",
       "first_day_exposition        0\n",
       "rooms                       0\n",
       "ceiling_height           9195\n",
       "floors_total               86\n",
       "living_area              1903\n",
       "floor                       0\n",
       "is_apartment            20924\n",
       "studio                      0\n",
       "open_plan                   0\n",
       "kitchen_area             2278\n",
       "balcony                 11519\n",
       "locality_name              49\n",
       "airports_nearest         5542\n",
       "cityCenters_nearest      5519\n",
       "parks_around3000         5518\n",
       "parks_nearest           15620\n",
       "ponds_around3000         5518\n",
       "ponds_nearest           14589\n",
       "days_exposition          3181\n",
       "dtype: int64"
      ]
     },
     "execution_count": 3,
     "metadata": {},
     "output_type": "execute_result"
    }
   ],
   "source": [
    "data.isna().sum()"
   ]
  },
  {
   "cell_type": "markdown",
   "metadata": {},
   "source": [
    "Пропущенных значений довольно много. Из них нам понадобятся такие как ceiling_height, living_area, kitchen_area, cityCenters_nearest"
   ]
  },
  {
   "cell_type": "markdown",
   "metadata": {},
   "source": [
    "Отсутствующие значения в столце 'living_area' заменяем на медианное значение площади, исходя из количества комнат."
   ]
  },
  {
   "cell_type": "code",
   "execution_count": 4,
   "metadata": {},
   "outputs": [],
   "source": [
    "living_area_median = data.groupby('rooms')['living_area'].median()\n",
    "# для количества комнат из серии, составленной выше\n",
    "for rooms in living_area_median.index: \n",
    "# в нашем датафрейме мы выбираем только те строки, где количество комнат соответствует количеству комнат выше (по очереди),\n",
    "    data.loc[data['rooms'] == rooms,'living_area'] =  data.loc[data['rooms'] == rooms,'living_area'].fillna(living_area_median.loc[rooms]) \n",
    "# и приравниваем их к самим себе (сохраняем), только заполняя пропуски площадью из столбца с жилой площадью"
   ]
  },
  {
   "cell_type": "markdown",
   "metadata": {},
   "source": [
    "Отсутствующие значения в столце 'kitchen_area' заменяем на медианное значение площади, исходя из количества комнат. И далее заполняем по такому же принципу"
   ]
  },
  {
   "cell_type": "code",
   "execution_count": 5,
   "metadata": {},
   "outputs": [],
   "source": [
    "kitchen_area_median = data.groupby('rooms')['kitchen_area'].median()\n",
    "for rooms in kitchen_area_median.index: \n",
    "    data.loc[data['rooms'] == rooms,'kitchen_area'] =  data.loc[data['rooms'] == rooms,'kitchen_area'].fillna(kitchen_area_median.loc[rooms]) "
   ]
  },
  {
   "cell_type": "code",
   "execution_count": 6,
   "metadata": {},
   "outputs": [],
   "source": [
    "days_exposition_median = data.groupby('rooms')['days_exposition'].median()\n",
    "for rooms in days_exposition_median.index: \n",
    "    data.loc[data['rooms'] == rooms,'days_exposition'] =  data.loc[data['rooms'] == rooms,'days_exposition'].fillna(days_exposition_median.loc[rooms]) "
   ]
  },
  {
   "cell_type": "code",
   "execution_count": 7,
   "metadata": {},
   "outputs": [],
   "source": [
    "ceiling_height_median = data.groupby('rooms')['ceiling_height'].median()\n",
    "for rooms in ceiling_height_median.index: \n",
    "    data.loc[data['rooms'] == rooms,'ceiling_height'] =  data.loc[data['rooms'] == rooms,'ceiling_height'].fillna(ceiling_height_median.loc[rooms]) "
   ]
  },
  {
   "cell_type": "code",
   "execution_count": 8,
   "metadata": {},
   "outputs": [],
   "source": [
    "cityCenters_nearest_median = data.groupby('rooms')['cityCenters_nearest'].median()\n",
    "for rooms in cityCenters_nearest_median.index: \n",
    "    data.loc[data['rooms'] == rooms,'cityCenters_nearest'] =  data.loc[data['rooms'] == rooms,'cityCenters_nearest'].fillna(cityCenters_nearest_median.loc[rooms]) "
   ]
  },
  {
   "cell_type": "markdown",
   "metadata": {},
   "source": [
    "Проверяю работу функций выше:"
   ]
  },
  {
   "cell_type": "code",
   "execution_count": 9,
   "metadata": {},
   "outputs": [
    {
     "data": {
      "text/plain": [
       "total_images                0\n",
       "last_price                  0\n",
       "total_area                  0\n",
       "first_day_exposition        0\n",
       "rooms                       0\n",
       "ceiling_height              1\n",
       "floors_total               86\n",
       "living_area                 0\n",
       "floor                       0\n",
       "is_apartment            20924\n",
       "studio                      0\n",
       "open_plan                   0\n",
       "kitchen_area              197\n",
       "balcony                 11519\n",
       "locality_name              49\n",
       "airports_nearest         5542\n",
       "cityCenters_nearest         0\n",
       "parks_around3000         5518\n",
       "parks_nearest           15620\n",
       "ponds_around3000         5518\n",
       "ponds_nearest           14589\n",
       "days_exposition             0\n",
       "dtype: int64"
      ]
     },
     "execution_count": 9,
     "metadata": {},
     "output_type": "execute_result"
    }
   ],
   "source": [
    "data.isna().sum()"
   ]
  },
  {
   "cell_type": "markdown",
   "metadata": {},
   "source": [
    "Заменяю типы данных:"
   ]
  },
  {
   "cell_type": "code",
   "execution_count": 10,
   "metadata": {},
   "outputs": [],
   "source": [
    "columns = ['total_area', 'living_area', 'last_price', 'days_exposition', 'kitchen_area', 'ceiling_height']\n",
    "for i in columns:\n",
    "    data[i] = data[i].fillna(0)\n",
    "    data[i] = data[i].astype('int')"
   ]
  },
  {
   "cell_type": "markdown",
   "metadata": {},
   "source": [
    "## Расчёты и добавление результатов в таблицу"
   ]
  },
  {
   "cell_type": "markdown",
   "metadata": {},
   "source": [
    "Добавление цены квадратного метра:"
   ]
  },
  {
   "cell_type": "code",
   "execution_count": 11,
   "metadata": {
    "scrolled": true
   },
   "outputs": [
    {
     "data": {
      "text/html": [
       "<div>\n",
       "<style scoped>\n",
       "    .dataframe tbody tr th:only-of-type {\n",
       "        vertical-align: middle;\n",
       "    }\n",
       "\n",
       "    .dataframe tbody tr th {\n",
       "        vertical-align: top;\n",
       "    }\n",
       "\n",
       "    .dataframe thead th {\n",
       "        text-align: right;\n",
       "    }\n",
       "</style>\n",
       "<table border=\"1\" class=\"dataframe\">\n",
       "  <thead>\n",
       "    <tr style=\"text-align: right;\">\n",
       "      <th></th>\n",
       "      <th>total_images</th>\n",
       "      <th>last_price</th>\n",
       "      <th>total_area</th>\n",
       "      <th>first_day_exposition</th>\n",
       "      <th>rooms</th>\n",
       "      <th>ceiling_height</th>\n",
       "      <th>floors_total</th>\n",
       "      <th>living_area</th>\n",
       "      <th>floor</th>\n",
       "      <th>is_apartment</th>\n",
       "      <th>...</th>\n",
       "      <th>balcony</th>\n",
       "      <th>locality_name</th>\n",
       "      <th>airports_nearest</th>\n",
       "      <th>cityCenters_nearest</th>\n",
       "      <th>parks_around3000</th>\n",
       "      <th>parks_nearest</th>\n",
       "      <th>ponds_around3000</th>\n",
       "      <th>ponds_nearest</th>\n",
       "      <th>days_exposition</th>\n",
       "      <th>sq_price</th>\n",
       "    </tr>\n",
       "  </thead>\n",
       "  <tbody>\n",
       "    <tr>\n",
       "      <th>0</th>\n",
       "      <td>20</td>\n",
       "      <td>13000000</td>\n",
       "      <td>108</td>\n",
       "      <td>2019-03-07T00:00:00</td>\n",
       "      <td>3</td>\n",
       "      <td>2</td>\n",
       "      <td>16.0</td>\n",
       "      <td>51</td>\n",
       "      <td>8</td>\n",
       "      <td>NaN</td>\n",
       "      <td>...</td>\n",
       "      <td>NaN</td>\n",
       "      <td>Санкт-Петербург</td>\n",
       "      <td>18863.0</td>\n",
       "      <td>16028.0</td>\n",
       "      <td>1.0</td>\n",
       "      <td>482.0</td>\n",
       "      <td>2.0</td>\n",
       "      <td>755.0</td>\n",
       "      <td>114</td>\n",
       "      <td>120370.370370</td>\n",
       "    </tr>\n",
       "    <tr>\n",
       "      <th>1</th>\n",
       "      <td>7</td>\n",
       "      <td>3350000</td>\n",
       "      <td>40</td>\n",
       "      <td>2018-12-04T00:00:00</td>\n",
       "      <td>1</td>\n",
       "      <td>2</td>\n",
       "      <td>11.0</td>\n",
       "      <td>18</td>\n",
       "      <td>1</td>\n",
       "      <td>NaN</td>\n",
       "      <td>...</td>\n",
       "      <td>2.0</td>\n",
       "      <td>посёлок Шушары</td>\n",
       "      <td>12817.0</td>\n",
       "      <td>18603.0</td>\n",
       "      <td>0.0</td>\n",
       "      <td>NaN</td>\n",
       "      <td>0.0</td>\n",
       "      <td>NaN</td>\n",
       "      <td>81</td>\n",
       "      <td>83750.000000</td>\n",
       "    </tr>\n",
       "    <tr>\n",
       "      <th>2</th>\n",
       "      <td>10</td>\n",
       "      <td>5196000</td>\n",
       "      <td>56</td>\n",
       "      <td>2015-08-20T00:00:00</td>\n",
       "      <td>2</td>\n",
       "      <td>2</td>\n",
       "      <td>5.0</td>\n",
       "      <td>34</td>\n",
       "      <td>4</td>\n",
       "      <td>NaN</td>\n",
       "      <td>...</td>\n",
       "      <td>0.0</td>\n",
       "      <td>Санкт-Петербург</td>\n",
       "      <td>21741.0</td>\n",
       "      <td>13933.0</td>\n",
       "      <td>1.0</td>\n",
       "      <td>90.0</td>\n",
       "      <td>2.0</td>\n",
       "      <td>574.0</td>\n",
       "      <td>558</td>\n",
       "      <td>92785.714286</td>\n",
       "    </tr>\n",
       "    <tr>\n",
       "      <th>3</th>\n",
       "      <td>0</td>\n",
       "      <td>64900000</td>\n",
       "      <td>159</td>\n",
       "      <td>2015-07-24T00:00:00</td>\n",
       "      <td>3</td>\n",
       "      <td>2</td>\n",
       "      <td>14.0</td>\n",
       "      <td>45</td>\n",
       "      <td>9</td>\n",
       "      <td>NaN</td>\n",
       "      <td>...</td>\n",
       "      <td>0.0</td>\n",
       "      <td>Санкт-Петербург</td>\n",
       "      <td>28098.0</td>\n",
       "      <td>6800.0</td>\n",
       "      <td>2.0</td>\n",
       "      <td>84.0</td>\n",
       "      <td>3.0</td>\n",
       "      <td>234.0</td>\n",
       "      <td>424</td>\n",
       "      <td>408176.100629</td>\n",
       "    </tr>\n",
       "    <tr>\n",
       "      <th>4</th>\n",
       "      <td>2</td>\n",
       "      <td>10000000</td>\n",
       "      <td>100</td>\n",
       "      <td>2018-06-19T00:00:00</td>\n",
       "      <td>2</td>\n",
       "      <td>3</td>\n",
       "      <td>14.0</td>\n",
       "      <td>32</td>\n",
       "      <td>13</td>\n",
       "      <td>NaN</td>\n",
       "      <td>...</td>\n",
       "      <td>NaN</td>\n",
       "      <td>Санкт-Петербург</td>\n",
       "      <td>31856.0</td>\n",
       "      <td>8098.0</td>\n",
       "      <td>2.0</td>\n",
       "      <td>112.0</td>\n",
       "      <td>1.0</td>\n",
       "      <td>48.0</td>\n",
       "      <td>121</td>\n",
       "      <td>100000.000000</td>\n",
       "    </tr>\n",
       "  </tbody>\n",
       "</table>\n",
       "<p>5 rows × 23 columns</p>\n",
       "</div>"
      ],
      "text/plain": [
       "   total_images  last_price  total_area first_day_exposition  rooms  \\\n",
       "0            20    13000000         108  2019-03-07T00:00:00      3   \n",
       "1             7     3350000          40  2018-12-04T00:00:00      1   \n",
       "2            10     5196000          56  2015-08-20T00:00:00      2   \n",
       "3             0    64900000         159  2015-07-24T00:00:00      3   \n",
       "4             2    10000000         100  2018-06-19T00:00:00      2   \n",
       "\n",
       "   ceiling_height  floors_total  living_area  floor is_apartment  ...  \\\n",
       "0               2          16.0           51      8          NaN  ...   \n",
       "1               2          11.0           18      1          NaN  ...   \n",
       "2               2           5.0           34      4          NaN  ...   \n",
       "3               2          14.0           45      9          NaN  ...   \n",
       "4               3          14.0           32     13          NaN  ...   \n",
       "\n",
       "   balcony    locality_name  airports_nearest  cityCenters_nearest  \\\n",
       "0      NaN  Санкт-Петербург           18863.0              16028.0   \n",
       "1      2.0   посёлок Шушары           12817.0              18603.0   \n",
       "2      0.0  Санкт-Петербург           21741.0              13933.0   \n",
       "3      0.0  Санкт-Петербург           28098.0               6800.0   \n",
       "4      NaN  Санкт-Петербург           31856.0               8098.0   \n",
       "\n",
       "  parks_around3000  parks_nearest  ponds_around3000  ponds_nearest  \\\n",
       "0              1.0          482.0               2.0          755.0   \n",
       "1              0.0            NaN               0.0            NaN   \n",
       "2              1.0           90.0               2.0          574.0   \n",
       "3              2.0           84.0               3.0          234.0   \n",
       "4              2.0          112.0               1.0           48.0   \n",
       "\n",
       "   days_exposition       sq_price  \n",
       "0              114  120370.370370  \n",
       "1               81   83750.000000  \n",
       "2              558   92785.714286  \n",
       "3              424  408176.100629  \n",
       "4              121  100000.000000  \n",
       "\n",
       "[5 rows x 23 columns]"
      ]
     },
     "execution_count": 11,
     "metadata": {},
     "output_type": "execute_result"
    }
   ],
   "source": [
    "data['sq_price']=data['last_price']/data['total_area']\n",
    "data.head()"
   ]
  },
  {
   "cell_type": "markdown",
   "metadata": {},
   "source": [
    "Отразим корректно день недели, месяц и год публикации объявления при помощи to_datetime:"
   ]
  },
  {
   "cell_type": "code",
   "execution_count": 12,
   "metadata": {
    "scrolled": true
   },
   "outputs": [
    {
     "data": {
      "text/html": [
       "<div>\n",
       "<style scoped>\n",
       "    .dataframe tbody tr th:only-of-type {\n",
       "        vertical-align: middle;\n",
       "    }\n",
       "\n",
       "    .dataframe tbody tr th {\n",
       "        vertical-align: top;\n",
       "    }\n",
       "\n",
       "    .dataframe thead th {\n",
       "        text-align: right;\n",
       "    }\n",
       "</style>\n",
       "<table border=\"1\" class=\"dataframe\">\n",
       "  <thead>\n",
       "    <tr style=\"text-align: right;\">\n",
       "      <th></th>\n",
       "      <th>total_images</th>\n",
       "      <th>last_price</th>\n",
       "      <th>total_area</th>\n",
       "      <th>first_day_exposition</th>\n",
       "      <th>rooms</th>\n",
       "      <th>ceiling_height</th>\n",
       "      <th>floors_total</th>\n",
       "      <th>living_area</th>\n",
       "      <th>floor</th>\n",
       "      <th>is_apartment</th>\n",
       "      <th>...</th>\n",
       "      <th>balcony</th>\n",
       "      <th>locality_name</th>\n",
       "      <th>airports_nearest</th>\n",
       "      <th>cityCenters_nearest</th>\n",
       "      <th>parks_around3000</th>\n",
       "      <th>parks_nearest</th>\n",
       "      <th>ponds_around3000</th>\n",
       "      <th>ponds_nearest</th>\n",
       "      <th>days_exposition</th>\n",
       "      <th>sq_price</th>\n",
       "    </tr>\n",
       "  </thead>\n",
       "  <tbody>\n",
       "    <tr>\n",
       "      <th>0</th>\n",
       "      <td>20</td>\n",
       "      <td>13000000</td>\n",
       "      <td>108</td>\n",
       "      <td>2019-03-07</td>\n",
       "      <td>3</td>\n",
       "      <td>2</td>\n",
       "      <td>16.0</td>\n",
       "      <td>51</td>\n",
       "      <td>8</td>\n",
       "      <td>NaN</td>\n",
       "      <td>...</td>\n",
       "      <td>NaN</td>\n",
       "      <td>Санкт-Петербург</td>\n",
       "      <td>18863.0</td>\n",
       "      <td>16028.0</td>\n",
       "      <td>1.0</td>\n",
       "      <td>482.0</td>\n",
       "      <td>2.0</td>\n",
       "      <td>755.0</td>\n",
       "      <td>114</td>\n",
       "      <td>120370.370370</td>\n",
       "    </tr>\n",
       "    <tr>\n",
       "      <th>1</th>\n",
       "      <td>7</td>\n",
       "      <td>3350000</td>\n",
       "      <td>40</td>\n",
       "      <td>2018-12-04</td>\n",
       "      <td>1</td>\n",
       "      <td>2</td>\n",
       "      <td>11.0</td>\n",
       "      <td>18</td>\n",
       "      <td>1</td>\n",
       "      <td>NaN</td>\n",
       "      <td>...</td>\n",
       "      <td>2.0</td>\n",
       "      <td>посёлок Шушары</td>\n",
       "      <td>12817.0</td>\n",
       "      <td>18603.0</td>\n",
       "      <td>0.0</td>\n",
       "      <td>NaN</td>\n",
       "      <td>0.0</td>\n",
       "      <td>NaN</td>\n",
       "      <td>81</td>\n",
       "      <td>83750.000000</td>\n",
       "    </tr>\n",
       "    <tr>\n",
       "      <th>2</th>\n",
       "      <td>10</td>\n",
       "      <td>5196000</td>\n",
       "      <td>56</td>\n",
       "      <td>2015-08-20</td>\n",
       "      <td>2</td>\n",
       "      <td>2</td>\n",
       "      <td>5.0</td>\n",
       "      <td>34</td>\n",
       "      <td>4</td>\n",
       "      <td>NaN</td>\n",
       "      <td>...</td>\n",
       "      <td>0.0</td>\n",
       "      <td>Санкт-Петербург</td>\n",
       "      <td>21741.0</td>\n",
       "      <td>13933.0</td>\n",
       "      <td>1.0</td>\n",
       "      <td>90.0</td>\n",
       "      <td>2.0</td>\n",
       "      <td>574.0</td>\n",
       "      <td>558</td>\n",
       "      <td>92785.714286</td>\n",
       "    </tr>\n",
       "    <tr>\n",
       "      <th>3</th>\n",
       "      <td>0</td>\n",
       "      <td>64900000</td>\n",
       "      <td>159</td>\n",
       "      <td>2015-07-24</td>\n",
       "      <td>3</td>\n",
       "      <td>2</td>\n",
       "      <td>14.0</td>\n",
       "      <td>45</td>\n",
       "      <td>9</td>\n",
       "      <td>NaN</td>\n",
       "      <td>...</td>\n",
       "      <td>0.0</td>\n",
       "      <td>Санкт-Петербург</td>\n",
       "      <td>28098.0</td>\n",
       "      <td>6800.0</td>\n",
       "      <td>2.0</td>\n",
       "      <td>84.0</td>\n",
       "      <td>3.0</td>\n",
       "      <td>234.0</td>\n",
       "      <td>424</td>\n",
       "      <td>408176.100629</td>\n",
       "    </tr>\n",
       "    <tr>\n",
       "      <th>4</th>\n",
       "      <td>2</td>\n",
       "      <td>10000000</td>\n",
       "      <td>100</td>\n",
       "      <td>2018-06-19</td>\n",
       "      <td>2</td>\n",
       "      <td>3</td>\n",
       "      <td>14.0</td>\n",
       "      <td>32</td>\n",
       "      <td>13</td>\n",
       "      <td>NaN</td>\n",
       "      <td>...</td>\n",
       "      <td>NaN</td>\n",
       "      <td>Санкт-Петербург</td>\n",
       "      <td>31856.0</td>\n",
       "      <td>8098.0</td>\n",
       "      <td>2.0</td>\n",
       "      <td>112.0</td>\n",
       "      <td>1.0</td>\n",
       "      <td>48.0</td>\n",
       "      <td>121</td>\n",
       "      <td>100000.000000</td>\n",
       "    </tr>\n",
       "  </tbody>\n",
       "</table>\n",
       "<p>5 rows × 23 columns</p>\n",
       "</div>"
      ],
      "text/plain": [
       "   total_images  last_price  total_area first_day_exposition  rooms  \\\n",
       "0            20    13000000         108           2019-03-07      3   \n",
       "1             7     3350000          40           2018-12-04      1   \n",
       "2            10     5196000          56           2015-08-20      2   \n",
       "3             0    64900000         159           2015-07-24      3   \n",
       "4             2    10000000         100           2018-06-19      2   \n",
       "\n",
       "   ceiling_height  floors_total  living_area  floor is_apartment  ...  \\\n",
       "0               2          16.0           51      8          NaN  ...   \n",
       "1               2          11.0           18      1          NaN  ...   \n",
       "2               2           5.0           34      4          NaN  ...   \n",
       "3               2          14.0           45      9          NaN  ...   \n",
       "4               3          14.0           32     13          NaN  ...   \n",
       "\n",
       "   balcony    locality_name  airports_nearest  cityCenters_nearest  \\\n",
       "0      NaN  Санкт-Петербург           18863.0              16028.0   \n",
       "1      2.0   посёлок Шушары           12817.0              18603.0   \n",
       "2      0.0  Санкт-Петербург           21741.0              13933.0   \n",
       "3      0.0  Санкт-Петербург           28098.0               6800.0   \n",
       "4      NaN  Санкт-Петербург           31856.0               8098.0   \n",
       "\n",
       "  parks_around3000  parks_nearest  ponds_around3000  ponds_nearest  \\\n",
       "0              1.0          482.0               2.0          755.0   \n",
       "1              0.0            NaN               0.0            NaN   \n",
       "2              1.0           90.0               2.0          574.0   \n",
       "3              2.0           84.0               3.0          234.0   \n",
       "4              2.0          112.0               1.0           48.0   \n",
       "\n",
       "   days_exposition       sq_price  \n",
       "0              114  120370.370370  \n",
       "1               81   83750.000000  \n",
       "2              558   92785.714286  \n",
       "3              424  408176.100629  \n",
       "4              121  100000.000000  \n",
       "\n",
       "[5 rows x 23 columns]"
      ]
     },
     "execution_count": 12,
     "metadata": {},
     "output_type": "execute_result"
    }
   ],
   "source": [
    "data['first_day_exposition'] = pd.to_datetime(data['first_day_exposition'], format='%Y-%m-%d %H:%M')\n",
    "data.head()"
   ]
  },
  {
   "cell_type": "markdown",
   "metadata": {},
   "source": [
    " Добавим этаж квартиры; варианты — первый, последний, другой, нет данных:"
   ]
  },
  {
   "cell_type": "code",
   "execution_count": 13,
   "metadata": {},
   "outputs": [
    {
     "data": {
      "text/html": [
       "<div>\n",
       "<style scoped>\n",
       "    .dataframe tbody tr th:only-of-type {\n",
       "        vertical-align: middle;\n",
       "    }\n",
       "\n",
       "    .dataframe tbody tr th {\n",
       "        vertical-align: top;\n",
       "    }\n",
       "\n",
       "    .dataframe thead th {\n",
       "        text-align: right;\n",
       "    }\n",
       "</style>\n",
       "<table border=\"1\" class=\"dataframe\">\n",
       "  <thead>\n",
       "    <tr style=\"text-align: right;\">\n",
       "      <th></th>\n",
       "      <th>total_images</th>\n",
       "      <th>last_price</th>\n",
       "      <th>total_area</th>\n",
       "      <th>first_day_exposition</th>\n",
       "      <th>rooms</th>\n",
       "      <th>ceiling_height</th>\n",
       "      <th>floors_total</th>\n",
       "      <th>living_area</th>\n",
       "      <th>floor</th>\n",
       "      <th>is_apartment</th>\n",
       "      <th>...</th>\n",
       "      <th>locality_name</th>\n",
       "      <th>airports_nearest</th>\n",
       "      <th>cityCenters_nearest</th>\n",
       "      <th>parks_around3000</th>\n",
       "      <th>parks_nearest</th>\n",
       "      <th>ponds_around3000</th>\n",
       "      <th>ponds_nearest</th>\n",
       "      <th>days_exposition</th>\n",
       "      <th>sq_price</th>\n",
       "      <th>floor_name</th>\n",
       "    </tr>\n",
       "  </thead>\n",
       "  <tbody>\n",
       "    <tr>\n",
       "      <th>0</th>\n",
       "      <td>20</td>\n",
       "      <td>13000000</td>\n",
       "      <td>108</td>\n",
       "      <td>2019-03-07</td>\n",
       "      <td>3</td>\n",
       "      <td>2</td>\n",
       "      <td>16.0</td>\n",
       "      <td>51</td>\n",
       "      <td>8</td>\n",
       "      <td>NaN</td>\n",
       "      <td>...</td>\n",
       "      <td>Санкт-Петербург</td>\n",
       "      <td>18863.0</td>\n",
       "      <td>16028.0</td>\n",
       "      <td>1.0</td>\n",
       "      <td>482.0</td>\n",
       "      <td>2.0</td>\n",
       "      <td>755.0</td>\n",
       "      <td>114</td>\n",
       "      <td>120370.370370</td>\n",
       "      <td>другой</td>\n",
       "    </tr>\n",
       "    <tr>\n",
       "      <th>1</th>\n",
       "      <td>7</td>\n",
       "      <td>3350000</td>\n",
       "      <td>40</td>\n",
       "      <td>2018-12-04</td>\n",
       "      <td>1</td>\n",
       "      <td>2</td>\n",
       "      <td>11.0</td>\n",
       "      <td>18</td>\n",
       "      <td>1</td>\n",
       "      <td>NaN</td>\n",
       "      <td>...</td>\n",
       "      <td>посёлок Шушары</td>\n",
       "      <td>12817.0</td>\n",
       "      <td>18603.0</td>\n",
       "      <td>0.0</td>\n",
       "      <td>NaN</td>\n",
       "      <td>0.0</td>\n",
       "      <td>NaN</td>\n",
       "      <td>81</td>\n",
       "      <td>83750.000000</td>\n",
       "      <td>первый</td>\n",
       "    </tr>\n",
       "    <tr>\n",
       "      <th>2</th>\n",
       "      <td>10</td>\n",
       "      <td>5196000</td>\n",
       "      <td>56</td>\n",
       "      <td>2015-08-20</td>\n",
       "      <td>2</td>\n",
       "      <td>2</td>\n",
       "      <td>5.0</td>\n",
       "      <td>34</td>\n",
       "      <td>4</td>\n",
       "      <td>NaN</td>\n",
       "      <td>...</td>\n",
       "      <td>Санкт-Петербург</td>\n",
       "      <td>21741.0</td>\n",
       "      <td>13933.0</td>\n",
       "      <td>1.0</td>\n",
       "      <td>90.0</td>\n",
       "      <td>2.0</td>\n",
       "      <td>574.0</td>\n",
       "      <td>558</td>\n",
       "      <td>92785.714286</td>\n",
       "      <td>другой</td>\n",
       "    </tr>\n",
       "    <tr>\n",
       "      <th>3</th>\n",
       "      <td>0</td>\n",
       "      <td>64900000</td>\n",
       "      <td>159</td>\n",
       "      <td>2015-07-24</td>\n",
       "      <td>3</td>\n",
       "      <td>2</td>\n",
       "      <td>14.0</td>\n",
       "      <td>45</td>\n",
       "      <td>9</td>\n",
       "      <td>NaN</td>\n",
       "      <td>...</td>\n",
       "      <td>Санкт-Петербург</td>\n",
       "      <td>28098.0</td>\n",
       "      <td>6800.0</td>\n",
       "      <td>2.0</td>\n",
       "      <td>84.0</td>\n",
       "      <td>3.0</td>\n",
       "      <td>234.0</td>\n",
       "      <td>424</td>\n",
       "      <td>408176.100629</td>\n",
       "      <td>другой</td>\n",
       "    </tr>\n",
       "    <tr>\n",
       "      <th>4</th>\n",
       "      <td>2</td>\n",
       "      <td>10000000</td>\n",
       "      <td>100</td>\n",
       "      <td>2018-06-19</td>\n",
       "      <td>2</td>\n",
       "      <td>3</td>\n",
       "      <td>14.0</td>\n",
       "      <td>32</td>\n",
       "      <td>13</td>\n",
       "      <td>NaN</td>\n",
       "      <td>...</td>\n",
       "      <td>Санкт-Петербург</td>\n",
       "      <td>31856.0</td>\n",
       "      <td>8098.0</td>\n",
       "      <td>2.0</td>\n",
       "      <td>112.0</td>\n",
       "      <td>1.0</td>\n",
       "      <td>48.0</td>\n",
       "      <td>121</td>\n",
       "      <td>100000.000000</td>\n",
       "      <td>другой</td>\n",
       "    </tr>\n",
       "  </tbody>\n",
       "</table>\n",
       "<p>5 rows × 24 columns</p>\n",
       "</div>"
      ],
      "text/plain": [
       "   total_images  last_price  total_area first_day_exposition  rooms  \\\n",
       "0            20    13000000         108           2019-03-07      3   \n",
       "1             7     3350000          40           2018-12-04      1   \n",
       "2            10     5196000          56           2015-08-20      2   \n",
       "3             0    64900000         159           2015-07-24      3   \n",
       "4             2    10000000         100           2018-06-19      2   \n",
       "\n",
       "   ceiling_height  floors_total  living_area  floor is_apartment  ...  \\\n",
       "0               2          16.0           51      8          NaN  ...   \n",
       "1               2          11.0           18      1          NaN  ...   \n",
       "2               2           5.0           34      4          NaN  ...   \n",
       "3               2          14.0           45      9          NaN  ...   \n",
       "4               3          14.0           32     13          NaN  ...   \n",
       "\n",
       "     locality_name  airports_nearest  cityCenters_nearest  parks_around3000  \\\n",
       "0  Санкт-Петербург           18863.0              16028.0               1.0   \n",
       "1   посёлок Шушары           12817.0              18603.0               0.0   \n",
       "2  Санкт-Петербург           21741.0              13933.0               1.0   \n",
       "3  Санкт-Петербург           28098.0               6800.0               2.0   \n",
       "4  Санкт-Петербург           31856.0               8098.0               2.0   \n",
       "\n",
       "  parks_nearest  ponds_around3000  ponds_nearest  days_exposition  \\\n",
       "0         482.0               2.0          755.0              114   \n",
       "1           NaN               0.0            NaN               81   \n",
       "2          90.0               2.0          574.0              558   \n",
       "3          84.0               3.0          234.0              424   \n",
       "4         112.0               1.0           48.0              121   \n",
       "\n",
       "        sq_price  floor_name  \n",
       "0  120370.370370      другой  \n",
       "1   83750.000000      первый  \n",
       "2   92785.714286      другой  \n",
       "3  408176.100629      другой  \n",
       "4  100000.000000      другой  \n",
       "\n",
       "[5 rows x 24 columns]"
      ]
     },
     "execution_count": 13,
     "metadata": {},
     "output_type": "execute_result"
    }
   ],
   "source": [
    "def get_floor(row):\n",
    "    if row['floor'] == 1:\n",
    "        return 'первый'\n",
    "    if row['floor'] == row['floors_total']:\n",
    "        return 'последний'\n",
    "    if row['floor'] != 1 and row['floor'] != row['floors_total']:\n",
    "        return 'другой'\n",
    "    return 'нет данных'\n",
    "\n",
    "data['floor_name'] = data.apply(get_floor, axis = 1)\n",
    "data.head()\n"
   ]
  },
  {
   "cell_type": "markdown",
   "metadata": {},
   "source": [
    "Добавим соотношение жилой и общей площади, а также отношение площади кухни к общей:"
   ]
  },
  {
   "cell_type": "code",
   "execution_count": 14,
   "metadata": {},
   "outputs": [
    {
     "data": {
      "text/html": [
       "<div>\n",
       "<style scoped>\n",
       "    .dataframe tbody tr th:only-of-type {\n",
       "        vertical-align: middle;\n",
       "    }\n",
       "\n",
       "    .dataframe tbody tr th {\n",
       "        vertical-align: top;\n",
       "    }\n",
       "\n",
       "    .dataframe thead th {\n",
       "        text-align: right;\n",
       "    }\n",
       "</style>\n",
       "<table border=\"1\" class=\"dataframe\">\n",
       "  <thead>\n",
       "    <tr style=\"text-align: right;\">\n",
       "      <th></th>\n",
       "      <th>total_images</th>\n",
       "      <th>last_price</th>\n",
       "      <th>total_area</th>\n",
       "      <th>first_day_exposition</th>\n",
       "      <th>rooms</th>\n",
       "      <th>ceiling_height</th>\n",
       "      <th>floors_total</th>\n",
       "      <th>living_area</th>\n",
       "      <th>floor</th>\n",
       "      <th>is_apartment</th>\n",
       "      <th>...</th>\n",
       "      <th>cityCenters_nearest</th>\n",
       "      <th>parks_around3000</th>\n",
       "      <th>parks_nearest</th>\n",
       "      <th>ponds_around3000</th>\n",
       "      <th>ponds_nearest</th>\n",
       "      <th>days_exposition</th>\n",
       "      <th>sq_price</th>\n",
       "      <th>floor_name</th>\n",
       "      <th>living_to_total_sq</th>\n",
       "      <th>kitchen_to_total_sq</th>\n",
       "    </tr>\n",
       "  </thead>\n",
       "  <tbody>\n",
       "    <tr>\n",
       "      <th>0</th>\n",
       "      <td>20</td>\n",
       "      <td>13000000</td>\n",
       "      <td>108</td>\n",
       "      <td>2019-03-07</td>\n",
       "      <td>3</td>\n",
       "      <td>2</td>\n",
       "      <td>16.0</td>\n",
       "      <td>51</td>\n",
       "      <td>8</td>\n",
       "      <td>NaN</td>\n",
       "      <td>...</td>\n",
       "      <td>16028.0</td>\n",
       "      <td>1.0</td>\n",
       "      <td>482.0</td>\n",
       "      <td>2.0</td>\n",
       "      <td>755.0</td>\n",
       "      <td>114</td>\n",
       "      <td>120370.370370</td>\n",
       "      <td>другой</td>\n",
       "      <td>0.472222</td>\n",
       "      <td>0.231481</td>\n",
       "    </tr>\n",
       "    <tr>\n",
       "      <th>1</th>\n",
       "      <td>7</td>\n",
       "      <td>3350000</td>\n",
       "      <td>40</td>\n",
       "      <td>2018-12-04</td>\n",
       "      <td>1</td>\n",
       "      <td>2</td>\n",
       "      <td>11.0</td>\n",
       "      <td>18</td>\n",
       "      <td>1</td>\n",
       "      <td>NaN</td>\n",
       "      <td>...</td>\n",
       "      <td>18603.0</td>\n",
       "      <td>0.0</td>\n",
       "      <td>NaN</td>\n",
       "      <td>0.0</td>\n",
       "      <td>NaN</td>\n",
       "      <td>81</td>\n",
       "      <td>83750.000000</td>\n",
       "      <td>первый</td>\n",
       "      <td>0.450000</td>\n",
       "      <td>0.275000</td>\n",
       "    </tr>\n",
       "    <tr>\n",
       "      <th>2</th>\n",
       "      <td>10</td>\n",
       "      <td>5196000</td>\n",
       "      <td>56</td>\n",
       "      <td>2015-08-20</td>\n",
       "      <td>2</td>\n",
       "      <td>2</td>\n",
       "      <td>5.0</td>\n",
       "      <td>34</td>\n",
       "      <td>4</td>\n",
       "      <td>NaN</td>\n",
       "      <td>...</td>\n",
       "      <td>13933.0</td>\n",
       "      <td>1.0</td>\n",
       "      <td>90.0</td>\n",
       "      <td>2.0</td>\n",
       "      <td>574.0</td>\n",
       "      <td>558</td>\n",
       "      <td>92785.714286</td>\n",
       "      <td>другой</td>\n",
       "      <td>0.607143</td>\n",
       "      <td>0.142857</td>\n",
       "    </tr>\n",
       "    <tr>\n",
       "      <th>3</th>\n",
       "      <td>0</td>\n",
       "      <td>64900000</td>\n",
       "      <td>159</td>\n",
       "      <td>2015-07-24</td>\n",
       "      <td>3</td>\n",
       "      <td>2</td>\n",
       "      <td>14.0</td>\n",
       "      <td>45</td>\n",
       "      <td>9</td>\n",
       "      <td>NaN</td>\n",
       "      <td>...</td>\n",
       "      <td>6800.0</td>\n",
       "      <td>2.0</td>\n",
       "      <td>84.0</td>\n",
       "      <td>3.0</td>\n",
       "      <td>234.0</td>\n",
       "      <td>424</td>\n",
       "      <td>408176.100629</td>\n",
       "      <td>другой</td>\n",
       "      <td>0.283019</td>\n",
       "      <td>0.056604</td>\n",
       "    </tr>\n",
       "    <tr>\n",
       "      <th>4</th>\n",
       "      <td>2</td>\n",
       "      <td>10000000</td>\n",
       "      <td>100</td>\n",
       "      <td>2018-06-19</td>\n",
       "      <td>2</td>\n",
       "      <td>3</td>\n",
       "      <td>14.0</td>\n",
       "      <td>32</td>\n",
       "      <td>13</td>\n",
       "      <td>NaN</td>\n",
       "      <td>...</td>\n",
       "      <td>8098.0</td>\n",
       "      <td>2.0</td>\n",
       "      <td>112.0</td>\n",
       "      <td>1.0</td>\n",
       "      <td>48.0</td>\n",
       "      <td>121</td>\n",
       "      <td>100000.000000</td>\n",
       "      <td>другой</td>\n",
       "      <td>0.320000</td>\n",
       "      <td>0.410000</td>\n",
       "    </tr>\n",
       "  </tbody>\n",
       "</table>\n",
       "<p>5 rows × 26 columns</p>\n",
       "</div>"
      ],
      "text/plain": [
       "   total_images  last_price  total_area first_day_exposition  rooms  \\\n",
       "0            20    13000000         108           2019-03-07      3   \n",
       "1             7     3350000          40           2018-12-04      1   \n",
       "2            10     5196000          56           2015-08-20      2   \n",
       "3             0    64900000         159           2015-07-24      3   \n",
       "4             2    10000000         100           2018-06-19      2   \n",
       "\n",
       "   ceiling_height  floors_total  living_area  floor is_apartment  ...  \\\n",
       "0               2          16.0           51      8          NaN  ...   \n",
       "1               2          11.0           18      1          NaN  ...   \n",
       "2               2           5.0           34      4          NaN  ...   \n",
       "3               2          14.0           45      9          NaN  ...   \n",
       "4               3          14.0           32     13          NaN  ...   \n",
       "\n",
       "   cityCenters_nearest  parks_around3000  parks_nearest  ponds_around3000  \\\n",
       "0              16028.0               1.0          482.0               2.0   \n",
       "1              18603.0               0.0            NaN               0.0   \n",
       "2              13933.0               1.0           90.0               2.0   \n",
       "3               6800.0               2.0           84.0               3.0   \n",
       "4               8098.0               2.0          112.0               1.0   \n",
       "\n",
       "  ponds_nearest  days_exposition       sq_price  floor_name  \\\n",
       "0         755.0              114  120370.370370      другой   \n",
       "1           NaN               81   83750.000000      первый   \n",
       "2         574.0              558   92785.714286      другой   \n",
       "3         234.0              424  408176.100629      другой   \n",
       "4          48.0              121  100000.000000      другой   \n",
       "\n",
       "   living_to_total_sq  kitchen_to_total_sq  \n",
       "0            0.472222             0.231481  \n",
       "1            0.450000             0.275000  \n",
       "2            0.607143             0.142857  \n",
       "3            0.283019             0.056604  \n",
       "4            0.320000             0.410000  \n",
       "\n",
       "[5 rows x 26 columns]"
      ]
     },
     "execution_count": 14,
     "metadata": {},
     "output_type": "execute_result"
    }
   ],
   "source": [
    "data['living_to_total_sq']=data['living_area']/data['total_area']\n",
    "data['kitchen_to_total_sq']=data['kitchen_area']/data['total_area']\n",
    "data.head()"
   ]
  },
  {
   "cell_type": "markdown",
   "metadata": {},
   "source": [
    "## Исследовательский анализ данных"
   ]
  },
  {
   "cell_type": "code",
   "execution_count": 15,
   "metadata": {},
   "outputs": [
    {
     "name": "stdout",
     "output_type": "stream",
     "text": [
      "<class 'pandas.core.frame.DataFrame'>\n",
      "RangeIndex: 23699 entries, 0 to 23698\n",
      "Data columns (total 26 columns):\n",
      " #   Column                Non-Null Count  Dtype         \n",
      "---  ------                --------------  -----         \n",
      " 0   total_images          23699 non-null  int64         \n",
      " 1   last_price            23699 non-null  int32         \n",
      " 2   total_area            23699 non-null  int32         \n",
      " 3   first_day_exposition  23699 non-null  datetime64[ns]\n",
      " 4   rooms                 23699 non-null  int64         \n",
      " 5   ceiling_height        23699 non-null  int32         \n",
      " 6   floors_total          23613 non-null  float64       \n",
      " 7   living_area           23699 non-null  int32         \n",
      " 8   floor                 23699 non-null  int64         \n",
      " 9   is_apartment          2775 non-null   object        \n",
      " 10  studio                23699 non-null  bool          \n",
      " 11  open_plan             23699 non-null  bool          \n",
      " 12  kitchen_area          23699 non-null  int32         \n",
      " 13  balcony               12180 non-null  float64       \n",
      " 14  locality_name         23650 non-null  object        \n",
      " 15  airports_nearest      18157 non-null  float64       \n",
      " 16  cityCenters_nearest   23699 non-null  float64       \n",
      " 17  parks_around3000      18181 non-null  float64       \n",
      " 18  parks_nearest         8079 non-null   float64       \n",
      " 19  ponds_around3000      18181 non-null  float64       \n",
      " 20  ponds_nearest         9110 non-null   float64       \n",
      " 21  days_exposition       23699 non-null  int32         \n",
      " 22  sq_price              23699 non-null  float64       \n",
      " 23  floor_name            23699 non-null  object        \n",
      " 24  living_to_total_sq    23699 non-null  float64       \n",
      " 25  kitchen_to_total_sq   23699 non-null  float64       \n",
      "dtypes: bool(2), datetime64[ns](1), float64(11), int32(6), int64(3), object(3)\n",
      "memory usage: 3.8+ MB\n"
     ]
    }
   ],
   "source": [
    "data.info()"
   ]
  },
  {
   "cell_type": "markdown",
   "metadata": {},
   "source": [
    "Изучение параметра \"площадь\":"
   ]
  },
  {
   "cell_type": "code",
   "execution_count": 16,
   "metadata": {},
   "outputs": [
    {
     "data": {
      "text/plain": [
       "count    23699.000000\n",
       "mean        60.120511\n",
       "std         35.665822\n",
       "min         12.000000\n",
       "25%         40.000000\n",
       "50%         52.000000\n",
       "75%         69.000000\n",
       "max        900.000000\n",
       "Name: total_area, dtype: float64"
      ]
     },
     "execution_count": 16,
     "metadata": {},
     "output_type": "execute_result"
    }
   ],
   "source": [
    "data['total_area'].describe()"
   ]
  },
  {
   "cell_type": "markdown",
   "metadata": {},
   "source": [
    "Разброс нормальных значений (25%-75%) площади от 40 до 69кв.м. Медианная площадь - 60,1кв.м. Средний разброс - 35,66. Значения менее 20кв.м. и более 200кв.м. отнесу к выбросам и редким значениям"
   ]
  },
  {
   "cell_type": "code",
   "execution_count": 17,
   "metadata": {
    "scrolled": true
   },
   "outputs": [
    {
     "data": {
      "text/plain": [
       "<AxesSubplot:>"
      ]
     },
     "execution_count": 17,
     "metadata": {},
     "output_type": "execute_result"
    },
    {
     "data": {
      "image/png": "[encoded data removed]",
      "text/plain": [
       "<Figure size 360x720 with 1 Axes>"
      ]
     },
     "metadata": {
      "needs_background": "light"
     },
     "output_type": "display_data"
    }
   ],
   "source": [
    "data.boxplot(column='total_area', figsize=(5,10))"
   ]
  },
  {
   "cell_type": "code",
   "execution_count": 18,
   "metadata": {
    "scrolled": true
   },
   "outputs": [
    {
     "data": {
      "text/plain": [
       "Text(0.5, 1.0, 'Площадь м2')"
      ]
     },
     "execution_count": 18,
     "metadata": {},
     "output_type": "execute_result"
    },
    {
     "data": {
      "image/png": "[encoded data removed]",
      "text/plain": [
       "<Figure size 432x288 with 1 Axes>"
      ]
     },
     "metadata": {
      "needs_background": "light"
     },
     "output_type": "display_data"
    }
   ],
   "source": [
    "data['total_area'].hist(bins=50, range=(20,200))\n",
    "plt.title(\"Площадь м2\")"
   ]
  },
  {
   "cell_type": "markdown",
   "metadata": {},
   "source": [
    "Изучение параметра \"цена\":"
   ]
  },
  {
   "cell_type": "code",
   "execution_count": 19,
   "metadata": {},
   "outputs": [
    {
     "data": {
      "text/plain": [
       "count    23699.000000\n",
       "mean         6.541549\n",
       "std         10.887013\n",
       "min          0.012190\n",
       "25%          3.400000\n",
       "50%          4.650000\n",
       "75%          6.800000\n",
       "max        763.000000\n",
       "Name: last_price, dtype: float64"
      ]
     },
     "execution_count": 19,
     "metadata": {},
     "output_type": "execute_result"
    }
   ],
   "source": [
    "data['last_price'] = data['last_price']/1000000\n",
    "data['last_price'].describe()"
   ]
  },
  {
   "cell_type": "markdown",
   "metadata": {},
   "source": [
    "Медианная цена 6,54млн.р, нормальные значения от 3,4 до 6,8млн.р. Большой показатель среднего отклонения. В данных много выбросов, что можно увидеть на диаграмме размаха:"
   ]
  },
  {
   "cell_type": "code",
   "execution_count": 20,
   "metadata": {
    "scrolled": true
   },
   "outputs": [
    {
     "data": {
      "text/plain": [
       "Text(0.5, 1.0, 'Цена млн.р')"
      ]
     },
     "execution_count": 20,
     "metadata": {},
     "output_type": "execute_result"
    },
    {
     "data": {
      "image/png": "[encoded data removed]",
      "text/plain": [
       "<Figure size 360x720 with 1 Axes>"
      ]
     },
     "metadata": {
      "needs_background": "light"
     },
     "output_type": "display_data"
    }
   ],
   "source": [
    "data.boxplot(column='last_price', figsize=(5,10))\n",
    "plt.title(\"Цена млн.р\")"
   ]
  },
  {
   "cell_type": "markdown",
   "metadata": {},
   "source": [
    "Откинем выбросы от 40млн.р и построим гистограмму:"
   ]
  },
  {
   "cell_type": "code",
   "execution_count": 21,
   "metadata": {},
   "outputs": [
    {
     "data": {
      "text/plain": [
       "0        13.000\n",
       "1         3.350\n",
       "2         5.196\n",
       "3        64.900\n",
       "4        10.000\n",
       "          ...  \n",
       "23694     9.700\n",
       "23695     3.100\n",
       "23696     2.500\n",
       "23697    11.475\n",
       "23698     1.350\n",
       "Name: last_price, Length: 23699, dtype: float64"
      ]
     },
     "execution_count": 21,
     "metadata": {},
     "output_type": "execute_result"
    }
   ],
   "source": [
    "data['last_price']"
   ]
  },
  {
   "cell_type": "code",
   "execution_count": 22,
   "metadata": {},
   "outputs": [
    {
     "data": {
      "image/png": "[encoded data removed]",
      "text/plain": [
       "<Figure size 432x288 with 1 Axes>"
      ]
     },
     "metadata": {
      "needs_background": "light"
     },
     "output_type": "display_data"
    }
   ],
   "source": [
    "plt.title('Цена продажи млн.руб.')\n",
    "data['last_price'].hist(bins=50, range=(0,40))\n",
    "plt.show()"
   ]
  },
  {
   "cell_type": "markdown",
   "metadata": {},
   "source": [
    "Изучение параметра \"число комнат\":"
   ]
  },
  {
   "cell_type": "code",
   "execution_count": 23,
   "metadata": {},
   "outputs": [
    {
     "data": {
      "text/plain": [
       "count    23699.000000\n",
       "mean         2.070636\n",
       "std          1.078405\n",
       "min          0.000000\n",
       "25%          1.000000\n",
       "50%          2.000000\n",
       "75%          3.000000\n",
       "max         19.000000\n",
       "Name: rooms, dtype: float64"
      ]
     },
     "execution_count": 23,
     "metadata": {},
     "output_type": "execute_result"
    }
   ],
   "source": [
    "data['rooms'].describe()"
   ]
  },
  {
   "cell_type": "code",
   "execution_count": 24,
   "metadata": {},
   "outputs": [
    {
     "data": {
      "image/png": "[encoded data removed]",
      "text/plain": [
       "<Figure size 432x288 with 1 Axes>"
      ]
     },
     "metadata": {
      "needs_background": "light"
     },
     "output_type": "display_data"
    }
   ],
   "source": [
    "plt.title('Кол-во комнат')\n",
    "data['rooms'].hist(bins=30)\n",
    "plt.show()"
   ]
  },
  {
   "cell_type": "markdown",
   "metadata": {},
   "source": [
    "Изучение параметра \"высота потолка\":"
   ]
  },
  {
   "cell_type": "code",
   "execution_count": 25,
   "metadata": {},
   "outputs": [
    {
     "data": {
      "text/plain": [
       "count    23699.000000\n",
       "mean         2.148656\n",
       "std          1.035599\n",
       "min          0.000000\n",
       "25%          2.000000\n",
       "50%          2.000000\n",
       "75%          2.000000\n",
       "max        100.000000\n",
       "Name: ceiling_height, dtype: float64"
      ]
     },
     "execution_count": 25,
     "metadata": {},
     "output_type": "execute_result"
    }
   ],
   "source": [
    "data['ceiling_height'].describe()"
   ]
  },
  {
   "cell_type": "markdown",
   "metadata": {},
   "source": [
    "Средняя высота потолка - 2,1 метр, что мало, максимальное количество - 100м, что тоже крайне нереалистично. Скорее всего в данных большое количество выбросов."
   ]
  },
  {
   "cell_type": "code",
   "execution_count": 26,
   "metadata": {},
   "outputs": [
    {
     "data": {
      "text/plain": [
       "<AxesSubplot:>"
      ]
     },
     "execution_count": 26,
     "metadata": {},
     "output_type": "execute_result"
    },
    {
     "data": {
      "image/png": "[encoded data removed]",
      "text/plain": [
       "<Figure size 432x288 with 1 Axes>"
      ]
     },
     "metadata": {
      "needs_background": "light"
     },
     "output_type": "display_data"
    }
   ],
   "source": [
    "data['ceiling_height'].hist(bins=50, range=(0, 3))"
   ]
  },
  {
   "cell_type": "markdown",
   "metadata": {},
   "source": [
    "**Переходим к пункту: \"Изучите время продажи квартиры. Постройте гистограмму. Посчитайте среднее и медиану. Опишите, сколько обычно занимает продажа. Когда можно считать, что продажи прошли очень быстро, а когда необычно долго?\"**"
   ]
  },
  {
   "cell_type": "code",
   "execution_count": 27,
   "metadata": {},
   "outputs": [
    {
     "data": {
      "text/plain": [
       "count    23699.000000\n",
       "mean       170.664374\n",
       "std        206.420723\n",
       "min          1.000000\n",
       "25%         45.000000\n",
       "50%         92.000000\n",
       "75%        200.000000\n",
       "max       1580.000000\n",
       "Name: days_exposition, dtype: float64"
      ]
     },
     "execution_count": 27,
     "metadata": {},
     "output_type": "execute_result"
    }
   ],
   "source": [
    "data['days_exposition'].describe()"
   ]
  },
  {
   "cell_type": "markdown",
   "metadata": {},
   "source": [
    "Среднее значение 170 дней, медиана - 92 дня. Обычно продажа занимает около 92 дней. Значения до Q2, т.е. менее 45 дней - за пределами нормальных значений, можно характеризовать как очень быструю продажу. За необычно долгий период можно взять за основу числа, которые уходят за 75%, т.е. более 200 дней."
   ]
  },
  {
   "cell_type": "code",
   "execution_count": 28,
   "metadata": {
    "scrolled": true
   },
   "outputs": [
    {
     "data": {
      "text/plain": [
       "<AxesSubplot:>"
      ]
     },
     "execution_count": 28,
     "metadata": {},
     "output_type": "execute_result"
    },
    {
     "data": {
      "image/png": "[encoded data removed]",
      "text/plain": [
       "<Figure size 360x720 with 1 Axes>"
      ]
     },
     "metadata": {
      "needs_background": "light"
     },
     "output_type": "display_data"
    }
   ],
   "source": [
    "data.boxplot(column='days_exposition', figsize=(5,10))"
   ]
  },
  {
   "cell_type": "code",
   "execution_count": 29,
   "metadata": {},
   "outputs": [
    {
     "data": {
      "text/plain": [
       "<AxesSubplot:>"
      ]
     },
     "execution_count": 29,
     "metadata": {},
     "output_type": "execute_result"
    },
    {
     "data": {
      "image/png": "[encoded data removed]",
      "text/plain": [
       "<Figure size 432x288 with 1 Axes>"
      ]
     },
     "metadata": {
      "needs_background": "light"
     },
     "output_type": "display_data"
    }
   ],
   "source": [
    "data['days_exposition'].hist(bins=30)"
   ]
  },
  {
   "cell_type": "markdown",
   "metadata": {},
   "source": [
    "Значения менее второй квадрильи (45 дней), можно считать вбросами. Отсортировываем таблицу при помощи метода query. Значения после 1200 дней стремятся к нулю, их также убираем, как редкие значения."
   ]
  },
  {
   "cell_type": "markdown",
   "metadata": {},
   "source": [
    "**Задание: \"Уберите редкие и выбивающиеся значения. Опишите, какие особенности обнаружили.\"**"
   ]
  },
  {
   "cell_type": "code",
   "execution_count": 30,
   "metadata": {},
   "outputs": [
    {
     "data": {
      "text/plain": [
       "<AxesSubplot:>"
      ]
     },
     "execution_count": 30,
     "metadata": {},
     "output_type": "execute_result"
    },
    {
     "data": {
      "image/png": "[encoded data removed]",
      "text/plain": [
       "<Figure size 432x288 with 1 Axes>"
      ]
     },
     "metadata": {
      "needs_background": "light"
     },
     "output_type": "display_data"
    }
   ],
   "source": [
    "data=data.query('45 < days_exposition < 1200')\n",
    "data['days_exposition'].hist(bins=50)"
   ]
  },
  {
   "cell_type": "code",
   "execution_count": 31,
   "metadata": {},
   "outputs": [
    {
     "data": {
      "text/plain": [
       "17633"
      ]
     },
     "execution_count": 31,
     "metadata": {},
     "output_type": "execute_result"
    }
   ],
   "source": [
    "len(data)# проверяем количество после фильтрации"
   ]
  },
  {
   "cell_type": "markdown",
   "metadata": {},
   "source": [
    "**Задание \"Какие факторы больше всего влияют на стоимость квартиры? Изучите, зависит ли цена от квадратного метра, числа комнат, этажа (первого или последнего), удалённости от центра. Также изучите зависимость от даты размещения: дня недели, месяца и года. \"Выберите 10 населённых пунктов с наибольшим числом объявлений. Посчитайте среднюю цену квадратного метра в этих населённых пунктах. Выделите населённые пункты с самой высокой и низкой стоимостью жилья. Эти данные можно найти по имени в столбце 'locality_name'. \"**"
   ]
  },
  {
   "cell_type": "code",
   "execution_count": 32,
   "metadata": {},
   "outputs": [],
   "source": [
    "data['number'] = data.reset_index().index #добавление столбца с нумерацией списка, для удобства"
   ]
  },
  {
   "cell_type": "markdown",
   "metadata": {},
   "source": [
    "**Изучите, зависит ли цена от квадратного метра, числа комнат, этажа (первого или последнего), удалённости от центра.**  - Для выполнения данного пункта построим матрицу:"
   ]
  },
  {
   "cell_type": "code",
   "execution_count": 33,
   "metadata": {
    "scrolled": false
   },
   "outputs": [
    {
     "name": "stdout",
     "output_type": "stream",
     "text": [
      "                     cityCenters_nearest  last_price     rooms  total_area\n",
      "cityCenters_nearest             1.000000   -0.216632 -0.200211   -0.239153\n",
      "last_price                     -0.216632    1.000000  0.390085    0.709365\n",
      "rooms                          -0.200211    0.390085  1.000000    0.758644\n",
      "total_area                     -0.239153    0.709365  0.758644    1.000000\n"
     ]
    },
    {
     "data": {
      "text/plain": [
       "array([[<AxesSubplot:xlabel='cityCenters_nearest', ylabel='cityCenters_nearest'>,\n",
       "        <AxesSubplot:xlabel='last_price', ylabel='cityCenters_nearest'>,\n",
       "        <AxesSubplot:xlabel='rooms', ylabel='cityCenters_nearest'>,\n",
       "        <AxesSubplot:xlabel='total_area', ylabel='cityCenters_nearest'>],\n",
       "       [<AxesSubplot:xlabel='cityCenters_nearest', ylabel='last_price'>,\n",
       "        <AxesSubplot:xlabel='last_price', ylabel='last_price'>,\n",
       "        <AxesSubplot:xlabel='rooms', ylabel='last_price'>,\n",
       "        <AxesSubplot:xlabel='total_area', ylabel='last_price'>],\n",
       "       [<AxesSubplot:xlabel='cityCenters_nearest', ylabel='rooms'>,\n",
       "        <AxesSubplot:xlabel='last_price', ylabel='rooms'>,\n",
       "        <AxesSubplot:xlabel='rooms', ylabel='rooms'>,\n",
       "        <AxesSubplot:xlabel='total_area', ylabel='rooms'>],\n",
       "       [<AxesSubplot:xlabel='cityCenters_nearest', ylabel='total_area'>,\n",
       "        <AxesSubplot:xlabel='last_price', ylabel='total_area'>,\n",
       "        <AxesSubplot:xlabel='rooms', ylabel='total_area'>,\n",
       "        <AxesSubplot:xlabel='total_area', ylabel='total_area'>]],\n",
       "      dtype=object)"
      ]
     },
     "execution_count": 33,
     "metadata": {},
     "output_type": "execute_result"
    },
    {
     "data": {
      "image/png": "[encoded data removed]",
      "text/plain": [
       "<Figure size 648x648 with 16 Axes>"
      ]
     },
     "metadata": {
      "needs_background": "light"
     },
     "output_type": "display_data"
    }
   ],
   "source": [
    "data_stat_multi = data.pivot_table(index='number', values=['last_price', 'total_area', 'rooms', 'cityCenters_nearest'])\n",
    "print(data_stat_multi.corr())\n",
    "pd.plotting.scatter_matrix(data_stat_multi, figsize=(9, 9)) "
   ]
  },
  {
   "cell_type": "markdown",
   "metadata": {},
   "source": [
    "Самая сильная корреляция наблюдается между ценой и общей площадью, далее влияет фактор количества комнат, однако актуально наличие до 5 комнат, далее цена начинает снижаться.\n",
    "Обратная корреляция между стоимостью квартир и расстоянием от центра наблюдается, но не оч сильная, так как взаимосвязь сильная на близких к центру расстояниях, но после расстояния в 10000 влияние снижается и данный фактор уже не имеет большого значения."
   ]
  },
  {
   "cell_type": "markdown",
   "metadata": {},
   "source": [
    "**Также изучите зависимость от даты размещения: дня недели, месяца и года.**"
   ]
  },
  {
   "cell_type": "markdown",
   "metadata": {},
   "source": [
    "Попробовала два способа, но кроме падения цен в 2018г, никаких закономерностей не заметила"
   ]
  },
  {
   "cell_type": "code",
   "execution_count": 34,
   "metadata": {},
   "outputs": [
    {
     "data": {
      "text/plain": [
       "<AxesSubplot:xlabel='floor_name'>"
      ]
     },
     "execution_count": 34,
     "metadata": {},
     "output_type": "execute_result"
    },
    {
     "data": {
      "image/png": "[encoded data removed]",
      "text/plain": [
       "<Figure size 1440x432 with 1 Axes>"
      ]
     },
     "metadata": {
      "needs_background": "light"
     },
     "output_type": "display_data"
    }
   ],
   "source": [
    "data.plot(\n",
    "    x='floor_name',\n",
    "    y='last_price',\n",
    "    style='o',\n",
    "    grid=True,\n",
    "    figsize=(20, 6),\n",
    ") "
   ]
  },
  {
   "cell_type": "code",
   "execution_count": 35,
   "metadata": {},
   "outputs": [
    {
     "data": {
      "text/html": [
       "<div>\n",
       "<style scoped>\n",
       "    .dataframe tbody tr th:only-of-type {\n",
       "        vertical-align: middle;\n",
       "    }\n",
       "\n",
       "    .dataframe tbody tr th {\n",
       "        vertical-align: top;\n",
       "    }\n",
       "\n",
       "    .dataframe thead th {\n",
       "        text-align: right;\n",
       "    }\n",
       "</style>\n",
       "<table border=\"1\" class=\"dataframe\">\n",
       "  <thead>\n",
       "    <tr style=\"text-align: right;\">\n",
       "      <th></th>\n",
       "      <th>add_count</th>\n",
       "      <th>sq_price_agg</th>\n",
       "    </tr>\n",
       "    <tr>\n",
       "      <th>locality_name</th>\n",
       "      <th></th>\n",
       "      <th></th>\n",
       "    </tr>\n",
       "  </thead>\n",
       "  <tbody>\n",
       "    <tr>\n",
       "      <th>Санкт-Петербург</th>\n",
       "      <td>11787</td>\n",
       "      <td>117003.247013</td>\n",
       "    </tr>\n",
       "    <tr>\n",
       "      <th>посёлок Мурино</th>\n",
       "      <td>338</td>\n",
       "      <td>85257.753270</td>\n",
       "    </tr>\n",
       "    <tr>\n",
       "      <th>посёлок Шушары</th>\n",
       "      <td>320</td>\n",
       "      <td>79768.796004</td>\n",
       "    </tr>\n",
       "    <tr>\n",
       "      <th>Всеволожск</th>\n",
       "      <td>307</td>\n",
       "      <td>67936.411280</td>\n",
       "    </tr>\n",
       "    <tr>\n",
       "      <th>Пушкин</th>\n",
       "      <td>295</td>\n",
       "      <td>103928.790682</td>\n",
       "    </tr>\n",
       "    <tr>\n",
       "      <th>...</th>\n",
       "      <td>...</td>\n",
       "      <td>...</td>\n",
       "    </tr>\n",
       "    <tr>\n",
       "      <th>посёлок Высокоключевой</th>\n",
       "      <td>1</td>\n",
       "      <td>34931.506849</td>\n",
       "    </tr>\n",
       "    <tr>\n",
       "      <th>поселок Возрождение</th>\n",
       "      <td>1</td>\n",
       "      <td>29054.054054</td>\n",
       "    </tr>\n",
       "    <tr>\n",
       "      <th>поселок Гаврилово</th>\n",
       "      <td>1</td>\n",
       "      <td>27209.302326</td>\n",
       "    </tr>\n",
       "    <tr>\n",
       "      <th>посёлок Алексеевка</th>\n",
       "      <td>1</td>\n",
       "      <td>22222.222222</td>\n",
       "    </tr>\n",
       "    <tr>\n",
       "      <th>село Старая Ладога</th>\n",
       "      <td>1</td>\n",
       "      <td>36666.666667</td>\n",
       "    </tr>\n",
       "  </tbody>\n",
       "</table>\n",
       "<p>334 rows × 2 columns</p>\n",
       "</div>"
      ],
      "text/plain": [
       "                        add_count   sq_price_agg\n",
       "locality_name                                   \n",
       "Санкт-Петербург             11787  117003.247013\n",
       "посёлок Мурино                338   85257.753270\n",
       "посёлок Шушары                320   79768.796004\n",
       "Всеволожск                    307   67936.411280\n",
       "Пушкин                        295  103928.790682\n",
       "...                           ...            ...\n",
       "посёлок Высокоключевой          1   34931.506849\n",
       "поселок Возрождение             1   29054.054054\n",
       "поселок Гаврилово               1   27209.302326\n",
       "посёлок Алексеевка              1   22222.222222\n",
       "село Старая Ладога              1   36666.666667\n",
       "\n",
       "[334 rows x 2 columns]"
      ]
     },
     "execution_count": 35,
     "metadata": {},
     "output_type": "execute_result"
    }
   ],
   "source": [
    "most_popular = data.pivot_table(index='locality_name', values = 'sq_price', aggfunc=('mean','count'))\n",
    "most_popular.columns = ('add_count','sq_price_agg')\n",
    "#most_popular = data['locality_name'].value_counts().head(10)\n",
    "most_popular.sort_values(by='add_count', ascending=False)"
   ]
  },
  {
   "cell_type": "markdown",
   "metadata": {},
   "source": [
    "10 населённых пунктов с наибольшим числом объявлений:"
   ]
  },
  {
   "cell_type": "code",
   "execution_count": 36,
   "metadata": {},
   "outputs": [
    {
     "data": {
      "text/html": [
       "<div>\n",
       "<style scoped>\n",
       "    .dataframe tbody tr th:only-of-type {\n",
       "        vertical-align: middle;\n",
       "    }\n",
       "\n",
       "    .dataframe tbody tr th {\n",
       "        vertical-align: top;\n",
       "    }\n",
       "\n",
       "    .dataframe thead th {\n",
       "        text-align: right;\n",
       "    }\n",
       "</style>\n",
       "<table border=\"1\" class=\"dataframe\">\n",
       "  <thead>\n",
       "    <tr style=\"text-align: right;\">\n",
       "      <th></th>\n",
       "      <th>add_count</th>\n",
       "      <th>sq_price_agg</th>\n",
       "    </tr>\n",
       "    <tr>\n",
       "      <th>locality_name</th>\n",
       "      <th></th>\n",
       "      <th></th>\n",
       "    </tr>\n",
       "  </thead>\n",
       "  <tbody>\n",
       "    <tr>\n",
       "      <th>Санкт-Петербург</th>\n",
       "      <td>11787</td>\n",
       "      <td>117003.247013</td>\n",
       "    </tr>\n",
       "    <tr>\n",
       "      <th>посёлок Мурино</th>\n",
       "      <td>338</td>\n",
       "      <td>85257.753270</td>\n",
       "    </tr>\n",
       "    <tr>\n",
       "      <th>посёлок Шушары</th>\n",
       "      <td>320</td>\n",
       "      <td>79768.796004</td>\n",
       "    </tr>\n",
       "    <tr>\n",
       "      <th>Всеволожск</th>\n",
       "      <td>307</td>\n",
       "      <td>67936.411280</td>\n",
       "    </tr>\n",
       "    <tr>\n",
       "      <th>Пушкин</th>\n",
       "      <td>295</td>\n",
       "      <td>103928.790682</td>\n",
       "    </tr>\n",
       "    <tr>\n",
       "      <th>Гатчина</th>\n",
       "      <td>238</td>\n",
       "      <td>68094.159981</td>\n",
       "    </tr>\n",
       "    <tr>\n",
       "      <th>Колпино</th>\n",
       "      <td>229</td>\n",
       "      <td>75880.975360</td>\n",
       "    </tr>\n",
       "    <tr>\n",
       "      <th>посёлок Парголово</th>\n",
       "      <td>226</td>\n",
       "      <td>91167.885675</td>\n",
       "    </tr>\n",
       "    <tr>\n",
       "      <th>деревня Кудрово</th>\n",
       "      <td>202</td>\n",
       "      <td>92265.110153</td>\n",
       "    </tr>\n",
       "    <tr>\n",
       "      <th>Выборг</th>\n",
       "      <td>170</td>\n",
       "      <td>58300.499686</td>\n",
       "    </tr>\n",
       "  </tbody>\n",
       "</table>\n",
       "</div>"
      ],
      "text/plain": [
       "                   add_count   sq_price_agg\n",
       "locality_name                              \n",
       "Санкт-Петербург        11787  117003.247013\n",
       "посёлок Мурино           338   85257.753270\n",
       "посёлок Шушары           320   79768.796004\n",
       "Всеволожск               307   67936.411280\n",
       "Пушкин                   295  103928.790682\n",
       "Гатчина                  238   68094.159981\n",
       "Колпино                  229   75880.975360\n",
       "посёлок Парголово        226   91167.885675\n",
       "деревня Кудрово          202   92265.110153\n",
       "Выборг                   170   58300.499686"
      ]
     },
     "execution_count": 36,
     "metadata": {},
     "output_type": "execute_result"
    }
   ],
   "source": [
    "most_popular.sort_values(by='add_count', ascending=False).head(10)"
   ]
  },
  {
   "cell_type": "markdown",
   "metadata": {},
   "source": [
    "Населённые пункты с самой высокой стоимостью жилья:"
   ]
  },
  {
   "cell_type": "code",
   "execution_count": 37,
   "metadata": {},
   "outputs": [
    {
     "data": {
      "text/html": [
       "<div>\n",
       "<style scoped>\n",
       "    .dataframe tbody tr th:only-of-type {\n",
       "        vertical-align: middle;\n",
       "    }\n",
       "\n",
       "    .dataframe tbody tr th {\n",
       "        vertical-align: top;\n",
       "    }\n",
       "\n",
       "    .dataframe thead th {\n",
       "        text-align: right;\n",
       "    }\n",
       "</style>\n",
       "<table border=\"1\" class=\"dataframe\">\n",
       "  <thead>\n",
       "    <tr style=\"text-align: right;\">\n",
       "      <th></th>\n",
       "      <th>add_count</th>\n",
       "      <th>sq_price_agg</th>\n",
       "    </tr>\n",
       "    <tr>\n",
       "      <th>locality_name</th>\n",
       "      <th></th>\n",
       "      <th></th>\n",
       "    </tr>\n",
       "  </thead>\n",
       "  <tbody>\n",
       "    <tr>\n",
       "      <th>посёлок Лисий Нос</th>\n",
       "      <td>1</td>\n",
       "      <td>169883.720930</td>\n",
       "    </tr>\n",
       "    <tr>\n",
       "      <th>Зеленогорск</th>\n",
       "      <td>19</td>\n",
       "      <td>119118.906148</td>\n",
       "    </tr>\n",
       "    <tr>\n",
       "      <th>Санкт-Петербург</th>\n",
       "      <td>11787</td>\n",
       "      <td>117003.247013</td>\n",
       "    </tr>\n",
       "    <tr>\n",
       "      <th>деревня Бор</th>\n",
       "      <td>1</td>\n",
       "      <td>105704.166667</td>\n",
       "    </tr>\n",
       "    <tr>\n",
       "      <th>посёлок Репино</th>\n",
       "      <td>4</td>\n",
       "      <td>104313.941396</td>\n",
       "    </tr>\n",
       "    <tr>\n",
       "      <th>Пушкин</th>\n",
       "      <td>295</td>\n",
       "      <td>103928.790682</td>\n",
       "    </tr>\n",
       "    <tr>\n",
       "      <th>Сестрорецк</th>\n",
       "      <td>146</td>\n",
       "      <td>102458.328096</td>\n",
       "    </tr>\n",
       "    <tr>\n",
       "      <th>Кудрово</th>\n",
       "      <td>123</td>\n",
       "      <td>100164.192373</td>\n",
       "    </tr>\n",
       "    <tr>\n",
       "      <th>деревня Мистолово</th>\n",
       "      <td>10</td>\n",
       "      <td>100144.675611</td>\n",
       "    </tr>\n",
       "    <tr>\n",
       "      <th>посёлок Левашово</th>\n",
       "      <td>1</td>\n",
       "      <td>97674.418605</td>\n",
       "    </tr>\n",
       "  </tbody>\n",
       "</table>\n",
       "</div>"
      ],
      "text/plain": [
       "                   add_count   sq_price_agg\n",
       "locality_name                              \n",
       "посёлок Лисий Нос          1  169883.720930\n",
       "Зеленогорск               19  119118.906148\n",
       "Санкт-Петербург        11787  117003.247013\n",
       "деревня Бор                1  105704.166667\n",
       "посёлок Репино             4  104313.941396\n",
       "Пушкин                   295  103928.790682\n",
       "Сестрорецк               146  102458.328096\n",
       "Кудрово                  123  100164.192373\n",
       "деревня Мистолово         10  100144.675611\n",
       "посёлок Левашово           1   97674.418605"
      ]
     },
     "execution_count": 37,
     "metadata": {},
     "output_type": "execute_result"
    }
   ],
   "source": [
    "most_popular.sort_values(by='sq_price_agg', ascending=False).head(10)"
   ]
  },
  {
   "cell_type": "markdown",
   "metadata": {},
   "source": [
    "Населённые пункты с самой низкой стоимостью жилья:"
   ]
  },
  {
   "cell_type": "code",
   "execution_count": 38,
   "metadata": {},
   "outputs": [
    {
     "data": {
      "text/html": [
       "<div>\n",
       "<style scoped>\n",
       "    .dataframe tbody tr th:only-of-type {\n",
       "        vertical-align: middle;\n",
       "    }\n",
       "\n",
       "    .dataframe tbody tr th {\n",
       "        vertical-align: top;\n",
       "    }\n",
       "\n",
       "    .dataframe thead th {\n",
       "        text-align: right;\n",
       "    }\n",
       "</style>\n",
       "<table border=\"1\" class=\"dataframe\">\n",
       "  <thead>\n",
       "    <tr style=\"text-align: right;\">\n",
       "      <th></th>\n",
       "      <th>add_count</th>\n",
       "      <th>sq_price_agg</th>\n",
       "    </tr>\n",
       "    <tr>\n",
       "      <th>locality_name</th>\n",
       "      <th></th>\n",
       "      <th></th>\n",
       "    </tr>\n",
       "  </thead>\n",
       "  <tbody>\n",
       "    <tr>\n",
       "      <th>поселок Житково</th>\n",
       "      <td>2</td>\n",
       "      <td>15032.790592</td>\n",
       "    </tr>\n",
       "    <tr>\n",
       "      <th>поселок станции Лужайка</th>\n",
       "      <td>1</td>\n",
       "      <td>15000.000000</td>\n",
       "    </tr>\n",
       "    <tr>\n",
       "      <th>посёлок станции Свирь</th>\n",
       "      <td>1</td>\n",
       "      <td>15000.000000</td>\n",
       "    </tr>\n",
       "    <tr>\n",
       "      <th>деревня Сижно</th>\n",
       "      <td>1</td>\n",
       "      <td>13709.677419</td>\n",
       "    </tr>\n",
       "    <tr>\n",
       "      <th>поселок Тёсово-4</th>\n",
       "      <td>1</td>\n",
       "      <td>12931.034483</td>\n",
       "    </tr>\n",
       "    <tr>\n",
       "      <th>поселок Совхозный</th>\n",
       "      <td>1</td>\n",
       "      <td>12555.555556</td>\n",
       "    </tr>\n",
       "    <tr>\n",
       "      <th>деревня Ям-Тесово</th>\n",
       "      <td>1</td>\n",
       "      <td>12500.000000</td>\n",
       "    </tr>\n",
       "    <tr>\n",
       "      <th>деревня Выскатка</th>\n",
       "      <td>1</td>\n",
       "      <td>11463.414634</td>\n",
       "    </tr>\n",
       "    <tr>\n",
       "      <th>городской посёлок Будогощь</th>\n",
       "      <td>1</td>\n",
       "      <td>10714.285714</td>\n",
       "    </tr>\n",
       "    <tr>\n",
       "      <th>деревня Старополье</th>\n",
       "      <td>1</td>\n",
       "      <td>10465.116279</td>\n",
       "    </tr>\n",
       "  </tbody>\n",
       "</table>\n",
       "</div>"
      ],
      "text/plain": [
       "                            add_count  sq_price_agg\n",
       "locality_name                                      \n",
       "поселок Житково                     2  15032.790592\n",
       "поселок станции Лужайка             1  15000.000000\n",
       "посёлок станции Свирь               1  15000.000000\n",
       "деревня Сижно                       1  13709.677419\n",
       "поселок Тёсово-4                    1  12931.034483\n",
       "поселок Совхозный                   1  12555.555556\n",
       "деревня Ям-Тесово                   1  12500.000000\n",
       "деревня Выскатка                    1  11463.414634\n",
       "городской посёлок Будогощь          1  10714.285714\n",
       "деревня Старополье                  1  10465.116279"
      ]
     },
     "execution_count": 38,
     "metadata": {},
     "output_type": "execute_result"
    }
   ],
   "source": [
    "most_popular.sort_values(by='sq_price_agg', ascending=False).tail(10)"
   ]
  },
  {
   "cell_type": "markdown",
   "metadata": {},
   "source": [
    " **Изучите предложения квартир: для каждой квартиры есть информация о расстоянии до центра.**"
   ]
  },
  {
   "cell_type": "code",
   "execution_count": 39,
   "metadata": {},
   "outputs": [
    {
     "data": {
      "text/html": [
       "<div>\n",
       "<style scoped>\n",
       "    .dataframe tbody tr th:only-of-type {\n",
       "        vertical-align: middle;\n",
       "    }\n",
       "\n",
       "    .dataframe tbody tr th {\n",
       "        vertical-align: top;\n",
       "    }\n",
       "\n",
       "    .dataframe thead th {\n",
       "        text-align: right;\n",
       "    }\n",
       "</style>\n",
       "<table border=\"1\" class=\"dataframe\">\n",
       "  <thead>\n",
       "    <tr style=\"text-align: right;\">\n",
       "      <th></th>\n",
       "      <th>total_images</th>\n",
       "      <th>last_price</th>\n",
       "      <th>total_area</th>\n",
       "      <th>first_day_exposition</th>\n",
       "      <th>rooms</th>\n",
       "      <th>ceiling_height</th>\n",
       "      <th>floors_total</th>\n",
       "      <th>living_area</th>\n",
       "      <th>floor</th>\n",
       "      <th>is_apartment</th>\n",
       "      <th>...</th>\n",
       "      <th>parks_nearest</th>\n",
       "      <th>ponds_around3000</th>\n",
       "      <th>ponds_nearest</th>\n",
       "      <th>days_exposition</th>\n",
       "      <th>sq_price</th>\n",
       "      <th>floor_name</th>\n",
       "      <th>living_to_total_sq</th>\n",
       "      <th>kitchen_to_total_sq</th>\n",
       "      <th>number</th>\n",
       "      <th>cityCenters_nearest_km</th>\n",
       "    </tr>\n",
       "  </thead>\n",
       "  <tbody>\n",
       "    <tr>\n",
       "      <th>0</th>\n",
       "      <td>20</td>\n",
       "      <td>13.000</td>\n",
       "      <td>108</td>\n",
       "      <td>2019-03-07</td>\n",
       "      <td>3</td>\n",
       "      <td>2</td>\n",
       "      <td>16.0</td>\n",
       "      <td>51</td>\n",
       "      <td>8</td>\n",
       "      <td>NaN</td>\n",
       "      <td>...</td>\n",
       "      <td>482.0</td>\n",
       "      <td>2.0</td>\n",
       "      <td>755.0</td>\n",
       "      <td>114</td>\n",
       "      <td>120370.370370</td>\n",
       "      <td>другой</td>\n",
       "      <td>0.472222</td>\n",
       "      <td>0.231481</td>\n",
       "      <td>0</td>\n",
       "      <td>16.0</td>\n",
       "    </tr>\n",
       "    <tr>\n",
       "      <th>1</th>\n",
       "      <td>7</td>\n",
       "      <td>3.350</td>\n",
       "      <td>40</td>\n",
       "      <td>2018-12-04</td>\n",
       "      <td>1</td>\n",
       "      <td>2</td>\n",
       "      <td>11.0</td>\n",
       "      <td>18</td>\n",
       "      <td>1</td>\n",
       "      <td>NaN</td>\n",
       "      <td>...</td>\n",
       "      <td>NaN</td>\n",
       "      <td>0.0</td>\n",
       "      <td>NaN</td>\n",
       "      <td>81</td>\n",
       "      <td>83750.000000</td>\n",
       "      <td>первый</td>\n",
       "      <td>0.450000</td>\n",
       "      <td>0.275000</td>\n",
       "      <td>1</td>\n",
       "      <td>19.0</td>\n",
       "    </tr>\n",
       "    <tr>\n",
       "      <th>2</th>\n",
       "      <td>10</td>\n",
       "      <td>5.196</td>\n",
       "      <td>56</td>\n",
       "      <td>2015-08-20</td>\n",
       "      <td>2</td>\n",
       "      <td>2</td>\n",
       "      <td>5.0</td>\n",
       "      <td>34</td>\n",
       "      <td>4</td>\n",
       "      <td>NaN</td>\n",
       "      <td>...</td>\n",
       "      <td>90.0</td>\n",
       "      <td>2.0</td>\n",
       "      <td>574.0</td>\n",
       "      <td>558</td>\n",
       "      <td>92785.714286</td>\n",
       "      <td>другой</td>\n",
       "      <td>0.607143</td>\n",
       "      <td>0.142857</td>\n",
       "      <td>2</td>\n",
       "      <td>14.0</td>\n",
       "    </tr>\n",
       "    <tr>\n",
       "      <th>3</th>\n",
       "      <td>0</td>\n",
       "      <td>64.900</td>\n",
       "      <td>159</td>\n",
       "      <td>2015-07-24</td>\n",
       "      <td>3</td>\n",
       "      <td>2</td>\n",
       "      <td>14.0</td>\n",
       "      <td>45</td>\n",
       "      <td>9</td>\n",
       "      <td>NaN</td>\n",
       "      <td>...</td>\n",
       "      <td>84.0</td>\n",
       "      <td>3.0</td>\n",
       "      <td>234.0</td>\n",
       "      <td>424</td>\n",
       "      <td>408176.100629</td>\n",
       "      <td>другой</td>\n",
       "      <td>0.283019</td>\n",
       "      <td>0.056604</td>\n",
       "      <td>3</td>\n",
       "      <td>7.0</td>\n",
       "    </tr>\n",
       "    <tr>\n",
       "      <th>4</th>\n",
       "      <td>2</td>\n",
       "      <td>10.000</td>\n",
       "      <td>100</td>\n",
       "      <td>2018-06-19</td>\n",
       "      <td>2</td>\n",
       "      <td>3</td>\n",
       "      <td>14.0</td>\n",
       "      <td>32</td>\n",
       "      <td>13</td>\n",
       "      <td>NaN</td>\n",
       "      <td>...</td>\n",
       "      <td>112.0</td>\n",
       "      <td>1.0</td>\n",
       "      <td>48.0</td>\n",
       "      <td>121</td>\n",
       "      <td>100000.000000</td>\n",
       "      <td>другой</td>\n",
       "      <td>0.320000</td>\n",
       "      <td>0.410000</td>\n",
       "      <td>4</td>\n",
       "      <td>8.0</td>\n",
       "    </tr>\n",
       "  </tbody>\n",
       "</table>\n",
       "<p>5 rows × 28 columns</p>\n",
       "</div>"
      ],
      "text/plain": [
       "   total_images  last_price  total_area first_day_exposition  rooms  \\\n",
       "0            20      13.000         108           2019-03-07      3   \n",
       "1             7       3.350          40           2018-12-04      1   \n",
       "2            10       5.196          56           2015-08-20      2   \n",
       "3             0      64.900         159           2015-07-24      3   \n",
       "4             2      10.000         100           2018-06-19      2   \n",
       "\n",
       "   ceiling_height  floors_total  living_area  floor is_apartment  ...  \\\n",
       "0               2          16.0           51      8          NaN  ...   \n",
       "1               2          11.0           18      1          NaN  ...   \n",
       "2               2           5.0           34      4          NaN  ...   \n",
       "3               2          14.0           45      9          NaN  ...   \n",
       "4               3          14.0           32     13          NaN  ...   \n",
       "\n",
       "   parks_nearest  ponds_around3000  ponds_nearest  days_exposition  \\\n",
       "0          482.0               2.0          755.0              114   \n",
       "1            NaN               0.0            NaN               81   \n",
       "2           90.0               2.0          574.0              558   \n",
       "3           84.0               3.0          234.0              424   \n",
       "4          112.0               1.0           48.0              121   \n",
       "\n",
       "        sq_price  floor_name  living_to_total_sq  kitchen_to_total_sq  number  \\\n",
       "0  120370.370370      другой            0.472222             0.231481       0   \n",
       "1   83750.000000      первый            0.450000             0.275000       1   \n",
       "2   92785.714286      другой            0.607143             0.142857       2   \n",
       "3  408176.100629      другой            0.283019             0.056604       3   \n",
       "4  100000.000000      другой            0.320000             0.410000       4   \n",
       "\n",
       "   cityCenters_nearest_km  \n",
       "0                    16.0  \n",
       "1                    19.0  \n",
       "2                    14.0  \n",
       "3                     7.0  \n",
       "4                     8.0  \n",
       "\n",
       "[5 rows x 28 columns]"
      ]
     },
     "execution_count": 39,
     "metadata": {},
     "output_type": "execute_result"
    }
   ],
   "source": [
    "data['cityCenters_nearest_km']=data['cityCenters_nearest']/1000 #конвертируем в километры\n",
    "#data['cityCenters_nearest_km'] = data['cityCenters_nearest_km'].astype('int')#округление\n",
    "data['cityCenters_nearest_km'] = data['cityCenters_nearest_km'].round() #округление\n",
    "data.head() #проверяем"
   ]
  },
  {
   "cell_type": "markdown",
   "metadata": {},
   "source": [
    "**Выделите квартиры в Санкт-Петербурге ('locality_name'). Ваша задача — выяснить, какая область входит в центр. Создайте столбец с расстоянием до центра в километрах: округлите до целых значений. После этого посчитайте среднюю цену для каждого километра. Постройте график: он должен показывать, как цена зависит от удалённости от центра. Определите границу, где график сильно меняется — это и будет центральная зона. \"**"
   ]
  },
  {
   "cell_type": "code",
   "execution_count": 40,
   "metadata": {},
   "outputs": [
    {
     "data": {
      "text/html": [
       "<div>\n",
       "<style scoped>\n",
       "    .dataframe tbody tr th:only-of-type {\n",
       "        vertical-align: middle;\n",
       "    }\n",
       "\n",
       "    .dataframe tbody tr th {\n",
       "        vertical-align: top;\n",
       "    }\n",
       "\n",
       "    .dataframe thead th {\n",
       "        text-align: right;\n",
       "    }\n",
       "</style>\n",
       "<table border=\"1\" class=\"dataframe\">\n",
       "  <thead>\n",
       "    <tr style=\"text-align: right;\">\n",
       "      <th></th>\n",
       "      <th>st_peter_sq_price_agg</th>\n",
       "    </tr>\n",
       "    <tr>\n",
       "      <th>cityCenters_nearest_km</th>\n",
       "      <th></th>\n",
       "    </tr>\n",
       "  </thead>\n",
       "  <tbody>\n",
       "    <tr>\n",
       "      <th>0.0</th>\n",
       "      <td>236866.346730</td>\n",
       "    </tr>\n",
       "    <tr>\n",
       "      <th>1.0</th>\n",
       "      <td>177670.820650</td>\n",
       "    </tr>\n",
       "    <tr>\n",
       "      <th>2.0</th>\n",
       "      <td>157821.632774</td>\n",
       "    </tr>\n",
       "    <tr>\n",
       "      <th>3.0</th>\n",
       "      <td>123357.861719</td>\n",
       "    </tr>\n",
       "    <tr>\n",
       "      <th>4.0</th>\n",
       "      <td>132402.851705</td>\n",
       "    </tr>\n",
       "    <tr>\n",
       "      <th>5.0</th>\n",
       "      <td>143031.102741</td>\n",
       "    </tr>\n",
       "    <tr>\n",
       "      <th>6.0</th>\n",
       "      <td>152047.698382</td>\n",
       "    </tr>\n",
       "    <tr>\n",
       "      <th>7.0</th>\n",
       "      <td>162716.193726</td>\n",
       "    </tr>\n",
       "    <tr>\n",
       "      <th>8.0</th>\n",
       "      <td>128475.763572</td>\n",
       "    </tr>\n",
       "    <tr>\n",
       "      <th>9.0</th>\n",
       "      <td>114197.285856</td>\n",
       "    </tr>\n",
       "    <tr>\n",
       "      <th>10.0</th>\n",
       "      <td>113773.476948</td>\n",
       "    </tr>\n",
       "    <tr>\n",
       "      <th>11.0</th>\n",
       "      <td>110578.275848</td>\n",
       "    </tr>\n",
       "    <tr>\n",
       "      <th>12.0</th>\n",
       "      <td>108770.847335</td>\n",
       "    </tr>\n",
       "    <tr>\n",
       "      <th>13.0</th>\n",
       "      <td>110234.620963</td>\n",
       "    </tr>\n",
       "    <tr>\n",
       "      <th>14.0</th>\n",
       "      <td>105748.645427</td>\n",
       "    </tr>\n",
       "    <tr>\n",
       "      <th>15.0</th>\n",
       "      <td>105676.665952</td>\n",
       "    </tr>\n",
       "    <tr>\n",
       "      <th>16.0</th>\n",
       "      <td>101490.410338</td>\n",
       "    </tr>\n",
       "    <tr>\n",
       "      <th>17.0</th>\n",
       "      <td>97183.149386</td>\n",
       "    </tr>\n",
       "    <tr>\n",
       "      <th>18.0</th>\n",
       "      <td>97519.064210</td>\n",
       "    </tr>\n",
       "    <tr>\n",
       "      <th>19.0</th>\n",
       "      <td>98730.102006</td>\n",
       "    </tr>\n",
       "    <tr>\n",
       "      <th>20.0</th>\n",
       "      <td>104300.438646</td>\n",
       "    </tr>\n",
       "    <tr>\n",
       "      <th>21.0</th>\n",
       "      <td>96657.686718</td>\n",
       "    </tr>\n",
       "    <tr>\n",
       "      <th>22.0</th>\n",
       "      <td>92948.681660</td>\n",
       "    </tr>\n",
       "    <tr>\n",
       "      <th>23.0</th>\n",
       "      <td>93439.538408</td>\n",
       "    </tr>\n",
       "    <tr>\n",
       "      <th>24.0</th>\n",
       "      <td>84661.813436</td>\n",
       "    </tr>\n",
       "    <tr>\n",
       "      <th>25.0</th>\n",
       "      <td>91512.534502</td>\n",
       "    </tr>\n",
       "    <tr>\n",
       "      <th>26.0</th>\n",
       "      <td>90571.382960</td>\n",
       "    </tr>\n",
       "    <tr>\n",
       "      <th>27.0</th>\n",
       "      <td>132115.709459</td>\n",
       "    </tr>\n",
       "    <tr>\n",
       "      <th>28.0</th>\n",
       "      <td>83275.857728</td>\n",
       "    </tr>\n",
       "    <tr>\n",
       "      <th>29.0</th>\n",
       "      <td>76673.483730</td>\n",
       "    </tr>\n",
       "  </tbody>\n",
       "</table>\n",
       "</div>"
      ],
      "text/plain": [
       "                        st_peter_sq_price_agg\n",
       "cityCenters_nearest_km                       \n",
       "0.0                             236866.346730\n",
       "1.0                             177670.820650\n",
       "2.0                             157821.632774\n",
       "3.0                             123357.861719\n",
       "4.0                             132402.851705\n",
       "5.0                             143031.102741\n",
       "6.0                             152047.698382\n",
       "7.0                             162716.193726\n",
       "8.0                             128475.763572\n",
       "9.0                             114197.285856\n",
       "10.0                            113773.476948\n",
       "11.0                            110578.275848\n",
       "12.0                            108770.847335\n",
       "13.0                            110234.620963\n",
       "14.0                            105748.645427\n",
       "15.0                            105676.665952\n",
       "16.0                            101490.410338\n",
       "17.0                             97183.149386\n",
       "18.0                             97519.064210\n",
       "19.0                             98730.102006\n",
       "20.0                            104300.438646\n",
       "21.0                             96657.686718\n",
       "22.0                             92948.681660\n",
       "23.0                             93439.538408\n",
       "24.0                             84661.813436\n",
       "25.0                             91512.534502\n",
       "26.0                             90571.382960\n",
       "27.0                            132115.709459\n",
       "28.0                             83275.857728\n",
       "29.0                             76673.483730"
      ]
     },
     "execution_count": 40,
     "metadata": {},
     "output_type": "execute_result"
    }
   ],
   "source": [
    "st_peter_data = data.query('locality_name == \"Санкт-Петербург\"')\n",
    "st_peter_data_agg = st_peter_data.pivot_table(index='cityCenters_nearest_km', values = 'sq_price', aggfunc='mean')\n",
    "st_peter_data_agg.rename(columns={'sq_price':'st_peter_sq_price_agg'}, inplace=True)\n",
    "#most_popular = data['locality_name'].value_counts().head(10)\n",
    "#st_peter_data_agg.sort_values(by='add_count', ascending=False)\n",
    "st_peter_data_agg"
   ]
  },
  {
   "cell_type": "code",
   "execution_count": 41,
   "metadata": {},
   "outputs": [
    {
     "data": {
      "text/plain": [
       "<AxesSubplot:xlabel='cityCenters_nearest_km'>"
      ]
     },
     "execution_count": 41,
     "metadata": {},
     "output_type": "execute_result"
    },
    {
     "data": {
      "image/png": "[encoded data removed]",
      "text/plain": [
       "<Figure size 432x288 with 1 Axes>"
      ]
     },
     "metadata": {
      "needs_background": "light"
     },
     "output_type": "display_data"
    }
   ],
   "source": [
    "st_peter_data_agg.plot(style='o-', grid=True)"
   ]
  },
  {
   "cell_type": "markdown",
   "metadata": {},
   "source": [
    "Резкое падение цены приблизительно до 3,5км, затем опять рост до 6км, и снова падение, с переходом на стабильное убывание цены (есть некоторые выбросы после 25км). Скорее всего, у меня ошибка в данных, и поэтому график такой странный((( Ошибку не нашла, условно определила радиус центра - 3км"
   ]
  },
  {
   "cell_type": "markdown",
   "metadata": {},
   "source": [
    "**\"Выделите сегмент квартир в центре. Проанализируйте эту территорию и изучите следующие параметры: площадь, цена, число комнат, высота потолков.**"
   ]
  },
  {
   "cell_type": "code",
   "execution_count": 42,
   "metadata": {},
   "outputs": [],
   "source": [
    "flats_center= st_peter_data.query('cityCenters_nearest_km < 3')"
   ]
  },
  {
   "cell_type": "code",
   "execution_count": 43,
   "metadata": {},
   "outputs": [
    {
     "name": "stdout",
     "output_type": "stream",
     "text": [
      "<class 'pandas.core.frame.DataFrame'>\n",
      "Int64Index: 436 entries, 24 to 23648\n",
      "Data columns (total 28 columns):\n",
      " #   Column                  Non-Null Count  Dtype         \n",
      "---  ------                  --------------  -----         \n",
      " 0   total_images            436 non-null    int64         \n",
      " 1   last_price              436 non-null    float64       \n",
      " 2   total_area              436 non-null    int32         \n",
      " 3   first_day_exposition    436 non-null    datetime64[ns]\n",
      " 4   rooms                   436 non-null    int64         \n",
      " 5   ceiling_height          436 non-null    int32         \n",
      " 6   floors_total            436 non-null    float64       \n",
      " 7   living_area             436 non-null    int32         \n",
      " 8   floor                   436 non-null    int64         \n",
      " 9   is_apartment            57 non-null     object        \n",
      " 10  studio                  436 non-null    bool          \n",
      " 11  open_plan               436 non-null    bool          \n",
      " 12  kitchen_area            436 non-null    int32         \n",
      " 13  balcony                 151 non-null    float64       \n",
      " 14  locality_name           436 non-null    object        \n",
      " 15  airports_nearest        436 non-null    float64       \n",
      " 16  cityCenters_nearest     436 non-null    float64       \n",
      " 17  parks_around3000        436 non-null    float64       \n",
      " 18  parks_nearest           364 non-null    float64       \n",
      " 19  ponds_around3000        436 non-null    float64       \n",
      " 20  ponds_nearest           417 non-null    float64       \n",
      " 21  days_exposition         436 non-null    int32         \n",
      " 22  sq_price                436 non-null    float64       \n",
      " 23  floor_name              436 non-null    object        \n",
      " 24  living_to_total_sq      436 non-null    float64       \n",
      " 25  kitchen_to_total_sq     436 non-null    float64       \n",
      " 26  number                  436 non-null    int64         \n",
      " 27  cityCenters_nearest_km  436 non-null    float64       \n",
      "dtypes: bool(2), datetime64[ns](1), float64(13), int32(5), int64(4), object(3)\n",
      "memory usage: 84.3+ KB\n"
     ]
    }
   ],
   "source": [
    "flats_center.info()"
   ]
  },
  {
   "cell_type": "code",
   "execution_count": 44,
   "metadata": {},
   "outputs": [
    {
     "data": {
      "text/plain": [
       "count    436.000000\n",
       "mean     106.974771\n",
       "std       62.519785\n",
       "min       12.000000\n",
       "25%       67.750000\n",
       "50%       92.000000\n",
       "75%      124.250000\n",
       "max      517.000000\n",
       "Name: total_area, dtype: float64"
      ]
     },
     "execution_count": 44,
     "metadata": {},
     "output_type": "execute_result"
    }
   ],
   "source": [
    "flats_center['total_area'].describe()"
   ]
  },
  {
   "cell_type": "code",
   "execution_count": 45,
   "metadata": {},
   "outputs": [
    {
     "data": {
      "text/plain": [
       "count    436.000000\n",
       "mean      20.128301\n",
       "std       34.162812\n",
       "min        2.400000\n",
       "25%        8.150000\n",
       "50%       11.490000\n",
       "75%       17.000000\n",
       "max      401.300000\n",
       "Name: last_price, dtype: float64"
      ]
     },
     "execution_count": 45,
     "metadata": {},
     "output_type": "execute_result"
    }
   ],
   "source": [
    "flats_center['last_price'].describe()"
   ]
  },
  {
   "cell_type": "code",
   "execution_count": 46,
   "metadata": {},
   "outputs": [
    {
     "data": {
      "text/plain": [
       "count    436.000000\n",
       "mean       3.247706\n",
       "std        1.526206\n",
       "min        0.000000\n",
       "25%        2.000000\n",
       "50%        3.000000\n",
       "75%        4.000000\n",
       "max       14.000000\n",
       "Name: rooms, dtype: float64"
      ]
     },
     "execution_count": 46,
     "metadata": {},
     "output_type": "execute_result"
    }
   ],
   "source": [
    "flats_center['rooms'].describe()"
   ]
  },
  {
   "cell_type": "code",
   "execution_count": 47,
   "metadata": {},
   "outputs": [
    {
     "data": {
      "text/plain": [
       "count    436.000000\n",
       "mean       2.649083\n",
       "std        0.557725\n",
       "min        2.000000\n",
       "25%        2.000000\n",
       "50%        3.000000\n",
       "75%        3.000000\n",
       "max        4.000000\n",
       "Name: ceiling_height, dtype: float64"
      ]
     },
     "execution_count": 47,
     "metadata": {},
     "output_type": "execute_result"
    }
   ],
   "source": [
    "flats_center['ceiling_height'].describe()"
   ]
  },
  {
   "cell_type": "markdown",
   "metadata": {},
   "source": [
    "Среднестатистическая квартира в центре Питера: цена 11,5млн.р, площадь 92кв.м, количество комнат - 3, высота потолка - 3м (мало в это верится)))"
   ]
  },
  {
   "cell_type": "markdown",
   "metadata": {},
   "source": [
    "**Также выделите факторы, которые влияют на стоимость квартиры (число комнат, этаж, удалённость от центра, дата размещения объявления). Сделайте выводы. Отличаются ли они от общих выводов по всему городу?\"**"
   ]
  },
  {
   "cell_type": "code",
   "execution_count": 48,
   "metadata": {},
   "outputs": [
    {
     "name": "stdout",
     "output_type": "stream",
     "text": [
      "                     cityCenters_nearest     floor  last_price     rooms\n",
      "cityCenters_nearest             1.000000  0.022885   -0.043477 -0.035514\n",
      "floor                           0.022885  1.000000    0.311755  0.093702\n",
      "last_price                     -0.043477  0.311755    1.000000  0.194592\n",
      "rooms                          -0.035514  0.093702    0.194592  1.000000\n"
     ]
    },
    {
     "data": {
      "text/plain": [
       "array([[<AxesSubplot:xlabel='cityCenters_nearest', ylabel='cityCenters_nearest'>,\n",
       "        <AxesSubplot:xlabel='floor', ylabel='cityCenters_nearest'>,\n",
       "        <AxesSubplot:xlabel='last_price', ylabel='cityCenters_nearest'>,\n",
       "        <AxesSubplot:xlabel='rooms', ylabel='cityCenters_nearest'>],\n",
       "       [<AxesSubplot:xlabel='cityCenters_nearest', ylabel='floor'>,\n",
       "        <AxesSubplot:xlabel='floor', ylabel='floor'>,\n",
       "        <AxesSubplot:xlabel='last_price', ylabel='floor'>,\n",
       "        <AxesSubplot:xlabel='rooms', ylabel='floor'>],\n",
       "       [<AxesSubplot:xlabel='cityCenters_nearest', ylabel='last_price'>,\n",
       "        <AxesSubplot:xlabel='floor', ylabel='last_price'>,\n",
       "        <AxesSubplot:xlabel='last_price', ylabel='last_price'>,\n",
       "        <AxesSubplot:xlabel='rooms', ylabel='last_price'>],\n",
       "       [<AxesSubplot:xlabel='cityCenters_nearest', ylabel='rooms'>,\n",
       "        <AxesSubplot:xlabel='floor', ylabel='rooms'>,\n",
       "        <AxesSubplot:xlabel='last_price', ylabel='rooms'>,\n",
       "        <AxesSubplot:xlabel='rooms', ylabel='rooms'>]], dtype=object)"
      ]
     },
     "execution_count": 48,
     "metadata": {},
     "output_type": "execute_result"
    },
    {
     "data": {
      "image/png": "[encoded data removed]",
      "text/plain": [
       "<Figure size 648x648 with 16 Axes>"
      ]
     },
     "metadata": {
      "needs_background": "light"
     },
     "output_type": "display_data"
    }
   ],
   "source": [
    "st_peter_stat_multi = flats_center.pivot_table(index='number', values=['last_price', 'cityCenters_nearest', 'rooms', 'floor'])\n",
    "print(st_peter_stat_multi.corr())\n",
    "#print(station_stat_multi.head())\n",
    "pd.plotting.scatter_matrix(st_peter_stat_multi, figsize=(9, 9)) "
   ]
  },
  {
   "cell_type": "markdown",
   "metadata": {},
   "source": [
    "Корреляция между параметрами слабая, тем не менее стоимость растет при увеличении кол-ва комнат до 5 комнат (такая же тенденция была в общих данных) и уменьшается при отдалении от центра. Тенденции соппадают с общими."
   ]
  },
  {
   "cell_type": "code",
   "execution_count": 49,
   "metadata": {
    "scrolled": true
   },
   "outputs": [
    {
     "data": {
      "text/html": [
       "<div>\n",
       "<style scoped>\n",
       "    .dataframe tbody tr th:only-of-type {\n",
       "        vertical-align: middle;\n",
       "    }\n",
       "\n",
       "    .dataframe tbody tr th {\n",
       "        vertical-align: top;\n",
       "    }\n",
       "\n",
       "    .dataframe thead th {\n",
       "        text-align: right;\n",
       "    }\n",
       "</style>\n",
       "<table border=\"1\" class=\"dataframe\">\n",
       "  <thead>\n",
       "    <tr style=\"text-align: right;\">\n",
       "      <th></th>\n",
       "      <th>total_images</th>\n",
       "      <th>last_price</th>\n",
       "      <th>total_area</th>\n",
       "      <th>first_day_exposition</th>\n",
       "      <th>rooms</th>\n",
       "      <th>ceiling_height</th>\n",
       "      <th>floors_total</th>\n",
       "      <th>living_area</th>\n",
       "      <th>floor</th>\n",
       "      <th>is_apartment</th>\n",
       "      <th>...</th>\n",
       "      <th>parks_nearest</th>\n",
       "      <th>ponds_around3000</th>\n",
       "      <th>ponds_nearest</th>\n",
       "      <th>days_exposition</th>\n",
       "      <th>sq_price</th>\n",
       "      <th>floor_name</th>\n",
       "      <th>living_to_total_sq</th>\n",
       "      <th>kitchen_to_total_sq</th>\n",
       "      <th>number</th>\n",
       "      <th>cityCenters_nearest_km</th>\n",
       "    </tr>\n",
       "  </thead>\n",
       "  <tbody>\n",
       "    <tr>\n",
       "      <th>24</th>\n",
       "      <td>8</td>\n",
       "      <td>6.50</td>\n",
       "      <td>97</td>\n",
       "      <td>2015-10-31</td>\n",
       "      <td>2</td>\n",
       "      <td>2</td>\n",
       "      <td>3.0</td>\n",
       "      <td>46</td>\n",
       "      <td>1</td>\n",
       "      <td>NaN</td>\n",
       "      <td>...</td>\n",
       "      <td>411.0</td>\n",
       "      <td>3.0</td>\n",
       "      <td>124.0</td>\n",
       "      <td>265</td>\n",
       "      <td>67010.309278</td>\n",
       "      <td>первый</td>\n",
       "      <td>0.474227</td>\n",
       "      <td>0.195876</td>\n",
       "      <td>22</td>\n",
       "      <td>2.0</td>\n",
       "    </tr>\n",
       "    <tr>\n",
       "      <th>155</th>\n",
       "      <td>8</td>\n",
       "      <td>96.00</td>\n",
       "      <td>317</td>\n",
       "      <td>2017-07-07</td>\n",
       "      <td>4</td>\n",
       "      <td>3</td>\n",
       "      <td>3.0</td>\n",
       "      <td>183</td>\n",
       "      <td>3</td>\n",
       "      <td>NaN</td>\n",
       "      <td>...</td>\n",
       "      <td>508.0</td>\n",
       "      <td>3.0</td>\n",
       "      <td>366.0</td>\n",
       "      <td>62</td>\n",
       "      <td>302839.116719</td>\n",
       "      <td>последний</td>\n",
       "      <td>0.577287</td>\n",
       "      <td>0.034700</td>\n",
       "      <td>126</td>\n",
       "      <td>2.0</td>\n",
       "    </tr>\n",
       "    <tr>\n",
       "      <th>207</th>\n",
       "      <td>11</td>\n",
       "      <td>9.00</td>\n",
       "      <td>72</td>\n",
       "      <td>2018-09-08</td>\n",
       "      <td>2</td>\n",
       "      <td>2</td>\n",
       "      <td>5.0</td>\n",
       "      <td>43</td>\n",
       "      <td>4</td>\n",
       "      <td>NaN</td>\n",
       "      <td>...</td>\n",
       "      <td>276.0</td>\n",
       "      <td>3.0</td>\n",
       "      <td>485.0</td>\n",
       "      <td>91</td>\n",
       "      <td>125000.000000</td>\n",
       "      <td>другой</td>\n",
       "      <td>0.597222</td>\n",
       "      <td>0.152778</td>\n",
       "      <td>166</td>\n",
       "      <td>2.0</td>\n",
       "    </tr>\n",
       "    <tr>\n",
       "      <th>213</th>\n",
       "      <td>11</td>\n",
       "      <td>8.70</td>\n",
       "      <td>111</td>\n",
       "      <td>2016-10-10</td>\n",
       "      <td>4</td>\n",
       "      <td>3</td>\n",
       "      <td>4.0</td>\n",
       "      <td>73</td>\n",
       "      <td>2</td>\n",
       "      <td>NaN</td>\n",
       "      <td>...</td>\n",
       "      <td>463.0</td>\n",
       "      <td>3.0</td>\n",
       "      <td>55.0</td>\n",
       "      <td>791</td>\n",
       "      <td>78378.378378</td>\n",
       "      <td>другой</td>\n",
       "      <td>0.657658</td>\n",
       "      <td>0.126126</td>\n",
       "      <td>170</td>\n",
       "      <td>1.0</td>\n",
       "    </tr>\n",
       "    <tr>\n",
       "      <th>226</th>\n",
       "      <td>17</td>\n",
       "      <td>7.95</td>\n",
       "      <td>86</td>\n",
       "      <td>2019-04-24</td>\n",
       "      <td>4</td>\n",
       "      <td>2</td>\n",
       "      <td>3.0</td>\n",
       "      <td>52</td>\n",
       "      <td>1</td>\n",
       "      <td>NaN</td>\n",
       "      <td>...</td>\n",
       "      <td>NaN</td>\n",
       "      <td>0.0</td>\n",
       "      <td>NaN</td>\n",
       "      <td>156</td>\n",
       "      <td>92441.860465</td>\n",
       "      <td>первый</td>\n",
       "      <td>0.604651</td>\n",
       "      <td>0.139535</td>\n",
       "      <td>181</td>\n",
       "      <td>2.0</td>\n",
       "    </tr>\n",
       "  </tbody>\n",
       "</table>\n",
       "<p>5 rows × 28 columns</p>\n",
       "</div>"
      ],
      "text/plain": [
       "     total_images  last_price  total_area first_day_exposition  rooms  \\\n",
       "24              8        6.50          97           2015-10-31      2   \n",
       "155             8       96.00         317           2017-07-07      4   \n",
       "207            11        9.00          72           2018-09-08      2   \n",
       "213            11        8.70         111           2016-10-10      4   \n",
       "226            17        7.95          86           2019-04-24      4   \n",
       "\n",
       "     ceiling_height  floors_total  living_area  floor is_apartment  ...  \\\n",
       "24                2           3.0           46      1          NaN  ...   \n",
       "155               3           3.0          183      3          NaN  ...   \n",
       "207               2           5.0           43      4          NaN  ...   \n",
       "213               3           4.0           73      2          NaN  ...   \n",
       "226               2           3.0           52      1          NaN  ...   \n",
       "\n",
       "     parks_nearest  ponds_around3000  ponds_nearest  days_exposition  \\\n",
       "24           411.0               3.0          124.0              265   \n",
       "155          508.0               3.0          366.0               62   \n",
       "207          276.0               3.0          485.0               91   \n",
       "213          463.0               3.0           55.0              791   \n",
       "226            NaN               0.0            NaN              156   \n",
       "\n",
       "          sq_price  floor_name  living_to_total_sq  kitchen_to_total_sq  \\\n",
       "24    67010.309278      первый            0.474227             0.195876   \n",
       "155  302839.116719   последний            0.577287             0.034700   \n",
       "207  125000.000000      другой            0.597222             0.152778   \n",
       "213   78378.378378      другой            0.657658             0.126126   \n",
       "226   92441.860465      первый            0.604651             0.139535   \n",
       "\n",
       "     number  cityCenters_nearest_km  \n",
       "24       22                     2.0  \n",
       "155     126                     2.0  \n",
       "207     166                     2.0  \n",
       "213     170                     1.0  \n",
       "226     181                     2.0  \n",
       "\n",
       "[5 rows x 28 columns]"
      ]
     },
     "execution_count": 49,
     "metadata": {},
     "output_type": "execute_result"
    }
   ],
   "source": [
    "flats_center.head()"
   ]
  },
  {
   "cell_type": "markdown",
   "metadata": {},
   "source": [
    "Влияние этажа на стоимость квартиры:"
   ]
  },
  {
   "cell_type": "code",
   "execution_count": 50,
   "metadata": {},
   "outputs": [
    {
     "data": {
      "text/plain": [
       "<AxesSubplot:xlabel='floor'>"
      ]
     },
     "execution_count": 50,
     "metadata": {},
     "output_type": "execute_result"
    },
    {
     "data": {
      "image/png": "[encoded data removed]",
      "text/plain": [
       "<Figure size 864x432 with 1 Axes>"
      ]
     },
     "metadata": {
      "needs_background": "light"
     },
     "output_type": "display_data"
    }
   ],
   "source": [
    "flats_center.plot(x='floor', y='last_price', style ='o', ylim=(0,1000), grid=True, figsize=(12,6))"
   ]
  },
  {
   "cell_type": "markdown",
   "metadata": {},
   "source": [
    "Можно сделать вывод, что первый этаж дешевле."
   ]
  },
  {
   "cell_type": "markdown",
   "metadata": {},
   "source": [
    "Влияние даты размещения объявления на цену:"
   ]
  },
  {
   "cell_type": "code",
   "execution_count": 51,
   "metadata": {},
   "outputs": [
    {
     "data": {
      "text/plain": [
       "<AxesSubplot:>"
      ]
     },
     "execution_count": 51,
     "metadata": {},
     "output_type": "execute_result"
    },
    {
     "data": {
      "image/png": "[encoded data removed]",
      "text/plain": [
       "<Figure size 1440x360 with 1 Axes>"
      ]
     },
     "metadata": {
      "needs_background": "light"
     },
     "output_type": "display_data"
    }
   ],
   "source": [
    "flats_center['first_day_exposition'].hist(bins=50, figsize=(20,5)) "
   ]
  },
  {
   "cell_type": "markdown",
   "metadata": {},
   "source": [
    "В целом, vожно лишь отметить, что цена в 2018году снизилась по сравнению с 2017 годом. Самые высокие цены наблюдались в 2017году."
   ]
  }
 ],
 "metadata": {
  "ExecuteTimeLog": [
   {
    "duration": 657,
    "start_time": "2022-01-15T08:54:22.123Z"
   },
   {
    "duration": 81,
    "start_time": "2022-01-15T08:56:14.260Z"
   },
   {
    "duration": 130,
    "start_time": "2022-01-15T08:56:48.068Z"
   },
   {
    "duration": 82,
    "start_time": "2022-01-15T08:57:05.131Z"
   },
   {
    "duration": 62,
    "start_time": "2022-01-15T08:57:14.243Z"
   },
   {
    "duration": 8,
    "start_time": "2022-01-15T08:58:50.632Z"
   },
   {
    "duration": 2,
    "start_time": "2022-01-15T08:59:25.249Z"
   },
   {
    "duration": 9,
    "start_time": "2022-01-15T08:59:33.438Z"
   },
   {
    "duration": 13,
    "start_time": "2022-01-15T09:00:40.183Z"
   },
   {
    "duration": 22,
    "start_time": "2022-01-15T09:00:59.089Z"
   },
   {
    "duration": 21,
    "start_time": "2022-01-15T09:10:53.415Z"
   },
   {
    "duration": 5,
    "start_time": "2022-01-15T09:17:52.603Z"
   },
   {
    "duration": 332,
    "start_time": "2022-01-15T09:18:28.659Z"
   },
   {
    "duration": 5,
    "start_time": "2022-01-15T09:28:14.502Z"
   },
   {
    "duration": 10,
    "start_time": "2022-01-15T09:28:28.722Z"
   },
   {
    "duration": 5,
    "start_time": "2022-01-15T09:28:49.900Z"
   },
   {
    "duration": 4,
    "start_time": "2022-01-15T09:30:00.199Z"
   },
   {
    "duration": 7,
    "start_time": "2022-01-15T09:31:10.934Z"
   },
   {
    "duration": 7,
    "start_time": "2022-01-15T09:31:36.707Z"
   },
   {
    "duration": 6,
    "start_time": "2022-01-15T09:31:40.533Z"
   },
   {
    "duration": 85,
    "start_time": "2022-01-15T09:32:32.130Z"
   },
   {
    "duration": 13,
    "start_time": "2022-01-15T09:32:32.217Z"
   },
   {
    "duration": 7,
    "start_time": "2022-01-15T09:32:32.232Z"
   },
   {
    "duration": 22,
    "start_time": "2022-01-15T09:32:32.241Z"
   },
   {
    "duration": 3,
    "start_time": "2022-01-15T09:32:32.265Z"
   },
   {
    "duration": 7,
    "start_time": "2022-01-15T09:32:35.999Z"
   },
   {
    "duration": 6,
    "start_time": "2022-01-15T09:32:44.740Z"
   },
   {
    "duration": 6,
    "start_time": "2022-01-15T09:32:57.427Z"
   },
   {
    "duration": 369,
    "start_time": "2022-01-15T09:37:11.047Z"
   },
   {
    "duration": 40,
    "start_time": "2022-01-15T09:37:19.370Z"
   },
   {
    "duration": 41,
    "start_time": "2022-01-15T09:37:59.255Z"
   },
   {
    "duration": 41,
    "start_time": "2022-01-15T09:38:19.549Z"
   },
   {
    "duration": 9,
    "start_time": "2022-01-15T09:38:27.772Z"
   },
   {
    "duration": 302,
    "start_time": "2022-01-15T09:38:55.238Z"
   },
   {
    "duration": 84,
    "start_time": "2022-01-15T09:39:28.704Z"
   },
   {
    "duration": 12,
    "start_time": "2022-01-15T09:39:28.790Z"
   },
   {
    "duration": 24,
    "start_time": "2022-01-15T09:39:28.804Z"
   },
   {
    "duration": 22,
    "start_time": "2022-01-15T09:39:28.830Z"
   },
   {
    "duration": 2,
    "start_time": "2022-01-15T09:39:28.854Z"
   },
   {
    "duration": 14,
    "start_time": "2022-01-15T09:39:28.857Z"
   },
   {
    "duration": 17,
    "start_time": "2022-01-15T09:39:28.872Z"
   },
   {
    "duration": 65,
    "start_time": "2022-01-15T09:39:28.890Z"
   },
   {
    "duration": 43,
    "start_time": "2022-01-15T09:39:28.957Z"
   },
   {
    "duration": 8,
    "start_time": "2022-01-15T09:39:29.001Z"
   },
   {
    "duration": 294,
    "start_time": "2022-01-15T09:39:32.097Z"
   },
   {
    "duration": 4,
    "start_time": "2022-01-15T09:39:56.690Z"
   },
   {
    "duration": 4,
    "start_time": "2022-01-15T09:39:59.906Z"
   },
   {
    "duration": 289,
    "start_time": "2022-01-15T09:40:02.738Z"
   },
   {
    "duration": 4,
    "start_time": "2022-01-15T09:41:19.746Z"
   },
   {
    "duration": 6,
    "start_time": "2022-01-15T09:41:22.454Z"
   },
   {
    "duration": 26,
    "start_time": "2022-01-15T09:43:34.140Z"
   },
   {
    "duration": 8,
    "start_time": "2022-01-15T09:45:35.747Z"
   },
   {
    "duration": 28,
    "start_time": "2022-01-15T09:45:46.035Z"
   },
   {
    "duration": 114,
    "start_time": "2022-01-15T09:52:42.312Z"
   },
   {
    "duration": -1997,
    "start_time": "2022-01-15T09:52:54.688Z"
   },
   {
    "duration": 80,
    "start_time": "2022-01-15T09:53:06.599Z"
   },
   {
    "duration": 8,
    "start_time": "2022-01-15T09:53:06.681Z"
   },
   {
    "duration": 8,
    "start_time": "2022-01-15T09:53:06.691Z"
   },
   {
    "duration": 44,
    "start_time": "2022-01-15T09:53:06.701Z"
   },
   {
    "duration": 2,
    "start_time": "2022-01-15T09:53:06.747Z"
   },
   {
    "duration": 8,
    "start_time": "2022-01-15T09:53:06.750Z"
   },
   {
    "duration": 5,
    "start_time": "2022-01-15T09:53:06.759Z"
   },
   {
    "duration": 65,
    "start_time": "2022-01-15T09:53:06.766Z"
   },
   {
    "duration": 38,
    "start_time": "2022-01-15T09:53:06.833Z"
   },
   {
    "duration": 7,
    "start_time": "2022-01-15T09:53:06.872Z"
   },
   {
    "duration": 3,
    "start_time": "2022-01-15T09:53:06.880Z"
   },
   {
    "duration": 9,
    "start_time": "2022-01-15T09:53:06.885Z"
   },
   {
    "duration": 45,
    "start_time": "2022-01-15T09:53:06.896Z"
   },
   {
    "duration": 24,
    "start_time": "2022-01-15T09:53:06.942Z"
   },
   {
    "duration": -1996,
    "start_time": "2022-01-15T09:53:19.557Z"
   },
   {
    "duration": 20,
    "start_time": "2022-01-15T09:53:17.972Z"
   },
   {
    "duration": 6929,
    "start_time": "2022-01-15T09:53:24.270Z"
   },
   {
    "duration": 1309,
    "start_time": "2022-01-15T09:53:54.768Z"
   },
   {
    "duration": 594,
    "start_time": "2022-01-15T09:57:14.802Z"
   },
   {
    "duration": 94,
    "start_time": "2022-01-15T10:07:25.814Z"
   },
   {
    "duration": 1506,
    "start_time": "2022-01-15T10:07:35.993Z"
   },
   {
    "duration": 1452,
    "start_time": "2022-01-15T10:07:53.009Z"
   },
   {
    "duration": 1441,
    "start_time": "2022-01-15T10:08:31.583Z"
   },
   {
    "duration": -2009,
    "start_time": "2022-01-15T10:08:50.691Z"
   },
   {
    "duration": 20,
    "start_time": "2022-01-15T10:08:59.655Z"
   },
   {
    "duration": 82,
    "start_time": "2022-01-15T10:09:39.578Z"
   },
   {
    "duration": 11,
    "start_time": "2022-01-15T10:09:39.662Z"
   },
   {
    "duration": 9,
    "start_time": "2022-01-15T10:09:39.676Z"
   },
   {
    "duration": 59,
    "start_time": "2022-01-15T10:09:39.688Z"
   },
   {
    "duration": 1,
    "start_time": "2022-01-15T10:09:39.749Z"
   },
   {
    "duration": 9,
    "start_time": "2022-01-15T10:09:39.752Z"
   },
   {
    "duration": 7,
    "start_time": "2022-01-15T10:09:39.763Z"
   },
   {
    "duration": 63,
    "start_time": "2022-01-15T10:09:39.772Z"
   },
   {
    "duration": 39,
    "start_time": "2022-01-15T10:09:39.837Z"
   },
   {
    "duration": 10,
    "start_time": "2022-01-15T10:09:39.877Z"
   },
   {
    "duration": 3,
    "start_time": "2022-01-15T10:09:39.889Z"
   },
   {
    "duration": 37,
    "start_time": "2022-01-15T10:09:39.893Z"
   },
   {
    "duration": 20,
    "start_time": "2022-01-15T10:09:39.931Z"
   },
   {
    "duration": 22,
    "start_time": "2022-01-15T10:09:39.952Z"
   },
   {
    "duration": -1986,
    "start_time": "2022-01-15T10:09:51.243Z"
   },
   {
    "duration": 1716,
    "start_time": "2022-01-15T10:19:41.549Z"
   },
   {
    "duration": 1503,
    "start_time": "2022-01-15T10:20:40.317Z"
   },
   {
    "duration": 9767,
    "start_time": "2022-01-15T10:22:26.607Z"
   },
   {
    "duration": -1983,
    "start_time": "2022-01-15T10:22:38.359Z"
   },
   {
    "duration": 95,
    "start_time": "2022-01-15T10:23:43.369Z"
   },
   {
    "duration": 9,
    "start_time": "2022-01-15T10:23:43.465Z"
   },
   {
    "duration": 7,
    "start_time": "2022-01-15T10:23:43.476Z"
   },
   {
    "duration": 49,
    "start_time": "2022-01-15T10:23:43.485Z"
   },
   {
    "duration": 2,
    "start_time": "2022-01-15T10:23:43.537Z"
   },
   {
    "duration": 9,
    "start_time": "2022-01-15T10:23:43.541Z"
   },
   {
    "duration": 7,
    "start_time": "2022-01-15T10:23:43.551Z"
   },
   {
    "duration": 73,
    "start_time": "2022-01-15T10:23:43.560Z"
   },
   {
    "duration": 39,
    "start_time": "2022-01-15T10:23:43.635Z"
   },
   {
    "duration": 8,
    "start_time": "2022-01-15T10:23:43.676Z"
   },
   {
    "duration": 5,
    "start_time": "2022-01-15T10:23:43.686Z"
   },
   {
    "duration": 9,
    "start_time": "2022-01-15T10:23:43.692Z"
   },
   {
    "duration": 42,
    "start_time": "2022-01-15T10:23:43.703Z"
   },
   {
    "duration": 24,
    "start_time": "2022-01-15T10:23:43.747Z"
   },
   {
    "duration": 45194,
    "start_time": "2022-01-15T10:23:43.772Z"
   },
   {
    "duration": 18,
    "start_time": "2022-01-15T10:24:29.154Z"
   },
   {
    "duration": 870,
    "start_time": "2022-01-15T10:29:21.843Z"
   },
   {
    "duration": 573,
    "start_time": "2022-01-15T10:35:34.041Z"
   },
   {
    "duration": 744,
    "start_time": "2022-01-15T10:35:41.522Z"
   },
   {
    "duration": 21,
    "start_time": "2022-01-15T10:35:42.528Z"
   },
   {
    "duration": 1042,
    "start_time": "2022-01-15T10:36:14.127Z"
   },
   {
    "duration": 309,
    "start_time": "2022-01-15T10:37:12.435Z"
   },
   {
    "duration": 5,
    "start_time": "2022-01-15T10:37:30.925Z"
   },
   {
    "duration": -1980,
    "start_time": "2022-01-15T11:14:40.501Z"
   },
   {
    "duration": -1982,
    "start_time": "2022-01-15T11:14:40.504Z"
   },
   {
    "duration": -1983,
    "start_time": "2022-01-15T11:14:40.506Z"
   },
   {
    "duration": -1986,
    "start_time": "2022-01-15T11:14:40.509Z"
   },
   {
    "duration": -1986,
    "start_time": "2022-01-15T11:14:40.510Z"
   },
   {
    "duration": -1989,
    "start_time": "2022-01-15T11:14:40.513Z"
   },
   {
    "duration": -1989,
    "start_time": "2022-01-15T11:14:40.514Z"
   },
   {
    "duration": -1990,
    "start_time": "2022-01-15T11:14:40.516Z"
   },
   {
    "duration": -1991,
    "start_time": "2022-01-15T11:14:40.518Z"
   },
   {
    "duration": -1992,
    "start_time": "2022-01-15T11:14:40.520Z"
   },
   {
    "duration": -1992,
    "start_time": "2022-01-15T11:14:40.521Z"
   },
   {
    "duration": -1993,
    "start_time": "2022-01-15T11:14:40.523Z"
   },
   {
    "duration": -1994,
    "start_time": "2022-01-15T11:14:40.525Z"
   },
   {
    "duration": -1994,
    "start_time": "2022-01-15T11:14:40.527Z"
   },
   {
    "duration": -1995,
    "start_time": "2022-01-15T11:14:40.529Z"
   },
   {
    "duration": -1995,
    "start_time": "2022-01-15T11:14:40.531Z"
   },
   {
    "duration": 20,
    "start_time": "2022-01-15T11:14:41.393Z"
   },
   {
    "duration": 23,
    "start_time": "2022-01-15T11:22:48.988Z"
   },
   {
    "duration": 21,
    "start_time": "2022-01-15T11:23:10.003Z"
   },
   {
    "duration": 22,
    "start_time": "2022-01-15T11:23:17.143Z"
   },
   {
    "duration": 22,
    "start_time": "2022-01-15T11:25:08.017Z"
   },
   {
    "duration": 20,
    "start_time": "2022-01-15T11:25:21.813Z"
   },
   {
    "duration": 221,
    "start_time": "2022-01-15T11:31:10.636Z"
   },
   {
    "duration": 144,
    "start_time": "2022-01-15T11:31:21.419Z"
   },
   {
    "duration": 187,
    "start_time": "2022-01-15T11:31:28.521Z"
   },
   {
    "duration": 2133,
    "start_time": "2022-01-15T11:49:44.953Z"
   },
   {
    "duration": 340,
    "start_time": "2022-01-15T11:49:53.544Z"
   },
   {
    "duration": 9,
    "start_time": "2022-01-15T11:50:04.817Z"
   },
   {
    "duration": 77,
    "start_time": "2022-01-15T12:48:09.435Z"
   },
   {
    "duration": 10,
    "start_time": "2022-01-15T12:48:12.015Z"
   },
   {
    "duration": 9,
    "start_time": "2022-01-15T12:48:20.320Z"
   },
   {
    "duration": 22,
    "start_time": "2022-01-15T12:48:26.188Z"
   },
   {
    "duration": 2,
    "start_time": "2022-01-15T12:48:29.205Z"
   },
   {
    "duration": 7,
    "start_time": "2022-01-15T12:48:30.150Z"
   },
   {
    "duration": 7,
    "start_time": "2022-01-15T12:48:31.872Z"
   },
   {
    "duration": 46,
    "start_time": "2022-01-15T12:48:33.431Z"
   },
   {
    "duration": 55,
    "start_time": "2022-01-15T12:48:34.162Z"
   },
   {
    "duration": 9,
    "start_time": "2022-01-15T12:48:34.993Z"
   },
   {
    "duration": 4,
    "start_time": "2022-01-15T12:48:36.144Z"
   },
   {
    "duration": 7,
    "start_time": "2022-01-15T12:48:37.111Z"
   },
   {
    "duration": 7,
    "start_time": "2022-01-15T12:48:53.407Z"
   },
   {
    "duration": 5,
    "start_time": "2022-01-15T12:48:54.436Z"
   },
   {
    "duration": 23,
    "start_time": "2022-01-15T12:48:57.186Z"
   },
   {
    "duration": 28,
    "start_time": "2022-01-15T12:48:59.841Z"
   },
   {
    "duration": 22,
    "start_time": "2022-01-15T12:49:02.686Z"
   },
   {
    "duration": 8560,
    "start_time": "2022-01-15T12:49:06.238Z"
   },
   {
    "duration": 20,
    "start_time": "2022-01-15T12:49:38.401Z"
   },
   {
    "duration": 21,
    "start_time": "2022-01-15T12:49:44.005Z"
   },
   {
    "duration": 10,
    "start_time": "2022-01-15T12:49:47.227Z"
   },
   {
    "duration": 16,
    "start_time": "2022-01-15T12:50:39.628Z"
   },
   {
    "duration": 12,
    "start_time": "2022-01-15T12:51:00.435Z"
   },
   {
    "duration": 8,
    "start_time": "2022-01-15T12:51:22.942Z"
   },
   {
    "duration": 9,
    "start_time": "2022-01-15T12:51:28.336Z"
   },
   {
    "duration": 8,
    "start_time": "2022-01-15T12:53:10.717Z"
   },
   {
    "duration": 9,
    "start_time": "2022-01-15T12:53:30.146Z"
   },
   {
    "duration": 735,
    "start_time": "2022-01-15T12:54:33.105Z"
   },
   {
    "duration": 3,
    "start_time": "2022-01-15T12:54:42.348Z"
   },
   {
    "duration": 4,
    "start_time": "2022-01-15T12:54:46.139Z"
   },
   {
    "duration": 5,
    "start_time": "2022-01-15T12:54:53.897Z"
   },
   {
    "duration": 23,
    "start_time": "2022-01-15T12:55:35.057Z"
   },
   {
    "duration": 194,
    "start_time": "2022-01-15T13:00:56.735Z"
   },
   {
    "duration": 301,
    "start_time": "2022-01-15T13:02:02.265Z"
   },
   {
    "duration": 39,
    "start_time": "2022-01-15T13:03:02.389Z"
   },
   {
    "duration": 45,
    "start_time": "2022-01-15T13:03:14.999Z"
   },
   {
    "duration": 102,
    "start_time": "2022-01-15T13:03:34.546Z"
   },
   {
    "duration": 27,
    "start_time": "2022-01-15T13:03:38.453Z"
   },
   {
    "duration": 29,
    "start_time": "2022-01-15T13:03:57.889Z"
   },
   {
    "duration": 309,
    "start_time": "2022-01-15T13:05:08.887Z"
   },
   {
    "duration": 32,
    "start_time": "2022-01-15T13:05:23.152Z"
   },
   {
    "duration": 184,
    "start_time": "2022-01-15T13:05:54.261Z"
   },
   {
    "duration": 241,
    "start_time": "2022-01-15T13:06:03.156Z"
   },
   {
    "duration": 324,
    "start_time": "2022-01-15T13:06:09.628Z"
   },
   {
    "duration": 216,
    "start_time": "2022-01-15T13:06:15.465Z"
   },
   {
    "duration": 205,
    "start_time": "2022-01-15T13:07:26.769Z"
   },
   {
    "duration": 203,
    "start_time": "2022-01-15T13:08:15.755Z"
   },
   {
    "duration": 144,
    "start_time": "2022-01-15T13:09:07.059Z"
   },
   {
    "duration": 429,
    "start_time": "2022-01-15T13:09:15.541Z"
   },
   {
    "duration": 192,
    "start_time": "2022-01-15T13:09:21.206Z"
   },
   {
    "duration": 193,
    "start_time": "2022-01-15T13:09:41.722Z"
   },
   {
    "duration": 9,
    "start_time": "2022-01-15T13:09:55.776Z"
   },
   {
    "duration": 182,
    "start_time": "2022-01-15T13:09:59.033Z"
   },
   {
    "duration": 29,
    "start_time": "2022-01-15T13:10:41.304Z"
   },
   {
    "duration": 80,
    "start_time": "2022-01-15T13:10:50.943Z"
   },
   {
    "duration": 9,
    "start_time": "2022-01-15T13:10:51.024Z"
   },
   {
    "duration": 7,
    "start_time": "2022-01-15T13:10:51.035Z"
   },
   {
    "duration": 21,
    "start_time": "2022-01-15T13:10:51.043Z"
   },
   {
    "duration": 2,
    "start_time": "2022-01-15T13:10:51.065Z"
   },
   {
    "duration": 10,
    "start_time": "2022-01-15T13:10:51.068Z"
   },
   {
    "duration": 10,
    "start_time": "2022-01-15T13:10:51.080Z"
   },
   {
    "duration": 63,
    "start_time": "2022-01-15T13:10:51.092Z"
   },
   {
    "duration": 39,
    "start_time": "2022-01-15T13:10:51.157Z"
   },
   {
    "duration": 8,
    "start_time": "2022-01-15T13:10:51.198Z"
   },
   {
    "duration": 21,
    "start_time": "2022-01-15T13:10:51.207Z"
   },
   {
    "duration": 5,
    "start_time": "2022-01-15T13:10:51.229Z"
   },
   {
    "duration": 20,
    "start_time": "2022-01-15T13:10:51.236Z"
   },
   {
    "duration": 23,
    "start_time": "2022-01-15T13:10:51.258Z"
   },
   {
    "duration": 14202,
    "start_time": "2022-01-15T13:10:51.283Z"
   },
   {
    "duration": -1879,
    "start_time": "2022-01-15T13:11:07.366Z"
   },
   {
    "duration": -1883,
    "start_time": "2022-01-15T13:11:07.371Z"
   },
   {
    "duration": -1885,
    "start_time": "2022-01-15T13:11:07.375Z"
   },
   {
    "duration": -1887,
    "start_time": "2022-01-15T13:11:07.379Z"
   },
   {
    "duration": -1896,
    "start_time": "2022-01-15T13:11:07.389Z"
   },
   {
    "duration": -1899,
    "start_time": "2022-01-15T13:11:07.393Z"
   },
   {
    "duration": -1902,
    "start_time": "2022-01-15T13:11:07.398Z"
   },
   {
    "duration": -1907,
    "start_time": "2022-01-15T13:11:07.404Z"
   },
   {
    "duration": 8,
    "start_time": "2022-01-15T13:11:13.169Z"
   },
   {
    "duration": 175,
    "start_time": "2022-01-15T13:11:14.599Z"
   },
   {
    "duration": 29,
    "start_time": "2022-01-15T13:11:15.965Z"
   },
   {
    "duration": 9,
    "start_time": "2022-01-15T13:11:17.249Z"
   },
   {
    "duration": 185,
    "start_time": "2022-01-15T13:11:18.332Z"
   },
   {
    "duration": 9,
    "start_time": "2022-01-15T13:11:20.372Z"
   },
   {
    "duration": 8,
    "start_time": "2022-01-15T13:11:21.627Z"
   },
   {
    "duration": 372,
    "start_time": "2022-01-15T13:11:29.445Z"
   },
   {
    "duration": 220,
    "start_time": "2022-01-15T13:11:42.828Z"
   },
   {
    "duration": 233,
    "start_time": "2022-01-15T13:11:55.452Z"
   },
   {
    "duration": 171,
    "start_time": "2022-01-15T13:11:59.497Z"
   },
   {
    "duration": 9,
    "start_time": "2022-01-15T13:12:28.069Z"
   },
   {
    "duration": 163,
    "start_time": "2022-01-15T13:12:31.425Z"
   },
   {
    "duration": 214,
    "start_time": "2022-01-15T13:12:36.663Z"
   },
   {
    "duration": 10,
    "start_time": "2022-01-15T13:13:38.642Z"
   },
   {
    "duration": 30,
    "start_time": "2022-01-15T13:13:57.771Z"
   },
   {
    "duration": 2,
    "start_time": "2022-01-15T13:14:07.589Z"
   },
   {
    "duration": 9,
    "start_time": "2022-01-15T13:14:09.623Z"
   },
   {
    "duration": 11,
    "start_time": "2022-01-15T13:14:10.625Z"
   },
   {
    "duration": 8,
    "start_time": "2022-01-15T13:14:28.249Z"
   },
   {
    "duration": 220,
    "start_time": "2022-01-15T13:14:35.741Z"
   },
   {
    "duration": 82,
    "start_time": "2022-01-15T13:14:39.737Z"
   },
   {
    "duration": 9,
    "start_time": "2022-01-15T13:14:39.820Z"
   },
   {
    "duration": 7,
    "start_time": "2022-01-15T13:14:39.831Z"
   },
   {
    "duration": 21,
    "start_time": "2022-01-15T13:14:39.840Z"
   },
   {
    "duration": 2,
    "start_time": "2022-01-15T13:14:39.863Z"
   },
   {
    "duration": 7,
    "start_time": "2022-01-15T13:14:39.866Z"
   },
   {
    "duration": 6,
    "start_time": "2022-01-15T13:14:39.874Z"
   },
   {
    "duration": 76,
    "start_time": "2022-01-15T13:14:39.882Z"
   },
   {
    "duration": 39,
    "start_time": "2022-01-15T13:14:39.960Z"
   },
   {
    "duration": 8,
    "start_time": "2022-01-15T13:14:40.001Z"
   },
   {
    "duration": 17,
    "start_time": "2022-01-15T13:14:40.011Z"
   },
   {
    "duration": 8,
    "start_time": "2022-01-15T13:14:40.029Z"
   },
   {
    "duration": 21,
    "start_time": "2022-01-15T13:14:40.038Z"
   },
   {
    "duration": 25,
    "start_time": "2022-01-15T13:14:40.060Z"
   },
   {
    "duration": 9639,
    "start_time": "2022-01-15T13:14:40.086Z"
   },
   {
    "duration": -1863,
    "start_time": "2022-01-15T13:14:51.590Z"
   },
   {
    "duration": -1887,
    "start_time": "2022-01-15T13:14:51.615Z"
   },
   {
    "duration": -1889,
    "start_time": "2022-01-15T13:14:51.618Z"
   },
   {
    "duration": -1891,
    "start_time": "2022-01-15T13:14:51.620Z"
   },
   {
    "duration": -1893,
    "start_time": "2022-01-15T13:14:51.623Z"
   },
   {
    "duration": -1917,
    "start_time": "2022-01-15T13:14:51.649Z"
   },
   {
    "duration": 8,
    "start_time": "2022-01-15T13:14:58.536Z"
   },
   {
    "duration": 296,
    "start_time": "2022-01-15T13:14:59.548Z"
   },
   {
    "duration": 9,
    "start_time": "2022-01-15T13:15:01.681Z"
   },
   {
    "duration": 219,
    "start_time": "2022-01-15T13:15:05.657Z"
   },
   {
    "duration": 217,
    "start_time": "2022-01-15T13:15:42.191Z"
   },
   {
    "duration": 222,
    "start_time": "2022-01-15T13:15:46.867Z"
   },
   {
    "duration": 218,
    "start_time": "2022-01-15T13:16:00.480Z"
   },
   {
    "duration": 217,
    "start_time": "2022-01-15T13:16:16.738Z"
   },
   {
    "duration": 261,
    "start_time": "2022-01-15T13:16:52.368Z"
   },
   {
    "duration": 219,
    "start_time": "2022-01-15T13:16:57.000Z"
   },
   {
    "duration": 233,
    "start_time": "2022-01-15T13:17:41.852Z"
   },
   {
    "duration": 217,
    "start_time": "2022-01-15T13:17:55.823Z"
   },
   {
    "duration": 230,
    "start_time": "2022-01-15T13:18:14.865Z"
   },
   {
    "duration": 162,
    "start_time": "2022-01-15T13:19:29.161Z"
   },
   {
    "duration": 286,
    "start_time": "2022-01-15T13:19:41.683Z"
   },
   {
    "duration": 209,
    "start_time": "2022-01-15T13:19:48.507Z"
   },
   {
    "duration": 349,
    "start_time": "2022-01-15T13:19:59.618Z"
   },
   {
    "duration": 191,
    "start_time": "2022-01-15T13:20:19.250Z"
   },
   {
    "duration": 5,
    "start_time": "2022-01-15T13:20:42.563Z"
   },
   {
    "duration": 156,
    "start_time": "2022-01-15T13:20:53.449Z"
   },
   {
    "duration": 444,
    "start_time": "2022-01-15T13:21:06.543Z"
   },
   {
    "duration": 182,
    "start_time": "2022-01-15T13:21:10.888Z"
   },
   {
    "duration": 214,
    "start_time": "2022-01-15T13:21:16.330Z"
   },
   {
    "duration": 224,
    "start_time": "2022-01-15T13:21:28.756Z"
   },
   {
    "duration": 184,
    "start_time": "2022-01-15T13:21:57.573Z"
   },
   {
    "duration": 184,
    "start_time": "2022-01-15T13:22:11.640Z"
   },
   {
    "duration": 208,
    "start_time": "2022-01-15T13:22:28.785Z"
   },
   {
    "duration": 360,
    "start_time": "2022-01-15T13:25:30.179Z"
   },
   {
    "duration": 76,
    "start_time": "2022-01-15T13:25:38.571Z"
   },
   {
    "duration": 75,
    "start_time": "2022-01-15T13:25:55.526Z"
   },
   {
    "duration": 291,
    "start_time": "2022-01-15T13:28:41.084Z"
   },
   {
    "duration": 8,
    "start_time": "2022-01-15T13:30:27.349Z"
   },
   {
    "duration": 5,
    "start_time": "2022-01-15T13:31:11.597Z"
   },
   {
    "duration": 4,
    "start_time": "2022-01-15T13:31:19.739Z"
   },
   {
    "duration": 5,
    "start_time": "2022-01-15T13:31:25.249Z"
   },
   {
    "duration": 176,
    "start_time": "2022-01-15T13:31:59.966Z"
   },
   {
    "duration": 202,
    "start_time": "2022-01-15T13:32:23.196Z"
   },
   {
    "duration": -1804,
    "start_time": "2022-01-15T14:18:55.184Z"
   },
   {
    "duration": 8000,
    "start_time": "2022-01-15T14:18:54.707Z"
   },
   {
    "duration": 8172,
    "start_time": "2022-01-15T14:19:20.715Z"
   },
   {
    "duration": 6,
    "start_time": "2022-01-15T15:04:03.014Z"
   },
   {
    "duration": 5,
    "start_time": "2022-01-15T15:04:05.516Z"
   },
   {
    "duration": 4,
    "start_time": "2022-01-15T15:13:34.144Z"
   },
   {
    "duration": 8461,
    "start_time": "2022-01-15T15:13:41.143Z"
   },
   {
    "duration": 8,
    "start_time": "2022-01-15T15:14:06.812Z"
   },
   {
    "duration": 81,
    "start_time": "2022-01-15T15:14:17.109Z"
   },
   {
    "duration": 9,
    "start_time": "2022-01-15T15:14:17.192Z"
   },
   {
    "duration": 23,
    "start_time": "2022-01-15T15:14:17.205Z"
   },
   {
    "duration": 21,
    "start_time": "2022-01-15T15:14:17.230Z"
   },
   {
    "duration": 11,
    "start_time": "2022-01-15T15:14:17.253Z"
   },
   {
    "duration": 15,
    "start_time": "2022-01-15T15:14:17.266Z"
   },
   {
    "duration": 11,
    "start_time": "2022-01-15T15:14:17.283Z"
   },
   {
    "duration": 47,
    "start_time": "2022-01-15T15:14:17.296Z"
   },
   {
    "duration": 39,
    "start_time": "2022-01-15T15:14:17.345Z"
   },
   {
    "duration": 8,
    "start_time": "2022-01-15T15:14:17.385Z"
   },
   {
    "duration": 8,
    "start_time": "2022-01-15T15:14:17.394Z"
   },
   {
    "duration": 13,
    "start_time": "2022-01-15T15:14:17.403Z"
   },
   {
    "duration": 21,
    "start_time": "2022-01-15T15:14:17.429Z"
   },
   {
    "duration": 28,
    "start_time": "2022-01-15T15:14:17.452Z"
   },
   {
    "duration": 8439,
    "start_time": "2022-01-15T15:14:17.481Z"
   },
   {
    "duration": 6,
    "start_time": "2022-01-15T15:15:22.320Z"
   },
   {
    "duration": 9969,
    "start_time": "2022-01-15T15:15:31.626Z"
   },
   {
    "duration": 8235,
    "start_time": "2022-01-15T15:16:49.342Z"
   },
   {
    "duration": 106,
    "start_time": "2022-01-15T15:17:03.262Z"
   },
   {
    "duration": 13,
    "start_time": "2022-01-15T15:17:03.371Z"
   },
   {
    "duration": 10,
    "start_time": "2022-01-15T15:17:03.386Z"
   },
   {
    "duration": 8290,
    "start_time": "2022-01-15T15:17:07.819Z"
   },
   {
    "duration": 99,
    "start_time": "2022-01-15T15:19:19.528Z"
   },
   {
    "duration": 8327,
    "start_time": "2022-01-15T15:19:23.278Z"
   },
   {
    "duration": 80,
    "start_time": "2022-01-15T15:19:35.055Z"
   },
   {
    "duration": 12,
    "start_time": "2022-01-15T15:19:35.136Z"
   },
   {
    "duration": 14,
    "start_time": "2022-01-15T15:19:35.150Z"
   },
   {
    "duration": 18,
    "start_time": "2022-01-15T15:19:35.166Z"
   },
   {
    "duration": 4,
    "start_time": "2022-01-15T15:19:35.186Z"
   },
   {
    "duration": 13,
    "start_time": "2022-01-15T15:19:35.191Z"
   },
   {
    "duration": 26,
    "start_time": "2022-01-15T15:19:35.206Z"
   },
   {
    "duration": 43,
    "start_time": "2022-01-15T15:19:35.238Z"
   },
   {
    "duration": 47,
    "start_time": "2022-01-15T15:19:35.283Z"
   },
   {
    "duration": 10,
    "start_time": "2022-01-15T15:19:35.332Z"
   },
   {
    "duration": 10,
    "start_time": "2022-01-15T15:19:35.343Z"
   },
   {
    "duration": 8,
    "start_time": "2022-01-15T15:19:35.354Z"
   },
   {
    "duration": 19,
    "start_time": "2022-01-15T15:19:35.364Z"
   },
   {
    "duration": 53,
    "start_time": "2022-01-15T15:19:35.385Z"
   },
   {
    "duration": 2,
    "start_time": "2022-01-15T15:20:35.481Z"
   },
   {
    "duration": 3,
    "start_time": "2022-01-15T15:20:37.743Z"
   },
   {
    "duration": 10,
    "start_time": "2022-01-15T15:20:46.464Z"
   },
   {
    "duration": 2,
    "start_time": "2022-01-15T15:21:18.748Z"
   },
   {
    "duration": 5,
    "start_time": "2022-01-15T15:21:22.461Z"
   },
   {
    "duration": 25,
    "start_time": "2022-01-15T15:21:25.698Z"
   },
   {
    "duration": 18,
    "start_time": "2022-01-15T15:21:32.486Z"
   },
   {
    "duration": 10133,
    "start_time": "2022-01-15T15:21:35.711Z"
   },
   {
    "duration": 4,
    "start_time": "2022-01-15T15:23:04.504Z"
   },
   {
    "duration": 8895,
    "start_time": "2022-01-15T15:23:08.066Z"
   },
   {
    "duration": 2,
    "start_time": "2022-01-15T15:23:25.602Z"
   },
   {
    "duration": 1026,
    "start_time": "2022-01-15T15:24:19.040Z"
   },
   {
    "duration": 22,
    "start_time": "2022-01-15T15:24:23.945Z"
   },
   {
    "duration": 311,
    "start_time": "2022-01-15T15:29:15.847Z"
   },
   {
    "duration": 209,
    "start_time": "2022-01-15T15:30:31.371Z"
   },
   {
    "duration": 195,
    "start_time": "2022-01-15T15:30:43.243Z"
   },
   {
    "duration": 197,
    "start_time": "2022-01-15T15:30:53.937Z"
   },
   {
    "duration": 163,
    "start_time": "2022-01-15T15:32:45.464Z"
   },
   {
    "duration": 280,
    "start_time": "2022-01-15T15:32:51.825Z"
   },
   {
    "duration": 213,
    "start_time": "2022-01-15T15:32:54.215Z"
   },
   {
    "duration": 181,
    "start_time": "2022-01-15T15:33:12.327Z"
   },
   {
    "duration": 6,
    "start_time": "2022-01-15T15:33:15.383Z"
   },
   {
    "duration": 11,
    "start_time": "2022-01-15T15:33:20.259Z"
   },
   {
    "duration": 73,
    "start_time": "2022-01-15T15:33:28.574Z"
   },
   {
    "duration": 9,
    "start_time": "2022-01-15T15:33:28.649Z"
   },
   {
    "duration": 7,
    "start_time": "2022-01-15T15:33:28.660Z"
   },
   {
    "duration": 21,
    "start_time": "2022-01-15T15:33:28.669Z"
   },
   {
    "duration": 2,
    "start_time": "2022-01-15T15:33:28.691Z"
   },
   {
    "duration": 13,
    "start_time": "2022-01-15T15:33:28.694Z"
   },
   {
    "duration": 18,
    "start_time": "2022-01-15T15:33:28.709Z"
   },
   {
    "duration": 44,
    "start_time": "2022-01-15T15:33:28.729Z"
   },
   {
    "duration": 41,
    "start_time": "2022-01-15T15:33:28.774Z"
   },
   {
    "duration": 15,
    "start_time": "2022-01-15T15:33:28.817Z"
   },
   {
    "duration": 2,
    "start_time": "2022-01-15T15:33:28.833Z"
   },
   {
    "duration": 290,
    "start_time": "2022-01-15T15:33:28.836Z"
   },
   {
    "duration": -42,
    "start_time": "2022-01-15T15:33:29.170Z"
   },
   {
    "duration": -43,
    "start_time": "2022-01-15T15:33:29.173Z"
   },
   {
    "duration": -44,
    "start_time": "2022-01-15T15:33:29.175Z"
   },
   {
    "duration": 4,
    "start_time": "2022-01-15T15:33:45.105Z"
   },
   {
    "duration": 20,
    "start_time": "2022-01-15T15:33:49.259Z"
   },
   {
    "duration": 22,
    "start_time": "2022-01-15T15:33:51.432Z"
   },
   {
    "duration": 843,
    "start_time": "2022-01-15T15:33:52.319Z"
   },
   {
    "duration": 22,
    "start_time": "2022-01-15T15:33:54.097Z"
   },
   {
    "duration": 7,
    "start_time": "2022-01-15T15:33:56.367Z"
   },
   {
    "duration": 189,
    "start_time": "2022-01-15T15:33:58.044Z"
   },
   {
    "duration": 5,
    "start_time": "2022-01-15T15:33:59.530Z"
   },
   {
    "duration": 8,
    "start_time": "2022-01-15T15:34:00.844Z"
   },
   {
    "duration": 243,
    "start_time": "2022-01-15T15:34:02.004Z"
   },
   {
    "duration": 8,
    "start_time": "2022-01-15T15:34:03.359Z"
   },
   {
    "duration": 202,
    "start_time": "2022-01-15T15:34:04.250Z"
   },
   {
    "duration": 11,
    "start_time": "2022-01-15T15:34:05.102Z"
   },
   {
    "duration": 218,
    "start_time": "2022-01-15T15:34:05.961Z"
   },
   {
    "duration": 10,
    "start_time": "2022-01-15T15:34:07.165Z"
   },
   {
    "duration": 197,
    "start_time": "2022-01-15T15:34:08.165Z"
   },
   {
    "duration": 156,
    "start_time": "2022-01-15T15:34:10.288Z"
   },
   {
    "duration": 156,
    "start_time": "2022-01-15T15:34:18.471Z"
   },
   {
    "duration": 180,
    "start_time": "2022-01-15T15:34:29.245Z"
   },
   {
    "duration": 5,
    "start_time": "2022-01-15T15:36:16.838Z"
   },
   {
    "duration": 4,
    "start_time": "2022-01-15T15:36:42.979Z"
   },
   {
    "duration": 6,
    "start_time": "2022-01-15T15:36:44.056Z"
   },
   {
    "duration": 4,
    "start_time": "2022-01-15T15:37:03.756Z"
   },
   {
    "duration": 7,
    "start_time": "2022-01-15T15:37:05.020Z"
   },
   {
    "duration": 82,
    "start_time": "2022-01-15T15:37:09.563Z"
   },
   {
    "duration": 10,
    "start_time": "2022-01-15T15:37:09.647Z"
   },
   {
    "duration": 9,
    "start_time": "2022-01-15T15:37:09.659Z"
   },
   {
    "duration": 18,
    "start_time": "2022-01-15T15:37:09.670Z"
   },
   {
    "duration": 2,
    "start_time": "2022-01-15T15:37:09.690Z"
   },
   {
    "duration": 37,
    "start_time": "2022-01-15T15:37:09.694Z"
   },
   {
    "duration": 2,
    "start_time": "2022-01-15T15:37:09.733Z"
   },
   {
    "duration": 43,
    "start_time": "2022-01-15T15:37:09.738Z"
   },
   {
    "duration": 56,
    "start_time": "2022-01-15T15:37:09.783Z"
   },
   {
    "duration": 40,
    "start_time": "2022-01-15T15:37:09.841Z"
   },
   {
    "duration": 8,
    "start_time": "2022-01-15T15:37:09.883Z"
   },
   {
    "duration": 3,
    "start_time": "2022-01-15T15:37:09.893Z"
   },
   {
    "duration": 279,
    "start_time": "2022-01-15T15:37:09.898Z"
   },
   {
    "duration": -69,
    "start_time": "2022-01-15T15:37:10.248Z"
   },
   {
    "duration": -71,
    "start_time": "2022-01-15T15:37:10.252Z"
   },
   {
    "duration": -72,
    "start_time": "2022-01-15T15:37:10.254Z"
   },
   {
    "duration": -74,
    "start_time": "2022-01-15T15:37:10.257Z"
   },
   {
    "duration": -75,
    "start_time": "2022-01-15T15:37:10.260Z"
   },
   {
    "duration": -76,
    "start_time": "2022-01-15T15:37:10.262Z"
   },
   {
    "duration": -78,
    "start_time": "2022-01-15T15:37:10.265Z"
   },
   {
    "duration": -80,
    "start_time": "2022-01-15T15:37:10.268Z"
   },
   {
    "duration": -81,
    "start_time": "2022-01-15T15:37:10.271Z"
   },
   {
    "duration": -83,
    "start_time": "2022-01-15T15:37:10.274Z"
   },
   {
    "duration": -84,
    "start_time": "2022-01-15T15:37:10.276Z"
   },
   {
    "duration": -94,
    "start_time": "2022-01-15T15:37:10.287Z"
   },
   {
    "duration": -96,
    "start_time": "2022-01-15T15:37:10.291Z"
   },
   {
    "duration": -98,
    "start_time": "2022-01-15T15:37:10.294Z"
   },
   {
    "duration": -99,
    "start_time": "2022-01-15T15:37:10.296Z"
   },
   {
    "duration": -100,
    "start_time": "2022-01-15T15:37:10.299Z"
   },
   {
    "duration": -102,
    "start_time": "2022-01-15T15:37:10.302Z"
   },
   {
    "duration": 299,
    "start_time": "2022-01-15T15:37:33.102Z"
   },
   {
    "duration": 5,
    "start_time": "2022-01-15T15:37:46.271Z"
   },
   {
    "duration": 6,
    "start_time": "2022-01-15T15:38:01.998Z"
   },
   {
    "duration": 172,
    "start_time": "2022-01-15T15:38:20.556Z"
   },
   {
    "duration": 8,
    "start_time": "2022-01-15T15:38:40.023Z"
   },
   {
    "duration": 4,
    "start_time": "2022-01-15T15:39:18.169Z"
   },
   {
    "duration": 7,
    "start_time": "2022-01-15T15:39:22.801Z"
   },
   {
    "duration": 6,
    "start_time": "2022-01-15T15:39:27.356Z"
   },
   {
    "duration": 10,
    "start_time": "2022-01-15T15:55:37.386Z"
   },
   {
    "duration": 85,
    "start_time": "2022-01-15T15:56:01.131Z"
   },
   {
    "duration": 20,
    "start_time": "2022-01-15T15:56:01.219Z"
   },
   {
    "duration": 8,
    "start_time": "2022-01-15T15:56:01.242Z"
   },
   {
    "duration": 21,
    "start_time": "2022-01-15T15:56:01.252Z"
   },
   {
    "duration": 2,
    "start_time": "2022-01-15T15:56:01.275Z"
   },
   {
    "duration": 7,
    "start_time": "2022-01-15T15:56:01.278Z"
   },
   {
    "duration": 71,
    "start_time": "2022-01-15T15:56:01.287Z"
   },
   {
    "duration": 42,
    "start_time": "2022-01-15T15:56:01.361Z"
   },
   {
    "duration": 3,
    "start_time": "2022-01-15T15:56:01.405Z"
   },
   {
    "duration": 58,
    "start_time": "2022-01-15T15:56:01.410Z"
   },
   {
    "duration": 9,
    "start_time": "2022-01-15T15:56:01.469Z"
   },
   {
    "duration": 8,
    "start_time": "2022-01-15T15:56:01.479Z"
   },
   {
    "duration": 12,
    "start_time": "2022-01-15T15:56:01.489Z"
   },
   {
    "duration": 40,
    "start_time": "2022-01-15T15:56:01.502Z"
   },
   {
    "duration": 23,
    "start_time": "2022-01-15T15:56:01.544Z"
   },
   {
    "duration": 866,
    "start_time": "2022-01-15T15:56:01.569Z"
   },
   {
    "duration": 19,
    "start_time": "2022-01-15T15:56:02.437Z"
   },
   {
    "duration": 12,
    "start_time": "2022-01-15T15:56:06.167Z"
   },
   {
    "duration": 7,
    "start_time": "2022-01-15T15:56:37.187Z"
   },
   {
    "duration": 11,
    "start_time": "2022-01-15T15:56:41.281Z"
   },
   {
    "duration": 41,
    "start_time": "2022-01-15T15:58:36.889Z"
   },
   {
    "duration": 8,
    "start_time": "2022-01-15T15:58:41.361Z"
   },
   {
    "duration": 4,
    "start_time": "2022-01-15T15:59:21.603Z"
   },
   {
    "duration": 9,
    "start_time": "2022-01-15T15:59:24.018Z"
   },
   {
    "duration": 12,
    "start_time": "2022-01-15T16:00:00.527Z"
   },
   {
    "duration": 7,
    "start_time": "2022-01-15T16:00:13.749Z"
   },
   {
    "duration": 11,
    "start_time": "2022-01-15T16:00:16.733Z"
   },
   {
    "duration": 8,
    "start_time": "2022-01-15T16:00:28.307Z"
   },
   {
    "duration": 193,
    "start_time": "2022-01-15T16:00:29.468Z"
   },
   {
    "duration": 9,
    "start_time": "2022-01-15T16:00:32.704Z"
   },
   {
    "duration": 236,
    "start_time": "2022-01-15T16:00:33.979Z"
   },
   {
    "duration": 10,
    "start_time": "2022-01-15T16:00:36.137Z"
   },
   {
    "duration": 210,
    "start_time": "2022-01-15T16:00:37.293Z"
   },
   {
    "duration": 7,
    "start_time": "2022-01-15T16:00:39.312Z"
   },
   {
    "duration": 219,
    "start_time": "2022-01-15T16:00:40.717Z"
   },
   {
    "duration": 11,
    "start_time": "2022-01-15T16:00:42.735Z"
   },
   {
    "duration": 202,
    "start_time": "2022-01-15T16:00:43.772Z"
   },
   {
    "duration": 421,
    "start_time": "2022-01-15T16:02:09.997Z"
   },
   {
    "duration": 221,
    "start_time": "2022-01-15T16:02:19.584Z"
   },
   {
    "duration": 234,
    "start_time": "2022-01-15T16:04:12.077Z"
   },
   {
    "duration": 104,
    "start_time": "2022-01-15T16:05:42.972Z"
   },
   {
    "duration": 230,
    "start_time": "2022-01-15T16:07:10.175Z"
   },
   {
    "duration": 298,
    "start_time": "2022-01-15T16:30:04.267Z"
   },
   {
    "duration": 52,
    "start_time": "2022-01-15T16:30:59.684Z"
   },
   {
    "duration": 303,
    "start_time": "2022-01-15T16:33:54.843Z"
   },
   {
    "duration": 297,
    "start_time": "2022-01-15T16:34:17.224Z"
   },
   {
    "duration": 6,
    "start_time": "2022-01-15T16:34:34.863Z"
   },
   {
    "duration": 6,
    "start_time": "2022-01-15T16:34:38.072Z"
   },
   {
    "duration": 15,
    "start_time": "2022-01-15T16:34:41.240Z"
   },
   {
    "duration": 4030,
    "start_time": "2022-01-15T16:35:42.961Z"
   },
   {
    "duration": 88,
    "start_time": "2022-01-15T16:40:38.067Z"
   },
   {
    "duration": 4819,
    "start_time": "2022-01-15T16:40:49.488Z"
   },
   {
    "duration": 273,
    "start_time": "2022-01-15T16:46:20.721Z"
   },
   {
    "duration": 274,
    "start_time": "2022-01-15T16:47:11.205Z"
   },
   {
    "duration": 183,
    "start_time": "2022-01-15T16:47:22.266Z"
   },
   {
    "duration": 91,
    "start_time": "2022-01-15T16:48:29.578Z"
   },
   {
    "duration": 194,
    "start_time": "2022-01-15T16:48:44.466Z"
   },
   {
    "duration": 150,
    "start_time": "2022-01-15T16:48:50.651Z"
   },
   {
    "duration": 147,
    "start_time": "2022-01-15T16:48:56.750Z"
   },
   {
    "duration": 141,
    "start_time": "2022-01-15T16:49:26.223Z"
   },
   {
    "duration": 354,
    "start_time": "2022-01-15T17:10:01.693Z"
   },
   {
    "duration": 7,
    "start_time": "2022-01-15T17:10:52.702Z"
   },
   {
    "duration": 21,
    "start_time": "2022-01-15T17:11:04.343Z"
   },
   {
    "duration": 37,
    "start_time": "2022-01-15T17:12:43.979Z"
   },
   {
    "duration": 5,
    "start_time": "2022-01-15T17:13:48.313Z"
   },
   {
    "duration": 5,
    "start_time": "2022-01-15T17:13:57.369Z"
   },
   {
    "duration": 274,
    "start_time": "2022-01-15T17:14:17.955Z"
   },
   {
    "duration": 6,
    "start_time": "2022-01-15T17:17:15.291Z"
   },
   {
    "duration": 275,
    "start_time": "2022-01-15T17:17:20.565Z"
   },
   {
    "duration": 5,
    "start_time": "2022-01-15T17:17:30.594Z"
   },
   {
    "duration": 4,
    "start_time": "2022-01-15T17:22:30.474Z"
   },
   {
    "duration": 39,
    "start_time": "2022-01-15T17:22:40.601Z"
   },
   {
    "duration": 5,
    "start_time": "2022-01-15T17:23:20.204Z"
   },
   {
    "duration": 2,
    "start_time": "2022-01-15T17:23:34.250Z"
   },
   {
    "duration": 5,
    "start_time": "2022-01-15T17:23:39.583Z"
   },
   {
    "duration": 24,
    "start_time": "2022-01-15T17:25:52.535Z"
   },
   {
    "duration": 7,
    "start_time": "2022-01-15T17:26:31.667Z"
   },
   {
    "duration": 262,
    "start_time": "2022-01-15T17:34:10.065Z"
   },
   {
    "duration": 8,
    "start_time": "2022-01-15T17:34:15.239Z"
   },
   {
    "duration": 7,
    "start_time": "2022-01-15T17:34:46.401Z"
   },
   {
    "duration": 6,
    "start_time": "2022-01-15T17:35:31.830Z"
   },
   {
    "duration": 8,
    "start_time": "2022-01-15T17:35:49.574Z"
   },
   {
    "duration": 284,
    "start_time": "2022-01-15T19:51:05.045Z"
   },
   {
    "duration": 270,
    "start_time": "2022-01-15T19:51:30.998Z"
   },
   {
    "duration": 79,
    "start_time": "2022-01-15T19:51:42.714Z"
   },
   {
    "duration": 32,
    "start_time": "2022-01-15T19:51:42.795Z"
   },
   {
    "duration": 8,
    "start_time": "2022-01-15T19:51:42.829Z"
   },
   {
    "duration": 18,
    "start_time": "2022-01-15T19:51:42.839Z"
   },
   {
    "duration": 2,
    "start_time": "2022-01-15T19:51:42.858Z"
   },
   {
    "duration": 5,
    "start_time": "2022-01-15T19:51:42.861Z"
   },
   {
    "duration": 61,
    "start_time": "2022-01-15T19:51:42.867Z"
   },
   {
    "duration": 40,
    "start_time": "2022-01-15T19:51:42.930Z"
   },
   {
    "duration": 39,
    "start_time": "2022-01-15T19:51:42.973Z"
   },
   {
    "duration": 52,
    "start_time": "2022-01-15T19:51:43.014Z"
   },
   {
    "duration": 41,
    "start_time": "2022-01-15T19:51:43.068Z"
   },
   {
    "duration": 18,
    "start_time": "2022-01-15T19:51:43.110Z"
   },
   {
    "duration": 8,
    "start_time": "2022-01-15T19:51:43.130Z"
   },
   {
    "duration": 7,
    "start_time": "2022-01-15T19:51:43.140Z"
   },
   {
    "duration": 3,
    "start_time": "2022-01-15T19:51:43.148Z"
   },
   {
    "duration": 9,
    "start_time": "2022-01-15T19:51:43.152Z"
   },
   {
    "duration": 16,
    "start_time": "2022-01-15T19:51:43.163Z"
   },
   {
    "duration": 48,
    "start_time": "2022-01-15T19:51:43.180Z"
   },
   {
    "duration": 1040,
    "start_time": "2022-01-15T19:51:43.229Z"
   },
   {
    "duration": 18,
    "start_time": "2022-01-15T19:51:44.271Z"
   },
   {
    "duration": 11,
    "start_time": "2022-01-15T19:51:44.290Z"
   },
   {
    "duration": 25,
    "start_time": "2022-01-15T19:51:44.303Z"
   },
   {
    "duration": 183,
    "start_time": "2022-01-15T19:51:44.330Z"
   },
   {
    "duration": 2,
    "start_time": "2022-01-15T19:51:44.514Z"
   },
   {
    "duration": 15,
    "start_time": "2022-01-15T19:51:44.517Z"
   },
   {
    "duration": 234,
    "start_time": "2022-01-15T19:51:44.533Z"
   },
   {
    "duration": 7,
    "start_time": "2022-01-15T19:51:44.769Z"
   },
   {
    "duration": 205,
    "start_time": "2022-01-15T19:51:44.777Z"
   },
   {
    "duration": 7,
    "start_time": "2022-01-15T19:51:44.984Z"
   },
   {
    "duration": 237,
    "start_time": "2022-01-15T19:51:44.992Z"
   },
   {
    "duration": 7,
    "start_time": "2022-01-15T19:51:45.231Z"
   },
   {
    "duration": 166,
    "start_time": "2022-01-15T19:51:45.239Z"
   },
   {
    "duration": 206,
    "start_time": "2022-01-15T19:51:45.407Z"
   },
   {
    "duration": 86,
    "start_time": "2022-01-15T19:51:45.614Z"
   },
   {
    "duration": 169,
    "start_time": "2022-01-15T19:51:45.533Z"
   },
   {
    "duration": 164,
    "start_time": "2022-01-15T19:51:45.539Z"
   },
   {
    "duration": 161,
    "start_time": "2022-01-15T19:51:45.543Z"
   },
   {
    "duration": 14,
    "start_time": "2022-01-15T19:51:52.597Z"
   },
   {
    "duration": 277,
    "start_time": "2022-01-15T19:58:53.637Z"
   },
   {
    "duration": 6,
    "start_time": "2022-01-15T20:09:27.075Z"
   },
   {
    "duration": 8,
    "start_time": "2022-01-15T20:09:34.594Z"
   },
   {
    "duration": 15,
    "start_time": "2022-01-15T20:09:44.924Z"
   },
   {
    "duration": 275,
    "start_time": "2022-01-15T20:10:06.464Z"
   },
   {
    "duration": 15,
    "start_time": "2022-01-15T20:10:09.858Z"
   },
   {
    "duration": 4644,
    "start_time": "2022-01-15T20:10:37.245Z"
   },
   {
    "duration": 2290,
    "start_time": "2022-01-15T20:10:52.335Z"
   },
   {
    "duration": 20,
    "start_time": "2022-01-15T20:10:58.667Z"
   },
   {
    "duration": 21,
    "start_time": "2022-01-15T20:11:27.129Z"
   },
   {
    "duration": 20,
    "start_time": "2022-01-15T20:11:51.928Z"
   },
   {
    "duration": 5,
    "start_time": "2022-01-15T20:12:57.169Z"
   },
   {
    "duration": 7,
    "start_time": "2022-01-15T20:13:29.595Z"
   },
   {
    "duration": 8,
    "start_time": "2022-01-15T20:15:07.957Z"
   },
   {
    "duration": 30,
    "start_time": "2022-01-15T20:18:11.495Z"
   },
   {
    "duration": 8,
    "start_time": "2022-01-15T20:18:14.469Z"
   },
   {
    "duration": 7,
    "start_time": "2022-01-15T20:18:17.326Z"
   },
   {
    "duration": 7,
    "start_time": "2022-01-15T20:18:38.215Z"
   },
   {
    "duration": 1380,
    "start_time": "2022-01-15T20:50:32.367Z"
   },
   {
    "duration": 4,
    "start_time": "2022-01-15T20:50:38.858Z"
   },
   {
    "duration": 5098,
    "start_time": "2022-01-15T20:51:28.390Z"
   },
   {
    "duration": 3,
    "start_time": "2022-01-15T20:51:41.451Z"
   },
   {
    "duration": 3,
    "start_time": "2022-01-15T20:51:54.501Z"
   },
   {
    "duration": 4,
    "start_time": "2022-01-15T20:52:00.687Z"
   },
   {
    "duration": 14,
    "start_time": "2022-01-15T20:52:10.864Z"
   },
   {
    "duration": 19,
    "start_time": "2022-01-15T20:52:19.312Z"
   },
   {
    "duration": 94,
    "start_time": "2022-01-15T20:55:50.175Z"
   },
   {
    "duration": 91,
    "start_time": "2022-01-15T20:56:04.572Z"
   },
   {
    "duration": 101,
    "start_time": "2022-01-15T20:57:06.067Z"
   },
   {
    "duration": 91,
    "start_time": "2022-01-15T20:57:24.234Z"
   },
   {
    "duration": 104,
    "start_time": "2022-01-15T20:57:30.843Z"
   },
   {
    "duration": 8,
    "start_time": "2022-01-15T20:57:34.932Z"
   },
   {
    "duration": 20,
    "start_time": "2022-01-15T21:01:41.709Z"
   },
   {
    "duration": 23,
    "start_time": "2022-01-15T21:01:48.708Z"
   },
   {
    "duration": 16,
    "start_time": "2022-01-15T21:02:23.926Z"
   },
   {
    "duration": 17,
    "start_time": "2022-01-15T21:03:12.087Z"
   },
   {
    "duration": 1140,
    "start_time": "2022-01-15T21:03:33.594Z"
   },
   {
    "duration": 1188,
    "start_time": "2022-01-15T21:03:47.226Z"
   },
   {
    "duration": 17,
    "start_time": "2022-01-15T21:04:19.783Z"
   },
   {
    "duration": 17,
    "start_time": "2022-01-15T21:04:23.931Z"
   },
   {
    "duration": 114,
    "start_time": "2022-01-15T21:08:15.723Z"
   },
   {
    "duration": 18,
    "start_time": "2022-01-15T21:08:31.733Z"
   },
   {
    "duration": 13,
    "start_time": "2022-01-15T21:09:07.505Z"
   },
   {
    "duration": 20,
    "start_time": "2022-01-15T21:09:18.482Z"
   },
   {
    "duration": 8,
    "start_time": "2022-01-15T21:09:30.776Z"
   },
   {
    "duration": 19,
    "start_time": "2022-01-15T21:09:35.641Z"
   },
   {
    "duration": 158,
    "start_time": "2022-01-15T21:10:08.553Z"
   },
   {
    "duration": 222,
    "start_time": "2022-01-15T21:10:25.139Z"
   },
   {
    "duration": 296,
    "start_time": "2022-01-15T21:10:37.633Z"
   },
   {
    "duration": 6795,
    "start_time": "2022-01-15T21:13:07.039Z"
   },
   {
    "duration": 6723,
    "start_time": "2022-01-15T21:14:06.117Z"
   },
   {
    "duration": 163,
    "start_time": "2022-01-15T21:14:37.375Z"
   },
   {
    "duration": 6837,
    "start_time": "2022-01-15T21:17:08.775Z"
   },
   {
    "duration": 7420,
    "start_time": "2022-01-15T21:17:30.401Z"
   },
   {
    "duration": 162,
    "start_time": "2022-01-15T21:29:44.610Z"
   },
   {
    "duration": 92,
    "start_time": "2022-01-15T21:34:45.446Z"
   },
   {
    "duration": 159,
    "start_time": "2022-01-15T21:35:05.116Z"
   },
   {
    "duration": 7,
    "start_time": "2022-01-15T21:37:26.882Z"
   },
   {
    "duration": 22,
    "start_time": "2022-01-15T21:37:38.991Z"
   },
   {
    "duration": 287,
    "start_time": "2022-01-15T21:42:38.618Z"
   },
   {
    "duration": 330,
    "start_time": "2022-01-15T21:43:03.249Z"
   },
   {
    "duration": 8,
    "start_time": "2022-01-15T21:43:12.075Z"
   },
   {
    "duration": 281,
    "start_time": "2022-01-15T21:43:17.376Z"
   },
   {
    "duration": 219,
    "start_time": "2022-01-15T21:43:19.792Z"
   },
   {
    "duration": 8,
    "start_time": "2022-01-15T21:43:21.283Z"
   },
   {
    "duration": 272,
    "start_time": "2022-01-15T21:43:32.475Z"
   },
   {
    "duration": 6,
    "start_time": "2022-01-15T21:43:34.865Z"
   },
   {
    "duration": 81,
    "start_time": "2022-01-15T21:43:51.845Z"
   },
   {
    "duration": 8,
    "start_time": "2022-01-15T21:43:51.928Z"
   },
   {
    "duration": 15,
    "start_time": "2022-01-15T21:43:51.938Z"
   },
   {
    "duration": 23,
    "start_time": "2022-01-15T21:43:51.954Z"
   },
   {
    "duration": 8,
    "start_time": "2022-01-15T21:43:51.979Z"
   },
   {
    "duration": 22,
    "start_time": "2022-01-15T21:43:51.988Z"
   },
   {
    "duration": 50,
    "start_time": "2022-01-15T21:43:52.011Z"
   },
   {
    "duration": 40,
    "start_time": "2022-01-15T21:43:52.063Z"
   },
   {
    "duration": 48,
    "start_time": "2022-01-15T21:43:52.105Z"
   },
   {
    "duration": 40,
    "start_time": "2022-01-15T21:43:52.155Z"
   },
   {
    "duration": 53,
    "start_time": "2022-01-15T21:43:52.196Z"
   },
   {
    "duration": 4,
    "start_time": "2022-01-15T21:43:52.250Z"
   },
   {
    "duration": 14,
    "start_time": "2022-01-15T21:43:52.255Z"
   },
   {
    "duration": 6,
    "start_time": "2022-01-15T21:43:52.271Z"
   },
   {
    "duration": 21,
    "start_time": "2022-01-15T21:43:52.279Z"
   },
   {
    "duration": 24,
    "start_time": "2022-01-15T21:43:52.301Z"
   },
   {
    "duration": 27,
    "start_time": "2022-01-15T21:43:52.327Z"
   },
   {
    "duration": 20,
    "start_time": "2022-01-15T21:43:52.355Z"
   },
   {
    "duration": 812,
    "start_time": "2022-01-15T21:43:52.377Z"
   },
   {
    "duration": 18,
    "start_time": "2022-01-15T21:43:53.191Z"
   },
   {
    "duration": 23,
    "start_time": "2022-01-15T21:43:53.210Z"
   },
   {
    "duration": 6,
    "start_time": "2022-01-15T21:43:53.235Z"
   },
   {
    "duration": 189,
    "start_time": "2022-01-15T21:43:53.244Z"
   },
   {
    "duration": 2,
    "start_time": "2022-01-15T21:43:53.435Z"
   },
   {
    "duration": 23,
    "start_time": "2022-01-15T21:43:53.439Z"
   },
   {
    "duration": 227,
    "start_time": "2022-01-15T21:43:53.464Z"
   },
   {
    "duration": 6,
    "start_time": "2022-01-15T21:43:53.693Z"
   },
   {
    "duration": 212,
    "start_time": "2022-01-15T21:43:53.701Z"
   },
   {
    "duration": 15,
    "start_time": "2022-01-15T21:43:53.915Z"
   },
   {
    "duration": 223,
    "start_time": "2022-01-15T21:43:53.931Z"
   },
   {
    "duration": 8,
    "start_time": "2022-01-15T21:43:54.155Z"
   },
   {
    "duration": 165,
    "start_time": "2022-01-15T21:43:54.164Z"
   },
   {
    "duration": 204,
    "start_time": "2022-01-15T21:43:54.331Z"
   },
   {
    "duration": 226,
    "start_time": "2022-01-15T21:43:54.536Z"
   },
   {
    "duration": 212,
    "start_time": "2022-01-15T21:43:57.320Z"
   },
   {
    "duration": 6,
    "start_time": "2022-01-15T21:44:00.485Z"
   },
   {
    "duration": 5085,
    "start_time": "2022-01-15T21:44:04.334Z"
   },
   {
    "duration": 22,
    "start_time": "2022-01-15T21:44:19.106Z"
   },
   {
    "duration": 8,
    "start_time": "2022-01-15T21:44:24.590Z"
   },
   {
    "duration": 7,
    "start_time": "2022-01-15T21:44:27.211Z"
   },
   {
    "duration": 20,
    "start_time": "2022-01-15T21:44:29.013Z"
   },
   {
    "duration": 20,
    "start_time": "2022-01-15T21:44:31.312Z"
   },
   {
    "duration": 169,
    "start_time": "2022-01-15T21:44:32.921Z"
   },
   {
    "duration": 21,
    "start_time": "2022-01-15T21:44:35.355Z"
   },
   {
    "duration": 4339,
    "start_time": "2022-01-15T21:45:46.662Z"
   },
   {
    "duration": 3403,
    "start_time": "2022-01-15T21:47:08.703Z"
   },
   {
    "duration": 4183,
    "start_time": "2022-01-15T21:58:18.096Z"
   },
   {
    "duration": 17,
    "start_time": "2022-01-15T21:59:03.423Z"
   },
   {
    "duration": 3947,
    "start_time": "2022-01-15T21:59:22.966Z"
   },
   {
    "duration": 3671,
    "start_time": "2022-01-15T22:01:05.527Z"
   },
   {
    "duration": 3719,
    "start_time": "2022-01-15T22:01:38.280Z"
   },
   {
    "duration": 278,
    "start_time": "2022-01-15T22:02:35.239Z"
   },
   {
    "duration": 20,
    "start_time": "2022-01-15T22:02:44.358Z"
   },
   {
    "duration": 24,
    "start_time": "2022-01-15T22:04:52.190Z"
   },
   {
    "duration": 17,
    "start_time": "2022-01-15T22:05:21.694Z"
   },
   {
    "duration": 22,
    "start_time": "2022-01-15T22:05:25.627Z"
   },
   {
    "duration": 3045,
    "start_time": "2022-01-15T22:05:30.859Z"
   },
   {
    "duration": 294,
    "start_time": "2022-01-16T08:41:45.380Z"
   },
   {
    "duration": 743,
    "start_time": "2022-01-16T08:41:54.220Z"
   },
   {
    "duration": 9,
    "start_time": "2022-01-16T08:41:54.965Z"
   },
   {
    "duration": 8,
    "start_time": "2022-01-16T08:41:54.975Z"
   },
   {
    "duration": 22,
    "start_time": "2022-01-16T08:41:54.984Z"
   },
   {
    "duration": 1,
    "start_time": "2022-01-16T08:41:55.008Z"
   },
   {
    "duration": 2,
    "start_time": "2022-01-16T08:41:55.027Z"
   },
   {
    "duration": 43,
    "start_time": "2022-01-16T08:41:55.030Z"
   },
   {
    "duration": 38,
    "start_time": "2022-01-16T08:41:55.075Z"
   },
   {
    "duration": 38,
    "start_time": "2022-01-16T08:41:55.127Z"
   },
   {
    "duration": 38,
    "start_time": "2022-01-16T08:41:55.166Z"
   },
   {
    "duration": 57,
    "start_time": "2022-01-16T08:41:55.206Z"
   },
   {
    "duration": 4,
    "start_time": "2022-01-16T08:41:55.264Z"
   },
   {
    "duration": 8,
    "start_time": "2022-01-16T08:41:55.269Z"
   },
   {
    "duration": 7,
    "start_time": "2022-01-16T08:41:55.279Z"
   },
   {
    "duration": 7,
    "start_time": "2022-01-16T08:41:55.287Z"
   },
   {
    "duration": 29,
    "start_time": "2022-01-16T08:41:55.295Z"
   },
   {
    "duration": 21,
    "start_time": "2022-01-16T08:41:55.325Z"
   },
   {
    "duration": 22,
    "start_time": "2022-01-16T08:41:55.347Z"
   },
   {
    "duration": 822,
    "start_time": "2022-01-16T08:41:55.370Z"
   },
   {
    "duration": 18,
    "start_time": "2022-01-16T08:41:56.194Z"
   },
   {
    "duration": 20,
    "start_time": "2022-01-16T08:41:56.213Z"
   },
   {
    "duration": 6,
    "start_time": "2022-01-16T08:41:56.234Z"
   },
   {
    "duration": 231,
    "start_time": "2022-01-16T08:41:56.243Z"
   },
   {
    "duration": 2,
    "start_time": "2022-01-16T08:41:56.475Z"
   },
   {
    "duration": 11,
    "start_time": "2022-01-16T08:41:56.479Z"
   },
   {
    "duration": 238,
    "start_time": "2022-01-16T08:41:56.491Z"
   },
   {
    "duration": 7,
    "start_time": "2022-01-16T08:41:56.730Z"
   },
   {
    "duration": 207,
    "start_time": "2022-01-16T08:41:56.739Z"
   },
   {
    "duration": 7,
    "start_time": "2022-01-16T08:41:56.947Z"
   },
   {
    "duration": 220,
    "start_time": "2022-01-16T08:41:56.955Z"
   },
   {
    "duration": 7,
    "start_time": "2022-01-16T08:41:57.177Z"
   },
   {
    "duration": 172,
    "start_time": "2022-01-16T08:41:57.185Z"
   },
   {
    "duration": 206,
    "start_time": "2022-01-16T08:41:57.359Z"
   },
   {
    "duration": 227,
    "start_time": "2022-01-16T08:41:57.567Z"
   },
   {
    "duration": 5,
    "start_time": "2022-01-16T08:41:57.795Z"
   },
   {
    "duration": 4826,
    "start_time": "2022-01-16T08:41:57.802Z"
   },
   {
    "duration": 19,
    "start_time": "2022-01-16T08:42:02.630Z"
   },
   {
    "duration": 5,
    "start_time": "2022-01-16T08:42:02.651Z"
   },
   {
    "duration": 12,
    "start_time": "2022-01-16T08:42:02.658Z"
   },
   {
    "duration": 8,
    "start_time": "2022-01-16T08:42:02.671Z"
   },
   {
    "duration": 21,
    "start_time": "2022-01-16T08:42:02.680Z"
   },
   {
    "duration": 41,
    "start_time": "2022-01-16T08:42:02.702Z"
   },
   {
    "duration": 177,
    "start_time": "2022-01-16T08:42:02.744Z"
   },
   {
    "duration": 22,
    "start_time": "2022-01-16T08:42:02.927Z"
   },
   {
    "duration": 308,
    "start_time": "2022-01-16T08:42:02.950Z"
   },
   {
    "duration": 3264,
    "start_time": "2022-01-16T08:42:52.089Z"
   },
   {
    "duration": 4848,
    "start_time": "2022-01-16T08:44:28.950Z"
   },
   {
    "duration": 1781,
    "start_time": "2022-01-16T08:46:41.417Z"
   },
   {
    "duration": 2109,
    "start_time": "2022-01-16T08:46:49.991Z"
   },
   {
    "duration": 1747,
    "start_time": "2022-01-16T08:46:58.375Z"
   },
   {
    "duration": 9,
    "start_time": "2022-01-16T08:49:05.065Z"
   },
   {
    "duration": 85,
    "start_time": "2022-01-16T08:52:20.108Z"
   },
   {
    "duration": 9,
    "start_time": "2022-01-16T08:52:20.194Z"
   },
   {
    "duration": 11,
    "start_time": "2022-01-16T08:52:20.227Z"
   },
   {
    "duration": 24,
    "start_time": "2022-01-16T08:52:20.240Z"
   },
   {
    "duration": 3,
    "start_time": "2022-01-16T08:52:20.266Z"
   },
   {
    "duration": 7,
    "start_time": "2022-01-16T08:52:20.270Z"
   },
   {
    "duration": 71,
    "start_time": "2022-01-16T08:52:20.278Z"
   },
   {
    "duration": 40,
    "start_time": "2022-01-16T08:52:20.352Z"
   },
   {
    "duration": 53,
    "start_time": "2022-01-16T08:52:20.394Z"
   },
   {
    "duration": 45,
    "start_time": "2022-01-16T08:52:20.449Z"
   },
   {
    "duration": 52,
    "start_time": "2022-01-16T08:52:20.495Z"
   },
   {
    "duration": 3,
    "start_time": "2022-01-16T08:52:20.549Z"
   },
   {
    "duration": 11,
    "start_time": "2022-01-16T08:52:20.554Z"
   },
   {
    "duration": 7,
    "start_time": "2022-01-16T08:52:20.566Z"
   },
   {
    "duration": 8,
    "start_time": "2022-01-16T08:52:20.574Z"
   },
   {
    "duration": 13,
    "start_time": "2022-01-16T08:52:20.583Z"
   },
   {
    "duration": 35,
    "start_time": "2022-01-16T08:52:20.598Z"
   },
   {
    "duration": 26,
    "start_time": "2022-01-16T08:52:20.635Z"
   },
   {
    "duration": 939,
    "start_time": "2022-01-16T08:52:20.663Z"
   },
   {
    "duration": 30,
    "start_time": "2022-01-16T08:52:21.603Z"
   },
   {
    "duration": 12,
    "start_time": "2022-01-16T08:52:21.635Z"
   },
   {
    "duration": 6,
    "start_time": "2022-01-16T08:52:21.649Z"
   },
   {
    "duration": 199,
    "start_time": "2022-01-16T08:52:21.658Z"
   },
   {
    "duration": 2,
    "start_time": "2022-01-16T08:52:21.858Z"
   },
   {
    "duration": 12,
    "start_time": "2022-01-16T08:52:21.862Z"
   },
   {
    "duration": 232,
    "start_time": "2022-01-16T08:52:21.875Z"
   },
   {
    "duration": 6,
    "start_time": "2022-01-16T08:52:22.109Z"
   },
   {
    "duration": 203,
    "start_time": "2022-01-16T08:52:22.127Z"
   },
   {
    "duration": 7,
    "start_time": "2022-01-16T08:52:22.331Z"
   },
   {
    "duration": 229,
    "start_time": "2022-01-16T08:52:22.339Z"
   },
   {
    "duration": 7,
    "start_time": "2022-01-16T08:52:22.569Z"
   },
   {
    "duration": 174,
    "start_time": "2022-01-16T08:52:22.577Z"
   },
   {
    "duration": 200,
    "start_time": "2022-01-16T08:52:22.753Z"
   },
   {
    "duration": 234,
    "start_time": "2022-01-16T08:52:22.955Z"
   },
   {
    "duration": 6,
    "start_time": "2022-01-16T08:52:23.191Z"
   },
   {
    "duration": 4767,
    "start_time": "2022-01-16T08:52:23.198Z"
   },
   {
    "duration": 19,
    "start_time": "2022-01-16T08:52:27.966Z"
   },
   {
    "duration": 6,
    "start_time": "2022-01-16T08:52:27.986Z"
   },
   {
    "duration": 8,
    "start_time": "2022-01-16T08:52:27.993Z"
   },
   {
    "duration": 29,
    "start_time": "2022-01-16T08:52:28.002Z"
   },
   {
    "duration": 19,
    "start_time": "2022-01-16T08:52:28.033Z"
   },
   {
    "duration": 17,
    "start_time": "2022-01-16T08:52:28.053Z"
   },
   {
    "duration": 182,
    "start_time": "2022-01-16T08:52:28.071Z"
   },
   {
    "duration": 21,
    "start_time": "2022-01-16T08:52:28.255Z"
   },
   {
    "duration": 10,
    "start_time": "2022-01-16T08:52:28.277Z"
   },
   {
    "duration": 1982,
    "start_time": "2022-01-16T08:52:28.289Z"
   },
   {
    "duration": 1721,
    "start_time": "2022-01-16T08:52:58.663Z"
   },
   {
    "duration": 21,
    "start_time": "2022-01-16T08:53:14.722Z"
   },
   {
    "duration": 2025,
    "start_time": "2022-01-16T08:53:19.696Z"
   },
   {
    "duration": 143,
    "start_time": "2022-01-16T09:05:50.725Z"
   },
   {
    "duration": 191,
    "start_time": "2022-01-16T09:06:55.440Z"
   },
   {
    "duration": 185,
    "start_time": "2022-01-16T09:07:20.564Z"
   },
   {
    "duration": 210,
    "start_time": "2022-01-16T09:07:47.497Z"
   },
   {
    "duration": 208,
    "start_time": "2022-01-16T09:07:51.778Z"
   },
   {
    "duration": 211,
    "start_time": "2022-01-16T09:07:57.638Z"
   },
   {
    "duration": 137,
    "start_time": "2022-01-16T09:08:24.758Z"
   },
   {
    "duration": 239,
    "start_time": "2022-01-17T14:11:20.718Z"
   },
   {
    "duration": 755,
    "start_time": "2022-01-17T14:11:26.096Z"
   },
   {
    "duration": 13,
    "start_time": "2022-01-17T14:11:26.853Z"
   },
   {
    "duration": 35,
    "start_time": "2022-01-17T14:11:26.869Z"
   },
   {
    "duration": 33,
    "start_time": "2022-01-17T14:11:26.907Z"
   },
   {
    "duration": 23,
    "start_time": "2022-01-17T14:11:26.943Z"
   },
   {
    "duration": 40,
    "start_time": "2022-01-17T14:11:26.968Z"
   },
   {
    "duration": 71,
    "start_time": "2022-01-17T14:11:27.010Z"
   },
   {
    "duration": 46,
    "start_time": "2022-01-17T14:11:27.085Z"
   },
   {
    "duration": 63,
    "start_time": "2022-01-17T14:11:27.134Z"
   },
   {
    "duration": 48,
    "start_time": "2022-01-17T14:11:27.199Z"
   },
   {
    "duration": 55,
    "start_time": "2022-01-17T14:11:27.249Z"
   },
   {
    "duration": 5,
    "start_time": "2022-01-17T14:11:27.306Z"
   },
   {
    "duration": 32,
    "start_time": "2022-01-17T14:11:27.313Z"
   },
   {
    "duration": 22,
    "start_time": "2022-01-17T14:11:27.347Z"
   },
   {
    "duration": 9,
    "start_time": "2022-01-17T14:11:27.371Z"
   },
   {
    "duration": 21,
    "start_time": "2022-01-17T14:11:27.382Z"
   },
   {
    "duration": 28,
    "start_time": "2022-01-17T14:11:27.405Z"
   },
   {
    "duration": 47,
    "start_time": "2022-01-17T14:11:27.435Z"
   },
   {
    "duration": 938,
    "start_time": "2022-01-17T14:11:27.485Z"
   },
   {
    "duration": 47,
    "start_time": "2022-01-17T14:11:28.426Z"
   },
   {
    "duration": 20,
    "start_time": "2022-01-17T14:11:28.475Z"
   },
   {
    "duration": 11,
    "start_time": "2022-01-17T14:11:28.498Z"
   },
   {
    "duration": 295,
    "start_time": "2022-01-17T14:11:28.515Z"
   },
   {
    "duration": 473,
    "start_time": "2022-01-17T14:11:28.813Z"
   },
   {
    "duration": 2,
    "start_time": "2022-01-17T14:11:29.288Z"
   },
   {
    "duration": 11,
    "start_time": "2022-01-17T14:11:29.292Z"
   },
   {
    "duration": 208,
    "start_time": "2022-01-17T14:11:29.305Z"
   },
   {
    "duration": 279,
    "start_time": "2022-01-17T14:11:29.514Z"
   },
   {
    "duration": 9,
    "start_time": "2022-01-17T14:11:29.795Z"
   },
   {
    "duration": 246,
    "start_time": "2022-01-17T14:11:29.806Z"
   },
   {
    "duration": 13,
    "start_time": "2022-01-17T14:11:30.054Z"
   },
   {
    "duration": 281,
    "start_time": "2022-01-17T14:11:30.069Z"
   },
   {
    "duration": 15,
    "start_time": "2022-01-17T14:11:30.352Z"
   },
   {
    "duration": 196,
    "start_time": "2022-01-17T14:11:30.369Z"
   },
   {
    "duration": 242,
    "start_time": "2022-01-17T14:11:30.567Z"
   },
   {
    "duration": 279,
    "start_time": "2022-01-17T14:11:30.811Z"
   },
   {
    "duration": 10,
    "start_time": "2022-01-17T14:11:31.093Z"
   },
   {
    "duration": 5521,
    "start_time": "2022-01-17T14:11:31.105Z"
   },
   {
    "duration": 43,
    "start_time": "2022-01-17T14:11:36.628Z"
   },
   {
    "duration": 9,
    "start_time": "2022-01-17T14:11:36.673Z"
   },
   {
    "duration": 13,
    "start_time": "2022-01-17T14:11:36.683Z"
   },
   {
    "duration": 16,
    "start_time": "2022-01-17T14:11:36.698Z"
   },
   {
    "duration": 71,
    "start_time": "2022-01-17T14:11:36.717Z"
   },
   {
    "duration": 37,
    "start_time": "2022-01-17T14:11:36.791Z"
   },
   {
    "duration": 259,
    "start_time": "2022-01-17T14:11:36.830Z"
   },
   {
    "duration": 26,
    "start_time": "2022-01-17T14:11:37.092Z"
   },
   {
    "duration": 10,
    "start_time": "2022-01-17T14:11:37.120Z"
   },
   {
    "duration": 2191,
    "start_time": "2022-01-17T14:11:37.132Z"
   },
   {
    "duration": 1483,
    "start_time": "2022-01-17T14:11:39.325Z"
   },
   {
    "duration": 5389,
    "start_time": "2022-01-17T14:11:48.466Z"
   },
   {
    "duration": 297,
    "start_time": "2022-01-17T14:12:26.136Z"
   },
   {
    "duration": 308,
    "start_time": "2022-01-17T14:12:45.021Z"
   },
   {
    "duration": 305,
    "start_time": "2022-01-17T14:12:48.414Z"
   },
   {
    "duration": 303,
    "start_time": "2022-01-17T14:13:22.025Z"
   },
   {
    "duration": 316,
    "start_time": "2022-01-17T14:14:27.917Z"
   },
   {
    "duration": 322,
    "start_time": "2022-01-17T14:14:57.288Z"
   },
   {
    "duration": 378,
    "start_time": "2022-01-17T14:15:54.884Z"
   },
   {
    "duration": 8,
    "start_time": "2022-01-17T14:23:55.025Z"
   },
   {
    "duration": 5189,
    "start_time": "2022-01-17T14:23:56.709Z"
   },
   {
    "duration": 5178,
    "start_time": "2022-01-17T14:25:23.955Z"
   },
   {
    "duration": 6524,
    "start_time": "2022-01-17T14:26:43.606Z"
   },
   {
    "duration": 360,
    "start_time": "2022-01-17T14:27:09.535Z"
   },
   {
    "duration": 372,
    "start_time": "2022-01-17T14:27:25.788Z"
   },
   {
    "duration": 341,
    "start_time": "2022-01-17T14:27:34.804Z"
   },
   {
    "duration": 67,
    "start_time": "2022-01-17T14:31:55.145Z"
   },
   {
    "duration": 244,
    "start_time": "2022-01-17T14:32:02.601Z"
   },
   {
    "duration": 67,
    "start_time": "2022-01-17T14:32:38.192Z"
   },
   {
    "duration": 453,
    "start_time": "2022-01-17T14:32:58.818Z"
   },
   {
    "duration": 420,
    "start_time": "2022-01-17T14:33:14.762Z"
   },
   {
    "duration": 384,
    "start_time": "2022-01-17T14:33:26.994Z"
   },
   {
    "duration": 521,
    "start_time": "2022-01-17T14:33:30.714Z"
   },
   {
    "duration": 495,
    "start_time": "2022-01-17T14:33:37.890Z"
   },
   {
    "duration": 71,
    "start_time": "2022-01-17T14:40:12.348Z"
   },
   {
    "duration": 13,
    "start_time": "2022-01-17T14:47:43.853Z"
   },
   {
    "duration": 12,
    "start_time": "2022-01-17T14:48:10.863Z"
   },
   {
    "duration": 98,
    "start_time": "2022-01-17T14:48:23.982Z"
   },
   {
    "duration": 12,
    "start_time": "2022-01-17T14:48:24.082Z"
   },
   {
    "duration": 10,
    "start_time": "2022-01-17T14:48:24.097Z"
   },
   {
    "duration": 34,
    "start_time": "2022-01-17T14:48:24.109Z"
   },
   {
    "duration": 17,
    "start_time": "2022-01-17T14:48:24.144Z"
   },
   {
    "duration": 16,
    "start_time": "2022-01-17T14:48:24.163Z"
   },
   {
    "duration": 65,
    "start_time": "2022-01-17T14:48:24.181Z"
   },
   {
    "duration": 44,
    "start_time": "2022-01-17T14:48:24.248Z"
   },
   {
    "duration": 44,
    "start_time": "2022-01-17T14:48:24.295Z"
   },
   {
    "duration": 59,
    "start_time": "2022-01-17T14:48:24.341Z"
   },
   {
    "duration": 62,
    "start_time": "2022-01-17T14:48:24.402Z"
   },
   {
    "duration": 10,
    "start_time": "2022-01-17T14:48:24.466Z"
   },
   {
    "duration": 92,
    "start_time": "2022-01-17T14:48:36.834Z"
   },
   {
    "duration": 12,
    "start_time": "2022-01-17T14:48:36.929Z"
   },
   {
    "duration": 25,
    "start_time": "2022-01-17T14:48:36.944Z"
   },
   {
    "duration": 34,
    "start_time": "2022-01-17T14:48:36.972Z"
   },
   {
    "duration": 3,
    "start_time": "2022-01-17T14:48:37.008Z"
   },
   {
    "duration": 15,
    "start_time": "2022-01-17T14:48:37.013Z"
   },
   {
    "duration": 87,
    "start_time": "2022-01-17T14:48:37.030Z"
   },
   {
    "duration": 66,
    "start_time": "2022-01-17T14:48:37.120Z"
   },
   {
    "duration": 61,
    "start_time": "2022-01-17T14:48:37.188Z"
   },
   {
    "duration": 60,
    "start_time": "2022-01-17T14:48:37.261Z"
   },
   {
    "duration": 10,
    "start_time": "2022-01-17T14:48:39.716Z"
   },
   {
    "duration": 5,
    "start_time": "2022-01-17T14:49:51.374Z"
   },
   {
    "duration": 465,
    "start_time": "2022-01-17T14:51:53.417Z"
   },
   {
    "duration": 46,
    "start_time": "2022-01-17T14:52:34.613Z"
   },
   {
    "duration": 489,
    "start_time": "2022-01-17T14:52:36.443Z"
   },
   {
    "duration": 234,
    "start_time": "2022-01-17T14:53:13.781Z"
   },
   {
    "duration": 1623,
    "start_time": "2022-01-17T14:53:19.111Z"
   },
   {
    "duration": 9,
    "start_time": "2022-01-17T14:53:23.514Z"
   },
   {
    "duration": 144,
    "start_time": "2022-01-17T14:53:37.813Z"
   },
   {
    "duration": 18,
    "start_time": "2022-01-17T14:53:37.960Z"
   },
   {
    "duration": 14,
    "start_time": "2022-01-17T14:53:37.981Z"
   },
   {
    "duration": 64,
    "start_time": "2022-01-17T14:53:37.997Z"
   },
   {
    "duration": 3,
    "start_time": "2022-01-17T14:53:38.064Z"
   },
   {
    "duration": 8,
    "start_time": "2022-01-17T14:53:38.070Z"
   },
   {
    "duration": 97,
    "start_time": "2022-01-17T14:53:38.081Z"
   },
   {
    "duration": 86,
    "start_time": "2022-01-17T14:53:38.182Z"
   },
   {
    "duration": 94,
    "start_time": "2022-01-17T14:53:38.271Z"
   },
   {
    "duration": 96,
    "start_time": "2022-01-17T14:53:38.369Z"
   },
   {
    "duration": 16,
    "start_time": "2022-01-17T14:53:40.806Z"
   },
   {
    "duration": 2842,
    "start_time": "2022-01-17T14:53:47.632Z"
   },
   {
    "duration": 15,
    "start_time": "2022-01-17T14:53:50.663Z"
   },
   {
    "duration": 9,
    "start_time": "2022-01-17T14:54:13.838Z"
   },
   {
    "duration": 91,
    "start_time": "2022-01-17T14:54:18.338Z"
   },
   {
    "duration": 11,
    "start_time": "2022-01-17T14:54:18.431Z"
   },
   {
    "duration": 11,
    "start_time": "2022-01-17T14:54:18.461Z"
   },
   {
    "duration": 27,
    "start_time": "2022-01-17T14:54:18.475Z"
   },
   {
    "duration": 3,
    "start_time": "2022-01-17T14:54:18.504Z"
   },
   {
    "duration": 7,
    "start_time": "2022-01-17T14:54:18.509Z"
   },
   {
    "duration": 78,
    "start_time": "2022-01-17T14:54:18.518Z"
   },
   {
    "duration": 43,
    "start_time": "2022-01-17T14:54:18.599Z"
   },
   {
    "duration": 53,
    "start_time": "2022-01-17T14:54:18.644Z"
   },
   {
    "duration": 44,
    "start_time": "2022-01-17T14:54:18.700Z"
   },
   {
    "duration": 54,
    "start_time": "2022-01-17T14:54:18.746Z"
   },
   {
    "duration": 9,
    "start_time": "2022-01-17T14:54:20.195Z"
   },
   {
    "duration": 7,
    "start_time": "2022-01-17T14:54:27.092Z"
   },
   {
    "duration": 14,
    "start_time": "2022-01-17T14:56:28.476Z"
   },
   {
    "duration": 89,
    "start_time": "2022-01-17T14:59:21.539Z"
   },
   {
    "duration": 13,
    "start_time": "2022-01-17T15:07:50.839Z"
   },
   {
    "duration": 9,
    "start_time": "2022-01-17T15:07:58.822Z"
   },
   {
    "duration": 170,
    "start_time": "2022-01-17T15:08:01.732Z"
   },
   {
    "duration": 263,
    "start_time": "2022-01-17T15:08:14.549Z"
   },
   {
    "duration": 238,
    "start_time": "2022-01-17T15:08:22.027Z"
   },
   {
    "duration": 162,
    "start_time": "2022-01-17T15:08:30.178Z"
   },
   {
    "duration": 321,
    "start_time": "2022-01-17T15:08:34.785Z"
   },
   {
    "duration": 244,
    "start_time": "2022-01-17T15:08:53.493Z"
   },
   {
    "duration": 84,
    "start_time": "2022-01-17T15:15:55.035Z"
   },
   {
    "duration": 255,
    "start_time": "2022-01-17T15:16:04.439Z"
   },
   {
    "duration": 272,
    "start_time": "2022-01-17T15:16:14.956Z"
   },
   {
    "duration": 264,
    "start_time": "2022-01-17T15:16:19.163Z"
   },
   {
    "duration": 16,
    "start_time": "2022-01-17T15:17:30.857Z"
   },
   {
    "duration": 16,
    "start_time": "2022-01-17T15:18:59.398Z"
   },
   {
    "duration": 11,
    "start_time": "2022-01-17T15:19:02.696Z"
   },
   {
    "duration": 11,
    "start_time": "2022-01-17T15:19:07.758Z"
   },
   {
    "duration": 4,
    "start_time": "2022-01-17T15:19:24.273Z"
   },
   {
    "duration": 11,
    "start_time": "2022-01-17T15:19:52.953Z"
   },
   {
    "duration": 10,
    "start_time": "2022-01-17T15:20:04.321Z"
   },
   {
    "duration": 12,
    "start_time": "2022-01-17T15:20:09.588Z"
   },
   {
    "duration": 11,
    "start_time": "2022-01-17T15:20:11.649Z"
   },
   {
    "duration": 11,
    "start_time": "2022-01-17T15:20:58.297Z"
   },
   {
    "duration": 466,
    "start_time": "2022-01-17T15:21:00.747Z"
   },
   {
    "duration": 10,
    "start_time": "2022-01-17T15:21:03.731Z"
   },
   {
    "duration": 89,
    "start_time": "2022-01-17T15:21:08.202Z"
   },
   {
    "duration": 11,
    "start_time": "2022-01-17T15:21:08.294Z"
   },
   {
    "duration": 9,
    "start_time": "2022-01-17T15:21:08.307Z"
   },
   {
    "duration": 57,
    "start_time": "2022-01-17T15:21:08.318Z"
   },
   {
    "duration": 3,
    "start_time": "2022-01-17T15:21:08.376Z"
   },
   {
    "duration": 26,
    "start_time": "2022-01-17T15:21:08.380Z"
   },
   {
    "duration": 81,
    "start_time": "2022-01-17T15:21:08.408Z"
   },
   {
    "duration": 46,
    "start_time": "2022-01-17T15:21:08.492Z"
   },
   {
    "duration": 60,
    "start_time": "2022-01-17T15:21:08.540Z"
   },
   {
    "duration": 60,
    "start_time": "2022-01-17T15:21:08.601Z"
   },
   {
    "duration": 47,
    "start_time": "2022-01-17T15:21:08.662Z"
   },
   {
    "duration": 11,
    "start_time": "2022-01-17T15:21:08.711Z"
   },
   {
    "duration": 5,
    "start_time": "2022-01-17T15:21:08.724Z"
   },
   {
    "duration": 40,
    "start_time": "2022-01-17T15:21:08.731Z"
   },
   {
    "duration": 23,
    "start_time": "2022-01-17T15:21:08.773Z"
   },
   {
    "duration": 27,
    "start_time": "2022-01-17T15:21:08.798Z"
   },
   {
    "duration": 944,
    "start_time": "2022-01-17T15:21:08.827Z"
   },
   {
    "duration": 25,
    "start_time": "2022-01-17T15:21:09.773Z"
   },
   {
    "duration": 15,
    "start_time": "2022-01-17T15:21:09.800Z"
   },
   {
    "duration": 9,
    "start_time": "2022-01-17T15:21:09.817Z"
   },
   {
    "duration": 331,
    "start_time": "2022-01-17T15:21:09.829Z"
   },
   {
    "duration": 502,
    "start_time": "2022-01-17T15:21:10.163Z"
   },
   {
    "duration": 11,
    "start_time": "2022-01-17T15:21:55.111Z"
   },
   {
    "duration": 194,
    "start_time": "2022-01-17T15:22:10.330Z"
   },
   {
    "duration": 184,
    "start_time": "2022-01-17T15:23:09.979Z"
   },
   {
    "duration": 70,
    "start_time": "2022-01-17T15:26:32.877Z"
   },
   {
    "duration": 151,
    "start_time": "2022-01-17T15:28:10.388Z"
   },
   {
    "duration": 147,
    "start_time": "2022-01-17T15:28:22.281Z"
   },
   {
    "duration": 153,
    "start_time": "2022-01-17T15:28:30.423Z"
   },
   {
    "duration": 146,
    "start_time": "2022-01-17T15:28:36.711Z"
   },
   {
    "duration": 152,
    "start_time": "2022-01-17T15:28:50.561Z"
   },
   {
    "duration": 145,
    "start_time": "2022-01-17T15:28:58.405Z"
   },
   {
    "duration": 11,
    "start_time": "2022-01-17T15:30:26.881Z"
   },
   {
    "duration": 175,
    "start_time": "2022-01-17T15:30:30.461Z"
   },
   {
    "duration": 8,
    "start_time": "2022-01-17T15:31:01.178Z"
   },
   {
    "duration": 175,
    "start_time": "2022-01-17T15:31:03.031Z"
   },
   {
    "duration": 112,
    "start_time": "2022-01-17T15:31:34.272Z"
   },
   {
    "duration": 12,
    "start_time": "2022-01-17T15:31:34.386Z"
   },
   {
    "duration": 38,
    "start_time": "2022-01-17T15:31:34.400Z"
   },
   {
    "duration": 46,
    "start_time": "2022-01-17T15:31:34.440Z"
   },
   {
    "duration": 8,
    "start_time": "2022-01-17T15:31:34.488Z"
   },
   {
    "duration": 38,
    "start_time": "2022-01-17T15:31:34.498Z"
   },
   {
    "duration": 64,
    "start_time": "2022-01-17T15:31:34.538Z"
   },
   {
    "duration": 49,
    "start_time": "2022-01-17T15:31:34.605Z"
   },
   {
    "duration": 47,
    "start_time": "2022-01-17T15:31:34.661Z"
   },
   {
    "duration": 59,
    "start_time": "2022-01-17T15:31:34.710Z"
   },
   {
    "duration": 50,
    "start_time": "2022-01-17T15:31:34.770Z"
   },
   {
    "duration": 9,
    "start_time": "2022-01-17T15:31:34.823Z"
   },
   {
    "duration": 60,
    "start_time": "2022-01-17T15:31:34.834Z"
   },
   {
    "duration": 47,
    "start_time": "2022-01-17T15:31:34.896Z"
   },
   {
    "duration": 33,
    "start_time": "2022-01-17T15:31:34.946Z"
   },
   {
    "duration": 46,
    "start_time": "2022-01-17T15:31:34.981Z"
   },
   {
    "duration": 1084,
    "start_time": "2022-01-17T15:31:35.029Z"
   },
   {
    "duration": 23,
    "start_time": "2022-01-17T15:31:36.115Z"
   },
   {
    "duration": 33,
    "start_time": "2022-01-17T15:31:36.140Z"
   },
   {
    "duration": 9,
    "start_time": "2022-01-17T15:31:36.175Z"
   },
   {
    "duration": 189,
    "start_time": "2022-01-17T15:31:36.186Z"
   },
   {
    "duration": 279,
    "start_time": "2022-01-17T15:31:36.377Z"
   },
   {
    "duration": 11,
    "start_time": "2022-01-17T15:31:36.663Z"
   },
   {
    "duration": 12,
    "start_time": "2022-01-17T15:31:36.677Z"
   },
   {
    "duration": 397,
    "start_time": "2022-01-17T15:31:54.333Z"
   },
   {
    "duration": 8,
    "start_time": "2022-01-17T15:32:07.344Z"
   },
   {
    "duration": 503,
    "start_time": "2022-01-17T15:32:10.322Z"
   },
   {
    "duration": 153,
    "start_time": "2022-01-17T15:32:24.875Z"
   },
   {
    "duration": 30,
    "start_time": "2022-01-17T15:32:25.031Z"
   },
   {
    "duration": 17,
    "start_time": "2022-01-17T15:32:25.064Z"
   },
   {
    "duration": 46,
    "start_time": "2022-01-17T15:32:25.084Z"
   },
   {
    "duration": 2,
    "start_time": "2022-01-17T15:32:25.133Z"
   },
   {
    "duration": 28,
    "start_time": "2022-01-17T15:32:25.137Z"
   },
   {
    "duration": 52,
    "start_time": "2022-01-17T15:32:25.167Z"
   },
   {
    "duration": 57,
    "start_time": "2022-01-17T15:32:25.222Z"
   },
   {
    "duration": 58,
    "start_time": "2022-01-17T15:32:25.282Z"
   },
   {
    "duration": 55,
    "start_time": "2022-01-17T15:32:25.343Z"
   },
   {
    "duration": 68,
    "start_time": "2022-01-17T15:32:25.400Z"
   },
   {
    "duration": 9,
    "start_time": "2022-01-17T15:32:25.469Z"
   },
   {
    "duration": 5,
    "start_time": "2022-01-17T15:32:25.480Z"
   },
   {
    "duration": 11,
    "start_time": "2022-01-17T15:32:25.486Z"
   },
   {
    "duration": 23,
    "start_time": "2022-01-17T15:32:25.499Z"
   },
   {
    "duration": 55,
    "start_time": "2022-01-17T15:32:25.524Z"
   },
   {
    "duration": 1703,
    "start_time": "2022-01-17T15:32:25.582Z"
   },
   {
    "duration": 43,
    "start_time": "2022-01-17T15:32:27.288Z"
   },
   {
    "duration": 42,
    "start_time": "2022-01-17T15:32:27.334Z"
   },
   {
    "duration": 14,
    "start_time": "2022-01-17T15:32:33.555Z"
   },
   {
    "duration": 294,
    "start_time": "2022-01-17T15:32:36.888Z"
   },
   {
    "duration": 484,
    "start_time": "2022-01-17T15:32:39.888Z"
   },
   {
    "duration": 15,
    "start_time": "2022-01-17T15:32:42.382Z"
   },
   {
    "duration": 176,
    "start_time": "2022-01-17T15:32:44.784Z"
   },
   {
    "duration": 246,
    "start_time": "2022-01-17T15:32:50.770Z"
   },
   {
    "duration": 247,
    "start_time": "2022-01-17T15:33:17.554Z"
   },
   {
    "duration": 178,
    "start_time": "2022-01-17T15:33:25.645Z"
   },
   {
    "duration": 245,
    "start_time": "2022-01-17T15:33:37.615Z"
   },
   {
    "duration": 356,
    "start_time": "2022-01-17T15:33:56.259Z"
   },
   {
    "duration": 253,
    "start_time": "2022-01-17T15:34:11.585Z"
   },
   {
    "duration": 323,
    "start_time": "2022-01-17T15:34:25.189Z"
   },
   {
    "duration": 271,
    "start_time": "2022-01-17T15:34:29.851Z"
   },
   {
    "duration": 258,
    "start_time": "2022-01-17T15:34:35.373Z"
   },
   {
    "duration": 336,
    "start_time": "2022-01-17T15:34:39.241Z"
   },
   {
    "duration": 10,
    "start_time": "2022-01-17T15:35:41.811Z"
   },
   {
    "duration": 241,
    "start_time": "2022-01-17T15:35:45.882Z"
   },
   {
    "duration": 73,
    "start_time": "2022-01-17T15:38:29.353Z"
   },
   {
    "duration": 12,
    "start_time": "2022-01-17T15:48:37.951Z"
   },
   {
    "duration": 256,
    "start_time": "2022-01-17T15:48:51.343Z"
   },
   {
    "duration": 11,
    "start_time": "2022-01-17T15:48:53.874Z"
   },
   {
    "duration": 524,
    "start_time": "2022-01-17T15:49:08.897Z"
   },
   {
    "duration": 12,
    "start_time": "2022-01-17T15:49:11.599Z"
   },
   {
    "duration": 259,
    "start_time": "2022-01-17T15:49:18.249Z"
   },
   {
    "duration": 259,
    "start_time": "2022-01-17T15:49:25.948Z"
   },
   {
    "duration": 12,
    "start_time": "2022-01-17T15:49:29.085Z"
   },
   {
    "duration": 17,
    "start_time": "2022-01-17T15:49:31.652Z"
   },
   {
    "duration": 497,
    "start_time": "2022-01-17T15:49:50.750Z"
   },
   {
    "duration": 13,
    "start_time": "2022-01-17T15:49:53.689Z"
   },
   {
    "duration": 16,
    "start_time": "2022-01-17T15:49:54.794Z"
   },
   {
    "duration": 236,
    "start_time": "2022-01-17T15:50:30.726Z"
   },
   {
    "duration": 7,
    "start_time": "2022-01-17T15:50:33.882Z"
   },
   {
    "duration": 4951,
    "start_time": "2022-01-17T15:50:36.046Z"
   },
   {
    "duration": 496,
    "start_time": "2022-01-17T15:51:16.625Z"
   },
   {
    "duration": 14,
    "start_time": "2022-01-17T15:51:19.087Z"
   },
   {
    "duration": 272,
    "start_time": "2022-01-17T15:51:45.810Z"
   },
   {
    "duration": 13,
    "start_time": "2022-01-17T15:51:49.701Z"
   },
   {
    "duration": 258,
    "start_time": "2022-01-17T15:56:12.226Z"
   },
   {
    "duration": 15,
    "start_time": "2022-01-17T15:56:19.273Z"
   },
   {
    "duration": 107,
    "start_time": "2022-01-17T15:56:36.970Z"
   },
   {
    "duration": 12,
    "start_time": "2022-01-17T15:56:37.079Z"
   },
   {
    "duration": 10,
    "start_time": "2022-01-17T15:56:37.093Z"
   },
   {
    "duration": 25,
    "start_time": "2022-01-17T15:56:37.105Z"
   },
   {
    "duration": 3,
    "start_time": "2022-01-17T15:56:37.160Z"
   },
   {
    "duration": 8,
    "start_time": "2022-01-17T15:56:37.165Z"
   },
   {
    "duration": 47,
    "start_time": "2022-01-17T15:56:37.175Z"
   },
   {
    "duration": 62,
    "start_time": "2022-01-17T15:56:37.224Z"
   },
   {
    "duration": 44,
    "start_time": "2022-01-17T15:56:37.289Z"
   },
   {
    "duration": 59,
    "start_time": "2022-01-17T15:56:37.335Z"
   },
   {
    "duration": 45,
    "start_time": "2022-01-17T15:56:37.395Z"
   },
   {
    "duration": 24,
    "start_time": "2022-01-17T15:56:37.442Z"
   },
   {
    "duration": 5,
    "start_time": "2022-01-17T15:56:37.468Z"
   },
   {
    "duration": 24,
    "start_time": "2022-01-17T15:56:37.475Z"
   },
   {
    "duration": 31,
    "start_time": "2022-01-17T15:56:37.502Z"
   },
   {
    "duration": 40,
    "start_time": "2022-01-17T15:56:37.535Z"
   },
   {
    "duration": 884,
    "start_time": "2022-01-17T15:56:37.577Z"
   },
   {
    "duration": 25,
    "start_time": "2022-01-17T15:56:38.463Z"
   },
   {
    "duration": 12,
    "start_time": "2022-01-17T15:56:38.490Z"
   },
   {
    "duration": 7,
    "start_time": "2022-01-17T15:56:38.504Z"
   },
   {
    "duration": 202,
    "start_time": "2022-01-17T15:56:38.513Z"
   },
   {
    "duration": 263,
    "start_time": "2022-01-17T15:56:38.717Z"
   },
   {
    "duration": 11,
    "start_time": "2022-01-17T15:56:38.982Z"
   },
   {
    "duration": 202,
    "start_time": "2022-01-17T15:56:38.995Z"
   },
   {
    "duration": 268,
    "start_time": "2022-01-17T15:56:39.199Z"
   },
   {
    "duration": 9,
    "start_time": "2022-01-17T15:56:39.469Z"
   },
   {
    "duration": 255,
    "start_time": "2022-01-17T15:56:39.481Z"
   },
   {
    "duration": 9,
    "start_time": "2022-01-17T15:56:39.738Z"
   },
   {
    "duration": 259,
    "start_time": "2022-01-17T15:56:39.749Z"
   },
   {
    "duration": 9,
    "start_time": "2022-01-17T15:56:40.011Z"
   },
   {
    "duration": 504,
    "start_time": "2022-01-17T15:56:40.022Z"
   },
   {
    "duration": 241,
    "start_time": "2022-01-17T15:56:40.528Z"
   },
   {
    "duration": 261,
    "start_time": "2022-01-17T15:57:17.002Z"
   },
   {
    "duration": 12,
    "start_time": "2022-01-17T15:57:20.664Z"
   },
   {
    "duration": 17,
    "start_time": "2022-01-17T15:57:49.415Z"
   },
   {
    "duration": 231,
    "start_time": "2022-01-17T15:58:07.145Z"
   },
   {
    "duration": 6,
    "start_time": "2022-01-17T15:58:10.754Z"
   },
   {
    "duration": 5536,
    "start_time": "2022-01-17T15:58:13.627Z"
   },
   {
    "duration": 12,
    "start_time": "2022-01-17T15:58:47.204Z"
   },
   {
    "duration": 4,
    "start_time": "2022-01-17T15:59:06.360Z"
   },
   {
    "duration": 8,
    "start_time": "2022-01-17T15:59:29.069Z"
   },
   {
    "duration": 5815,
    "start_time": "2022-01-17T15:59:36.186Z"
   },
   {
    "duration": 360,
    "start_time": "2022-01-17T15:59:42.003Z"
   },
   {
    "duration": 25,
    "start_time": "2022-01-17T15:59:42.366Z"
   },
   {
    "duration": 9,
    "start_time": "2022-01-17T15:59:42.394Z"
   },
   {
    "duration": 10,
    "start_time": "2022-01-17T15:59:42.404Z"
   },
   {
    "duration": 10,
    "start_time": "2022-01-17T15:59:42.416Z"
   },
   {
    "duration": 56,
    "start_time": "2022-01-17T15:59:42.428Z"
   },
   {
    "duration": 22,
    "start_time": "2022-01-17T15:59:42.486Z"
   },
   {
    "duration": 233,
    "start_time": "2022-01-17T15:59:42.511Z"
   },
   {
    "duration": 34,
    "start_time": "2022-01-17T15:59:42.747Z"
   },
   {
    "duration": 11,
    "start_time": "2022-01-17T15:59:42.783Z"
   },
   {
    "duration": 220,
    "start_time": "2022-01-17T15:59:42.796Z"
   },
   {
    "duration": 374,
    "start_time": "2022-01-17T15:59:42.644Z"
   },
   {
    "duration": 370,
    "start_time": "2022-01-17T15:59:42.649Z"
   },
   {
    "duration": 366,
    "start_time": "2022-01-17T15:59:42.654Z"
   },
   {
    "duration": 98,
    "start_time": "2022-01-17T15:59:45.740Z"
   },
   {
    "duration": 12,
    "start_time": "2022-01-17T15:59:45.861Z"
   },
   {
    "duration": 9,
    "start_time": "2022-01-17T15:59:45.875Z"
   },
   {
    "duration": 46,
    "start_time": "2022-01-17T15:59:45.887Z"
   },
   {
    "duration": 4,
    "start_time": "2022-01-17T15:59:45.960Z"
   },
   {
    "duration": 5,
    "start_time": "2022-01-17T15:59:45.967Z"
   },
   {
    "duration": 100,
    "start_time": "2022-01-17T15:59:45.974Z"
   },
   {
    "duration": 90,
    "start_time": "2022-01-17T15:59:46.079Z"
   },
   {
    "duration": 88,
    "start_time": "2022-01-17T15:59:46.172Z"
   },
   {
    "duration": 82,
    "start_time": "2022-01-17T15:59:46.263Z"
   },
   {
    "duration": 90,
    "start_time": "2022-01-17T15:59:46.348Z"
   },
   {
    "duration": 20,
    "start_time": "2022-01-17T15:59:46.440Z"
   },
   {
    "duration": 5,
    "start_time": "2022-01-17T15:59:46.462Z"
   },
   {
    "duration": 14,
    "start_time": "2022-01-17T15:59:46.469Z"
   },
   {
    "duration": 23,
    "start_time": "2022-01-17T15:59:46.485Z"
   },
   {
    "duration": 61,
    "start_time": "2022-01-17T15:59:46.510Z"
   },
   {
    "duration": 890,
    "start_time": "2022-01-17T15:59:46.573Z"
   },
   {
    "duration": 25,
    "start_time": "2022-01-17T15:59:47.465Z"
   },
   {
    "duration": 14,
    "start_time": "2022-01-17T15:59:47.492Z"
   },
   {
    "duration": 9,
    "start_time": "2022-01-17T15:59:47.508Z"
   },
   {
    "duration": 226,
    "start_time": "2022-01-17T15:59:47.519Z"
   },
   {
    "duration": 260,
    "start_time": "2022-01-17T15:59:47.747Z"
   },
   {
    "duration": 10,
    "start_time": "2022-01-17T15:59:48.010Z"
   },
   {
    "duration": 563,
    "start_time": "2022-01-17T15:59:48.023Z"
   },
   {
    "duration": 276,
    "start_time": "2022-01-17T15:59:48.587Z"
   },
   {
    "duration": 9,
    "start_time": "2022-01-17T15:59:48.865Z"
   },
   {
    "duration": 257,
    "start_time": "2022-01-17T15:59:48.876Z"
   },
   {
    "duration": 8,
    "start_time": "2022-01-17T15:59:49.135Z"
   },
   {
    "duration": 261,
    "start_time": "2022-01-17T15:59:49.144Z"
   },
   {
    "duration": 9,
    "start_time": "2022-01-17T15:59:49.407Z"
   },
   {
    "duration": 191,
    "start_time": "2022-01-17T15:59:49.418Z"
   },
   {
    "duration": 237,
    "start_time": "2022-01-17T15:59:49.611Z"
   },
   {
    "duration": 272,
    "start_time": "2022-01-17T15:59:49.851Z"
   },
   {
    "duration": 260,
    "start_time": "2022-01-17T15:59:57.384Z"
   },
   {
    "duration": 5,
    "start_time": "2022-01-17T15:59:59.080Z"
   },
   {
    "duration": 8,
    "start_time": "2022-01-17T16:00:05.684Z"
   },
   {
    "duration": 6236,
    "start_time": "2022-01-17T16:00:11.228Z"
   },
   {
    "duration": 4927,
    "start_time": "2022-01-17T16:00:59.737Z"
   },
   {
    "duration": 1195,
    "start_time": "2022-01-17T16:10:32.599Z"
   },
   {
    "duration": 18,
    "start_time": "2022-01-17T16:10:33.798Z"
   },
   {
    "duration": 9,
    "start_time": "2022-01-17T16:10:33.819Z"
   },
   {
    "duration": 54,
    "start_time": "2022-01-17T16:10:33.830Z"
   },
   {
    "duration": 3,
    "start_time": "2022-01-17T16:10:33.886Z"
   },
   {
    "duration": 21,
    "start_time": "2022-01-17T16:10:33.891Z"
   },
   {
    "duration": 55,
    "start_time": "2022-01-17T16:10:33.914Z"
   },
   {
    "duration": 47,
    "start_time": "2022-01-17T16:10:33.973Z"
   },
   {
    "duration": 64,
    "start_time": "2022-01-17T16:10:34.022Z"
   },
   {
    "duration": 49,
    "start_time": "2022-01-17T16:10:34.088Z"
   },
   {
    "duration": 69,
    "start_time": "2022-01-17T16:10:34.139Z"
   },
   {
    "duration": 9,
    "start_time": "2022-01-17T16:10:34.211Z"
   },
   {
    "duration": 9,
    "start_time": "2022-01-17T16:10:34.222Z"
   },
   {
    "duration": 37,
    "start_time": "2022-01-17T16:10:34.233Z"
   },
   {
    "duration": 28,
    "start_time": "2022-01-17T16:10:34.272Z"
   },
   {
    "duration": 29,
    "start_time": "2022-01-17T16:10:34.302Z"
   },
   {
    "duration": 970,
    "start_time": "2022-01-17T16:10:34.333Z"
   },
   {
    "duration": 26,
    "start_time": "2022-01-17T16:10:35.305Z"
   },
   {
    "duration": 36,
    "start_time": "2022-01-17T16:10:35.333Z"
   },
   {
    "duration": 10,
    "start_time": "2022-01-17T16:10:35.372Z"
   },
   {
    "duration": 192,
    "start_time": "2022-01-17T16:10:35.384Z"
   },
   {
    "duration": 331,
    "start_time": "2022-01-17T16:10:35.578Z"
   },
   {
    "duration": 11,
    "start_time": "2022-01-17T16:10:35.913Z"
   },
   {
    "duration": 320,
    "start_time": "2022-01-17T16:10:35.926Z"
   },
   {
    "duration": 291,
    "start_time": "2022-01-17T16:10:36.249Z"
   },
   {
    "duration": 9,
    "start_time": "2022-01-17T16:10:36.542Z"
   },
   {
    "duration": 235,
    "start_time": "2022-01-17T16:10:36.561Z"
   },
   {
    "duration": 8,
    "start_time": "2022-01-17T16:10:36.798Z"
   },
   {
    "duration": 274,
    "start_time": "2022-01-17T16:10:36.808Z"
   },
   {
    "duration": 9,
    "start_time": "2022-01-17T16:10:37.084Z"
   },
   {
    "duration": 207,
    "start_time": "2022-01-17T16:10:37.095Z"
   },
   {
    "duration": 255,
    "start_time": "2022-01-17T16:10:37.305Z"
   },
   {
    "duration": 272,
    "start_time": "2022-01-17T16:10:37.562Z"
   },
   {
    "duration": 4,
    "start_time": "2022-01-17T16:10:37.836Z"
   },
   {
    "duration": 20,
    "start_time": "2022-01-17T16:10:37.842Z"
   },
   {
    "duration": 5741,
    "start_time": "2022-01-17T16:10:37.864Z"
   },
   {
    "duration": 362,
    "start_time": "2022-01-17T16:10:43.607Z"
   },
   {
    "duration": 353,
    "start_time": "2022-01-17T16:10:58.077Z"
   },
   {
    "duration": 100,
    "start_time": "2022-01-17T16:11:02.034Z"
   },
   {
    "duration": 435,
    "start_time": "2022-01-17T16:11:06.504Z"
   },
   {
    "duration": 264,
    "start_time": "2022-01-17T16:11:30.962Z"
   },
   {
    "duration": 8,
    "start_time": "2022-01-17T16:12:44.357Z"
   },
   {
    "duration": 4837,
    "start_time": "2022-01-17T16:12:46.946Z"
   },
   {
    "duration": 5131,
    "start_time": "2022-01-17T16:12:54.568Z"
   },
   {
    "duration": 265,
    "start_time": "2022-01-17T16:13:20.507Z"
   },
   {
    "duration": 365,
    "start_time": "2022-01-17T16:13:34.647Z"
   },
   {
    "duration": 24,
    "start_time": "2022-01-17T16:13:37.324Z"
   },
   {
    "duration": 24,
    "start_time": "2022-01-17T16:13:44.579Z"
   },
   {
    "duration": 9,
    "start_time": "2022-01-17T16:13:50.015Z"
   },
   {
    "duration": 9,
    "start_time": "2022-01-17T16:13:51.820Z"
   },
   {
    "duration": 12,
    "start_time": "2022-01-17T16:14:02.557Z"
   },
   {
    "duration": 47,
    "start_time": "2022-01-17T16:14:06.702Z"
   },
   {
    "duration": 39,
    "start_time": "2022-01-17T16:15:41.868Z"
   },
   {
    "duration": 22,
    "start_time": "2022-01-17T16:15:52.340Z"
   },
   {
    "duration": 186,
    "start_time": "2022-01-17T16:15:56.329Z"
   },
   {
    "duration": 24,
    "start_time": "2022-01-17T16:16:54.566Z"
   },
   {
    "duration": 24,
    "start_time": "2022-01-17T16:17:18.569Z"
   },
   {
    "duration": 72,
    "start_time": "2022-01-17T16:22:38.718Z"
   },
   {
    "duration": 28,
    "start_time": "2022-01-17T16:26:23.947Z"
   },
   {
    "duration": 10,
    "start_time": "2022-01-17T16:26:32.653Z"
   },
   {
    "duration": 2069,
    "start_time": "2022-01-17T16:26:44.044Z"
   },
   {
    "duration": 1573,
    "start_time": "2022-01-17T16:28:38.017Z"
   },
   {
    "duration": 9,
    "start_time": "2022-01-17T16:32:47.114Z"
   },
   {
    "duration": 15,
    "start_time": "2022-01-17T16:32:56.469Z"
   },
   {
    "duration": 173,
    "start_time": "2022-01-17T16:33:15.045Z"
   },
   {
    "duration": 267,
    "start_time": "2022-01-17T16:33:15.221Z"
   },
   {
    "duration": 15,
    "start_time": "2022-01-17T16:33:15.491Z"
   },
   {
    "duration": 64,
    "start_time": "2022-01-17T16:33:15.509Z"
   },
   {
    "duration": 3,
    "start_time": "2022-01-17T16:33:15.576Z"
   },
   {
    "duration": 14,
    "start_time": "2022-01-17T16:33:15.582Z"
   },
   {
    "duration": 62,
    "start_time": "2022-01-17T16:33:15.599Z"
   },
   {
    "duration": 54,
    "start_time": "2022-01-17T16:33:15.662Z"
   },
   {
    "duration": 72,
    "start_time": "2022-01-17T16:33:15.719Z"
   },
   {
    "duration": 52,
    "start_time": "2022-01-17T16:33:15.794Z"
   },
   {
    "duration": 60,
    "start_time": "2022-01-17T16:33:15.850Z"
   },
   {
    "duration": 10,
    "start_time": "2022-01-17T16:33:15.911Z"
   },
   {
    "duration": 5,
    "start_time": "2022-01-17T16:33:15.922Z"
   },
   {
    "duration": 49,
    "start_time": "2022-01-17T16:33:15.928Z"
   },
   {
    "duration": 23,
    "start_time": "2022-01-17T16:33:15.979Z"
   },
   {
    "duration": 31,
    "start_time": "2022-01-17T16:33:16.005Z"
   },
   {
    "duration": 945,
    "start_time": "2022-01-17T16:33:16.038Z"
   },
   {
    "duration": 26,
    "start_time": "2022-01-17T16:33:16.985Z"
   },
   {
    "duration": 16,
    "start_time": "2022-01-17T16:33:17.013Z"
   },
   {
    "duration": 37,
    "start_time": "2022-01-17T16:33:17.031Z"
   },
   {
    "duration": 170,
    "start_time": "2022-01-17T16:33:17.070Z"
   },
   {
    "duration": 270,
    "start_time": "2022-01-17T16:33:17.242Z"
   },
   {
    "duration": 9,
    "start_time": "2022-01-17T16:33:17.515Z"
   },
   {
    "duration": 188,
    "start_time": "2022-01-17T16:33:17.526Z"
   },
   {
    "duration": 284,
    "start_time": "2022-01-17T16:33:17.715Z"
   },
   {
    "duration": 9,
    "start_time": "2022-01-17T16:33:18.001Z"
   },
   {
    "duration": 246,
    "start_time": "2022-01-17T16:33:18.013Z"
   },
   {
    "duration": 10,
    "start_time": "2022-01-17T16:33:18.261Z"
   },
   {
    "duration": 260,
    "start_time": "2022-01-17T16:33:18.273Z"
   },
   {
    "duration": 10,
    "start_time": "2022-01-17T16:33:18.535Z"
   },
   {
    "duration": 208,
    "start_time": "2022-01-17T16:33:18.547Z"
   },
   {
    "duration": 242,
    "start_time": "2022-01-17T16:33:18.757Z"
   },
   {
    "duration": 286,
    "start_time": "2022-01-17T16:33:19.000Z"
   },
   {
    "duration": 4,
    "start_time": "2022-01-17T16:33:19.288Z"
   },
   {
    "duration": 9,
    "start_time": "2022-01-17T16:33:19.293Z"
   },
   {
    "duration": 5915,
    "start_time": "2022-01-17T16:33:19.304Z"
   },
   {
    "duration": 389,
    "start_time": "2022-01-17T16:33:25.220Z"
   },
   {
    "duration": 23,
    "start_time": "2022-01-17T16:33:25.611Z"
   },
   {
    "duration": 24,
    "start_time": "2022-01-17T16:33:25.636Z"
   },
   {
    "duration": 13,
    "start_time": "2022-01-17T16:33:25.663Z"
   },
   {
    "duration": 16,
    "start_time": "2022-01-17T16:33:25.678Z"
   },
   {
    "duration": 66,
    "start_time": "2022-01-17T16:33:25.696Z"
   },
   {
    "duration": 35,
    "start_time": "2022-01-17T16:33:25.764Z"
   },
   {
    "duration": 226,
    "start_time": "2022-01-17T16:33:25.802Z"
   },
   {
    "duration": 6,
    "start_time": "2022-01-17T16:33:26.029Z"
   },
   {
    "duration": 24,
    "start_time": "2022-01-17T16:33:26.037Z"
   },
   {
    "duration": 8,
    "start_time": "2022-01-17T16:33:30.777Z"
   },
   {
    "duration": 6,
    "start_time": "2022-01-17T16:34:26.083Z"
   },
   {
    "duration": 10,
    "start_time": "2022-01-17T16:34:27.261Z"
   },
   {
    "duration": 1540,
    "start_time": "2022-01-17T16:34:30.251Z"
   },
   {
    "duration": 76,
    "start_time": "2022-01-17T16:36:24.207Z"
   },
   {
    "duration": 629,
    "start_time": "2022-01-17T16:36:44.860Z"
   },
   {
    "duration": 604,
    "start_time": "2022-01-17T16:36:55.605Z"
   },
   {
    "duration": 373,
    "start_time": "2022-01-17T16:37:02.349Z"
   },
   {
    "duration": 286,
    "start_time": "2022-01-17T16:37:17.829Z"
   },
   {
    "duration": 362,
    "start_time": "2022-01-17T16:37:23.680Z"
   },
   {
    "duration": 335,
    "start_time": "2022-01-17T16:37:39.783Z"
   },
   {
    "duration": 378,
    "start_time": "2022-01-17T16:37:45.304Z"
   },
   {
    "duration": 560,
    "start_time": "2022-01-17T16:39:18.917Z"
   },
   {
    "duration": 382,
    "start_time": "2022-01-17T16:39:22.201Z"
   },
   {
    "duration": 71,
    "start_time": "2022-01-17T16:40:31.383Z"
   },
   {
    "duration": 800,
    "start_time": "2022-01-17T16:40:46.608Z"
   },
   {
    "duration": 58,
    "start_time": "2022-01-17T16:40:54.150Z"
   },
   {
    "duration": 59,
    "start_time": "2022-01-17T16:40:56.759Z"
   },
   {
    "duration": 334,
    "start_time": "2022-01-17T16:41:03.606Z"
   },
   {
    "duration": 67,
    "start_time": "2022-01-17T16:41:08.604Z"
   },
   {
    "duration": 391,
    "start_time": "2022-01-17T16:41:33.210Z"
   },
   {
    "duration": 4168,
    "start_time": "2022-01-17T16:42:34.953Z"
   },
   {
    "duration": 271,
    "start_time": "2022-01-17T16:43:10.077Z"
   },
   {
    "duration": 1398,
    "start_time": "2022-01-17T16:43:16.068Z"
   },
   {
    "duration": 925,
    "start_time": "2022-01-17T16:43:29.495Z"
   },
   {
    "duration": 8,
    "start_time": "2022-01-17T16:44:57.586Z"
   },
   {
    "duration": 9,
    "start_time": "2022-01-17T16:45:20.143Z"
   },
   {
    "duration": 9,
    "start_time": "2022-01-17T16:45:38.959Z"
   },
   {
    "duration": 8,
    "start_time": "2022-01-17T16:46:00.147Z"
   },
   {
    "duration": 1735,
    "start_time": "2022-01-17T16:46:16.015Z"
   },
   {
    "duration": 946,
    "start_time": "2022-01-17T16:49:45.707Z"
   },
   {
    "duration": 992,
    "start_time": "2022-01-17T16:50:59.168Z"
   },
   {
    "duration": 69,
    "start_time": "2022-01-17T16:53:47.080Z"
   },
   {
    "duration": 302,
    "start_time": "2022-01-17T16:53:56.458Z"
   },
   {
    "duration": 66,
    "start_time": "2022-01-17T16:54:18.836Z"
   },
   {
    "duration": 4941,
    "start_time": "2022-01-17T16:54:21.512Z"
   },
   {
    "duration": 29,
    "start_time": "2022-01-17T16:54:44.524Z"
   },
   {
    "duration": 40128,
    "start_time": "2022-01-17T16:58:36.305Z"
   },
   {
    "duration": 451,
    "start_time": "2022-01-17T17:04:33.239Z"
   },
   {
    "duration": 43139,
    "start_time": "2022-01-17T17:04:37.302Z"
   },
   {
    "duration": 229,
    "start_time": "2022-01-17T17:07:30.278Z"
   },
   {
    "duration": 499,
    "start_time": "2022-01-18T09:34:19.966Z"
   },
   {
    "duration": 1027,
    "start_time": "2022-01-18T09:34:29.773Z"
   },
   {
    "duration": 21,
    "start_time": "2022-01-18T09:34:30.802Z"
   },
   {
    "duration": 17,
    "start_time": "2022-01-18T09:34:30.828Z"
   },
   {
    "duration": 62,
    "start_time": "2022-01-18T09:34:30.848Z"
   },
   {
    "duration": 11,
    "start_time": "2022-01-18T09:34:30.912Z"
   },
   {
    "duration": 44,
    "start_time": "2022-01-18T09:34:30.927Z"
   },
   {
    "duration": 92,
    "start_time": "2022-01-18T09:34:30.973Z"
   },
   {
    "duration": 76,
    "start_time": "2022-01-18T09:34:31.069Z"
   },
   {
    "duration": 75,
    "start_time": "2022-01-18T09:34:31.148Z"
   },
   {
    "duration": 68,
    "start_time": "2022-01-18T09:34:31.227Z"
   },
   {
    "duration": 89,
    "start_time": "2022-01-18T09:34:31.297Z"
   },
   {
    "duration": 14,
    "start_time": "2022-01-18T09:34:31.389Z"
   },
   {
    "duration": 11,
    "start_time": "2022-01-18T09:34:31.424Z"
   },
   {
    "duration": 35,
    "start_time": "2022-01-18T09:34:31.438Z"
   },
   {
    "duration": 38,
    "start_time": "2022-01-18T09:34:31.475Z"
   },
   {
    "duration": 55,
    "start_time": "2022-01-18T09:34:31.515Z"
   },
   {
    "duration": 1516,
    "start_time": "2022-01-18T09:34:31.573Z"
   },
   {
    "duration": 53,
    "start_time": "2022-01-18T09:34:33.092Z"
   },
   {
    "duration": 17,
    "start_time": "2022-01-18T09:34:33.147Z"
   },
   {
    "duration": 11,
    "start_time": "2022-01-18T09:34:33.167Z"
   },
   {
    "duration": 310,
    "start_time": "2022-01-18T09:34:33.180Z"
   },
   {
    "duration": 473,
    "start_time": "2022-01-18T09:34:33.492Z"
   },
   {
    "duration": 13,
    "start_time": "2022-01-18T09:34:33.971Z"
   },
   {
    "duration": 324,
    "start_time": "2022-01-18T09:34:33.987Z"
   },
   {
    "duration": 548,
    "start_time": "2022-01-18T09:34:34.313Z"
   },
   {
    "duration": 10,
    "start_time": "2022-01-18T09:34:34.864Z"
   },
   {
    "duration": 398,
    "start_time": "2022-01-18T09:34:34.876Z"
   },
   {
    "duration": 11,
    "start_time": "2022-01-18T09:34:35.277Z"
   },
   {
    "duration": 457,
    "start_time": "2022-01-18T09:34:35.291Z"
   },
   {
    "duration": 11,
    "start_time": "2022-01-18T09:34:35.751Z"
   },
   {
    "duration": 310,
    "start_time": "2022-01-18T09:34:35.765Z"
   },
   {
    "duration": 391,
    "start_time": "2022-01-18T09:34:36.077Z"
   },
   {
    "duration": 468,
    "start_time": "2022-01-18T09:34:36.472Z"
   },
   {
    "duration": 7,
    "start_time": "2022-01-18T09:34:36.943Z"
   },
   {
    "duration": 8,
    "start_time": "2022-01-18T09:34:36.952Z"
   },
   {
    "duration": 7656,
    "start_time": "2022-01-18T09:34:36.962Z"
   },
   {
    "duration": 564,
    "start_time": "2022-01-18T09:34:44.620Z"
   },
   {
    "duration": 44,
    "start_time": "2022-01-18T09:34:45.186Z"
   },
   {
    "duration": 14,
    "start_time": "2022-01-18T09:34:45.233Z"
   },
   {
    "duration": 11,
    "start_time": "2022-01-18T09:34:45.250Z"
   },
   {
    "duration": 13,
    "start_time": "2022-01-18T09:34:45.264Z"
   },
   {
    "duration": 81,
    "start_time": "2022-01-18T09:34:45.280Z"
   },
   {
    "duration": 28,
    "start_time": "2022-01-18T09:34:45.364Z"
   },
   {
    "duration": 336,
    "start_time": "2022-01-18T09:34:45.394Z"
   },
   {
    "duration": 11,
    "start_time": "2022-01-18T09:34:45.734Z"
   },
   {
    "duration": 12,
    "start_time": "2022-01-18T09:34:45.748Z"
   },
   {
    "duration": 21,
    "start_time": "2022-01-18T09:34:45.763Z"
   },
   {
    "duration": 39,
    "start_time": "2022-01-18T09:34:45.786Z"
   },
   {
    "duration": 13,
    "start_time": "2022-01-18T09:34:45.828Z"
   },
   {
    "duration": 12,
    "start_time": "2022-01-18T09:34:45.843Z"
   },
   {
    "duration": 1548,
    "start_time": "2022-01-18T09:34:45.857Z"
   },
   {
    "duration": 49,
    "start_time": "2022-01-18T09:34:47.408Z"
   },
   {
    "duration": 412,
    "start_time": "2022-01-18T09:34:47.950Z"
   },
   {
    "duration": 558,
    "start_time": "2022-01-18T09:35:07.707Z"
   },
   {
    "duration": 2316,
    "start_time": "2022-01-18T09:36:07.880Z"
   },
   {
    "duration": 5799,
    "start_time": "2022-01-18T09:39:45.079Z"
   },
   {
    "duration": 157,
    "start_time": "2022-01-18T16:04:19.049Z"
   },
   {
    "duration": 134,
    "start_time": "2022-01-18T16:06:05.392Z"
   },
   {
    "duration": 12,
    "start_time": "2022-01-18T16:07:25.021Z"
   },
   {
    "duration": 417,
    "start_time": "2022-01-18T16:08:57.637Z"
   },
   {
    "duration": 104,
    "start_time": "2022-01-18T16:14:03.517Z"
   },
   {
    "duration": 119,
    "start_time": "2022-01-18T16:15:35.555Z"
   },
   {
    "duration": 106,
    "start_time": "2022-01-18T16:21:29.284Z"
   }
  ],
  "kernelspec": {
   "display_name": "Python 3 (ipykernel)",
   "language": "python",
   "name": "python3"
  },
  "language_info": {
   "codemirror_mode": {
    "name": "ipython",
    "version": 3
   },
   "file_extension": ".py",
   "mimetype": "text/x-python",
   "name": "python",
   "nbconvert_exporter": "python",
   "pygments_lexer": "ipython3",
   "version": "3.9.7"
  },
  "toc": {
   "base_numbering": 1,
   "nav_menu": {},
   "number_sections": true,
   "sideBar": true,
   "skip_h1_title": true,
   "title_cell": "Содержание",
   "title_sidebar": "Contents",
   "toc_cell": true,
   "toc_position": {},
   "toc_section_display": true,
   "toc_window_display": true
  }
 },
 "nbformat": 4,
 "nbformat_minor": 2
}
