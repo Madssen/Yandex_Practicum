{
 "cells": [
  {
   "cell_type": "markdown",
   "metadata": {
    "toc": true
   },
   "source": [
    "<h1>Table of Contents<span class=\"tocSkip\"></span></h1>\n",
    "<div class=\"toc\"><ul class=\"toc-item\"><li><span><a href=\"#Определение-перспективного-тарифа-для-телеком-компании\" data-toc-modified-id=\"Определение-перспективного-тарифа-для-телеком-компании-1\"><span class=\"toc-item-num\">1&nbsp;&nbsp;</span>Определение перспективного тарифа для телеком-компании</a></span></li><li><span><a href=\"#Шаг-1.-Откройте-файл-с-данными-и-изучите-общую-информацию\" data-toc-modified-id=\"Шаг-1.-Откройте-файл-с-данными-и-изучите-общую-информацию-2\"><span class=\"toc-item-num\">2&nbsp;&nbsp;</span>Шаг 1. Откройте файл с данными и изучите общую информацию</a></span><ul class=\"toc-item\"><li><span><a href=\"#Таблица-users-(информация-о-пользователях):\" data-toc-modified-id=\"Таблица-users-(информация-о-пользователях):-2.1\"><span class=\"toc-item-num\">2.1&nbsp;&nbsp;</span>Таблица users (информация о пользователях):</a></span></li><li><span><a href=\"#Таблица-calls-(информация-о-звонках):\" data-toc-modified-id=\"Таблица-calls-(информация-о-звонках):-2.2\"><span class=\"toc-item-num\">2.2&nbsp;&nbsp;</span>Таблица calls (информация о звонках):</a></span></li><li><span><a href=\"#Таблица-messages-(информация-о-сообщениях):\" data-toc-modified-id=\"Таблица-messages-(информация-о-сообщениях):-2.3\"><span class=\"toc-item-num\">2.3&nbsp;&nbsp;</span>Таблица messages (информация о сообщениях):</a></span></li><li><span><a href=\"#Таблица-internet-(информация-об-интернет-сессиях):\" data-toc-modified-id=\"Таблица-internet-(информация-об-интернет-сессиях):-2.4\"><span class=\"toc-item-num\">2.4&nbsp;&nbsp;</span>Таблица internet (информация об интернет-сессиях):</a></span></li><li><span><a href=\"#Таблица-tariffs-(информация-о-тарифах):\" data-toc-modified-id=\"Таблица-tariffs-(информация-о-тарифах):-2.5\"><span class=\"toc-item-num\">2.5&nbsp;&nbsp;</span>Таблица tariffs (информация о тарифах):</a></span></li></ul></li><li><span><a href=\"#Шаг-2.-Подготовьте-данные\" data-toc-modified-id=\"Шаг-2.-Подготовьте-данные-3\"><span class=\"toc-item-num\">3&nbsp;&nbsp;</span>Шаг 2. Подготовьте данные</a></span><ul class=\"toc-item\"><li><span><a href=\"#Звонки-и-минуты-по-месяцам\" data-toc-modified-id=\"Звонки-и-минуты-по-месяцам-3.1\"><span class=\"toc-item-num\">3.1&nbsp;&nbsp;</span>Звонки и минуты по месяцам</a></span></li><li><span><a href=\"#Сообщения\" data-toc-modified-id=\"Сообщения-3.2\"><span class=\"toc-item-num\">3.2&nbsp;&nbsp;</span>Сообщения</a></span></li><li><span><a href=\"#Интернет-по-месяцам\" data-toc-modified-id=\"Интернет-по-месяцам-3.3\"><span class=\"toc-item-num\">3.3&nbsp;&nbsp;</span>Интернет по месяцам</a></span></li><li><span><a href=\"#Объединение-таблиц\" data-toc-modified-id=\"Объединение-таблиц-3.4\"><span class=\"toc-item-num\">3.4&nbsp;&nbsp;</span>Объединение таблиц</a></span></li></ul></li><li><span><a href=\"#Шаг-3.-Проанализируйте-данные\" data-toc-modified-id=\"Шаг-3.-Проанализируйте-данные-4\"><span class=\"toc-item-num\">4&nbsp;&nbsp;</span>Шаг 3. Проанализируйте данные</a></span><ul class=\"toc-item\"><li><span><a href=\"#Суммарное-количество-длительности,-сообщений-и-интеренета-по-месяцам\" data-toc-modified-id=\"Суммарное-количество-длительности,-сообщений-и-интеренета-по-месяцам-4.1\"><span class=\"toc-item-num\">4.1&nbsp;&nbsp;</span>Суммарное количество длительности, сообщений и интеренета по месяцам</a></span></li><li><span><a href=\"#Гистограммы\" data-toc-modified-id=\"Гистограммы-4.2\"><span class=\"toc-item-num\">4.2&nbsp;&nbsp;</span>Гистограммы</a></span></li></ul></li><li><span><a href=\"#Шаг-4.-Проверьте-гипотезы\" data-toc-modified-id=\"Шаг-4.-Проверьте-гипотезы-5\"><span class=\"toc-item-num\">5&nbsp;&nbsp;</span>Шаг 4. Проверьте гипотезы</a></span><ul class=\"toc-item\"><li><span><a href=\"#Гипотеза-1.-Средняя-выручка-пользователей-тарифов-«Ультра»-и-«Смарт»-различаются;\" data-toc-modified-id=\"Гипотеза-1.-Средняя-выручка-пользователей-тарифов-«Ультра»-и-«Смарт»-различаются;-5.1\"><span class=\"toc-item-num\">5.1&nbsp;&nbsp;</span>Гипотеза 1. Средняя выручка пользователей тарифов «Ультра» и «Смарт» различаются;</a></span></li><li><span><a href=\"#Гипотеза-2.-Cредняя-выручка-пользователей-из-Москвы-отличается-от-выручки-пользователей-из-других-регионов.\" data-toc-modified-id=\"Гипотеза-2.-Cредняя-выручка-пользователей-из-Москвы-отличается-от-выручки-пользователей-из-других-регионов.-5.2\"><span class=\"toc-item-num\">5.2&nbsp;&nbsp;</span>Гипотеза 2. Cредняя выручка пользователей из Москвы отличается от выручки пользователей из других регионов.</a></span></li></ul></li><li><span><a href=\"#Шаг-5.-Напишите-общий-вывод\" data-toc-modified-id=\"Шаг-5.-Напишите-общий-вывод-6\"><span class=\"toc-item-num\">6&nbsp;&nbsp;</span>Шаг 5. Напишите общий вывод</a></span></li></ul></div>"
   ]
  },
  {
   "cell_type": "markdown",
   "metadata": {},
   "source": [
    "## Определение перспективного тарифа для телеком-компании"
   ]
  },
  {
   "cell_type": "markdown",
   "metadata": {},
   "source": [
    "Предстоит сделать предварительный анализ тарифов на небольшой выборке клиентов. В нашем распоряжении данные 500 пользователей «Мегалайна»: кто они, откуда, каким тарифом пользуются, сколько звонков и сообщений каждый отправил за 2018 год. Всего два тарифа: \"Смарт\" и \"Ультра\". Нужно проанализировать поведение клиентов и сделать вывод — какой тариф лучше, используя методы статистического анализа и проверку гипотез.\n",
    "К заданию прилагается 5 таблиц, в которых содержатся данные по следующим категориям:\n",
    "- звонки \n",
    "- сообщения \n",
    "- интернет сессии\n",
    "- тарифы \n",
    "- пользователи\n"
   ]
  },
  {
   "cell_type": "markdown",
   "metadata": {},
   "source": [
    "## Шаг 1. Откройте файл с данными и изучите общую информацию"
   ]
  },
  {
   "cell_type": "code",
   "execution_count": 1,
   "metadata": {},
   "outputs": [],
   "source": [
    "import os\n",
    "import pandas as pd\n",
    "import math as math\n",
    "import numpy as np\n",
    "import datetime\n",
    "import matplotlib.pyplot as plt\n",
    "import seaborn as sns"
   ]
  },
  {
   "cell_type": "code",
   "execution_count": 2,
   "metadata": {},
   "outputs": [],
   "source": [
    "os.chdir(\"C:/Users/Admin/Downloads/ЯНДЕКС/Проекты из курса/3 определение тарифа\")\n",
    "df_users = pd.read_csv('users.csv')\n",
    "df_calls = pd.read_csv('calls.csv')\n",
    "df_messages = pd.read_csv('messages.csv')\n",
    "df_internet = pd.read_csv('internet.csv', index_col=0)\n",
    "df_tariffs =pd.read_csv('tariffs.csv')"
   ]
  },
  {
   "cell_type": "markdown",
   "metadata": {},
   "source": [
    "### Таблица users (информация о пользователях):"
   ]
  },
  {
   "cell_type": "code",
   "execution_count": 3,
   "metadata": {},
   "outputs": [
    {
     "data": {
      "text/html": [
       "<div>\n",
       "<style scoped>\n",
       "    .dataframe tbody tr th:only-of-type {\n",
       "        vertical-align: middle;\n",
       "    }\n",
       "\n",
       "    .dataframe tbody tr th {\n",
       "        vertical-align: top;\n",
       "    }\n",
       "\n",
       "    .dataframe thead th {\n",
       "        text-align: right;\n",
       "    }\n",
       "</style>\n",
       "<table border=\"1\" class=\"dataframe\">\n",
       "  <thead>\n",
       "    <tr style=\"text-align: right;\">\n",
       "      <th></th>\n",
       "      <th>user_id</th>\n",
       "      <th>age</th>\n",
       "      <th>churn_date</th>\n",
       "      <th>city</th>\n",
       "      <th>first_name</th>\n",
       "      <th>last_name</th>\n",
       "      <th>reg_date</th>\n",
       "      <th>tariff</th>\n",
       "    </tr>\n",
       "  </thead>\n",
       "  <tbody>\n",
       "    <tr>\n",
       "      <th>0</th>\n",
       "      <td>1000</td>\n",
       "      <td>52</td>\n",
       "      <td>NaN</td>\n",
       "      <td>Краснодар</td>\n",
       "      <td>Рафаил</td>\n",
       "      <td>Верещагин</td>\n",
       "      <td>2018-05-25</td>\n",
       "      <td>ultra</td>\n",
       "    </tr>\n",
       "    <tr>\n",
       "      <th>1</th>\n",
       "      <td>1001</td>\n",
       "      <td>41</td>\n",
       "      <td>NaN</td>\n",
       "      <td>Москва</td>\n",
       "      <td>Иван</td>\n",
       "      <td>Ежов</td>\n",
       "      <td>2018-11-01</td>\n",
       "      <td>smart</td>\n",
       "    </tr>\n",
       "    <tr>\n",
       "      <th>2</th>\n",
       "      <td>1002</td>\n",
       "      <td>59</td>\n",
       "      <td>NaN</td>\n",
       "      <td>Стерлитамак</td>\n",
       "      <td>Евгений</td>\n",
       "      <td>Абрамович</td>\n",
       "      <td>2018-06-17</td>\n",
       "      <td>smart</td>\n",
       "    </tr>\n",
       "    <tr>\n",
       "      <th>3</th>\n",
       "      <td>1003</td>\n",
       "      <td>23</td>\n",
       "      <td>NaN</td>\n",
       "      <td>Москва</td>\n",
       "      <td>Белла</td>\n",
       "      <td>Белякова</td>\n",
       "      <td>2018-08-17</td>\n",
       "      <td>ultra</td>\n",
       "    </tr>\n",
       "    <tr>\n",
       "      <th>4</th>\n",
       "      <td>1004</td>\n",
       "      <td>68</td>\n",
       "      <td>NaN</td>\n",
       "      <td>Новокузнецк</td>\n",
       "      <td>Татьяна</td>\n",
       "      <td>Авдеенко</td>\n",
       "      <td>2018-05-14</td>\n",
       "      <td>ultra</td>\n",
       "    </tr>\n",
       "  </tbody>\n",
       "</table>\n",
       "</div>"
      ],
      "text/plain": [
       "   user_id  age churn_date         city first_name  last_name    reg_date  \\\n",
       "0     1000   52        NaN    Краснодар     Рафаил  Верещагин  2018-05-25   \n",
       "1     1001   41        NaN       Москва       Иван       Ежов  2018-11-01   \n",
       "2     1002   59        NaN  Стерлитамак    Евгений  Абрамович  2018-06-17   \n",
       "3     1003   23        NaN       Москва      Белла   Белякова  2018-08-17   \n",
       "4     1004   68        NaN  Новокузнецк    Татьяна   Авдеенко  2018-05-14   \n",
       "\n",
       "  tariff  \n",
       "0  ultra  \n",
       "1  smart  \n",
       "2  smart  \n",
       "3  ultra  \n",
       "4  ultra  "
      ]
     },
     "execution_count": 3,
     "metadata": {},
     "output_type": "execute_result"
    }
   ],
   "source": [
    "df_users.head()"
   ]
  },
  {
   "cell_type": "code",
   "execution_count": 4,
   "metadata": {},
   "outputs": [
    {
     "name": "stdout",
     "output_type": "stream",
     "text": [
      "<class 'pandas.core.frame.DataFrame'>\n",
      "RangeIndex: 500 entries, 0 to 499\n",
      "Data columns (total 8 columns):\n",
      " #   Column      Non-Null Count  Dtype \n",
      "---  ------      --------------  ----- \n",
      " 0   user_id     500 non-null    int64 \n",
      " 1   age         500 non-null    int64 \n",
      " 2   churn_date  38 non-null     object\n",
      " 3   city        500 non-null    object\n",
      " 4   first_name  500 non-null    object\n",
      " 5   last_name   500 non-null    object\n",
      " 6   reg_date    500 non-null    object\n",
      " 7   tariff      500 non-null    object\n",
      "dtypes: int64(2), object(6)\n",
      "memory usage: 31.4+ KB\n"
     ]
    }
   ],
   "source": [
    "df_users.info()"
   ]
  },
  {
   "cell_type": "code",
   "execution_count": 5,
   "metadata": {},
   "outputs": [
    {
     "data": {
      "text/plain": [
       "user_id         0\n",
       "age             0\n",
       "churn_date    462\n",
       "city            0\n",
       "first_name      0\n",
       "last_name       0\n",
       "reg_date        0\n",
       "tariff          0\n",
       "dtype: int64"
      ]
     },
     "execution_count": 5,
     "metadata": {},
     "output_type": "execute_result"
    }
   ],
   "source": [
    "df_users.isna().sum()"
   ]
  },
  {
   "cell_type": "markdown",
   "metadata": {},
   "source": [
    "churn_date — дата прекращения пользования тарифом (если значение пропущено, то тариф ещё действовал на момент выгрузки данных). В таком случае выделим их отдельной датой, на один день позже максимальной даты в таблице."
   ]
  },
  {
   "cell_type": "code",
   "execution_count": 6,
   "metadata": {},
   "outputs": [
    {
     "data": {
      "text/html": [
       "<div>\n",
       "<style scoped>\n",
       "    .dataframe tbody tr th:only-of-type {\n",
       "        vertical-align: middle;\n",
       "    }\n",
       "\n",
       "    .dataframe tbody tr th {\n",
       "        vertical-align: top;\n",
       "    }\n",
       "\n",
       "    .dataframe thead th {\n",
       "        text-align: right;\n",
       "    }\n",
       "</style>\n",
       "<table border=\"1\" class=\"dataframe\">\n",
       "  <thead>\n",
       "    <tr style=\"text-align: right;\">\n",
       "      <th></th>\n",
       "      <th>user_id</th>\n",
       "      <th>age</th>\n",
       "      <th>churn_date</th>\n",
       "      <th>city</th>\n",
       "      <th>first_name</th>\n",
       "      <th>last_name</th>\n",
       "      <th>reg_date</th>\n",
       "      <th>tariff</th>\n",
       "    </tr>\n",
       "  </thead>\n",
       "  <tbody>\n",
       "    <tr>\n",
       "      <th>371</th>\n",
       "      <td>1371</td>\n",
       "      <td>50</td>\n",
       "      <td>2018-12-30</td>\n",
       "      <td>Омск</td>\n",
       "      <td>Ириней</td>\n",
       "      <td>Трофимов</td>\n",
       "      <td>2018-12-25</td>\n",
       "      <td>smart</td>\n",
       "    </tr>\n",
       "    <tr>\n",
       "      <th>64</th>\n",
       "      <td>1064</td>\n",
       "      <td>55</td>\n",
       "      <td>2018-12-26</td>\n",
       "      <td>Якутск</td>\n",
       "      <td>Динара</td>\n",
       "      <td>Алфеева</td>\n",
       "      <td>2018-03-17</td>\n",
       "      <td>smart</td>\n",
       "    </tr>\n",
       "    <tr>\n",
       "      <th>399</th>\n",
       "      <td>1399</td>\n",
       "      <td>31</td>\n",
       "      <td>2018-12-25</td>\n",
       "      <td>Уфа</td>\n",
       "      <td>Алиса</td>\n",
       "      <td>Абрашина</td>\n",
       "      <td>2018-11-06</td>\n",
       "      <td>ultra</td>\n",
       "    </tr>\n",
       "    <tr>\n",
       "      <th>438</th>\n",
       "      <td>1438</td>\n",
       "      <td>24</td>\n",
       "      <td>2018-12-24</td>\n",
       "      <td>Екатеринбург</td>\n",
       "      <td>Нателла</td>\n",
       "      <td>Бородина</td>\n",
       "      <td>2018-10-05</td>\n",
       "      <td>smart</td>\n",
       "    </tr>\n",
       "    <tr>\n",
       "      <th>128</th>\n",
       "      <td>1128</td>\n",
       "      <td>51</td>\n",
       "      <td>2018-12-23</td>\n",
       "      <td>Волжский</td>\n",
       "      <td>Ксения</td>\n",
       "      <td>Агаева</td>\n",
       "      <td>2018-12-15</td>\n",
       "      <td>ultra</td>\n",
       "    </tr>\n",
       "    <tr>\n",
       "      <th>...</th>\n",
       "      <td>...</td>\n",
       "      <td>...</td>\n",
       "      <td>...</td>\n",
       "      <td>...</td>\n",
       "      <td>...</td>\n",
       "      <td>...</td>\n",
       "      <td>...</td>\n",
       "      <td>...</td>\n",
       "    </tr>\n",
       "    <tr>\n",
       "      <th>494</th>\n",
       "      <td>1494</td>\n",
       "      <td>62</td>\n",
       "      <td>NaN</td>\n",
       "      <td>Омск</td>\n",
       "      <td>Ренат</td>\n",
       "      <td>Андропов</td>\n",
       "      <td>2018-08-17</td>\n",
       "      <td>smart</td>\n",
       "    </tr>\n",
       "    <tr>\n",
       "      <th>495</th>\n",
       "      <td>1495</td>\n",
       "      <td>65</td>\n",
       "      <td>NaN</td>\n",
       "      <td>Иркутск</td>\n",
       "      <td>Авксентий</td>\n",
       "      <td>Фокин</td>\n",
       "      <td>2018-08-28</td>\n",
       "      <td>ultra</td>\n",
       "    </tr>\n",
       "    <tr>\n",
       "      <th>496</th>\n",
       "      <td>1496</td>\n",
       "      <td>36</td>\n",
       "      <td>NaN</td>\n",
       "      <td>Вологда</td>\n",
       "      <td>Трифон</td>\n",
       "      <td>Блохин</td>\n",
       "      <td>2018-01-27</td>\n",
       "      <td>smart</td>\n",
       "    </tr>\n",
       "    <tr>\n",
       "      <th>497</th>\n",
       "      <td>1497</td>\n",
       "      <td>32</td>\n",
       "      <td>NaN</td>\n",
       "      <td>Челябинск</td>\n",
       "      <td>Каролина</td>\n",
       "      <td>Агеева</td>\n",
       "      <td>2018-10-09</td>\n",
       "      <td>smart</td>\n",
       "    </tr>\n",
       "    <tr>\n",
       "      <th>499</th>\n",
       "      <td>1499</td>\n",
       "      <td>35</td>\n",
       "      <td>NaN</td>\n",
       "      <td>Пермь</td>\n",
       "      <td>Гектор</td>\n",
       "      <td>Корнилов</td>\n",
       "      <td>2018-09-27</td>\n",
       "      <td>smart</td>\n",
       "    </tr>\n",
       "  </tbody>\n",
       "</table>\n",
       "<p>500 rows × 8 columns</p>\n",
       "</div>"
      ],
      "text/plain": [
       "     user_id  age  churn_date          city first_name last_name    reg_date  \\\n",
       "371     1371   50  2018-12-30          Омск     Ириней  Трофимов  2018-12-25   \n",
       "64      1064   55  2018-12-26        Якутск     Динара   Алфеева  2018-03-17   \n",
       "399     1399   31  2018-12-25           Уфа      Алиса  Абрашина  2018-11-06   \n",
       "438     1438   24  2018-12-24  Екатеринбург    Нателла  Бородина  2018-10-05   \n",
       "128     1128   51  2018-12-23      Волжский     Ксения    Агаева  2018-12-15   \n",
       "..       ...  ...         ...           ...        ...       ...         ...   \n",
       "494     1494   62         NaN          Омск      Ренат  Андропов  2018-08-17   \n",
       "495     1495   65         NaN       Иркутск  Авксентий     Фокин  2018-08-28   \n",
       "496     1496   36         NaN       Вологда     Трифон    Блохин  2018-01-27   \n",
       "497     1497   32         NaN     Челябинск   Каролина    Агеева  2018-10-09   \n",
       "499     1499   35         NaN         Пермь     Гектор  Корнилов  2018-09-27   \n",
       "\n",
       "    tariff  \n",
       "371  smart  \n",
       "64   smart  \n",
       "399  ultra  \n",
       "438  smart  \n",
       "128  ultra  \n",
       "..     ...  \n",
       "494  smart  \n",
       "495  ultra  \n",
       "496  smart  \n",
       "497  smart  \n",
       "499  smart  \n",
       "\n",
       "[500 rows x 8 columns]"
      ]
     },
     "execution_count": 6,
     "metadata": {},
     "output_type": "execute_result"
    }
   ],
   "source": [
    "df_users.sort_values(by = 'churn_date', ascending = False)"
   ]
  },
  {
   "cell_type": "code",
   "execution_count": 7,
   "metadata": {},
   "outputs": [
    {
     "data": {
      "text/html": [
       "<div>\n",
       "<style scoped>\n",
       "    .dataframe tbody tr th:only-of-type {\n",
       "        vertical-align: middle;\n",
       "    }\n",
       "\n",
       "    .dataframe tbody tr th {\n",
       "        vertical-align: top;\n",
       "    }\n",
       "\n",
       "    .dataframe thead th {\n",
       "        text-align: right;\n",
       "    }\n",
       "</style>\n",
       "<table border=\"1\" class=\"dataframe\">\n",
       "  <thead>\n",
       "    <tr style=\"text-align: right;\">\n",
       "      <th></th>\n",
       "      <th>user_id</th>\n",
       "      <th>tariff</th>\n",
       "      <th>city</th>\n",
       "    </tr>\n",
       "  </thead>\n",
       "  <tbody>\n",
       "    <tr>\n",
       "      <th>0</th>\n",
       "      <td>1000</td>\n",
       "      <td>ultra</td>\n",
       "      <td>Краснодар</td>\n",
       "    </tr>\n",
       "    <tr>\n",
       "      <th>1</th>\n",
       "      <td>1001</td>\n",
       "      <td>smart</td>\n",
       "      <td>Москва</td>\n",
       "    </tr>\n",
       "    <tr>\n",
       "      <th>2</th>\n",
       "      <td>1002</td>\n",
       "      <td>smart</td>\n",
       "      <td>Стерлитамак</td>\n",
       "    </tr>\n",
       "    <tr>\n",
       "      <th>3</th>\n",
       "      <td>1003</td>\n",
       "      <td>ultra</td>\n",
       "      <td>Москва</td>\n",
       "    </tr>\n",
       "    <tr>\n",
       "      <th>4</th>\n",
       "      <td>1004</td>\n",
       "      <td>ultra</td>\n",
       "      <td>Новокузнецк</td>\n",
       "    </tr>\n",
       "  </tbody>\n",
       "</table>\n",
       "</div>"
      ],
      "text/plain": [
       "   user_id tariff         city\n",
       "0     1000  ultra    Краснодар\n",
       "1     1001  smart       Москва\n",
       "2     1002  smart  Стерлитамак\n",
       "3     1003  ultra       Москва\n",
       "4     1004  ultra  Новокузнецк"
      ]
     },
     "execution_count": 7,
     "metadata": {},
     "output_type": "execute_result"
    }
   ],
   "source": [
    "df_users_tariffs = df_users.filter(['user_id', 'tariff','city'], axis=1)\n",
    "df_users_tariffs.head()"
   ]
  },
  {
   "cell_type": "markdown",
   "metadata": {},
   "source": [
    "### Таблица calls (информация о звонках):"
   ]
  },
  {
   "cell_type": "code",
   "execution_count": 8,
   "metadata": {},
   "outputs": [
    {
     "data": {
      "text/html": [
       "<div>\n",
       "<style scoped>\n",
       "    .dataframe tbody tr th:only-of-type {\n",
       "        vertical-align: middle;\n",
       "    }\n",
       "\n",
       "    .dataframe tbody tr th {\n",
       "        vertical-align: top;\n",
       "    }\n",
       "\n",
       "    .dataframe thead th {\n",
       "        text-align: right;\n",
       "    }\n",
       "</style>\n",
       "<table border=\"1\" class=\"dataframe\">\n",
       "  <thead>\n",
       "    <tr style=\"text-align: right;\">\n",
       "      <th></th>\n",
       "      <th>id</th>\n",
       "      <th>call_date</th>\n",
       "      <th>duration</th>\n",
       "      <th>user_id</th>\n",
       "    </tr>\n",
       "  </thead>\n",
       "  <tbody>\n",
       "    <tr>\n",
       "      <th>0</th>\n",
       "      <td>1000_0</td>\n",
       "      <td>2018-07-25</td>\n",
       "      <td>0.00</td>\n",
       "      <td>1000</td>\n",
       "    </tr>\n",
       "    <tr>\n",
       "      <th>1</th>\n",
       "      <td>1000_1</td>\n",
       "      <td>2018-08-17</td>\n",
       "      <td>0.00</td>\n",
       "      <td>1000</td>\n",
       "    </tr>\n",
       "    <tr>\n",
       "      <th>2</th>\n",
       "      <td>1000_2</td>\n",
       "      <td>2018-06-11</td>\n",
       "      <td>2.85</td>\n",
       "      <td>1000</td>\n",
       "    </tr>\n",
       "    <tr>\n",
       "      <th>3</th>\n",
       "      <td>1000_3</td>\n",
       "      <td>2018-09-21</td>\n",
       "      <td>13.80</td>\n",
       "      <td>1000</td>\n",
       "    </tr>\n",
       "    <tr>\n",
       "      <th>4</th>\n",
       "      <td>1000_4</td>\n",
       "      <td>2018-12-15</td>\n",
       "      <td>5.18</td>\n",
       "      <td>1000</td>\n",
       "    </tr>\n",
       "  </tbody>\n",
       "</table>\n",
       "</div>"
      ],
      "text/plain": [
       "       id   call_date  duration  user_id\n",
       "0  1000_0  2018-07-25      0.00     1000\n",
       "1  1000_1  2018-08-17      0.00     1000\n",
       "2  1000_2  2018-06-11      2.85     1000\n",
       "3  1000_3  2018-09-21     13.80     1000\n",
       "4  1000_4  2018-12-15      5.18     1000"
      ]
     },
     "execution_count": 8,
     "metadata": {},
     "output_type": "execute_result"
    }
   ],
   "source": [
    "df_calls.head()"
   ]
  },
  {
   "cell_type": "markdown",
   "metadata": {},
   "source": [
    "Округляем значение столбца \"duration\" вверх до целых, приводим к значению int"
   ]
  },
  {
   "cell_type": "code",
   "execution_count": 9,
   "metadata": {},
   "outputs": [
    {
     "data": {
      "text/html": [
       "<div>\n",
       "<style scoped>\n",
       "    .dataframe tbody tr th:only-of-type {\n",
       "        vertical-align: middle;\n",
       "    }\n",
       "\n",
       "    .dataframe tbody tr th {\n",
       "        vertical-align: top;\n",
       "    }\n",
       "\n",
       "    .dataframe thead th {\n",
       "        text-align: right;\n",
       "    }\n",
       "</style>\n",
       "<table border=\"1\" class=\"dataframe\">\n",
       "  <thead>\n",
       "    <tr style=\"text-align: right;\">\n",
       "      <th></th>\n",
       "      <th>id</th>\n",
       "      <th>call_date</th>\n",
       "      <th>duration</th>\n",
       "      <th>user_id</th>\n",
       "    </tr>\n",
       "  </thead>\n",
       "  <tbody>\n",
       "    <tr>\n",
       "      <th>0</th>\n",
       "      <td>1000_0</td>\n",
       "      <td>2018-07-25</td>\n",
       "      <td>0</td>\n",
       "      <td>1000</td>\n",
       "    </tr>\n",
       "    <tr>\n",
       "      <th>1</th>\n",
       "      <td>1000_1</td>\n",
       "      <td>2018-08-17</td>\n",
       "      <td>0</td>\n",
       "      <td>1000</td>\n",
       "    </tr>\n",
       "    <tr>\n",
       "      <th>2</th>\n",
       "      <td>1000_2</td>\n",
       "      <td>2018-06-11</td>\n",
       "      <td>3</td>\n",
       "      <td>1000</td>\n",
       "    </tr>\n",
       "    <tr>\n",
       "      <th>3</th>\n",
       "      <td>1000_3</td>\n",
       "      <td>2018-09-21</td>\n",
       "      <td>14</td>\n",
       "      <td>1000</td>\n",
       "    </tr>\n",
       "    <tr>\n",
       "      <th>4</th>\n",
       "      <td>1000_4</td>\n",
       "      <td>2018-12-15</td>\n",
       "      <td>6</td>\n",
       "      <td>1000</td>\n",
       "    </tr>\n",
       "  </tbody>\n",
       "</table>\n",
       "</div>"
      ],
      "text/plain": [
       "       id   call_date  duration  user_id\n",
       "0  1000_0  2018-07-25         0     1000\n",
       "1  1000_1  2018-08-17         0     1000\n",
       "2  1000_2  2018-06-11         3     1000\n",
       "3  1000_3  2018-09-21        14     1000\n",
       "4  1000_4  2018-12-15         6     1000"
      ]
     },
     "execution_count": 9,
     "metadata": {},
     "output_type": "execute_result"
    }
   ],
   "source": [
    "df_calls['duration'] = df_calls['duration'].apply(np.ceil).apply(int)\n",
    "df_calls.head()"
   ]
  },
  {
   "cell_type": "code",
   "execution_count": 10,
   "metadata": {},
   "outputs": [
    {
     "name": "stdout",
     "output_type": "stream",
     "text": [
      "<class 'pandas.core.frame.DataFrame'>\n",
      "RangeIndex: 202607 entries, 0 to 202606\n",
      "Data columns (total 4 columns):\n",
      " #   Column     Non-Null Count   Dtype \n",
      "---  ------     --------------   ----- \n",
      " 0   id         202607 non-null  object\n",
      " 1   call_date  202607 non-null  object\n",
      " 2   duration   202607 non-null  int64 \n",
      " 3   user_id    202607 non-null  int64 \n",
      "dtypes: int64(2), object(2)\n",
      "memory usage: 6.2+ MB\n"
     ]
    }
   ],
   "source": [
    "df_calls.info()"
   ]
  },
  {
   "cell_type": "code",
   "execution_count": 11,
   "metadata": {},
   "outputs": [
    {
     "data": {
      "text/plain": [
       "id           0\n",
       "call_date    0\n",
       "duration     0\n",
       "user_id      0\n",
       "dtype: int64"
      ]
     },
     "execution_count": 11,
     "metadata": {},
     "output_type": "execute_result"
    }
   ],
   "source": [
    "df_calls.isna().sum()"
   ]
  },
  {
   "cell_type": "markdown",
   "metadata": {},
   "source": [
    "### Таблица messages (информация о сообщениях):"
   ]
  },
  {
   "cell_type": "code",
   "execution_count": 12,
   "metadata": {},
   "outputs": [
    {
     "data": {
      "text/html": [
       "<div>\n",
       "<style scoped>\n",
       "    .dataframe tbody tr th:only-of-type {\n",
       "        vertical-align: middle;\n",
       "    }\n",
       "\n",
       "    .dataframe tbody tr th {\n",
       "        vertical-align: top;\n",
       "    }\n",
       "\n",
       "    .dataframe thead th {\n",
       "        text-align: right;\n",
       "    }\n",
       "</style>\n",
       "<table border=\"1\" class=\"dataframe\">\n",
       "  <thead>\n",
       "    <tr style=\"text-align: right;\">\n",
       "      <th></th>\n",
       "      <th>id</th>\n",
       "      <th>message_date</th>\n",
       "      <th>user_id</th>\n",
       "    </tr>\n",
       "  </thead>\n",
       "  <tbody>\n",
       "    <tr>\n",
       "      <th>0</th>\n",
       "      <td>1000_0</td>\n",
       "      <td>2018-06-27</td>\n",
       "      <td>1000</td>\n",
       "    </tr>\n",
       "    <tr>\n",
       "      <th>1</th>\n",
       "      <td>1000_1</td>\n",
       "      <td>2018-10-08</td>\n",
       "      <td>1000</td>\n",
       "    </tr>\n",
       "    <tr>\n",
       "      <th>2</th>\n",
       "      <td>1000_2</td>\n",
       "      <td>2018-08-04</td>\n",
       "      <td>1000</td>\n",
       "    </tr>\n",
       "    <tr>\n",
       "      <th>3</th>\n",
       "      <td>1000_3</td>\n",
       "      <td>2018-06-16</td>\n",
       "      <td>1000</td>\n",
       "    </tr>\n",
       "    <tr>\n",
       "      <th>4</th>\n",
       "      <td>1000_4</td>\n",
       "      <td>2018-12-05</td>\n",
       "      <td>1000</td>\n",
       "    </tr>\n",
       "  </tbody>\n",
       "</table>\n",
       "</div>"
      ],
      "text/plain": [
       "       id message_date  user_id\n",
       "0  1000_0   2018-06-27     1000\n",
       "1  1000_1   2018-10-08     1000\n",
       "2  1000_2   2018-08-04     1000\n",
       "3  1000_3   2018-06-16     1000\n",
       "4  1000_4   2018-12-05     1000"
      ]
     },
     "execution_count": 12,
     "metadata": {},
     "output_type": "execute_result"
    }
   ],
   "source": [
    "df_messages.head()"
   ]
  },
  {
   "cell_type": "code",
   "execution_count": 13,
   "metadata": {},
   "outputs": [
    {
     "name": "stdout",
     "output_type": "stream",
     "text": [
      "<class 'pandas.core.frame.DataFrame'>\n",
      "RangeIndex: 123036 entries, 0 to 123035\n",
      "Data columns (total 3 columns):\n",
      " #   Column        Non-Null Count   Dtype \n",
      "---  ------        --------------   ----- \n",
      " 0   id            123036 non-null  object\n",
      " 1   message_date  123036 non-null  object\n",
      " 2   user_id       123036 non-null  int64 \n",
      "dtypes: int64(1), object(2)\n",
      "memory usage: 2.8+ MB\n"
     ]
    }
   ],
   "source": [
    "df_messages.info()"
   ]
  },
  {
   "cell_type": "code",
   "execution_count": 14,
   "metadata": {},
   "outputs": [
    {
     "data": {
      "text/plain": [
       "id              0\n",
       "message_date    0\n",
       "user_id         0\n",
       "dtype: int64"
      ]
     },
     "execution_count": 14,
     "metadata": {},
     "output_type": "execute_result"
    }
   ],
   "source": [
    "df_messages.isna().sum()"
   ]
  },
  {
   "cell_type": "markdown",
   "metadata": {},
   "source": [
    "### Таблица internet (информация об интернет-сессиях):"
   ]
  },
  {
   "cell_type": "code",
   "execution_count": 15,
   "metadata": {},
   "outputs": [
    {
     "data": {
      "text/html": [
       "<div>\n",
       "<style scoped>\n",
       "    .dataframe tbody tr th:only-of-type {\n",
       "        vertical-align: middle;\n",
       "    }\n",
       "\n",
       "    .dataframe tbody tr th {\n",
       "        vertical-align: top;\n",
       "    }\n",
       "\n",
       "    .dataframe thead th {\n",
       "        text-align: right;\n",
       "    }\n",
       "</style>\n",
       "<table border=\"1\" class=\"dataframe\">\n",
       "  <thead>\n",
       "    <tr style=\"text-align: right;\">\n",
       "      <th></th>\n",
       "      <th>id</th>\n",
       "      <th>mb_used</th>\n",
       "      <th>session_date</th>\n",
       "      <th>user_id</th>\n",
       "    </tr>\n",
       "  </thead>\n",
       "  <tbody>\n",
       "    <tr>\n",
       "      <th>0</th>\n",
       "      <td>1000_0</td>\n",
       "      <td>112.95</td>\n",
       "      <td>2018-11-25</td>\n",
       "      <td>1000</td>\n",
       "    </tr>\n",
       "    <tr>\n",
       "      <th>1</th>\n",
       "      <td>1000_1</td>\n",
       "      <td>1052.81</td>\n",
       "      <td>2018-09-07</td>\n",
       "      <td>1000</td>\n",
       "    </tr>\n",
       "    <tr>\n",
       "      <th>2</th>\n",
       "      <td>1000_2</td>\n",
       "      <td>1197.26</td>\n",
       "      <td>2018-06-25</td>\n",
       "      <td>1000</td>\n",
       "    </tr>\n",
       "    <tr>\n",
       "      <th>3</th>\n",
       "      <td>1000_3</td>\n",
       "      <td>550.27</td>\n",
       "      <td>2018-08-22</td>\n",
       "      <td>1000</td>\n",
       "    </tr>\n",
       "    <tr>\n",
       "      <th>4</th>\n",
       "      <td>1000_4</td>\n",
       "      <td>302.56</td>\n",
       "      <td>2018-09-24</td>\n",
       "      <td>1000</td>\n",
       "    </tr>\n",
       "  </tbody>\n",
       "</table>\n",
       "</div>"
      ],
      "text/plain": [
       "       id  mb_used session_date  user_id\n",
       "0  1000_0   112.95   2018-11-25     1000\n",
       "1  1000_1  1052.81   2018-09-07     1000\n",
       "2  1000_2  1197.26   2018-06-25     1000\n",
       "3  1000_3   550.27   2018-08-22     1000\n",
       "4  1000_4   302.56   2018-09-24     1000"
      ]
     },
     "execution_count": 15,
     "metadata": {},
     "output_type": "execute_result"
    }
   ],
   "source": [
    "df_internet.head()"
   ]
  },
  {
   "cell_type": "code",
   "execution_count": 16,
   "metadata": {},
   "outputs": [
    {
     "name": "stdout",
     "output_type": "stream",
     "text": [
      "<class 'pandas.core.frame.DataFrame'>\n",
      "Int64Index: 149396 entries, 0 to 149395\n",
      "Data columns (total 4 columns):\n",
      " #   Column        Non-Null Count   Dtype  \n",
      "---  ------        --------------   -----  \n",
      " 0   id            149396 non-null  object \n",
      " 1   mb_used       149396 non-null  float64\n",
      " 2   session_date  149396 non-null  object \n",
      " 3   user_id       149396 non-null  int64  \n",
      "dtypes: float64(1), int64(1), object(2)\n",
      "memory usage: 5.7+ MB\n"
     ]
    }
   ],
   "source": [
    "df_internet.info()"
   ]
  },
  {
   "cell_type": "code",
   "execution_count": 17,
   "metadata": {},
   "outputs": [
    {
     "data": {
      "text/plain": [
       "id              0\n",
       "mb_used         0\n",
       "session_date    0\n",
       "user_id         0\n",
       "dtype: int64"
      ]
     },
     "execution_count": 17,
     "metadata": {},
     "output_type": "execute_result"
    }
   ],
   "source": [
    "df_internet.isna().sum()"
   ]
  },
  {
   "cell_type": "code",
   "execution_count": 18,
   "metadata": {},
   "outputs": [
    {
     "data": {
      "text/html": [
       "<div>\n",
       "<style scoped>\n",
       "    .dataframe tbody tr th:only-of-type {\n",
       "        vertical-align: middle;\n",
       "    }\n",
       "\n",
       "    .dataframe tbody tr th {\n",
       "        vertical-align: top;\n",
       "    }\n",
       "\n",
       "    .dataframe thead th {\n",
       "        text-align: right;\n",
       "    }\n",
       "</style>\n",
       "<table border=\"1\" class=\"dataframe\">\n",
       "  <thead>\n",
       "    <tr style=\"text-align: right;\">\n",
       "      <th></th>\n",
       "      <th>id</th>\n",
       "      <th>mb_used</th>\n",
       "      <th>session_date</th>\n",
       "      <th>user_id</th>\n",
       "    </tr>\n",
       "  </thead>\n",
       "  <tbody>\n",
       "    <tr>\n",
       "      <th>57584</th>\n",
       "      <td>1193_123</td>\n",
       "      <td>0.0</td>\n",
       "      <td>2018-01-01</td>\n",
       "      <td>1193</td>\n",
       "    </tr>\n",
       "    <tr>\n",
       "      <th>45314</th>\n",
       "      <td>1155_501</td>\n",
       "      <td>0.0</td>\n",
       "      <td>2018-01-02</td>\n",
       "      <td>1155</td>\n",
       "    </tr>\n",
       "    <tr>\n",
       "      <th>57627</th>\n",
       "      <td>1193_166</td>\n",
       "      <td>0.0</td>\n",
       "      <td>2018-01-03</td>\n",
       "      <td>1193</td>\n",
       "    </tr>\n",
       "    <tr>\n",
       "      <th>45232</th>\n",
       "      <td>1155_419</td>\n",
       "      <td>0.0</td>\n",
       "      <td>2018-01-04</td>\n",
       "      <td>1155</td>\n",
       "    </tr>\n",
       "    <tr>\n",
       "      <th>60646</th>\n",
       "      <td>1204_731</td>\n",
       "      <td>0.0</td>\n",
       "      <td>2018-01-04</td>\n",
       "      <td>1204</td>\n",
       "    </tr>\n",
       "    <tr>\n",
       "      <th>...</th>\n",
       "      <td>...</td>\n",
       "      <td>...</td>\n",
       "      <td>...</td>\n",
       "      <td>...</td>\n",
       "    </tr>\n",
       "    <tr>\n",
       "      <th>91932</th>\n",
       "      <td>1311_42</td>\n",
       "      <td>0.0</td>\n",
       "      <td>2018-12-31</td>\n",
       "      <td>1311</td>\n",
       "    </tr>\n",
       "    <tr>\n",
       "      <th>32876</th>\n",
       "      <td>1115_79</td>\n",
       "      <td>0.0</td>\n",
       "      <td>2018-12-31</td>\n",
       "      <td>1115</td>\n",
       "    </tr>\n",
       "    <tr>\n",
       "      <th>8909</th>\n",
       "      <td>1031_54</td>\n",
       "      <td>0.0</td>\n",
       "      <td>2018-12-31</td>\n",
       "      <td>1031</td>\n",
       "    </tr>\n",
       "    <tr>\n",
       "      <th>26879</th>\n",
       "      <td>1093_82</td>\n",
       "      <td>0.0</td>\n",
       "      <td>2018-12-31</td>\n",
       "      <td>1093</td>\n",
       "    </tr>\n",
       "    <tr>\n",
       "      <th>39842</th>\n",
       "      <td>1140_22</td>\n",
       "      <td>0.0</td>\n",
       "      <td>2018-12-31</td>\n",
       "      <td>1140</td>\n",
       "    </tr>\n",
       "  </tbody>\n",
       "</table>\n",
       "<p>19598 rows × 4 columns</p>\n",
       "</div>"
      ],
      "text/plain": [
       "             id  mb_used session_date  user_id\n",
       "57584  1193_123      0.0   2018-01-01     1193\n",
       "45314  1155_501      0.0   2018-01-02     1155\n",
       "57627  1193_166      0.0   2018-01-03     1193\n",
       "45232  1155_419      0.0   2018-01-04     1155\n",
       "60646  1204_731      0.0   2018-01-04     1204\n",
       "...         ...      ...          ...      ...\n",
       "91932   1311_42      0.0   2018-12-31     1311\n",
       "32876   1115_79      0.0   2018-12-31     1115\n",
       "8909    1031_54      0.0   2018-12-31     1031\n",
       "26879   1093_82      0.0   2018-12-31     1093\n",
       "39842   1140_22      0.0   2018-12-31     1140\n",
       "\n",
       "[19598 rows x 4 columns]"
      ]
     },
     "execution_count": 18,
     "metadata": {},
     "output_type": "execute_result"
    }
   ],
   "source": [
    "df_internet_null = df_internet.query('mb_used == 0')\n",
    "df_internet_null.sort_values('session_date')"
   ]
  },
  {
   "cell_type": "markdown",
   "metadata": {},
   "source": [
    "### Таблица tariffs (информация о тарифах):"
   ]
  },
  {
   "cell_type": "code",
   "execution_count": 19,
   "metadata": {},
   "outputs": [
    {
     "data": {
      "text/html": [
       "<div>\n",
       "<style scoped>\n",
       "    .dataframe tbody tr th:only-of-type {\n",
       "        vertical-align: middle;\n",
       "    }\n",
       "\n",
       "    .dataframe tbody tr th {\n",
       "        vertical-align: top;\n",
       "    }\n",
       "\n",
       "    .dataframe thead th {\n",
       "        text-align: right;\n",
       "    }\n",
       "</style>\n",
       "<table border=\"1\" class=\"dataframe\">\n",
       "  <thead>\n",
       "    <tr style=\"text-align: right;\">\n",
       "      <th></th>\n",
       "      <th>messages_included</th>\n",
       "      <th>mb_per_month_included</th>\n",
       "      <th>minutes_included</th>\n",
       "      <th>rub_monthly_fee</th>\n",
       "      <th>rub_per_gb</th>\n",
       "      <th>rub_per_message</th>\n",
       "      <th>rub_per_minute</th>\n",
       "      <th>tariff_name</th>\n",
       "    </tr>\n",
       "  </thead>\n",
       "  <tbody>\n",
       "    <tr>\n",
       "      <th>0</th>\n",
       "      <td>50</td>\n",
       "      <td>15360</td>\n",
       "      <td>500</td>\n",
       "      <td>550</td>\n",
       "      <td>200</td>\n",
       "      <td>3</td>\n",
       "      <td>3</td>\n",
       "      <td>smart</td>\n",
       "    </tr>\n",
       "    <tr>\n",
       "      <th>1</th>\n",
       "      <td>1000</td>\n",
       "      <td>30720</td>\n",
       "      <td>3000</td>\n",
       "      <td>1950</td>\n",
       "      <td>150</td>\n",
       "      <td>1</td>\n",
       "      <td>1</td>\n",
       "      <td>ultra</td>\n",
       "    </tr>\n",
       "  </tbody>\n",
       "</table>\n",
       "</div>"
      ],
      "text/plain": [
       "   messages_included  mb_per_month_included  minutes_included  \\\n",
       "0                 50                  15360               500   \n",
       "1               1000                  30720              3000   \n",
       "\n",
       "   rub_monthly_fee  rub_per_gb  rub_per_message  rub_per_minute tariff_name  \n",
       "0              550         200                3               3       smart  \n",
       "1             1950         150                1               1       ultra  "
      ]
     },
     "execution_count": 19,
     "metadata": {},
     "output_type": "execute_result"
    }
   ],
   "source": [
    "df_tariffs.head()"
   ]
  },
  {
   "cell_type": "code",
   "execution_count": 20,
   "metadata": {},
   "outputs": [
    {
     "name": "stdout",
     "output_type": "stream",
     "text": [
      "<class 'pandas.core.frame.DataFrame'>\n",
      "RangeIndex: 2 entries, 0 to 1\n",
      "Data columns (total 8 columns):\n",
      " #   Column                 Non-Null Count  Dtype \n",
      "---  ------                 --------------  ----- \n",
      " 0   messages_included      2 non-null      int64 \n",
      " 1   mb_per_month_included  2 non-null      int64 \n",
      " 2   minutes_included       2 non-null      int64 \n",
      " 3   rub_monthly_fee        2 non-null      int64 \n",
      " 4   rub_per_gb             2 non-null      int64 \n",
      " 5   rub_per_message        2 non-null      int64 \n",
      " 6   rub_per_minute         2 non-null      int64 \n",
      " 7   tariff_name            2 non-null      object\n",
      "dtypes: int64(7), object(1)\n",
      "memory usage: 256.0+ bytes\n"
     ]
    }
   ],
   "source": [
    "df_tariffs.info()"
   ]
  },
  {
   "cell_type": "code",
   "execution_count": 21,
   "metadata": {},
   "outputs": [
    {
     "data": {
      "text/plain": [
       "messages_included        0\n",
       "mb_per_month_included    0\n",
       "minutes_included         0\n",
       "rub_monthly_fee          0\n",
       "rub_per_gb               0\n",
       "rub_per_message          0\n",
       "rub_per_minute           0\n",
       "tariff_name              0\n",
       "dtype: int64"
      ]
     },
     "execution_count": 21,
     "metadata": {},
     "output_type": "execute_result"
    }
   ],
   "source": [
    "df_tariffs.isna().sum()"
   ]
  },
  {
   "cell_type": "markdown",
   "metadata": {},
   "source": [
    "Два тарифа в наличии"
   ]
  },
  {
   "cell_type": "markdown",
   "metadata": {},
   "source": [
    "## Шаг 2. Подготовьте данные"
   ]
  },
  {
   "cell_type": "markdown",
   "metadata": {},
   "source": [
    "### Звонки и минуты по месяцам"
   ]
  },
  {
   "cell_type": "code",
   "execution_count": 22,
   "metadata": {},
   "outputs": [
    {
     "data": {
      "text/html": [
       "<div>\n",
       "<style scoped>\n",
       "    .dataframe tbody tr th:only-of-type {\n",
       "        vertical-align: middle;\n",
       "    }\n",
       "\n",
       "    .dataframe tbody tr th {\n",
       "        vertical-align: top;\n",
       "    }\n",
       "\n",
       "    .dataframe thead th {\n",
       "        text-align: right;\n",
       "    }\n",
       "</style>\n",
       "<table border=\"1\" class=\"dataframe\">\n",
       "  <thead>\n",
       "    <tr style=\"text-align: right;\">\n",
       "      <th></th>\n",
       "      <th></th>\n",
       "      <th>duration</th>\n",
       "      <th>calls_qty</th>\n",
       "    </tr>\n",
       "    <tr>\n",
       "      <th>user_id</th>\n",
       "      <th>month</th>\n",
       "      <th></th>\n",
       "      <th></th>\n",
       "    </tr>\n",
       "  </thead>\n",
       "  <tbody>\n",
       "    <tr>\n",
       "      <th rowspan=\"5\" valign=\"top\">1000</th>\n",
       "      <th>5</th>\n",
       "      <td>159</td>\n",
       "      <td>22</td>\n",
       "    </tr>\n",
       "    <tr>\n",
       "      <th>6</th>\n",
       "      <td>172</td>\n",
       "      <td>43</td>\n",
       "    </tr>\n",
       "    <tr>\n",
       "      <th>7</th>\n",
       "      <td>340</td>\n",
       "      <td>47</td>\n",
       "    </tr>\n",
       "    <tr>\n",
       "      <th>8</th>\n",
       "      <td>408</td>\n",
       "      <td>52</td>\n",
       "    </tr>\n",
       "    <tr>\n",
       "      <th>9</th>\n",
       "      <td>466</td>\n",
       "      <td>58</td>\n",
       "    </tr>\n",
       "  </tbody>\n",
       "</table>\n",
       "</div>"
      ],
      "text/plain": [
       "               duration  calls_qty\n",
       "user_id month                     \n",
       "1000    5           159         22\n",
       "        6           172         43\n",
       "        7           340         47\n",
       "        8           408         52\n",
       "        9           466         58"
      ]
     },
     "execution_count": 22,
     "metadata": {},
     "output_type": "execute_result"
    }
   ],
   "source": [
    "df_calls['month'] = pd.DatetimeIndex(df_calls['call_date']).month \n",
    "df_calls_qty = df_calls.groupby(['user_id','month']).agg({'duration':'sum', 'id':'count'}).rename(columns={'id':'calls_qty'})\n",
    "df_calls_qty.head(5)"
   ]
  },
  {
   "cell_type": "code",
   "execution_count": 23,
   "metadata": {},
   "outputs": [],
   "source": [
    "#df_calls_qty = df_calls.groupby(['user_id','month']).agg({'duration':'count'})\n",
    "#df_calls_qty.head(5) \n",
    "#это чтобы проверить, что по 'id' корректно считается количество"
   ]
  },
  {
   "cell_type": "markdown",
   "metadata": {},
   "source": [
    "### Сообщения"
   ]
  },
  {
   "cell_type": "code",
   "execution_count": 24,
   "metadata": {},
   "outputs": [
    {
     "data": {
      "text/html": [
       "<div>\n",
       "<style scoped>\n",
       "    .dataframe tbody tr th:only-of-type {\n",
       "        vertical-align: middle;\n",
       "    }\n",
       "\n",
       "    .dataframe tbody tr th {\n",
       "        vertical-align: top;\n",
       "    }\n",
       "\n",
       "    .dataframe thead th {\n",
       "        text-align: right;\n",
       "    }\n",
       "</style>\n",
       "<table border=\"1\" class=\"dataframe\">\n",
       "  <thead>\n",
       "    <tr style=\"text-align: right;\">\n",
       "      <th></th>\n",
       "      <th></th>\n",
       "      <th>messages_qty</th>\n",
       "    </tr>\n",
       "    <tr>\n",
       "      <th>user_id</th>\n",
       "      <th>month</th>\n",
       "      <th></th>\n",
       "    </tr>\n",
       "  </thead>\n",
       "  <tbody>\n",
       "    <tr>\n",
       "      <th rowspan=\"5\" valign=\"top\">1000</th>\n",
       "      <th>5</th>\n",
       "      <td>22</td>\n",
       "    </tr>\n",
       "    <tr>\n",
       "      <th>6</th>\n",
       "      <td>60</td>\n",
       "    </tr>\n",
       "    <tr>\n",
       "      <th>7</th>\n",
       "      <td>75</td>\n",
       "    </tr>\n",
       "    <tr>\n",
       "      <th>8</th>\n",
       "      <td>81</td>\n",
       "    </tr>\n",
       "    <tr>\n",
       "      <th>9</th>\n",
       "      <td>57</td>\n",
       "    </tr>\n",
       "  </tbody>\n",
       "</table>\n",
       "</div>"
      ],
      "text/plain": [
       "               messages_qty\n",
       "user_id month              \n",
       "1000    5                22\n",
       "        6                60\n",
       "        7                75\n",
       "        8                81\n",
       "        9                57"
      ]
     },
     "execution_count": 24,
     "metadata": {},
     "output_type": "execute_result"
    }
   ],
   "source": [
    "df_messages['month'] = pd.DatetimeIndex(df_messages['message_date']).month \n",
    "df_messages_qty = df_messages.groupby(['user_id','month']).agg({'id':'count'}).rename(columns={'id':'messages_qty'})\n",
    "#groupby(['col1', 'col2']).agg(['mean', 'count']) \n",
    "#df_messages_qty = df_messages.groupby(['user_id','month']).agg('count')\n",
    "df_messages_qty.head(5)"
   ]
  },
  {
   "cell_type": "markdown",
   "metadata": {},
   "source": [
    "### Интернет по месяцам"
   ]
  },
  {
   "cell_type": "code",
   "execution_count": 25,
   "metadata": {},
   "outputs": [
    {
     "data": {
      "text/html": [
       "<div>\n",
       "<style scoped>\n",
       "    .dataframe tbody tr th:only-of-type {\n",
       "        vertical-align: middle;\n",
       "    }\n",
       "\n",
       "    .dataframe tbody tr th {\n",
       "        vertical-align: top;\n",
       "    }\n",
       "\n",
       "    .dataframe thead th {\n",
       "        text-align: right;\n",
       "    }\n",
       "</style>\n",
       "<table border=\"1\" class=\"dataframe\">\n",
       "  <thead>\n",
       "    <tr style=\"text-align: right;\">\n",
       "      <th></th>\n",
       "      <th></th>\n",
       "      <th>mb_used</th>\n",
       "    </tr>\n",
       "    <tr>\n",
       "      <th>user_id</th>\n",
       "      <th>month</th>\n",
       "      <th></th>\n",
       "    </tr>\n",
       "  </thead>\n",
       "  <tbody>\n",
       "    <tr>\n",
       "      <th rowspan=\"5\" valign=\"top\">1000</th>\n",
       "      <th>5</th>\n",
       "      <td>2253.49</td>\n",
       "    </tr>\n",
       "    <tr>\n",
       "      <th>6</th>\n",
       "      <td>23233.77</td>\n",
       "    </tr>\n",
       "    <tr>\n",
       "      <th>7</th>\n",
       "      <td>14003.64</td>\n",
       "    </tr>\n",
       "    <tr>\n",
       "      <th>8</th>\n",
       "      <td>14055.93</td>\n",
       "    </tr>\n",
       "    <tr>\n",
       "      <th>9</th>\n",
       "      <td>14568.91</td>\n",
       "    </tr>\n",
       "  </tbody>\n",
       "</table>\n",
       "</div>"
      ],
      "text/plain": [
       "                mb_used\n",
       "user_id month          \n",
       "1000    5       2253.49\n",
       "        6      23233.77\n",
       "        7      14003.64\n",
       "        8      14055.93\n",
       "        9      14568.91"
      ]
     },
     "execution_count": 25,
     "metadata": {},
     "output_type": "execute_result"
    }
   ],
   "source": [
    "df_internet['month'] = pd.DatetimeIndex(df_internet['session_date']).month \n",
    "internet_pivot = df_internet.pivot_table(index=['user_id','month'], values='mb_used', aggfunc='sum')\n",
    "internet_pivot.head()"
   ]
  },
  {
   "cell_type": "code",
   "execution_count": 26,
   "metadata": {},
   "outputs": [
    {
     "data": {
      "text/html": [
       "<div>\n",
       "<style scoped>\n",
       "    .dataframe tbody tr th:only-of-type {\n",
       "        vertical-align: middle;\n",
       "    }\n",
       "\n",
       "    .dataframe tbody tr th {\n",
       "        vertical-align: top;\n",
       "    }\n",
       "\n",
       "    .dataframe thead th {\n",
       "        text-align: right;\n",
       "    }\n",
       "</style>\n",
       "<table border=\"1\" class=\"dataframe\">\n",
       "  <thead>\n",
       "    <tr style=\"text-align: right;\">\n",
       "      <th></th>\n",
       "      <th></th>\n",
       "      <th>mb_used</th>\n",
       "      <th>gb_used</th>\n",
       "    </tr>\n",
       "    <tr>\n",
       "      <th>user_id</th>\n",
       "      <th>month</th>\n",
       "      <th></th>\n",
       "      <th></th>\n",
       "    </tr>\n",
       "  </thead>\n",
       "  <tbody>\n",
       "    <tr>\n",
       "      <th rowspan=\"5\" valign=\"top\">1000</th>\n",
       "      <th>5</th>\n",
       "      <td>2253.49</td>\n",
       "      <td>3</td>\n",
       "    </tr>\n",
       "    <tr>\n",
       "      <th>6</th>\n",
       "      <td>23233.77</td>\n",
       "      <td>24</td>\n",
       "    </tr>\n",
       "    <tr>\n",
       "      <th>7</th>\n",
       "      <td>14003.64</td>\n",
       "      <td>15</td>\n",
       "    </tr>\n",
       "    <tr>\n",
       "      <th>8</th>\n",
       "      <td>14055.93</td>\n",
       "      <td>15</td>\n",
       "    </tr>\n",
       "    <tr>\n",
       "      <th>9</th>\n",
       "      <td>14568.91</td>\n",
       "      <td>15</td>\n",
       "    </tr>\n",
       "  </tbody>\n",
       "</table>\n",
       "</div>"
      ],
      "text/plain": [
       "                mb_used  gb_used\n",
       "user_id month                   \n",
       "1000    5       2253.49        3\n",
       "        6      23233.77       24\n",
       "        7      14003.64       15\n",
       "        8      14055.93       15\n",
       "        9      14568.91       15"
      ]
     },
     "execution_count": 26,
     "metadata": {},
     "output_type": "execute_result"
    }
   ],
   "source": [
    "internet_pivot['gb_used'] =  (internet_pivot['mb_used']/1000).apply(np.ceil).apply(int)\n",
    "internet_pivot.head()"
   ]
  },
  {
   "cell_type": "markdown",
   "metadata": {},
   "source": [
    "### Объединение таблиц"
   ]
  },
  {
   "cell_type": "code",
   "execution_count": 27,
   "metadata": {},
   "outputs": [
    {
     "data": {
      "text/html": [
       "<div>\n",
       "<style scoped>\n",
       "    .dataframe tbody tr th:only-of-type {\n",
       "        vertical-align: middle;\n",
       "    }\n",
       "\n",
       "    .dataframe tbody tr th {\n",
       "        vertical-align: top;\n",
       "    }\n",
       "\n",
       "    .dataframe thead th {\n",
       "        text-align: right;\n",
       "    }\n",
       "</style>\n",
       "<table border=\"1\" class=\"dataframe\">\n",
       "  <thead>\n",
       "    <tr style=\"text-align: right;\">\n",
       "      <th></th>\n",
       "      <th></th>\n",
       "      <th>duration</th>\n",
       "      <th>calls_qty</th>\n",
       "      <th>messages_qty</th>\n",
       "    </tr>\n",
       "    <tr>\n",
       "      <th>user_id</th>\n",
       "      <th>month</th>\n",
       "      <th></th>\n",
       "      <th></th>\n",
       "      <th></th>\n",
       "    </tr>\n",
       "  </thead>\n",
       "  <tbody>\n",
       "    <tr>\n",
       "      <th rowspan=\"5\" valign=\"top\">1000</th>\n",
       "      <th>5</th>\n",
       "      <td>159.0</td>\n",
       "      <td>22.0</td>\n",
       "      <td>22.0</td>\n",
       "    </tr>\n",
       "    <tr>\n",
       "      <th>6</th>\n",
       "      <td>172.0</td>\n",
       "      <td>43.0</td>\n",
       "      <td>60.0</td>\n",
       "    </tr>\n",
       "    <tr>\n",
       "      <th>7</th>\n",
       "      <td>340.0</td>\n",
       "      <td>47.0</td>\n",
       "      <td>75.0</td>\n",
       "    </tr>\n",
       "    <tr>\n",
       "      <th>8</th>\n",
       "      <td>408.0</td>\n",
       "      <td>52.0</td>\n",
       "      <td>81.0</td>\n",
       "    </tr>\n",
       "    <tr>\n",
       "      <th>9</th>\n",
       "      <td>466.0</td>\n",
       "      <td>58.0</td>\n",
       "      <td>57.0</td>\n",
       "    </tr>\n",
       "  </tbody>\n",
       "</table>\n",
       "</div>"
      ],
      "text/plain": [
       "               duration  calls_qty  messages_qty\n",
       "user_id month                                   \n",
       "1000    5         159.0       22.0          22.0\n",
       "        6         172.0       43.0          60.0\n",
       "        7         340.0       47.0          75.0\n",
       "        8         408.0       52.0          81.0\n",
       "        9         466.0       58.0          57.0"
      ]
     },
     "execution_count": 27,
     "metadata": {},
     "output_type": "execute_result"
    }
   ],
   "source": [
    "df_calls_messages = pd.merge(df_calls_qty, df_messages_qty, on=['user_id', 'month'], how='outer')\n",
    "df_calls_messages.head()"
   ]
  },
  {
   "cell_type": "code",
   "execution_count": 28,
   "metadata": {},
   "outputs": [],
   "source": [
    "#df_calls_messages_internet = pd.merge(df_calls_messages, internet_pivot, on=['user_id', 'month'])\n",
    "#df_calls_messages_internet.head()"
   ]
  },
  {
   "cell_type": "code",
   "execution_count": 29,
   "metadata": {},
   "outputs": [
    {
     "data": {
      "text/html": [
       "<div>\n",
       "<style scoped>\n",
       "    .dataframe tbody tr th:only-of-type {\n",
       "        vertical-align: middle;\n",
       "    }\n",
       "\n",
       "    .dataframe tbody tr th {\n",
       "        vertical-align: top;\n",
       "    }\n",
       "\n",
       "    .dataframe thead th {\n",
       "        text-align: right;\n",
       "    }\n",
       "</style>\n",
       "<table border=\"1\" class=\"dataframe\">\n",
       "  <thead>\n",
       "    <tr style=\"text-align: right;\">\n",
       "      <th></th>\n",
       "      <th></th>\n",
       "      <th>duration</th>\n",
       "      <th>calls_qty</th>\n",
       "      <th>messages_qty</th>\n",
       "      <th>mb_used</th>\n",
       "      <th>gb_used</th>\n",
       "    </tr>\n",
       "    <tr>\n",
       "      <th>user_id</th>\n",
       "      <th>month</th>\n",
       "      <th></th>\n",
       "      <th></th>\n",
       "      <th></th>\n",
       "      <th></th>\n",
       "      <th></th>\n",
       "    </tr>\n",
       "  </thead>\n",
       "  <tbody>\n",
       "    <tr>\n",
       "      <th rowspan=\"5\" valign=\"top\">1000</th>\n",
       "      <th>5</th>\n",
       "      <td>159.0</td>\n",
       "      <td>22.0</td>\n",
       "      <td>22.0</td>\n",
       "      <td>2253.49</td>\n",
       "      <td>3.0</td>\n",
       "    </tr>\n",
       "    <tr>\n",
       "      <th>6</th>\n",
       "      <td>172.0</td>\n",
       "      <td>43.0</td>\n",
       "      <td>60.0</td>\n",
       "      <td>23233.77</td>\n",
       "      <td>24.0</td>\n",
       "    </tr>\n",
       "    <tr>\n",
       "      <th>7</th>\n",
       "      <td>340.0</td>\n",
       "      <td>47.0</td>\n",
       "      <td>75.0</td>\n",
       "      <td>14003.64</td>\n",
       "      <td>15.0</td>\n",
       "    </tr>\n",
       "    <tr>\n",
       "      <th>8</th>\n",
       "      <td>408.0</td>\n",
       "      <td>52.0</td>\n",
       "      <td>81.0</td>\n",
       "      <td>14055.93</td>\n",
       "      <td>15.0</td>\n",
       "    </tr>\n",
       "    <tr>\n",
       "      <th>9</th>\n",
       "      <td>466.0</td>\n",
       "      <td>58.0</td>\n",
       "      <td>57.0</td>\n",
       "      <td>14568.91</td>\n",
       "      <td>15.0</td>\n",
       "    </tr>\n",
       "  </tbody>\n",
       "</table>\n",
       "</div>"
      ],
      "text/plain": [
       "               duration  calls_qty  messages_qty   mb_used  gb_used\n",
       "user_id month                                                      \n",
       "1000    5         159.0       22.0          22.0   2253.49      3.0\n",
       "        6         172.0       43.0          60.0  23233.77     24.0\n",
       "        7         340.0       47.0          75.0  14003.64     15.0\n",
       "        8         408.0       52.0          81.0  14055.93     15.0\n",
       "        9         466.0       58.0          57.0  14568.91     15.0"
      ]
     },
     "execution_count": 29,
     "metadata": {},
     "output_type": "execute_result"
    }
   ],
   "source": [
    "df_calls_messages_internet = pd.merge(df_calls_messages, internet_pivot, on=['user_id', 'month'], how='outer')\n",
    "df_calls_messages_internet.head()"
   ]
  },
  {
   "cell_type": "code",
   "execution_count": 30,
   "metadata": {},
   "outputs": [
    {
     "name": "stdout",
     "output_type": "stream",
     "text": [
      "<class 'pandas.core.frame.DataFrame'>\n",
      "MultiIndex: 3214 entries, (1000, 5) to (1476, 4)\n",
      "Data columns (total 5 columns):\n",
      " #   Column        Non-Null Count  Dtype  \n",
      "---  ------        --------------  -----  \n",
      " 0   duration      3174 non-null   float64\n",
      " 1   calls_qty     3174 non-null   float64\n",
      " 2   messages_qty  2717 non-null   float64\n",
      " 3   mb_used       3203 non-null   float64\n",
      " 4   gb_used       3203 non-null   float64\n",
      "dtypes: float64(5)\n",
      "memory usage: 155.5 KB\n"
     ]
    }
   ],
   "source": [
    "df_calls_messages_internet.info()"
   ]
  },
  {
   "cell_type": "code",
   "execution_count": 31,
   "metadata": {},
   "outputs": [
    {
     "data": {
      "text/html": [
       "<div>\n",
       "<style scoped>\n",
       "    .dataframe tbody tr th:only-of-type {\n",
       "        vertical-align: middle;\n",
       "    }\n",
       "\n",
       "    .dataframe tbody tr th {\n",
       "        vertical-align: top;\n",
       "    }\n",
       "\n",
       "    .dataframe thead th {\n",
       "        text-align: right;\n",
       "    }\n",
       "</style>\n",
       "<table border=\"1\" class=\"dataframe\">\n",
       "  <thead>\n",
       "    <tr style=\"text-align: right;\">\n",
       "      <th></th>\n",
       "      <th>user_id</th>\n",
       "      <th>month</th>\n",
       "      <th>duration</th>\n",
       "      <th>calls_qty</th>\n",
       "      <th>messages_qty</th>\n",
       "      <th>mb_used</th>\n",
       "      <th>gb_used</th>\n",
       "    </tr>\n",
       "  </thead>\n",
       "  <tbody>\n",
       "    <tr>\n",
       "      <th>0</th>\n",
       "      <td>1000</td>\n",
       "      <td>5</td>\n",
       "      <td>159.0</td>\n",
       "      <td>22.0</td>\n",
       "      <td>22.0</td>\n",
       "      <td>2253.49</td>\n",
       "      <td>3.0</td>\n",
       "    </tr>\n",
       "    <tr>\n",
       "      <th>1</th>\n",
       "      <td>1000</td>\n",
       "      <td>6</td>\n",
       "      <td>172.0</td>\n",
       "      <td>43.0</td>\n",
       "      <td>60.0</td>\n",
       "      <td>23233.77</td>\n",
       "      <td>24.0</td>\n",
       "    </tr>\n",
       "    <tr>\n",
       "      <th>2</th>\n",
       "      <td>1000</td>\n",
       "      <td>7</td>\n",
       "      <td>340.0</td>\n",
       "      <td>47.0</td>\n",
       "      <td>75.0</td>\n",
       "      <td>14003.64</td>\n",
       "      <td>15.0</td>\n",
       "    </tr>\n",
       "    <tr>\n",
       "      <th>3</th>\n",
       "      <td>1000</td>\n",
       "      <td>8</td>\n",
       "      <td>408.0</td>\n",
       "      <td>52.0</td>\n",
       "      <td>81.0</td>\n",
       "      <td>14055.93</td>\n",
       "      <td>15.0</td>\n",
       "    </tr>\n",
       "    <tr>\n",
       "      <th>4</th>\n",
       "      <td>1000</td>\n",
       "      <td>9</td>\n",
       "      <td>466.0</td>\n",
       "      <td>58.0</td>\n",
       "      <td>57.0</td>\n",
       "      <td>14568.91</td>\n",
       "      <td>15.0</td>\n",
       "    </tr>\n",
       "  </tbody>\n",
       "</table>\n",
       "</div>"
      ],
      "text/plain": [
       "   user_id  month  duration  calls_qty  messages_qty   mb_used  gb_used\n",
       "0     1000      5     159.0       22.0          22.0   2253.49      3.0\n",
       "1     1000      6     172.0       43.0          60.0  23233.77     24.0\n",
       "2     1000      7     340.0       47.0          75.0  14003.64     15.0\n",
       "3     1000      8     408.0       52.0          81.0  14055.93     15.0\n",
       "4     1000      9     466.0       58.0          57.0  14568.91     15.0"
      ]
     },
     "execution_count": 31,
     "metadata": {},
     "output_type": "execute_result"
    }
   ],
   "source": [
    "df_calls_messages_internet = df_calls_messages_internet.reset_index()\n",
    "#df_calls_messages_internet_tariffs = pd.merge(df_calls_messages_internet, df_users_tariffs, on=['user_id'], how=\"left\")\n",
    "df_calls_messages_internet.head()"
   ]
  },
  {
   "cell_type": "code",
   "execution_count": 32,
   "metadata": {},
   "outputs": [
    {
     "data": {
      "text/html": [
       "<div>\n",
       "<style scoped>\n",
       "    .dataframe tbody tr th:only-of-type {\n",
       "        vertical-align: middle;\n",
       "    }\n",
       "\n",
       "    .dataframe tbody tr th {\n",
       "        vertical-align: top;\n",
       "    }\n",
       "\n",
       "    .dataframe thead th {\n",
       "        text-align: right;\n",
       "    }\n",
       "</style>\n",
       "<table border=\"1\" class=\"dataframe\">\n",
       "  <thead>\n",
       "    <tr style=\"text-align: right;\">\n",
       "      <th></th>\n",
       "      <th>user_id</th>\n",
       "      <th>month</th>\n",
       "      <th>duration</th>\n",
       "      <th>calls_qty</th>\n",
       "      <th>messages_qty</th>\n",
       "      <th>mb_used</th>\n",
       "      <th>gb_used</th>\n",
       "      <th>tariff</th>\n",
       "      <th>city</th>\n",
       "    </tr>\n",
       "  </thead>\n",
       "  <tbody>\n",
       "    <tr>\n",
       "      <th>0</th>\n",
       "      <td>1000</td>\n",
       "      <td>5.0</td>\n",
       "      <td>159.0</td>\n",
       "      <td>22.0</td>\n",
       "      <td>22.0</td>\n",
       "      <td>2253.49</td>\n",
       "      <td>3.0</td>\n",
       "      <td>ultra</td>\n",
       "      <td>Краснодар</td>\n",
       "    </tr>\n",
       "    <tr>\n",
       "      <th>1</th>\n",
       "      <td>1000</td>\n",
       "      <td>6.0</td>\n",
       "      <td>172.0</td>\n",
       "      <td>43.0</td>\n",
       "      <td>60.0</td>\n",
       "      <td>23233.77</td>\n",
       "      <td>24.0</td>\n",
       "      <td>ultra</td>\n",
       "      <td>Краснодар</td>\n",
       "    </tr>\n",
       "    <tr>\n",
       "      <th>2</th>\n",
       "      <td>1000</td>\n",
       "      <td>7.0</td>\n",
       "      <td>340.0</td>\n",
       "      <td>47.0</td>\n",
       "      <td>75.0</td>\n",
       "      <td>14003.64</td>\n",
       "      <td>15.0</td>\n",
       "      <td>ultra</td>\n",
       "      <td>Краснодар</td>\n",
       "    </tr>\n",
       "    <tr>\n",
       "      <th>3</th>\n",
       "      <td>1000</td>\n",
       "      <td>8.0</td>\n",
       "      <td>408.0</td>\n",
       "      <td>52.0</td>\n",
       "      <td>81.0</td>\n",
       "      <td>14055.93</td>\n",
       "      <td>15.0</td>\n",
       "      <td>ultra</td>\n",
       "      <td>Краснодар</td>\n",
       "    </tr>\n",
       "    <tr>\n",
       "      <th>4</th>\n",
       "      <td>1000</td>\n",
       "      <td>9.0</td>\n",
       "      <td>466.0</td>\n",
       "      <td>58.0</td>\n",
       "      <td>57.0</td>\n",
       "      <td>14568.91</td>\n",
       "      <td>15.0</td>\n",
       "      <td>ultra</td>\n",
       "      <td>Краснодар</td>\n",
       "    </tr>\n",
       "  </tbody>\n",
       "</table>\n",
       "</div>"
      ],
      "text/plain": [
       "   user_id  month  duration  calls_qty  messages_qty   mb_used  gb_used  \\\n",
       "0     1000    5.0     159.0       22.0          22.0   2253.49      3.0   \n",
       "1     1000    6.0     172.0       43.0          60.0  23233.77     24.0   \n",
       "2     1000    7.0     340.0       47.0          75.0  14003.64     15.0   \n",
       "3     1000    8.0     408.0       52.0          81.0  14055.93     15.0   \n",
       "4     1000    9.0     466.0       58.0          57.0  14568.91     15.0   \n",
       "\n",
       "  tariff       city  \n",
       "0  ultra  Краснодар  \n",
       "1  ultra  Краснодар  \n",
       "2  ultra  Краснодар  \n",
       "3  ultra  Краснодар  \n",
       "4  ultra  Краснодар  "
      ]
     },
     "execution_count": 32,
     "metadata": {},
     "output_type": "execute_result"
    }
   ],
   "source": [
    "\n",
    "df_calls_messages_internet_tariffs = pd.merge(df_calls_messages_internet, df_users_tariffs, on=['user_id'], how='outer')\n",
    "df_calls_messages_internet_tariffs.head()"
   ]
  },
  {
   "cell_type": "code",
   "execution_count": 33,
   "metadata": {},
   "outputs": [
    {
     "data": {
      "text/html": [
       "<div>\n",
       "<style scoped>\n",
       "    .dataframe tbody tr th:only-of-type {\n",
       "        vertical-align: middle;\n",
       "    }\n",
       "\n",
       "    .dataframe tbody tr th {\n",
       "        vertical-align: top;\n",
       "    }\n",
       "\n",
       "    .dataframe thead th {\n",
       "        text-align: right;\n",
       "    }\n",
       "</style>\n",
       "<table border=\"1\" class=\"dataframe\">\n",
       "  <thead>\n",
       "    <tr style=\"text-align: right;\">\n",
       "      <th></th>\n",
       "      <th>user_id</th>\n",
       "      <th>month</th>\n",
       "      <th>duration</th>\n",
       "      <th>calls_qty</th>\n",
       "      <th>messages_qty</th>\n",
       "      <th>mb_used</th>\n",
       "      <th>gb_used</th>\n",
       "      <th>tariff</th>\n",
       "      <th>city</th>\n",
       "      <th>profit</th>\n",
       "    </tr>\n",
       "  </thead>\n",
       "  <tbody>\n",
       "    <tr>\n",
       "      <th>0</th>\n",
       "      <td>1000</td>\n",
       "      <td>5.0</td>\n",
       "      <td>159.0</td>\n",
       "      <td>22.0</td>\n",
       "      <td>22.0</td>\n",
       "      <td>2253.49</td>\n",
       "      <td>3.0</td>\n",
       "      <td>ultra</td>\n",
       "      <td>Краснодар</td>\n",
       "      <td>1950.0</td>\n",
       "    </tr>\n",
       "    <tr>\n",
       "      <th>1</th>\n",
       "      <td>1000</td>\n",
       "      <td>6.0</td>\n",
       "      <td>172.0</td>\n",
       "      <td>43.0</td>\n",
       "      <td>60.0</td>\n",
       "      <td>23233.77</td>\n",
       "      <td>24.0</td>\n",
       "      <td>ultra</td>\n",
       "      <td>Краснодар</td>\n",
       "      <td>1950.0</td>\n",
       "    </tr>\n",
       "    <tr>\n",
       "      <th>2</th>\n",
       "      <td>1000</td>\n",
       "      <td>7.0</td>\n",
       "      <td>340.0</td>\n",
       "      <td>47.0</td>\n",
       "      <td>75.0</td>\n",
       "      <td>14003.64</td>\n",
       "      <td>15.0</td>\n",
       "      <td>ultra</td>\n",
       "      <td>Краснодар</td>\n",
       "      <td>1950.0</td>\n",
       "    </tr>\n",
       "    <tr>\n",
       "      <th>3</th>\n",
       "      <td>1000</td>\n",
       "      <td>8.0</td>\n",
       "      <td>408.0</td>\n",
       "      <td>52.0</td>\n",
       "      <td>81.0</td>\n",
       "      <td>14055.93</td>\n",
       "      <td>15.0</td>\n",
       "      <td>ultra</td>\n",
       "      <td>Краснодар</td>\n",
       "      <td>1950.0</td>\n",
       "    </tr>\n",
       "    <tr>\n",
       "      <th>4</th>\n",
       "      <td>1000</td>\n",
       "      <td>9.0</td>\n",
       "      <td>466.0</td>\n",
       "      <td>58.0</td>\n",
       "      <td>57.0</td>\n",
       "      <td>14568.91</td>\n",
       "      <td>15.0</td>\n",
       "      <td>ultra</td>\n",
       "      <td>Краснодар</td>\n",
       "      <td>1950.0</td>\n",
       "    </tr>\n",
       "  </tbody>\n",
       "</table>\n",
       "</div>"
      ],
      "text/plain": [
       "   user_id  month  duration  calls_qty  messages_qty   mb_used  gb_used  \\\n",
       "0     1000    5.0     159.0       22.0          22.0   2253.49      3.0   \n",
       "1     1000    6.0     172.0       43.0          60.0  23233.77     24.0   \n",
       "2     1000    7.0     340.0       47.0          75.0  14003.64     15.0   \n",
       "3     1000    8.0     408.0       52.0          81.0  14055.93     15.0   \n",
       "4     1000    9.0     466.0       58.0          57.0  14568.91     15.0   \n",
       "\n",
       "  tariff       city  profit  \n",
       "0  ultra  Краснодар  1950.0  \n",
       "1  ultra  Краснодар  1950.0  \n",
       "2  ultra  Краснодар  1950.0  \n",
       "3  ultra  Краснодар  1950.0  \n",
       "4  ultra  Краснодар  1950.0  "
      ]
     },
     "execution_count": 33,
     "metadata": {},
     "output_type": "execute_result"
    }
   ],
   "source": [
    "def get_profit(row):\n",
    "    if row['tariff'] == 'smart':\n",
    "        if row['duration'] > 500:\n",
    "            calls_extra = (row['duration'] - 500) * 3\n",
    "        else:\n",
    "            calls_extra = 0\n",
    "            \n",
    "        if row['messages_qty'] > 50:\n",
    "            messages_extra = (row['messages_qty'] - 50) * 3\n",
    "        else:\n",
    "            messages_extra = 0\n",
    "        \n",
    "        if row['gb_used'] > + 15:\n",
    "            gb_extra = (row['gb_used'] - 15) * 200\n",
    "        else:\n",
    "            gb_extra = 0\n",
    "        \n",
    "        smart_user_extra = 550 + calls_extra + messages_extra + gb_extra\n",
    "        \n",
    "        return smart_user_extra\n",
    "    \n",
    "    else:\n",
    "        if row['tariff'] == 'ultra':\n",
    "            if row['duration'] > 3000:\n",
    "                calls_extra = (row['duration'] - 3000) * 3\n",
    "            else:\n",
    "                calls_extra = 0\n",
    "            if row['messages_qty'] > 1000:\n",
    "                messages_extra = (row['messages_qty'] - 1000) * 3\n",
    "            else:\n",
    "                messages_extra = 0\n",
    "            if row['gb_used'] > 30:\n",
    "                gb_extra = (row['gb_used'] - 30) * 200\n",
    "            else:\n",
    "                gb_extra = 0\n",
    "            ultra_user_extra = 1950 + calls_extra + messages_extra + gb_extra\n",
    "            return ultra_user_extra\n",
    "        #else:\n",
    "            #return \"no data\"\n",
    "    \n",
    "df_calls_messages_internet_tariffs['profit'] = df_calls_messages_internet_tariffs.apply(get_profit, axis = 1)\n",
    "data = df_calls_messages_internet_tariffs\n",
    "data.head(5)"
   ]
  },
  {
   "cell_type": "code",
   "execution_count": 34,
   "metadata": {},
   "outputs": [],
   "source": [
    "#data[['month', 'duration', 'calls_qty', 'messages_qty', 'mb_used', 'gb_used', 'profit']] = data[['month', 'duration', 'calls_qty', 'messages_qty', 'mb_used', 'gb_used', 'profit']].apply(pd.to_numeric)\n",
    "#data.info()"
   ]
  },
  {
   "cell_type": "code",
   "execution_count": 35,
   "metadata": {},
   "outputs": [],
   "source": [
    "#data['month'] = data['month'].apply(int)\n",
    "#data.info()"
   ]
  },
  {
   "cell_type": "code",
   "execution_count": 36,
   "metadata": {},
   "outputs": [
    {
     "data": {
      "text/html": [
       "<div>\n",
       "<style scoped>\n",
       "    .dataframe tbody tr th:only-of-type {\n",
       "        vertical-align: middle;\n",
       "    }\n",
       "\n",
       "    .dataframe tbody tr th {\n",
       "        vertical-align: top;\n",
       "    }\n",
       "\n",
       "    .dataframe thead th {\n",
       "        text-align: right;\n",
       "    }\n",
       "</style>\n",
       "<table border=\"1\" class=\"dataframe\">\n",
       "  <thead>\n",
       "    <tr style=\"text-align: right;\">\n",
       "      <th></th>\n",
       "      <th>user_id</th>\n",
       "      <th>month</th>\n",
       "      <th>duration</th>\n",
       "      <th>calls_qty</th>\n",
       "      <th>messages_qty</th>\n",
       "      <th>mb_used</th>\n",
       "      <th>gb_used</th>\n",
       "      <th>tariff</th>\n",
       "      <th>city</th>\n",
       "      <th>profit</th>\n",
       "    </tr>\n",
       "  </thead>\n",
       "  <tbody>\n",
       "    <tr>\n",
       "      <th>584</th>\n",
       "      <td>1094</td>\n",
       "      <td>5.0</td>\n",
       "      <td>107.0</td>\n",
       "      <td>16.0</td>\n",
       "      <td>3.0</td>\n",
       "      <td>0.0</td>\n",
       "      <td>0.0</td>\n",
       "      <td>ultra</td>\n",
       "      <td>Новосибирск</td>\n",
       "      <td>1950.0</td>\n",
       "    </tr>\n",
       "    <tr>\n",
       "      <th>2278</th>\n",
       "      <td>1365</td>\n",
       "      <td>10.0</td>\n",
       "      <td>43.0</td>\n",
       "      <td>5.0</td>\n",
       "      <td>1.0</td>\n",
       "      <td>0.0</td>\n",
       "      <td>0.0</td>\n",
       "      <td>smart</td>\n",
       "      <td>Ростов-на-Дону</td>\n",
       "      <td>550.0</td>\n",
       "    </tr>\n",
       "  </tbody>\n",
       "</table>\n",
       "</div>"
      ],
      "text/plain": [
       "      user_id  month  duration  calls_qty  messages_qty  mb_used  gb_used  \\\n",
       "584      1094    5.0     107.0       16.0           3.0      0.0      0.0   \n",
       "2278     1365   10.0      43.0        5.0           1.0      0.0      0.0   \n",
       "\n",
       "     tariff            city  profit  \n",
       "584   ultra     Новосибирск  1950.0  \n",
       "2278  smart  Ростов-на-Дону   550.0  "
      ]
     },
     "execution_count": 36,
     "metadata": {},
     "output_type": "execute_result"
    }
   ],
   "source": [
    "data_null = data.query('gb_used == 0')\n",
    "data_null"
   ]
  },
  {
   "cell_type": "markdown",
   "metadata": {},
   "source": [
    "## Шаг 3. Проанализируйте данные"
   ]
  },
  {
   "cell_type": "markdown",
   "metadata": {},
   "source": [
    "Задание: Опишите поведение клиентов оператора, исходя из выборки. Сколько минут разговора, сколько сообщений и какой объём интернет-трафика требуется пользователям каждого тарифа в месяц? Посчитайте среднее количество, дисперсию и стандартное отклонение. Постройте гистограммы. Опишите распределения."
   ]
  },
  {
   "cell_type": "markdown",
   "metadata": {},
   "source": [
    "### Суммарное количество длительности, сообщений и интеренета по месяцам"
   ]
  },
  {
   "cell_type": "code",
   "execution_count": 37,
   "metadata": {},
   "outputs": [
    {
     "data": {
      "text/html": [
       "<div>\n",
       "<style scoped>\n",
       "    .dataframe tbody tr th:only-of-type {\n",
       "        vertical-align: middle;\n",
       "    }\n",
       "\n",
       "    .dataframe tbody tr th {\n",
       "        vertical-align: top;\n",
       "    }\n",
       "\n",
       "    .dataframe thead th {\n",
       "        text-align: right;\n",
       "    }\n",
       "</style>\n",
       "<table border=\"1\" class=\"dataframe\">\n",
       "  <thead>\n",
       "    <tr style=\"text-align: right;\">\n",
       "      <th></th>\n",
       "      <th></th>\n",
       "      <th>duration</th>\n",
       "      <th>gb_used</th>\n",
       "      <th>messages_qty</th>\n",
       "    </tr>\n",
       "    <tr>\n",
       "      <th>tariff</th>\n",
       "      <th>month</th>\n",
       "      <th></th>\n",
       "      <th></th>\n",
       "      <th></th>\n",
       "    </tr>\n",
       "  </thead>\n",
       "  <tbody>\n",
       "    <tr>\n",
       "      <th rowspan=\"12\" valign=\"top\">smart</th>\n",
       "      <th>1.0</th>\n",
       "      <td>6931.0</td>\n",
       "      <td>307.0</td>\n",
       "      <td>620.0</td>\n",
       "    </tr>\n",
       "    <tr>\n",
       "      <th>2.0</th>\n",
       "      <td>17324.0</td>\n",
       "      <td>702.0</td>\n",
       "      <td>1397.0</td>\n",
       "    </tr>\n",
       "    <tr>\n",
       "      <th>3.0</th>\n",
       "      <td>30034.0</td>\n",
       "      <td>1199.0</td>\n",
       "      <td>2453.0</td>\n",
       "    </tr>\n",
       "    <tr>\n",
       "      <th>4.0</th>\n",
       "      <td>41119.0</td>\n",
       "      <td>1559.0</td>\n",
       "      <td>3443.0</td>\n",
       "    </tr>\n",
       "    <tr>\n",
       "      <th>5.0</th>\n",
       "      <td>54618.0</td>\n",
       "      <td>2300.0</td>\n",
       "      <td>4762.0</td>\n",
       "    </tr>\n",
       "    <tr>\n",
       "      <th>6.0</th>\n",
       "      <td>64885.0</td>\n",
       "      <td>2668.0</td>\n",
       "      <td>5478.0</td>\n",
       "    </tr>\n",
       "    <tr>\n",
       "      <th>7.0</th>\n",
       "      <td>82079.0</td>\n",
       "      <td>3263.0</td>\n",
       "      <td>6784.0</td>\n",
       "    </tr>\n",
       "    <tr>\n",
       "      <th>8.0</th>\n",
       "      <td>99045.0</td>\n",
       "      <td>4026.0</td>\n",
       "      <td>7905.0</td>\n",
       "    </tr>\n",
       "    <tr>\n",
       "      <th>9.0</th>\n",
       "      <td>111439.0</td>\n",
       "      <td>4366.0</td>\n",
       "      <td>8746.0</td>\n",
       "    </tr>\n",
       "    <tr>\n",
       "      <th>10.0</th>\n",
       "      <td>125284.0</td>\n",
       "      <td>5062.0</td>\n",
       "      <td>9927.0</td>\n",
       "    </tr>\n",
       "    <tr>\n",
       "      <th>11.0</th>\n",
       "      <td>137544.0</td>\n",
       "      <td>5496.0</td>\n",
       "      <td>10768.0</td>\n",
       "    </tr>\n",
       "    <tr>\n",
       "      <th>12.0</th>\n",
       "      <td>161275.0</td>\n",
       "      <td>6267.0</td>\n",
       "      <td>12130.0</td>\n",
       "    </tr>\n",
       "    <tr>\n",
       "      <th rowspan=\"12\" valign=\"top\">ultra</th>\n",
       "      <th>1.0</th>\n",
       "      <td>3853.0</td>\n",
       "      <td>123.0</td>\n",
       "      <td>304.0</td>\n",
       "    </tr>\n",
       "    <tr>\n",
       "      <th>2.0</th>\n",
       "      <td>7131.0</td>\n",
       "      <td>293.0</td>\n",
       "      <td>527.0</td>\n",
       "    </tr>\n",
       "    <tr>\n",
       "      <th>3.0</th>\n",
       "      <td>18117.0</td>\n",
       "      <td>667.0</td>\n",
       "      <td>1195.0</td>\n",
       "    </tr>\n",
       "    <tr>\n",
       "      <th>4.0</th>\n",
       "      <td>25191.0</td>\n",
       "      <td>953.0</td>\n",
       "      <td>1736.0</td>\n",
       "    </tr>\n",
       "    <tr>\n",
       "      <th>5.0</th>\n",
       "      <td>34192.0</td>\n",
       "      <td>1330.0</td>\n",
       "      <td>2536.0</td>\n",
       "    </tr>\n",
       "    <tr>\n",
       "      <th>6.0</th>\n",
       "      <td>40295.0</td>\n",
       "      <td>1633.0</td>\n",
       "      <td>3505.0</td>\n",
       "    </tr>\n",
       "    <tr>\n",
       "      <th>7.0</th>\n",
       "      <td>49667.0</td>\n",
       "      <td>1909.0</td>\n",
       "      <td>4536.0</td>\n",
       "    </tr>\n",
       "    <tr>\n",
       "      <th>8.0</th>\n",
       "      <td>54653.0</td>\n",
       "      <td>2146.0</td>\n",
       "      <td>5183.0</td>\n",
       "    </tr>\n",
       "    <tr>\n",
       "      <th>9.0</th>\n",
       "      <td>62036.0</td>\n",
       "      <td>2268.0</td>\n",
       "      <td>6013.0</td>\n",
       "    </tr>\n",
       "    <tr>\n",
       "      <th>10.0</th>\n",
       "      <td>68644.0</td>\n",
       "      <td>2524.0</td>\n",
       "      <td>7187.0</td>\n",
       "    </tr>\n",
       "    <tr>\n",
       "      <th>11.0</th>\n",
       "      <td>72545.0</td>\n",
       "      <td>2719.0</td>\n",
       "      <td>7476.0</td>\n",
       "    </tr>\n",
       "    <tr>\n",
       "      <th>12.0</th>\n",
       "      <td>82400.0</td>\n",
       "      <td>3101.0</td>\n",
       "      <td>8425.0</td>\n",
       "    </tr>\n",
       "  </tbody>\n",
       "</table>\n",
       "</div>"
      ],
      "text/plain": [
       "              duration  gb_used  messages_qty\n",
       "tariff month                                 \n",
       "smart  1.0      6931.0    307.0         620.0\n",
       "       2.0     17324.0    702.0        1397.0\n",
       "       3.0     30034.0   1199.0        2453.0\n",
       "       4.0     41119.0   1559.0        3443.0\n",
       "       5.0     54618.0   2300.0        4762.0\n",
       "       6.0     64885.0   2668.0        5478.0\n",
       "       7.0     82079.0   3263.0        6784.0\n",
       "       8.0     99045.0   4026.0        7905.0\n",
       "       9.0    111439.0   4366.0        8746.0\n",
       "       10.0   125284.0   5062.0        9927.0\n",
       "       11.0   137544.0   5496.0       10768.0\n",
       "       12.0   161275.0   6267.0       12130.0\n",
       "ultra  1.0      3853.0    123.0         304.0\n",
       "       2.0      7131.0    293.0         527.0\n",
       "       3.0     18117.0    667.0        1195.0\n",
       "       4.0     25191.0    953.0        1736.0\n",
       "       5.0     34192.0   1330.0        2536.0\n",
       "       6.0     40295.0   1633.0        3505.0\n",
       "       7.0     49667.0   1909.0        4536.0\n",
       "       8.0     54653.0   2146.0        5183.0\n",
       "       9.0     62036.0   2268.0        6013.0\n",
       "       10.0    68644.0   2524.0        7187.0\n",
       "       11.0    72545.0   2719.0        7476.0\n",
       "       12.0    82400.0   3101.0        8425.0"
      ]
     },
     "execution_count": 37,
     "metadata": {},
     "output_type": "execute_result"
    }
   ],
   "source": [
    "data_sum = data.pivot_table(index=['tariff','month'], values = ['duration', 'messages_qty', 'gb_used'], aggfunc = 'sum')\n",
    "data_sum"
   ]
  },
  {
   "cell_type": "markdown",
   "metadata": {},
   "source": [
    "Можно вычислять среднее, дисперсию и тд в таком же ключе по отдельности, но лучше соединить все в один блок и отразить одновременно, для этого в agg передать нужные параметры. По заданию нам нужны: общая сумма, среднее количество, дисперсия и стандартное отклонение."
   ]
  },
  {
   "cell_type": "markdown",
   "metadata": {},
   "source": [
    "Расчет по тарифу и месяцам:"
   ]
  },
  {
   "cell_type": "code",
   "execution_count": 38,
   "metadata": {},
   "outputs": [
    {
     "data": {
      "text/html": [
       "<div>\n",
       "<style scoped>\n",
       "    .dataframe tbody tr th:only-of-type {\n",
       "        vertical-align: middle;\n",
       "    }\n",
       "\n",
       "    .dataframe tbody tr th {\n",
       "        vertical-align: top;\n",
       "    }\n",
       "\n",
       "    .dataframe thead tr th {\n",
       "        text-align: left;\n",
       "    }\n",
       "\n",
       "    .dataframe thead tr:last-of-type th {\n",
       "        text-align: right;\n",
       "    }\n",
       "</style>\n",
       "<table border=\"1\" class=\"dataframe\">\n",
       "  <thead>\n",
       "    <tr>\n",
       "      <th></th>\n",
       "      <th></th>\n",
       "      <th colspan=\"4\" halign=\"left\">duration</th>\n",
       "      <th colspan=\"4\" halign=\"left\">messages_qty</th>\n",
       "      <th colspan=\"4\" halign=\"left\">gb_used</th>\n",
       "    </tr>\n",
       "    <tr>\n",
       "      <th></th>\n",
       "      <th></th>\n",
       "      <th>sum</th>\n",
       "      <th>mean</th>\n",
       "      <th>std</th>\n",
       "      <th>var</th>\n",
       "      <th>sum</th>\n",
       "      <th>mean</th>\n",
       "      <th>std</th>\n",
       "      <th>var</th>\n",
       "      <th>sum</th>\n",
       "      <th>mean</th>\n",
       "      <th>std</th>\n",
       "      <th>var</th>\n",
       "    </tr>\n",
       "    <tr>\n",
       "      <th>tariff</th>\n",
       "      <th>month</th>\n",
       "      <th></th>\n",
       "      <th></th>\n",
       "      <th></th>\n",
       "      <th></th>\n",
       "      <th></th>\n",
       "      <th></th>\n",
       "      <th></th>\n",
       "      <th></th>\n",
       "      <th></th>\n",
       "      <th></th>\n",
       "      <th></th>\n",
       "      <th></th>\n",
       "    </tr>\n",
       "  </thead>\n",
       "  <tbody>\n",
       "    <tr>\n",
       "      <th rowspan=\"5\" valign=\"top\">smart</th>\n",
       "      <th>1.0</th>\n",
       "      <td>6931.0</td>\n",
       "      <td>203.852941</td>\n",
       "      <td>154.231454</td>\n",
       "      <td>23787.341355</td>\n",
       "      <td>620.0</td>\n",
       "      <td>20.000000</td>\n",
       "      <td>15.878707</td>\n",
       "      <td>252.133333</td>\n",
       "      <td>307.0</td>\n",
       "      <td>9.029412</td>\n",
       "      <td>6.520296</td>\n",
       "      <td>42.514260</td>\n",
       "    </tr>\n",
       "    <tr>\n",
       "      <th>2.0</th>\n",
       "      <td>17324.0</td>\n",
       "      <td>298.689655</td>\n",
       "      <td>190.820041</td>\n",
       "      <td>36412.287961</td>\n",
       "      <td>1397.0</td>\n",
       "      <td>27.940000</td>\n",
       "      <td>20.987275</td>\n",
       "      <td>440.465714</td>\n",
       "      <td>702.0</td>\n",
       "      <td>12.103448</td>\n",
       "      <td>6.281942</td>\n",
       "      <td>39.462795</td>\n",
       "    </tr>\n",
       "    <tr>\n",
       "      <th>3.0</th>\n",
       "      <td>30034.0</td>\n",
       "      <td>390.051948</td>\n",
       "      <td>191.893604</td>\n",
       "      <td>36823.155161</td>\n",
       "      <td>2453.0</td>\n",
       "      <td>35.550725</td>\n",
       "      <td>25.880117</td>\n",
       "      <td>669.780477</td>\n",
       "      <td>1199.0</td>\n",
       "      <td>15.571429</td>\n",
       "      <td>5.836430</td>\n",
       "      <td>34.063910</td>\n",
       "    </tr>\n",
       "    <tr>\n",
       "      <th>4.0</th>\n",
       "      <td>41119.0</td>\n",
       "      <td>367.133929</td>\n",
       "      <td>186.489161</td>\n",
       "      <td>34778.207127</td>\n",
       "      <td>3443.0</td>\n",
       "      <td>35.864583</td>\n",
       "      <td>22.756662</td>\n",
       "      <td>517.865680</td>\n",
       "      <td>1559.0</td>\n",
       "      <td>13.919643</td>\n",
       "      <td>5.707808</td>\n",
       "      <td>32.579070</td>\n",
       "    </tr>\n",
       "    <tr>\n",
       "      <th>5.0</th>\n",
       "      <td>54618.0</td>\n",
       "      <td>387.361702</td>\n",
       "      <td>186.601343</td>\n",
       "      <td>34820.061094</td>\n",
       "      <td>4762.0</td>\n",
       "      <td>39.032787</td>\n",
       "      <td>25.274014</td>\n",
       "      <td>638.775776</td>\n",
       "      <td>2300.0</td>\n",
       "      <td>16.312057</td>\n",
       "      <td>5.982277</td>\n",
       "      <td>35.787639</td>\n",
       "    </tr>\n",
       "  </tbody>\n",
       "</table>\n",
       "</div>"
      ],
      "text/plain": [
       "             duration                                       messages_qty  \\\n",
       "                  sum        mean         std           var          sum   \n",
       "tariff month                                                               \n",
       "smart  1.0     6931.0  203.852941  154.231454  23787.341355        620.0   \n",
       "       2.0    17324.0  298.689655  190.820041  36412.287961       1397.0   \n",
       "       3.0    30034.0  390.051948  191.893604  36823.155161       2453.0   \n",
       "       4.0    41119.0  367.133929  186.489161  34778.207127       3443.0   \n",
       "       5.0    54618.0  387.361702  186.601343  34820.061094       4762.0   \n",
       "\n",
       "                                               gb_used                       \\\n",
       "                   mean        std         var     sum       mean       std   \n",
       "tariff month                                                                  \n",
       "smart  1.0    20.000000  15.878707  252.133333   307.0   9.029412  6.520296   \n",
       "       2.0    27.940000  20.987275  440.465714   702.0  12.103448  6.281942   \n",
       "       3.0    35.550725  25.880117  669.780477  1199.0  15.571429  5.836430   \n",
       "       4.0    35.864583  22.756662  517.865680  1559.0  13.919643  5.707808   \n",
       "       5.0    39.032787  25.274014  638.775776  2300.0  16.312057  5.982277   \n",
       "\n",
       "                         \n",
       "                    var  \n",
       "tariff month             \n",
       "smart  1.0    42.514260  \n",
       "       2.0    39.462795  \n",
       "       3.0    34.063910  \n",
       "       4.0    32.579070  \n",
       "       5.0    35.787639  "
      ]
     },
     "execution_count": 38,
     "metadata": {},
     "output_type": "execute_result"
    }
   ],
   "source": [
    "agg_func_math = {\n",
    "    'duration': ['sum', 'mean', 'std', 'var'], \n",
    "    'messages_qty': ['sum', 'mean', 'std', 'var'], \n",
    "    'gb_used': ['sum', 'mean', 'std', 'var']\n",
    "}\n",
    "data_math = data.groupby(['tariff', 'month']).agg(agg_func_math)\n",
    "data_math.head()"
   ]
  },
  {
   "cell_type": "markdown",
   "metadata": {},
   "source": [
    "Расчет по тарифу:"
   ]
  },
  {
   "cell_type": "code",
   "execution_count": 39,
   "metadata": {},
   "outputs": [
    {
     "data": {
      "text/html": [
       "<div>\n",
       "<style scoped>\n",
       "    .dataframe tbody tr th:only-of-type {\n",
       "        vertical-align: middle;\n",
       "    }\n",
       "\n",
       "    .dataframe tbody tr th {\n",
       "        vertical-align: top;\n",
       "    }\n",
       "\n",
       "    .dataframe thead tr th {\n",
       "        text-align: left;\n",
       "    }\n",
       "\n",
       "    .dataframe thead tr:last-of-type th {\n",
       "        text-align: right;\n",
       "    }\n",
       "</style>\n",
       "<table border=\"1\" class=\"dataframe\">\n",
       "  <thead>\n",
       "    <tr>\n",
       "      <th></th>\n",
       "      <th colspan=\"4\" halign=\"left\">duration</th>\n",
       "      <th colspan=\"4\" halign=\"left\">messages_qty</th>\n",
       "      <th colspan=\"4\" halign=\"left\">gb_used</th>\n",
       "    </tr>\n",
       "    <tr>\n",
       "      <th></th>\n",
       "      <th>sum</th>\n",
       "      <th>mean</th>\n",
       "      <th>std</th>\n",
       "      <th>var</th>\n",
       "      <th>sum</th>\n",
       "      <th>mean</th>\n",
       "      <th>std</th>\n",
       "      <th>var</th>\n",
       "      <th>sum</th>\n",
       "      <th>mean</th>\n",
       "      <th>std</th>\n",
       "      <th>var</th>\n",
       "    </tr>\n",
       "    <tr>\n",
       "      <th>tariff</th>\n",
       "      <th></th>\n",
       "      <th></th>\n",
       "      <th></th>\n",
       "      <th></th>\n",
       "      <th></th>\n",
       "      <th></th>\n",
       "      <th></th>\n",
       "      <th></th>\n",
       "      <th></th>\n",
       "      <th></th>\n",
       "      <th></th>\n",
       "      <th></th>\n",
       "    </tr>\n",
       "  </thead>\n",
       "  <tbody>\n",
       "    <tr>\n",
       "      <th>smart</th>\n",
       "      <td>931577.0</td>\n",
       "      <td>419.062978</td>\n",
       "      <td>189.325618</td>\n",
       "      <td>35844.189551</td>\n",
       "      <td>74413.0</td>\n",
       "      <td>38.716441</td>\n",
       "      <td>26.787949</td>\n",
       "      <td>717.594201</td>\n",
       "      <td>37215.0</td>\n",
       "      <td>16.703321</td>\n",
       "      <td>5.868064</td>\n",
       "      <td>34.434169</td>\n",
       "    </tr>\n",
       "    <tr>\n",
       "      <th>ultra</th>\n",
       "      <td>518724.0</td>\n",
       "      <td>545.451104</td>\n",
       "      <td>306.925754</td>\n",
       "      <td>94203.418396</td>\n",
       "      <td>48623.0</td>\n",
       "      <td>61.161006</td>\n",
       "      <td>45.931026</td>\n",
       "      <td>2109.659183</td>\n",
       "      <td>19666.0</td>\n",
       "      <td>20.170256</td>\n",
       "      <td>9.946971</td>\n",
       "      <td>98.942236</td>\n",
       "    </tr>\n",
       "  </tbody>\n",
       "</table>\n",
       "</div>"
      ],
      "text/plain": [
       "        duration                                       messages_qty  \\\n",
       "             sum        mean         std           var          sum   \n",
       "tariff                                                                \n",
       "smart   931577.0  419.062978  189.325618  35844.189551      74413.0   \n",
       "ultra   518724.0  545.451104  306.925754  94203.418396      48623.0   \n",
       "\n",
       "                                           gb_used                       \\\n",
       "             mean        std          var      sum       mean       std   \n",
       "tariff                                                                    \n",
       "smart   38.716441  26.787949   717.594201  37215.0  16.703321  5.868064   \n",
       "ultra   61.161006  45.931026  2109.659183  19666.0  20.170256  9.946971   \n",
       "\n",
       "                   \n",
       "              var  \n",
       "tariff             \n",
       "smart   34.434169  \n",
       "ultra   98.942236  "
      ]
     },
     "execution_count": 39,
     "metadata": {},
     "output_type": "execute_result"
    }
   ],
   "source": [
    "data_math = data.groupby(['tariff']).agg(agg_func_math)\n",
    "data_math"
   ]
  },
  {
   "cell_type": "markdown",
   "metadata": {},
   "source": [
    "**Средние значения тарифа Ультра выше средних значений тарифа Смарт (что логично). Наибольшие отклонения наблюдаются на тарифе Ультра, что, скорее всего связано с бОльшим объемом пакетов услуг и соответственно предоставляет больше простора в расходовании пакета для пользователей.**"
   ]
  },
  {
   "cell_type": "markdown",
   "metadata": {},
   "source": [
    "### Гистограммы"
   ]
  },
  {
   "cell_type": "code",
   "execution_count": 40,
   "metadata": {},
   "outputs": [],
   "source": [
    "column = ['duration', 'messages_qty', 'gb_used']"
   ]
  },
  {
   "cell_type": "code",
   "execution_count": 41,
   "metadata": {},
   "outputs": [
    {
     "data": {
      "text/plain": [
       "array([[<AxesSubplot:title={'center':'duration'}>,\n",
       "        <AxesSubplot:title={'center':'messages_qty'}>],\n",
       "       [<AxesSubplot:title={'center':'gb_used'}>, <AxesSubplot:>]],\n",
       "      dtype=object)"
      ]
     },
     "execution_count": 41,
     "metadata": {},
     "output_type": "execute_result"
    },
    {
     "data": {
      "image/png": "[encoded data removed]",
      "text/plain": [
       "<Figure size 1440x720 with 4 Axes>"
      ]
     },
     "metadata": {
      "needs_background": "light"
     },
     "output_type": "display_data"
    }
   ],
   "source": [
    "data[data['tariff'] == 'smart'].hist(column = column, bins='auto', figsize = (20, 10))"
   ]
  },
  {
   "cell_type": "code",
   "execution_count": 42,
   "metadata": {},
   "outputs": [
    {
     "data": {
      "text/plain": [
       "array([[<AxesSubplot:title={'center':'duration'}>,\n",
       "        <AxesSubplot:title={'center':'messages_qty'}>],\n",
       "       [<AxesSubplot:title={'center':'gb_used'}>, <AxesSubplot:>]],\n",
       "      dtype=object)"
      ]
     },
     "execution_count": 42,
     "metadata": {},
     "output_type": "execute_result"
    },
    {
     "data": {
      "image/png": "[encoded data removed]",
      "text/plain": [
       "<Figure size 1440x720 with 4 Axes>"
      ]
     },
     "metadata": {
      "needs_background": "light"
     },
     "output_type": "display_data"
    }
   ],
   "source": [
    "#data[data['tariff'] == 'ultra']['duration'].hist(bins=50)\n",
    "data[data['tariff'] == 'ultra'].hist(column = column, bins='auto', figsize = (20, 10), )"
   ]
  },
  {
   "cell_type": "code",
   "execution_count": 43,
   "metadata": {},
   "outputs": [
    {
     "data": {
      "image/png": "[encoded data removed]",
      "text/plain": [
       "<Figure size 432x288 with 1 Axes>"
      ]
     },
     "metadata": {
      "needs_background": "light"
     },
     "output_type": "display_data"
    }
   ],
   "source": [
    "import matplotlib.pyplot as pyplot\n",
    "x = data[data['tariff'] == 'smart']['duration']\n",
    "y = data[data['tariff'] == 'ultra']['duration']\n",
    "\n",
    "\n",
    "pyplot.hist(x, bins='auto', alpha=0.5, label='smart')\n",
    "pyplot.hist(y, bins='auto', alpha=0.5, label='ultra')\n",
    "\n",
    "pyplot.legend(loc='upper right')\n",
    "plt.gca().set(xlim=(0, 2000), ylim=(0, 200),\n",
    "              xlabel='duration', ylabel='count')\n",
    "plt.title('Длительность звонков Smart и Ultra')\n",
    "pyplot.show()"
   ]
  },
  {
   "cell_type": "markdown",
   "metadata": {},
   "source": [
    "## Шаг 4. Проверьте гипотезы"
   ]
  },
  {
   "cell_type": "markdown",
   "metadata": {},
   "source": [
    "**H₀ формулируется так, чтобы использовать знак равенства. Другими словами, чтобы все данные лежали в районе изначально предполагаемого значения.**"
   ]
  },
  {
   "cell_type": "markdown",
   "metadata": {},
   "source": [
    "### Гипотеза 1. Средняя выручка пользователей тарифов «Ультра» и «Смарт» различаются;"
   ]
  },
  {
   "cell_type": "markdown",
   "metadata": {},
   "source": [
    "В таком случае, для проверки гипотезы **средняя выручка пользователей тарифов «Ультра» и «Смарт» различаются** ***Нулевая***: средняя выручка пользователей тарифов «Ультра» и «Смарт» равны, ***Альтернативная***: средняя выручка пользователей тарифов «Ультра» и «Смарт» различаются"
   ]
  },
  {
   "cell_type": "markdown",
   "metadata": {},
   "source": [
    "Для начала, посчитаем математически среднюю выручку пользователей тарифов"
   ]
  },
  {
   "cell_type": "code",
   "execution_count": 44,
   "metadata": {},
   "outputs": [
    {
     "data": {
      "text/html": [
       "<div>\n",
       "<style scoped>\n",
       "    .dataframe tbody tr th:only-of-type {\n",
       "        vertical-align: middle;\n",
       "    }\n",
       "\n",
       "    .dataframe tbody tr th {\n",
       "        vertical-align: top;\n",
       "    }\n",
       "\n",
       "    .dataframe thead tr th {\n",
       "        text-align: left;\n",
       "    }\n",
       "\n",
       "    .dataframe thead tr:last-of-type th {\n",
       "        text-align: right;\n",
       "    }\n",
       "</style>\n",
       "<table border=\"1\" class=\"dataframe\">\n",
       "  <thead>\n",
       "    <tr>\n",
       "      <th></th>\n",
       "      <th>profit</th>\n",
       "    </tr>\n",
       "    <tr>\n",
       "      <th></th>\n",
       "      <th>mean</th>\n",
       "    </tr>\n",
       "    <tr>\n",
       "      <th>tariff</th>\n",
       "      <th></th>\n",
       "    </tr>\n",
       "  </thead>\n",
       "  <tbody>\n",
       "    <tr>\n",
       "      <th>smart</th>\n",
       "      <td>1345.605830</td>\n",
       "    </tr>\n",
       "    <tr>\n",
       "      <th>ultra</th>\n",
       "      <td>2135.598377</td>\n",
       "    </tr>\n",
       "  </tbody>\n",
       "</table>\n",
       "</div>"
      ],
      "text/plain": [
       "             profit\n",
       "               mean\n",
       "tariff             \n",
       "smart   1345.605830\n",
       "ultra   2135.598377"
      ]
     },
     "execution_count": 44,
     "metadata": {},
     "output_type": "execute_result"
    }
   ],
   "source": [
    "agg_func_math2 = {\n",
    "    'profit': ['mean'], \n",
    "}\n",
    "data_math2 = data.groupby(['tariff']).agg(agg_func_math2)\n",
    "data_math2"
   ]
  },
  {
   "cell_type": "markdown",
   "metadata": {},
   "source": [
    "Для проверки нулевой гипотезы, проверим равно ли среднее значение Смарт среднему значению прибыли Ультра"
   ]
  },
  {
   "cell_type": "code",
   "execution_count": 45,
   "metadata": {},
   "outputs": [],
   "source": [
    "#data_smart_profit = data[data['tariff'] == 'smart']['profit']\n",
    "data_smart_profit = data.query('tariff == \"smart\"')['profit']"
   ]
  },
  {
   "cell_type": "code",
   "execution_count": 46,
   "metadata": {},
   "outputs": [],
   "source": [
    "data_smart_profit = data.query('tariff == \"smart\"')['profit']\n",
    "data_ultra_profit = data.query('tariff == \"ultra\"')['profit']"
   ]
  },
  {
   "cell_type": "code",
   "execution_count": 47,
   "metadata": {},
   "outputs": [
    {
     "name": "stdout",
     "output_type": "stream",
     "text": [
      "p-значение:  1.0618210634393719e-141\n",
      "Отвергаем нулевую гипотезу\n"
     ]
    }
   ],
   "source": [
    "from scipy import stats as st\n",
    "import numpy as np\n",
    "\n",
    "sample_1 = data_smart_profit\n",
    "sample_2 = data_ultra_profit\n",
    "\n",
    "alpha = .05 # критический уровень статистической значимости\n",
    "# если p-value окажется меньше него - отвегнем гипотезу\n",
    "\n",
    "results = st.ttest_ind(\n",
    "    sample_1, \n",
    "    sample_2)\n",
    "\n",
    "print('p-значение: ', results.pvalue)\n",
    "\n",
    "if results.pvalue < alpha:\n",
    "    print(\"Отвергаем нулевую гипотезу\")\n",
    "else:\n",
    "    print(\"Не получилось отвергнуть нулевую гипотезу\") "
   ]
  },
  {
   "cell_type": "markdown",
   "metadata": {},
   "source": [
    "**Нулевая гипотеза \n",
    "была отвергнута, из чего можно предположить, средняя выручка пользователей тарифов «Ультра» и «Смарт» различаются** "
   ]
  },
  {
   "cell_type": "markdown",
   "metadata": {},
   "source": [
    "### Гипотеза 2. Cредняя выручка пользователей из Москвы отличается от выручки пользователей из других регионов."
   ]
  },
  {
   "cell_type": "markdown",
   "metadata": {},
   "source": [
    "для проверки гипотезы **Cредняя выручка пользователей из Москвы отличается от выручки пользователей из других регионов** Нулевая: Cредняя выручка пользователей из Москвы равна выручке от пользователей из других регионов. равны, Альтернативная: Cредняя выручка пользователей из Москвы отличается от выручки пользователей из других регионов."
   ]
  },
  {
   "cell_type": "code",
   "execution_count": 48,
   "metadata": {},
   "outputs": [
    {
     "data": {
      "text/html": [
       "<div>\n",
       "<style scoped>\n",
       "    .dataframe tbody tr th:only-of-type {\n",
       "        vertical-align: middle;\n",
       "    }\n",
       "\n",
       "    .dataframe tbody tr th {\n",
       "        vertical-align: top;\n",
       "    }\n",
       "\n",
       "    .dataframe thead tr th {\n",
       "        text-align: left;\n",
       "    }\n",
       "\n",
       "    .dataframe thead tr:last-of-type th {\n",
       "        text-align: right;\n",
       "    }\n",
       "</style>\n",
       "<table border=\"1\" class=\"dataframe\">\n",
       "  <thead>\n",
       "    <tr>\n",
       "      <th></th>\n",
       "      <th>profit</th>\n",
       "    </tr>\n",
       "    <tr>\n",
       "      <th></th>\n",
       "      <th>mean</th>\n",
       "    </tr>\n",
       "    <tr>\n",
       "      <th>city</th>\n",
       "      <th></th>\n",
       "    </tr>\n",
       "  </thead>\n",
       "  <tbody>\n",
       "    <tr>\n",
       "      <th>Архангельск</th>\n",
       "      <td>1396.583333</td>\n",
       "    </tr>\n",
       "    <tr>\n",
       "      <th>Астрахань</th>\n",
       "      <td>1447.833333</td>\n",
       "    </tr>\n",
       "    <tr>\n",
       "      <th>Балашиха</th>\n",
       "      <td>1490.593750</td>\n",
       "    </tr>\n",
       "    <tr>\n",
       "      <th>Барнаул</th>\n",
       "      <td>1484.111111</td>\n",
       "    </tr>\n",
       "    <tr>\n",
       "      <th>Белгород</th>\n",
       "      <td>764.066667</td>\n",
       "    </tr>\n",
       "    <tr>\n",
       "      <th>...</th>\n",
       "      <td>...</td>\n",
       "    </tr>\n",
       "    <tr>\n",
       "      <th>Челябинск</th>\n",
       "      <td>1741.211538</td>\n",
       "    </tr>\n",
       "    <tr>\n",
       "      <th>Череповец</th>\n",
       "      <td>2174.071429</td>\n",
       "    </tr>\n",
       "    <tr>\n",
       "      <th>Чита</th>\n",
       "      <td>1249.333333</td>\n",
       "    </tr>\n",
       "    <tr>\n",
       "      <th>Якутск</th>\n",
       "      <td>1634.705882</td>\n",
       "    </tr>\n",
       "    <tr>\n",
       "      <th>Ярославль</th>\n",
       "      <td>1638.666667</td>\n",
       "    </tr>\n",
       "  </tbody>\n",
       "</table>\n",
       "<p>76 rows × 1 columns</p>\n",
       "</div>"
      ],
      "text/plain": [
       "                  profit\n",
       "                    mean\n",
       "city                    \n",
       "Архангельск  1396.583333\n",
       "Астрахань    1447.833333\n",
       "Балашиха     1490.593750\n",
       "Барнаул      1484.111111\n",
       "Белгород      764.066667\n",
       "...                  ...\n",
       "Челябинск    1741.211538\n",
       "Череповец    2174.071429\n",
       "Чита         1249.333333\n",
       "Якутск       1634.705882\n",
       "Ярославль    1638.666667\n",
       "\n",
       "[76 rows x 1 columns]"
      ]
     },
     "execution_count": 48,
     "metadata": {},
     "output_type": "execute_result"
    }
   ],
   "source": [
    "agg_func_profit = {\n",
    "    'profit': ['mean']\n",
    "}\n",
    "data_cities_profit = data.groupby(['city']).agg(agg_func_profit)\n",
    "data_cities_profit"
   ]
  },
  {
   "cell_type": "markdown",
   "metadata": {},
   "source": [
    "**Средняя прибыль пользователей из Москвы:**"
   ]
  },
  {
   "cell_type": "code",
   "execution_count": 49,
   "metadata": {
    "scrolled": false
   },
   "outputs": [
    {
     "name": "stdout",
     "output_type": "stream",
     "text": [
      "             profit\n",
      "               mean\n",
      "city               \n",
      "Москва  1607.761047\n"
     ]
    }
   ],
   "source": [
    "print(data_cities_profit.query('city == \"Москва\"'))"
   ]
  },
  {
   "cell_type": "code",
   "execution_count": 50,
   "metadata": {},
   "outputs": [],
   "source": [
    "#data_cities_profit_moscow = data.query('city == \"Москва\"')['profit'].agg('mean') #можно не включать ['profit'], так как только этот столбец остался в таблицце data_cities_profit \n",
    "#data_cities_profit_moscow"
   ]
  },
  {
   "cell_type": "markdown",
   "metadata": {},
   "source": [
    "**Средняя прибыль пользователей из других регионов (не из Москвы):**"
   ]
  },
  {
   "cell_type": "code",
   "execution_count": 51,
   "metadata": {},
   "outputs": [
    {
     "data": {
      "text/plain": [
       "profit  mean    1566.112667\n",
       "dtype: float64"
      ]
     },
     "execution_count": 51,
     "metadata": {},
     "output_type": "execute_result"
    }
   ],
   "source": [
    "data_cities_profit_others = data_cities_profit.query('city != \"Москва\"').agg('mean')\n",
    "data_cities_profit_others"
   ]
  },
  {
   "cell_type": "markdown",
   "metadata": {},
   "source": [
    "**В соответвии с нулевой гипотезой, проверим равенство средних двух генеральных совокупностей Москва и Другие города**"
   ]
  },
  {
   "cell_type": "code",
   "execution_count": 52,
   "metadata": {},
   "outputs": [],
   "source": [
    "data_moscow_profit_list = data.query('city == \"Москва\"')['profit']\n",
    "data_others_profit_list = data.query('city != \"Москва\"')['profit']"
   ]
  },
  {
   "cell_type": "code",
   "execution_count": 53,
   "metadata": {},
   "outputs": [
    {
     "name": "stdout",
     "output_type": "stream",
     "text": [
      "p-значение:  0.5221568510522377\n",
      "Не получилось отвергнуть нулевую гипотезу\n"
     ]
    }
   ],
   "source": [
    "from scipy import stats as st\n",
    "import numpy as np\n",
    "\n",
    "sample_1 = data_moscow_profit_list\n",
    "sample_2 = data_others_profit_list\n",
    "\n",
    "alpha = .5 # критический уровень статистической значимости\n",
    "# если p-value окажется меньше него - отвегнем гипотезу\n",
    "\n",
    "results = st.ttest_ind(\n",
    "    sample_1, \n",
    "    sample_2)\n",
    "\n",
    "print('p-значение: ', results.pvalue)\n",
    "\n",
    "if results.pvalue < alpha:\n",
    "    print(\"Отвергаем нулевую гипотезу\")\n",
    "else:\n",
    "    print(\"Не получилось отвергнуть нулевую гипотезу\") "
   ]
  },
  {
   "cell_type": "markdown",
   "metadata": {},
   "source": [
    "**Нулевая гипотеза не была отвергнута, из чего можно предположить, что средняя выручка пользователей из Москвы равна выручке от пользователей из других регионов.** "
   ]
  },
  {
   "cell_type": "markdown",
   "metadata": {},
   "source": [
    "## Шаг 5. Общий вывод"
   ]
  },
  {
   "cell_type": "markdown",
   "metadata": {},
   "source": [
    "Средняя выручка по тарифам:"
   ]
  },
  {
   "cell_type": "code",
   "execution_count": 54,
   "metadata": {},
   "outputs": [
    {
     "data": {
      "text/html": [
       "<div>\n",
       "<style scoped>\n",
       "    .dataframe tbody tr th:only-of-type {\n",
       "        vertical-align: middle;\n",
       "    }\n",
       "\n",
       "    .dataframe tbody tr th {\n",
       "        vertical-align: top;\n",
       "    }\n",
       "\n",
       "    .dataframe thead tr th {\n",
       "        text-align: left;\n",
       "    }\n",
       "\n",
       "    .dataframe thead tr:last-of-type th {\n",
       "        text-align: right;\n",
       "    }\n",
       "</style>\n",
       "<table border=\"1\" class=\"dataframe\">\n",
       "  <thead>\n",
       "    <tr>\n",
       "      <th></th>\n",
       "      <th>profit</th>\n",
       "    </tr>\n",
       "    <tr>\n",
       "      <th></th>\n",
       "      <th>mean</th>\n",
       "    </tr>\n",
       "    <tr>\n",
       "      <th>tariff</th>\n",
       "      <th></th>\n",
       "    </tr>\n",
       "  </thead>\n",
       "  <tbody>\n",
       "    <tr>\n",
       "      <th>smart</th>\n",
       "      <td>1345.605830</td>\n",
       "    </tr>\n",
       "    <tr>\n",
       "      <th>ultra</th>\n",
       "      <td>2135.598377</td>\n",
       "    </tr>\n",
       "  </tbody>\n",
       "</table>\n",
       "</div>"
      ],
      "text/plain": [
       "             profit\n",
       "               mean\n",
       "tariff             \n",
       "smart   1345.605830\n",
       "ultra   2135.598377"
      ]
     },
     "execution_count": 54,
     "metadata": {},
     "output_type": "execute_result"
    }
   ],
   "source": [
    "agg_func_math2 = {\n",
    "    'profit': ['mean'], \n",
    "}\n",
    "data_math2 = data.groupby(['tariff']).agg(agg_func_math2)\n",
    "data_math2"
   ]
  },
  {
   "cell_type": "markdown",
   "metadata": {},
   "source": [
    "Выручка по тарифам сильно различается, что было подтверждено во время проверки нулевой гипотезы **средняя выручка пользователей тарифов «Ультра» и «Смарт» равны**. Большую прибыль способен приносить тариф ultra. Вывод актуален как для Москвы, так и для других городов. "
   ]
  },
  {
   "cell_type": "markdown",
   "metadata": {},
   "source": [
    "**Как было выявлено в процессе выполнения проекта, на тарифе Ультра пользователями расходуется большее количество денежных средств, что увеличивает прибыль компании. Рекомендация: большее внимание сосредоточнить на продвижении тарифа Ультра, в том числе в регионах.**"
   ]
  }
 ],
 "metadata": {
  "ExecuteTimeLog": [
   {
    "duration": 722,
    "start_time": "2022-01-25T17:21:45.729Z"
   },
   {
    "duration": 276,
    "start_time": "2022-01-25T17:22:18.236Z"
   },
   {
    "duration": 30,
    "start_time": "2022-01-25T17:22:30.063Z"
   },
   {
    "duration": 21,
    "start_time": "2022-01-25T17:22:40.743Z"
   },
   {
    "duration": 3,
    "start_time": "2022-01-25T17:26:22.020Z"
   },
   {
    "duration": 25,
    "start_time": "2022-01-25T17:34:02.425Z"
   },
   {
    "duration": 21,
    "start_time": "2022-01-25T17:34:08.960Z"
   },
   {
    "duration": 1977,
    "start_time": "2022-01-25T17:38:22.756Z"
   },
   {
    "duration": 1962,
    "start_time": "2022-01-25T17:38:33.575Z"
   },
   {
    "duration": 403,
    "start_time": "2022-01-25T17:38:59.022Z"
   },
   {
    "duration": 607,
    "start_time": "2022-01-25T17:39:12.479Z"
   },
   {
    "duration": 406,
    "start_time": "2022-01-25T17:39:20.074Z"
   },
   {
    "duration": 396,
    "start_time": "2022-01-25T17:39:25.034Z"
   },
   {
    "duration": 394,
    "start_time": "2022-01-25T17:39:37.586Z"
   },
   {
    "duration": 9,
    "start_time": "2022-01-25T17:39:43.252Z"
   },
   {
    "duration": 10,
    "start_time": "2022-01-25T17:40:41.794Z"
   },
   {
    "duration": 25,
    "start_time": "2022-01-25T17:40:53.904Z"
   },
   {
    "duration": 20,
    "start_time": "2022-01-25T17:41:05.654Z"
   },
   {
    "duration": 6,
    "start_time": "2022-01-25T17:41:19.240Z"
   },
   {
    "duration": 6,
    "start_time": "2022-01-25T17:41:20.142Z"
   },
   {
    "duration": 20,
    "start_time": "2022-01-25T17:41:43.189Z"
   },
   {
    "duration": 7,
    "start_time": "2022-01-25T17:44:14.814Z"
   },
   {
    "duration": 15,
    "start_time": "2022-01-25T17:44:16.632Z"
   },
   {
    "duration": 16,
    "start_time": "2022-01-25T17:44:21.137Z"
   },
   {
    "duration": 11,
    "start_time": "2022-01-25T17:44:22.649Z"
   },
   {
    "duration": 18,
    "start_time": "2022-01-25T17:44:24.616Z"
   },
   {
    "duration": 17,
    "start_time": "2022-01-25T17:44:27.107Z"
   },
   {
    "duration": 8,
    "start_time": "2022-01-25T17:44:28.753Z"
   },
   {
    "duration": 7,
    "start_time": "2022-01-25T17:44:31.439Z"
   },
   {
    "duration": 6,
    "start_time": "2022-01-25T17:44:32.522Z"
   },
   {
    "duration": 225,
    "start_time": "2022-01-25T17:47:10.125Z"
   },
   {
    "duration": 204,
    "start_time": "2022-01-25T17:47:54.051Z"
   },
   {
    "duration": 13,
    "start_time": "2022-01-25T17:48:00.896Z"
   },
   {
    "duration": 12,
    "start_time": "2022-01-25T17:48:16.588Z"
   },
   {
    "duration": 14,
    "start_time": "2022-01-25T17:48:21.316Z"
   },
   {
    "duration": 15,
    "start_time": "2022-01-25T17:48:29.398Z"
   },
   {
    "duration": 13,
    "start_time": "2022-01-25T17:48:34.800Z"
   },
   {
    "duration": 211,
    "start_time": "2022-01-25T17:58:11.476Z"
   },
   {
    "duration": 3,
    "start_time": "2022-01-25T18:02:50.755Z"
   },
   {
    "duration": 249,
    "start_time": "2022-01-25T18:03:19.667Z"
   },
   {
    "duration": 386,
    "start_time": "2022-01-25T18:04:17.970Z"
   },
   {
    "duration": 10,
    "start_time": "2022-01-25T18:04:18.358Z"
   },
   {
    "duration": 7,
    "start_time": "2022-01-25T18:04:18.371Z"
   },
   {
    "duration": 12,
    "start_time": "2022-01-25T18:04:18.380Z"
   },
   {
    "duration": 14,
    "start_time": "2022-01-25T18:04:18.399Z"
   },
   {
    "duration": 9,
    "start_time": "2022-01-25T18:04:18.415Z"
   },
   {
    "duration": 21,
    "start_time": "2022-01-25T18:04:18.425Z"
   },
   {
    "duration": 20,
    "start_time": "2022-01-25T18:04:18.448Z"
   },
   {
    "duration": 34,
    "start_time": "2022-01-25T18:04:18.470Z"
   },
   {
    "duration": 14,
    "start_time": "2022-01-25T18:04:18.506Z"
   },
   {
    "duration": 13,
    "start_time": "2022-01-25T18:04:18.522Z"
   },
   {
    "duration": 7,
    "start_time": "2022-01-25T18:04:18.537Z"
   },
   {
    "duration": 18,
    "start_time": "2022-01-25T18:04:18.546Z"
   },
   {
    "duration": 18,
    "start_time": "2022-01-25T18:04:18.598Z"
   },
   {
    "duration": 8,
    "start_time": "2022-01-25T18:04:18.617Z"
   },
   {
    "duration": 7,
    "start_time": "2022-01-25T18:04:18.627Z"
   },
   {
    "duration": 7,
    "start_time": "2022-01-25T18:04:18.636Z"
   },
   {
    "duration": 54,
    "start_time": "2022-01-25T18:04:25.844Z"
   },
   {
    "duration": 215,
    "start_time": "2022-01-25T18:05:07.021Z"
   },
   {
    "duration": 220,
    "start_time": "2022-01-25T18:05:12.981Z"
   },
   {
    "duration": 57,
    "start_time": "2022-01-25T18:05:19.327Z"
   },
   {
    "duration": 109,
    "start_time": "2022-01-25T18:05:44.105Z"
   },
   {
    "duration": 46,
    "start_time": "2022-01-25T18:06:16.598Z"
   },
   {
    "duration": 384,
    "start_time": "2022-01-25T18:06:24.729Z"
   },
   {
    "duration": 9,
    "start_time": "2022-01-25T18:06:25.115Z"
   },
   {
    "duration": 8,
    "start_time": "2022-01-25T18:06:25.126Z"
   },
   {
    "duration": 8,
    "start_time": "2022-01-25T18:06:25.136Z"
   },
   {
    "duration": 14,
    "start_time": "2022-01-25T18:06:25.146Z"
   },
   {
    "duration": 8,
    "start_time": "2022-01-25T18:06:25.162Z"
   },
   {
    "duration": 39,
    "start_time": "2022-01-25T18:06:25.172Z"
   },
   {
    "duration": 21,
    "start_time": "2022-01-25T18:06:25.215Z"
   },
   {
    "duration": 7,
    "start_time": "2022-01-25T18:06:25.239Z"
   },
   {
    "duration": 55,
    "start_time": "2022-01-25T18:06:25.248Z"
   },
   {
    "duration": 16,
    "start_time": "2022-01-25T18:06:25.305Z"
   },
   {
    "duration": 9,
    "start_time": "2022-01-25T18:06:25.323Z"
   },
   {
    "duration": 19,
    "start_time": "2022-01-25T18:06:25.334Z"
   },
   {
    "duration": 49,
    "start_time": "2022-01-25T18:06:25.355Z"
   },
   {
    "duration": 9,
    "start_time": "2022-01-25T18:06:25.406Z"
   },
   {
    "duration": 9,
    "start_time": "2022-01-25T18:06:25.416Z"
   },
   {
    "duration": 8,
    "start_time": "2022-01-25T18:06:25.426Z"
   },
   {
    "duration": 6,
    "start_time": "2022-01-25T18:06:25.436Z"
   },
   {
    "duration": 49,
    "start_time": "2022-01-25T18:06:26.856Z"
   },
   {
    "duration": 44,
    "start_time": "2022-01-25T18:07:08.469Z"
   },
   {
    "duration": 253,
    "start_time": "2022-01-25T18:07:58.348Z"
   },
   {
    "duration": 227,
    "start_time": "2022-01-25T18:08:13.542Z"
   },
   {
    "duration": 233,
    "start_time": "2022-01-25T18:08:20.810Z"
   },
   {
    "duration": 992,
    "start_time": "2022-01-25T18:08:27.414Z"
   },
   {
    "duration": 17,
    "start_time": "2022-01-25T18:08:28.408Z"
   },
   {
    "duration": 9,
    "start_time": "2022-01-25T18:08:28.427Z"
   },
   {
    "duration": 7,
    "start_time": "2022-01-25T18:08:28.438Z"
   },
   {
    "duration": 14,
    "start_time": "2022-01-25T18:08:28.447Z"
   },
   {
    "duration": 9,
    "start_time": "2022-01-25T18:08:28.463Z"
   },
   {
    "duration": 21,
    "start_time": "2022-01-25T18:08:28.499Z"
   },
   {
    "duration": 20,
    "start_time": "2022-01-25T18:08:28.523Z"
   },
   {
    "duration": 8,
    "start_time": "2022-01-25T18:08:28.545Z"
   },
   {
    "duration": 44,
    "start_time": "2022-01-25T18:08:28.555Z"
   },
   {
    "duration": 16,
    "start_time": "2022-01-25T18:08:28.600Z"
   },
   {
    "duration": 9,
    "start_time": "2022-01-25T18:08:28.618Z"
   },
   {
    "duration": 19,
    "start_time": "2022-01-25T18:08:28.629Z"
   },
   {
    "duration": 52,
    "start_time": "2022-01-25T18:08:28.650Z"
   },
   {
    "duration": 8,
    "start_time": "2022-01-25T18:08:28.704Z"
   },
   {
    "duration": 7,
    "start_time": "2022-01-25T18:08:28.713Z"
   },
   {
    "duration": 10,
    "start_time": "2022-01-25T18:08:28.722Z"
   },
   {
    "duration": 5,
    "start_time": "2022-01-25T18:08:28.733Z"
   },
   {
    "duration": 58,
    "start_time": "2022-01-25T18:08:31.332Z"
   },
   {
    "duration": 242,
    "start_time": "2022-01-25T18:14:40.800Z"
   },
   {
    "duration": 244,
    "start_time": "2022-01-25T18:14:45.762Z"
   },
   {
    "duration": 16,
    "start_time": "2022-01-25T18:14:54.774Z"
   },
   {
    "duration": 15,
    "start_time": "2022-01-25T18:14:59.108Z"
   },
   {
    "duration": 214,
    "start_time": "2022-01-25T18:15:03.363Z"
   },
   {
    "duration": 17,
    "start_time": "2022-01-25T18:15:12.934Z"
   },
   {
    "duration": 16,
    "start_time": "2022-01-25T18:15:20.341Z"
   },
   {
    "duration": 15,
    "start_time": "2022-01-25T18:15:27.016Z"
   },
   {
    "duration": 15,
    "start_time": "2022-01-25T18:15:27.900Z"
   },
   {
    "duration": 211,
    "start_time": "2022-01-25T18:16:55.171Z"
   },
   {
    "duration": 225,
    "start_time": "2022-01-25T18:21:10.094Z"
   },
   {
    "duration": 378,
    "start_time": "2022-01-25T18:22:38.157Z"
   },
   {
    "duration": 5,
    "start_time": "2022-01-25T18:23:37.924Z"
   },
   {
    "duration": 11,
    "start_time": "2022-01-25T18:23:48.949Z"
   },
   {
    "duration": 75,
    "start_time": "2022-01-25T18:23:59.100Z"
   },
   {
    "duration": 79,
    "start_time": "2022-01-25T18:24:57.615Z"
   },
   {
    "duration": 374,
    "start_time": "2022-01-26T15:21:50.963Z"
   },
   {
    "duration": 1117,
    "start_time": "2022-01-26T15:22:00.560Z"
   },
   {
    "duration": 25,
    "start_time": "2022-01-26T15:22:01.680Z"
   },
   {
    "duration": 26,
    "start_time": "2022-01-26T15:22:01.708Z"
   },
   {
    "duration": 17,
    "start_time": "2022-01-26T15:22:01.736Z"
   },
   {
    "duration": 25,
    "start_time": "2022-01-26T15:22:01.756Z"
   },
   {
    "duration": 12,
    "start_time": "2022-01-26T15:22:01.784Z"
   },
   {
    "duration": 109,
    "start_time": "2022-01-26T15:22:01.799Z"
   },
   {
    "duration": 38,
    "start_time": "2022-01-26T15:22:01.913Z"
   },
   {
    "duration": 23,
    "start_time": "2022-01-26T15:22:01.953Z"
   },
   {
    "duration": 8,
    "start_time": "2022-01-26T15:22:01.979Z"
   },
   {
    "duration": 46,
    "start_time": "2022-01-26T15:22:01.989Z"
   },
   {
    "duration": 16,
    "start_time": "2022-01-26T15:22:02.037Z"
   },
   {
    "duration": 10,
    "start_time": "2022-01-26T15:22:02.056Z"
   },
   {
    "duration": 63,
    "start_time": "2022-01-26T15:22:02.069Z"
   },
   {
    "duration": 21,
    "start_time": "2022-01-26T15:22:02.135Z"
   },
   {
    "duration": 11,
    "start_time": "2022-01-26T15:22:02.159Z"
   },
   {
    "duration": 9,
    "start_time": "2022-01-26T15:22:02.172Z"
   },
   {
    "duration": 44,
    "start_time": "2022-01-26T15:22:02.183Z"
   },
   {
    "duration": 5,
    "start_time": "2022-01-26T15:22:02.229Z"
   },
   {
    "duration": 369,
    "start_time": "2022-01-26T15:22:23.063Z"
   },
   {
    "duration": 1125,
    "start_time": "2022-01-26T15:22:31.852Z"
   },
   {
    "duration": 26,
    "start_time": "2022-01-26T15:22:32.980Z"
   },
   {
    "duration": 10,
    "start_time": "2022-01-26T15:22:33.009Z"
   },
   {
    "duration": 23,
    "start_time": "2022-01-26T15:22:33.021Z"
   },
   {
    "duration": 22,
    "start_time": "2022-01-26T15:22:33.046Z"
   },
   {
    "duration": 16,
    "start_time": "2022-01-26T15:22:33.071Z"
   },
   {
    "duration": 137,
    "start_time": "2022-01-26T15:22:33.090Z"
   },
   {
    "duration": 31,
    "start_time": "2022-01-26T15:22:33.231Z"
   },
   {
    "duration": 26,
    "start_time": "2022-01-26T15:22:33.265Z"
   },
   {
    "duration": 34,
    "start_time": "2022-01-26T15:22:33.293Z"
   },
   {
    "duration": 21,
    "start_time": "2022-01-26T15:22:33.330Z"
   },
   {
    "duration": 22,
    "start_time": "2022-01-26T15:22:33.354Z"
   },
   {
    "duration": 17,
    "start_time": "2022-01-26T15:22:33.379Z"
   },
   {
    "duration": 44,
    "start_time": "2022-01-26T15:22:33.398Z"
   },
   {
    "duration": 20,
    "start_time": "2022-01-26T15:22:33.444Z"
   },
   {
    "duration": 12,
    "start_time": "2022-01-26T15:22:33.466Z"
   },
   {
    "duration": 47,
    "start_time": "2022-01-26T15:22:33.481Z"
   },
   {
    "duration": 14,
    "start_time": "2022-01-26T15:22:33.530Z"
   },
   {
    "duration": 7,
    "start_time": "2022-01-26T15:22:33.546Z"
   },
   {
    "duration": 85,
    "start_time": "2022-01-26T15:22:33.556Z"
   },
   {
    "duration": 114,
    "start_time": "2022-01-26T15:23:00.579Z"
   },
   {
    "duration": 70,
    "start_time": "2022-01-26T15:23:04.981Z"
   },
   {
    "duration": 397,
    "start_time": "2022-01-26T15:23:51.574Z"
   },
   {
    "duration": 335,
    "start_time": "2022-01-26T15:24:03.163Z"
   },
   {
    "duration": 1248,
    "start_time": "2022-01-26T15:24:08.002Z"
   },
   {
    "duration": 26,
    "start_time": "2022-01-26T15:24:09.253Z"
   },
   {
    "duration": 15,
    "start_time": "2022-01-26T15:24:09.282Z"
   },
   {
    "duration": 8,
    "start_time": "2022-01-26T15:24:09.299Z"
   },
   {
    "duration": 29,
    "start_time": "2022-01-26T15:24:09.309Z"
   },
   {
    "duration": 11,
    "start_time": "2022-01-26T15:24:09.340Z"
   },
   {
    "duration": 115,
    "start_time": "2022-01-26T15:24:09.353Z"
   },
   {
    "duration": 28,
    "start_time": "2022-01-26T15:24:09.472Z"
   },
   {
    "duration": 39,
    "start_time": "2022-01-26T15:24:09.503Z"
   },
   {
    "duration": 11,
    "start_time": "2022-01-26T15:24:09.545Z"
   },
   {
    "duration": 19,
    "start_time": "2022-01-26T15:24:09.559Z"
   },
   {
    "duration": 16,
    "start_time": "2022-01-26T15:24:09.580Z"
   },
   {
    "duration": 10,
    "start_time": "2022-01-26T15:24:09.624Z"
   },
   {
    "duration": 21,
    "start_time": "2022-01-26T15:24:09.636Z"
   },
   {
    "duration": 19,
    "start_time": "2022-01-26T15:24:09.659Z"
   },
   {
    "duration": 49,
    "start_time": "2022-01-26T15:24:09.680Z"
   },
   {
    "duration": 9,
    "start_time": "2022-01-26T15:24:09.731Z"
   },
   {
    "duration": 9,
    "start_time": "2022-01-26T15:24:09.742Z"
   },
   {
    "duration": 9,
    "start_time": "2022-01-26T15:24:09.753Z"
   },
   {
    "duration": 445,
    "start_time": "2022-01-26T15:24:09.764Z"
   },
   {
    "duration": 293,
    "start_time": "2022-01-26T15:24:09.919Z"
   },
   {
    "duration": 72,
    "start_time": "2022-01-26T15:24:17.918Z"
   },
   {
    "duration": 366,
    "start_time": "2022-01-26T15:25:23.006Z"
   },
   {
    "duration": 1537,
    "start_time": "2022-01-26T15:25:32.562Z"
   },
   {
    "duration": 23,
    "start_time": "2022-01-26T15:25:34.101Z"
   },
   {
    "duration": 10,
    "start_time": "2022-01-26T15:25:34.127Z"
   },
   {
    "duration": 8,
    "start_time": "2022-01-26T15:25:34.139Z"
   },
   {
    "duration": 20,
    "start_time": "2022-01-26T15:25:34.149Z"
   },
   {
    "duration": 11,
    "start_time": "2022-01-26T15:25:34.171Z"
   },
   {
    "duration": 139,
    "start_time": "2022-01-26T15:25:34.184Z"
   },
   {
    "duration": 29,
    "start_time": "2022-01-26T15:25:34.327Z"
   },
   {
    "duration": 22,
    "start_time": "2022-01-26T15:25:34.359Z"
   },
   {
    "duration": 9,
    "start_time": "2022-01-26T15:25:34.384Z"
   },
   {
    "duration": 18,
    "start_time": "2022-01-26T15:25:34.423Z"
   },
   {
    "duration": 16,
    "start_time": "2022-01-26T15:25:34.443Z"
   },
   {
    "duration": 10,
    "start_time": "2022-01-26T15:25:34.462Z"
   },
   {
    "duration": 57,
    "start_time": "2022-01-26T15:25:34.474Z"
   },
   {
    "duration": 20,
    "start_time": "2022-01-26T15:25:34.533Z"
   },
   {
    "duration": 10,
    "start_time": "2022-01-26T15:25:34.555Z"
   },
   {
    "duration": 7,
    "start_time": "2022-01-26T15:25:34.567Z"
   },
   {
    "duration": 9,
    "start_time": "2022-01-26T15:25:34.576Z"
   },
   {
    "duration": 4,
    "start_time": "2022-01-26T15:25:34.624Z"
   },
   {
    "duration": 70,
    "start_time": "2022-01-26T15:25:34.631Z"
   },
   {
    "duration": 42,
    "start_time": "2022-01-26T15:25:39.283Z"
   },
   {
    "duration": 354,
    "start_time": "2022-01-26T15:26:34.166Z"
   },
   {
    "duration": 1180,
    "start_time": "2022-01-26T15:26:55.999Z"
   },
   {
    "duration": 24,
    "start_time": "2022-01-26T15:26:57.182Z"
   },
   {
    "duration": 19,
    "start_time": "2022-01-26T15:26:57.210Z"
   },
   {
    "duration": 9,
    "start_time": "2022-01-26T15:26:57.232Z"
   },
   {
    "duration": 21,
    "start_time": "2022-01-26T15:26:57.244Z"
   },
   {
    "duration": 14,
    "start_time": "2022-01-26T15:26:57.268Z"
   },
   {
    "duration": 102,
    "start_time": "2022-01-26T15:26:57.325Z"
   },
   {
    "duration": 28,
    "start_time": "2022-01-26T15:26:57.433Z"
   },
   {
    "duration": 24,
    "start_time": "2022-01-26T15:26:57.465Z"
   },
   {
    "duration": 39,
    "start_time": "2022-01-26T15:26:57.492Z"
   },
   {
    "duration": 19,
    "start_time": "2022-01-26T15:26:57.534Z"
   },
   {
    "duration": 17,
    "start_time": "2022-01-26T15:26:57.556Z"
   },
   {
    "duration": 49,
    "start_time": "2022-01-26T15:26:57.575Z"
   },
   {
    "duration": 20,
    "start_time": "2022-01-26T15:26:57.626Z"
   },
   {
    "duration": 19,
    "start_time": "2022-01-26T15:26:57.648Z"
   },
   {
    "duration": 10,
    "start_time": "2022-01-26T15:26:57.669Z"
   },
   {
    "duration": 45,
    "start_time": "2022-01-26T15:26:57.681Z"
   },
   {
    "duration": 11,
    "start_time": "2022-01-26T15:26:57.728Z"
   },
   {
    "duration": 11,
    "start_time": "2022-01-26T15:26:57.741Z"
   },
   {
    "duration": 88,
    "start_time": "2022-01-26T15:26:57.755Z"
   },
   {
    "duration": 39,
    "start_time": "2022-01-26T15:26:57.845Z"
   },
   {
    "duration": 3,
    "start_time": "2022-01-26T15:27:04.997Z"
   },
   {
    "duration": 112,
    "start_time": "2022-01-26T15:30:36.482Z"
   },
   {
    "duration": 603,
    "start_time": "2022-01-26T15:30:54.214Z"
   },
   {
    "duration": 388,
    "start_time": "2022-01-26T15:31:16.934Z"
   },
   {
    "duration": 409,
    "start_time": "2022-01-26T15:32:00.019Z"
   },
   {
    "duration": 363,
    "start_time": "2022-01-26T15:32:36.230Z"
   },
   {
    "duration": 194,
    "start_time": "2022-01-26T15:33:05.009Z"
   },
   {
    "duration": 183,
    "start_time": "2022-01-26T15:37:14.640Z"
   },
   {
    "duration": 172,
    "start_time": "2022-01-26T15:37:46.835Z"
   },
   {
    "duration": 128,
    "start_time": "2022-01-26T15:38:29.306Z"
   },
   {
    "duration": 380,
    "start_time": "2022-01-26T15:39:13.244Z"
   },
   {
    "duration": 130,
    "start_time": "2022-01-26T15:39:45.716Z"
   },
   {
    "duration": 114,
    "start_time": "2022-01-26T15:40:05.907Z"
   },
   {
    "duration": 3,
    "start_time": "2022-01-26T16:02:12.888Z"
   },
   {
    "duration": 110,
    "start_time": "2022-01-26T16:03:12.020Z"
   },
   {
    "duration": 353,
    "start_time": "2022-01-26T16:03:16.144Z"
   },
   {
    "duration": 2159,
    "start_time": "2022-01-26T16:04:47.773Z"
   },
   {
    "duration": 2450,
    "start_time": "2022-01-26T16:04:52.525Z"
   },
   {
    "duration": 4331,
    "start_time": "2022-01-26T16:05:12.705Z"
   },
   {
    "duration": 2764,
    "start_time": "2022-01-26T16:05:59.220Z"
   },
   {
    "duration": 6333,
    "start_time": "2022-01-26T16:06:22.088Z"
   },
   {
    "duration": 106,
    "start_time": "2022-01-26T16:07:54.134Z"
   },
   {
    "duration": 74,
    "start_time": "2022-01-26T16:08:03.464Z"
   },
   {
    "duration": 82,
    "start_time": "2022-01-26T16:08:09.343Z"
   },
   {
    "duration": 69,
    "start_time": "2022-01-26T16:08:57.917Z"
   },
   {
    "duration": 69,
    "start_time": "2022-01-26T16:09:26.124Z"
   },
   {
    "duration": 69,
    "start_time": "2022-01-26T16:09:29.223Z"
   },
   {
    "duration": 478,
    "start_time": "2022-01-26T16:09:36.313Z"
   },
   {
    "duration": 17,
    "start_time": "2022-01-26T16:09:36.794Z"
   },
   {
    "duration": 28,
    "start_time": "2022-01-26T16:09:36.815Z"
   },
   {
    "duration": 9,
    "start_time": "2022-01-26T16:09:36.846Z"
   },
   {
    "duration": 25,
    "start_time": "2022-01-26T16:09:36.858Z"
   },
   {
    "duration": 11,
    "start_time": "2022-01-26T16:09:36.886Z"
   },
   {
    "duration": 71,
    "start_time": "2022-01-26T16:09:39.062Z"
   },
   {
    "duration": 405,
    "start_time": "2022-01-26T16:17:15.091Z"
   },
   {
    "duration": 425,
    "start_time": "2022-01-26T16:17:22.306Z"
   },
   {
    "duration": 550,
    "start_time": "2022-01-26T16:17:29.872Z"
   },
   {
    "duration": 477,
    "start_time": "2022-01-26T16:17:36.804Z"
   },
   {
    "duration": 14,
    "start_time": "2022-01-26T16:17:37.284Z"
   },
   {
    "duration": 22,
    "start_time": "2022-01-26T16:17:37.301Z"
   },
   {
    "duration": 7,
    "start_time": "2022-01-26T16:17:37.326Z"
   },
   {
    "duration": 21,
    "start_time": "2022-01-26T16:17:37.335Z"
   },
   {
    "duration": 12,
    "start_time": "2022-01-26T16:17:37.359Z"
   },
   {
    "duration": 118,
    "start_time": "2022-01-26T16:17:37.374Z"
   },
   {
    "duration": 104,
    "start_time": "2022-01-26T16:17:37.497Z"
   },
   {
    "duration": 38,
    "start_time": "2022-01-26T16:17:37.604Z"
   },
   {
    "duration": 26,
    "start_time": "2022-01-26T16:17:37.645Z"
   },
   {
    "duration": 12,
    "start_time": "2022-01-26T16:17:37.674Z"
   },
   {
    "duration": 21,
    "start_time": "2022-01-26T16:17:37.723Z"
   },
   {
    "duration": 19,
    "start_time": "2022-01-26T16:17:37.746Z"
   },
   {
    "duration": 11,
    "start_time": "2022-01-26T16:17:37.767Z"
   },
   {
    "duration": 58,
    "start_time": "2022-01-26T16:17:37.781Z"
   },
   {
    "duration": 21,
    "start_time": "2022-01-26T16:17:37.841Z"
   },
   {
    "duration": 17,
    "start_time": "2022-01-26T16:17:37.864Z"
   },
   {
    "duration": 8,
    "start_time": "2022-01-26T16:17:37.883Z"
   },
   {
    "duration": 8,
    "start_time": "2022-01-26T16:17:37.922Z"
   },
   {
    "duration": 431,
    "start_time": "2022-01-26T16:17:38.994Z"
   },
   {
    "duration": 30,
    "start_time": "2022-01-26T16:22:13.849Z"
   },
   {
    "duration": 54,
    "start_time": "2022-01-26T16:22:36.515Z"
   },
   {
    "duration": 45,
    "start_time": "2022-01-26T16:23:31.660Z"
   },
   {
    "duration": 38,
    "start_time": "2022-01-26T16:23:45.295Z"
   },
   {
    "duration": 62,
    "start_time": "2022-01-26T16:23:59.237Z"
   },
   {
    "duration": 24,
    "start_time": "2022-01-26T16:25:58.083Z"
   },
   {
    "duration": 22,
    "start_time": "2022-01-26T16:26:09.676Z"
   },
   {
    "duration": 7965,
    "start_time": "2022-01-26T16:26:16.211Z"
   },
   {
    "duration": 22,
    "start_time": "2022-01-26T16:26:24.521Z"
   },
   {
    "duration": 379,
    "start_time": "2022-01-26T16:32:31.558Z"
   },
   {
    "duration": 23,
    "start_time": "2022-01-26T16:32:37.360Z"
   },
   {
    "duration": 20,
    "start_time": "2022-01-26T16:33:23.535Z"
   },
   {
    "duration": 32,
    "start_time": "2022-01-26T16:33:28.161Z"
   },
   {
    "duration": 100,
    "start_time": "2022-01-26T16:34:11.077Z"
   },
   {
    "duration": 22,
    "start_time": "2022-01-26T16:34:21.532Z"
   },
   {
    "duration": 23,
    "start_time": "2022-01-26T16:34:32.991Z"
   },
   {
    "duration": 23,
    "start_time": "2022-01-26T16:35:49.759Z"
   },
   {
    "duration": 18,
    "start_time": "2022-01-26T16:35:56.864Z"
   },
   {
    "duration": 24,
    "start_time": "2022-01-26T16:36:02.404Z"
   },
   {
    "duration": 21,
    "start_time": "2022-01-26T16:36:07.788Z"
   },
   {
    "duration": 21,
    "start_time": "2022-01-26T16:37:31.004Z"
   },
   {
    "duration": 25,
    "start_time": "2022-01-26T16:37:39.809Z"
   },
   {
    "duration": 33,
    "start_time": "2022-01-26T16:38:18.576Z"
   },
   {
    "duration": 3,
    "start_time": "2022-01-26T16:39:58.420Z"
   },
   {
    "duration": 3,
    "start_time": "2022-01-26T16:40:07.035Z"
   },
   {
    "duration": 67,
    "start_time": "2022-01-26T16:43:18.403Z"
   },
   {
    "duration": 528,
    "start_time": "2022-01-26T16:43:59.378Z"
   },
   {
    "duration": 56,
    "start_time": "2022-01-26T16:44:03.932Z"
   },
   {
    "duration": 18,
    "start_time": "2022-01-26T16:45:26.389Z"
   },
   {
    "duration": 17,
    "start_time": "2022-01-26T16:46:33.753Z"
   },
   {
    "duration": 3,
    "start_time": "2022-01-26T16:46:45.824Z"
   },
   {
    "duration": 21,
    "start_time": "2022-01-26T16:55:12.768Z"
   },
   {
    "duration": 310,
    "start_time": "2022-01-26T17:04:51.564Z"
   },
   {
    "duration": 77,
    "start_time": "2022-01-26T17:05:26.204Z"
   },
   {
    "duration": 97,
    "start_time": "2022-01-26T17:09:29.184Z"
   },
   {
    "duration": 11,
    "start_time": "2022-01-26T17:10:18.637Z"
   },
   {
    "duration": 90,
    "start_time": "2022-01-26T17:10:21.130Z"
   },
   {
    "duration": 106,
    "start_time": "2022-01-26T17:10:28.078Z"
   },
   {
    "duration": 67,
    "start_time": "2022-01-26T17:20:41.715Z"
   },
   {
    "duration": 62,
    "start_time": "2022-01-26T17:20:57.939Z"
   },
   {
    "duration": 90,
    "start_time": "2022-01-26T17:21:16.155Z"
   },
   {
    "duration": 77,
    "start_time": "2022-01-26T17:21:25.218Z"
   },
   {
    "duration": 471,
    "start_time": "2022-01-26T17:21:35.169Z"
   },
   {
    "duration": 14,
    "start_time": "2022-01-26T17:21:35.643Z"
   },
   {
    "duration": 23,
    "start_time": "2022-01-26T17:21:35.660Z"
   },
   {
    "duration": 10,
    "start_time": "2022-01-26T17:21:35.685Z"
   },
   {
    "duration": 37,
    "start_time": "2022-01-26T17:21:35.697Z"
   },
   {
    "duration": 10,
    "start_time": "2022-01-26T17:21:35.736Z"
   },
   {
    "duration": 112,
    "start_time": "2022-01-26T17:21:35.749Z"
   },
   {
    "duration": 27,
    "start_time": "2022-01-26T17:21:35.865Z"
   },
   {
    "duration": 35,
    "start_time": "2022-01-26T17:21:35.894Z"
   },
   {
    "duration": 12,
    "start_time": "2022-01-26T17:21:35.931Z"
   },
   {
    "duration": 19,
    "start_time": "2022-01-26T17:21:35.946Z"
   },
   {
    "duration": 59,
    "start_time": "2022-01-26T17:21:35.968Z"
   },
   {
    "duration": 12,
    "start_time": "2022-01-26T17:21:36.030Z"
   },
   {
    "duration": 25,
    "start_time": "2022-01-26T17:21:36.045Z"
   },
   {
    "duration": 53,
    "start_time": "2022-01-26T17:21:36.072Z"
   },
   {
    "duration": 11,
    "start_time": "2022-01-26T17:21:36.128Z"
   },
   {
    "duration": 184,
    "start_time": "2022-01-26T17:21:36.141Z"
   },
   {
    "duration": 180,
    "start_time": "2022-01-26T17:21:36.328Z"
   },
   {
    "duration": 279,
    "start_time": "2022-01-26T17:21:36.510Z"
   },
   {
    "duration": 17,
    "start_time": "2022-01-26T17:21:36.792Z"
   },
   {
    "duration": 68,
    "start_time": "2022-01-26T17:21:45.987Z"
   },
   {
    "duration": 61,
    "start_time": "2022-01-26T17:22:19.212Z"
   },
   {
    "duration": 68,
    "start_time": "2022-01-26T17:22:43.659Z"
   },
   {
    "duration": 100,
    "start_time": "2022-01-26T17:37:17.939Z"
   },
   {
    "duration": 110,
    "start_time": "2022-01-26T17:38:12.883Z"
   },
   {
    "duration": 105,
    "start_time": "2022-01-26T17:38:20.841Z"
   },
   {
    "duration": 64,
    "start_time": "2022-01-26T17:39:30.220Z"
   },
   {
    "duration": 64,
    "start_time": "2022-01-26T17:40:06.128Z"
   },
   {
    "duration": 27,
    "start_time": "2022-01-26T17:40:35.155Z"
   },
   {
    "duration": 29,
    "start_time": "2022-01-26T17:41:24.531Z"
   },
   {
    "duration": 25,
    "start_time": "2022-01-26T17:42:12.441Z"
   },
   {
    "duration": 397,
    "start_time": "2022-01-26T17:45:31.827Z"
   },
   {
    "duration": 89,
    "start_time": "2022-01-26T17:45:39.058Z"
   },
   {
    "duration": 560,
    "start_time": "2022-01-26T17:46:25.038Z"
   },
   {
    "duration": 314,
    "start_time": "2022-01-26T17:46:35.756Z"
   },
   {
    "duration": 17,
    "start_time": "2022-01-26T17:46:48.517Z"
   },
   {
    "duration": 24,
    "start_time": "2022-01-26T17:50:01.020Z"
   },
   {
    "duration": 335,
    "start_time": "2022-01-26T17:50:42.436Z"
   },
   {
    "duration": 379,
    "start_time": "2022-01-26T17:50:47.028Z"
   },
   {
    "duration": 377,
    "start_time": "2022-01-26T17:51:04.770Z"
   },
   {
    "duration": 25,
    "start_time": "2022-01-26T17:51:20.545Z"
   },
   {
    "duration": 14,
    "start_time": "2022-01-26T17:52:03.614Z"
   },
   {
    "duration": 23,
    "start_time": "2022-01-26T17:52:13.452Z"
   },
   {
    "duration": 9251,
    "start_time": "2022-01-26T17:57:12.541Z"
   },
   {
    "duration": 358,
    "start_time": "2022-01-26T18:20:22.871Z"
   },
   {
    "duration": 10,
    "start_time": "2022-01-26T18:20:30.407Z"
   },
   {
    "duration": 29,
    "start_time": "2022-01-26T18:22:18.226Z"
   },
   {
    "duration": 368,
    "start_time": "2022-01-26T18:22:40.379Z"
   },
   {
    "duration": 21,
    "start_time": "2022-01-26T18:22:50.564Z"
   },
   {
    "duration": 23,
    "start_time": "2022-01-26T18:25:48.450Z"
   },
   {
    "duration": 19,
    "start_time": "2022-01-26T18:35:40.199Z"
   },
   {
    "duration": 18,
    "start_time": "2022-01-26T18:42:59.371Z"
   },
   {
    "duration": 21,
    "start_time": "2022-01-26T18:43:23.112Z"
   },
   {
    "duration": 5,
    "start_time": "2022-01-26T18:54:14.658Z"
   },
   {
    "duration": 17,
    "start_time": "2022-01-26T18:54:56.459Z"
   },
   {
    "duration": 14,
    "start_time": "2022-01-26T18:55:07.659Z"
   },
   {
    "duration": 20,
    "start_time": "2022-01-26T18:55:15.812Z"
   },
   {
    "duration": 32,
    "start_time": "2022-01-26T18:55:18.524Z"
   },
   {
    "duration": 27,
    "start_time": "2022-01-26T18:55:22.744Z"
   },
   {
    "duration": 121,
    "start_time": "2022-01-26T19:26:45.688Z"
   },
   {
    "duration": 100,
    "start_time": "2022-01-26T19:27:02.139Z"
   },
   {
    "duration": 122,
    "start_time": "2022-01-26T19:27:37.997Z"
   },
   {
    "duration": 132,
    "start_time": "2022-01-26T19:27:40.578Z"
   },
   {
    "duration": 118,
    "start_time": "2022-01-26T19:28:03.761Z"
   },
   {
    "duration": 116,
    "start_time": "2022-01-26T19:29:29.445Z"
   },
   {
    "duration": 126,
    "start_time": "2022-01-26T19:30:05.081Z"
   },
   {
    "duration": 117,
    "start_time": "2022-01-26T19:30:19.745Z"
   },
   {
    "duration": 100,
    "start_time": "2022-01-26T19:30:55.974Z"
   },
   {
    "duration": 9749,
    "start_time": "2022-01-26T19:31:19.553Z"
   },
   {
    "duration": 187,
    "start_time": "2022-01-26T19:32:08.934Z"
   },
   {
    "duration": 26,
    "start_time": "2022-01-26T19:35:48.691Z"
   },
   {
    "duration": 170,
    "start_time": "2022-01-26T19:35:56.530Z"
   },
   {
    "duration": 769,
    "start_time": "2022-01-26T20:48:17.497Z"
   },
   {
    "duration": 99,
    "start_time": "2022-01-26T20:48:33.735Z"
   },
   {
    "duration": 110,
    "start_time": "2022-01-26T20:48:41.759Z"
   },
   {
    "duration": 94,
    "start_time": "2022-01-26T20:48:49.297Z"
   },
   {
    "duration": 312,
    "start_time": "2022-01-26T20:49:02.371Z"
   },
   {
    "duration": 334,
    "start_time": "2022-01-26T20:49:24.988Z"
   },
   {
    "duration": 312,
    "start_time": "2022-01-26T20:51:26.587Z"
   },
   {
    "duration": 20,
    "start_time": "2022-01-26T20:55:16.269Z"
   },
   {
    "duration": 19,
    "start_time": "2022-01-26T20:55:43.025Z"
   },
   {
    "duration": 309,
    "start_time": "2022-01-26T20:55:53.156Z"
   },
   {
    "duration": 21,
    "start_time": "2022-01-26T21:15:08.607Z"
   },
   {
    "duration": 22,
    "start_time": "2022-01-26T21:15:20.944Z"
   },
   {
    "duration": 342,
    "start_time": "2022-01-26T21:15:33.004Z"
   },
   {
    "duration": 22,
    "start_time": "2022-01-26T21:18:09.189Z"
   },
   {
    "duration": 24,
    "start_time": "2022-01-26T21:18:15.895Z"
   },
   {
    "duration": 23,
    "start_time": "2022-01-26T21:18:19.309Z"
   },
   {
    "duration": 21,
    "start_time": "2022-01-26T21:18:26.916Z"
   },
   {
    "duration": 23,
    "start_time": "2022-01-26T21:18:38.413Z"
   },
   {
    "duration": 22,
    "start_time": "2022-01-26T21:18:40.146Z"
   },
   {
    "duration": 27,
    "start_time": "2022-01-26T21:18:51.589Z"
   },
   {
    "duration": 31,
    "start_time": "2022-01-26T21:26:34.598Z"
   },
   {
    "duration": 27,
    "start_time": "2022-01-26T21:26:35.409Z"
   },
   {
    "duration": 23,
    "start_time": "2022-01-26T21:28:01.401Z"
   },
   {
    "duration": 23,
    "start_time": "2022-01-26T21:28:12.689Z"
   },
   {
    "duration": 30,
    "start_time": "2022-01-26T21:28:17.504Z"
   },
   {
    "duration": 25,
    "start_time": "2022-01-26T21:28:21.229Z"
   },
   {
    "duration": 24,
    "start_time": "2022-01-26T21:28:28.994Z"
   },
   {
    "duration": 23,
    "start_time": "2022-01-26T21:28:29.783Z"
   },
   {
    "duration": 22,
    "start_time": "2022-01-26T21:28:32.775Z"
   },
   {
    "duration": 26,
    "start_time": "2022-01-26T21:28:39.719Z"
   },
   {
    "duration": 22,
    "start_time": "2022-01-26T21:28:40.463Z"
   },
   {
    "duration": 23,
    "start_time": "2022-01-26T21:28:41.153Z"
   },
   {
    "duration": 466,
    "start_time": "2022-01-26T21:28:45.081Z"
   },
   {
    "duration": 12,
    "start_time": "2022-01-26T21:28:45.550Z"
   },
   {
    "duration": 11,
    "start_time": "2022-01-26T21:28:45.565Z"
   },
   {
    "duration": 7,
    "start_time": "2022-01-26T21:28:45.579Z"
   },
   {
    "duration": 43,
    "start_time": "2022-01-26T21:28:45.589Z"
   },
   {
    "duration": 11,
    "start_time": "2022-01-26T21:28:45.635Z"
   },
   {
    "duration": 10,
    "start_time": "2022-01-26T21:28:45.648Z"
   },
   {
    "duration": 115,
    "start_time": "2022-01-26T21:28:45.662Z"
   },
   {
    "duration": 24,
    "start_time": "2022-01-26T21:28:45.780Z"
   },
   {
    "duration": 46,
    "start_time": "2022-01-26T21:28:45.806Z"
   },
   {
    "duration": 10,
    "start_time": "2022-01-26T21:28:45.854Z"
   },
   {
    "duration": 18,
    "start_time": "2022-01-26T21:28:45.866Z"
   },
   {
    "duration": 52,
    "start_time": "2022-01-26T21:28:45.886Z"
   },
   {
    "duration": 16,
    "start_time": "2022-01-26T21:28:45.941Z"
   },
   {
    "duration": 21,
    "start_time": "2022-01-26T21:28:45.959Z"
   },
   {
    "duration": 49,
    "start_time": "2022-01-26T21:28:45.983Z"
   },
   {
    "duration": 15,
    "start_time": "2022-01-26T21:28:46.035Z"
   },
   {
    "duration": 9,
    "start_time": "2022-01-26T21:28:46.052Z"
   },
   {
    "duration": 7,
    "start_time": "2022-01-26T21:28:46.064Z"
   },
   {
    "duration": 130,
    "start_time": "2022-01-26T21:28:46.073Z"
   },
   {
    "duration": 4,
    "start_time": "2022-01-26T21:28:46.206Z"
   },
   {
    "duration": 83,
    "start_time": "2022-01-26T21:28:46.212Z"
   },
   {
    "duration": 90,
    "start_time": "2022-01-26T21:28:46.299Z"
   },
   {
    "duration": 13,
    "start_time": "2022-01-26T21:28:46.391Z"
   },
   {
    "duration": 23,
    "start_time": "2022-01-26T21:28:46.423Z"
   },
   {
    "duration": 21,
    "start_time": "2022-01-26T21:28:46.449Z"
   },
   {
    "duration": 21,
    "start_time": "2022-01-26T21:28:53.773Z"
   },
   {
    "duration": 26,
    "start_time": "2022-01-26T21:29:03.416Z"
   },
   {
    "duration": 22,
    "start_time": "2022-01-26T21:29:21.685Z"
   },
   {
    "duration": 21,
    "start_time": "2022-01-26T21:31:17.983Z"
   },
   {
    "duration": 30,
    "start_time": "2022-01-26T21:31:23.386Z"
   },
   {
    "duration": 22,
    "start_time": "2022-01-26T21:31:52.898Z"
   },
   {
    "duration": 482,
    "start_time": "2022-01-26T21:39:49.738Z"
   },
   {
    "duration": 19,
    "start_time": "2022-01-26T21:39:50.223Z"
   },
   {
    "duration": 11,
    "start_time": "2022-01-26T21:39:50.245Z"
   },
   {
    "duration": 8,
    "start_time": "2022-01-26T21:39:50.260Z"
   },
   {
    "duration": 58,
    "start_time": "2022-01-26T21:39:50.271Z"
   },
   {
    "duration": 13,
    "start_time": "2022-01-26T21:39:50.332Z"
   },
   {
    "duration": 11,
    "start_time": "2022-01-26T21:39:50.348Z"
   },
   {
    "duration": 130,
    "start_time": "2022-01-26T21:39:50.364Z"
   },
   {
    "duration": 46,
    "start_time": "2022-01-26T21:39:50.497Z"
   },
   {
    "duration": 24,
    "start_time": "2022-01-26T21:39:50.546Z"
   },
   {
    "duration": 10,
    "start_time": "2022-01-26T21:39:50.573Z"
   },
   {
    "duration": 62,
    "start_time": "2022-01-26T21:39:50.585Z"
   },
   {
    "duration": 20,
    "start_time": "2022-01-26T21:39:50.649Z"
   },
   {
    "duration": 13,
    "start_time": "2022-01-26T21:39:50.672Z"
   },
   {
    "duration": 55,
    "start_time": "2022-01-26T21:39:50.688Z"
   },
   {
    "duration": 21,
    "start_time": "2022-01-26T21:39:50.745Z"
   },
   {
    "duration": 19,
    "start_time": "2022-01-26T21:39:50.768Z"
   },
   {
    "duration": 18,
    "start_time": "2022-01-26T21:39:50.789Z"
   },
   {
    "duration": 37,
    "start_time": "2022-01-26T21:39:50.809Z"
   },
   {
    "duration": 117,
    "start_time": "2022-01-26T21:39:50.848Z"
   },
   {
    "duration": 3,
    "start_time": "2022-01-26T21:39:50.968Z"
   },
   {
    "duration": 124,
    "start_time": "2022-01-26T21:39:50.974Z"
   },
   {
    "duration": 142,
    "start_time": "2022-01-26T21:39:51.104Z"
   },
   {
    "duration": 21,
    "start_time": "2022-01-26T21:39:51.249Z"
   },
   {
    "duration": 28,
    "start_time": "2022-01-26T21:39:51.272Z"
   },
   {
    "duration": 45,
    "start_time": "2022-01-26T21:39:51.302Z"
   },
   {
    "duration": 24,
    "start_time": "2022-01-26T21:39:55.915Z"
   },
   {
    "duration": 586,
    "start_time": "2022-01-26T21:41:25.705Z"
   },
   {
    "duration": 15,
    "start_time": "2022-01-26T21:41:26.293Z"
   },
   {
    "duration": 17,
    "start_time": "2022-01-26T21:41:26.311Z"
   },
   {
    "duration": 9,
    "start_time": "2022-01-26T21:41:26.331Z"
   },
   {
    "duration": 25,
    "start_time": "2022-01-26T21:41:26.342Z"
   },
   {
    "duration": 10,
    "start_time": "2022-01-26T21:41:26.369Z"
   },
   {
    "duration": 42,
    "start_time": "2022-01-26T21:41:26.382Z"
   },
   {
    "duration": 110,
    "start_time": "2022-01-26T21:41:26.430Z"
   },
   {
    "duration": 27,
    "start_time": "2022-01-26T21:41:26.543Z"
   },
   {
    "duration": 25,
    "start_time": "2022-01-26T21:41:26.573Z"
   },
   {
    "duration": 18,
    "start_time": "2022-01-26T21:41:26.624Z"
   },
   {
    "duration": 19,
    "start_time": "2022-01-26T21:41:26.645Z"
   },
   {
    "duration": 17,
    "start_time": "2022-01-26T21:41:26.667Z"
   },
   {
    "duration": 49,
    "start_time": "2022-01-26T21:41:26.686Z"
   },
   {
    "duration": 26,
    "start_time": "2022-01-26T21:41:26.737Z"
   },
   {
    "duration": 22,
    "start_time": "2022-01-26T21:41:26.767Z"
   },
   {
    "duration": 46,
    "start_time": "2022-01-26T21:41:26.792Z"
   },
   {
    "duration": 10,
    "start_time": "2022-01-26T21:41:26.843Z"
   },
   {
    "duration": 9,
    "start_time": "2022-01-26T21:41:26.856Z"
   },
   {
    "duration": 142,
    "start_time": "2022-01-26T21:41:26.868Z"
   },
   {
    "duration": 11,
    "start_time": "2022-01-26T21:41:27.013Z"
   },
   {
    "duration": 82,
    "start_time": "2022-01-26T21:41:27.026Z"
   },
   {
    "duration": 92,
    "start_time": "2022-01-26T21:41:27.113Z"
   },
   {
    "duration": 30,
    "start_time": "2022-01-26T21:41:27.208Z"
   },
   {
    "duration": 27,
    "start_time": "2022-01-26T21:41:27.242Z"
   },
   {
    "duration": 26,
    "start_time": "2022-01-26T21:41:27.272Z"
   },
   {
    "duration": 48,
    "start_time": "2022-01-26T21:41:27.300Z"
   },
   {
    "duration": 501,
    "start_time": "2022-01-26T21:45:15.490Z"
   },
   {
    "duration": 13,
    "start_time": "2022-01-26T21:45:15.994Z"
   },
   {
    "duration": 15,
    "start_time": "2022-01-26T21:45:16.011Z"
   },
   {
    "duration": 15,
    "start_time": "2022-01-26T21:45:16.029Z"
   },
   {
    "duration": 23,
    "start_time": "2022-01-26T21:45:16.047Z"
   },
   {
    "duration": 21,
    "start_time": "2022-01-26T21:45:16.073Z"
   },
   {
    "duration": 37,
    "start_time": "2022-01-26T21:45:16.097Z"
   },
   {
    "duration": 134,
    "start_time": "2022-01-26T21:45:16.140Z"
   },
   {
    "duration": 56,
    "start_time": "2022-01-26T21:45:16.277Z"
   },
   {
    "duration": 27,
    "start_time": "2022-01-26T21:45:16.335Z"
   },
   {
    "duration": 12,
    "start_time": "2022-01-26T21:45:16.365Z"
   },
   {
    "duration": 59,
    "start_time": "2022-01-26T21:45:16.380Z"
   },
   {
    "duration": 21,
    "start_time": "2022-01-26T21:45:16.441Z"
   },
   {
    "duration": 11,
    "start_time": "2022-01-26T21:45:16.465Z"
   },
   {
    "duration": 23,
    "start_time": "2022-01-26T21:45:16.479Z"
   },
   {
    "duration": 47,
    "start_time": "2022-01-26T21:45:16.505Z"
   },
   {
    "duration": 12,
    "start_time": "2022-01-26T21:45:16.554Z"
   },
   {
    "duration": 12,
    "start_time": "2022-01-26T21:45:16.568Z"
   },
   {
    "duration": 10,
    "start_time": "2022-01-26T21:45:16.623Z"
   },
   {
    "duration": 167,
    "start_time": "2022-01-26T21:45:16.636Z"
   },
   {
    "duration": 3,
    "start_time": "2022-01-26T21:45:16.806Z"
   },
   {
    "duration": 85,
    "start_time": "2022-01-26T21:45:16.811Z"
   },
   {
    "duration": 103,
    "start_time": "2022-01-26T21:45:16.900Z"
   },
   {
    "duration": 28,
    "start_time": "2022-01-26T21:45:17.005Z"
   },
   {
    "duration": 33,
    "start_time": "2022-01-26T21:45:17.035Z"
   },
   {
    "duration": 22,
    "start_time": "2022-01-26T21:45:17.070Z"
   },
   {
    "duration": 15,
    "start_time": "2022-01-26T21:45:43.580Z"
   },
   {
    "duration": 19,
    "start_time": "2022-01-26T22:00:16.087Z"
   },
   {
    "duration": 17,
    "start_time": "2022-01-26T22:00:37.055Z"
   },
   {
    "duration": 22,
    "start_time": "2022-01-26T22:00:39.820Z"
   },
   {
    "duration": 19,
    "start_time": "2022-01-26T22:00:43.065Z"
   },
   {
    "duration": 12,
    "start_time": "2022-01-26T22:01:02.614Z"
   },
   {
    "duration": 22,
    "start_time": "2022-01-26T22:01:13.238Z"
   },
   {
    "duration": 21,
    "start_time": "2022-01-26T22:01:49.224Z"
   },
   {
    "duration": 21,
    "start_time": "2022-01-26T22:02:00.276Z"
   },
   {
    "duration": 662,
    "start_time": "2022-01-26T22:02:16.312Z"
   },
   {
    "duration": 21,
    "start_time": "2022-01-26T22:02:16.977Z"
   },
   {
    "duration": 28,
    "start_time": "2022-01-26T22:02:17.001Z"
   },
   {
    "duration": 16,
    "start_time": "2022-01-26T22:02:17.032Z"
   },
   {
    "duration": 24,
    "start_time": "2022-01-26T22:02:17.053Z"
   },
   {
    "duration": 15,
    "start_time": "2022-01-26T22:02:17.080Z"
   },
   {
    "duration": 42,
    "start_time": "2022-01-26T22:02:17.098Z"
   },
   {
    "duration": 120,
    "start_time": "2022-01-26T22:02:17.145Z"
   },
   {
    "duration": 35,
    "start_time": "2022-01-26T22:02:17.268Z"
   },
   {
    "duration": 37,
    "start_time": "2022-01-26T22:02:17.325Z"
   },
   {
    "duration": 14,
    "start_time": "2022-01-26T22:02:17.365Z"
   },
   {
    "duration": 75,
    "start_time": "2022-01-26T22:02:17.382Z"
   },
   {
    "duration": 20,
    "start_time": "2022-01-26T22:02:17.461Z"
   },
   {
    "duration": 11,
    "start_time": "2022-01-26T22:02:17.484Z"
   },
   {
    "duration": 62,
    "start_time": "2022-01-26T22:02:17.497Z"
   },
   {
    "duration": 33,
    "start_time": "2022-01-26T22:02:17.562Z"
   },
   {
    "duration": 31,
    "start_time": "2022-01-26T22:02:17.598Z"
   },
   {
    "duration": 15,
    "start_time": "2022-01-26T22:02:17.632Z"
   },
   {
    "duration": 12,
    "start_time": "2022-01-26T22:02:17.650Z"
   },
   {
    "duration": 157,
    "start_time": "2022-01-26T22:02:17.665Z"
   },
   {
    "duration": 3,
    "start_time": "2022-01-26T22:02:17.826Z"
   },
   {
    "duration": 86,
    "start_time": "2022-01-26T22:02:17.833Z"
   },
   {
    "duration": 101,
    "start_time": "2022-01-26T22:02:17.924Z"
   },
   {
    "duration": 25,
    "start_time": "2022-01-26T22:02:18.028Z"
   },
   {
    "duration": 28,
    "start_time": "2022-01-26T22:02:18.056Z"
   },
   {
    "duration": 48,
    "start_time": "2022-01-26T22:02:18.087Z"
   },
   {
    "duration": 21,
    "start_time": "2022-01-26T22:02:21.666Z"
   },
   {
    "duration": 15,
    "start_time": "2022-01-26T22:02:23.869Z"
   },
   {
    "duration": 16,
    "start_time": "2022-01-26T22:02:25.260Z"
   },
   {
    "duration": 366,
    "start_time": "2022-01-26T22:02:26.555Z"
   },
   {
    "duration": 496,
    "start_time": "2022-01-26T22:02:42.205Z"
   },
   {
    "duration": 18,
    "start_time": "2022-01-26T22:02:42.704Z"
   },
   {
    "duration": 30,
    "start_time": "2022-01-26T22:02:42.726Z"
   },
   {
    "duration": 8,
    "start_time": "2022-01-26T22:02:42.759Z"
   },
   {
    "duration": 21,
    "start_time": "2022-01-26T22:02:42.770Z"
   },
   {
    "duration": 38,
    "start_time": "2022-01-26T22:02:42.793Z"
   },
   {
    "duration": 23,
    "start_time": "2022-01-26T22:02:42.835Z"
   },
   {
    "duration": 121,
    "start_time": "2022-01-26T22:02:42.863Z"
   },
   {
    "duration": 44,
    "start_time": "2022-01-26T22:02:42.988Z"
   },
   {
    "duration": 29,
    "start_time": "2022-01-26T22:02:43.035Z"
   },
   {
    "duration": 14,
    "start_time": "2022-01-26T22:02:43.067Z"
   },
   {
    "duration": 54,
    "start_time": "2022-01-26T22:02:43.084Z"
   },
   {
    "duration": 27,
    "start_time": "2022-01-26T22:02:43.141Z"
   },
   {
    "duration": 17,
    "start_time": "2022-01-26T22:02:43.171Z"
   },
   {
    "duration": 63,
    "start_time": "2022-01-26T22:02:43.191Z"
   },
   {
    "duration": 33,
    "start_time": "2022-01-26T22:02:43.257Z"
   },
   {
    "duration": 31,
    "start_time": "2022-01-26T22:02:43.293Z"
   },
   {
    "duration": 25,
    "start_time": "2022-01-26T22:02:43.326Z"
   },
   {
    "duration": 14,
    "start_time": "2022-01-26T22:02:43.355Z"
   },
   {
    "duration": 180,
    "start_time": "2022-01-26T22:02:43.372Z"
   },
   {
    "duration": 4,
    "start_time": "2022-01-26T22:02:43.555Z"
   },
   {
    "duration": 93,
    "start_time": "2022-01-26T22:02:43.561Z"
   },
   {
    "duration": 97,
    "start_time": "2022-01-26T22:02:43.658Z"
   },
   {
    "duration": 15,
    "start_time": "2022-01-26T22:02:43.757Z"
   },
   {
    "duration": 46,
    "start_time": "2022-01-26T22:02:43.775Z"
   },
   {
    "duration": 28,
    "start_time": "2022-01-26T22:02:43.824Z"
   },
   {
    "duration": 14,
    "start_time": "2022-01-26T22:02:51.261Z"
   },
   {
    "duration": 33,
    "start_time": "2022-01-26T22:02:57.542Z"
   },
   {
    "duration": 197,
    "start_time": "2022-01-26T22:04:53.360Z"
   },
   {
    "duration": 18,
    "start_time": "2022-01-26T22:09:22.914Z"
   },
   {
    "duration": 29,
    "start_time": "2022-01-26T22:09:28.994Z"
   },
   {
    "duration": 495,
    "start_time": "2022-01-26T22:09:38.223Z"
   },
   {
    "duration": 19,
    "start_time": "2022-01-26T22:09:38.721Z"
   },
   {
    "duration": 10,
    "start_time": "2022-01-26T22:09:38.744Z"
   },
   {
    "duration": 9,
    "start_time": "2022-01-26T22:09:38.757Z"
   },
   {
    "duration": 19,
    "start_time": "2022-01-26T22:09:38.768Z"
   },
   {
    "duration": 14,
    "start_time": "2022-01-26T22:09:38.824Z"
   },
   {
    "duration": 22,
    "start_time": "2022-01-26T22:09:38.841Z"
   },
   {
    "duration": 125,
    "start_time": "2022-01-26T22:09:38.867Z"
   },
   {
    "duration": 43,
    "start_time": "2022-01-26T22:09:38.996Z"
   },
   {
    "duration": 27,
    "start_time": "2022-01-26T22:09:39.041Z"
   },
   {
    "duration": 11,
    "start_time": "2022-01-26T22:09:39.070Z"
   },
   {
    "duration": 52,
    "start_time": "2022-01-26T22:09:39.084Z"
   },
   {
    "duration": 19,
    "start_time": "2022-01-26T22:09:39.139Z"
   },
   {
    "duration": 15,
    "start_time": "2022-01-26T22:09:39.161Z"
   },
   {
    "duration": 57,
    "start_time": "2022-01-26T22:09:39.179Z"
   },
   {
    "duration": 22,
    "start_time": "2022-01-26T22:09:39.239Z"
   },
   {
    "duration": 11,
    "start_time": "2022-01-26T22:09:39.264Z"
   },
   {
    "duration": 9,
    "start_time": "2022-01-26T22:09:39.278Z"
   },
   {
    "duration": 40,
    "start_time": "2022-01-26T22:09:39.289Z"
   },
   {
    "duration": 176,
    "start_time": "2022-01-26T22:09:39.332Z"
   },
   {
    "duration": 3,
    "start_time": "2022-01-26T22:09:39.510Z"
   },
   {
    "duration": 83,
    "start_time": "2022-01-26T22:09:39.523Z"
   },
   {
    "duration": 99,
    "start_time": "2022-01-26T22:09:39.626Z"
   },
   {
    "duration": 18,
    "start_time": "2022-01-26T22:09:39.728Z"
   },
   {
    "duration": 37,
    "start_time": "2022-01-26T22:09:39.748Z"
   },
   {
    "duration": 48,
    "start_time": "2022-01-26T22:09:39.788Z"
   },
   {
    "duration": 27,
    "start_time": "2022-01-26T22:09:46.727Z"
   },
   {
    "duration": 15,
    "start_time": "2022-01-26T22:09:49.256Z"
   },
   {
    "duration": 30,
    "start_time": "2022-01-26T22:09:54.944Z"
   },
   {
    "duration": 992,
    "start_time": "2022-01-27T16:44:32.623Z"
   },
   {
    "duration": 15,
    "start_time": "2022-01-27T16:44:33.617Z"
   },
   {
    "duration": 6,
    "start_time": "2022-01-27T16:44:33.633Z"
   },
   {
    "duration": 5,
    "start_time": "2022-01-27T16:44:33.641Z"
   },
   {
    "duration": 12,
    "start_time": "2022-01-27T16:44:33.647Z"
   },
   {
    "duration": 12,
    "start_time": "2022-01-27T16:44:33.660Z"
   },
   {
    "duration": 6,
    "start_time": "2022-01-27T16:44:33.673Z"
   },
   {
    "duration": 66,
    "start_time": "2022-01-27T16:44:33.681Z"
   },
   {
    "duration": 38,
    "start_time": "2022-01-27T16:44:33.749Z"
   },
   {
    "duration": 17,
    "start_time": "2022-01-27T16:44:33.788Z"
   },
   {
    "duration": 6,
    "start_time": "2022-01-27T16:44:33.806Z"
   },
   {
    "duration": 13,
    "start_time": "2022-01-27T16:44:33.813Z"
   },
   {
    "duration": 12,
    "start_time": "2022-01-27T16:44:33.827Z"
   },
   {
    "duration": 33,
    "start_time": "2022-01-27T16:44:33.840Z"
   },
   {
    "duration": 16,
    "start_time": "2022-01-27T16:44:33.874Z"
   },
   {
    "duration": 19,
    "start_time": "2022-01-27T16:44:33.891Z"
   },
   {
    "duration": 7,
    "start_time": "2022-01-27T16:44:33.912Z"
   },
   {
    "duration": 5,
    "start_time": "2022-01-27T16:44:33.920Z"
   },
   {
    "duration": 5,
    "start_time": "2022-01-27T16:44:33.927Z"
   },
   {
    "duration": 106,
    "start_time": "2022-01-27T16:44:33.933Z"
   },
   {
    "duration": 2,
    "start_time": "2022-01-27T16:44:34.041Z"
   },
   {
    "duration": 53,
    "start_time": "2022-01-27T16:44:34.044Z"
   },
   {
    "duration": 72,
    "start_time": "2022-01-27T16:44:34.100Z"
   },
   {
    "duration": 11,
    "start_time": "2022-01-27T16:44:34.174Z"
   },
   {
    "duration": 12,
    "start_time": "2022-01-27T16:44:34.186Z"
   },
   {
    "duration": 13,
    "start_time": "2022-01-27T16:44:34.199Z"
   },
   {
    "duration": 9,
    "start_time": "2022-01-27T16:44:34.213Z"
   },
   {
    "duration": 11,
    "start_time": "2022-01-27T16:44:34.224Z"
   },
   {
    "duration": 100,
    "start_time": "2022-01-27T16:44:36.247Z"
   },
   {
    "duration": 290,
    "start_time": "2022-01-27T16:46:32.353Z"
   },
   {
    "duration": 16,
    "start_time": "2022-01-27T16:46:40.134Z"
   },
   {
    "duration": 379,
    "start_time": "2022-01-27T16:47:14.189Z"
   },
   {
    "duration": 9,
    "start_time": "2022-01-27T16:47:14.570Z"
   },
   {
    "duration": 12,
    "start_time": "2022-01-27T16:47:14.581Z"
   },
   {
    "duration": 18,
    "start_time": "2022-01-27T16:47:14.595Z"
   },
   {
    "duration": 21,
    "start_time": "2022-01-27T16:47:14.615Z"
   },
   {
    "duration": 22,
    "start_time": "2022-01-27T16:47:14.637Z"
   },
   {
    "duration": 15,
    "start_time": "2022-01-27T16:47:14.660Z"
   },
   {
    "duration": 69,
    "start_time": "2022-01-27T16:47:14.677Z"
   },
   {
    "duration": 20,
    "start_time": "2022-01-27T16:47:14.747Z"
   },
   {
    "duration": 18,
    "start_time": "2022-01-27T16:47:14.768Z"
   },
   {
    "duration": 6,
    "start_time": "2022-01-27T16:47:14.788Z"
   },
   {
    "duration": 18,
    "start_time": "2022-01-27T16:47:14.795Z"
   },
   {
    "duration": 13,
    "start_time": "2022-01-27T16:47:14.814Z"
   },
   {
    "duration": 8,
    "start_time": "2022-01-27T16:47:14.828Z"
   },
   {
    "duration": 47,
    "start_time": "2022-01-27T16:47:14.837Z"
   },
   {
    "duration": 15,
    "start_time": "2022-01-27T16:47:14.885Z"
   },
   {
    "duration": 6,
    "start_time": "2022-01-27T16:47:14.902Z"
   },
   {
    "duration": 8,
    "start_time": "2022-01-27T16:47:14.910Z"
   },
   {
    "duration": 9,
    "start_time": "2022-01-27T16:47:14.920Z"
   },
   {
    "duration": 95,
    "start_time": "2022-01-27T16:47:14.931Z"
   },
   {
    "duration": 2,
    "start_time": "2022-01-27T16:47:15.028Z"
   },
   {
    "duration": 56,
    "start_time": "2022-01-27T16:47:15.031Z"
   },
   {
    "duration": 52,
    "start_time": "2022-01-27T16:47:15.090Z"
   },
   {
    "duration": 10,
    "start_time": "2022-01-27T16:47:15.144Z"
   },
   {
    "duration": 27,
    "start_time": "2022-01-27T16:47:15.156Z"
   },
   {
    "duration": 14,
    "start_time": "2022-01-27T16:47:15.185Z"
   },
   {
    "duration": 8,
    "start_time": "2022-01-27T16:47:15.200Z"
   },
   {
    "duration": 10,
    "start_time": "2022-01-27T16:47:15.210Z"
   },
   {
    "duration": 129,
    "start_time": "2022-01-27T16:47:15.221Z"
   },
   {
    "duration": 15,
    "start_time": "2022-01-27T16:47:28.800Z"
   },
   {
    "duration": 17,
    "start_time": "2022-01-27T16:47:53.538Z"
   },
   {
    "duration": 19,
    "start_time": "2022-01-27T16:48:01.999Z"
   },
   {
    "duration": 16,
    "start_time": "2022-01-27T16:48:54.342Z"
   },
   {
    "duration": 16,
    "start_time": "2022-01-27T16:49:15.009Z"
   },
   {
    "duration": 18,
    "start_time": "2022-01-27T16:50:03.883Z"
   },
   {
    "duration": 725,
    "start_time": "2022-01-27T17:09:30.756Z"
   },
   {
    "duration": 10,
    "start_time": "2022-01-27T17:11:09.402Z"
   },
   {
    "duration": 10,
    "start_time": "2022-01-27T17:16:46.803Z"
   },
   {
    "duration": 11,
    "start_time": "2022-01-27T17:16:53.723Z"
   },
   {
    "duration": 5,
    "start_time": "2022-01-27T17:17:30.243Z"
   },
   {
    "duration": 5,
    "start_time": "2022-01-27T17:18:24.593Z"
   },
   {
    "duration": 373,
    "start_time": "2022-01-27T17:18:38.879Z"
   },
   {
    "duration": 8,
    "start_time": "2022-01-27T17:18:39.254Z"
   },
   {
    "duration": 7,
    "start_time": "2022-01-27T17:18:39.264Z"
   },
   {
    "duration": 5,
    "start_time": "2022-01-27T17:18:39.272Z"
   },
   {
    "duration": 13,
    "start_time": "2022-01-27T17:18:39.278Z"
   },
   {
    "duration": 6,
    "start_time": "2022-01-27T17:18:39.292Z"
   },
   {
    "duration": 8,
    "start_time": "2022-01-27T17:18:39.299Z"
   },
   {
    "duration": 85,
    "start_time": "2022-01-27T17:18:39.309Z"
   },
   {
    "duration": 19,
    "start_time": "2022-01-27T17:18:39.396Z"
   },
   {
    "duration": 15,
    "start_time": "2022-01-27T17:18:39.417Z"
   },
   {
    "duration": 5,
    "start_time": "2022-01-27T17:18:39.434Z"
   },
   {
    "duration": 36,
    "start_time": "2022-01-27T17:18:39.441Z"
   },
   {
    "duration": 12,
    "start_time": "2022-01-27T17:18:39.479Z"
   },
   {
    "duration": 7,
    "start_time": "2022-01-27T17:18:39.492Z"
   },
   {
    "duration": 15,
    "start_time": "2022-01-27T17:18:39.500Z"
   },
   {
    "duration": 13,
    "start_time": "2022-01-27T17:18:39.516Z"
   },
   {
    "duration": 6,
    "start_time": "2022-01-27T17:18:39.531Z"
   },
   {
    "duration": 5,
    "start_time": "2022-01-27T17:18:39.572Z"
   },
   {
    "duration": 5,
    "start_time": "2022-01-27T17:18:39.579Z"
   },
   {
    "duration": 89,
    "start_time": "2022-01-27T17:18:39.586Z"
   },
   {
    "duration": 2,
    "start_time": "2022-01-27T17:18:39.677Z"
   },
   {
    "duration": 45,
    "start_time": "2022-01-27T17:18:39.680Z"
   },
   {
    "duration": 63,
    "start_time": "2022-01-27T17:18:39.728Z"
   },
   {
    "duration": 9,
    "start_time": "2022-01-27T17:18:39.793Z"
   },
   {
    "duration": 14,
    "start_time": "2022-01-27T17:18:39.803Z"
   },
   {
    "duration": 14,
    "start_time": "2022-01-27T17:18:39.818Z"
   },
   {
    "duration": 37,
    "start_time": "2022-01-27T17:18:39.834Z"
   },
   {
    "duration": 11,
    "start_time": "2022-01-27T17:18:39.873Z"
   },
   {
    "duration": 110,
    "start_time": "2022-01-27T17:18:39.886Z"
   },
   {
    "duration": 10,
    "start_time": "2022-01-27T17:18:39.998Z"
   },
   {
    "duration": 16,
    "start_time": "2022-01-27T17:18:40.010Z"
   },
   {
    "duration": 5,
    "start_time": "2022-01-27T17:19:29.299Z"
   },
   {
    "duration": 16,
    "start_time": "2022-01-27T17:19:59.436Z"
   },
   {
    "duration": 25,
    "start_time": "2022-01-27T17:20:03.088Z"
   },
   {
    "duration": 5,
    "start_time": "2022-01-27T17:20:05.544Z"
   },
   {
    "duration": 5,
    "start_time": "2022-01-27T17:20:23.504Z"
   },
   {
    "duration": 5,
    "start_time": "2022-01-27T17:20:33.779Z"
   },
   {
    "duration": 11,
    "start_time": "2022-01-27T17:20:59.151Z"
   },
   {
    "duration": 10,
    "start_time": "2022-01-27T17:21:06.866Z"
   },
   {
    "duration": 263,
    "start_time": "2022-01-27T17:21:43.200Z"
   },
   {
    "duration": 9,
    "start_time": "2022-01-27T17:21:56.143Z"
   },
   {
    "duration": 5,
    "start_time": "2022-01-27T17:28:43.091Z"
   },
   {
    "duration": 11,
    "start_time": "2022-01-27T17:28:50.415Z"
   },
   {
    "duration": 12,
    "start_time": "2022-01-27T17:30:09.843Z"
   },
   {
    "duration": 12,
    "start_time": "2022-01-27T17:30:13.124Z"
   },
   {
    "duration": 357,
    "start_time": "2022-01-27T17:30:37.629Z"
   },
   {
    "duration": 8,
    "start_time": "2022-01-27T17:30:37.988Z"
   },
   {
    "duration": 6,
    "start_time": "2022-01-27T17:30:37.998Z"
   },
   {
    "duration": 4,
    "start_time": "2022-01-27T17:30:38.006Z"
   },
   {
    "duration": 11,
    "start_time": "2022-01-27T17:30:38.012Z"
   },
   {
    "duration": 6,
    "start_time": "2022-01-27T17:30:38.024Z"
   },
   {
    "duration": 8,
    "start_time": "2022-01-27T17:30:38.031Z"
   },
   {
    "duration": 67,
    "start_time": "2022-01-27T17:30:38.041Z"
   },
   {
    "duration": 18,
    "start_time": "2022-01-27T17:30:38.110Z"
   },
   {
    "duration": 16,
    "start_time": "2022-01-27T17:30:38.129Z"
   },
   {
    "duration": 26,
    "start_time": "2022-01-27T17:30:38.147Z"
   },
   {
    "duration": 14,
    "start_time": "2022-01-27T17:30:38.174Z"
   },
   {
    "duration": 11,
    "start_time": "2022-01-27T17:30:38.189Z"
   },
   {
    "duration": 6,
    "start_time": "2022-01-27T17:30:38.202Z"
   },
   {
    "duration": 14,
    "start_time": "2022-01-27T17:30:38.209Z"
   },
   {
    "duration": 13,
    "start_time": "2022-01-27T17:30:38.225Z"
   },
   {
    "duration": 33,
    "start_time": "2022-01-27T17:30:38.239Z"
   },
   {
    "duration": 5,
    "start_time": "2022-01-27T17:30:38.273Z"
   },
   {
    "duration": 6,
    "start_time": "2022-01-27T17:30:38.279Z"
   },
   {
    "duration": 72,
    "start_time": "2022-01-27T17:30:38.286Z"
   },
   {
    "duration": 13,
    "start_time": "2022-01-27T17:30:38.359Z"
   },
   {
    "duration": 43,
    "start_time": "2022-01-27T17:30:38.373Z"
   },
   {
    "duration": 67,
    "start_time": "2022-01-27T17:30:38.419Z"
   },
   {
    "duration": 9,
    "start_time": "2022-01-27T17:30:38.487Z"
   },
   {
    "duration": 13,
    "start_time": "2022-01-27T17:30:38.497Z"
   },
   {
    "duration": 13,
    "start_time": "2022-01-27T17:30:38.511Z"
   },
   {
    "duration": 8,
    "start_time": "2022-01-27T17:30:38.525Z"
   },
   {
    "duration": 10,
    "start_time": "2022-01-27T17:30:38.535Z"
   },
   {
    "duration": 107,
    "start_time": "2022-01-27T17:30:38.572Z"
   },
   {
    "duration": 15,
    "start_time": "2022-01-27T17:30:38.681Z"
   },
   {
    "duration": 17,
    "start_time": "2022-01-27T17:30:38.698Z"
   },
   {
    "duration": 2,
    "start_time": "2022-01-27T17:30:38.717Z"
   },
   {
    "duration": 9,
    "start_time": "2022-01-27T17:30:43.011Z"
   },
   {
    "duration": 11,
    "start_time": "2022-01-27T17:31:02.209Z"
   },
   {
    "duration": 10,
    "start_time": "2022-01-27T17:31:05.949Z"
   },
   {
    "duration": 356,
    "start_time": "2022-01-27T17:32:43.566Z"
   },
   {
    "duration": 8,
    "start_time": "2022-01-27T17:32:43.924Z"
   },
   {
    "duration": 7,
    "start_time": "2022-01-27T17:32:43.934Z"
   },
   {
    "duration": 5,
    "start_time": "2022-01-27T17:32:43.942Z"
   },
   {
    "duration": 12,
    "start_time": "2022-01-27T17:32:43.948Z"
   },
   {
    "duration": 11,
    "start_time": "2022-01-27T17:32:43.961Z"
   },
   {
    "duration": 6,
    "start_time": "2022-01-27T17:32:43.973Z"
   },
   {
    "duration": 62,
    "start_time": "2022-01-27T17:32:43.980Z"
   },
   {
    "duration": 37,
    "start_time": "2022-01-27T17:32:44.045Z"
   },
   {
    "duration": 17,
    "start_time": "2022-01-27T17:32:44.084Z"
   },
   {
    "duration": 6,
    "start_time": "2022-01-27T17:32:44.103Z"
   },
   {
    "duration": 13,
    "start_time": "2022-01-27T17:32:44.111Z"
   },
   {
    "duration": 12,
    "start_time": "2022-01-27T17:32:44.125Z"
   },
   {
    "duration": 33,
    "start_time": "2022-01-27T17:32:44.138Z"
   },
   {
    "duration": 14,
    "start_time": "2022-01-27T17:32:44.173Z"
   },
   {
    "duration": 14,
    "start_time": "2022-01-27T17:32:44.189Z"
   },
   {
    "duration": 6,
    "start_time": "2022-01-27T17:32:44.204Z"
   },
   {
    "duration": 8,
    "start_time": "2022-01-27T17:32:44.212Z"
   },
   {
    "duration": 8,
    "start_time": "2022-01-27T17:32:44.222Z"
   },
   {
    "duration": 92,
    "start_time": "2022-01-27T17:32:44.232Z"
   },
   {
    "duration": 2,
    "start_time": "2022-01-27T17:32:44.326Z"
   },
   {
    "duration": 56,
    "start_time": "2022-01-27T17:32:44.330Z"
   },
   {
    "duration": 53,
    "start_time": "2022-01-27T17:32:44.388Z"
   },
   {
    "duration": 9,
    "start_time": "2022-01-27T17:32:44.443Z"
   },
   {
    "duration": 27,
    "start_time": "2022-01-27T17:32:44.453Z"
   },
   {
    "duration": 14,
    "start_time": "2022-01-27T17:32:44.482Z"
   },
   {
    "duration": 9,
    "start_time": "2022-01-27T17:32:44.499Z"
   },
   {
    "duration": 12,
    "start_time": "2022-01-27T17:32:44.510Z"
   },
   {
    "duration": 129,
    "start_time": "2022-01-27T17:32:44.523Z"
   },
   {
    "duration": 19,
    "start_time": "2022-01-27T17:32:44.653Z"
   },
   {
    "duration": 16,
    "start_time": "2022-01-27T17:32:44.673Z"
   },
   {
    "duration": 2,
    "start_time": "2022-01-27T17:32:44.690Z"
   },
   {
    "duration": 91,
    "start_time": "2022-01-27T17:32:51.609Z"
   },
   {
    "duration": 3,
    "start_time": "2022-01-27T17:32:58.290Z"
   },
   {
    "duration": 294,
    "start_time": "2022-01-27T17:37:20.146Z"
   },
   {
    "duration": 4,
    "start_time": "2022-01-27T17:37:43.179Z"
   },
   {
    "duration": 16,
    "start_time": "2022-01-27T17:37:47.979Z"
   },
   {
    "duration": 61,
    "start_time": "2022-01-27T17:38:56.937Z"
   },
   {
    "duration": 36,
    "start_time": "2022-01-27T17:39:01.791Z"
   },
   {
    "duration": 16,
    "start_time": "2022-01-27T17:39:28.195Z"
   },
   {
    "duration": 16,
    "start_time": "2022-01-27T17:41:47.859Z"
   },
   {
    "duration": 13,
    "start_time": "2022-01-27T17:42:20.164Z"
   },
   {
    "duration": 18,
    "start_time": "2022-01-27T17:43:04.433Z"
   },
   {
    "duration": 23,
    "start_time": "2022-01-27T17:43:33.925Z"
   },
   {
    "duration": 30,
    "start_time": "2022-01-27T17:50:13.063Z"
   },
   {
    "duration": 30,
    "start_time": "2022-01-27T17:51:02.946Z"
   },
   {
    "duration": 23,
    "start_time": "2022-01-27T17:51:15.323Z"
   },
   {
    "duration": 107,
    "start_time": "2022-01-27T17:52:25.272Z"
   },
   {
    "duration": 275,
    "start_time": "2022-01-27T17:56:07.914Z"
   },
   {
    "duration": 254,
    "start_time": "2022-01-27T17:56:19.908Z"
   },
   {
    "duration": 239,
    "start_time": "2022-01-27T18:03:24.802Z"
   },
   {
    "duration": 205,
    "start_time": "2022-01-27T18:03:43.243Z"
   },
   {
    "duration": 226,
    "start_time": "2022-01-27T18:04:03.813Z"
   },
   {
    "duration": 310,
    "start_time": "2022-01-27T18:04:11.809Z"
   },
   {
    "duration": 214,
    "start_time": "2022-01-27T18:04:16.559Z"
   },
   {
    "duration": 219,
    "start_time": "2022-01-27T18:05:56.385Z"
   },
   {
    "duration": 232,
    "start_time": "2022-01-27T18:06:19.406Z"
   },
   {
    "duration": 3395,
    "start_time": "2022-01-27T18:07:06.122Z"
   },
   {
    "duration": 212,
    "start_time": "2022-01-27T18:07:13.615Z"
   },
   {
    "duration": 353,
    "start_time": "2022-01-27T18:12:31.611Z"
   },
   {
    "duration": 323,
    "start_time": "2022-01-27T18:12:56.959Z"
   },
   {
    "duration": 253,
    "start_time": "2022-01-27T18:13:15.919Z"
   },
   {
    "duration": 11,
    "start_time": "2022-01-27T18:31:43.154Z"
   },
   {
    "duration": 7,
    "start_time": "2022-01-27T18:35:48.612Z"
   },
   {
    "duration": 410,
    "start_time": "2022-01-27T18:38:03.220Z"
   },
   {
    "duration": 275,
    "start_time": "2022-01-27T18:38:07.516Z"
   },
   {
    "duration": 268,
    "start_time": "2022-01-27T18:38:33.659Z"
   },
   {
    "duration": 280,
    "start_time": "2022-01-27T18:39:03.205Z"
   },
   {
    "duration": 17,
    "start_time": "2022-01-27T18:40:02.787Z"
   },
   {
    "duration": 7,
    "start_time": "2022-01-27T18:40:15.926Z"
   },
   {
    "duration": 13,
    "start_time": "2022-01-27T18:40:49.796Z"
   },
   {
    "duration": 14,
    "start_time": "2022-01-27T18:40:59.560Z"
   },
   {
    "duration": 7,
    "start_time": "2022-01-27T18:41:23.868Z"
   },
   {
    "duration": 710,
    "start_time": "2022-01-27T18:42:23.467Z"
   },
   {
    "duration": 10,
    "start_time": "2022-01-27T18:42:34.391Z"
   },
   {
    "duration": 13,
    "start_time": "2022-01-27T18:47:27.135Z"
   },
   {
    "duration": 8,
    "start_time": "2022-01-27T18:47:35.847Z"
   },
   {
    "duration": 8,
    "start_time": "2022-01-27T18:47:40.140Z"
   },
   {
    "duration": 501,
    "start_time": "2022-01-27T18:48:17.035Z"
   },
   {
    "duration": 10,
    "start_time": "2022-01-27T18:48:17.538Z"
   },
   {
    "duration": 5,
    "start_time": "2022-01-27T18:48:17.550Z"
   },
   {
    "duration": 5,
    "start_time": "2022-01-27T18:48:17.557Z"
   },
   {
    "duration": 16,
    "start_time": "2022-01-27T18:48:17.563Z"
   },
   {
    "duration": 8,
    "start_time": "2022-01-27T18:48:17.580Z"
   },
   {
    "duration": 8,
    "start_time": "2022-01-27T18:48:17.589Z"
   },
   {
    "duration": 80,
    "start_time": "2022-01-27T18:48:17.599Z"
   },
   {
    "duration": 21,
    "start_time": "2022-01-27T18:48:17.681Z"
   },
   {
    "duration": 18,
    "start_time": "2022-01-27T18:48:17.703Z"
   },
   {
    "duration": 8,
    "start_time": "2022-01-27T18:48:17.722Z"
   },
   {
    "duration": 14,
    "start_time": "2022-01-27T18:48:17.732Z"
   },
   {
    "duration": 14,
    "start_time": "2022-01-27T18:48:17.771Z"
   },
   {
    "duration": 8,
    "start_time": "2022-01-27T18:48:17.786Z"
   },
   {
    "duration": 16,
    "start_time": "2022-01-27T18:48:17.796Z"
   },
   {
    "duration": 23,
    "start_time": "2022-01-27T18:48:17.814Z"
   },
   {
    "duration": 38,
    "start_time": "2022-01-27T18:48:17.838Z"
   },
   {
    "duration": 7,
    "start_time": "2022-01-27T18:48:17.878Z"
   },
   {
    "duration": 6,
    "start_time": "2022-01-27T18:48:17.886Z"
   },
   {
    "duration": 95,
    "start_time": "2022-01-27T18:48:17.894Z"
   },
   {
    "duration": 3,
    "start_time": "2022-01-27T18:48:17.991Z"
   },
   {
    "duration": 52,
    "start_time": "2022-01-27T18:48:17.995Z"
   },
   {
    "duration": 64,
    "start_time": "2022-01-27T18:48:18.049Z"
   },
   {
    "duration": 8,
    "start_time": "2022-01-27T18:48:18.115Z"
   },
   {
    "duration": 15,
    "start_time": "2022-01-27T18:48:18.125Z"
   },
   {
    "duration": 34,
    "start_time": "2022-01-27T18:48:18.141Z"
   },
   {
    "duration": 9,
    "start_time": "2022-01-27T18:48:18.176Z"
   },
   {
    "duration": 11,
    "start_time": "2022-01-27T18:48:18.186Z"
   },
   {
    "duration": 97,
    "start_time": "2022-01-27T18:48:21.399Z"
   },
   {
    "duration": 85,
    "start_time": "2022-01-27T18:49:23.929Z"
   },
   {
    "duration": 80,
    "start_time": "2022-01-27T18:50:36.910Z"
   },
   {
    "duration": 259,
    "start_time": "2022-01-27T18:53:35.877Z"
   },
   {
    "duration": 12,
    "start_time": "2022-01-27T18:56:18.788Z"
   },
   {
    "duration": 11,
    "start_time": "2022-01-27T18:57:42.833Z"
   },
   {
    "duration": 12,
    "start_time": "2022-01-27T18:57:50.912Z"
   },
   {
    "duration": 6,
    "start_time": "2022-01-27T18:57:59.370Z"
   },
   {
    "duration": 6231,
    "start_time": "2022-01-27T18:58:51.920Z"
   },
   {
    "duration": 96,
    "start_time": "2022-01-27T18:59:12.121Z"
   },
   {
    "duration": 6475,
    "start_time": "2022-01-27T18:59:18.304Z"
   },
   {
    "duration": 6,
    "start_time": "2022-01-27T19:00:10.710Z"
   },
   {
    "duration": 2,
    "start_time": "2022-01-27T19:00:52.845Z"
   },
   {
    "duration": 2,
    "start_time": "2022-01-27T19:00:55.135Z"
   },
   {
    "duration": 12,
    "start_time": "2022-01-27T19:01:02.462Z"
   },
   {
    "duration": 79,
    "start_time": "2022-01-27T19:04:03.888Z"
   },
   {
    "duration": 5,
    "start_time": "2022-01-27T19:06:54.473Z"
   },
   {
    "duration": 7,
    "start_time": "2022-01-27T19:07:08.452Z"
   },
   {
    "duration": 7,
    "start_time": "2022-01-27T19:08:22.051Z"
   },
   {
    "duration": 7,
    "start_time": "2022-01-27T19:09:50.976Z"
   },
   {
    "duration": 94,
    "start_time": "2022-01-27T19:10:04.176Z"
   },
   {
    "duration": 1013,
    "start_time": "2022-01-27T19:10:46.186Z"
   },
   {
    "duration": 937,
    "start_time": "2022-01-27T19:11:01.371Z"
   },
   {
    "duration": 372,
    "start_time": "2022-01-27T19:11:05.011Z"
   },
   {
    "duration": 379,
    "start_time": "2022-01-27T19:11:45.578Z"
   },
   {
    "duration": 9,
    "start_time": "2022-01-27T19:11:45.958Z"
   },
   {
    "duration": 7,
    "start_time": "2022-01-27T19:11:45.970Z"
   },
   {
    "duration": 4,
    "start_time": "2022-01-27T19:11:45.979Z"
   },
   {
    "duration": 17,
    "start_time": "2022-01-27T19:11:45.985Z"
   },
   {
    "duration": 8,
    "start_time": "2022-01-27T19:11:46.004Z"
   },
   {
    "duration": 9,
    "start_time": "2022-01-27T19:11:46.014Z"
   },
   {
    "duration": 103,
    "start_time": "2022-01-27T19:11:46.026Z"
   },
   {
    "duration": 21,
    "start_time": "2022-01-27T19:11:46.131Z"
   },
   {
    "duration": 26,
    "start_time": "2022-01-27T19:11:46.154Z"
   },
   {
    "duration": 7,
    "start_time": "2022-01-27T19:11:46.181Z"
   },
   {
    "duration": 14,
    "start_time": "2022-01-27T19:11:46.190Z"
   },
   {
    "duration": 12,
    "start_time": "2022-01-27T19:11:46.205Z"
   },
   {
    "duration": 9,
    "start_time": "2022-01-27T19:11:46.218Z"
   },
   {
    "duration": 52,
    "start_time": "2022-01-27T19:11:46.229Z"
   },
   {
    "duration": 14,
    "start_time": "2022-01-27T19:11:46.283Z"
   },
   {
    "duration": 7,
    "start_time": "2022-01-27T19:11:46.299Z"
   },
   {
    "duration": 6,
    "start_time": "2022-01-27T19:11:46.308Z"
   },
   {
    "duration": 5,
    "start_time": "2022-01-27T19:11:46.316Z"
   },
   {
    "duration": 130,
    "start_time": "2022-01-27T19:11:46.323Z"
   },
   {
    "duration": 2,
    "start_time": "2022-01-27T19:11:46.455Z"
   },
   {
    "duration": 71,
    "start_time": "2022-01-27T19:11:46.458Z"
   },
   {
    "duration": 79,
    "start_time": "2022-01-27T19:11:46.533Z"
   },
   {
    "duration": 12,
    "start_time": "2022-01-27T19:11:46.614Z"
   },
   {
    "duration": 15,
    "start_time": "2022-01-27T19:11:46.628Z"
   },
   {
    "duration": 36,
    "start_time": "2022-01-27T19:11:46.645Z"
   },
   {
    "duration": 8,
    "start_time": "2022-01-27T19:11:46.683Z"
   },
   {
    "duration": 12,
    "start_time": "2022-01-27T19:11:46.692Z"
   },
   {
    "duration": 122,
    "start_time": "2022-01-27T19:11:46.706Z"
   },
   {
    "duration": 21,
    "start_time": "2022-01-27T19:11:46.829Z"
   },
   {
    "duration": 33,
    "start_time": "2022-01-27T19:11:46.851Z"
   },
   {
    "duration": 2,
    "start_time": "2022-01-27T19:11:46.886Z"
   },
   {
    "duration": 39,
    "start_time": "2022-01-27T19:11:46.889Z"
   },
   {
    "duration": 45,
    "start_time": "2022-01-27T19:11:46.929Z"
   },
   {
    "duration": 307,
    "start_time": "2022-01-27T19:11:46.975Z"
   },
   {
    "duration": 333,
    "start_time": "2022-01-27T19:11:47.283Z"
   },
   {
    "duration": 336,
    "start_time": "2022-01-27T19:11:47.618Z"
   },
   {
    "duration": 358,
    "start_time": "2022-01-27T19:11:47.956Z"
   },
   {
    "duration": 355,
    "start_time": "2022-01-27T19:11:48.316Z"
   },
   {
    "duration": 11,
    "start_time": "2022-01-27T19:11:48.673Z"
   },
   {
    "duration": 2,
    "start_time": "2022-01-27T19:11:48.686Z"
   },
   {
    "duration": 9,
    "start_time": "2022-01-27T19:11:48.690Z"
   },
   {
    "duration": 4,
    "start_time": "2022-01-27T19:11:48.701Z"
   },
   {
    "duration": 11,
    "start_time": "2022-01-27T19:11:48.706Z"
   },
   {
    "duration": 5,
    "start_time": "2022-01-27T19:11:48.719Z"
   },
   {
    "duration": 9,
    "start_time": "2022-01-27T19:11:48.726Z"
   },
   {
    "duration": 44,
    "start_time": "2022-01-27T19:11:48.736Z"
   },
   {
    "duration": 292,
    "start_time": "2022-01-27T19:11:51.267Z"
   },
   {
    "duration": 270,
    "start_time": "2022-01-27T19:12:19.486Z"
   },
   {
    "duration": 26,
    "start_time": "2022-01-27T19:12:27.639Z"
   },
   {
    "duration": 10,
    "start_time": "2022-01-27T19:12:54.408Z"
   },
   {
    "duration": 10,
    "start_time": "2022-01-27T19:13:00.185Z"
   },
   {
    "duration": 10,
    "start_time": "2022-01-27T19:13:07.813Z"
   },
   {
    "duration": 10,
    "start_time": "2022-01-27T19:13:31.594Z"
   },
   {
    "duration": 7,
    "start_time": "2022-01-27T19:13:37.096Z"
   },
   {
    "duration": 6,
    "start_time": "2022-01-27T19:14:23.059Z"
   },
   {
    "duration": 5,
    "start_time": "2022-01-27T19:14:31.159Z"
   },
   {
    "duration": 453,
    "start_time": "2022-01-27T19:14:43.323Z"
   },
   {
    "duration": 13,
    "start_time": "2022-01-27T19:14:43.778Z"
   },
   {
    "duration": 20,
    "start_time": "2022-01-27T19:14:43.793Z"
   },
   {
    "duration": 20,
    "start_time": "2022-01-27T19:14:43.814Z"
   },
   {
    "duration": 22,
    "start_time": "2022-01-27T19:14:43.836Z"
   },
   {
    "duration": 23,
    "start_time": "2022-01-27T19:14:43.860Z"
   },
   {
    "duration": 14,
    "start_time": "2022-01-27T19:14:43.885Z"
   },
   {
    "duration": 75,
    "start_time": "2022-01-27T19:14:43.900Z"
   },
   {
    "duration": 31,
    "start_time": "2022-01-27T19:14:43.979Z"
   },
   {
    "duration": 30,
    "start_time": "2022-01-27T19:14:44.013Z"
   },
   {
    "duration": 33,
    "start_time": "2022-01-27T19:14:44.045Z"
   },
   {
    "duration": 22,
    "start_time": "2022-01-27T19:14:44.080Z"
   },
   {
    "duration": 20,
    "start_time": "2022-01-27T19:14:44.104Z"
   },
   {
    "duration": 9,
    "start_time": "2022-01-27T19:14:44.125Z"
   },
   {
    "duration": 50,
    "start_time": "2022-01-27T19:14:44.136Z"
   },
   {
    "duration": 24,
    "start_time": "2022-01-27T19:14:44.188Z"
   },
   {
    "duration": 10,
    "start_time": "2022-01-27T19:14:44.214Z"
   },
   {
    "duration": 9,
    "start_time": "2022-01-27T19:14:44.226Z"
   },
   {
    "duration": 7,
    "start_time": "2022-01-27T19:14:44.237Z"
   },
   {
    "duration": 97,
    "start_time": "2022-01-27T19:14:44.245Z"
   },
   {
    "duration": 3,
    "start_time": "2022-01-27T19:14:44.344Z"
   },
   {
    "duration": 78,
    "start_time": "2022-01-27T19:14:44.349Z"
   },
   {
    "duration": 80,
    "start_time": "2022-01-27T19:14:44.429Z"
   },
   {
    "duration": 13,
    "start_time": "2022-01-27T19:14:44.512Z"
   },
   {
    "duration": 14,
    "start_time": "2022-01-27T19:14:44.527Z"
   },
   {
    "duration": 37,
    "start_time": "2022-01-27T19:14:44.543Z"
   },
   {
    "duration": 13,
    "start_time": "2022-01-27T19:14:44.584Z"
   },
   {
    "duration": 17,
    "start_time": "2022-01-27T19:14:44.600Z"
   },
   {
    "duration": 191,
    "start_time": "2022-01-27T19:14:44.619Z"
   },
   {
    "duration": 22,
    "start_time": "2022-01-27T19:14:44.812Z"
   },
   {
    "duration": 40,
    "start_time": "2022-01-27T19:14:44.836Z"
   },
   {
    "duration": 2,
    "start_time": "2022-01-27T19:14:44.878Z"
   },
   {
    "duration": 26,
    "start_time": "2022-01-27T19:14:44.882Z"
   },
   {
    "duration": 28,
    "start_time": "2022-01-27T19:14:44.910Z"
   },
   {
    "duration": 318,
    "start_time": "2022-01-27T19:14:44.940Z"
   },
   {
    "duration": 299,
    "start_time": "2022-01-27T19:14:45.260Z"
   },
   {
    "duration": 237,
    "start_time": "2022-01-27T19:14:45.561Z"
   },
   {
    "duration": 227,
    "start_time": "2022-01-27T19:14:45.800Z"
   },
   {
    "duration": 233,
    "start_time": "2022-01-27T19:14:46.029Z"
   },
   {
    "duration": 10,
    "start_time": "2022-01-27T19:14:46.271Z"
   },
   {
    "duration": 6,
    "start_time": "2022-01-27T19:14:46.282Z"
   },
   {
    "duration": 6,
    "start_time": "2022-01-27T19:14:46.289Z"
   },
   {
    "duration": 4,
    "start_time": "2022-01-27T19:14:46.296Z"
   },
   {
    "duration": 11,
    "start_time": "2022-01-27T19:14:46.302Z"
   },
   {
    "duration": 8,
    "start_time": "2022-01-27T19:14:46.315Z"
   },
   {
    "duration": 6,
    "start_time": "2022-01-27T19:14:46.325Z"
   },
   {
    "duration": 289,
    "start_time": "2022-01-27T19:15:42.154Z"
   },
   {
    "duration": 7,
    "start_time": "2022-01-27T19:15:55.792Z"
   },
   {
    "duration": 7,
    "start_time": "2022-01-27T19:18:23.955Z"
   },
   {
    "duration": 6,
    "start_time": "2022-01-27T19:18:59.636Z"
   },
   {
    "duration": 6,
    "start_time": "2022-01-27T19:19:12.847Z"
   },
   {
    "duration": 7,
    "start_time": "2022-01-27T19:19:19.896Z"
   },
   {
    "duration": 1257,
    "start_time": "2022-01-29T08:51:12.813Z"
   },
   {
    "duration": 24,
    "start_time": "2022-01-29T08:51:14.073Z"
   },
   {
    "duration": 12,
    "start_time": "2022-01-29T08:51:14.099Z"
   },
   {
    "duration": 7,
    "start_time": "2022-01-29T08:51:14.114Z"
   },
   {
    "duration": 40,
    "start_time": "2022-01-29T08:51:14.123Z"
   },
   {
    "duration": 11,
    "start_time": "2022-01-29T08:51:14.165Z"
   },
   {
    "duration": 11,
    "start_time": "2022-01-29T08:51:14.178Z"
   },
   {
    "duration": 125,
    "start_time": "2022-01-29T08:51:14.193Z"
   },
   {
    "duration": 39,
    "start_time": "2022-01-29T08:51:14.321Z"
   },
   {
    "duration": 23,
    "start_time": "2022-01-29T08:51:14.363Z"
   },
   {
    "duration": 15,
    "start_time": "2022-01-29T08:51:14.388Z"
   },
   {
    "duration": 44,
    "start_time": "2022-01-29T08:51:14.406Z"
   },
   {
    "duration": 17,
    "start_time": "2022-01-29T08:51:14.452Z"
   },
   {
    "duration": 12,
    "start_time": "2022-01-29T08:51:14.471Z"
   },
   {
    "duration": 31,
    "start_time": "2022-01-29T08:51:14.486Z"
   },
   {
    "duration": 45,
    "start_time": "2022-01-29T08:51:14.520Z"
   },
   {
    "duration": 11,
    "start_time": "2022-01-29T08:51:14.568Z"
   },
   {
    "duration": 14,
    "start_time": "2022-01-29T08:51:14.582Z"
   },
   {
    "duration": 10,
    "start_time": "2022-01-29T08:51:14.599Z"
   },
   {
    "duration": 142,
    "start_time": "2022-01-29T08:51:14.612Z"
   },
   {
    "duration": 3,
    "start_time": "2022-01-29T08:51:14.757Z"
   },
   {
    "duration": 86,
    "start_time": "2022-01-29T08:51:14.763Z"
   },
   {
    "duration": 94,
    "start_time": "2022-01-29T08:51:14.855Z"
   },
   {
    "duration": 22,
    "start_time": "2022-01-29T08:51:14.952Z"
   },
   {
    "duration": 21,
    "start_time": "2022-01-29T08:51:14.977Z"
   },
   {
    "duration": 52,
    "start_time": "2022-01-29T08:51:15.001Z"
   },
   {
    "duration": 16,
    "start_time": "2022-01-29T08:51:15.055Z"
   },
   {
    "duration": 20,
    "start_time": "2022-01-29T08:51:15.073Z"
   },
   {
    "duration": 206,
    "start_time": "2022-01-29T08:51:15.096Z"
   },
   {
    "duration": 26,
    "start_time": "2022-01-29T08:51:15.304Z"
   },
   {
    "duration": 28,
    "start_time": "2022-01-29T08:51:15.348Z"
   },
   {
    "duration": 3,
    "start_time": "2022-01-29T08:51:15.378Z"
   },
   {
    "duration": 66,
    "start_time": "2022-01-29T08:51:15.383Z"
   },
   {
    "duration": 37,
    "start_time": "2022-01-29T08:51:15.452Z"
   },
   {
    "duration": 533,
    "start_time": "2022-01-29T08:51:15.491Z"
   },
   {
    "duration": 419,
    "start_time": "2022-01-29T08:51:16.027Z"
   },
   {
    "duration": 445,
    "start_time": "2022-01-29T08:51:16.449Z"
   },
   {
    "duration": 413,
    "start_time": "2022-01-29T08:51:16.896Z"
   },
   {
    "duration": 390,
    "start_time": "2022-01-29T08:51:17.311Z"
   },
   {
    "duration": 16,
    "start_time": "2022-01-29T08:51:17.703Z"
   },
   {
    "duration": 28,
    "start_time": "2022-01-29T08:51:17.722Z"
   },
   {
    "duration": 418,
    "start_time": "2022-01-29T08:51:17.752Z"
   },
   {
    "duration": 7,
    "start_time": "2022-01-29T08:51:18.172Z"
   },
   {
    "duration": 21,
    "start_time": "2022-01-29T08:51:18.182Z"
   },
   {
    "duration": 9,
    "start_time": "2022-01-29T08:51:18.205Z"
   },
   {
    "duration": 36,
    "start_time": "2022-01-29T08:51:18.216Z"
   },
   {
    "duration": 10,
    "start_time": "2022-01-29T08:51:18.254Z"
   },
   {
    "duration": 8,
    "start_time": "2022-01-29T08:51:18.266Z"
   },
   {
    "duration": 9,
    "start_time": "2022-01-29T08:51:21.089Z"
   },
   {
    "duration": 9,
    "start_time": "2022-01-29T08:51:36.044Z"
   },
   {
    "duration": 8,
    "start_time": "2022-01-29T08:51:41.878Z"
   },
   {
    "duration": 7,
    "start_time": "2022-01-29T08:51:56.319Z"
   },
   {
    "duration": 13,
    "start_time": "2022-01-29T08:54:24.034Z"
   },
   {
    "duration": 9,
    "start_time": "2022-01-29T08:54:32.180Z"
   },
   {
    "duration": 10,
    "start_time": "2022-01-29T08:54:35.202Z"
   },
   {
    "duration": 8,
    "start_time": "2022-01-29T08:55:24.840Z"
   },
   {
    "duration": 10,
    "start_time": "2022-01-29T08:55:30.444Z"
   },
   {
    "duration": 7,
    "start_time": "2022-01-29T08:56:07.454Z"
   },
   {
    "duration": 8,
    "start_time": "2022-01-29T08:56:12.277Z"
   },
   {
    "duration": 7,
    "start_time": "2022-01-29T08:56:15.939Z"
   },
   {
    "duration": 9,
    "start_time": "2022-01-29T08:56:18.573Z"
   },
   {
    "duration": 11,
    "start_time": "2022-01-29T08:56:46.557Z"
   },
   {
    "duration": 8,
    "start_time": "2022-01-29T08:56:50.496Z"
   },
   {
    "duration": 6,
    "start_time": "2022-01-29T08:57:08.372Z"
   },
   {
    "duration": 7,
    "start_time": "2022-01-29T08:57:14.414Z"
   },
   {
    "duration": 7,
    "start_time": "2022-01-29T08:57:18.567Z"
   },
   {
    "duration": 25,
    "start_time": "2022-01-29T09:29:05.663Z"
   },
   {
    "duration": 527,
    "start_time": "2022-01-29T09:29:54.009Z"
   },
   {
    "duration": 464,
    "start_time": "2022-01-29T09:31:21.442Z"
   },
   {
    "duration": 417,
    "start_time": "2022-01-29T09:32:43.499Z"
   },
   {
    "duration": 20,
    "start_time": "2022-01-29T09:33:18.648Z"
   },
   {
    "duration": 1040,
    "start_time": "2022-01-29T09:33:30.026Z"
   },
   {
    "duration": 19,
    "start_time": "2022-01-29T09:33:45.334Z"
   },
   {
    "duration": 408,
    "start_time": "2022-01-29T09:33:47.686Z"
   },
   {
    "duration": 412,
    "start_time": "2022-01-29T09:33:59.450Z"
   },
   {
    "duration": 383,
    "start_time": "2022-01-29T09:34:31.188Z"
   },
   {
    "duration": 605,
    "start_time": "2022-01-29T09:34:51.913Z"
   },
   {
    "duration": 20,
    "start_time": "2022-01-29T09:37:15.738Z"
   },
   {
    "duration": 777,
    "start_time": "2022-01-29T09:37:45.295Z"
   },
   {
    "duration": 25,
    "start_time": "2022-01-29T09:39:47.769Z"
   },
   {
    "duration": 307,
    "start_time": "2022-01-29T09:40:09.259Z"
   },
   {
    "duration": 6313,
    "start_time": "2022-01-29T09:40:15.862Z"
   },
   {
    "duration": 5868,
    "start_time": "2022-01-29T09:41:00.061Z"
   },
   {
    "duration": 8,
    "start_time": "2022-01-29T09:41:09.794Z"
   },
   {
    "duration": 11,
    "start_time": "2022-01-29T09:41:17.848Z"
   },
   {
    "duration": 9,
    "start_time": "2022-01-29T09:43:00.991Z"
   },
   {
    "duration": 93,
    "start_time": "2022-01-29T09:43:50.348Z"
   },
   {
    "duration": 31,
    "start_time": "2022-01-29T09:43:59.330Z"
   },
   {
    "duration": 32,
    "start_time": "2022-01-29T09:44:10.590Z"
   },
   {
    "duration": 14,
    "start_time": "2022-01-29T09:44:15.926Z"
   },
   {
    "duration": 534,
    "start_time": "2022-01-29T09:44:19.257Z"
   },
   {
    "duration": 15,
    "start_time": "2022-01-29T09:45:18.819Z"
   },
   {
    "duration": 417,
    "start_time": "2022-01-29T09:45:20.282Z"
   },
   {
    "duration": 10,
    "start_time": "2022-01-29T09:45:46.508Z"
   },
   {
    "duration": 298,
    "start_time": "2022-01-29T09:46:32.012Z"
   },
   {
    "duration": 18,
    "start_time": "2022-01-29T09:47:07.241Z"
   },
   {
    "duration": 9,
    "start_time": "2022-01-29T09:47:23.584Z"
   },
   {
    "duration": 563,
    "start_time": "2022-01-29T09:47:48.318Z"
   },
   {
    "duration": 16,
    "start_time": "2022-01-29T09:47:48.884Z"
   },
   {
    "duration": 26,
    "start_time": "2022-01-29T09:47:48.903Z"
   },
   {
    "duration": 12,
    "start_time": "2022-01-29T09:47:48.933Z"
   },
   {
    "duration": 31,
    "start_time": "2022-01-29T09:47:48.949Z"
   },
   {
    "duration": 16,
    "start_time": "2022-01-29T09:47:48.984Z"
   },
   {
    "duration": 14,
    "start_time": "2022-01-29T09:47:49.003Z"
   },
   {
    "duration": 142,
    "start_time": "2022-01-29T09:47:49.022Z"
   },
   {
    "duration": 28,
    "start_time": "2022-01-29T09:47:49.168Z"
   },
   {
    "duration": 51,
    "start_time": "2022-01-29T09:47:49.199Z"
   },
   {
    "duration": 11,
    "start_time": "2022-01-29T09:47:49.252Z"
   },
   {
    "duration": 25,
    "start_time": "2022-01-29T09:47:49.265Z"
   },
   {
    "duration": 19,
    "start_time": "2022-01-29T09:47:49.293Z"
   },
   {
    "duration": 15,
    "start_time": "2022-01-29T09:47:49.350Z"
   },
   {
    "duration": 36,
    "start_time": "2022-01-29T09:47:49.368Z"
   },
   {
    "duration": 47,
    "start_time": "2022-01-29T09:47:49.408Z"
   },
   {
    "duration": 17,
    "start_time": "2022-01-29T09:47:49.458Z"
   },
   {
    "duration": 10,
    "start_time": "2022-01-29T09:47:49.477Z"
   },
   {
    "duration": 10,
    "start_time": "2022-01-29T09:47:49.489Z"
   },
   {
    "duration": 143,
    "start_time": "2022-01-29T09:47:49.501Z"
   },
   {
    "duration": 3,
    "start_time": "2022-01-29T09:47:49.648Z"
   },
   {
    "duration": 75,
    "start_time": "2022-01-29T09:47:49.653Z"
   },
   {
    "duration": 100,
    "start_time": "2022-01-29T09:47:49.750Z"
   },
   {
    "duration": 15,
    "start_time": "2022-01-29T09:47:49.853Z"
   },
   {
    "duration": 22,
    "start_time": "2022-01-29T09:47:49.871Z"
   },
   {
    "duration": 56,
    "start_time": "2022-01-29T09:47:49.895Z"
   },
   {
    "duration": 15,
    "start_time": "2022-01-29T09:47:49.954Z"
   },
   {
    "duration": 20,
    "start_time": "2022-01-29T09:47:49.971Z"
   },
   {
    "duration": 221,
    "start_time": "2022-01-29T09:47:49.993Z"
   },
   {
    "duration": 42,
    "start_time": "2022-01-29T09:47:50.216Z"
   },
   {
    "duration": 29,
    "start_time": "2022-01-29T09:47:50.260Z"
   },
   {
    "duration": 4,
    "start_time": "2022-01-29T09:47:50.291Z"
   },
   {
    "duration": 77,
    "start_time": "2022-01-29T09:47:50.297Z"
   },
   {
    "duration": 39,
    "start_time": "2022-01-29T09:47:50.376Z"
   },
   {
    "duration": 456,
    "start_time": "2022-01-29T09:47:50.418Z"
   },
   {
    "duration": 510,
    "start_time": "2022-01-29T09:47:50.877Z"
   },
   {
    "duration": 415,
    "start_time": "2022-01-29T09:47:51.389Z"
   },
   {
    "duration": 582,
    "start_time": "2022-01-29T09:47:51.807Z"
   },
   {
    "duration": 578,
    "start_time": "2022-01-29T09:47:52.391Z"
   },
   {
    "duration": 22,
    "start_time": "2022-01-29T09:47:52.972Z"
   },
   {
    "duration": 12,
    "start_time": "2022-01-29T09:47:52.997Z"
   },
   {
    "duration": 39,
    "start_time": "2022-01-29T09:47:53.012Z"
   },
   {
    "duration": 10,
    "start_time": "2022-01-29T09:47:53.054Z"
   },
   {
    "duration": 29,
    "start_time": "2022-01-29T09:47:53.067Z"
   },
   {
    "duration": 11,
    "start_time": "2022-01-29T09:47:53.099Z"
   },
   {
    "duration": 43,
    "start_time": "2022-01-29T09:47:53.113Z"
   },
   {
    "duration": 20,
    "start_time": "2022-01-29T09:47:58.880Z"
   },
   {
    "duration": 10,
    "start_time": "2022-01-29T09:48:04.912Z"
   },
   {
    "duration": 19,
    "start_time": "2022-01-29T09:48:33.929Z"
   },
   {
    "duration": 23,
    "start_time": "2022-01-29T09:48:55.170Z"
   },
   {
    "duration": 12,
    "start_time": "2022-01-29T09:49:03.124Z"
   },
   {
    "duration": 12,
    "start_time": "2022-01-29T09:49:15.024Z"
   },
   {
    "duration": 9,
    "start_time": "2022-01-29T09:49:20.569Z"
   },
   {
    "duration": 11,
    "start_time": "2022-01-29T09:49:21.476Z"
   },
   {
    "duration": 7,
    "start_time": "2022-01-29T09:49:22.436Z"
   },
   {
    "duration": 8,
    "start_time": "2022-01-29T09:49:23.288Z"
   },
   {
    "duration": 11,
    "start_time": "2022-01-29T09:50:20.939Z"
   },
   {
    "duration": 12,
    "start_time": "2022-01-29T09:50:48.398Z"
   },
   {
    "duration": 9,
    "start_time": "2022-01-29T09:50:52.976Z"
   },
   {
    "duration": 547,
    "start_time": "2022-01-29T09:54:22.159Z"
   },
   {
    "duration": 16,
    "start_time": "2022-01-29T09:54:22.709Z"
   },
   {
    "duration": 12,
    "start_time": "2022-01-29T09:54:22.728Z"
   },
   {
    "duration": 9,
    "start_time": "2022-01-29T09:54:22.749Z"
   },
   {
    "duration": 22,
    "start_time": "2022-01-29T09:54:22.761Z"
   },
   {
    "duration": 15,
    "start_time": "2022-01-29T09:54:22.785Z"
   },
   {
    "duration": 49,
    "start_time": "2022-01-29T09:54:22.802Z"
   },
   {
    "duration": 106,
    "start_time": "2022-01-29T09:54:22.855Z"
   },
   {
    "duration": 28,
    "start_time": "2022-01-29T09:54:22.964Z"
   },
   {
    "duration": 56,
    "start_time": "2022-01-29T09:54:22.994Z"
   },
   {
    "duration": 11,
    "start_time": "2022-01-29T09:54:23.053Z"
   },
   {
    "duration": 23,
    "start_time": "2022-01-29T09:54:23.066Z"
   },
   {
    "duration": 19,
    "start_time": "2022-01-29T09:54:23.091Z"
   },
   {
    "duration": 46,
    "start_time": "2022-01-29T09:54:23.112Z"
   },
   {
    "duration": 29,
    "start_time": "2022-01-29T09:54:23.161Z"
   },
   {
    "duration": 57,
    "start_time": "2022-01-29T09:54:23.193Z"
   },
   {
    "duration": 16,
    "start_time": "2022-01-29T09:54:23.254Z"
   },
   {
    "duration": 14,
    "start_time": "2022-01-29T09:54:23.273Z"
   },
   {
    "duration": 10,
    "start_time": "2022-01-29T09:54:23.290Z"
   },
   {
    "duration": 203,
    "start_time": "2022-01-29T09:54:23.304Z"
   },
   {
    "duration": 4,
    "start_time": "2022-01-29T09:54:23.510Z"
   },
   {
    "duration": 87,
    "start_time": "2022-01-29T09:54:23.517Z"
   },
   {
    "duration": 95,
    "start_time": "2022-01-29T09:54:23.610Z"
   },
   {
    "duration": 14,
    "start_time": "2022-01-29T09:54:23.709Z"
   },
   {
    "duration": 41,
    "start_time": "2022-01-29T09:54:23.725Z"
   },
   {
    "duration": 25,
    "start_time": "2022-01-29T09:54:23.768Z"
   },
   {
    "duration": 15,
    "start_time": "2022-01-29T09:54:23.795Z"
   },
   {
    "duration": 56,
    "start_time": "2022-01-29T09:54:23.813Z"
   },
   {
    "duration": 197,
    "start_time": "2022-01-29T09:54:23.872Z"
   },
   {
    "duration": 27,
    "start_time": "2022-01-29T09:54:24.072Z"
   },
   {
    "duration": 59,
    "start_time": "2022-01-29T09:54:24.102Z"
   },
   {
    "duration": 4,
    "start_time": "2022-01-29T09:54:24.164Z"
   },
   {
    "duration": 48,
    "start_time": "2022-01-29T09:54:24.171Z"
   },
   {
    "duration": 43,
    "start_time": "2022-01-29T09:54:24.249Z"
   },
   {
    "duration": 432,
    "start_time": "2022-01-29T09:54:24.295Z"
   },
   {
    "duration": 428,
    "start_time": "2022-01-29T09:54:24.730Z"
   },
   {
    "duration": 430,
    "start_time": "2022-01-29T09:54:25.161Z"
   },
   {
    "duration": 416,
    "start_time": "2022-01-29T09:54:25.594Z"
   },
   {
    "duration": 411,
    "start_time": "2022-01-29T09:54:26.012Z"
   },
   {
    "duration": 27,
    "start_time": "2022-01-29T09:54:26.426Z"
   },
   {
    "duration": 8,
    "start_time": "2022-01-29T09:54:26.456Z"
   },
   {
    "duration": 8,
    "start_time": "2022-01-29T09:54:26.466Z"
   },
   {
    "duration": 12,
    "start_time": "2022-01-29T09:54:26.477Z"
   },
   {
    "duration": 11,
    "start_time": "2022-01-29T09:54:26.492Z"
   },
   {
    "duration": 7,
    "start_time": "2022-01-29T09:54:26.549Z"
   },
   {
    "duration": 22,
    "start_time": "2022-01-29T09:54:26.559Z"
   },
   {
    "duration": 10,
    "start_time": "2022-01-29T09:54:26.583Z"
   },
   {
    "duration": 10,
    "start_time": "2022-01-29T09:54:26.595Z"
   },
   {
    "duration": 49,
    "start_time": "2022-01-29T09:54:26.608Z"
   },
   {
    "duration": 7,
    "start_time": "2022-01-29T09:54:26.660Z"
   },
   {
    "duration": 13,
    "start_time": "2022-01-29T09:54:26.670Z"
   },
   {
    "duration": 6,
    "start_time": "2022-01-29T09:54:26.685Z"
   },
   {
    "duration": 11,
    "start_time": "2022-01-29T09:54:29.528Z"
   },
   {
    "duration": 11,
    "start_time": "2022-01-29T09:54:42.411Z"
   },
   {
    "duration": 8,
    "start_time": "2022-01-29T09:54:50.124Z"
   },
   {
    "duration": 11,
    "start_time": "2022-01-29T09:54:52.903Z"
   },
   {
    "duration": 8,
    "start_time": "2022-01-29T09:54:55.427Z"
   },
   {
    "duration": 19,
    "start_time": "2022-01-29T10:01:27.648Z"
   },
   {
    "duration": 11,
    "start_time": "2022-01-29T10:01:31.017Z"
   },
   {
    "duration": 11,
    "start_time": "2022-01-29T10:01:33.123Z"
   },
   {
    "duration": 3,
    "start_time": "2022-01-29T10:01:46.272Z"
   },
   {
    "duration": 8,
    "start_time": "2022-01-29T10:05:55.196Z"
   },
   {
    "duration": 11,
    "start_time": "2022-01-29T10:06:48.645Z"
   },
   {
    "duration": 9,
    "start_time": "2022-01-29T10:06:56.457Z"
   },
   {
    "duration": 242,
    "start_time": "2022-01-29T13:03:50.801Z"
   },
   {
    "duration": 242,
    "start_time": "2022-01-29T13:05:16.363Z"
   },
   {
    "duration": 4,
    "start_time": "2022-01-29T13:05:55.884Z"
   },
   {
    "duration": 902,
    "start_time": "2022-01-29T13:05:57.686Z"
   },
   {
    "duration": 931,
    "start_time": "2022-01-29T13:06:23.027Z"
   },
   {
    "duration": 1208,
    "start_time": "2022-01-29T13:06:39.002Z"
   },
   {
    "duration": 1114,
    "start_time": "2022-01-29T13:06:46.460Z"
   },
   {
    "duration": 1362,
    "start_time": "2022-01-29T13:08:20.579Z"
   },
   {
    "duration": 1086,
    "start_time": "2022-01-29T13:09:14.216Z"
   },
   {
    "duration": 72,
    "start_time": "2022-01-29T13:16:21.896Z"
   },
   {
    "duration": 83,
    "start_time": "2022-01-29T13:16:42.893Z"
   },
   {
    "duration": 86,
    "start_time": "2022-01-29T13:16:51.376Z"
   },
   {
    "duration": 83,
    "start_time": "2022-01-29T13:17:20.072Z"
   },
   {
    "duration": 364,
    "start_time": "2022-01-29T13:17:32.572Z"
   },
   {
    "duration": 369,
    "start_time": "2022-01-29T13:18:00.444Z"
   },
   {
    "duration": 245,
    "start_time": "2022-01-29T13:18:22.653Z"
   },
   {
    "duration": 638,
    "start_time": "2022-01-29T13:18:55.051Z"
   },
   {
    "duration": 641,
    "start_time": "2022-01-29T13:19:08.458Z"
   },
   {
    "duration": 635,
    "start_time": "2022-01-29T13:20:14.011Z"
   },
   {
    "duration": 645,
    "start_time": "2022-01-29T13:21:26.023Z"
   },
   {
    "duration": 823,
    "start_time": "2022-01-29T13:21:30.361Z"
   },
   {
    "duration": 796,
    "start_time": "2022-01-29T13:21:34.798Z"
   },
   {
    "duration": 244,
    "start_time": "2022-01-29T13:23:12.533Z"
   },
   {
    "duration": 234,
    "start_time": "2022-01-29T13:24:12.286Z"
   },
   {
    "duration": 476,
    "start_time": "2022-01-29T13:24:20.882Z"
   },
   {
    "duration": 247,
    "start_time": "2022-01-29T13:24:42.178Z"
   },
   {
    "duration": 641,
    "start_time": "2022-01-29T13:24:58.670Z"
   },
   {
    "duration": 484,
    "start_time": "2022-01-29T13:26:13.566Z"
   },
   {
    "duration": 480,
    "start_time": "2022-01-29T13:26:42.051Z"
   },
   {
    "duration": 479,
    "start_time": "2022-01-29T13:41:28.311Z"
   },
   {
    "duration": 8,
    "start_time": "2022-01-29T13:43:11.284Z"
   },
   {
    "duration": 9,
    "start_time": "2022-01-29T13:43:30.854Z"
   },
   {
    "duration": 50,
    "start_time": "2022-01-29T13:45:05.069Z"
   },
   {
    "duration": 43,
    "start_time": "2022-01-29T13:45:08.969Z"
   },
   {
    "duration": 18,
    "start_time": "2022-01-29T13:53:18.165Z"
   },
   {
    "duration": 79,
    "start_time": "2022-01-29T13:58:51.736Z"
   },
   {
    "duration": 45,
    "start_time": "2022-01-29T13:59:30.457Z"
   },
   {
    "duration": 43,
    "start_time": "2022-01-29T13:59:33.273Z"
   },
   {
    "duration": 46,
    "start_time": "2022-01-29T14:01:15.825Z"
   },
   {
    "duration": 47,
    "start_time": "2022-01-29T14:01:20.851Z"
   },
   {
    "duration": 4,
    "start_time": "2022-01-29T14:02:01.649Z"
   },
   {
    "duration": 1224,
    "start_time": "2022-01-29T14:02:03.071Z"
   },
   {
    "duration": 105,
    "start_time": "2022-01-29T14:09:53.193Z"
   },
   {
    "duration": 16,
    "start_time": "2022-01-29T14:13:58.465Z"
   },
   {
    "duration": 1414,
    "start_time": "2022-02-07T05:37:02.178Z"
   },
   {
    "duration": 12,
    "start_time": "2022-02-07T05:37:03.593Z"
   },
   {
    "duration": 8,
    "start_time": "2022-02-07T05:37:03.606Z"
   },
   {
    "duration": 6,
    "start_time": "2022-02-07T05:37:03.616Z"
   },
   {
    "duration": 12,
    "start_time": "2022-02-07T05:37:03.623Z"
   },
   {
    "duration": 6,
    "start_time": "2022-02-07T05:37:03.636Z"
   },
   {
    "duration": 7,
    "start_time": "2022-02-07T05:37:03.644Z"
   },
   {
    "duration": 75,
    "start_time": "2022-02-07T05:37:03.652Z"
   },
   {
    "duration": 20,
    "start_time": "2022-02-07T05:37:03.730Z"
   },
   {
    "duration": 29,
    "start_time": "2022-02-07T05:37:03.752Z"
   },
   {
    "duration": 8,
    "start_time": "2022-02-07T05:37:03.783Z"
   },
   {
    "duration": 14,
    "start_time": "2022-02-07T05:37:03.792Z"
   },
   {
    "duration": 12,
    "start_time": "2022-02-07T05:37:03.807Z"
   },
   {
    "duration": 8,
    "start_time": "2022-02-07T05:37:03.821Z"
   },
   {
    "duration": 49,
    "start_time": "2022-02-07T05:37:03.832Z"
   },
   {
    "duration": 15,
    "start_time": "2022-02-07T05:37:03.883Z"
   },
   {
    "duration": 7,
    "start_time": "2022-02-07T05:37:03.899Z"
   },
   {
    "duration": 5,
    "start_time": "2022-02-07T05:37:03.908Z"
   },
   {
    "duration": 5,
    "start_time": "2022-02-07T05:37:03.915Z"
   },
   {
    "duration": 98,
    "start_time": "2022-02-07T05:37:03.922Z"
   },
   {
    "duration": 2,
    "start_time": "2022-02-07T05:37:04.022Z"
   },
   {
    "duration": 56,
    "start_time": "2022-02-07T05:37:04.026Z"
   },
   {
    "duration": 56,
    "start_time": "2022-02-07T05:37:04.083Z"
   },
   {
    "duration": 10,
    "start_time": "2022-02-07T05:37:04.140Z"
   },
   {
    "duration": 30,
    "start_time": "2022-02-07T05:37:04.151Z"
   },
   {
    "duration": 13,
    "start_time": "2022-02-07T05:37:04.182Z"
   },
   {
    "duration": 8,
    "start_time": "2022-02-07T05:37:04.198Z"
   },
   {
    "duration": 11,
    "start_time": "2022-02-07T05:37:04.208Z"
   },
   {
    "duration": 128,
    "start_time": "2022-02-07T05:37:04.221Z"
   },
   {
    "duration": 24,
    "start_time": "2022-02-07T05:37:04.351Z"
   },
   {
    "duration": 25,
    "start_time": "2022-02-07T05:37:04.377Z"
   },
   {
    "duration": 21,
    "start_time": "2022-02-07T05:37:04.404Z"
   },
   {
    "duration": 2,
    "start_time": "2022-02-07T05:37:04.426Z"
   },
   {
    "duration": 708,
    "start_time": "2022-02-07T05:37:04.430Z"
   },
   {
    "duration": 591,
    "start_time": "2022-02-07T05:37:05.140Z"
   },
   {
    "duration": 10,
    "start_time": "2022-02-07T05:37:05.732Z"
   },
   {
    "duration": 5,
    "start_time": "2022-02-07T05:37:05.744Z"
   },
   {
    "duration": 22,
    "start_time": "2022-02-07T05:37:05.750Z"
   },
   {
    "duration": 7,
    "start_time": "2022-02-07T05:37:05.773Z"
   },
   {
    "duration": 4,
    "start_time": "2022-02-07T05:37:05.782Z"
   },
   {
    "duration": 11,
    "start_time": "2022-02-07T05:37:05.788Z"
   },
   {
    "duration": 5,
    "start_time": "2022-02-07T05:37:05.801Z"
   },
   {
    "duration": 6,
    "start_time": "2022-02-07T05:37:05.807Z"
   },
   {
    "duration": 12,
    "start_time": "2022-02-07T05:37:05.814Z"
   },
   {
    "duration": 8,
    "start_time": "2022-02-07T05:37:05.828Z"
   },
   {
    "duration": 8,
    "start_time": "2022-02-07T05:37:05.838Z"
   },
   {
    "duration": 10,
    "start_time": "2022-02-07T05:37:05.871Z"
   },
   {
    "duration": 13,
    "start_time": "2022-02-07T05:39:12.503Z"
   },
   {
    "duration": 1557,
    "start_time": "2022-02-07T16:08:22.429Z"
   },
   {
    "duration": 13,
    "start_time": "2022-02-07T16:08:23.989Z"
   },
   {
    "duration": 7,
    "start_time": "2022-02-07T16:08:24.004Z"
   },
   {
    "duration": 5,
    "start_time": "2022-02-07T16:08:24.012Z"
   },
   {
    "duration": 11,
    "start_time": "2022-02-07T16:08:24.018Z"
   },
   {
    "duration": 7,
    "start_time": "2022-02-07T16:08:24.031Z"
   },
   {
    "duration": 40,
    "start_time": "2022-02-07T16:08:24.040Z"
   },
   {
    "duration": 69,
    "start_time": "2022-02-07T16:08:24.082Z"
   },
   {
    "duration": 34,
    "start_time": "2022-02-07T16:08:24.153Z"
   },
   {
    "duration": 30,
    "start_time": "2022-02-07T16:08:24.189Z"
   },
   {
    "duration": 6,
    "start_time": "2022-02-07T16:08:24.221Z"
   },
   {
    "duration": 14,
    "start_time": "2022-02-07T16:08:24.228Z"
   },
   {
    "duration": 42,
    "start_time": "2022-02-07T16:08:24.243Z"
   },
   {
    "duration": 8,
    "start_time": "2022-02-07T16:08:24.287Z"
   },
   {
    "duration": 26,
    "start_time": "2022-02-07T16:08:24.301Z"
   },
   {
    "duration": 23,
    "start_time": "2022-02-07T16:08:24.329Z"
   },
   {
    "duration": 16,
    "start_time": "2022-02-07T16:52:52.223Z"
   },
   {
    "duration": 365,
    "start_time": "2022-02-07T17:09:03.148Z"
   },
   {
    "duration": 154,
    "start_time": "2022-02-07T17:09:46.965Z"
   },
   {
    "duration": 143,
    "start_time": "2022-02-07T17:09:49.499Z"
   },
   {
    "duration": 154,
    "start_time": "2022-02-07T17:09:50.539Z"
   },
   {
    "duration": 182,
    "start_time": "2022-02-07T17:09:55.100Z"
   },
   {
    "duration": 16,
    "start_time": "2022-02-07T17:10:13.196Z"
   },
   {
    "duration": 411,
    "start_time": "2022-02-07T17:12:57.540Z"
   },
   {
    "duration": 20,
    "start_time": "2022-02-07T17:13:02.561Z"
   },
   {
    "duration": 8,
    "start_time": "2022-02-07T17:13:17.563Z"
   },
   {
    "duration": 15,
    "start_time": "2022-02-07T17:13:19.652Z"
   },
   {
    "duration": 15,
    "start_time": "2022-02-07T17:13:20.626Z"
   },
   {
    "duration": 89,
    "start_time": "2022-02-07T17:14:12.843Z"
   },
   {
    "duration": 15,
    "start_time": "2022-02-07T17:14:44.440Z"
   },
   {
    "duration": 1981,
    "start_time": "2022-02-07T17:35:36.456Z"
   },
   {
    "duration": 383,
    "start_time": "2022-02-07T17:35:47.346Z"
   },
   {
    "duration": 8,
    "start_time": "2022-02-07T17:35:47.731Z"
   },
   {
    "duration": 18,
    "start_time": "2022-02-07T17:35:47.740Z"
   },
   {
    "duration": 26,
    "start_time": "2022-02-07T17:35:47.760Z"
   },
   {
    "duration": 22,
    "start_time": "2022-02-07T17:35:47.788Z"
   },
   {
    "duration": 21,
    "start_time": "2022-02-07T17:35:47.811Z"
   },
   {
    "duration": 24,
    "start_time": "2022-02-07T17:35:47.833Z"
   },
   {
    "duration": 81,
    "start_time": "2022-02-07T17:35:47.859Z"
   },
   {
    "duration": 24,
    "start_time": "2022-02-07T17:35:47.942Z"
   },
   {
    "duration": 23,
    "start_time": "2022-02-07T17:35:47.975Z"
   },
   {
    "duration": 14,
    "start_time": "2022-02-07T17:35:48.000Z"
   },
   {
    "duration": 25,
    "start_time": "2022-02-07T17:35:48.016Z"
   },
   {
    "duration": 43,
    "start_time": "2022-02-07T17:35:48.042Z"
   },
   {
    "duration": 7,
    "start_time": "2022-02-07T17:35:48.087Z"
   },
   {
    "duration": 25,
    "start_time": "2022-02-07T17:35:48.096Z"
   },
   {
    "duration": 19,
    "start_time": "2022-02-07T17:35:48.122Z"
   },
   {
    "duration": 28,
    "start_time": "2022-02-07T17:35:48.142Z"
   },
   {
    "duration": 13,
    "start_time": "2022-02-07T17:35:48.176Z"
   },
   {
    "duration": 24,
    "start_time": "2022-02-07T17:35:48.191Z"
   },
   {
    "duration": 13,
    "start_time": "2022-02-07T17:35:48.216Z"
   },
   {
    "duration": 89,
    "start_time": "2022-02-07T17:35:48.231Z"
   },
   {
    "duration": 2,
    "start_time": "2022-02-07T17:35:48.322Z"
   },
   {
    "duration": 62,
    "start_time": "2022-02-07T17:35:48.327Z"
   },
   {
    "duration": 53,
    "start_time": "2022-02-07T17:35:48.391Z"
   },
   {
    "duration": 9,
    "start_time": "2022-02-07T17:35:48.446Z"
   },
   {
    "duration": 33,
    "start_time": "2022-02-07T17:35:48.457Z"
   },
   {
    "duration": 16,
    "start_time": "2022-02-07T17:35:48.492Z"
   },
   {
    "duration": 11,
    "start_time": "2022-02-07T17:35:53.377Z"
   },
   {
    "duration": 20,
    "start_time": "2022-02-07T17:39:54.584Z"
   },
   {
    "duration": 6,
    "start_time": "2022-02-07T17:39:57.463Z"
   },
   {
    "duration": 438,
    "start_time": "2022-02-07T17:40:22.759Z"
   },
   {
    "duration": 11,
    "start_time": "2022-02-07T17:40:23.200Z"
   },
   {
    "duration": 7,
    "start_time": "2022-02-07T17:40:23.213Z"
   },
   {
    "duration": 5,
    "start_time": "2022-02-07T17:40:23.222Z"
   },
   {
    "duration": 12,
    "start_time": "2022-02-07T17:40:23.229Z"
   },
   {
    "duration": 6,
    "start_time": "2022-02-07T17:40:23.242Z"
   },
   {
    "duration": 39,
    "start_time": "2022-02-07T17:40:23.250Z"
   },
   {
    "duration": 70,
    "start_time": "2022-02-07T17:40:23.293Z"
   },
   {
    "duration": 45,
    "start_time": "2022-02-07T17:40:23.366Z"
   },
   {
    "duration": 18,
    "start_time": "2022-02-07T17:40:23.413Z"
   },
   {
    "duration": 7,
    "start_time": "2022-02-07T17:40:23.433Z"
   },
   {
    "duration": 43,
    "start_time": "2022-02-07T17:40:23.442Z"
   },
   {
    "duration": 22,
    "start_time": "2022-02-07T17:40:23.487Z"
   },
   {
    "duration": 7,
    "start_time": "2022-02-07T17:40:23.511Z"
   },
   {
    "duration": 15,
    "start_time": "2022-02-07T17:40:23.519Z"
   },
   {
    "duration": 47,
    "start_time": "2022-02-07T17:40:23.536Z"
   },
   {
    "duration": 21,
    "start_time": "2022-02-07T17:40:23.585Z"
   },
   {
    "duration": 8,
    "start_time": "2022-02-07T17:40:23.608Z"
   },
   {
    "duration": 6,
    "start_time": "2022-02-07T17:40:23.618Z"
   },
   {
    "duration": 6,
    "start_time": "2022-02-07T17:40:23.625Z"
   },
   {
    "duration": 116,
    "start_time": "2022-02-07T17:40:23.633Z"
   },
   {
    "duration": 2,
    "start_time": "2022-02-07T17:40:23.750Z"
   },
   {
    "duration": 61,
    "start_time": "2022-02-07T17:40:23.755Z"
   },
   {
    "duration": 81,
    "start_time": "2022-02-07T17:40:23.818Z"
   },
   {
    "duration": 10,
    "start_time": "2022-02-07T17:40:23.902Z"
   },
   {
    "duration": 15,
    "start_time": "2022-02-07T17:40:23.914Z"
   },
   {
    "duration": 2,
    "start_time": "2022-02-07T17:40:23.930Z"
   },
   {
    "duration": 16,
    "start_time": "2022-02-07T17:40:25.703Z"
   },
   {
    "duration": 7,
    "start_time": "2022-02-07T17:40:29.295Z"
   },
   {
    "duration": 9,
    "start_time": "2022-02-07T17:40:30.992Z"
   },
   {
    "duration": 15,
    "start_time": "2022-02-07T17:40:41.903Z"
   },
   {
    "duration": 7,
    "start_time": "2022-02-07T17:40:44.838Z"
   },
   {
    "duration": 16,
    "start_time": "2022-02-07T17:40:50.447Z"
   },
   {
    "duration": 12,
    "start_time": "2022-02-07T17:40:53.184Z"
   },
   {
    "duration": 15,
    "start_time": "2022-02-07T17:43:37.951Z"
   },
   {
    "duration": 7,
    "start_time": "2022-02-07T17:43:42.246Z"
   },
   {
    "duration": 16,
    "start_time": "2022-02-07T17:43:47.839Z"
   },
   {
    "duration": 6,
    "start_time": "2022-02-07T17:43:49.735Z"
   },
   {
    "duration": 14,
    "start_time": "2022-02-07T17:45:50.079Z"
   },
   {
    "duration": 11,
    "start_time": "2022-02-07T17:45:54.391Z"
   },
   {
    "duration": 19,
    "start_time": "2022-02-07T17:45:58.999Z"
   },
   {
    "duration": 466,
    "start_time": "2022-02-07T17:46:04.037Z"
   },
   {
    "duration": 8,
    "start_time": "2022-02-07T17:46:04.505Z"
   },
   {
    "duration": 7,
    "start_time": "2022-02-07T17:46:04.515Z"
   },
   {
    "duration": 7,
    "start_time": "2022-02-07T17:46:04.523Z"
   },
   {
    "duration": 13,
    "start_time": "2022-02-07T17:46:04.532Z"
   },
   {
    "duration": 7,
    "start_time": "2022-02-07T17:46:04.547Z"
   },
   {
    "duration": 33,
    "start_time": "2022-02-07T17:46:04.555Z"
   },
   {
    "duration": 66,
    "start_time": "2022-02-07T17:46:04.592Z"
   },
   {
    "duration": 42,
    "start_time": "2022-02-07T17:46:04.660Z"
   },
   {
    "duration": 19,
    "start_time": "2022-02-07T17:46:04.704Z"
   },
   {
    "duration": 6,
    "start_time": "2022-02-07T17:46:04.725Z"
   },
   {
    "duration": 13,
    "start_time": "2022-02-07T17:46:04.732Z"
   },
   {
    "duration": 40,
    "start_time": "2022-02-07T17:46:04.747Z"
   },
   {
    "duration": 10,
    "start_time": "2022-02-07T17:46:06.567Z"
   },
   {
    "duration": 16,
    "start_time": "2022-02-07T17:46:28.015Z"
   },
   {
    "duration": 27,
    "start_time": "2022-02-07T17:46:30.464Z"
   },
   {
    "duration": 6,
    "start_time": "2022-02-07T17:50:25.630Z"
   },
   {
    "duration": 13,
    "start_time": "2022-02-07T17:50:37.991Z"
   },
   {
    "duration": 22,
    "start_time": "2022-02-07T17:50:46.286Z"
   },
   {
    "duration": 15,
    "start_time": "2022-02-07T17:51:40.902Z"
   },
   {
    "duration": 22,
    "start_time": "2022-02-07T17:51:51.382Z"
   },
   {
    "duration": 16,
    "start_time": "2022-02-07T17:52:14.325Z"
   },
   {
    "duration": 17,
    "start_time": "2022-02-07T17:52:16.357Z"
   },
   {
    "duration": 19,
    "start_time": "2022-02-07T17:52:17.000Z"
   },
   {
    "duration": 18,
    "start_time": "2022-02-07T17:52:21.775Z"
   },
   {
    "duration": 18,
    "start_time": "2022-02-07T17:52:24.742Z"
   },
   {
    "duration": 171,
    "start_time": "2022-02-07T17:52:29.918Z"
   },
   {
    "duration": 19,
    "start_time": "2022-02-07T17:54:12.774Z"
   },
   {
    "duration": 16,
    "start_time": "2022-02-07T17:54:23.845Z"
   },
   {
    "duration": 15,
    "start_time": "2022-02-07T17:54:40.701Z"
   },
   {
    "duration": 8,
    "start_time": "2022-02-07T17:57:29.244Z"
   },
   {
    "duration": 7,
    "start_time": "2022-02-07T17:58:49.893Z"
   },
   {
    "duration": 16,
    "start_time": "2022-02-07T17:58:59.164Z"
   },
   {
    "duration": 87,
    "start_time": "2022-02-07T18:00:08.317Z"
   },
   {
    "duration": 2043,
    "start_time": "2022-02-07T18:00:10.278Z"
   },
   {
    "duration": 16,
    "start_time": "2022-02-07T18:00:19.069Z"
   },
   {
    "duration": 11,
    "start_time": "2022-02-07T18:00:20.051Z"
   },
   {
    "duration": 9,
    "start_time": "2022-02-07T18:00:20.604Z"
   },
   {
    "duration": 269,
    "start_time": "2022-02-07T18:00:49.829Z"
   },
   {
    "duration": 280,
    "start_time": "2022-02-07T18:00:52.708Z"
   },
   {
    "duration": 88,
    "start_time": "2022-02-07T18:06:03.451Z"
   },
   {
    "duration": 11,
    "start_time": "2022-02-07T18:06:14.187Z"
   },
   {
    "duration": 1163,
    "start_time": "2022-02-07T18:06:45.022Z"
   },
   {
    "duration": 1030,
    "start_time": "2022-02-07T18:06:49.580Z"
   },
   {
    "duration": 13,
    "start_time": "2022-02-07T18:07:09.267Z"
   },
   {
    "duration": 13,
    "start_time": "2022-02-07T18:07:49.523Z"
   },
   {
    "duration": 13,
    "start_time": "2022-02-07T18:07:55.698Z"
   },
   {
    "duration": 137,
    "start_time": "2022-02-07T18:11:47.907Z"
   },
   {
    "duration": 14,
    "start_time": "2022-02-07T18:11:58.003Z"
   },
   {
    "duration": 130,
    "start_time": "2022-02-07T18:12:01.787Z"
   },
   {
    "duration": 10,
    "start_time": "2022-02-07T18:12:04.610Z"
   },
   {
    "duration": 295,
    "start_time": "2022-02-07T18:12:57.019Z"
   },
   {
    "duration": 6490,
    "start_time": "2022-02-07T18:13:20.218Z"
   },
   {
    "duration": 6487,
    "start_time": "2022-02-07T18:13:33.530Z"
   },
   {
    "duration": 1057,
    "start_time": "2022-02-07T18:14:02.483Z"
   },
   {
    "duration": 7,
    "start_time": "2022-02-07T18:19:27.953Z"
   },
   {
    "duration": 8,
    "start_time": "2022-02-07T18:19:30.248Z"
   },
   {
    "duration": 8,
    "start_time": "2022-02-07T18:19:30.978Z"
   },
   {
    "duration": 17,
    "start_time": "2022-02-07T18:19:34.113Z"
   },
   {
    "duration": 7,
    "start_time": "2022-02-07T18:19:36.193Z"
   },
   {
    "duration": 10,
    "start_time": "2022-02-07T18:19:57.433Z"
   },
   {
    "duration": 2,
    "start_time": "2022-02-07T18:20:06.713Z"
   },
   {
    "duration": 2,
    "start_time": "2022-02-07T18:20:15.121Z"
   },
   {
    "duration": 25,
    "start_time": "2022-02-07T18:20:27.065Z"
   },
   {
    "duration": 26,
    "start_time": "2022-02-07T18:20:33.433Z"
   },
   {
    "duration": 26,
    "start_time": "2022-02-07T18:21:01.490Z"
   },
   {
    "duration": 29,
    "start_time": "2022-02-07T18:21:04.978Z"
   },
   {
    "duration": 331,
    "start_time": "2022-02-07T18:21:08.488Z"
   },
   {
    "duration": 3,
    "start_time": "2022-02-07T18:21:11.048Z"
   },
   {
    "duration": 840,
    "start_time": "2022-02-07T18:21:11.952Z"
   },
   {
    "duration": 656,
    "start_time": "2022-02-07T18:21:17.664Z"
   },
   {
    "duration": 11,
    "start_time": "2022-02-07T18:21:38.304Z"
   },
   {
    "duration": 5,
    "start_time": "2022-02-07T18:21:40.056Z"
   },
   {
    "duration": 7,
    "start_time": "2022-02-07T18:21:41.952Z"
   },
   {
    "duration": 5,
    "start_time": "2022-02-07T18:21:42.688Z"
   },
   {
    "duration": 5,
    "start_time": "2022-02-07T18:23:32.464Z"
   },
   {
    "duration": 272,
    "start_time": "2022-02-07T18:23:54.065Z"
   },
   {
    "duration": 6,
    "start_time": "2022-02-07T18:23:58.920Z"
   },
   {
    "duration": 13,
    "start_time": "2022-02-07T18:24:03.992Z"
   },
   {
    "duration": 494,
    "start_time": "2022-02-07T18:24:11.624Z"
   },
   {
    "duration": 8,
    "start_time": "2022-02-07T18:24:12.120Z"
   },
   {
    "duration": 12,
    "start_time": "2022-02-07T18:24:12.130Z"
   },
   {
    "duration": 7,
    "start_time": "2022-02-07T18:24:12.143Z"
   },
   {
    "duration": 12,
    "start_time": "2022-02-07T18:24:12.152Z"
   },
   {
    "duration": 13,
    "start_time": "2022-02-07T18:24:12.166Z"
   },
   {
    "duration": 9,
    "start_time": "2022-02-07T18:24:12.180Z"
   },
   {
    "duration": 92,
    "start_time": "2022-02-07T18:24:12.192Z"
   },
   {
    "duration": 24,
    "start_time": "2022-02-07T18:24:12.287Z"
   },
   {
    "duration": 17,
    "start_time": "2022-02-07T18:24:12.312Z"
   },
   {
    "duration": 12,
    "start_time": "2022-02-07T18:24:12.330Z"
   },
   {
    "duration": 32,
    "start_time": "2022-02-07T18:24:12.344Z"
   },
   {
    "duration": 18,
    "start_time": "2022-02-07T18:24:12.378Z"
   },
   {
    "duration": 7,
    "start_time": "2022-02-07T18:24:12.397Z"
   },
   {
    "duration": 18,
    "start_time": "2022-02-07T18:24:12.406Z"
   },
   {
    "duration": 14,
    "start_time": "2022-02-07T18:24:12.426Z"
   },
   {
    "duration": 41,
    "start_time": "2022-02-07T18:24:12.442Z"
   },
   {
    "duration": 8,
    "start_time": "2022-02-07T18:24:12.485Z"
   },
   {
    "duration": 7,
    "start_time": "2022-02-07T18:24:12.494Z"
   },
   {
    "duration": 13,
    "start_time": "2022-02-07T18:24:12.502Z"
   },
   {
    "duration": 88,
    "start_time": "2022-02-07T18:24:12.516Z"
   },
   {
    "duration": 2,
    "start_time": "2022-02-07T18:24:12.606Z"
   },
   {
    "duration": 50,
    "start_time": "2022-02-07T18:24:12.612Z"
   },
   {
    "duration": 62,
    "start_time": "2022-02-07T18:24:12.673Z"
   },
   {
    "duration": 10,
    "start_time": "2022-02-07T18:24:12.737Z"
   },
   {
    "duration": 39,
    "start_time": "2022-02-07T18:24:12.748Z"
   },
   {
    "duration": 2,
    "start_time": "2022-02-07T18:24:12.788Z"
   },
   {
    "duration": 30,
    "start_time": "2022-02-07T18:24:12.792Z"
   },
   {
    "duration": 5,
    "start_time": "2022-02-07T18:24:12.824Z"
   },
   {
    "duration": 11,
    "start_time": "2022-02-07T18:24:12.831Z"
   },
   {
    "duration": 17,
    "start_time": "2022-02-07T18:24:12.844Z"
   },
   {
    "duration": 147,
    "start_time": "2022-02-07T18:24:12.862Z"
   },
   {
    "duration": 2,
    "start_time": "2022-02-07T18:24:13.011Z"
   },
   {
    "duration": 10,
    "start_time": "2022-02-07T18:24:13.015Z"
   },
   {
    "duration": 18,
    "start_time": "2022-02-07T18:24:13.027Z"
   },
   {
    "duration": 51,
    "start_time": "2022-02-07T18:24:13.047Z"
   },
   {
    "duration": 20,
    "start_time": "2022-02-07T18:24:13.100Z"
   },
   {
    "duration": 3,
    "start_time": "2022-02-07T18:24:13.122Z"
   },
   {
    "duration": 738,
    "start_time": "2022-02-07T18:24:13.126Z"
   },
   {
    "duration": 656,
    "start_time": "2022-02-07T18:24:13.866Z"
   },
   {
    "duration": 10,
    "start_time": "2022-02-07T18:24:14.524Z"
   },
   {
    "duration": 5,
    "start_time": "2022-02-07T18:24:14.537Z"
   },
   {
    "duration": 11,
    "start_time": "2022-02-07T18:24:14.543Z"
   },
   {
    "duration": 26,
    "start_time": "2022-02-07T18:24:14.555Z"
   },
   {
    "duration": 15,
    "start_time": "2022-02-07T18:24:14.584Z"
   },
   {
    "duration": 9,
    "start_time": "2022-02-07T18:24:14.601Z"
   },
   {
    "duration": 8,
    "start_time": "2022-02-07T18:24:14.611Z"
   },
   {
    "duration": 13,
    "start_time": "2022-02-07T18:24:14.621Z"
   },
   {
    "duration": 11,
    "start_time": "2022-02-07T18:24:14.636Z"
   },
   {
    "duration": 16,
    "start_time": "2022-02-07T18:24:14.648Z"
   },
   {
    "duration": 10,
    "start_time": "2022-02-07T18:24:32.344Z"
   },
   {
    "duration": 440,
    "start_time": "2022-02-07T18:25:56.328Z"
   },
   {
    "duration": 307,
    "start_time": "2022-02-08T17:39:10.979Z"
   },
   {
    "duration": 205,
    "start_time": "2022-02-08T17:39:19.287Z"
   },
   {
    "duration": 1294,
    "start_time": "2022-02-08T17:39:22.991Z"
   },
   {
    "duration": 415,
    "start_time": "2022-02-08T17:39:24.288Z"
   },
   {
    "duration": 13,
    "start_time": "2022-02-08T17:39:24.706Z"
   },
   {
    "duration": 14,
    "start_time": "2022-02-08T17:39:24.721Z"
   },
   {
    "duration": 9,
    "start_time": "2022-02-08T17:39:24.737Z"
   },
   {
    "duration": 22,
    "start_time": "2022-02-08T17:39:24.748Z"
   },
   {
    "duration": 9,
    "start_time": "2022-02-08T17:39:24.772Z"
   },
   {
    "duration": 9,
    "start_time": "2022-02-08T17:39:24.807Z"
   },
   {
    "duration": 90,
    "start_time": "2022-02-08T17:39:24.818Z"
   },
   {
    "duration": 28,
    "start_time": "2022-02-08T17:39:24.910Z"
   },
   {
    "duration": 28,
    "start_time": "2022-02-08T17:39:24.940Z"
   },
   {
    "duration": 38,
    "start_time": "2022-02-08T17:39:24.970Z"
   },
   {
    "duration": 16,
    "start_time": "2022-02-08T17:39:25.010Z"
   },
   {
    "duration": 18,
    "start_time": "2022-02-08T17:39:25.028Z"
   },
   {
    "duration": 18,
    "start_time": "2022-02-08T17:39:25.048Z"
   },
   {
    "duration": 40,
    "start_time": "2022-02-08T17:39:25.068Z"
   },
   {
    "duration": 18,
    "start_time": "2022-02-08T17:39:28.709Z"
   },
   {
    "duration": 18,
    "start_time": "2022-02-08T17:39:29.679Z"
   },
   {
    "duration": 35,
    "start_time": "2022-02-08T17:39:33.647Z"
   },
   {
    "duration": 17,
    "start_time": "2022-02-08T17:40:05.087Z"
   },
   {
    "duration": 33,
    "start_time": "2022-02-08T17:40:23.799Z"
   },
   {
    "duration": 264,
    "start_time": "2022-02-08T17:43:28.534Z"
   },
   {
    "duration": 10,
    "start_time": "2022-02-08T17:43:41.755Z"
   },
   {
    "duration": 6,
    "start_time": "2022-02-08T17:43:45.494Z"
   },
   {
    "duration": 90,
    "start_time": "2022-02-08T17:43:49.422Z"
   },
   {
    "duration": 54,
    "start_time": "2022-02-08T17:43:51.751Z"
   },
   {
    "duration": 192,
    "start_time": "2022-02-08T17:43:54.878Z"
   },
   {
    "duration": 68,
    "start_time": "2022-02-08T17:43:56.694Z"
   },
   {
    "duration": 13,
    "start_time": "2022-02-08T17:43:57.556Z"
   },
   {
    "duration": 19,
    "start_time": "2022-02-08T17:44:00.454Z"
   },
   {
    "duration": 20,
    "start_time": "2022-02-08T17:44:02.959Z"
   },
   {
    "duration": 7,
    "start_time": "2022-02-08T17:44:05.382Z"
   },
   {
    "duration": 14,
    "start_time": "2022-02-08T17:44:06.966Z"
   },
   {
    "duration": 224,
    "start_time": "2022-02-08T17:44:08.934Z"
   },
   {
    "duration": 16,
    "start_time": "2022-02-08T17:44:11.630Z"
   },
   {
    "duration": 199,
    "start_time": "2022-02-08T17:44:12.430Z"
   },
   {
    "duration": 11,
    "start_time": "2022-02-08T17:44:17.406Z"
   },
   {
    "duration": 21,
    "start_time": "2022-02-08T17:44:51.760Z"
   },
   {
    "duration": 71,
    "start_time": "2022-02-13T08:39:49.363Z"
   },
   {
    "duration": 1126,
    "start_time": "2022-02-13T08:40:22.257Z"
   },
   {
    "duration": 417,
    "start_time": "2022-02-13T08:40:23.385Z"
   },
   {
    "duration": 14,
    "start_time": "2022-02-13T08:40:23.804Z"
   },
   {
    "duration": 13,
    "start_time": "2022-02-13T08:40:23.820Z"
   },
   {
    "duration": 9,
    "start_time": "2022-02-13T08:40:23.835Z"
   },
   {
    "duration": 19,
    "start_time": "2022-02-13T08:40:23.845Z"
   },
   {
    "duration": 16,
    "start_time": "2022-02-13T08:40:23.866Z"
   },
   {
    "duration": 24,
    "start_time": "2022-02-13T08:40:23.885Z"
   },
   {
    "duration": 81,
    "start_time": "2022-02-13T08:40:23.912Z"
   },
   {
    "duration": 26,
    "start_time": "2022-02-13T08:40:24.007Z"
   },
   {
    "duration": 20,
    "start_time": "2022-02-13T08:40:24.036Z"
   },
   {
    "duration": 13,
    "start_time": "2022-02-13T08:40:24.058Z"
   },
   {
    "duration": 44,
    "start_time": "2022-02-13T08:40:24.073Z"
   },
   {
    "duration": 16,
    "start_time": "2022-02-13T08:40:24.120Z"
   },
   {
    "duration": 42,
    "start_time": "2022-02-13T08:40:24.139Z"
   },
   {
    "duration": 35,
    "start_time": "2022-02-13T08:40:24.183Z"
   },
   {
    "duration": 118,
    "start_time": "2022-02-13T08:40:24.221Z"
   },
   {
    "duration": 140,
    "start_time": "2022-02-13T08:40:24.342Z"
   },
   {
    "duration": 11,
    "start_time": "2022-02-13T08:40:24.485Z"
   },
   {
    "duration": 9,
    "start_time": "2022-02-13T08:40:24.498Z"
   },
   {
    "duration": 20,
    "start_time": "2022-02-13T08:40:24.509Z"
   },
   {
    "duration": 103,
    "start_time": "2022-02-13T08:40:24.532Z"
   },
   {
    "duration": 3,
    "start_time": "2022-02-13T08:40:24.640Z"
   },
   {
    "duration": 78,
    "start_time": "2022-02-13T08:40:24.645Z"
   },
   {
    "duration": 68,
    "start_time": "2022-02-13T08:40:24.725Z"
   },
   {
    "duration": 23,
    "start_time": "2022-02-13T08:40:24.794Z"
   },
   {
    "duration": 27,
    "start_time": "2022-02-13T08:40:24.819Z"
   },
   {
    "duration": 10,
    "start_time": "2022-02-13T08:40:24.848Z"
   },
   {
    "duration": 31,
    "start_time": "2022-02-13T08:40:24.860Z"
   },
   {
    "duration": 20,
    "start_time": "2022-02-13T08:40:24.893Z"
   },
   {
    "duration": 26,
    "start_time": "2022-02-13T08:40:24.915Z"
   },
   {
    "duration": 17,
    "start_time": "2022-02-13T08:40:24.943Z"
   },
   {
    "duration": 158,
    "start_time": "2022-02-13T08:40:24.962Z"
   },
   {
    "duration": 2,
    "start_time": "2022-02-13T08:40:25.122Z"
   },
   {
    "duration": 17,
    "start_time": "2022-02-13T08:40:25.126Z"
   },
   {
    "duration": 32,
    "start_time": "2022-02-13T08:40:25.145Z"
   },
   {
    "duration": 21,
    "start_time": "2022-02-13T08:40:25.179Z"
   },
   {
    "duration": 33,
    "start_time": "2022-02-13T08:40:25.202Z"
   },
   {
    "duration": 27,
    "start_time": "2022-02-13T08:40:25.237Z"
   },
   {
    "duration": 3,
    "start_time": "2022-02-13T08:40:25.266Z"
   },
   {
    "duration": 870,
    "start_time": "2022-02-13T08:40:25.270Z"
   },
   {
    "duration": 394,
    "start_time": "2022-02-13T08:41:52.671Z"
   },
   {
    "duration": 386,
    "start_time": "2022-02-13T08:42:43.940Z"
   },
   {
    "duration": 557,
    "start_time": "2022-02-13T08:43:46.934Z"
   },
   {
    "duration": 491,
    "start_time": "2022-02-13T08:46:07.693Z"
   },
   {
    "duration": 260,
    "start_time": "2022-02-13T08:46:36.404Z"
   },
   {
    "duration": 200,
    "start_time": "2022-02-13T08:46:52.444Z"
   },
   {
    "duration": 695,
    "start_time": "2022-02-13T08:53:37.260Z"
   },
   {
    "duration": 762,
    "start_time": "2022-02-13T08:54:19.908Z"
   },
   {
    "duration": 627,
    "start_time": "2022-02-13T08:54:56.452Z"
   },
   {
    "duration": 605,
    "start_time": "2022-02-13T08:55:22.564Z"
   },
   {
    "duration": 476,
    "start_time": "2022-02-13T08:55:49.092Z"
   },
   {
    "duration": 684,
    "start_time": "2022-02-13T08:58:14.003Z"
   },
   {
    "duration": 947,
    "start_time": "2022-02-13T08:58:50.420Z"
   },
   {
    "duration": 391,
    "start_time": "2022-02-13T08:58:56.362Z"
   },
   {
    "duration": 1230,
    "start_time": "2022-02-13T09:00:09.773Z"
   },
   {
    "duration": 453,
    "start_time": "2022-02-13T09:00:17.106Z"
   },
   {
    "duration": 694,
    "start_time": "2022-02-13T09:01:00.355Z"
   },
   {
    "duration": 604,
    "start_time": "2022-02-13T09:05:41.003Z"
   },
   {
    "duration": 793,
    "start_time": "2022-02-13T09:06:09.931Z"
   },
   {
    "duration": 378,
    "start_time": "2022-02-13T09:06:22.009Z"
   },
   {
    "duration": 383,
    "start_time": "2022-02-13T09:09:54.122Z"
   },
   {
    "duration": 592,
    "start_time": "2022-02-13T09:10:38.065Z"
   },
   {
    "duration": 757,
    "start_time": "2022-02-13T09:10:49.921Z"
   },
   {
    "duration": 372,
    "start_time": "2022-02-13T09:11:19.313Z"
   },
   {
    "duration": 382,
    "start_time": "2022-02-13T09:11:29.962Z"
   },
   {
    "duration": 642,
    "start_time": "2022-02-13T09:13:19.697Z"
   },
   {
    "duration": 554,
    "start_time": "2022-02-13T09:14:09.113Z"
   },
   {
    "duration": 563,
    "start_time": "2022-02-13T09:16:36.098Z"
   },
   {
    "duration": 588,
    "start_time": "2022-02-13T09:16:52.899Z"
   },
   {
    "duration": 488,
    "start_time": "2022-02-13T09:25:22.334Z"
   },
   {
    "duration": 227,
    "start_time": "2022-02-13T09:25:29.687Z"
   },
   {
    "duration": 74,
    "start_time": "2022-02-13T09:26:01.999Z"
   },
   {
    "duration": 72,
    "start_time": "2022-02-13T09:26:05.967Z"
   },
   {
    "duration": 98,
    "start_time": "2022-02-13T09:29:11.087Z"
   },
   {
    "duration": 645,
    "start_time": "2022-02-13T09:30:07.271Z"
   },
   {
    "duration": 1045,
    "start_time": "2022-02-13T09:30:29.790Z"
   },
   {
    "duration": 752,
    "start_time": "2022-02-13T09:30:59.661Z"
   },
   {
    "duration": 750,
    "start_time": "2022-02-13T09:31:06.278Z"
   },
   {
    "duration": 266,
    "start_time": "2022-02-13T09:31:37.750Z"
   },
   {
    "duration": 560,
    "start_time": "2022-02-13T09:31:52.709Z"
   },
   {
    "duration": 284,
    "start_time": "2022-02-13T09:32:01.026Z"
   },
   {
    "duration": 251,
    "start_time": "2022-02-13T09:32:07.126Z"
   },
   {
    "duration": 368,
    "start_time": "2022-02-13T09:32:12.253Z"
   },
   {
    "duration": 294,
    "start_time": "2022-02-13T09:32:18.685Z"
   },
   {
    "duration": 212,
    "start_time": "2022-02-13T09:32:26.702Z"
   },
   {
    "duration": 279,
    "start_time": "2022-02-13T09:32:34.789Z"
   },
   {
    "duration": 263,
    "start_time": "2022-02-13T09:32:47.695Z"
   },
   {
    "duration": 569,
    "start_time": "2022-02-13T09:33:14.963Z"
   },
   {
    "duration": 750,
    "start_time": "2022-02-13T09:33:30.941Z"
   },
   {
    "duration": 509,
    "start_time": "2022-02-13T09:33:38.366Z"
   },
   {
    "duration": 265,
    "start_time": "2022-02-13T09:33:52.734Z"
   },
   {
    "duration": 828,
    "start_time": "2022-02-13T09:40:37.485Z"
   },
   {
    "duration": 229,
    "start_time": "2022-02-13T09:40:53.589Z"
   },
   {
    "duration": 687,
    "start_time": "2022-02-13T09:41:34.781Z"
   },
   {
    "duration": 615,
    "start_time": "2022-02-13T09:41:39.612Z"
   },
   {
    "duration": 417,
    "start_time": "2022-02-13T09:42:21.293Z"
   },
   {
    "duration": 394,
    "start_time": "2022-02-13T09:42:26.100Z"
   },
   {
    "duration": 407,
    "start_time": "2022-02-13T09:43:56.275Z"
   },
   {
    "duration": 490,
    "start_time": "2022-02-13T09:43:59.531Z"
   },
   {
    "duration": 466,
    "start_time": "2022-02-13T09:44:03.972Z"
   },
   {
    "duration": 453,
    "start_time": "2022-02-13T09:44:39.556Z"
   },
   {
    "duration": 429,
    "start_time": "2022-02-13T09:44:45.156Z"
   },
   {
    "duration": 408,
    "start_time": "2022-02-13T09:45:00.190Z"
   },
   {
    "duration": 565,
    "start_time": "2022-02-13T09:45:05.820Z"
   },
   {
    "duration": 921,
    "start_time": "2022-02-13T10:19:29.902Z"
   },
   {
    "duration": 207,
    "start_time": "2022-02-13T10:19:46.919Z"
   },
   {
    "duration": 3,
    "start_time": "2022-02-13T10:19:50.334Z"
   },
   {
    "duration": 412,
    "start_time": "2022-02-13T10:19:50.339Z"
   },
   {
    "duration": 11,
    "start_time": "2022-02-13T10:19:50.753Z"
   },
   {
    "duration": 9,
    "start_time": "2022-02-13T10:19:50.766Z"
   },
   {
    "duration": 18,
    "start_time": "2022-02-13T10:19:50.777Z"
   },
   {
    "duration": 17,
    "start_time": "2022-02-13T10:19:50.797Z"
   },
   {
    "duration": 12,
    "start_time": "2022-02-13T10:19:50.817Z"
   },
   {
    "duration": 10,
    "start_time": "2022-02-13T10:19:50.831Z"
   },
   {
    "duration": 99,
    "start_time": "2022-02-13T10:19:50.843Z"
   },
   {
    "duration": 33,
    "start_time": "2022-02-13T10:19:50.944Z"
   },
   {
    "duration": 42,
    "start_time": "2022-02-13T10:19:50.979Z"
   },
   {
    "duration": 10,
    "start_time": "2022-02-13T10:19:51.023Z"
   },
   {
    "duration": 21,
    "start_time": "2022-02-13T10:19:51.035Z"
   },
   {
    "duration": 23,
    "start_time": "2022-02-13T10:19:51.058Z"
   },
   {
    "duration": 30,
    "start_time": "2022-02-13T10:19:51.084Z"
   },
   {
    "duration": 25,
    "start_time": "2022-02-13T10:19:51.117Z"
   },
   {
    "duration": 18,
    "start_time": "2022-02-13T10:19:51.145Z"
   },
   {
    "duration": 54,
    "start_time": "2022-02-13T10:19:51.165Z"
   },
   {
    "duration": 9,
    "start_time": "2022-02-13T10:19:51.223Z"
   },
   {
    "duration": 11,
    "start_time": "2022-02-13T10:19:51.235Z"
   },
   {
    "duration": 10,
    "start_time": "2022-02-13T10:19:51.247Z"
   },
   {
    "duration": 112,
    "start_time": "2022-02-13T10:19:51.259Z"
   },
   {
    "duration": 3,
    "start_time": "2022-02-13T10:19:51.372Z"
   },
   {
    "duration": 76,
    "start_time": "2022-02-13T10:19:51.377Z"
   },
   {
    "duration": 81,
    "start_time": "2022-02-13T10:19:51.455Z"
   },
   {
    "duration": 14,
    "start_time": "2022-02-13T10:19:51.538Z"
   },
   {
    "duration": 21,
    "start_time": "2022-02-13T10:19:51.555Z"
   },
   {
    "duration": 2,
    "start_time": "2022-02-13T10:19:51.579Z"
   },
   {
    "duration": 23,
    "start_time": "2022-02-13T10:19:51.608Z"
   },
   {
    "duration": 7,
    "start_time": "2022-02-13T10:19:51.633Z"
   },
   {
    "duration": 18,
    "start_time": "2022-02-13T10:19:51.642Z"
   },
   {
    "duration": 47,
    "start_time": "2022-02-13T10:19:51.662Z"
   },
   {
    "duration": 175,
    "start_time": "2022-02-13T10:19:51.711Z"
   },
   {
    "duration": 3,
    "start_time": "2022-02-13T10:19:51.888Z"
   },
   {
    "duration": 16,
    "start_time": "2022-02-13T10:19:51.893Z"
   },
   {
    "duration": 18,
    "start_time": "2022-02-13T10:19:51.912Z"
   },
   {
    "duration": 27,
    "start_time": "2022-02-13T10:19:51.932Z"
   },
   {
    "duration": 48,
    "start_time": "2022-02-13T10:19:51.960Z"
   },
   {
    "duration": 27,
    "start_time": "2022-02-13T10:19:52.010Z"
   },
   {
    "duration": 3,
    "start_time": "2022-02-13T10:19:52.039Z"
   },
   {
    "duration": 1110,
    "start_time": "2022-02-13T10:19:52.043Z"
   },
   {
    "duration": 1027,
    "start_time": "2022-02-13T10:19:53.155Z"
   },
   {
    "duration": 463,
    "start_time": "2022-02-13T10:19:54.184Z"
   },
   {
    "duration": 14,
    "start_time": "2022-02-13T10:19:54.650Z"
   },
   {
    "duration": 11,
    "start_time": "2022-02-13T10:19:54.665Z"
   },
   {
    "duration": 33,
    "start_time": "2022-02-13T10:19:54.678Z"
   },
   {
    "duration": 7,
    "start_time": "2022-02-13T10:19:54.713Z"
   },
   {
    "duration": 25,
    "start_time": "2022-02-13T10:19:54.721Z"
   },
   {
    "duration": 16,
    "start_time": "2022-02-13T10:19:54.748Z"
   },
   {
    "duration": 8,
    "start_time": "2022-02-13T10:19:54.766Z"
   },
   {
    "duration": 32,
    "start_time": "2022-02-13T10:19:54.775Z"
   },
   {
    "duration": 12,
    "start_time": "2022-02-13T10:19:54.809Z"
   },
   {
    "duration": 16,
    "start_time": "2022-02-13T10:19:54.823Z"
   },
   {
    "duration": 22,
    "start_time": "2022-02-13T10:19:54.841Z"
   },
   {
    "duration": 227,
    "start_time": "2022-02-13T10:19:57.071Z"
   },
   {
    "duration": 22,
    "start_time": "2022-02-13T10:20:14.494Z"
   },
   {
    "duration": 18,
    "start_time": "2022-02-13T10:21:19.399Z"
   },
   {
    "duration": 15,
    "start_time": "2022-02-13T10:21:27.766Z"
   },
   {
    "duration": 259,
    "start_time": "2022-02-13T11:07:51.048Z"
   },
   {
    "duration": 250,
    "start_time": "2022-02-13T11:08:00.656Z"
   },
   {
    "duration": 360,
    "start_time": "2022-02-13T11:08:08.464Z"
   },
   {
    "duration": 15,
    "start_time": "2022-02-13T11:08:31.072Z"
   },
   {
    "duration": 17,
    "start_time": "2022-02-13T11:08:51.952Z"
   },
   {
    "duration": 13,
    "start_time": "2022-02-13T11:09:04.857Z"
   },
   {
    "duration": 14,
    "start_time": "2022-02-13T11:09:16.252Z"
   },
   {
    "duration": 361,
    "start_time": "2022-02-13T11:09:21.255Z"
   },
   {
    "duration": 14,
    "start_time": "2022-02-13T11:09:26.224Z"
   },
   {
    "duration": 23,
    "start_time": "2022-02-13T11:10:23.600Z"
   },
   {
    "duration": 14,
    "start_time": "2022-02-13T11:10:48.464Z"
   },
   {
    "duration": 13,
    "start_time": "2022-02-13T11:10:53.896Z"
   },
   {
    "duration": 1330,
    "start_time": "2022-02-14T03:54:41.256Z"
   },
   {
    "duration": 417,
    "start_time": "2022-02-14T03:54:42.588Z"
   },
   {
    "duration": 14,
    "start_time": "2022-02-14T03:54:43.008Z"
   },
   {
    "duration": 7,
    "start_time": "2022-02-14T03:54:43.024Z"
   },
   {
    "duration": 12,
    "start_time": "2022-02-14T03:54:43.033Z"
   },
   {
    "duration": 15,
    "start_time": "2022-02-14T03:54:43.047Z"
   },
   {
    "duration": 10,
    "start_time": "2022-02-14T03:54:43.064Z"
   },
   {
    "duration": 38,
    "start_time": "2022-02-14T03:54:43.076Z"
   },
   {
    "duration": 88,
    "start_time": "2022-02-14T03:54:43.117Z"
   },
   {
    "duration": 26,
    "start_time": "2022-02-14T03:54:43.208Z"
   },
   {
    "duration": 20,
    "start_time": "2022-02-14T03:54:43.236Z"
   },
   {
    "duration": 7,
    "start_time": "2022-02-14T03:54:43.258Z"
   },
   {
    "duration": 46,
    "start_time": "2022-02-14T03:54:43.267Z"
   },
   {
    "duration": 14,
    "start_time": "2022-02-14T03:54:43.316Z"
   },
   {
    "duration": 12,
    "start_time": "2022-02-14T03:54:43.332Z"
   },
   {
    "duration": 20,
    "start_time": "2022-02-14T03:54:43.346Z"
   },
   {
    "duration": 41,
    "start_time": "2022-02-14T03:54:43.368Z"
   },
   {
    "duration": 35,
    "start_time": "2022-02-14T03:54:43.412Z"
   },
   {
    "duration": 8,
    "start_time": "2022-02-14T03:54:43.449Z"
   },
   {
    "duration": 22,
    "start_time": "2022-02-14T03:54:43.459Z"
   },
   {
    "duration": 26,
    "start_time": "2022-02-14T03:54:43.483Z"
   },
   {
    "duration": 107,
    "start_time": "2022-02-14T03:54:43.511Z"
   },
   {
    "duration": 2,
    "start_time": "2022-02-14T03:54:43.620Z"
   },
   {
    "duration": 66,
    "start_time": "2022-02-14T03:54:43.624Z"
   },
   {
    "duration": 67,
    "start_time": "2022-02-14T03:54:43.692Z"
   },
   {
    "duration": 12,
    "start_time": "2022-02-14T03:54:43.760Z"
   },
   {
    "duration": 39,
    "start_time": "2022-02-14T03:54:43.776Z"
   },
   {
    "duration": 3,
    "start_time": "2022-02-14T03:54:43.818Z"
   },
   {
    "duration": 22,
    "start_time": "2022-02-14T03:54:43.822Z"
   },
   {
    "duration": 8,
    "start_time": "2022-02-14T03:54:43.846Z"
   },
   {
    "duration": 13,
    "start_time": "2022-02-14T03:54:43.855Z"
   },
   {
    "duration": 49,
    "start_time": "2022-02-14T03:54:43.870Z"
   },
   {
    "duration": 151,
    "start_time": "2022-02-14T03:54:43.921Z"
   },
   {
    "duration": 2,
    "start_time": "2022-02-14T03:54:44.074Z"
   },
   {
    "duration": 7,
    "start_time": "2022-02-14T03:54:44.078Z"
   },
   {
    "duration": 31,
    "start_time": "2022-02-14T03:54:44.087Z"
   },
   {
    "duration": 21,
    "start_time": "2022-02-14T03:54:44.120Z"
   },
   {
    "duration": 29,
    "start_time": "2022-02-14T03:54:44.143Z"
   },
   {
    "duration": 51,
    "start_time": "2022-02-14T03:54:44.175Z"
   },
   {
    "duration": 3,
    "start_time": "2022-02-14T03:54:44.228Z"
   },
   {
    "duration": 857,
    "start_time": "2022-02-14T03:54:44.232Z"
   },
   {
    "duration": 832,
    "start_time": "2022-02-14T03:54:45.091Z"
   },
   {
    "duration": 336,
    "start_time": "2022-02-14T03:54:45.925Z"
   },
   {
    "duration": 40,
    "start_time": "2022-02-14T03:54:46.223Z"
   },
   {
    "duration": 37,
    "start_time": "2022-02-14T03:54:46.227Z"
   },
   {
    "duration": 19,
    "start_time": "2022-02-14T03:54:46.246Z"
   },
   {
    "duration": 8,
    "start_time": "2022-02-14T03:54:46.258Z"
   },
   {
    "duration": -1,
    "start_time": "2022-02-14T03:54:46.268Z"
   },
   {
    "duration": -4,
    "start_time": "2022-02-14T03:54:46.273Z"
   },
   {
    "duration": -7,
    "start_time": "2022-02-14T03:54:46.277Z"
   },
   {
    "duration": -17,
    "start_time": "2022-02-14T03:54:46.288Z"
   },
   {
    "duration": -20,
    "start_time": "2022-02-14T03:54:46.292Z"
   },
   {
    "duration": -32,
    "start_time": "2022-02-14T03:54:46.305Z"
   },
   {
    "duration": -36,
    "start_time": "2022-02-14T03:54:46.310Z"
   },
   {
    "duration": 368,
    "start_time": "2022-02-14T03:55:12.047Z"
   },
   {
    "duration": 12,
    "start_time": "2022-02-14T03:55:15.252Z"
   },
   {
    "duration": 6,
    "start_time": "2022-02-14T03:55:15.927Z"
   },
   {
    "duration": 8,
    "start_time": "2022-02-14T03:55:17.258Z"
   },
   {
    "duration": 7,
    "start_time": "2022-02-14T03:55:17.397Z"
   },
   {
    "duration": 14,
    "start_time": "2022-02-14T03:55:18.514Z"
   },
   {
    "duration": 8,
    "start_time": "2022-02-14T03:55:18.792Z"
   },
   {
    "duration": 3,
    "start_time": "2022-02-14T03:55:19.276Z"
   },
   {
    "duration": 8,
    "start_time": "2022-02-14T03:55:19.610Z"
   },
   {
    "duration": 9,
    "start_time": "2022-02-14T03:55:19.913Z"
   },
   {
    "duration": 6,
    "start_time": "2022-02-14T03:55:20.067Z"
   },
   {
    "duration": 13,
    "start_time": "2022-02-14T03:55:21.232Z"
   }
  ],
  "kernelspec": {
   "display_name": "Python 3 (ipykernel)",
   "language": "python",
   "name": "python3"
  },
  "language_info": {
   "codemirror_mode": {
    "name": "ipython",
    "version": 3
   },
   "file_extension": ".py",
   "mimetype": "text/x-python",
   "name": "python",
   "nbconvert_exporter": "python",
   "pygments_lexer": "ipython3",
   "version": "3.9.7"
  },
  "toc": {
   "base_numbering": 1,
   "nav_menu": {
    "height": "151px",
    "width": "210px"
   },
   "number_sections": true,
   "sideBar": true,
   "skip_h1_title": true,
   "title_cell": "Table of Contents",
   "title_sidebar": "Contents",
   "toc_cell": true,
   "toc_position": {
    "height": "calc(100% - 180px)",
    "left": "10px",
    "top": "150px",
    "width": "273.188px"
   },
   "toc_section_display": true,
   "toc_window_display": false
  }
 },
 "nbformat": 4,
 "nbformat_minor": 2
}
