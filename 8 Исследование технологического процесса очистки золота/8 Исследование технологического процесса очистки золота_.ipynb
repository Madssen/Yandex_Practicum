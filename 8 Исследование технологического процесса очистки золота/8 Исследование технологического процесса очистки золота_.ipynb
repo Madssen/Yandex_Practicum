{
 "cells": [
  {
   "cell_type": "markdown",
   "metadata": {
    "toc": true
   },
   "source": [
    "<h1>Содержание<span class=\"tocSkip\"></span></h1>\n",
    "<div class=\"toc\"><ul class=\"toc-item\"><li><span><a href=\"#Подготовка-данных\" data-toc-modified-id=\"Подготовка-данных-1\"><span class=\"toc-item-num\">1&nbsp;&nbsp;</span>Подготовка данных</a></span><ul class=\"toc-item\"><li><span><a href=\"#Откройте-файлы-и-изучите-их.\" data-toc-modified-id=\"Откройте-файлы-и-изучите-их.-1.1\"><span class=\"toc-item-num\">1.1&nbsp;&nbsp;</span>Откройте файлы и изучите их.</a></span></li><li><span><a href=\"#Проверьте,-что-эффективность-обогащения-рассчитана-правильно.\" data-toc-modified-id=\"Проверьте,-что-эффективность-обогащения-рассчитана-правильно.-1.2\"><span class=\"toc-item-num\">1.2&nbsp;&nbsp;</span>Проверьте, что эффективность обогащения рассчитана правильно.</a></span></li><li><span><a href=\"#Проанализируйте-признаки,-недоступные-в-тестовой-выборке.\" data-toc-modified-id=\"Проанализируйте-признаки,-недоступные-в-тестовой-выборке.-1.3\"><span class=\"toc-item-num\">1.3&nbsp;&nbsp;</span>Проанализируйте признаки, недоступные в тестовой выборке.</a></span></li><li><span><a href=\"#Проведите-предобработку-данных.\" data-toc-modified-id=\"Проведите-предобработку-данных.-1.4\"><span class=\"toc-item-num\">1.4&nbsp;&nbsp;</span>Проведите предобработку данных.</a></span></li></ul></li><li><span><a href=\"#Анализ-данных\" data-toc-modified-id=\"Анализ-данных-2\"><span class=\"toc-item-num\">2&nbsp;&nbsp;</span>Анализ данных</a></span><ul class=\"toc-item\"><li><span><a href=\"#Посмотрите,-как-меняется-концентрация-металлов-(Au,-Ag,-Pb)-на-различных-этапах-очистки.-Опишите-выводы.\" data-toc-modified-id=\"Посмотрите,-как-меняется-концентрация-металлов-(Au,-Ag,-Pb)-на-различных-этапах-очистки.-Опишите-выводы.-2.1\"><span class=\"toc-item-num\">2.1&nbsp;&nbsp;</span>Посмотрите, как меняется концентрация металлов (Au, Ag, Pb) на различных этапах очистки. Опишите выводы.</a></span></li><li><span><a href=\"#Сравните-распределения-размеров-гранул-сырья-на-обучающей-и-тестовой-выборках.-Если-распределения-сильно-отличаются-друг-от-друга,-оценка-модели-будет-неправильной\" data-toc-modified-id=\"Сравните-распределения-размеров-гранул-сырья-на-обучающей-и-тестовой-выборках.-Если-распределения-сильно-отличаются-друг-от-друга,-оценка-модели-будет-неправильной-2.2\"><span class=\"toc-item-num\">2.2&nbsp;&nbsp;</span>Сравните распределения размеров гранул сырья на обучающей и тестовой выборках. Если распределения сильно отличаются друг от друга, оценка модели будет неправильной</a></span></li><li><span><a href=\"#Исследуйте-суммарную-концентрацию-всех-веществ-на-разных-стадиях:-в-сырье,-в-черновом-и-финальном-концентратах.\" data-toc-modified-id=\"Исследуйте-суммарную-концентрацию-всех-веществ-на-разных-стадиях:-в-сырье,-в-черновом-и-финальном-концентратах.-2.3\"><span class=\"toc-item-num\">2.3&nbsp;&nbsp;</span>Исследуйте суммарную концентрацию всех веществ на разных стадиях: в сырье, в черновом и финальном концентратах.</a></span></li></ul></li><li><span><a href=\"#Модель\" data-toc-modified-id=\"Модель-3\"><span class=\"toc-item-num\">3&nbsp;&nbsp;</span>Модель</a></span></li><li><span><a href=\"#Чек-лист-готовности-проекта\" data-toc-modified-id=\"Чек-лист-готовности-проекта-4\"><span class=\"toc-item-num\">4&nbsp;&nbsp;</span>Чек-лист готовности проекта</a></span></li></ul></div>"
   ]
  },
  {
   "cell_type": "markdown",
   "metadata": {},
   "source": [
    "# Восстановление золота из руды"
   ]
  },
  {
   "cell_type": "markdown",
   "metadata": {},
   "source": [
    "Подготовьте прототип модели машинного обучения для «Цифры». Компания разрабатывает решения для эффективной работы промышленных предприятий.\n",
    "\n",
    "Модель должна предсказать коэффициент восстановления золота из золотосодержащей руды. Используйте данные с параметрами добычи и очистки. \n",
    "\n",
    "Модель поможет оптимизировать производство, чтобы не запускать предприятие с убыточными характеристиками.\n",
    "\n",
    "Вам нужно:\n",
    "\n",
    "1. Подготовить данные;\n",
    "2. Провести исследовательский анализ данных;\n",
    "3. Построить и обучить модель.\n",
    "\n",
    "Чтобы выполнить проект, обращайтесь к библиотекам *pandas*, *matplotlib* и *sklearn.* Вам поможет их документация."
   ]
  },
  {
   "cell_type": "markdown",
   "metadata": {},
   "source": [
    "## Подготовка данных"
   ]
  },
  {
   "cell_type": "markdown",
   "metadata": {},
   "source": [
    "### Откройте файлы и изучите их."
   ]
  },
  {
   "cell_type": "code",
   "execution_count": 1,
   "metadata": {},
   "outputs": [],
   "source": [
    "import numpy as np\n",
    "import os\n",
    "import pandas as pd\n",
    "os.chdir(\"C:/Users/Admin/Downloads/ЯНДЕКС/Проекты из курса/8 коэффициент добычи золота из руды\")\n",
    "\n",
    "\n",
    "from sklearn.metrics import mean_absolute_error\n",
    "from sklearn.ensemble import RandomForestRegressor\n",
    "from sklearn.preprocessing import StandardScaler\n",
    "from sklearn.linear_model import LinearRegression\n",
    "from sklearn.tree import DecisionTreeRegressor\n",
    "import matplotlib.pyplot as plt\n",
    "from sklearn.metrics import make_scorer\n",
    "import seaborn as sns\n",
    "from sklearn.dummy import DummyRegressor\n",
    "\n",
    "import warnings\n",
    "warnings.simplefilter(action='ignore', category=FutureWarning)"
   ]
  },
  {
   "cell_type": "code",
   "execution_count": 2,
   "metadata": {},
   "outputs": [],
   "source": [
    "train_frame = pd.read_csv('gold_recovery_train_new.csv')\n",
    "test_frame = pd.read_csv('gold_recovery_test_new.csv')\n",
    "full_frame = pd.read_csv('gold_recovery_full_new.csv')"
   ]
  },
  {
   "cell_type": "code",
   "execution_count": 3,
   "metadata": {
    "scrolled": true
   },
   "outputs": [
    {
     "name": "stdout",
     "output_type": "stream",
     "text": [
      "<class 'pandas.core.frame.DataFrame'>\n",
      "RangeIndex: 14149 entries, 0 to 14148\n",
      "Data columns (total 87 columns):\n",
      " #   Column                                              Non-Null Count  Dtype  \n",
      "---  ------                                              --------------  -----  \n",
      " 0   date                                                14149 non-null  object \n",
      " 1   final.output.concentrate_ag                         14148 non-null  float64\n",
      " 2   final.output.concentrate_pb                         14148 non-null  float64\n",
      " 3   final.output.concentrate_sol                        13938 non-null  float64\n",
      " 4   final.output.concentrate_au                         14149 non-null  float64\n",
      " 5   final.output.recovery                               14149 non-null  float64\n",
      " 6   final.output.tail_ag                                14149 non-null  float64\n",
      " 7   final.output.tail_pb                                14049 non-null  float64\n",
      " 8   final.output.tail_sol                               14144 non-null  float64\n",
      " 9   final.output.tail_au                                14149 non-null  float64\n",
      " 10  primary_cleaner.input.sulfate                       14129 non-null  float64\n",
      " 11  primary_cleaner.input.depressant                    14117 non-null  float64\n",
      " 12  primary_cleaner.input.feed_size                     14149 non-null  float64\n",
      " 13  primary_cleaner.input.xanthate                      14049 non-null  float64\n",
      " 14  primary_cleaner.output.concentrate_ag               14149 non-null  float64\n",
      " 15  primary_cleaner.output.concentrate_pb               14063 non-null  float64\n",
      " 16  primary_cleaner.output.concentrate_sol              13863 non-null  float64\n",
      " 17  primary_cleaner.output.concentrate_au               14149 non-null  float64\n",
      " 18  primary_cleaner.output.tail_ag                      14148 non-null  float64\n",
      " 19  primary_cleaner.output.tail_pb                      14134 non-null  float64\n",
      " 20  primary_cleaner.output.tail_sol                     14103 non-null  float64\n",
      " 21  primary_cleaner.output.tail_au                      14149 non-null  float64\n",
      " 22  primary_cleaner.state.floatbank8_a_air              14145 non-null  float64\n",
      " 23  primary_cleaner.state.floatbank8_a_level            14148 non-null  float64\n",
      " 24  primary_cleaner.state.floatbank8_b_air              14145 non-null  float64\n",
      " 25  primary_cleaner.state.floatbank8_b_level            14148 non-null  float64\n",
      " 26  primary_cleaner.state.floatbank8_c_air              14147 non-null  float64\n",
      " 27  primary_cleaner.state.floatbank8_c_level            14148 non-null  float64\n",
      " 28  primary_cleaner.state.floatbank8_d_air              14146 non-null  float64\n",
      " 29  primary_cleaner.state.floatbank8_d_level            14148 non-null  float64\n",
      " 30  rougher.calculation.sulfate_to_au_concentrate       14148 non-null  float64\n",
      " 31  rougher.calculation.floatbank10_sulfate_to_au_feed  14148 non-null  float64\n",
      " 32  rougher.calculation.floatbank11_sulfate_to_au_feed  14148 non-null  float64\n",
      " 33  rougher.calculation.au_pb_ratio                     14149 non-null  float64\n",
      " 34  rougher.input.feed_ag                               14149 non-null  float64\n",
      " 35  rougher.input.feed_pb                               14049 non-null  float64\n",
      " 36  rougher.input.feed_rate                             14141 non-null  float64\n",
      " 37  rougher.input.feed_size                             14005 non-null  float64\n",
      " 38  rougher.input.feed_sol                              14071 non-null  float64\n",
      " 39  rougher.input.feed_au                               14149 non-null  float64\n",
      " 40  rougher.input.floatbank10_sulfate                   14120 non-null  float64\n",
      " 41  rougher.input.floatbank10_xanthate                  14141 non-null  float64\n",
      " 42  rougher.input.floatbank11_sulfate                   14113 non-null  float64\n",
      " 43  rougher.input.floatbank11_xanthate                  13721 non-null  float64\n",
      " 44  rougher.output.concentrate_ag                       14149 non-null  float64\n",
      " 45  rougher.output.concentrate_pb                       14149 non-null  float64\n",
      " 46  rougher.output.concentrate_sol                      14127 non-null  float64\n",
      " 47  rougher.output.concentrate_au                       14149 non-null  float64\n",
      " 48  rougher.output.recovery                             14149 non-null  float64\n",
      " 49  rougher.output.tail_ag                              14148 non-null  float64\n",
      " 50  rougher.output.tail_pb                              14149 non-null  float64\n",
      " 51  rougher.output.tail_sol                             14149 non-null  float64\n",
      " 52  rougher.output.tail_au                              14149 non-null  float64\n",
      " 53  rougher.state.floatbank10_a_air                     14148 non-null  float64\n",
      " 54  rougher.state.floatbank10_a_level                   14148 non-null  float64\n",
      " 55  rougher.state.floatbank10_b_air                     14148 non-null  float64\n",
      " 56  rougher.state.floatbank10_b_level                   14148 non-null  float64\n",
      " 57  rougher.state.floatbank10_c_air                     14148 non-null  float64\n",
      " 58  rougher.state.floatbank10_c_level                   14148 non-null  float64\n",
      " 59  rougher.state.floatbank10_d_air                     14149 non-null  float64\n",
      " 60  rougher.state.floatbank10_d_level                   14149 non-null  float64\n",
      " 61  rougher.state.floatbank10_e_air                     13713 non-null  float64\n",
      " 62  rougher.state.floatbank10_e_level                   14149 non-null  float64\n",
      " 63  rougher.state.floatbank10_f_air                     14149 non-null  float64\n",
      " 64  rougher.state.floatbank10_f_level                   14149 non-null  float64\n",
      " 65  secondary_cleaner.output.tail_ag                    14147 non-null  float64\n",
      " 66  secondary_cleaner.output.tail_pb                    14139 non-null  float64\n",
      " 67  secondary_cleaner.output.tail_sol                   12544 non-null  float64\n",
      " 68  secondary_cleaner.output.tail_au                    14149 non-null  float64\n",
      " 69  secondary_cleaner.state.floatbank2_a_air            13932 non-null  float64\n",
      " 70  secondary_cleaner.state.floatbank2_a_level          14148 non-null  float64\n",
      " 71  secondary_cleaner.state.floatbank2_b_air            14128 non-null  float64\n",
      " 72  secondary_cleaner.state.floatbank2_b_level          14148 non-null  float64\n",
      " 73  secondary_cleaner.state.floatbank3_a_air            14145 non-null  float64\n",
      " 74  secondary_cleaner.state.floatbank3_a_level          14148 non-null  float64\n",
      " 75  secondary_cleaner.state.floatbank3_b_air            14148 non-null  float64\n",
      " 76  secondary_cleaner.state.floatbank3_b_level          14148 non-null  float64\n",
      " 77  secondary_cleaner.state.floatbank4_a_air            14143 non-null  float64\n",
      " 78  secondary_cleaner.state.floatbank4_a_level          14148 non-null  float64\n",
      " 79  secondary_cleaner.state.floatbank4_b_air            14148 non-null  float64\n",
      " 80  secondary_cleaner.state.floatbank4_b_level          14148 non-null  float64\n",
      " 81  secondary_cleaner.state.floatbank5_a_air            14148 non-null  float64\n",
      " 82  secondary_cleaner.state.floatbank5_a_level          14148 non-null  float64\n",
      " 83  secondary_cleaner.state.floatbank5_b_air            14148 non-null  float64\n",
      " 84  secondary_cleaner.state.floatbank5_b_level          14148 non-null  float64\n",
      " 85  secondary_cleaner.state.floatbank6_a_air            14147 non-null  float64\n",
      " 86  secondary_cleaner.state.floatbank6_a_level          14148 non-null  float64\n",
      "dtypes: float64(86), object(1)\n",
      "memory usage: 9.4+ MB\n"
     ]
    }
   ],
   "source": [
    "train_frame.info()"
   ]
  },
  {
   "cell_type": "markdown",
   "metadata": {},
   "source": [
    "### Проверьте, что эффективность обогащения рассчитана правильно. "
   ]
  },
  {
   "cell_type": "markdown",
   "metadata": {},
   "source": [
    "Необходимо вычислить её на обучающей выборке для признака rougher.output.recovery. Затем найти MAE между нашими расчётами и значением признака. Описать выводы."
   ]
  },
  {
   "cell_type": "code",
   "execution_count": 4,
   "metadata": {},
   "outputs": [],
   "source": [
    "def apply_recovery(row):\n",
    "    (input_au,\n",
    "     output_au,\n",
    "     output_tail) = (row[\"rougher.input.feed_au\"],\n",
    "                     row[\"rougher.output.concentrate_au\"],\n",
    "                     row[\"rougher.output.tail_au\"])\n",
    "    recovery_metric = (((output_au) * ((input_au) - (output_tail)))/\n",
    "                       (((input_au) * ((output_au) - (output_tail))))) * 100\n",
    "    return recovery_metric"
   ]
  },
  {
   "cell_type": "code",
   "execution_count": 5,
   "metadata": {},
   "outputs": [],
   "source": [
    "test = train_frame.dropna(subset = [\"rougher.input.feed_au\",\n",
    "                                    \"rougher.output.concentrate_au\",\n",
    "                                    \"rougher.output.tail_au\",\n",
    "                                    \"rougher.output.recovery\"],axis = 0).apply(\n",
    "                                                                        apply_recovery,axis = 1)"
   ]
  },
  {
   "cell_type": "code",
   "execution_count": 6,
   "metadata": {
    "scrolled": true
   },
   "outputs": [
    {
     "data": {
      "text/plain": [
       "9.73512347450521e-15"
      ]
     },
     "execution_count": 6,
     "metadata": {},
     "output_type": "execute_result"
    }
   ],
   "source": [
    "mean_absolute_error(train_frame.dropna(subset = [\"rougher.input.feed_au\",\n",
    "                                    \"rougher.output.concentrate_au\",\n",
    "                                    \"rougher.output.tail_au\",\n",
    "                                    \"rougher.output.recovery\"])[\"rougher.output.recovery\"],\n",
    "                       test)"
   ]
  },
  {
   "cell_type": "markdown",
   "metadata": {},
   "source": [
    "**Вывод:**\n",
    "\n",
    "Среднюю ошибку можно считать равной нулю. Параметр recovery считается корректно"
   ]
  },
  {
   "cell_type": "markdown",
   "metadata": {},
   "source": [
    "### Проанализируйте признаки, недоступные в тестовой выборке. "
   ]
  },
  {
   "cell_type": "markdown",
   "metadata": {},
   "source": [
    "Список столбцов, недоступных в тестовой выборке:"
   ]
  },
  {
   "cell_type": "code",
   "execution_count": 7,
   "metadata": {},
   "outputs": [
    {
     "data": {
      "text/plain": [
       "['final.output.concentrate_ag',\n",
       " 'final.output.concentrate_au',\n",
       " 'final.output.concentrate_pb',\n",
       " 'final.output.concentrate_sol',\n",
       " 'final.output.recovery',\n",
       " 'final.output.tail_ag',\n",
       " 'final.output.tail_au',\n",
       " 'final.output.tail_pb',\n",
       " 'final.output.tail_sol',\n",
       " 'primary_cleaner.output.concentrate_ag',\n",
       " 'primary_cleaner.output.concentrate_au',\n",
       " 'primary_cleaner.output.concentrate_pb',\n",
       " 'primary_cleaner.output.concentrate_sol',\n",
       " 'primary_cleaner.output.tail_ag',\n",
       " 'primary_cleaner.output.tail_au',\n",
       " 'primary_cleaner.output.tail_pb',\n",
       " 'primary_cleaner.output.tail_sol',\n",
       " 'rougher.calculation.au_pb_ratio',\n",
       " 'rougher.calculation.floatbank10_sulfate_to_au_feed',\n",
       " 'rougher.calculation.floatbank11_sulfate_to_au_feed',\n",
       " 'rougher.calculation.sulfate_to_au_concentrate',\n",
       " 'rougher.output.concentrate_ag',\n",
       " 'rougher.output.concentrate_au',\n",
       " 'rougher.output.concentrate_pb',\n",
       " 'rougher.output.concentrate_sol',\n",
       " 'rougher.output.recovery',\n",
       " 'rougher.output.tail_ag',\n",
       " 'rougher.output.tail_au',\n",
       " 'rougher.output.tail_pb',\n",
       " 'rougher.output.tail_sol',\n",
       " 'secondary_cleaner.output.tail_ag',\n",
       " 'secondary_cleaner.output.tail_au',\n",
       " 'secondary_cleaner.output.tail_pb',\n",
       " 'secondary_cleaner.output.tail_sol']"
      ]
     },
     "execution_count": 7,
     "metadata": {},
     "output_type": "execute_result"
    }
   ],
   "source": [
    "test_absent_col = list(train_frame.columns.difference(test_frame.columns))\n",
    "test_absent_col"
   ]
  },
  {
   "cell_type": "markdown",
   "metadata": {},
   "source": [
    "**Вывод:**\n",
    "\n",
    "В тестовой выборке отсутствуют данные \"output\" всех этапов, которые являются целевыми. Также отсутсвуют данные \"calculation\""
   ]
  },
  {
   "cell_type": "markdown",
   "metadata": {},
   "source": [
    "### Проведите предобработку данных."
   ]
  },
  {
   "cell_type": "markdown",
   "metadata": {},
   "source": [
    "Данные индексируются датой и временем получения информации (признак date). Соседние по времени параметры часто похожи."
   ]
  },
  {
   "cell_type": "code",
   "execution_count": 8,
   "metadata": {
    "scrolled": true
   },
   "outputs": [],
   "source": [
    "train_frame=train_frame.fillna(method='ffill') "
   ]
  },
  {
   "cell_type": "markdown",
   "metadata": {},
   "source": [
    "**Вывод:**\n",
    "\n",
    "Пропущенные данные заполнены"
   ]
  },
  {
   "cell_type": "markdown",
   "metadata": {},
   "source": [
    "## Анализ данных"
   ]
  },
  {
   "cell_type": "markdown",
   "metadata": {},
   "source": [
    "### Посмотрите, как меняется концентрация металлов (Au, Ag, Pb) на различных этапах очистки. Опишите выводы."
   ]
  },
  {
   "cell_type": "code",
   "execution_count": 9,
   "metadata": {},
   "outputs": [
    {
     "name": "stdout",
     "output_type": "stream",
     "text": [
      "Концентрация до флотации\n",
      "Концентрация Серебра: 8.58,Свинца: 3.51,Золота: 7.87\n",
      "\n",
      "Концентрация после флотации\n",
      "Коцентрация Серебра: 11.78,Свинца: 7.66,Золота: 19.44\n",
      "\n",
      "Концентрация после первичной очистки\n",
      "Концентрация Серебра: 8.20,Свинца: 9.57,Золота: 32.39\n",
      "\n",
      "Концентрация поле вторичной очистки\n",
      "Концентрация Серебра: 5.14,Свинца: 10.13,Золота: 44.00\n"
     ]
    }
   ],
   "source": [
    "print(\"Концентрация до флотации\")\n",
    "print(\"Концентрация Серебра:{: 0.2f},Свинца:{: 0.2f},Золота:{: 0.2f}\".\n",
    "format(train_frame[\"rougher.input.feed_ag\"].mean(),\n",
    "train_frame[\"rougher.input.feed_pb\"].mean(),\n",
    "train_frame[\"rougher.input.feed_au\"].mean()))\n",
    "print()\n",
    "print(\"Концентрация после флотации\")\n",
    "print(\"Коцентрация Серебра:{: 0.2f},Свинца:{: 0.2f},Золота:{: 0.2f}\".\n",
    "format(train_frame[\"rougher.output.concentrate_ag\"].mean(),\n",
    "train_frame[\"rougher.output.concentrate_pb\"].mean(),\n",
    "train_frame[\"rougher.output.concentrate_au\"].mean()))\n",
    "print()\n",
    "print(\"Концентрация после первичной очистки\")\n",
    "print(\"Концентрация Серебра:{: 0.2f},Свинца:{: 0.2f},Золота:{: 0.2f}\".\n",
    "format(train_frame[\"primary_cleaner.output.concentrate_ag\"].mean(),\n",
    "train_frame[\"primary_cleaner.output.concentrate_pb\"].mean(),\n",
    "train_frame[\"primary_cleaner.output.concentrate_au\"].mean()))\n",
    "print()\n",
    "print(\"Концентрация поле вторичной очистки\")\n",
    "print(\"Концентрация Серебра:{: 0.2f},Свинца:{: 0.2f},Золота:{: 0.2f}\".\n",
    "format(train_frame[\"final.output.concentrate_ag\"].mean(),\n",
    "train_frame[\"final.output.concentrate_pb\"].mean(),\n",
    "train_frame[\"final.output.concentrate_au\"].mean()))"
   ]
  },
  {
   "cell_type": "markdown",
   "metadata": {},
   "source": [
    "**Вывод:**\n",
    "\n",
    "С каждым последующим этапом очистки:\n",
    "- возрастает содержание золота\n",
    "- увеличивается количество свинца, на последнем этапе резко падает содержание серебра - возможно это тонкости технологического процесса"
   ]
  },
  {
   "cell_type": "code",
   "execution_count": 10,
   "metadata": {},
   "outputs": [
    {
     "data": {
      "text/plain": [
       "Text(0, 0.5, 'Friqency')"
      ]
     },
     "execution_count": 10,
     "metadata": {},
     "output_type": "execute_result"
    },
    {
     "data": {
      "image/png": "[encoded data removed]",
      "text/plain": [
       "<Figure size 576x288 with 1 Axes>"
      ]
     },
     "metadata": {
      "needs_background": "light"
     },
     "output_type": "display_data"
    }
   ],
   "source": [
    "#rougher.output.concentrate_au\n",
    "plt.figure(figsize=(8,4))\n",
    "sns.distplot(train_frame['rougher.input.feed_ag'],bins=30,label='rougher.input.feed_ag')\n",
    "sns.distplot(train_frame['rougher.output.concentrate_ag'],bins=30,label='rougher.output.concentrate_ag')\n",
    "sns.distplot(train_frame['primary_cleaner.output.concentrate_ag'],bins=30,label='primary_cleaner.output.concentrate_ag')\n",
    "sns.distplot(train_frame['final.output.concentrate_ag'],bins=30,label='final.output.concentrate_ag')\n",
    "\n",
    "plt.text(11,0.18,round(train_frame['rougher.input.feed_ag'].mean(),2),fontsize=12)\n",
    "plt.text(8,0.30,round(train_frame['rougher.output.concentrate_ag'].mean(),2),fontsize=12)\n",
    "plt.text(28,0.12,round(train_frame['primary_cleaner.output.concentrate_ag'].mean(),2),fontsize=12)\n",
    "plt.text(20,0.21,round(train_frame['final.output.concentrate_ag'].mean(),2),fontsize=12)\n",
    "\n",
    "plt.legend()\n",
    "plt.title('Концентрация Ag на различных этапах очистки')\n",
    "plt.xlabel(\"% Metal concentrate\")\n",
    "plt.ylabel(\"Friqency\")"
   ]
  },
  {
   "cell_type": "code",
   "execution_count": 11,
   "metadata": {},
   "outputs": [
    {
     "data": {
      "text/plain": [
       "Text(0, 0.5, 'Friqency')"
      ]
     },
     "execution_count": 11,
     "metadata": {},
     "output_type": "execute_result"
    },
    {
     "data": {
      "image/png": "[encoded data removed]",
      "text/plain": [
       "<Figure size 576x288 with 1 Axes>"
      ]
     },
     "metadata": {
      "needs_background": "light"
     },
     "output_type": "display_data"
    }
   ],
   "source": [
    "plt.figure(figsize=(8,4))\n",
    "sns.distplot(train_frame['rougher.input.feed_pb'],bins=30,label='rougher.input.feed_pb')\n",
    "sns.distplot(train_frame['rougher.output.concentrate_pb'],bins=30,label='rougher.output.concentrate_pb')\n",
    "sns.distplot(train_frame['primary_cleaner.output.concentrate_pb'],bins=30,label='primary_cleaner.output.concentrate_pb')\n",
    "sns.distplot(train_frame['final.output.concentrate_pb'],bins=30,label='final.output.concentrate_pb')\n",
    "\n",
    "\n",
    "plt.legend()\n",
    "plt.title('Концентрация Pb на различных этапах очистки')\n",
    "plt.xlabel(\"% Metal concentrate\")\n",
    "plt.ylabel(\"Friqency\")"
   ]
  },
  {
   "cell_type": "code",
   "execution_count": 12,
   "metadata": {},
   "outputs": [
    {
     "data": {
      "text/plain": [
       "Text(0, 0.5, 'Friqency')"
      ]
     },
     "execution_count": 12,
     "metadata": {},
     "output_type": "execute_result"
    },
    {
     "data": {
      "image/png": "[encoded data removed]",
      "text/plain": [
       "<Figure size 576x288 with 1 Axes>"
      ]
     },
     "metadata": {
      "needs_background": "light"
     },
     "output_type": "display_data"
    }
   ],
   "source": [
    "#rougher.output.concentrate_au\n",
    "plt.figure(figsize=(8,4))\n",
    "sns.distplot(train_frame['rougher.input.feed_au'],bins=30,label='rougher.input.feed_au')\n",
    "sns.distplot(train_frame['rougher.output.concentrate_au'],bins=30,label='rougher.output.concentrate_au')\n",
    "sns.distplot(train_frame['primary_cleaner.output.concentrate_au'],bins=30,label='primary_cleaner.output.concentrate_au')\n",
    "sns.distplot(train_frame['final.output.concentrate_au'],bins=30,label='final.output.concentrate_au')\n",
    "\n",
    "plt.legend()\n",
    "plt.title('Концентрация Au на различных этапах очистки')\n",
    "plt.xlabel(\"% Metal concentrate\")\n",
    "plt.ylabel(\"Friqency\")"
   ]
  },
  {
   "cell_type": "markdown",
   "metadata": {},
   "source": [
    "### Сравните распределения размеров гранул сырья на обучающей и тестовой выборках. Если распределения сильно отличаются друг от друга, оценка модели будет неправильной"
   ]
  },
  {
   "cell_type": "code",
   "execution_count": 13,
   "metadata": {},
   "outputs": [
    {
     "data": {
      "image/png": "[encoded data removed]",
      "text/plain": [
       "<Figure size 1080x864 with 2 Axes>"
      ]
     },
     "metadata": {
      "needs_background": "light"
     },
     "output_type": "display_data"
    }
   ],
   "source": [
    "feed_sizes = ['rougher.input.feed_size', 'primary_cleaner.input.feed_size', ]\n",
    "\n",
    "feed_sizes_titles = ['Распределение rougher.input.feed_size',\n",
    "                     'Распределение primary_cleaner.input.feed_size']\n",
    "\n",
    "feed_sizes_legends = ['train', 'test']\n",
    "\n",
    "fig, ax = plt.subplots(2,1, figsize=(15,12))\n",
    "\n",
    "for i in range(2):\n",
    "    a = sns.distplot(train_frame[feed_sizes[i]], bins=100, kde=False,\n",
    "                label = feed_sizes_legends[0], ax=ax[i])\n",
    "    ax[i].legend()\n",
    "    a = sns.distplot(test_frame[feed_sizes[i]], bins=100, kde=False,\n",
    "                label = feed_sizes_legends[1], ax=ax[i])\n",
    "    ax[i].legend()\n",
    "    a.set_title(feed_sizes_titles[i])"
   ]
  },
  {
   "cell_type": "markdown",
   "metadata": {},
   "source": [
    "**Вывод:**\n",
    "\n",
    "Распределения не имеют сильных отличий."
   ]
  },
  {
   "cell_type": "markdown",
   "metadata": {},
   "source": [
    "### Исследуйте суммарную концентрацию всех веществ на разных стадиях: в сырье, в черновом и финальном концентратах."
   ]
  },
  {
   "cell_type": "code",
   "execution_count": 14,
   "metadata": {},
   "outputs": [],
   "source": [
    "# Считаю сумму концентраций металлов после флотации\n",
    "full_frame['sum_concentrate_rougher'] = (full_frame['rougher.output.concentrate_ag'] \n",
    "                                         + full_frame['rougher.output.concentrate_pb']\n",
    "                                         + full_frame['rougher.output.concentrate_sol']\n",
    "                                         + full_frame['rougher.output.concentrate_au'])"
   ]
  },
  {
   "cell_type": "code",
   "execution_count": 15,
   "metadata": {},
   "outputs": [],
   "source": [
    "# Считаю сумму концентраций металлов после первичной очистки\n",
    "full_frame['sum_primary_cleaner_output_concentrate'] = (full_frame['primary_cleaner.output.concentrate_ag']\n",
    "                                                  + full_frame['primary_cleaner.output.concentrate_pb']\n",
    "                                                  + full_frame['primary_cleaner.output.concentrate_sol']\n",
    "                                                  + full_frame['primary_cleaner.output.concentrate_au'])"
   ]
  },
  {
   "cell_type": "code",
   "execution_count": 16,
   "metadata": {},
   "outputs": [],
   "source": [
    "# Считаю сумму концентраций металлов после финальной очистки\n",
    "full_frame['sum_final_output_concentrate'] = (full_frame['final.output.concentrate_ag']\n",
    "                                        + full_frame['final.output.concentrate_pb']\n",
    "                                        + full_frame['final.output.concentrate_sol']\n",
    "                                        + full_frame['final.output.concentrate_au'])"
   ]
  },
  {
   "cell_type": "code",
   "execution_count": 17,
   "metadata": {
    "scrolled": false
   },
   "outputs": [
    {
     "data": {
      "text/plain": [
       "Text(0, 0.5, 'Frequency')"
      ]
     },
     "execution_count": 17,
     "metadata": {},
     "output_type": "execute_result"
    },
    {
     "data": {
      "image/png": "[encoded data removed]",
      "text/plain": [
       "<Figure size 1080x576 with 1 Axes>"
      ]
     },
     "metadata": {
      "needs_background": "light"
     },
     "output_type": "display_data"
    }
   ],
   "source": [
    "plt.figure(figsize=(15,8))\n",
    "sns.distplot(full_frame['sum_concentrate_rougher'],bins=80,label='sum_concentrate_rougher')\n",
    "sns.distplot(full_frame['sum_primary_cleaner_output_concentrate'],bins=80,label='sum_primary_cleaner_output_concentrate')\n",
    "sns.distplot(full_frame['sum_final_output_concentrate'],bins=80,label='sum_final_output_concentrate')\n",
    "\n",
    "plt.legend()\n",
    "plt.title('Sum concentrate of metal in rougher, primary clean and final state')\n",
    "plt.xlabel(\"Sum concentrate of metal\")\n",
    "plt.ylabel(\"Frequency\")"
   ]
  },
  {
   "cell_type": "markdown",
   "metadata": {},
   "source": [
    "**Вывод:**\n",
    "\n",
    "Суммарная концентрация всех веществ на финальной стадии возрастает.\n",
    "\n",
    "Не совсем поняла, что делать со значениями около нуля. С одной стороны, это очевидные выборосы, с другой стороны это реальные данные, которые будут попадать в модель и она должна быть к ним вроде как устойчива."
   ]
  },
  {
   "cell_type": "markdown",
   "metadata": {},
   "source": [
    "**Удаление выбросов**"
   ]
  },
  {
   "cell_type": "code",
   "execution_count": 18,
   "metadata": {},
   "outputs": [],
   "source": [
    "full_frame = full_frame.query('sum_concentrate_rougher > 1 and sum_primary_cleaner_output_concentrate > 1 and sum_final_output_concentrate > 1')"
   ]
  },
  {
   "cell_type": "code",
   "execution_count": 19,
   "metadata": {},
   "outputs": [],
   "source": [
    "# Считаем сумму концентраций металлов после флотации\n",
    "train_frame['sum_concentrate_rougher'] = (train_frame['rougher.output.concentrate_ag'] \n",
    "                                   + train_frame['rougher.output.concentrate_pb']\n",
    "                                   + train_frame['rougher.output.concentrate_sol']\n",
    "                                   + train_frame['rougher.output.concentrate_au'])"
   ]
  },
  {
   "cell_type": "code",
   "execution_count": 20,
   "metadata": {},
   "outputs": [],
   "source": [
    "# Считаем сумму концентраций металлов после первичной очистки\n",
    "train_frame['sum_primary_cleaner_output_concentrate'] = (train_frame['primary_cleaner.output.concentrate_ag']\n",
    "                                                   + train_frame['primary_cleaner.output.concentrate_pb']\n",
    "                                                   + train_frame['primary_cleaner.output.concentrate_sol']\n",
    "                                                   + train_frame['primary_cleaner.output.concentrate_au'])"
   ]
  },
  {
   "cell_type": "code",
   "execution_count": 21,
   "metadata": {},
   "outputs": [],
   "source": [
    "# Считаем сумму концентраций металлов после финальной очистки\n",
    "train_frame['sum_final_output_concentrate'] = (train_frame['final.output.concentrate_ag']\n",
    "                                         + train_frame['final.output.concentrate_pb']\n",
    "                                         + train_frame['final.output.concentrate_sol']\n",
    "                                         + train_frame['final.output.concentrate_au'])"
   ]
  },
  {
   "cell_type": "code",
   "execution_count": 22,
   "metadata": {},
   "outputs": [],
   "source": [
    "train_frame=train_frame[train_frame['sum_final_output_concentrate']>1]\n",
    "train_frame=train_frame[train_frame['sum_primary_cleaner_output_concentrate']>1]\n",
    "train_frame=train_frame[train_frame['sum_concentrate_rougher']>1]\n",
    "train_frame=train_frame.reset_index()"
   ]
  },
  {
   "cell_type": "markdown",
   "metadata": {},
   "source": [
    "## Модель"
   ]
  },
  {
   "cell_type": "markdown",
   "metadata": {},
   "source": [
    "**Функция метрики качества:**"
   ]
  },
  {
   "cell_type": "code",
   "execution_count": 23,
   "metadata": {},
   "outputs": [],
   "source": [
    "def sMAPE(predict,target):\n",
    "    predict_rougher=predict[:,0]\n",
    "    target__rougher=target[:,0]\n",
    "    predict_final=predict[:,1]\n",
    "    target__final=target[:,1]\n",
    "    \n",
    "    sMAPE_rougher=np.sum(abs(target__rougher-predict_rougher)/((abs(target__rougher)+abs(predict_rougher))/2))\n",
    "    \n",
    "\n",
    "    sMAPE_rougher=sMAPE_rougher/len(target__rougher)*100\n",
    "    \n",
    "   \n",
    "    sMAPE_final=np.sum(abs(target__final-predict_final)/((abs(target__final)+abs(predict_final))/2))\n",
    "    sMAPE_final=sMAPE_final/len(target__final)*100\n",
    "    \n",
    "    sMAP=0.25*sMAPE_rougher+0.75*sMAPE_final\n",
    "    return sMAP"
   ]
  },
  {
   "cell_type": "code",
   "execution_count": 24,
   "metadata": {},
   "outputs": [],
   "source": [
    "columns=test_frame.columns # Колонки которые в тестовой выборке\n",
    "feature=train_frame[columns] # Формируем признаки Выбираем из trian только те колонки, которые есть в test\n",
    "feature=feature.drop(['date'],axis=1)\n",
    "target=train_frame[['rougher.output.recovery','final.output.recovery']] # Формируем вектор целевых признаков\n",
    "target_array=np.array(target) # конвертируем в array\n",
    "sample_size=int(len(target)/6)#Формируем длину датасета для кросс-валидации. Их будет 4"
   ]
  },
  {
   "cell_type": "markdown",
   "metadata": {},
   "source": [
    "**Константная модель:**"
   ]
  },
  {
   "cell_type": "code",
   "execution_count": 25,
   "metadata": {},
   "outputs": [
    {
     "name": "stdout",
     "output_type": "stream",
     "text": [
      "6.206230084941403\n",
      "8.930374787301343\n"
     ]
    }
   ],
   "source": [
    "mae_score=[]\n",
    "smape_score=[]\n",
    "for i in range(0,len(target),sample_size):\n",
    "    valid_index=feature.iloc[i:i+sample_size].index\n",
    "    \n",
    "    train_index=feature.query('index not in @valid_index').index\n",
    "    \n",
    "    target_valid=target.iloc[valid_index]\n",
    "   \n",
    "    feature_valid=feature.iloc[valid_index]\n",
    "    \n",
    "    target_train=target.iloc[train_index]\n",
    "    feature_train=feature.iloc[train_index]\n",
    "    \n",
    "    target_valid_arr=np.array(target_valid)\n",
    "    \n",
    "    model_dummy=DummyRegressor().fit(feature_train,target_train)\n",
    "    prediction_dummy=model_dummy.predict(feature_valid)    \n",
    "    \n",
    "    mae=mean_absolute_error(prediction_dummy,target_valid)\n",
    "    mae_score.append(mae)\n",
    "    smape=sMAPE(prediction_dummy,target_valid_arr)\n",
    "    smape_score.append(smape)\n",
    "\n",
    "print(np.mean(mae_score))\n",
    "print(np.mean(smape_score))"
   ]
  },
  {
   "cell_type": "markdown",
   "metadata": {},
   "source": [
    "**Линейная регрессия:**"
   ]
  },
  {
   "cell_type": "code",
   "execution_count": 26,
   "metadata": {},
   "outputs": [
    {
     "name": "stdout",
     "output_type": "stream",
     "text": [
      "5.743498204355954\n",
      "9.130800391337718\n"
     ]
    }
   ],
   "source": [
    "mae_score=[]\n",
    "smape_score=[]\n",
    "for i in range(0,len(target),sample_size):\n",
    "    valid_index=feature.iloc[i:i+sample_size].index\n",
    "    \n",
    "    train_index=feature.query('index not in @valid_index').index\n",
    "    \n",
    "    target_valid=target.iloc[valid_index]\n",
    "   \n",
    "    feature_valid=feature.iloc[valid_index]\n",
    "    \n",
    "    target_train=target.iloc[train_index]\n",
    "    feature_train=feature.iloc[train_index]\n",
    "    \n",
    "    target_valid_arr=np.array(target_valid)\n",
    "    \n",
    "    model_regression=LinearRegression().fit(feature_train,target_train)\n",
    "    prediction_regress=model_regression.predict(feature_valid)   \n",
    "    \n",
    "    mae=mean_absolute_error(prediction_regress,target_valid)\n",
    "    mae_score.append(mae)\n",
    "    smape=sMAPE(prediction_regress,target_valid_arr)\n",
    "    smape_score.append(smape)\n",
    "\n",
    "print(np.mean(mae_score))\n",
    "print(np.mean(smape_score))"
   ]
  },
  {
   "cell_type": "markdown",
   "metadata": {},
   "source": [
    "**Случайный лес:**"
   ]
  },
  {
   "cell_type": "markdown",
   "metadata": {},
   "source": [
    "Подбираем параметры:"
   ]
  },
  {
   "cell_type": "code",
   "execution_count": 27,
   "metadata": {
    "scrolled": true
   },
   "outputs": [
    {
     "name": "stdout",
     "output_type": "stream",
     "text": [
      "max_depth: 1 MAE: 5.971923717910263\n",
      "max_depth: 1 sMAPE: 9.324451777589754\n",
      "max_depth: 2 MAE: 6.018449998522693\n",
      "max_depth: 2 sMAPE: 9.3467147137609\n",
      "max_depth: 3 MAE: 6.14514667918849\n",
      "max_depth: 3 sMAPE: 9.674802223188726\n",
      "max_depth: 4 MAE: 6.226220202271956\n",
      "max_depth: 4 sMAPE: 9.943569828908467\n",
      "max_depth: 1 MAE: 6.283661071397442\n",
      "max_depth: 1 sMAPE: 9.720187269619476\n",
      "max_depth: 2 MAE: 6.202681043079219\n",
      "max_depth: 2 sMAPE: 9.478332570618997\n",
      "max_depth: 3 MAE: 6.122020018071872\n",
      "max_depth: 3 sMAPE: 9.276237109770204\n",
      "max_depth: 4 MAE: 6.032803812230077\n",
      "max_depth: 4 sMAPE: 9.113535821532501\n",
      "max_depth: 1 MAE: 5.849456320239387\n",
      "max_depth: 1 sMAPE: 8.810143401434654\n",
      "max_depth: 2 MAE: 5.680896656591199\n",
      "max_depth: 2 sMAPE: 8.552017620994189\n",
      "max_depth: 3 MAE: 5.618362110741519\n",
      "max_depth: 3 sMAPE: 8.467782084107908\n",
      "max_depth: 4 MAE: 5.547689960480363\n",
      "max_depth: 4 sMAPE: 8.369715904330397\n",
      "max_depth: 1 MAE: 5.611487302268026\n",
      "max_depth: 1 sMAPE: 8.555333283654722\n",
      "max_depth: 2 MAE: 5.630109697408549\n",
      "max_depth: 2 sMAPE: 8.651292690538977\n",
      "max_depth: 3 MAE: 5.622834570038288\n",
      "max_depth: 3 sMAPE: 8.705043905930973\n",
      "max_depth: 4 MAE: 5.607571835722915\n",
      "max_depth: 4 sMAPE: 8.738916355151662\n",
      "max_depth: 1 MAE: 5.67009976870181\n",
      "max_depth: 1 sMAPE: 8.771565810985132\n",
      "max_depth: 2 MAE: 5.73671009674364\n",
      "max_depth: 2 sMAPE: 8.808261109819421\n",
      "max_depth: 3 MAE: 5.776624274795057\n",
      "max_depth: 3 sMAPE: 8.81270773917635\n",
      "max_depth: 4 MAE: 5.785234176193937\n",
      "max_depth: 4 sMAPE: 8.789772944021642\n",
      "max_depth: 1 MAE: 5.855286341955265\n",
      "max_depth: 1 sMAPE: 8.863779738968741\n",
      "max_depth: 2 MAE: 5.908902685770236\n",
      "max_depth: 2 sMAPE: 8.914733236301384\n",
      "max_depth: 3 MAE: 5.942495118704206\n",
      "max_depth: 3 sMAPE: 8.94764071979552\n",
      "max_depth: 4 MAE: 5.974204879391899\n",
      "max_depth: 4 sMAPE: 8.986594659617522\n",
      "max_depth: 1 MAE: 5.943389771087985\n",
      "max_depth: 1 sMAPE: 8.854390045451714\n",
      "max_depth: 2 MAE: 5.80105532514912\n",
      "max_depth: 2 sMAPE: 8.613736640605236\n",
      "max_depth: 3 MAE: 5.636866945254151\n",
      "max_depth: 3 sMAPE: 8.391684355608698\n",
      "max_depth: 4 MAE: 5.484878014758656\n",
      "max_depth: 4 sMAPE: 8.175131319445095\n"
     ]
    }
   ],
   "source": [
    "mae_score=[]\n",
    "smape_score=[]\n",
    "for i in range(0,len(target),sample_size):\n",
    "    \n",
    "    valid_index=feature.iloc[i:i+sample_size].index\n",
    "    \n",
    "    train_index=feature.query('index not in @valid_index').index\n",
    "    \n",
    "    target_valid=target.iloc[valid_index]\n",
    "    feature_valid=feature.iloc[valid_index]\n",
    "    \n",
    "    target_train=target.iloc[train_index]\n",
    "    feature_train=feature.iloc[train_index]\n",
    "    \n",
    "    target_valid_arr=np.array(target_valid)\n",
    "    for i in range(1,5,1):\n",
    "        \n",
    "        model_forest=RandomForestRegressor(random_state=1234,max_depth=i,n_estimators=10).fit(feature_train,target_train)\n",
    "        prediction_forest=model_forest.predict(feature_valid)\n",
    "        mae=mean_absolute_error(prediction_forest,target_valid)\n",
    "        mae_score.append(mae)\n",
    "        smape=sMAPE(prediction_forest,target_valid_arr)\n",
    "        smape_score.append(smape)\n",
    "        \n",
    "        print('max_depth:',i,'MAE:',np.mean(mae_score))\n",
    "        print('max_depth:',i,'sMAPE:',np.mean(smape_score))"
   ]
  },
  {
   "cell_type": "markdown",
   "metadata": {},
   "source": [
    "Устанавливаем параметры max_depth и n_estimators:"
   ]
  },
  {
   "cell_type": "code",
   "execution_count": 28,
   "metadata": {},
   "outputs": [
    {
     "name": "stdout",
     "output_type": "stream",
     "text": [
      "MAE: 5.254294288385227\n",
      "sMAPE: 8.173522622472229\n"
     ]
    }
   ],
   "source": [
    "mae_score=[]\n",
    "smape_score=[]\n",
    "for i in range(0,len(target),sample_size):\n",
    "    \n",
    "    valid_index=feature.iloc[i:i+sample_size].index\n",
    "    \n",
    "    train_index=feature.query('index not in @valid_index').index\n",
    "    \n",
    "    target_valid=target.iloc[valid_index]\n",
    "    feature_valid=feature.iloc[valid_index]\n",
    "    \n",
    "    target_train=target.iloc[train_index]\n",
    "    feature_train=feature.iloc[train_index]\n",
    "    \n",
    "    target_valid_arr=np.array(target_valid)\n",
    "    \n",
    "        \n",
    "    model_forest=RandomForestRegressor(random_state=1234,max_depth=4,n_estimators=6).fit(feature_train,target_train)\n",
    "    prediction_forest=model_forest.predict(feature_valid)\n",
    "    mae=mean_absolute_error(prediction_forest,target_valid)\n",
    "    mae_score.append(mae)\n",
    "    smape=sMAPE(prediction_forest,target_valid_arr)\n",
    "    smape_score.append(smape)\n",
    "        \n",
    "print('MAE:',np.mean(mae_score))\n",
    "print('sMAPE:',np.mean(smape_score))        "
   ]
  },
  {
   "cell_type": "markdown",
   "metadata": {},
   "source": [
    "На обучающих данных модель Случайного леса показала лучшие результаты, на тестовой для сравнения проверим обе"
   ]
  },
  {
   "cell_type": "markdown",
   "metadata": {},
   "source": [
    "Предсказания на тестовом наборе данных:"
   ]
  },
  {
   "cell_type": "code",
   "execution_count": 29,
   "metadata": {},
   "outputs": [],
   "source": [
    "target=full_frame[['date','rougher.output.recovery','final.output.recovery']]\n",
    "test=test_frame.merge(target,on=['date'],how='left')\n",
    "test=test.dropna()\n",
    "target=test[['rougher.output.recovery','final.output.recovery']]\n",
    "feature=test.drop(['date','rougher.output.recovery','final.output.recovery'],axis=1)"
   ]
  },
  {
   "cell_type": "code",
   "execution_count": 30,
   "metadata": {},
   "outputs": [
    {
     "data": {
      "text/plain": [
       "7.500881421508491"
      ]
     },
     "execution_count": 30,
     "metadata": {},
     "output_type": "execute_result"
    }
   ],
   "source": [
    "prediction_dummy=model_dummy.predict(feature)\n",
    "smape_dummy=sMAPE(prediction_dummy,np.array(target))\n",
    "smape_dummy"
   ]
  },
  {
   "cell_type": "code",
   "execution_count": 31,
   "metadata": {},
   "outputs": [
    {
     "data": {
      "text/plain": [
       "7.078362165108091"
      ]
     },
     "execution_count": 31,
     "metadata": {},
     "output_type": "execute_result"
    }
   ],
   "source": [
    "prediction_reg=model_regression.predict(feature)\n",
    "smape_line=sMAPE(prediction_reg,np.array(target))\n",
    "smape_line"
   ]
  },
  {
   "cell_type": "code",
   "execution_count": 32,
   "metadata": {},
   "outputs": [
    {
     "data": {
      "text/plain": [
       "7.146634416323247"
      ]
     },
     "execution_count": 32,
     "metadata": {},
     "output_type": "execute_result"
    }
   ],
   "source": [
    "prediction_forest=model_forest.predict(feature)\n",
    "smape_forest=sMAPE(prediction_forest,np.array(target))\n",
    "smape_forest"
   ]
  },
  {
   "cell_type": "code",
   "execution_count": 33,
   "metadata": {},
   "outputs": [
    {
     "data": {
      "text/html": [
       "<div>\n",
       "<style scoped>\n",
       "    .dataframe tbody tr th:only-of-type {\n",
       "        vertical-align: middle;\n",
       "    }\n",
       "\n",
       "    .dataframe tbody tr th {\n",
       "        vertical-align: top;\n",
       "    }\n",
       "\n",
       "    .dataframe thead th {\n",
       "        text-align: right;\n",
       "    }\n",
       "</style>\n",
       "<table border=\"1\" class=\"dataframe\">\n",
       "  <thead>\n",
       "    <tr style=\"text-align: right;\">\n",
       "      <th></th>\n",
       "      <th>sMAPE</th>\n",
       "    </tr>\n",
       "  </thead>\n",
       "  <tbody>\n",
       "    <tr>\n",
       "      <th>DummyRegressor</th>\n",
       "      <td>7.500881</td>\n",
       "    </tr>\n",
       "    <tr>\n",
       "      <th>LinearRegression</th>\n",
       "      <td>7.078362</td>\n",
       "    </tr>\n",
       "    <tr>\n",
       "      <th>RandomForestRegressor</th>\n",
       "      <td>7.146634</td>\n",
       "    </tr>\n",
       "  </tbody>\n",
       "</table>\n",
       "</div>"
      ],
      "text/plain": [
       "                          sMAPE\n",
       "DummyRegressor         7.500881\n",
       "LinearRegression       7.078362\n",
       "RandomForestRegressor  7.146634"
      ]
     },
     "execution_count": 33,
     "metadata": {},
     "output_type": "execute_result"
    }
   ],
   "source": [
    "models=['DummyRegressor','LinearRegression','RandomForestRegressor']\n",
    "sMAPE_rezult=pd.DataFrame(np.array([smape_dummy, smape_line, smape_forest]),index=models)\n",
    "sMAPE_rezult.set_axis(['sMAPE'],axis='columns',inplace=True)\n",
    "sMAPE_rezult"
   ]
  },
  {
   "cell_type": "markdown",
   "metadata": {},
   "source": [
    "**Вывод:**\n",
    "\n",
    "Лучший результат на тестовой выборке получен при помощи использования модели Случайного леса, ошибка меньше, чем на константной модели."
   ]
  }
 ],
 "metadata": {
  "ExecuteTimeLog": [
   {
    "duration": 1759,
    "start_time": "2022-03-29T02:54:51.611Z"
   },
   {
    "duration": 187,
    "start_time": "2022-03-29T02:55:12.970Z"
   },
   {
    "duration": 87,
    "start_time": "2022-03-29T02:56:46.867Z"
   },
   {
    "duration": 3782,
    "start_time": "2022-03-29T02:57:36.381Z"
   },
   {
    "duration": 11,
    "start_time": "2022-03-29T02:58:15.945Z"
   },
   {
    "duration": 16,
    "start_time": "2022-03-29T02:58:24.049Z"
   },
   {
    "duration": 4,
    "start_time": "2022-03-29T02:59:12.586Z"
   },
   {
    "duration": 15,
    "start_time": "2022-03-29T02:59:31.050Z"
   },
   {
    "duration": 4,
    "start_time": "2022-03-29T02:59:33.410Z"
   },
   {
    "duration": 12,
    "start_time": "2022-03-29T02:59:35.938Z"
   },
   {
    "duration": 12,
    "start_time": "2022-03-29T02:59:40.011Z"
   },
   {
    "duration": 3075,
    "start_time": "2022-03-29T03:04:15.441Z"
   },
   {
    "duration": 3490,
    "start_time": "2022-03-29T03:04:25.929Z"
   },
   {
    "duration": 1568,
    "start_time": "2022-03-29T03:30:12.940Z"
   },
   {
    "duration": 1470,
    "start_time": "2022-03-29T03:30:27.587Z"
   },
   {
    "duration": 628,
    "start_time": "2022-03-29T03:30:58.067Z"
   },
   {
    "duration": 14,
    "start_time": "2022-03-29T03:31:00.155Z"
   },
   {
    "duration": 4,
    "start_time": "2022-03-29T03:31:07.106Z"
   },
   {
    "duration": 12,
    "start_time": "2022-03-29T03:31:08.915Z"
   },
   {
    "duration": 11,
    "start_time": "2022-03-29T03:31:10.147Z"
   },
   {
    "duration": 25,
    "start_time": "2022-03-29T03:32:27.898Z"
   },
   {
    "duration": 660,
    "start_time": "2022-03-29T03:34:23.282Z"
   },
   {
    "duration": 10,
    "start_time": "2022-03-29T03:34:24.522Z"
   },
   {
    "duration": 15,
    "start_time": "2022-03-29T03:34:25.138Z"
   },
   {
    "duration": 25,
    "start_time": "2022-03-29T03:37:59.106Z"
   },
   {
    "duration": 625,
    "start_time": "2022-03-29T03:38:40.521Z"
   },
   {
    "duration": 14,
    "start_time": "2022-03-29T03:38:43.672Z"
   },
   {
    "duration": 5,
    "start_time": "2022-03-29T03:38:51.156Z"
   },
   {
    "duration": 14,
    "start_time": "2022-03-29T03:38:55.696Z"
   },
   {
    "duration": 5,
    "start_time": "2022-03-29T03:39:03.353Z"
   },
   {
    "duration": 14,
    "start_time": "2022-03-29T03:39:07.537Z"
   },
   {
    "duration": 1541,
    "start_time": "2022-03-29T03:39:35.628Z"
   },
   {
    "duration": 719,
    "start_time": "2022-03-29T03:39:37.171Z"
   },
   {
    "duration": 12,
    "start_time": "2022-03-29T03:39:37.892Z"
   },
   {
    "duration": 28,
    "start_time": "2022-03-29T03:39:37.905Z"
   },
   {
    "duration": 3,
    "start_time": "2022-03-29T03:39:37.936Z"
   },
   {
    "duration": 132,
    "start_time": "2022-03-29T03:39:37.941Z"
   },
   {
    "duration": 0,
    "start_time": "2022-03-29T03:39:38.075Z"
   },
   {
    "duration": 1620,
    "start_time": "2022-03-29T03:39:59.803Z"
   },
   {
    "duration": 733,
    "start_time": "2022-03-29T03:40:01.426Z"
   },
   {
    "duration": 15,
    "start_time": "2022-03-29T03:40:02.161Z"
   },
   {
    "duration": 5,
    "start_time": "2022-03-29T03:40:02.177Z"
   },
   {
    "duration": 147,
    "start_time": "2022-03-29T03:40:02.184Z"
   },
   {
    "duration": 0,
    "start_time": "2022-03-29T03:40:02.332Z"
   },
   {
    "duration": 756,
    "start_time": "2022-03-29T03:45:56.741Z"
   },
   {
    "duration": 12,
    "start_time": "2022-03-29T03:45:58.558Z"
   },
   {
    "duration": 5,
    "start_time": "2022-03-29T03:46:15.618Z"
   },
   {
    "duration": 5,
    "start_time": "2022-03-29T03:46:18.279Z"
   },
   {
    "duration": 765,
    "start_time": "2022-03-29T03:46:20.374Z"
   },
   {
    "duration": 13,
    "start_time": "2022-03-29T03:46:22.093Z"
   },
   {
    "duration": 18,
    "start_time": "2022-03-29T03:46:36.806Z"
   },
   {
    "duration": 728,
    "start_time": "2022-03-29T03:46:46.317Z"
   },
   {
    "duration": 20,
    "start_time": "2022-03-29T03:46:49.030Z"
   },
   {
    "duration": 683,
    "start_time": "2022-03-29T03:47:31.455Z"
   },
   {
    "duration": 15,
    "start_time": "2022-03-29T03:47:33.151Z"
   },
   {
    "duration": 19,
    "start_time": "2022-03-29T03:47:38.030Z"
   },
   {
    "duration": 661,
    "start_time": "2022-03-29T03:48:34.902Z"
   },
   {
    "duration": 13,
    "start_time": "2022-03-29T03:48:36.846Z"
   },
   {
    "duration": 4,
    "start_time": "2022-03-29T03:48:38.861Z"
   },
   {
    "duration": 245,
    "start_time": "2022-03-29T03:48:40.086Z"
   },
   {
    "duration": 14,
    "start_time": "2022-03-29T03:48:41.062Z"
   },
   {
    "duration": 4,
    "start_time": "2022-03-29T04:13:10.662Z"
   },
   {
    "duration": 5,
    "start_time": "2022-03-29T04:13:19.366Z"
   },
   {
    "duration": 11,
    "start_time": "2022-03-29T04:15:35.654Z"
   },
   {
    "duration": 4,
    "start_time": "2022-03-29T04:15:37.205Z"
   },
   {
    "duration": 3,
    "start_time": "2022-03-29T04:15:38.021Z"
   },
   {
    "duration": 3,
    "start_time": "2022-03-29T04:15:39.797Z"
   },
   {
    "duration": 7,
    "start_time": "2022-03-29T04:15:42.005Z"
   },
   {
    "duration": 6,
    "start_time": "2022-03-29T04:16:09.814Z"
   },
   {
    "duration": 26,
    "start_time": "2022-03-29T04:18:51.774Z"
   },
   {
    "duration": 2158,
    "start_time": "2022-03-29T04:25:07.715Z"
   },
   {
    "duration": 12,
    "start_time": "2022-03-29T04:25:19.079Z"
   },
   {
    "duration": 13,
    "start_time": "2022-03-29T04:25:27.014Z"
   },
   {
    "duration": 18,
    "start_time": "2022-03-29T04:28:36.326Z"
   },
   {
    "duration": 20,
    "start_time": "2022-03-29T04:32:32.220Z"
   },
   {
    "duration": 5,
    "start_time": "2022-03-29T04:36:39.221Z"
   },
   {
    "duration": 684,
    "start_time": "2022-03-29T04:36:39.228Z"
   },
   {
    "duration": 22,
    "start_time": "2022-03-29T04:36:39.913Z"
   },
   {
    "duration": 3,
    "start_time": "2022-03-29T04:36:39.937Z"
   },
   {
    "duration": 263,
    "start_time": "2022-03-29T04:36:39.943Z"
   },
   {
    "duration": 11,
    "start_time": "2022-03-29T04:36:40.208Z"
   },
   {
    "duration": 5,
    "start_time": "2022-03-29T04:36:40.232Z"
   },
   {
    "duration": 8,
    "start_time": "2022-03-29T04:36:40.238Z"
   },
   {
    "duration": 9,
    "start_time": "2022-03-29T04:36:40.248Z"
   },
   {
    "duration": 5,
    "start_time": "2022-03-29T04:36:40.259Z"
   },
   {
    "duration": 6,
    "start_time": "2022-03-29T04:36:40.266Z"
   },
   {
    "duration": 14,
    "start_time": "2022-03-29T04:36:40.273Z"
   },
   {
    "duration": 4,
    "start_time": "2022-03-29T04:36:43.397Z"
   },
   {
    "duration": 22,
    "start_time": "2022-03-29T04:36:46.421Z"
   },
   {
    "duration": 9,
    "start_time": "2022-03-29T04:36:54.134Z"
   },
   {
    "duration": 141,
    "start_time": "2022-03-29T04:37:01.021Z"
   },
   {
    "duration": 20,
    "start_time": "2022-03-29T04:37:04.845Z"
   },
   {
    "duration": 10,
    "start_time": "2022-03-29T04:38:26.525Z"
   },
   {
    "duration": 10,
    "start_time": "2022-03-29T04:38:58.101Z"
   },
   {
    "duration": 1620,
    "start_time": "2022-03-29T04:40:26.021Z"
   },
   {
    "duration": 1718,
    "start_time": "2022-03-29T04:42:09.429Z"
   },
   {
    "duration": 1651,
    "start_time": "2022-03-29T04:42:29.277Z"
   },
   {
    "duration": 12,
    "start_time": "2022-03-29T04:49:18.059Z"
   },
   {
    "duration": 17,
    "start_time": "2022-03-29T04:49:53.973Z"
   },
   {
    "duration": 34,
    "start_time": "2022-03-29T04:50:10.837Z"
   },
   {
    "duration": 204,
    "start_time": "2022-03-29T04:52:09.868Z"
   },
   {
    "duration": 26,
    "start_time": "2022-03-29T04:52:53.549Z"
   },
   {
    "duration": 25,
    "start_time": "2022-03-29T04:53:05.477Z"
   },
   {
    "duration": 15,
    "start_time": "2022-03-29T04:53:54.772Z"
   },
   {
    "duration": 10,
    "start_time": "2022-03-29T04:54:00.669Z"
   },
   {
    "duration": 19,
    "start_time": "2022-03-29T04:54:08.452Z"
   },
   {
    "duration": 10,
    "start_time": "2022-03-29T04:54:15.440Z"
   },
   {
    "duration": 5,
    "start_time": "2022-03-29T04:54:27.556Z"
   },
   {
    "duration": 15,
    "start_time": "2022-03-29T04:59:19.524Z"
   },
   {
    "duration": 1684,
    "start_time": "2022-03-29T04:59:42.324Z"
   },
   {
    "duration": 145,
    "start_time": "2022-03-29T05:00:17.132Z"
   },
   {
    "duration": 16,
    "start_time": "2022-03-29T05:00:24.563Z"
   },
   {
    "duration": 37,
    "start_time": "2022-03-29T05:00:38.908Z"
   },
   {
    "duration": 17,
    "start_time": "2022-03-29T05:00:41.228Z"
   },
   {
    "duration": 3,
    "start_time": "2022-03-29T05:00:44.731Z"
   },
   {
    "duration": 20,
    "start_time": "2022-03-29T05:00:58.562Z"
   },
   {
    "duration": 5,
    "start_time": "2022-03-29T05:02:29.129Z"
   },
   {
    "duration": 686,
    "start_time": "2022-03-29T05:02:29.135Z"
   },
   {
    "duration": 21,
    "start_time": "2022-03-29T05:02:29.823Z"
   },
   {
    "duration": 4,
    "start_time": "2022-03-29T05:02:29.846Z"
   },
   {
    "duration": 261,
    "start_time": "2022-03-29T05:02:29.852Z"
   },
   {
    "duration": 21,
    "start_time": "2022-03-29T05:02:30.115Z"
   },
   {
    "duration": 4,
    "start_time": "2022-03-29T05:02:30.138Z"
   },
   {
    "duration": 24,
    "start_time": "2022-03-29T05:02:30.143Z"
   },
   {
    "duration": 22,
    "start_time": "2022-03-29T05:02:30.169Z"
   },
   {
    "duration": 24,
    "start_time": "2022-03-29T05:02:30.193Z"
   },
   {
    "duration": 19,
    "start_time": "2022-03-29T05:02:30.219Z"
   },
   {
    "duration": 26,
    "start_time": "2022-03-29T05:02:30.240Z"
   },
   {
    "duration": 27,
    "start_time": "2022-03-29T05:02:30.267Z"
   },
   {
    "duration": 33,
    "start_time": "2022-03-29T05:02:30.297Z"
   },
   {
    "duration": 10,
    "start_time": "2022-03-29T05:02:34.547Z"
   },
   {
    "duration": 16,
    "start_time": "2022-03-29T05:02:42.275Z"
   },
   {
    "duration": 1657,
    "start_time": "2022-03-29T05:02:51.035Z"
   },
   {
    "duration": 217,
    "start_time": "2022-03-29T05:04:08.204Z"
   },
   {
    "duration": 1711,
    "start_time": "2022-03-29T05:04:11.396Z"
   },
   {
    "duration": 242,
    "start_time": "2022-03-29T05:04:17.059Z"
   },
   {
    "duration": 5,
    "start_time": "2022-03-29T05:04:36.758Z"
   },
   {
    "duration": 683,
    "start_time": "2022-03-29T05:04:36.766Z"
   },
   {
    "duration": 20,
    "start_time": "2022-03-29T05:04:37.451Z"
   },
   {
    "duration": 4,
    "start_time": "2022-03-29T05:04:37.474Z"
   },
   {
    "duration": 267,
    "start_time": "2022-03-29T05:04:37.481Z"
   },
   {
    "duration": 12,
    "start_time": "2022-03-29T05:04:37.750Z"
   },
   {
    "duration": 5,
    "start_time": "2022-03-29T05:04:37.764Z"
   },
   {
    "duration": 7,
    "start_time": "2022-03-29T05:04:37.770Z"
   },
   {
    "duration": 4,
    "start_time": "2022-03-29T05:04:37.779Z"
   },
   {
    "duration": 10,
    "start_time": "2022-03-29T05:04:37.785Z"
   },
   {
    "duration": 36,
    "start_time": "2022-03-29T05:04:37.797Z"
   },
   {
    "duration": 8,
    "start_time": "2022-03-29T05:04:37.835Z"
   },
   {
    "duration": 7,
    "start_time": "2022-03-29T05:04:37.845Z"
   },
   {
    "duration": 13,
    "start_time": "2022-03-29T05:04:37.854Z"
   },
   {
    "duration": 17,
    "start_time": "2022-03-29T05:04:37.868Z"
   },
   {
    "duration": 24,
    "start_time": "2022-03-29T05:04:43.106Z"
   },
   {
    "duration": 10,
    "start_time": "2022-03-29T05:04:59.236Z"
   },
   {
    "duration": 23,
    "start_time": "2022-03-29T05:05:34.867Z"
   },
   {
    "duration": 10,
    "start_time": "2022-03-29T05:05:41.931Z"
   },
   {
    "duration": 2457,
    "start_time": "2022-03-30T14:28:01.697Z"
   },
   {
    "duration": 798,
    "start_time": "2022-03-30T14:28:04.157Z"
   },
   {
    "duration": 38,
    "start_time": "2022-03-30T14:28:04.957Z"
   },
   {
    "duration": 5,
    "start_time": "2022-03-30T14:28:04.997Z"
   },
   {
    "duration": 15,
    "start_time": "2022-03-30T14:28:19.913Z"
   },
   {
    "duration": 7,
    "start_time": "2022-03-30T14:28:24.387Z"
   },
   {
    "duration": 833,
    "start_time": "2022-03-30T14:28:24.397Z"
   },
   {
    "duration": 23,
    "start_time": "2022-03-30T14:28:25.233Z"
   },
   {
    "duration": 5,
    "start_time": "2022-03-30T14:28:25.258Z"
   },
   {
    "duration": 394,
    "start_time": "2022-03-30T14:28:25.283Z"
   },
   {
    "duration": 16,
    "start_time": "2022-03-30T14:28:25.679Z"
   },
   {
    "duration": 8,
    "start_time": "2022-03-30T14:28:25.697Z"
   },
   {
    "duration": 9,
    "start_time": "2022-03-30T14:28:25.707Z"
   },
   {
    "duration": 7,
    "start_time": "2022-03-30T14:28:25.718Z"
   },
   {
    "duration": 7,
    "start_time": "2022-03-30T14:28:25.727Z"
   },
   {
    "duration": 7,
    "start_time": "2022-03-30T14:28:25.736Z"
   },
   {
    "duration": 43,
    "start_time": "2022-03-30T14:28:25.745Z"
   },
   {
    "duration": 7,
    "start_time": "2022-03-30T14:28:25.791Z"
   },
   {
    "duration": 16,
    "start_time": "2022-03-30T14:28:25.803Z"
   },
   {
    "duration": 79,
    "start_time": "2022-03-30T14:28:25.821Z"
   },
   {
    "duration": 15,
    "start_time": "2022-03-30T14:28:25.903Z"
   },
   {
    "duration": 1649,
    "start_time": "2022-03-30T14:28:54.257Z"
   },
   {
    "duration": 1565,
    "start_time": "2022-03-30T14:29:11.665Z"
   },
   {
    "duration": 152,
    "start_time": "2022-03-30T14:39:23.893Z"
   },
   {
    "duration": 7,
    "start_time": "2022-03-30T14:40:05.830Z"
   },
   {
    "duration": 132,
    "start_time": "2022-03-30T14:40:14.335Z"
   },
   {
    "duration": 6,
    "start_time": "2022-03-30T14:40:39.631Z"
   },
   {
    "duration": 6,
    "start_time": "2022-03-30T14:40:58.983Z"
   },
   {
    "duration": 172,
    "start_time": "2022-03-30T14:42:33.293Z"
   },
   {
    "duration": 7,
    "start_time": "2022-03-30T14:42:53.382Z"
   },
   {
    "duration": 7,
    "start_time": "2022-03-30T14:43:35.285Z"
   },
   {
    "duration": 1883,
    "start_time": "2022-03-30T14:44:37.213Z"
   },
   {
    "duration": 1822,
    "start_time": "2022-03-30T14:45:25.391Z"
   },
   {
    "duration": 2024,
    "start_time": "2022-03-30T14:45:32.567Z"
   },
   {
    "duration": 1738,
    "start_time": "2022-03-30T14:45:52.872Z"
   },
   {
    "duration": 2189,
    "start_time": "2022-03-30T14:46:16.960Z"
   },
   {
    "duration": 1862,
    "start_time": "2022-03-30T14:46:49.239Z"
   },
   {
    "duration": 2017,
    "start_time": "2022-03-30T14:47:24.984Z"
   },
   {
    "duration": 1989,
    "start_time": "2022-03-30T14:47:31.497Z"
   },
   {
    "duration": 2016,
    "start_time": "2022-03-30T14:47:43.343Z"
   },
   {
    "duration": 1764,
    "start_time": "2022-03-30T14:48:07.103Z"
   },
   {
    "duration": 2235,
    "start_time": "2022-03-30T14:52:18.990Z"
   },
   {
    "duration": 2659,
    "start_time": "2022-03-30T14:52:29.757Z"
   },
   {
    "duration": 2518,
    "start_time": "2022-03-30T14:52:38.487Z"
   },
   {
    "duration": 2444,
    "start_time": "2022-03-30T14:52:45.214Z"
   },
   {
    "duration": 1651,
    "start_time": "2022-03-30T14:52:53.397Z"
   },
   {
    "duration": 4,
    "start_time": "2022-03-30T15:05:47.637Z"
   },
   {
    "duration": 4,
    "start_time": "2022-03-30T15:05:48.875Z"
   },
   {
    "duration": 3,
    "start_time": "2022-03-30T15:05:50.356Z"
   },
   {
    "duration": 6,
    "start_time": "2022-03-30T15:05:53.235Z"
   },
   {
    "duration": 6,
    "start_time": "2022-03-30T15:05:54.252Z"
   },
   {
    "duration": 5,
    "start_time": "2022-03-30T15:05:57.564Z"
   },
   {
    "duration": 16,
    "start_time": "2022-03-30T15:06:02.693Z"
   },
   {
    "duration": 9,
    "start_time": "2022-03-30T15:11:39.517Z"
   },
   {
    "duration": 990,
    "start_time": "2022-03-30T15:11:41.347Z"
   },
   {
    "duration": 19,
    "start_time": "2022-03-30T15:17:20.225Z"
   },
   {
    "duration": 54,
    "start_time": "2022-03-30T15:17:51.762Z"
   },
   {
    "duration": 30,
    "start_time": "2022-03-30T15:18:29.898Z"
   },
   {
    "duration": 137,
    "start_time": "2022-03-30T15:19:37.483Z"
   },
   {
    "duration": 139,
    "start_time": "2022-03-30T15:19:41.419Z"
   },
   {
    "duration": 134,
    "start_time": "2022-03-30T15:19:59.594Z"
   },
   {
    "duration": 115,
    "start_time": "2022-03-30T15:20:36.802Z"
   },
   {
    "duration": 60,
    "start_time": "2022-03-30T15:20:57.019Z"
   },
   {
    "duration": 6,
    "start_time": "2022-03-30T15:21:48.603Z"
   },
   {
    "duration": 19,
    "start_time": "2022-03-30T15:22:01.010Z"
   },
   {
    "duration": 12,
    "start_time": "2022-03-30T15:22:37.907Z"
   },
   {
    "duration": 1293,
    "start_time": "2022-03-30T15:22:54.195Z"
   },
   {
    "duration": 7,
    "start_time": "2022-03-30T15:22:59.874Z"
   },
   {
    "duration": 13,
    "start_time": "2022-03-30T15:23:01.850Z"
   },
   {
    "duration": 588,
    "start_time": "2022-03-30T15:23:02.498Z"
   },
   {
    "duration": 6,
    "start_time": "2022-03-30T15:23:48.643Z"
   },
   {
    "duration": 2246,
    "start_time": "2022-03-30T15:23:52.650Z"
   },
   {
    "duration": 38960,
    "start_time": "2022-03-30T15:24:27.282Z"
   },
   {
    "duration": 8142,
    "start_time": "2022-03-30T15:25:20.361Z"
   },
   {
    "duration": 168,
    "start_time": "2022-03-30T15:25:59.498Z"
   },
   {
    "duration": 40,
    "start_time": "2022-03-30T15:26:05.585Z"
   },
   {
    "duration": 7,
    "start_time": "2022-03-30T15:26:32.218Z"
   },
   {
    "duration": 85771,
    "start_time": "2022-03-30T15:26:35.819Z"
   },
   {
    "duration": 12,
    "start_time": "2022-03-30T15:29:18.704Z"
   },
   {
    "duration": 6,
    "start_time": "2022-03-30T15:29:23.023Z"
   },
   {
    "duration": 19,
    "start_time": "2022-03-30T15:30:05.505Z"
   },
   {
    "duration": 17,
    "start_time": "2022-03-30T15:30:15.658Z"
   },
   {
    "duration": 158,
    "start_time": "2022-03-30T15:30:36.729Z"
   },
   {
    "duration": 15,
    "start_time": "2022-03-30T15:31:02.945Z"
   },
   {
    "duration": 131,
    "start_time": "2022-03-30T15:31:15.865Z"
   },
   {
    "duration": 17,
    "start_time": "2022-03-30T15:31:33.025Z"
   },
   {
    "duration": 10,
    "start_time": "2022-03-30T15:32:48.655Z"
   },
   {
    "duration": 41,
    "start_time": "2022-03-30T15:34:18.472Z"
   },
   {
    "duration": 44,
    "start_time": "2022-03-30T15:34:26.929Z"
   },
   {
    "duration": 36,
    "start_time": "2022-03-30T15:34:36.656Z"
   },
   {
    "duration": 7,
    "start_time": "2022-03-30T15:34:40.607Z"
   },
   {
    "duration": 12,
    "start_time": "2022-03-30T15:34:41.792Z"
   },
   {
    "duration": 1873,
    "start_time": "2022-03-30T15:34:42.512Z"
   },
   {
    "duration": 39123,
    "start_time": "2022-03-30T15:35:26.226Z"
   },
   {
    "duration": 5916,
    "start_time": "2022-03-30T15:36:05.351Z"
   },
   {
    "duration": 6004,
    "start_time": "2022-03-30T15:43:29.567Z"
   },
   {
    "duration": 7686,
    "start_time": "2022-03-30T15:43:39.199Z"
   },
   {
    "duration": 3188,
    "start_time": "2022-03-30T15:44:29.798Z"
   },
   {
    "duration": 9112,
    "start_time": "2022-03-30T15:44:39.439Z"
   },
   {
    "duration": 65,
    "start_time": "2022-03-30T15:44:58.422Z"
   },
   {
    "duration": 11,
    "start_time": "2022-03-30T15:44:59.671Z"
   },
   {
    "duration": 13,
    "start_time": "2022-03-30T15:45:00.871Z"
   },
   {
    "duration": 11,
    "start_time": "2022-03-30T15:45:24.238Z"
   },
   {
    "duration": 10,
    "start_time": "2022-03-30T15:45:25.775Z"
   },
   {
    "duration": 11,
    "start_time": "2022-03-30T15:45:27.414Z"
   },
   {
    "duration": 8,
    "start_time": "2022-03-30T15:46:48.589Z"
   },
   {
    "duration": 4,
    "start_time": "2022-03-30T15:46:49.605Z"
   },
   {
    "duration": 4,
    "start_time": "2022-03-30T15:46:50.109Z"
   },
   {
    "duration": 4,
    "start_time": "2022-03-30T15:46:51.557Z"
   },
   {
    "duration": 11,
    "start_time": "2022-03-30T15:47:24.495Z"
   },
   {
    "duration": 4,
    "start_time": "2022-03-30T16:05:24.323Z"
   },
   {
    "duration": 5,
    "start_time": "2022-03-30T16:05:47.156Z"
   },
   {
    "duration": 135,
    "start_time": "2022-03-30T16:06:12.068Z"
   },
   {
    "duration": 12,
    "start_time": "2022-03-30T16:09:12.220Z"
   },
   {
    "duration": 4,
    "start_time": "2022-03-30T16:09:14.426Z"
   },
   {
    "duration": 4,
    "start_time": "2022-03-30T16:09:14.970Z"
   },
   {
    "duration": 4,
    "start_time": "2022-03-30T16:09:15.994Z"
   },
   {
    "duration": 9,
    "start_time": "2022-03-30T16:09:16.690Z"
   },
   {
    "duration": 24,
    "start_time": "2022-03-30T16:09:54.643Z"
   },
   {
    "duration": 8,
    "start_time": "2022-03-30T16:13:53.018Z"
   },
   {
    "duration": 10,
    "start_time": "2022-03-30T16:14:18.410Z"
   },
   {
    "duration": 1162,
    "start_time": "2022-03-30T16:20:05.682Z"
   },
   {
    "duration": 3,
    "start_time": "2022-03-30T16:22:06.180Z"
   },
   {
    "duration": 4,
    "start_time": "2022-03-30T16:22:22.705Z"
   },
   {
    "duration": 4,
    "start_time": "2022-03-30T16:22:36.041Z"
   },
   {
    "duration": 180,
    "start_time": "2022-03-30T16:23:34.505Z"
   },
   {
    "duration": 40,
    "start_time": "2022-03-30T16:36:40.240Z"
   },
   {
    "duration": 35,
    "start_time": "2022-03-30T16:36:46.856Z"
   },
   {
    "duration": 35,
    "start_time": "2022-03-30T16:36:55.016Z"
   },
   {
    "duration": 5,
    "start_time": "2022-03-30T16:36:59.055Z"
   },
   {
    "duration": 876,
    "start_time": "2022-03-30T16:36:59.063Z"
   },
   {
    "duration": 25,
    "start_time": "2022-03-30T16:36:59.942Z"
   },
   {
    "duration": 18,
    "start_time": "2022-03-30T16:36:59.970Z"
   },
   {
    "duration": 390,
    "start_time": "2022-03-30T16:36:59.991Z"
   },
   {
    "duration": 19,
    "start_time": "2022-03-30T16:37:00.384Z"
   },
   {
    "duration": 66,
    "start_time": "2022-03-30T16:37:00.405Z"
   },
   {
    "duration": 18,
    "start_time": "2022-03-30T16:37:00.473Z"
   },
   {
    "duration": 31,
    "start_time": "2022-03-30T16:37:00.493Z"
   },
   {
    "duration": 25,
    "start_time": "2022-03-30T16:37:00.526Z"
   },
   {
    "duration": 1749,
    "start_time": "2022-03-30T16:37:00.553Z"
   },
   {
    "duration": 7,
    "start_time": "2022-03-30T16:37:02.305Z"
   },
   {
    "duration": 408,
    "start_time": "2022-03-30T16:37:02.314Z"
   },
   {
    "duration": 126,
    "start_time": "2022-03-30T16:37:02.725Z"
   },
   {
    "duration": 1909,
    "start_time": "2022-03-30T16:37:02.853Z"
   },
   {
    "duration": 8,
    "start_time": "2022-03-30T16:37:04.764Z"
   },
   {
    "duration": 30,
    "start_time": "2022-03-30T16:37:04.774Z"
   },
   {
    "duration": 1959,
    "start_time": "2022-03-30T16:37:12.032Z"
   },
   {
    "duration": 2071,
    "start_time": "2022-03-30T16:41:55.677Z"
   },
   {
    "duration": 807,
    "start_time": "2022-03-30T16:41:57.751Z"
   },
   {
    "duration": 34,
    "start_time": "2022-03-30T16:41:58.560Z"
   },
   {
    "duration": 6,
    "start_time": "2022-03-30T16:41:58.597Z"
   },
   {
    "duration": 415,
    "start_time": "2022-03-30T16:41:58.604Z"
   },
   {
    "duration": 185,
    "start_time": "2022-03-30T16:41:59.021Z"
   },
   {
    "duration": 0,
    "start_time": "2022-03-30T16:41:59.209Z"
   },
   {
    "duration": 0,
    "start_time": "2022-03-30T16:41:59.211Z"
   },
   {
    "duration": 0,
    "start_time": "2022-03-30T16:41:59.213Z"
   },
   {
    "duration": 0,
    "start_time": "2022-03-30T16:41:59.214Z"
   },
   {
    "duration": 0,
    "start_time": "2022-03-30T16:41:59.216Z"
   },
   {
    "duration": 0,
    "start_time": "2022-03-30T16:41:59.218Z"
   },
   {
    "duration": 0,
    "start_time": "2022-03-30T16:41:59.219Z"
   },
   {
    "duration": 0,
    "start_time": "2022-03-30T16:41:59.220Z"
   },
   {
    "duration": 0,
    "start_time": "2022-03-30T16:41:59.222Z"
   },
   {
    "duration": 0,
    "start_time": "2022-03-30T16:41:59.223Z"
   },
   {
    "duration": 0,
    "start_time": "2022-03-30T16:41:59.225Z"
   },
   {
    "duration": 0,
    "start_time": "2022-03-30T16:41:59.226Z"
   },
   {
    "duration": 0,
    "start_time": "2022-03-30T16:41:59.228Z"
   },
   {
    "duration": 0,
    "start_time": "2022-03-30T16:41:59.229Z"
   },
   {
    "duration": 0,
    "start_time": "2022-03-30T16:41:59.231Z"
   },
   {
    "duration": 1,
    "start_time": "2022-03-30T16:41:59.232Z"
   },
   {
    "duration": 0,
    "start_time": "2022-03-30T16:41:59.234Z"
   },
   {
    "duration": 6,
    "start_time": "2022-03-30T16:42:11.574Z"
   },
   {
    "duration": 814,
    "start_time": "2022-03-30T16:42:11.582Z"
   },
   {
    "duration": 25,
    "start_time": "2022-03-30T16:42:12.398Z"
   },
   {
    "duration": 11,
    "start_time": "2022-03-30T16:42:12.426Z"
   },
   {
    "duration": 422,
    "start_time": "2022-03-30T16:42:12.439Z"
   },
   {
    "duration": 24,
    "start_time": "2022-03-30T16:42:12.863Z"
   },
   {
    "duration": 0,
    "start_time": "2022-03-30T16:42:12.890Z"
   },
   {
    "duration": 0,
    "start_time": "2022-03-30T16:42:12.893Z"
   },
   {
    "duration": 0,
    "start_time": "2022-03-30T16:42:12.895Z"
   },
   {
    "duration": 0,
    "start_time": "2022-03-30T16:42:12.896Z"
   },
   {
    "duration": 1,
    "start_time": "2022-03-30T16:42:12.898Z"
   },
   {
    "duration": 0,
    "start_time": "2022-03-30T16:42:12.901Z"
   },
   {
    "duration": 0,
    "start_time": "2022-03-30T16:42:12.902Z"
   },
   {
    "duration": 0,
    "start_time": "2022-03-30T16:42:12.903Z"
   },
   {
    "duration": 0,
    "start_time": "2022-03-30T16:42:12.905Z"
   },
   {
    "duration": 0,
    "start_time": "2022-03-30T16:42:12.906Z"
   },
   {
    "duration": 0,
    "start_time": "2022-03-30T16:42:12.908Z"
   },
   {
    "duration": 0,
    "start_time": "2022-03-30T16:42:12.910Z"
   },
   {
    "duration": 0,
    "start_time": "2022-03-30T16:42:12.912Z"
   },
   {
    "duration": 0,
    "start_time": "2022-03-30T16:42:12.914Z"
   },
   {
    "duration": 0,
    "start_time": "2022-03-30T16:42:12.916Z"
   },
   {
    "duration": 0,
    "start_time": "2022-03-30T16:42:12.917Z"
   },
   {
    "duration": 0,
    "start_time": "2022-03-30T16:42:12.918Z"
   },
   {
    "duration": 18,
    "start_time": "2022-03-30T16:42:36.992Z"
   },
   {
    "duration": 6,
    "start_time": "2022-03-30T16:46:25.404Z"
   },
   {
    "duration": 7,
    "start_time": "2022-03-30T16:46:25.413Z"
   },
   {
    "duration": 15,
    "start_time": "2022-03-30T16:46:25.423Z"
   },
   {
    "duration": 15,
    "start_time": "2022-03-30T16:46:25.441Z"
   },
   {
    "duration": 1728,
    "start_time": "2022-03-30T16:46:25.485Z"
   },
   {
    "duration": 8,
    "start_time": "2022-03-30T16:46:27.215Z"
   },
   {
    "duration": 24,
    "start_time": "2022-03-30T16:46:27.227Z"
   },
   {
    "duration": 24,
    "start_time": "2022-03-30T16:46:27.253Z"
   },
   {
    "duration": 2070,
    "start_time": "2022-03-30T16:46:27.280Z"
   },
   {
    "duration": 6,
    "start_time": "2022-03-30T16:46:29.355Z"
   },
   {
    "duration": 29,
    "start_time": "2022-03-30T16:46:29.364Z"
   },
   {
    "duration": 2093,
    "start_time": "2022-03-30T16:46:29.395Z"
   },
   {
    "duration": 39446,
    "start_time": "2022-03-30T16:46:31.491Z"
   },
   {
    "duration": 9044,
    "start_time": "2022-03-30T16:47:10.940Z"
   },
   {
    "duration": 103,
    "start_time": "2022-03-30T16:47:19.986Z"
   },
   {
    "duration": 97,
    "start_time": "2022-03-30T16:47:20.093Z"
   },
   {
    "duration": 16,
    "start_time": "2022-03-30T16:47:20.192Z"
   },
   {
    "duration": 1635,
    "start_time": "2022-04-02T09:58:16.034Z"
   },
   {
    "duration": 635,
    "start_time": "2022-04-02T09:58:17.671Z"
   },
   {
    "duration": 16,
    "start_time": "2022-04-02T09:58:18.308Z"
   },
   {
    "duration": 3,
    "start_time": "2022-04-02T09:58:18.326Z"
   },
   {
    "duration": 231,
    "start_time": "2022-04-02T09:58:18.331Z"
   },
   {
    "duration": 17,
    "start_time": "2022-04-02T09:58:18.564Z"
   },
   {
    "duration": 4,
    "start_time": "2022-04-02T09:58:18.583Z"
   },
   {
    "duration": 7,
    "start_time": "2022-04-02T09:58:18.588Z"
   },
   {
    "duration": 11,
    "start_time": "2022-04-02T09:58:18.596Z"
   },
   {
    "duration": 9,
    "start_time": "2022-04-02T09:58:18.608Z"
   },
   {
    "duration": 829,
    "start_time": "2022-04-02T09:58:18.618Z"
   },
   {
    "duration": 4,
    "start_time": "2022-04-02T09:58:19.449Z"
   },
   {
    "duration": 6,
    "start_time": "2022-04-02T09:58:19.454Z"
   },
   {
    "duration": 4,
    "start_time": "2022-04-02T09:58:19.462Z"
   },
   {
    "duration": 1206,
    "start_time": "2022-04-02T09:58:19.468Z"
   },
   {
    "duration": 681,
    "start_time": "2022-04-02T09:59:11.613Z"
   },
   {
    "duration": 1304,
    "start_time": "2022-04-02T09:59:24.981Z"
   },
   {
    "duration": 1267,
    "start_time": "2022-04-02T10:00:35.503Z"
   },
   {
    "duration": 208,
    "start_time": "2022-04-02T10:01:33.519Z"
   },
   {
    "duration": 8,
    "start_time": "2022-04-02T20:25:18.216Z"
   },
   {
    "duration": 4,
    "start_time": "2022-04-02T20:25:43.535Z"
   },
   {
    "duration": 3,
    "start_time": "2022-04-02T20:25:48.263Z"
   },
   {
    "duration": 10,
    "start_time": "2022-04-02T20:38:49.500Z"
   },
   {
    "duration": 10,
    "start_time": "2022-04-02T20:38:58.757Z"
   },
   {
    "duration": 3,
    "start_time": "2022-04-02T20:39:03.638Z"
   },
   {
    "duration": 663,
    "start_time": "2022-04-02T20:39:03.643Z"
   },
   {
    "duration": 18,
    "start_time": "2022-04-02T20:39:04.307Z"
   },
   {
    "duration": 3,
    "start_time": "2022-04-02T20:39:04.327Z"
   },
   {
    "duration": 230,
    "start_time": "2022-04-02T20:39:04.333Z"
   },
   {
    "duration": 20,
    "start_time": "2022-04-02T20:39:04.565Z"
   },
   {
    "duration": 5,
    "start_time": "2022-04-02T20:39:04.586Z"
   },
   {
    "duration": 4,
    "start_time": "2022-04-02T20:39:04.593Z"
   },
   {
    "duration": 13,
    "start_time": "2022-04-02T20:39:04.599Z"
   },
   {
    "duration": 15,
    "start_time": "2022-04-02T20:39:04.614Z"
   },
   {
    "duration": 863,
    "start_time": "2022-04-02T20:39:04.631Z"
   },
   {
    "duration": 4,
    "start_time": "2022-04-02T20:39:05.496Z"
   },
   {
    "duration": 11,
    "start_time": "2022-04-02T20:39:05.502Z"
   },
   {
    "duration": 11,
    "start_time": "2022-04-02T20:39:05.515Z"
   },
   {
    "duration": 1256,
    "start_time": "2022-04-02T20:39:05.527Z"
   },
   {
    "duration": 152,
    "start_time": "2022-04-02T20:39:06.785Z"
   },
   {
    "duration": 0,
    "start_time": "2022-04-02T20:39:06.939Z"
   },
   {
    "duration": 0,
    "start_time": "2022-04-02T20:39:06.939Z"
   },
   {
    "duration": 0,
    "start_time": "2022-04-02T20:39:06.941Z"
   },
   {
    "duration": 0,
    "start_time": "2022-04-02T20:39:06.942Z"
   },
   {
    "duration": 10,
    "start_time": "2022-04-02T20:39:08.534Z"
   },
   {
    "duration": 10,
    "start_time": "2022-04-02T20:39:32.638Z"
   },
   {
    "duration": 4,
    "start_time": "2022-04-02T20:39:44.541Z"
   },
   {
    "duration": 602,
    "start_time": "2022-04-02T20:39:45.741Z"
   },
   {
    "duration": 15,
    "start_time": "2022-04-02T20:39:47.005Z"
   },
   {
    "duration": 3,
    "start_time": "2022-04-02T20:39:49.460Z"
   },
   {
    "duration": 217,
    "start_time": "2022-04-02T20:39:50.444Z"
   },
   {
    "duration": 9,
    "start_time": "2022-04-02T20:39:51.349Z"
   },
   {
    "duration": 5,
    "start_time": "2022-04-02T20:39:54.157Z"
   },
   {
    "duration": 8,
    "start_time": "2022-04-02T20:40:00.796Z"
   },
   {
    "duration": 9,
    "start_time": "2022-04-02T20:40:02.565Z"
   },
   {
    "duration": 865,
    "start_time": "2022-04-02T20:40:04.765Z"
   },
   {
    "duration": 5,
    "start_time": "2022-04-02T20:40:08.061Z"
   },
   {
    "duration": 5,
    "start_time": "2022-04-02T20:40:08.869Z"
   },
   {
    "duration": 5,
    "start_time": "2022-04-02T20:40:09.693Z"
   },
   {
    "duration": 1285,
    "start_time": "2022-04-02T20:40:10.917Z"
   },
   {
    "duration": 1150,
    "start_time": "2022-04-02T20:40:14.781Z"
   },
   {
    "duration": 4,
    "start_time": "2022-04-02T20:40:20.501Z"
   },
   {
    "duration": 6,
    "start_time": "2022-04-02T20:40:25.749Z"
   },
   {
    "duration": 8,
    "start_time": "2022-04-02T20:40:31.789Z"
   },
   {
    "duration": 1291,
    "start_time": "2022-04-02T20:40:34.791Z"
   },
   {
    "duration": 27636,
    "start_time": "2022-04-02T20:40:41.757Z"
   },
   {
    "duration": 6390,
    "start_time": "2022-04-02T20:41:09.394Z"
   },
   {
    "duration": 31,
    "start_time": "2022-04-02T20:41:48.780Z"
   },
   {
    "duration": 8,
    "start_time": "2022-04-02T20:41:49.606Z"
   },
   {
    "duration": 9,
    "start_time": "2022-04-02T20:41:51.154Z"
   },
   {
    "duration": 25,
    "start_time": "2022-04-02T20:42:07.301Z"
   },
   {
    "duration": 22,
    "start_time": "2022-04-02T20:42:17.613Z"
   },
   {
    "duration": 4,
    "start_time": "2022-04-02T20:42:22.022Z"
   },
   {
    "duration": 662,
    "start_time": "2022-04-02T20:42:22.028Z"
   },
   {
    "duration": 15,
    "start_time": "2022-04-02T20:42:22.692Z"
   },
   {
    "duration": 3,
    "start_time": "2022-04-02T20:42:22.709Z"
   },
   {
    "duration": 230,
    "start_time": "2022-04-02T20:42:22.714Z"
   },
   {
    "duration": 9,
    "start_time": "2022-04-02T20:42:22.945Z"
   },
   {
    "duration": 4,
    "start_time": "2022-04-02T20:42:22.956Z"
   },
   {
    "duration": 9,
    "start_time": "2022-04-02T20:42:22.961Z"
   },
   {
    "duration": 15,
    "start_time": "2022-04-02T20:42:22.981Z"
   },
   {
    "duration": 9,
    "start_time": "2022-04-02T20:42:22.998Z"
   },
   {
    "duration": 895,
    "start_time": "2022-04-02T20:42:23.009Z"
   },
   {
    "duration": 5,
    "start_time": "2022-04-02T20:42:23.906Z"
   },
   {
    "duration": 7,
    "start_time": "2022-04-02T20:42:23.912Z"
   },
   {
    "duration": 4,
    "start_time": "2022-04-02T20:42:23.921Z"
   },
   {
    "duration": 1246,
    "start_time": "2022-04-02T20:42:23.927Z"
   },
   {
    "duration": 161,
    "start_time": "2022-04-02T20:42:25.175Z"
   },
   {
    "duration": 0,
    "start_time": "2022-04-02T20:42:25.338Z"
   },
   {
    "duration": 0,
    "start_time": "2022-04-02T20:42:25.339Z"
   },
   {
    "duration": 9,
    "start_time": "2022-04-02T20:42:26.845Z"
   },
   {
    "duration": 1313,
    "start_time": "2022-04-02T20:42:28.469Z"
   },
   {
    "duration": 67,
    "start_time": "2022-04-02T20:43:07.876Z"
   },
   {
    "duration": 84,
    "start_time": "2022-04-02T20:43:13.693Z"
   },
   {
    "duration": 1342,
    "start_time": "2022-04-02T20:43:17.140Z"
   },
   {
    "duration": 66,
    "start_time": "2022-04-02T20:43:21.476Z"
   },
   {
    "duration": 64,
    "start_time": "2022-04-02T20:43:34.653Z"
   },
   {
    "duration": 1269,
    "start_time": "2022-04-02T20:45:03.213Z"
   },
   {
    "duration": 27480,
    "start_time": "2022-04-02T20:45:07.045Z"
   },
   {
    "duration": 6354,
    "start_time": "2022-04-02T20:45:34.527Z"
   },
   {
    "duration": 6464,
    "start_time": "2022-04-02T20:46:35.076Z"
   },
   {
    "duration": 35,
    "start_time": "2022-04-02T20:46:46.363Z"
   },
   {
    "duration": 7,
    "start_time": "2022-04-02T20:46:47.284Z"
   },
   {
    "duration": 8,
    "start_time": "2022-04-02T20:46:49.844Z"
   },
   {
    "duration": 13,
    "start_time": "2022-04-02T20:47:50.132Z"
   },
   {
    "duration": 21,
    "start_time": "2022-04-02T20:48:11.308Z"
   },
   {
    "duration": 14,
    "start_time": "2022-04-02T20:48:16.899Z"
   },
   {
    "duration": 5,
    "start_time": "2022-04-02T20:48:23.932Z"
   },
   {
    "duration": 18,
    "start_time": "2022-04-02T20:48:26.668Z"
   },
   {
    "duration": 14,
    "start_time": "2022-04-02T20:48:45.549Z"
   },
   {
    "duration": 7,
    "start_time": "2022-04-02T20:48:56.516Z"
   },
   {
    "duration": 22,
    "start_time": "2022-04-02T20:50:23.596Z"
   },
   {
    "duration": 4,
    "start_time": "2022-04-02T20:50:28.015Z"
   },
   {
    "duration": 634,
    "start_time": "2022-04-02T20:50:28.021Z"
   },
   {
    "duration": 14,
    "start_time": "2022-04-02T20:50:28.657Z"
   },
   {
    "duration": 3,
    "start_time": "2022-04-02T20:50:28.681Z"
   },
   {
    "duration": 215,
    "start_time": "2022-04-02T20:50:28.686Z"
   },
   {
    "duration": 9,
    "start_time": "2022-04-02T20:50:28.903Z"
   },
   {
    "duration": 5,
    "start_time": "2022-04-02T20:50:28.913Z"
   },
   {
    "duration": 3,
    "start_time": "2022-04-02T20:50:28.919Z"
   },
   {
    "duration": 12,
    "start_time": "2022-04-02T20:50:28.924Z"
   },
   {
    "duration": 9,
    "start_time": "2022-04-02T20:50:28.937Z"
   },
   {
    "duration": 901,
    "start_time": "2022-04-02T20:50:28.947Z"
   },
   {
    "duration": 5,
    "start_time": "2022-04-02T20:50:29.849Z"
   },
   {
    "duration": 7,
    "start_time": "2022-04-02T20:50:29.856Z"
   },
   {
    "duration": 16,
    "start_time": "2022-04-02T20:50:29.865Z"
   },
   {
    "duration": 1217,
    "start_time": "2022-04-02T20:50:29.882Z"
   },
   {
    "duration": 188,
    "start_time": "2022-04-02T20:50:31.101Z"
   },
   {
    "duration": 0,
    "start_time": "2022-04-02T20:50:31.291Z"
   },
   {
    "duration": 0,
    "start_time": "2022-04-02T20:50:31.292Z"
   },
   {
    "duration": 21,
    "start_time": "2022-04-02T20:50:31.509Z"
   },
   {
    "duration": 23,
    "start_time": "2022-04-02T20:50:37.308Z"
   },
   {
    "duration": 24,
    "start_time": "2022-04-02T20:50:45.740Z"
   },
   {
    "duration": 5,
    "start_time": "2022-04-02T20:50:53.889Z"
   },
   {
    "duration": 656,
    "start_time": "2022-04-02T20:50:53.896Z"
   },
   {
    "duration": 15,
    "start_time": "2022-04-02T20:50:54.554Z"
   },
   {
    "duration": 3,
    "start_time": "2022-04-02T20:50:54.581Z"
   },
   {
    "duration": 213,
    "start_time": "2022-04-02T20:50:54.585Z"
   },
   {
    "duration": 10,
    "start_time": "2022-04-02T20:50:54.799Z"
   },
   {
    "duration": 4,
    "start_time": "2022-04-02T20:50:54.810Z"
   },
   {
    "duration": 6,
    "start_time": "2022-04-02T20:50:54.815Z"
   },
   {
    "duration": 12,
    "start_time": "2022-04-02T20:50:54.822Z"
   },
   {
    "duration": 11,
    "start_time": "2022-04-02T20:50:54.835Z"
   },
   {
    "duration": 762,
    "start_time": "2022-04-02T20:50:54.847Z"
   },
   {
    "duration": 6,
    "start_time": "2022-04-02T20:50:55.611Z"
   },
   {
    "duration": 6,
    "start_time": "2022-04-02T20:50:55.618Z"
   },
   {
    "duration": 5,
    "start_time": "2022-04-02T20:50:55.626Z"
   },
   {
    "duration": 1456,
    "start_time": "2022-04-02T20:50:55.633Z"
   },
   {
    "duration": 155,
    "start_time": "2022-04-02T20:50:57.090Z"
   },
   {
    "duration": 0,
    "start_time": "2022-04-02T20:50:57.247Z"
   },
   {
    "duration": 4,
    "start_time": "2022-04-02T20:50:57.827Z"
   },
   {
    "duration": 8,
    "start_time": "2022-04-02T20:51:00.123Z"
   },
   {
    "duration": 80,
    "start_time": "2022-04-02T20:51:01.851Z"
   },
   {
    "duration": 66,
    "start_time": "2022-04-02T20:51:19.156Z"
   },
   {
    "duration": 1449,
    "start_time": "2022-04-02T20:51:21.436Z"
   },
   {
    "duration": 36548,
    "start_time": "2022-04-02T20:51:24.707Z"
   },
   {
    "duration": 8636,
    "start_time": "2022-04-02T20:52:01.257Z"
   },
   {
    "duration": 36,
    "start_time": "2022-04-02T20:52:14.084Z"
   },
   {
    "duration": 5,
    "start_time": "2022-04-02T20:52:19.667Z"
   },
   {
    "duration": 6,
    "start_time": "2022-04-02T20:52:33.842Z"
   },
   {
    "duration": 19,
    "start_time": "2022-04-02T20:52:35.339Z"
   },
   {
    "duration": 8,
    "start_time": "2022-04-02T20:52:38.675Z"
   },
   {
    "duration": 8,
    "start_time": "2022-04-02T20:53:08.241Z"
   },
   {
    "duration": 1255,
    "start_time": "2022-04-02T21:04:11.529Z"
   },
   {
    "duration": 469,
    "start_time": "2022-04-02T21:04:23.529Z"
   },
   {
    "duration": 500,
    "start_time": "2022-04-02T21:04:31.794Z"
   },
   {
    "duration": 165,
    "start_time": "2022-04-02T21:04:39.058Z"
   },
   {
    "duration": 563,
    "start_time": "2022-04-02T21:05:03.161Z"
   },
   {
    "duration": 12,
    "start_time": "2022-04-02T21:13:47.911Z"
   },
   {
    "duration": 1775,
    "start_time": "2022-04-02T21:13:59.096Z"
   },
   {
    "duration": 18,
    "start_time": "2022-04-02T21:14:50.983Z"
   },
   {
    "duration": 1188,
    "start_time": "2022-04-02T21:14:51.775Z"
   },
   {
    "duration": 211,
    "start_time": "2022-04-02T21:15:50.815Z"
   },
   {
    "duration": 1195,
    "start_time": "2022-04-02T21:16:28.064Z"
   },
   {
    "duration": 4,
    "start_time": "2022-04-02T21:17:20.903Z"
   },
   {
    "duration": 9,
    "start_time": "2022-04-02T21:17:22.543Z"
   },
   {
    "duration": 66,
    "start_time": "2022-04-02T21:17:24.856Z"
   },
   {
    "duration": 8,
    "start_time": "2022-04-02T21:29:55.733Z"
   },
   {
    "duration": 3,
    "start_time": "2022-04-02T21:30:52.147Z"
   },
   {
    "duration": 618,
    "start_time": "2022-04-02T21:30:52.152Z"
   },
   {
    "duration": 19,
    "start_time": "2022-04-02T21:30:52.772Z"
   },
   {
    "duration": 3,
    "start_time": "2022-04-02T21:30:52.793Z"
   },
   {
    "duration": 217,
    "start_time": "2022-04-02T21:30:52.798Z"
   },
   {
    "duration": 10,
    "start_time": "2022-04-02T21:30:53.016Z"
   },
   {
    "duration": 11,
    "start_time": "2022-04-02T21:30:53.027Z"
   },
   {
    "duration": 4,
    "start_time": "2022-04-02T21:30:53.039Z"
   },
   {
    "duration": 11,
    "start_time": "2022-04-02T21:30:53.044Z"
   },
   {
    "duration": 24,
    "start_time": "2022-04-02T21:30:53.057Z"
   },
   {
    "duration": 930,
    "start_time": "2022-04-02T21:30:53.082Z"
   },
   {
    "duration": 5,
    "start_time": "2022-04-02T21:30:54.013Z"
   },
   {
    "duration": 6,
    "start_time": "2022-04-02T21:30:54.019Z"
   },
   {
    "duration": 5,
    "start_time": "2022-04-02T21:30:54.026Z"
   },
   {
    "duration": 1234,
    "start_time": "2022-04-02T21:30:54.032Z"
   },
   {
    "duration": 9,
    "start_time": "2022-04-02T21:30:57.261Z"
   },
   {
    "duration": 33,
    "start_time": "2022-04-02T21:32:33.805Z"
   },
   {
    "duration": 30,
    "start_time": "2022-04-02T21:32:52.814Z"
   },
   {
    "duration": 21,
    "start_time": "2022-04-02T21:32:59.533Z"
   },
   {
    "duration": 7,
    "start_time": "2022-04-02T21:35:08.044Z"
   },
   {
    "duration": 42,
    "start_time": "2022-04-02T21:37:52.133Z"
   },
   {
    "duration": 2,
    "start_time": "2022-04-02T21:38:02.573Z"
   },
   {
    "duration": 15,
    "start_time": "2022-04-02T21:39:55.075Z"
   },
   {
    "duration": 1208,
    "start_time": "2022-04-02T21:39:55.955Z"
   },
   {
    "duration": 161,
    "start_time": "2022-04-02T21:39:58.884Z"
   },
   {
    "duration": 41,
    "start_time": "2022-04-02T21:40:02.940Z"
   },
   {
    "duration": 3,
    "start_time": "2022-04-02T21:40:08.524Z"
   },
   {
    "duration": 626,
    "start_time": "2022-04-02T21:40:08.530Z"
   },
   {
    "duration": 17,
    "start_time": "2022-04-02T21:40:09.157Z"
   },
   {
    "duration": 8,
    "start_time": "2022-04-02T21:40:09.175Z"
   },
   {
    "duration": 235,
    "start_time": "2022-04-02T21:40:09.185Z"
   },
   {
    "duration": 12,
    "start_time": "2022-04-02T21:40:09.421Z"
   },
   {
    "duration": 5,
    "start_time": "2022-04-02T21:40:09.434Z"
   },
   {
    "duration": 8,
    "start_time": "2022-04-02T21:40:09.441Z"
   },
   {
    "duration": 12,
    "start_time": "2022-04-02T21:40:09.451Z"
   },
   {
    "duration": 22,
    "start_time": "2022-04-02T21:40:09.465Z"
   },
   {
    "duration": 999,
    "start_time": "2022-04-02T21:40:09.489Z"
   },
   {
    "duration": 5,
    "start_time": "2022-04-02T21:40:10.489Z"
   },
   {
    "duration": 5,
    "start_time": "2022-04-02T21:40:10.496Z"
   },
   {
    "duration": 6,
    "start_time": "2022-04-02T21:40:10.503Z"
   },
   {
    "duration": 1254,
    "start_time": "2022-04-02T21:40:10.510Z"
   },
   {
    "duration": 32,
    "start_time": "2022-04-02T21:40:11.765Z"
   },
   {
    "duration": 1273,
    "start_time": "2022-04-02T21:40:11.798Z"
   },
   {
    "duration": 5,
    "start_time": "2022-04-02T21:40:18.163Z"
   },
   {
    "duration": 9,
    "start_time": "2022-04-02T21:40:20.324Z"
   },
   {
    "duration": 67,
    "start_time": "2022-04-02T21:40:22.156Z"
   },
   {
    "duration": 1258,
    "start_time": "2022-04-02T21:40:24.524Z"
   },
   {
    "duration": 26771,
    "start_time": "2022-04-02T21:40:32.188Z"
   },
   {
    "duration": 6660,
    "start_time": "2022-04-02T21:41:11.996Z"
   },
   {
    "duration": 19,
    "start_time": "2022-04-02T21:41:27.331Z"
   },
   {
    "duration": 5,
    "start_time": "2022-04-02T21:41:28.915Z"
   },
   {
    "duration": 35,
    "start_time": "2022-04-02T21:41:31.347Z"
   },
   {
    "duration": 9,
    "start_time": "2022-04-02T21:41:33.723Z"
   },
   {
    "duration": 7,
    "start_time": "2022-04-02T21:41:35.986Z"
   },
   {
    "duration": 4,
    "start_time": "2022-04-02T21:51:43.451Z"
   },
   {
    "duration": 628,
    "start_time": "2022-04-02T21:51:43.457Z"
   },
   {
    "duration": 15,
    "start_time": "2022-04-02T21:51:44.087Z"
   },
   {
    "duration": 4,
    "start_time": "2022-04-02T21:51:44.103Z"
   },
   {
    "duration": 219,
    "start_time": "2022-04-02T21:51:44.108Z"
   },
   {
    "duration": 9,
    "start_time": "2022-04-02T21:51:44.328Z"
   },
   {
    "duration": 4,
    "start_time": "2022-04-02T21:51:44.339Z"
   },
   {
    "duration": 5,
    "start_time": "2022-04-02T21:51:44.344Z"
   },
   {
    "duration": 10,
    "start_time": "2022-04-02T21:51:44.350Z"
   },
   {
    "duration": 25,
    "start_time": "2022-04-02T21:51:44.362Z"
   },
   {
    "duration": 22,
    "start_time": "2022-04-02T21:51:45.939Z"
   },
   {
    "duration": 1143,
    "start_time": "2022-04-02T21:53:17.162Z"
   },
   {
    "duration": 1188,
    "start_time": "2022-04-02T21:53:44.978Z"
   },
   {
    "duration": 1110,
    "start_time": "2022-04-02T21:54:04.458Z"
   },
   {
    "duration": 1432,
    "start_time": "2022-04-02T21:54:45.035Z"
   },
   {
    "duration": 1155,
    "start_time": "2022-04-02T21:55:10.650Z"
   },
   {
    "duration": 1210,
    "start_time": "2022-04-02T21:55:20.275Z"
   },
   {
    "duration": 1163,
    "start_time": "2022-04-02T21:57:41.498Z"
   },
   {
    "duration": 1081,
    "start_time": "2022-04-02T21:57:54.769Z"
   },
   {
    "duration": 1052,
    "start_time": "2022-04-02T21:58:10.187Z"
   },
   {
    "duration": 1135,
    "start_time": "2022-04-02T21:59:52.610Z"
   },
   {
    "duration": 1182,
    "start_time": "2022-04-02T22:01:55.866Z"
   },
   {
    "duration": 1095,
    "start_time": "2022-04-02T22:02:01.553Z"
   },
   {
    "duration": 1092,
    "start_time": "2022-04-02T22:02:05.345Z"
   },
   {
    "duration": 1459,
    "start_time": "2022-04-02T22:02:25.217Z"
   },
   {
    "duration": 1156,
    "start_time": "2022-04-02T22:03:08.625Z"
   },
   {
    "duration": 1188,
    "start_time": "2022-04-02T22:03:17.072Z"
   },
   {
    "duration": 8,
    "start_time": "2022-04-02T23:21:45.204Z"
   },
   {
    "duration": 35,
    "start_time": "2022-04-02T23:35:26.186Z"
   },
   {
    "duration": 4,
    "start_time": "2022-04-02T23:35:34.688Z"
   },
   {
    "duration": 559,
    "start_time": "2022-04-02T23:35:34.694Z"
   },
   {
    "duration": 14,
    "start_time": "2022-04-02T23:35:35.255Z"
   },
   {
    "duration": 3,
    "start_time": "2022-04-02T23:35:35.271Z"
   },
   {
    "duration": 203,
    "start_time": "2022-04-02T23:35:35.280Z"
   },
   {
    "duration": 9,
    "start_time": "2022-04-02T23:35:35.485Z"
   },
   {
    "duration": 4,
    "start_time": "2022-04-02T23:35:35.495Z"
   },
   {
    "duration": 10,
    "start_time": "2022-04-02T23:35:35.500Z"
   },
   {
    "duration": 9,
    "start_time": "2022-04-02T23:35:35.511Z"
   },
   {
    "duration": 1116,
    "start_time": "2022-04-02T23:35:35.522Z"
   },
   {
    "duration": 1122,
    "start_time": "2022-04-02T23:35:36.640Z"
   },
   {
    "duration": 1090,
    "start_time": "2022-04-02T23:35:37.764Z"
   },
   {
    "duration": 733,
    "start_time": "2022-04-02T23:35:38.856Z"
   },
   {
    "duration": 5,
    "start_time": "2022-04-02T23:35:39.591Z"
   },
   {
    "duration": 22,
    "start_time": "2022-04-02T23:35:39.598Z"
   },
   {
    "duration": 39,
    "start_time": "2022-04-02T23:35:39.621Z"
   },
   {
    "duration": 1705,
    "start_time": "2022-04-02T23:35:39.661Z"
   },
   {
    "duration": 29,
    "start_time": "2022-04-02T23:35:41.368Z"
   },
   {
    "duration": 1276,
    "start_time": "2022-04-02T23:35:41.398Z"
   },
   {
    "duration": 42,
    "start_time": "2022-04-02T23:35:42.676Z"
   },
   {
    "duration": 4,
    "start_time": "2022-04-02T23:35:42.720Z"
   },
   {
    "duration": 13,
    "start_time": "2022-04-02T23:35:42.725Z"
   },
   {
    "duration": 23,
    "start_time": "2022-04-02T23:35:42.740Z"
   },
   {
    "duration": 0,
    "start_time": "2022-04-02T23:35:42.781Z"
   },
   {
    "duration": 0,
    "start_time": "2022-04-02T23:35:42.782Z"
   },
   {
    "duration": 0,
    "start_time": "2022-04-02T23:35:42.783Z"
   },
   {
    "duration": 0,
    "start_time": "2022-04-02T23:35:42.784Z"
   },
   {
    "duration": 0,
    "start_time": "2022-04-02T23:35:42.784Z"
   },
   {
    "duration": 0,
    "start_time": "2022-04-02T23:35:42.785Z"
   },
   {
    "duration": 0,
    "start_time": "2022-04-02T23:35:42.787Z"
   },
   {
    "duration": 0,
    "start_time": "2022-04-02T23:35:42.788Z"
   },
   {
    "duration": 17,
    "start_time": "2022-04-02T23:35:56.554Z"
   },
   {
    "duration": 1442,
    "start_time": "2022-04-02T23:36:11.173Z"
   },
   {
    "duration": 617,
    "start_time": "2022-04-02T23:36:12.616Z"
   },
   {
    "duration": 15,
    "start_time": "2022-04-02T23:36:13.235Z"
   },
   {
    "duration": 4,
    "start_time": "2022-04-02T23:36:13.251Z"
   },
   {
    "duration": 227,
    "start_time": "2022-04-02T23:36:13.257Z"
   },
   {
    "duration": 13,
    "start_time": "2022-04-02T23:36:13.486Z"
   },
   {
    "duration": 5,
    "start_time": "2022-04-02T23:36:13.500Z"
   },
   {
    "duration": 13,
    "start_time": "2022-04-02T23:36:13.506Z"
   },
   {
    "duration": 9,
    "start_time": "2022-04-02T23:36:13.520Z"
   },
   {
    "duration": 1120,
    "start_time": "2022-04-02T23:36:13.531Z"
   },
   {
    "duration": 1215,
    "start_time": "2022-04-02T23:36:14.653Z"
   },
   {
    "duration": 1192,
    "start_time": "2022-04-02T23:36:15.870Z"
   },
   {
    "duration": 748,
    "start_time": "2022-04-02T23:36:17.063Z"
   },
   {
    "duration": 5,
    "start_time": "2022-04-02T23:36:17.814Z"
   },
   {
    "duration": 6,
    "start_time": "2022-04-02T23:36:17.821Z"
   },
   {
    "duration": 7,
    "start_time": "2022-04-02T23:36:17.829Z"
   },
   {
    "duration": 1337,
    "start_time": "2022-04-02T23:36:17.838Z"
   },
   {
    "duration": 30,
    "start_time": "2022-04-02T23:36:19.181Z"
   },
   {
    "duration": 1261,
    "start_time": "2022-04-02T23:36:19.212Z"
   },
   {
    "duration": 45,
    "start_time": "2022-04-02T23:36:20.475Z"
   },
   {
    "duration": 4,
    "start_time": "2022-04-02T23:36:20.522Z"
   },
   {
    "duration": 13,
    "start_time": "2022-04-02T23:36:20.527Z"
   },
   {
    "duration": 126,
    "start_time": "2022-04-02T23:36:20.542Z"
   },
   {
    "duration": 0,
    "start_time": "2022-04-02T23:36:20.670Z"
   },
   {
    "duration": 0,
    "start_time": "2022-04-02T23:36:20.671Z"
   },
   {
    "duration": 0,
    "start_time": "2022-04-02T23:36:20.672Z"
   },
   {
    "duration": 0,
    "start_time": "2022-04-02T23:36:20.673Z"
   },
   {
    "duration": 0,
    "start_time": "2022-04-02T23:36:20.680Z"
   },
   {
    "duration": 0,
    "start_time": "2022-04-02T23:36:20.681Z"
   },
   {
    "duration": 0,
    "start_time": "2022-04-02T23:36:20.682Z"
   },
   {
    "duration": 0,
    "start_time": "2022-04-02T23:36:20.683Z"
   },
   {
    "duration": 42,
    "start_time": "2022-04-02T23:36:39.938Z"
   },
   {
    "duration": 4,
    "start_time": "2022-04-02T23:36:42.818Z"
   },
   {
    "duration": 9,
    "start_time": "2022-04-02T23:36:45.994Z"
   },
   {
    "duration": 25,
    "start_time": "2022-04-02T23:36:47.419Z"
   },
   {
    "duration": 21,
    "start_time": "2022-04-02T23:37:18.651Z"
   },
   {
    "duration": 22,
    "start_time": "2022-04-02T23:37:21.098Z"
   },
   {
    "duration": 4,
    "start_time": "2022-04-02T23:39:33.845Z"
   },
   {
    "duration": 648,
    "start_time": "2022-04-02T23:39:33.851Z"
   },
   {
    "duration": 15,
    "start_time": "2022-04-02T23:39:34.500Z"
   },
   {
    "duration": 4,
    "start_time": "2022-04-02T23:39:34.517Z"
   },
   {
    "duration": 217,
    "start_time": "2022-04-02T23:39:34.522Z"
   },
   {
    "duration": 10,
    "start_time": "2022-04-02T23:39:34.741Z"
   },
   {
    "duration": 4,
    "start_time": "2022-04-02T23:39:34.752Z"
   },
   {
    "duration": 25,
    "start_time": "2022-04-02T23:39:34.758Z"
   },
   {
    "duration": 10,
    "start_time": "2022-04-02T23:39:34.784Z"
   },
   {
    "duration": 1043,
    "start_time": "2022-04-02T23:39:34.796Z"
   },
   {
    "duration": 1123,
    "start_time": "2022-04-02T23:39:35.841Z"
   },
   {
    "duration": 1191,
    "start_time": "2022-04-02T23:39:36.966Z"
   },
   {
    "duration": 726,
    "start_time": "2022-04-02T23:39:38.158Z"
   },
   {
    "duration": 5,
    "start_time": "2022-04-02T23:39:38.886Z"
   },
   {
    "duration": 8,
    "start_time": "2022-04-02T23:39:38.892Z"
   },
   {
    "duration": 8,
    "start_time": "2022-04-02T23:39:38.902Z"
   },
   {
    "duration": 1403,
    "start_time": "2022-04-02T23:39:38.911Z"
   },
   {
    "duration": 23,
    "start_time": "2022-04-02T23:39:40.315Z"
   },
   {
    "duration": 1447,
    "start_time": "2022-04-02T23:39:53.780Z"
   },
   {
    "duration": 647,
    "start_time": "2022-04-02T23:39:55.229Z"
   },
   {
    "duration": 16,
    "start_time": "2022-04-02T23:39:55.878Z"
   },
   {
    "duration": 4,
    "start_time": "2022-04-02T23:39:55.896Z"
   },
   {
    "duration": 239,
    "start_time": "2022-04-02T23:39:55.901Z"
   },
   {
    "duration": 14,
    "start_time": "2022-04-02T23:39:56.142Z"
   },
   {
    "duration": 4,
    "start_time": "2022-04-02T23:39:56.157Z"
   },
   {
    "duration": 22,
    "start_time": "2022-04-02T23:39:56.163Z"
   },
   {
    "duration": 9,
    "start_time": "2022-04-02T23:39:56.186Z"
   },
   {
    "duration": 1055,
    "start_time": "2022-04-02T23:39:56.197Z"
   },
   {
    "duration": 1216,
    "start_time": "2022-04-02T23:39:57.254Z"
   },
   {
    "duration": 1076,
    "start_time": "2022-04-02T23:39:58.471Z"
   },
   {
    "duration": 723,
    "start_time": "2022-04-02T23:39:59.549Z"
   },
   {
    "duration": 8,
    "start_time": "2022-04-02T23:40:00.274Z"
   },
   {
    "duration": 15,
    "start_time": "2022-04-02T23:40:00.284Z"
   },
   {
    "duration": 14,
    "start_time": "2022-04-02T23:40:00.301Z"
   },
   {
    "duration": 1380,
    "start_time": "2022-04-02T23:40:00.317Z"
   },
   {
    "duration": 30,
    "start_time": "2022-04-02T23:40:04.522Z"
   },
   {
    "duration": 1205,
    "start_time": "2022-04-02T23:40:05.376Z"
   },
   {
    "duration": 51,
    "start_time": "2022-04-02T23:40:09.385Z"
   },
   {
    "duration": 4,
    "start_time": "2022-04-02T23:40:11.554Z"
   },
   {
    "duration": 9,
    "start_time": "2022-04-02T23:40:12.985Z"
   },
   {
    "duration": 114,
    "start_time": "2022-04-02T23:40:14.650Z"
   },
   {
    "duration": 4,
    "start_time": "2022-04-02T23:41:41.320Z"
   },
   {
    "duration": 635,
    "start_time": "2022-04-02T23:41:41.325Z"
   },
   {
    "duration": 23,
    "start_time": "2022-04-02T23:41:41.962Z"
   },
   {
    "duration": 3,
    "start_time": "2022-04-02T23:41:41.987Z"
   },
   {
    "duration": 209,
    "start_time": "2022-04-02T23:41:41.991Z"
   },
   {
    "duration": 10,
    "start_time": "2022-04-02T23:41:42.201Z"
   },
   {
    "duration": 4,
    "start_time": "2022-04-02T23:41:42.212Z"
   },
   {
    "duration": 11,
    "start_time": "2022-04-02T23:41:42.218Z"
   },
   {
    "duration": 9,
    "start_time": "2022-04-02T23:41:42.231Z"
   },
   {
    "duration": 1093,
    "start_time": "2022-04-02T23:41:42.241Z"
   },
   {
    "duration": 1126,
    "start_time": "2022-04-02T23:41:43.336Z"
   },
   {
    "duration": 1184,
    "start_time": "2022-04-02T23:41:44.464Z"
   },
   {
    "duration": 731,
    "start_time": "2022-04-02T23:41:45.650Z"
   },
   {
    "duration": 5,
    "start_time": "2022-04-02T23:41:46.383Z"
   },
   {
    "duration": 5,
    "start_time": "2022-04-02T23:41:46.389Z"
   },
   {
    "duration": 8,
    "start_time": "2022-04-02T23:41:46.396Z"
   },
   {
    "duration": 1428,
    "start_time": "2022-04-02T23:41:46.405Z"
   },
   {
    "duration": 27,
    "start_time": "2022-04-02T23:41:47.835Z"
   },
   {
    "duration": 1202,
    "start_time": "2022-04-02T23:41:47.863Z"
   },
   {
    "duration": 18,
    "start_time": "2022-04-02T23:42:07.545Z"
   },
   {
    "duration": 1218,
    "start_time": "2022-04-02T23:42:08.569Z"
   },
   {
    "duration": 4,
    "start_time": "2022-04-02T23:42:11.609Z"
   },
   {
    "duration": 8,
    "start_time": "2022-04-02T23:42:13.113Z"
   },
   {
    "duration": 23,
    "start_time": "2022-04-02T23:42:14.817Z"
   },
   {
    "duration": 67,
    "start_time": "2022-04-02T23:42:51.417Z"
   },
   {
    "duration": 1337,
    "start_time": "2022-04-02T23:42:55.546Z"
   },
   {
    "duration": 27011,
    "start_time": "2022-04-02T23:43:10.034Z"
   },
   {
    "duration": 6359,
    "start_time": "2022-04-02T23:43:56.127Z"
   },
   {
    "duration": 32,
    "start_time": "2022-04-02T23:44:23.560Z"
   },
   {
    "duration": 5,
    "start_time": "2022-04-02T23:44:24.808Z"
   },
   {
    "duration": 4,
    "start_time": "2022-04-02T23:44:25.448Z"
   },
   {
    "duration": 45,
    "start_time": "2022-04-02T23:44:26.744Z"
   },
   {
    "duration": 7,
    "start_time": "2022-04-02T23:44:27.513Z"
   },
   {
    "duration": 25,
    "start_time": "2022-04-02T23:44:29.056Z"
   },
   {
    "duration": 39,
    "start_time": "2022-04-02T23:48:01.553Z"
   },
   {
    "duration": 53,
    "start_time": "2022-04-02T23:48:46.098Z"
   },
   {
    "duration": 25,
    "start_time": "2022-04-02T23:48:51.976Z"
   },
   {
    "duration": 18,
    "start_time": "2022-04-02T23:50:09.009Z"
   },
   {
    "duration": 1576,
    "start_time": "2022-04-03T08:44:28.459Z"
   },
   {
    "duration": 675,
    "start_time": "2022-04-03T08:44:30.038Z"
   },
   {
    "duration": 31,
    "start_time": "2022-04-03T08:44:30.715Z"
   },
   {
    "duration": 4,
    "start_time": "2022-04-03T08:44:30.748Z"
   },
   {
    "duration": 266,
    "start_time": "2022-04-03T08:44:30.754Z"
   },
   {
    "duration": 22,
    "start_time": "2022-04-03T08:44:31.021Z"
   },
   {
    "duration": 5,
    "start_time": "2022-04-03T08:44:31.045Z"
   },
   {
    "duration": 15,
    "start_time": "2022-04-03T08:44:31.051Z"
   },
   {
    "duration": 12,
    "start_time": "2022-04-03T08:44:31.068Z"
   },
   {
    "duration": 1156,
    "start_time": "2022-04-03T08:44:31.082Z"
   },
   {
    "duration": 1316,
    "start_time": "2022-04-03T08:44:32.240Z"
   },
   {
    "duration": 1166,
    "start_time": "2022-04-03T08:44:33.558Z"
   },
   {
    "duration": 801,
    "start_time": "2022-04-03T08:44:34.726Z"
   },
   {
    "duration": 6,
    "start_time": "2022-04-03T08:44:35.532Z"
   },
   {
    "duration": 11,
    "start_time": "2022-04-03T08:44:35.540Z"
   },
   {
    "duration": 10,
    "start_time": "2022-04-03T08:44:35.553Z"
   },
   {
    "duration": 1385,
    "start_time": "2022-04-03T08:44:35.564Z"
   },
   {
    "duration": 4,
    "start_time": "2022-04-03T08:45:02.858Z"
   },
   {
    "duration": 12,
    "start_time": "2022-04-03T08:45:04.921Z"
   },
   {
    "duration": 83,
    "start_time": "2022-04-03T08:45:06.537Z"
   },
   {
    "duration": 1328,
    "start_time": "2022-04-03T08:45:08.609Z"
   },
   {
    "duration": 5,
    "start_time": "2022-04-03T08:54:59.545Z"
   },
   {
    "duration": 5,
    "start_time": "2022-04-03T08:55:00.360Z"
   },
   {
    "duration": 6,
    "start_time": "2022-04-03T08:55:01.424Z"
   },
   {
    "duration": 41,
    "start_time": "2022-04-03T08:55:02.383Z"
   },
   {
    "duration": 78,
    "start_time": "2022-04-03T08:55:08.046Z"
   },
   {
    "duration": 1318,
    "start_time": "2022-04-03T08:55:13.616Z"
   },
   {
    "duration": 6916,
    "start_time": "2022-04-03T08:55:46.688Z"
   },
   {
    "duration": 32,
    "start_time": "2022-04-03T08:55:58.839Z"
   },
   {
    "duration": 5,
    "start_time": "2022-04-03T08:56:00.248Z"
   },
   {
    "duration": 9,
    "start_time": "2022-04-03T08:56:01.320Z"
   },
   {
    "duration": 7,
    "start_time": "2022-04-03T08:56:02.112Z"
   },
   {
    "duration": 8,
    "start_time": "2022-04-03T08:56:05.605Z"
   },
   {
    "duration": 37,
    "start_time": "2022-04-03T08:56:24.744Z"
   },
   {
    "duration": 126,
    "start_time": "2022-04-03T08:56:29.185Z"
   },
   {
    "duration": 29,
    "start_time": "2022-04-03T08:56:39.208Z"
   },
   {
    "duration": 29,
    "start_time": "2022-04-03T08:56:46.520Z"
   },
   {
    "duration": 4,
    "start_time": "2022-04-03T08:56:49.347Z"
   },
   {
    "duration": 589,
    "start_time": "2022-04-03T08:56:49.354Z"
   },
   {
    "duration": 17,
    "start_time": "2022-04-03T08:56:49.945Z"
   },
   {
    "duration": 4,
    "start_time": "2022-04-03T08:56:49.964Z"
   },
   {
    "duration": 242,
    "start_time": "2022-04-03T08:56:49.970Z"
   },
   {
    "duration": 11,
    "start_time": "2022-04-03T08:56:50.214Z"
   },
   {
    "duration": 5,
    "start_time": "2022-04-03T08:56:50.233Z"
   },
   {
    "duration": 20,
    "start_time": "2022-04-03T08:56:50.239Z"
   },
   {
    "duration": 10,
    "start_time": "2022-04-03T08:56:50.260Z"
   },
   {
    "duration": 1245,
    "start_time": "2022-04-03T08:56:50.272Z"
   },
   {
    "duration": 1225,
    "start_time": "2022-04-03T08:56:51.519Z"
   },
   {
    "duration": 1088,
    "start_time": "2022-04-03T08:56:52.745Z"
   },
   {
    "duration": 1034,
    "start_time": "2022-04-03T08:56:53.835Z"
   },
   {
    "duration": 5,
    "start_time": "2022-04-03T08:56:54.872Z"
   },
   {
    "duration": 6,
    "start_time": "2022-04-03T08:56:54.878Z"
   },
   {
    "duration": 7,
    "start_time": "2022-04-03T08:56:54.886Z"
   },
   {
    "duration": 1266,
    "start_time": "2022-04-03T08:56:54.894Z"
   },
   {
    "duration": 29,
    "start_time": "2022-04-03T08:56:56.162Z"
   },
   {
    "duration": 1380,
    "start_time": "2022-04-03T08:56:56.193Z"
   },
   {
    "duration": 5,
    "start_time": "2022-04-03T08:56:57.575Z"
   },
   {
    "duration": 7,
    "start_time": "2022-04-03T08:56:57.582Z"
   },
   {
    "duration": 5,
    "start_time": "2022-04-03T08:56:57.590Z"
   },
   {
    "duration": 42,
    "start_time": "2022-04-03T08:57:09.753Z"
   },
   {
    "duration": 16,
    "start_time": "2022-04-03T08:57:15.761Z"
   },
   {
    "duration": 4,
    "start_time": "2022-04-03T08:57:19.999Z"
   },
   {
    "duration": 10,
    "start_time": "2022-04-03T08:57:21.095Z"
   },
   {
    "duration": 78,
    "start_time": "2022-04-03T08:57:22.376Z"
   },
   {
    "duration": 1340,
    "start_time": "2022-04-03T08:57:27.400Z"
   },
   {
    "duration": 27574,
    "start_time": "2022-04-03T08:57:31.352Z"
   },
   {
    "duration": 6324,
    "start_time": "2022-04-03T08:58:01.792Z"
   },
   {
    "duration": 20,
    "start_time": "2022-04-03T08:58:11.897Z"
   },
   {
    "duration": 5,
    "start_time": "2022-04-03T08:58:12.783Z"
   },
   {
    "duration": 92,
    "start_time": "2022-04-03T08:58:13.543Z"
   },
   {
    "duration": 8,
    "start_time": "2022-04-03T08:58:14.167Z"
   },
   {
    "duration": 8,
    "start_time": "2022-04-03T08:58:17.136Z"
   },
   {
    "duration": 4,
    "start_time": "2022-04-03T09:03:00.152Z"
   },
   {
    "duration": 664,
    "start_time": "2022-04-03T09:03:00.158Z"
   },
   {
    "duration": 21,
    "start_time": "2022-04-03T09:03:00.824Z"
   },
   {
    "duration": 4,
    "start_time": "2022-04-03T09:03:00.847Z"
   },
   {
    "duration": 230,
    "start_time": "2022-04-03T09:03:00.852Z"
   },
   {
    "duration": 11,
    "start_time": "2022-04-03T09:03:01.084Z"
   },
   {
    "duration": 13,
    "start_time": "2022-04-03T09:03:01.097Z"
   },
   {
    "duration": 21,
    "start_time": "2022-04-03T09:03:01.112Z"
   },
   {
    "duration": 11,
    "start_time": "2022-04-03T09:03:01.136Z"
   },
   {
    "duration": 1277,
    "start_time": "2022-04-03T09:03:01.148Z"
   },
   {
    "duration": 1237,
    "start_time": "2022-04-03T09:03:02.427Z"
   },
   {
    "duration": 1269,
    "start_time": "2022-04-03T09:03:03.666Z"
   },
   {
    "duration": 989,
    "start_time": "2022-04-03T09:03:04.937Z"
   },
   {
    "duration": 5,
    "start_time": "2022-04-03T09:03:05.932Z"
   },
   {
    "duration": 6,
    "start_time": "2022-04-03T09:03:05.939Z"
   },
   {
    "duration": 10,
    "start_time": "2022-04-03T09:03:05.946Z"
   },
   {
    "duration": 1308,
    "start_time": "2022-04-03T09:03:05.957Z"
   },
   {
    "duration": 5,
    "start_time": "2022-04-03T09:03:18.959Z"
   },
   {
    "duration": 5,
    "start_time": "2022-04-03T09:03:21.007Z"
   },
   {
    "duration": 5,
    "start_time": "2022-04-03T09:03:21.694Z"
   },
   {
    "duration": 27,
    "start_time": "2022-04-03T09:03:22.246Z"
   },
   {
    "duration": 5,
    "start_time": "2022-04-03T09:03:24.086Z"
   },
   {
    "duration": 10,
    "start_time": "2022-04-03T09:03:25.447Z"
   },
   {
    "duration": 77,
    "start_time": "2022-04-03T09:03:27.303Z"
   },
   {
    "duration": 1421,
    "start_time": "2022-04-03T09:03:29.119Z"
   },
   {
    "duration": 26867,
    "start_time": "2022-04-03T09:03:35.159Z"
   },
   {
    "duration": 6501,
    "start_time": "2022-04-03T09:04:06.846Z"
   },
   {
    "duration": 29,
    "start_time": "2022-04-03T09:04:16.774Z"
   },
   {
    "duration": 5,
    "start_time": "2022-04-03T09:04:17.462Z"
   },
   {
    "duration": 9,
    "start_time": "2022-04-03T09:04:18.694Z"
   },
   {
    "duration": 8,
    "start_time": "2022-04-03T09:04:19.950Z"
   },
   {
    "duration": 8,
    "start_time": "2022-04-03T09:04:21.116Z"
   },
   {
    "duration": 19,
    "start_time": "2022-04-03T09:05:00.606Z"
   },
   {
    "duration": 5,
    "start_time": "2022-04-03T09:05:02.142Z"
   },
   {
    "duration": 4,
    "start_time": "2022-04-03T09:05:02.711Z"
   },
   {
    "duration": 5,
    "start_time": "2022-04-03T09:05:04.422Z"
   },
   {
    "duration": 20,
    "start_time": "2022-04-03T09:05:05.166Z"
   },
   {
    "duration": 5,
    "start_time": "2022-04-03T09:05:07.582Z"
   },
   {
    "duration": 26,
    "start_time": "2022-04-03T09:05:10.519Z"
   },
   {
    "duration": 3,
    "start_time": "2022-04-03T09:05:31.361Z"
   },
   {
    "duration": 613,
    "start_time": "2022-04-03T09:05:31.367Z"
   },
   {
    "duration": 18,
    "start_time": "2022-04-03T09:05:31.981Z"
   },
   {
    "duration": 3,
    "start_time": "2022-04-03T09:05:32.001Z"
   },
   {
    "duration": 229,
    "start_time": "2022-04-03T09:05:32.006Z"
   },
   {
    "duration": 10,
    "start_time": "2022-04-03T09:05:32.237Z"
   },
   {
    "duration": 5,
    "start_time": "2022-04-03T09:05:32.249Z"
   },
   {
    "duration": 11,
    "start_time": "2022-04-03T09:05:32.255Z"
   },
   {
    "duration": 10,
    "start_time": "2022-04-03T09:05:32.268Z"
   },
   {
    "duration": 1146,
    "start_time": "2022-04-03T09:05:32.280Z"
   },
   {
    "duration": 1126,
    "start_time": "2022-04-03T09:05:33.432Z"
   },
   {
    "duration": 1376,
    "start_time": "2022-04-03T09:05:34.560Z"
   },
   {
    "duration": 916,
    "start_time": "2022-04-03T09:05:35.938Z"
   },
   {
    "duration": 6,
    "start_time": "2022-04-03T09:05:36.857Z"
   },
   {
    "duration": 6,
    "start_time": "2022-04-03T09:05:36.865Z"
   },
   {
    "duration": 8,
    "start_time": "2022-04-03T09:05:36.873Z"
   },
   {
    "duration": 1267,
    "start_time": "2022-04-03T09:05:36.883Z"
   },
   {
    "duration": 26,
    "start_time": "2022-04-03T09:05:38.152Z"
   },
   {
    "duration": 5,
    "start_time": "2022-04-03T09:05:39.991Z"
   },
   {
    "duration": 4,
    "start_time": "2022-04-03T09:05:40.887Z"
   },
   {
    "duration": 5,
    "start_time": "2022-04-03T09:05:41.486Z"
   },
   {
    "duration": 22,
    "start_time": "2022-04-03T09:05:42.014Z"
   },
   {
    "duration": 4,
    "start_time": "2022-04-03T09:05:43.238Z"
   },
   {
    "duration": 10,
    "start_time": "2022-04-03T09:05:47.846Z"
   },
   {
    "duration": 76,
    "start_time": "2022-04-03T09:05:49.055Z"
   },
   {
    "duration": 1300,
    "start_time": "2022-04-03T09:05:51.334Z"
   },
   {
    "duration": 6297,
    "start_time": "2022-04-03T09:05:58.911Z"
   },
   {
    "duration": 22,
    "start_time": "2022-04-03T09:06:06.246Z"
   },
   {
    "duration": 26,
    "start_time": "2022-04-03T09:06:09.847Z"
   },
   {
    "duration": 6,
    "start_time": "2022-04-03T09:06:12.056Z"
   },
   {
    "duration": 76,
    "start_time": "2022-04-03T09:06:13.358Z"
   },
   {
    "duration": 7,
    "start_time": "2022-04-03T09:06:15.511Z"
   },
   {
    "duration": 8,
    "start_time": "2022-04-03T09:06:16.812Z"
   },
   {
    "duration": 1417,
    "start_time": "2022-04-03T09:07:24.652Z"
   },
   {
    "duration": 626,
    "start_time": "2022-04-03T09:07:26.071Z"
   },
   {
    "duration": 17,
    "start_time": "2022-04-03T09:07:26.699Z"
   },
   {
    "duration": 15,
    "start_time": "2022-04-03T09:07:26.718Z"
   },
   {
    "duration": 233,
    "start_time": "2022-04-03T09:07:26.735Z"
   },
   {
    "duration": 15,
    "start_time": "2022-04-03T09:07:26.969Z"
   },
   {
    "duration": 5,
    "start_time": "2022-04-03T09:07:26.985Z"
   },
   {
    "duration": 14,
    "start_time": "2022-04-03T09:07:26.991Z"
   },
   {
    "duration": 28,
    "start_time": "2022-04-03T09:07:27.007Z"
   },
   {
    "duration": 1198,
    "start_time": "2022-04-03T09:07:27.037Z"
   },
   {
    "duration": 1304,
    "start_time": "2022-04-03T09:07:28.237Z"
   },
   {
    "duration": 1193,
    "start_time": "2022-04-03T09:07:29.542Z"
   },
   {
    "duration": 787,
    "start_time": "2022-04-03T09:07:30.737Z"
   },
   {
    "duration": 5,
    "start_time": "2022-04-03T09:07:31.532Z"
   },
   {
    "duration": 7,
    "start_time": "2022-04-03T09:07:31.538Z"
   },
   {
    "duration": 9,
    "start_time": "2022-04-03T09:07:31.546Z"
   },
   {
    "duration": 1402,
    "start_time": "2022-04-03T09:07:31.556Z"
   },
   {
    "duration": 32,
    "start_time": "2022-04-03T09:07:32.960Z"
   },
   {
    "duration": 5,
    "start_time": "2022-04-03T09:07:32.994Z"
   },
   {
    "duration": 18,
    "start_time": "2022-04-03T09:07:33.000Z"
   },
   {
    "duration": 16,
    "start_time": "2022-04-03T09:07:33.019Z"
   },
   {
    "duration": 23,
    "start_time": "2022-04-03T09:07:33.037Z"
   },
   {
    "duration": 5,
    "start_time": "2022-04-03T09:07:33.062Z"
   },
   {
    "duration": 13,
    "start_time": "2022-04-03T09:07:33.069Z"
   },
   {
    "duration": 102,
    "start_time": "2022-04-03T09:07:33.083Z"
   },
   {
    "duration": 1552,
    "start_time": "2022-04-03T09:07:33.187Z"
   },
   {
    "duration": 28214,
    "start_time": "2022-04-03T09:07:34.742Z"
   },
   {
    "duration": 6344,
    "start_time": "2022-04-03T09:08:02.958Z"
   },
   {
    "duration": 30,
    "start_time": "2022-04-03T09:08:09.304Z"
   },
   {
    "duration": 5,
    "start_time": "2022-04-03T09:08:09.336Z"
   },
   {
    "duration": 90,
    "start_time": "2022-04-03T09:08:09.343Z"
   },
   {
    "duration": 103,
    "start_time": "2022-04-03T09:08:09.436Z"
   },
   {
    "duration": 10,
    "start_time": "2022-04-03T09:08:13.987Z"
   }
  ],
  "kernelspec": {
   "display_name": "Python 3 (ipykernel)",
   "language": "python",
   "name": "python3"
  },
  "language_info": {
   "codemirror_mode": {
    "name": "ipython",
    "version": 3
   },
   "file_extension": ".py",
   "mimetype": "text/x-python",
   "name": "python",
   "nbconvert_exporter": "python",
   "pygments_lexer": "ipython3",
   "version": "3.9.7"
  },
  "toc": {
   "base_numbering": 1,
   "nav_menu": {},
   "number_sections": true,
   "sideBar": true,
   "skip_h1_title": true,
   "title_cell": "Содержание",
   "title_sidebar": "Contents",
   "toc_cell": true,
   "toc_position": {
    "height": "calc(100% - 180px)",
    "left": "10px",
    "top": "150px",
    "width": "272.391px"
   },
   "toc_section_display": true,
   "toc_window_display": true
  }
 },
 "nbformat": 4,
 "nbformat_minor": 2
}
