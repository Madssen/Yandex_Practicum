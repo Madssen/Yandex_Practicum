{
 "cells": [
  {
   "cell_type": "markdown",
   "metadata": {},
   "source": [
    "# Определение стоимости автомобилей"
   ]
  },
  {
   "cell_type": "markdown",
   "metadata": {},
   "source": [
    "Сервис по продаже автомобилей с пробегом «Не бит, не крашен» разрабатывает приложение для привлечения новых клиентов. В нём можно быстро узнать рыночную стоимость своего автомобиля. В вашем распоряжении исторические данные: технические характеристики, комплектации и цены автомобилей. Вам нужно построить модель для определения стоимости. \n",
    "\n",
    "Заказчику важны:\n",
    "\n",
    "- качество предсказания;\n",
    "- скорость предсказания;\n",
    "- время обучения."
   ]
  },
  {
   "cell_type": "markdown",
   "metadata": {},
   "source": [
    "## Подготовка данных"
   ]
  },
  {
   "cell_type": "code",
   "execution_count": 1,
   "metadata": {},
   "outputs": [],
   "source": [
    "import pandas as pd\n",
    "import numpy as np\n",
    "import re\n",
    "from scipy import stats as st\n",
    "import matplotlib.pyplot as plt\n",
    "import seaborn as sns\n",
    "from IPython.display import display\n",
    "from numpy.random import RandomState\n",
    "from scipy import stats\n",
    "\n",
    "%matplotlib inline\n",
    "\n",
    "\n",
    "from collections import defaultdict\n",
    "import os\n",
    "import time\n",
    "from sklearn.model_selection import train_test_split, GridSearchCV, KFold\n",
    "from sklearn.linear_model import Lasso, Ridge\n",
    "from sklearn.pipeline import Pipeline\n",
    "from sklearn.preprocessing import OneHotEncoder, StandardScaler, LabelEncoder\n",
    "from sklearn.base import BaseEstimator\n",
    "from sklearn.metrics import mean_squared_error as mse\n",
    "from catboost import CatBoostRegressor\n",
    "from lightgbm import LGBMRegressor\n",
    "import lightgbm as lgb\n",
    "\n",
    "PATH = '/datasets/'\n",
    "SEED = 21"
   ]
  },
  {
   "cell_type": "markdown",
   "metadata": {},
   "source": [
    "### Изучение данных"
   ]
  },
  {
   "cell_type": "code",
   "execution_count": 2,
   "metadata": {},
   "outputs": [
    {
     "data": {
      "text/html": [
       "<div>\n",
       "<style scoped>\n",
       "    .dataframe tbody tr th:only-of-type {\n",
       "        vertical-align: middle;\n",
       "    }\n",
       "\n",
       "    .dataframe tbody tr th {\n",
       "        vertical-align: top;\n",
       "    }\n",
       "\n",
       "    .dataframe thead th {\n",
       "        text-align: right;\n",
       "    }\n",
       "</style>\n",
       "<table border=\"1\" class=\"dataframe\">\n",
       "  <thead>\n",
       "    <tr style=\"text-align: right;\">\n",
       "      <th></th>\n",
       "      <th>DateCrawled</th>\n",
       "      <th>Price</th>\n",
       "      <th>VehicleType</th>\n",
       "      <th>RegistrationYear</th>\n",
       "      <th>Gearbox</th>\n",
       "      <th>Power</th>\n",
       "      <th>Model</th>\n",
       "      <th>Kilometer</th>\n",
       "      <th>RegistrationMonth</th>\n",
       "      <th>FuelType</th>\n",
       "      <th>Brand</th>\n",
       "      <th>NotRepaired</th>\n",
       "      <th>DateCreated</th>\n",
       "      <th>NumberOfPictures</th>\n",
       "      <th>PostalCode</th>\n",
       "      <th>LastSeen</th>\n",
       "    </tr>\n",
       "  </thead>\n",
       "  <tbody>\n",
       "    <tr>\n",
       "      <th>0</th>\n",
       "      <td>2016-03-24 11:52:17</td>\n",
       "      <td>480</td>\n",
       "      <td>NaN</td>\n",
       "      <td>1993</td>\n",
       "      <td>manual</td>\n",
       "      <td>0</td>\n",
       "      <td>golf</td>\n",
       "      <td>150000</td>\n",
       "      <td>0</td>\n",
       "      <td>petrol</td>\n",
       "      <td>volkswagen</td>\n",
       "      <td>NaN</td>\n",
       "      <td>2016-03-24 00:00:00</td>\n",
       "      <td>0</td>\n",
       "      <td>70435</td>\n",
       "      <td>2016-04-07 03:16:57</td>\n",
       "    </tr>\n",
       "    <tr>\n",
       "      <th>1</th>\n",
       "      <td>2016-03-24 10:58:45</td>\n",
       "      <td>18300</td>\n",
       "      <td>coupe</td>\n",
       "      <td>2011</td>\n",
       "      <td>manual</td>\n",
       "      <td>190</td>\n",
       "      <td>NaN</td>\n",
       "      <td>125000</td>\n",
       "      <td>5</td>\n",
       "      <td>gasoline</td>\n",
       "      <td>audi</td>\n",
       "      <td>yes</td>\n",
       "      <td>2016-03-24 00:00:00</td>\n",
       "      <td>0</td>\n",
       "      <td>66954</td>\n",
       "      <td>2016-04-07 01:46:50</td>\n",
       "    </tr>\n",
       "    <tr>\n",
       "      <th>2</th>\n",
       "      <td>2016-03-14 12:52:21</td>\n",
       "      <td>9800</td>\n",
       "      <td>suv</td>\n",
       "      <td>2004</td>\n",
       "      <td>auto</td>\n",
       "      <td>163</td>\n",
       "      <td>grand</td>\n",
       "      <td>125000</td>\n",
       "      <td>8</td>\n",
       "      <td>gasoline</td>\n",
       "      <td>jeep</td>\n",
       "      <td>NaN</td>\n",
       "      <td>2016-03-14 00:00:00</td>\n",
       "      <td>0</td>\n",
       "      <td>90480</td>\n",
       "      <td>2016-04-05 12:47:46</td>\n",
       "    </tr>\n",
       "    <tr>\n",
       "      <th>3</th>\n",
       "      <td>2016-03-17 16:54:04</td>\n",
       "      <td>1500</td>\n",
       "      <td>small</td>\n",
       "      <td>2001</td>\n",
       "      <td>manual</td>\n",
       "      <td>75</td>\n",
       "      <td>golf</td>\n",
       "      <td>150000</td>\n",
       "      <td>6</td>\n",
       "      <td>petrol</td>\n",
       "      <td>volkswagen</td>\n",
       "      <td>no</td>\n",
       "      <td>2016-03-17 00:00:00</td>\n",
       "      <td>0</td>\n",
       "      <td>91074</td>\n",
       "      <td>2016-03-17 17:40:17</td>\n",
       "    </tr>\n",
       "    <tr>\n",
       "      <th>4</th>\n",
       "      <td>2016-03-31 17:25:20</td>\n",
       "      <td>3600</td>\n",
       "      <td>small</td>\n",
       "      <td>2008</td>\n",
       "      <td>manual</td>\n",
       "      <td>69</td>\n",
       "      <td>fabia</td>\n",
       "      <td>90000</td>\n",
       "      <td>7</td>\n",
       "      <td>gasoline</td>\n",
       "      <td>skoda</td>\n",
       "      <td>no</td>\n",
       "      <td>2016-03-31 00:00:00</td>\n",
       "      <td>0</td>\n",
       "      <td>60437</td>\n",
       "      <td>2016-04-06 10:17:21</td>\n",
       "    </tr>\n",
       "    <tr>\n",
       "      <th>5</th>\n",
       "      <td>2016-04-04 17:36:23</td>\n",
       "      <td>650</td>\n",
       "      <td>sedan</td>\n",
       "      <td>1995</td>\n",
       "      <td>manual</td>\n",
       "      <td>102</td>\n",
       "      <td>3er</td>\n",
       "      <td>150000</td>\n",
       "      <td>10</td>\n",
       "      <td>petrol</td>\n",
       "      <td>bmw</td>\n",
       "      <td>yes</td>\n",
       "      <td>2016-04-04 00:00:00</td>\n",
       "      <td>0</td>\n",
       "      <td>33775</td>\n",
       "      <td>2016-04-06 19:17:07</td>\n",
       "    </tr>\n",
       "    <tr>\n",
       "      <th>6</th>\n",
       "      <td>2016-04-01 20:48:51</td>\n",
       "      <td>2200</td>\n",
       "      <td>convertible</td>\n",
       "      <td>2004</td>\n",
       "      <td>manual</td>\n",
       "      <td>109</td>\n",
       "      <td>2_reihe</td>\n",
       "      <td>150000</td>\n",
       "      <td>8</td>\n",
       "      <td>petrol</td>\n",
       "      <td>peugeot</td>\n",
       "      <td>no</td>\n",
       "      <td>2016-04-01 00:00:00</td>\n",
       "      <td>0</td>\n",
       "      <td>67112</td>\n",
       "      <td>2016-04-05 18:18:39</td>\n",
       "    </tr>\n",
       "    <tr>\n",
       "      <th>7</th>\n",
       "      <td>2016-03-21 18:54:38</td>\n",
       "      <td>0</td>\n",
       "      <td>sedan</td>\n",
       "      <td>1980</td>\n",
       "      <td>manual</td>\n",
       "      <td>50</td>\n",
       "      <td>other</td>\n",
       "      <td>40000</td>\n",
       "      <td>7</td>\n",
       "      <td>petrol</td>\n",
       "      <td>volkswagen</td>\n",
       "      <td>no</td>\n",
       "      <td>2016-03-21 00:00:00</td>\n",
       "      <td>0</td>\n",
       "      <td>19348</td>\n",
       "      <td>2016-03-25 16:47:58</td>\n",
       "    </tr>\n",
       "    <tr>\n",
       "      <th>8</th>\n",
       "      <td>2016-04-04 23:42:13</td>\n",
       "      <td>14500</td>\n",
       "      <td>bus</td>\n",
       "      <td>2014</td>\n",
       "      <td>manual</td>\n",
       "      <td>125</td>\n",
       "      <td>c_max</td>\n",
       "      <td>30000</td>\n",
       "      <td>8</td>\n",
       "      <td>petrol</td>\n",
       "      <td>ford</td>\n",
       "      <td>NaN</td>\n",
       "      <td>2016-04-04 00:00:00</td>\n",
       "      <td>0</td>\n",
       "      <td>94505</td>\n",
       "      <td>2016-04-04 23:42:13</td>\n",
       "    </tr>\n",
       "    <tr>\n",
       "      <th>9</th>\n",
       "      <td>2016-03-17 10:53:50</td>\n",
       "      <td>999</td>\n",
       "      <td>small</td>\n",
       "      <td>1998</td>\n",
       "      <td>manual</td>\n",
       "      <td>101</td>\n",
       "      <td>golf</td>\n",
       "      <td>150000</td>\n",
       "      <td>0</td>\n",
       "      <td>NaN</td>\n",
       "      <td>volkswagen</td>\n",
       "      <td>NaN</td>\n",
       "      <td>2016-03-17 00:00:00</td>\n",
       "      <td>0</td>\n",
       "      <td>27472</td>\n",
       "      <td>2016-03-31 17:17:06</td>\n",
       "    </tr>\n",
       "  </tbody>\n",
       "</table>\n",
       "</div>"
      ],
      "text/plain": [
       "           DateCrawled  Price  VehicleType  RegistrationYear Gearbox  Power  \\\n",
       "0  2016-03-24 11:52:17    480          NaN              1993  manual      0   \n",
       "1  2016-03-24 10:58:45  18300        coupe              2011  manual    190   \n",
       "2  2016-03-14 12:52:21   9800          suv              2004    auto    163   \n",
       "3  2016-03-17 16:54:04   1500        small              2001  manual     75   \n",
       "4  2016-03-31 17:25:20   3600        small              2008  manual     69   \n",
       "5  2016-04-04 17:36:23    650        sedan              1995  manual    102   \n",
       "6  2016-04-01 20:48:51   2200  convertible              2004  manual    109   \n",
       "7  2016-03-21 18:54:38      0        sedan              1980  manual     50   \n",
       "8  2016-04-04 23:42:13  14500          bus              2014  manual    125   \n",
       "9  2016-03-17 10:53:50    999        small              1998  manual    101   \n",
       "\n",
       "     Model  Kilometer  RegistrationMonth  FuelType       Brand NotRepaired  \\\n",
       "0     golf     150000                  0    petrol  volkswagen         NaN   \n",
       "1      NaN     125000                  5  gasoline        audi         yes   \n",
       "2    grand     125000                  8  gasoline        jeep         NaN   \n",
       "3     golf     150000                  6    petrol  volkswagen          no   \n",
       "4    fabia      90000                  7  gasoline       skoda          no   \n",
       "5      3er     150000                 10    petrol         bmw         yes   \n",
       "6  2_reihe     150000                  8    petrol     peugeot          no   \n",
       "7    other      40000                  7    petrol  volkswagen          no   \n",
       "8    c_max      30000                  8    petrol        ford         NaN   \n",
       "9     golf     150000                  0       NaN  volkswagen         NaN   \n",
       "\n",
       "           DateCreated  NumberOfPictures  PostalCode             LastSeen  \n",
       "0  2016-03-24 00:00:00                 0       70435  2016-04-07 03:16:57  \n",
       "1  2016-03-24 00:00:00                 0       66954  2016-04-07 01:46:50  \n",
       "2  2016-03-14 00:00:00                 0       90480  2016-04-05 12:47:46  \n",
       "3  2016-03-17 00:00:00                 0       91074  2016-03-17 17:40:17  \n",
       "4  2016-03-31 00:00:00                 0       60437  2016-04-06 10:17:21  \n",
       "5  2016-04-04 00:00:00                 0       33775  2016-04-06 19:17:07  \n",
       "6  2016-04-01 00:00:00                 0       67112  2016-04-05 18:18:39  \n",
       "7  2016-03-21 00:00:00                 0       19348  2016-03-25 16:47:58  \n",
       "8  2016-04-04 00:00:00                 0       94505  2016-04-04 23:42:13  \n",
       "9  2016-03-17 00:00:00                 0       27472  2016-03-31 17:17:06  "
      ]
     },
     "metadata": {},
     "output_type": "display_data"
    },
    {
     "name": "stdout",
     "output_type": "stream",
     "text": [
      "<class 'pandas.core.frame.DataFrame'>\n",
      "RangeIndex: 354369 entries, 0 to 354368\n",
      "Data columns (total 16 columns):\n",
      " #   Column             Non-Null Count   Dtype \n",
      "---  ------             --------------   ----- \n",
      " 0   DateCrawled        354369 non-null  object\n",
      " 1   Price              354369 non-null  int64 \n",
      " 2   VehicleType        316879 non-null  object\n",
      " 3   RegistrationYear   354369 non-null  int64 \n",
      " 4   Gearbox            334536 non-null  object\n",
      " 5   Power              354369 non-null  int64 \n",
      " 6   Model              334664 non-null  object\n",
      " 7   Kilometer          354369 non-null  int64 \n",
      " 8   RegistrationMonth  354369 non-null  int64 \n",
      " 9   FuelType           321474 non-null  object\n",
      " 10  Brand              354369 non-null  object\n",
      " 11  NotRepaired        283215 non-null  object\n",
      " 12  DateCreated        354369 non-null  object\n",
      " 13  NumberOfPictures   354369 non-null  int64 \n",
      " 14  PostalCode         354369 non-null  int64 \n",
      " 15  LastSeen           354369 non-null  object\n",
      "dtypes: int64(7), object(9)\n",
      "memory usage: 43.3+ MB\n",
      "None\n",
      "Количество дубликатов: 4\n"
     ]
    }
   ],
   "source": [
    "file_path = \"/datasets/autos.csv\"\n",
    "data = pd.read_csv(file_path)\n",
    "display(data.head(10))\n",
    "print(data.info())\n",
    "print('Количество дубликатов:', sum(data.duplicated()))"
   ]
  },
  {
   "cell_type": "code",
   "execution_count": 3,
   "metadata": {},
   "outputs": [
    {
     "data": {
      "text/html": [
       "<div>\n",
       "<style scoped>\n",
       "    .dataframe tbody tr th:only-of-type {\n",
       "        vertical-align: middle;\n",
       "    }\n",
       "\n",
       "    .dataframe tbody tr th {\n",
       "        vertical-align: top;\n",
       "    }\n",
       "\n",
       "    .dataframe thead th {\n",
       "        text-align: right;\n",
       "    }\n",
       "</style>\n",
       "<table border=\"1\" class=\"dataframe\">\n",
       "  <thead>\n",
       "    <tr style=\"text-align: right;\">\n",
       "      <th></th>\n",
       "      <th>Price</th>\n",
       "      <th>RegistrationYear</th>\n",
       "      <th>Power</th>\n",
       "      <th>Kilometer</th>\n",
       "      <th>RegistrationMonth</th>\n",
       "      <th>NumberOfPictures</th>\n",
       "      <th>PostalCode</th>\n",
       "    </tr>\n",
       "  </thead>\n",
       "  <tbody>\n",
       "    <tr>\n",
       "      <th>count</th>\n",
       "      <td>354369.000000</td>\n",
       "      <td>354369.000000</td>\n",
       "      <td>354369.000000</td>\n",
       "      <td>354369.000000</td>\n",
       "      <td>354369.000000</td>\n",
       "      <td>354369.0</td>\n",
       "      <td>354369.000000</td>\n",
       "    </tr>\n",
       "    <tr>\n",
       "      <th>mean</th>\n",
       "      <td>4416.656776</td>\n",
       "      <td>2004.234448</td>\n",
       "      <td>110.094337</td>\n",
       "      <td>128211.172535</td>\n",
       "      <td>5.714645</td>\n",
       "      <td>0.0</td>\n",
       "      <td>50508.689087</td>\n",
       "    </tr>\n",
       "    <tr>\n",
       "      <th>std</th>\n",
       "      <td>4514.158514</td>\n",
       "      <td>90.227958</td>\n",
       "      <td>189.850405</td>\n",
       "      <td>37905.341530</td>\n",
       "      <td>3.726421</td>\n",
       "      <td>0.0</td>\n",
       "      <td>25783.096248</td>\n",
       "    </tr>\n",
       "    <tr>\n",
       "      <th>min</th>\n",
       "      <td>0.000000</td>\n",
       "      <td>1000.000000</td>\n",
       "      <td>0.000000</td>\n",
       "      <td>5000.000000</td>\n",
       "      <td>0.000000</td>\n",
       "      <td>0.0</td>\n",
       "      <td>1067.000000</td>\n",
       "    </tr>\n",
       "    <tr>\n",
       "      <th>25%</th>\n",
       "      <td>1050.000000</td>\n",
       "      <td>1999.000000</td>\n",
       "      <td>69.000000</td>\n",
       "      <td>125000.000000</td>\n",
       "      <td>3.000000</td>\n",
       "      <td>0.0</td>\n",
       "      <td>30165.000000</td>\n",
       "    </tr>\n",
       "    <tr>\n",
       "      <th>50%</th>\n",
       "      <td>2700.000000</td>\n",
       "      <td>2003.000000</td>\n",
       "      <td>105.000000</td>\n",
       "      <td>150000.000000</td>\n",
       "      <td>6.000000</td>\n",
       "      <td>0.0</td>\n",
       "      <td>49413.000000</td>\n",
       "    </tr>\n",
       "    <tr>\n",
       "      <th>75%</th>\n",
       "      <td>6400.000000</td>\n",
       "      <td>2008.000000</td>\n",
       "      <td>143.000000</td>\n",
       "      <td>150000.000000</td>\n",
       "      <td>9.000000</td>\n",
       "      <td>0.0</td>\n",
       "      <td>71083.000000</td>\n",
       "    </tr>\n",
       "    <tr>\n",
       "      <th>max</th>\n",
       "      <td>20000.000000</td>\n",
       "      <td>9999.000000</td>\n",
       "      <td>20000.000000</td>\n",
       "      <td>150000.000000</td>\n",
       "      <td>12.000000</td>\n",
       "      <td>0.0</td>\n",
       "      <td>99998.000000</td>\n",
       "    </tr>\n",
       "  </tbody>\n",
       "</table>\n",
       "</div>"
      ],
      "text/plain": [
       "               Price  RegistrationYear          Power      Kilometer  \\\n",
       "count  354369.000000     354369.000000  354369.000000  354369.000000   \n",
       "mean     4416.656776       2004.234448     110.094337  128211.172535   \n",
       "std      4514.158514         90.227958     189.850405   37905.341530   \n",
       "min         0.000000       1000.000000       0.000000    5000.000000   \n",
       "25%      1050.000000       1999.000000      69.000000  125000.000000   \n",
       "50%      2700.000000       2003.000000     105.000000  150000.000000   \n",
       "75%      6400.000000       2008.000000     143.000000  150000.000000   \n",
       "max     20000.000000       9999.000000   20000.000000  150000.000000   \n",
       "\n",
       "       RegistrationMonth  NumberOfPictures     PostalCode  \n",
       "count      354369.000000          354369.0  354369.000000  \n",
       "mean            5.714645               0.0   50508.689087  \n",
       "std             3.726421               0.0   25783.096248  \n",
       "min             0.000000               0.0    1067.000000  \n",
       "25%             3.000000               0.0   30165.000000  \n",
       "50%             6.000000               0.0   49413.000000  \n",
       "75%             9.000000               0.0   71083.000000  \n",
       "max            12.000000               0.0   99998.000000  "
      ]
     },
     "execution_count": 3,
     "metadata": {},
     "output_type": "execute_result"
    }
   ],
   "source": [
    "data.describe()"
   ]
  },
  {
   "cell_type": "markdown",
   "metadata": {},
   "source": [
    "- Признаки NumberOfPictures, PostalCode не несут полезной информации, удалим их.\n",
    "- Также DateCrawled повторяет дату в признаке DateCreated.\n",
    "- Признак Brand скорее всего будет лишним при наличии конкретной модели автомобиля в признаке Model.\n",
    "- RegistrationMonth распределён равномерно и по смыслу вряд ли влияет на цену автомобиля.\n",
    "- Избавимся от дублированний и неинформативных признак"
   ]
  },
  {
   "cell_type": "markdown",
   "metadata": {},
   "source": [
    "Построим распределения данных в числовых признаках и на их зависимости от целевого признака price"
   ]
  },
  {
   "cell_type": "code",
   "execution_count": 4,
   "metadata": {},
   "outputs": [],
   "source": [
    "#sns.pairplot(data)"
   ]
  },
  {
   "cell_type": "markdown",
   "metadata": {},
   "source": [
    "### Предобработка данных"
   ]
  },
  {
   "cell_type": "markdown",
   "metadata": {},
   "source": [
    "Удаляем дубликаты:"
   ]
  },
  {
   "cell_type": "code",
   "execution_count": 5,
   "metadata": {},
   "outputs": [],
   "source": [
    "data = data.drop_duplicates()"
   ]
  },
  {
   "cell_type": "code",
   "execution_count": 6,
   "metadata": {},
   "outputs": [
    {
     "data": {
      "text/plain": [
       "DateCrawled              0\n",
       "Price                    0\n",
       "VehicleType          37490\n",
       "RegistrationYear         0\n",
       "Gearbox              19833\n",
       "Power                    0\n",
       "Model                19705\n",
       "Kilometer                0\n",
       "RegistrationMonth        0\n",
       "FuelType             32895\n",
       "Brand                    0\n",
       "NotRepaired          71154\n",
       "DateCreated              0\n",
       "NumberOfPictures         0\n",
       "PostalCode               0\n",
       "LastSeen                 0\n",
       "dtype: int64"
      ]
     },
     "execution_count": 6,
     "metadata": {},
     "output_type": "execute_result"
    }
   ],
   "source": [
    "data.isnull().sum()"
   ]
  },
  {
   "cell_type": "markdown",
   "metadata": {},
   "source": [
    "Проверим нулевые значения:"
   ]
  },
  {
   "cell_type": "markdown",
   "metadata": {},
   "source": [
    "#### Price "
   ]
  },
  {
   "cell_type": "code",
   "execution_count": 7,
   "metadata": {},
   "outputs": [
    {
     "data": {
      "text/plain": [
       "10772"
      ]
     },
     "execution_count": 7,
     "metadata": {},
     "output_type": "execute_result"
    }
   ],
   "source": [
    "len(data.loc[data['Price'] == 0])"
   ]
  },
  {
   "cell_type": "markdown",
   "metadata": {},
   "source": [
    "В 10771 объявлении продавцы не указали цену. Заполнение данных значений по моему мнению снизит точность предсказаний. Удаляю их"
   ]
  },
  {
   "cell_type": "code",
   "execution_count": 8,
   "metadata": {},
   "outputs": [
    {
     "data": {
      "text/plain": [
       "0.03135104615053275"
      ]
     },
     "execution_count": 8,
     "metadata": {},
     "output_type": "execute_result"
    }
   ],
   "source": [
    "len(data.loc[data['Price'] == 0]) / len(data.loc[data['Price'] != 0])"
   ]
  },
  {
   "cell_type": "markdown",
   "metadata": {},
   "source": [
    "Данные значения составляют 3% от выборки"
   ]
  },
  {
   "cell_type": "code",
   "execution_count": 9,
   "metadata": {},
   "outputs": [],
   "source": [
    "data = data.loc[data['Price'] != 0]"
   ]
  },
  {
   "cell_type": "code",
   "execution_count": 10,
   "metadata": {},
   "outputs": [
    {
     "data": {
      "text/plain": [
       "<AxesSubplot:xlabel='Price', ylabel='Count'>"
      ]
     },
     "execution_count": 10,
     "metadata": {},
     "output_type": "execute_result"
    },
    {
     "data": {
      "image/png": "[encoded data removed]",
      "text/plain": [
       "<Figure size 432x288 with 1 Axes>"
      ]
     },
     "metadata": {
      "needs_background": "light"
     },
     "output_type": "display_data"
    }
   ],
   "source": [
    "sns.histplot(data['Price'], bins=20)"
   ]
  },
  {
   "cell_type": "markdown",
   "metadata": {},
   "source": [
    "#### Model"
   ]
  },
  {
   "cell_type": "code",
   "execution_count": 11,
   "metadata": {
    "scrolled": true
   },
   "outputs": [
    {
     "data": {
      "text/plain": [
       "17521"
      ]
     },
     "execution_count": 11,
     "metadata": {},
     "output_type": "execute_result"
    }
   ],
   "source": [
    "len(data.loc[data['Model'].isna()])"
   ]
  },
  {
   "cell_type": "code",
   "execution_count": 12,
   "metadata": {},
   "outputs": [
    {
     "data": {
      "text/plain": [
       "0.05099347192754218"
      ]
     },
     "execution_count": 12,
     "metadata": {},
     "output_type": "execute_result"
    }
   ],
   "source": [
    " len(data.loc[data['Model'].isna()]) /len(data.loc[data['Model'] != 'Nan'])"
   ]
  },
  {
   "cell_type": "markdown",
   "metadata": {},
   "source": [
    "Пропущено 5.1% данных. ДАнный признак сильно влияет на цену, его заполнение может стать причиной искажения предсказаний. Данные лучше удалить."
   ]
  },
  {
   "cell_type": "code",
   "execution_count": 13,
   "metadata": {},
   "outputs": [],
   "source": [
    "data = data.loc[~data['Model'].isna()]"
   ]
  },
  {
   "cell_type": "markdown",
   "metadata": {},
   "source": [
    "#### Power"
   ]
  },
  {
   "cell_type": "markdown",
   "metadata": {},
   "source": [
    "Так как средняя мощность автомобилей в России 117, предположим, что мощность более 1000л.с. - маловероятно, заменим значения модели и мощности медианными:"
   ]
  },
  {
   "cell_type": "code",
   "execution_count": 14,
   "metadata": {},
   "outputs": [],
   "source": [
    "data.loc[(data['Power'] > 1000) | (data['Power'] <= 0), 'Power'] = None\n",
    "data['Power'] = data['Power'].fillna(data.groupby('Model')['Power'].transform('median'))\n",
    "data = data.loc[~data['Power'].isna()]\n",
    "data['Power'] = data['Power'].astype('int64')"
   ]
  },
  {
   "cell_type": "code",
   "execution_count": 15,
   "metadata": {},
   "outputs": [
    {
     "data": {
      "text/plain": [
       "<AxesSubplot:xlabel='Power', ylabel='Count'>"
      ]
     },
     "execution_count": 15,
     "metadata": {},
     "output_type": "execute_result"
    },
    {
     "data": {
      "image/png": "[encoded data removed]",
      "text/plain": [
       "<Figure size 432x288 with 1 Axes>"
      ]
     },
     "metadata": {
      "needs_background": "light"
     },
     "output_type": "display_data"
    }
   ],
   "source": [
    "sns.histplot(data['Power'], bins=20)"
   ]
  },
  {
   "cell_type": "code",
   "execution_count": 16,
   "metadata": {},
   "outputs": [
    {
     "data": {
      "text/plain": [
       "<AxesSubplot:xlabel='Power', ylabel='Price'>"
      ]
     },
     "execution_count": 16,
     "metadata": {},
     "output_type": "execute_result"
    },
    {
     "data": {
      "image/png": "[encoded data removed]",
      "text/plain": [
       "<Figure size 432x288 with 1 Axes>"
      ]
     },
     "metadata": {
      "needs_background": "light"
     },
     "output_type": "display_data"
    }
   ],
   "source": [
    "sns.scatterplot(x='Power', y='Price', data=data, alpha = 0.1)"
   ]
  },
  {
   "cell_type": "markdown",
   "metadata": {},
   "source": [
    "#### Признаки DateCreated и LastSeen"
   ]
  },
  {
   "cell_type": "markdown",
   "metadata": {},
   "source": [
    "Найдем дату самого первого объявления:"
   ]
  },
  {
   "cell_type": "code",
   "execution_count": 17,
   "metadata": {},
   "outputs": [
    {
     "data": {
      "text/plain": [
       "'2014-03-10 00:00:00'"
      ]
     },
     "execution_count": 17,
     "metadata": {},
     "output_type": "execute_result"
    }
   ],
   "source": [
    "min(data['DateCreated'])"
   ]
  },
  {
   "cell_type": "markdown",
   "metadata": {},
   "source": [
    "Признаки DateCreated и LastSeen преобразуем в количество дней с момента 2014-03-01."
   ]
  },
  {
   "cell_type": "code",
   "execution_count": 18,
   "metadata": {},
   "outputs": [],
   "source": [
    "base_date = pd.Timestamp('2014-03-01 00:00:00')\n",
    "data['DateCreated'] = data['DateCreated'].map(lambda date : (pd.Timestamp(date) - base_date).days)"
   ]
  },
  {
   "cell_type": "code",
   "execution_count": 19,
   "metadata": {},
   "outputs": [],
   "source": [
    "data['LastSeen'] = data['LastSeen'].map(lambda date : (pd.Timestamp(date) - base_date).days)"
   ]
  },
  {
   "cell_type": "markdown",
   "metadata": {},
   "source": [
    "#### Признак RegistrationYear"
   ]
  },
  {
   "cell_type": "markdown",
   "metadata": {},
   "source": [
    "Отберем некорректно указанный год регистрации:"
   ]
  },
  {
   "cell_type": "code",
   "execution_count": 20,
   "metadata": {},
   "outputs": [
    {
     "data": {
      "text/plain": [
       "58"
      ]
     },
     "execution_count": 20,
     "metadata": {},
     "output_type": "execute_result"
    }
   ],
   "source": [
    "len(data.loc[data['RegistrationYear'] > 2020])"
   ]
  },
  {
   "cell_type": "code",
   "execution_count": 21,
   "metadata": {},
   "outputs": [
    {
     "data": {
      "text/html": [
       "<div>\n",
       "<style scoped>\n",
       "    .dataframe tbody tr th:only-of-type {\n",
       "        vertical-align: middle;\n",
       "    }\n",
       "\n",
       "    .dataframe tbody tr th {\n",
       "        vertical-align: top;\n",
       "    }\n",
       "\n",
       "    .dataframe thead th {\n",
       "        text-align: right;\n",
       "    }\n",
       "</style>\n",
       "<table border=\"1\" class=\"dataframe\">\n",
       "  <thead>\n",
       "    <tr style=\"text-align: right;\">\n",
       "      <th></th>\n",
       "      <th>DateCrawled</th>\n",
       "      <th>Price</th>\n",
       "      <th>VehicleType</th>\n",
       "      <th>RegistrationYear</th>\n",
       "      <th>Gearbox</th>\n",
       "      <th>Power</th>\n",
       "      <th>Model</th>\n",
       "      <th>Kilometer</th>\n",
       "      <th>RegistrationMonth</th>\n",
       "      <th>FuelType</th>\n",
       "      <th>Brand</th>\n",
       "      <th>NotRepaired</th>\n",
       "      <th>DateCreated</th>\n",
       "      <th>NumberOfPictures</th>\n",
       "      <th>PostalCode</th>\n",
       "      <th>LastSeen</th>\n",
       "    </tr>\n",
       "  </thead>\n",
       "  <tbody>\n",
       "    <tr>\n",
       "      <th>12946</th>\n",
       "      <td>2016-03-29 18:39:40</td>\n",
       "      <td>49</td>\n",
       "      <td>NaN</td>\n",
       "      <td>5000</td>\n",
       "      <td>NaN</td>\n",
       "      <td>101</td>\n",
       "      <td>golf</td>\n",
       "      <td>5000</td>\n",
       "      <td>12</td>\n",
       "      <td>NaN</td>\n",
       "      <td>volkswagen</td>\n",
       "      <td>NaN</td>\n",
       "      <td>759</td>\n",
       "      <td>0</td>\n",
       "      <td>74523</td>\n",
       "      <td>767</td>\n",
       "    </tr>\n",
       "    <tr>\n",
       "      <th>17271</th>\n",
       "      <td>2016-03-23 16:43:29</td>\n",
       "      <td>700</td>\n",
       "      <td>NaN</td>\n",
       "      <td>9999</td>\n",
       "      <td>NaN</td>\n",
       "      <td>116</td>\n",
       "      <td>other</td>\n",
       "      <td>10000</td>\n",
       "      <td>0</td>\n",
       "      <td>NaN</td>\n",
       "      <td>opel</td>\n",
       "      <td>NaN</td>\n",
       "      <td>753</td>\n",
       "      <td>0</td>\n",
       "      <td>21769</td>\n",
       "      <td>766</td>\n",
       "    </tr>\n",
       "    <tr>\n",
       "      <th>18259</th>\n",
       "      <td>2016-03-16 20:37:54</td>\n",
       "      <td>300</td>\n",
       "      <td>NaN</td>\n",
       "      <td>2200</td>\n",
       "      <td>NaN</td>\n",
       "      <td>58</td>\n",
       "      <td>twingo</td>\n",
       "      <td>5000</td>\n",
       "      <td>12</td>\n",
       "      <td>NaN</td>\n",
       "      <td>renault</td>\n",
       "      <td>NaN</td>\n",
       "      <td>746</td>\n",
       "      <td>0</td>\n",
       "      <td>45307</td>\n",
       "      <td>768</td>\n",
       "    </tr>\n",
       "    <tr>\n",
       "      <th>26382</th>\n",
       "      <td>2016-03-07 20:50:57</td>\n",
       "      <td>150</td>\n",
       "      <td>NaN</td>\n",
       "      <td>3000</td>\n",
       "      <td>NaN</td>\n",
       "      <td>95</td>\n",
       "      <td>a_klasse</td>\n",
       "      <td>5000</td>\n",
       "      <td>0</td>\n",
       "      <td>NaN</td>\n",
       "      <td>mercedes_benz</td>\n",
       "      <td>NaN</td>\n",
       "      <td>737</td>\n",
       "      <td>0</td>\n",
       "      <td>28217</td>\n",
       "      <td>738</td>\n",
       "    </tr>\n",
       "    <tr>\n",
       "      <th>26560</th>\n",
       "      <td>2016-03-24 17:45:47</td>\n",
       "      <td>800</td>\n",
       "      <td>NaN</td>\n",
       "      <td>2066</td>\n",
       "      <td>NaN</td>\n",
       "      <td>125</td>\n",
       "      <td>zafira</td>\n",
       "      <td>5000</td>\n",
       "      <td>0</td>\n",
       "      <td>gasoline</td>\n",
       "      <td>opel</td>\n",
       "      <td>NaN</td>\n",
       "      <td>754</td>\n",
       "      <td>0</td>\n",
       "      <td>45355</td>\n",
       "      <td>759</td>\n",
       "    </tr>\n",
       "    <tr>\n",
       "      <th>28390</th>\n",
       "      <td>2016-04-05 08:57:08</td>\n",
       "      <td>799</td>\n",
       "      <td>NaN</td>\n",
       "      <td>9999</td>\n",
       "      <td>NaN</td>\n",
       "      <td>150</td>\n",
       "      <td>3er</td>\n",
       "      <td>10000</td>\n",
       "      <td>4</td>\n",
       "      <td>petrol</td>\n",
       "      <td>bmw</td>\n",
       "      <td>NaN</td>\n",
       "      <td>766</td>\n",
       "      <td>0</td>\n",
       "      <td>72116</td>\n",
       "      <td>768</td>\n",
       "    </tr>\n",
       "    <tr>\n",
       "      <th>28965</th>\n",
       "      <td>2016-04-04 22:54:47</td>\n",
       "      <td>18000</td>\n",
       "      <td>NaN</td>\n",
       "      <td>9999</td>\n",
       "      <td>NaN</td>\n",
       "      <td>95</td>\n",
       "      <td>a_klasse</td>\n",
       "      <td>10000</td>\n",
       "      <td>0</td>\n",
       "      <td>petrol</td>\n",
       "      <td>mercedes_benz</td>\n",
       "      <td>NaN</td>\n",
       "      <td>765</td>\n",
       "      <td>0</td>\n",
       "      <td>51379</td>\n",
       "      <td>768</td>\n",
       "    </tr>\n",
       "    <tr>\n",
       "      <th>29426</th>\n",
       "      <td>2016-03-23 21:52:25</td>\n",
       "      <td>7999</td>\n",
       "      <td>NaN</td>\n",
       "      <td>9999</td>\n",
       "      <td>NaN</td>\n",
       "      <td>44</td>\n",
       "      <td>kaefer</td>\n",
       "      <td>10000</td>\n",
       "      <td>0</td>\n",
       "      <td>NaN</td>\n",
       "      <td>volkswagen</td>\n",
       "      <td>NaN</td>\n",
       "      <td>753</td>\n",
       "      <td>0</td>\n",
       "      <td>47638</td>\n",
       "      <td>767</td>\n",
       "    </tr>\n",
       "    <tr>\n",
       "      <th>40954</th>\n",
       "      <td>2016-03-07 14:48:23</td>\n",
       "      <td>59</td>\n",
       "      <td>NaN</td>\n",
       "      <td>8000</td>\n",
       "      <td>NaN</td>\n",
       "      <td>116</td>\n",
       "      <td>other</td>\n",
       "      <td>10000</td>\n",
       "      <td>0</td>\n",
       "      <td>NaN</td>\n",
       "      <td>chevrolet</td>\n",
       "      <td>NaN</td>\n",
       "      <td>737</td>\n",
       "      <td>0</td>\n",
       "      <td>31061</td>\n",
       "      <td>768</td>\n",
       "    </tr>\n",
       "    <tr>\n",
       "      <th>45662</th>\n",
       "      <td>2016-03-23 17:40:00</td>\n",
       "      <td>999</td>\n",
       "      <td>NaN</td>\n",
       "      <td>9000</td>\n",
       "      <td>NaN</td>\n",
       "      <td>69</td>\n",
       "      <td>fiesta</td>\n",
       "      <td>10000</td>\n",
       "      <td>0</td>\n",
       "      <td>NaN</td>\n",
       "      <td>ford</td>\n",
       "      <td>yes</td>\n",
       "      <td>753</td>\n",
       "      <td>0</td>\n",
       "      <td>50733</td>\n",
       "      <td>766</td>\n",
       "    </tr>\n",
       "  </tbody>\n",
       "</table>\n",
       "</div>"
      ],
      "text/plain": [
       "               DateCrawled  Price VehicleType  RegistrationYear Gearbox  \\\n",
       "12946  2016-03-29 18:39:40     49         NaN              5000     NaN   \n",
       "17271  2016-03-23 16:43:29    700         NaN              9999     NaN   \n",
       "18259  2016-03-16 20:37:54    300         NaN              2200     NaN   \n",
       "26382  2016-03-07 20:50:57    150         NaN              3000     NaN   \n",
       "26560  2016-03-24 17:45:47    800         NaN              2066     NaN   \n",
       "28390  2016-04-05 08:57:08    799         NaN              9999     NaN   \n",
       "28965  2016-04-04 22:54:47  18000         NaN              9999     NaN   \n",
       "29426  2016-03-23 21:52:25   7999         NaN              9999     NaN   \n",
       "40954  2016-03-07 14:48:23     59         NaN              8000     NaN   \n",
       "45662  2016-03-23 17:40:00    999         NaN              9000     NaN   \n",
       "\n",
       "       Power     Model  Kilometer  RegistrationMonth  FuelType          Brand  \\\n",
       "12946    101      golf       5000                 12       NaN     volkswagen   \n",
       "17271    116     other      10000                  0       NaN           opel   \n",
       "18259     58    twingo       5000                 12       NaN        renault   \n",
       "26382     95  a_klasse       5000                  0       NaN  mercedes_benz   \n",
       "26560    125    zafira       5000                  0  gasoline           opel   \n",
       "28390    150       3er      10000                  4    petrol            bmw   \n",
       "28965     95  a_klasse      10000                  0    petrol  mercedes_benz   \n",
       "29426     44    kaefer      10000                  0       NaN     volkswagen   \n",
       "40954    116     other      10000                  0       NaN      chevrolet   \n",
       "45662     69    fiesta      10000                  0       NaN           ford   \n",
       "\n",
       "      NotRepaired  DateCreated  NumberOfPictures  PostalCode  LastSeen  \n",
       "12946         NaN          759                 0       74523       767  \n",
       "17271         NaN          753                 0       21769       766  \n",
       "18259         NaN          746                 0       45307       768  \n",
       "26382         NaN          737                 0       28217       738  \n",
       "26560         NaN          754                 0       45355       759  \n",
       "28390         NaN          766                 0       72116       768  \n",
       "28965         NaN          765                 0       51379       768  \n",
       "29426         NaN          753                 0       47638       767  \n",
       "40954         NaN          737                 0       31061       768  \n",
       "45662         yes          753                 0       50733       766  "
      ]
     },
     "execution_count": 21,
     "metadata": {},
     "output_type": "execute_result"
    }
   ],
   "source": [
    "data.loc[data['RegistrationYear'] > 2020].head(10)"
   ]
  },
  {
   "cell_type": "markdown",
   "metadata": {},
   "source": [
    "Данные внесут путаницу в модель, так как цена, с неправильным годом регистрации только испортит статистику. Данные удаляем."
   ]
  },
  {
   "cell_type": "code",
   "execution_count": 22,
   "metadata": {},
   "outputs": [],
   "source": [
    "data = data.loc[data['RegistrationYear'] <= 2020]"
   ]
  },
  {
   "cell_type": "markdown",
   "metadata": {},
   "source": [
    "#### Признаки VehicleType, Gearbox, FuelType"
   ]
  },
  {
   "cell_type": "markdown",
   "metadata": {},
   "source": [
    "Данные параметры c большой вероятностью одинаковы в одинаковых моделях автомобилей. Заполним пропуски в данных признаках наиболее частым значением той же модели."
   ]
  },
  {
   "cell_type": "code",
   "execution_count": 23,
   "metadata": {},
   "outputs": [],
   "source": [
    "data['VehicleType'] = data['VehicleType'].fillna(data\n",
    "                                                  .groupby('Model')['VehicleType']\n",
    "                                                  .transform(lambda x: x.value_counts().idxmax())\n",
    "                                                 )"
   ]
  },
  {
   "cell_type": "code",
   "execution_count": 24,
   "metadata": {},
   "outputs": [],
   "source": [
    "data['Gearbox'] = data['Gearbox'].fillna(data\n",
    "                                                  .groupby('Model')['Gearbox']\n",
    "                                                  .transform(lambda x: x.value_counts().idxmax())\n",
    "                                                 )"
   ]
  },
  {
   "cell_type": "code",
   "execution_count": 25,
   "metadata": {},
   "outputs": [],
   "source": [
    "data['FuelType'] = data['FuelType'].fillna(data\n",
    "                                           .groupby('Model')['FuelType']\n",
    "                                           .transform(lambda x: x.value_counts().idxmax())\n",
    "                                          )"
   ]
  },
  {
   "cell_type": "code",
   "execution_count": 26,
   "metadata": {},
   "outputs": [
    {
     "data": {
      "text/plain": [
       "petrol      221458\n",
       "gasoline     98790\n",
       "lpg           4845\n",
       "cng            533\n",
       "hybrid         204\n",
       "other          118\n",
       "electric        65\n",
       "Name: FuelType, dtype: int64"
      ]
     },
     "execution_count": 26,
     "metadata": {},
     "output_type": "execute_result"
    }
   ],
   "source": [
    "data['FuelType'].value_counts()"
   ]
  },
  {
   "cell_type": "markdown",
   "metadata": {},
   "source": [
    "#### Признак NotRepaired"
   ]
  },
  {
   "cell_type": "code",
   "execution_count": 27,
   "metadata": {},
   "outputs": [],
   "source": [
    "data['NotRepaired'] = data['NotRepaired'].fillna('unknown')"
   ]
  },
  {
   "cell_type": "code",
   "execution_count": 28,
   "metadata": {},
   "outputs": [
    {
     "name": "stdout",
     "output_type": "stream",
     "text": [
      "<class 'pandas.core.frame.DataFrame'>\n",
      "Int64Index: 326013 entries, 0 to 354368\n",
      "Data columns (total 16 columns):\n",
      " #   Column             Non-Null Count   Dtype \n",
      "---  ------             --------------   ----- \n",
      " 0   DateCrawled        326013 non-null  object\n",
      " 1   Price              326013 non-null  int64 \n",
      " 2   VehicleType        326013 non-null  object\n",
      " 3   RegistrationYear   326013 non-null  int64 \n",
      " 4   Gearbox            326013 non-null  object\n",
      " 5   Power              326013 non-null  int64 \n",
      " 6   Model              326013 non-null  object\n",
      " 7   Kilometer          326013 non-null  int64 \n",
      " 8   RegistrationMonth  326013 non-null  int64 \n",
      " 9   FuelType           326013 non-null  object\n",
      " 10  Brand              326013 non-null  object\n",
      " 11  NotRepaired        326013 non-null  object\n",
      " 12  DateCreated        326013 non-null  int64 \n",
      " 13  NumberOfPictures   326013 non-null  int64 \n",
      " 14  PostalCode         326013 non-null  int64 \n",
      " 15  LastSeen           326013 non-null  int64 \n",
      "dtypes: int64(9), object(7)\n",
      "memory usage: 42.3+ MB\n"
     ]
    }
   ],
   "source": [
    "data.info()"
   ]
  },
  {
   "cell_type": "markdown",
   "metadata": {},
   "source": [
    "Выделим целевое значение и признаки\n",
    "\n",
    "Разобьем данные на train и test, в соотношении 4 к 1\n",
    "\n",
    "Train дополнительно разобьем на train_valid и valid, так же в соотношении 4 к 1"
   ]
  },
  {
   "cell_type": "code",
   "execution_count": 29,
   "metadata": {},
   "outputs": [],
   "source": [
    "col_to_drop = ['DateCrawled', 'LastSeen', 'DateCreated', 'NumberOfPictures']\n",
    "data = data.drop(columns=col_to_drop)\n",
    "\n",
    "cat_col = ['VehicleType', 'Gearbox', 'Model', 'FuelType',\n",
    "           'Brand', 'RegistrationMonth', 'NotRepaired']"
   ]
  },
  {
   "cell_type": "code",
   "execution_count": 30,
   "metadata": {},
   "outputs": [],
   "source": [
    "data[cat_col] = data[cat_col].fillna('Nan')"
   ]
  },
  {
   "cell_type": "code",
   "execution_count": 31,
   "metadata": {},
   "outputs": [
    {
     "name": "stdout",
     "output_type": "stream",
     "text": [
      "Train/test shapes:\n",
      "(260810, 11) (65203, 11) (260810,) (65203,)\n"
     ]
    }
   ],
   "source": [
    "X = data.drop(columns='Price')\n",
    "y = data['Price']\n",
    "\n",
    "X_train, X_test, y_train, y_test = train_test_split(X, y, test_size=0.2, random_state=21)\n",
    "#X_train_valid, X_valid, y_train_valid, y_valid = train_test_split(X_train, y_train, test_size=0.2, random_state=21)\n",
    "\n",
    "#print('Valid shapes:')\n",
    "#print(X_train_valid.shape, X_valid.shape, y_train_valid.shape, y_valid.shape)\n",
    "print('Train/test shapes:')\n",
    "print(X_train.shape, X_test.shape, y_train.shape, y_test.shape)"
   ]
  },
  {
   "cell_type": "markdown",
   "metadata": {},
   "source": [
    "## Обучение моделей"
   ]
  },
  {
   "cell_type": "markdown",
   "metadata": {},
   "source": [
    "Действовать будем по следующему плану:\n",
    "\n",
    "Напишем функцию которой на вход будут подаваться модель и датасеты и она будет возвращать время обучения, время предсказания и rmse\n",
    "Проверим 3 модели: Ridge, CatBoost, LightGBM.\n",
    "Для каждой моделии найдем лучшие гиперпараметры, и измерим время обучения на train\n",
    "Сведем данные по всем моделям в 1 таблицу"
   ]
  },
  {
   "cell_type": "code",
   "execution_count": 32,
   "metadata": {},
   "outputs": [],
   "source": [
    "def model_eval(model, X_train, y_train, X_test, y_test):\n",
    "    \n",
    "    start = time.time()    \n",
    "    model.fit(X_train, y_train)\n",
    "    training_time = time.time() - start\n",
    "    \n",
    "    start = time.time()  \n",
    "    y_pred = model.predict(X_test)\n",
    "    predict_time = time.time() - start\n",
    "\n",
    "    return training_time, predict_time, mse(y_test, y_pred)**0.5"
   ]
  },
  {
   "cell_type": "markdown",
   "metadata": {},
   "source": [
    "\n",
    "**Ridge**\n",
    "\n",
    "\n",
    "- Подготовим пайплайн: OHE -> scaler -> ridge\n",
    "- На кросс валидации найдем лучшие параметры модели\n",
    "- Измерим время обучения и запишем результаты на тесте."
   ]
  },
  {
   "cell_type": "code",
   "execution_count": 33,
   "metadata": {},
   "outputs": [],
   "source": [
    "res = []"
   ]
  },
  {
   "cell_type": "code",
   "execution_count": 34,
   "metadata": {},
   "outputs": [],
   "source": [
    "pipe = Pipeline([\n",
    "    ('ohe', OneHotEncoder(handle_unknown='ignore')),\n",
    "    ('scaler', StandardScaler(with_mean=False)),\n",
    "    ('model', Ridge(random_state=SEED))\n",
    "])\n",
    "\n",
    "params = [\n",
    "    {\n",
    "        'model__alpha': np.logspace(-2, 2, 20)\n",
    "    } \n",
    "]"
   ]
  },
  {
   "cell_type": "code",
   "execution_count": 35,
   "metadata": {},
   "outputs": [],
   "source": [
    "cv = KFold(n_splits=3, shuffle=True, random_state=SEED)\n",
    "\n",
    "grid = GridSearchCV(pipe,\n",
    "                    param_grid=params,\n",
    "                    cv=cv,\n",
    "                    scoring='neg_mean_squared_error',\n",
    "                    n_jobs=-1,\n",
    "                    verbose=False)"
   ]
  },
  {
   "cell_type": "code",
   "execution_count": 36,
   "metadata": {},
   "outputs": [
    {
     "name": "stdout",
     "output_type": "stream",
     "text": [
      "CPU times: user 40.4 s, sys: 2.36 s, total: 42.7 s\n",
      "Wall time: 43 s\n"
     ]
    },
    {
     "data": {
      "text/plain": [
       "GridSearchCV(cv=KFold(n_splits=3, random_state=21, shuffle=True),\n",
       "             estimator=Pipeline(steps=[('ohe',\n",
       "                                        OneHotEncoder(handle_unknown='ignore')),\n",
       "                                       ('scaler',\n",
       "                                        StandardScaler(with_mean=False)),\n",
       "                                       ('model', Ridge(random_state=21))]),\n",
       "             n_jobs=-1,\n",
       "             param_grid=[{'model__alpha': array([1.00000000e-02, 1.62377674e-02, 2.63665090e-02, 4.28133240e-02,\n",
       "       6.95192796e-02, 1.12883789e-01, 1.83298071e-01, 2.97635144e-01,\n",
       "       4.83293024e-01, 7.84759970e-01, 1.27427499e+00, 2.06913808e+00,\n",
       "       3.35981829e+00, 5.45559478e+00, 8.85866790e+00, 1.43844989e+01,\n",
       "       2.33572147e+01, 3.79269019e+01, 6.15848211e+01, 1.00000000e+02])}],\n",
       "             scoring='neg_mean_squared_error', verbose=False)"
      ]
     },
     "execution_count": 36,
     "metadata": {},
     "output_type": "execute_result"
    }
   ],
   "source": [
    "%%time\n",
    "grid.fit(X_train, y_train);"
   ]
  },
  {
   "cell_type": "code",
   "execution_count": 37,
   "metadata": {},
   "outputs": [
    {
     "data": {
      "text/plain": [
       "{'model__alpha': 37.92690190732246}"
      ]
     },
     "execution_count": 37,
     "metadata": {},
     "output_type": "execute_result"
    }
   ],
   "source": [
    "grid.best_params_"
   ]
  },
  {
   "cell_type": "code",
   "execution_count": 38,
   "metadata": {},
   "outputs": [],
   "source": [
    "\n",
    "res.append(model_eval(grid.best_estimator_, X_train, y_train, X_test, y_test))"
   ]
  },
  {
   "cell_type": "markdown",
   "metadata": {},
   "source": [
    "**LightGBM**\n",
    "\n",
    "- Готовим категориальные признаки через Label Encoder\n",
    "- Ищем лучшие параметры по сетке используя Scikit-learn API\n",
    "- Обучаем модель на всей train выборке и замеряем время и RMSE"
   ]
  },
  {
   "cell_type": "code",
   "execution_count": 39,
   "metadata": {},
   "outputs": [],
   "source": [
    "lgb_train = X_train.copy()\n",
    "lgb_test = X_test.copy()\n",
    "\n",
    "\n",
    "cat_col_num = []\n",
    "\n",
    "for col in cat_col:\n",
    "    lgb_train[col] = lgb_train[col].astype('category')\n",
    "    lgb_test[col] = lgb_test[col].astype('category')\n",
    "    cat_col_num.append(data.columns.to_list().index(col))\n",
    "\n",
    "gbm = lgb.LGBMRegressor(boosting_type='gbdt', verbose=0, seed=SEED)\n",
    "\n",
    "\n",
    "params = {\n",
    "    'learning_rate': np.logspace(-3, 0, 5),\n",
    "    'n_estimators': [40, 60],\n",
    "    'num_leaves': [21, 31, 41],\n",
    "}\n",
    "\n",
    "grid_gbm = GridSearchCV(gbm,\n",
    "                        params,\n",
    "                        cv=cv,\n",
    "                        scoring='neg_mean_squared_error',\n",
    "                        verbose=True)"
   ]
  },
  {
   "cell_type": "code",
   "execution_count": 40,
   "metadata": {},
   "outputs": [
    {
     "name": "stdout",
     "output_type": "stream",
     "text": [
      "Fitting 3 folds for each of 30 candidates, totalling 90 fits\n",
      "[LightGBM] [Warning] Auto-choosing row-wise multi-threading, the overhead of testing was 0.005011 seconds.\n",
      "You can set `force_row_wise=true` to remove the overhead.\n",
      "And if memory is not enough, you can set `force_col_wise=true`.\n",
      "[LightGBM] [Warning] Auto-choosing row-wise multi-threading, the overhead of testing was 0.089849 seconds.\n",
      "You can set `force_row_wise=true` to remove the overhead.\n",
      "And if memory is not enough, you can set `force_col_wise=true`.\n",
      "[LightGBM] [Warning] Auto-choosing row-wise multi-threading, the overhead of testing was 0.093028 seconds.\n",
      "You can set `force_row_wise=true` to remove the overhead.\n",
      "And if memory is not enough, you can set `force_col_wise=true`.\n",
      "[LightGBM] [Warning] Auto-choosing row-wise multi-threading, the overhead of testing was 0.005521 seconds.\n",
      "You can set `force_row_wise=true` to remove the overhead.\n",
      "And if memory is not enough, you can set `force_col_wise=true`.\n",
      "[LightGBM] [Warning] Auto-choosing row-wise multi-threading, the overhead of testing was 0.005506 seconds.\n",
      "You can set `force_row_wise=true` to remove the overhead.\n",
      "And if memory is not enough, you can set `force_col_wise=true`.\n",
      "[LightGBM] [Warning] Auto-choosing row-wise multi-threading, the overhead of testing was 0.005095 seconds.\n",
      "You can set `force_row_wise=true` to remove the overhead.\n",
      "And if memory is not enough, you can set `force_col_wise=true`.\n",
      "[LightGBM] [Warning] Auto-choosing row-wise multi-threading, the overhead of testing was 0.092866 seconds.\n",
      "You can set `force_row_wise=true` to remove the overhead.\n",
      "And if memory is not enough, you can set `force_col_wise=true`.\n",
      "[LightGBM] [Warning] Auto-choosing row-wise multi-threading, the overhead of testing was 0.004968 seconds.\n",
      "You can set `force_row_wise=true` to remove the overhead.\n",
      "And if memory is not enough, you can set `force_col_wise=true`.\n",
      "[LightGBM] [Warning] Auto-choosing row-wise multi-threading, the overhead of testing was 0.093569 seconds.\n",
      "You can set `force_row_wise=true` to remove the overhead.\n",
      "And if memory is not enough, you can set `force_col_wise=true`.\n",
      "[LightGBM] [Warning] Auto-choosing row-wise multi-threading, the overhead of testing was 0.004867 seconds.\n",
      "You can set `force_row_wise=true` to remove the overhead.\n",
      "And if memory is not enough, you can set `force_col_wise=true`.\n",
      "[LightGBM] [Warning] Auto-choosing row-wise multi-threading, the overhead of testing was 0.092658 seconds.\n",
      "You can set `force_row_wise=true` to remove the overhead.\n",
      "And if memory is not enough, you can set `force_col_wise=true`.\n",
      "[LightGBM] [Warning] Auto-choosing row-wise multi-threading, the overhead of testing was 0.091408 seconds.\n",
      "You can set `force_row_wise=true` to remove the overhead.\n",
      "And if memory is not enough, you can set `force_col_wise=true`.\n",
      "[LightGBM] [Warning] Auto-choosing row-wise multi-threading, the overhead of testing was 0.004717 seconds.\n",
      "You can set `force_row_wise=true` to remove the overhead.\n",
      "And if memory is not enough, you can set `force_col_wise=true`.\n",
      "[LightGBM] [Warning] Auto-choosing row-wise multi-threading, the overhead of testing was 0.083501 seconds.\n",
      "You can set `force_row_wise=true` to remove the overhead.\n",
      "And if memory is not enough, you can set `force_col_wise=true`.\n",
      "[LightGBM] [Warning] Auto-choosing row-wise multi-threading, the overhead of testing was 0.092893 seconds.\n",
      "You can set `force_row_wise=true` to remove the overhead.\n",
      "And if memory is not enough, you can set `force_col_wise=true`.\n",
      "[LightGBM] [Warning] Auto-choosing row-wise multi-threading, the overhead of testing was 0.004427 seconds.\n",
      "You can set `force_row_wise=true` to remove the overhead.\n",
      "And if memory is not enough, you can set `force_col_wise=true`.\n",
      "[LightGBM] [Warning] Auto-choosing row-wise multi-threading, the overhead of testing was 0.092772 seconds.\n",
      "You can set `force_row_wise=true` to remove the overhead.\n",
      "And if memory is not enough, you can set `force_col_wise=true`.\n",
      "[LightGBM] [Warning] Auto-choosing row-wise multi-threading, the overhead of testing was 0.005177 seconds.\n",
      "You can set `force_row_wise=true` to remove the overhead.\n",
      "And if memory is not enough, you can set `force_col_wise=true`.\n",
      "[LightGBM] [Warning] Auto-choosing row-wise multi-threading, the overhead of testing was 0.007170 seconds.\n",
      "You can set `force_row_wise=true` to remove the overhead.\n",
      "And if memory is not enough, you can set `force_col_wise=true`.\n",
      "[LightGBM] [Warning] Auto-choosing row-wise multi-threading, the overhead of testing was 0.092949 seconds.\n",
      "You can set `force_row_wise=true` to remove the overhead.\n",
      "And if memory is not enough, you can set `force_col_wise=true`.\n",
      "[LightGBM] [Warning] Auto-choosing row-wise multi-threading, the overhead of testing was 0.005556 seconds.\n",
      "You can set `force_row_wise=true` to remove the overhead.\n",
      "And if memory is not enough, you can set `force_col_wise=true`.\n",
      "[LightGBM] [Warning] Auto-choosing row-wise multi-threading, the overhead of testing was 0.005313 seconds.\n",
      "You can set `force_row_wise=true` to remove the overhead.\n",
      "And if memory is not enough, you can set `force_col_wise=true`.\n",
      "[LightGBM] [Warning] Auto-choosing row-wise multi-threading, the overhead of testing was 0.093000 seconds.\n",
      "You can set `force_row_wise=true` to remove the overhead.\n",
      "And if memory is not enough, you can set `force_col_wise=true`.\n",
      "[LightGBM] [Warning] Auto-choosing row-wise multi-threading, the overhead of testing was 0.005222 seconds.\n",
      "You can set `force_row_wise=true` to remove the overhead.\n",
      "And if memory is not enough, you can set `force_col_wise=true`.\n",
      "[LightGBM] [Warning] Auto-choosing row-wise multi-threading, the overhead of testing was 0.005484 seconds.\n",
      "You can set `force_row_wise=true` to remove the overhead.\n",
      "And if memory is not enough, you can set `force_col_wise=true`.\n",
      "[LightGBM] [Warning] Auto-choosing row-wise multi-threading, the overhead of testing was 0.084682 seconds.\n",
      "You can set `force_row_wise=true` to remove the overhead.\n",
      "And if memory is not enough, you can set `force_col_wise=true`.\n",
      "[LightGBM] [Warning] Auto-choosing row-wise multi-threading, the overhead of testing was 0.094710 seconds.\n",
      "You can set `force_row_wise=true` to remove the overhead.\n",
      "And if memory is not enough, you can set `force_col_wise=true`.\n",
      "[LightGBM] [Warning] Auto-choosing row-wise multi-threading, the overhead of testing was 0.004553 seconds.\n",
      "You can set `force_row_wise=true` to remove the overhead.\n",
      "And if memory is not enough, you can set `force_col_wise=true`.\n",
      "[LightGBM] [Warning] Auto-choosing col-wise multi-threading, the overhead of testing was 0.097365 seconds.\n",
      "You can set `force_col_wise=true` to remove the overhead.\n",
      "[LightGBM] [Warning] Auto-choosing row-wise multi-threading, the overhead of testing was 0.005087 seconds.\n",
      "You can set `force_row_wise=true` to remove the overhead.\n",
      "And if memory is not enough, you can set `force_col_wise=true`.\n",
      "[LightGBM] [Warning] Auto-choosing row-wise multi-threading, the overhead of testing was 0.004300 seconds.\n",
      "You can set `force_row_wise=true` to remove the overhead.\n",
      "And if memory is not enough, you can set `force_col_wise=true`.\n",
      "[LightGBM] [Warning] Auto-choosing row-wise multi-threading, the overhead of testing was 0.084010 seconds.\n",
      "You can set `force_row_wise=true` to remove the overhead.\n",
      "And if memory is not enough, you can set `force_col_wise=true`.\n",
      "[LightGBM] [Warning] Auto-choosing row-wise multi-threading, the overhead of testing was 0.093152 seconds.\n",
      "You can set `force_row_wise=true` to remove the overhead.\n",
      "And if memory is not enough, you can set `force_col_wise=true`.\n",
      "[LightGBM] [Warning] Auto-choosing row-wise multi-threading, the overhead of testing was 0.004301 seconds.\n",
      "You can set `force_row_wise=true` to remove the overhead.\n",
      "And if memory is not enough, you can set `force_col_wise=true`.\n",
      "[LightGBM] [Warning] Auto-choosing row-wise multi-threading, the overhead of testing was 0.092597 seconds.\n",
      "You can set `force_row_wise=true` to remove the overhead.\n",
      "And if memory is not enough, you can set `force_col_wise=true`.\n",
      "[LightGBM] [Warning] Auto-choosing row-wise multi-threading, the overhead of testing was 0.005944 seconds.\n",
      "You can set `force_row_wise=true` to remove the overhead.\n",
      "And if memory is not enough, you can set `force_col_wise=true`.\n",
      "[LightGBM] [Warning] Auto-choosing row-wise multi-threading, the overhead of testing was 0.089903 seconds.\n",
      "You can set `force_row_wise=true` to remove the overhead.\n",
      "And if memory is not enough, you can set `force_col_wise=true`.\n",
      "[LightGBM] [Warning] Auto-choosing col-wise multi-threading, the overhead of testing was 0.094923 seconds.\n",
      "You can set `force_col_wise=true` to remove the overhead.\n",
      "[LightGBM] [Warning] Auto-choosing row-wise multi-threading, the overhead of testing was 0.004954 seconds.\n",
      "You can set `force_row_wise=true` to remove the overhead.\n",
      "And if memory is not enough, you can set `force_col_wise=true`.\n",
      "[LightGBM] [Warning] Auto-choosing row-wise multi-threading, the overhead of testing was 0.004572 seconds.\n",
      "You can set `force_row_wise=true` to remove the overhead.\n",
      "And if memory is not enough, you can set `force_col_wise=true`.\n",
      "[LightGBM] [Warning] Auto-choosing row-wise multi-threading, the overhead of testing was 0.004812 seconds.\n",
      "You can set `force_row_wise=true` to remove the overhead.\n",
      "And if memory is not enough, you can set `force_col_wise=true`.\n",
      "[LightGBM] [Warning] Auto-choosing row-wise multi-threading, the overhead of testing was 0.093098 seconds.\n",
      "You can set `force_row_wise=true` to remove the overhead.\n",
      "And if memory is not enough, you can set `force_col_wise=true`.\n",
      "[LightGBM] [Warning] Auto-choosing row-wise multi-threading, the overhead of testing was 0.092962 seconds.\n",
      "You can set `force_row_wise=true` to remove the overhead.\n",
      "And if memory is not enough, you can set `force_col_wise=true`.\n",
      "[LightGBM] [Warning] Auto-choosing row-wise multi-threading, the overhead of testing was 0.092903 seconds.\n",
      "You can set `force_row_wise=true` to remove the overhead.\n",
      "And if memory is not enough, you can set `force_col_wise=true`.\n",
      "[LightGBM] [Warning] Auto-choosing row-wise multi-threading, the overhead of testing was 0.005345 seconds.\n",
      "You can set `force_row_wise=true` to remove the overhead.\n",
      "And if memory is not enough, you can set `force_col_wise=true`.\n",
      "[LightGBM] [Warning] Auto-choosing row-wise multi-threading, the overhead of testing was 0.004523 seconds.\n",
      "You can set `force_row_wise=true` to remove the overhead.\n",
      "And if memory is not enough, you can set `force_col_wise=true`.\n",
      "[LightGBM] [Warning] Auto-choosing row-wise multi-threading, the overhead of testing was 0.094193 seconds.\n",
      "You can set `force_row_wise=true` to remove the overhead.\n",
      "And if memory is not enough, you can set `force_col_wise=true`.\n",
      "[LightGBM] [Warning] Auto-choosing row-wise multi-threading, the overhead of testing was 0.093502 seconds.\n",
      "You can set `force_row_wise=true` to remove the overhead.\n",
      "And if memory is not enough, you can set `force_col_wise=true`.\n",
      "[LightGBM] [Warning] Auto-choosing row-wise multi-threading, the overhead of testing was 0.093285 seconds.\n",
      "You can set `force_row_wise=true` to remove the overhead.\n",
      "And if memory is not enough, you can set `force_col_wise=true`.\n",
      "[LightGBM] [Warning] Auto-choosing row-wise multi-threading, the overhead of testing was 0.005177 seconds.\n",
      "You can set `force_row_wise=true` to remove the overhead.\n",
      "And if memory is not enough, you can set `force_col_wise=true`.\n",
      "[LightGBM] [Warning] Auto-choosing row-wise multi-threading, the overhead of testing was 0.005515 seconds.\n",
      "You can set `force_row_wise=true` to remove the overhead.\n",
      "And if memory is not enough, you can set `force_col_wise=true`.\n",
      "[LightGBM] [Warning] Auto-choosing col-wise multi-threading, the overhead of testing was 0.101589 seconds.\n",
      "You can set `force_col_wise=true` to remove the overhead.\n",
      "[LightGBM] [Warning] Auto-choosing row-wise multi-threading, the overhead of testing was 0.088995 seconds.\n",
      "You can set `force_row_wise=true` to remove the overhead.\n",
      "And if memory is not enough, you can set `force_col_wise=true`.\n",
      "[LightGBM] [Warning] Auto-choosing row-wise multi-threading, the overhead of testing was 0.087758 seconds.\n",
      "You can set `force_row_wise=true` to remove the overhead.\n",
      "And if memory is not enough, you can set `force_col_wise=true`.\n",
      "[LightGBM] [Warning] Auto-choosing row-wise multi-threading, the overhead of testing was 0.089692 seconds.\n",
      "You can set `force_row_wise=true` to remove the overhead.\n",
      "And if memory is not enough, you can set `force_col_wise=true`.\n",
      "[LightGBM] [Warning] Auto-choosing row-wise multi-threading, the overhead of testing was 0.004349 seconds.\n",
      "You can set `force_row_wise=true` to remove the overhead.\n",
      "And if memory is not enough, you can set `force_col_wise=true`.\n",
      "[LightGBM] [Warning] Auto-choosing row-wise multi-threading, the overhead of testing was 0.004812 seconds.\n",
      "You can set `force_row_wise=true` to remove the overhead.\n",
      "And if memory is not enough, you can set `force_col_wise=true`.\n",
      "[LightGBM] [Warning] Auto-choosing row-wise multi-threading, the overhead of testing was 0.083333 seconds.\n",
      "You can set `force_row_wise=true` to remove the overhead.\n",
      "And if memory is not enough, you can set `force_col_wise=true`.\n",
      "[LightGBM] [Warning] Auto-choosing row-wise multi-threading, the overhead of testing was 0.092715 seconds.\n",
      "You can set `force_row_wise=true` to remove the overhead.\n",
      "And if memory is not enough, you can set `force_col_wise=true`.\n",
      "[LightGBM] [Warning] Auto-choosing row-wise multi-threading, the overhead of testing was 0.005021 seconds.\n",
      "You can set `force_row_wise=true` to remove the overhead.\n",
      "And if memory is not enough, you can set `force_col_wise=true`.\n",
      "[LightGBM] [Warning] Auto-choosing row-wise multi-threading, the overhead of testing was 0.092574 seconds.\n",
      "You can set `force_row_wise=true` to remove the overhead.\n",
      "And if memory is not enough, you can set `force_col_wise=true`.\n",
      "[LightGBM] [Warning] Auto-choosing col-wise multi-threading, the overhead of testing was 0.014709 seconds.\n",
      "You can set `force_col_wise=true` to remove the overhead.\n",
      "[LightGBM] [Warning] Auto-choosing row-wise multi-threading, the overhead of testing was 0.089353 seconds.\n",
      "You can set `force_row_wise=true` to remove the overhead.\n",
      "And if memory is not enough, you can set `force_col_wise=true`.\n",
      "[LightGBM] [Warning] Auto-choosing row-wise multi-threading, the overhead of testing was 0.092178 seconds.\n",
      "You can set `force_row_wise=true` to remove the overhead.\n",
      "And if memory is not enough, you can set `force_col_wise=true`.\n",
      "[LightGBM] [Warning] Auto-choosing row-wise multi-threading, the overhead of testing was 0.089368 seconds.\n",
      "You can set `force_row_wise=true` to remove the overhead.\n",
      "And if memory is not enough, you can set `force_col_wise=true`.\n",
      "[LightGBM] [Warning] Auto-choosing row-wise multi-threading, the overhead of testing was 0.004825 seconds.\n",
      "You can set `force_row_wise=true` to remove the overhead.\n",
      "And if memory is not enough, you can set `force_col_wise=true`.\n",
      "[LightGBM] [Warning] Auto-choosing row-wise multi-threading, the overhead of testing was 0.386051 seconds.\n",
      "You can set `force_row_wise=true` to remove the overhead.\n",
      "And if memory is not enough, you can set `force_col_wise=true`.\n",
      "[LightGBM] [Warning] Auto-choosing row-wise multi-threading, the overhead of testing was 0.004794 seconds.\n",
      "You can set `force_row_wise=true` to remove the overhead.\n",
      "And if memory is not enough, you can set `force_col_wise=true`.\n",
      "[LightGBM] [Warning] Auto-choosing row-wise multi-threading, the overhead of testing was 0.093045 seconds.\n",
      "You can set `force_row_wise=true` to remove the overhead.\n",
      "And if memory is not enough, you can set `force_col_wise=true`.\n",
      "[LightGBM] [Warning] Auto-choosing row-wise multi-threading, the overhead of testing was 0.004962 seconds.\n",
      "You can set `force_row_wise=true` to remove the overhead.\n",
      "And if memory is not enough, you can set `force_col_wise=true`.\n",
      "[LightGBM] [Warning] Auto-choosing row-wise multi-threading, the overhead of testing was 0.005655 seconds.\n",
      "You can set `force_row_wise=true` to remove the overhead.\n",
      "And if memory is not enough, you can set `force_col_wise=true`.\n",
      "[LightGBM] [Warning] Auto-choosing row-wise multi-threading, the overhead of testing was 0.005381 seconds.\n",
      "You can set `force_row_wise=true` to remove the overhead.\n",
      "And if memory is not enough, you can set `force_col_wise=true`.\n",
      "[LightGBM] [Warning] Auto-choosing row-wise multi-threading, the overhead of testing was 0.092656 seconds.\n",
      "You can set `force_row_wise=true` to remove the overhead.\n",
      "And if memory is not enough, you can set `force_col_wise=true`.\n",
      "[LightGBM] [Warning] Auto-choosing row-wise multi-threading, the overhead of testing was 0.104777 seconds.\n",
      "You can set `force_row_wise=true` to remove the overhead.\n",
      "And if memory is not enough, you can set `force_col_wise=true`.\n",
      "[LightGBM] [Warning] Auto-choosing row-wise multi-threading, the overhead of testing was 0.005751 seconds.\n",
      "You can set `force_row_wise=true` to remove the overhead.\n",
      "And if memory is not enough, you can set `force_col_wise=true`.\n",
      "[LightGBM] [Warning] Auto-choosing row-wise multi-threading, the overhead of testing was 0.005323 seconds.\n",
      "You can set `force_row_wise=true` to remove the overhead.\n",
      "And if memory is not enough, you can set `force_col_wise=true`.\n",
      "[LightGBM] [Warning] Auto-choosing row-wise multi-threading, the overhead of testing was 0.092658 seconds.\n",
      "You can set `force_row_wise=true` to remove the overhead.\n",
      "And if memory is not enough, you can set `force_col_wise=true`.\n",
      "[LightGBM] [Warning] Auto-choosing row-wise multi-threading, the overhead of testing was 0.005529 seconds.\n",
      "You can set `force_row_wise=true` to remove the overhead.\n",
      "And if memory is not enough, you can set `force_col_wise=true`.\n",
      "[LightGBM] [Warning] Auto-choosing row-wise multi-threading, the overhead of testing was 0.004824 seconds.\n",
      "You can set `force_row_wise=true` to remove the overhead.\n",
      "And if memory is not enough, you can set `force_col_wise=true`.\n",
      "[LightGBM] [Warning] Auto-choosing row-wise multi-threading, the overhead of testing was 0.093653 seconds.\n",
      "You can set `force_row_wise=true` to remove the overhead.\n",
      "And if memory is not enough, you can set `force_col_wise=true`.\n",
      "[LightGBM] [Warning] Auto-choosing col-wise multi-threading, the overhead of testing was 0.095106 seconds.\n",
      "You can set `force_col_wise=true` to remove the overhead.\n",
      "[LightGBM] [Warning] Auto-choosing row-wise multi-threading, the overhead of testing was 0.005385 seconds.\n",
      "You can set `force_row_wise=true` to remove the overhead.\n",
      "And if memory is not enough, you can set `force_col_wise=true`.\n",
      "[LightGBM] [Warning] Auto-choosing col-wise multi-threading, the overhead of testing was 0.090494 seconds.\n",
      "You can set `force_col_wise=true` to remove the overhead.\n",
      "[LightGBM] [Warning] Auto-choosing row-wise multi-threading, the overhead of testing was 0.005192 seconds.\n",
      "You can set `force_row_wise=true` to remove the overhead.\n",
      "And if memory is not enough, you can set `force_col_wise=true`.\n",
      "[LightGBM] [Warning] Auto-choosing row-wise multi-threading, the overhead of testing was 0.093146 seconds.\n",
      "You can set `force_row_wise=true` to remove the overhead.\n",
      "And if memory is not enough, you can set `force_col_wise=true`.\n",
      "[LightGBM] [Warning] Auto-choosing row-wise multi-threading, the overhead of testing was 0.004880 seconds.\n",
      "You can set `force_row_wise=true` to remove the overhead.\n",
      "And if memory is not enough, you can set `force_col_wise=true`.\n",
      "[LightGBM] [Warning] Auto-choosing row-wise multi-threading, the overhead of testing was 0.093694 seconds.\n",
      "You can set `force_row_wise=true` to remove the overhead.\n",
      "And if memory is not enough, you can set `force_col_wise=true`.\n",
      "[LightGBM] [Warning] Auto-choosing col-wise multi-threading, the overhead of testing was 0.094630 seconds.\n",
      "You can set `force_col_wise=true` to remove the overhead.\n",
      "[LightGBM] [Warning] Auto-choosing row-wise multi-threading, the overhead of testing was 0.005140 seconds.\n",
      "You can set `force_row_wise=true` to remove the overhead.\n",
      "And if memory is not enough, you can set `force_col_wise=true`.\n",
      "[LightGBM] [Warning] Auto-choosing row-wise multi-threading, the overhead of testing was 0.005088 seconds.\n",
      "You can set `force_row_wise=true` to remove the overhead.\n",
      "And if memory is not enough, you can set `force_col_wise=true`.\n",
      "[LightGBM] [Warning] Auto-choosing row-wise multi-threading, the overhead of testing was 0.007117 seconds.\n",
      "You can set `force_row_wise=true` to remove the overhead.\n",
      "And if memory is not enough, you can set `force_col_wise=true`.\n",
      "CPU times: user 4min 50s, sys: 1.42 s, total: 4min 51s\n",
      "Wall time: 4min 54s\n"
     ]
    },
    {
     "data": {
      "text/plain": [
       "GridSearchCV(cv=KFold(n_splits=3, random_state=21, shuffle=True),\n",
       "             estimator=LGBMRegressor(seed=21, verbose=0),\n",
       "             param_grid={'learning_rate': array([0.001     , 0.00562341, 0.03162278, 0.17782794, 1.        ]),\n",
       "                         'n_estimators': [40, 60], 'num_leaves': [21, 31, 41]},\n",
       "             scoring='neg_mean_squared_error', verbose=True)"
      ]
     },
     "execution_count": 40,
     "metadata": {},
     "output_type": "execute_result"
    }
   ],
   "source": [
    "%%time\n",
    "grid_gbm.fit(lgb_train, y_train);"
   ]
  },
  {
   "cell_type": "code",
   "execution_count": 41,
   "metadata": {},
   "outputs": [
    {
     "data": {
      "text/plain": [
       "{'learning_rate': 0.1778279410038923, 'n_estimators': 60, 'num_leaves': 41}"
      ]
     },
     "execution_count": 41,
     "metadata": {},
     "output_type": "execute_result"
    }
   ],
   "source": [
    "grid_gbm.best_params_"
   ]
  },
  {
   "cell_type": "code",
   "execution_count": 42,
   "metadata": {},
   "outputs": [
    {
     "name": "stdout",
     "output_type": "stream",
     "text": [
      "[LightGBM] [Warning] Auto-choosing row-wise multi-threading, the overhead of testing was 0.095591 seconds.\n",
      "You can set `force_row_wise=true` to remove the overhead.\n",
      "And if memory is not enough, you can set `force_col_wise=true`.\n"
     ]
    }
   ],
   "source": [
    "res.append(model_eval(grid_gbm.best_estimator_, lgb_train, y_train, lgb_test, y_test))"
   ]
  },
  {
   "cell_type": "markdown",
   "metadata": {},
   "source": [
    "**CatBoost**"
   ]
  },
  {
   "cell_type": "code",
   "execution_count": 43,
   "metadata": {},
   "outputs": [],
   "source": [
    "cbr = CatBoostRegressor(random_seed=SEED,\n",
    "                        loss_function='RMSE',\n",
    "                        silent=True,\n",
    "                        cat_features=cat_col)\n",
    "\n",
    "params = {\n",
    "    'learning_rate': np.logspace(-3, 0, 5),\n",
    "    'iterations': [40, 60],\n",
    "    'depth': [6, 8, 10],\n",
    "}\n",
    "\n",
    "grid_cbr = GridSearchCV(cbr,\n",
    "                        params,\n",
    "                        cv=cv,\n",
    "                        scoring='neg_mean_squared_error',\n",
    "                        verbose=False)"
   ]
  },
  {
   "cell_type": "code",
   "execution_count": 44,
   "metadata": {},
   "outputs": [
    {
     "name": "stdout",
     "output_type": "stream",
     "text": [
      "CPU times: user 7min 4s, sys: 2.25 s, total: 7min 6s\n",
      "Wall time: 8min 11s\n"
     ]
    },
    {
     "data": {
      "text/plain": [
       "GridSearchCV(cv=KFold(n_splits=3, random_state=21, shuffle=True),\n",
       "             estimator=<catboost.core.CatBoostRegressor object at 0x7fc8ea823eb0>,\n",
       "             param_grid={'depth': [6, 8, 10], 'iterations': [40, 60],\n",
       "                         'learning_rate': array([0.001     , 0.00562341, 0.03162278, 0.17782794, 1.        ])},\n",
       "             scoring='neg_mean_squared_error', verbose=False)"
      ]
     },
     "execution_count": 44,
     "metadata": {},
     "output_type": "execute_result"
    }
   ],
   "source": [
    "%%time\n",
    "grid_cbr.fit(X_train, y_train);"
   ]
  },
  {
   "cell_type": "code",
   "execution_count": 45,
   "metadata": {},
   "outputs": [
    {
     "data": {
      "text/plain": [
       "{'depth': 10, 'iterations': 60, 'learning_rate': 0.1778279410038923}"
      ]
     },
     "execution_count": 45,
     "metadata": {},
     "output_type": "execute_result"
    }
   ],
   "source": [
    "grid_cbr.best_params_"
   ]
  },
  {
   "cell_type": "code",
   "execution_count": 46,
   "metadata": {},
   "outputs": [],
   "source": [
    "res.append(model_eval(grid_cbr.best_estimator_, X_train, y_train, X_test, y_test))"
   ]
  },
  {
   "cell_type": "markdown",
   "metadata": {},
   "source": [
    "## Анализ моделей"
   ]
  },
  {
   "cell_type": "markdown",
   "metadata": {},
   "source": [
    "Сведем все данные в один датафрейм и посмотрим результаты на валидационной выборке\n",
    "\n",
    "Для выбранной модели посмотрим результат на тесте"
   ]
  },
  {
   "cell_type": "code",
   "execution_count": 47,
   "metadata": {},
   "outputs": [
    {
     "data": {
      "text/plain": [
       "[(0.8140840530395508, 0.12045121192932129, 2054.4919742482844),\n",
       " (5.089848041534424, 0.49625539779663086, 1643.795699281927),\n",
       " (10.224634885787964, 0.10201239585876465, 1712.0489852743626)]"
      ]
     },
     "execution_count": 47,
     "metadata": {},
     "output_type": "execute_result"
    }
   ],
   "source": [
    "res"
   ]
  },
  {
   "cell_type": "code",
   "execution_count": 48,
   "metadata": {},
   "outputs": [
    {
     "data": {
      "text/html": [
       "<div>\n",
       "<style scoped>\n",
       "    .dataframe tbody tr th:only-of-type {\n",
       "        vertical-align: middle;\n",
       "    }\n",
       "\n",
       "    .dataframe tbody tr th {\n",
       "        vertical-align: top;\n",
       "    }\n",
       "\n",
       "    .dataframe thead th {\n",
       "        text-align: right;\n",
       "    }\n",
       "</style>\n",
       "<table border=\"1\" class=\"dataframe\">\n",
       "  <thead>\n",
       "    <tr style=\"text-align: right;\">\n",
       "      <th></th>\n",
       "      <th>training_time</th>\n",
       "      <th>predic_time</th>\n",
       "      <th>score</th>\n",
       "    </tr>\n",
       "  </thead>\n",
       "  <tbody>\n",
       "    <tr>\n",
       "      <th>Ridge</th>\n",
       "      <td>0.814084</td>\n",
       "      <td>0.120451</td>\n",
       "      <td>2054.491974</td>\n",
       "    </tr>\n",
       "    <tr>\n",
       "      <th>LightGBM</th>\n",
       "      <td>5.089848</td>\n",
       "      <td>0.496255</td>\n",
       "      <td>1643.795699</td>\n",
       "    </tr>\n",
       "    <tr>\n",
       "      <th>CatBoost</th>\n",
       "      <td>10.224635</td>\n",
       "      <td>0.102012</td>\n",
       "      <td>1712.048985</td>\n",
       "    </tr>\n",
       "  </tbody>\n",
       "</table>\n",
       "</div>"
      ],
      "text/plain": [
       "          training_time  predic_time        score\n",
       "Ridge          0.814084     0.120451  2054.491974\n",
       "LightGBM       5.089848     0.496255  1643.795699\n",
       "CatBoost      10.224635     0.102012  1712.048985"
      ]
     },
     "execution_count": 48,
     "metadata": {},
     "output_type": "execute_result"
    }
   ],
   "source": [
    "pd.DataFrame(data=res,\n",
    "             index=['Ridge', 'LightGBM', 'CatBoost'],\n",
    "             columns=['training_time', 'predic_time', 'score'])"
   ]
  },
  {
   "cell_type": "markdown",
   "metadata": {},
   "source": [
    "Быстрее всего работает Ringe, однако качество ниже всего. В данном случае наиболее подходящей моделью, с оптимальным качеством и быстродействием оказался: LightGBM.\n",
    "\n",
    "Проверим метрику на тесте"
   ]
  },
  {
   "cell_type": "code",
   "execution_count": 49,
   "metadata": {},
   "outputs": [
    {
     "name": "stdout",
     "output_type": "stream",
     "text": [
      "[LightGBM] [Warning] Auto-choosing row-wise multi-threading, the overhead of testing was 0.395463 seconds.\n",
      "You can set `force_row_wise=true` to remove the overhead.\n",
      "And if memory is not enough, you can set `force_col_wise=true`.\n"
     ]
    },
    {
     "data": {
      "text/plain": [
       "1659.3156912137158"
      ]
     },
     "execution_count": 49,
     "metadata": {},
     "output_type": "execute_result"
    }
   ],
   "source": [
    "model = gbm\n",
    "model.fit(lgb_train, y_train)\n",
    "mse(y_test, model.predict(lgb_test))**0.5"
   ]
  }
 ],
 "metadata": {
  "ExecuteTimeLog": [
   {
    "duration": 2083,
    "start_time": "2022-05-03T14:03:22.956Z"
   },
   {
    "duration": 1485,
    "start_time": "2022-05-03T14:03:44.691Z"
   },
   {
    "duration": 94,
    "start_time": "2022-05-03T14:03:57.819Z"
   },
   {
    "duration": 45,
    "start_time": "2022-05-03T14:05:38.957Z"
   },
   {
    "duration": 197,
    "start_time": "2022-05-03T14:05:43.114Z"
   },
   {
    "duration": 7,
    "start_time": "2022-05-03T14:05:57.564Z"
   },
   {
    "duration": 1595,
    "start_time": "2022-05-03T14:05:57.574Z"
   },
   {
    "duration": 125,
    "start_time": "2022-05-03T14:05:59.172Z"
   },
   {
    "duration": 40,
    "start_time": "2022-05-03T14:06:01.931Z"
   },
   {
    "duration": 4,
    "start_time": "2022-05-03T14:06:15.394Z"
   },
   {
    "duration": 84835,
    "start_time": "2022-05-03T14:06:31.874Z"
   },
   {
    "duration": 123,
    "start_time": "2022-05-03T14:09:31.128Z"
   },
   {
    "duration": 563,
    "start_time": "2022-05-03T14:09:47.929Z"
   },
   {
    "duration": 555,
    "start_time": "2022-05-03T14:10:07.736Z"
   },
   {
    "duration": 124,
    "start_time": "2022-05-03T14:10:42.384Z"
   },
   {
    "duration": 109,
    "start_time": "2022-05-03T14:11:46.825Z"
   },
   {
    "duration": 12,
    "start_time": "2022-05-03T14:11:50.833Z"
   },
   {
    "duration": 122,
    "start_time": "2022-05-03T14:12:02.920Z"
   },
   {
    "duration": 53,
    "start_time": "2022-05-03T14:13:09.184Z"
   },
   {
    "duration": 296,
    "start_time": "2022-05-03T14:14:13.450Z"
   },
   {
    "duration": 33,
    "start_time": "2022-05-03T14:14:15.160Z"
   },
   {
    "duration": 296,
    "start_time": "2022-05-03T14:14:17.496Z"
   },
   {
    "duration": 182,
    "start_time": "2022-05-03T14:16:18.110Z"
   },
   {
    "duration": 25,
    "start_time": "2022-05-03T14:16:27.920Z"
   },
   {
    "duration": 73,
    "start_time": "2022-05-03T14:17:31.680Z"
   },
   {
    "duration": 395,
    "start_time": "2022-05-03T14:22:45.742Z"
   },
   {
    "duration": 263,
    "start_time": "2022-05-03T14:22:58.060Z"
   },
   {
    "duration": 593,
    "start_time": "2022-05-03T14:24:40.582Z"
   },
   {
    "duration": 2220,
    "start_time": "2022-05-03T14:24:50.269Z"
   },
   {
    "duration": 583,
    "start_time": "2022-05-03T14:24:54.197Z"
   },
   {
    "duration": 266,
    "start_time": "2022-05-03T14:24:59.566Z"
   },
   {
    "duration": 80,
    "start_time": "2022-05-03T14:27:06.285Z"
   },
   {
    "duration": 269,
    "start_time": "2022-05-03T14:27:21.397Z"
   },
   {
    "duration": 403,
    "start_time": "2022-05-03T14:27:23.358Z"
   },
   {
    "duration": 952,
    "start_time": "2022-05-03T14:27:30.340Z"
   },
   {
    "duration": 3,
    "start_time": "2022-05-03T14:27:47.525Z"
   },
   {
    "duration": 28,
    "start_time": "2022-05-03T14:29:14.302Z"
   },
   {
    "duration": 3414,
    "start_time": "2022-05-03T14:30:14.981Z"
   },
   {
    "duration": 3422,
    "start_time": "2022-05-03T14:30:19.509Z"
   },
   {
    "duration": 14,
    "start_time": "2022-05-03T14:31:00.093Z"
   },
   {
    "duration": 39,
    "start_time": "2022-05-03T14:31:48.357Z"
   },
   {
    "duration": 234,
    "start_time": "2022-05-03T14:33:03.733Z"
   },
   {
    "duration": 68,
    "start_time": "2022-05-03T14:33:05.316Z"
   },
   {
    "duration": 256,
    "start_time": "2022-05-03T14:33:06.349Z"
   },
   {
    "duration": 691,
    "start_time": "2022-05-03T14:33:08.388Z"
   },
   {
    "duration": 29,
    "start_time": "2022-05-03T14:33:10.420Z"
   },
   {
    "duration": 6,
    "start_time": "2022-05-03T14:33:15.431Z"
   },
   {
    "duration": 1352,
    "start_time": "2022-05-03T14:33:15.440Z"
   },
   {
    "duration": 98,
    "start_time": "2022-05-03T14:33:16.794Z"
   },
   {
    "duration": 37,
    "start_time": "2022-05-03T14:33:16.894Z"
   },
   {
    "duration": 3,
    "start_time": "2022-05-03T14:33:16.934Z"
   },
   {
    "duration": 77788,
    "start_time": "2022-05-03T14:33:16.939Z"
   },
   {
    "duration": 328,
    "start_time": "2022-05-03T14:34:34.728Z"
   },
   {
    "duration": 118,
    "start_time": "2022-05-03T14:34:35.057Z"
   },
   {
    "duration": 20,
    "start_time": "2022-05-03T14:34:35.176Z"
   },
   {
    "duration": 55,
    "start_time": "2022-05-03T14:34:35.197Z"
   },
   {
    "duration": 49,
    "start_time": "2022-05-03T14:34:35.254Z"
   },
   {
    "duration": 304,
    "start_time": "2022-05-03T14:34:35.304Z"
   },
   {
    "duration": 25,
    "start_time": "2022-05-03T14:34:35.610Z"
   },
   {
    "duration": 84,
    "start_time": "2022-05-03T14:34:35.637Z"
   },
   {
    "duration": 47,
    "start_time": "2022-05-03T14:34:35.723Z"
   },
   {
    "duration": 273,
    "start_time": "2022-05-03T14:34:35.772Z"
   },
   {
    "duration": 83,
    "start_time": "2022-05-03T14:34:36.047Z"
   },
   {
    "duration": 284,
    "start_time": "2022-05-03T14:34:36.132Z"
   },
   {
    "duration": 711,
    "start_time": "2022-05-03T14:34:36.418Z"
   },
   {
    "duration": 27,
    "start_time": "2022-05-03T16:36:41.859Z"
   },
   {
    "duration": 3231,
    "start_time": "2022-05-03T16:36:51.508Z"
   },
   {
    "duration": 3489,
    "start_time": "2022-05-03T16:36:56.579Z"
   },
   {
    "duration": 24,
    "start_time": "2022-05-03T16:37:00.070Z"
   },
   {
    "duration": 151,
    "start_time": "2022-05-03T16:37:33.099Z"
   },
   {
    "duration": 18,
    "start_time": "2022-05-03T16:38:10.747Z"
   },
   {
    "duration": 19,
    "start_time": "2022-05-03T16:38:15.124Z"
   },
   {
    "duration": 31,
    "start_time": "2022-05-03T16:39:27.644Z"
   },
   {
    "duration": 272,
    "start_time": "2022-05-03T16:40:17.299Z"
   },
   {
    "duration": 271,
    "start_time": "2022-05-03T16:40:18.315Z"
   },
   {
    "duration": 169,
    "start_time": "2022-05-03T16:40:19.106Z"
   },
   {
    "duration": 273,
    "start_time": "2022-05-03T16:40:28.106Z"
   },
   {
    "duration": 24,
    "start_time": "2022-05-03T16:40:46.043Z"
   },
   {
    "duration": 86,
    "start_time": "2022-05-03T16:41:00.515Z"
   },
   {
    "duration": 281,
    "start_time": "2022-05-03T16:41:08.867Z"
   },
   {
    "duration": 87,
    "start_time": "2022-05-03T16:41:12.522Z"
   },
   {
    "duration": 8,
    "start_time": "2022-05-03T16:41:43.387Z"
   },
   {
    "duration": 2030,
    "start_time": "2022-05-03T16:41:43.397Z"
   },
   {
    "duration": 103,
    "start_time": "2022-05-03T16:41:45.429Z"
   },
   {
    "duration": 37,
    "start_time": "2022-05-03T16:41:45.534Z"
   },
   {
    "duration": 3,
    "start_time": "2022-05-03T16:41:45.573Z"
   },
   {
    "duration": 59560,
    "start_time": "2022-05-03T16:41:45.593Z"
   },
   {
    "duration": 422,
    "start_time": "2022-05-03T16:42:45.155Z"
   },
   {
    "duration": 154,
    "start_time": "2022-05-03T16:42:45.579Z"
   },
   {
    "duration": 12,
    "start_time": "2022-05-03T16:42:45.735Z"
   },
   {
    "duration": 88,
    "start_time": "2022-05-03T16:42:45.749Z"
   },
   {
    "duration": 53,
    "start_time": "2022-05-03T16:42:45.839Z"
   },
   {
    "duration": 496,
    "start_time": "2022-05-03T16:42:45.901Z"
   },
   {
    "duration": 26,
    "start_time": "2022-05-03T16:42:46.399Z"
   },
   {
    "duration": 123,
    "start_time": "2022-05-03T16:42:46.430Z"
   },
   {
    "duration": 74,
    "start_time": "2022-05-03T16:42:46.555Z"
   },
   {
    "duration": 428,
    "start_time": "2022-05-03T16:42:46.631Z"
   },
   {
    "duration": 95,
    "start_time": "2022-05-03T16:42:47.062Z"
   },
   {
    "duration": 345,
    "start_time": "2022-05-03T16:42:47.159Z"
   },
   {
    "duration": 943,
    "start_time": "2022-05-03T16:42:47.507Z"
   },
   {
    "duration": 28,
    "start_time": "2022-05-03T16:42:48.452Z"
   },
   {
    "duration": 4939,
    "start_time": "2022-05-03T16:42:48.497Z"
   },
   {
    "duration": 17,
    "start_time": "2022-05-03T16:42:59.493Z"
   },
   {
    "duration": 2072,
    "start_time": "2022-05-03T16:42:59.512Z"
   },
   {
    "duration": 125,
    "start_time": "2022-05-03T16:43:01.592Z"
   },
   {
    "duration": 48,
    "start_time": "2022-05-03T16:43:01.719Z"
   },
   {
    "duration": 3,
    "start_time": "2022-05-03T16:43:01.769Z"
   },
   {
    "duration": 17,
    "start_time": "2022-05-03T16:43:01.774Z"
   },
   {
    "duration": 537,
    "start_time": "2022-05-03T16:43:01.793Z"
   },
   {
    "duration": 214,
    "start_time": "2022-05-03T16:43:02.332Z"
   },
   {
    "duration": 12,
    "start_time": "2022-05-03T16:43:02.548Z"
   },
   {
    "duration": 71,
    "start_time": "2022-05-03T16:43:02.562Z"
   },
   {
    "duration": 41,
    "start_time": "2022-05-03T16:43:02.635Z"
   },
   {
    "duration": 475,
    "start_time": "2022-05-03T16:43:02.678Z"
   },
   {
    "duration": 24,
    "start_time": "2022-05-03T16:43:03.155Z"
   },
   {
    "duration": 86,
    "start_time": "2022-05-03T16:43:03.181Z"
   },
   {
    "duration": 67,
    "start_time": "2022-05-03T16:43:03.269Z"
   },
   {
    "duration": 402,
    "start_time": "2022-05-03T16:43:03.338Z"
   },
   {
    "duration": 107,
    "start_time": "2022-05-03T16:43:03.742Z"
   },
   {
    "duration": 413,
    "start_time": "2022-05-03T16:43:03.851Z"
   },
   {
    "duration": 910,
    "start_time": "2022-05-03T16:43:04.266Z"
   },
   {
    "duration": 61,
    "start_time": "2022-05-03T16:43:05.178Z"
   },
   {
    "duration": 5228,
    "start_time": "2022-05-03T16:43:05.241Z"
   },
   {
    "duration": 5921,
    "start_time": "2022-05-03T16:43:10.472Z"
   },
   {
    "duration": 17,
    "start_time": "2022-05-03T16:43:16.395Z"
   },
   {
    "duration": 20,
    "start_time": "2022-05-03T16:43:16.414Z"
   },
   {
    "duration": 31,
    "start_time": "2022-05-03T16:43:16.435Z"
   },
   {
    "duration": 287,
    "start_time": "2022-05-03T16:43:16.499Z"
   },
   {
    "duration": 290,
    "start_time": "2022-05-03T16:43:16.789Z"
   },
   {
    "duration": 289,
    "start_time": "2022-05-03T16:43:17.081Z"
   },
   {
    "duration": 27,
    "start_time": "2022-05-03T16:43:17.372Z"
   },
   {
    "duration": 19,
    "start_time": "2022-05-03T16:43:29.267Z"
   },
   {
    "duration": 101,
    "start_time": "2022-05-03T16:43:30.474Z"
   },
   {
    "duration": 135,
    "start_time": "2022-05-03T16:45:19.043Z"
   },
   {
    "duration": 300,
    "start_time": "2022-05-03T16:45:46.475Z"
   },
   {
    "duration": 278,
    "start_time": "2022-05-03T16:45:54.482Z"
   },
   {
    "duration": 4,
    "start_time": "2022-05-03T16:46:04.946Z"
   },
   {
    "duration": 69,
    "start_time": "2022-05-03T16:46:08.858Z"
   },
   {
    "duration": 87,
    "start_time": "2022-05-03T16:46:17.874Z"
   },
   {
    "duration": 77,
    "start_time": "2022-05-03T16:46:36.842Z"
   },
   {
    "duration": 70,
    "start_time": "2022-05-03T16:46:37.993Z"
   },
   {
    "duration": 31,
    "start_time": "2022-05-03T16:46:39.786Z"
   },
   {
    "duration": 163,
    "start_time": "2022-05-03T16:47:03.818Z"
   },
   {
    "duration": 27,
    "start_time": "2022-05-03T16:47:34.946Z"
   },
   {
    "duration": 15,
    "start_time": "2022-05-03T16:47:40.305Z"
   },
   {
    "duration": 67,
    "start_time": "2022-05-03T16:47:41.050Z"
   },
   {
    "duration": 5,
    "start_time": "2022-05-03T16:47:41.706Z"
   },
   {
    "duration": 5,
    "start_time": "2022-05-03T16:47:43.337Z"
   },
   {
    "duration": 237,
    "start_time": "2022-05-03T16:47:44.618Z"
   },
   {
    "duration": 24,
    "start_time": "2022-05-03T16:47:51.312Z"
   },
   {
    "duration": 12,
    "start_time": "2022-05-03T16:48:07.119Z"
   },
   {
    "duration": 10,
    "start_time": "2022-05-03T16:49:25.689Z"
   },
   {
    "duration": 128,
    "start_time": "2022-05-03T16:49:44.618Z"
   },
   {
    "duration": 4639,
    "start_time": "2022-05-03T16:49:52.978Z"
   },
   {
    "duration": 4,
    "start_time": "2022-05-03T16:50:14.962Z"
   },
   {
    "duration": 768,
    "start_time": "2022-05-03T16:50:31.658Z"
   },
   {
    "duration": 9,
    "start_time": "2022-05-03T16:50:39.113Z"
   },
   {
    "duration": 7,
    "start_time": "2022-05-03T16:50:48.394Z"
   },
   {
    "duration": 260542,
    "start_time": "2022-05-03T16:51:32.770Z"
   },
   {
    "duration": 190,
    "start_time": "2022-05-03T16:55:53.314Z"
   },
   {
    "duration": 73857,
    "start_time": "2022-05-03T16:55:57.849Z"
   },
   {
    "duration": 104797,
    "start_time": "2022-05-03T16:59:55.508Z"
   },
   {
    "duration": 195,
    "start_time": "2022-05-03T17:01:40.309Z"
   },
   {
    "duration": 15,
    "start_time": "2022-05-03T17:01:40.518Z"
   },
   {
    "duration": 15863,
    "start_time": "2022-05-03T17:01:40.535Z"
   },
   {
    "duration": 207,
    "start_time": "2022-05-03T17:01:56.409Z"
   },
   {
    "duration": 92,
    "start_time": "2022-05-03T17:01:56.619Z"
   },
   {
    "duration": 203,
    "start_time": "2022-05-03T17:01:56.715Z"
   },
   {
    "duration": 150,
    "start_time": "2022-05-03T17:01:56.920Z"
   },
   {
    "duration": 0,
    "start_time": "2022-05-03T17:01:57.073Z"
   },
   {
    "duration": 0,
    "start_time": "2022-05-03T17:01:57.074Z"
   },
   {
    "duration": 0,
    "start_time": "2022-05-03T17:01:57.075Z"
   },
   {
    "duration": 0,
    "start_time": "2022-05-03T17:01:57.077Z"
   },
   {
    "duration": 0,
    "start_time": "2022-05-03T17:01:57.079Z"
   },
   {
    "duration": 0,
    "start_time": "2022-05-03T17:01:57.080Z"
   },
   {
    "duration": 0,
    "start_time": "2022-05-03T17:01:57.082Z"
   },
   {
    "duration": 0,
    "start_time": "2022-05-03T17:01:57.083Z"
   },
   {
    "duration": 0,
    "start_time": "2022-05-03T17:01:57.084Z"
   },
   {
    "duration": 0,
    "start_time": "2022-05-03T17:01:57.086Z"
   },
   {
    "duration": 0,
    "start_time": "2022-05-03T17:01:57.087Z"
   },
   {
    "duration": 3,
    "start_time": "2022-05-03T17:03:57.260Z"
   },
   {
    "duration": 35,
    "start_time": "2022-05-03T17:03:57.266Z"
   },
   {
    "duration": 65,
    "start_time": "2022-05-03T17:03:57.303Z"
   },
   {
    "duration": 5,
    "start_time": "2022-05-03T17:03:57.370Z"
   },
   {
    "duration": 20,
    "start_time": "2022-05-03T17:03:57.378Z"
   },
   {
    "duration": 4,
    "start_time": "2022-05-03T17:03:57.401Z"
   },
   {
    "duration": 1668,
    "start_time": "2022-05-04T17:23:13.670Z"
   },
   {
    "duration": 1211,
    "start_time": "2022-05-04T17:23:15.340Z"
   },
   {
    "duration": 86,
    "start_time": "2022-05-04T17:23:16.553Z"
   },
   {
    "duration": 40,
    "start_time": "2022-05-04T17:23:16.641Z"
   },
   {
    "duration": 6,
    "start_time": "2022-05-04T17:23:16.682Z"
   },
   {
    "duration": 5,
    "start_time": "2022-05-04T17:23:16.690Z"
   },
   {
    "duration": 328,
    "start_time": "2022-05-04T17:23:16.696Z"
   },
   {
    "duration": 89,
    "start_time": "2022-05-04T17:23:17.026Z"
   },
   {
    "duration": 13,
    "start_time": "2022-05-04T17:23:17.123Z"
   },
   {
    "duration": 41,
    "start_time": "2022-05-04T17:23:17.138Z"
   },
   {
    "duration": 46,
    "start_time": "2022-05-04T17:23:17.180Z"
   },
   {
    "duration": 275,
    "start_time": "2022-05-04T17:23:17.228Z"
   },
   {
    "duration": 25,
    "start_time": "2022-05-04T17:23:17.504Z"
   },
   {
    "duration": 63,
    "start_time": "2022-05-04T17:23:17.531Z"
   },
   {
    "duration": 49,
    "start_time": "2022-05-04T17:23:17.596Z"
   },
   {
    "duration": 231,
    "start_time": "2022-05-04T17:23:17.647Z"
   },
   {
    "duration": 74,
    "start_time": "2022-05-04T17:23:17.880Z"
   },
   {
    "duration": 307,
    "start_time": "2022-05-04T17:23:17.956Z"
   },
   {
    "duration": 668,
    "start_time": "2022-05-04T17:23:18.264Z"
   },
   {
    "duration": 23,
    "start_time": "2022-05-04T17:23:18.934Z"
   },
   {
    "duration": 2838,
    "start_time": "2022-05-04T17:23:18.959Z"
   },
   {
    "duration": 2835,
    "start_time": "2022-05-04T17:23:21.799Z"
   },
   {
    "duration": 13,
    "start_time": "2022-05-04T17:23:24.636Z"
   },
   {
    "duration": 12,
    "start_time": "2022-05-04T17:23:24.650Z"
   },
   {
    "duration": 22,
    "start_time": "2022-05-04T17:23:24.664Z"
   },
   {
    "duration": 256,
    "start_time": "2022-05-04T17:23:24.688Z"
   },
   {
    "duration": 233,
    "start_time": "2022-05-04T17:23:24.946Z"
   },
   {
    "duration": 240,
    "start_time": "2022-05-04T17:23:25.183Z"
   },
   {
    "duration": 18,
    "start_time": "2022-05-04T17:23:25.425Z"
   },
   {
    "duration": 80,
    "start_time": "2022-05-04T17:23:25.444Z"
   },
   {
    "duration": 219,
    "start_time": "2022-05-04T17:23:25.526Z"
   },
   {
    "duration": 3,
    "start_time": "2022-05-04T17:23:25.747Z"
   },
   {
    "duration": 75,
    "start_time": "2022-05-04T17:23:25.751Z"
   },
   {
    "duration": 52,
    "start_time": "2022-05-04T17:23:25.828Z"
   },
   {
    "duration": 58,
    "start_time": "2022-05-04T17:23:25.881Z"
   },
   {
    "duration": 47,
    "start_time": "2022-05-04T17:23:25.940Z"
   },
   {
    "duration": 15,
    "start_time": "2022-05-04T17:23:25.989Z"
   },
   {
    "duration": 29,
    "start_time": "2022-05-04T17:23:26.006Z"
   },
   {
    "duration": 51,
    "start_time": "2022-05-04T17:23:26.037Z"
   },
   {
    "duration": 3,
    "start_time": "2022-05-04T17:23:26.090Z"
   },
   {
    "duration": 6,
    "start_time": "2022-05-04T17:23:26.095Z"
   },
   {
    "duration": 210,
    "start_time": "2022-05-04T17:23:26.103Z"
   },
   {
    "duration": 26,
    "start_time": "2022-05-04T17:23:26.314Z"
   },
   {
    "duration": 8,
    "start_time": "2022-05-04T17:23:26.341Z"
   },
   {
    "duration": 3278,
    "start_time": "2022-05-04T17:23:26.351Z"
   },
   {
    "duration": 4,
    "start_time": "2022-05-04T17:23:29.631Z"
   },
   {
    "duration": 793,
    "start_time": "2022-05-04T17:23:29.636Z"
   },
   {
    "duration": 12,
    "start_time": "2022-05-04T17:23:30.431Z"
   },
   {
    "duration": 100,
    "start_time": "2022-05-04T17:23:30.525Z"
   },
   {
    "duration": 48299,
    "start_time": "2022-05-04T17:23:30.628Z"
   },
   {
    "duration": 16396,
    "start_time": "2022-05-04T17:24:18.929Z"
   },
   {
    "duration": 99,
    "start_time": "2022-05-04T17:24:35.327Z"
   },
   {
    "duration": 100,
    "start_time": "2022-05-04T17:24:35.428Z"
   },
   {
    "duration": 13697,
    "start_time": "2022-05-04T17:24:35.530Z"
   },
   {
    "duration": 297,
    "start_time": "2022-05-04T17:24:49.229Z"
   },
   {
    "duration": 98,
    "start_time": "2022-05-04T17:24:49.528Z"
   },
   {
    "duration": 99,
    "start_time": "2022-05-04T17:24:49.628Z"
   },
   {
    "duration": 5,
    "start_time": "2022-05-04T17:24:49.729Z"
   },
   {
    "duration": 98,
    "start_time": "2022-05-04T17:24:49.735Z"
   },
   {
    "duration": 59,
    "start_time": "2022-05-04T17:24:49.835Z"
   },
   {
    "duration": 4,
    "start_time": "2022-05-04T17:24:49.896Z"
   },
   {
    "duration": 23,
    "start_time": "2022-05-04T17:24:49.901Z"
   },
   {
    "duration": 3,
    "start_time": "2022-05-04T17:24:49.925Z"
   },
   {
    "duration": 234504,
    "start_time": "2022-05-04T17:24:49.929Z"
   },
   {
    "duration": 3,
    "start_time": "2022-05-04T17:28:44.434Z"
   },
   {
    "duration": 8,
    "start_time": "2022-05-04T17:28:44.439Z"
   },
   {
    "duration": 385,
    "start_time": "2022-05-04T17:28:44.449Z"
   },
   {
    "duration": 5,
    "start_time": "2022-05-04T17:28:44.835Z"
   },
   {
    "duration": 46,
    "start_time": "2022-05-04T17:37:06.211Z"
   },
   {
    "duration": 1447,
    "start_time": "2022-05-04T17:37:11.845Z"
   },
   {
    "duration": 1342,
    "start_time": "2022-05-04T17:37:13.294Z"
   },
   {
    "duration": 91,
    "start_time": "2022-05-04T17:37:14.638Z"
   },
   {
    "duration": 37,
    "start_time": "2022-05-04T17:37:14.731Z"
   },
   {
    "duration": 5,
    "start_time": "2022-05-04T17:37:14.769Z"
   },
   {
    "duration": 4,
    "start_time": "2022-05-04T17:37:14.776Z"
   },
   {
    "duration": 330,
    "start_time": "2022-05-04T17:37:14.781Z"
   },
   {
    "duration": 93,
    "start_time": "2022-05-04T17:37:15.112Z"
   },
   {
    "duration": 22,
    "start_time": "2022-05-04T17:37:15.206Z"
   },
   {
    "duration": 43,
    "start_time": "2022-05-04T17:37:15.231Z"
   },
   {
    "duration": 48,
    "start_time": "2022-05-04T17:37:15.275Z"
   },
   {
    "duration": 294,
    "start_time": "2022-05-04T17:37:15.325Z"
   },
   {
    "duration": 19,
    "start_time": "2022-05-04T17:37:15.620Z"
   },
   {
    "duration": 66,
    "start_time": "2022-05-04T17:37:15.640Z"
   },
   {
    "duration": 39,
    "start_time": "2022-05-04T17:37:15.724Z"
   },
   {
    "duration": 261,
    "start_time": "2022-05-04T17:37:15.764Z"
   },
   {
    "duration": 68,
    "start_time": "2022-05-04T17:37:16.027Z"
   },
   {
    "duration": 387,
    "start_time": "2022-05-04T17:37:16.097Z"
   },
   {
    "duration": 691,
    "start_time": "2022-05-04T17:37:16.485Z"
   },
   {
    "duration": 25,
    "start_time": "2022-05-04T17:37:17.178Z"
   },
   {
    "duration": 2940,
    "start_time": "2022-05-04T17:37:17.205Z"
   },
   {
    "duration": 3212,
    "start_time": "2022-05-04T17:37:20.147Z"
   },
   {
    "duration": 14,
    "start_time": "2022-05-04T17:37:23.360Z"
   },
   {
    "duration": 16,
    "start_time": "2022-05-04T17:37:23.376Z"
   },
   {
    "duration": 43,
    "start_time": "2022-05-04T17:37:23.393Z"
   },
   {
    "duration": 254,
    "start_time": "2022-05-04T17:37:23.437Z"
   },
   {
    "duration": 245,
    "start_time": "2022-05-04T17:37:23.693Z"
   },
   {
    "duration": 252,
    "start_time": "2022-05-04T17:37:23.942Z"
   },
   {
    "duration": 28,
    "start_time": "2022-05-04T17:37:24.196Z"
   },
   {
    "duration": 68,
    "start_time": "2022-05-04T17:37:24.225Z"
   },
   {
    "duration": 100,
    "start_time": "2022-05-04T17:37:24.295Z"
   },
   {
    "duration": 93,
    "start_time": "2022-05-04T17:37:43.563Z"
   },
   {
    "duration": 136,
    "start_time": "2022-05-04T17:37:48.858Z"
   },
   {
    "duration": 107,
    "start_time": "2022-05-04T17:38:18.690Z"
   },
   {
    "duration": 4,
    "start_time": "2022-05-04T17:38:27.289Z"
   },
   {
    "duration": 108,
    "start_time": "2022-05-04T17:38:32.386Z"
   },
   {
    "duration": 3,
    "start_time": "2022-05-04T17:38:38.818Z"
   },
   {
    "duration": 10,
    "start_time": "2022-05-04T17:38:43.314Z"
   },
   {
    "duration": 12,
    "start_time": "2022-05-04T17:39:17.657Z"
   },
   {
    "duration": 13,
    "start_time": "2022-05-04T17:39:24.018Z"
   },
   {
    "duration": 7,
    "start_time": "2022-05-04T17:39:36.426Z"
   },
   {
    "duration": 6,
    "start_time": "2022-05-04T17:39:43.434Z"
   },
   {
    "duration": 10,
    "start_time": "2022-05-04T17:39:50.169Z"
   },
   {
    "duration": 7,
    "start_time": "2022-05-04T17:40:06.097Z"
   },
   {
    "duration": 10,
    "start_time": "2022-05-04T17:40:14.529Z"
   },
   {
    "duration": 8,
    "start_time": "2022-05-04T17:40:21.971Z"
   },
   {
    "duration": 1004,
    "start_time": "2022-05-04T17:40:34.625Z"
   },
   {
    "duration": 76,
    "start_time": "2022-05-04T17:40:56.009Z"
   },
   {
    "duration": 3,
    "start_time": "2022-05-04T17:42:03.641Z"
   },
   {
    "duration": 33162,
    "start_time": "2022-05-04T17:42:08.008Z"
   },
   {
    "duration": 4,
    "start_time": "2022-05-04T17:42:50.503Z"
   },
   {
    "duration": 783,
    "start_time": "2022-05-04T17:42:52.840Z"
   },
   {
    "duration": 27,
    "start_time": "2022-05-04T17:43:00.721Z"
   },
   {
    "duration": 20,
    "start_time": "2022-05-04T17:43:28.232Z"
   },
   {
    "duration": 281,
    "start_time": "2022-05-04T17:43:36.033Z"
   },
   {
    "duration": 118,
    "start_time": "2022-05-04T17:45:10.144Z"
   },
   {
    "duration": 16,
    "start_time": "2022-05-04T17:45:11.960Z"
   },
   {
    "duration": 9,
    "start_time": "2022-05-04T17:45:24.043Z"
   },
   {
    "duration": 1169,
    "start_time": "2022-05-04T17:45:24.054Z"
   },
   {
    "duration": 77,
    "start_time": "2022-05-04T17:45:25.225Z"
   },
   {
    "duration": 47,
    "start_time": "2022-05-04T17:45:25.304Z"
   },
   {
    "duration": 10,
    "start_time": "2022-05-04T17:45:25.353Z"
   },
   {
    "duration": 5,
    "start_time": "2022-05-04T17:45:25.364Z"
   },
   {
    "duration": 304,
    "start_time": "2022-05-04T17:45:25.370Z"
   },
   {
    "duration": 88,
    "start_time": "2022-05-04T17:45:25.675Z"
   },
   {
    "duration": 19,
    "start_time": "2022-05-04T17:45:25.764Z"
   },
   {
    "duration": 42,
    "start_time": "2022-05-04T17:45:25.784Z"
   },
   {
    "duration": 30,
    "start_time": "2022-05-04T17:45:25.827Z"
   },
   {
    "duration": 276,
    "start_time": "2022-05-04T17:45:25.858Z"
   },
   {
    "duration": 20,
    "start_time": "2022-05-04T17:45:26.136Z"
   },
   {
    "duration": 74,
    "start_time": "2022-05-04T17:45:26.159Z"
   },
   {
    "duration": 39,
    "start_time": "2022-05-04T17:45:26.235Z"
   },
   {
    "duration": 250,
    "start_time": "2022-05-04T17:45:26.276Z"
   },
   {
    "duration": 66,
    "start_time": "2022-05-04T17:45:26.528Z"
   },
   {
    "duration": 247,
    "start_time": "2022-05-04T17:45:26.595Z"
   },
   {
    "duration": 665,
    "start_time": "2022-05-04T17:45:26.843Z"
   },
   {
    "duration": 27,
    "start_time": "2022-05-04T17:45:27.510Z"
   },
   {
    "duration": 3121,
    "start_time": "2022-05-04T17:45:27.539Z"
   },
   {
    "duration": 3008,
    "start_time": "2022-05-04T17:45:30.661Z"
   },
   {
    "duration": 13,
    "start_time": "2022-05-04T17:45:33.671Z"
   },
   {
    "duration": 13,
    "start_time": "2022-05-04T17:45:33.685Z"
   },
   {
    "duration": 46,
    "start_time": "2022-05-04T17:45:33.700Z"
   },
   {
    "duration": 248,
    "start_time": "2022-05-04T17:45:33.748Z"
   },
   {
    "duration": 242,
    "start_time": "2022-05-04T17:45:33.998Z"
   },
   {
    "duration": 248,
    "start_time": "2022-05-04T17:45:34.242Z"
   },
   {
    "duration": 17,
    "start_time": "2022-05-04T17:45:34.492Z"
   },
   {
    "duration": 73,
    "start_time": "2022-05-04T17:45:34.511Z"
   },
   {
    "duration": 145,
    "start_time": "2022-05-04T17:45:34.586Z"
   },
   {
    "duration": 8,
    "start_time": "2022-05-04T17:45:58.644Z"
   },
   {
    "duration": 1139,
    "start_time": "2022-05-04T17:45:58.654Z"
   },
   {
    "duration": 87,
    "start_time": "2022-05-04T17:45:59.794Z"
   },
   {
    "duration": 42,
    "start_time": "2022-05-04T17:45:59.883Z"
   },
   {
    "duration": 3,
    "start_time": "2022-05-04T17:45:59.927Z"
   },
   {
    "duration": 5,
    "start_time": "2022-05-04T17:45:59.932Z"
   },
   {
    "duration": 305,
    "start_time": "2022-05-04T17:45:59.938Z"
   },
   {
    "duration": 90,
    "start_time": "2022-05-04T17:46:00.245Z"
   },
   {
    "duration": 11,
    "start_time": "2022-05-04T17:46:00.336Z"
   },
   {
    "duration": 37,
    "start_time": "2022-05-04T17:46:00.350Z"
   },
   {
    "duration": 56,
    "start_time": "2022-05-04T17:46:00.389Z"
   },
   {
    "duration": 277,
    "start_time": "2022-05-04T17:46:00.447Z"
   },
   {
    "duration": 22,
    "start_time": "2022-05-04T17:46:00.726Z"
   },
   {
    "duration": 83,
    "start_time": "2022-05-04T17:46:00.750Z"
   },
   {
    "duration": 41,
    "start_time": "2022-05-04T17:46:00.835Z"
   },
   {
    "duration": 255,
    "start_time": "2022-05-04T17:46:00.877Z"
   },
   {
    "duration": 71,
    "start_time": "2022-05-04T17:46:01.134Z"
   },
   {
    "duration": 271,
    "start_time": "2022-05-04T17:46:01.206Z"
   },
   {
    "duration": 733,
    "start_time": "2022-05-04T17:46:01.479Z"
   },
   {
    "duration": 29,
    "start_time": "2022-05-04T17:46:02.213Z"
   },
   {
    "duration": 2979,
    "start_time": "2022-05-04T17:46:02.244Z"
   },
   {
    "duration": 2936,
    "start_time": "2022-05-04T17:46:05.225Z"
   },
   {
    "duration": 12,
    "start_time": "2022-05-04T17:46:08.164Z"
   },
   {
    "duration": 28,
    "start_time": "2022-05-04T17:46:08.178Z"
   },
   {
    "duration": 28,
    "start_time": "2022-05-04T17:46:08.208Z"
   },
   {
    "duration": 233,
    "start_time": "2022-05-04T17:46:08.238Z"
   },
   {
    "duration": 229,
    "start_time": "2022-05-04T17:46:08.473Z"
   },
   {
    "duration": 238,
    "start_time": "2022-05-04T17:46:08.706Z"
   },
   {
    "duration": 16,
    "start_time": "2022-05-04T17:46:08.946Z"
   },
   {
    "duration": 71,
    "start_time": "2022-05-04T17:46:08.964Z"
   },
   {
    "duration": 12,
    "start_time": "2022-05-04T17:46:13.792Z"
   },
   {
    "duration": 10,
    "start_time": "2022-05-04T17:46:48.399Z"
   },
   {
    "duration": 1182,
    "start_time": "2022-05-04T17:46:48.412Z"
   },
   {
    "duration": 94,
    "start_time": "2022-05-04T17:46:49.596Z"
   },
   {
    "duration": 2,
    "start_time": "2022-05-04T17:46:49.692Z"
   },
   {
    "duration": 534,
    "start_time": "2022-05-04T17:46:49.695Z"
   },
   {
    "duration": 112,
    "start_time": "2022-05-04T17:46:50.230Z"
   },
   {
    "duration": 13,
    "start_time": "2022-05-04T17:46:50.344Z"
   },
   {
    "duration": 66,
    "start_time": "2022-05-04T17:46:50.358Z"
   },
   {
    "duration": 43,
    "start_time": "2022-05-04T17:46:50.426Z"
   },
   {
    "duration": 292,
    "start_time": "2022-05-04T17:46:50.472Z"
   },
   {
    "duration": 21,
    "start_time": "2022-05-04T17:46:50.766Z"
   },
   {
    "duration": 88,
    "start_time": "2022-05-04T17:46:50.788Z"
   },
   {
    "duration": 58,
    "start_time": "2022-05-04T17:46:50.877Z"
   },
   {
    "duration": 238,
    "start_time": "2022-05-04T17:46:50.937Z"
   },
   {
    "duration": 87,
    "start_time": "2022-05-04T17:46:51.176Z"
   },
   {
    "duration": 263,
    "start_time": "2022-05-04T17:46:51.265Z"
   },
   {
    "duration": 682,
    "start_time": "2022-05-04T17:46:51.529Z"
   },
   {
    "duration": 29,
    "start_time": "2022-05-04T17:46:52.213Z"
   },
   {
    "duration": 3136,
    "start_time": "2022-05-04T17:46:52.244Z"
   },
   {
    "duration": 2966,
    "start_time": "2022-05-04T17:46:55.381Z"
   },
   {
    "duration": 20,
    "start_time": "2022-05-04T17:46:58.349Z"
   },
   {
    "duration": 14,
    "start_time": "2022-05-04T17:46:58.370Z"
   },
   {
    "duration": 54,
    "start_time": "2022-05-04T17:46:58.385Z"
   },
   {
    "duration": 237,
    "start_time": "2022-05-04T17:46:58.441Z"
   },
   {
    "duration": 232,
    "start_time": "2022-05-04T17:46:58.680Z"
   },
   {
    "duration": 240,
    "start_time": "2022-05-04T17:46:58.913Z"
   },
   {
    "duration": 17,
    "start_time": "2022-05-04T17:46:59.154Z"
   },
   {
    "duration": 89,
    "start_time": "2022-05-04T17:46:59.173Z"
   },
   {
    "duration": 23,
    "start_time": "2022-05-04T17:47:08.128Z"
   },
   {
    "duration": 92,
    "start_time": "2022-05-04T17:47:10.935Z"
   },
   {
    "duration": 130,
    "start_time": "2022-05-04T17:47:12.663Z"
   },
   {
    "duration": 4,
    "start_time": "2022-05-04T17:47:19.984Z"
   },
   {
    "duration": 2,
    "start_time": "2022-05-04T17:47:21.263Z"
   },
   {
    "duration": 4,
    "start_time": "2022-05-04T17:47:22.087Z"
   },
   {
    "duration": 3,
    "start_time": "2022-05-04T17:47:22.855Z"
   },
   {
    "duration": 33862,
    "start_time": "2022-05-04T17:47:25.326Z"
   },
   {
    "duration": 4,
    "start_time": "2022-05-04T17:48:25.007Z"
   },
   {
    "duration": 706,
    "start_time": "2022-05-04T17:48:25.838Z"
   },
   {
    "duration": 639,
    "start_time": "2022-05-04T17:48:29.736Z"
   },
   {
    "duration": 47,
    "start_time": "2022-05-04T17:53:48.427Z"
   },
   {
    "duration": 633,
    "start_time": "2022-05-04T17:53:57.704Z"
   },
   {
    "duration": 0,
    "start_time": "2022-05-04T17:57:22.884Z"
   },
   {
    "duration": 0,
    "start_time": "2022-05-04T17:57:22.885Z"
   },
   {
    "duration": 814,
    "start_time": "2022-05-04T17:57:24.358Z"
   },
   {
    "duration": 763,
    "start_time": "2022-05-04T17:57:30.063Z"
   },
   {
    "duration": 112061,
    "start_time": "2022-05-04T17:57:32.974Z"
   },
   {
    "duration": 93,
    "start_time": "2022-05-04T17:59:43.935Z"
   },
   {
    "duration": 637,
    "start_time": "2022-05-04T17:59:48.726Z"
   },
   {
    "duration": 652,
    "start_time": "2022-05-04T18:01:48.319Z"
   },
   {
    "duration": 704,
    "start_time": "2022-05-04T18:02:46.337Z"
   },
   {
    "duration": 655,
    "start_time": "2022-05-04T18:04:05.518Z"
   },
   {
    "duration": 29967,
    "start_time": "2022-05-04T18:04:08.669Z"
   },
   {
    "duration": 8,
    "start_time": "2022-05-04T18:04:56.053Z"
   },
   {
    "duration": 8,
    "start_time": "2022-05-04T18:05:17.340Z"
   },
   {
    "duration": 3,
    "start_time": "2022-05-04T18:05:38.173Z"
   },
   {
    "duration": 124402,
    "start_time": "2022-05-04T18:05:48.854Z"
   },
   {
    "duration": 8,
    "start_time": "2022-05-04T18:08:00.937Z"
   },
   {
    "duration": 1259,
    "start_time": "2022-05-04T18:08:00.947Z"
   },
   {
    "duration": 88,
    "start_time": "2022-05-04T18:08:02.207Z"
   },
   {
    "duration": 2,
    "start_time": "2022-05-04T18:08:02.297Z"
   },
   {
    "duration": 449,
    "start_time": "2022-05-04T18:08:02.300Z"
   },
   {
    "duration": 110,
    "start_time": "2022-05-04T18:08:02.751Z"
   },
   {
    "duration": 11,
    "start_time": "2022-05-04T18:08:02.863Z"
   },
   {
    "duration": 70,
    "start_time": "2022-05-04T18:08:02.876Z"
   },
   {
    "duration": 45,
    "start_time": "2022-05-04T18:08:02.947Z"
   },
   {
    "duration": 286,
    "start_time": "2022-05-04T18:08:02.994Z"
   },
   {
    "duration": 23,
    "start_time": "2022-05-04T18:08:03.281Z"
   },
   {
    "duration": 83,
    "start_time": "2022-05-04T18:08:03.306Z"
   },
   {
    "duration": 63,
    "start_time": "2022-05-04T18:08:03.391Z"
   },
   {
    "duration": 246,
    "start_time": "2022-05-04T18:08:03.455Z"
   },
   {
    "duration": 89,
    "start_time": "2022-05-04T18:08:03.702Z"
   },
   {
    "duration": 248,
    "start_time": "2022-05-04T18:08:03.793Z"
   },
   {
    "duration": 661,
    "start_time": "2022-05-04T18:08:04.043Z"
   },
   {
    "duration": 32,
    "start_time": "2022-05-04T18:08:04.705Z"
   },
   {
    "duration": 2956,
    "start_time": "2022-05-04T18:08:04.739Z"
   },
   {
    "duration": 2955,
    "start_time": "2022-05-04T18:08:07.697Z"
   },
   {
    "duration": 23,
    "start_time": "2022-05-04T18:08:10.654Z"
   },
   {
    "duration": 14,
    "start_time": "2022-05-04T18:08:10.678Z"
   },
   {
    "duration": 53,
    "start_time": "2022-05-04T18:08:10.694Z"
   },
   {
    "duration": 245,
    "start_time": "2022-05-04T18:08:10.748Z"
   },
   {
    "duration": 247,
    "start_time": "2022-05-04T18:08:10.995Z"
   },
   {
    "duration": 250,
    "start_time": "2022-05-04T18:08:11.244Z"
   },
   {
    "duration": 27,
    "start_time": "2022-05-04T18:08:11.496Z"
   },
   {
    "duration": 85,
    "start_time": "2022-05-04T18:08:11.528Z"
   },
   {
    "duration": 25,
    "start_time": "2022-05-04T18:08:11.624Z"
   },
   {
    "duration": 101,
    "start_time": "2022-05-04T18:08:11.651Z"
   },
   {
    "duration": 138,
    "start_time": "2022-05-04T18:08:11.754Z"
   },
   {
    "duration": 3,
    "start_time": "2022-05-04T18:08:11.894Z"
   },
   {
    "duration": 6,
    "start_time": "2022-05-04T18:08:11.899Z"
   },
   {
    "duration": 18,
    "start_time": "2022-05-04T18:08:11.907Z"
   },
   {
    "duration": 5,
    "start_time": "2022-05-04T18:08:11.927Z"
   },
   {
    "duration": 33278,
    "start_time": "2022-05-04T18:08:11.933Z"
   },
   {
    "duration": 12,
    "start_time": "2022-05-04T18:08:45.212Z"
   },
   {
    "duration": 765,
    "start_time": "2022-05-04T18:08:45.225Z"
   },
   {
    "duration": 691,
    "start_time": "2022-05-04T18:08:45.991Z"
   },
   {
    "duration": 492451,
    "start_time": "2022-05-04T18:08:46.684Z"
   },
   {
    "duration": 4,
    "start_time": "2022-05-04T18:16:59.137Z"
   },
   {
    "duration": 90,
    "start_time": "2022-05-04T18:16:59.142Z"
   },
   {
    "duration": 473894,
    "start_time": "2022-05-04T18:16:59.234Z"
   },
   {
    "duration": 5,
    "start_time": "2022-05-04T18:24:53.130Z"
   },
   {
    "duration": 10140,
    "start_time": "2022-05-04T18:24:53.137Z"
   },
   {
    "duration": 35,
    "start_time": "2022-05-04T18:25:03.279Z"
   },
   {
    "duration": 0,
    "start_time": "2022-05-04T18:25:03.316Z"
   },
   {
    "duration": 0,
    "start_time": "2022-05-04T18:25:03.317Z"
   },
   {
    "duration": 0,
    "start_time": "2022-05-04T18:25:03.319Z"
   },
   {
    "duration": 0,
    "start_time": "2022-05-04T18:25:03.324Z"
   },
   {
    "duration": 0,
    "start_time": "2022-05-04T18:25:03.325Z"
   },
   {
    "duration": 0,
    "start_time": "2022-05-04T18:25:03.327Z"
   },
   {
    "duration": 0,
    "start_time": "2022-05-04T18:25:03.329Z"
   },
   {
    "duration": 0,
    "start_time": "2022-05-04T18:25:03.331Z"
   },
   {
    "duration": 0,
    "start_time": "2022-05-04T18:25:03.332Z"
   },
   {
    "duration": 0,
    "start_time": "2022-05-04T18:25:03.333Z"
   },
   {
    "duration": 0,
    "start_time": "2022-05-04T18:25:03.335Z"
   },
   {
    "duration": 0,
    "start_time": "2022-05-04T18:25:03.337Z"
   },
   {
    "duration": 0,
    "start_time": "2022-05-04T18:25:03.338Z"
   },
   {
    "duration": 0,
    "start_time": "2022-05-04T18:25:03.339Z"
   },
   {
    "duration": 0,
    "start_time": "2022-05-04T18:25:03.341Z"
   },
   {
    "duration": 0,
    "start_time": "2022-05-04T18:25:03.342Z"
   },
   {
    "duration": 0,
    "start_time": "2022-05-04T18:25:03.344Z"
   },
   {
    "duration": 0,
    "start_time": "2022-05-04T18:25:03.345Z"
   },
   {
    "duration": 0,
    "start_time": "2022-05-04T18:25:03.346Z"
   },
   {
    "duration": 0,
    "start_time": "2022-05-04T18:25:03.348Z"
   },
   {
    "duration": 0,
    "start_time": "2022-05-04T18:25:03.349Z"
   },
   {
    "duration": 0,
    "start_time": "2022-05-04T18:25:03.351Z"
   },
   {
    "duration": 0,
    "start_time": "2022-05-04T18:25:03.352Z"
   },
   {
    "duration": 0,
    "start_time": "2022-05-04T18:25:03.353Z"
   },
   {
    "duration": 41,
    "start_time": "2022-05-04T19:09:25.595Z"
   },
   {
    "duration": 1686,
    "start_time": "2022-05-04T19:09:40.061Z"
   },
   {
    "duration": 1210,
    "start_time": "2022-05-04T19:09:41.749Z"
   },
   {
    "duration": 78,
    "start_time": "2022-05-04T19:09:42.961Z"
   },
   {
    "duration": 2,
    "start_time": "2022-05-04T19:09:43.041Z"
   },
   {
    "duration": 417,
    "start_time": "2022-05-04T19:09:43.045Z"
   },
   {
    "duration": 113,
    "start_time": "2022-05-04T19:09:43.464Z"
   },
   {
    "duration": 22,
    "start_time": "2022-05-04T19:09:43.578Z"
   },
   {
    "duration": 52,
    "start_time": "2022-05-04T19:09:43.602Z"
   },
   {
    "duration": 48,
    "start_time": "2022-05-04T19:09:43.655Z"
   },
   {
    "duration": 267,
    "start_time": "2022-05-04T19:09:43.704Z"
   },
   {
    "duration": 29,
    "start_time": "2022-05-04T19:09:43.972Z"
   },
   {
    "duration": 79,
    "start_time": "2022-05-04T19:09:44.002Z"
   },
   {
    "duration": 53,
    "start_time": "2022-05-04T19:09:44.083Z"
   },
   {
    "duration": 237,
    "start_time": "2022-05-04T19:09:44.139Z"
   },
   {
    "duration": 80,
    "start_time": "2022-05-04T19:09:44.377Z"
   },
   {
    "duration": 290,
    "start_time": "2022-05-04T19:09:44.458Z"
   },
   {
    "duration": 732,
    "start_time": "2022-05-04T19:09:44.749Z"
   },
   {
    "duration": 24,
    "start_time": "2022-05-04T19:09:45.482Z"
   },
   {
    "duration": 3119,
    "start_time": "2022-05-04T19:09:45.507Z"
   },
   {
    "duration": 3101,
    "start_time": "2022-05-04T19:09:48.627Z"
   },
   {
    "duration": 19,
    "start_time": "2022-05-04T19:09:51.730Z"
   },
   {
    "duration": 14,
    "start_time": "2022-05-04T19:09:51.751Z"
   },
   {
    "duration": 68,
    "start_time": "2022-05-04T19:09:51.767Z"
   },
   {
    "duration": 303,
    "start_time": "2022-05-04T19:09:51.837Z"
   },
   {
    "duration": 377,
    "start_time": "2022-05-04T19:09:52.142Z"
   },
   {
    "duration": 273,
    "start_time": "2022-05-04T19:09:52.521Z"
   },
   {
    "duration": 25,
    "start_time": "2022-05-04T19:09:52.799Z"
   },
   {
    "duration": 154,
    "start_time": "2022-05-04T19:09:52.826Z"
   },
   {
    "duration": 115,
    "start_time": "2022-05-04T19:09:52.982Z"
   },
   {
    "duration": 130,
    "start_time": "2022-05-04T19:09:53.099Z"
   },
   {
    "duration": 152,
    "start_time": "2022-05-04T19:09:53.232Z"
   },
   {
    "duration": 3,
    "start_time": "2022-05-04T19:09:53.386Z"
   },
   {
    "duration": 20,
    "start_time": "2022-05-04T19:09:53.390Z"
   },
   {
    "duration": 33,
    "start_time": "2022-05-04T19:09:53.412Z"
   },
   {
    "duration": 22,
    "start_time": "2022-05-04T19:09:53.447Z"
   },
   {
    "duration": 37595,
    "start_time": "2022-05-04T19:09:53.471Z"
   },
   {
    "duration": 3,
    "start_time": "2022-05-04T19:10:31.067Z"
   },
   {
    "duration": 850,
    "start_time": "2022-05-04T19:10:31.072Z"
   },
   {
    "duration": 759,
    "start_time": "2022-05-04T19:10:31.924Z"
   },
   {
    "duration": 336123,
    "start_time": "2022-05-04T19:10:32.684Z"
   },
   {
    "duration": 4,
    "start_time": "2022-05-04T19:16:08.811Z"
   },
   {
    "duration": 3294,
    "start_time": "2022-05-04T19:16:08.816Z"
   },
   {
    "duration": 4,
    "start_time": "2022-05-04T19:16:12.112Z"
   },
   {
    "duration": 502618,
    "start_time": "2022-05-04T19:16:12.118Z"
   },
   {
    "duration": 3,
    "start_time": "2022-05-04T19:24:34.738Z"
   },
   {
    "duration": 9676,
    "start_time": "2022-05-04T19:24:34.743Z"
   },
   {
    "duration": 8,
    "start_time": "2022-05-04T19:24:44.421Z"
   },
   {
    "duration": 70,
    "start_time": "2022-05-04T19:48:53.349Z"
   },
   {
    "duration": 8,
    "start_time": "2022-05-04T19:50:57.068Z"
   },
   {
    "duration": 7,
    "start_time": "2022-05-04T19:51:23.740Z"
   },
   {
    "duration": 8,
    "start_time": "2022-05-04T19:51:27.873Z"
   },
   {
    "duration": 9,
    "start_time": "2022-05-04T19:51:30.027Z"
   },
   {
    "duration": 10,
    "start_time": "2022-05-04T20:00:18.193Z"
   },
   {
    "duration": 8,
    "start_time": "2022-05-04T20:00:32.242Z"
   },
   {
    "duration": 177124,
    "start_time": "2022-05-04T20:04:10.994Z"
   },
   {
    "duration": 2212,
    "start_time": "2022-05-05T19:42:45.486Z"
   },
   {
    "duration": 1332,
    "start_time": "2022-05-05T19:42:47.701Z"
   },
   {
    "duration": 96,
    "start_time": "2022-05-05T19:42:49.035Z"
   },
   {
    "duration": 3,
    "start_time": "2022-05-05T19:42:49.133Z"
   },
   {
    "duration": 502,
    "start_time": "2022-05-05T19:42:49.137Z"
   },
   {
    "duration": 109,
    "start_time": "2022-05-05T19:42:49.641Z"
   },
   {
    "duration": 17,
    "start_time": "2022-05-05T19:42:49.752Z"
   },
   {
    "duration": 84,
    "start_time": "2022-05-05T19:42:49.770Z"
   },
   {
    "duration": 43,
    "start_time": "2022-05-05T19:42:49.857Z"
   },
   {
    "duration": 318,
    "start_time": "2022-05-05T19:42:49.901Z"
   },
   {
    "duration": 24,
    "start_time": "2022-05-05T19:42:50.319Z"
   },
   {
    "duration": 87,
    "start_time": "2022-05-05T19:42:50.555Z"
   },
   {
    "duration": 50,
    "start_time": "2022-05-05T19:42:51.219Z"
   },
   {
    "duration": 80,
    "start_time": "2022-05-05T19:42:52.439Z"
   },
   {
    "duration": 273,
    "start_time": "2022-05-05T19:42:52.767Z"
   },
   {
    "duration": 782,
    "start_time": "2022-05-05T19:42:53.603Z"
   },
   {
    "duration": 26,
    "start_time": "2022-05-05T19:42:54.737Z"
   },
   {
    "duration": 3095,
    "start_time": "2022-05-05T19:42:55.253Z"
   },
   {
    "duration": 5031,
    "start_time": "2022-05-05T19:42:58.351Z"
   },
   {
    "duration": 21,
    "start_time": "2022-05-05T19:43:03.385Z"
   },
   {
    "duration": 36,
    "start_time": "2022-05-05T19:43:03.409Z"
   },
   {
    "duration": 55,
    "start_time": "2022-05-05T19:43:03.448Z"
   },
   {
    "duration": 461,
    "start_time": "2022-05-05T19:43:03.505Z"
   },
   {
    "duration": 455,
    "start_time": "2022-05-05T19:43:03.969Z"
   },
   {
    "duration": 377,
    "start_time": "2022-05-05T19:43:04.426Z"
   },
   {
    "duration": 48,
    "start_time": "2022-05-05T19:44:20.654Z"
   },
   {
    "duration": 44,
    "start_time": "2022-05-05T19:44:59.572Z"
   },
   {
    "duration": 43,
    "start_time": "2022-05-05T19:45:06.775Z"
   },
   {
    "duration": 141,
    "start_time": "2022-05-05T19:49:00.731Z"
   },
   {
    "duration": 17,
    "start_time": "2022-05-05T19:49:09.662Z"
   },
   {
    "duration": 76,
    "start_time": "2022-05-05T20:18:56.826Z"
   },
   {
    "duration": 46,
    "start_time": "2022-05-07T10:14:32.335Z"
   },
   {
    "duration": 1664,
    "start_time": "2022-05-07T10:14:35.705Z"
   },
   {
    "duration": 1304,
    "start_time": "2022-05-07T10:14:37.371Z"
   },
   {
    "duration": 93,
    "start_time": "2022-05-07T10:14:38.676Z"
   },
   {
    "duration": 3,
    "start_time": "2022-05-07T10:14:38.771Z"
   },
   {
    "duration": 486,
    "start_time": "2022-05-07T10:14:38.775Z"
   },
   {
    "duration": 102,
    "start_time": "2022-05-07T10:14:39.263Z"
   },
   {
    "duration": 16,
    "start_time": "2022-05-07T10:14:39.366Z"
   },
   {
    "duration": 74,
    "start_time": "2022-05-07T10:14:39.384Z"
   },
   {
    "duration": 41,
    "start_time": "2022-05-07T10:14:39.459Z"
   },
   {
    "duration": 284,
    "start_time": "2022-05-07T10:14:39.502Z"
   },
   {
    "duration": 22,
    "start_time": "2022-05-07T10:14:39.788Z"
   },
   {
    "duration": 89,
    "start_time": "2022-05-07T10:14:39.811Z"
   },
   {
    "duration": 57,
    "start_time": "2022-05-07T10:14:39.902Z"
   },
   {
    "duration": 87,
    "start_time": "2022-05-07T10:14:39.960Z"
   },
   {
    "duration": 244,
    "start_time": "2022-05-07T10:14:40.049Z"
   },
   {
    "duration": 745,
    "start_time": "2022-05-07T10:14:40.295Z"
   },
   {
    "duration": 23,
    "start_time": "2022-05-07T10:14:41.042Z"
   },
   {
    "duration": 2834,
    "start_time": "2022-05-07T10:14:41.067Z"
   },
   {
    "duration": 2827,
    "start_time": "2022-05-07T10:14:43.902Z"
   },
   {
    "duration": 17,
    "start_time": "2022-05-07T10:14:46.731Z"
   },
   {
    "duration": 14,
    "start_time": "2022-05-07T10:14:46.750Z"
   },
   {
    "duration": 32,
    "start_time": "2022-05-07T10:14:46.766Z"
   },
   {
    "duration": 232,
    "start_time": "2022-05-07T10:14:53.748Z"
   },
   {
    "duration": 223,
    "start_time": "2022-05-07T10:14:55.819Z"
   },
   {
    "duration": 231,
    "start_time": "2022-05-07T10:14:57.052Z"
   },
   {
    "duration": 234,
    "start_time": "2022-05-07T10:15:07.452Z"
   },
   {
    "duration": 226,
    "start_time": "2022-05-07T10:15:08.468Z"
   },
   {
    "duration": 17,
    "start_time": "2022-05-07T10:15:11.683Z"
   },
   {
    "duration": 72,
    "start_time": "2022-05-07T10:15:13.626Z"
   },
   {
    "duration": 1484,
    "start_time": "2022-05-07T12:50:33.109Z"
   },
   {
    "duration": 1251,
    "start_time": "2022-05-07T12:50:34.595Z"
   },
   {
    "duration": 90,
    "start_time": "2022-05-07T12:50:35.848Z"
   },
   {
    "duration": 3,
    "start_time": "2022-05-07T12:50:35.940Z"
   },
   {
    "duration": 451,
    "start_time": "2022-05-07T12:50:35.945Z"
   },
   {
    "duration": 101,
    "start_time": "2022-05-07T12:50:36.398Z"
   },
   {
    "duration": 28,
    "start_time": "2022-05-07T12:50:36.501Z"
   },
   {
    "duration": 57,
    "start_time": "2022-05-07T12:50:36.531Z"
   },
   {
    "duration": 53,
    "start_time": "2022-05-07T12:50:36.589Z"
   },
   {
    "duration": 281,
    "start_time": "2022-05-07T12:50:36.645Z"
   },
   {
    "duration": 22,
    "start_time": "2022-05-07T12:50:36.927Z"
   },
   {
    "duration": 93,
    "start_time": "2022-05-07T12:50:36.950Z"
   },
   {
    "duration": 46,
    "start_time": "2022-05-07T12:50:37.045Z"
   },
   {
    "duration": 87,
    "start_time": "2022-05-07T12:50:37.092Z"
   },
   {
    "duration": 232,
    "start_time": "2022-05-07T12:50:37.180Z"
   },
   {
    "duration": 730,
    "start_time": "2022-05-07T12:50:37.414Z"
   },
   {
    "duration": 24,
    "start_time": "2022-05-07T12:50:38.146Z"
   },
   {
    "duration": 2849,
    "start_time": "2022-05-07T12:50:38.171Z"
   },
   {
    "duration": 2926,
    "start_time": "2022-05-07T12:50:41.023Z"
   },
   {
    "duration": 16,
    "start_time": "2022-05-07T12:50:43.951Z"
   },
   {
    "duration": 13,
    "start_time": "2022-05-07T12:50:43.969Z"
   },
   {
    "duration": 52,
    "start_time": "2022-05-07T12:50:43.984Z"
   },
   {
    "duration": 235,
    "start_time": "2022-05-07T12:50:44.038Z"
   },
   {
    "duration": 227,
    "start_time": "2022-05-07T12:50:44.275Z"
   },
   {
    "duration": 223,
    "start_time": "2022-05-07T12:50:44.503Z"
   },
   {
    "duration": 17,
    "start_time": "2022-05-07T12:50:44.727Z"
   },
   {
    "duration": 83,
    "start_time": "2022-05-07T12:50:44.745Z"
   },
   {
    "duration": 23,
    "start_time": "2022-05-07T12:50:44.832Z"
   },
   {
    "duration": 97,
    "start_time": "2022-05-07T12:50:44.857Z"
   },
   {
    "duration": 136,
    "start_time": "2022-05-07T12:50:44.956Z"
   },
   {
    "duration": 4,
    "start_time": "2022-05-07T12:50:45.093Z"
   },
   {
    "duration": 6,
    "start_time": "2022-05-07T12:50:45.098Z"
   },
   {
    "duration": 6,
    "start_time": "2022-05-07T12:50:45.105Z"
   },
   {
    "duration": 2,
    "start_time": "2022-05-07T12:50:45.124Z"
   },
   {
    "duration": 34684,
    "start_time": "2022-05-07T12:50:45.128Z"
   },
   {
    "duration": 12,
    "start_time": "2022-05-07T12:51:19.814Z"
   },
   {
    "duration": 760,
    "start_time": "2022-05-07T12:51:19.828Z"
   },
   {
    "duration": 291,
    "start_time": "2022-05-07T12:53:23.458Z"
   },
   {
    "duration": 245168,
    "start_time": "2022-05-07T12:53:27.364Z"
   },
   {
    "duration": 87,
    "start_time": "2022-05-07T12:59:28.673Z"
   },
   {
    "duration": 3,
    "start_time": "2022-05-07T12:59:45.491Z"
   },
   {
    "duration": 45023,
    "start_time": "2022-05-07T13:00:18.755Z"
   },
   {
    "duration": 150,
    "start_time": "2022-05-07T13:03:11.744Z"
   },
   {
    "duration": 201,
    "start_time": "2022-05-07T13:03:13.915Z"
   },
   {
    "duration": 287725,
    "start_time": "2022-05-07T13:03:40.405Z"
   },
   {
    "duration": 5,
    "start_time": "2022-05-07T13:09:17.281Z"
   },
   {
    "duration": 4077,
    "start_time": "2022-05-07T13:09:21.457Z"
   },
   {
    "duration": 4,
    "start_time": "2022-05-07T13:09:31.297Z"
   },
   {
    "duration": 888,
    "start_time": "2022-05-07T13:11:36.305Z"
   },
   {
    "duration": 5480,
    "start_time": "2022-05-07T13:12:16.362Z"
   },
   {
    "duration": 4,
    "start_time": "2022-05-07T13:12:43.042Z"
   },
   {
    "duration": 514137,
    "start_time": "2022-05-07T13:12:44.489Z"
   },
   {
    "duration": 510491,
    "start_time": "2022-05-07T13:31:05.846Z"
   },
   {
    "duration": 4,
    "start_time": "2022-05-07T13:42:00.741Z"
   },
   {
    "duration": 11116,
    "start_time": "2022-05-07T13:42:01.828Z"
   },
   {
    "duration": 19,
    "start_time": "2022-05-07T13:42:20.732Z"
   },
   {
    "duration": 14,
    "start_time": "2022-05-07T13:42:34.189Z"
   },
   {
    "duration": 98,
    "start_time": "2022-05-07T13:43:45.093Z"
   },
   {
    "duration": 13,
    "start_time": "2022-05-07T13:43:53.532Z"
   },
   {
    "duration": 14,
    "start_time": "2022-05-07T13:43:57.701Z"
   },
   {
    "duration": 8683,
    "start_time": "2022-05-07T13:44:07.252Z"
   },
   {
    "duration": 5,
    "start_time": "2022-05-07T13:45:13.901Z"
   },
   {
    "duration": 13,
    "start_time": "2022-05-07T13:46:22.204Z"
   },
   {
    "duration": 11135,
    "start_time": "2022-05-07T13:48:12.068Z"
   },
   {
    "duration": 15,
    "start_time": "2022-05-07T13:49:41.756Z"
   },
   {
    "duration": 17,
    "start_time": "2022-05-07T13:49:47.940Z"
   },
   {
    "duration": 15,
    "start_time": "2022-05-07T13:50:05.724Z"
   },
   {
    "duration": 4,
    "start_time": "2022-05-07T13:50:10.940Z"
   },
   {
    "duration": 20,
    "start_time": "2022-05-07T13:51:07.741Z"
   },
   {
    "duration": 17,
    "start_time": "2022-05-07T13:51:38.428Z"
   },
   {
    "duration": 3781,
    "start_time": "2022-05-07T13:53:50.644Z"
   },
   {
    "duration": 8183,
    "start_time": "2022-05-07T13:54:50.244Z"
   },
   {
    "duration": 10712,
    "start_time": "2022-05-07T13:55:10.379Z"
   },
   {
    "duration": 6,
    "start_time": "2022-05-07T13:55:22.738Z"
   },
   {
    "duration": 17,
    "start_time": "2022-05-07T13:55:25.450Z"
   },
   {
    "duration": 10,
    "start_time": "2022-05-07T13:55:33.605Z"
   },
   {
    "duration": 1215,
    "start_time": "2022-05-07T13:55:33.617Z"
   },
   {
    "duration": 91,
    "start_time": "2022-05-07T13:55:34.834Z"
   },
   {
    "duration": 3,
    "start_time": "2022-05-07T13:55:34.927Z"
   },
   {
    "duration": 418,
    "start_time": "2022-05-07T13:55:34.932Z"
   },
   {
    "duration": 101,
    "start_time": "2022-05-07T13:55:35.351Z"
   },
   {
    "duration": 12,
    "start_time": "2022-05-07T13:55:35.454Z"
   },
   {
    "duration": 82,
    "start_time": "2022-05-07T13:55:35.468Z"
   },
   {
    "duration": 39,
    "start_time": "2022-05-07T13:55:35.551Z"
   },
   {
    "duration": 276,
    "start_time": "2022-05-07T13:55:35.593Z"
   },
   {
    "duration": 22,
    "start_time": "2022-05-07T13:55:35.871Z"
   },
   {
    "duration": 89,
    "start_time": "2022-05-07T13:55:35.895Z"
   },
   {
    "duration": 58,
    "start_time": "2022-05-07T13:55:35.985Z"
   },
   {
    "duration": 81,
    "start_time": "2022-05-07T13:55:36.045Z"
   },
   {
    "duration": 250,
    "start_time": "2022-05-07T13:55:36.127Z"
   },
   {
    "duration": 665,
    "start_time": "2022-05-07T13:55:36.379Z"
   },
   {
    "duration": 25,
    "start_time": "2022-05-07T13:55:37.046Z"
   },
   {
    "duration": 2942,
    "start_time": "2022-05-07T13:55:37.072Z"
   },
   {
    "duration": 2951,
    "start_time": "2022-05-07T13:55:40.015Z"
   },
   {
    "duration": 18,
    "start_time": "2022-05-07T13:55:42.968Z"
   },
   {
    "duration": 15,
    "start_time": "2022-05-07T13:55:42.987Z"
   },
   {
    "duration": 44,
    "start_time": "2022-05-07T13:55:43.004Z"
   },
   {
    "duration": 244,
    "start_time": "2022-05-07T13:55:43.049Z"
   },
   {
    "duration": 244,
    "start_time": "2022-05-07T13:55:43.295Z"
   },
   {
    "duration": 238,
    "start_time": "2022-05-07T13:55:43.541Z"
   },
   {
    "duration": 18,
    "start_time": "2022-05-07T13:55:43.781Z"
   },
   {
    "duration": 92,
    "start_time": "2022-05-07T13:55:43.801Z"
   },
   {
    "duration": 37,
    "start_time": "2022-05-07T13:55:43.897Z"
   },
   {
    "duration": 95,
    "start_time": "2022-05-07T13:55:43.936Z"
   },
   {
    "duration": 92,
    "start_time": "2022-05-07T13:55:44.033Z"
   },
   {
    "duration": 4,
    "start_time": "2022-05-07T13:55:44.126Z"
   },
   {
    "duration": 7,
    "start_time": "2022-05-07T13:55:44.132Z"
   },
   {
    "duration": 5,
    "start_time": "2022-05-07T13:55:44.141Z"
   },
   {
    "duration": 11,
    "start_time": "2022-05-07T13:55:44.148Z"
   },
   {
    "duration": 41685,
    "start_time": "2022-05-07T13:55:44.161Z"
   },
   {
    "duration": 3,
    "start_time": "2022-05-07T13:56:25.848Z"
   },
   {
    "duration": 882,
    "start_time": "2022-05-07T13:56:25.852Z"
   },
   {
    "duration": 157,
    "start_time": "2022-05-07T13:56:26.736Z"
   },
   {
    "duration": 315035,
    "start_time": "2022-05-07T13:56:26.895Z"
   },
   {
    "duration": 4,
    "start_time": "2022-05-07T14:01:41.931Z"
   },
   {
    "duration": 4796,
    "start_time": "2022-05-07T14:01:41.937Z"
   },
   {
    "duration": 4,
    "start_time": "2022-05-07T14:01:46.735Z"
   },
   {
    "duration": 519362,
    "start_time": "2022-05-07T14:01:46.740Z"
   },
   {
    "duration": 4,
    "start_time": "2022-05-07T14:10:26.104Z"
   },
   {
    "duration": 11261,
    "start_time": "2022-05-07T14:10:26.109Z"
   },
   {
    "duration": 4,
    "start_time": "2022-05-07T14:10:37.372Z"
   },
   {
    "duration": 17,
    "start_time": "2022-05-07T14:10:37.378Z"
   },
   {
    "duration": 9,
    "start_time": "2022-05-07T14:10:58.072Z"
   },
   {
    "duration": 6763,
    "start_time": "2022-05-07T14:11:07.473Z"
   },
   {
    "duration": 99,
    "start_time": "2022-05-07T14:26:43.511Z"
   },
   {
    "duration": 100,
    "start_time": "2022-05-07T14:28:21.821Z"
   },
   {
    "duration": 1406,
    "start_time": "2022-05-07T14:46:28.028Z"
   },
   {
    "duration": 1271,
    "start_time": "2022-05-07T14:46:29.435Z"
   },
   {
    "duration": 90,
    "start_time": "2022-05-07T14:46:30.708Z"
   },
   {
    "duration": 2,
    "start_time": "2022-05-07T14:46:30.800Z"
   },
   {
    "duration": 471,
    "start_time": "2022-05-07T14:46:30.804Z"
   },
   {
    "duration": 99,
    "start_time": "2022-05-07T14:46:31.277Z"
   },
   {
    "duration": 24,
    "start_time": "2022-05-07T14:46:31.378Z"
   },
   {
    "duration": 68,
    "start_time": "2022-05-07T14:46:31.404Z"
   },
   {
    "duration": 50,
    "start_time": "2022-05-07T14:46:31.474Z"
   },
   {
    "duration": 282,
    "start_time": "2022-05-07T14:46:31.527Z"
   },
   {
    "duration": 27,
    "start_time": "2022-05-07T14:46:31.811Z"
   },
   {
    "duration": 94,
    "start_time": "2022-05-07T14:46:31.840Z"
   },
   {
    "duration": 49,
    "start_time": "2022-05-07T14:46:31.936Z"
   },
   {
    "duration": 92,
    "start_time": "2022-05-07T14:46:31.986Z"
   },
   {
    "duration": 249,
    "start_time": "2022-05-07T14:46:32.080Z"
   },
   {
    "duration": 669,
    "start_time": "2022-05-07T14:46:32.330Z"
   },
   {
    "duration": 32,
    "start_time": "2022-05-07T14:46:33.001Z"
   },
   {
    "duration": 2944,
    "start_time": "2022-05-07T14:46:33.035Z"
   },
   {
    "duration": 3086,
    "start_time": "2022-05-07T14:46:35.980Z"
   },
   {
    "duration": 19,
    "start_time": "2022-05-07T14:46:39.068Z"
   },
   {
    "duration": 14,
    "start_time": "2022-05-07T14:46:39.089Z"
   },
   {
    "duration": 51,
    "start_time": "2022-05-07T14:46:39.105Z"
   },
   {
    "duration": 244,
    "start_time": "2022-05-07T14:46:39.158Z"
   },
   {
    "duration": 246,
    "start_time": "2022-05-07T14:46:39.404Z"
   },
   {
    "duration": 313,
    "start_time": "2022-05-07T14:46:39.652Z"
   },
   {
    "duration": 19,
    "start_time": "2022-05-07T14:46:39.967Z"
   },
   {
    "duration": 82,
    "start_time": "2022-05-07T14:46:39.988Z"
   },
   {
    "duration": 24,
    "start_time": "2022-05-07T14:46:40.073Z"
   },
   {
    "duration": 109,
    "start_time": "2022-05-07T14:46:40.099Z"
   },
   {
    "duration": 88,
    "start_time": "2022-05-07T14:46:40.209Z"
   },
   {
    "duration": 5,
    "start_time": "2022-05-07T14:46:40.298Z"
   },
   {
    "duration": 19,
    "start_time": "2022-05-07T14:46:40.305Z"
   },
   {
    "duration": 11,
    "start_time": "2022-05-07T14:46:40.326Z"
   },
   {
    "duration": 9,
    "start_time": "2022-05-07T14:46:40.338Z"
   },
   {
    "duration": 44035,
    "start_time": "2022-05-07T14:46:40.349Z"
   },
   {
    "duration": 4,
    "start_time": "2022-05-07T14:47:24.386Z"
   },
   {
    "duration": 937,
    "start_time": "2022-05-07T14:47:24.392Z"
   },
   {
    "duration": 174,
    "start_time": "2022-05-07T14:47:25.330Z"
   },
   {
    "duration": 336328,
    "start_time": "2022-05-07T14:47:25.505Z"
   },
   {
    "duration": 3,
    "start_time": "2022-05-07T14:53:01.835Z"
   },
   {
    "duration": 108,
    "start_time": "2022-05-07T14:53:01.839Z"
   },
   {
    "duration": 0,
    "start_time": "2022-05-07T14:53:01.949Z"
   },
   {
    "duration": 0,
    "start_time": "2022-05-07T14:53:01.950Z"
   },
   {
    "duration": 0,
    "start_time": "2022-05-07T14:53:01.950Z"
   },
   {
    "duration": 0,
    "start_time": "2022-05-07T14:53:01.952Z"
   },
   {
    "duration": 0,
    "start_time": "2022-05-07T14:53:01.953Z"
   },
   {
    "duration": 0,
    "start_time": "2022-05-07T14:53:01.957Z"
   },
   {
    "duration": 0,
    "start_time": "2022-05-07T14:53:01.958Z"
   },
   {
    "duration": 101,
    "start_time": "2022-05-07T14:56:10.177Z"
   },
   {
    "duration": 4990,
    "start_time": "2022-05-07T14:56:20.338Z"
   },
   {
    "duration": 7051,
    "start_time": "2022-05-07T14:56:38.280Z"
   },
   {
    "duration": 4,
    "start_time": "2022-05-07T14:56:45.334Z"
   },
   {
    "duration": 527154,
    "start_time": "2022-05-07T14:56:45.340Z"
   },
   {
    "duration": 4,
    "start_time": "2022-05-07T15:05:32.496Z"
   },
   {
    "duration": 10911,
    "start_time": "2022-05-07T15:05:32.502Z"
   },
   {
    "duration": 4,
    "start_time": "2022-05-07T15:05:43.415Z"
   },
   {
    "duration": 17,
    "start_time": "2022-05-07T15:05:43.423Z"
   },
   {
    "duration": 0,
    "start_time": "2022-05-07T15:05:43.441Z"
   },
   {
    "duration": 7937,
    "start_time": "2022-05-07T15:06:16.496Z"
   },
   {
    "duration": 1488,
    "start_time": "2022-05-07T15:07:06.454Z"
   },
   {
    "duration": 1249,
    "start_time": "2022-05-07T15:07:07.943Z"
   },
   {
    "duration": 87,
    "start_time": "2022-05-07T15:07:09.194Z"
   },
   {
    "duration": 3,
    "start_time": "2022-05-07T15:07:09.283Z"
   },
   {
    "duration": 457,
    "start_time": "2022-05-07T15:07:09.287Z"
   },
   {
    "duration": 99,
    "start_time": "2022-05-07T15:07:09.746Z"
   },
   {
    "duration": 16,
    "start_time": "2022-05-07T15:07:09.847Z"
   },
   {
    "duration": 71,
    "start_time": "2022-05-07T15:07:09.865Z"
   },
   {
    "duration": 42,
    "start_time": "2022-05-07T15:07:09.938Z"
   },
   {
    "duration": 302,
    "start_time": "2022-05-07T15:07:09.983Z"
   },
   {
    "duration": 24,
    "start_time": "2022-05-07T15:07:10.287Z"
   },
   {
    "duration": 85,
    "start_time": "2022-05-07T15:07:10.323Z"
   },
   {
    "duration": 83,
    "start_time": "2022-05-07T15:07:10.410Z"
   },
   {
    "duration": 114,
    "start_time": "2022-05-07T15:07:10.496Z"
   },
   {
    "duration": 243,
    "start_time": "2022-05-07T15:07:10.611Z"
   },
   {
    "duration": 662,
    "start_time": "2022-05-07T15:07:10.855Z"
   },
   {
    "duration": 25,
    "start_time": "2022-05-07T15:07:11.518Z"
   },
   {
    "duration": 2938,
    "start_time": "2022-05-07T15:07:11.544Z"
   },
   {
    "duration": 2871,
    "start_time": "2022-05-07T15:07:14.484Z"
   },
   {
    "duration": 18,
    "start_time": "2022-05-07T15:07:17.357Z"
   },
   {
    "duration": 15,
    "start_time": "2022-05-07T15:07:17.377Z"
   },
   {
    "duration": 44,
    "start_time": "2022-05-07T15:07:17.393Z"
   },
   {
    "duration": 240,
    "start_time": "2022-05-07T15:07:17.439Z"
   },
   {
    "duration": 249,
    "start_time": "2022-05-07T15:07:17.681Z"
   },
   {
    "duration": 305,
    "start_time": "2022-05-07T15:07:17.932Z"
   },
   {
    "duration": 17,
    "start_time": "2022-05-07T15:07:18.239Z"
   },
   {
    "duration": 85,
    "start_time": "2022-05-07T15:07:18.257Z"
   },
   {
    "duration": 24,
    "start_time": "2022-05-07T15:07:18.346Z"
   },
   {
    "duration": 103,
    "start_time": "2022-05-07T15:07:18.371Z"
   },
   {
    "duration": 89,
    "start_time": "2022-05-07T15:07:18.475Z"
   },
   {
    "duration": 3,
    "start_time": "2022-05-07T15:07:18.566Z"
   },
   {
    "duration": 7,
    "start_time": "2022-05-07T15:07:18.571Z"
   },
   {
    "duration": 6,
    "start_time": "2022-05-07T15:07:18.579Z"
   },
   {
    "duration": 6,
    "start_time": "2022-05-07T15:07:18.586Z"
   },
   {
    "duration": 43685,
    "start_time": "2022-05-07T15:07:18.594Z"
   },
   {
    "duration": 4,
    "start_time": "2022-05-07T15:08:02.280Z"
   },
   {
    "duration": 938,
    "start_time": "2022-05-07T15:08:02.285Z"
   },
   {
    "duration": 171,
    "start_time": "2022-05-07T15:08:03.225Z"
   },
   {
    "duration": 323835,
    "start_time": "2022-05-07T15:08:03.398Z"
   },
   {
    "duration": 4,
    "start_time": "2022-05-07T15:13:27.234Z"
   },
   {
    "duration": 4597,
    "start_time": "2022-05-07T15:13:27.240Z"
   },
   {
    "duration": 4,
    "start_time": "2022-05-07T15:13:31.839Z"
   },
   {
    "duration": 523623,
    "start_time": "2022-05-07T15:13:31.845Z"
   },
   {
    "duration": 4,
    "start_time": "2022-05-07T15:22:15.469Z"
   },
   {
    "duration": 11050,
    "start_time": "2022-05-07T15:22:15.474Z"
   },
   {
    "duration": 4,
    "start_time": "2022-05-07T15:22:26.525Z"
   },
   {
    "duration": 9,
    "start_time": "2022-05-07T15:22:26.531Z"
   },
   {
    "duration": 6496,
    "start_time": "2022-05-07T15:22:26.541Z"
   },
   {
    "duration": 1662,
    "start_time": "2022-05-07T18:02:43.537Z"
   },
   {
    "duration": 1201,
    "start_time": "2022-05-07T18:02:46.634Z"
   },
   {
    "duration": 88,
    "start_time": "2022-05-07T18:02:47.837Z"
   },
   {
    "duration": 2,
    "start_time": "2022-05-07T18:02:47.977Z"
   },
   {
    "duration": 438,
    "start_time": "2022-05-07T18:02:48.545Z"
   },
   {
    "duration": 104,
    "start_time": "2022-05-07T18:02:48.985Z"
   },
   {
    "duration": 14,
    "start_time": "2022-05-07T18:02:49.385Z"
   },
   {
    "duration": 56,
    "start_time": "2022-05-07T18:02:49.860Z"
   },
   {
    "duration": 40,
    "start_time": "2022-05-07T18:02:50.270Z"
   },
   {
    "duration": 287,
    "start_time": "2022-05-07T18:02:50.494Z"
   },
   {
    "duration": 23,
    "start_time": "2022-05-07T18:02:51.622Z"
   },
   {
    "duration": 81,
    "start_time": "2022-05-07T18:02:51.854Z"
   },
   {
    "duration": 50,
    "start_time": "2022-05-07T18:02:52.420Z"
   },
   {
    "duration": 77,
    "start_time": "2022-05-07T18:02:53.821Z"
   },
   {
    "duration": 231,
    "start_time": "2022-05-07T18:02:54.488Z"
   },
   {
    "duration": 674,
    "start_time": "2022-05-07T18:02:55.606Z"
   },
   {
    "duration": 24,
    "start_time": "2022-05-07T18:02:57.345Z"
   },
   {
    "duration": 2882,
    "start_time": "2022-05-07T18:03:00.824Z"
   },
   {
    "duration": 2894,
    "start_time": "2022-05-07T18:03:03.708Z"
   },
   {
    "duration": 26,
    "start_time": "2022-05-07T18:03:06.604Z"
   },
   {
    "duration": 17,
    "start_time": "2022-05-07T18:03:06.632Z"
   },
   {
    "duration": 32,
    "start_time": "2022-05-07T18:03:06.650Z"
   },
   {
    "duration": 43,
    "start_time": "2022-05-07T18:03:06.684Z"
   },
   {
    "duration": 253,
    "start_time": "2022-05-07T18:03:06.728Z"
   },
   {
    "duration": 245,
    "start_time": "2022-05-07T18:03:06.983Z"
   },
   {
    "duration": 308,
    "start_time": "2022-05-07T18:03:07.230Z"
   },
   {
    "duration": 28,
    "start_time": "2022-05-07T18:03:07.541Z"
   },
   {
    "duration": 9,
    "start_time": "2022-05-07T18:29:36.031Z"
   },
   {
    "duration": 1233,
    "start_time": "2022-05-07T18:29:36.041Z"
   },
   {
    "duration": 89,
    "start_time": "2022-05-07T18:29:37.275Z"
   },
   {
    "duration": 2,
    "start_time": "2022-05-07T18:29:37.367Z"
   },
   {
    "duration": 456,
    "start_time": "2022-05-07T18:29:37.370Z"
   },
   {
    "duration": 111,
    "start_time": "2022-05-07T18:29:37.828Z"
   },
   {
    "duration": 13,
    "start_time": "2022-05-07T18:29:37.941Z"
   },
   {
    "duration": 70,
    "start_time": "2022-05-07T18:29:37.956Z"
   },
   {
    "duration": 45,
    "start_time": "2022-05-07T18:29:38.028Z"
   },
   {
    "duration": 277,
    "start_time": "2022-05-07T18:29:38.075Z"
   },
   {
    "duration": 21,
    "start_time": "2022-05-07T18:29:38.354Z"
   },
   {
    "duration": 99,
    "start_time": "2022-05-07T18:29:38.377Z"
   },
   {
    "duration": 59,
    "start_time": "2022-05-07T18:29:38.478Z"
   },
   {
    "duration": 86,
    "start_time": "2022-05-07T18:29:38.538Z"
   },
   {
    "duration": 231,
    "start_time": "2022-05-07T18:29:38.626Z"
   },
   {
    "duration": 633,
    "start_time": "2022-05-07T18:29:38.859Z"
   },
   {
    "duration": 33,
    "start_time": "2022-05-07T18:29:39.494Z"
   },
   {
    "duration": 3295,
    "start_time": "2022-05-07T18:29:39.529Z"
   },
   {
    "duration": 2877,
    "start_time": "2022-05-07T18:29:42.827Z"
   },
   {
    "duration": 25,
    "start_time": "2022-05-07T18:29:45.706Z"
   },
   {
    "duration": 14,
    "start_time": "2022-05-07T18:29:45.732Z"
   },
   {
    "duration": 36,
    "start_time": "2022-05-07T18:29:45.747Z"
   },
   {
    "duration": 245,
    "start_time": "2022-05-07T18:29:45.785Z"
   },
   {
    "duration": 234,
    "start_time": "2022-05-07T18:29:46.032Z"
   },
   {
    "duration": 222,
    "start_time": "2022-05-07T18:30:07.936Z"
   },
   {
    "duration": 234,
    "start_time": "2022-05-07T18:30:09.910Z"
   },
   {
    "duration": 233,
    "start_time": "2022-05-07T18:30:10.894Z"
   },
   {
    "duration": 27,
    "start_time": "2022-05-07T18:30:14.566Z"
   },
   {
    "duration": 241,
    "start_time": "2022-05-07T18:30:20.295Z"
   },
   {
    "duration": 27,
    "start_time": "2022-05-07T18:30:22.639Z"
   },
   {
    "duration": 25,
    "start_time": "2022-05-07T18:30:26.038Z"
   },
   {
    "duration": 8,
    "start_time": "2022-05-07T18:30:44.462Z"
   },
   {
    "duration": 1188,
    "start_time": "2022-05-07T18:30:44.473Z"
   },
   {
    "duration": 84,
    "start_time": "2022-05-07T18:30:45.663Z"
   },
   {
    "duration": 2,
    "start_time": "2022-05-07T18:30:45.749Z"
   },
   {
    "duration": 455,
    "start_time": "2022-05-07T18:30:45.753Z"
   },
   {
    "duration": 121,
    "start_time": "2022-05-07T18:30:46.210Z"
   },
   {
    "duration": 14,
    "start_time": "2022-05-07T18:30:46.333Z"
   },
   {
    "duration": 53,
    "start_time": "2022-05-07T18:30:46.349Z"
   },
   {
    "duration": 64,
    "start_time": "2022-05-07T18:30:46.403Z"
   },
   {
    "duration": 283,
    "start_time": "2022-05-07T18:30:46.469Z"
   },
   {
    "duration": 22,
    "start_time": "2022-05-07T18:30:46.754Z"
   },
   {
    "duration": 84,
    "start_time": "2022-05-07T18:30:46.778Z"
   },
   {
    "duration": 62,
    "start_time": "2022-05-07T18:30:46.863Z"
   },
   {
    "duration": 100,
    "start_time": "2022-05-07T18:30:46.927Z"
   },
   {
    "duration": 244,
    "start_time": "2022-05-07T18:30:47.029Z"
   },
   {
    "duration": 727,
    "start_time": "2022-05-07T18:30:47.274Z"
   },
   {
    "duration": 28,
    "start_time": "2022-05-07T18:30:48.003Z"
   },
   {
    "duration": 2824,
    "start_time": "2022-05-07T18:30:48.032Z"
   },
   {
    "duration": 2914,
    "start_time": "2022-05-07T18:30:50.858Z"
   },
   {
    "duration": 19,
    "start_time": "2022-05-07T18:30:53.773Z"
   },
   {
    "duration": 13,
    "start_time": "2022-05-07T18:30:53.794Z"
   },
   {
    "duration": 31,
    "start_time": "2022-05-07T18:30:53.823Z"
   },
   {
    "duration": 231,
    "start_time": "2022-05-07T18:31:11.343Z"
   },
   {
    "duration": 222,
    "start_time": "2022-05-07T18:31:12.622Z"
   },
   {
    "duration": 233,
    "start_time": "2022-05-07T18:31:13.982Z"
   },
   {
    "duration": 27,
    "start_time": "2022-05-07T18:31:15.350Z"
   },
   {
    "duration": 1543,
    "start_time": "2022-05-07T18:31:38.835Z"
   },
   {
    "duration": 1287,
    "start_time": "2022-05-07T18:31:40.380Z"
   },
   {
    "duration": 90,
    "start_time": "2022-05-07T18:31:41.669Z"
   },
   {
    "duration": 2,
    "start_time": "2022-05-07T18:31:41.762Z"
   },
   {
    "duration": 459,
    "start_time": "2022-05-07T18:31:41.765Z"
   },
   {
    "duration": 103,
    "start_time": "2022-05-07T18:31:42.226Z"
   },
   {
    "duration": 17,
    "start_time": "2022-05-07T18:31:42.331Z"
   },
   {
    "duration": 77,
    "start_time": "2022-05-07T18:31:42.350Z"
   },
   {
    "duration": 42,
    "start_time": "2022-05-07T18:31:42.429Z"
   },
   {
    "duration": 309,
    "start_time": "2022-05-07T18:31:42.474Z"
   },
   {
    "duration": 24,
    "start_time": "2022-05-07T18:31:42.785Z"
   },
   {
    "duration": 96,
    "start_time": "2022-05-07T18:31:42.811Z"
   },
   {
    "duration": 63,
    "start_time": "2022-05-07T18:31:42.909Z"
   },
   {
    "duration": 90,
    "start_time": "2022-05-07T18:31:42.974Z"
   },
   {
    "duration": 269,
    "start_time": "2022-05-07T18:31:43.065Z"
   },
   {
    "duration": 672,
    "start_time": "2022-05-07T18:31:43.336Z"
   },
   {
    "duration": 29,
    "start_time": "2022-05-07T18:31:44.010Z"
   },
   {
    "duration": 2708,
    "start_time": "2022-05-07T18:31:44.040Z"
   },
   {
    "duration": 2785,
    "start_time": "2022-05-07T18:31:46.750Z"
   },
   {
    "duration": 18,
    "start_time": "2022-05-07T18:31:49.537Z"
   },
   {
    "duration": 15,
    "start_time": "2022-05-07T18:31:49.557Z"
   },
   {
    "duration": 55,
    "start_time": "2022-05-07T18:31:49.573Z"
   },
   {
    "duration": 232,
    "start_time": "2022-05-07T18:31:49.630Z"
   },
   {
    "duration": 236,
    "start_time": "2022-05-07T18:31:49.864Z"
   },
   {
    "duration": 313,
    "start_time": "2022-05-07T18:31:50.101Z"
   },
   {
    "duration": 33,
    "start_time": "2022-05-07T18:31:50.416Z"
   },
   {
    "duration": 21,
    "start_time": "2022-05-07T18:31:50.450Z"
   },
   {
    "duration": 88,
    "start_time": "2022-05-07T18:31:50.474Z"
   },
   {
    "duration": 24,
    "start_time": "2022-05-07T18:31:50.564Z"
   },
   {
    "duration": 99,
    "start_time": "2022-05-07T18:31:50.590Z"
   },
   {
    "duration": 86,
    "start_time": "2022-05-07T18:31:50.691Z"
   },
   {
    "duration": 3,
    "start_time": "2022-05-07T18:31:50.779Z"
   },
   {
    "duration": 8,
    "start_time": "2022-05-07T18:31:50.784Z"
   },
   {
    "duration": 6,
    "start_time": "2022-05-07T18:31:50.794Z"
   },
   {
    "duration": 5,
    "start_time": "2022-05-07T18:31:50.801Z"
   },
   {
    "duration": 43057,
    "start_time": "2022-05-07T18:31:50.807Z"
   },
   {
    "duration": 4,
    "start_time": "2022-05-07T18:32:33.866Z"
   },
   {
    "duration": 947,
    "start_time": "2022-05-07T18:32:33.872Z"
   },
   {
    "duration": 162,
    "start_time": "2022-05-07T18:32:34.824Z"
   },
   {
    "duration": 294343,
    "start_time": "2022-05-07T18:32:34.988Z"
   },
   {
    "duration": 4,
    "start_time": "2022-05-07T18:37:29.332Z"
   },
   {
    "duration": 5592,
    "start_time": "2022-05-07T18:37:29.338Z"
   },
   {
    "duration": 4,
    "start_time": "2022-05-07T18:37:34.932Z"
   },
   {
    "duration": 491581,
    "start_time": "2022-05-07T18:37:34.937Z"
   },
   {
    "duration": 4,
    "start_time": "2022-05-07T18:45:46.520Z"
   },
   {
    "duration": 10332,
    "start_time": "2022-05-07T18:45:46.525Z"
   },
   {
    "duration": 5,
    "start_time": "2022-05-07T18:45:56.859Z"
   },
   {
    "duration": 10,
    "start_time": "2022-05-07T18:45:56.866Z"
   },
   {
    "duration": 16560,
    "start_time": "2022-05-07T18:45:56.878Z"
   }
  ],
  "kernelspec": {
   "display_name": "Python 3 (ipykernel)",
   "language": "python",
   "name": "python3"
  },
  "language_info": {
   "codemirror_mode": {
    "name": "ipython",
    "version": 3
   },
   "file_extension": ".py",
   "mimetype": "text/x-python",
   "name": "python",
   "nbconvert_exporter": "python",
   "pygments_lexer": "ipython3",
   "version": "3.9.7"
  },
  "toc": {
   "base_numbering": 1,
   "nav_menu": {},
   "number_sections": true,
   "sideBar": true,
   "skip_h1_title": true,
   "title_cell": "Table of Contents",
   "title_sidebar": "Contents",
   "toc_cell": false,
   "toc_position": {},
   "toc_section_display": true,
   "toc_window_display": false
  }
 },
 "nbformat": 4,
 "nbformat_minor": 2
}
