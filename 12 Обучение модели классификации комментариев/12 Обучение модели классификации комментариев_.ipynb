{
 "cells": [
  {
   "cell_type": "markdown",
   "id": "9adc820c",
   "metadata": {},
   "source": [
    "# Проект для «Викишоп»"
   ]
  },
  {
   "cell_type": "markdown",
   "id": "3b1dba1c",
   "metadata": {},
   "source": [
    "Интернет-магазин «Викишоп» запускает новый сервис. Теперь пользователи могут редактировать и дополнять описания товаров, как в вики-сообществах. То есть клиенты предлагают свои правки и комментируют изменения других. Магазину нужен инструмент, который будет искать токсичные комментарии и отправлять их на модерацию. \n",
    "\n",
    "Обучите модель классифицировать комментарии на позитивные и негативные. В вашем распоряжении набор данных с разметкой о токсичности правок.\n",
    "\n",
    "Постройте модель со значением метрики качества *F1* не меньше 0.75. \n",
    "\n",
    "**Инструкция по выполнению проекта**\n",
    "\n",
    "1. Загрузите и подготовьте данные.\n",
    "2. Обучите разные модели. \n",
    "3. Сделайте выводы.\n",
    "\n",
    "Для выполнения проекта применять *BERT* необязательно, но вы можете попробовать.\n",
    "\n",
    "**Описание данных**\n",
    "\n",
    "Данные находятся в файле `toxic_comments.csv`. Столбец *text* в нём содержит текст комментария, а *toxic* — целевой признак."
   ]
  },
  {
   "cell_type": "markdown",
   "id": "db896345",
   "metadata": {},
   "source": [
    "## Подготовка"
   ]
  },
  {
   "cell_type": "code",
   "execution_count": 1,
   "id": "8b20fda3",
   "metadata": {},
   "outputs": [],
   "source": [
    "import numpy as np\n",
    "import pandas as pd\n",
    "import torch\n",
    "import transformers\n",
    "from tqdm import notebook\n",
    "from sklearn.linear_model import LogisticRegression\n",
    "from sklearn.model_selection import cross_val_score\n",
    "from sklearn.model_selection import train_test_split\n",
    "from sklearn.feature_extraction.text import TfidfVectorizer\n",
    "from sklearn.model_selection import GridSearchCV\n",
    "from catboost import CatBoostClassifier\n",
    "from catboost import cv, Pool\n",
    "from sklearn.ensemble import RandomForestClassifier\n",
    "from xgboost import XGBClassifier\n",
    "from sklearn.utils import class_weight\n",
    "import lightgbm as lgb"
   ]
  },
  {
   "cell_type": "code",
   "execution_count": 2,
   "id": "40b5272b",
   "metadata": {},
   "outputs": [
    {
     "name": "stderr",
     "output_type": "stream",
     "text": [
      "[nltk_data] Downloading package wordnet to /home/jovyan/nltk_data...\n",
      "[nltk_data]   Package wordnet is already up-to-date!\n",
      "[nltk_data] Downloading package punkt to /home/jovyan/nltk_data...\n",
      "[nltk_data]   Package punkt is already up-to-date!\n",
      "[nltk_data] Downloading package averaged_perceptron_tagger to\n",
      "[nltk_data]     /home/jovyan/nltk_data...\n",
      "[nltk_data]   Unzipping taggers/averaged_perceptron_tagger.zip.\n"
     ]
    }
   ],
   "source": [
    "import nltk\n",
    "from nltk.corpus import stopwords\n",
    "from nltk.stem import WordNetLemmatizer \n",
    "from nltk.tokenize import word_tokenize \n",
    "from nltk.corpus import wordnet\n",
    "# nltk.download('stopwords')\n",
    "nltk.download('wordnet')\n",
    "nltk.download('punkt')\n",
    "nltk.download('averaged_perceptron_tagger')\n",
    "# stop_words = stopwords.words('english')\n",
    "import re"
   ]
  },
  {
   "cell_type": "code",
   "execution_count": 3,
   "id": "d4157dbf",
   "metadata": {},
   "outputs": [],
   "source": [
    "# pip install pymystem3\n",
    "# from pymystem3 import Mystem\n",
    "# m = Mystem() "
   ]
  },
  {
   "cell_type": "code",
   "execution_count": 4,
   "id": "d88a6975",
   "metadata": {},
   "outputs": [],
   "source": [
    "df = pd.read_csv('https://code.s3.yandex.net/datasets/toxic_comments.csv')"
   ]
  },
  {
   "cell_type": "code",
   "execution_count": 5,
   "id": "bda04fcc",
   "metadata": {
    "scrolled": false
   },
   "outputs": [
    {
     "data": {
      "text/html": [
       "<div>\n",
       "<style scoped>\n",
       "    .dataframe tbody tr th:only-of-type {\n",
       "        vertical-align: middle;\n",
       "    }\n",
       "\n",
       "    .dataframe tbody tr th {\n",
       "        vertical-align: top;\n",
       "    }\n",
       "\n",
       "    .dataframe thead th {\n",
       "        text-align: right;\n",
       "    }\n",
       "</style>\n",
       "<table border=\"1\" class=\"dataframe\">\n",
       "  <thead>\n",
       "    <tr style=\"text-align: right;\">\n",
       "      <th></th>\n",
       "      <th>Unnamed: 0</th>\n",
       "      <th>text</th>\n",
       "      <th>toxic</th>\n",
       "    </tr>\n",
       "  </thead>\n",
       "  <tbody>\n",
       "    <tr>\n",
       "      <th>0</th>\n",
       "      <td>0</td>\n",
       "      <td>Explanation\\nWhy the edits made under my usern...</td>\n",
       "      <td>0</td>\n",
       "    </tr>\n",
       "    <tr>\n",
       "      <th>1</th>\n",
       "      <td>1</td>\n",
       "      <td>D'aww! He matches this background colour I'm s...</td>\n",
       "      <td>0</td>\n",
       "    </tr>\n",
       "    <tr>\n",
       "      <th>2</th>\n",
       "      <td>2</td>\n",
       "      <td>Hey man, I'm really not trying to edit war. It...</td>\n",
       "      <td>0</td>\n",
       "    </tr>\n",
       "    <tr>\n",
       "      <th>3</th>\n",
       "      <td>3</td>\n",
       "      <td>\"\\nMore\\nI can't make any real suggestions on ...</td>\n",
       "      <td>0</td>\n",
       "    </tr>\n",
       "    <tr>\n",
       "      <th>4</th>\n",
       "      <td>4</td>\n",
       "      <td>You, sir, are my hero. Any chance you remember...</td>\n",
       "      <td>0</td>\n",
       "    </tr>\n",
       "  </tbody>\n",
       "</table>\n",
       "</div>"
      ],
      "text/plain": [
       "   Unnamed: 0                                               text  toxic\n",
       "0           0  Explanation\\nWhy the edits made under my usern...      0\n",
       "1           1  D'aww! He matches this background colour I'm s...      0\n",
       "2           2  Hey man, I'm really not trying to edit war. It...      0\n",
       "3           3  \"\\nMore\\nI can't make any real suggestions on ...      0\n",
       "4           4  You, sir, are my hero. Any chance you remember...      0"
      ]
     },
     "execution_count": 5,
     "metadata": {},
     "output_type": "execute_result"
    }
   ],
   "source": [
    "df.head()"
   ]
  },
  {
   "cell_type": "code",
   "execution_count": 6,
   "id": "74118448",
   "metadata": {},
   "outputs": [
    {
     "name": "stdout",
     "output_type": "stream",
     "text": [
      "<class 'pandas.core.frame.DataFrame'>\n",
      "RangeIndex: 159292 entries, 0 to 159291\n",
      "Data columns (total 3 columns):\n",
      " #   Column      Non-Null Count   Dtype \n",
      "---  ------      --------------   ----- \n",
      " 0   Unnamed: 0  159292 non-null  int64 \n",
      " 1   text        159292 non-null  object\n",
      " 2   toxic       159292 non-null  int64 \n",
      "dtypes: int64(2), object(1)\n",
      "memory usage: 3.6+ MB\n"
     ]
    }
   ],
   "source": [
    "df.info()"
   ]
  },
  {
   "cell_type": "markdown",
   "id": "4b0bd027",
   "metadata": {},
   "source": [
    "<font color='blue'><b>Комментарий ревьюера: </b></font> ✔️\\\n",
    "<font color='green'>Данные загружены корректно, первичный осмотр проведен.</font>"
   ]
  },
  {
   "cell_type": "code",
   "execution_count": 7,
   "id": "1f15be70",
   "metadata": {},
   "outputs": [
    {
     "data": {
      "text/plain": [
       "<AxesSubplot:xlabel='toxic', ylabel='count'>"
      ]
     },
     "execution_count": 7,
     "metadata": {},
     "output_type": "execute_result"
    },
    {
     "data": {
      "image/png": "[encoded data removed]",
      "text/plain": [
       "<Figure size 432x288 with 1 Axes>"
      ]
     },
     "metadata": {
      "needs_background": "light"
     },
     "output_type": "display_data"
    }
   ],
   "source": [
    "import seaborn as sns\n",
    "sns.countplot(x='toxic', data=df)"
   ]
  },
  {
   "cell_type": "markdown",
   "id": "830c275e",
   "metadata": {},
   "source": [
    "Классы несбалансированы, учесть это при построении моделей и разделения на трейн и тест."
   ]
  },
  {
   "cell_type": "code",
   "execution_count": 8,
   "id": "22510bce",
   "metadata": {},
   "outputs": [],
   "source": [
    "df = df.drop(columns='Unnamed: 0')"
   ]
  },
  {
   "cell_type": "code",
   "execution_count": 9,
   "id": "e186ab7e",
   "metadata": {},
   "outputs": [],
   "source": [
    "def get_wordnet_pos(word):\n",
    "    \"\"\"Map POS tag to first character lemmatize() accepts\"\"\"\n",
    "    tag = nltk.pos_tag([word])[0][1][0].upper()\n",
    "    tag_dict = {\"J\": wordnet.ADJ,\n",
    "                \"N\": wordnet.NOUN,\n",
    "                \"V\": wordnet.VERB,\n",
    "                \"R\": wordnet.ADV}\n",
    "    return tag_dict.get(tag, wordnet.NOUN)"
   ]
  },
  {
   "cell_type": "code",
   "execution_count": 10,
   "id": "bf24c802",
   "metadata": {},
   "outputs": [
    {
     "name": "stdout",
     "output_type": "stream",
     "text": [
      "CPU times: user 11min 54s, sys: 56.5 s, total: 12min 51s\n",
      "Wall time: 12min 51s\n"
     ]
    }
   ],
   "source": [
    "%%time\n",
    "# Функция для очистки текста \n",
    "def clean_text(text):\n",
    "    text = text.lower()\n",
    "    return \" \".join(re.sub(r\"[^a-z]\", ' ', text).split()) \n",
    " \n",
    "# создаем список для хранения преобразованных данных \n",
    "processed_text = []\n",
    "# загружаем стоп-слова для английского языка\n",
    "stop_words = stopwords.words('english')\n",
    "# инициализируем лемматайзер \n",
    "lemmatizer = WordNetLemmatizer()\n",
    " \n",
    "\n",
    "# для каждого сообщения text из столбца data['text']\n",
    "for text in df['text']:\n",
    "    # cleaning \n",
    "    text = clean_text(text)   \n",
    "    # tokenization\n",
    "    text = word_tokenize(text)       \n",
    "    # удаление стоп-слов\n",
    "    text = [word for word in text if word not in stop_words]     \n",
    "    # лемматизация\n",
    "    text = [lemmatizer.lemmatize(w, get_wordnet_pos(w)) for w in text]\n",
    "#     text = [m.lemmatize(w) for w in text] \n",
    "# pymystem3 сработала не очень хорошо, \n",
    "# потом нам объяснили, что она для русского текста\n",
    "     \n",
    "    # добавляем преобразованный текст в список processed_text\n",
    "    processed_text.append(text)\n",
    "    \n",
    "# Сохраняем результат преобразования в новой колонке 'lemm_text'\n",
    "df['lemm_text'] = processed_text"
   ]
  },
  {
   "cell_type": "code",
   "execution_count": 11,
   "id": "efaeb984",
   "metadata": {},
   "outputs": [
    {
     "data": {
      "text/html": [
       "<div>\n",
       "<style scoped>\n",
       "    .dataframe tbody tr th:only-of-type {\n",
       "        vertical-align: middle;\n",
       "    }\n",
       "\n",
       "    .dataframe tbody tr th {\n",
       "        vertical-align: top;\n",
       "    }\n",
       "\n",
       "    .dataframe thead th {\n",
       "        text-align: right;\n",
       "    }\n",
       "</style>\n",
       "<table border=\"1\" class=\"dataframe\">\n",
       "  <thead>\n",
       "    <tr style=\"text-align: right;\">\n",
       "      <th></th>\n",
       "      <th>text</th>\n",
       "      <th>toxic</th>\n",
       "      <th>lemm_text</th>\n",
       "    </tr>\n",
       "  </thead>\n",
       "  <tbody>\n",
       "    <tr>\n",
       "      <th>0</th>\n",
       "      <td>Explanation\\nWhy the edits made under my usern...</td>\n",
       "      <td>0</td>\n",
       "      <td>[explanation, edits, make, username, hardcore,...</td>\n",
       "    </tr>\n",
       "    <tr>\n",
       "      <th>1</th>\n",
       "      <td>D'aww! He matches this background colour I'm s...</td>\n",
       "      <td>0</td>\n",
       "      <td>[aww, match, background, colour, seemingly, st...</td>\n",
       "    </tr>\n",
       "    <tr>\n",
       "      <th>2</th>\n",
       "      <td>Hey man, I'm really not trying to edit war. It...</td>\n",
       "      <td>0</td>\n",
       "      <td>[hey, man, really, try, edit, war, guy, consta...</td>\n",
       "    </tr>\n",
       "    <tr>\n",
       "      <th>3</th>\n",
       "      <td>\"\\nMore\\nI can't make any real suggestions on ...</td>\n",
       "      <td>0</td>\n",
       "      <td>[make, real, suggestion, improvement, wonder, ...</td>\n",
       "    </tr>\n",
       "    <tr>\n",
       "      <th>4</th>\n",
       "      <td>You, sir, are my hero. Any chance you remember...</td>\n",
       "      <td>0</td>\n",
       "      <td>[sir, hero, chance, remember, page]</td>\n",
       "    </tr>\n",
       "  </tbody>\n",
       "</table>\n",
       "</div>"
      ],
      "text/plain": [
       "                                                text  toxic  \\\n",
       "0  Explanation\\nWhy the edits made under my usern...      0   \n",
       "1  D'aww! He matches this background colour I'm s...      0   \n",
       "2  Hey man, I'm really not trying to edit war. It...      0   \n",
       "3  \"\\nMore\\nI can't make any real suggestions on ...      0   \n",
       "4  You, sir, are my hero. Any chance you remember...      0   \n",
       "\n",
       "                                           lemm_text  \n",
       "0  [explanation, edits, make, username, hardcore,...  \n",
       "1  [aww, match, background, colour, seemingly, st...  \n",
       "2  [hey, man, really, try, edit, war, guy, consta...  \n",
       "3  [make, real, suggestion, improvement, wonder, ...  \n",
       "4                [sir, hero, chance, remember, page]  "
      ]
     },
     "execution_count": 11,
     "metadata": {},
     "output_type": "execute_result"
    }
   ],
   "source": [
    "df.head()"
   ]
  },
  {
   "cell_type": "code",
   "execution_count": 12,
   "id": "0c9afe1c",
   "metadata": {},
   "outputs": [],
   "source": [
    "df['lemm_text'] = df['lemm_text'].apply(lambda x: ' '.join(x))"
   ]
  },
  {
   "cell_type": "code",
   "execution_count": 13,
   "id": "c2fc36a3",
   "metadata": {},
   "outputs": [
    {
     "data": {
      "text/html": [
       "<div>\n",
       "<style scoped>\n",
       "    .dataframe tbody tr th:only-of-type {\n",
       "        vertical-align: middle;\n",
       "    }\n",
       "\n",
       "    .dataframe tbody tr th {\n",
       "        vertical-align: top;\n",
       "    }\n",
       "\n",
       "    .dataframe thead th {\n",
       "        text-align: right;\n",
       "    }\n",
       "</style>\n",
       "<table border=\"1\" class=\"dataframe\">\n",
       "  <thead>\n",
       "    <tr style=\"text-align: right;\">\n",
       "      <th></th>\n",
       "      <th>text</th>\n",
       "      <th>toxic</th>\n",
       "      <th>lemm_text</th>\n",
       "    </tr>\n",
       "  </thead>\n",
       "  <tbody>\n",
       "    <tr>\n",
       "      <th>0</th>\n",
       "      <td>Explanation\\nWhy the edits made under my usern...</td>\n",
       "      <td>0</td>\n",
       "      <td>explanation edits make username hardcore metal...</td>\n",
       "    </tr>\n",
       "    <tr>\n",
       "      <th>1</th>\n",
       "      <td>D'aww! He matches this background colour I'm s...</td>\n",
       "      <td>0</td>\n",
       "      <td>aww match background colour seemingly stuck th...</td>\n",
       "    </tr>\n",
       "    <tr>\n",
       "      <th>2</th>\n",
       "      <td>Hey man, I'm really not trying to edit war. It...</td>\n",
       "      <td>0</td>\n",
       "      <td>hey man really try edit war guy constantly rem...</td>\n",
       "    </tr>\n",
       "    <tr>\n",
       "      <th>3</th>\n",
       "      <td>\"\\nMore\\nI can't make any real suggestions on ...</td>\n",
       "      <td>0</td>\n",
       "      <td>make real suggestion improvement wonder sectio...</td>\n",
       "    </tr>\n",
       "    <tr>\n",
       "      <th>4</th>\n",
       "      <td>You, sir, are my hero. Any chance you remember...</td>\n",
       "      <td>0</td>\n",
       "      <td>sir hero chance remember page</td>\n",
       "    </tr>\n",
       "    <tr>\n",
       "      <th>5</th>\n",
       "      <td>\"\\n\\nCongratulations from me as well, use the ...</td>\n",
       "      <td>0</td>\n",
       "      <td>congratulation well use tool well talk</td>\n",
       "    </tr>\n",
       "    <tr>\n",
       "      <th>6</th>\n",
       "      <td>COCKSUCKER BEFORE YOU PISS AROUND ON MY WORK</td>\n",
       "      <td>1</td>\n",
       "      <td>cocksucker piss around work</td>\n",
       "    </tr>\n",
       "    <tr>\n",
       "      <th>7</th>\n",
       "      <td>Your vandalism to the Matt Shirvington article...</td>\n",
       "      <td>0</td>\n",
       "      <td>vandalism matt shirvington article revert plea...</td>\n",
       "    </tr>\n",
       "    <tr>\n",
       "      <th>8</th>\n",
       "      <td>Sorry if the word 'nonsense' was offensive to ...</td>\n",
       "      <td>0</td>\n",
       "      <td>sorry word nonsense offensive anyway intend wr...</td>\n",
       "    </tr>\n",
       "    <tr>\n",
       "      <th>9</th>\n",
       "      <td>alignment on this subject and which are contra...</td>\n",
       "      <td>0</td>\n",
       "      <td>alignment subject contrary dulithgow</td>\n",
       "    </tr>\n",
       "  </tbody>\n",
       "</table>\n",
       "</div>"
      ],
      "text/plain": [
       "                                                text  toxic  \\\n",
       "0  Explanation\\nWhy the edits made under my usern...      0   \n",
       "1  D'aww! He matches this background colour I'm s...      0   \n",
       "2  Hey man, I'm really not trying to edit war. It...      0   \n",
       "3  \"\\nMore\\nI can't make any real suggestions on ...      0   \n",
       "4  You, sir, are my hero. Any chance you remember...      0   \n",
       "5  \"\\n\\nCongratulations from me as well, use the ...      0   \n",
       "6       COCKSUCKER BEFORE YOU PISS AROUND ON MY WORK      1   \n",
       "7  Your vandalism to the Matt Shirvington article...      0   \n",
       "8  Sorry if the word 'nonsense' was offensive to ...      0   \n",
       "9  alignment on this subject and which are contra...      0   \n",
       "\n",
       "                                           lemm_text  \n",
       "0  explanation edits make username hardcore metal...  \n",
       "1  aww match background colour seemingly stuck th...  \n",
       "2  hey man really try edit war guy constantly rem...  \n",
       "3  make real suggestion improvement wonder sectio...  \n",
       "4                      sir hero chance remember page  \n",
       "5             congratulation well use tool well talk  \n",
       "6                        cocksucker piss around work  \n",
       "7  vandalism matt shirvington article revert plea...  \n",
       "8  sorry word nonsense offensive anyway intend wr...  \n",
       "9               alignment subject contrary dulithgow  "
      ]
     },
     "execution_count": 13,
     "metadata": {},
     "output_type": "execute_result"
    }
   ],
   "source": [
    "df.head(10)"
   ]
  },
  {
   "cell_type": "markdown",
   "id": "1dc5e3ab",
   "metadata": {},
   "source": [
    "**Train Test Split**"
   ]
  },
  {
   "cell_type": "code",
   "execution_count": 14,
   "id": "2e481f18",
   "metadata": {},
   "outputs": [],
   "source": [
    "X = df['lemm_text']\n",
    "y = df['toxic']"
   ]
  },
  {
   "cell_type": "code",
   "execution_count": 15,
   "id": "f09f51e1",
   "metadata": {},
   "outputs": [],
   "source": [
    "X_train, X_test, y_train, y_test = train_test_split(X, y, test_size = 0.2, random_state = 19, stratify=y)"
   ]
  },
  {
   "cell_type": "markdown",
   "id": "c2b3d1f9",
   "metadata": {},
   "source": [
    "<font color='blue'><b>Комментарий ревьюера: </b></font> ✔️\\\n",
    "<font color='green'> Здорово , что у нас есть выборка для тестов!</font>"
   ]
  },
  {
   "cell_type": "markdown",
   "id": "7d40ce37",
   "metadata": {},
   "source": [
    "**TF-IDF**"
   ]
  },
  {
   "cell_type": "code",
   "execution_count": 16,
   "id": "48e95ae5",
   "metadata": {},
   "outputs": [],
   "source": [
    "vectorizer = TfidfVectorizer(min_df=1, stop_words='english', sublinear_tf=True, ngram_range=(1, 2))\n",
    "X_train = vectorizer.fit_transform(X_train.values)\n",
    "X_test = vectorizer.transform(X_test.values)\n",
    "# features = vectorizer.fit_transform(df['lemm_text'].values)"
   ]
  },
  {
   "cell_type": "markdown",
   "id": "1b8f8929",
   "metadata": {},
   "source": [
    "## Обучение"
   ]
  },
  {
   "cell_type": "markdown",
   "id": "58bd8645",
   "metadata": {},
   "source": [
    "### Logistic Regression"
   ]
  },
  {
   "cell_type": "code",
   "execution_count": 17,
   "id": "7c2d2abf",
   "metadata": {},
   "outputs": [],
   "source": [
    "lr_model = LogisticRegression(random_state=19, class_weight='balanced')"
   ]
  },
  {
   "cell_type": "code",
   "execution_count": 18,
   "id": "4bb4803f",
   "metadata": {},
   "outputs": [],
   "source": [
    "param_grid_lr = {'max_iter':[100, 500, 1000]}  "
   ]
  },
  {
   "cell_type": "code",
   "execution_count": 19,
   "id": "f470236a",
   "metadata": {
    "scrolled": true
   },
   "outputs": [],
   "source": [
    "# lg_model_grid, lg_f1_grid = get_gridsearchcv(X_train, y_train,\n",
    "#                        lg_model, param_grid_lg, cv=5, scoring_fit='f1') #scoring_fit='accuracy'\n",
    "\n",
    "lr_model_grid = GridSearchCV(lr_model, param_grid = param_grid_lr, \n",
    "                           cv=5, n_jobs=-1, \n",
    "                           scoring='f1', verbose=2)"
   ]
  },
  {
   "cell_type": "code",
   "execution_count": 20,
   "id": "2f01b455",
   "metadata": {},
   "outputs": [
    {
     "name": "stdout",
     "output_type": "stream",
     "text": [
      "Fitting 5 folds for each of 3 candidates, totalling 15 fits\n",
      "[CV] END .......................................max_iter=100; total time= 1.2min\n",
      "[CV] END .......................................max_iter=100; total time= 1.2min\n",
      "[CV] END .......................................max_iter=100; total time=  57.4s\n",
      "[CV] END .......................................max_iter=100; total time=  47.5s\n",
      "[CV] END .......................................max_iter=100; total time= 1.6min\n",
      "[CV] END .......................................max_iter=500; total time= 1.2min\n",
      "[CV] END .......................................max_iter=500; total time= 1.2min\n",
      "[CV] END .......................................max_iter=500; total time=  56.5s\n",
      "[CV] END .......................................max_iter=500; total time=  47.4s\n",
      "[CV] END .......................................max_iter=500; total time= 1.6min\n",
      "[CV] END ......................................max_iter=1000; total time= 1.2min\n",
      "[CV] END ......................................max_iter=1000; total time= 1.2min\n",
      "[CV] END ......................................max_iter=1000; total time=  59.3s\n",
      "[CV] END ......................................max_iter=1000; total time=  48.8s\n",
      "[CV] END ......................................max_iter=1000; total time= 1.6min\n",
      "CPU times: user 11min 47s, sys: 7min 29s, total: 19min 17s\n",
      "Wall time: 19min 19s\n"
     ]
    },
    {
     "data": {
      "text/plain": [
       "GridSearchCV(cv=5,\n",
       "             estimator=LogisticRegression(class_weight='balanced',\n",
       "                                          random_state=19),\n",
       "             n_jobs=-1, param_grid={'max_iter': [100, 500, 1000]}, scoring='f1',\n",
       "             verbose=2)"
      ]
     },
     "execution_count": 20,
     "metadata": {},
     "output_type": "execute_result"
    }
   ],
   "source": [
    "%%time\n",
    "lr_model_grid.fit(X_train, y_train)"
   ]
  },
  {
   "cell_type": "code",
   "execution_count": 21,
   "id": "65ed4d5e",
   "metadata": {},
   "outputs": [
    {
     "data": {
      "text/plain": [
       "{'max_iter': 100}"
      ]
     },
     "execution_count": 21,
     "metadata": {},
     "output_type": "execute_result"
    }
   ],
   "source": [
    "lr_model_grid.best_params_"
   ]
  },
  {
   "cell_type": "code",
   "execution_count": 22,
   "id": "7fa38e81",
   "metadata": {},
   "outputs": [],
   "source": [
    "lr_model_grid = lr_model_grid.best_estimator_"
   ]
  },
  {
   "cell_type": "markdown",
   "id": "eb413af7",
   "metadata": {},
   "source": [
    "**Значения F1 модели Logistic Regression:**"
   ]
  },
  {
   "cell_type": "code",
   "execution_count": 23,
   "id": "feb39450",
   "metadata": {},
   "outputs": [
    {
     "data": {
      "text/plain": [
       "0.9012770137524557"
      ]
     },
     "execution_count": 23,
     "metadata": {},
     "output_type": "execute_result"
    }
   ],
   "source": [
    "from sklearn.metrics import f1_score\n",
    "lr_f1_train = f1_score(y_train, lr_model_grid.predict(X_train))\n",
    "lr_f1_train"
   ]
  },
  {
   "cell_type": "code",
   "execution_count": 24,
   "id": "9b473b93",
   "metadata": {
    "scrolled": true
   },
   "outputs": [
    {
     "data": {
      "text/plain": [
       "0.7658867506576215"
      ]
     },
     "execution_count": 24,
     "metadata": {},
     "output_type": "execute_result"
    }
   ],
   "source": [
    "lr_f1_test = f1_score(y_test, lr_model_grid.predict(X_test))\n",
    "lr_f1_test"
   ]
  },
  {
   "cell_type": "markdown",
   "id": "6ced18e4",
   "metadata": {},
   "source": [
    "### LGBMClassifier"
   ]
  },
  {
   "cell_type": "code",
   "execution_count": 28,
   "id": "c61f9af0",
   "metadata": {},
   "outputs": [],
   "source": [
    "lgbm_model = lgb.LGBMClassifier(random_state=19, class_weight='balanced')"
   ]
  },
  {
   "cell_type": "code",
   "execution_count": 29,
   "id": "80b7c08f",
   "metadata": {},
   "outputs": [],
   "source": [
    "param_grid_lgbm = {\n",
    "    'n_estimators': [10, 20, 40],\n",
    "    'learning_rate': [0.2, 0.5, 0.95]}"
   ]
  },
  {
   "cell_type": "code",
   "execution_count": 31,
   "id": "e0037a04",
   "metadata": {},
   "outputs": [],
   "source": [
    "lgbm_model_grid = GridSearchCV(lgbm_model, param_grid = param_grid_lgbm, scoring='f1', cv=5)"
   ]
  },
  {
   "cell_type": "code",
   "execution_count": 32,
   "id": "2800420a",
   "metadata": {},
   "outputs": [
    {
     "name": "stdout",
     "output_type": "stream",
     "text": [
      "CPU times: user 6min 7s, sys: 0 ns, total: 6min 7s\n",
      "Wall time: 6min 8s\n"
     ]
    },
    {
     "data": {
      "text/plain": [
       "LGBMClassifier(class_weight='balanced', random_state=19)"
      ]
     },
     "execution_count": 32,
     "metadata": {},
     "output_type": "execute_result"
    }
   ],
   "source": [
    "%%time\n",
    "lgbm_model.fit(X_train, y_train)"
   ]
  },
  {
   "cell_type": "markdown",
   "id": "165cc6e9",
   "metadata": {},
   "source": [
    "**Значения F1 модели LGBMClassifier:**"
   ]
  },
  {
   "cell_type": "code",
   "execution_count": 33,
   "id": "abb416d8",
   "metadata": {},
   "outputs": [
    {
     "data": {
      "text/plain": [
       "0.7608410892795588"
      ]
     },
     "execution_count": 33,
     "metadata": {},
     "output_type": "execute_result"
    }
   ],
   "source": [
    "lgbm_f1_train = f1_score(y_train, lgbm_model.predict(X_train))\n",
    "lgbm_f1_train"
   ]
  },
  {
   "cell_type": "code",
   "execution_count": 34,
   "id": "81f632ad",
   "metadata": {},
   "outputs": [
    {
     "data": {
      "text/plain": [
       "0.7340177960301163"
      ]
     },
     "execution_count": 34,
     "metadata": {},
     "output_type": "execute_result"
    }
   ],
   "source": [
    "lgbm_f1_test = f1_score(y_test, lgbm_model.predict(X_test))\n",
    "lgbm_f1_test"
   ]
  },
  {
   "cell_type": "markdown",
   "id": "ae4c299d",
   "metadata": {},
   "source": [
    "**Итого:**"
   ]
  },
  {
   "cell_type": "code",
   "execution_count": 43,
   "id": "fb12a1f6",
   "metadata": {},
   "outputs": [
    {
     "data": {
      "text/html": [
       "<div>\n",
       "<style scoped>\n",
       "    .dataframe tbody tr th:only-of-type {\n",
       "        vertical-align: middle;\n",
       "    }\n",
       "\n",
       "    .dataframe tbody tr th {\n",
       "        vertical-align: top;\n",
       "    }\n",
       "\n",
       "    .dataframe thead th {\n",
       "        text-align: right;\n",
       "    }\n",
       "</style>\n",
       "<table border=\"1\" class=\"dataframe\">\n",
       "  <thead>\n",
       "    <tr style=\"text-align: right;\">\n",
       "      <th></th>\n",
       "      <th>Model</th>\n",
       "      <th>Train_F1</th>\n",
       "      <th>Test_F1</th>\n",
       "    </tr>\n",
       "  </thead>\n",
       "  <tbody>\n",
       "    <tr>\n",
       "      <th>0</th>\n",
       "      <td>LogisticR</td>\n",
       "      <td>0.901277</td>\n",
       "      <td>0.765887</td>\n",
       "    </tr>\n",
       "    <tr>\n",
       "      <th>1</th>\n",
       "      <td>LGBM</td>\n",
       "      <td>0.760841</td>\n",
       "      <td>0.734018</td>\n",
       "    </tr>\n",
       "  </tbody>\n",
       "</table>\n",
       "</div>"
      ],
      "text/plain": [
       "       Model  Train_F1   Test_F1\n",
       "0  LogisticR  0.901277  0.765887\n",
       "1       LGBM  0.760841  0.734018"
      ]
     },
     "execution_count": 43,
     "metadata": {},
     "output_type": "execute_result"
    }
   ],
   "source": [
    "models_table = pd.DataFrame({\n",
    "    'Model': ['LogisticR','LGBM'],\n",
    "    'Train_F1': [lr_f1_train, \n",
    "                 lgbm_f1_train],\n",
    "    'Test_F1': [lr_f1_test, \n",
    "                 lgbm_f1_test]\n",
    "})\n",
    "models_table.sort_values(by='Test_F1', ascending=False)"
   ]
  },
  {
   "cell_type": "markdown",
   "id": "ca8a82e2",
   "metadata": {},
   "source": [
    "## Выводы"
   ]
  },
  {
   "cell_type": "markdown",
   "id": "2ce7b76e",
   "metadata": {},
   "source": [
    "Необходимое значение метрики F1 не меньше 0.75 достигнуто при помощи моделей Логистической Регрессии.\n",
    "\n",
    "Итоговое значение на тестовой выборке - **0.765887**. Условие выполнено."
   ]
  }
 ],
 "metadata": {
  "ExecuteTimeLog": [
   {
    "duration": 58,
    "start_time": "2022-09-19T06:24:11.141Z"
   },
   {
    "duration": 8130,
    "start_time": "2022-09-19T06:45:02.035Z"
   },
   {
    "duration": 306,
    "start_time": "2022-09-19T06:45:10.168Z"
   },
   {
    "duration": 4,
    "start_time": "2022-09-19T06:45:10.481Z"
   },
   {
    "duration": 256,
    "start_time": "2022-09-19T06:45:10.488Z"
   },
   {
    "duration": 0,
    "start_time": "2022-09-19T06:45:10.746Z"
   },
   {
    "duration": 0,
    "start_time": "2022-09-19T06:45:10.747Z"
   },
   {
    "duration": 0,
    "start_time": "2022-09-19T06:45:10.749Z"
   },
   {
    "duration": 0,
    "start_time": "2022-09-19T06:45:10.750Z"
   },
   {
    "duration": 0,
    "start_time": "2022-09-19T06:45:10.751Z"
   },
   {
    "duration": 0,
    "start_time": "2022-09-19T06:45:10.752Z"
   },
   {
    "duration": 0,
    "start_time": "2022-09-19T06:45:10.753Z"
   },
   {
    "duration": 0,
    "start_time": "2022-09-19T06:45:10.754Z"
   },
   {
    "duration": 0,
    "start_time": "2022-09-19T06:45:10.755Z"
   },
   {
    "duration": 0,
    "start_time": "2022-09-19T06:45:10.756Z"
   },
   {
    "duration": 0,
    "start_time": "2022-09-19T06:45:10.757Z"
   },
   {
    "duration": 1,
    "start_time": "2022-09-19T06:45:10.758Z"
   },
   {
    "duration": 0,
    "start_time": "2022-09-19T06:45:10.784Z"
   },
   {
    "duration": 0,
    "start_time": "2022-09-19T06:45:10.785Z"
   },
   {
    "duration": 0,
    "start_time": "2022-09-19T06:45:10.787Z"
   },
   {
    "duration": 0,
    "start_time": "2022-09-19T06:45:10.788Z"
   },
   {
    "duration": 0,
    "start_time": "2022-09-19T06:45:10.789Z"
   },
   {
    "duration": 0,
    "start_time": "2022-09-19T06:45:10.790Z"
   },
   {
    "duration": 0,
    "start_time": "2022-09-19T06:45:10.792Z"
   },
   {
    "duration": 0,
    "start_time": "2022-09-19T06:45:10.795Z"
   },
   {
    "duration": 0,
    "start_time": "2022-09-19T06:45:10.797Z"
   },
   {
    "duration": 0,
    "start_time": "2022-09-19T06:45:10.800Z"
   },
   {
    "duration": 7861,
    "start_time": "2022-09-19T06:46:21.505Z"
   },
   {
    "duration": 270,
    "start_time": "2022-09-19T06:46:29.368Z"
   },
   {
    "duration": 2,
    "start_time": "2022-09-19T06:46:29.640Z"
   },
   {
    "duration": 2390,
    "start_time": "2022-09-19T06:46:29.643Z"
   },
   {
    "duration": 17,
    "start_time": "2022-09-19T06:46:32.036Z"
   },
   {
    "duration": 53,
    "start_time": "2022-09-19T06:46:32.055Z"
   },
   {
    "duration": 559,
    "start_time": "2022-09-19T06:46:32.110Z"
   },
   {
    "duration": 43,
    "start_time": "2022-09-19T06:46:32.676Z"
   },
   {
    "duration": 107269,
    "start_time": "2022-09-19T06:46:32.721Z"
   },
   {
    "duration": 20,
    "start_time": "2022-09-19T06:48:19.991Z"
   },
   {
    "duration": 333,
    "start_time": "2022-09-19T06:48:20.013Z"
   },
   {
    "duration": 10,
    "start_time": "2022-09-19T06:48:20.348Z"
   },
   {
    "duration": 31438,
    "start_time": "2022-09-19T06:48:20.361Z"
   },
   {
    "duration": 8,
    "start_time": "2022-09-19T06:48:51.802Z"
   },
   {
    "duration": 13,
    "start_time": "2022-09-19T06:48:51.817Z"
   },
   {
    "duration": 216,
    "start_time": "2022-09-19T06:48:51.832Z"
   },
   {
    "duration": 5,
    "start_time": "2022-09-19T06:48:52.049Z"
   },
   {
    "duration": 16,
    "start_time": "2022-09-19T06:48:52.056Z"
   },
   {
    "duration": 33,
    "start_time": "2022-09-19T06:48:52.089Z"
   },
   {
    "duration": 8,
    "start_time": "2022-09-19T06:48:52.124Z"
   },
   {
    "duration": 18,
    "start_time": "2022-09-19T06:48:52.135Z"
   },
   {
    "duration": 542436,
    "start_time": "2022-09-19T06:48:52.155Z"
   },
   {
    "duration": 145,
    "start_time": "2022-09-19T06:57:54.601Z"
   },
   {
    "duration": 0,
    "start_time": "2022-09-19T06:57:54.749Z"
   },
   {
    "duration": 0,
    "start_time": "2022-09-19T06:57:54.752Z"
   },
   {
    "duration": 0,
    "start_time": "2022-09-19T06:57:54.754Z"
   },
   {
    "duration": 4,
    "start_time": "2022-09-19T06:58:15.361Z"
   },
   {
    "duration": 4,
    "start_time": "2022-09-19T06:58:16.024Z"
   },
   {
    "duration": 594385,
    "start_time": "2022-09-19T06:58:17.056Z"
   },
   {
    "duration": 18,
    "start_time": "2022-09-19T07:08:18.305Z"
   },
   {
    "duration": 7,
    "start_time": "2022-09-19T07:08:20.875Z"
   },
   {
    "duration": 23,
    "start_time": "2022-09-19T07:08:22.620Z"
   },
   {
    "duration": 132,
    "start_time": "2022-09-19T07:09:22.296Z"
   },
   {
    "duration": 42,
    "start_time": "2022-09-19T07:09:23.759Z"
   },
   {
    "duration": 2773,
    "start_time": "2022-09-19T14:33:04.439Z"
   },
   {
    "duration": 567,
    "start_time": "2022-09-19T14:33:07.214Z"
   },
   {
    "duration": 3,
    "start_time": "2022-09-19T14:33:07.782Z"
   },
   {
    "duration": 2281,
    "start_time": "2022-09-19T14:33:07.786Z"
   },
   {
    "duration": 15,
    "start_time": "2022-09-19T14:33:10.069Z"
   },
   {
    "duration": 39,
    "start_time": "2022-09-19T14:33:10.086Z"
   },
   {
    "duration": 571,
    "start_time": "2022-09-19T14:33:10.126Z"
   },
   {
    "duration": 35,
    "start_time": "2022-09-19T14:33:10.700Z"
   },
   {
    "duration": 17,
    "start_time": "2022-09-19T14:33:10.737Z"
   },
   {
    "duration": 251,
    "start_time": "2022-09-19T14:33:10.756Z"
   },
   {
    "duration": 0,
    "start_time": "2022-09-19T14:33:11.008Z"
   },
   {
    "duration": 0,
    "start_time": "2022-09-19T14:33:11.010Z"
   },
   {
    "duration": 595,
    "start_time": "2022-09-19T14:35:40.604Z"
   },
   {
    "duration": 776626,
    "start_time": "2022-09-19T14:35:44.070Z"
   },
   {
    "duration": 11,
    "start_time": "2022-09-19T14:52:22.378Z"
   },
   {
    "duration": 228,
    "start_time": "2022-09-19T14:52:23.900Z"
   },
   {
    "duration": 9,
    "start_time": "2022-09-19T14:52:25.451Z"
   },
   {
    "duration": 9,
    "start_time": "2022-09-19T14:52:31.211Z"
   },
   {
    "duration": 4,
    "start_time": "2022-09-19T14:53:50.420Z"
   },
   {
    "duration": 73,
    "start_time": "2022-09-19T14:53:51.182Z"
   },
   {
    "duration": 24209,
    "start_time": "2022-09-19T14:53:52.427Z"
   },
   {
    "duration": 7,
    "start_time": "2022-09-19T14:54:16.638Z"
   },
   {
    "duration": 9,
    "start_time": "2022-09-19T14:54:16.647Z"
   },
   {
    "duration": 5,
    "start_time": "2022-09-19T14:54:16.658Z"
   },
   {
    "duration": 10,
    "start_time": "2022-09-19T14:54:16.665Z"
   },
   {
    "duration": 11,
    "start_time": "2022-09-19T14:54:16.677Z"
   },
   {
    "duration": 1176372,
    "start_time": "2022-09-19T14:54:16.690Z"
   },
   {
    "duration": 4,
    "start_time": "2022-09-19T15:13:53.064Z"
   },
   {
    "duration": 15,
    "start_time": "2022-09-19T15:13:53.070Z"
   },
   {
    "duration": 104,
    "start_time": "2022-09-19T15:13:53.087Z"
   },
   {
    "duration": 16,
    "start_time": "2022-09-19T15:13:53.192Z"
   },
   {
    "duration": 83,
    "start_time": "2022-09-19T15:50:56.901Z"
   },
   {
    "duration": 17,
    "start_time": "2022-09-19T15:51:01.456Z"
   },
   {
    "duration": 119,
    "start_time": "2022-09-19T15:51:07.704Z"
   },
   {
    "duration": 14,
    "start_time": "2022-09-19T15:51:13.910Z"
   },
   {
    "duration": 13,
    "start_time": "2022-09-19T15:51:20.430Z"
   },
   {
    "duration": 3,
    "start_time": "2022-09-19T15:51:24.582Z"
   },
   {
    "duration": 63,
    "start_time": "2022-09-19T15:51:25.508Z"
   },
   {
    "duration": 20725,
    "start_time": "2022-09-19T15:51:28.534Z"
   },
   {
    "duration": 28,
    "start_time": "2022-09-19T15:51:52.662Z"
   },
   {
    "duration": 2771,
    "start_time": "2022-09-20T17:46:01.116Z"
   },
   {
    "duration": 506,
    "start_time": "2022-09-20T17:46:03.889Z"
   },
   {
    "duration": 2,
    "start_time": "2022-09-20T17:46:04.397Z"
   },
   {
    "duration": 2099,
    "start_time": "2022-09-20T17:46:04.401Z"
   },
   {
    "duration": 14,
    "start_time": "2022-09-20T17:46:06.502Z"
   },
   {
    "duration": 47,
    "start_time": "2022-09-20T17:46:06.518Z"
   },
   {
    "duration": 317,
    "start_time": "2022-09-20T17:46:06.568Z"
   },
   {
    "duration": 15,
    "start_time": "2022-09-20T17:46:06.887Z"
   },
   {
    "duration": 26,
    "start_time": "2022-09-20T17:46:06.904Z"
   },
   {
    "duration": 775003,
    "start_time": "2022-09-20T17:46:06.932Z"
   },
   {
    "duration": 19,
    "start_time": "2022-09-20T17:59:01.937Z"
   },
   {
    "duration": 252,
    "start_time": "2022-09-20T17:59:01.957Z"
   },
   {
    "duration": 8,
    "start_time": "2022-09-20T17:59:02.211Z"
   },
   {
    "duration": 19,
    "start_time": "2022-09-20T17:59:02.224Z"
   },
   {
    "duration": 79,
    "start_time": "2022-09-20T17:59:02.245Z"
   },
   {
    "duration": 23380,
    "start_time": "2022-09-20T17:59:02.326Z"
   },
   {
    "duration": 5,
    "start_time": "2022-09-20T17:59:25.708Z"
   },
   {
    "duration": 7,
    "start_time": "2022-09-20T17:59:25.715Z"
   },
   {
    "duration": 9,
    "start_time": "2022-09-20T17:59:25.724Z"
   },
   {
    "duration": 19,
    "start_time": "2022-09-20T17:59:25.735Z"
   },
   {
    "duration": 12,
    "start_time": "2022-09-20T17:59:25.756Z"
   },
   {
    "duration": 1308215,
    "start_time": "2022-09-20T17:59:25.770Z"
   },
   {
    "duration": 4,
    "start_time": "2022-09-20T18:21:13.987Z"
   },
   {
    "duration": 12,
    "start_time": "2022-09-20T18:21:13.993Z"
   },
   {
    "duration": 115,
    "start_time": "2022-09-20T18:21:14.007Z"
   },
   {
    "duration": 32,
    "start_time": "2022-09-20T18:21:14.124Z"
   },
   {
    "duration": 4,
    "start_time": "2022-09-20T18:21:14.158Z"
   },
   {
    "duration": 3416,
    "start_time": "2022-09-20T18:21:14.165Z"
   },
   {
    "duration": 10,
    "start_time": "2022-09-20T18:21:17.583Z"
   },
   {
    "duration": 5,
    "start_time": "2022-09-20T18:21:17.594Z"
   },
   {
    "duration": 8,
    "start_time": "2022-09-20T18:21:17.601Z"
   },
   {
    "duration": 8,
    "start_time": "2022-09-20T18:21:17.612Z"
   },
   {
    "duration": 55,
    "start_time": "2022-09-20T18:28:20.177Z"
   },
   {
    "duration": 0,
    "start_time": "2022-09-20T18:28:20.235Z"
   },
   {
    "duration": 0,
    "start_time": "2022-09-20T18:28:20.236Z"
   },
   {
    "duration": 0,
    "start_time": "2022-09-20T18:28:20.237Z"
   },
   {
    "duration": 0,
    "start_time": "2022-09-20T18:28:20.239Z"
   },
   {
    "duration": 0,
    "start_time": "2022-09-20T18:28:20.241Z"
   },
   {
    "duration": 0,
    "start_time": "2022-09-20T18:28:20.242Z"
   },
   {
    "duration": 0,
    "start_time": "2022-09-20T18:28:20.242Z"
   },
   {
    "duration": 1,
    "start_time": "2022-09-20T18:28:20.243Z"
   },
   {
    "duration": 0,
    "start_time": "2022-09-20T18:28:20.245Z"
   },
   {
    "duration": 0,
    "start_time": "2022-09-20T18:28:20.246Z"
   },
   {
    "duration": 0,
    "start_time": "2022-09-20T18:28:20.254Z"
   },
   {
    "duration": 0,
    "start_time": "2022-09-20T18:28:20.255Z"
   },
   {
    "duration": 0,
    "start_time": "2022-09-20T18:28:20.256Z"
   },
   {
    "duration": 0,
    "start_time": "2022-09-20T18:28:20.257Z"
   },
   {
    "duration": 0,
    "start_time": "2022-09-20T18:28:20.258Z"
   },
   {
    "duration": 0,
    "start_time": "2022-09-20T18:28:20.260Z"
   },
   {
    "duration": 0,
    "start_time": "2022-09-20T18:28:20.261Z"
   },
   {
    "duration": 0,
    "start_time": "2022-09-20T18:28:20.262Z"
   },
   {
    "duration": 2496,
    "start_time": "2022-09-20T18:30:44.005Z"
   },
   {
    "duration": 454,
    "start_time": "2022-09-20T18:30:46.503Z"
   },
   {
    "duration": 2,
    "start_time": "2022-09-20T18:30:46.959Z"
   },
   {
    "duration": 2055,
    "start_time": "2022-09-20T18:30:46.964Z"
   },
   {
    "duration": 14,
    "start_time": "2022-09-20T18:30:49.021Z"
   },
   {
    "duration": 47,
    "start_time": "2022-09-20T18:30:49.037Z"
   },
   {
    "duration": 295,
    "start_time": "2022-09-20T18:30:49.085Z"
   },
   {
    "duration": 12,
    "start_time": "2022-09-20T18:30:49.382Z"
   },
   {
    "duration": 10,
    "start_time": "2022-09-20T18:30:49.395Z"
   },
   {
    "duration": 826710,
    "start_time": "2022-09-20T18:30:49.407Z"
   },
   {
    "duration": 15,
    "start_time": "2022-09-20T18:44:36.119Z"
   },
   {
    "duration": 284,
    "start_time": "2022-09-20T18:44:36.136Z"
   },
   {
    "duration": 9,
    "start_time": "2022-09-20T18:44:36.421Z"
   },
   {
    "duration": 6,
    "start_time": "2022-09-20T18:44:36.433Z"
   },
   {
    "duration": 87,
    "start_time": "2022-09-20T18:44:36.441Z"
   },
   {
    "duration": 22536,
    "start_time": "2022-09-20T18:44:36.530Z"
   },
   {
    "duration": 5,
    "start_time": "2022-09-20T18:44:59.068Z"
   },
   {
    "duration": 13,
    "start_time": "2022-09-20T18:44:59.076Z"
   },
   {
    "duration": 10,
    "start_time": "2022-09-20T18:44:59.091Z"
   },
   {
    "duration": 1239593,
    "start_time": "2022-09-20T18:44:59.103Z"
   },
   {
    "duration": 3,
    "start_time": "2022-09-20T19:05:38.698Z"
   },
   {
    "duration": 8,
    "start_time": "2022-09-20T19:05:38.703Z"
   },
   {
    "duration": 104,
    "start_time": "2022-09-20T19:05:38.713Z"
   },
   {
    "duration": 24,
    "start_time": "2022-09-20T19:05:38.819Z"
   },
   {
    "duration": 3,
    "start_time": "2022-09-20T19:05:38.854Z"
   },
   {
    "duration": 10,
    "start_time": "2022-09-20T19:05:38.858Z"
   },
   {
    "duration": 10,
    "start_time": "2022-09-20T19:05:38.869Z"
   },
   {
    "duration": 6,
    "start_time": "2022-09-20T19:05:38.881Z"
   },
   {
    "duration": 7,
    "start_time": "2022-09-20T19:05:38.889Z"
   },
   {
    "duration": 9,
    "start_time": "2022-09-20T19:05:38.898Z"
   },
   {
    "duration": 6,
    "start_time": "2022-09-20T19:05:38.908Z"
   },
   {
    "duration": 282172,
    "start_time": "2022-09-20T19:05:38.916Z"
   },
   {
    "duration": 10104,
    "start_time": "2022-09-20T19:10:21.090Z"
   },
   {
    "duration": 2601,
    "start_time": "2022-09-20T19:10:31.196Z"
   },
   {
    "duration": 2,
    "start_time": "2022-09-20T19:10:33.799Z"
   },
   {
    "duration": 12,
    "start_time": "2022-09-20T19:10:33.804Z"
   },
   {
    "duration": 8,
    "start_time": "2022-09-20T19:10:33.818Z"
   },
   {
    "duration": 8,
    "start_time": "2022-09-20T19:10:33.827Z"
   },
   {
    "duration": 53,
    "start_time": "2022-09-21T06:14:37.593Z"
   },
   {
    "duration": 7,
    "start_time": "2022-09-21T06:15:51.104Z"
   },
   {
    "duration": 189,
    "start_time": "2022-09-21T06:16:13.097Z"
   },
   {
    "duration": 2849,
    "start_time": "2022-09-21T06:16:45.895Z"
   },
   {
    "duration": 844,
    "start_time": "2022-09-21T06:16:48.747Z"
   },
   {
    "duration": 3,
    "start_time": "2022-09-21T06:16:49.593Z"
   },
   {
    "duration": 2599,
    "start_time": "2022-09-21T06:16:49.597Z"
   },
   {
    "duration": 15,
    "start_time": "2022-09-21T06:16:52.198Z"
   },
   {
    "duration": 40,
    "start_time": "2022-09-21T06:16:52.215Z"
   },
   {
    "duration": 458,
    "start_time": "2022-09-21T06:16:52.257Z"
   },
   {
    "duration": 37,
    "start_time": "2022-09-21T06:16:52.717Z"
   },
   {
    "duration": 6,
    "start_time": "2022-09-21T06:16:52.756Z"
   },
   {
    "duration": 771802,
    "start_time": "2022-09-21T06:16:52.767Z"
   },
   {
    "duration": 13,
    "start_time": "2022-09-21T06:29:44.570Z"
   },
   {
    "duration": 212,
    "start_time": "2022-09-21T06:29:44.585Z"
   },
   {
    "duration": 8,
    "start_time": "2022-09-21T06:29:44.799Z"
   },
   {
    "duration": 10,
    "start_time": "2022-09-21T06:29:44.809Z"
   },
   {
    "duration": 68,
    "start_time": "2022-09-21T06:29:44.820Z"
   },
   {
    "duration": 19239,
    "start_time": "2022-09-21T06:29:44.890Z"
   },
   {
    "duration": 4,
    "start_time": "2022-09-21T06:30:04.130Z"
   },
   {
    "duration": 13,
    "start_time": "2022-09-21T06:30:04.139Z"
   },
   {
    "duration": 13,
    "start_time": "2022-09-21T06:30:04.155Z"
   },
   {
    "duration": 1159288,
    "start_time": "2022-09-21T06:30:04.170Z"
   },
   {
    "duration": 5,
    "start_time": "2022-09-21T06:49:23.462Z"
   },
   {
    "duration": 9,
    "start_time": "2022-09-21T06:49:23.469Z"
   },
   {
    "duration": 99,
    "start_time": "2022-09-21T06:49:23.480Z"
   },
   {
    "duration": 21,
    "start_time": "2022-09-21T06:49:23.581Z"
   },
   {
    "duration": 2,
    "start_time": "2022-09-21T06:49:23.604Z"
   },
   {
    "duration": 6,
    "start_time": "2022-09-21T06:49:23.608Z"
   },
   {
    "duration": 3,
    "start_time": "2022-09-21T06:49:23.633Z"
   },
   {
    "duration": 26,
    "start_time": "2022-09-21T06:49:23.643Z"
   },
   {
    "duration": 8,
    "start_time": "2022-09-21T06:49:23.671Z"
   },
   {
    "duration": 16,
    "start_time": "2022-09-21T06:49:23.680Z"
   },
   {
    "duration": 17,
    "start_time": "2022-09-21T06:49:23.698Z"
   },
   {
    "duration": 368450,
    "start_time": "2022-09-21T06:49:23.717Z"
   },
   {
    "duration": 11379,
    "start_time": "2022-09-21T06:55:32.177Z"
   },
   {
    "duration": 2707,
    "start_time": "2022-09-21T06:55:43.561Z"
   },
   {
    "duration": 3,
    "start_time": "2022-09-21T06:55:46.274Z"
   },
   {
    "duration": 24,
    "start_time": "2022-09-21T06:55:46.279Z"
   },
   {
    "duration": 34,
    "start_time": "2022-09-21T06:55:46.305Z"
   },
   {
    "duration": 35,
    "start_time": "2022-09-21T06:55:46.341Z"
   },
   {
    "duration": 2945032,
    "start_time": "2022-09-21T06:55:46.379Z"
   },
   {
    "duration": 2,
    "start_time": "2022-09-21T07:44:51.413Z"
   },
   {
    "duration": 62,
    "start_time": "2022-09-21T07:44:51.417Z"
   },
   {
    "duration": 34,
    "start_time": "2022-09-21T07:44:51.485Z"
   },
   {
    "duration": 0,
    "start_time": "2022-09-21T07:44:51.521Z"
   },
   {
    "duration": 45,
    "start_time": "2022-09-21T07:44:58.359Z"
   }
  ],
  "kernelspec": {
   "display_name": "Python 3 (ipykernel)",
   "language": "python",
   "name": "python3"
  },
  "language_info": {
   "codemirror_mode": {
    "name": "ipython",
    "version": 3
   },
   "file_extension": ".py",
   "mimetype": "text/x-python",
   "name": "python",
   "nbconvert_exporter": "python",
   "pygments_lexer": "ipython3",
   "version": "3.9.7"
  },
  "toc": {
   "base_numbering": 1,
   "nav_menu": {},
   "number_sections": true,
   "sideBar": true,
   "skip_h1_title": true,
   "title_cell": "Table of Contents",
   "title_sidebar": "Contents",
   "toc_cell": false,
   "toc_position": {},
   "toc_section_display": true,
   "toc_window_display": true
  }
 },
 "nbformat": 4,
 "nbformat_minor": 5
}
