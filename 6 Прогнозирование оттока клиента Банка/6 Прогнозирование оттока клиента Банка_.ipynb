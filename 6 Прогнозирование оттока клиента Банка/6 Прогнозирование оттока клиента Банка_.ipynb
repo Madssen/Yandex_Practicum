{
 "cells": [
  {
   "cell_type": "markdown",
   "metadata": {
    "toc": true
   },
   "source": [
    "<h1>Содержание<span class=\"tocSkip\"></span></h1>\n",
    "<div class=\"toc\"><ul class=\"toc-item\"><li><span><a href=\"#Подготовка-данных\" data-toc-modified-id=\"Подготовка-данных-1\"><span class=\"toc-item-num\">1&nbsp;&nbsp;</span>Подготовка данных</a></span></li><li><span><a href=\"#Исследование-задачи\" data-toc-modified-id=\"Исследование-задачи-2\"><span class=\"toc-item-num\">2&nbsp;&nbsp;</span>Исследование задачи</a></span></li><li><span><a href=\"#Борьба-с-дисбалансом\" data-toc-modified-id=\"Борьба-с-дисбалансом-3\"><span class=\"toc-item-num\">3&nbsp;&nbsp;</span>Борьба с дисбалансом</a></span><ul class=\"toc-item\"><li><span><a href=\"#Изучение-моделей-без-учёта-дисбаланса\" data-toc-modified-id=\"Изучение-моделей-без-учёта-дисбаланса-3.1\"><span class=\"toc-item-num\">3.1&nbsp;&nbsp;</span>Изучение моделей без учёта дисбаланса</a></span></li><li><span><a href=\"#Изучение-моделей-с-учетом-дисбаланса\" data-toc-modified-id=\"Изучение-моделей-с-учетом-дисбаланса-3.2\"><span class=\"toc-item-num\">3.2&nbsp;&nbsp;</span>Изучение моделей с учетом дисбаланса</a></span></li></ul></li><li><span><a href=\"#Тестирование-модели\" data-toc-modified-id=\"Тестирование-модели-4\"><span class=\"toc-item-num\">4&nbsp;&nbsp;</span>Тестирование модели</a></span></li><li><span><a href=\"#Чек-лист-готовности-проекта\" data-toc-modified-id=\"Чек-лист-готовности-проекта-5\"><span class=\"toc-item-num\">5&nbsp;&nbsp;</span>Чек-лист готовности проекта</a></span></li></ul></div>"
   ]
  },
  {
   "cell_type": "markdown",
   "metadata": {},
   "source": [
    "# Отток клиентов"
   ]
  },
  {
   "cell_type": "markdown",
   "metadata": {},
   "source": [
    "Из «Бета-Банка» стали уходить клиенты. Каждый месяц. Немного, но заметно. Банковские маркетологи посчитали: сохранять текущих клиентов дешевле, чем привлекать новых.\n",
    "\n",
    "Нужно спрогнозировать, уйдёт клиент из банка в ближайшее время или нет. Вам предоставлены исторические данные о поведении клиентов и расторжении договоров с банком. \n",
    "\n",
    "Постройте модель с предельно большим значением *F1*-меры. Чтобы сдать проект успешно, нужно довести метрику до 0.59. Проверьте *F1*-меру на тестовой выборке самостоятельно.\n",
    "\n",
    "Дополнительно измеряйте *AUC-ROC*, сравнивайте её значение с *F1*-мерой.\n",
    "\n",
    "Источник данных: [https://www.kaggle.com/barelydedicated/bank-customer-churn-modeling](https://www.kaggle.com/barelydedicated/bank-customer-churn-modeling)"
   ]
  },
  {
   "cell_type": "markdown",
   "metadata": {},
   "source": [
    "## Подготовка данных"
   ]
  },
  {
   "cell_type": "code",
   "execution_count": 1,
   "metadata": {},
   "outputs": [],
   "source": [
    "import os\n",
    "os.chdir(\"C:/Users/Admin/Downloads/ЯНДЕКС/Проекты из курса/6 отток клиентов банка\")\n",
    "import pandas as pd\n",
    "\n",
    "from sklearn.metrics import accuracy_score\n",
    "from sklearn.model_selection import train_test_split\n",
    "from sklearn.preprocessing import StandardScaler \n",
    "\n",
    "from sklearn.tree import DecisionTreeClassifier\n",
    "from sklearn.ensemble import RandomForestClassifier \n",
    "from sklearn.linear_model import LogisticRegression\n",
    "from sklearn.metrics import confusion_matrix\n",
    "from sklearn.metrics import recall_score\n",
    "from sklearn.metrics import precision_score\n",
    "from sklearn.metrics import f1_score\n",
    "import numpy as np\n",
    "import matplotlib.pyplot as plt\n",
    "from sklearn.metrics import roc_curve"
   ]
  },
  {
   "cell_type": "code",
   "execution_count": 2,
   "metadata": {},
   "outputs": [],
   "source": [
    "#pip install --upgrade ipykernel"
   ]
  },
  {
   "cell_type": "code",
   "execution_count": 3,
   "metadata": {
    "scrolled": true
   },
   "outputs": [
    {
     "data": {
      "text/html": [
       "<div>\n",
       "<style scoped>\n",
       "    .dataframe tbody tr th:only-of-type {\n",
       "        vertical-align: middle;\n",
       "    }\n",
       "\n",
       "    .dataframe tbody tr th {\n",
       "        vertical-align: top;\n",
       "    }\n",
       "\n",
       "    .dataframe thead th {\n",
       "        text-align: right;\n",
       "    }\n",
       "</style>\n",
       "<table border=\"1\" class=\"dataframe\">\n",
       "  <thead>\n",
       "    <tr style=\"text-align: right;\">\n",
       "      <th></th>\n",
       "      <th>RowNumber</th>\n",
       "      <th>CustomerId</th>\n",
       "      <th>Surname</th>\n",
       "      <th>CreditScore</th>\n",
       "      <th>Geography</th>\n",
       "      <th>Gender</th>\n",
       "      <th>Age</th>\n",
       "      <th>Tenure</th>\n",
       "      <th>Balance</th>\n",
       "      <th>NumOfProducts</th>\n",
       "      <th>HasCrCard</th>\n",
       "      <th>IsActiveMember</th>\n",
       "      <th>EstimatedSalary</th>\n",
       "      <th>Exited</th>\n",
       "    </tr>\n",
       "  </thead>\n",
       "  <tbody>\n",
       "    <tr>\n",
       "      <td>0</td>\n",
       "      <td>1</td>\n",
       "      <td>15634602</td>\n",
       "      <td>Hargrave</td>\n",
       "      <td>619</td>\n",
       "      <td>France</td>\n",
       "      <td>Female</td>\n",
       "      <td>42</td>\n",
       "      <td>2.0</td>\n",
       "      <td>0.00</td>\n",
       "      <td>1</td>\n",
       "      <td>1</td>\n",
       "      <td>1</td>\n",
       "      <td>101348.88</td>\n",
       "      <td>1</td>\n",
       "    </tr>\n",
       "    <tr>\n",
       "      <td>1</td>\n",
       "      <td>2</td>\n",
       "      <td>15647311</td>\n",
       "      <td>Hill</td>\n",
       "      <td>608</td>\n",
       "      <td>Spain</td>\n",
       "      <td>Female</td>\n",
       "      <td>41</td>\n",
       "      <td>1.0</td>\n",
       "      <td>83807.86</td>\n",
       "      <td>1</td>\n",
       "      <td>0</td>\n",
       "      <td>1</td>\n",
       "      <td>112542.58</td>\n",
       "      <td>0</td>\n",
       "    </tr>\n",
       "    <tr>\n",
       "      <td>2</td>\n",
       "      <td>3</td>\n",
       "      <td>15619304</td>\n",
       "      <td>Onio</td>\n",
       "      <td>502</td>\n",
       "      <td>France</td>\n",
       "      <td>Female</td>\n",
       "      <td>42</td>\n",
       "      <td>8.0</td>\n",
       "      <td>159660.80</td>\n",
       "      <td>3</td>\n",
       "      <td>1</td>\n",
       "      <td>0</td>\n",
       "      <td>113931.57</td>\n",
       "      <td>1</td>\n",
       "    </tr>\n",
       "    <tr>\n",
       "      <td>3</td>\n",
       "      <td>4</td>\n",
       "      <td>15701354</td>\n",
       "      <td>Boni</td>\n",
       "      <td>699</td>\n",
       "      <td>France</td>\n",
       "      <td>Female</td>\n",
       "      <td>39</td>\n",
       "      <td>1.0</td>\n",
       "      <td>0.00</td>\n",
       "      <td>2</td>\n",
       "      <td>0</td>\n",
       "      <td>0</td>\n",
       "      <td>93826.63</td>\n",
       "      <td>0</td>\n",
       "    </tr>\n",
       "    <tr>\n",
       "      <td>4</td>\n",
       "      <td>5</td>\n",
       "      <td>15737888</td>\n",
       "      <td>Mitchell</td>\n",
       "      <td>850</td>\n",
       "      <td>Spain</td>\n",
       "      <td>Female</td>\n",
       "      <td>43</td>\n",
       "      <td>2.0</td>\n",
       "      <td>125510.82</td>\n",
       "      <td>1</td>\n",
       "      <td>1</td>\n",
       "      <td>1</td>\n",
       "      <td>79084.10</td>\n",
       "      <td>0</td>\n",
       "    </tr>\n",
       "  </tbody>\n",
       "</table>\n",
       "</div>"
      ],
      "text/plain": [
       "   RowNumber  CustomerId   Surname  CreditScore Geography  Gender  Age  \\\n",
       "0          1    15634602  Hargrave          619    France  Female   42   \n",
       "1          2    15647311      Hill          608     Spain  Female   41   \n",
       "2          3    15619304      Onio          502    France  Female   42   \n",
       "3          4    15701354      Boni          699    France  Female   39   \n",
       "4          5    15737888  Mitchell          850     Spain  Female   43   \n",
       "\n",
       "   Tenure    Balance  NumOfProducts  HasCrCard  IsActiveMember  \\\n",
       "0     2.0       0.00              1          1               1   \n",
       "1     1.0   83807.86              1          0               1   \n",
       "2     8.0  159660.80              3          1               0   \n",
       "3     1.0       0.00              2          0               0   \n",
       "4     2.0  125510.82              1          1               1   \n",
       "\n",
       "   EstimatedSalary  Exited  \n",
       "0        101348.88       1  \n",
       "1        112542.58       0  \n",
       "2        113931.57       1  \n",
       "3         93826.63       0  \n",
       "4         79084.10       0  "
      ]
     },
     "execution_count": 3,
     "metadata": {},
     "output_type": "execute_result"
    }
   ],
   "source": [
    "data = pd.read_csv('https://code.s3.yandex.net/datasets/Churn.csv')\n",
    "data.head()"
   ]
  },
  {
   "cell_type": "markdown",
   "metadata": {},
   "source": [
    "**Целевой признак\n",
    "Exited — факт ухода клиента.**"
   ]
  },
  {
   "cell_type": "code",
   "execution_count": 4,
   "metadata": {},
   "outputs": [
    {
     "name": "stdout",
     "output_type": "stream",
     "text": [
      "<class 'pandas.core.frame.DataFrame'>\n",
      "RangeIndex: 10000 entries, 0 to 9999\n",
      "Data columns (total 14 columns):\n",
      "RowNumber          10000 non-null int64\n",
      "CustomerId         10000 non-null int64\n",
      "Surname            10000 non-null object\n",
      "CreditScore        10000 non-null int64\n",
      "Geography          10000 non-null object\n",
      "Gender             10000 non-null object\n",
      "Age                10000 non-null int64\n",
      "Tenure             9091 non-null float64\n",
      "Balance            10000 non-null float64\n",
      "NumOfProducts      10000 non-null int64\n",
      "HasCrCard          10000 non-null int64\n",
      "IsActiveMember     10000 non-null int64\n",
      "EstimatedSalary    10000 non-null float64\n",
      "Exited             10000 non-null int64\n",
      "dtypes: float64(3), int64(8), object(3)\n",
      "memory usage: 1.1+ MB\n"
     ]
    }
   ],
   "source": [
    "data.info()"
   ]
  },
  {
   "cell_type": "markdown",
   "metadata": {},
   "source": [
    "Пропущены значения в столбце 'Tenure' — сколько лет человек является клиентом банка. "
   ]
  },
  {
   "cell_type": "code",
   "execution_count": 5,
   "metadata": {},
   "outputs": [
    {
     "data": {
      "text/plain": [
       "count    9091.000000\n",
       "mean        4.997690\n",
       "std         2.894723\n",
       "min         0.000000\n",
       "25%         2.000000\n",
       "50%         5.000000\n",
       "75%         7.000000\n",
       "max        10.000000\n",
       "Name: Tenure, dtype: float64"
      ]
     },
     "execution_count": 5,
     "metadata": {},
     "output_type": "execute_result"
    }
   ],
   "source": [
    "\n",
    "data['Tenure'].describe()"
   ]
  },
  {
   "cell_type": "code",
   "execution_count": 6,
   "metadata": {},
   "outputs": [
    {
     "name": "stdout",
     "output_type": "stream",
     "text": [
      "Кол-во пропущенных значений: 909 Процент пропущенных значений: 0.0909\n"
     ]
    }
   ],
   "source": [
    "print('Кол-во пропущенных значений:', data.Tenure.isna().sum(), \n",
    "      'Процент пропущенных значений:', data.Tenure.isna().sum()/len(data))"
   ]
  },
  {
   "cell_type": "code",
   "execution_count": 7,
   "metadata": {},
   "outputs": [],
   "source": [
    "data['Tenure'] = data['Tenure'].fillna(0)"
   ]
  },
  {
   "cell_type": "markdown",
   "metadata": {},
   "source": [
    "Столбцы 'CustomerId', 'Surname', 'RowNumber' нам не понадобятся, убираем их из данных"
   ]
  },
  {
   "cell_type": "code",
   "execution_count": 8,
   "metadata": {
    "scrolled": true
   },
   "outputs": [
    {
     "data": {
      "text/html": [
       "<div>\n",
       "<style scoped>\n",
       "    .dataframe tbody tr th:only-of-type {\n",
       "        vertical-align: middle;\n",
       "    }\n",
       "\n",
       "    .dataframe tbody tr th {\n",
       "        vertical-align: top;\n",
       "    }\n",
       "\n",
       "    .dataframe thead th {\n",
       "        text-align: right;\n",
       "    }\n",
       "</style>\n",
       "<table border=\"1\" class=\"dataframe\">\n",
       "  <thead>\n",
       "    <tr style=\"text-align: right;\">\n",
       "      <th></th>\n",
       "      <th>CreditScore</th>\n",
       "      <th>Geography</th>\n",
       "      <th>Gender</th>\n",
       "      <th>Age</th>\n",
       "      <th>Tenure</th>\n",
       "      <th>Balance</th>\n",
       "      <th>NumOfProducts</th>\n",
       "      <th>HasCrCard</th>\n",
       "      <th>IsActiveMember</th>\n",
       "      <th>EstimatedSalary</th>\n",
       "      <th>Exited</th>\n",
       "    </tr>\n",
       "  </thead>\n",
       "  <tbody>\n",
       "    <tr>\n",
       "      <td>0</td>\n",
       "      <td>619</td>\n",
       "      <td>France</td>\n",
       "      <td>Female</td>\n",
       "      <td>42</td>\n",
       "      <td>2.0</td>\n",
       "      <td>0.00</td>\n",
       "      <td>1</td>\n",
       "      <td>1</td>\n",
       "      <td>1</td>\n",
       "      <td>101348.88</td>\n",
       "      <td>1</td>\n",
       "    </tr>\n",
       "    <tr>\n",
       "      <td>1</td>\n",
       "      <td>608</td>\n",
       "      <td>Spain</td>\n",
       "      <td>Female</td>\n",
       "      <td>41</td>\n",
       "      <td>1.0</td>\n",
       "      <td>83807.86</td>\n",
       "      <td>1</td>\n",
       "      <td>0</td>\n",
       "      <td>1</td>\n",
       "      <td>112542.58</td>\n",
       "      <td>0</td>\n",
       "    </tr>\n",
       "    <tr>\n",
       "      <td>2</td>\n",
       "      <td>502</td>\n",
       "      <td>France</td>\n",
       "      <td>Female</td>\n",
       "      <td>42</td>\n",
       "      <td>8.0</td>\n",
       "      <td>159660.80</td>\n",
       "      <td>3</td>\n",
       "      <td>1</td>\n",
       "      <td>0</td>\n",
       "      <td>113931.57</td>\n",
       "      <td>1</td>\n",
       "    </tr>\n",
       "    <tr>\n",
       "      <td>3</td>\n",
       "      <td>699</td>\n",
       "      <td>France</td>\n",
       "      <td>Female</td>\n",
       "      <td>39</td>\n",
       "      <td>1.0</td>\n",
       "      <td>0.00</td>\n",
       "      <td>2</td>\n",
       "      <td>0</td>\n",
       "      <td>0</td>\n",
       "      <td>93826.63</td>\n",
       "      <td>0</td>\n",
       "    </tr>\n",
       "    <tr>\n",
       "      <td>4</td>\n",
       "      <td>850</td>\n",
       "      <td>Spain</td>\n",
       "      <td>Female</td>\n",
       "      <td>43</td>\n",
       "      <td>2.0</td>\n",
       "      <td>125510.82</td>\n",
       "      <td>1</td>\n",
       "      <td>1</td>\n",
       "      <td>1</td>\n",
       "      <td>79084.10</td>\n",
       "      <td>0</td>\n",
       "    </tr>\n",
       "  </tbody>\n",
       "</table>\n",
       "</div>"
      ],
      "text/plain": [
       "   CreditScore Geography  Gender  Age  Tenure    Balance  NumOfProducts  \\\n",
       "0          619    France  Female   42     2.0       0.00              1   \n",
       "1          608     Spain  Female   41     1.0   83807.86              1   \n",
       "2          502    France  Female   42     8.0  159660.80              3   \n",
       "3          699    France  Female   39     1.0       0.00              2   \n",
       "4          850     Spain  Female   43     2.0  125510.82              1   \n",
       "\n",
       "   HasCrCard  IsActiveMember  EstimatedSalary  Exited  \n",
       "0          1               1        101348.88       1  \n",
       "1          0               1        112542.58       0  \n",
       "2          1               0        113931.57       1  \n",
       "3          0               0         93826.63       0  \n",
       "4          1               1         79084.10       0  "
      ]
     },
     "execution_count": 8,
     "metadata": {},
     "output_type": "execute_result"
    }
   ],
   "source": [
    "data = data.drop(columns=['CustomerId', 'Surname', 'RowNumber'], axis=1)\n",
    "data.head()"
   ]
  },
  {
   "cell_type": "markdown",
   "metadata": {},
   "source": [
    "**Совместим кодирование категориальных и масштабирование численных признаков. Разделим данные на три выборки:**"
   ]
  },
  {
   "cell_type": "code",
   "execution_count": 9,
   "metadata": {},
   "outputs": [
    {
     "name": "stdout",
     "output_type": "stream",
     "text": [
      "(6000, 11)\n",
      "(2000, 11)\n",
      "(2000, 11)\n"
     ]
    },
    {
     "data": {
      "text/html": [
       "<div>\n",
       "<style scoped>\n",
       "    .dataframe tbody tr th:only-of-type {\n",
       "        vertical-align: middle;\n",
       "    }\n",
       "\n",
       "    .dataframe tbody tr th {\n",
       "        vertical-align: top;\n",
       "    }\n",
       "\n",
       "    .dataframe thead th {\n",
       "        text-align: right;\n",
       "    }\n",
       "</style>\n",
       "<table border=\"1\" class=\"dataframe\">\n",
       "  <thead>\n",
       "    <tr style=\"text-align: right;\">\n",
       "      <th></th>\n",
       "      <th>CreditScore</th>\n",
       "      <th>Age</th>\n",
       "      <th>Tenure</th>\n",
       "      <th>Balance</th>\n",
       "      <th>NumOfProducts</th>\n",
       "      <th>HasCrCard</th>\n",
       "      <th>IsActiveMember</th>\n",
       "      <th>EstimatedSalary</th>\n",
       "      <th>Exited</th>\n",
       "      <th>Geography_Germany</th>\n",
       "      <th>Geography_Spain</th>\n",
       "      <th>Gender_Male</th>\n",
       "    </tr>\n",
       "  </thead>\n",
       "  <tbody>\n",
       "    <tr>\n",
       "      <td>0</td>\n",
       "      <td>619</td>\n",
       "      <td>42</td>\n",
       "      <td>2.0</td>\n",
       "      <td>0.00</td>\n",
       "      <td>1</td>\n",
       "      <td>1</td>\n",
       "      <td>1</td>\n",
       "      <td>101348.88</td>\n",
       "      <td>1</td>\n",
       "      <td>0</td>\n",
       "      <td>0</td>\n",
       "      <td>0</td>\n",
       "    </tr>\n",
       "    <tr>\n",
       "      <td>1</td>\n",
       "      <td>608</td>\n",
       "      <td>41</td>\n",
       "      <td>1.0</td>\n",
       "      <td>83807.86</td>\n",
       "      <td>1</td>\n",
       "      <td>0</td>\n",
       "      <td>1</td>\n",
       "      <td>112542.58</td>\n",
       "      <td>0</td>\n",
       "      <td>0</td>\n",
       "      <td>1</td>\n",
       "      <td>0</td>\n",
       "    </tr>\n",
       "    <tr>\n",
       "      <td>2</td>\n",
       "      <td>502</td>\n",
       "      <td>42</td>\n",
       "      <td>8.0</td>\n",
       "      <td>159660.80</td>\n",
       "      <td>3</td>\n",
       "      <td>1</td>\n",
       "      <td>0</td>\n",
       "      <td>113931.57</td>\n",
       "      <td>1</td>\n",
       "      <td>0</td>\n",
       "      <td>0</td>\n",
       "      <td>0</td>\n",
       "    </tr>\n",
       "    <tr>\n",
       "      <td>3</td>\n",
       "      <td>699</td>\n",
       "      <td>39</td>\n",
       "      <td>1.0</td>\n",
       "      <td>0.00</td>\n",
       "      <td>2</td>\n",
       "      <td>0</td>\n",
       "      <td>0</td>\n",
       "      <td>93826.63</td>\n",
       "      <td>0</td>\n",
       "      <td>0</td>\n",
       "      <td>0</td>\n",
       "      <td>0</td>\n",
       "    </tr>\n",
       "    <tr>\n",
       "      <td>4</td>\n",
       "      <td>850</td>\n",
       "      <td>43</td>\n",
       "      <td>2.0</td>\n",
       "      <td>125510.82</td>\n",
       "      <td>1</td>\n",
       "      <td>1</td>\n",
       "      <td>1</td>\n",
       "      <td>79084.10</td>\n",
       "      <td>0</td>\n",
       "      <td>0</td>\n",
       "      <td>1</td>\n",
       "      <td>0</td>\n",
       "    </tr>\n",
       "  </tbody>\n",
       "</table>\n",
       "</div>"
      ],
      "text/plain": [
       "   CreditScore  Age  Tenure    Balance  NumOfProducts  HasCrCard  \\\n",
       "0          619   42     2.0       0.00              1          1   \n",
       "1          608   41     1.0   83807.86              1          0   \n",
       "2          502   42     8.0  159660.80              3          1   \n",
       "3          699   39     1.0       0.00              2          0   \n",
       "4          850   43     2.0  125510.82              1          1   \n",
       "\n",
       "   IsActiveMember  EstimatedSalary  Exited  Geography_Germany  \\\n",
       "0               1        101348.88       1                  0   \n",
       "1               1        112542.58       0                  0   \n",
       "2               0        113931.57       1                  0   \n",
       "3               0         93826.63       0                  0   \n",
       "4               1         79084.10       0                  0   \n",
       "\n",
       "   Geography_Spain  Gender_Male  \n",
       "0                0            0  \n",
       "1                1            0  \n",
       "2                0            0  \n",
       "3                0            0  \n",
       "4                1            0  "
      ]
     },
     "execution_count": 9,
     "metadata": {},
     "output_type": "execute_result"
    }
   ],
   "source": [
    "data_ohe = pd.get_dummies(data, drop_first=True)\n",
    "target = data_ohe['Exited']\n",
    "features = data_ohe.drop(['Exited'], axis=1)\n",
    "#features_train, features_valid, target_train, target_valid = train_test_split(\n",
    "    #features, target, test_size=0.25, random_state=12345)\n",
    "features_train, features_temp, target_train, target_temp = train_test_split(\n",
    "    features, target, test_size=0.40, random_state=12345)\n",
    "features_valid, features_test, target_valid, target_test = train_test_split(\n",
    "    features_temp, target_temp, test_size=0.50, random_state=12345)\n",
    "\n",
    "numeric = ['CreditScore', 'Age','Balance', 'NumOfProducts', 'HasCrCard', 'IsActiveMember', 'EstimatedSalary', 'Tenure']\n",
    "pd.options.mode.chained_assignment = None\n",
    "\n",
    "scaler = StandardScaler()\n",
    "scaler.fit(features_train[numeric])\n",
    "features_train[numeric] = scaler.transform(features_train[numeric])\n",
    "features_valid[numeric] = scaler.transform(features_valid[numeric])\n",
    "features_test[numeric] = scaler.transform(features_test[numeric])\n",
    "\n",
    "print(features_train.shape) \n",
    "print(features_valid.shape) \n",
    "print(features_test.shape) \n",
    "data_ohe.head()"
   ]
  },
  {
   "cell_type": "markdown",
   "metadata": {},
   "source": [
    "## Исследование задачи"
   ]
  },
  {
   "cell_type": "markdown",
   "metadata": {},
   "source": [
    "Accuracy для решающего дерева\n",
    "Подходит ли нам метрика accuracy? Обучим модель и проверим.\n",
    "Вычислим правильность модели функцией accuracy_score(). Она принимает на вход верные ответы и предсказания, а возвращает долю правильных ответов."
   ]
  },
  {
   "cell_type": "code",
   "execution_count": 10,
   "metadata": {},
   "outputs": [
    {
     "name": "stdout",
     "output_type": "stream",
     "text": [
      "0.7865\n"
     ]
    }
   ],
   "source": [
    "model = DecisionTreeClassifier(random_state=12345)\n",
    "model.fit(features_train, target_train)\n",
    "predicted_valid = model.predict(features_valid) # получение предсказания модели\n",
    "accuracy_valid  = accuracy_score(target_valid, predicted_valid)\n",
    "print(accuracy_valid)"
   ]
  },
  {
   "cell_type": "markdown",
   "metadata": {},
   "source": [
    "Проверка адекватности модели. Доля правильных ответов — 81,92%. Это много или мало? Исследуем целевой признак.\n",
    "Чтобы оценить адекватность модели, проверим, как часто в целевом признаке встречается класс «1» или «0». Количество уникальных значений подсчитывается методом value_counts(). Он группирует строго одинаковые величины.\n"
   ]
  },
  {
   "cell_type": "code",
   "execution_count": 11,
   "metadata": {},
   "outputs": [
    {
     "name": "stdout",
     "output_type": "stream",
     "text": [
      "0    0.7963\n",
      "1    0.2037\n",
      "Name: Exited, dtype: float64\n"
     ]
    },
    {
     "data": {
      "text/plain": [
       "<matplotlib.axes._subplots.AxesSubplot at 0x7f1993c6c490>"
      ]
     },
     "execution_count": 11,
     "metadata": {},
     "output_type": "execute_result"
    },
    {
     "data": {
      "image/png": "[encoded data removed]",
      "text/plain": [
       "<Figure size 432x288 with 1 Axes>"
      ]
     },
     "metadata": {
      "needs_background": "light"
     },
     "output_type": "display_data"
    }
   ],
   "source": [
    "class_frequency = data['Exited'].value_counts(normalize=True)\n",
    "print(class_frequency)\n",
    "\n",
    "class_frequency.plot(kind='bar')"
   ]
  },
  {
   "cell_type": "markdown",
   "metadata": {},
   "source": [
    "Проанализируем частоты классов в результатах предсказаний решающего дерева (переменная predicted_valid):"
   ]
  },
  {
   "cell_type": "code",
   "execution_count": 12,
   "metadata": {},
   "outputs": [
    {
     "name": "stdout",
     "output_type": "stream",
     "text": [
      "0    0.7985\n",
      "1    0.2015\n",
      "dtype: float64\n"
     ]
    },
    {
     "data": {
      "text/plain": [
       "<matplotlib.axes._subplots.AxesSubplot at 0x7f1993bab410>"
      ]
     },
     "execution_count": 12,
     "metadata": {},
     "output_type": "execute_result"
    },
    {
     "data": {
      "image/png": "[encoded data removed]",
      "text/plain": [
       "<Figure size 432x288 with 1 Axes>"
      ]
     },
     "metadata": {
      "needs_background": "light"
     },
     "output_type": "display_data"
    }
   ],
   "source": [
    "predicted_valid = pd.Series(model.predict(features_valid))\n",
    "class_frequency = predicted_valid.value_counts(normalize=True)\n",
    "print(class_frequency)\n",
    "class_frequency.plot(kind='bar')"
   ]
  },
  {
   "cell_type": "markdown",
   "metadata": {},
   "source": [
    "Мало что изменилось. Попробуем константную модель:"
   ]
  },
  {
   "cell_type": "code",
   "execution_count": 13,
   "metadata": {},
   "outputs": [
    {
     "name": "stdout",
     "output_type": "stream",
     "text": [
      "0.7963\n"
     ]
    }
   ],
   "source": [
    "target_pred_constant = pd.Series(0, index=target.index)\n",
    "\n",
    "\n",
    "accuracy = accuracy_score(target, target_pred_constant)\n",
    "print(accuracy)\n",
    "# < напишите код здесь >"
   ]
  },
  {
   "cell_type": "code",
   "execution_count": 14,
   "metadata": {},
   "outputs": [
    {
     "data": {
      "text/plain": [
       "0.7963"
      ]
     },
     "execution_count": 14,
     "metadata": {},
     "output_type": "execute_result"
    }
   ],
   "source": [
    "from sklearn.dummy import DummyClassifier\n",
    "dummy_clf = DummyClassifier(strategy=\"most_frequent\")\n",
    "dummy_clf.fit(features, target)\n",
    "DummyClassifier(strategy='most_frequent')\n",
    "dummy_clf.predict(features)\n",
    "dummy_clf.score(features, target)"
   ]
  },
  {
   "cell_type": "markdown",
   "metadata": {},
   "source": [
    "## Борьба с дисбалансом"
   ]
  },
  {
   "cell_type": "markdown",
   "metadata": {},
   "source": [
    "Справиться с дисбалансом и более точно классифицировать ответы помогут новые метрики."
   ]
  },
  {
   "cell_type": "code",
   "execution_count": 15,
   "metadata": {},
   "outputs": [],
   "source": [
    "predicted_train = model.predict(features_train)"
   ]
  },
  {
   "cell_type": "markdown",
   "metadata": {},
   "source": [
    "Матрица ошибок\n",
    "TP, FP, TN, FN собираются в одну таблицу — матрицу ошибок, или матрицу неточностей (англ. сonfusion matrix)."
   ]
  },
  {
   "cell_type": "code",
   "execution_count": 16,
   "metadata": {},
   "outputs": [
    {
     "name": "stdout",
     "output_type": "stream",
     "text": [
      "[[4804    0]\n",
      " [   0 1196]]\n"
     ]
    }
   ],
   "source": [
    "print(confusion_matrix(target_train, predicted_train))"
   ]
  },
  {
   "cell_type": "markdown",
   "metadata": {},
   "source": [
    "**Полнота Recall**\n",
    "\n",
    "\n",
    "Матрица ошибок поможет построить новые метрики. Начнём с полноты (англ. recall).\n",
    "Полнота выявляет, какую долю положительных среди всех ответов выделила модель. Обычно они на вес золота, и важно понимать, как хорошо модель их находит."
   ]
  },
  {
   "cell_type": "code",
   "execution_count": 17,
   "metadata": {},
   "outputs": [
    {
     "name": "stdout",
     "output_type": "stream",
     "text": [
      "1.0\n"
     ]
    }
   ],
   "source": [
    "print(recall_score(target_train, predicted_train))"
   ]
  },
  {
   "cell_type": "markdown",
   "metadata": {},
   "source": [
    "**Точность Precision**\n",
    "\n",
    "Ещё одна метрика для оценки качества прогноза целевого класса — точность (англ. precision).\n",
    "Точность определяет, как много отрицательных ответов нашла модель, пока искала положительные. Чем больше отрицательных, тем ниже точность."
   ]
  },
  {
   "cell_type": "code",
   "execution_count": 18,
   "metadata": {},
   "outputs": [
    {
     "name": "stdout",
     "output_type": "stream",
     "text": [
      "1.0\n"
     ]
    }
   ],
   "source": [
    "print(precision_score(target_train, predicted_train))"
   ]
  },
  {
   "cell_type": "markdown",
   "metadata": {},
   "source": [
    "**F1-мера**\n",
    "\n",
    "\n",
    "По отдельности полнота и точность не слишком информативны. Нужно одновременно повышать показатели обеих. Или обратиться к новой метрике, которая их объединит.\n",
    "\n",
    "\n",
    "Полнота и точность оценивают качество прогноза положительного класса с разных позиций. Recall описывает, как хорошо модель разобралась в особенностях этого класса и распознала его. Precision выявляет, не переусердствует ли модель, присваивая положительные метки.\n",
    "\n",
    "\n",
    "Важны обе метрики. Контролировать их параллельно помогают агрегирующие метрики, одна из которых — F1-мера (англ. F1-score). Это среднее гармоническое полноты и точности. Единица в F1 означает, что соотношение полноты и точности равно 1:1."
   ]
  },
  {
   "cell_type": "code",
   "execution_count": 19,
   "metadata": {},
   "outputs": [
    {
     "name": "stdout",
     "output_type": "stream",
     "text": [
      "1.0\n"
     ]
    }
   ],
   "source": [
    "print(f1_score(target_train, predicted_train))"
   ]
  },
  {
   "cell_type": "code",
   "execution_count": 20,
   "metadata": {},
   "outputs": [
    {
     "name": "stdout",
     "output_type": "stream",
     "text": [
      "F1: 0.4653465346534654\n"
     ]
    }
   ],
   "source": [
    "model = DecisionTreeClassifier(random_state=12345, class_weight='balanced')\n",
    "model.fit(features_train, target_train)\n",
    "predicted_valid = model.predict(features_valid)\n",
    "print(\"F1:\", f1_score(target_valid, predicted_valid))"
   ]
  },
  {
   "cell_type": "markdown",
   "metadata": {},
   "source": [
    "### Изучение моделей без учёта дисбаланса"
   ]
  },
  {
   "cell_type": "markdown",
   "metadata": {},
   "source": [
    "Модель Решающего дерева:"
   ]
  },
  {
   "cell_type": "code",
   "execution_count": 21,
   "metadata": {},
   "outputs": [
    {
     "name": "stdout",
     "output_type": "stream",
     "text": [
      "F1: 0.47990255785627284\n"
     ]
    }
   ],
   "source": [
    "model = DecisionTreeClassifier(random_state=12345)\n",
    "model.fit(features_train, target_train)\n",
    "predicted_valid = model.predict(features_valid)\n",
    "print(\"F1:\", f1_score(target_valid, predicted_valid))"
   ]
  },
  {
   "cell_type": "markdown",
   "metadata": {},
   "source": [
    "Модель Случайного леса:"
   ]
  },
  {
   "cell_type": "code",
   "execution_count": 22,
   "metadata": {},
   "outputs": [
    {
     "name": "stdout",
     "output_type": "stream",
     "text": [
      "F1: 0.5766871165644172\n"
     ]
    }
   ],
   "source": [
    "model = RandomForestClassifier(random_state=12345, n_estimators=50, max_depth=10) \n",
    "model.fit(features_train, target_train)\n",
    "predicted_valid = model.predict(features_valid)\n",
    "print(\"F1:\", f1_score(target_valid, predicted_valid))"
   ]
  },
  {
   "cell_type": "markdown",
   "metadata": {},
   "source": [
    "Модель Логистической регрессии:"
   ]
  },
  {
   "cell_type": "code",
   "execution_count": 23,
   "metadata": {},
   "outputs": [
    {
     "name": "stdout",
     "output_type": "stream",
     "text": [
      "F1: 0.33389544688026984\n"
     ]
    }
   ],
   "source": [
    "model3 = LogisticRegression(random_state=12345, solver='liblinear') \n",
    "model3.fit(features_train, target_train)\n",
    "predicted_valid3 = model3.predict(features_valid)\n",
    "print(\"F1:\", f1_score(target_valid, predicted_valid3))"
   ]
  },
  {
   "cell_type": "markdown",
   "metadata": {},
   "source": [
    "**Без учета дисбаланса наилучший показатель F1 демонстирует модель Случайного леса.**"
   ]
  },
  {
   "cell_type": "markdown",
   "metadata": {},
   "source": [
    "### Изучение моделей с учетом дисбаланса"
   ]
  },
  {
   "cell_type": "markdown",
   "metadata": {},
   "source": [
    "**Техника Взвешивания классов**"
   ]
  },
  {
   "cell_type": "markdown",
   "metadata": {},
   "source": [
    "Модель Решающего дерева:"
   ]
  },
  {
   "cell_type": "code",
   "execution_count": 24,
   "metadata": {},
   "outputs": [
    {
     "name": "stdout",
     "output_type": "stream",
     "text": [
      "F1: 0.5304518664047152\n"
     ]
    }
   ],
   "source": [
    "model = DecisionTreeClassifier(random_state=12345, max_depth=9, class_weight='balanced')\n",
    "model.fit(features_train, target_train)\n",
    "predicted_valid = model.predict(features_valid)\n",
    "print(\"F1:\", f1_score(target_valid, predicted_valid))"
   ]
  },
  {
   "cell_type": "markdown",
   "metadata": {},
   "source": [
    "Модель Случайного леса:"
   ]
  },
  {
   "cell_type": "code",
   "execution_count": 25,
   "metadata": {},
   "outputs": [
    {
     "name": "stdout",
     "output_type": "stream",
     "text": [
      "F1: 0.6239620403321471\n"
     ]
    }
   ],
   "source": [
    "model = RandomForestClassifier(random_state=12345, n_estimators=50, max_depth=10, class_weight='balanced') #  class_weight='balanced' инициализируйте модель RandomForestRegressor с параметрами random_state=12345, n_estimators=est и max_depth=depth\n",
    "model.fit(features_train, target_train)\n",
    "predicted_valid = model.predict(features_valid)\n",
    "print(\"F1:\", f1_score(target_valid, predicted_valid))"
   ]
  },
  {
   "cell_type": "markdown",
   "metadata": {},
   "source": [
    "Модель Логистической регрессии:"
   ]
  },
  {
   "cell_type": "code",
   "execution_count": 26,
   "metadata": {},
   "outputs": [
    {
     "name": "stdout",
     "output_type": "stream",
     "text": [
      "F1: 0.4888888888888888\n"
     ]
    }
   ],
   "source": [
    "model3 = LogisticRegression(random_state=12345, solver='liblinear', class_weight='balanced') \n",
    "model3.fit(features_train, target_train)\n",
    "predicted_valid3 = model3.predict(features_valid)\n",
    "print(\"F1:\", f1_score(target_valid, predicted_valid3))"
   ]
  },
  {
   "cell_type": "markdown",
   "metadata": {},
   "source": [
    "**С учетом дисбаланса и применением техники class_weight наилучший показатель F1 все так же демонстирует модель Случайного леса.**"
   ]
  },
  {
   "cell_type": "markdown",
   "metadata": {},
   "source": [
    "Увеличение выборки"
   ]
  },
  {
   "cell_type": "code",
   "execution_count": 27,
   "metadata": {},
   "outputs": [
    {
     "name": "stdout",
     "output_type": "stream",
     "text": [
      "F1: 0.6129032258064516\n"
     ]
    }
   ],
   "source": [
    "from sklearn.utils import shuffle\n",
    "def upsample(features, target, repeat):\n",
    "    features_zeros = features[target == 0]\n",
    "    features_ones = features[target == 1]\n",
    "    target_zeros = target[target == 0]\n",
    "    target_ones = target[target == 1]\n",
    "\n",
    "    features_upsampled = pd.concat([features_zeros] + [features_ones] * repeat)\n",
    "    target_upsampled = pd.concat([target_zeros] + [target_ones] * repeat)\n",
    "    \n",
    "    features_upsampled, target_upsampled = shuffle(\n",
    "        features_upsampled, target_upsampled, random_state=12345)\n",
    "    \n",
    "    return features_upsampled, target_upsampled\n",
    "\n",
    "features_upsampled, target_upsampled = upsample(features_train, target_train, 10)\n",
    "\n",
    "model = RandomForestClassifier(random_state=12345, n_estimators=50, max_depth=10, class_weight='balanced')\n",
    "model.fit(features_upsampled, target_upsampled)\n",
    "predicted_valid = model.predict(features_valid)\n",
    "\n",
    "print(\"F1:\", f1_score(target_valid, predicted_valid))"
   ]
  },
  {
   "cell_type": "markdown",
   "metadata": {},
   "source": [
    "Уменьшение выборки"
   ]
  },
  {
   "cell_type": "code",
   "execution_count": 28,
   "metadata": {},
   "outputs": [
    {
     "name": "stdout",
     "output_type": "stream",
     "text": [
      "F1: 0.5150214592274679\n"
     ]
    }
   ],
   "source": [
    "def downsample(features, target, fraction):\n",
    "    features_zeros = features[target == 0]\n",
    "    features_ones = features[target == 1]\n",
    "    target_zeros = target[target == 0]\n",
    "    target_ones = target[target == 1]\n",
    "\n",
    "    features_downsampled = pd.concat(\n",
    "        [features_zeros.sample(frac=fraction, random_state=12345)] + [features_ones])\n",
    "    target_downsampled = pd.concat(\n",
    "        [target_zeros.sample(frac=fraction, random_state=12345)] + [target_ones])\n",
    "    \n",
    "    features_downsampled, target_downsampled = shuffle(\n",
    "        features_downsampled, target_downsampled, random_state=12345)\n",
    "    \n",
    "    return features_downsampled, target_downsampled\n",
    "\n",
    "features_downsampled, target_downsampled = downsample(features_train, target_train, 0.1)\n",
    "\n",
    "# < напишите код здесь >\n",
    "model = RandomForestClassifier(random_state=12345, n_estimators=50, max_depth=10, class_weight='balanced')\n",
    "model.fit(features_downsampled, target_downsampled)\n",
    "predicted_valid = model.predict(features_valid)\n",
    "\n",
    "\n",
    "print(\"F1:\", f1_score(target_valid, predicted_valid))"
   ]
  },
  {
   "cell_type": "markdown",
   "metadata": {},
   "source": [
    "**Техники уменьшения и увеличения выборки только ухудшают результат. Улучшает результат техника Взвешивания классов**"
   ]
  },
  {
   "cell_type": "markdown",
   "metadata": {},
   "source": [
    "**Изменение порога**\n",
    "\n",
    "Данная техника мне так и осталась непонятна. По аналогии с тренажером выполнила данный пункт, но даже дальнейшая его интерпретация мне непонятна :("
   ]
  },
  {
   "cell_type": "code",
   "execution_count": 29,
   "metadata": {},
   "outputs": [
    {
     "name": "stdout",
     "output_type": "stream",
     "text": [
      "Порог = 0.00 | Точность = 0.209, Полнота = 1.000, F1: 0.346\n",
      "Порог = 0.02 | Точность = 0.210, Полнота = 1.000, F1: 0.347\n",
      "Порог = 0.04 | Точность = 0.217, Полнота = 0.993, F1: 0.356\n",
      "Порог = 0.06 | Точность = 0.229, Полнота = 0.990, F1: 0.371\n",
      "Порог = 0.08 | Точность = 0.239, Полнота = 0.974, F1: 0.384\n",
      "Порог = 0.10 | Точность = 0.253, Полнота = 0.959, F1: 0.400\n",
      "Порог = 0.12 | Точность = 0.265, Полнота = 0.950, F1: 0.414\n",
      "Порог = 0.14 | Точность = 0.280, Полнота = 0.938, F1: 0.432\n",
      "Порог = 0.16 | Точность = 0.295, Полнота = 0.931, F1: 0.448\n",
      "Порог = 0.18 | Точность = 0.310, Полнота = 0.921, F1: 0.464\n",
      "Порог = 0.20 | Точность = 0.328, Полнота = 0.911, F1: 0.483\n",
      "Порог = 0.22 | Точность = 0.341, Полнота = 0.892, F1: 0.494\n",
      "Порог = 0.24 | Точность = 0.361, Полнота = 0.878, F1: 0.511\n",
      "Порог = 0.26 | Точность = 0.381, Полнота = 0.871, F1: 0.530\n",
      "Порог = 0.28 | Точность = 0.395, Полнота = 0.849, F1: 0.540\n",
      "Порог = 0.30 | Точность = 0.414, Полнота = 0.835, F1: 0.553\n",
      "Порог = 0.32 | Точность = 0.431, Полнота = 0.813, F1: 0.563\n",
      "Порог = 0.34 | Точность = 0.449, Полнота = 0.787, F1: 0.572\n",
      "Порог = 0.36 | Точность = 0.478, Полнота = 0.768, F1: 0.590\n",
      "Порог = 0.38 | Точность = 0.501, Полнота = 0.749, F1: 0.600\n",
      "Порог = 0.40 | Точность = 0.517, Полнота = 0.715, F1: 0.600\n",
      "Порог = 0.42 | Точность = 0.542, Полнота = 0.703, F1: 0.613\n",
      "Порог = 0.44 | Точность = 0.566, Полнота = 0.687, F1: 0.621\n",
      "Порог = 0.46 | Точность = 0.584, Полнота = 0.667, F1: 0.623\n",
      "Порог = 0.48 | Точность = 0.596, Полнота = 0.648, F1: 0.621\n",
      "Порог = 0.50 | Точность = 0.619, Полнота = 0.629, F1: 0.624\n",
      "Порог = 0.52 | Точность = 0.628, Полнота = 0.603, F1: 0.615\n",
      "Порог = 0.54 | Точность = 0.647, Полнота = 0.574, F1: 0.608\n",
      "Порог = 0.56 | Точность = 0.687, Полнота = 0.562, F1: 0.618\n",
      "Порог = 0.58 | Точность = 0.704, Полнота = 0.529, F1: 0.604\n",
      "Порог = 0.60 | Точность = 0.717, Полнота = 0.490, F1: 0.582\n",
      "Порог = 0.62 | Точность = 0.767, Полнота = 0.471, F1: 0.584\n",
      "Порог = 0.64 | Точность = 0.783, Полнота = 0.440, F1: 0.564\n",
      "Порог = 0.66 | Точность = 0.808, Полнота = 0.423, F1: 0.556\n",
      "Порог = 0.68 | Точность = 0.814, Полнота = 0.409, F1: 0.545\n"
     ]
    }
   ],
   "source": [
    "from sklearn.metrics import precision_score, recall_score\n",
    "\n",
    "model = RandomForestClassifier(random_state=12345, n_estimators=50, max_depth=10, class_weight='balanced')\n",
    "model.fit(features_train, target_train)\n",
    "probabilities_valid = model.predict_proba(features_valid)\n",
    "probabilities_one_valid = probabilities_valid[:, 1]\n",
    "\n",
    "for threshold in np.arange(0, 0.7, 0.02):\n",
    "    predicted_valid = probabilities_one_valid > threshold\n",
    "    precision = precision_score(target_valid, predicted_valid)\n",
    "    recall = recall_score(target_valid, predicted_valid)\n",
    "    f1 = f1_score(target_valid, predicted_valid)\n",
    "\n",
    "    print(\"Порог = {:.2f} | Точность = {:.3f}, Полнота = {:.3f}, F1: {:.3f}\".format(\n",
    "        threshold, precision, recall, f1))"
   ]
  },
  {
   "cell_type": "code",
   "execution_count": 30,
   "metadata": {},
   "outputs": [
    {
     "data": {
      "image/png": "[encoded data removed]",
      "text/plain": [
       "<Figure size 432x288 with 1 Axes>"
      ]
     },
     "metadata": {
      "needs_background": "light"
     },
     "output_type": "display_data"
    },
    {
     "name": "stdout",
     "output_type": "stream",
     "text": [
      "0.8487757003127288\n"
     ]
    }
   ],
   "source": [
    "fpr, tpr, thresholds = roc_curve(target_valid, probabilities_one_valid)\n",
    "\n",
    "plt.figure()\n",
    "\n",
    "# ROC-кривая случайной модели (выглядит как прямая)\n",
    "plt.plot([0, 1], [0, 1], linestyle='--')\n",
    "plt.plot(fpr, tpr)\n",
    "plt.xlim([0.0, 1.0])\n",
    "plt.ylim([0.0, 1.0]) \n",
    "\n",
    "plt.xlabel(\"False Positive Rate\")  \n",
    "plt.ylabel(\"True Positive Rate\") \n",
    "\n",
    "plt.title(\"ROC-кривая\") \n",
    "\n",
    "plt.show()\n",
    "\n",
    "from sklearn.metrics import roc_auc_score\n",
    "auc_roc = roc_auc_score(target_valid, probabilities_one_valid)\n",
    "print(auc_roc)"
   ]
  },
  {
   "cell_type": "markdown",
   "metadata": {},
   "source": [
    "## Тестирование модели"
   ]
  },
  {
   "cell_type": "markdown",
   "metadata": {},
   "source": [
    "Тестирование модели Случайного леса на тестовой выборке:"
   ]
  },
  {
   "cell_type": "code",
   "execution_count": 31,
   "metadata": {},
   "outputs": [
    {
     "name": "stdout",
     "output_type": "stream",
     "text": [
      "F1: 0.6028708133971291\n"
     ]
    }
   ],
   "source": [
    "model = RandomForestClassifier(random_state=12345, n_estimators=50, max_depth=10, class_weight='balanced') # инициализируйте модель RandomForestRegressor с параметрами random_state=12345, n_estimators=est и max_depth=depth\n",
    "model.fit(features_train, target_train)\n",
    "\n",
    "predicted_test = model.predict(features_test)\n",
    "\n",
    "print(\"F1:\", f1_score(target_test, predicted_test))"
   ]
  },
  {
   "cell_type": "code",
   "execution_count": 32,
   "metadata": {},
   "outputs": [
    {
     "data": {
      "image/png": "[encoded data removed]",
      "text/plain": [
       "<Figure size 432x288 with 1 Axes>"
      ]
     },
     "metadata": {
      "needs_background": "light"
     },
     "output_type": "display_data"
    },
    {
     "name": "stdout",
     "output_type": "stream",
     "text": [
      "0.852940691470623\n"
     ]
    }
   ],
   "source": [
    "probabilities_test = model.predict_proba(features_test)\n",
    "probabilities_one_test = probabilities_test[:, 1]\n",
    "\n",
    "fpr, tpr, thresholds = roc_curve(target_test, probabilities_one_test)\n",
    "\n",
    "plt.figure()\n",
    "\n",
    "plt.plot([0, 1], [0, 1], linestyle='--')\n",
    "plt.plot(fpr, tpr)\n",
    "plt.xlim([0.0, 1.0])\n",
    "plt.ylim([0.0, 1.0]) \n",
    "\n",
    "plt.xlabel(\"False Positive Rate\")\n",
    "plt.ylabel(\"True Positive Rate\") \n",
    "\n",
    "plt.title(\"ROC-кривая\") \n",
    "\n",
    "plt.show()\n",
    "\n",
    "from sklearn.metrics import roc_auc_score\n",
    "auc_roc = roc_auc_score(target_test, probabilities_one_test)\n",
    "print(auc_roc)"
   ]
  },
  {
   "cell_type": "markdown",
   "metadata": {},
   "source": [
    "Из условия:\n",
    "Постройте модель с предельно большим значением F1-меры. Чтобы сдать проект успешно, нужно довести метрику до 0.59. Проверьте F1-меру на тестовой выборке самостоятельно.\n",
    "\n",
    "Дополнительно измеряйте AUC-ROC, сравнивайте её значение с F1-мерой.\n",
    "\n",
    "По результатам работы:\n",
    "**Достигнутое значение на тестовых данных F1: 0.6028 - соответвует требованию**"
   ]
  }
 ],
 "metadata": {
  "ExecuteTimeLog": [
   {
    "duration": 1446,
    "start_time": "2022-03-12T16:35:02.026Z"
   },
   {
    "duration": 122,
    "start_time": "2022-03-12T16:35:11.357Z"
   },
   {
    "duration": 14,
    "start_time": "2022-03-12T16:35:23.867Z"
   },
   {
    "duration": 14,
    "start_time": "2022-03-12T17:10:38.101Z"
   },
   {
    "duration": 14,
    "start_time": "2022-03-12T17:53:41.406Z"
   },
   {
    "duration": 3,
    "start_time": "2022-03-12T17:56:38.333Z"
   },
   {
    "duration": 5,
    "start_time": "2022-03-12T17:56:41.484Z"
   },
   {
    "duration": 92,
    "start_time": "2022-03-12T17:56:41.491Z"
   },
   {
    "duration": 11,
    "start_time": "2022-03-12T17:56:41.585Z"
   },
   {
    "duration": 12,
    "start_time": "2022-03-12T17:56:41.598Z"
   },
   {
    "duration": 3,
    "start_time": "2022-03-12T17:56:41.613Z"
   },
   {
    "duration": 598,
    "start_time": "2022-03-12T17:56:44.645Z"
   },
   {
    "duration": 628,
    "start_time": "2022-03-12T18:00:38.525Z"
   },
   {
    "duration": 4,
    "start_time": "2022-03-12T18:05:02.227Z"
   },
   {
    "duration": 3,
    "start_time": "2022-03-12T18:05:05.093Z"
   },
   {
    "duration": 583,
    "start_time": "2022-03-12T18:05:10.517Z"
   },
   {
    "duration": 1334,
    "start_time": "2022-03-12T18:05:12.917Z"
   },
   {
    "duration": 378,
    "start_time": "2022-03-12T18:06:40.605Z"
   },
   {
    "duration": 274,
    "start_time": "2022-03-12T18:08:46.773Z"
   },
   {
    "duration": 7,
    "start_time": "2022-03-12T18:10:09.588Z"
   },
   {
    "duration": 92,
    "start_time": "2022-03-12T18:11:07.861Z"
   },
   {
    "duration": 126,
    "start_time": "2022-03-12T18:21:55.346Z"
   },
   {
    "duration": 290,
    "start_time": "2022-03-12T18:22:53.562Z"
   },
   {
    "duration": 13,
    "start_time": "2022-03-12T18:24:00.635Z"
   },
   {
    "duration": 311,
    "start_time": "2022-03-12T18:24:51.345Z"
   },
   {
    "duration": 14,
    "start_time": "2022-03-12T18:25:44.994Z"
   },
   {
    "duration": 15,
    "start_time": "2022-03-12T18:27:06.816Z"
   },
   {
    "duration": 106,
    "start_time": "2022-03-12T18:27:43.306Z"
   },
   {
    "duration": 14,
    "start_time": "2022-03-12T18:28:27.138Z"
   },
   {
    "duration": 13,
    "start_time": "2022-03-12T18:29:12.393Z"
   },
   {
    "duration": 15,
    "start_time": "2022-03-12T18:29:16.228Z"
   },
   {
    "duration": 333,
    "start_time": "2022-03-12T18:30:47.928Z"
   },
   {
    "duration": 4,
    "start_time": "2022-03-12T18:31:04.377Z"
   },
   {
    "duration": 15,
    "start_time": "2022-03-12T18:31:08.769Z"
   },
   {
    "duration": 9,
    "start_time": "2022-03-12T18:31:10.832Z"
   },
   {
    "duration": 6,
    "start_time": "2022-03-12T18:35:25.512Z"
   },
   {
    "duration": 318,
    "start_time": "2022-03-12T18:40:43.752Z"
   },
   {
    "duration": 4,
    "start_time": "2022-03-12T18:40:58.727Z"
   },
   {
    "duration": 8,
    "start_time": "2022-03-12T18:41:20.255Z"
   },
   {
    "duration": 293,
    "start_time": "2022-03-12T18:43:21.350Z"
   },
   {
    "duration": 6,
    "start_time": "2022-03-12T18:43:37.863Z"
   },
   {
    "duration": 5,
    "start_time": "2022-03-12T18:43:41.038Z"
   },
   {
    "duration": 8,
    "start_time": "2022-03-12T18:43:45.367Z"
   },
   {
    "duration": 6,
    "start_time": "2022-03-12T18:45:33.990Z"
   },
   {
    "duration": 10,
    "start_time": "2022-03-12T18:45:53.079Z"
   },
   {
    "duration": 8,
    "start_time": "2022-03-12T18:46:03.574Z"
   },
   {
    "duration": 1463,
    "start_time": "2022-03-12T18:51:36.198Z"
   },
   {
    "duration": 344,
    "start_time": "2022-03-12T18:54:22.125Z"
   },
   {
    "duration": 347,
    "start_time": "2022-03-12T18:54:25.770Z"
   },
   {
    "duration": 13,
    "start_time": "2022-03-12T18:54:31.268Z"
   },
   {
    "duration": 4400,
    "start_time": "2022-03-12T18:55:47.820Z"
   },
   {
    "duration": 4279,
    "start_time": "2022-03-12T18:56:43.291Z"
   },
   {
    "duration": 1267,
    "start_time": "2022-03-12T18:58:47.693Z"
   },
   {
    "duration": 299,
    "start_time": "2022-03-12T18:59:27.724Z"
   },
   {
    "duration": 196,
    "start_time": "2022-03-12T19:00:16.965Z"
   },
   {
    "duration": 21664,
    "start_time": "2022-03-12T19:00:43.835Z"
   },
   {
    "duration": 21804,
    "start_time": "2022-03-12T19:02:27.419Z"
   },
   {
    "duration": 22137,
    "start_time": "2022-03-12T19:03:26.596Z"
   },
   {
    "duration": 920,
    "start_time": "2022-03-12T19:04:27.821Z"
   },
   {
    "duration": 366,
    "start_time": "2022-03-12T19:04:50.658Z"
   },
   {
    "duration": 197,
    "start_time": "2022-03-12T19:05:20.483Z"
   },
   {
    "duration": 5,
    "start_time": "2022-03-12T19:05:25.509Z"
   },
   {
    "duration": 147,
    "start_time": "2022-03-12T19:05:25.516Z"
   },
   {
    "duration": 14,
    "start_time": "2022-03-12T19:05:25.666Z"
   },
   {
    "duration": 13,
    "start_time": "2022-03-12T19:05:25.684Z"
   },
   {
    "duration": 5,
    "start_time": "2022-03-12T19:05:25.700Z"
   },
   {
    "duration": 5,
    "start_time": "2022-03-12T19:05:25.707Z"
   },
   {
    "duration": 627,
    "start_time": "2022-03-12T19:05:25.753Z"
   },
   {
    "duration": 1504,
    "start_time": "2022-03-12T19:05:26.385Z"
   },
   {
    "duration": 254,
    "start_time": "2022-03-12T19:05:27.891Z"
   },
   {
    "duration": 277,
    "start_time": "2022-03-12T19:05:28.151Z"
   },
   {
    "duration": 6,
    "start_time": "2022-03-12T19:05:28.431Z"
   },
   {
    "duration": 15,
    "start_time": "2022-03-12T19:05:28.452Z"
   },
   {
    "duration": 15,
    "start_time": "2022-03-12T19:05:28.470Z"
   },
   {
    "duration": 14,
    "start_time": "2022-03-12T19:05:28.488Z"
   },
   {
    "duration": 57,
    "start_time": "2022-03-12T19:05:28.506Z"
   },
   {
    "duration": 11,
    "start_time": "2022-03-12T19:05:28.566Z"
   },
   {
    "duration": 16,
    "start_time": "2022-03-12T19:05:28.579Z"
   },
   {
    "duration": 9,
    "start_time": "2022-03-12T19:05:28.598Z"
   },
   {
    "duration": 48,
    "start_time": "2022-03-12T19:05:28.610Z"
   },
   {
    "duration": 1040,
    "start_time": "2022-03-12T19:05:28.661Z"
   },
   {
    "duration": 12,
    "start_time": "2022-03-12T19:05:29.704Z"
   },
   {
    "duration": 200,
    "start_time": "2022-03-12T19:05:31.580Z"
   },
   {
    "duration": 187,
    "start_time": "2022-03-12T19:05:35.389Z"
   },
   {
    "duration": 204,
    "start_time": "2022-03-12T19:06:55.436Z"
   },
   {
    "duration": 204,
    "start_time": "2022-03-12T19:06:56.251Z"
   },
   {
    "duration": 325,
    "start_time": "2022-03-12T19:07:09.291Z"
   },
   {
    "duration": 311,
    "start_time": "2022-03-12T19:07:10.490Z"
   },
   {
    "duration": 314,
    "start_time": "2022-03-12T19:07:28.619Z"
   },
   {
    "duration": 314,
    "start_time": "2022-03-12T19:07:36.203Z"
   },
   {
    "duration": 317,
    "start_time": "2022-03-12T19:07:41.571Z"
   },
   {
    "duration": 7,
    "start_time": "2022-03-12T19:07:47.168Z"
   },
   {
    "duration": 109,
    "start_time": "2022-03-12T19:07:47.178Z"
   },
   {
    "duration": 12,
    "start_time": "2022-03-12T19:07:47.289Z"
   },
   {
    "duration": 15,
    "start_time": "2022-03-12T19:07:47.304Z"
   },
   {
    "duration": 5,
    "start_time": "2022-03-12T19:07:47.321Z"
   },
   {
    "duration": 3,
    "start_time": "2022-03-12T19:07:47.352Z"
   },
   {
    "duration": 573,
    "start_time": "2022-03-12T19:07:47.358Z"
   },
   {
    "duration": 1445,
    "start_time": "2022-03-12T19:07:47.934Z"
   },
   {
    "duration": 239,
    "start_time": "2022-03-12T19:07:49.383Z"
   },
   {
    "duration": 322,
    "start_time": "2022-03-12T19:07:49.624Z"
   },
   {
    "duration": 9,
    "start_time": "2022-03-12T19:07:49.948Z"
   },
   {
    "duration": 27,
    "start_time": "2022-03-12T19:07:49.959Z"
   },
   {
    "duration": 15,
    "start_time": "2022-03-12T19:07:49.989Z"
   },
   {
    "duration": 45,
    "start_time": "2022-03-12T19:07:50.006Z"
   },
   {
    "duration": 16,
    "start_time": "2022-03-12T19:07:50.054Z"
   },
   {
    "duration": 12,
    "start_time": "2022-03-12T19:07:50.073Z"
   },
   {
    "duration": 8,
    "start_time": "2022-03-12T19:07:50.088Z"
   },
   {
    "duration": 11,
    "start_time": "2022-03-12T19:07:50.098Z"
   },
   {
    "duration": 11,
    "start_time": "2022-03-12T19:07:50.150Z"
   },
   {
    "duration": 1027,
    "start_time": "2022-03-12T19:07:50.163Z"
   },
   {
    "duration": 12,
    "start_time": "2022-03-12T19:07:51.193Z"
   },
   {
    "duration": 320,
    "start_time": "2022-03-12T19:08:10.411Z"
   },
   {
    "duration": 1030,
    "start_time": "2022-03-12T19:08:34.954Z"
   },
   {
    "duration": 1503,
    "start_time": "2022-03-12T19:08:44.523Z"
   },
   {
    "duration": 384,
    "start_time": "2022-03-12T19:09:00.707Z"
   },
   {
    "duration": 887,
    "start_time": "2022-03-12T19:09:33.434Z"
   },
   {
    "duration": 6,
    "start_time": "2022-03-12T19:09:39.845Z"
   },
   {
    "duration": 90,
    "start_time": "2022-03-12T19:09:39.854Z"
   },
   {
    "duration": 12,
    "start_time": "2022-03-12T19:09:39.948Z"
   },
   {
    "duration": 14,
    "start_time": "2022-03-12T19:09:39.964Z"
   },
   {
    "duration": 5,
    "start_time": "2022-03-12T19:09:39.980Z"
   },
   {
    "duration": 6,
    "start_time": "2022-03-12T19:09:39.989Z"
   },
   {
    "duration": 603,
    "start_time": "2022-03-12T19:09:39.997Z"
   },
   {
    "duration": 1393,
    "start_time": "2022-03-12T19:09:40.605Z"
   },
   {
    "duration": 235,
    "start_time": "2022-03-12T19:09:42.001Z"
   },
   {
    "duration": 276,
    "start_time": "2022-03-12T19:09:42.239Z"
   },
   {
    "duration": 8,
    "start_time": "2022-03-12T19:09:42.518Z"
   },
   {
    "duration": 15,
    "start_time": "2022-03-12T19:09:42.550Z"
   },
   {
    "duration": 15,
    "start_time": "2022-03-12T19:09:42.568Z"
   },
   {
    "duration": 15,
    "start_time": "2022-03-12T19:09:42.585Z"
   },
   {
    "duration": 52,
    "start_time": "2022-03-12T19:09:42.602Z"
   },
   {
    "duration": 10,
    "start_time": "2022-03-12T19:09:42.656Z"
   },
   {
    "duration": 10,
    "start_time": "2022-03-12T19:09:42.669Z"
   },
   {
    "duration": 10,
    "start_time": "2022-03-12T19:09:42.681Z"
   },
   {
    "duration": 57,
    "start_time": "2022-03-12T19:09:42.694Z"
   },
   {
    "duration": 936,
    "start_time": "2022-03-12T19:09:42.754Z"
   },
   {
    "duration": 11,
    "start_time": "2022-03-12T19:09:43.692Z"
   },
   {
    "duration": 1331,
    "start_time": "2022-03-12T19:09:46.146Z"
   },
   {
    "duration": 1428,
    "start_time": "2022-03-12T19:10:01.443Z"
   },
   {
    "duration": 878,
    "start_time": "2022-03-12T19:10:09.226Z"
   },
   {
    "duration": 462,
    "start_time": "2022-03-12T19:10:50.299Z"
   },
   {
    "duration": 28910,
    "start_time": "2022-03-12T19:11:33.107Z"
   },
   {
    "duration": 21825,
    "start_time": "2022-03-12T19:12:13.988Z"
   },
   {
    "duration": 942,
    "start_time": "2022-03-12T19:12:48.482Z"
   },
   {
    "duration": 21791,
    "start_time": "2022-03-12T19:13:05.690Z"
   },
   {
    "duration": 1480,
    "start_time": "2022-03-12T19:14:14.260Z"
   },
   {
    "duration": 969,
    "start_time": "2022-03-12T19:14:19.394Z"
   },
   {
    "duration": 866,
    "start_time": "2022-03-12T19:18:45.257Z"
   },
   {
    "duration": 888,
    "start_time": "2022-03-12T19:18:51.041Z"
   },
   {
    "duration": 884,
    "start_time": "2022-03-12T19:19:20.641Z"
   },
   {
    "duration": 477,
    "start_time": "2022-03-12T19:19:24.481Z"
   },
   {
    "duration": 1415,
    "start_time": "2022-03-12T19:19:28.993Z"
   },
   {
    "duration": 939,
    "start_time": "2022-03-12T19:19:41.313Z"
   },
   {
    "duration": 6,
    "start_time": "2022-03-12T19:19:44.858Z"
   },
   {
    "duration": 95,
    "start_time": "2022-03-12T19:19:44.867Z"
   },
   {
    "duration": 12,
    "start_time": "2022-03-12T19:19:44.965Z"
   },
   {
    "duration": 13,
    "start_time": "2022-03-12T19:19:44.979Z"
   },
   {
    "duration": 5,
    "start_time": "2022-03-12T19:19:44.995Z"
   },
   {
    "duration": 48,
    "start_time": "2022-03-12T19:19:45.002Z"
   },
   {
    "duration": 570,
    "start_time": "2022-03-12T19:19:45.053Z"
   },
   {
    "duration": 1353,
    "start_time": "2022-03-12T19:19:45.629Z"
   },
   {
    "duration": 233,
    "start_time": "2022-03-12T19:19:46.985Z"
   },
   {
    "duration": 272,
    "start_time": "2022-03-12T19:19:47.221Z"
   },
   {
    "duration": 7,
    "start_time": "2022-03-12T19:19:47.496Z"
   },
   {
    "duration": 14,
    "start_time": "2022-03-12T19:19:47.505Z"
   },
   {
    "duration": 40,
    "start_time": "2022-03-12T19:19:47.521Z"
   },
   {
    "duration": 13,
    "start_time": "2022-03-12T19:19:47.563Z"
   },
   {
    "duration": 12,
    "start_time": "2022-03-12T19:19:47.577Z"
   },
   {
    "duration": 9,
    "start_time": "2022-03-12T19:19:47.591Z"
   },
   {
    "duration": 56,
    "start_time": "2022-03-12T19:19:47.602Z"
   },
   {
    "duration": 8,
    "start_time": "2022-03-12T19:19:47.661Z"
   },
   {
    "duration": 7,
    "start_time": "2022-03-12T19:19:47.671Z"
   },
   {
    "duration": 6,
    "start_time": "2022-03-12T19:19:59.716Z"
   },
   {
    "duration": 5,
    "start_time": "2022-03-12T19:20:24.671Z"
   },
   {
    "duration": 5,
    "start_time": "2022-03-12T19:20:27.063Z"
   },
   {
    "duration": 8778,
    "start_time": "2022-03-12T19:20:48.441Z"
   },
   {
    "duration": 1405,
    "start_time": "2022-03-12T19:21:19.551Z"
   },
   {
    "duration": 3686,
    "start_time": "2022-03-12T19:21:20.962Z"
   },
   {
    "duration": 111,
    "start_time": "2022-03-12T19:21:24.652Z"
   },
   {
    "duration": 16,
    "start_time": "2022-03-12T19:21:24.766Z"
   },
   {
    "duration": 14,
    "start_time": "2022-03-12T19:21:24.788Z"
   },
   {
    "duration": 46,
    "start_time": "2022-03-12T19:21:24.805Z"
   },
   {
    "duration": 16,
    "start_time": "2022-03-12T19:21:24.855Z"
   },
   {
    "duration": 772,
    "start_time": "2022-03-12T19:21:24.873Z"
   },
   {
    "duration": 2166,
    "start_time": "2022-03-12T19:21:25.650Z"
   },
   {
    "duration": 367,
    "start_time": "2022-03-12T19:21:27.820Z"
   },
   {
    "duration": 309,
    "start_time": "2022-03-12T19:21:28.190Z"
   },
   {
    "duration": 7,
    "start_time": "2022-03-12T19:21:28.501Z"
   },
   {
    "duration": 15,
    "start_time": "2022-03-12T19:21:32.486Z"
   },
   {
    "duration": 16,
    "start_time": "2022-03-12T19:21:33.973Z"
   },
   {
    "duration": 14,
    "start_time": "2022-03-12T19:21:35.213Z"
   },
   {
    "duration": 29,
    "start_time": "2022-03-12T19:21:36.454Z"
   },
   {
    "duration": 10,
    "start_time": "2022-03-12T19:21:39.613Z"
   },
   {
    "duration": 8,
    "start_time": "2022-03-12T19:21:41.492Z"
   },
   {
    "duration": 13,
    "start_time": "2022-03-12T19:21:42.877Z"
   },
   {
    "duration": 9,
    "start_time": "2022-03-12T19:21:44.428Z"
   },
   {
    "duration": 1426,
    "start_time": "2022-03-12T19:21:46.269Z"
   },
   {
    "duration": 18,
    "start_time": "2022-03-12T19:21:53.453Z"
   },
   {
    "duration": 1545,
    "start_time": "2022-03-12T19:21:54.508Z"
   },
   {
    "duration": 1038,
    "start_time": "2022-03-12T19:22:05.021Z"
   },
   {
    "duration": 467,
    "start_time": "2022-03-12T20:40:29.504Z"
   },
   {
    "duration": 313,
    "start_time": "2022-03-12T20:40:47.113Z"
   },
   {
    "duration": 321,
    "start_time": "2022-03-12T20:41:10.472Z"
   },
   {
    "duration": 590,
    "start_time": "2022-03-12T20:42:09.345Z"
   },
   {
    "duration": 534,
    "start_time": "2022-03-12T20:42:15.974Z"
   },
   {
    "duration": 547,
    "start_time": "2022-03-12T20:42:21.328Z"
   },
   {
    "duration": 284,
    "start_time": "2022-03-12T20:43:40.008Z"
   },
   {
    "duration": 110,
    "start_time": "2022-03-12T20:43:49.062Z"
   },
   {
    "duration": 313,
    "start_time": "2022-03-12T20:43:56.976Z"
   },
   {
    "duration": 5,
    "start_time": "2022-03-12T20:44:01.000Z"
   },
   {
    "duration": 332,
    "start_time": "2022-03-12T20:44:03.032Z"
   },
   {
    "duration": 609,
    "start_time": "2022-03-12T20:44:09.753Z"
   },
   {
    "duration": 1386,
    "start_time": "2022-03-12T20:44:13.224Z"
   },
   {
    "duration": 235,
    "start_time": "2022-03-12T20:44:17.135Z"
   },
   {
    "duration": 240,
    "start_time": "2022-03-12T20:44:19.743Z"
   },
   {
    "duration": 7,
    "start_time": "2022-03-12T20:44:21.640Z"
   },
   {
    "duration": 14,
    "start_time": "2022-03-12T20:44:23.999Z"
   },
   {
    "duration": 14,
    "start_time": "2022-03-12T20:44:25.695Z"
   },
   {
    "duration": 14,
    "start_time": "2022-03-12T20:44:27.151Z"
   },
   {
    "duration": 14,
    "start_time": "2022-03-12T20:44:29.135Z"
   },
   {
    "duration": 9,
    "start_time": "2022-03-12T20:44:31.280Z"
   },
   {
    "duration": 10,
    "start_time": "2022-03-12T20:44:33.104Z"
   },
   {
    "duration": 9,
    "start_time": "2022-03-12T20:44:34.168Z"
   },
   {
    "duration": 8,
    "start_time": "2022-03-12T20:44:35.894Z"
   },
   {
    "duration": 1016,
    "start_time": "2022-03-12T20:44:36.711Z"
   },
   {
    "duration": 14,
    "start_time": "2022-03-12T20:44:40.563Z"
   },
   {
    "duration": 1503,
    "start_time": "2022-03-12T20:44:41.319Z"
   },
   {
    "duration": 835,
    "start_time": "2022-03-12T20:45:32.711Z"
   },
   {
    "duration": 851,
    "start_time": "2022-03-12T20:45:36.671Z"
   },
   {
    "duration": 836,
    "start_time": "2022-03-12T20:45:45.495Z"
   },
   {
    "duration": 847,
    "start_time": "2022-03-12T20:45:59.519Z"
   },
   {
    "duration": 12,
    "start_time": "2022-03-12T20:49:42.487Z"
   },
   {
    "duration": 521,
    "start_time": "2022-03-12T21:08:29.244Z"
   },
   {
    "duration": 1381,
    "start_time": "2022-03-13T06:55:05.399Z"
   },
   {
    "duration": 3,
    "start_time": "2022-03-13T06:55:06.856Z"
   },
   {
    "duration": 220,
    "start_time": "2022-03-13T06:55:08.401Z"
   },
   {
    "duration": 12,
    "start_time": "2022-03-13T06:55:12.320Z"
   },
   {
    "duration": 7,
    "start_time": "2022-03-13T06:57:03.845Z"
   },
   {
    "duration": 435,
    "start_time": "2022-03-13T06:57:10.501Z"
   },
   {
    "duration": 259,
    "start_time": "2022-03-13T06:58:45.327Z"
   },
   {
    "duration": 262,
    "start_time": "2022-03-13T06:58:57.984Z"
   },
   {
    "duration": 132,
    "start_time": "2022-03-13T06:59:03.734Z"
   },
   {
    "duration": 21,
    "start_time": "2022-03-13T06:59:09.544Z"
   },
   {
    "duration": 257,
    "start_time": "2022-03-13T06:59:25.296Z"
   },
   {
    "duration": 281,
    "start_time": "2022-03-13T06:59:27.239Z"
   },
   {
    "duration": 292,
    "start_time": "2022-03-13T06:59:29.216Z"
   },
   {
    "duration": 275,
    "start_time": "2022-03-13T06:59:32.784Z"
   },
   {
    "duration": 136,
    "start_time": "2022-03-13T06:59:36.576Z"
   },
   {
    "duration": 27,
    "start_time": "2022-03-13T06:59:41.232Z"
   },
   {
    "duration": 58,
    "start_time": "2022-03-13T07:02:47.647Z"
   },
   {
    "duration": 73,
    "start_time": "2022-03-13T07:03:26.527Z"
   },
   {
    "duration": 72,
    "start_time": "2022-03-13T07:04:11.445Z"
   },
   {
    "duration": 291,
    "start_time": "2022-03-13T07:04:37.894Z"
   },
   {
    "duration": 5,
    "start_time": "2022-03-13T07:04:46.862Z"
   },
   {
    "duration": 74,
    "start_time": "2022-03-13T07:04:52.134Z"
   },
   {
    "duration": 57,
    "start_time": "2022-03-13T07:04:59.807Z"
   },
   {
    "duration": 336,
    "start_time": "2022-03-13T07:05:02.238Z"
   },
   {
    "duration": 223,
    "start_time": "2022-03-13T07:05:04.519Z"
   },
   {
    "duration": 7,
    "start_time": "2022-03-13T07:05:06.542Z"
   },
   {
    "duration": 14,
    "start_time": "2022-03-13T07:05:19.774Z"
   },
   {
    "duration": 14,
    "start_time": "2022-03-13T07:05:21.673Z"
   },
   {
    "duration": 18,
    "start_time": "2022-03-13T07:05:23.014Z"
   },
   {
    "duration": 14,
    "start_time": "2022-03-13T07:05:24.886Z"
   },
   {
    "duration": 9,
    "start_time": "2022-03-13T07:05:25.990Z"
   },
   {
    "duration": 8,
    "start_time": "2022-03-13T07:05:36.174Z"
   },
   {
    "duration": 9,
    "start_time": "2022-03-13T07:05:39.079Z"
   },
   {
    "duration": 8,
    "start_time": "2022-03-13T07:05:40.638Z"
   },
   {
    "duration": 58,
    "start_time": "2022-03-13T07:05:43.374Z"
   },
   {
    "duration": 60,
    "start_time": "2022-03-13T07:05:46.957Z"
   },
   {
    "duration": 449,
    "start_time": "2022-03-13T07:05:48.102Z"
   },
   {
    "duration": 37,
    "start_time": "2022-03-13T07:05:49.910Z"
   },
   {
    "duration": 11,
    "start_time": "2022-03-13T07:06:59.726Z"
   },
   {
    "duration": 34,
    "start_time": "2022-03-13T07:28:34.249Z"
   },
   {
    "duration": 489,
    "start_time": "2022-03-13T07:28:36.009Z"
   },
   {
    "duration": 65,
    "start_time": "2022-03-13T07:28:37.921Z"
   },
   {
    "duration": 82,
    "start_time": "2022-03-13T08:07:40.385Z"
   },
   {
    "duration": 49,
    "start_time": "2022-03-13T08:07:44.620Z"
   },
   {
    "duration": 227,
    "start_time": "2022-03-13T08:07:46.521Z"
   },
   {
    "duration": 228,
    "start_time": "2022-03-13T08:07:48.530Z"
   },
   {
    "duration": 8,
    "start_time": "2022-03-13T08:07:51.531Z"
   },
   {
    "duration": 46,
    "start_time": "2022-03-13T08:07:56.338Z"
   },
   {
    "duration": 7,
    "start_time": "2022-03-13T08:07:58.162Z"
   },
   {
    "duration": 49,
    "start_time": "2022-03-13T08:08:02.594Z"
   },
   {
    "duration": 383,
    "start_time": "2022-03-13T08:08:04.489Z"
   },
   {
    "duration": 46,
    "start_time": "2022-03-13T08:08:06.290Z"
   },
   {
    "duration": 416,
    "start_time": "2022-03-13T08:09:15.186Z"
   },
   {
    "duration": 296,
    "start_time": "2022-03-13T08:10:26.698Z"
   },
   {
    "duration": 310,
    "start_time": "2022-03-13T08:10:30.945Z"
   },
   {
    "duration": 32,
    "start_time": "2022-03-13T08:10:34.474Z"
   },
   {
    "duration": 89,
    "start_time": "2022-03-13T08:11:59.161Z"
   },
   {
    "duration": 54,
    "start_time": "2022-03-13T08:12:12.225Z"
   },
   {
    "duration": 421,
    "start_time": "2022-03-13T08:12:13.346Z"
   },
   {
    "duration": 117,
    "start_time": "2022-03-13T08:12:14.626Z"
   },
   {
    "duration": 443,
    "start_time": "2022-03-13T08:12:17.225Z"
   },
   {
    "duration": 33,
    "start_time": "2022-03-13T08:12:19.689Z"
   },
   {
    "duration": 10,
    "start_time": "2022-03-13T08:15:13.481Z"
   },
   {
    "duration": 280,
    "start_time": "2022-03-13T08:18:07.264Z"
   },
   {
    "duration": 25,
    "start_time": "2022-03-13T08:18:18.233Z"
   },
   {
    "duration": 422,
    "start_time": "2022-03-13T08:18:48.121Z"
   },
   {
    "duration": 16,
    "start_time": "2022-03-13T08:19:23.812Z"
   },
   {
    "duration": 428,
    "start_time": "2022-03-13T08:19:31.784Z"
   },
   {
    "duration": 16,
    "start_time": "2022-03-13T08:19:36.368Z"
   },
   {
    "duration": 416,
    "start_time": "2022-03-13T08:19:37.920Z"
   },
   {
    "duration": 4,
    "start_time": "2022-03-13T08:22:18.552Z"
   },
   {
    "duration": 742,
    "start_time": "2022-03-13T08:22:59.848Z"
   },
   {
    "duration": 5,
    "start_time": "2022-03-13T08:23:24.248Z"
   },
   {
    "duration": 479,
    "start_time": "2022-03-13T08:23:31.617Z"
   },
   {
    "duration": 525,
    "start_time": "2022-03-13T08:25:13.936Z"
   },
   {
    "duration": 277,
    "start_time": "2022-03-13T08:28:11.175Z"
   },
   {
    "duration": 279,
    "start_time": "2022-03-13T08:28:28.615Z"
   },
   {
    "duration": 318,
    "start_time": "2022-03-13T08:28:44.823Z"
   },
   {
    "duration": 32,
    "start_time": "2022-03-13T08:29:22.003Z"
   },
   {
    "duration": 425,
    "start_time": "2022-03-13T08:30:08.182Z"
   },
   {
    "duration": 398,
    "start_time": "2022-03-13T08:31:47.183Z"
   },
   {
    "duration": 20,
    "start_time": "2022-03-13T08:33:16.046Z"
   },
   {
    "duration": 149,
    "start_time": "2022-03-13T10:58:02.952Z"
   },
   {
    "duration": 5,
    "start_time": "2022-03-13T11:00:47.866Z"
   },
   {
    "duration": 11,
    "start_time": "2022-03-13T11:00:47.874Z"
   },
   {
    "duration": 193,
    "start_time": "2022-03-13T11:00:47.888Z"
   },
   {
    "duration": 11,
    "start_time": "2022-03-13T11:00:48.084Z"
   },
   {
    "duration": 12,
    "start_time": "2022-03-13T11:00:48.098Z"
   },
   {
    "duration": 21,
    "start_time": "2022-03-13T11:00:48.112Z"
   },
   {
    "duration": 5,
    "start_time": "2022-03-13T11:00:48.136Z"
   },
   {
    "duration": 22,
    "start_time": "2022-03-13T11:00:48.143Z"
   },
   {
    "duration": 101,
    "start_time": "2022-03-13T11:00:48.169Z"
   },
   {
    "duration": 63,
    "start_time": "2022-03-13T11:00:48.274Z"
   },
   {
    "duration": 245,
    "start_time": "2022-03-13T11:00:48.339Z"
   },
   {
    "duration": 241,
    "start_time": "2022-03-13T11:00:48.586Z"
   },
   {
    "duration": 9,
    "start_time": "2022-03-13T11:00:48.833Z"
   },
   {
    "duration": 15,
    "start_time": "2022-03-13T11:00:48.845Z"
   },
   {
    "duration": 12,
    "start_time": "2022-03-13T11:00:48.863Z"
   },
   {
    "duration": 61,
    "start_time": "2022-03-13T11:00:48.877Z"
   },
   {
    "duration": 12,
    "start_time": "2022-03-13T11:00:48.940Z"
   },
   {
    "duration": 8,
    "start_time": "2022-03-13T11:00:48.954Z"
   },
   {
    "duration": 8,
    "start_time": "2022-03-13T11:00:48.964Z"
   },
   {
    "duration": 7,
    "start_time": "2022-03-13T11:00:48.976Z"
   },
   {
    "duration": 51,
    "start_time": "2022-03-13T11:00:48.985Z"
   },
   {
    "duration": 46,
    "start_time": "2022-03-13T11:00:49.038Z"
   },
   {
    "duration": 70,
    "start_time": "2022-03-13T11:00:49.087Z"
   },
   {
    "duration": 432,
    "start_time": "2022-03-13T11:00:49.160Z"
   },
   {
    "duration": 50,
    "start_time": "2022-03-13T11:00:49.595Z"
   },
   {
    "duration": 415,
    "start_time": "2022-03-13T11:01:07.927Z"
   },
   {
    "duration": 25,
    "start_time": "2022-03-13T11:01:16.089Z"
   },
   {
    "duration": 425,
    "start_time": "2022-03-13T11:01:17.223Z"
   },
   {
    "duration": 18,
    "start_time": "2022-03-13T11:01:21.772Z"
   },
   {
    "duration": 410,
    "start_time": "2022-03-13T11:01:22.774Z"
   },
   {
    "duration": 518,
    "start_time": "2022-03-13T11:02:29.887Z"
   },
   {
    "duration": 571,
    "start_time": "2022-03-13T11:02:52.751Z"
   },
   {
    "duration": 722,
    "start_time": "2022-03-13T11:02:59.686Z"
   },
   {
    "duration": 291,
    "start_time": "2022-03-13T11:03:09.371Z"
   },
   {
    "duration": 174,
    "start_time": "2022-03-13T11:13:48.742Z"
   },
   {
    "duration": 172,
    "start_time": "2022-03-13T11:13:57.644Z"
   },
   {
    "duration": 37,
    "start_time": "2022-03-13T11:14:18.726Z"
   },
   {
    "duration": 37,
    "start_time": "2022-03-13T11:14:26.501Z"
   },
   {
    "duration": 46,
    "start_time": "2022-03-13T11:14:34.966Z"
   },
   {
    "duration": 37,
    "start_time": "2022-03-13T11:14:37.820Z"
   },
   {
    "duration": 100,
    "start_time": "2022-03-13T11:14:43.437Z"
   },
   {
    "duration": 411,
    "start_time": "2022-03-13T11:14:45.549Z"
   },
   {
    "duration": 415,
    "start_time": "2022-03-13T11:15:47.542Z"
   },
   {
    "duration": 457,
    "start_time": "2022-03-13T11:16:06.949Z"
   },
   {
    "duration": 44,
    "start_time": "2022-03-13T11:16:09.005Z"
   },
   {
    "duration": 38,
    "start_time": "2022-03-13T11:16:17.884Z"
   },
   {
    "duration": 40,
    "start_time": "2022-03-13T11:16:25.772Z"
   },
   {
    "duration": 101,
    "start_time": "2022-03-13T11:16:50.132Z"
   },
   {
    "duration": 43,
    "start_time": "2022-03-13T11:17:02.708Z"
   },
   {
    "duration": 443,
    "start_time": "2022-03-13T11:17:31.356Z"
   },
   {
    "duration": 464,
    "start_time": "2022-03-13T11:17:35.102Z"
   },
   {
    "duration": 115,
    "start_time": "2022-03-13T11:24:12.533Z"
   },
   {
    "duration": 729,
    "start_time": "2022-03-13T11:26:58.379Z"
   },
   {
    "duration": 1172,
    "start_time": "2022-03-13T11:27:20.410Z"
   },
   {
    "duration": 789,
    "start_time": "2022-03-13T11:27:29.068Z"
   },
   {
    "duration": 761,
    "start_time": "2022-03-13T11:27:44.412Z"
   },
   {
    "duration": 283,
    "start_time": "2022-03-13T11:32:03.546Z"
   },
   {
    "duration": 7,
    "start_time": "2022-03-13T11:32:21.682Z"
   },
   {
    "duration": 53,
    "start_time": "2022-03-13T11:35:34.930Z"
   },
   {
    "duration": 7,
    "start_time": "2022-03-13T11:35:44.961Z"
   },
   {
    "duration": 16,
    "start_time": "2022-03-13T11:36:15.058Z"
   },
   {
    "duration": 14,
    "start_time": "2022-03-13T11:36:45.325Z"
   },
   {
    "duration": 7,
    "start_time": "2022-03-13T11:36:47.513Z"
   },
   {
    "duration": 7,
    "start_time": "2022-03-13T11:36:49.065Z"
   },
   {
    "duration": 6,
    "start_time": "2022-03-13T11:36:50.065Z"
   },
   {
    "duration": 11,
    "start_time": "2022-03-13T11:37:12.426Z"
   },
   {
    "duration": 9,
    "start_time": "2022-03-13T11:37:22.321Z"
   },
   {
    "duration": 9,
    "start_time": "2022-03-13T11:37:33.393Z"
   },
   {
    "duration": 47,
    "start_time": "2022-03-13T11:37:54.610Z"
   },
   {
    "duration": 50,
    "start_time": "2022-03-13T11:39:57.553Z"
   },
   {
    "duration": 437,
    "start_time": "2022-03-13T11:39:59.778Z"
   },
   {
    "duration": 41,
    "start_time": "2022-03-13T11:40:02.329Z"
   },
   {
    "duration": 48,
    "start_time": "2022-03-13T11:50:00.504Z"
   },
   {
    "duration": 34,
    "start_time": "2022-03-13T11:57:29.982Z"
   },
   {
    "duration": 115,
    "start_time": "2022-03-13T11:57:35.350Z"
   },
   {
    "duration": 34,
    "start_time": "2022-03-13T11:57:38.622Z"
   },
   {
    "duration": 34,
    "start_time": "2022-03-13T11:58:03.718Z"
   },
   {
    "duration": 75,
    "start_time": "2022-03-13T11:58:29.489Z"
   },
   {
    "duration": 33,
    "start_time": "2022-03-13T11:59:13.814Z"
   },
   {
    "duration": 32,
    "start_time": "2022-03-13T11:59:30.414Z"
   },
   {
    "duration": 77,
    "start_time": "2022-03-13T12:00:19.558Z"
   },
   {
    "duration": 33,
    "start_time": "2022-03-13T12:00:26.934Z"
   },
   {
    "duration": 33,
    "start_time": "2022-03-13T12:00:46.381Z"
   },
   {
    "duration": 78,
    "start_time": "2022-03-13T12:00:48.278Z"
   },
   {
    "duration": 55,
    "start_time": "2022-03-13T12:00:50.877Z"
   },
   {
    "duration": 936,
    "start_time": "2022-03-13T12:01:07.646Z"
   },
   {
    "duration": 199,
    "start_time": "2022-03-13T12:01:22.149Z"
   },
   {
    "duration": 205,
    "start_time": "2022-03-13T12:01:34.783Z"
   },
   {
    "duration": 902,
    "start_time": "2022-03-13T12:01:36.582Z"
   },
   {
    "duration": 292,
    "start_time": "2022-03-13T12:03:59.030Z"
   },
   {
    "duration": 417,
    "start_time": "2022-03-13T12:04:02.318Z"
   },
   {
    "duration": 410,
    "start_time": "2022-03-13T12:04:10.853Z"
   },
   {
    "duration": 265,
    "start_time": "2022-03-13T12:04:13.509Z"
   },
   {
    "duration": 417,
    "start_time": "2022-03-13T12:04:41.101Z"
   },
   {
    "duration": 207,
    "start_time": "2022-03-13T12:05:06.501Z"
   },
   {
    "duration": 85,
    "start_time": "2022-03-13T12:06:05.518Z"
   },
   {
    "duration": 745,
    "start_time": "2022-03-13T12:07:17.269Z"
   },
   {
    "duration": 276,
    "start_time": "2022-03-13T12:10:30.363Z"
   },
   {
    "duration": 414,
    "start_time": "2022-03-13T12:10:33.724Z"
   },
   {
    "duration": 286,
    "start_time": "2022-03-13T12:12:41.276Z"
   },
   {
    "duration": 82,
    "start_time": "2022-03-13T12:14:21.707Z"
   },
   {
    "duration": 434,
    "start_time": "2022-03-13T12:18:28.046Z"
   },
   {
    "duration": 276,
    "start_time": "2022-03-13T12:19:13.459Z"
   },
   {
    "duration": 303,
    "start_time": "2022-03-13T12:19:27.891Z"
   },
   {
    "duration": 1312,
    "start_time": "2022-03-13T12:19:30.778Z"
   },
   {
    "duration": 522,
    "start_time": "2022-03-13T12:20:03.819Z"
   },
   {
    "duration": 11,
    "start_time": "2022-03-13T12:20:08.522Z"
   },
   {
    "duration": 6,
    "start_time": "2022-03-13T12:20:17.682Z"
   },
   {
    "duration": 6,
    "start_time": "2022-03-13T12:20:17.690Z"
   },
   {
    "duration": 205,
    "start_time": "2022-03-13T12:20:17.699Z"
   },
   {
    "duration": 13,
    "start_time": "2022-03-13T12:20:19.353Z"
   },
   {
    "duration": 1512,
    "start_time": "2022-03-13T12:31:07.552Z"
   },
   {
    "duration": 6,
    "start_time": "2022-03-13T12:31:15.263Z"
   },
   {
    "duration": 6,
    "start_time": "2022-03-13T12:31:15.271Z"
   },
   {
    "duration": 142,
    "start_time": "2022-03-13T12:31:15.280Z"
   },
   {
    "duration": 12,
    "start_time": "2022-03-13T12:31:15.425Z"
   },
   {
    "duration": 13,
    "start_time": "2022-03-13T12:31:15.439Z"
   },
   {
    "duration": 5,
    "start_time": "2022-03-13T12:31:15.454Z"
   },
   {
    "duration": 71,
    "start_time": "2022-03-13T12:31:15.461Z"
   },
   {
    "duration": 104,
    "start_time": "2022-03-13T12:31:15.536Z"
   },
   {
    "duration": 48,
    "start_time": "2022-03-13T12:31:15.642Z"
   },
   {
    "duration": 398,
    "start_time": "2022-03-13T12:31:15.693Z"
   },
   {
    "duration": 247,
    "start_time": "2022-03-13T12:31:16.094Z"
   },
   {
    "duration": 7,
    "start_time": "2022-03-13T12:31:16.344Z"
   },
   {
    "duration": 15,
    "start_time": "2022-03-13T12:31:16.353Z"
   },
   {
    "duration": 15,
    "start_time": "2022-03-13T12:31:16.370Z"
   },
   {
    "duration": 44,
    "start_time": "2022-03-13T12:31:16.388Z"
   },
   {
    "duration": 8,
    "start_time": "2022-03-13T12:31:16.435Z"
   },
   {
    "duration": 12,
    "start_time": "2022-03-13T12:31:16.446Z"
   },
   {
    "duration": 80,
    "start_time": "2022-03-13T12:31:16.460Z"
   },
   {
    "duration": 46,
    "start_time": "2022-03-13T12:31:16.543Z"
   },
   {
    "duration": 446,
    "start_time": "2022-03-13T12:31:16.591Z"
   },
   {
    "duration": 96,
    "start_time": "2022-03-13T12:31:17.040Z"
   },
   {
    "duration": 123,
    "start_time": "2022-03-13T12:31:17.141Z"
   },
   {
    "duration": 433,
    "start_time": "2022-03-13T12:31:17.266Z"
   },
   {
    "duration": 44,
    "start_time": "2022-03-13T12:31:17.701Z"
   },
   {
    "duration": 1111,
    "start_time": "2022-03-13T12:31:17.749Z"
   },
   {
    "duration": 241,
    "start_time": "2022-03-13T12:31:18.862Z"
   },
   {
    "duration": 527,
    "start_time": "2022-03-13T12:31:19.106Z"
   },
   {
    "duration": -136,
    "start_time": "2022-03-13T12:31:19.773Z"
   },
   {
    "duration": -136,
    "start_time": "2022-03-13T12:31:19.775Z"
   },
   {
    "duration": -135,
    "start_time": "2022-03-13T12:31:19.776Z"
   },
   {
    "duration": 283,
    "start_time": "2022-03-13T12:31:59.339Z"
   },
   {
    "duration": 294,
    "start_time": "2022-03-13T12:32:24.858Z"
   },
   {
    "duration": 490,
    "start_time": "2022-03-13T12:33:15.155Z"
   },
   {
    "duration": 244,
    "start_time": "2022-03-13T12:33:31.658Z"
   },
   {
    "duration": 701,
    "start_time": "2022-03-13T12:33:36.395Z"
   },
   {
    "duration": 503,
    "start_time": "2022-03-13T12:34:32.882Z"
   },
   {
    "duration": 261,
    "start_time": "2022-03-13T12:34:39.218Z"
   },
   {
    "duration": 580,
    "start_time": "2022-03-13T12:34:46.193Z"
   },
   {
    "duration": 368,
    "start_time": "2022-03-13T12:34:49.203Z"
   },
   {
    "duration": 725,
    "start_time": "2022-03-13T12:34:55.681Z"
   },
   {
    "duration": 270,
    "start_time": "2022-03-13T12:34:58.729Z"
   },
   {
    "duration": 414,
    "start_time": "2022-03-13T12:35:04.449Z"
   },
   {
    "duration": 296,
    "start_time": "2022-03-13T12:35:06.961Z"
   },
   {
    "duration": 806,
    "start_time": "2022-03-14T15:06:20.836Z"
   },
   {
    "duration": 679,
    "start_time": "2022-03-14T15:06:25.696Z"
   },
   {
    "duration": 2,
    "start_time": "2022-03-14T15:06:26.377Z"
   },
   {
    "duration": 215,
    "start_time": "2022-03-14T15:06:26.381Z"
   },
   {
    "duration": 7,
    "start_time": "2022-03-14T15:06:26.598Z"
   },
   {
    "duration": 7,
    "start_time": "2022-03-14T15:06:26.606Z"
   },
   {
    "duration": 2,
    "start_time": "2022-03-14T15:06:26.615Z"
   },
   {
    "duration": 11,
    "start_time": "2022-03-14T15:06:26.619Z"
   },
   {
    "duration": 45,
    "start_time": "2022-03-14T15:06:26.632Z"
   },
   {
    "duration": 50,
    "start_time": "2022-03-14T15:06:26.679Z"
   },
   {
    "duration": 136,
    "start_time": "2022-03-14T15:06:26.731Z"
   },
   {
    "duration": 132,
    "start_time": "2022-03-14T15:06:26.869Z"
   },
   {
    "duration": 5,
    "start_time": "2022-03-14T15:06:27.002Z"
   },
   {
    "duration": 293,
    "start_time": "2022-03-14T15:06:29.323Z"
   },
   {
    "duration": 6,
    "start_time": "2022-03-14T15:06:32.995Z"
   },
   {
    "duration": 6,
    "start_time": "2022-03-14T15:06:36.067Z"
   },
   {
    "duration": 7,
    "start_time": "2022-03-14T15:08:35.923Z"
   },
   {
    "duration": 352,
    "start_time": "2022-03-14T15:15:53.338Z"
   },
   {
    "duration": 409,
    "start_time": "2022-03-14T15:16:01.655Z"
   },
   {
    "duration": 390,
    "start_time": "2022-03-14T15:16:10.434Z"
   },
   {
    "duration": 272,
    "start_time": "2022-03-14T15:33:53.758Z"
   },
   {
    "duration": 348,
    "start_time": "2022-03-14T15:34:00.429Z"
   },
   {
    "duration": 9,
    "start_time": "2022-03-14T15:34:13.598Z"
   },
   {
    "duration": 3,
    "start_time": "2022-03-14T15:34:24.998Z"
   },
   {
    "duration": 6,
    "start_time": "2022-03-14T15:34:25.003Z"
   },
   {
    "duration": 114,
    "start_time": "2022-03-14T15:34:25.011Z"
   },
   {
    "duration": 7,
    "start_time": "2022-03-14T15:34:25.127Z"
   },
   {
    "duration": 8,
    "start_time": "2022-03-14T15:34:25.135Z"
   },
   {
    "duration": 7,
    "start_time": "2022-03-14T15:34:27.046Z"
   },
   {
    "duration": 4,
    "start_time": "2022-03-14T15:34:54.447Z"
   },
   {
    "duration": 9,
    "start_time": "2022-03-14T15:35:55.470Z"
   },
   {
    "duration": 6,
    "start_time": "2022-03-14T15:36:04.095Z"
   },
   {
    "duration": 5,
    "start_time": "2022-03-14T15:36:15.191Z"
   },
   {
    "duration": 5,
    "start_time": "2022-03-14T15:36:23.790Z"
   },
   {
    "duration": 5,
    "start_time": "2022-03-14T15:37:19.703Z"
   },
   {
    "duration": 1158,
    "start_time": "2022-03-14T15:45:29.465Z"
   },
   {
    "duration": 3,
    "start_time": "2022-03-14T15:45:30.625Z"
   },
   {
    "duration": 129,
    "start_time": "2022-03-14T15:45:30.631Z"
   },
   {
    "duration": 10,
    "start_time": "2022-03-14T15:45:30.762Z"
   },
   {
    "duration": 9,
    "start_time": "2022-03-14T15:45:30.774Z"
   },
   {
    "duration": 19,
    "start_time": "2022-03-14T15:45:30.785Z"
   },
   {
    "duration": 10,
    "start_time": "2022-03-14T15:45:30.806Z"
   },
   {
    "duration": 24,
    "start_time": "2022-03-14T15:45:30.818Z"
   },
   {
    "duration": 57,
    "start_time": "2022-03-14T15:45:30.844Z"
   },
   {
    "duration": 34,
    "start_time": "2022-03-14T15:45:30.902Z"
   },
   {
    "duration": 164,
    "start_time": "2022-03-14T15:45:30.937Z"
   },
   {
    "duration": 137,
    "start_time": "2022-03-14T15:45:31.102Z"
   },
   {
    "duration": 5,
    "start_time": "2022-03-14T15:45:31.241Z"
   },
   {
    "duration": 10,
    "start_time": "2022-03-14T15:45:31.247Z"
   },
   {
    "duration": 4,
    "start_time": "2022-03-14T15:45:31.259Z"
   },
   {
    "duration": 8,
    "start_time": "2022-03-14T15:45:31.265Z"
   },
   {
    "duration": 27,
    "start_time": "2022-03-14T15:45:31.274Z"
   },
   {
    "duration": 6,
    "start_time": "2022-03-14T15:45:31.303Z"
   },
   {
    "duration": 6,
    "start_time": "2022-03-14T15:45:31.311Z"
   },
   {
    "duration": 32,
    "start_time": "2022-03-14T15:45:31.318Z"
   },
   {
    "duration": 68,
    "start_time": "2022-03-14T15:45:31.352Z"
   },
   {
    "duration": 300,
    "start_time": "2022-03-14T15:45:31.422Z"
   },
   {
    "duration": 78,
    "start_time": "2022-03-14T15:45:31.726Z"
   },
   {
    "duration": 120,
    "start_time": "2022-03-14T15:45:31.806Z"
   },
   {
    "duration": 385,
    "start_time": "2022-03-14T15:45:31.928Z"
   },
   {
    "duration": 25,
    "start_time": "2022-03-14T15:45:32.315Z"
   },
   {
    "duration": 866,
    "start_time": "2022-03-14T15:45:32.343Z"
   },
   {
    "duration": 191,
    "start_time": "2022-03-14T15:45:33.211Z"
   },
   {
    "duration": 421,
    "start_time": "2022-03-14T15:45:33.404Z"
   },
   {
    "duration": 157,
    "start_time": "2022-03-14T15:45:33.827Z"
   },
   {
    "duration": 267,
    "start_time": "2022-03-14T15:45:33.986Z"
   },
   {
    "duration": 188,
    "start_time": "2022-03-14T15:45:34.254Z"
   }
  ],
  "kernelspec": {
   "display_name": "Python 3 (ipykernel)",
   "language": "python",
   "name": "python3"
  },
  "language_info": {
   "codemirror_mode": {
    "name": "ipython",
    "version": 3
   },
   "file_extension": ".py",
   "mimetype": "text/x-python",
   "name": "python",
   "nbconvert_exporter": "python",
   "pygments_lexer": "ipython3",
   "version": "3.9.7"
  },
  "toc": {
   "base_numbering": 1,
   "nav_menu": {},
   "number_sections": true,
   "sideBar": true,
   "skip_h1_title": true,
   "title_cell": "Содержание",
   "title_sidebar": "Contents",
   "toc_cell": true,
   "toc_position": {},
   "toc_section_display": true,
   "toc_window_display": true
  }
 },
 "nbformat": 4,
 "nbformat_minor": 2
}
