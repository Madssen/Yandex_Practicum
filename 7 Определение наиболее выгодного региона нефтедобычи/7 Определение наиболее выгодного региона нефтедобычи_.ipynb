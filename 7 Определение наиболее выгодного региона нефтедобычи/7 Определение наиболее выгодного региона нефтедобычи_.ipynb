{
 "cells": [
  {
   "cell_type": "markdown",
   "metadata": {},
   "source": [
    "# Выбор локации для скважины"
   ]
  },
  {
   "cell_type": "markdown",
   "metadata": {},
   "source": [
    "Допустим, вы работаете в добывающей компании «ГлавРосГосНефть». Нужно решить, где бурить новую скважину.\n",
    "\n",
    "Вам предоставлены пробы нефти в трёх регионах: в каждом 10 000 месторождений, где измерили качество нефти и объём её запасов. Постройте модель машинного обучения, которая поможет определить регион, где добыча принесёт наибольшую прибыль. Проанализируйте возможную прибыль и риски техникой *Bootstrap.*\n",
    "\n",
    "Шаги для выбора локации:\n",
    "\n",
    "- В избранном регионе ищут месторождения, для каждого определяют значения признаков;\n",
    "- Строят модель и оценивают объём запасов;\n",
    "- Выбирают месторождения с самым высокими оценками значений. Количество месторождений зависит от бюджета компании и стоимости разработки одной скважины;\n",
    "- Прибыль равна суммарной прибыли отобранных месторождений."
   ]
  },
  {
   "cell_type": "markdown",
   "metadata": {},
   "source": [
    "## Загрузка и подготовка данных"
   ]
  },
  {
   "cell_type": "code",
   "execution_count": 1,
   "metadata": {},
   "outputs": [],
   "source": [
    "import pandas as pd\n",
    "import numpy as np\n",
    "\n",
    "from sklearn.metrics import accuracy_score\n",
    "from sklearn.model_selection import train_test_split\n",
    "from sklearn.metrics import mean_squared_error\n",
    "\n",
    "from sklearn.tree import DecisionTreeClassifier\n",
    "from sklearn.ensemble import RandomForestClassifier \n",
    "from sklearn.linear_model import LogisticRegression\n",
    "from sklearn.linear_model import LinearRegression"
   ]
  },
  {
   "cell_type": "markdown",
   "metadata": {},
   "source": [
    "### Ознакомимся с содержимым:"
   ]
  },
  {
   "cell_type": "code",
   "execution_count": 2,
   "metadata": {},
   "outputs": [
    {
     "data": {
      "text/html": [
       "<div>\n",
       "<style scoped>\n",
       "    .dataframe tbody tr th:only-of-type {\n",
       "        vertical-align: middle;\n",
       "    }\n",
       "\n",
       "    .dataframe tbody tr th {\n",
       "        vertical-align: top;\n",
       "    }\n",
       "\n",
       "    .dataframe thead th {\n",
       "        text-align: right;\n",
       "    }\n",
       "</style>\n",
       "<table border=\"1\" class=\"dataframe\">\n",
       "  <thead>\n",
       "    <tr style=\"text-align: right;\">\n",
       "      <th></th>\n",
       "      <th>id</th>\n",
       "      <th>f0</th>\n",
       "      <th>f1</th>\n",
       "      <th>f2</th>\n",
       "      <th>product</th>\n",
       "    </tr>\n",
       "  </thead>\n",
       "  <tbody>\n",
       "    <tr>\n",
       "      <th>0</th>\n",
       "      <td>txEyH</td>\n",
       "      <td>0.705745</td>\n",
       "      <td>-0.497823</td>\n",
       "      <td>1.221170</td>\n",
       "      <td>105.280062</td>\n",
       "    </tr>\n",
       "    <tr>\n",
       "      <th>1</th>\n",
       "      <td>2acmU</td>\n",
       "      <td>1.334711</td>\n",
       "      <td>-0.340164</td>\n",
       "      <td>4.365080</td>\n",
       "      <td>73.037750</td>\n",
       "    </tr>\n",
       "    <tr>\n",
       "      <th>2</th>\n",
       "      <td>409Wp</td>\n",
       "      <td>1.022732</td>\n",
       "      <td>0.151990</td>\n",
       "      <td>1.419926</td>\n",
       "      <td>85.265647</td>\n",
       "    </tr>\n",
       "    <tr>\n",
       "      <th>3</th>\n",
       "      <td>iJLyR</td>\n",
       "      <td>-0.032172</td>\n",
       "      <td>0.139033</td>\n",
       "      <td>2.978566</td>\n",
       "      <td>168.620776</td>\n",
       "    </tr>\n",
       "    <tr>\n",
       "      <th>4</th>\n",
       "      <td>Xdl7t</td>\n",
       "      <td>1.988431</td>\n",
       "      <td>0.155413</td>\n",
       "      <td>4.751769</td>\n",
       "      <td>154.036647</td>\n",
       "    </tr>\n",
       "  </tbody>\n",
       "</table>\n",
       "</div>"
      ],
      "text/plain": [
       "      id        f0        f1        f2     product\n",
       "0  txEyH  0.705745 -0.497823  1.221170  105.280062\n",
       "1  2acmU  1.334711 -0.340164  4.365080   73.037750\n",
       "2  409Wp  1.022732  0.151990  1.419926   85.265647\n",
       "3  iJLyR -0.032172  0.139033  2.978566  168.620776\n",
       "4  Xdl7t  1.988431  0.155413  4.751769  154.036647"
      ]
     },
     "execution_count": 2,
     "metadata": {},
     "output_type": "execute_result"
    }
   ],
   "source": [
    "df0 = pd.read_csv('https://code.s3.yandex.net/datasets/geo_data_0.csv')\n",
    "df0.head()"
   ]
  },
  {
   "cell_type": "code",
   "execution_count": 3,
   "metadata": {},
   "outputs": [
    {
     "data": {
      "text/html": [
       "<div>\n",
       "<style scoped>\n",
       "    .dataframe tbody tr th:only-of-type {\n",
       "        vertical-align: middle;\n",
       "    }\n",
       "\n",
       "    .dataframe tbody tr th {\n",
       "        vertical-align: top;\n",
       "    }\n",
       "\n",
       "    .dataframe thead th {\n",
       "        text-align: right;\n",
       "    }\n",
       "</style>\n",
       "<table border=\"1\" class=\"dataframe\">\n",
       "  <thead>\n",
       "    <tr style=\"text-align: right;\">\n",
       "      <th></th>\n",
       "      <th>id</th>\n",
       "      <th>f0</th>\n",
       "      <th>f1</th>\n",
       "      <th>f2</th>\n",
       "      <th>product</th>\n",
       "    </tr>\n",
       "  </thead>\n",
       "  <tbody>\n",
       "    <tr>\n",
       "      <th>0</th>\n",
       "      <td>kBEdx</td>\n",
       "      <td>-15.001348</td>\n",
       "      <td>-8.276000</td>\n",
       "      <td>-0.005876</td>\n",
       "      <td>3.179103</td>\n",
       "    </tr>\n",
       "    <tr>\n",
       "      <th>1</th>\n",
       "      <td>62mP7</td>\n",
       "      <td>14.272088</td>\n",
       "      <td>-3.475083</td>\n",
       "      <td>0.999183</td>\n",
       "      <td>26.953261</td>\n",
       "    </tr>\n",
       "    <tr>\n",
       "      <th>2</th>\n",
       "      <td>vyE1P</td>\n",
       "      <td>6.263187</td>\n",
       "      <td>-5.948386</td>\n",
       "      <td>5.001160</td>\n",
       "      <td>134.766305</td>\n",
       "    </tr>\n",
       "    <tr>\n",
       "      <th>3</th>\n",
       "      <td>KcrkZ</td>\n",
       "      <td>-13.081196</td>\n",
       "      <td>-11.506057</td>\n",
       "      <td>4.999415</td>\n",
       "      <td>137.945408</td>\n",
       "    </tr>\n",
       "    <tr>\n",
       "      <th>4</th>\n",
       "      <td>AHL4O</td>\n",
       "      <td>12.702195</td>\n",
       "      <td>-8.147433</td>\n",
       "      <td>5.004363</td>\n",
       "      <td>134.766305</td>\n",
       "    </tr>\n",
       "  </tbody>\n",
       "</table>\n",
       "</div>"
      ],
      "text/plain": [
       "      id         f0         f1        f2     product\n",
       "0  kBEdx -15.001348  -8.276000 -0.005876    3.179103\n",
       "1  62mP7  14.272088  -3.475083  0.999183   26.953261\n",
       "2  vyE1P   6.263187  -5.948386  5.001160  134.766305\n",
       "3  KcrkZ -13.081196 -11.506057  4.999415  137.945408\n",
       "4  AHL4O  12.702195  -8.147433  5.004363  134.766305"
      ]
     },
     "execution_count": 3,
     "metadata": {},
     "output_type": "execute_result"
    }
   ],
   "source": [
    "df1 = pd.read_csv('https://code.s3.yandex.net/datasets/geo_data_1.csv')\n",
    "df1.head()"
   ]
  },
  {
   "cell_type": "code",
   "execution_count": 4,
   "metadata": {},
   "outputs": [
    {
     "data": {
      "text/html": [
       "<div>\n",
       "<style scoped>\n",
       "    .dataframe tbody tr th:only-of-type {\n",
       "        vertical-align: middle;\n",
       "    }\n",
       "\n",
       "    .dataframe tbody tr th {\n",
       "        vertical-align: top;\n",
       "    }\n",
       "\n",
       "    .dataframe thead th {\n",
       "        text-align: right;\n",
       "    }\n",
       "</style>\n",
       "<table border=\"1\" class=\"dataframe\">\n",
       "  <thead>\n",
       "    <tr style=\"text-align: right;\">\n",
       "      <th></th>\n",
       "      <th>id</th>\n",
       "      <th>f0</th>\n",
       "      <th>f1</th>\n",
       "      <th>f2</th>\n",
       "      <th>product</th>\n",
       "    </tr>\n",
       "  </thead>\n",
       "  <tbody>\n",
       "    <tr>\n",
       "      <th>0</th>\n",
       "      <td>fwXo0</td>\n",
       "      <td>-1.146987</td>\n",
       "      <td>0.963328</td>\n",
       "      <td>-0.828965</td>\n",
       "      <td>27.758673</td>\n",
       "    </tr>\n",
       "    <tr>\n",
       "      <th>1</th>\n",
       "      <td>WJtFt</td>\n",
       "      <td>0.262778</td>\n",
       "      <td>0.269839</td>\n",
       "      <td>-2.530187</td>\n",
       "      <td>56.069697</td>\n",
       "    </tr>\n",
       "    <tr>\n",
       "      <th>2</th>\n",
       "      <td>ovLUW</td>\n",
       "      <td>0.194587</td>\n",
       "      <td>0.289035</td>\n",
       "      <td>-5.586433</td>\n",
       "      <td>62.871910</td>\n",
       "    </tr>\n",
       "    <tr>\n",
       "      <th>3</th>\n",
       "      <td>q6cA6</td>\n",
       "      <td>2.236060</td>\n",
       "      <td>-0.553760</td>\n",
       "      <td>0.930038</td>\n",
       "      <td>114.572842</td>\n",
       "    </tr>\n",
       "    <tr>\n",
       "      <th>4</th>\n",
       "      <td>WPMUX</td>\n",
       "      <td>-0.515993</td>\n",
       "      <td>1.716266</td>\n",
       "      <td>5.899011</td>\n",
       "      <td>149.600746</td>\n",
       "    </tr>\n",
       "  </tbody>\n",
       "</table>\n",
       "</div>"
      ],
      "text/plain": [
       "      id        f0        f1        f2     product\n",
       "0  fwXo0 -1.146987  0.963328 -0.828965   27.758673\n",
       "1  WJtFt  0.262778  0.269839 -2.530187   56.069697\n",
       "2  ovLUW  0.194587  0.289035 -5.586433   62.871910\n",
       "3  q6cA6  2.236060 -0.553760  0.930038  114.572842\n",
       "4  WPMUX -0.515993  1.716266  5.899011  149.600746"
      ]
     },
     "execution_count": 4,
     "metadata": {},
     "output_type": "execute_result"
    }
   ],
   "source": [
    "df2 = pd.read_csv('https://code.s3.yandex.net/datasets/geo_data_2.csv')\n",
    "df2.head()"
   ]
  },
  {
   "cell_type": "markdown",
   "metadata": {},
   "source": [
    "### Проверим информацию о данных:"
   ]
  },
  {
   "cell_type": "code",
   "execution_count": 5,
   "metadata": {},
   "outputs": [
    {
     "name": "stdout",
     "output_type": "stream",
     "text": [
      "<class 'pandas.core.frame.DataFrame'>\n",
      "RangeIndex: 100000 entries, 0 to 99999\n",
      "Data columns (total 5 columns):\n",
      " #   Column   Non-Null Count   Dtype  \n",
      "---  ------   --------------   -----  \n",
      " 0   id       100000 non-null  object \n",
      " 1   f0       100000 non-null  float64\n",
      " 2   f1       100000 non-null  float64\n",
      " 3   f2       100000 non-null  float64\n",
      " 4   product  100000 non-null  float64\n",
      "dtypes: float64(4), object(1)\n",
      "memory usage: 3.8+ MB\n"
     ]
    }
   ],
   "source": [
    "df0.info()"
   ]
  },
  {
   "cell_type": "code",
   "execution_count": 6,
   "metadata": {},
   "outputs": [
    {
     "name": "stdout",
     "output_type": "stream",
     "text": [
      "<class 'pandas.core.frame.DataFrame'>\n",
      "RangeIndex: 100000 entries, 0 to 99999\n",
      "Data columns (total 5 columns):\n",
      " #   Column   Non-Null Count   Dtype  \n",
      "---  ------   --------------   -----  \n",
      " 0   id       100000 non-null  object \n",
      " 1   f0       100000 non-null  float64\n",
      " 2   f1       100000 non-null  float64\n",
      " 3   f2       100000 non-null  float64\n",
      " 4   product  100000 non-null  float64\n",
      "dtypes: float64(4), object(1)\n",
      "memory usage: 3.8+ MB\n"
     ]
    }
   ],
   "source": [
    "df1.info()"
   ]
  },
  {
   "cell_type": "code",
   "execution_count": 7,
   "metadata": {},
   "outputs": [
    {
     "name": "stdout",
     "output_type": "stream",
     "text": [
      "<class 'pandas.core.frame.DataFrame'>\n",
      "RangeIndex: 100000 entries, 0 to 99999\n",
      "Data columns (total 5 columns):\n",
      " #   Column   Non-Null Count   Dtype  \n",
      "---  ------   --------------   -----  \n",
      " 0   id       100000 non-null  object \n",
      " 1   f0       100000 non-null  float64\n",
      " 2   f1       100000 non-null  float64\n",
      " 3   f2       100000 non-null  float64\n",
      " 4   product  100000 non-null  float64\n",
      "dtypes: float64(4), object(1)\n",
      "memory usage: 3.8+ MB\n"
     ]
    }
   ],
   "source": [
    "df2.info()"
   ]
  },
  {
   "cell_type": "code",
   "execution_count": 8,
   "metadata": {},
   "outputs": [
    {
     "name": "stdout",
     "output_type": "stream",
     "text": [
      "Количество дубликатов в НУЛЕВОМ регионе: 0\n",
      "Количество дубликатов в ПЕРВОМ регионе: 0\n",
      "Количество дубликатов во ВТОРОМ регионе: 0\n"
     ]
    }
   ],
   "source": [
    "print('Количество дубликатов в НУЛЕВОМ регионе:', df0.duplicated().sum())\n",
    "print('Количество дубликатов в ПЕРВОМ регионе:', df1.duplicated().sum())\n",
    "print('Количество дубликатов во ВТОРОМ регионе:', df2.duplicated().sum())"
   ]
  },
  {
   "cell_type": "markdown",
   "metadata": {},
   "source": [
    "**Первичные выводы: дубликаты и пропуски отсутствуют, тип значений в столбцах - float64. Столбец id с типом object нам не понадобится в дальнейших целях.**"
   ]
  },
  {
   "cell_type": "markdown",
   "metadata": {},
   "source": [
    "## Обучение и проверка модели"
   ]
  },
  {
   "cell_type": "markdown",
   "metadata": {},
   "source": [
    "### Разделение данных на обучающую и валидационную выборку:"
   ]
  },
  {
   "cell_type": "code",
   "execution_count": 9,
   "metadata": {},
   "outputs": [],
   "source": [
    "features0 = df0.drop(columns=['product', 'id']) \n",
    "target0 = df0['product'] \n",
    "features1 = df1.drop(columns=['product', 'id']) \n",
    "target1 = df1['product']\n",
    "features2 = df2.drop(columns=['product', 'id']) \n",
    "target2 = df2['product']"
   ]
  },
  {
   "cell_type": "code",
   "execution_count": 10,
   "metadata": {},
   "outputs": [
    {
     "name": "stdout",
     "output_type": "stream",
     "text": [
      "(75000, 3)\n",
      "(25000, 3)\n"
     ]
    }
   ],
   "source": [
    "features_train0, features_valid0, target_train0, target_valid0 = train_test_split(\n",
    "    features0, target0, test_size=0.25, random_state=12345)\n",
    "features_train1, features_valid1, target_train1, target_valid1 = train_test_split(\n",
    "    features1, target1, test_size=0.25, random_state=12345)\n",
    "features_train2, features_valid2, target_train2, target_valid2 = train_test_split(\n",
    "    features2, target2, test_size=0.25, random_state=12345)\n",
    "\n",
    "print(features_train0.shape) #проверка размера \n",
    "print(features_valid0.shape) #проверка размера "
   ]
  },
  {
   "cell_type": "markdown",
   "metadata": {},
   "source": [
    "### Обучение модели линейной регрессии:"
   ]
  },
  {
   "cell_type": "code",
   "execution_count": 11,
   "metadata": {},
   "outputs": [
    {
     "name": "stdout",
     "output_type": "stream",
     "text": [
      "НУЛЕВОЙ регион\n",
      "Cредний запас предсказанного сырья: 92.59256778438035\n",
      "RMSE модели: 37.5794217150813\n"
     ]
    }
   ],
   "source": [
    "model0 = LinearRegression() \n",
    "model0.fit(features_train0, target_train0) \n",
    "predictions_valid0 = model0.predict(features_valid0)\n",
    "result0 = (mean_squared_error(target_valid0, predictions_valid0))**0.5 \n",
    "print('НУЛЕВОЙ регион')\n",
    "print('Cредний запас предсказанного сырья:', predictions_valid0.mean())\n",
    "print('RMSE модели:', result0)"
   ]
  },
  {
   "cell_type": "code",
   "execution_count": 12,
   "metadata": {},
   "outputs": [
    {
     "name": "stdout",
     "output_type": "stream",
     "text": [
      "ПЕРВЫЙ регион\n",
      "Cредний запас предсказанного сырья: 68.728546895446\n",
      "RMSE модели: 0.893099286775617\n"
     ]
    }
   ],
   "source": [
    "model1 = LinearRegression()\n",
    "model1.fit(features_train1, target_train1) \n",
    "predictions_valid1 = model1.predict(features_valid1) \n",
    "result1 = (mean_squared_error(target_valid1, predictions_valid1))**0.5\n",
    "print('ПЕРВЫЙ регион')\n",
    "print('Cредний запас предсказанного сырья:', predictions_valid1.mean())\n",
    "print('RMSE модели:', result1)"
   ]
  },
  {
   "cell_type": "code",
   "execution_count": 13,
   "metadata": {},
   "outputs": [
    {
     "name": "stdout",
     "output_type": "stream",
     "text": [
      "ВТОРОЙ регион\n",
      "Cредний запас предсказанного сырья: 94.96504596800489\n",
      "RMSE модели: 40.02970873393434\n"
     ]
    }
   ],
   "source": [
    "model2 = LinearRegression()\n",
    "model2.fit(features_train2, target_train2) \n",
    "predictions_valid2 = model2.predict(features_valid2) \n",
    "result2 = (mean_squared_error(target_valid2, predictions_valid2))**0.5\n",
    "print('ВТОРОЙ регион')\n",
    "print('Cредний запас предсказанного сырья:', predictions_valid2.mean())\n",
    "print('RMSE модели:', result2)"
   ]
  },
  {
   "cell_type": "markdown",
   "metadata": {},
   "source": [
    "**Выводы: <br/> \n",
    "Минимальная ошибка в ПЕРВОМ регионе, но в нем самый низкий средний запас предсказанного сырья.  <br/>\n",
    "Максимальный запас предсказанного сырья во ВТОРОМ регионе**"
   ]
  },
  {
   "cell_type": "markdown",
   "metadata": {},
   "source": [
    "## Подготовка к расчёту прибыли"
   ]
  },
  {
   "cell_type": "code",
   "execution_count": 14,
   "metadata": {},
   "outputs": [
    {
     "name": "stdout",
     "output_type": "stream",
     "text": [
      "Объем добычи скважины для достижения безубыточности: 111.11111111111111\n"
     ]
    }
   ],
   "source": [
    "BUDGET = 10**10\n",
    "INCOME_PER_BARREL = 450000\n",
    "TOTAL_WELL_QTY = 500\n",
    "SELECTED_WELL_QTY = 200\n",
    "LOSS_POSSIBILITY = 0.025\n",
    "BREAKEVEN_POINT = (BUDGET/INCOME_PER_BARREL/SELECTED_WELL_QTY)\n",
    "print('Объем добычи скважины для достижения безубыточности:', BREAKEVEN_POINT)"
   ]
  },
  {
   "cell_type": "markdown",
   "metadata": {},
   "source": [
    "**Вспоминаем средний запас предсказанного сырья:**"
   ]
  },
  {
   "cell_type": "code",
   "execution_count": 15,
   "metadata": {},
   "outputs": [
    {
     "name": "stdout",
     "output_type": "stream",
     "text": [
      "92.59256778438035 68.728546895446 94.96504596800489\n"
     ]
    }
   ],
   "source": [
    "print(predictions_valid0.mean(), predictions_valid1.mean(), predictions_valid2.mean())"
   ]
  },
  {
   "cell_type": "markdown",
   "metadata": {},
   "source": [
    "Рассмотрим данные детально:"
   ]
  },
  {
   "cell_type": "code",
   "execution_count": 16,
   "metadata": {},
   "outputs": [
    {
     "data": {
      "text/plain": [
       "count    100000.000000\n",
       "mean         92.500000\n",
       "std          44.288691\n",
       "min           0.000000\n",
       "25%          56.497507\n",
       "50%          91.849972\n",
       "75%         128.564089\n",
       "max         185.364347\n",
       "Name: product, dtype: float64"
      ]
     },
     "execution_count": 16,
     "metadata": {},
     "output_type": "execute_result"
    }
   ],
   "source": [
    "df0['product'].describe()"
   ]
  },
  {
   "cell_type": "code",
   "execution_count": 17,
   "metadata": {},
   "outputs": [
    {
     "data": {
      "text/plain": [
       "count    100000.000000\n",
       "mean         68.825000\n",
       "std          45.944423\n",
       "min           0.000000\n",
       "25%          26.953261\n",
       "50%          57.085625\n",
       "75%         107.813044\n",
       "max         137.945408\n",
       "Name: product, dtype: float64"
      ]
     },
     "execution_count": 17,
     "metadata": {},
     "output_type": "execute_result"
    }
   ],
   "source": [
    "df1['product'].describe()"
   ]
  },
  {
   "cell_type": "code",
   "execution_count": 18,
   "metadata": {},
   "outputs": [
    {
     "data": {
      "text/plain": [
       "count    100000.000000\n",
       "mean         95.000000\n",
       "std          44.749921\n",
       "min           0.000000\n",
       "25%          59.450441\n",
       "50%          94.925613\n",
       "75%         130.595027\n",
       "max         190.029838\n",
       "Name: product, dtype: float64"
      ]
     },
     "execution_count": 18,
     "metadata": {},
     "output_type": "execute_result"
    }
   ],
   "source": [
    "df2['product'].describe()"
   ]
  },
  {
   "cell_type": "code",
   "execution_count": 19,
   "metadata": {},
   "outputs": [
    {
     "name": "stdout",
     "output_type": "stream",
     "text": [
      "25% скважин в нулевом регионе содержат больше сырья, чем  128.56\n",
      "16% скважин в нулевом регионе содержат больше сырья, чем  134.77\n",
      "25% скважин в нулевом регионе содержат больше сырья, чем  130.6\n"
     ]
    }
   ],
   "source": [
    "print(\"25% скважин в нулевом регионе содержат больше сырья, чем \",\n",
    "      round(df0[\"product\"].quantile(0.75),2))\n",
    "print(\"16% скважин в нулевом регионе содержат больше сырья, чем \",\n",
    "      round(df1[\"product\"].quantile(0.84),2))\n",
    "print(\"25% скважин в нулевом регионе содержат больше сырья, чем \",\n",
    "      round(df2[\"product\"].quantile(0.75),2))"
   ]
  },
  {
   "cell_type": "markdown",
   "metadata": {},
   "source": [
    "**Несмотря на то, что среднее значение по регионом не дотягивало до необходимого минимального количества баррелей нефти для безубыточной разработки, 25% (2 500) скважин нулевого и второго региона и 16% (1 600) скважин первого региона содержат необходимое количество сырья.**"
   ]
  },
  {
   "cell_type": "markdown",
   "metadata": {},
   "source": [
    "## Расчёт прибыли и рисков "
   ]
  },
  {
   "cell_type": "code",
   "execution_count": 23,
   "metadata": {},
   "outputs": [],
   "source": [
    "def profit(true_target, pred_target):\n",
    "    sort_Series = pd.Series(pred_target).sort_values(ascending=False)[:SELECTED_WELL_QTY]\n",
    "    true_target_sort = (true_target\n",
    "                         .reset_index(drop = True)[sort_Series.index])\n",
    "    sum_true = true_target_sort.sum() \n",
    "    return round((sum_true * INCOME_PER_BARREL) - BUDGET,2)\n",
    "state = np.random.RandomState(12345)"
   ]
  },
  {
   "cell_type": "code",
   "execution_count": 24,
   "metadata": {},
   "outputs": [],
   "source": [
    "def confidence_interval(true_target,pred_target):\n",
    "    samples = []\n",
    "    for i in (range(1000)):\n",
    "        sample = pd.Series(pred_target).sample(n = TOTAL_WELL_QTY, replace=True, random_state=state)\n",
    "        samples.append(profit(true_target,sample))\n",
    "    samples = pd.Series(samples)\n",
    "    print(\"Средняя прибыль:\",samples.mean())\n",
    "    print(samples.apply(lambda x: x < 0).sum()/len(samples)*100,\"%\")\n",
    "    \n",
    "    lower = samples.quantile(0.025)\n",
    "    upper = samples.quantile(0.975)\n",
    "    return round(lower,2), round(upper,2)"
   ]
  },
  {
   "cell_type": "code",
   "execution_count": 25,
   "metadata": {
    "scrolled": true
   },
   "outputs": [
    {
     "name": "stdout",
     "output_type": "stream",
     "text": [
      "Для НУЛЕВОГО региона:\n",
      "Средняя прибыль: 396164984.80228\n",
      "6.9 %\n",
      "95% доверительный интервал: (-111215545.89, 909766941.55)\n",
      "\n",
      "Для ПЕРВОГО региона:\n",
      "Средняя прибыль: 461155817.2772\n",
      "0.7000000000000001 %\n",
      "95% доверительный интервал: (78050810.75, 862952060.26)\n",
      "\n",
      "Для ВТОРОГО региона:\n",
      "Средняя прибыль: 392950475.17066\n",
      "6.5 %\n",
      "95% доверительный интервал: (-112227625.38, 934562914.55)\n"
     ]
    }
   ],
   "source": [
    "print(\"Для НУЛЕВОГО региона:\")\n",
    "print(\"95% доверительный интервал:\",\n",
    "      confidence_interval(target_valid0,pd.Series(predictions_valid0)))\n",
    "print()\n",
    "print(\"Для ПЕРВОГО региона:\")\n",
    "print(\"95% доверительный интервал:\",\n",
    "      confidence_interval(target_valid1,pd.Series(predictions_valid1)))\n",
    "print()\n",
    "print(\"Для ВТОРОГО региона:\")\n",
    "print(\"95% доверительный интервал:\",\n",
    "      confidence_interval(target_valid2,pd.Series(predictions_valid2)))"
   ]
  },
  {
   "cell_type": "markdown",
   "metadata": {},
   "source": [
    "**Вывод: <br/>\n",
    "По результатам работы для разработки месторождения имеет смысл предложить Первый регион, т.к.:  <br/>**\n",
    "* **по условию максимального допустимого уровня рисков -2,5% проходит Первый регион.** <br/>\n",
    "* **в данном регионе максимальная средняя прибыль.**"
   ]
  }
 ],
 "metadata": {
  "ExecuteTimeLog": [
   {
    "duration": 54,
    "start_time": "2022-03-20T17:00:48.825Z"
   },
   {
    "duration": 1373,
    "start_time": "2022-03-20T17:00:51.369Z"
   },
   {
    "duration": 100,
    "start_time": "2022-03-20T17:00:52.744Z"
   },
   {
    "duration": 40,
    "start_time": "2022-03-20T17:00:54.983Z"
   },
   {
    "duration": 449,
    "start_time": "2022-03-20T17:01:35.428Z"
   },
   {
    "duration": 302,
    "start_time": "2022-03-20T17:01:58.515Z"
   },
   {
    "duration": 66,
    "start_time": "2022-03-20T17:02:23.389Z"
   },
   {
    "duration": 350,
    "start_time": "2022-03-20T17:02:33.504Z"
   },
   {
    "duration": 299,
    "start_time": "2022-03-20T17:02:49.543Z"
   },
   {
    "duration": 237,
    "start_time": "2022-03-20T17:02:51.582Z"
   },
   {
    "duration": 301,
    "start_time": "2022-03-20T17:02:53.531Z"
   },
   {
    "duration": 1180,
    "start_time": "2022-03-22T04:41:08.115Z"
   },
   {
    "duration": 537,
    "start_time": "2022-03-22T04:41:09.297Z"
   },
   {
    "duration": 795,
    "start_time": "2022-03-22T04:41:10.226Z"
   },
   {
    "duration": 404,
    "start_time": "2022-03-22T04:41:12.440Z"
   },
   {
    "duration": 90,
    "start_time": "2022-03-22T17:46:28.448Z"
   },
   {
    "duration": 3,
    "start_time": "2022-03-22T17:46:30.738Z"
   },
   {
    "duration": 370,
    "start_time": "2022-03-22T17:46:31.413Z"
   },
   {
    "duration": 1365,
    "start_time": "2022-03-22T17:46:32.009Z"
   },
   {
    "duration": 355,
    "start_time": "2022-03-22T17:46:33.376Z"
   },
   {
    "duration": 9,
    "start_time": "2022-03-22T17:46:37.684Z"
   },
   {
    "duration": 295,
    "start_time": "2022-03-22T17:46:40.071Z"
   },
   {
    "duration": 10,
    "start_time": "2022-03-22T17:46:54.451Z"
   },
   {
    "duration": 13,
    "start_time": "2022-03-22T17:48:56.712Z"
   },
   {
    "duration": 27,
    "start_time": "2022-03-22T17:50:05.401Z"
   },
   {
    "duration": 7,
    "start_time": "2022-03-22T17:50:24.722Z"
   },
   {
    "duration": 44,
    "start_time": "2022-03-22T17:50:25.793Z"
   },
   {
    "duration": 15,
    "start_time": "2022-03-22T17:50:50.463Z"
   },
   {
    "duration": 3,
    "start_time": "2022-03-22T17:54:24.149Z"
   },
   {
    "duration": 10,
    "start_time": "2022-03-22T17:54:27.507Z"
   },
   {
    "duration": 20,
    "start_time": "2022-03-22T17:54:33.497Z"
   },
   {
    "duration": 15,
    "start_time": "2022-03-22T17:54:46.294Z"
   },
   {
    "duration": 23,
    "start_time": "2022-03-22T18:00:06.202Z"
   },
   {
    "duration": 67,
    "start_time": "2022-03-22T18:00:10.034Z"
   },
   {
    "duration": 3,
    "start_time": "2022-03-22T18:00:27.005Z"
   },
   {
    "duration": 19,
    "start_time": "2022-03-22T18:00:32.779Z"
   },
   {
    "duration": 14,
    "start_time": "2022-03-22T18:00:40.394Z"
   },
   {
    "duration": 14,
    "start_time": "2022-03-22T18:01:30.741Z"
   },
   {
    "duration": 21,
    "start_time": "2022-03-22T18:02:06.502Z"
   },
   {
    "duration": 169,
    "start_time": "2022-03-22T18:02:19.976Z"
   },
   {
    "duration": 217,
    "start_time": "2022-03-22T18:02:36.033Z"
   },
   {
    "duration": 16,
    "start_time": "2022-03-22T18:03:56.259Z"
   },
   {
    "duration": 212,
    "start_time": "2022-03-22T18:04:00.046Z"
   },
   {
    "duration": 213,
    "start_time": "2022-03-22T18:04:04.620Z"
   },
   {
    "duration": 307,
    "start_time": "2022-03-22T18:04:07.607Z"
   },
   {
    "duration": 13,
    "start_time": "2022-03-22T18:04:11.676Z"
   },
   {
    "duration": 13,
    "start_time": "2022-03-22T18:04:15.086Z"
   },
   {
    "duration": 20,
    "start_time": "2022-03-22T18:04:17.428Z"
   },
   {
    "duration": 13,
    "start_time": "2022-03-22T18:04:30.040Z"
   },
   {
    "duration": 13,
    "start_time": "2022-03-22T18:04:41.710Z"
   },
   {
    "duration": 22,
    "start_time": "2022-03-22T18:07:22.181Z"
   },
   {
    "duration": 14,
    "start_time": "2022-03-22T18:07:32.285Z"
   },
   {
    "duration": 13,
    "start_time": "2022-03-22T18:07:34.120Z"
   },
   {
    "duration": 13,
    "start_time": "2022-03-22T18:08:17.193Z"
   },
   {
    "duration": 10,
    "start_time": "2022-03-22T18:26:06.991Z"
   },
   {
    "duration": 201,
    "start_time": "2022-03-22T18:26:14.284Z"
   },
   {
    "duration": 9,
    "start_time": "2022-03-22T18:26:15.306Z"
   },
   {
    "duration": 9,
    "start_time": "2022-03-22T18:26:27.787Z"
   },
   {
    "duration": 3,
    "start_time": "2022-03-22T18:26:31.794Z"
   },
   {
    "duration": 3,
    "start_time": "2022-03-22T18:26:32.626Z"
   },
   {
    "duration": 3,
    "start_time": "2022-03-22T18:27:34.476Z"
   },
   {
    "duration": 10,
    "start_time": "2022-03-22T18:36:55.536Z"
   },
   {
    "duration": 3,
    "start_time": "2022-03-22T18:37:12.010Z"
   },
   {
    "duration": 10,
    "start_time": "2022-03-22T18:37:14.982Z"
   },
   {
    "duration": 1241,
    "start_time": "2022-03-23T02:45:56.385Z"
   },
   {
    "duration": 395,
    "start_time": "2022-03-23T02:45:57.628Z"
   },
   {
    "duration": 430,
    "start_time": "2022-03-23T02:45:58.024Z"
   },
   {
    "duration": 388,
    "start_time": "2022-03-23T02:45:58.456Z"
   },
   {
    "duration": 7,
    "start_time": "2022-03-23T02:45:58.846Z"
   },
   {
    "duration": 33,
    "start_time": "2022-03-23T02:45:58.854Z"
   },
   {
    "duration": 16,
    "start_time": "2022-03-23T02:45:58.900Z"
   },
   {
    "duration": 186,
    "start_time": "2022-03-23T02:45:58.918Z"
   },
   {
    "duration": 106,
    "start_time": "2022-03-23T02:45:59.106Z"
   },
   {
    "duration": 3,
    "start_time": "2022-03-23T02:45:59.215Z"
   },
   {
    "duration": 86,
    "start_time": "2022-03-23T02:45:59.220Z"
   },
   {
    "duration": 94,
    "start_time": "2022-03-23T02:45:59.308Z"
   },
   {
    "duration": 145,
    "start_time": "2022-03-23T02:46:06.431Z"
   },
   {
    "duration": 147,
    "start_time": "2022-03-23T02:46:12.319Z"
   },
   {
    "duration": 144,
    "start_time": "2022-03-23T02:46:16.631Z"
   },
   {
    "duration": 4,
    "start_time": "2022-03-23T02:46:36.296Z"
   },
   {
    "duration": 3,
    "start_time": "2022-03-23T02:46:42.214Z"
   },
   {
    "duration": 157,
    "start_time": "2022-03-23T03:08:40.116Z"
   },
   {
    "duration": 165,
    "start_time": "2022-03-23T03:09:15.293Z"
   },
   {
    "duration": 3,
    "start_time": "2022-03-23T03:11:56.214Z"
   },
   {
    "duration": 91,
    "start_time": "2022-03-23T03:15:52.383Z"
   },
   {
    "duration": 9,
    "start_time": "2022-03-23T03:16:11.713Z"
   },
   {
    "duration": 9,
    "start_time": "2022-03-23T03:17:44.281Z"
   },
   {
    "duration": 1172,
    "start_time": "2022-03-23T03:24:28.601Z"
   },
   {
    "duration": 4,
    "start_time": "2022-03-23T03:27:37.654Z"
   },
   {
    "duration": 3,
    "start_time": "2022-03-23T03:31:47.777Z"
   },
   {
    "duration": 389,
    "start_time": "2022-03-23T03:31:47.782Z"
   },
   {
    "duration": 343,
    "start_time": "2022-03-23T03:31:48.173Z"
   },
   {
    "duration": 390,
    "start_time": "2022-03-23T03:31:48.518Z"
   },
   {
    "duration": 8,
    "start_time": "2022-03-23T03:31:48.910Z"
   },
   {
    "duration": 30,
    "start_time": "2022-03-23T03:31:48.920Z"
   },
   {
    "duration": 59,
    "start_time": "2022-03-23T03:31:48.952Z"
   },
   {
    "duration": 14,
    "start_time": "2022-03-23T03:31:49.102Z"
   },
   {
    "duration": 91,
    "start_time": "2022-03-23T03:31:49.118Z"
   },
   {
    "duration": 4,
    "start_time": "2022-03-23T03:31:49.302Z"
   },
   {
    "duration": 95,
    "start_time": "2022-03-23T03:31:49.308Z"
   },
   {
    "duration": 5,
    "start_time": "2022-03-23T03:31:49.405Z"
   },
   {
    "duration": 3,
    "start_time": "2022-03-23T03:31:57.147Z"
   },
   {
    "duration": 4,
    "start_time": "2022-03-23T03:38:28.778Z"
   },
   {
    "duration": 3,
    "start_time": "2022-03-23T03:51:20.331Z"
   },
   {
    "duration": 148,
    "start_time": "2022-03-23T03:53:16.017Z"
   },
   {
    "duration": 9,
    "start_time": "2022-03-23T03:53:20.960Z"
   },
   {
    "duration": 10,
    "start_time": "2022-03-23T03:53:31.764Z"
   },
   {
    "duration": 16,
    "start_time": "2022-03-23T03:56:31.057Z"
   },
   {
    "duration": 11,
    "start_time": "2022-03-23T03:57:11.177Z"
   },
   {
    "duration": 10,
    "start_time": "2022-03-23T03:57:16.240Z"
   },
   {
    "duration": 16,
    "start_time": "2022-03-23T03:57:29.742Z"
   },
   {
    "duration": 26,
    "start_time": "2022-03-23T03:57:42.557Z"
   },
   {
    "duration": 18,
    "start_time": "2022-03-23T03:58:50.770Z"
   },
   {
    "duration": 19,
    "start_time": "2022-03-23T04:01:10.034Z"
   },
   {
    "duration": 17,
    "start_time": "2022-03-23T04:01:16.766Z"
   },
   {
    "duration": 10,
    "start_time": "2022-03-23T04:01:42.895Z"
   },
   {
    "duration": 276,
    "start_time": "2022-03-23T04:02:43.229Z"
   },
   {
    "duration": 19,
    "start_time": "2022-03-23T04:02:46.585Z"
   },
   {
    "duration": 18,
    "start_time": "2022-03-23T04:05:59.064Z"
   },
   {
    "duration": 184,
    "start_time": "2022-03-23T04:06:46.033Z"
   },
   {
    "duration": 165,
    "start_time": "2022-03-23T04:07:51.346Z"
   },
   {
    "duration": 11,
    "start_time": "2022-03-23T04:08:12.178Z"
   },
   {
    "duration": 14,
    "start_time": "2022-03-23T04:08:41.380Z"
   },
   {
    "duration": 23,
    "start_time": "2022-03-23T04:11:10.800Z"
   },
   {
    "duration": 22,
    "start_time": "2022-03-23T04:12:09.736Z"
   },
   {
    "duration": 25,
    "start_time": "2022-03-23T04:13:12.417Z"
   },
   {
    "duration": 22,
    "start_time": "2022-03-23T04:22:40.576Z"
   },
   {
    "duration": 95,
    "start_time": "2022-03-23T10:47:25.347Z"
   },
   {
    "duration": 107,
    "start_time": "2022-03-23T10:47:34.475Z"
   },
   {
    "duration": 46,
    "start_time": "2022-03-23T10:47:39.489Z"
   },
   {
    "duration": 1145,
    "start_time": "2022-03-23T10:47:44.820Z"
   },
   {
    "duration": 392,
    "start_time": "2022-03-23T10:47:45.967Z"
   },
   {
    "duration": 500,
    "start_time": "2022-03-23T10:47:46.361Z"
   },
   {
    "duration": 1911,
    "start_time": "2022-03-23T10:47:46.864Z"
   },
   {
    "duration": 9,
    "start_time": "2022-03-23T10:47:48.776Z"
   },
   {
    "duration": 32,
    "start_time": "2022-03-23T10:47:48.786Z"
   },
   {
    "duration": 17,
    "start_time": "2022-03-23T10:47:48.820Z"
   },
   {
    "duration": 181,
    "start_time": "2022-03-23T10:47:48.838Z"
   },
   {
    "duration": 93,
    "start_time": "2022-03-23T10:47:49.022Z"
   },
   {
    "duration": 92,
    "start_time": "2022-03-23T10:47:49.118Z"
   },
   {
    "duration": 6,
    "start_time": "2022-03-23T10:47:49.212Z"
   },
   {
    "duration": 5,
    "start_time": "2022-03-23T10:47:49.309Z"
   },
   {
    "duration": 115,
    "start_time": "2022-03-23T10:47:49.315Z"
   },
   {
    "duration": 0,
    "start_time": "2022-03-23T10:47:49.432Z"
   },
   {
    "duration": 74,
    "start_time": "2022-03-23T10:47:56.547Z"
   },
   {
    "duration": 12,
    "start_time": "2022-03-23T10:49:00.801Z"
   },
   {
    "duration": 53,
    "start_time": "2022-03-23T10:49:08.809Z"
   },
   {
    "duration": 23,
    "start_time": "2022-03-23T10:49:49.844Z"
   },
   {
    "duration": 24,
    "start_time": "2022-03-23T10:50:00.150Z"
   },
   {
    "duration": 22,
    "start_time": "2022-03-23T10:50:17.360Z"
   },
   {
    "duration": 26,
    "start_time": "2022-03-23T10:50:30.482Z"
   },
   {
    "duration": 25,
    "start_time": "2022-03-23T10:50:39.921Z"
   },
   {
    "duration": 13,
    "start_time": "2022-03-23T10:54:59.645Z"
   },
   {
    "duration": 13,
    "start_time": "2022-03-23T10:55:39.200Z"
   },
   {
    "duration": 50,
    "start_time": "2022-03-23T10:55:56.011Z"
   },
   {
    "duration": 47,
    "start_time": "2022-03-23T12:33:41.431Z"
   },
   {
    "duration": 49,
    "start_time": "2022-03-23T12:34:00.802Z"
   },
   {
    "duration": 49,
    "start_time": "2022-03-23T12:34:07.684Z"
   },
   {
    "duration": 24,
    "start_time": "2022-03-23T15:27:03.332Z"
   },
   {
    "duration": 12,
    "start_time": "2022-03-23T15:27:41.239Z"
   },
   {
    "duration": 12,
    "start_time": "2022-03-23T15:28:09.766Z"
   },
   {
    "duration": 3,
    "start_time": "2022-03-23T15:28:24.589Z"
   },
   {
    "duration": 366,
    "start_time": "2022-03-23T15:28:24.595Z"
   },
   {
    "duration": 309,
    "start_time": "2022-03-23T15:28:24.962Z"
   },
   {
    "duration": 292,
    "start_time": "2022-03-23T15:28:25.273Z"
   },
   {
    "duration": 9,
    "start_time": "2022-03-23T15:28:25.567Z"
   },
   {
    "duration": 31,
    "start_time": "2022-03-23T15:28:25.577Z"
   },
   {
    "duration": 14,
    "start_time": "2022-03-23T15:28:25.610Z"
   },
   {
    "duration": 186,
    "start_time": "2022-03-23T15:28:25.627Z"
   },
   {
    "duration": 98,
    "start_time": "2022-03-23T15:28:25.815Z"
   },
   {
    "duration": 98,
    "start_time": "2022-03-23T15:28:25.916Z"
   },
   {
    "duration": 94,
    "start_time": "2022-03-23T15:28:26.017Z"
   },
   {
    "duration": 7,
    "start_time": "2022-03-23T15:28:26.112Z"
   },
   {
    "duration": 12,
    "start_time": "2022-03-23T15:28:28.917Z"
   },
   {
    "duration": 24,
    "start_time": "2022-03-23T15:29:09.236Z"
   },
   {
    "duration": 23,
    "start_time": "2022-03-23T15:29:21.830Z"
   },
   {
    "duration": 20,
    "start_time": "2022-03-23T15:30:23.357Z"
   },
   {
    "duration": 27,
    "start_time": "2022-03-23T15:30:39.717Z"
   },
   {
    "duration": 22,
    "start_time": "2022-03-23T15:31:26.745Z"
   },
   {
    "duration": 23,
    "start_time": "2022-03-23T15:31:48.478Z"
   },
   {
    "duration": 5,
    "start_time": "2022-03-23T15:44:56.338Z"
   },
   {
    "duration": 20,
    "start_time": "2022-03-23T15:45:03.836Z"
   },
   {
    "duration": 23,
    "start_time": "2022-03-23T15:45:31.679Z"
   },
   {
    "duration": 22,
    "start_time": "2022-03-23T15:46:42.875Z"
   },
   {
    "duration": 21,
    "start_time": "2022-03-23T16:02:02.069Z"
   },
   {
    "duration": 4,
    "start_time": "2022-03-23T16:02:52.259Z"
   },
   {
    "duration": 392,
    "start_time": "2022-03-23T16:02:52.264Z"
   },
   {
    "duration": 422,
    "start_time": "2022-03-23T16:02:52.657Z"
   },
   {
    "duration": 1321,
    "start_time": "2022-03-23T16:02:53.081Z"
   },
   {
    "duration": 9,
    "start_time": "2022-03-23T16:02:54.405Z"
   },
   {
    "duration": 25,
    "start_time": "2022-03-23T16:02:54.415Z"
   },
   {
    "duration": 15,
    "start_time": "2022-03-23T16:02:54.442Z"
   },
   {
    "duration": 104,
    "start_time": "2022-03-23T16:02:54.512Z"
   },
   {
    "duration": 94,
    "start_time": "2022-03-23T16:02:54.618Z"
   },
   {
    "duration": 3,
    "start_time": "2022-03-23T16:02:54.715Z"
   },
   {
    "duration": 91,
    "start_time": "2022-03-23T16:02:54.721Z"
   },
   {
    "duration": 5,
    "start_time": "2022-03-23T16:02:54.814Z"
   },
   {
    "duration": 23,
    "start_time": "2022-03-23T16:02:55.083Z"
   },
   {
    "duration": 14,
    "start_time": "2022-03-23T16:04:44.805Z"
   },
   {
    "duration": 25,
    "start_time": "2022-03-23T16:08:49.192Z"
   },
   {
    "duration": 10,
    "start_time": "2022-03-23T17:11:39.622Z"
   },
   {
    "duration": 19,
    "start_time": "2022-03-23T17:12:58.848Z"
   },
   {
    "duration": 27,
    "start_time": "2022-03-23T17:13:33.901Z"
   },
   {
    "duration": 4,
    "start_time": "2022-03-23T17:25:42.612Z"
   },
   {
    "duration": 409,
    "start_time": "2022-03-23T17:25:42.618Z"
   },
   {
    "duration": 373,
    "start_time": "2022-03-23T17:25:43.029Z"
   },
   {
    "duration": 341,
    "start_time": "2022-03-23T17:25:43.404Z"
   },
   {
    "duration": 8,
    "start_time": "2022-03-23T17:25:43.747Z"
   },
   {
    "duration": 26,
    "start_time": "2022-03-23T17:25:43.756Z"
   },
   {
    "duration": 28,
    "start_time": "2022-03-23T17:25:43.784Z"
   },
   {
    "duration": 107,
    "start_time": "2022-03-23T17:25:43.908Z"
   },
   {
    "duration": 195,
    "start_time": "2022-03-23T17:25:44.017Z"
   },
   {
    "duration": 94,
    "start_time": "2022-03-23T17:25:44.215Z"
   },
   {
    "duration": 6,
    "start_time": "2022-03-23T17:25:44.311Z"
   },
   {
    "duration": 4,
    "start_time": "2022-03-23T17:25:46.999Z"
   },
   {
    "duration": 3,
    "start_time": "2022-03-23T17:25:47.917Z"
   },
   {
    "duration": 23,
    "start_time": "2022-03-23T17:25:54.284Z"
   },
   {
    "duration": 25,
    "start_time": "2022-03-23T17:27:40.809Z"
   },
   {
    "duration": 3,
    "start_time": "2022-03-23T17:39:25.106Z"
   },
   {
    "duration": 4,
    "start_time": "2022-03-23T17:39:26.252Z"
   },
   {
    "duration": 5,
    "start_time": "2022-03-23T17:39:57.605Z"
   },
   {
    "duration": 90,
    "start_time": "2022-03-23T17:41:29.248Z"
   },
   {
    "duration": 13,
    "start_time": "2022-03-23T17:41:33.888Z"
   },
   {
    "duration": 5,
    "start_time": "2022-03-23T17:41:45.095Z"
   },
   {
    "duration": 868,
    "start_time": "2022-03-23T17:41:46.705Z"
   },
   {
    "duration": 6,
    "start_time": "2022-03-23T17:44:03.906Z"
   },
   {
    "duration": 857,
    "start_time": "2022-03-23T17:44:06.093Z"
   },
   {
    "duration": 5,
    "start_time": "2022-03-23T17:45:17.284Z"
   },
   {
    "duration": 853,
    "start_time": "2022-03-23T17:45:18.479Z"
   },
   {
    "duration": 3,
    "start_time": "2022-03-23T17:49:10.941Z"
   },
   {
    "duration": 5,
    "start_time": "2022-03-23T17:52:10.759Z"
   },
   {
    "duration": 3,
    "start_time": "2022-03-23T17:52:39.431Z"
   },
   {
    "duration": 3,
    "start_time": "2022-03-23T17:52:49.618Z"
   },
   {
    "duration": 4,
    "start_time": "2022-03-23T17:52:59.247Z"
   },
   {
    "duration": 873,
    "start_time": "2022-03-23T17:53:02.429Z"
   },
   {
    "duration": 5,
    "start_time": "2022-03-23T18:01:00.372Z"
   },
   {
    "duration": 4,
    "start_time": "2022-03-23T18:01:03.296Z"
   },
   {
    "duration": 5,
    "start_time": "2022-03-23T18:01:05.742Z"
   },
   {
    "duration": 875,
    "start_time": "2022-03-23T18:01:06.945Z"
   },
   {
    "duration": 898,
    "start_time": "2022-03-23T18:01:10.809Z"
   },
   {
    "duration": 863,
    "start_time": "2022-03-23T18:01:13.255Z"
   },
   {
    "duration": 875,
    "start_time": "2022-03-23T18:01:15.742Z"
   },
   {
    "duration": 860,
    "start_time": "2022-03-23T18:01:23.536Z"
   },
   {
    "duration": 898,
    "start_time": "2022-03-23T18:02:20.243Z"
   },
   {
    "duration": 865,
    "start_time": "2022-03-23T18:03:24.595Z"
   },
   {
    "duration": 2531,
    "start_time": "2022-03-23T18:04:04.751Z"
   },
   {
    "duration": 2607,
    "start_time": "2022-03-23T18:04:13.586Z"
   },
   {
    "duration": 2781,
    "start_time": "2022-03-23T18:10:15.914Z"
   },
   {
    "duration": 2570,
    "start_time": "2022-03-23T18:10:35.515Z"
   },
   {
    "duration": 3,
    "start_time": "2022-03-23T18:19:48.677Z"
   },
   {
    "duration": 24,
    "start_time": "2022-03-23T18:40:08.342Z"
   },
   {
    "duration": 14,
    "start_time": "2022-03-23T18:40:39.686Z"
   },
   {
    "duration": 14,
    "start_time": "2022-03-23T18:40:41.498Z"
   },
   {
    "duration": 15,
    "start_time": "2022-03-23T18:41:09.802Z"
   },
   {
    "duration": 15,
    "start_time": "2022-03-23T18:41:10.578Z"
   },
   {
    "duration": 14,
    "start_time": "2022-03-23T18:41:11.206Z"
   },
   {
    "duration": 42,
    "start_time": "2022-03-23T18:42:05.540Z"
   },
   {
    "duration": 121,
    "start_time": "2022-03-23T18:42:26.304Z"
   },
   {
    "duration": 108,
    "start_time": "2022-03-23T18:42:36.484Z"
   },
   {
    "duration": 7,
    "start_time": "2022-03-23T18:45:21.235Z"
   },
   {
    "duration": 27,
    "start_time": "2022-03-23T18:45:22.482Z"
   },
   {
    "duration": 26,
    "start_time": "2022-03-23T18:45:46.985Z"
   },
   {
    "duration": 105,
    "start_time": "2022-03-23T18:50:09.008Z"
   },
   {
    "duration": 21,
    "start_time": "2022-03-23T18:50:49.980Z"
   },
   {
    "duration": 84,
    "start_time": "2022-03-23T18:50:51.226Z"
   },
   {
    "duration": 16,
    "start_time": "2022-03-23T18:50:52.677Z"
   },
   {
    "duration": 18,
    "start_time": "2022-03-23T18:51:37.123Z"
   },
   {
    "duration": 18,
    "start_time": "2022-03-23T18:51:38.079Z"
   },
   {
    "duration": 19,
    "start_time": "2022-03-23T18:51:38.867Z"
   },
   {
    "duration": 4,
    "start_time": "2022-03-23T18:53:26.748Z"
   },
   {
    "duration": 5,
    "start_time": "2022-03-23T18:53:32.326Z"
   },
   {
    "duration": 408,
    "start_time": "2022-03-23T18:53:32.333Z"
   },
   {
    "duration": 357,
    "start_time": "2022-03-23T18:53:32.743Z"
   },
   {
    "duration": 1294,
    "start_time": "2022-03-23T18:53:33.102Z"
   },
   {
    "duration": 14,
    "start_time": "2022-03-23T18:53:34.397Z"
   },
   {
    "duration": 23,
    "start_time": "2022-03-23T18:53:34.412Z"
   },
   {
    "duration": 13,
    "start_time": "2022-03-23T18:53:34.437Z"
   },
   {
    "duration": 128,
    "start_time": "2022-03-23T18:53:34.452Z"
   },
   {
    "duration": 7,
    "start_time": "2022-03-23T18:53:34.582Z"
   },
   {
    "duration": 35,
    "start_time": "2022-03-23T18:53:34.592Z"
   },
   {
    "duration": 86,
    "start_time": "2022-03-23T18:53:34.629Z"
   },
   {
    "duration": 192,
    "start_time": "2022-03-23T18:53:34.718Z"
   },
   {
    "duration": 109,
    "start_time": "2022-03-23T18:53:34.912Z"
   },
   {
    "duration": 87,
    "start_time": "2022-03-23T18:53:35.025Z"
   },
   {
    "duration": 4,
    "start_time": "2022-03-23T18:53:36.787Z"
   },
   {
    "duration": 25,
    "start_time": "2022-03-23T18:53:38.855Z"
   },
   {
    "duration": 4,
    "start_time": "2022-03-23T18:53:47.031Z"
   },
   {
    "duration": 5,
    "start_time": "2022-03-23T18:53:48.144Z"
   },
   {
    "duration": 2615,
    "start_time": "2022-03-23T18:53:49.806Z"
   },
   {
    "duration": 86,
    "start_time": "2022-03-23T18:55:27.226Z"
   },
   {
    "duration": 12,
    "start_time": "2022-03-23T18:56:21.551Z"
   },
   {
    "duration": 12,
    "start_time": "2022-03-23T18:56:43.141Z"
   },
   {
    "duration": 11,
    "start_time": "2022-03-23T18:56:45.764Z"
   },
   {
    "duration": 12,
    "start_time": "2022-03-23T18:57:50.127Z"
   },
   {
    "duration": 13,
    "start_time": "2022-03-23T18:58:21.356Z"
   },
   {
    "duration": 12,
    "start_time": "2022-03-23T18:59:40.309Z"
   },
   {
    "duration": 12,
    "start_time": "2022-03-23T18:59:43.654Z"
   },
   {
    "duration": 13,
    "start_time": "2022-03-23T18:59:46.588Z"
   },
   {
    "duration": 13,
    "start_time": "2022-03-23T18:59:49.587Z"
   },
   {
    "duration": 12,
    "start_time": "2022-03-23T18:59:52.799Z"
   },
   {
    "duration": 15,
    "start_time": "2022-03-23T18:59:55.432Z"
   },
   {
    "duration": 1134,
    "start_time": "2022-03-23T19:13:59.058Z"
   },
   {
    "duration": 507,
    "start_time": "2022-03-23T19:14:00.194Z"
   },
   {
    "duration": 471,
    "start_time": "2022-03-23T19:14:00.703Z"
   },
   {
    "duration": 1331,
    "start_time": "2022-03-23T19:14:01.175Z"
   },
   {
    "duration": 18,
    "start_time": "2022-03-23T19:14:02.508Z"
   },
   {
    "duration": 15,
    "start_time": "2022-03-23T19:14:02.527Z"
   },
   {
    "duration": 15,
    "start_time": "2022-03-23T19:14:02.544Z"
   },
   {
    "duration": 167,
    "start_time": "2022-03-23T19:14:02.561Z"
   },
   {
    "duration": 7,
    "start_time": "2022-03-23T19:14:02.730Z"
   },
   {
    "duration": 35,
    "start_time": "2022-03-23T19:14:02.739Z"
   },
   {
    "duration": 38,
    "start_time": "2022-03-23T19:14:02.776Z"
   },
   {
    "duration": 102,
    "start_time": "2022-03-23T19:14:02.908Z"
   },
   {
    "duration": 104,
    "start_time": "2022-03-23T19:14:03.015Z"
   },
   {
    "duration": 88,
    "start_time": "2022-03-23T19:14:03.123Z"
   },
   {
    "duration": 92,
    "start_time": "2022-03-23T19:14:03.216Z"
   },
   {
    "duration": 13,
    "start_time": "2022-03-23T19:14:03.310Z"
   },
   {
    "duration": 12,
    "start_time": "2022-03-23T19:14:03.324Z"
   },
   {
    "duration": 13,
    "start_time": "2022-03-23T19:14:03.338Z"
   },
   {
    "duration": 13,
    "start_time": "2022-03-23T19:14:03.353Z"
   },
   {
    "duration": 164,
    "start_time": "2022-03-23T19:14:03.368Z"
   },
   {
    "duration": 0,
    "start_time": "2022-03-23T19:14:03.535Z"
   },
   {
    "duration": 0,
    "start_time": "2022-03-23T19:14:03.536Z"
   },
   {
    "duration": 0,
    "start_time": "2022-03-23T19:14:03.538Z"
   },
   {
    "duration": 4,
    "start_time": "2022-03-23T19:14:10.233Z"
   },
   {
    "duration": 5,
    "start_time": "2022-03-23T19:14:12.107Z"
   },
   {
    "duration": 2709,
    "start_time": "2022-03-23T19:14:13.509Z"
   },
   {
    "duration": 82,
    "start_time": "2022-03-24T17:18:13.043Z"
   },
   {
    "duration": 92,
    "start_time": "2022-03-24T17:20:18.107Z"
   },
   {
    "duration": 1107,
    "start_time": "2022-03-24T17:21:34.471Z"
   },
   {
    "duration": 358,
    "start_time": "2022-03-24T17:21:35.580Z"
   },
   {
    "duration": 1788,
    "start_time": "2022-03-24T17:21:35.939Z"
   },
   {
    "duration": 300,
    "start_time": "2022-03-24T17:21:37.733Z"
   },
   {
    "duration": 15,
    "start_time": "2022-03-24T17:21:38.035Z"
   },
   {
    "duration": 16,
    "start_time": "2022-03-24T17:21:38.051Z"
   },
   {
    "duration": 14,
    "start_time": "2022-03-24T17:21:38.069Z"
   },
   {
    "duration": 142,
    "start_time": "2022-03-24T17:21:38.084Z"
   },
   {
    "duration": 7,
    "start_time": "2022-03-24T17:21:38.232Z"
   },
   {
    "duration": 37,
    "start_time": "2022-03-24T17:21:38.242Z"
   },
   {
    "duration": 55,
    "start_time": "2022-03-24T17:21:38.281Z"
   },
   {
    "duration": 105,
    "start_time": "2022-03-24T17:21:38.339Z"
   },
   {
    "duration": 190,
    "start_time": "2022-03-24T17:21:38.446Z"
   },
   {
    "duration": 102,
    "start_time": "2022-03-24T17:21:38.732Z"
   },
   {
    "duration": 0,
    "start_time": "2022-03-24T17:21:38.835Z"
   },
   {
    "duration": 0,
    "start_time": "2022-03-24T17:21:38.837Z"
   },
   {
    "duration": 0,
    "start_time": "2022-03-24T17:21:38.838Z"
   },
   {
    "duration": 0,
    "start_time": "2022-03-24T17:21:38.840Z"
   },
   {
    "duration": 0,
    "start_time": "2022-03-24T17:21:38.841Z"
   },
   {
    "duration": 0,
    "start_time": "2022-03-24T17:21:38.842Z"
   },
   {
    "duration": 3,
    "start_time": "2022-03-24T17:21:46.233Z"
   },
   {
    "duration": 11,
    "start_time": "2022-03-24T17:21:50.038Z"
   },
   {
    "duration": 11,
    "start_time": "2022-03-24T17:21:52.154Z"
   },
   {
    "duration": 11,
    "start_time": "2022-03-24T17:21:53.499Z"
   },
   {
    "duration": 12,
    "start_time": "2022-03-24T17:21:56.271Z"
   },
   {
    "duration": 11,
    "start_time": "2022-03-24T17:21:58.776Z"
   },
   {
    "duration": 18,
    "start_time": "2022-03-24T17:22:15.154Z"
   },
   {
    "duration": 26,
    "start_time": "2022-03-24T17:22:24.561Z"
   },
   {
    "duration": 4,
    "start_time": "2022-03-24T17:22:31.155Z"
   },
   {
    "duration": 3,
    "start_time": "2022-03-24T17:23:08.316Z"
   },
   {
    "duration": 4,
    "start_time": "2022-03-24T17:24:15.716Z"
   },
   {
    "duration": 4,
    "start_time": "2022-03-24T17:24:19.071Z"
   },
   {
    "duration": 4,
    "start_time": "2022-03-24T17:24:27.330Z"
   },
   {
    "duration": 20,
    "start_time": "2022-03-24T17:24:30.580Z"
   },
   {
    "duration": 9,
    "start_time": "2022-03-24T17:25:11.542Z"
   },
   {
    "duration": 3,
    "start_time": "2022-03-24T17:25:43.202Z"
   },
   {
    "duration": 4,
    "start_time": "2022-03-24T17:25:47.999Z"
   },
   {
    "duration": 4,
    "start_time": "2022-03-24T17:25:49.830Z"
   },
   {
    "duration": 18,
    "start_time": "2022-03-24T17:25:52.630Z"
   },
   {
    "duration": 3,
    "start_time": "2022-03-24T17:26:56.676Z"
   },
   {
    "duration": 273,
    "start_time": "2022-03-24T17:26:56.681Z"
   },
   {
    "duration": 1843,
    "start_time": "2022-03-24T17:26:56.955Z"
   },
   {
    "duration": 1936,
    "start_time": "2022-03-24T17:26:58.799Z"
   },
   {
    "duration": 14,
    "start_time": "2022-03-24T17:27:00.737Z"
   },
   {
    "duration": 25,
    "start_time": "2022-03-24T17:27:00.753Z"
   },
   {
    "duration": 26,
    "start_time": "2022-03-24T17:27:00.780Z"
   },
   {
    "duration": 125,
    "start_time": "2022-03-24T17:27:00.808Z"
   },
   {
    "duration": 7,
    "start_time": "2022-03-24T17:27:00.935Z"
   },
   {
    "duration": 33,
    "start_time": "2022-03-24T17:27:00.943Z"
   },
   {
    "duration": 63,
    "start_time": "2022-03-24T17:27:00.977Z"
   },
   {
    "duration": 15,
    "start_time": "2022-03-24T17:27:01.132Z"
   },
   {
    "duration": 188,
    "start_time": "2022-03-24T17:27:01.151Z"
   },
   {
    "duration": 95,
    "start_time": "2022-03-24T17:27:01.341Z"
   },
   {
    "duration": 3,
    "start_time": "2022-03-24T17:27:04.416Z"
   },
   {
    "duration": 13,
    "start_time": "2022-03-24T17:27:09.676Z"
   },
   {
    "duration": 11,
    "start_time": "2022-03-24T17:27:10.788Z"
   },
   {
    "duration": 11,
    "start_time": "2022-03-24T17:27:11.737Z"
   },
   {
    "duration": 11,
    "start_time": "2022-03-24T17:27:12.718Z"
   },
   {
    "duration": 5,
    "start_time": "2022-03-24T17:27:22.974Z"
   },
   {
    "duration": 3,
    "start_time": "2022-03-24T17:27:34.002Z"
   },
   {
    "duration": 5,
    "start_time": "2022-03-24T17:27:41.556Z"
   },
   {
    "duration": 3,
    "start_time": "2022-03-24T17:27:43.387Z"
   },
   {
    "duration": 4,
    "start_time": "2022-03-24T17:27:44.946Z"
   },
   {
    "duration": 18,
    "start_time": "2022-03-24T17:27:47.318Z"
   },
   {
    "duration": 3,
    "start_time": "2022-03-24T17:28:24.831Z"
   },
   {
    "duration": 4,
    "start_time": "2022-03-24T17:28:26.655Z"
   },
   {
    "duration": 751,
    "start_time": "2022-03-24T17:28:28.103Z"
   },
   {
    "duration": 4,
    "start_time": "2022-03-24T17:29:49.486Z"
   },
   {
    "duration": 2136,
    "start_time": "2022-03-24T17:29:50.644Z"
   },
   {
    "duration": 2154,
    "start_time": "2022-03-24T17:29:56.182Z"
   },
   {
    "duration": 2239,
    "start_time": "2022-03-24T17:29:59.474Z"
   },
   {
    "duration": 2208,
    "start_time": "2022-03-24T17:30:08.750Z"
   },
   {
    "duration": 80,
    "start_time": "2022-03-24T17:33:17.373Z"
   },
   {
    "duration": 81,
    "start_time": "2022-03-24T17:34:21.525Z"
   },
   {
    "duration": 1094,
    "start_time": "2022-03-24T17:35:00.484Z"
   },
   {
    "duration": 489,
    "start_time": "2022-03-24T17:35:01.580Z"
   },
   {
    "duration": 1345,
    "start_time": "2022-03-24T17:35:02.070Z"
   },
   {
    "duration": 238,
    "start_time": "2022-03-24T17:35:03.416Z"
   },
   {
    "duration": 22,
    "start_time": "2022-03-24T17:35:03.656Z"
   },
   {
    "duration": 18,
    "start_time": "2022-03-24T17:35:03.680Z"
   },
   {
    "duration": 35,
    "start_time": "2022-03-24T17:35:03.700Z"
   },
   {
    "duration": 142,
    "start_time": "2022-03-24T17:35:03.737Z"
   },
   {
    "duration": 7,
    "start_time": "2022-03-24T17:35:03.881Z"
   },
   {
    "duration": 43,
    "start_time": "2022-03-24T17:35:03.890Z"
   },
   {
    "duration": 25,
    "start_time": "2022-03-24T17:35:03.935Z"
   },
   {
    "duration": 106,
    "start_time": "2022-03-24T17:35:04.035Z"
   },
   {
    "duration": 194,
    "start_time": "2022-03-24T17:35:04.143Z"
   },
   {
    "duration": 95,
    "start_time": "2022-03-24T17:35:04.341Z"
   },
   {
    "duration": 96,
    "start_time": "2022-03-24T17:35:04.439Z"
   },
   {
    "duration": 16,
    "start_time": "2022-03-24T17:35:04.536Z"
   },
   {
    "duration": 9,
    "start_time": "2022-03-24T17:35:04.554Z"
   },
   {
    "duration": 11,
    "start_time": "2022-03-24T17:35:04.565Z"
   },
   {
    "duration": 12,
    "start_time": "2022-03-24T17:35:04.577Z"
   },
   {
    "duration": 4,
    "start_time": "2022-03-24T17:35:04.590Z"
   },
   {
    "duration": 39,
    "start_time": "2022-03-24T17:35:04.595Z"
   },
   {
    "duration": 113,
    "start_time": "2022-03-24T17:35:04.636Z"
   },
   {
    "duration": 4,
    "start_time": "2022-03-24T17:36:21.494Z"
   },
   {
    "duration": 5,
    "start_time": "2022-03-24T17:36:23.555Z"
   },
   {
    "duration": 2202,
    "start_time": "2022-03-24T17:36:25.253Z"
   },
   {
    "duration": 101,
    "start_time": "2022-03-24T17:41:38.163Z"
   }
  ],
  "kernelspec": {
   "display_name": "Python 3 (ipykernel)",
   "language": "python",
   "name": "python3"
  },
  "language_info": {
   "codemirror_mode": {
    "name": "ipython",
    "version": 3
   },
   "file_extension": ".py",
   "mimetype": "text/x-python",
   "name": "python",
   "nbconvert_exporter": "python",
   "pygments_lexer": "ipython3",
   "version": "3.9.7"
  },
  "toc": {
   "base_numbering": 1,
   "nav_menu": {},
   "number_sections": true,
   "sideBar": true,
   "skip_h1_title": true,
   "title_cell": "Table of Contents",
   "title_sidebar": "Contents",
   "toc_cell": false,
   "toc_position": {},
   "toc_section_display": true,
   "toc_window_display": false
  }
 },
 "nbformat": 4,
 "nbformat_minor": 2
}
