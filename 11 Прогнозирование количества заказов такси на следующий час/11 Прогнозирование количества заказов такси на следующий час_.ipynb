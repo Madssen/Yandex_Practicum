{
 "cells": [
  {
   "cell_type": "markdown",
   "metadata": {
    "toc": true
   },
   "source": [
    "<h1>Содержание<span class=\"tocSkip\"></span></h1>\n",
    "<div class=\"toc\"><ul class=\"toc-item\"><li><span><a href=\"#Подготовка\" data-toc-modified-id=\"Подготовка-1\"><span class=\"toc-item-num\">1&nbsp;&nbsp;</span>Подготовка</a></span></li><li><span><a href=\"#Анализ\" data-toc-modified-id=\"Анализ-2\"><span class=\"toc-item-num\">2&nbsp;&nbsp;</span>Анализ</a></span></li><li><span><a href=\"#Обучение\" data-toc-modified-id=\"Обучение-3\"><span class=\"toc-item-num\">3&nbsp;&nbsp;</span>Обучение</a></span><ul class=\"toc-item\"><li><span><a href=\"#LinearRegression\" data-toc-modified-id=\"LinearRegression-3.1\"><span class=\"toc-item-num\">3.1&nbsp;&nbsp;</span>LinearRegression</a></span></li><li><span><a href=\"#Catboost\" data-toc-modified-id=\"Catboost-3.2\"><span class=\"toc-item-num\">3.2&nbsp;&nbsp;</span>Catboost</a></span></li><li><span><a href=\"#XGBoost\" data-toc-modified-id=\"XGBoost-3.3\"><span class=\"toc-item-num\">3.3&nbsp;&nbsp;</span>XGBoost</a></span></li><li><span><a href=\"#Random-Forest\" data-toc-modified-id=\"Random-Forest-3.4\"><span class=\"toc-item-num\">3.4&nbsp;&nbsp;</span>Random Forest</a></span></li><li><span><a href=\"#LGBMRegressor\" data-toc-modified-id=\"LGBMRegressor-3.5\"><span class=\"toc-item-num\">3.5&nbsp;&nbsp;</span>LGBMRegressor</a></span></li></ul></li><li><span><a href=\"#Тестирование\" data-toc-modified-id=\"Тестирование-4\"><span class=\"toc-item-num\">4&nbsp;&nbsp;</span>Тестирование</a></span></li><li><span><a href=\"#Чек-лист-проверки\" data-toc-modified-id=\"Чек-лист-проверки-5\"><span class=\"toc-item-num\">5&nbsp;&nbsp;</span>Чек-лист проверки</a></span></li></ul></div>"
   ]
  },
  {
   "cell_type": "markdown",
   "metadata": {},
   "source": [
    "#  Прогнозирование заказов такси"
   ]
  },
  {
   "cell_type": "markdown",
   "metadata": {},
   "source": [
    "Компания «Чётенькое такси» собрала исторические данные о заказах такси в аэропортах. Чтобы привлекать больше водителей в период пиковой нагрузки, нужно спрогнозировать количество заказов такси на следующий час. Постройте модель для такого предсказания.\n",
    "\n",
    "Значение метрики *RMSE* на тестовой выборке должно быть не больше 48.\n",
    "\n",
    "Вам нужно:\n",
    "\n",
    "1. Загрузить данные и выполнить их ресемплирование по одному часу.\n",
    "2. Проанализировать данные.\n",
    "3. Обучить разные модели с различными гиперпараметрами. Сделать тестовую выборку размером 10% от исходных данных.\n",
    "4. Проверить данные на тестовой выборке и сделать выводы.\n",
    "\n",
    "\n",
    "Данные лежат в файле `taxi.csv`. Количество заказов находится в столбце `num_orders` (от англ. *number of orders*, «число заказов»)."
   ]
  },
  {
   "cell_type": "markdown",
   "metadata": {},
   "source": [
    "## Подготовка"
   ]
  },
  {
   "cell_type": "code",
   "execution_count": 1,
   "metadata": {},
   "outputs": [],
   "source": [
    "import pandas as pd\n",
    "import numpy as np\n",
    "import matplotlib.pyplot as plt\n",
    "from statsmodels.tsa.seasonal import seasonal_decompose\n",
    "\n",
    "from sklearn.model_selection import train_test_split\n",
    "from sklearn.model_selection import cross_val_score\n",
    "from sklearn.linear_model import LinearRegression\n",
    "from sklearn.metrics import mean_absolute_error, mean_absolute_percentage_error\n",
    "from sklearn.metrics import mean_squared_error\n",
    "from catboost import CatBoostRegressor\n",
    "from catboost import cv, Pool\n",
    "from xgboost import XGBRegressor as xgb\n",
    "from sklearn.model_selection import TimeSeriesSplit\n",
    "from sklearn.model_selection import GridSearchCV\n"
   ]
  },
  {
   "cell_type": "code",
   "execution_count": 2,
   "metadata": {},
   "outputs": [
    {
     "data": {
      "text/html": [
       "<div>\n",
       "<style scoped>\n",
       "    .dataframe tbody tr th:only-of-type {\n",
       "        vertical-align: middle;\n",
       "    }\n",
       "\n",
       "    .dataframe tbody tr th {\n",
       "        vertical-align: top;\n",
       "    }\n",
       "\n",
       "    .dataframe thead th {\n",
       "        text-align: right;\n",
       "    }\n",
       "</style>\n",
       "<table border=\"1\" class=\"dataframe\">\n",
       "  <thead>\n",
       "    <tr style=\"text-align: right;\">\n",
       "      <th></th>\n",
       "      <th>datetime</th>\n",
       "      <th>num_orders</th>\n",
       "    </tr>\n",
       "  </thead>\n",
       "  <tbody>\n",
       "    <tr>\n",
       "      <th>0</th>\n",
       "      <td>2018-03-01 00:00:00</td>\n",
       "      <td>9</td>\n",
       "    </tr>\n",
       "    <tr>\n",
       "      <th>1</th>\n",
       "      <td>2018-03-01 00:10:00</td>\n",
       "      <td>14</td>\n",
       "    </tr>\n",
       "    <tr>\n",
       "      <th>2</th>\n",
       "      <td>2018-03-01 00:20:00</td>\n",
       "      <td>28</td>\n",
       "    </tr>\n",
       "    <tr>\n",
       "      <th>3</th>\n",
       "      <td>2018-03-01 00:30:00</td>\n",
       "      <td>20</td>\n",
       "    </tr>\n",
       "    <tr>\n",
       "      <th>4</th>\n",
       "      <td>2018-03-01 00:40:00</td>\n",
       "      <td>32</td>\n",
       "    </tr>\n",
       "  </tbody>\n",
       "</table>\n",
       "</div>"
      ],
      "text/plain": [
       "              datetime  num_orders\n",
       "0  2018-03-01 00:00:00           9\n",
       "1  2018-03-01 00:10:00          14\n",
       "2  2018-03-01 00:20:00          28\n",
       "3  2018-03-01 00:30:00          20\n",
       "4  2018-03-01 00:40:00          32"
      ]
     },
     "execution_count": 2,
     "metadata": {},
     "output_type": "execute_result"
    }
   ],
   "source": [
    "df = pd.read_csv('https://code.s3.yandex.net/datasets/taxi.csv')\n",
    "df.head()"
   ]
  },
  {
   "cell_type": "markdown",
   "metadata": {},
   "source": [
    "Рассматриваем данные. Интервал - 10минут.\n",
    "\n",
    "Преобразуем столбец datetime в индекс:"
   ]
  },
  {
   "cell_type": "code",
   "execution_count": 3,
   "metadata": {},
   "outputs": [],
   "source": [
    "df = pd.read_csv('https://code.s3.yandex.net/datasets/taxi.csv', parse_dates=[0], index_col='datetime')"
   ]
  },
  {
   "cell_type": "code",
   "execution_count": 4,
   "metadata": {},
   "outputs": [],
   "source": [
    "df = df.sort_index()"
   ]
  },
  {
   "cell_type": "code",
   "execution_count": 5,
   "metadata": {},
   "outputs": [
    {
     "data": {
      "text/plain": [
       "True"
      ]
     },
     "execution_count": 5,
     "metadata": {},
     "output_type": "execute_result"
    }
   ],
   "source": [
    "df.index.is_monotonic"
   ]
  },
  {
   "cell_type": "code",
   "execution_count": 6,
   "metadata": {},
   "outputs": [
    {
     "data": {
      "text/plain": [
       "num_orders    0\n",
       "dtype: int64"
      ]
     },
     "execution_count": 6,
     "metadata": {},
     "output_type": "execute_result"
    }
   ],
   "source": [
    "df.isna().sum()"
   ]
  },
  {
   "cell_type": "markdown",
   "metadata": {},
   "source": [
    "Пропусков в данных нет, тип данных - int. Можем двигаться дальше."
   ]
  },
  {
   "cell_type": "markdown",
   "metadata": {},
   "source": [
    "## Анализ"
   ]
  },
  {
   "cell_type": "markdown",
   "metadata": {},
   "source": [
    "Рассмотрим сначала общую картину:"
   ]
  },
  {
   "cell_type": "code",
   "execution_count": 7,
   "metadata": {},
   "outputs": [
    {
     "data": {
      "text/plain": [
       "<AxesSubplot:xlabel='datetime'>"
      ]
     },
     "execution_count": 7,
     "metadata": {},
     "output_type": "execute_result"
    },
    {
     "data": {
      "image/png": "[encoded data removed]",
      "text/plain": [
       "<Figure size 1440x720 with 1 Axes>"
      ]
     },
     "metadata": {
      "needs_background": "light"
     },
     "output_type": "display_data"
    }
   ],
   "source": [
    "df.plot(figsize=(20,10))"
   ]
  },
  {
   "cell_type": "markdown",
   "metadata": {},
   "source": [
    "Так как интервал у нас изначально - 10мин, график очень плотный, детали по нему не очень понятня. Но в целом можем наблюдать увеличение заказов к сентябрю. Приложение становится популярным."
   ]
  },
  {
   "cell_type": "markdown",
   "metadata": {},
   "source": [
    "Сделаем ресемплирование по одному часу."
   ]
  },
  {
   "cell_type": "code",
   "execution_count": 8,
   "metadata": {
    "scrolled": false
   },
   "outputs": [
    {
     "data": {
      "text/plain": [
       "<AxesSubplot:xlabel='datetime'>"
      ]
     },
     "execution_count": 8,
     "metadata": {},
     "output_type": "execute_result"
    },
    {
     "data": {
      "image/png": "[encoded data removed]",
      "text/plain": [
       "<Figure size 1440x720 with 1 Axes>"
      ]
     },
     "metadata": {
      "needs_background": "light"
     },
     "output_type": "display_data"
    }
   ],
   "source": [
    "df = df.resample('1H').sum()\n",
    "df.plot(figsize=(20,10))"
   ]
  },
  {
   "cell_type": "markdown",
   "metadata": {},
   "source": [
    "Разобьем дату на неделю и час для дальнейшего анализа"
   ]
  },
  {
   "cell_type": "code",
   "execution_count": 9,
   "metadata": {},
   "outputs": [],
   "source": [
    "df[\"hour\"] = df.index.hour\n",
    "df[\"weekday\"] = df.index.weekday"
   ]
  },
  {
   "cell_type": "code",
   "execution_count": 10,
   "metadata": {},
   "outputs": [
    {
     "data": {
      "text/html": [
       "<div>\n",
       "<style scoped>\n",
       "    .dataframe tbody tr th:only-of-type {\n",
       "        vertical-align: middle;\n",
       "    }\n",
       "\n",
       "    .dataframe tbody tr th {\n",
       "        vertical-align: top;\n",
       "    }\n",
       "\n",
       "    .dataframe thead th {\n",
       "        text-align: right;\n",
       "    }\n",
       "</style>\n",
       "<table border=\"1\" class=\"dataframe\">\n",
       "  <thead>\n",
       "    <tr style=\"text-align: right;\">\n",
       "      <th></th>\n",
       "      <th>num_orders</th>\n",
       "      <th>hour</th>\n",
       "      <th>weekday</th>\n",
       "    </tr>\n",
       "    <tr>\n",
       "      <th>datetime</th>\n",
       "      <th></th>\n",
       "      <th></th>\n",
       "      <th></th>\n",
       "    </tr>\n",
       "  </thead>\n",
       "  <tbody>\n",
       "    <tr>\n",
       "      <th>2018-03-01 00:00:00</th>\n",
       "      <td>124</td>\n",
       "      <td>0</td>\n",
       "      <td>3</td>\n",
       "    </tr>\n",
       "    <tr>\n",
       "      <th>2018-03-01 01:00:00</th>\n",
       "      <td>85</td>\n",
       "      <td>1</td>\n",
       "      <td>3</td>\n",
       "    </tr>\n",
       "    <tr>\n",
       "      <th>2018-03-01 02:00:00</th>\n",
       "      <td>71</td>\n",
       "      <td>2</td>\n",
       "      <td>3</td>\n",
       "    </tr>\n",
       "    <tr>\n",
       "      <th>2018-03-01 03:00:00</th>\n",
       "      <td>66</td>\n",
       "      <td>3</td>\n",
       "      <td>3</td>\n",
       "    </tr>\n",
       "    <tr>\n",
       "      <th>2018-03-01 04:00:00</th>\n",
       "      <td>43</td>\n",
       "      <td>4</td>\n",
       "      <td>3</td>\n",
       "    </tr>\n",
       "    <tr>\n",
       "      <th>...</th>\n",
       "      <td>...</td>\n",
       "      <td>...</td>\n",
       "      <td>...</td>\n",
       "    </tr>\n",
       "    <tr>\n",
       "      <th>2018-08-31 19:00:00</th>\n",
       "      <td>136</td>\n",
       "      <td>19</td>\n",
       "      <td>4</td>\n",
       "    </tr>\n",
       "    <tr>\n",
       "      <th>2018-08-31 20:00:00</th>\n",
       "      <td>154</td>\n",
       "      <td>20</td>\n",
       "      <td>4</td>\n",
       "    </tr>\n",
       "    <tr>\n",
       "      <th>2018-08-31 21:00:00</th>\n",
       "      <td>159</td>\n",
       "      <td>21</td>\n",
       "      <td>4</td>\n",
       "    </tr>\n",
       "    <tr>\n",
       "      <th>2018-08-31 22:00:00</th>\n",
       "      <td>223</td>\n",
       "      <td>22</td>\n",
       "      <td>4</td>\n",
       "    </tr>\n",
       "    <tr>\n",
       "      <th>2018-08-31 23:00:00</th>\n",
       "      <td>205</td>\n",
       "      <td>23</td>\n",
       "      <td>4</td>\n",
       "    </tr>\n",
       "  </tbody>\n",
       "</table>\n",
       "<p>4416 rows × 3 columns</p>\n",
       "</div>"
      ],
      "text/plain": [
       "                     num_orders  hour  weekday\n",
       "datetime                                      \n",
       "2018-03-01 00:00:00         124     0        3\n",
       "2018-03-01 01:00:00          85     1        3\n",
       "2018-03-01 02:00:00          71     2        3\n",
       "2018-03-01 03:00:00          66     3        3\n",
       "2018-03-01 04:00:00          43     4        3\n",
       "...                         ...   ...      ...\n",
       "2018-08-31 19:00:00         136    19        4\n",
       "2018-08-31 20:00:00         154    20        4\n",
       "2018-08-31 21:00:00         159    21        4\n",
       "2018-08-31 22:00:00         223    22        4\n",
       "2018-08-31 23:00:00         205    23        4\n",
       "\n",
       "[4416 rows x 3 columns]"
      ]
     },
     "execution_count": 10,
     "metadata": {},
     "output_type": "execute_result"
    }
   ],
   "source": [
    "df"
   ]
  },
  {
   "cell_type": "markdown",
   "metadata": {},
   "source": [
    "Проанализируем взаимосвязь часа и количества заказов:"
   ]
  },
  {
   "cell_type": "code",
   "execution_count": 11,
   "metadata": {},
   "outputs": [
    {
     "data": {
      "image/png": "[encoded data removed]",
      "text/plain": [
       "<Figure size 432x288 with 1 Axes>"
      ]
     },
     "metadata": {
      "needs_background": "light"
     },
     "output_type": "display_data"
    }
   ],
   "source": [
    "df.groupby('hour')['num_orders'].agg('sum').plot()\n",
    "plt.grid()"
   ]
  },
  {
   "cell_type": "code",
   "execution_count": 12,
   "metadata": {},
   "outputs": [
    {
     "data": {
      "text/plain": [
       "hour\n",
       "0     26570\n",
       "16    21003\n",
       "2     20805\n",
       "23    20197\n",
       "1     19203\n",
       "3     18772\n",
       "22    18124\n",
       "21    17519\n",
       "10    17134\n",
       "17    17061\n",
       "9     16345\n",
       "15    16182\n",
       "4     15991\n",
       "11    15178\n",
       "20    15062\n",
       "19    14230\n",
       "14    13830\n",
       "8     13441\n",
       "13    13096\n",
       "18    12762\n",
       "12    12444\n",
       "5      7844\n",
       "7      5386\n",
       "6      4632\n",
       "Name: num_orders, dtype: int64"
      ]
     },
     "execution_count": 12,
     "metadata": {},
     "output_type": "execute_result"
    }
   ],
   "source": [
    "df.groupby('hour')['num_orders'].agg('sum').sort_values(ascending=False)"
   ]
  },
  {
   "cell_type": "markdown",
   "metadata": {},
   "source": [
    "Пиковые часы: 0, 16, 2, 23, 1\n",
    "\n",
    "Самые спокойные: 5, 6, 7\n",
    "\n",
    "Стоит их выделить в отдельные фичи."
   ]
  },
  {
   "cell_type": "markdown",
   "metadata": {},
   "source": [
    "Теперь проверим взаимосвязь дня недели и количества заказов за этот день:"
   ]
  },
  {
   "cell_type": "code",
   "execution_count": 13,
   "metadata": {},
   "outputs": [
    {
     "data": {
      "image/png": "[encoded data removed]",
      "text/plain": [
       "<Figure size 432x288 with 1 Axes>"
      ]
     },
     "metadata": {
      "needs_background": "light"
     },
     "output_type": "display_data"
    }
   ],
   "source": [
    "df.groupby('weekday')['num_orders'].agg('sum').plot()\n",
    "plt.grid()"
   ]
  },
  {
   "cell_type": "code",
   "execution_count": 14,
   "metadata": {},
   "outputs": [
    {
     "data": {
      "text/plain": [
       "weekday\n",
       "4    59059\n",
       "0    56314\n",
       "3    55508\n",
       "5    52321\n",
       "2    52263\n",
       "6    49291\n",
       "1    48055\n",
       "Name: num_orders, dtype: int64"
      ]
     },
     "execution_count": 14,
     "metadata": {},
     "output_type": "execute_result"
    }
   ],
   "source": [
    "df.groupby('weekday')['num_orders'].agg('sum').sort_values(ascending=False)"
   ]
  },
  {
   "cell_type": "markdown",
   "metadata": {},
   "source": [
    "Итак, самый активный день: пятница, стоит выделить ее отдельной фичой"
   ]
  },
  {
   "cell_type": "markdown",
   "metadata": {},
   "source": [
    "***Функция для новых фичей***"
   ]
  },
  {
   "cell_type": "code",
   "execution_count": 15,
   "metadata": {},
   "outputs": [],
   "source": [
    "def make_features(data, max_lag, rolling_mean_size):\n",
    "    df['is_friday'] = df.weekday.isin([4])*1\n",
    "    df['is_peak_hour'] = df.hour.isin([0, 16, 2, 23])*1 \n",
    "    df['is_down_hour'] = df.hour.isin([6, 7])*1\n",
    "    \n",
    "    for lag in range(1, max_lag + 1):\n",
    "        data['lag_{}'.format(lag)] = data.iloc[:, 0].shift(lag)\n",
    "\n",
    "    data['rolling_mean'] = data.iloc[:, 0].shift().rolling(rolling_mean_size).mean() "
   ]
  },
  {
   "cell_type": "code",
   "execution_count": 16,
   "metadata": {},
   "outputs": [],
   "source": [
    "make_features(df, 5, 5)"
   ]
  },
  {
   "cell_type": "code",
   "execution_count": 17,
   "metadata": {},
   "outputs": [
    {
     "data": {
      "text/html": [
       "<div>\n",
       "<style scoped>\n",
       "    .dataframe tbody tr th:only-of-type {\n",
       "        vertical-align: middle;\n",
       "    }\n",
       "\n",
       "    .dataframe tbody tr th {\n",
       "        vertical-align: top;\n",
       "    }\n",
       "\n",
       "    .dataframe thead th {\n",
       "        text-align: right;\n",
       "    }\n",
       "</style>\n",
       "<table border=\"1\" class=\"dataframe\">\n",
       "  <thead>\n",
       "    <tr style=\"text-align: right;\">\n",
       "      <th></th>\n",
       "      <th>num_orders</th>\n",
       "      <th>hour</th>\n",
       "      <th>weekday</th>\n",
       "      <th>is_friday</th>\n",
       "      <th>is_peak_hour</th>\n",
       "      <th>is_down_hour</th>\n",
       "      <th>lag_1</th>\n",
       "      <th>lag_2</th>\n",
       "      <th>lag_3</th>\n",
       "      <th>lag_4</th>\n",
       "      <th>lag_5</th>\n",
       "      <th>rolling_mean</th>\n",
       "    </tr>\n",
       "    <tr>\n",
       "      <th>datetime</th>\n",
       "      <th></th>\n",
       "      <th></th>\n",
       "      <th></th>\n",
       "      <th></th>\n",
       "      <th></th>\n",
       "      <th></th>\n",
       "      <th></th>\n",
       "      <th></th>\n",
       "      <th></th>\n",
       "      <th></th>\n",
       "      <th></th>\n",
       "      <th></th>\n",
       "    </tr>\n",
       "  </thead>\n",
       "  <tbody>\n",
       "    <tr>\n",
       "      <th>2018-03-01 00:00:00</th>\n",
       "      <td>124</td>\n",
       "      <td>0</td>\n",
       "      <td>3</td>\n",
       "      <td>0</td>\n",
       "      <td>1</td>\n",
       "      <td>0</td>\n",
       "      <td>NaN</td>\n",
       "      <td>NaN</td>\n",
       "      <td>NaN</td>\n",
       "      <td>NaN</td>\n",
       "      <td>NaN</td>\n",
       "      <td>NaN</td>\n",
       "    </tr>\n",
       "    <tr>\n",
       "      <th>2018-03-01 01:00:00</th>\n",
       "      <td>85</td>\n",
       "      <td>1</td>\n",
       "      <td>3</td>\n",
       "      <td>0</td>\n",
       "      <td>0</td>\n",
       "      <td>0</td>\n",
       "      <td>124.0</td>\n",
       "      <td>NaN</td>\n",
       "      <td>NaN</td>\n",
       "      <td>NaN</td>\n",
       "      <td>NaN</td>\n",
       "      <td>NaN</td>\n",
       "    </tr>\n",
       "    <tr>\n",
       "      <th>2018-03-01 02:00:00</th>\n",
       "      <td>71</td>\n",
       "      <td>2</td>\n",
       "      <td>3</td>\n",
       "      <td>0</td>\n",
       "      <td>1</td>\n",
       "      <td>0</td>\n",
       "      <td>85.0</td>\n",
       "      <td>124.0</td>\n",
       "      <td>NaN</td>\n",
       "      <td>NaN</td>\n",
       "      <td>NaN</td>\n",
       "      <td>NaN</td>\n",
       "    </tr>\n",
       "    <tr>\n",
       "      <th>2018-03-01 03:00:00</th>\n",
       "      <td>66</td>\n",
       "      <td>3</td>\n",
       "      <td>3</td>\n",
       "      <td>0</td>\n",
       "      <td>0</td>\n",
       "      <td>0</td>\n",
       "      <td>71.0</td>\n",
       "      <td>85.0</td>\n",
       "      <td>124.0</td>\n",
       "      <td>NaN</td>\n",
       "      <td>NaN</td>\n",
       "      <td>NaN</td>\n",
       "    </tr>\n",
       "    <tr>\n",
       "      <th>2018-03-01 04:00:00</th>\n",
       "      <td>43</td>\n",
       "      <td>4</td>\n",
       "      <td>3</td>\n",
       "      <td>0</td>\n",
       "      <td>0</td>\n",
       "      <td>0</td>\n",
       "      <td>66.0</td>\n",
       "      <td>71.0</td>\n",
       "      <td>85.0</td>\n",
       "      <td>124.0</td>\n",
       "      <td>NaN</td>\n",
       "      <td>NaN</td>\n",
       "    </tr>\n",
       "  </tbody>\n",
       "</table>\n",
       "</div>"
      ],
      "text/plain": [
       "                     num_orders  hour  weekday  is_friday  is_peak_hour  \\\n",
       "datetime                                                                  \n",
       "2018-03-01 00:00:00         124     0        3          0             1   \n",
       "2018-03-01 01:00:00          85     1        3          0             0   \n",
       "2018-03-01 02:00:00          71     2        3          0             1   \n",
       "2018-03-01 03:00:00          66     3        3          0             0   \n",
       "2018-03-01 04:00:00          43     4        3          0             0   \n",
       "\n",
       "                     is_down_hour  lag_1  lag_2  lag_3  lag_4  lag_5  \\\n",
       "datetime                                                               \n",
       "2018-03-01 00:00:00             0    NaN    NaN    NaN    NaN    NaN   \n",
       "2018-03-01 01:00:00             0  124.0    NaN    NaN    NaN    NaN   \n",
       "2018-03-01 02:00:00             0   85.0  124.0    NaN    NaN    NaN   \n",
       "2018-03-01 03:00:00             0   71.0   85.0  124.0    NaN    NaN   \n",
       "2018-03-01 04:00:00             0   66.0   71.0   85.0  124.0    NaN   \n",
       "\n",
       "                     rolling_mean  \n",
       "datetime                           \n",
       "2018-03-01 00:00:00           NaN  \n",
       "2018-03-01 01:00:00           NaN  \n",
       "2018-03-01 02:00:00           NaN  \n",
       "2018-03-01 03:00:00           NaN  \n",
       "2018-03-01 04:00:00           NaN  "
      ]
     },
     "execution_count": 17,
     "metadata": {},
     "output_type": "execute_result"
    }
   ],
   "source": [
    "df.head()"
   ]
  },
  {
   "cell_type": "code",
   "execution_count": 18,
   "metadata": {},
   "outputs": [],
   "source": [
    "df = df.dropna()"
   ]
  },
  {
   "cell_type": "code",
   "execution_count": 19,
   "metadata": {},
   "outputs": [
    {
     "data": {
      "text/html": [
       "<div>\n",
       "<style scoped>\n",
       "    .dataframe tbody tr th:only-of-type {\n",
       "        vertical-align: middle;\n",
       "    }\n",
       "\n",
       "    .dataframe tbody tr th {\n",
       "        vertical-align: top;\n",
       "    }\n",
       "\n",
       "    .dataframe thead th {\n",
       "        text-align: right;\n",
       "    }\n",
       "</style>\n",
       "<table border=\"1\" class=\"dataframe\">\n",
       "  <thead>\n",
       "    <tr style=\"text-align: right;\">\n",
       "      <th></th>\n",
       "      <th>num_orders</th>\n",
       "      <th>hour</th>\n",
       "      <th>weekday</th>\n",
       "      <th>is_friday</th>\n",
       "      <th>is_peak_hour</th>\n",
       "      <th>is_down_hour</th>\n",
       "      <th>lag_1</th>\n",
       "      <th>lag_2</th>\n",
       "      <th>lag_3</th>\n",
       "      <th>lag_4</th>\n",
       "      <th>lag_5</th>\n",
       "      <th>rolling_mean</th>\n",
       "    </tr>\n",
       "    <tr>\n",
       "      <th>datetime</th>\n",
       "      <th></th>\n",
       "      <th></th>\n",
       "      <th></th>\n",
       "      <th></th>\n",
       "      <th></th>\n",
       "      <th></th>\n",
       "      <th></th>\n",
       "      <th></th>\n",
       "      <th></th>\n",
       "      <th></th>\n",
       "      <th></th>\n",
       "      <th></th>\n",
       "    </tr>\n",
       "  </thead>\n",
       "  <tbody>\n",
       "    <tr>\n",
       "      <th>2018-03-01 05:00:00</th>\n",
       "      <td>6</td>\n",
       "      <td>5</td>\n",
       "      <td>3</td>\n",
       "      <td>0</td>\n",
       "      <td>0</td>\n",
       "      <td>0</td>\n",
       "      <td>43.0</td>\n",
       "      <td>66.0</td>\n",
       "      <td>71.0</td>\n",
       "      <td>85.0</td>\n",
       "      <td>124.0</td>\n",
       "      <td>77.8</td>\n",
       "    </tr>\n",
       "    <tr>\n",
       "      <th>2018-03-01 06:00:00</th>\n",
       "      <td>12</td>\n",
       "      <td>6</td>\n",
       "      <td>3</td>\n",
       "      <td>0</td>\n",
       "      <td>0</td>\n",
       "      <td>1</td>\n",
       "      <td>6.0</td>\n",
       "      <td>43.0</td>\n",
       "      <td>66.0</td>\n",
       "      <td>71.0</td>\n",
       "      <td>85.0</td>\n",
       "      <td>54.2</td>\n",
       "    </tr>\n",
       "    <tr>\n",
       "      <th>2018-03-01 07:00:00</th>\n",
       "      <td>15</td>\n",
       "      <td>7</td>\n",
       "      <td>3</td>\n",
       "      <td>0</td>\n",
       "      <td>0</td>\n",
       "      <td>1</td>\n",
       "      <td>12.0</td>\n",
       "      <td>6.0</td>\n",
       "      <td>43.0</td>\n",
       "      <td>66.0</td>\n",
       "      <td>71.0</td>\n",
       "      <td>39.6</td>\n",
       "    </tr>\n",
       "    <tr>\n",
       "      <th>2018-03-01 08:00:00</th>\n",
       "      <td>34</td>\n",
       "      <td>8</td>\n",
       "      <td>3</td>\n",
       "      <td>0</td>\n",
       "      <td>0</td>\n",
       "      <td>0</td>\n",
       "      <td>15.0</td>\n",
       "      <td>12.0</td>\n",
       "      <td>6.0</td>\n",
       "      <td>43.0</td>\n",
       "      <td>66.0</td>\n",
       "      <td>28.4</td>\n",
       "    </tr>\n",
       "    <tr>\n",
       "      <th>2018-03-01 09:00:00</th>\n",
       "      <td>69</td>\n",
       "      <td>9</td>\n",
       "      <td>3</td>\n",
       "      <td>0</td>\n",
       "      <td>0</td>\n",
       "      <td>0</td>\n",
       "      <td>34.0</td>\n",
       "      <td>15.0</td>\n",
       "      <td>12.0</td>\n",
       "      <td>6.0</td>\n",
       "      <td>43.0</td>\n",
       "      <td>22.0</td>\n",
       "    </tr>\n",
       "  </tbody>\n",
       "</table>\n",
       "</div>"
      ],
      "text/plain": [
       "                     num_orders  hour  weekday  is_friday  is_peak_hour  \\\n",
       "datetime                                                                  \n",
       "2018-03-01 05:00:00           6     5        3          0             0   \n",
       "2018-03-01 06:00:00          12     6        3          0             0   \n",
       "2018-03-01 07:00:00          15     7        3          0             0   \n",
       "2018-03-01 08:00:00          34     8        3          0             0   \n",
       "2018-03-01 09:00:00          69     9        3          0             0   \n",
       "\n",
       "                     is_down_hour  lag_1  lag_2  lag_3  lag_4  lag_5  \\\n",
       "datetime                                                               \n",
       "2018-03-01 05:00:00             0   43.0   66.0   71.0   85.0  124.0   \n",
       "2018-03-01 06:00:00             1    6.0   43.0   66.0   71.0   85.0   \n",
       "2018-03-01 07:00:00             1   12.0    6.0   43.0   66.0   71.0   \n",
       "2018-03-01 08:00:00             0   15.0   12.0    6.0   43.0   66.0   \n",
       "2018-03-01 09:00:00             0   34.0   15.0   12.0    6.0   43.0   \n",
       "\n",
       "                     rolling_mean  \n",
       "datetime                           \n",
       "2018-03-01 05:00:00          77.8  \n",
       "2018-03-01 06:00:00          54.2  \n",
       "2018-03-01 07:00:00          39.6  \n",
       "2018-03-01 08:00:00          28.4  \n",
       "2018-03-01 09:00:00          22.0  "
      ]
     },
     "execution_count": 19,
     "metadata": {},
     "output_type": "execute_result"
    }
   ],
   "source": [
    "df.head()"
   ]
  },
  {
   "cell_type": "markdown",
   "metadata": {},
   "source": [
    "Добавляем необходимые фичи:"
   ]
  },
  {
   "cell_type": "code",
   "execution_count": 20,
   "metadata": {},
   "outputs": [],
   "source": [
    "# df['is_friday'] = df.weekday.isin([4])*1\n",
    "# df['is_peak_hour'] = df.hour.isin([0, 16, 2, 23])*1 #Удалить, если не станет лучше\n",
    "# df['is_down_hour'] = df.hour.isin([6, 7])*1"
   ]
  },
  {
   "cell_type": "code",
   "execution_count": 21,
   "metadata": {},
   "outputs": [
    {
     "data": {
      "text/html": [
       "<div>\n",
       "<style scoped>\n",
       "    .dataframe tbody tr th:only-of-type {\n",
       "        vertical-align: middle;\n",
       "    }\n",
       "\n",
       "    .dataframe tbody tr th {\n",
       "        vertical-align: top;\n",
       "    }\n",
       "\n",
       "    .dataframe thead th {\n",
       "        text-align: right;\n",
       "    }\n",
       "</style>\n",
       "<table border=\"1\" class=\"dataframe\">\n",
       "  <thead>\n",
       "    <tr style=\"text-align: right;\">\n",
       "      <th></th>\n",
       "      <th>num_orders</th>\n",
       "      <th>hour</th>\n",
       "      <th>weekday</th>\n",
       "      <th>is_friday</th>\n",
       "      <th>is_peak_hour</th>\n",
       "      <th>is_down_hour</th>\n",
       "      <th>lag_1</th>\n",
       "      <th>lag_2</th>\n",
       "      <th>lag_3</th>\n",
       "      <th>lag_4</th>\n",
       "      <th>lag_5</th>\n",
       "      <th>rolling_mean</th>\n",
       "    </tr>\n",
       "    <tr>\n",
       "      <th>datetime</th>\n",
       "      <th></th>\n",
       "      <th></th>\n",
       "      <th></th>\n",
       "      <th></th>\n",
       "      <th></th>\n",
       "      <th></th>\n",
       "      <th></th>\n",
       "      <th></th>\n",
       "      <th></th>\n",
       "      <th></th>\n",
       "      <th></th>\n",
       "      <th></th>\n",
       "    </tr>\n",
       "  </thead>\n",
       "  <tbody>\n",
       "    <tr>\n",
       "      <th>2018-03-01 05:00:00</th>\n",
       "      <td>6</td>\n",
       "      <td>5</td>\n",
       "      <td>3</td>\n",
       "      <td>0</td>\n",
       "      <td>0</td>\n",
       "      <td>0</td>\n",
       "      <td>43.0</td>\n",
       "      <td>66.0</td>\n",
       "      <td>71.0</td>\n",
       "      <td>85.0</td>\n",
       "      <td>124.0</td>\n",
       "      <td>77.8</td>\n",
       "    </tr>\n",
       "    <tr>\n",
       "      <th>2018-03-01 06:00:00</th>\n",
       "      <td>12</td>\n",
       "      <td>6</td>\n",
       "      <td>3</td>\n",
       "      <td>0</td>\n",
       "      <td>0</td>\n",
       "      <td>1</td>\n",
       "      <td>6.0</td>\n",
       "      <td>43.0</td>\n",
       "      <td>66.0</td>\n",
       "      <td>71.0</td>\n",
       "      <td>85.0</td>\n",
       "      <td>54.2</td>\n",
       "    </tr>\n",
       "    <tr>\n",
       "      <th>2018-03-01 07:00:00</th>\n",
       "      <td>15</td>\n",
       "      <td>7</td>\n",
       "      <td>3</td>\n",
       "      <td>0</td>\n",
       "      <td>0</td>\n",
       "      <td>1</td>\n",
       "      <td>12.0</td>\n",
       "      <td>6.0</td>\n",
       "      <td>43.0</td>\n",
       "      <td>66.0</td>\n",
       "      <td>71.0</td>\n",
       "      <td>39.6</td>\n",
       "    </tr>\n",
       "    <tr>\n",
       "      <th>2018-03-01 08:00:00</th>\n",
       "      <td>34</td>\n",
       "      <td>8</td>\n",
       "      <td>3</td>\n",
       "      <td>0</td>\n",
       "      <td>0</td>\n",
       "      <td>0</td>\n",
       "      <td>15.0</td>\n",
       "      <td>12.0</td>\n",
       "      <td>6.0</td>\n",
       "      <td>43.0</td>\n",
       "      <td>66.0</td>\n",
       "      <td>28.4</td>\n",
       "    </tr>\n",
       "    <tr>\n",
       "      <th>2018-03-01 09:00:00</th>\n",
       "      <td>69</td>\n",
       "      <td>9</td>\n",
       "      <td>3</td>\n",
       "      <td>0</td>\n",
       "      <td>0</td>\n",
       "      <td>0</td>\n",
       "      <td>34.0</td>\n",
       "      <td>15.0</td>\n",
       "      <td>12.0</td>\n",
       "      <td>6.0</td>\n",
       "      <td>43.0</td>\n",
       "      <td>22.0</td>\n",
       "    </tr>\n",
       "    <tr>\n",
       "      <th>...</th>\n",
       "      <td>...</td>\n",
       "      <td>...</td>\n",
       "      <td>...</td>\n",
       "      <td>...</td>\n",
       "      <td>...</td>\n",
       "      <td>...</td>\n",
       "      <td>...</td>\n",
       "      <td>...</td>\n",
       "      <td>...</td>\n",
       "      <td>...</td>\n",
       "      <td>...</td>\n",
       "      <td>...</td>\n",
       "    </tr>\n",
       "    <tr>\n",
       "      <th>2018-08-31 19:00:00</th>\n",
       "      <td>136</td>\n",
       "      <td>19</td>\n",
       "      <td>4</td>\n",
       "      <td>1</td>\n",
       "      <td>0</td>\n",
       "      <td>0</td>\n",
       "      <td>207.0</td>\n",
       "      <td>217.0</td>\n",
       "      <td>197.0</td>\n",
       "      <td>116.0</td>\n",
       "      <td>133.0</td>\n",
       "      <td>174.0</td>\n",
       "    </tr>\n",
       "    <tr>\n",
       "      <th>2018-08-31 20:00:00</th>\n",
       "      <td>154</td>\n",
       "      <td>20</td>\n",
       "      <td>4</td>\n",
       "      <td>1</td>\n",
       "      <td>0</td>\n",
       "      <td>0</td>\n",
       "      <td>136.0</td>\n",
       "      <td>207.0</td>\n",
       "      <td>217.0</td>\n",
       "      <td>197.0</td>\n",
       "      <td>116.0</td>\n",
       "      <td>174.6</td>\n",
       "    </tr>\n",
       "    <tr>\n",
       "      <th>2018-08-31 21:00:00</th>\n",
       "      <td>159</td>\n",
       "      <td>21</td>\n",
       "      <td>4</td>\n",
       "      <td>1</td>\n",
       "      <td>0</td>\n",
       "      <td>0</td>\n",
       "      <td>154.0</td>\n",
       "      <td>136.0</td>\n",
       "      <td>207.0</td>\n",
       "      <td>217.0</td>\n",
       "      <td>197.0</td>\n",
       "      <td>182.2</td>\n",
       "    </tr>\n",
       "    <tr>\n",
       "      <th>2018-08-31 22:00:00</th>\n",
       "      <td>223</td>\n",
       "      <td>22</td>\n",
       "      <td>4</td>\n",
       "      <td>1</td>\n",
       "      <td>0</td>\n",
       "      <td>0</td>\n",
       "      <td>159.0</td>\n",
       "      <td>154.0</td>\n",
       "      <td>136.0</td>\n",
       "      <td>207.0</td>\n",
       "      <td>217.0</td>\n",
       "      <td>174.6</td>\n",
       "    </tr>\n",
       "    <tr>\n",
       "      <th>2018-08-31 23:00:00</th>\n",
       "      <td>205</td>\n",
       "      <td>23</td>\n",
       "      <td>4</td>\n",
       "      <td>1</td>\n",
       "      <td>1</td>\n",
       "      <td>0</td>\n",
       "      <td>223.0</td>\n",
       "      <td>159.0</td>\n",
       "      <td>154.0</td>\n",
       "      <td>136.0</td>\n",
       "      <td>207.0</td>\n",
       "      <td>175.8</td>\n",
       "    </tr>\n",
       "  </tbody>\n",
       "</table>\n",
       "<p>4411 rows × 12 columns</p>\n",
       "</div>"
      ],
      "text/plain": [
       "                     num_orders  hour  weekday  is_friday  is_peak_hour  \\\n",
       "datetime                                                                  \n",
       "2018-03-01 05:00:00           6     5        3          0             0   \n",
       "2018-03-01 06:00:00          12     6        3          0             0   \n",
       "2018-03-01 07:00:00          15     7        3          0             0   \n",
       "2018-03-01 08:00:00          34     8        3          0             0   \n",
       "2018-03-01 09:00:00          69     9        3          0             0   \n",
       "...                         ...   ...      ...        ...           ...   \n",
       "2018-08-31 19:00:00         136    19        4          1             0   \n",
       "2018-08-31 20:00:00         154    20        4          1             0   \n",
       "2018-08-31 21:00:00         159    21        4          1             0   \n",
       "2018-08-31 22:00:00         223    22        4          1             0   \n",
       "2018-08-31 23:00:00         205    23        4          1             1   \n",
       "\n",
       "                     is_down_hour  lag_1  lag_2  lag_3  lag_4  lag_5  \\\n",
       "datetime                                                               \n",
       "2018-03-01 05:00:00             0   43.0   66.0   71.0   85.0  124.0   \n",
       "2018-03-01 06:00:00             1    6.0   43.0   66.0   71.0   85.0   \n",
       "2018-03-01 07:00:00             1   12.0    6.0   43.0   66.0   71.0   \n",
       "2018-03-01 08:00:00             0   15.0   12.0    6.0   43.0   66.0   \n",
       "2018-03-01 09:00:00             0   34.0   15.0   12.0    6.0   43.0   \n",
       "...                           ...    ...    ...    ...    ...    ...   \n",
       "2018-08-31 19:00:00             0  207.0  217.0  197.0  116.0  133.0   \n",
       "2018-08-31 20:00:00             0  136.0  207.0  217.0  197.0  116.0   \n",
       "2018-08-31 21:00:00             0  154.0  136.0  207.0  217.0  197.0   \n",
       "2018-08-31 22:00:00             0  159.0  154.0  136.0  207.0  217.0   \n",
       "2018-08-31 23:00:00             0  223.0  159.0  154.0  136.0  207.0   \n",
       "\n",
       "                     rolling_mean  \n",
       "datetime                           \n",
       "2018-03-01 05:00:00          77.8  \n",
       "2018-03-01 06:00:00          54.2  \n",
       "2018-03-01 07:00:00          39.6  \n",
       "2018-03-01 08:00:00          28.4  \n",
       "2018-03-01 09:00:00          22.0  \n",
       "...                           ...  \n",
       "2018-08-31 19:00:00         174.0  \n",
       "2018-08-31 20:00:00         174.6  \n",
       "2018-08-31 21:00:00         182.2  \n",
       "2018-08-31 22:00:00         174.6  \n",
       "2018-08-31 23:00:00         175.8  \n",
       "\n",
       "[4411 rows x 12 columns]"
      ]
     },
     "execution_count": 21,
     "metadata": {},
     "output_type": "execute_result"
    }
   ],
   "source": [
    "df"
   ]
  },
  {
   "cell_type": "markdown",
   "metadata": {},
   "source": [
    "## Обучение"
   ]
  },
  {
   "cell_type": "markdown",
   "metadata": {},
   "source": [
    "Делим данные на train и test.\n",
    "\n",
    "Для анализа будем использовать модели:\n",
    "- LinearRegression\n",
    "- Catboost\n",
    "- XGBoost\n",
    "- LGBMRegressor\n",
    "    "
   ]
  },
  {
   "cell_type": "code",
   "execution_count": 22,
   "metadata": {},
   "outputs": [],
   "source": [
    "X = df.drop(columns=['num_orders'])\n",
    "y = df.num_orders"
   ]
  },
  {
   "cell_type": "code",
   "execution_count": 23,
   "metadata": {},
   "outputs": [],
   "source": [
    "X_train, X_test, y_train, y_test = train_test_split(X, y, test_size=0.10, random_state=42)"
   ]
  },
  {
   "cell_type": "markdown",
   "metadata": {},
   "source": [
    "### LinearRegression"
   ]
  },
  {
   "cell_type": "code",
   "execution_count": 24,
   "metadata": {},
   "outputs": [],
   "source": [
    "lr = LinearRegression()"
   ]
  },
  {
   "cell_type": "code",
   "execution_count": 25,
   "metadata": {},
   "outputs": [],
   "source": [
    "tscv = TimeSeriesSplit(n_splits=5)"
   ]
  },
  {
   "cell_type": "code",
   "execution_count": 26,
   "metadata": {},
   "outputs": [],
   "source": [
    "cv_results_lr = -1 * cross_val_score(lr, X_train, y_train, cv=tscv, scoring='neg_root_mean_squared_error')"
   ]
  },
  {
   "cell_type": "code",
   "execution_count": 27,
   "metadata": {},
   "outputs": [
    {
     "data": {
      "text/plain": [
       "31.666587179058723"
      ]
     },
     "execution_count": 27,
     "metadata": {},
     "output_type": "execute_result"
    }
   ],
   "source": [
    "cv_lr_train = cv_results_lr.mean()\n",
    "cv_lr_train"
   ]
  },
  {
   "cell_type": "markdown",
   "metadata": {},
   "source": [
    "### Catboost"
   ]
  },
  {
   "cell_type": "code",
   "execution_count": 28,
   "metadata": {},
   "outputs": [],
   "source": [
    "train_data = Pool(data=X_train,\n",
    "                  label=y_train,\n",
    "                 )\n",
    "test_data = Pool(data=X_test,\n",
    "                  label=y_test,\n",
    "                 )"
   ]
  },
  {
   "cell_type": "code",
   "execution_count": 29,
   "metadata": {},
   "outputs": [],
   "source": [
    "params = {'eval_metric': 'RMSE',\n",
    "          'loss_function': 'RMSE',\n",
    "          'learning_rate': 0.15,\n",
    "          'random_seed': 19,\n",
    "          'verbose':100}"
   ]
  },
  {
   "cell_type": "markdown",
   "metadata": {},
   "source": [
    "Запустим кросс-валидацию"
   ]
  },
  {
   "cell_type": "code",
   "execution_count": 30,
   "metadata": {},
   "outputs": [
    {
     "name": "stdout",
     "output_type": "stream",
     "text": [
      "Training on fold [0/5]\n",
      "\n",
      "bestTest = 29.9122672\n",
      "bestIteration = 108\n",
      "\n",
      "Training on fold [1/5]\n",
      "\n",
      "bestTest = 25.37223012\n",
      "bestIteration = 159\n",
      "\n",
      "Training on fold [2/5]\n",
      "\n",
      "bestTest = 25.05057653\n",
      "bestIteration = 217\n",
      "\n",
      "Training on fold [3/5]\n",
      "\n",
      "bestTest = 28.00863272\n",
      "bestIteration = 110\n",
      "\n",
      "Training on fold [4/5]\n",
      "\n",
      "bestTest = 26.30583025\n",
      "bestIteration = 411\n",
      "\n"
     ]
    }
   ],
   "source": [
    "cv_data = cv(\n",
    "    params = params,\n",
    "    pool = train_data,\n",
    "    fold_count=5,\n",
    "    shuffle=True,\n",
    "    partition_random_seed=0,\n",
    "    stratified=False,\n",
    "    verbose=False,\n",
    "    early_stopping_rounds=200,\n",
    "    type='TimeSeries'\n",
    ")"
   ]
  },
  {
   "cell_type": "markdown",
   "metadata": {},
   "source": [
    "В таблице cv_data показаны средние значения метрик по количеству фолдов, которые мы выбрали. В данном случае 5."
   ]
  },
  {
   "cell_type": "code",
   "execution_count": 31,
   "metadata": {},
   "outputs": [
    {
     "data": {
      "text/html": [
       "<div>\n",
       "<style scoped>\n",
       "    .dataframe tbody tr th:only-of-type {\n",
       "        vertical-align: middle;\n",
       "    }\n",
       "\n",
       "    .dataframe tbody tr th {\n",
       "        vertical-align: top;\n",
       "    }\n",
       "\n",
       "    .dataframe thead th {\n",
       "        text-align: right;\n",
       "    }\n",
       "</style>\n",
       "<table border=\"1\" class=\"dataframe\">\n",
       "  <thead>\n",
       "    <tr style=\"text-align: right;\">\n",
       "      <th></th>\n",
       "      <th>iterations</th>\n",
       "      <th>test-RMSE-mean</th>\n",
       "      <th>test-RMSE-std</th>\n",
       "      <th>train-RMSE-mean</th>\n",
       "      <th>train-RMSE-std</th>\n",
       "    </tr>\n",
       "  </thead>\n",
       "  <tbody>\n",
       "    <tr>\n",
       "      <th>0</th>\n",
       "      <td>0</td>\n",
       "      <td>83.879158</td>\n",
       "      <td>1.997617</td>\n",
       "      <td>83.327638</td>\n",
       "      <td>0.589690</td>\n",
       "    </tr>\n",
       "    <tr>\n",
       "      <th>1</th>\n",
       "      <td>1</td>\n",
       "      <td>74.586454</td>\n",
       "      <td>1.907196</td>\n",
       "      <td>73.891614</td>\n",
       "      <td>0.798667</td>\n",
       "    </tr>\n",
       "    <tr>\n",
       "      <th>2</th>\n",
       "      <td>2</td>\n",
       "      <td>66.487084</td>\n",
       "      <td>2.031899</td>\n",
       "      <td>65.600040</td>\n",
       "      <td>0.992708</td>\n",
       "    </tr>\n",
       "    <tr>\n",
       "      <th>3</th>\n",
       "      <td>3</td>\n",
       "      <td>59.839016</td>\n",
       "      <td>2.106048</td>\n",
       "      <td>58.870047</td>\n",
       "      <td>1.136983</td>\n",
       "    </tr>\n",
       "    <tr>\n",
       "      <th>4</th>\n",
       "      <td>4</td>\n",
       "      <td>54.079267</td>\n",
       "      <td>2.143953</td>\n",
       "      <td>53.038665</td>\n",
       "      <td>1.230296</td>\n",
       "    </tr>\n",
       "  </tbody>\n",
       "</table>\n",
       "</div>"
      ],
      "text/plain": [
       "   iterations  test-RMSE-mean  test-RMSE-std  train-RMSE-mean  train-RMSE-std\n",
       "0           0       83.879158       1.997617        83.327638        0.589690\n",
       "1           1       74.586454       1.907196        73.891614        0.798667\n",
       "2           2       66.487084       2.031899        65.600040        0.992708\n",
       "3           3       59.839016       2.106048        58.870047        1.136983\n",
       "4           4       54.079267       2.143953        53.038665        1.230296"
      ]
     },
     "execution_count": 31,
     "metadata": {},
     "output_type": "execute_result"
    }
   ],
   "source": [
    "cv_data.head()"
   ]
  },
  {
   "cell_type": "code",
   "execution_count": 32,
   "metadata": {
    "scrolled": false
   },
   "outputs": [
    {
     "data": {
      "text/html": [
       "<div>\n",
       "<style scoped>\n",
       "    .dataframe tbody tr th:only-of-type {\n",
       "        vertical-align: middle;\n",
       "    }\n",
       "\n",
       "    .dataframe tbody tr th {\n",
       "        vertical-align: top;\n",
       "    }\n",
       "\n",
       "    .dataframe thead th {\n",
       "        text-align: right;\n",
       "    }\n",
       "</style>\n",
       "<table border=\"1\" class=\"dataframe\">\n",
       "  <thead>\n",
       "    <tr style=\"text-align: right;\">\n",
       "      <th></th>\n",
       "      <th>iterations</th>\n",
       "      <th>test-RMSE-mean</th>\n",
       "      <th>test-RMSE-std</th>\n",
       "      <th>train-RMSE-mean</th>\n",
       "      <th>train-RMSE-std</th>\n",
       "    </tr>\n",
       "  </thead>\n",
       "  <tbody>\n",
       "    <tr>\n",
       "      <th>206</th>\n",
       "      <td>206</td>\n",
       "      <td>27.033257</td>\n",
       "      <td>2.102442</td>\n",
       "      <td>14.422854</td>\n",
       "      <td>3.355872</td>\n",
       "    </tr>\n",
       "  </tbody>\n",
       "</table>\n",
       "</div>"
      ],
      "text/plain": [
       "     iterations  test-RMSE-mean  test-RMSE-std  train-RMSE-mean  \\\n",
       "206         206       27.033257       2.102442        14.422854   \n",
       "\n",
       "     train-RMSE-std  \n",
       "206        3.355872  "
      ]
     },
     "execution_count": 32,
     "metadata": {},
     "output_type": "execute_result"
    }
   ],
   "source": [
    "cv_data[cv_data['test-RMSE-mean'] == cv_data['test-RMSE-mean'].min()]"
   ]
  },
  {
   "cell_type": "code",
   "execution_count": 33,
   "metadata": {},
   "outputs": [],
   "source": [
    "cv_catboost_train = cv_data['test-RMSE-mean'].min()"
   ]
  },
  {
   "cell_type": "markdown",
   "metadata": {},
   "source": [
    "### XGBoost"
   ]
  },
  {
   "cell_type": "code",
   "execution_count": 34,
   "metadata": {},
   "outputs": [
    {
     "data": {
      "text/plain": [
       "GridSearchCV(cv=TimeSeriesSplit(gap=0, max_train_size=None, n_splits=5, test_size=None),\n",
       "             estimator=XGBRegressor(base_score=None, booster=None,\n",
       "                                    colsample_bylevel=None,\n",
       "                                    colsample_bynode=None,\n",
       "                                    colsample_bytree=None,\n",
       "                                    enable_categorical=False, gamma=None,\n",
       "                                    gpu_id=None, importance_type=None,\n",
       "                                    interaction_constraints=None,\n",
       "                                    learning_rate=None, max_delta_step=None,\n",
       "                                    max_depth=None, min_child_weight=None,\n",
       "                                    missing=nan, monotone_constraints=None,\n",
       "                                    n_estimators=100, n_jobs=None,\n",
       "                                    num_parallel_tree=None, predictor=None,\n",
       "                                    random_state=None, reg_alpha=None,\n",
       "                                    reg_lambda=None, scale_pos_weight=None,\n",
       "                                    subsample=None, tree_method=None,\n",
       "                                    validate_parameters=None, verbosity=None),\n",
       "             param_grid={'max_depth': [3, 5]},\n",
       "             scoring='neg_root_mean_squared_error')"
      ]
     },
     "execution_count": 34,
     "metadata": {},
     "output_type": "execute_result"
    }
   ],
   "source": [
    "import xgboost as xgb\n",
    "\n",
    "model_xgb = xgb.XGBRegressor()\n",
    "param_search = {'max_depth' : [3, 5]}\n",
    "\n",
    "gsearch = GridSearchCV(estimator=model_xgb, cv=tscv,\n",
    "                        param_grid=param_search, scoring='neg_root_mean_squared_error')\n",
    "gsearch.fit(X_train, y_train)"
   ]
  },
  {
   "cell_type": "code",
   "execution_count": 35,
   "metadata": {},
   "outputs": [
    {
     "data": {
      "text/plain": [
       "{'max_depth': 3}"
      ]
     },
     "execution_count": 35,
     "metadata": {},
     "output_type": "execute_result"
    }
   ],
   "source": [
    "gsearch.best_params_"
   ]
  },
  {
   "cell_type": "code",
   "execution_count": 36,
   "metadata": {},
   "outputs": [
    {
     "data": {
      "text/plain": [
       "27.64378363103238"
      ]
     },
     "execution_count": 36,
     "metadata": {},
     "output_type": "execute_result"
    }
   ],
   "source": [
    "#КОД РЕВЬЮЕРА\n",
    "abs(gsearch.best_score_)"
   ]
  },
  {
   "cell_type": "code",
   "execution_count": 37,
   "metadata": {},
   "outputs": [],
   "source": [
    "best_xgb = gsearch.best_estimator_"
   ]
  },
  {
   "cell_type": "code",
   "execution_count": 38,
   "metadata": {},
   "outputs": [
    {
     "data": {
      "text/plain": [
       "27.64378363103238"
      ]
     },
     "execution_count": 38,
     "metadata": {},
     "output_type": "execute_result"
    }
   ],
   "source": [
    "grid_xgb_train = abs(gsearch.best_score_)\n",
    "grid_xgb_train"
   ]
  },
  {
   "cell_type": "markdown",
   "metadata": {},
   "source": [
    "### Random Forest"
   ]
  },
  {
   "cell_type": "code",
   "execution_count": 39,
   "metadata": {},
   "outputs": [],
   "source": [
    "#КОД РЕВЬЮЕРА\n",
    "# from sklearn.ensemble import RandomForestClassifier\n",
    "from sklearn.ensemble import RandomForestRegressor"
   ]
  },
  {
   "cell_type": "code",
   "execution_count": 40,
   "metadata": {},
   "outputs": [],
   "source": [
    "#КОД РЕВЬЮЕРА\n",
    "# forest_model = RandomForestClassifier()\n",
    "forest_model = RandomForestRegressor()"
   ]
  },
  {
   "cell_type": "code",
   "execution_count": 41,
   "metadata": {},
   "outputs": [],
   "source": [
    "parametrs = {'n_estimators': [30, 50],\n",
    "             'max_depth': [2, 5, 7, 10]}"
   ]
  },
  {
   "cell_type": "code",
   "execution_count": 42,
   "metadata": {},
   "outputs": [],
   "source": [
    "from sklearn.metrics import  make_scorer\n",
    "from sklearn.model_selection import cross_val_score\n",
    "\n",
    "tscv = TimeSeriesSplit(n_splits=3)\n",
    "def RMSE(target, prediction):\n",
    "    return (mean_squared_error(target, prediction, squared=False))\n",
    "\n",
    "RMSE_scorer = make_scorer(RMSE, greater_is_better=False) "
   ]
  },
  {
   "cell_type": "code",
   "execution_count": 43,
   "metadata": {},
   "outputs": [],
   "source": [
    "grid_search_cv = GridSearchCV(forest_model, parametrs, cv=tscv, scoring=RMSE_scorer)"
   ]
  },
  {
   "cell_type": "code",
   "execution_count": 44,
   "metadata": {},
   "outputs": [
    {
     "data": {
      "text/plain": [
       "GridSearchCV(cv=TimeSeriesSplit(gap=0, max_train_size=None, n_splits=3, test_size=None),\n",
       "             estimator=RandomForestRegressor(),\n",
       "             param_grid={'max_depth': [2, 5, 7, 10], 'n_estimators': [30, 50]},\n",
       "             scoring=make_scorer(RMSE, greater_is_better=False))"
      ]
     },
     "execution_count": 44,
     "metadata": {},
     "output_type": "execute_result"
    }
   ],
   "source": [
    "grid_search_cv.fit(X_train, y_train)"
   ]
  },
  {
   "cell_type": "code",
   "execution_count": 45,
   "metadata": {
    "scrolled": true
   },
   "outputs": [
    {
     "data": {
      "text/plain": [
       "{'max_depth': 10, 'n_estimators': 50}"
      ]
     },
     "execution_count": 45,
     "metadata": {},
     "output_type": "execute_result"
    }
   ],
   "source": [
    "grid_search_cv.best_params_"
   ]
  },
  {
   "cell_type": "code",
   "execution_count": 46,
   "metadata": {},
   "outputs": [
    {
     "data": {
      "text/plain": [
       "28.50668078654081"
      ]
     },
     "execution_count": 46,
     "metadata": {},
     "output_type": "execute_result"
    }
   ],
   "source": [
    "#КОД РЕВЬЮЕРА\n",
    "abs(grid_search_cv.best_score_)"
   ]
  },
  {
   "cell_type": "code",
   "execution_count": 47,
   "metadata": {},
   "outputs": [
    {
     "data": {
      "text/plain": [
       "28.50668078654081"
      ]
     },
     "execution_count": 47,
     "metadata": {},
     "output_type": "execute_result"
    }
   ],
   "source": [
    "grid_forest_train = abs(grid_search_cv.best_score_)\n",
    "grid_forest_train"
   ]
  },
  {
   "cell_type": "markdown",
   "metadata": {},
   "source": [
    "### LGBMRegressor"
   ]
  },
  {
   "cell_type": "code",
   "execution_count": 48,
   "metadata": {},
   "outputs": [],
   "source": [
    "import lightgbm as lgb"
   ]
  },
  {
   "cell_type": "code",
   "execution_count": 49,
   "metadata": {},
   "outputs": [],
   "source": [
    "params = {\n",
    "    'task': 'train', \n",
    "    'objective': 'regression',\n",
    "    'num_leaves': 10,\n",
    "    'learning_rate': 0.1,\n",
    "    'metric': 'root_mean_squared_error',\n",
    "    'verbose': 100\n",
    "}"
   ]
  },
  {
   "cell_type": "code",
   "execution_count": 50,
   "metadata": {},
   "outputs": [],
   "source": [
    "lgb_model = lgb.LGBMRegressor(**params)"
   ]
  },
  {
   "cell_type": "code",
   "execution_count": 51,
   "metadata": {},
   "outputs": [
    {
     "name": "stdout",
     "output_type": "stream",
     "text": [
      "[LightGBM] [Debug] Dataset::GetMultiBinFromSparseFeatures: sparse rate 0.875797\n",
      "[LightGBM] [Debug] Dataset::GetMultiBinFromAllFeatures: sparse rate 0.256523\n",
      "[LightGBM] [Debug] init for col-wise cost 0.000509 seconds, init for row-wise cost 0.000333 seconds\n",
      "[LightGBM] [Warning] Auto-choosing row-wise multi-threading, the overhead of testing was 0.000628 seconds.\n",
      "You can set `force_row_wise=true` to remove the overhead.\n",
      "And if memory is not enough, you can set `force_col_wise=true`.\n",
      "[LightGBM] [Debug] Using Sparse Multi-Val Bin\n",
      "[LightGBM] [Info] Total Bins 1048\n",
      "[LightGBM] [Info] Number of data points in the train set: 993, number of used features: 11\n",
      "[LightGBM] [Info] Start training from score 83.979859\n",
      "[LightGBM] [Debug] Trained a tree with leaves = 10 and depth = 5\n",
      "[LightGBM] [Debug] Trained a tree with leaves = 10 and depth = 5\n",
      "[LightGBM] [Debug] Trained a tree with leaves = 10 and depth = 5\n",
      "[LightGBM] [Debug] Trained a tree with leaves = 10 and depth = 6\n",
      "[LightGBM] [Debug] Trained a tree with leaves = 10 and depth = 5\n",
      "[LightGBM] [Debug] Trained a tree with leaves = 10 and depth = 5\n",
      "[LightGBM] [Debug] Trained a tree with leaves = 10 and depth = 5\n",
      "[LightGBM] [Debug] Trained a tree with leaves = 10 and depth = 6\n",
      "[LightGBM] [Debug] Trained a tree with leaves = 10 and depth = 4\n",
      "[LightGBM] [Debug] Trained a tree with leaves = 10 and depth = 4\n",
      "[LightGBM] [Debug] Trained a tree with leaves = 10 and depth = 5\n",
      "[LightGBM] [Debug] Trained a tree with leaves = 10 and depth = 8\n",
      "[LightGBM] [Debug] Trained a tree with leaves = 10 and depth = 5\n",
      "[LightGBM] [Debug] Trained a tree with leaves = 10 and depth = 4\n",
      "[LightGBM] [Debug] Trained a tree with leaves = 10 and depth = 6\n",
      "[LightGBM] [Debug] Trained a tree with leaves = 10 and depth = 6\n",
      "[LightGBM] [Debug] Trained a tree with leaves = 10 and depth = 6\n",
      "[LightGBM] [Debug] Trained a tree with leaves = 10 and depth = 6\n",
      "[LightGBM] [Debug] Trained a tree with leaves = 10 and depth = 7\n",
      "[LightGBM] [Debug] Trained a tree with leaves = 10 and depth = 7\n",
      "[LightGBM] [Debug] Trained a tree with leaves = 10 and depth = 7\n",
      "[LightGBM] [Debug] Trained a tree with leaves = 10 and depth = 5\n",
      "[LightGBM] [Debug] Trained a tree with leaves = 10 and depth = 5\n",
      "[LightGBM] [Debug] Trained a tree with leaves = 10 and depth = 5\n",
      "[LightGBM] [Debug] Trained a tree with leaves = 10 and depth = 5\n",
      "[LightGBM] [Debug] Trained a tree with leaves = 10 and depth = 6\n",
      "[LightGBM] [Debug] Trained a tree with leaves = 10 and depth = 6\n",
      "[LightGBM] [Debug] Trained a tree with leaves = 10 and depth = 4\n",
      "[LightGBM] [Debug] Trained a tree with leaves = 10 and depth = 6\n",
      "[LightGBM] [Debug] Trained a tree with leaves = 10 and depth = 7\n",
      "[LightGBM] [Debug] Trained a tree with leaves = 10 and depth = 5\n",
      "[LightGBM] [Debug] Trained a tree with leaves = 10 and depth = 5\n",
      "[LightGBM] [Debug] Trained a tree with leaves = 10 and depth = 5\n",
      "[LightGBM] [Debug] Trained a tree with leaves = 10 and depth = 5\n",
      "[LightGBM] [Debug] Trained a tree with leaves = 10 and depth = 5\n",
      "[LightGBM] [Debug] Trained a tree with leaves = 10 and depth = 6\n",
      "[LightGBM] [Debug] Trained a tree with leaves = 10 and depth = 6\n",
      "[LightGBM] [Debug] Trained a tree with leaves = 10 and depth = 7\n",
      "[LightGBM] [Debug] Trained a tree with leaves = 10 and depth = 7\n",
      "[LightGBM] [Debug] Trained a tree with leaves = 10 and depth = 6\n",
      "[LightGBM] [Debug] Trained a tree with leaves = 10 and depth = 8\n",
      "[LightGBM] [Debug] Trained a tree with leaves = 10 and depth = 5\n",
      "[LightGBM] [Debug] Trained a tree with leaves = 10 and depth = 6\n",
      "[LightGBM] [Debug] Trained a tree with leaves = 10 and depth = 6\n",
      "[LightGBM] [Debug] Trained a tree with leaves = 10 and depth = 4\n",
      "[LightGBM] [Debug] Trained a tree with leaves = 10 and depth = 6\n",
      "[LightGBM] [Debug] Trained a tree with leaves = 10 and depth = 5\n",
      "[LightGBM] [Debug] Trained a tree with leaves = 10 and depth = 6\n",
      "[LightGBM] [Debug] Trained a tree with leaves = 10 and depth = 7\n",
      "[LightGBM] [Debug] Trained a tree with leaves = 10 and depth = 7\n",
      "[LightGBM] [Debug] Trained a tree with leaves = 10 and depth = 6\n",
      "[LightGBM] [Debug] Trained a tree with leaves = 10 and depth = 5\n",
      "[LightGBM] [Debug] Trained a tree with leaves = 10 and depth = 8\n",
      "[LightGBM] [Debug] Trained a tree with leaves = 10 and depth = 6\n",
      "[LightGBM] [Debug] Trained a tree with leaves = 10 and depth = 6\n",
      "[LightGBM] [Debug] Trained a tree with leaves = 10 and depth = 8\n",
      "[LightGBM] [Debug] Trained a tree with leaves = 10 and depth = 7\n",
      "[LightGBM] [Debug] Trained a tree with leaves = 10 and depth = 6\n",
      "[LightGBM] [Debug] Trained a tree with leaves = 10 and depth = 6\n",
      "[LightGBM] [Debug] Trained a tree with leaves = 10 and depth = 6\n",
      "[LightGBM] [Debug] Trained a tree with leaves = 10 and depth = 6\n",
      "[LightGBM] [Debug] Trained a tree with leaves = 10 and depth = 8\n",
      "[LightGBM] [Debug] Trained a tree with leaves = 10 and depth = 7\n",
      "[LightGBM] [Debug] Trained a tree with leaves = 10 and depth = 4\n",
      "[LightGBM] [Debug] Trained a tree with leaves = 10 and depth = 6\n",
      "[LightGBM] [Debug] Trained a tree with leaves = 10 and depth = 5\n",
      "[LightGBM] [Debug] Trained a tree with leaves = 10 and depth = 6\n",
      "[LightGBM] [Debug] Trained a tree with leaves = 10 and depth = 6\n",
      "[LightGBM] [Debug] Trained a tree with leaves = 10 and depth = 6\n",
      "[LightGBM] [Debug] Trained a tree with leaves = 10 and depth = 8\n",
      "[LightGBM] [Debug] Trained a tree with leaves = 10 and depth = 6\n",
      "[LightGBM] [Debug] Trained a tree with leaves = 10 and depth = 5\n",
      "[LightGBM] [Debug] Trained a tree with leaves = 10 and depth = 8\n",
      "[LightGBM] [Debug] Trained a tree with leaves = 10 and depth = 5\n",
      "[LightGBM] [Debug] Trained a tree with leaves = 10 and depth = 7\n",
      "[LightGBM] [Debug] Trained a tree with leaves = 10 and depth = 5\n",
      "[LightGBM] [Debug] Trained a tree with leaves = 10 and depth = 8\n",
      "[LightGBM] [Debug] Trained a tree with leaves = 10 and depth = 7\n",
      "[LightGBM] [Debug] Trained a tree with leaves = 10 and depth = 5\n",
      "[LightGBM] [Debug] Trained a tree with leaves = 10 and depth = 9\n",
      "[LightGBM] [Debug] Trained a tree with leaves = 10 and depth = 6\n",
      "[LightGBM] [Debug] Trained a tree with leaves = 10 and depth = 7\n",
      "[LightGBM] [Debug] Trained a tree with leaves = 10 and depth = 5\n",
      "[LightGBM] [Debug] Trained a tree with leaves = 10 and depth = 7\n",
      "[LightGBM] [Debug] Trained a tree with leaves = 10 and depth = 8\n",
      "[LightGBM] [Debug] Trained a tree with leaves = 10 and depth = 7\n",
      "[LightGBM] [Debug] Trained a tree with leaves = 10 and depth = 5\n",
      "[LightGBM] [Debug] Trained a tree with leaves = 10 and depth = 9\n",
      "[LightGBM] [Debug] Trained a tree with leaves = 10 and depth = 5\n",
      "[LightGBM] [Debug] Trained a tree with leaves = 10 and depth = 7\n",
      "[LightGBM] [Debug] Trained a tree with leaves = 10 and depth = 6\n",
      "[LightGBM] [Debug] Trained a tree with leaves = 10 and depth = 5\n",
      "[LightGBM] [Debug] Trained a tree with leaves = 10 and depth = 5\n",
      "[LightGBM] [Debug] Trained a tree with leaves = 10 and depth = 6\n",
      "[LightGBM] [Debug] Trained a tree with leaves = 10 and depth = 5\n",
      "[LightGBM] [Debug] Trained a tree with leaves = 10 and depth = 4\n",
      "[LightGBM] [Debug] Trained a tree with leaves = 10 and depth = 7\n",
      "[LightGBM] [Debug] Trained a tree with leaves = 10 and depth = 6\n",
      "[LightGBM] [Debug] Trained a tree with leaves = 10 and depth = 7\n",
      "[LightGBM] [Debug] Trained a tree with leaves = 10 and depth = 7\n",
      "[LightGBM] [Debug] Dataset::GetMultiBinFromSparseFeatures: sparse rate 0.873720\n",
      "[LightGBM] [Debug] Dataset::GetMultiBinFromAllFeatures: sparse rate 0.254912\n",
      "[LightGBM] [Debug] init for col-wise cost 0.000401 seconds, init for row-wise cost 0.000374 seconds\n",
      "[LightGBM] [Warning] Auto-choosing col-wise multi-threading, the overhead of testing was 0.000437 seconds.\n",
      "You can set `force_col_wise=true` to remove the overhead.\n",
      "[LightGBM] [Info] Total Bins 1212\n",
      "[LightGBM] [Info] Number of data points in the train set: 1985, number of used features: 11\n",
      "[LightGBM] [Info] Start training from score 83.637783\n",
      "[LightGBM] [Debug] Trained a tree with leaves = 10 and depth = 4\n",
      "[LightGBM] [Debug] Trained a tree with leaves = 10 and depth = 5\n",
      "[LightGBM] [Debug] Trained a tree with leaves = 10 and depth = 4\n",
      "[LightGBM] [Debug] Trained a tree with leaves = 10 and depth = 5\n",
      "[LightGBM] [Debug] Trained a tree with leaves = 10 and depth = 5\n",
      "[LightGBM] [Debug] Trained a tree with leaves = 10 and depth = 6\n",
      "[LightGBM] [Debug] Trained a tree with leaves = 10 and depth = 5\n",
      "[LightGBM] [Debug] Trained a tree with leaves = 10 and depth = 4\n",
      "[LightGBM] [Debug] Trained a tree with leaves = 10 and depth = 6\n",
      "[LightGBM] [Debug] Trained a tree with leaves = 10 and depth = 5\n",
      "[LightGBM] [Debug] Trained a tree with leaves = 10 and depth = 4\n",
      "[LightGBM] [Debug] Trained a tree with leaves = 10 and depth = 5\n",
      "[LightGBM] [Debug] Trained a tree with leaves = 10 and depth = 5\n",
      "[LightGBM] [Debug] Trained a tree with leaves = 10 and depth = 5\n",
      "[LightGBM] [Debug] Trained a tree with leaves = 10 and depth = 5\n",
      "[LightGBM] [Debug] Trained a tree with leaves = 10 and depth = 6\n",
      "[LightGBM] [Debug] Trained a tree with leaves = 10 and depth = 6\n",
      "[LightGBM] [Debug] Trained a tree with leaves = 10 and depth = 7\n",
      "[LightGBM] [Debug] Trained a tree with leaves = 10 and depth = 5\n",
      "[LightGBM] [Debug] Trained a tree with leaves = 10 and depth = 6\n",
      "[LightGBM] [Debug] Trained a tree with leaves = 10 and depth = 4\n",
      "[LightGBM] [Debug] Trained a tree with leaves = 10 and depth = 6\n",
      "[LightGBM] [Debug] Trained a tree with leaves = 10 and depth = 6\n",
      "[LightGBM] [Debug] Trained a tree with leaves = 10 and depth = 7\n",
      "[LightGBM] [Debug] Trained a tree with leaves = 10 and depth = 5\n",
      "[LightGBM] [Debug] Trained a tree with leaves = 10 and depth = 5\n",
      "[LightGBM] [Debug] Trained a tree with leaves = 10 and depth = 7\n",
      "[LightGBM] [Debug] Trained a tree with leaves = 10 and depth = 6\n",
      "[LightGBM] [Debug] Trained a tree with leaves = 10 and depth = 5\n",
      "[LightGBM] [Debug] Trained a tree with leaves = 10 and depth = 6\n",
      "[LightGBM] [Debug] Trained a tree with leaves = 10 and depth = 5\n",
      "[LightGBM] [Debug] Trained a tree with leaves = 10 and depth = 6\n",
      "[LightGBM] [Debug] Trained a tree with leaves = 10 and depth = 5\n",
      "[LightGBM] [Debug] Trained a tree with leaves = 10 and depth = 5\n",
      "[LightGBM] [Debug] Trained a tree with leaves = 10 and depth = 7\n",
      "[LightGBM] [Debug] Trained a tree with leaves = 10 and depth = 7\n",
      "[LightGBM] [Debug] Trained a tree with leaves = 10 and depth = 6\n",
      "[LightGBM] [Debug] Trained a tree with leaves = 10 and depth = 6\n",
      "[LightGBM] [Debug] Trained a tree with leaves = 10 and depth = 8\n",
      "[LightGBM] [Debug] Trained a tree with leaves = 10 and depth = 6\n",
      "[LightGBM] [Debug] Trained a tree with leaves = 10 and depth = 4\n",
      "[LightGBM] [Debug] Trained a tree with leaves = 10 and depth = 6\n",
      "[LightGBM] [Debug] Trained a tree with leaves = 10 and depth = 8\n",
      "[LightGBM] [Debug] Trained a tree with leaves = 10 and depth = 6\n",
      "[LightGBM] [Debug] Trained a tree with leaves = 10 and depth = 6\n",
      "[LightGBM] [Debug] Trained a tree with leaves = 10 and depth = 4\n",
      "[LightGBM] [Debug] Trained a tree with leaves = 10 and depth = 6\n",
      "[LightGBM] [Debug] Trained a tree with leaves = 10 and depth = 7\n",
      "[LightGBM] [Debug] Trained a tree with leaves = 10 and depth = 6\n",
      "[LightGBM] [Debug] Trained a tree with leaves = 10 and depth = 8\n",
      "[LightGBM] [Debug] Trained a tree with leaves = 10 and depth = 5\n",
      "[LightGBM] [Debug] Trained a tree with leaves = 10 and depth = 7\n",
      "[LightGBM] [Debug] Trained a tree with leaves = 10 and depth = 6\n",
      "[LightGBM] [Debug] Trained a tree with leaves = 10 and depth = 4\n",
      "[LightGBM] [Debug] Trained a tree with leaves = 10 and depth = 6\n",
      "[LightGBM] [Debug] Trained a tree with leaves = 10 and depth = 8\n",
      "[LightGBM] [Debug] Trained a tree with leaves = 10 and depth = 4\n",
      "[LightGBM] [Debug] Trained a tree with leaves = 10 and depth = 7\n",
      "[LightGBM] [Debug] Trained a tree with leaves = 10 and depth = 4\n",
      "[LightGBM] [Debug] Trained a tree with leaves = 10 and depth = 7\n",
      "[LightGBM] [Debug] Trained a tree with leaves = 10 and depth = 4\n",
      "[LightGBM] [Debug] Trained a tree with leaves = 10 and depth = 5\n",
      "[LightGBM] [Debug] Trained a tree with leaves = 10 and depth = 5\n",
      "[LightGBM] [Debug] Trained a tree with leaves = 10 and depth = 6\n",
      "[LightGBM] [Debug] Trained a tree with leaves = 10 and depth = 7\n",
      "[LightGBM] [Debug] Trained a tree with leaves = 10 and depth = 5\n",
      "[LightGBM] [Debug] Trained a tree with leaves = 10 and depth = 6\n",
      "[LightGBM] [Debug] Trained a tree with leaves = 10 and depth = 5\n",
      "[LightGBM] [Debug] Trained a tree with leaves = 10 and depth = 5\n",
      "[LightGBM] [Debug] Trained a tree with leaves = 10 and depth = 7\n",
      "[LightGBM] [Debug] Trained a tree with leaves = 10 and depth = 6\n",
      "[LightGBM] [Debug] Trained a tree with leaves = 10 and depth = 8\n",
      "[LightGBM] [Debug] Trained a tree with leaves = 10 and depth = 6\n",
      "[LightGBM] [Debug] Trained a tree with leaves = 10 and depth = 6\n",
      "[LightGBM] [Debug] Trained a tree with leaves = 10 and depth = 7\n",
      "[LightGBM] [Debug] Trained a tree with leaves = 10 and depth = 7\n",
      "[LightGBM] [Debug] Trained a tree with leaves = 10 and depth = 7\n",
      "[LightGBM] [Debug] Trained a tree with leaves = 10 and depth = 8\n",
      "[LightGBM] [Debug] Trained a tree with leaves = 10 and depth = 5\n",
      "[LightGBM] [Debug] Trained a tree with leaves = 10 and depth = 6\n",
      "[LightGBM] [Debug] Trained a tree with leaves = 10 and depth = 6\n",
      "[LightGBM] [Debug] Trained a tree with leaves = 10 and depth = 4\n",
      "[LightGBM] [Debug] Trained a tree with leaves = 10 and depth = 7\n",
      "[LightGBM] [Debug] Trained a tree with leaves = 10 and depth = 7\n",
      "[LightGBM] [Debug] Trained a tree with leaves = 10 and depth = 6\n",
      "[LightGBM] [Debug] Trained a tree with leaves = 10 and depth = 5\n",
      "[LightGBM] [Debug] Trained a tree with leaves = 10 and depth = 7\n",
      "[LightGBM] [Debug] Trained a tree with leaves = 10 and depth = 4\n",
      "[LightGBM] [Debug] Trained a tree with leaves = 10 and depth = 8\n",
      "[LightGBM] [Debug] Trained a tree with leaves = 10 and depth = 8\n",
      "[LightGBM] [Debug] Trained a tree with leaves = 10 and depth = 7\n",
      "[LightGBM] [Debug] Trained a tree with leaves = 10 and depth = 8\n",
      "[LightGBM] [Debug] Trained a tree with leaves = 10 and depth = 8\n",
      "[LightGBM] [Debug] Trained a tree with leaves = 10 and depth = 7\n",
      "[LightGBM] [Debug] Trained a tree with leaves = 10 and depth = 7\n",
      "[LightGBM] [Debug] Trained a tree with leaves = 10 and depth = 7\n",
      "[LightGBM] [Debug] Trained a tree with leaves = 10 and depth = 8\n",
      "[LightGBM] [Debug] Trained a tree with leaves = 10 and depth = 6\n",
      "[LightGBM] [Debug] Trained a tree with leaves = 10 and depth = 7\n",
      "[LightGBM] [Debug] Trained a tree with leaves = 10 and depth = 6\n",
      "[LightGBM] [Debug] Dataset::GetMultiBinFromSparseFeatures: sparse rate 0.870451\n",
      "[LightGBM] [Debug] Dataset::GetMultiBinFromAllFeatures: sparse rate 0.253703\n",
      "[LightGBM] [Debug] init for col-wise cost 0.118819 seconds, init for row-wise cost 0.198344 seconds\n",
      "[LightGBM] [Warning] Auto-choosing row-wise multi-threading, the overhead of testing was 0.124378 seconds.\n",
      "You can set `force_row_wise=true` to remove the overhead.\n",
      "And if memory is not enough, you can set `force_col_wise=true`.\n",
      "[LightGBM] [Debug] Using Sparse Multi-Val Bin\n",
      "[LightGBM] [Info] Total Bins 1298\n",
      "[LightGBM] [Info] Number of data points in the train set: 2977, number of used features: 11\n",
      "[LightGBM] [Info] Start training from score 84.226738\n",
      "[LightGBM] [Debug] Trained a tree with leaves = 10 and depth = 4\n",
      "[LightGBM] [Debug] Trained a tree with leaves = 10 and depth = 5\n",
      "[LightGBM] [Debug] Trained a tree with leaves = 10 and depth = 4\n",
      "[LightGBM] [Debug] Trained a tree with leaves = 10 and depth = 5\n",
      "[LightGBM] [Debug] Trained a tree with leaves = 10 and depth = 4\n",
      "[LightGBM] [Debug] Trained a tree with leaves = 10 and depth = 5\n",
      "[LightGBM] [Debug] Trained a tree with leaves = 10 and depth = 5\n",
      "[LightGBM] [Debug] Trained a tree with leaves = 10 and depth = 5\n",
      "[LightGBM] [Debug] Trained a tree with leaves = 10 and depth = 5\n",
      "[LightGBM] [Debug] Trained a tree with leaves = 10 and depth = 5\n",
      "[LightGBM] [Debug] Trained a tree with leaves = 10 and depth = 6\n",
      "[LightGBM] [Debug] Trained a tree with leaves = 10 and depth = 4\n",
      "[LightGBM] [Debug] Trained a tree with leaves = 10 and depth = 6\n",
      "[LightGBM] [Debug] Trained a tree with leaves = 10 and depth = 5\n",
      "[LightGBM] [Debug] Trained a tree with leaves = 10 and depth = 5\n",
      "[LightGBM] [Debug] Trained a tree with leaves = 10 and depth = 7\n",
      "[LightGBM] [Debug] Trained a tree with leaves = 10 and depth = 5\n",
      "[LightGBM] [Debug] Trained a tree with leaves = 10 and depth = 5\n",
      "[LightGBM] [Debug] Trained a tree with leaves = 10 and depth = 5\n",
      "[LightGBM] [Debug] Trained a tree with leaves = 10 and depth = 4\n",
      "[LightGBM] [Debug] Trained a tree with leaves = 10 and depth = 5\n",
      "[LightGBM] [Debug] Trained a tree with leaves = 10 and depth = 6\n",
      "[LightGBM] [Debug] Trained a tree with leaves = 10 and depth = 5\n",
      "[LightGBM] [Debug] Trained a tree with leaves = 10 and depth = 6\n",
      "[LightGBM] [Debug] Trained a tree with leaves = 10 and depth = 6\n",
      "[LightGBM] [Debug] Trained a tree with leaves = 10 and depth = 6\n",
      "[LightGBM] [Debug] Trained a tree with leaves = 10 and depth = 4\n",
      "[LightGBM] [Debug] Trained a tree with leaves = 10 and depth = 6\n",
      "[LightGBM] [Debug] Trained a tree with leaves = 10 and depth = 5\n",
      "[LightGBM] [Debug] Trained a tree with leaves = 10 and depth = 5\n",
      "[LightGBM] [Debug] Trained a tree with leaves = 10 and depth = 7\n",
      "[LightGBM] [Debug] Trained a tree with leaves = 10 and depth = 6\n",
      "[LightGBM] [Debug] Trained a tree with leaves = 10 and depth = 6\n",
      "[LightGBM] [Debug] Trained a tree with leaves = 10 and depth = 6\n",
      "[LightGBM] [Debug] Trained a tree with leaves = 10 and depth = 6\n",
      "[LightGBM] [Debug] Trained a tree with leaves = 10 and depth = 7\n",
      "[LightGBM] [Debug] Trained a tree with leaves = 10 and depth = 8\n",
      "[LightGBM] [Debug] Trained a tree with leaves = 10 and depth = 6\n",
      "[LightGBM] [Debug] Trained a tree with leaves = 10 and depth = 5\n",
      "[LightGBM] [Debug] Trained a tree with leaves = 10 and depth = 6\n",
      "[LightGBM] [Debug] Trained a tree with leaves = 10 and depth = 5\n",
      "[LightGBM] [Debug] Trained a tree with leaves = 10 and depth = 6\n",
      "[LightGBM] [Debug] Trained a tree with leaves = 10 and depth = 6\n",
      "[LightGBM] [Debug] Trained a tree with leaves = 10 and depth = 5\n",
      "[LightGBM] [Debug] Trained a tree with leaves = 10 and depth = 4\n",
      "[LightGBM] [Debug] Trained a tree with leaves = 10 and depth = 6\n",
      "[LightGBM] [Debug] Trained a tree with leaves = 10 and depth = 6\n",
      "[LightGBM] [Debug] Trained a tree with leaves = 10 and depth = 7\n",
      "[LightGBM] [Debug] Trained a tree with leaves = 10 and depth = 6\n",
      "[LightGBM] [Debug] Trained a tree with leaves = 10 and depth = 6\n",
      "[LightGBM] [Debug] Trained a tree with leaves = 10 and depth = 8\n",
      "[LightGBM] [Debug] Trained a tree with leaves = 10 and depth = 5\n",
      "[LightGBM] [Debug] Trained a tree with leaves = 10 and depth = 5\n",
      "[LightGBM] [Debug] Trained a tree with leaves = 10 and depth = 6\n",
      "[LightGBM] [Debug] Trained a tree with leaves = 10 and depth = 6\n",
      "[LightGBM] [Debug] Trained a tree with leaves = 10 and depth = 6\n",
      "[LightGBM] [Debug] Trained a tree with leaves = 10 and depth = 6\n",
      "[LightGBM] [Debug] Trained a tree with leaves = 10 and depth = 5\n",
      "[LightGBM] [Debug] Trained a tree with leaves = 10 and depth = 7\n",
      "[LightGBM] [Debug] Trained a tree with leaves = 10 and depth = 7\n",
      "[LightGBM] [Debug] Trained a tree with leaves = 10 and depth = 6\n",
      "[LightGBM] [Debug] Trained a tree with leaves = 10 and depth = 5\n",
      "[LightGBM] [Debug] Trained a tree with leaves = 10 and depth = 6\n",
      "[LightGBM] [Debug] Trained a tree with leaves = 10 and depth = 5\n",
      "[LightGBM] [Debug] Trained a tree with leaves = 10 and depth = 6\n",
      "[LightGBM] [Debug] Trained a tree with leaves = 10 and depth = 8\n",
      "[LightGBM] [Debug] Trained a tree with leaves = 10 and depth = 6\n",
      "[LightGBM] [Debug] Trained a tree with leaves = 10 and depth = 4\n",
      "[LightGBM] [Debug] Trained a tree with leaves = 10 and depth = 7\n",
      "[LightGBM] [Debug] Trained a tree with leaves = 10 and depth = 6\n",
      "[LightGBM] [Debug] Trained a tree with leaves = 10 and depth = 5\n",
      "[LightGBM] [Debug] Trained a tree with leaves = 10 and depth = 6\n",
      "[LightGBM] [Debug] Trained a tree with leaves = 10 and depth = 6\n",
      "[LightGBM] [Debug] Trained a tree with leaves = 10 and depth = 7\n",
      "[LightGBM] [Debug] Trained a tree with leaves = 10 and depth = 5\n",
      "[LightGBM] [Debug] Trained a tree with leaves = 10 and depth = 5\n",
      "[LightGBM] [Debug] Trained a tree with leaves = 10 and depth = 5\n",
      "[LightGBM] [Debug] Trained a tree with leaves = 10 and depth = 7\n",
      "[LightGBM] [Debug] Trained a tree with leaves = 10 and depth = 9\n",
      "[LightGBM] [Debug] Trained a tree with leaves = 10 and depth = 4\n",
      "[LightGBM] [Debug] Trained a tree with leaves = 10 and depth = 9\n",
      "[LightGBM] [Debug] Trained a tree with leaves = 10 and depth = 6\n",
      "[LightGBM] [Debug] Trained a tree with leaves = 10 and depth = 5\n",
      "[LightGBM] [Debug] Trained a tree with leaves = 10 and depth = 5\n",
      "[LightGBM] [Debug] Trained a tree with leaves = 10 and depth = 9\n",
      "[LightGBM] [Debug] Trained a tree with leaves = 10 and depth = 7\n",
      "[LightGBM] [Debug] Trained a tree with leaves = 10 and depth = 6\n",
      "[LightGBM] [Debug] Trained a tree with leaves = 10 and depth = 5\n",
      "[LightGBM] [Debug] Trained a tree with leaves = 10 and depth = 5\n",
      "[LightGBM] [Debug] Trained a tree with leaves = 10 and depth = 4\n",
      "[LightGBM] [Debug] Trained a tree with leaves = 10 and depth = 6\n",
      "[LightGBM] [Debug] Trained a tree with leaves = 10 and depth = 6\n",
      "[LightGBM] [Debug] Trained a tree with leaves = 10 and depth = 6\n",
      "[LightGBM] [Debug] Trained a tree with leaves = 10 and depth = 7\n",
      "[LightGBM] [Debug] Trained a tree with leaves = 10 and depth = 7\n",
      "[LightGBM] [Debug] Trained a tree with leaves = 10 and depth = 9\n",
      "[LightGBM] [Debug] Trained a tree with leaves = 10 and depth = 6\n",
      "[LightGBM] [Debug] Trained a tree with leaves = 10 and depth = 8\n",
      "[LightGBM] [Debug] Trained a tree with leaves = 10 and depth = 8\n",
      "[LightGBM] [Debug] Trained a tree with leaves = 10 and depth = 5\n"
     ]
    }
   ],
   "source": [
    "cv_results_LGBMR = -1 * cross_val_score(lgb_model, X_train, y_train, cv=tscv, scoring='neg_root_mean_squared_error')"
   ]
  },
  {
   "cell_type": "code",
   "execution_count": 52,
   "metadata": {},
   "outputs": [
    {
     "data": {
      "text/plain": [
       "27.233575811731843"
      ]
     },
     "execution_count": 52,
     "metadata": {},
     "output_type": "execute_result"
    }
   ],
   "source": [
    "cv_lgb_train = cv_results_LGBMR.mean()\n",
    "cv_lgb_train"
   ]
  },
  {
   "cell_type": "markdown",
   "metadata": {},
   "source": [
    "## Тестирование"
   ]
  },
  {
   "cell_type": "code",
   "execution_count": 53,
   "metadata": {
    "scrolled": false
   },
   "outputs": [
    {
     "data": {
      "text/html": [
       "<div>\n",
       "<style scoped>\n",
       "    .dataframe tbody tr th:only-of-type {\n",
       "        vertical-align: middle;\n",
       "    }\n",
       "\n",
       "    .dataframe tbody tr th {\n",
       "        vertical-align: top;\n",
       "    }\n",
       "\n",
       "    .dataframe thead th {\n",
       "        text-align: right;\n",
       "    }\n",
       "</style>\n",
       "<table border=\"1\" class=\"dataframe\">\n",
       "  <thead>\n",
       "    <tr style=\"text-align: right;\">\n",
       "      <th></th>\n",
       "      <th>Model</th>\n",
       "      <th>Train_RMSE</th>\n",
       "    </tr>\n",
       "  </thead>\n",
       "  <tbody>\n",
       "    <tr>\n",
       "      <th>1</th>\n",
       "      <td>CatBoost</td>\n",
       "      <td>27.033257</td>\n",
       "    </tr>\n",
       "    <tr>\n",
       "      <th>4</th>\n",
       "      <td>LGBMRegressor</td>\n",
       "      <td>27.233576</td>\n",
       "    </tr>\n",
       "    <tr>\n",
       "      <th>2</th>\n",
       "      <td>XGBoost</td>\n",
       "      <td>27.643784</td>\n",
       "    </tr>\n",
       "    <tr>\n",
       "      <th>3</th>\n",
       "      <td>RandomF</td>\n",
       "      <td>28.506681</td>\n",
       "    </tr>\n",
       "    <tr>\n",
       "      <th>0</th>\n",
       "      <td>LinearR</td>\n",
       "      <td>31.666587</td>\n",
       "    </tr>\n",
       "  </tbody>\n",
       "</table>\n",
       "</div>"
      ],
      "text/plain": [
       "           Model  Train_RMSE\n",
       "1       CatBoost   27.033257\n",
       "4  LGBMRegressor   27.233576\n",
       "2        XGBoost   27.643784\n",
       "3        RandomF   28.506681\n",
       "0        LinearR   31.666587"
      ]
     },
     "execution_count": 53,
     "metadata": {},
     "output_type": "execute_result"
    }
   ],
   "source": [
    "models_table = pd.DataFrame({\n",
    "    'Model': ['LinearR', 'CatBoost', 'XGBoost', \n",
    "              'RandomF','LGBMRegressor'],\n",
    "    'Train_RMSE': [cv_lr_train, cv_catboost_train, grid_xgb_train,\n",
    "                   grid_forest_train, cv_lgb_train]})\n",
    "models_table.sort_values(by='Train_RMSE', ascending=True)"
   ]
  },
  {
   "cell_type": "markdown",
   "metadata": {},
   "source": [
    "Лучшие значения на train демострирует Catboost.\n",
    "Получим тестовые значения."
   ]
  },
  {
   "cell_type": "code",
   "execution_count": 54,
   "metadata": {},
   "outputs": [],
   "source": [
    "params = {'iterations': 206, # в соответствии с кросс-валидацией\n",
    "          'eval_metric': 'RMSE',\n",
    "          'loss_function': 'RMSE',\n",
    "          'learning_rate': 0.15,\n",
    "          'random_seed': 19,\n",
    "          'verbose':100}"
   ]
  },
  {
   "cell_type": "code",
   "execution_count": 55,
   "metadata": {},
   "outputs": [],
   "source": [
    "catboost_model = CatBoostRegressor(**params)"
   ]
  },
  {
   "cell_type": "code",
   "execution_count": 56,
   "metadata": {
    "scrolled": true
   },
   "outputs": [
    {
     "name": "stdout",
     "output_type": "stream",
     "text": [
      "0:\tlearn: 41.7466095\ttotal: 2.84ms\tremaining: 583ms\n",
      "100:\tlearn: 21.4595705\ttotal: 210ms\tremaining: 219ms\n",
      "200:\tlearn: 18.5308770\ttotal: 415ms\tremaining: 10.3ms\n",
      "205:\tlearn: 18.3712888\ttotal: 425ms\tremaining: 0us\n"
     ]
    },
    {
     "data": {
      "text/plain": [
       "<catboost.core.CatBoostRegressor at 0x7f6934051730>"
      ]
     },
     "execution_count": 56,
     "metadata": {},
     "output_type": "execute_result"
    }
   ],
   "source": [
    "catboost_model.fit(train_data)"
   ]
  },
  {
   "cell_type": "code",
   "execution_count": 57,
   "metadata": {},
   "outputs": [
    {
     "data": {
      "text/plain": [
       "25.79440715394129"
      ]
     },
     "execution_count": 57,
     "metadata": {},
     "output_type": "execute_result"
    }
   ],
   "source": [
    "catboost_y_pred = catboost_model.predict(test_data)\n",
    "catboost_test = mean_squared_error(y_test, catboost_y_pred, squared=False)\n",
    "catboost_test"
   ]
  },
  {
   "cell_type": "markdown",
   "metadata": {},
   "source": [
    "По условиям задания: Значение метрики *RMSE* на тестовой выборке должно быть не больше 48. \n",
    "\n",
    "\n",
    "Итоговое значение: 25.79"
   ]
  }
 ],
 "metadata": {
  "ExecuteTimeLog": [
   {
    "duration": 50,
    "start_time": "2022-09-05T17:19:41.046Z"
   },
   {
    "duration": 380,
    "start_time": "2022-09-05T17:19:57.156Z"
   },
   {
    "duration": 194,
    "start_time": "2022-09-05T17:19:58.992Z"
   },
   {
    "duration": 94,
    "start_time": "2022-09-05T17:20:04.201Z"
   },
   {
    "duration": 33,
    "start_time": "2022-09-05T17:21:16.866Z"
   },
   {
    "duration": 462,
    "start_time": "2022-09-05T17:21:23.394Z"
   },
   {
    "duration": 9,
    "start_time": "2022-09-05T17:21:32.090Z"
   },
   {
    "duration": 9,
    "start_time": "2022-09-05T17:21:40.466Z"
   },
   {
    "duration": 6,
    "start_time": "2022-09-05T17:21:45.890Z"
   },
   {
    "duration": 79,
    "start_time": "2022-09-05T17:23:00.835Z"
   },
   {
    "duration": 86,
    "start_time": "2022-09-05T17:23:05.002Z"
   },
   {
    "duration": 7,
    "start_time": "2022-09-05T17:23:07.691Z"
   },
   {
    "duration": 2,
    "start_time": "2022-09-05T17:23:16.675Z"
   },
   {
    "duration": 21,
    "start_time": "2022-09-05T17:23:19.634Z"
   },
   {
    "duration": 6,
    "start_time": "2022-09-05T17:23:24.170Z"
   },
   {
    "duration": 25,
    "start_time": "2022-09-05T17:23:36.850Z"
   },
   {
    "duration": 108,
    "start_time": "2022-09-05T17:27:02.666Z"
   },
   {
    "duration": 8,
    "start_time": "2022-09-05T17:27:12.290Z"
   },
   {
    "duration": 12,
    "start_time": "2022-09-05T17:27:15.417Z"
   },
   {
    "duration": 10,
    "start_time": "2022-09-05T17:27:31.290Z"
   },
   {
    "duration": 8,
    "start_time": "2022-09-05T17:27:45.585Z"
   },
   {
    "duration": 4,
    "start_time": "2022-09-05T17:28:07.538Z"
   },
   {
    "duration": 4,
    "start_time": "2022-09-05T17:28:45.315Z"
   },
   {
    "duration": 358,
    "start_time": "2022-09-05T17:29:27.314Z"
   },
   {
    "duration": 4,
    "start_time": "2022-09-05T17:29:39.249Z"
   },
   {
    "duration": 4,
    "start_time": "2022-09-05T17:29:42.410Z"
   },
   {
    "duration": 266,
    "start_time": "2022-09-05T17:29:45.043Z"
   },
   {
    "duration": 815,
    "start_time": "2022-09-05T17:31:09.955Z"
   },
   {
    "duration": 91,
    "start_time": "2022-09-05T17:31:36.035Z"
   },
   {
    "duration": 78,
    "start_time": "2022-09-05T17:31:39.530Z"
   },
   {
    "duration": 3,
    "start_time": "2022-09-05T17:31:41.713Z"
   },
   {
    "duration": 4,
    "start_time": "2022-09-05T17:31:44.010Z"
   },
   {
    "duration": 640,
    "start_time": "2022-09-05T17:31:45.722Z"
   },
   {
    "duration": 5,
    "start_time": "2022-09-05T17:32:46.146Z"
   },
   {
    "duration": 9,
    "start_time": "2022-09-05T17:33:04.395Z"
   },
   {
    "duration": 894,
    "start_time": "2022-09-05T17:33:07.161Z"
   },
   {
    "duration": 869,
    "start_time": "2022-09-05T17:33:13.026Z"
   },
   {
    "duration": 8,
    "start_time": "2022-09-05T17:34:02.531Z"
   },
   {
    "duration": 209,
    "start_time": "2022-09-05T17:34:16.682Z"
   },
   {
    "duration": 8,
    "start_time": "2022-09-05T17:34:38.034Z"
   },
   {
    "duration": 6,
    "start_time": "2022-09-05T17:34:42.969Z"
   },
   {
    "duration": 255,
    "start_time": "2022-09-05T17:34:48.314Z"
   },
   {
    "duration": 5,
    "start_time": "2022-09-05T17:35:00.801Z"
   },
   {
    "duration": 306,
    "start_time": "2022-09-05T17:35:01.929Z"
   },
   {
    "duration": 82,
    "start_time": "2022-09-05T17:35:09.081Z"
   },
   {
    "duration": 3,
    "start_time": "2022-09-05T17:35:09.986Z"
   },
   {
    "duration": 5,
    "start_time": "2022-09-05T17:35:11.809Z"
   },
   {
    "duration": 742,
    "start_time": "2022-09-05T17:35:14.385Z"
   },
   {
    "duration": 7,
    "start_time": "2022-09-05T17:35:19.871Z"
   },
   {
    "duration": 397,
    "start_time": "2022-09-05T17:35:20.993Z"
   },
   {
    "duration": 305,
    "start_time": "2022-09-05T17:39:01.825Z"
   },
   {
    "duration": 411,
    "start_time": "2022-09-05T17:39:11.569Z"
   },
   {
    "duration": 9,
    "start_time": "2022-09-05T17:41:35.801Z"
   },
   {
    "duration": 10,
    "start_time": "2022-09-05T17:41:52.953Z"
   },
   {
    "duration": 316,
    "start_time": "2022-09-05T17:42:02.425Z"
   },
   {
    "duration": 447,
    "start_time": "2022-09-05T17:45:42.640Z"
   },
   {
    "duration": 11,
    "start_time": "2022-09-05T17:45:46.328Z"
   },
   {
    "duration": 18,
    "start_time": "2022-09-05T17:46:02.003Z"
   },
   {
    "duration": 12,
    "start_time": "2022-09-05T17:46:16.720Z"
   },
   {
    "duration": 6,
    "start_time": "2022-09-05T17:46:21.319Z"
   },
   {
    "duration": 16,
    "start_time": "2022-09-05T17:46:47.802Z"
   },
   {
    "duration": 12,
    "start_time": "2022-09-05T17:47:08.184Z"
   },
   {
    "duration": 706,
    "start_time": "2022-09-05T17:47:18.753Z"
   },
   {
    "duration": 12,
    "start_time": "2022-09-05T17:47:31.920Z"
   },
   {
    "duration": 416,
    "start_time": "2022-09-05T17:47:33.592Z"
   },
   {
    "duration": 308,
    "start_time": "2022-09-05T17:47:49.552Z"
   },
   {
    "duration": 179,
    "start_time": "2022-09-05T17:47:58.001Z"
   },
   {
    "duration": 129,
    "start_time": "2022-09-05T17:48:02.736Z"
   },
   {
    "duration": 180,
    "start_time": "2022-09-05T17:48:06.249Z"
   },
   {
    "duration": 447,
    "start_time": "2022-09-05T17:49:12.017Z"
   },
   {
    "duration": 8,
    "start_time": "2022-09-05T17:49:21.552Z"
   },
   {
    "duration": 491,
    "start_time": "2022-09-05T17:49:22.985Z"
   },
   {
    "duration": 351,
    "start_time": "2022-09-05T17:49:50.097Z"
   },
   {
    "duration": 83,
    "start_time": "2022-09-05T17:56:58.816Z"
   },
   {
    "duration": 104,
    "start_time": "2022-09-05T17:57:08.767Z"
   },
   {
    "duration": 9,
    "start_time": "2022-09-05T17:57:14.497Z"
   },
   {
    "duration": 7,
    "start_time": "2022-09-05T17:57:18.274Z"
   },
   {
    "duration": 5,
    "start_time": "2022-09-05T17:57:33.266Z"
   },
   {
    "duration": 15,
    "start_time": "2022-09-05T17:58:28.682Z"
   },
   {
    "duration": 9,
    "start_time": "2022-09-05T17:58:40.601Z"
   },
   {
    "duration": 10,
    "start_time": "2022-09-05T17:59:02.096Z"
   },
   {
    "duration": 9,
    "start_time": "2022-09-05T17:59:04.313Z"
   },
   {
    "duration": 15,
    "start_time": "2022-09-05T18:00:01.250Z"
   },
   {
    "duration": 9,
    "start_time": "2022-09-05T18:00:07.354Z"
   },
   {
    "duration": 22,
    "start_time": "2022-09-05T18:00:49.834Z"
   },
   {
    "duration": 22,
    "start_time": "2022-09-05T18:02:18.299Z"
   },
   {
    "duration": 16,
    "start_time": "2022-09-05T18:03:43.492Z"
   },
   {
    "duration": 17,
    "start_time": "2022-09-05T18:04:09.308Z"
   },
   {
    "duration": 20,
    "start_time": "2022-09-05T18:05:26.059Z"
   },
   {
    "duration": 77,
    "start_time": "2022-09-05T18:05:53.140Z"
   },
   {
    "duration": 18,
    "start_time": "2022-09-05T18:06:04.890Z"
   },
   {
    "duration": 24,
    "start_time": "2022-09-05T18:06:07.773Z"
   },
   {
    "duration": 361,
    "start_time": "2022-09-05T18:08:33.685Z"
   },
   {
    "duration": 5,
    "start_time": "2022-09-05T18:09:46.292Z"
   },
   {
    "duration": 7,
    "start_time": "2022-09-05T18:10:14.420Z"
   },
   {
    "duration": 23,
    "start_time": "2022-09-05T18:10:23.540Z"
   },
   {
    "duration": 9,
    "start_time": "2022-09-05T18:12:36.085Z"
   },
   {
    "duration": 4,
    "start_time": "2022-09-05T18:12:51.780Z"
   },
   {
    "duration": 22,
    "start_time": "2022-09-05T18:15:03.142Z"
   },
   {
    "duration": 3,
    "start_time": "2022-09-05T18:15:22.429Z"
   },
   {
    "duration": 4,
    "start_time": "2022-09-05T18:15:23.520Z"
   },
   {
    "duration": 4,
    "start_time": "2022-09-05T18:15:27.740Z"
   },
   {
    "duration": 14,
    "start_time": "2022-09-05T18:17:31.036Z"
   },
   {
    "duration": 11,
    "start_time": "2022-09-05T18:17:32.892Z"
   },
   {
    "duration": 12,
    "start_time": "2022-09-05T18:17:36.253Z"
   },
   {
    "duration": 3,
    "start_time": "2022-09-05T18:18:01.302Z"
   },
   {
    "duration": 3,
    "start_time": "2022-09-05T18:18:04.149Z"
   },
   {
    "duration": 4,
    "start_time": "2022-09-05T18:18:23.733Z"
   },
   {
    "duration": 6,
    "start_time": "2022-09-05T18:18:29.636Z"
   },
   {
    "duration": 4,
    "start_time": "2022-09-05T18:18:33.453Z"
   },
   {
    "duration": 4,
    "start_time": "2022-09-05T18:18:49.516Z"
   },
   {
    "duration": 7,
    "start_time": "2022-09-05T18:19:13.166Z"
   },
   {
    "duration": 5,
    "start_time": "2022-09-05T18:19:19.365Z"
   },
   {
    "duration": 4,
    "start_time": "2022-09-05T18:19:22.724Z"
   },
   {
    "duration": 7,
    "start_time": "2022-09-05T18:22:41.262Z"
   },
   {
    "duration": 224,
    "start_time": "2022-09-05T18:22:42.870Z"
   },
   {
    "duration": 6,
    "start_time": "2022-09-05T18:22:44.085Z"
   },
   {
    "duration": 12,
    "start_time": "2022-09-05T18:22:46.877Z"
   },
   {
    "duration": 7,
    "start_time": "2022-09-05T18:23:03.709Z"
   },
   {
    "duration": 4,
    "start_time": "2022-09-05T18:23:07.221Z"
   },
   {
    "duration": 24,
    "start_time": "2022-09-05T18:23:11.964Z"
   },
   {
    "duration": 18,
    "start_time": "2022-09-05T18:23:44.549Z"
   },
   {
    "duration": 7,
    "start_time": "2022-09-05T18:23:44.569Z"
   },
   {
    "duration": 13,
    "start_time": "2022-09-05T18:23:44.578Z"
   },
   {
    "duration": 7,
    "start_time": "2022-09-05T18:23:44.593Z"
   },
   {
    "duration": 5,
    "start_time": "2022-09-05T18:23:44.602Z"
   },
   {
    "duration": 18,
    "start_time": "2022-09-05T18:23:44.608Z"
   },
   {
    "duration": 170,
    "start_time": "2022-09-05T18:23:44.628Z"
   },
   {
    "duration": 9,
    "start_time": "2022-09-05T18:23:44.800Z"
   },
   {
    "duration": 9,
    "start_time": "2022-09-05T18:23:44.811Z"
   },
   {
    "duration": 7,
    "start_time": "2022-09-05T18:23:44.822Z"
   },
   {
    "duration": 7,
    "start_time": "2022-09-05T18:23:44.830Z"
   },
   {
    "duration": 9,
    "start_time": "2022-09-05T18:23:44.838Z"
   },
   {
    "duration": 6,
    "start_time": "2022-09-05T18:23:44.849Z"
   },
   {
    "duration": 54,
    "start_time": "2022-09-05T18:25:33.334Z"
   },
   {
    "duration": 13,
    "start_time": "2022-09-05T18:26:32.685Z"
   },
   {
    "duration": 3,
    "start_time": "2022-09-05T18:27:18.267Z"
   },
   {
    "duration": 11,
    "start_time": "2022-09-05T18:27:23.733Z"
   },
   {
    "duration": 7,
    "start_time": "2022-09-05T18:28:27.090Z"
   },
   {
    "duration": 430,
    "start_time": "2022-09-05T18:28:36.117Z"
   },
   {
    "duration": 164,
    "start_time": "2022-09-05T18:28:36.549Z"
   },
   {
    "duration": 100,
    "start_time": "2022-09-05T18:28:36.715Z"
   },
   {
    "duration": 2,
    "start_time": "2022-09-05T18:28:36.818Z"
   },
   {
    "duration": 23,
    "start_time": "2022-09-05T18:28:36.822Z"
   },
   {
    "duration": 1148,
    "start_time": "2022-09-05T18:28:36.847Z"
   },
   {
    "duration": 63,
    "start_time": "2022-09-05T18:28:37.998Z"
   },
   {
    "duration": 376,
    "start_time": "2022-09-05T18:28:38.063Z"
   },
   {
    "duration": 7,
    "start_time": "2022-09-05T18:28:38.440Z"
   },
   {
    "duration": 407,
    "start_time": "2022-09-05T18:28:38.450Z"
   },
   {
    "duration": 488,
    "start_time": "2022-09-05T18:28:38.859Z"
   },
   {
    "duration": 350,
    "start_time": "2022-09-05T18:28:39.349Z"
   },
   {
    "duration": 89,
    "start_time": "2022-09-05T18:28:39.701Z"
   },
   {
    "duration": 7,
    "start_time": "2022-09-05T18:28:39.792Z"
   },
   {
    "duration": 16,
    "start_time": "2022-09-05T18:28:39.801Z"
   },
   {
    "duration": 27,
    "start_time": "2022-09-05T18:28:39.819Z"
   },
   {
    "duration": 31,
    "start_time": "2022-09-05T18:28:39.847Z"
   },
   {
    "duration": 304,
    "start_time": "2022-09-05T18:28:39.880Z"
   },
   {
    "duration": 4,
    "start_time": "2022-09-05T18:28:40.186Z"
   },
   {
    "duration": 8,
    "start_time": "2022-09-05T18:28:40.192Z"
   },
   {
    "duration": 29,
    "start_time": "2022-09-05T18:28:40.202Z"
   },
   {
    "duration": 11,
    "start_time": "2022-09-05T18:28:40.233Z"
   },
   {
    "duration": 47,
    "start_time": "2022-09-05T18:28:40.246Z"
   },
   {
    "duration": 104,
    "start_time": "2022-09-05T18:28:40.295Z"
   },
   {
    "duration": 8,
    "start_time": "2022-09-05T18:28:40.401Z"
   },
   {
    "duration": 11,
    "start_time": "2022-09-05T18:28:40.411Z"
   },
   {
    "duration": 5,
    "start_time": "2022-09-05T18:28:40.424Z"
   },
   {
    "duration": 7,
    "start_time": "2022-09-05T18:28:40.432Z"
   },
   {
    "duration": 126,
    "start_time": "2022-09-05T18:28:40.441Z"
   },
   {
    "duration": 0,
    "start_time": "2022-09-05T18:28:40.568Z"
   },
   {
    "duration": 0,
    "start_time": "2022-09-05T18:28:40.570Z"
   },
   {
    "duration": 0,
    "start_time": "2022-09-05T18:28:40.571Z"
   },
   {
    "duration": 5,
    "start_time": "2022-09-05T18:28:48.914Z"
   },
   {
    "duration": 58,
    "start_time": "2022-09-05T18:28:51.125Z"
   },
   {
    "duration": 3,
    "start_time": "2022-09-05T18:28:52.237Z"
   },
   {
    "duration": 14,
    "start_time": "2022-09-05T18:28:55.997Z"
   },
   {
    "duration": 3,
    "start_time": "2022-09-05T18:29:17.102Z"
   },
   {
    "duration": 50,
    "start_time": "2022-09-05T18:30:39.765Z"
   },
   {
    "duration": 401,
    "start_time": "2022-09-05T18:30:42.740Z"
   },
   {
    "duration": 94,
    "start_time": "2022-09-05T18:30:43.143Z"
   },
   {
    "duration": 77,
    "start_time": "2022-09-05T18:30:43.238Z"
   },
   {
    "duration": 4,
    "start_time": "2022-09-05T18:30:43.316Z"
   },
   {
    "duration": 5,
    "start_time": "2022-09-05T18:30:43.323Z"
   },
   {
    "duration": 1102,
    "start_time": "2022-09-05T18:30:43.329Z"
   },
   {
    "duration": 60,
    "start_time": "2022-09-05T18:30:44.433Z"
   },
   {
    "duration": 332,
    "start_time": "2022-09-05T18:30:44.495Z"
   },
   {
    "duration": 6,
    "start_time": "2022-09-05T18:30:44.829Z"
   },
   {
    "duration": 391,
    "start_time": "2022-09-05T18:30:44.837Z"
   },
   {
    "duration": 512,
    "start_time": "2022-09-05T18:30:45.231Z"
   },
   {
    "duration": 332,
    "start_time": "2022-09-05T18:30:45.745Z"
   },
   {
    "duration": 104,
    "start_time": "2022-09-05T18:30:46.079Z"
   },
   {
    "duration": 7,
    "start_time": "2022-09-05T18:30:46.186Z"
   },
   {
    "duration": 9,
    "start_time": "2022-09-05T18:30:46.195Z"
   },
   {
    "duration": 4,
    "start_time": "2022-09-05T18:30:46.206Z"
   },
   {
    "duration": 20,
    "start_time": "2022-09-05T18:30:46.212Z"
   },
   {
    "duration": 265,
    "start_time": "2022-09-05T18:30:46.234Z"
   },
   {
    "duration": 4,
    "start_time": "2022-09-05T18:30:46.501Z"
   },
   {
    "duration": 14,
    "start_time": "2022-09-05T18:30:46.507Z"
   },
   {
    "duration": 26,
    "start_time": "2022-09-05T18:30:46.523Z"
   },
   {
    "duration": 44,
    "start_time": "2022-09-05T18:30:46.551Z"
   },
   {
    "duration": 95,
    "start_time": "2022-09-05T18:30:46.597Z"
   },
   {
    "duration": 5,
    "start_time": "2022-09-05T18:30:46.694Z"
   },
   {
    "duration": 5,
    "start_time": "2022-09-05T18:30:46.701Z"
   },
   {
    "duration": 6,
    "start_time": "2022-09-05T18:30:46.708Z"
   },
   {
    "duration": 6,
    "start_time": "2022-09-05T18:30:46.716Z"
   },
   {
    "duration": 9,
    "start_time": "2022-09-05T18:30:46.723Z"
   },
   {
    "duration": 6,
    "start_time": "2022-09-05T18:30:46.734Z"
   },
   {
    "duration": 86,
    "start_time": "2022-09-05T18:30:46.742Z"
   },
   {
    "duration": 77,
    "start_time": "2022-09-05T18:30:48.262Z"
   },
   {
    "duration": 7,
    "start_time": "2022-09-05T18:30:52.582Z"
   },
   {
    "duration": 3,
    "start_time": "2022-09-05T18:30:54.383Z"
   },
   {
    "duration": 11973,
    "start_time": "2022-09-05T18:31:03.519Z"
   },
   {
    "duration": 2,
    "start_time": "2022-09-05T18:31:48.097Z"
   },
   {
    "duration": 841,
    "start_time": "2022-09-05T18:31:49.894Z"
   },
   {
    "duration": 4,
    "start_time": "2022-09-05T18:32:19.358Z"
   },
   {
    "duration": 659,
    "start_time": "2022-09-05T18:32:20.606Z"
   },
   {
    "duration": 3,
    "start_time": "2022-09-05T18:32:42.535Z"
   },
   {
    "duration": 5159,
    "start_time": "2022-09-05T18:32:43.727Z"
   },
   {
    "duration": 17,
    "start_time": "2022-09-05T18:33:02.495Z"
   },
   {
    "duration": 9,
    "start_time": "2022-09-05T18:34:06.119Z"
   },
   {
    "duration": 4,
    "start_time": "2022-09-05T18:34:22.838Z"
   },
   {
    "duration": 3,
    "start_time": "2022-09-05T18:38:04.033Z"
   },
   {
    "duration": 3,
    "start_time": "2022-09-05T18:38:08.081Z"
   },
   {
    "duration": 812,
    "start_time": "2022-09-05T18:38:17.392Z"
   },
   {
    "duration": 10,
    "start_time": "2022-09-05T18:38:37.672Z"
   },
   {
    "duration": 3,
    "start_time": "2022-09-05T18:38:46.689Z"
   },
   {
    "duration": 3,
    "start_time": "2022-09-05T18:38:48.000Z"
   },
   {
    "duration": 2,
    "start_time": "2022-09-05T18:38:48.841Z"
   },
   {
    "duration": 650,
    "start_time": "2022-09-05T18:38:49.593Z"
   },
   {
    "duration": 5,
    "start_time": "2022-09-05T18:40:31.289Z"
   },
   {
    "duration": 829,
    "start_time": "2022-09-05T18:40:33.177Z"
   },
   {
    "duration": 6,
    "start_time": "2022-09-05T18:40:36.340Z"
   },
   {
    "duration": 16,
    "start_time": "2022-09-05T18:41:12.321Z"
   },
   {
    "duration": 74,
    "start_time": "2022-09-05T18:41:31.698Z"
   },
   {
    "duration": 4,
    "start_time": "2022-09-05T18:41:35.426Z"
   },
   {
    "duration": 5,
    "start_time": "2022-09-05T18:41:39.080Z"
   },
   {
    "duration": 4,
    "start_time": "2022-09-05T18:41:54.298Z"
   },
   {
    "duration": 106,
    "start_time": "2022-09-05T18:43:15.810Z"
   },
   {
    "duration": 3,
    "start_time": "2022-09-05T18:43:58.355Z"
   },
   {
    "duration": 13,
    "start_time": "2022-09-05T18:44:00.082Z"
   },
   {
    "duration": 16,
    "start_time": "2022-09-05T18:44:28.898Z"
   },
   {
    "duration": 31,
    "start_time": "2022-09-05T18:44:54.666Z"
   },
   {
    "duration": 137621,
    "start_time": "2022-09-05T18:44:57.587Z"
   },
   {
    "duration": 6281,
    "start_time": "2022-09-05T18:47:35.514Z"
   },
   {
    "duration": 12,
    "start_time": "2022-09-05T18:48:26.587Z"
   },
   {
    "duration": 5,
    "start_time": "2022-09-05T18:48:47.875Z"
   },
   {
    "duration": 4,
    "start_time": "2022-09-05T18:48:53.906Z"
   },
   {
    "duration": 4,
    "start_time": "2022-09-05T18:48:55.019Z"
   },
   {
    "duration": 3,
    "start_time": "2022-09-05T18:49:19.306Z"
   },
   {
    "duration": 11,
    "start_time": "2022-09-05T18:49:20.258Z"
   },
   {
    "duration": 517290,
    "start_time": "2022-09-05T18:49:21.002Z"
   },
   {
    "duration": 2925,
    "start_time": "2022-09-05T19:01:39.267Z"
   },
   {
    "duration": 8,
    "start_time": "2022-09-05T19:01:43.651Z"
   },
   {
    "duration": 4,
    "start_time": "2022-09-05T19:01:44.811Z"
   },
   {
    "duration": 4,
    "start_time": "2022-09-05T19:01:45.739Z"
   },
   {
    "duration": 4,
    "start_time": "2022-09-05T19:01:46.972Z"
   },
   {
    "duration": 5,
    "start_time": "2022-09-05T19:04:59.972Z"
   },
   {
    "duration": 4,
    "start_time": "2022-09-05T19:05:06.084Z"
   },
   {
    "duration": 4,
    "start_time": "2022-09-05T19:05:07.467Z"
   },
   {
    "duration": 15,
    "start_time": "2022-09-05T19:05:43.316Z"
   },
   {
    "duration": 15,
    "start_time": "2022-09-05T19:05:59.340Z"
   },
   {
    "duration": 11,
    "start_time": "2022-09-05T19:06:08.505Z"
   },
   {
    "duration": 12,
    "start_time": "2022-09-05T19:06:30.083Z"
   },
   {
    "duration": 12,
    "start_time": "2022-09-05T19:06:36.634Z"
   },
   {
    "duration": 85,
    "start_time": "2022-09-05T19:06:43.658Z"
   },
   {
    "duration": 13,
    "start_time": "2022-09-05T19:07:00.082Z"
   },
   {
    "duration": 12,
    "start_time": "2022-09-05T19:07:06.002Z"
   },
   {
    "duration": 1724,
    "start_time": "2022-09-05T19:11:17.475Z"
   },
   {
    "duration": 132,
    "start_time": "2022-09-05T19:11:19.201Z"
   },
   {
    "duration": 83,
    "start_time": "2022-09-05T19:11:19.335Z"
   },
   {
    "duration": 3,
    "start_time": "2022-09-05T19:11:19.421Z"
   },
   {
    "duration": 8,
    "start_time": "2022-09-05T19:11:19.426Z"
   },
   {
    "duration": 919,
    "start_time": "2022-09-05T19:11:19.436Z"
   },
   {
    "duration": 10,
    "start_time": "2022-09-05T19:11:20.358Z"
   },
   {
    "duration": 330,
    "start_time": "2022-09-05T19:11:20.369Z"
   },
   {
    "duration": 8,
    "start_time": "2022-09-05T19:11:20.701Z"
   },
   {
    "duration": 400,
    "start_time": "2022-09-05T19:11:20.712Z"
   },
   {
    "duration": 10,
    "start_time": "2022-09-05T19:11:21.113Z"
   },
   {
    "duration": 436,
    "start_time": "2022-09-05T19:11:21.125Z"
   },
   {
    "duration": 138,
    "start_time": "2022-09-05T19:11:21.563Z"
   },
   {
    "duration": 19,
    "start_time": "2022-09-05T19:11:21.703Z"
   },
   {
    "duration": 15,
    "start_time": "2022-09-05T19:11:21.723Z"
   },
   {
    "duration": 16,
    "start_time": "2022-09-05T19:11:21.740Z"
   },
   {
    "duration": 41,
    "start_time": "2022-09-05T19:11:21.758Z"
   },
   {
    "duration": 113,
    "start_time": "2022-09-05T19:11:21.802Z"
   },
   {
    "duration": 23,
    "start_time": "2022-09-05T19:11:21.918Z"
   },
   {
    "duration": 34,
    "start_time": "2022-09-05T19:11:21.944Z"
   },
   {
    "duration": 35,
    "start_time": "2022-09-05T19:11:21.980Z"
   },
   {
    "duration": 25,
    "start_time": "2022-09-05T19:11:22.018Z"
   },
   {
    "duration": 13,
    "start_time": "2022-09-05T19:11:22.045Z"
   },
   {
    "duration": 43,
    "start_time": "2022-09-05T19:11:22.060Z"
   },
   {
    "duration": 40,
    "start_time": "2022-09-05T19:11:22.105Z"
   },
   {
    "duration": 4998,
    "start_time": "2022-09-05T19:11:22.148Z"
   },
   {
    "duration": 14,
    "start_time": "2022-09-05T19:11:27.148Z"
   },
   {
    "duration": 13,
    "start_time": "2022-09-05T19:11:27.166Z"
   },
   {
    "duration": 11,
    "start_time": "2022-09-05T19:11:27.181Z"
   },
   {
    "duration": 8,
    "start_time": "2022-09-05T19:11:27.194Z"
   },
   {
    "duration": 6,
    "start_time": "2022-09-05T19:11:27.204Z"
   },
   {
    "duration": 661,
    "start_time": "2022-09-05T19:11:27.212Z"
   },
   {
    "duration": 597,
    "start_time": "2022-09-05T19:11:27.876Z"
   },
   {
    "duration": 5,
    "start_time": "2022-09-05T19:11:28.474Z"
   },
   {
    "duration": 24,
    "start_time": "2022-09-05T19:11:28.480Z"
   },
   {
    "duration": 12,
    "start_time": "2022-09-05T19:11:28.505Z"
   },
   {
    "duration": 5,
    "start_time": "2022-09-05T19:11:28.519Z"
   },
   {
    "duration": 6,
    "start_time": "2022-09-05T19:11:28.526Z"
   },
   {
    "duration": 67,
    "start_time": "2022-09-05T19:11:28.533Z"
   },
   {
    "duration": 82306,
    "start_time": "2022-09-05T19:11:28.602Z"
   },
   {
    "duration": 6194,
    "start_time": "2022-09-05T19:12:50.910Z"
   },
   {
    "duration": 89,
    "start_time": "2022-09-05T19:12:57.106Z"
   },
   {
    "duration": 4,
    "start_time": "2022-09-05T19:12:57.197Z"
   },
   {
    "duration": 8,
    "start_time": "2022-09-05T19:12:57.203Z"
   },
   {
    "duration": 9,
    "start_time": "2022-09-05T19:12:57.212Z"
   },
   {
    "duration": 13,
    "start_time": "2022-09-05T19:12:57.223Z"
   },
   {
    "duration": 115,
    "start_time": "2022-09-05T19:20:52.360Z"
   },
   {
    "duration": 5120,
    "start_time": "2022-09-05T19:21:25.144Z"
   },
   {
    "duration": 348,
    "start_time": "2022-09-05T19:21:35.824Z"
   },
   {
    "duration": 48,
    "start_time": "2022-09-05T19:22:36.012Z"
   },
   {
    "duration": 17,
    "start_time": "2022-09-05T19:23:49.497Z"
   },
   {
    "duration": 17,
    "start_time": "2022-09-05T19:23:50.288Z"
   },
   {
    "duration": 3,
    "start_time": "2022-09-05T19:24:01.264Z"
   },
   {
    "duration": 3,
    "start_time": "2022-09-05T19:25:05.521Z"
   },
   {
    "duration": 302718,
    "start_time": "2022-09-05T19:25:22.503Z"
   },
   {
    "duration": 2,
    "start_time": "2022-09-05T19:30:41.589Z"
   },
   {
    "duration": 28,
    "start_time": "2022-09-05T19:31:13.104Z"
   },
   {
    "duration": 2,
    "start_time": "2022-09-05T19:31:13.921Z"
   },
   {
    "duration": 2,
    "start_time": "2022-09-05T19:31:18.684Z"
   },
   {
    "duration": 3,
    "start_time": "2022-09-05T19:31:22.655Z"
   },
   {
    "duration": 15,
    "start_time": "2022-09-05T19:31:26.216Z"
   },
   {
    "duration": 3,
    "start_time": "2022-09-05T19:31:37.936Z"
   },
   {
    "duration": 4323,
    "start_time": "2022-09-05T19:31:52.536Z"
   },
   {
    "duration": 4,
    "start_time": "2022-09-05T19:32:03.880Z"
   },
   {
    "duration": 10,
    "start_time": "2022-09-05T19:32:21.665Z"
   },
   {
    "duration": 3,
    "start_time": "2022-09-05T19:32:25.983Z"
   },
   {
    "duration": 137,
    "start_time": "2022-09-05T19:33:07.087Z"
   },
   {
    "duration": 140,
    "start_time": "2022-09-05T19:33:22.832Z"
   },
   {
    "duration": 4,
    "start_time": "2022-09-05T19:33:29.408Z"
   },
   {
    "duration": 4,
    "start_time": "2022-09-05T19:33:36.816Z"
   },
   {
    "duration": 155,
    "start_time": "2022-09-05T19:33:59.552Z"
   },
   {
    "duration": 8,
    "start_time": "2022-09-05T19:34:15.568Z"
   },
   {
    "duration": 3,
    "start_time": "2022-09-05T19:34:24.656Z"
   },
   {
    "duration": 4,
    "start_time": "2022-09-05T19:34:26.120Z"
   },
   {
    "duration": 4,
    "start_time": "2022-09-05T19:34:47.728Z"
   },
   {
    "duration": 3,
    "start_time": "2022-09-05T19:34:51.640Z"
   },
   {
    "duration": 19,
    "start_time": "2022-09-05T19:34:51.645Z"
   },
   {
    "duration": 11,
    "start_time": "2022-09-05T19:34:51.666Z"
   },
   {
    "duration": 9680,
    "start_time": "2022-09-05T19:34:51.679Z"
   },
   {
    "duration": 4,
    "start_time": "2022-09-05T19:35:01.361Z"
   },
   {
    "duration": 123,
    "start_time": "2022-09-05T19:35:01.367Z"
   },
   {
    "duration": 290,
    "start_time": "2022-09-05T19:35:01.491Z"
   },
   {
    "duration": 11,
    "start_time": "2022-09-05T19:35:01.784Z"
   },
   {
    "duration": 17,
    "start_time": "2022-09-05T19:35:01.798Z"
   },
   {
    "duration": 11,
    "start_time": "2022-09-05T19:35:01.818Z"
   },
   {
    "duration": 3,
    "start_time": "2022-09-05T19:35:32.399Z"
   },
   {
    "duration": 3,
    "start_time": "2022-09-05T19:35:35.446Z"
   },
   {
    "duration": 72,
    "start_time": "2022-09-05T19:35:35.451Z"
   },
   {
    "duration": 31,
    "start_time": "2022-09-05T19:35:35.525Z"
   },
   {
    "duration": 19975,
    "start_time": "2022-09-05T19:35:35.558Z"
   },
   {
    "duration": 4,
    "start_time": "2022-09-05T19:35:55.535Z"
   },
   {
    "duration": 13,
    "start_time": "2022-09-05T19:35:55.540Z"
   },
   {
    "duration": 619,
    "start_time": "2022-09-05T19:35:55.555Z"
   },
   {
    "duration": 5,
    "start_time": "2022-09-05T19:35:56.176Z"
   },
   {
    "duration": 12,
    "start_time": "2022-09-05T19:35:56.182Z"
   },
   {
    "duration": 9,
    "start_time": "2022-09-05T19:35:56.196Z"
   },
   {
    "duration": 3,
    "start_time": "2022-09-05T19:36:13.080Z"
   },
   {
    "duration": 3,
    "start_time": "2022-09-05T19:36:15.905Z"
   },
   {
    "duration": 10,
    "start_time": "2022-09-05T19:36:15.910Z"
   },
   {
    "duration": 6,
    "start_time": "2022-09-05T19:36:15.922Z"
   },
   {
    "duration": 2194,
    "start_time": "2022-09-05T19:36:15.930Z"
   },
   {
    "duration": 4,
    "start_time": "2022-09-05T19:36:18.126Z"
   },
   {
    "duration": 6,
    "start_time": "2022-09-05T19:36:18.131Z"
   },
   {
    "duration": 67,
    "start_time": "2022-09-05T19:36:18.139Z"
   },
   {
    "duration": 5,
    "start_time": "2022-09-05T19:36:18.208Z"
   },
   {
    "duration": 10,
    "start_time": "2022-09-05T19:36:18.214Z"
   },
   {
    "duration": 7,
    "start_time": "2022-09-05T19:36:18.226Z"
   },
   {
    "duration": 3,
    "start_time": "2022-09-05T19:36:41.536Z"
   },
   {
    "duration": 3,
    "start_time": "2022-09-05T19:36:43.765Z"
   },
   {
    "duration": 48,
    "start_time": "2022-09-05T19:36:43.770Z"
   },
   {
    "duration": 20,
    "start_time": "2022-09-05T19:36:43.819Z"
   },
   {
    "duration": 9710,
    "start_time": "2022-09-05T19:36:43.842Z"
   },
   {
    "duration": 4,
    "start_time": "2022-09-05T19:36:53.554Z"
   },
   {
    "duration": 9,
    "start_time": "2022-09-05T19:36:53.560Z"
   },
   {
    "duration": 284,
    "start_time": "2022-09-05T19:36:53.571Z"
   },
   {
    "duration": 4,
    "start_time": "2022-09-05T19:36:53.857Z"
   },
   {
    "duration": 6,
    "start_time": "2022-09-05T19:36:53.862Z"
   },
   {
    "duration": 5,
    "start_time": "2022-09-05T19:36:53.870Z"
   },
   {
    "duration": 3,
    "start_time": "2022-09-05T19:37:04.411Z"
   },
   {
    "duration": 19,
    "start_time": "2022-09-05T19:37:04.417Z"
   },
   {
    "duration": 12,
    "start_time": "2022-09-05T19:37:04.438Z"
   },
   {
    "duration": 5284,
    "start_time": "2022-09-05T19:37:04.451Z"
   },
   {
    "duration": 4,
    "start_time": "2022-09-05T19:37:09.737Z"
   },
   {
    "duration": 6,
    "start_time": "2022-09-05T19:37:09.743Z"
   },
   {
    "duration": 225,
    "start_time": "2022-09-05T19:37:09.751Z"
   },
   {
    "duration": 5,
    "start_time": "2022-09-05T19:37:09.978Z"
   },
   {
    "duration": 9,
    "start_time": "2022-09-05T19:37:09.985Z"
   },
   {
    "duration": 7,
    "start_time": "2022-09-05T19:37:09.995Z"
   },
   {
    "duration": 3,
    "start_time": "2022-09-05T19:39:29.935Z"
   },
   {
    "duration": 12,
    "start_time": "2022-09-05T19:40:07.471Z"
   },
   {
    "duration": 9,
    "start_time": "2022-09-05T19:53:56.966Z"
   },
   {
    "duration": 9,
    "start_time": "2022-09-05T19:54:28.486Z"
   },
   {
    "duration": 9,
    "start_time": "2022-09-05T19:55:19.246Z"
   },
   {
    "duration": 11,
    "start_time": "2022-09-05T19:56:05.183Z"
   },
   {
    "duration": 9,
    "start_time": "2022-09-05T19:56:06.190Z"
   },
   {
    "duration": 4,
    "start_time": "2022-09-05T19:56:07.134Z"
   },
   {
    "duration": 4,
    "start_time": "2022-09-05T19:56:14.453Z"
   },
   {
    "duration": 5,
    "start_time": "2022-09-05T19:56:15.256Z"
   },
   {
    "duration": 4,
    "start_time": "2022-09-05T19:57:12.546Z"
   },
   {
    "duration": 275,
    "start_time": "2022-09-05T19:57:12.552Z"
   },
   {
    "duration": 81,
    "start_time": "2022-09-05T19:57:12.829Z"
   },
   {
    "duration": 3,
    "start_time": "2022-09-05T19:57:12.912Z"
   },
   {
    "duration": 9,
    "start_time": "2022-09-05T19:57:12.918Z"
   },
   {
    "duration": 752,
    "start_time": "2022-09-05T19:57:12.928Z"
   },
   {
    "duration": 13,
    "start_time": "2022-09-05T19:57:13.682Z"
   },
   {
    "duration": 447,
    "start_time": "2022-09-05T19:57:13.697Z"
   },
   {
    "duration": 5,
    "start_time": "2022-09-05T19:57:14.146Z"
   },
   {
    "duration": 381,
    "start_time": "2022-09-05T19:57:14.153Z"
   },
   {
    "duration": 10,
    "start_time": "2022-09-05T19:57:14.535Z"
   },
   {
    "duration": 8,
    "start_time": "2022-09-05T19:58:04.782Z"
   },
   {
    "duration": 16,
    "start_time": "2022-09-05T19:58:10.568Z"
   },
   {
    "duration": 19,
    "start_time": "2022-09-05T19:58:56.566Z"
   },
   {
    "duration": 18,
    "start_time": "2022-09-05T19:59:23.534Z"
   },
   {
    "duration": 10,
    "start_time": "2022-09-05T19:59:27.215Z"
   },
   {
    "duration": 17,
    "start_time": "2022-09-05T19:59:29.582Z"
   },
   {
    "duration": 17,
    "start_time": "2022-09-05T19:59:32.023Z"
   },
   {
    "duration": 11,
    "start_time": "2022-09-05T20:00:14.895Z"
   },
   {
    "duration": 189,
    "start_time": "2022-09-05T20:00:26.479Z"
   },
   {
    "duration": 206,
    "start_time": "2022-09-05T20:01:05.342Z"
   },
   {
    "duration": 234,
    "start_time": "2022-09-05T20:01:12.522Z"
   },
   {
    "duration": 7,
    "start_time": "2022-09-05T20:01:50.414Z"
   },
   {
    "duration": 138,
    "start_time": "2022-09-05T20:02:09.751Z"
   },
   {
    "duration": 111,
    "start_time": "2022-09-05T20:02:36.333Z"
   },
   {
    "duration": 7,
    "start_time": "2022-09-05T20:03:26.342Z"
   },
   {
    "duration": 8,
    "start_time": "2022-09-05T20:03:46.830Z"
   },
   {
    "duration": 18,
    "start_time": "2022-09-05T20:05:04.390Z"
   },
   {
    "duration": 78,
    "start_time": "2022-09-05T20:06:49.023Z"
   },
   {
    "duration": 20,
    "start_time": "2022-09-05T20:06:49.103Z"
   },
   {
    "duration": 4,
    "start_time": "2022-09-05T20:06:49.125Z"
   },
   {
    "duration": 8,
    "start_time": "2022-09-05T20:06:49.131Z"
   },
   {
    "duration": 54,
    "start_time": "2022-09-05T20:06:49.141Z"
   },
   {
    "duration": 108,
    "start_time": "2022-09-05T20:06:49.197Z"
   },
   {
    "duration": 7,
    "start_time": "2022-09-05T20:06:49.307Z"
   },
   {
    "duration": 8,
    "start_time": "2022-09-05T20:06:49.315Z"
   },
   {
    "duration": 6,
    "start_time": "2022-09-05T20:06:49.325Z"
   },
   {
    "duration": 8,
    "start_time": "2022-09-05T20:06:49.332Z"
   },
   {
    "duration": 7,
    "start_time": "2022-09-05T20:06:49.341Z"
   },
   {
    "duration": 6,
    "start_time": "2022-09-05T20:06:49.350Z"
   },
   {
    "duration": 8,
    "start_time": "2022-09-05T20:06:49.357Z"
   },
   {
    "duration": 4934,
    "start_time": "2022-09-05T20:06:49.369Z"
   },
   {
    "duration": 10,
    "start_time": "2022-09-05T20:06:54.304Z"
   },
   {
    "duration": 19,
    "start_time": "2022-09-05T20:06:54.315Z"
   },
   {
    "duration": 28,
    "start_time": "2022-09-05T20:06:54.335Z"
   },
   {
    "duration": 16,
    "start_time": "2022-09-05T20:06:54.364Z"
   },
   {
    "duration": 25,
    "start_time": "2022-09-05T20:06:54.381Z"
   },
   {
    "duration": 741,
    "start_time": "2022-09-05T20:06:54.408Z"
   },
   {
    "duration": 628,
    "start_time": "2022-09-05T20:06:55.150Z"
   },
   {
    "duration": 4,
    "start_time": "2022-09-05T20:06:55.780Z"
   },
   {
    "duration": 7,
    "start_time": "2022-09-05T20:06:55.786Z"
   },
   {
    "duration": 8,
    "start_time": "2022-09-05T20:06:55.794Z"
   },
   {
    "duration": 7,
    "start_time": "2022-09-05T20:06:55.804Z"
   },
   {
    "duration": 5,
    "start_time": "2022-09-05T20:06:55.812Z"
   },
   {
    "duration": 16,
    "start_time": "2022-09-05T20:06:55.819Z"
   },
   {
    "duration": 20764,
    "start_time": "2022-09-05T20:06:55.836Z"
   },
   {
    "duration": 999,
    "start_time": "2022-09-05T20:07:16.602Z"
   },
   {
    "duration": 90,
    "start_time": "2022-09-05T20:07:17.602Z"
   },
   {
    "duration": 5,
    "start_time": "2022-09-05T20:07:17.694Z"
   },
   {
    "duration": 25,
    "start_time": "2022-09-05T20:07:17.701Z"
   },
   {
    "duration": 14,
    "start_time": "2022-09-05T20:07:17.728Z"
   },
   {
    "duration": 20,
    "start_time": "2022-09-05T20:07:17.744Z"
   },
   {
    "duration": 16,
    "start_time": "2022-09-05T20:07:17.766Z"
   },
   {
    "duration": 11,
    "start_time": "2022-09-05T20:07:17.783Z"
   },
   {
    "duration": 18,
    "start_time": "2022-09-05T20:07:17.795Z"
   },
   {
    "duration": 13,
    "start_time": "2022-09-05T20:07:17.815Z"
   },
   {
    "duration": 26,
    "start_time": "2022-09-05T20:07:17.830Z"
   },
   {
    "duration": 19,
    "start_time": "2022-09-05T20:07:17.859Z"
   },
   {
    "duration": 9,
    "start_time": "2022-09-05T20:07:17.884Z"
   },
   {
    "duration": 21,
    "start_time": "2022-09-05T20:07:17.895Z"
   },
   {
    "duration": 9,
    "start_time": "2022-09-05T20:07:17.917Z"
   },
   {
    "duration": 5445,
    "start_time": "2022-09-05T20:07:17.928Z"
   },
   {
    "duration": 4,
    "start_time": "2022-09-05T20:07:23.374Z"
   },
   {
    "duration": 6,
    "start_time": "2022-09-05T20:07:23.380Z"
   },
   {
    "duration": 146,
    "start_time": "2022-09-05T20:07:23.392Z"
   },
   {
    "duration": 5,
    "start_time": "2022-09-05T20:07:23.540Z"
   },
   {
    "duration": 18,
    "start_time": "2022-09-05T20:07:23.546Z"
   },
   {
    "duration": 12,
    "start_time": "2022-09-05T20:07:23.566Z"
   },
   {
    "duration": 19,
    "start_time": "2022-09-05T20:07:23.579Z"
   },
   {
    "duration": 15,
    "start_time": "2022-09-05T20:07:23.600Z"
   },
   {
    "duration": 181,
    "start_time": "2022-09-05T20:07:23.617Z"
   },
   {
    "duration": 92,
    "start_time": "2022-09-05T20:07:23.802Z"
   },
   {
    "duration": 7,
    "start_time": "2022-09-05T20:07:23.897Z"
   },
   {
    "duration": 90,
    "start_time": "2022-09-05T20:07:23.908Z"
   },
   {
    "duration": 14,
    "start_time": "2022-09-05T20:10:15.408Z"
   },
   {
    "duration": 12,
    "start_time": "2022-09-05T20:10:37.749Z"
   },
   {
    "duration": 11,
    "start_time": "2022-09-05T20:10:42.981Z"
   },
   {
    "duration": 126,
    "start_time": "2022-09-05T20:12:20.782Z"
   },
   {
    "duration": 22,
    "start_time": "2022-09-05T20:13:16.822Z"
   },
   {
    "duration": 83,
    "start_time": "2022-09-05T20:13:21.333Z"
   },
   {
    "duration": 83,
    "start_time": "2022-09-05T20:13:29.791Z"
   },
   {
    "duration": 21,
    "start_time": "2022-09-05T20:13:29.876Z"
   },
   {
    "duration": 4,
    "start_time": "2022-09-05T20:13:29.899Z"
   },
   {
    "duration": 11,
    "start_time": "2022-09-05T20:13:29.905Z"
   },
   {
    "duration": 19,
    "start_time": "2022-09-05T20:13:29.917Z"
   },
   {
    "duration": 156,
    "start_time": "2022-09-05T20:13:29.938Z"
   },
   {
    "duration": 113,
    "start_time": "2022-09-05T20:13:30.095Z"
   },
   {
    "duration": 48,
    "start_time": "2022-09-05T20:13:30.210Z"
   },
   {
    "duration": 33,
    "start_time": "2022-09-05T20:13:30.260Z"
   },
   {
    "duration": 32,
    "start_time": "2022-09-05T20:13:30.296Z"
   },
   {
    "duration": 50,
    "start_time": "2022-09-05T20:13:30.330Z"
   },
   {
    "duration": 34,
    "start_time": "2022-09-05T20:13:30.382Z"
   },
   {
    "duration": 19,
    "start_time": "2022-09-05T20:13:30.418Z"
   },
   {
    "duration": 57,
    "start_time": "2022-09-05T20:13:30.439Z"
   },
   {
    "duration": 1,
    "start_time": "2022-09-05T20:13:30.498Z"
   },
   {
    "duration": 0,
    "start_time": "2022-09-05T20:13:30.500Z"
   },
   {
    "duration": 0,
    "start_time": "2022-09-05T20:13:30.501Z"
   },
   {
    "duration": 0,
    "start_time": "2022-09-05T20:13:30.502Z"
   },
   {
    "duration": 0,
    "start_time": "2022-09-05T20:13:30.503Z"
   },
   {
    "duration": 0,
    "start_time": "2022-09-05T20:13:30.504Z"
   },
   {
    "duration": 0,
    "start_time": "2022-09-05T20:13:30.505Z"
   },
   {
    "duration": 0,
    "start_time": "2022-09-05T20:13:30.506Z"
   },
   {
    "duration": 0,
    "start_time": "2022-09-05T20:13:30.507Z"
   },
   {
    "duration": 0,
    "start_time": "2022-09-05T20:13:30.508Z"
   },
   {
    "duration": 0,
    "start_time": "2022-09-05T20:13:30.509Z"
   },
   {
    "duration": 0,
    "start_time": "2022-09-05T20:13:30.510Z"
   },
   {
    "duration": 0,
    "start_time": "2022-09-05T20:13:30.511Z"
   },
   {
    "duration": 0,
    "start_time": "2022-09-05T20:13:30.512Z"
   },
   {
    "duration": 0,
    "start_time": "2022-09-05T20:13:30.513Z"
   },
   {
    "duration": 0,
    "start_time": "2022-09-05T20:13:30.514Z"
   },
   {
    "duration": 0,
    "start_time": "2022-09-05T20:13:30.515Z"
   },
   {
    "duration": 0,
    "start_time": "2022-09-05T20:13:30.516Z"
   },
   {
    "duration": 0,
    "start_time": "2022-09-05T20:13:30.517Z"
   },
   {
    "duration": 0,
    "start_time": "2022-09-05T20:13:30.518Z"
   },
   {
    "duration": 0,
    "start_time": "2022-09-05T20:13:30.519Z"
   },
   {
    "duration": 0,
    "start_time": "2022-09-05T20:13:30.520Z"
   },
   {
    "duration": 0,
    "start_time": "2022-09-05T20:13:30.521Z"
   },
   {
    "duration": 0,
    "start_time": "2022-09-05T20:13:30.523Z"
   },
   {
    "duration": 0,
    "start_time": "2022-09-05T20:13:30.524Z"
   },
   {
    "duration": 0,
    "start_time": "2022-09-05T20:13:30.525Z"
   },
   {
    "duration": 0,
    "start_time": "2022-09-05T20:13:30.526Z"
   },
   {
    "duration": 0,
    "start_time": "2022-09-05T20:13:30.527Z"
   },
   {
    "duration": 0,
    "start_time": "2022-09-05T20:13:30.528Z"
   },
   {
    "duration": 0,
    "start_time": "2022-09-05T20:13:30.529Z"
   },
   {
    "duration": 0,
    "start_time": "2022-09-05T20:13:30.530Z"
   },
   {
    "duration": 0,
    "start_time": "2022-09-05T20:13:30.531Z"
   },
   {
    "duration": 0,
    "start_time": "2022-09-05T20:13:30.532Z"
   },
   {
    "duration": 0,
    "start_time": "2022-09-05T20:13:30.534Z"
   },
   {
    "duration": 0,
    "start_time": "2022-09-05T20:13:30.535Z"
   },
   {
    "duration": 0,
    "start_time": "2022-09-05T20:13:30.536Z"
   },
   {
    "duration": 0,
    "start_time": "2022-09-05T20:13:30.537Z"
   },
   {
    "duration": 0,
    "start_time": "2022-09-05T20:13:30.591Z"
   },
   {
    "duration": 0,
    "start_time": "2022-09-05T20:13:30.593Z"
   },
   {
    "duration": 0,
    "start_time": "2022-09-05T20:13:30.594Z"
   },
   {
    "duration": 0,
    "start_time": "2022-09-05T20:13:30.596Z"
   },
   {
    "duration": 0,
    "start_time": "2022-09-05T20:13:30.596Z"
   },
   {
    "duration": 10,
    "start_time": "2022-09-05T20:14:11.693Z"
   },
   {
    "duration": 1646,
    "start_time": "2022-09-05T20:14:29.213Z"
   },
   {
    "duration": 103,
    "start_time": "2022-09-05T20:14:30.861Z"
   },
   {
    "duration": 95,
    "start_time": "2022-09-05T20:14:30.965Z"
   },
   {
    "duration": 3,
    "start_time": "2022-09-05T20:14:31.061Z"
   },
   {
    "duration": 48,
    "start_time": "2022-09-05T20:14:31.067Z"
   },
   {
    "duration": 1006,
    "start_time": "2022-09-05T20:14:31.117Z"
   },
   {
    "duration": 8,
    "start_time": "2022-09-05T20:14:32.125Z"
   },
   {
    "duration": 332,
    "start_time": "2022-09-05T20:14:32.135Z"
   },
   {
    "duration": 6,
    "start_time": "2022-09-05T20:14:32.468Z"
   },
   {
    "duration": 77,
    "start_time": "2022-09-05T20:14:32.476Z"
   },
   {
    "duration": 0,
    "start_time": "2022-09-05T20:14:32.557Z"
   },
   {
    "duration": 0,
    "start_time": "2022-09-05T20:14:32.559Z"
   },
   {
    "duration": 0,
    "start_time": "2022-09-05T20:14:32.559Z"
   },
   {
    "duration": 0,
    "start_time": "2022-09-05T20:14:32.561Z"
   },
   {
    "duration": 0,
    "start_time": "2022-09-05T20:14:32.562Z"
   },
   {
    "duration": 0,
    "start_time": "2022-09-05T20:14:32.563Z"
   },
   {
    "duration": 0,
    "start_time": "2022-09-05T20:14:32.563Z"
   },
   {
    "duration": 0,
    "start_time": "2022-09-05T20:14:32.564Z"
   },
   {
    "duration": 0,
    "start_time": "2022-09-05T20:14:32.565Z"
   },
   {
    "duration": 0,
    "start_time": "2022-09-05T20:14:32.567Z"
   },
   {
    "duration": 0,
    "start_time": "2022-09-05T20:14:32.567Z"
   },
   {
    "duration": 0,
    "start_time": "2022-09-05T20:14:32.569Z"
   },
   {
    "duration": 0,
    "start_time": "2022-09-05T20:14:32.569Z"
   },
   {
    "duration": 0,
    "start_time": "2022-09-05T20:14:32.570Z"
   },
   {
    "duration": 0,
    "start_time": "2022-09-05T20:14:32.572Z"
   },
   {
    "duration": 0,
    "start_time": "2022-09-05T20:14:32.572Z"
   },
   {
    "duration": 0,
    "start_time": "2022-09-05T20:14:32.573Z"
   },
   {
    "duration": 0,
    "start_time": "2022-09-05T20:14:32.575Z"
   },
   {
    "duration": 0,
    "start_time": "2022-09-05T20:14:32.576Z"
   },
   {
    "duration": 0,
    "start_time": "2022-09-05T20:14:32.577Z"
   },
   {
    "duration": 0,
    "start_time": "2022-09-05T20:14:32.578Z"
   },
   {
    "duration": 0,
    "start_time": "2022-09-05T20:14:32.579Z"
   },
   {
    "duration": 0,
    "start_time": "2022-09-05T20:14:32.580Z"
   },
   {
    "duration": 0,
    "start_time": "2022-09-05T20:14:32.581Z"
   },
   {
    "duration": 0,
    "start_time": "2022-09-05T20:14:32.582Z"
   },
   {
    "duration": 0,
    "start_time": "2022-09-05T20:14:32.583Z"
   },
   {
    "duration": 0,
    "start_time": "2022-09-05T20:14:32.584Z"
   },
   {
    "duration": 0,
    "start_time": "2022-09-05T20:14:32.585Z"
   },
   {
    "duration": 0,
    "start_time": "2022-09-05T20:14:32.587Z"
   },
   {
    "duration": 0,
    "start_time": "2022-09-05T20:14:32.588Z"
   },
   {
    "duration": 0,
    "start_time": "2022-09-05T20:14:32.588Z"
   },
   {
    "duration": 0,
    "start_time": "2022-09-05T20:14:32.589Z"
   },
   {
    "duration": 0,
    "start_time": "2022-09-05T20:14:32.590Z"
   },
   {
    "duration": 0,
    "start_time": "2022-09-05T20:14:32.591Z"
   },
   {
    "duration": 0,
    "start_time": "2022-09-05T20:14:32.592Z"
   },
   {
    "duration": 0,
    "start_time": "2022-09-05T20:14:32.594Z"
   },
   {
    "duration": 0,
    "start_time": "2022-09-05T20:14:32.595Z"
   },
   {
    "duration": 0,
    "start_time": "2022-09-05T20:14:32.597Z"
   },
   {
    "duration": 0,
    "start_time": "2022-09-05T20:14:32.598Z"
   },
   {
    "duration": 0,
    "start_time": "2022-09-05T20:14:32.599Z"
   },
   {
    "duration": 0,
    "start_time": "2022-09-05T20:14:32.600Z"
   },
   {
    "duration": 0,
    "start_time": "2022-09-05T20:14:32.601Z"
   },
   {
    "duration": 0,
    "start_time": "2022-09-05T20:14:32.602Z"
   },
   {
    "duration": 1,
    "start_time": "2022-09-05T20:14:32.603Z"
   },
   {
    "duration": 0,
    "start_time": "2022-09-05T20:14:32.604Z"
   },
   {
    "duration": 0,
    "start_time": "2022-09-05T20:14:32.606Z"
   },
   {
    "duration": 0,
    "start_time": "2022-09-05T20:14:32.606Z"
   },
   {
    "duration": 0,
    "start_time": "2022-09-05T20:14:32.607Z"
   },
   {
    "duration": 0,
    "start_time": "2022-09-05T20:14:32.608Z"
   },
   {
    "duration": 0,
    "start_time": "2022-09-05T20:14:32.609Z"
   },
   {
    "duration": 0,
    "start_time": "2022-09-05T20:14:32.610Z"
   },
   {
    "duration": 0,
    "start_time": "2022-09-05T20:14:32.611Z"
   },
   {
    "duration": 0,
    "start_time": "2022-09-05T20:14:32.612Z"
   },
   {
    "duration": 1,
    "start_time": "2022-09-05T20:14:32.613Z"
   },
   {
    "duration": 0,
    "start_time": "2022-09-05T20:14:32.614Z"
   },
   {
    "duration": 0,
    "start_time": "2022-09-05T20:14:32.615Z"
   },
   {
    "duration": 0,
    "start_time": "2022-09-05T20:14:32.616Z"
   },
   {
    "duration": 0,
    "start_time": "2022-09-05T20:14:32.618Z"
   },
   {
    "duration": 0,
    "start_time": "2022-09-05T20:14:32.619Z"
   },
   {
    "duration": 0,
    "start_time": "2022-09-05T20:14:32.620Z"
   },
   {
    "duration": 0,
    "start_time": "2022-09-05T20:14:32.621Z"
   },
   {
    "duration": 0,
    "start_time": "2022-09-05T20:14:32.623Z"
   },
   {
    "duration": 82,
    "start_time": "2022-09-05T20:15:01.261Z"
   },
   {
    "duration": 0,
    "start_time": "2022-09-05T20:15:01.345Z"
   },
   {
    "duration": 0,
    "start_time": "2022-09-05T20:15:01.347Z"
   },
   {
    "duration": 0,
    "start_time": "2022-09-05T20:15:01.348Z"
   },
   {
    "duration": 0,
    "start_time": "2022-09-05T20:15:01.349Z"
   },
   {
    "duration": 0,
    "start_time": "2022-09-05T20:15:01.350Z"
   },
   {
    "duration": 0,
    "start_time": "2022-09-05T20:15:01.351Z"
   },
   {
    "duration": 0,
    "start_time": "2022-09-05T20:15:01.352Z"
   },
   {
    "duration": 0,
    "start_time": "2022-09-05T20:15:01.354Z"
   },
   {
    "duration": 0,
    "start_time": "2022-09-05T20:15:01.354Z"
   },
   {
    "duration": 0,
    "start_time": "2022-09-05T20:15:01.355Z"
   },
   {
    "duration": 0,
    "start_time": "2022-09-05T20:15:01.356Z"
   },
   {
    "duration": 0,
    "start_time": "2022-09-05T20:15:01.357Z"
   },
   {
    "duration": 0,
    "start_time": "2022-09-05T20:15:01.358Z"
   },
   {
    "duration": 0,
    "start_time": "2022-09-05T20:15:01.359Z"
   },
   {
    "duration": 0,
    "start_time": "2022-09-05T20:15:01.360Z"
   },
   {
    "duration": 0,
    "start_time": "2022-09-05T20:15:01.361Z"
   },
   {
    "duration": 0,
    "start_time": "2022-09-05T20:15:01.362Z"
   },
   {
    "duration": 0,
    "start_time": "2022-09-05T20:15:01.363Z"
   },
   {
    "duration": 0,
    "start_time": "2022-09-05T20:15:01.364Z"
   },
   {
    "duration": 0,
    "start_time": "2022-09-05T20:15:01.365Z"
   },
   {
    "duration": 0,
    "start_time": "2022-09-05T20:15:01.366Z"
   },
   {
    "duration": 0,
    "start_time": "2022-09-05T20:15:01.367Z"
   },
   {
    "duration": 0,
    "start_time": "2022-09-05T20:15:01.367Z"
   },
   {
    "duration": 0,
    "start_time": "2022-09-05T20:15:01.368Z"
   },
   {
    "duration": 0,
    "start_time": "2022-09-05T20:15:01.369Z"
   },
   {
    "duration": 0,
    "start_time": "2022-09-05T20:15:01.370Z"
   },
   {
    "duration": 0,
    "start_time": "2022-09-05T20:15:01.371Z"
   },
   {
    "duration": 0,
    "start_time": "2022-09-05T20:15:01.372Z"
   },
   {
    "duration": 0,
    "start_time": "2022-09-05T20:15:01.373Z"
   },
   {
    "duration": 0,
    "start_time": "2022-09-05T20:15:01.374Z"
   },
   {
    "duration": 0,
    "start_time": "2022-09-05T20:15:01.375Z"
   },
   {
    "duration": 0,
    "start_time": "2022-09-05T20:15:01.376Z"
   },
   {
    "duration": 0,
    "start_time": "2022-09-05T20:15:01.392Z"
   },
   {
    "duration": 0,
    "start_time": "2022-09-05T20:15:01.393Z"
   },
   {
    "duration": 0,
    "start_time": "2022-09-05T20:15:01.394Z"
   },
   {
    "duration": 0,
    "start_time": "2022-09-05T20:15:01.395Z"
   },
   {
    "duration": 0,
    "start_time": "2022-09-05T20:15:01.396Z"
   },
   {
    "duration": 0,
    "start_time": "2022-09-05T20:15:01.398Z"
   },
   {
    "duration": 0,
    "start_time": "2022-09-05T20:15:01.398Z"
   },
   {
    "duration": 0,
    "start_time": "2022-09-05T20:15:01.399Z"
   },
   {
    "duration": 0,
    "start_time": "2022-09-05T20:15:01.400Z"
   },
   {
    "duration": 0,
    "start_time": "2022-09-05T20:15:01.401Z"
   },
   {
    "duration": 0,
    "start_time": "2022-09-05T20:15:01.402Z"
   },
   {
    "duration": 0,
    "start_time": "2022-09-05T20:15:01.403Z"
   },
   {
    "duration": 0,
    "start_time": "2022-09-05T20:15:01.404Z"
   },
   {
    "duration": 0,
    "start_time": "2022-09-05T20:15:01.406Z"
   },
   {
    "duration": 0,
    "start_time": "2022-09-05T20:15:01.407Z"
   },
   {
    "duration": 0,
    "start_time": "2022-09-05T20:15:01.408Z"
   },
   {
    "duration": 0,
    "start_time": "2022-09-05T20:15:01.409Z"
   },
   {
    "duration": 224,
    "start_time": "2022-09-05T20:15:01.413Z"
   },
   {
    "duration": 0,
    "start_time": "2022-09-05T20:15:01.639Z"
   },
   {
    "duration": 0,
    "start_time": "2022-09-05T20:15:01.640Z"
   },
   {
    "duration": 0,
    "start_time": "2022-09-05T20:15:01.642Z"
   },
   {
    "duration": 0,
    "start_time": "2022-09-05T20:15:01.644Z"
   },
   {
    "duration": 0,
    "start_time": "2022-09-05T20:15:01.645Z"
   },
   {
    "duration": 0,
    "start_time": "2022-09-05T20:15:01.646Z"
   },
   {
    "duration": 0,
    "start_time": "2022-09-05T20:15:01.648Z"
   },
   {
    "duration": 0,
    "start_time": "2022-09-05T20:15:01.649Z"
   },
   {
    "duration": 0,
    "start_time": "2022-09-05T20:15:01.651Z"
   },
   {
    "duration": 0,
    "start_time": "2022-09-05T20:15:01.652Z"
   },
   {
    "duration": 0,
    "start_time": "2022-09-05T20:15:01.654Z"
   },
   {
    "duration": 0,
    "start_time": "2022-09-05T20:15:01.656Z"
   },
   {
    "duration": 118,
    "start_time": "2022-09-05T20:15:15.364Z"
   },
   {
    "duration": 0,
    "start_time": "2022-09-05T20:15:15.485Z"
   },
   {
    "duration": 0,
    "start_time": "2022-09-05T20:15:15.486Z"
   },
   {
    "duration": 0,
    "start_time": "2022-09-05T20:15:15.488Z"
   },
   {
    "duration": 0,
    "start_time": "2022-09-05T20:15:15.489Z"
   },
   {
    "duration": 0,
    "start_time": "2022-09-05T20:15:15.490Z"
   },
   {
    "duration": 0,
    "start_time": "2022-09-05T20:15:15.492Z"
   },
   {
    "duration": 0,
    "start_time": "2022-09-05T20:15:15.493Z"
   },
   {
    "duration": 0,
    "start_time": "2022-09-05T20:15:15.494Z"
   },
   {
    "duration": 0,
    "start_time": "2022-09-05T20:15:15.495Z"
   },
   {
    "duration": 0,
    "start_time": "2022-09-05T20:15:15.496Z"
   },
   {
    "duration": 0,
    "start_time": "2022-09-05T20:15:15.496Z"
   },
   {
    "duration": 0,
    "start_time": "2022-09-05T20:15:15.497Z"
   },
   {
    "duration": 0,
    "start_time": "2022-09-05T20:15:15.498Z"
   },
   {
    "duration": 0,
    "start_time": "2022-09-05T20:15:15.499Z"
   },
   {
    "duration": 0,
    "start_time": "2022-09-05T20:15:15.500Z"
   },
   {
    "duration": 0,
    "start_time": "2022-09-05T20:15:15.501Z"
   },
   {
    "duration": 0,
    "start_time": "2022-09-05T20:15:15.502Z"
   },
   {
    "duration": 0,
    "start_time": "2022-09-05T20:15:15.503Z"
   },
   {
    "duration": 0,
    "start_time": "2022-09-05T20:15:15.504Z"
   },
   {
    "duration": 0,
    "start_time": "2022-09-05T20:15:15.505Z"
   },
   {
    "duration": 0,
    "start_time": "2022-09-05T20:15:15.506Z"
   },
   {
    "duration": 0,
    "start_time": "2022-09-05T20:15:15.507Z"
   },
   {
    "duration": 0,
    "start_time": "2022-09-05T20:15:15.508Z"
   },
   {
    "duration": 0,
    "start_time": "2022-09-05T20:15:15.509Z"
   },
   {
    "duration": 0,
    "start_time": "2022-09-05T20:15:15.510Z"
   },
   {
    "duration": 0,
    "start_time": "2022-09-05T20:15:15.511Z"
   },
   {
    "duration": 0,
    "start_time": "2022-09-05T20:15:15.512Z"
   },
   {
    "duration": 0,
    "start_time": "2022-09-05T20:15:15.513Z"
   },
   {
    "duration": 0,
    "start_time": "2022-09-05T20:15:15.514Z"
   },
   {
    "duration": 0,
    "start_time": "2022-09-05T20:15:15.515Z"
   },
   {
    "duration": 0,
    "start_time": "2022-09-05T20:15:15.516Z"
   },
   {
    "duration": 0,
    "start_time": "2022-09-05T20:15:15.517Z"
   },
   {
    "duration": 0,
    "start_time": "2022-09-05T20:15:15.518Z"
   },
   {
    "duration": 0,
    "start_time": "2022-09-05T20:15:15.519Z"
   },
   {
    "duration": 0,
    "start_time": "2022-09-05T20:15:15.520Z"
   },
   {
    "duration": 0,
    "start_time": "2022-09-05T20:15:15.521Z"
   },
   {
    "duration": 0,
    "start_time": "2022-09-05T20:15:15.522Z"
   },
   {
    "duration": 0,
    "start_time": "2022-09-05T20:15:15.523Z"
   },
   {
    "duration": 0,
    "start_time": "2022-09-05T20:15:15.524Z"
   },
   {
    "duration": 0,
    "start_time": "2022-09-05T20:15:15.526Z"
   },
   {
    "duration": 0,
    "start_time": "2022-09-05T20:15:15.527Z"
   },
   {
    "duration": 0,
    "start_time": "2022-09-05T20:15:15.528Z"
   },
   {
    "duration": 0,
    "start_time": "2022-09-05T20:15:15.529Z"
   },
   {
    "duration": 0,
    "start_time": "2022-09-05T20:15:15.592Z"
   },
   {
    "duration": 0,
    "start_time": "2022-09-05T20:15:15.593Z"
   },
   {
    "duration": 0,
    "start_time": "2022-09-05T20:15:15.595Z"
   },
   {
    "duration": 0,
    "start_time": "2022-09-05T20:15:15.596Z"
   },
   {
    "duration": 0,
    "start_time": "2022-09-05T20:15:15.597Z"
   },
   {
    "duration": 0,
    "start_time": "2022-09-05T20:15:15.598Z"
   },
   {
    "duration": 0,
    "start_time": "2022-09-05T20:15:15.599Z"
   },
   {
    "duration": 0,
    "start_time": "2022-09-05T20:15:15.600Z"
   },
   {
    "duration": 0,
    "start_time": "2022-09-05T20:15:15.601Z"
   },
   {
    "duration": 0,
    "start_time": "2022-09-05T20:15:15.602Z"
   },
   {
    "duration": 0,
    "start_time": "2022-09-05T20:15:15.603Z"
   },
   {
    "duration": 0,
    "start_time": "2022-09-05T20:15:15.604Z"
   },
   {
    "duration": 0,
    "start_time": "2022-09-05T20:15:15.605Z"
   },
   {
    "duration": 0,
    "start_time": "2022-09-05T20:15:15.606Z"
   },
   {
    "duration": 0,
    "start_time": "2022-09-05T20:15:15.607Z"
   },
   {
    "duration": 0,
    "start_time": "2022-09-05T20:15:15.608Z"
   },
   {
    "duration": 0,
    "start_time": "2022-09-05T20:15:15.609Z"
   },
   {
    "duration": 0,
    "start_time": "2022-09-05T20:15:15.610Z"
   },
   {
    "duration": 0,
    "start_time": "2022-09-05T20:15:15.611Z"
   },
   {
    "duration": 8,
    "start_time": "2022-09-05T20:15:28.514Z"
   },
   {
    "duration": 11,
    "start_time": "2022-09-05T20:15:31.941Z"
   },
   {
    "duration": 29,
    "start_time": "2022-09-05T20:15:31.954Z"
   },
   {
    "duration": 10,
    "start_time": "2022-09-05T20:15:31.985Z"
   },
   {
    "duration": 163,
    "start_time": "2022-09-05T20:15:31.998Z"
   },
   {
    "duration": 151,
    "start_time": "2022-09-05T20:15:32.163Z"
   },
   {
    "duration": 24,
    "start_time": "2022-09-05T20:15:32.316Z"
   },
   {
    "duration": 0,
    "start_time": "2022-09-05T20:15:32.344Z"
   },
   {
    "duration": 0,
    "start_time": "2022-09-05T20:15:32.345Z"
   },
   {
    "duration": 0,
    "start_time": "2022-09-05T20:15:32.346Z"
   },
   {
    "duration": 0,
    "start_time": "2022-09-05T20:15:32.347Z"
   },
   {
    "duration": 0,
    "start_time": "2022-09-05T20:15:32.348Z"
   },
   {
    "duration": 0,
    "start_time": "2022-09-05T20:15:32.350Z"
   },
   {
    "duration": 0,
    "start_time": "2022-09-05T20:15:32.351Z"
   },
   {
    "duration": 0,
    "start_time": "2022-09-05T20:15:32.352Z"
   },
   {
    "duration": 0,
    "start_time": "2022-09-05T20:15:32.352Z"
   },
   {
    "duration": 0,
    "start_time": "2022-09-05T20:15:32.353Z"
   },
   {
    "duration": 0,
    "start_time": "2022-09-05T20:15:32.355Z"
   },
   {
    "duration": 0,
    "start_time": "2022-09-05T20:15:32.355Z"
   },
   {
    "duration": 0,
    "start_time": "2022-09-05T20:15:32.356Z"
   },
   {
    "duration": 0,
    "start_time": "2022-09-05T20:15:32.357Z"
   },
   {
    "duration": 0,
    "start_time": "2022-09-05T20:15:32.358Z"
   },
   {
    "duration": 0,
    "start_time": "2022-09-05T20:15:32.392Z"
   },
   {
    "duration": 0,
    "start_time": "2022-09-05T20:15:32.393Z"
   },
   {
    "duration": 0,
    "start_time": "2022-09-05T20:15:32.394Z"
   },
   {
    "duration": 0,
    "start_time": "2022-09-05T20:15:32.395Z"
   },
   {
    "duration": 0,
    "start_time": "2022-09-05T20:15:32.396Z"
   },
   {
    "duration": 0,
    "start_time": "2022-09-05T20:15:32.398Z"
   },
   {
    "duration": 0,
    "start_time": "2022-09-05T20:15:32.399Z"
   },
   {
    "duration": 0,
    "start_time": "2022-09-05T20:15:32.401Z"
   },
   {
    "duration": 0,
    "start_time": "2022-09-05T20:15:32.401Z"
   },
   {
    "duration": 0,
    "start_time": "2022-09-05T20:15:32.403Z"
   },
   {
    "duration": 0,
    "start_time": "2022-09-05T20:15:32.404Z"
   },
   {
    "duration": 0,
    "start_time": "2022-09-05T20:15:32.405Z"
   },
   {
    "duration": 0,
    "start_time": "2022-09-05T20:15:32.406Z"
   },
   {
    "duration": 0,
    "start_time": "2022-09-05T20:15:32.407Z"
   },
   {
    "duration": 0,
    "start_time": "2022-09-05T20:15:32.408Z"
   },
   {
    "duration": 0,
    "start_time": "2022-09-05T20:15:32.409Z"
   },
   {
    "duration": 0,
    "start_time": "2022-09-05T20:15:32.410Z"
   },
   {
    "duration": 0,
    "start_time": "2022-09-05T20:15:32.412Z"
   },
   {
    "duration": 0,
    "start_time": "2022-09-05T20:15:32.413Z"
   },
   {
    "duration": 0,
    "start_time": "2022-09-05T20:15:32.414Z"
   },
   {
    "duration": 0,
    "start_time": "2022-09-05T20:15:32.415Z"
   },
   {
    "duration": 0,
    "start_time": "2022-09-05T20:15:32.416Z"
   },
   {
    "duration": 0,
    "start_time": "2022-09-05T20:15:32.416Z"
   },
   {
    "duration": 0,
    "start_time": "2022-09-05T20:15:32.417Z"
   },
   {
    "duration": 0,
    "start_time": "2022-09-05T20:15:32.419Z"
   },
   {
    "duration": 0,
    "start_time": "2022-09-05T20:15:32.420Z"
   },
   {
    "duration": 0,
    "start_time": "2022-09-05T20:15:32.420Z"
   },
   {
    "duration": 0,
    "start_time": "2022-09-05T20:15:32.421Z"
   },
   {
    "duration": 0,
    "start_time": "2022-09-05T20:15:32.422Z"
   },
   {
    "duration": 0,
    "start_time": "2022-09-05T20:15:32.423Z"
   },
   {
    "duration": 0,
    "start_time": "2022-09-05T20:15:32.424Z"
   },
   {
    "duration": 0,
    "start_time": "2022-09-05T20:15:32.425Z"
   },
   {
    "duration": 1,
    "start_time": "2022-09-05T20:15:32.426Z"
   },
   {
    "duration": 0,
    "start_time": "2022-09-05T20:15:32.428Z"
   },
   {
    "duration": 0,
    "start_time": "2022-09-05T20:15:32.491Z"
   },
   {
    "duration": 0,
    "start_time": "2022-09-05T20:15:32.493Z"
   },
   {
    "duration": 1,
    "start_time": "2022-09-05T20:15:32.494Z"
   },
   {
    "duration": 0,
    "start_time": "2022-09-05T20:15:32.496Z"
   },
   {
    "duration": 0,
    "start_time": "2022-09-05T20:15:32.497Z"
   },
   {
    "duration": 0,
    "start_time": "2022-09-05T20:15:32.498Z"
   },
   {
    "duration": 0,
    "start_time": "2022-09-05T20:15:32.499Z"
   },
   {
    "duration": 0,
    "start_time": "2022-09-05T20:15:32.500Z"
   },
   {
    "duration": 95,
    "start_time": "2022-09-05T20:15:44.980Z"
   },
   {
    "duration": 24,
    "start_time": "2022-09-05T20:15:45.077Z"
   },
   {
    "duration": 5,
    "start_time": "2022-09-05T20:15:45.102Z"
   },
   {
    "duration": 10,
    "start_time": "2022-09-05T20:15:45.109Z"
   },
   {
    "duration": 74,
    "start_time": "2022-09-05T20:15:45.121Z"
   },
   {
    "duration": 96,
    "start_time": "2022-09-05T20:15:45.198Z"
   },
   {
    "duration": 8,
    "start_time": "2022-09-05T20:15:45.295Z"
   },
   {
    "duration": 16,
    "start_time": "2022-09-05T20:15:45.306Z"
   },
   {
    "duration": 10,
    "start_time": "2022-09-05T20:15:45.323Z"
   },
   {
    "duration": 6,
    "start_time": "2022-09-05T20:15:45.336Z"
   },
   {
    "duration": 8,
    "start_time": "2022-09-05T20:15:45.345Z"
   },
   {
    "duration": 9,
    "start_time": "2022-09-05T20:15:45.354Z"
   },
   {
    "duration": 8,
    "start_time": "2022-09-05T20:15:45.364Z"
   },
   {
    "duration": 4428,
    "start_time": "2022-09-05T20:15:45.391Z"
   },
   {
    "duration": 11,
    "start_time": "2022-09-05T20:15:49.820Z"
   },
   {
    "duration": 21,
    "start_time": "2022-09-05T20:15:49.832Z"
   },
   {
    "duration": 21,
    "start_time": "2022-09-05T20:15:49.854Z"
   },
   {
    "duration": 12,
    "start_time": "2022-09-05T20:15:49.877Z"
   },
   {
    "duration": 19,
    "start_time": "2022-09-05T20:15:49.891Z"
   },
   {
    "duration": 707,
    "start_time": "2022-09-05T20:15:49.911Z"
   },
   {
    "duration": 606,
    "start_time": "2022-09-05T20:15:50.619Z"
   },
   {
    "duration": 3,
    "start_time": "2022-09-05T20:15:51.227Z"
   },
   {
    "duration": 7,
    "start_time": "2022-09-05T20:15:51.232Z"
   },
   {
    "duration": 8,
    "start_time": "2022-09-05T20:15:51.240Z"
   },
   {
    "duration": 11,
    "start_time": "2022-09-05T20:15:51.249Z"
   },
   {
    "duration": 9,
    "start_time": "2022-09-05T20:15:51.261Z"
   },
   {
    "duration": 20,
    "start_time": "2022-09-05T20:15:51.272Z"
   },
   {
    "duration": 21216,
    "start_time": "2022-09-05T20:15:51.295Z"
   },
   {
    "duration": 1183,
    "start_time": "2022-09-05T20:16:12.514Z"
   },
   {
    "duration": 97,
    "start_time": "2022-09-05T20:16:13.699Z"
   },
   {
    "duration": 5,
    "start_time": "2022-09-05T20:16:13.798Z"
   },
   {
    "duration": 7,
    "start_time": "2022-09-05T20:16:13.805Z"
   },
   {
    "duration": 6,
    "start_time": "2022-09-05T20:16:13.814Z"
   },
   {
    "duration": 6,
    "start_time": "2022-09-05T20:16:13.822Z"
   },
   {
    "duration": 14,
    "start_time": "2022-09-05T20:16:13.829Z"
   },
   {
    "duration": 47,
    "start_time": "2022-09-05T20:16:13.845Z"
   },
   {
    "duration": 10,
    "start_time": "2022-09-05T20:16:13.894Z"
   },
   {
    "duration": 6,
    "start_time": "2022-09-05T20:16:13.905Z"
   },
   {
    "duration": 30,
    "start_time": "2022-09-05T20:16:13.912Z"
   },
   {
    "duration": 3,
    "start_time": "2022-09-05T20:16:13.944Z"
   },
   {
    "duration": 6,
    "start_time": "2022-09-05T20:16:13.948Z"
   },
   {
    "duration": 9,
    "start_time": "2022-09-05T20:16:13.955Z"
   },
   {
    "duration": 8,
    "start_time": "2022-09-05T20:16:13.965Z"
   },
   {
    "duration": 5406,
    "start_time": "2022-09-05T20:16:13.975Z"
   },
   {
    "duration": 9,
    "start_time": "2022-09-05T20:16:19.383Z"
   },
   {
    "duration": 3,
    "start_time": "2022-09-05T20:16:19.394Z"
   },
   {
    "duration": 155,
    "start_time": "2022-09-05T20:16:19.399Z"
   },
   {
    "duration": 5,
    "start_time": "2022-09-05T20:16:19.556Z"
   },
   {
    "duration": 9,
    "start_time": "2022-09-05T20:16:19.563Z"
   },
   {
    "duration": 12,
    "start_time": "2022-09-05T20:16:19.574Z"
   },
   {
    "duration": 11,
    "start_time": "2022-09-05T20:16:19.592Z"
   },
   {
    "duration": 12,
    "start_time": "2022-09-05T20:16:19.605Z"
   },
   {
    "duration": 107,
    "start_time": "2022-09-05T20:16:19.696Z"
   },
   {
    "duration": 186,
    "start_time": "2022-09-05T20:16:19.806Z"
   },
   {
    "duration": 4,
    "start_time": "2022-09-05T20:16:19.994Z"
   },
   {
    "duration": 9,
    "start_time": "2022-09-05T20:16:19.999Z"
   },
   {
    "duration": 77,
    "start_time": "2022-09-05T20:21:57.286Z"
   },
   {
    "duration": 4,
    "start_time": "2022-09-05T20:21:58.726Z"
   },
   {
    "duration": 4,
    "start_time": "2022-09-05T20:21:59.654Z"
   },
   {
    "duration": 914,
    "start_time": "2022-09-05T20:22:02.302Z"
   },
   {
    "duration": 328,
    "start_time": "2022-09-05T20:22:31.159Z"
   },
   {
    "duration": 270,
    "start_time": "2022-09-05T20:22:39.695Z"
   },
   {
    "duration": 9,
    "start_time": "2022-09-05T20:24:14.286Z"
   },
   {
    "duration": 1758,
    "start_time": "2022-09-06T14:20:19.706Z"
   },
   {
    "duration": 231,
    "start_time": "2022-09-06T14:20:21.468Z"
   },
   {
    "duration": 74,
    "start_time": "2022-09-06T14:20:21.701Z"
   },
   {
    "duration": 4,
    "start_time": "2022-09-06T14:20:21.778Z"
   },
   {
    "duration": 6,
    "start_time": "2022-09-06T14:20:21.785Z"
   },
   {
    "duration": 852,
    "start_time": "2022-09-06T14:20:21.793Z"
   },
   {
    "duration": 309,
    "start_time": "2022-09-06T14:20:22.646Z"
   },
   {
    "duration": 268,
    "start_time": "2022-09-06T14:20:22.957Z"
   },
   {
    "duration": 9,
    "start_time": "2022-09-06T14:20:23.227Z"
   },
   {
    "duration": 42,
    "start_time": "2022-09-06T14:20:23.238Z"
   },
   {
    "duration": 17,
    "start_time": "2022-09-06T14:20:23.282Z"
   },
   {
    "duration": 27,
    "start_time": "2022-09-06T14:20:23.300Z"
   },
   {
    "duration": 7,
    "start_time": "2022-09-06T14:20:23.328Z"
   },
   {
    "duration": 115,
    "start_time": "2022-09-06T14:20:23.338Z"
   },
   {
    "duration": 0,
    "start_time": "2022-09-06T14:20:23.455Z"
   },
   {
    "duration": 0,
    "start_time": "2022-09-06T14:20:23.458Z"
   },
   {
    "duration": 0,
    "start_time": "2022-09-06T14:20:23.459Z"
   },
   {
    "duration": 0,
    "start_time": "2022-09-06T14:20:23.459Z"
   },
   {
    "duration": 0,
    "start_time": "2022-09-06T14:20:23.460Z"
   },
   {
    "duration": 0,
    "start_time": "2022-09-06T14:20:23.463Z"
   },
   {
    "duration": 0,
    "start_time": "2022-09-06T14:20:23.466Z"
   },
   {
    "duration": 0,
    "start_time": "2022-09-06T14:20:23.468Z"
   },
   {
    "duration": 0,
    "start_time": "2022-09-06T14:20:23.469Z"
   },
   {
    "duration": 0,
    "start_time": "2022-09-06T14:20:23.470Z"
   },
   {
    "duration": 0,
    "start_time": "2022-09-06T14:20:23.471Z"
   },
   {
    "duration": 0,
    "start_time": "2022-09-06T14:20:23.472Z"
   },
   {
    "duration": 0,
    "start_time": "2022-09-06T14:20:23.473Z"
   },
   {
    "duration": 0,
    "start_time": "2022-09-06T14:20:23.474Z"
   },
   {
    "duration": 0,
    "start_time": "2022-09-06T14:20:23.475Z"
   },
   {
    "duration": 0,
    "start_time": "2022-09-06T14:20:23.476Z"
   },
   {
    "duration": 0,
    "start_time": "2022-09-06T14:20:23.477Z"
   },
   {
    "duration": 0,
    "start_time": "2022-09-06T14:20:23.478Z"
   },
   {
    "duration": 0,
    "start_time": "2022-09-06T14:20:23.479Z"
   },
   {
    "duration": 0,
    "start_time": "2022-09-06T14:20:23.480Z"
   },
   {
    "duration": 0,
    "start_time": "2022-09-06T14:20:23.481Z"
   },
   {
    "duration": 0,
    "start_time": "2022-09-06T14:20:23.482Z"
   },
   {
    "duration": 0,
    "start_time": "2022-09-06T14:20:23.483Z"
   },
   {
    "duration": 0,
    "start_time": "2022-09-06T14:20:23.484Z"
   },
   {
    "duration": 0,
    "start_time": "2022-09-06T14:20:23.485Z"
   },
   {
    "duration": 0,
    "start_time": "2022-09-06T14:20:23.487Z"
   },
   {
    "duration": 0,
    "start_time": "2022-09-06T14:20:23.488Z"
   },
   {
    "duration": 0,
    "start_time": "2022-09-06T14:20:23.489Z"
   },
   {
    "duration": 0,
    "start_time": "2022-09-06T14:20:23.491Z"
   },
   {
    "duration": 0,
    "start_time": "2022-09-06T14:20:23.492Z"
   },
   {
    "duration": 0,
    "start_time": "2022-09-06T14:20:23.494Z"
   },
   {
    "duration": 0,
    "start_time": "2022-09-06T14:20:23.496Z"
   },
   {
    "duration": 0,
    "start_time": "2022-09-06T14:20:23.497Z"
   },
   {
    "duration": 0,
    "start_time": "2022-09-06T14:20:23.498Z"
   },
   {
    "duration": 0,
    "start_time": "2022-09-06T14:20:23.499Z"
   },
   {
    "duration": 0,
    "start_time": "2022-09-06T14:20:23.501Z"
   },
   {
    "duration": 0,
    "start_time": "2022-09-06T14:20:23.502Z"
   },
   {
    "duration": 0,
    "start_time": "2022-09-06T14:20:23.504Z"
   },
   {
    "duration": 0,
    "start_time": "2022-09-06T14:20:23.557Z"
   },
   {
    "duration": 0,
    "start_time": "2022-09-06T14:20:23.558Z"
   },
   {
    "duration": 0,
    "start_time": "2022-09-06T14:20:23.559Z"
   },
   {
    "duration": 0,
    "start_time": "2022-09-06T14:20:23.560Z"
   },
   {
    "duration": 0,
    "start_time": "2022-09-06T14:20:23.562Z"
   },
   {
    "duration": 0,
    "start_time": "2022-09-06T14:20:23.563Z"
   },
   {
    "duration": 0,
    "start_time": "2022-09-06T14:20:23.564Z"
   },
   {
    "duration": 0,
    "start_time": "2022-09-06T14:20:23.565Z"
   },
   {
    "duration": 0,
    "start_time": "2022-09-06T14:20:23.566Z"
   },
   {
    "duration": 0,
    "start_time": "2022-09-06T14:20:23.567Z"
   },
   {
    "duration": 0,
    "start_time": "2022-09-06T14:20:23.568Z"
   },
   {
    "duration": 0,
    "start_time": "2022-09-06T14:20:23.569Z"
   },
   {
    "duration": 0,
    "start_time": "2022-09-06T14:20:23.570Z"
   },
   {
    "duration": 0,
    "start_time": "2022-09-06T14:20:23.572Z"
   },
   {
    "duration": 0,
    "start_time": "2022-09-06T14:20:23.573Z"
   },
   {
    "duration": 0,
    "start_time": "2022-09-06T14:20:23.574Z"
   },
   {
    "duration": 0,
    "start_time": "2022-09-06T14:20:23.575Z"
   },
   {
    "duration": 0,
    "start_time": "2022-09-06T14:20:23.578Z"
   },
   {
    "duration": 0,
    "start_time": "2022-09-06T14:20:23.579Z"
   },
   {
    "duration": 0,
    "start_time": "2022-09-06T14:20:23.580Z"
   },
   {
    "duration": 0,
    "start_time": "2022-09-06T14:20:23.582Z"
   },
   {
    "duration": 7,
    "start_time": "2022-09-06T14:20:32.540Z"
   },
   {
    "duration": 141,
    "start_time": "2022-09-06T14:20:32.549Z"
   },
   {
    "duration": 2,
    "start_time": "2022-09-06T14:20:32.692Z"
   },
   {
    "duration": 6,
    "start_time": "2022-09-06T14:20:32.696Z"
   },
   {
    "duration": 61,
    "start_time": "2022-09-06T14:20:32.704Z"
   },
   {
    "duration": 21,
    "start_time": "2022-09-06T14:20:32.767Z"
   },
   {
    "duration": 4,
    "start_time": "2022-09-06T14:20:32.790Z"
   },
   {
    "duration": 7,
    "start_time": "2022-09-06T14:20:32.795Z"
   },
   {
    "duration": 60,
    "start_time": "2022-09-06T14:20:32.804Z"
   },
   {
    "duration": 96,
    "start_time": "2022-09-06T14:20:32.882Z"
   },
   {
    "duration": 8,
    "start_time": "2022-09-06T14:20:32.981Z"
   },
   {
    "duration": 7,
    "start_time": "2022-09-06T14:20:32.991Z"
   },
   {
    "duration": 14,
    "start_time": "2022-09-06T14:20:33.000Z"
   },
   {
    "duration": 8,
    "start_time": "2022-09-06T14:20:33.015Z"
   },
   {
    "duration": 10,
    "start_time": "2022-09-06T14:20:33.024Z"
   },
   {
    "duration": 26,
    "start_time": "2022-09-06T14:20:33.057Z"
   },
   {
    "duration": 7,
    "start_time": "2022-09-06T14:20:33.085Z"
   },
   {
    "duration": 4778,
    "start_time": "2022-09-06T14:20:33.093Z"
   },
   {
    "duration": 10,
    "start_time": "2022-09-06T14:20:37.873Z"
   },
   {
    "duration": 18,
    "start_time": "2022-09-06T14:20:37.885Z"
   },
   {
    "duration": 22,
    "start_time": "2022-09-06T14:20:37.905Z"
   },
   {
    "duration": 21,
    "start_time": "2022-09-06T14:20:37.928Z"
   },
   {
    "duration": 19,
    "start_time": "2022-09-06T14:20:37.950Z"
   },
   {
    "duration": 624,
    "start_time": "2022-09-06T14:20:37.971Z"
   },
   {
    "duration": 511,
    "start_time": "2022-09-06T14:20:38.596Z"
   },
   {
    "duration": 4,
    "start_time": "2022-09-06T14:20:39.108Z"
   },
   {
    "duration": 17,
    "start_time": "2022-09-06T14:20:39.113Z"
   },
   {
    "duration": 11,
    "start_time": "2022-09-06T14:20:39.133Z"
   },
   {
    "duration": 38,
    "start_time": "2022-09-06T14:20:39.146Z"
   },
   {
    "duration": 20,
    "start_time": "2022-09-06T14:20:39.186Z"
   },
   {
    "duration": 68,
    "start_time": "2022-09-06T14:20:39.207Z"
   },
   {
    "duration": 15927,
    "start_time": "2022-09-06T14:20:39.284Z"
   },
   {
    "duration": 0,
    "start_time": "2022-09-06T14:20:55.213Z"
   },
   {
    "duration": 0,
    "start_time": "2022-09-06T14:20:55.214Z"
   },
   {
    "duration": 0,
    "start_time": "2022-09-06T14:20:55.216Z"
   },
   {
    "duration": 0,
    "start_time": "2022-09-06T14:20:55.217Z"
   },
   {
    "duration": 0,
    "start_time": "2022-09-06T14:20:55.219Z"
   },
   {
    "duration": 0,
    "start_time": "2022-09-06T14:20:55.220Z"
   },
   {
    "duration": 0,
    "start_time": "2022-09-06T14:20:55.222Z"
   },
   {
    "duration": 0,
    "start_time": "2022-09-06T14:20:55.223Z"
   },
   {
    "duration": 0,
    "start_time": "2022-09-06T14:20:55.225Z"
   },
   {
    "duration": 0,
    "start_time": "2022-09-06T14:20:55.226Z"
   },
   {
    "duration": 0,
    "start_time": "2022-09-06T14:20:55.227Z"
   },
   {
    "duration": 0,
    "start_time": "2022-09-06T14:20:55.256Z"
   },
   {
    "duration": 0,
    "start_time": "2022-09-06T14:20:55.258Z"
   },
   {
    "duration": 0,
    "start_time": "2022-09-06T14:20:55.259Z"
   },
   {
    "duration": 0,
    "start_time": "2022-09-06T14:20:55.262Z"
   },
   {
    "duration": 0,
    "start_time": "2022-09-06T14:20:55.263Z"
   },
   {
    "duration": 0,
    "start_time": "2022-09-06T14:20:55.266Z"
   },
   {
    "duration": 0,
    "start_time": "2022-09-06T14:20:55.268Z"
   },
   {
    "duration": 0,
    "start_time": "2022-09-06T14:20:55.269Z"
   },
   {
    "duration": 0,
    "start_time": "2022-09-06T14:20:55.270Z"
   },
   {
    "duration": 0,
    "start_time": "2022-09-06T14:20:55.271Z"
   },
   {
    "duration": 0,
    "start_time": "2022-09-06T14:20:55.273Z"
   },
   {
    "duration": 0,
    "start_time": "2022-09-06T14:20:55.274Z"
   },
   {
    "duration": 0,
    "start_time": "2022-09-06T14:20:55.276Z"
   },
   {
    "duration": 1,
    "start_time": "2022-09-06T14:20:55.277Z"
   },
   {
    "duration": 0,
    "start_time": "2022-09-06T14:20:55.278Z"
   },
   {
    "duration": 0,
    "start_time": "2022-09-06T14:20:55.281Z"
   },
   {
    "duration": 0,
    "start_time": "2022-09-06T14:20:55.282Z"
   },
   {
    "duration": 5,
    "start_time": "2022-09-06T14:21:03.455Z"
   },
   {
    "duration": 3,
    "start_time": "2022-09-06T14:21:04.762Z"
   },
   {
    "duration": 616,
    "start_time": "2022-09-06T14:21:05.814Z"
   },
   {
    "duration": 53,
    "start_time": "2022-09-06T14:21:22.590Z"
   },
   {
    "duration": 3,
    "start_time": "2022-09-06T14:21:28.718Z"
   },
   {
    "duration": 3,
    "start_time": "2022-09-06T14:21:29.550Z"
   },
   {
    "duration": 787,
    "start_time": "2022-09-06T14:21:30.182Z"
   },
   {
    "duration": 45,
    "start_time": "2022-09-06T14:22:58.009Z"
   },
   {
    "duration": 1535,
    "start_time": "2022-09-06T14:23:02.886Z"
   },
   {
    "duration": 69,
    "start_time": "2022-09-06T14:23:04.423Z"
   },
   {
    "duration": 58,
    "start_time": "2022-09-06T14:23:04.494Z"
   },
   {
    "duration": 14,
    "start_time": "2022-09-06T14:23:04.555Z"
   },
   {
    "duration": 8,
    "start_time": "2022-09-06T14:23:04.570Z"
   },
   {
    "duration": 1010,
    "start_time": "2022-09-06T14:23:04.579Z"
   },
   {
    "duration": 375,
    "start_time": "2022-09-06T14:23:05.591Z"
   },
   {
    "duration": 302,
    "start_time": "2022-09-06T14:23:05.971Z"
   },
   {
    "duration": 8,
    "start_time": "2022-09-06T14:23:06.275Z"
   },
   {
    "duration": 11,
    "start_time": "2022-09-06T14:23:06.286Z"
   },
   {
    "duration": 12,
    "start_time": "2022-09-06T14:23:06.299Z"
   },
   {
    "duration": 24,
    "start_time": "2022-09-06T14:23:06.312Z"
   },
   {
    "duration": 21,
    "start_time": "2022-09-06T14:23:06.338Z"
   },
   {
    "duration": 155,
    "start_time": "2022-09-06T14:23:06.363Z"
   },
   {
    "duration": 2,
    "start_time": "2022-09-06T14:23:06.520Z"
   },
   {
    "duration": 7,
    "start_time": "2022-09-06T14:23:06.523Z"
   },
   {
    "duration": 93,
    "start_time": "2022-09-06T14:23:06.531Z"
   },
   {
    "duration": 20,
    "start_time": "2022-09-06T14:23:06.626Z"
   },
   {
    "duration": 4,
    "start_time": "2022-09-06T14:23:06.647Z"
   },
   {
    "duration": 8,
    "start_time": "2022-09-06T14:23:06.653Z"
   },
   {
    "duration": 24,
    "start_time": "2022-09-06T14:23:06.662Z"
   },
   {
    "duration": 186,
    "start_time": "2022-09-06T14:23:06.687Z"
   },
   {
    "duration": 11,
    "start_time": "2022-09-06T14:23:06.875Z"
   },
   {
    "duration": 10,
    "start_time": "2022-09-06T14:23:06.888Z"
   },
   {
    "duration": 20,
    "start_time": "2022-09-06T14:23:06.899Z"
   },
   {
    "duration": 8,
    "start_time": "2022-09-06T14:23:06.921Z"
   },
   {
    "duration": 12,
    "start_time": "2022-09-06T14:23:06.931Z"
   },
   {
    "duration": 9,
    "start_time": "2022-09-06T14:23:06.946Z"
   },
   {
    "duration": 18,
    "start_time": "2022-09-06T14:23:06.957Z"
   },
   {
    "duration": 5734,
    "start_time": "2022-09-06T14:23:06.976Z"
   },
   {
    "duration": 13,
    "start_time": "2022-09-06T14:23:30.334Z"
   },
   {
    "duration": 13,
    "start_time": "2022-09-06T14:23:32.518Z"
   },
   {
    "duration": 111,
    "start_time": "2022-09-06T14:23:34.716Z"
   },
   {
    "duration": 9,
    "start_time": "2022-09-06T14:23:37.685Z"
   },
   {
    "duration": 3,
    "start_time": "2022-09-06T14:23:40.348Z"
   },
   {
    "duration": 6,
    "start_time": "2022-09-06T14:23:41.180Z"
   },
   {
    "duration": 3,
    "start_time": "2022-09-06T14:33:03.573Z"
   },
   {
    "duration": 19,
    "start_time": "2022-09-06T14:34:48.756Z"
   },
   {
    "duration": 70,
    "start_time": "2022-09-06T14:35:31.398Z"
   },
   {
    "duration": 99,
    "start_time": "2022-09-06T14:35:43.203Z"
   },
   {
    "duration": 14,
    "start_time": "2022-09-06T14:35:47.650Z"
   },
   {
    "duration": 3,
    "start_time": "2022-09-06T14:35:56.810Z"
   },
   {
    "duration": 3,
    "start_time": "2022-09-06T14:35:59.010Z"
   },
   {
    "duration": 14,
    "start_time": "2022-09-06T14:36:00.164Z"
   },
   {
    "duration": 4,
    "start_time": "2022-09-06T14:36:06.203Z"
   },
   {
    "duration": 3,
    "start_time": "2022-09-06T14:36:07.778Z"
   },
   {
    "duration": 13,
    "start_time": "2022-09-06T14:36:08.539Z"
   },
   {
    "duration": 3,
    "start_time": "2022-09-06T14:41:24.387Z"
   },
   {
    "duration": 3,
    "start_time": "2022-09-06T14:41:25.146Z"
   },
   {
    "duration": 972,
    "start_time": "2022-09-06T14:41:34.859Z"
   },
   {
    "duration": 3,
    "start_time": "2022-09-06T14:41:49.508Z"
   },
   {
    "duration": 4,
    "start_time": "2022-09-06T14:41:52.004Z"
   },
   {
    "duration": 558,
    "start_time": "2022-09-06T14:41:52.747Z"
   },
   {
    "duration": 3,
    "start_time": "2022-09-06T14:42:00.514Z"
   },
   {
    "duration": 3,
    "start_time": "2022-09-06T14:42:01.418Z"
   },
   {
    "duration": 665,
    "start_time": "2022-09-06T14:42:02.024Z"
   },
   {
    "duration": 10,
    "start_time": "2022-09-06T14:42:05.340Z"
   },
   {
    "duration": 511,
    "start_time": "2022-09-06T14:42:09.506Z"
   },
   {
    "duration": 5,
    "start_time": "2022-09-06T14:42:16.619Z"
   },
   {
    "duration": 8,
    "start_time": "2022-09-06T14:42:18.858Z"
   },
   {
    "duration": 3,
    "start_time": "2022-09-06T14:42:19.730Z"
   },
   {
    "duration": 4,
    "start_time": "2022-09-06T14:42:20.700Z"
   },
   {
    "duration": 3,
    "start_time": "2022-09-06T14:42:26.542Z"
   },
   {
    "duration": 3,
    "start_time": "2022-09-06T14:42:27.642Z"
   },
   {
    "duration": 438,
    "start_time": "2022-09-06T14:42:28.418Z"
   },
   {
    "duration": 494,
    "start_time": "2022-09-06T14:42:29.101Z"
   },
   {
    "duration": 5,
    "start_time": "2022-09-06T14:42:29.978Z"
   },
   {
    "duration": 5,
    "start_time": "2022-09-06T14:42:30.670Z"
   },
   {
    "duration": 5,
    "start_time": "2022-09-06T14:42:32.931Z"
   },
   {
    "duration": 5,
    "start_time": "2022-09-06T14:42:33.878Z"
   },
   {
    "duration": 4,
    "start_time": "2022-09-06T14:42:57.180Z"
   },
   {
    "duration": 3,
    "start_time": "2022-09-06T14:43:02.509Z"
   },
   {
    "duration": 643,
    "start_time": "2022-09-06T14:43:03.219Z"
   },
   {
    "duration": 848,
    "start_time": "2022-09-06T14:43:04.747Z"
   },
   {
    "duration": 11,
    "start_time": "2022-09-06T14:43:07.354Z"
   },
   {
    "duration": 4,
    "start_time": "2022-09-06T14:43:08.115Z"
   },
   {
    "duration": 4,
    "start_time": "2022-09-06T14:43:08.799Z"
   },
   {
    "duration": 4,
    "start_time": "2022-09-06T14:43:09.835Z"
   },
   {
    "duration": 4,
    "start_time": "2022-09-06T14:43:12.251Z"
   },
   {
    "duration": 6,
    "start_time": "2022-09-06T14:43:13.011Z"
   },
   {
    "duration": 4,
    "start_time": "2022-09-06T14:43:16.463Z"
   },
   {
    "duration": 3,
    "start_time": "2022-09-06T14:43:17.304Z"
   },
   {
    "duration": 581,
    "start_time": "2022-09-06T14:43:17.890Z"
   },
   {
    "duration": 595,
    "start_time": "2022-09-06T14:43:19.187Z"
   },
   {
    "duration": 6,
    "start_time": "2022-09-06T14:43:20.390Z"
   },
   {
    "duration": 5,
    "start_time": "2022-09-06T14:43:21.323Z"
   },
   {
    "duration": 5,
    "start_time": "2022-09-06T14:43:22.043Z"
   },
   {
    "duration": 13,
    "start_time": "2022-09-06T14:43:23.058Z"
   },
   {
    "duration": 7,
    "start_time": "2022-09-06T14:43:27.659Z"
   },
   {
    "duration": 2,
    "start_time": "2022-09-06T14:43:28.375Z"
   },
   {
    "duration": 793,
    "start_time": "2022-09-06T14:43:28.978Z"
   },
   {
    "duration": 867,
    "start_time": "2022-09-06T14:43:29.922Z"
   },
   {
    "duration": 4,
    "start_time": "2022-09-06T14:43:30.819Z"
   },
   {
    "duration": 12,
    "start_time": "2022-09-06T14:43:31.459Z"
   },
   {
    "duration": 4,
    "start_time": "2022-09-06T14:43:32.966Z"
   },
   {
    "duration": 4,
    "start_time": "2022-09-06T14:43:34.605Z"
   },
   {
    "duration": 3,
    "start_time": "2022-09-06T14:43:54.509Z"
   },
   {
    "duration": 3,
    "start_time": "2022-09-06T14:43:55.451Z"
   },
   {
    "duration": 1439,
    "start_time": "2022-09-06T14:43:56.091Z"
   },
   {
    "duration": 4,
    "start_time": "2022-09-06T14:44:18.582Z"
   },
   {
    "duration": 2,
    "start_time": "2022-09-06T14:44:19.938Z"
   },
   {
    "duration": 832,
    "start_time": "2022-09-06T14:44:20.523Z"
   },
   {
    "duration": 3,
    "start_time": "2022-09-06T14:44:30.302Z"
   },
   {
    "duration": 3,
    "start_time": "2022-09-06T14:44:31.226Z"
   },
   {
    "duration": 572,
    "start_time": "2022-09-06T14:44:31.819Z"
   },
   {
    "duration": 798,
    "start_time": "2022-09-06T14:44:33.307Z"
   },
   {
    "duration": 4,
    "start_time": "2022-09-06T14:44:35.097Z"
   },
   {
    "duration": 6,
    "start_time": "2022-09-06T14:44:37.282Z"
   },
   {
    "duration": 5,
    "start_time": "2022-09-06T14:44:38.114Z"
   },
   {
    "duration": 4,
    "start_time": "2022-09-06T14:44:38.835Z"
   },
   {
    "duration": 4,
    "start_time": "2022-09-06T14:44:51.869Z"
   },
   {
    "duration": 3,
    "start_time": "2022-09-06T14:44:52.682Z"
   },
   {
    "duration": 699,
    "start_time": "2022-09-06T14:44:53.274Z"
   },
   {
    "duration": 833,
    "start_time": "2022-09-06T14:44:54.546Z"
   },
   {
    "duration": 4,
    "start_time": "2022-09-06T14:44:56.603Z"
   },
   {
    "duration": 4,
    "start_time": "2022-09-06T14:44:57.251Z"
   },
   {
    "duration": 4,
    "start_time": "2022-09-06T14:44:57.806Z"
   },
   {
    "duration": 4,
    "start_time": "2022-09-06T14:44:58.474Z"
   },
   {
    "duration": 5,
    "start_time": "2022-09-06T14:46:44.500Z"
   },
   {
    "duration": 7,
    "start_time": "2022-09-06T14:47:04.276Z"
   },
   {
    "duration": 8,
    "start_time": "2022-09-06T14:47:10.363Z"
   },
   {
    "duration": 14,
    "start_time": "2022-09-06T14:48:15.627Z"
   },
   {
    "duration": 3,
    "start_time": "2022-09-06T14:48:25.051Z"
   },
   {
    "duration": 41,
    "start_time": "2022-09-06T14:48:26.434Z"
   },
   {
    "duration": 3,
    "start_time": "2022-09-06T14:48:27.834Z"
   },
   {
    "duration": 62875,
    "start_time": "2022-09-06T14:48:53.827Z"
   },
   {
    "duration": 3,
    "start_time": "2022-09-06T14:51:43.103Z"
   },
   {
    "duration": 5,
    "start_time": "2022-09-06T14:51:43.954Z"
   },
   {
    "duration": 3,
    "start_time": "2022-09-06T14:51:44.642Z"
   },
   {
    "duration": 808,
    "start_time": "2022-09-06T14:51:45.229Z"
   },
   {
    "duration": 485,
    "start_time": "2022-09-06T14:51:47.786Z"
   },
   {
    "duration": 4,
    "start_time": "2022-09-06T14:51:49.095Z"
   },
   {
    "duration": 4,
    "start_time": "2022-09-06T14:51:49.730Z"
   },
   {
    "duration": 4,
    "start_time": "2022-09-06T14:51:50.613Z"
   },
   {
    "duration": 3,
    "start_time": "2022-09-06T14:51:52.219Z"
   },
   {
    "duration": 4,
    "start_time": "2022-09-06T14:52:19.212Z"
   },
   {
    "duration": 88,
    "start_time": "2022-09-06T14:52:20.170Z"
   },
   {
    "duration": 3,
    "start_time": "2022-09-06T14:52:20.875Z"
   },
   {
    "duration": 1346018,
    "start_time": "2022-09-06T14:52:22.260Z"
   },
   {
    "duration": 3,
    "start_time": "2022-09-06T15:14:56.224Z"
   },
   {
    "duration": 127257,
    "start_time": "2022-09-06T15:14:57.138Z"
   },
   {
    "duration": 0,
    "start_time": "2022-09-06T15:17:04.398Z"
   },
   {
    "duration": 29,
    "start_time": "2022-09-06T15:17:10.195Z"
   },
   {
    "duration": 4,
    "start_time": "2022-09-06T15:17:11.058Z"
   },
   {
    "duration": 36514,
    "start_time": "2022-09-06T15:18:10.544Z"
   },
   {
    "duration": 5,
    "start_time": "2022-09-06T15:20:22.308Z"
   },
   {
    "duration": 29,
    "start_time": "2022-09-06T15:20:23.448Z"
   },
   {
    "duration": 4,
    "start_time": "2022-09-06T15:21:02.049Z"
   },
   {
    "duration": 26,
    "start_time": "2022-09-06T15:21:03.105Z"
   },
   {
    "duration": 6,
    "start_time": "2022-09-06T15:22:31.665Z"
   },
   {
    "duration": 3,
    "start_time": "2022-09-06T15:22:32.447Z"
   },
   {
    "duration": 116530,
    "start_time": "2022-09-06T15:22:33.130Z"
   },
   {
    "duration": 29,
    "start_time": "2022-09-06T15:24:45.432Z"
   },
   {
    "duration": 4,
    "start_time": "2022-09-06T15:24:46.804Z"
   },
   {
    "duration": 8,
    "start_time": "2022-09-06T15:24:47.600Z"
   },
   {
    "duration": 4,
    "start_time": "2022-09-06T15:24:48.448Z"
   },
   {
    "duration": 3,
    "start_time": "2022-09-06T15:26:28.248Z"
   },
   {
    "duration": 3,
    "start_time": "2022-09-06T15:26:31.127Z"
   },
   {
    "duration": 15053,
    "start_time": "2022-09-06T15:26:33.809Z"
   },
   {
    "duration": 3,
    "start_time": "2022-09-06T15:26:52.775Z"
   },
   {
    "duration": 2,
    "start_time": "2022-09-06T15:26:54.384Z"
   },
   {
    "duration": 334329,
    "start_time": "2022-09-06T15:26:55.039Z"
   },
   {
    "duration": 218,
    "start_time": "2022-09-06T15:32:29.373Z"
   },
   {
    "duration": 54,
    "start_time": "2022-09-06T15:33:05.263Z"
   },
   {
    "duration": 39,
    "start_time": "2022-09-06T15:33:19.033Z"
   },
   {
    "duration": 5,
    "start_time": "2022-09-06T15:33:19.976Z"
   },
   {
    "duration": 5,
    "start_time": "2022-09-06T15:33:20.647Z"
   },
   {
    "duration": 4,
    "start_time": "2022-09-06T15:33:21.527Z"
   },
   {
    "duration": 3,
    "start_time": "2022-09-06T15:33:39.127Z"
   },
   {
    "duration": 3,
    "start_time": "2022-09-06T15:33:39.774Z"
   },
   {
    "duration": 137736,
    "start_time": "2022-09-06T15:33:40.431Z"
   },
   {
    "duration": 196,
    "start_time": "2022-09-06T15:35:58.172Z"
   },
   {
    "duration": 102,
    "start_time": "2022-09-06T15:36:37.866Z"
   },
   {
    "duration": 5,
    "start_time": "2022-09-06T15:36:39.847Z"
   },
   {
    "duration": 4,
    "start_time": "2022-09-06T15:36:40.542Z"
   },
   {
    "duration": 3,
    "start_time": "2022-09-06T15:36:41.743Z"
   },
   {
    "duration": 15,
    "start_time": "2022-09-06T15:38:10.279Z"
   },
   {
    "duration": 279,
    "start_time": "2022-09-06T15:38:26.678Z"
   },
   {
    "duration": 1501,
    "start_time": "2022-09-06T15:39:17.953Z"
   },
   {
    "duration": 155,
    "start_time": "2022-09-06T15:39:19.455Z"
   },
   {
    "duration": 62,
    "start_time": "2022-09-06T15:39:19.612Z"
   },
   {
    "duration": 6,
    "start_time": "2022-09-06T15:39:19.677Z"
   },
   {
    "duration": 16,
    "start_time": "2022-09-06T15:39:19.684Z"
   },
   {
    "duration": 972,
    "start_time": "2022-09-06T15:39:19.702Z"
   },
   {
    "duration": 350,
    "start_time": "2022-09-06T15:39:20.676Z"
   },
   {
    "duration": 305,
    "start_time": "2022-09-06T15:39:21.028Z"
   },
   {
    "duration": 171,
    "start_time": "2022-09-06T15:39:21.334Z"
   },
   {
    "duration": 145,
    "start_time": "2022-09-06T15:39:21.509Z"
   },
   {
    "duration": 0,
    "start_time": "2022-09-06T15:39:21.663Z"
   },
   {
    "duration": 0,
    "start_time": "2022-09-06T15:39:21.664Z"
   },
   {
    "duration": 0,
    "start_time": "2022-09-06T15:39:21.665Z"
   },
   {
    "duration": 0,
    "start_time": "2022-09-06T15:39:21.665Z"
   },
   {
    "duration": 0,
    "start_time": "2022-09-06T15:39:21.666Z"
   },
   {
    "duration": 0,
    "start_time": "2022-09-06T15:39:21.666Z"
   },
   {
    "duration": 0,
    "start_time": "2022-09-06T15:39:21.670Z"
   },
   {
    "duration": 0,
    "start_time": "2022-09-06T15:39:21.672Z"
   },
   {
    "duration": 0,
    "start_time": "2022-09-06T15:39:21.673Z"
   },
   {
    "duration": 0,
    "start_time": "2022-09-06T15:39:21.678Z"
   },
   {
    "duration": 0,
    "start_time": "2022-09-06T15:39:21.679Z"
   },
   {
    "duration": 0,
    "start_time": "2022-09-06T15:39:21.680Z"
   },
   {
    "duration": 0,
    "start_time": "2022-09-06T15:39:21.682Z"
   },
   {
    "duration": 0,
    "start_time": "2022-09-06T15:39:21.683Z"
   },
   {
    "duration": 0,
    "start_time": "2022-09-06T15:39:21.685Z"
   },
   {
    "duration": 0,
    "start_time": "2022-09-06T15:39:21.686Z"
   },
   {
    "duration": 0,
    "start_time": "2022-09-06T15:39:21.688Z"
   },
   {
    "duration": 0,
    "start_time": "2022-09-06T15:39:21.689Z"
   },
   {
    "duration": 0,
    "start_time": "2022-09-06T15:39:21.690Z"
   },
   {
    "duration": 0,
    "start_time": "2022-09-06T15:39:21.692Z"
   },
   {
    "duration": 0,
    "start_time": "2022-09-06T15:39:21.694Z"
   },
   {
    "duration": 0,
    "start_time": "2022-09-06T15:39:21.695Z"
   },
   {
    "duration": 0,
    "start_time": "2022-09-06T15:39:21.697Z"
   },
   {
    "duration": 0,
    "start_time": "2022-09-06T15:39:21.698Z"
   },
   {
    "duration": 0,
    "start_time": "2022-09-06T15:39:21.700Z"
   },
   {
    "duration": 0,
    "start_time": "2022-09-06T15:39:21.702Z"
   },
   {
    "duration": 0,
    "start_time": "2022-09-06T15:39:21.703Z"
   },
   {
    "duration": 0,
    "start_time": "2022-09-06T15:39:21.705Z"
   },
   {
    "duration": 0,
    "start_time": "2022-09-06T15:39:21.706Z"
   },
   {
    "duration": 0,
    "start_time": "2022-09-06T15:39:21.708Z"
   },
   {
    "duration": 0,
    "start_time": "2022-09-06T15:39:21.709Z"
   },
   {
    "duration": 0,
    "start_time": "2022-09-06T15:39:21.712Z"
   },
   {
    "duration": 0,
    "start_time": "2022-09-06T15:39:21.763Z"
   },
   {
    "duration": 0,
    "start_time": "2022-09-06T15:39:21.765Z"
   },
   {
    "duration": 0,
    "start_time": "2022-09-06T15:39:21.767Z"
   },
   {
    "duration": 0,
    "start_time": "2022-09-06T15:39:21.769Z"
   },
   {
    "duration": 0,
    "start_time": "2022-09-06T15:39:21.770Z"
   },
   {
    "duration": 0,
    "start_time": "2022-09-06T15:39:21.771Z"
   },
   {
    "duration": 0,
    "start_time": "2022-09-06T15:39:21.772Z"
   },
   {
    "duration": 0,
    "start_time": "2022-09-06T15:39:21.774Z"
   },
   {
    "duration": 0,
    "start_time": "2022-09-06T15:39:21.775Z"
   },
   {
    "duration": 0,
    "start_time": "2022-09-06T15:39:21.776Z"
   },
   {
    "duration": 0,
    "start_time": "2022-09-06T15:39:21.777Z"
   },
   {
    "duration": 0,
    "start_time": "2022-09-06T15:39:21.779Z"
   },
   {
    "duration": 0,
    "start_time": "2022-09-06T15:39:21.780Z"
   },
   {
    "duration": 0,
    "start_time": "2022-09-06T15:39:21.781Z"
   },
   {
    "duration": 0,
    "start_time": "2022-09-06T15:39:21.782Z"
   },
   {
    "duration": 0,
    "start_time": "2022-09-06T15:39:21.784Z"
   },
   {
    "duration": 0,
    "start_time": "2022-09-06T15:39:21.785Z"
   },
   {
    "duration": 0,
    "start_time": "2022-09-06T15:39:21.786Z"
   },
   {
    "duration": 0,
    "start_time": "2022-09-06T15:39:21.788Z"
   },
   {
    "duration": 0,
    "start_time": "2022-09-06T15:39:21.790Z"
   },
   {
    "duration": 0,
    "start_time": "2022-09-06T15:39:21.792Z"
   },
   {
    "duration": 0,
    "start_time": "2022-09-06T15:39:21.794Z"
   },
   {
    "duration": 0,
    "start_time": "2022-09-06T15:39:21.795Z"
   },
   {
    "duration": 0,
    "start_time": "2022-09-06T15:39:21.796Z"
   },
   {
    "duration": 0,
    "start_time": "2022-09-06T15:39:21.798Z"
   },
   {
    "duration": 0,
    "start_time": "2022-09-06T15:39:21.799Z"
   },
   {
    "duration": 0,
    "start_time": "2022-09-06T15:39:21.802Z"
   },
   {
    "duration": 0,
    "start_time": "2022-09-06T15:39:21.803Z"
   },
   {
    "duration": 0,
    "start_time": "2022-09-06T15:39:21.805Z"
   },
   {
    "duration": 0,
    "start_time": "2022-09-06T15:39:21.858Z"
   },
   {
    "duration": 0,
    "start_time": "2022-09-06T15:39:21.860Z"
   },
   {
    "duration": 0,
    "start_time": "2022-09-06T15:39:21.864Z"
   },
   {
    "duration": 347,
    "start_time": "2022-09-06T15:39:30.894Z"
   },
   {
    "duration": 270,
    "start_time": "2022-09-06T15:39:37.464Z"
   },
   {
    "duration": 10,
    "start_time": "2022-09-06T15:40:16.576Z"
   },
   {
    "duration": 15,
    "start_time": "2022-09-06T15:41:25.465Z"
   },
   {
    "duration": 14,
    "start_time": "2022-09-06T15:41:32.880Z"
   },
   {
    "duration": 136,
    "start_time": "2022-09-06T15:42:48.744Z"
   },
   {
    "duration": 10,
    "start_time": "2022-09-06T15:43:19.719Z"
   },
   {
    "duration": 23,
    "start_time": "2022-09-06T15:43:50.240Z"
   },
   {
    "duration": 7,
    "start_time": "2022-09-06T15:44:41.098Z"
   },
   {
    "duration": 183,
    "start_time": "2022-09-06T15:45:48.832Z"
   },
   {
    "duration": 158,
    "start_time": "2022-09-06T15:45:51.785Z"
   },
   {
    "duration": 120,
    "start_time": "2022-09-06T15:45:58.206Z"
   },
   {
    "duration": 15,
    "start_time": "2022-09-06T15:46:29.456Z"
   },
   {
    "duration": 11,
    "start_time": "2022-09-06T15:46:32.762Z"
   },
   {
    "duration": 9,
    "start_time": "2022-09-06T15:49:12.770Z"
   },
   {
    "duration": 14,
    "start_time": "2022-09-06T15:49:15.790Z"
   },
   {
    "duration": 76,
    "start_time": "2022-09-06T15:49:34.754Z"
   },
   {
    "duration": 404,
    "start_time": "2022-09-06T15:50:08.017Z"
   },
   {
    "duration": 6,
    "start_time": "2022-09-06T15:50:26.017Z"
   },
   {
    "duration": 12,
    "start_time": "2022-09-06T15:50:26.855Z"
   },
   {
    "duration": 116,
    "start_time": "2022-09-06T15:50:36.745Z"
   },
   {
    "duration": 7,
    "start_time": "2022-09-06T15:50:38.707Z"
   },
   {
    "duration": 138,
    "start_time": "2022-09-06T15:50:41.537Z"
   },
   {
    "duration": 13,
    "start_time": "2022-09-06T15:50:44.352Z"
   },
   {
    "duration": 7,
    "start_time": "2022-09-06T15:50:46.937Z"
   },
   {
    "duration": 12,
    "start_time": "2022-09-06T15:50:47.728Z"
   },
   {
    "duration": 7,
    "start_time": "2022-09-06T15:51:11.857Z"
   },
   {
    "duration": 5,
    "start_time": "2022-09-06T15:51:12.884Z"
   },
   {
    "duration": 57,
    "start_time": "2022-09-06T15:52:54.716Z"
   },
   {
    "duration": 10,
    "start_time": "2022-09-06T15:53:36.688Z"
   },
   {
    "duration": 4,
    "start_time": "2022-09-06T15:53:37.544Z"
   },
   {
    "duration": 3,
    "start_time": "2022-09-06T15:53:38.336Z"
   },
   {
    "duration": 4,
    "start_time": "2022-09-06T15:53:39.292Z"
   },
   {
    "duration": 4,
    "start_time": "2022-09-06T15:53:40.632Z"
   },
   {
    "duration": 4,
    "start_time": "2022-09-06T15:53:42.535Z"
   },
   {
    "duration": 3,
    "start_time": "2022-09-06T15:53:43.336Z"
   },
   {
    "duration": 9,
    "start_time": "2022-09-06T15:54:07.425Z"
   },
   {
    "duration": 3,
    "start_time": "2022-09-06T15:54:36.086Z"
   },
   {
    "duration": 9,
    "start_time": "2022-09-06T15:54:36.928Z"
   },
   {
    "duration": 8,
    "start_time": "2022-09-06T15:54:37.919Z"
   },
   {
    "duration": 4,
    "start_time": "2022-09-06T15:54:38.577Z"
   },
   {
    "duration": 4,
    "start_time": "2022-09-06T15:54:39.173Z"
   },
   {
    "duration": 4,
    "start_time": "2022-09-06T15:54:39.927Z"
   },
   {
    "duration": 10,
    "start_time": "2022-09-06T15:54:42.973Z"
   },
   {
    "duration": 3,
    "start_time": "2022-09-06T15:54:46.020Z"
   },
   {
    "duration": 4448,
    "start_time": "2022-09-06T15:54:48.544Z"
   },
   {
    "duration": 9,
    "start_time": "2022-09-06T15:54:54.922Z"
   },
   {
    "duration": 10,
    "start_time": "2022-09-06T15:54:56.536Z"
   },
   {
    "duration": 5,
    "start_time": "2022-09-06T15:55:00.068Z"
   },
   {
    "duration": 9,
    "start_time": "2022-09-06T15:55:06.162Z"
   },
   {
    "duration": 4,
    "start_time": "2022-09-06T15:55:08.571Z"
   },
   {
    "duration": 989,
    "start_time": "2022-09-06T15:55:09.248Z"
   },
   {
    "duration": 649,
    "start_time": "2022-09-06T15:55:10.240Z"
   },
   {
    "duration": 6,
    "start_time": "2022-09-06T15:55:29.107Z"
   },
   {
    "duration": 4,
    "start_time": "2022-09-06T15:55:29.873Z"
   },
   {
    "duration": 7,
    "start_time": "2022-09-06T15:55:30.472Z"
   },
   {
    "duration": 4,
    "start_time": "2022-09-06T15:55:31.024Z"
   },
   {
    "duration": 3,
    "start_time": "2022-09-06T15:55:41.144Z"
   },
   {
    "duration": 3,
    "start_time": "2022-09-06T15:55:42.019Z"
   },
   {
    "duration": 3,
    "start_time": "2022-09-06T15:55:42.632Z"
   },
   {
    "duration": 549,
    "start_time": "2022-09-06T15:55:43.225Z"
   },
   {
    "duration": 4,
    "start_time": "2022-09-06T15:55:46.986Z"
   },
   {
    "duration": 3,
    "start_time": "2022-09-06T15:55:47.937Z"
   },
   {
    "duration": 4,
    "start_time": "2022-09-06T15:55:48.516Z"
   },
   {
    "duration": 4,
    "start_time": "2022-09-06T15:55:49.440Z"
   },
   {
    "duration": 36,
    "start_time": "2022-09-06T15:56:13.008Z"
   },
   {
    "duration": 2,
    "start_time": "2022-09-06T15:56:13.841Z"
   },
   {
    "duration": 3,
    "start_time": "2022-09-06T15:56:14.589Z"
   },
   {
    "duration": 3,
    "start_time": "2022-09-06T15:56:17.352Z"
   },
   {
    "duration": 3,
    "start_time": "2022-09-06T15:56:18.017Z"
   },
   {
    "duration": 5157,
    "start_time": "2022-09-06T15:56:18.622Z"
   },
   {
    "duration": 4,
    "start_time": "2022-09-06T15:56:26.323Z"
   },
   {
    "duration": 3,
    "start_time": "2022-09-06T15:56:31.373Z"
   },
   {
    "duration": 202,
    "start_time": "2022-09-06T15:56:32.216Z"
   },
   {
    "duration": 5,
    "start_time": "2022-09-06T15:56:33.248Z"
   },
   {
    "duration": 4,
    "start_time": "2022-09-06T15:56:36.730Z"
   },
   {
    "duration": 4,
    "start_time": "2022-09-06T15:56:37.420Z"
   },
   {
    "duration": 13,
    "start_time": "2022-09-06T15:56:40.486Z"
   },
   {
    "duration": 23,
    "start_time": "2022-09-06T15:56:45.792Z"
   },
   {
    "duration": 3,
    "start_time": "2022-09-06T15:57:02.937Z"
   },
   {
    "duration": 3,
    "start_time": "2022-09-06T15:57:04.145Z"
   },
   {
    "duration": 118132,
    "start_time": "2022-09-06T15:57:05.352Z"
   },
   {
    "duration": 0,
    "start_time": "2022-09-06T15:59:03.567Z"
   },
   {
    "duration": 2,
    "start_time": "2022-09-06T15:59:12.509Z"
   },
   {
    "duration": 3,
    "start_time": "2022-09-06T15:59:13.824Z"
   },
   {
    "duration": 4,
    "start_time": "2022-09-06T15:59:22.512Z"
   },
   {
    "duration": 3,
    "start_time": "2022-09-06T15:59:23.439Z"
   },
   {
    "duration": 115112,
    "start_time": "2022-09-06T15:59:24.160Z"
   },
   {
    "duration": 35,
    "start_time": "2022-09-06T16:02:10.929Z"
   },
   {
    "duration": 5,
    "start_time": "2022-09-06T16:02:11.809Z"
   },
   {
    "duration": 5,
    "start_time": "2022-09-06T16:02:12.440Z"
   },
   {
    "duration": 4,
    "start_time": "2022-09-06T16:02:13.824Z"
   },
   {
    "duration": 3,
    "start_time": "2022-09-06T16:12:37.640Z"
   },
   {
    "duration": 3,
    "start_time": "2022-09-06T16:12:43.744Z"
   },
   {
    "duration": 11,
    "start_time": "2022-09-06T16:12:44.528Z"
   },
   {
    "duration": 3,
    "start_time": "2022-09-06T16:13:08.767Z"
   },
   {
    "duration": 4,
    "start_time": "2022-09-06T16:13:10.283Z"
   },
   {
    "duration": 101,
    "start_time": "2022-09-06T16:13:11.063Z"
   },
   {
    "duration": 178,
    "start_time": "2022-09-06T16:13:13.928Z"
   },
   {
    "duration": 130465,
    "start_time": "2022-09-06T16:13:30.409Z"
   },
   {
    "duration": 12,
    "start_time": "2022-09-06T16:15:55.592Z"
   },
   {
    "duration": 5788,
    "start_time": "2022-09-06T16:16:39.688Z"
   },
   {
    "duration": 5849,
    "start_time": "2022-09-06T16:17:05.416Z"
   },
   {
    "duration": 5691,
    "start_time": "2022-09-06T16:17:22.583Z"
   },
   {
    "duration": 9,
    "start_time": "2022-09-06T16:17:32.063Z"
   },
   {
    "duration": 51,
    "start_time": "2022-09-06T16:17:39.607Z"
   },
   {
    "duration": 4,
    "start_time": "2022-09-06T16:17:41.808Z"
   },
   {
    "duration": 4,
    "start_time": "2022-09-06T16:17:42.647Z"
   },
   {
    "duration": 4,
    "start_time": "2022-09-06T16:17:43.608Z"
   },
   {
    "duration": 4,
    "start_time": "2022-09-06T16:18:37.389Z"
   },
   {
    "duration": 10,
    "start_time": "2022-09-06T16:18:37.395Z"
   },
   {
    "duration": 6,
    "start_time": "2022-09-06T16:18:37.407Z"
   },
   {
    "duration": 4,
    "start_time": "2022-09-06T16:18:37.415Z"
   },
   {
    "duration": 9,
    "start_time": "2022-09-06T16:18:37.421Z"
   },
   {
    "duration": 8,
    "start_time": "2022-09-06T16:18:37.432Z"
   },
   {
    "duration": 5000,
    "start_time": "2022-09-06T16:18:37.441Z"
   },
   {
    "duration": 4,
    "start_time": "2022-09-06T16:18:42.442Z"
   },
   {
    "duration": 6,
    "start_time": "2022-09-06T16:18:42.448Z"
   },
   {
    "duration": 129,
    "start_time": "2022-09-06T16:18:42.457Z"
   },
   {
    "duration": 4,
    "start_time": "2022-09-06T16:18:42.588Z"
   },
   {
    "duration": 7,
    "start_time": "2022-09-06T16:18:42.593Z"
   },
   {
    "duration": 11,
    "start_time": "2022-09-06T16:18:42.602Z"
   },
   {
    "duration": 11,
    "start_time": "2022-09-06T16:18:42.614Z"
   },
   {
    "duration": 8,
    "start_time": "2022-09-06T16:18:42.627Z"
   },
   {
    "duration": 9,
    "start_time": "2022-09-06T16:18:42.637Z"
   },
   {
    "duration": 117212,
    "start_time": "2022-09-06T16:18:42.648Z"
   },
   {
    "duration": 100,
    "start_time": "2022-09-06T16:20:39.862Z"
   },
   {
    "duration": 7,
    "start_time": "2022-09-06T16:20:39.964Z"
   },
   {
    "duration": 22,
    "start_time": "2022-09-06T16:20:39.973Z"
   },
   {
    "duration": 25,
    "start_time": "2022-09-06T16:20:39.996Z"
   },
   {
    "duration": 26,
    "start_time": "2022-09-06T16:20:40.022Z"
   },
   {
    "duration": 118,
    "start_time": "2022-09-06T16:21:29.983Z"
   },
   {
    "duration": 6,
    "start_time": "2022-09-06T16:22:58.551Z"
   },
   {
    "duration": 1517,
    "start_time": "2022-09-06T16:24:15.930Z"
   },
   {
    "duration": 73,
    "start_time": "2022-09-06T16:24:17.449Z"
   },
   {
    "duration": 58,
    "start_time": "2022-09-06T16:24:17.524Z"
   },
   {
    "duration": 3,
    "start_time": "2022-09-06T16:24:17.585Z"
   },
   {
    "duration": 22,
    "start_time": "2022-09-06T16:24:17.590Z"
   },
   {
    "duration": 26,
    "start_time": "2022-09-06T16:24:17.615Z"
   },
   {
    "duration": 870,
    "start_time": "2022-09-06T16:24:17.643Z"
   },
   {
    "duration": 317,
    "start_time": "2022-09-06T16:24:18.515Z"
   },
   {
    "duration": 7,
    "start_time": "2022-09-06T16:24:18.833Z"
   },
   {
    "duration": 36,
    "start_time": "2022-09-06T16:24:18.843Z"
   },
   {
    "duration": 113,
    "start_time": "2022-09-06T16:24:18.882Z"
   },
   {
    "duration": 8,
    "start_time": "2022-09-06T16:24:18.997Z"
   },
   {
    "duration": 184,
    "start_time": "2022-09-06T16:24:19.007Z"
   },
   {
    "duration": 8,
    "start_time": "2022-09-06T16:24:19.193Z"
   },
   {
    "duration": 41,
    "start_time": "2022-09-06T16:24:19.203Z"
   },
   {
    "duration": 39,
    "start_time": "2022-09-06T16:24:19.246Z"
   },
   {
    "duration": 26,
    "start_time": "2022-09-06T16:24:19.287Z"
   },
   {
    "duration": 28,
    "start_time": "2022-09-06T16:24:19.315Z"
   },
   {
    "duration": 30,
    "start_time": "2022-09-06T16:24:19.344Z"
   },
   {
    "duration": 34,
    "start_time": "2022-09-06T16:24:19.376Z"
   },
   {
    "duration": 35,
    "start_time": "2022-09-06T16:24:19.412Z"
   },
   {
    "duration": 135,
    "start_time": "2022-09-06T16:24:19.456Z"
   },
   {
    "duration": 17,
    "start_time": "2022-09-06T16:24:19.657Z"
   },
   {
    "duration": 34,
    "start_time": "2022-09-06T16:24:19.676Z"
   },
   {
    "duration": 27,
    "start_time": "2022-09-06T16:24:19.712Z"
   },
   {
    "duration": 34,
    "start_time": "2022-09-06T16:24:19.741Z"
   },
   {
    "duration": 4529,
    "start_time": "2022-09-06T16:24:19.777Z"
   },
   {
    "duration": 9,
    "start_time": "2022-09-06T16:24:24.310Z"
   },
   {
    "duration": 22,
    "start_time": "2022-09-06T16:24:24.320Z"
   },
   {
    "duration": 23,
    "start_time": "2022-09-06T16:24:24.343Z"
   },
   {
    "duration": 10,
    "start_time": "2022-09-06T16:24:24.368Z"
   },
   {
    "duration": 33,
    "start_time": "2022-09-06T16:24:24.379Z"
   },
   {
    "duration": 625,
    "start_time": "2022-09-06T16:24:24.413Z"
   },
   {
    "duration": 5,
    "start_time": "2022-09-06T16:24:25.041Z"
   },
   {
    "duration": 26,
    "start_time": "2022-09-06T16:24:25.048Z"
   },
   {
    "duration": 22,
    "start_time": "2022-09-06T16:24:25.075Z"
   },
   {
    "duration": 22,
    "start_time": "2022-09-06T16:24:25.099Z"
   },
   {
    "duration": 35,
    "start_time": "2022-09-06T16:24:25.123Z"
   },
   {
    "duration": 26,
    "start_time": "2022-09-06T16:24:25.160Z"
   },
   {
    "duration": 78,
    "start_time": "2022-09-06T16:24:25.188Z"
   },
   {
    "duration": 134308,
    "start_time": "2022-09-06T16:24:25.268Z"
   },
   {
    "duration": 6038,
    "start_time": "2022-09-06T16:26:39.658Z"
   },
   {
    "duration": 77,
    "start_time": "2022-09-06T16:26:45.698Z"
   },
   {
    "duration": 6,
    "start_time": "2022-09-06T16:26:45.777Z"
   },
   {
    "duration": 19,
    "start_time": "2022-09-06T16:26:45.785Z"
   },
   {
    "duration": 59,
    "start_time": "2022-09-06T16:26:45.805Z"
   },
   {
    "duration": 48,
    "start_time": "2022-09-06T16:26:45.866Z"
   },
   {
    "duration": 3,
    "start_time": "2022-09-06T16:26:45.916Z"
   },
   {
    "duration": 17,
    "start_time": "2022-09-06T16:26:45.921Z"
   },
   {
    "duration": 28,
    "start_time": "2022-09-06T16:26:45.940Z"
   },
   {
    "duration": 20,
    "start_time": "2022-09-06T16:26:45.970Z"
   },
   {
    "duration": 5542,
    "start_time": "2022-09-06T16:26:45.992Z"
   },
   {
    "duration": 4,
    "start_time": "2022-09-06T16:26:51.537Z"
   },
   {
    "duration": 14,
    "start_time": "2022-09-06T16:26:51.543Z"
   },
   {
    "duration": 149,
    "start_time": "2022-09-06T16:26:51.559Z"
   },
   {
    "duration": 4,
    "start_time": "2022-09-06T16:26:51.710Z"
   },
   {
    "duration": 11,
    "start_time": "2022-09-06T16:26:51.717Z"
   },
   {
    "duration": 12,
    "start_time": "2022-09-06T16:26:51.729Z"
   },
   {
    "duration": 32,
    "start_time": "2022-09-06T16:26:51.743Z"
   },
   {
    "duration": 3,
    "start_time": "2022-09-06T16:26:51.777Z"
   },
   {
    "duration": 6,
    "start_time": "2022-09-06T16:26:51.782Z"
   },
   {
    "duration": 112377,
    "start_time": "2022-09-06T16:26:51.790Z"
   },
   {
    "duration": 100,
    "start_time": "2022-09-06T16:28:44.170Z"
   },
   {
    "duration": 87,
    "start_time": "2022-09-06T16:28:44.272Z"
   },
   {
    "duration": 5,
    "start_time": "2022-09-06T16:28:44.362Z"
   },
   {
    "duration": 13,
    "start_time": "2022-09-06T16:28:44.368Z"
   },
   {
    "duration": 13,
    "start_time": "2022-09-06T16:28:44.383Z"
   },
   {
    "duration": 1561,
    "start_time": "2022-09-10T14:48:52.839Z"
   },
   {
    "duration": 56,
    "start_time": "2022-09-10T14:48:54.402Z"
   },
   {
    "duration": 46,
    "start_time": "2022-09-10T14:48:54.460Z"
   },
   {
    "duration": 3,
    "start_time": "2022-09-10T14:48:54.508Z"
   },
   {
    "duration": 22,
    "start_time": "2022-09-10T14:48:54.512Z"
   },
   {
    "duration": 35,
    "start_time": "2022-09-10T14:48:54.536Z"
   },
   {
    "duration": 849,
    "start_time": "2022-09-10T14:48:54.573Z"
   },
   {
    "duration": 288,
    "start_time": "2022-09-10T14:48:55.423Z"
   },
   {
    "duration": 6,
    "start_time": "2022-09-10T14:48:55.713Z"
   },
   {
    "duration": 36,
    "start_time": "2022-09-10T14:48:55.721Z"
   },
   {
    "duration": 104,
    "start_time": "2022-09-10T14:48:55.758Z"
   },
   {
    "duration": 6,
    "start_time": "2022-09-10T14:48:55.864Z"
   },
   {
    "duration": 128,
    "start_time": "2022-09-10T14:48:55.871Z"
   },
   {
    "duration": 6,
    "start_time": "2022-09-10T14:48:56.001Z"
   },
   {
    "duration": 12,
    "start_time": "2022-09-10T14:48:56.009Z"
   },
   {
    "duration": 11,
    "start_time": "2022-09-10T14:48:56.037Z"
   },
   {
    "duration": 16,
    "start_time": "2022-09-10T14:48:56.050Z"
   },
   {
    "duration": 2,
    "start_time": "2022-09-10T14:59:38.433Z"
   },
   {
    "duration": 49,
    "start_time": "2022-09-10T14:59:39.658Z"
   },
   {
    "duration": 46,
    "start_time": "2022-09-10T14:59:50.600Z"
   },
   {
    "duration": 101,
    "start_time": "2022-09-10T15:00:01.875Z"
   },
   {
    "duration": 103,
    "start_time": "2022-09-10T15:00:15.586Z"
   },
   {
    "duration": 5,
    "start_time": "2022-09-10T15:04:07.218Z"
   },
   {
    "duration": 9,
    "start_time": "2022-09-10T15:04:16.930Z"
   },
   {
    "duration": 4,
    "start_time": "2022-09-10T15:04:24.354Z"
   },
   {
    "duration": 5,
    "start_time": "2022-09-10T15:04:25.097Z"
   },
   {
    "duration": 2,
    "start_time": "2022-09-10T15:04:26.817Z"
   },
   {
    "duration": 11,
    "start_time": "2022-09-10T15:04:27.464Z"
   },
   {
    "duration": 2,
    "start_time": "2022-09-10T15:04:39.186Z"
   },
   {
    "duration": 23,
    "start_time": "2022-09-10T15:04:40.097Z"
   },
   {
    "duration": 4,
    "start_time": "2022-09-10T15:06:27.809Z"
   },
   {
    "duration": 15,
    "start_time": "2022-09-10T15:55:08.898Z"
   },
   {
    "duration": 14,
    "start_time": "2022-09-10T15:55:17.403Z"
   },
   {
    "duration": 21,
    "start_time": "2022-09-10T15:55:24.953Z"
   },
   {
    "duration": 49,
    "start_time": "2022-09-10T15:58:11.026Z"
   },
   {
    "duration": 3,
    "start_time": "2022-09-10T15:58:33.385Z"
   },
   {
    "duration": 20,
    "start_time": "2022-09-10T15:58:43.281Z"
   },
   {
    "duration": 4,
    "start_time": "2022-09-10T15:58:49.473Z"
   },
   {
    "duration": 3,
    "start_time": "2022-09-10T16:09:28.905Z"
   },
   {
    "duration": 9,
    "start_time": "2022-09-10T16:09:31.640Z"
   },
   {
    "duration": 22,
    "start_time": "2022-09-10T16:09:40.402Z"
   },
   {
    "duration": 4,
    "start_time": "2022-09-10T16:09:44.601Z"
   },
   {
    "duration": 4,
    "start_time": "2022-09-10T16:09:47.927Z"
   },
   {
    "duration": 4,
    "start_time": "2022-09-10T16:09:57.774Z"
   },
   {
    "duration": 21,
    "start_time": "2022-09-10T16:10:09.686Z"
   },
   {
    "duration": 4,
    "start_time": "2022-09-10T16:10:10.829Z"
   },
   {
    "duration": 8,
    "start_time": "2022-09-10T16:11:21.950Z"
   },
   {
    "duration": 2,
    "start_time": "2022-09-10T16:11:22.759Z"
   },
   {
    "duration": 3670,
    "start_time": "2022-09-10T16:11:25.174Z"
   },
   {
    "duration": 11,
    "start_time": "2022-09-10T16:11:34.005Z"
   },
   {
    "duration": 9,
    "start_time": "2022-09-10T16:11:35.270Z"
   },
   {
    "duration": 3,
    "start_time": "2022-09-10T16:11:42.174Z"
   },
   {
    "duration": 3,
    "start_time": "2022-09-10T16:11:50.870Z"
   },
   {
    "duration": 2,
    "start_time": "2022-09-10T16:11:51.798Z"
   },
   {
    "duration": 490,
    "start_time": "2022-09-10T16:11:54.014Z"
   },
   {
    "duration": 3,
    "start_time": "2022-09-10T16:12:58.854Z"
   },
   {
    "duration": 6,
    "start_time": "2022-09-10T16:13:04.151Z"
   },
   {
    "duration": 4,
    "start_time": "2022-09-10T16:13:55.703Z"
   },
   {
    "duration": 4,
    "start_time": "2022-09-10T16:13:57.014Z"
   },
   {
    "duration": 8,
    "start_time": "2022-09-10T16:14:41.664Z"
   },
   {
    "duration": 2,
    "start_time": "2022-09-10T16:14:44.975Z"
   },
   {
    "duration": 3,
    "start_time": "2022-09-10T16:14:45.870Z"
   },
   {
    "duration": 10,
    "start_time": "2022-09-10T16:14:46.525Z"
   },
   {
    "duration": 12,
    "start_time": "2022-09-10T16:14:47.190Z"
   },
   {
    "duration": 3,
    "start_time": "2022-09-10T16:19:24.359Z"
   },
   {
    "duration": 25,
    "start_time": "2022-09-10T16:19:25.102Z"
   },
   {
    "duration": 4,
    "start_time": "2022-09-10T16:19:25.783Z"
   },
   {
    "duration": 5,
    "start_time": "2022-09-10T16:20:00.345Z"
   },
   {
    "duration": 833,
    "start_time": "2022-09-10T16:20:02.879Z"
   },
   {
    "duration": 4,
    "start_time": "2022-09-10T16:20:15.951Z"
   },
   {
    "duration": 3,
    "start_time": "2022-09-10T16:20:16.590Z"
   },
   {
    "duration": 3597,
    "start_time": "2022-09-10T16:20:17.908Z"
   },
   {
    "duration": 10,
    "start_time": "2022-09-10T16:20:29.453Z"
   },
   {
    "duration": 11,
    "start_time": "2022-09-10T16:20:30.567Z"
   },
   {
    "duration": 8,
    "start_time": "2022-09-10T16:24:36.030Z"
   },
   {
    "duration": 4,
    "start_time": "2022-09-10T16:24:40.263Z"
   },
   {
    "duration": 2,
    "start_time": "2022-09-10T16:24:44.400Z"
   },
   {
    "duration": 3176,
    "start_time": "2022-09-10T16:24:46.198Z"
   },
   {
    "duration": 8,
    "start_time": "2022-09-10T16:24:52.391Z"
   },
   {
    "duration": 4,
    "start_time": "2022-09-10T16:25:13.016Z"
   },
   {
    "duration": 25,
    "start_time": "2022-09-10T16:25:45.512Z"
   },
   {
    "duration": 3,
    "start_time": "2022-09-10T16:25:46.614Z"
   },
   {
    "duration": 4,
    "start_time": "2022-09-10T16:25:47.327Z"
   },
   {
    "duration": 3,
    "start_time": "2022-09-10T16:25:48.895Z"
   },
   {
    "duration": 11,
    "start_time": "2022-09-10T16:25:51.527Z"
   },
   {
    "duration": 4,
    "start_time": "2022-09-10T16:25:56.351Z"
   },
   {
    "duration": 3,
    "start_time": "2022-09-10T16:25:57.887Z"
   },
   {
    "duration": 2664,
    "start_time": "2022-09-10T16:26:00.311Z"
   },
   {
    "duration": 4,
    "start_time": "2022-09-10T16:26:21.702Z"
   },
   {
    "duration": 3,
    "start_time": "2022-09-10T16:26:41.550Z"
   },
   {
    "duration": 186,
    "start_time": "2022-09-10T16:26:47.094Z"
   },
   {
    "duration": 3,
    "start_time": "2022-09-10T16:27:12.456Z"
   },
   {
    "duration": 4,
    "start_time": "2022-09-10T16:27:13.559Z"
   },
   {
    "duration": 29,
    "start_time": "2022-09-10T16:27:26.599Z"
   },
   {
    "duration": 2,
    "start_time": "2022-09-10T16:27:29.247Z"
   },
   {
    "duration": 3,
    "start_time": "2022-09-10T16:28:10.647Z"
   },
   {
    "duration": 16,
    "start_time": "2022-09-10T16:28:15.215Z"
   },
   {
    "duration": 2,
    "start_time": "2022-09-10T16:28:36.087Z"
   },
   {
    "duration": 3,
    "start_time": "2022-09-10T16:28:36.831Z"
   },
   {
    "duration": 14,
    "start_time": "2022-09-10T16:28:37.543Z"
   },
   {
    "duration": 3,
    "start_time": "2022-09-10T16:34:50.672Z"
   },
   {
    "duration": 9,
    "start_time": "2022-09-10T16:35:12.336Z"
   },
   {
    "duration": 11,
    "start_time": "2022-09-10T16:35:19.184Z"
   },
   {
    "duration": 2,
    "start_time": "2022-09-10T16:39:39.841Z"
   },
   {
    "duration": 2,
    "start_time": "2022-09-10T16:39:42.721Z"
   },
   {
    "duration": 3,
    "start_time": "2022-09-10T16:39:44.312Z"
   },
   {
    "duration": 10,
    "start_time": "2022-09-10T16:39:45.161Z"
   },
   {
    "duration": 10,
    "start_time": "2022-09-10T16:39:45.841Z"
   },
   {
    "duration": 47266,
    "start_time": "2022-09-10T16:41:01.185Z"
   },
   {
    "duration": 4,
    "start_time": "2022-09-10T16:42:16.825Z"
   },
   {
    "duration": 4,
    "start_time": "2022-09-10T16:42:20.433Z"
   },
   {
    "duration": 3,
    "start_time": "2022-09-10T16:42:53.850Z"
   },
   {
    "duration": 52571,
    "start_time": "2022-09-10T16:42:55.681Z"
   },
   {
    "duration": 4,
    "start_time": "2022-09-10T16:43:50.985Z"
   },
   {
    "duration": 3,
    "start_time": "2022-09-10T16:44:03.377Z"
   },
   {
    "duration": 3,
    "start_time": "2022-09-10T16:44:04.200Z"
   },
   {
    "duration": 2,
    "start_time": "2022-09-10T16:44:12.450Z"
   },
   {
    "duration": 1254,
    "start_time": "2022-09-10T16:44:14.090Z"
   },
   {
    "duration": 4,
    "start_time": "2022-09-10T16:44:25.867Z"
   },
   {
    "duration": 4,
    "start_time": "2022-09-10T16:46:19.818Z"
   },
   {
    "duration": 4,
    "start_time": "2022-09-10T16:46:49.514Z"
   },
   {
    "duration": 4,
    "start_time": "2022-09-10T16:47:49.593Z"
   },
   {
    "duration": 4,
    "start_time": "2022-09-10T16:47:50.273Z"
   },
   {
    "duration": 6,
    "start_time": "2022-09-10T16:48:21.643Z"
   },
   {
    "duration": 3,
    "start_time": "2022-09-10T16:48:25.370Z"
   },
   {
    "duration": 4,
    "start_time": "2022-09-10T16:49:14.970Z"
   },
   {
    "duration": 3,
    "start_time": "2022-09-10T16:49:21.170Z"
   },
   {
    "duration": 5,
    "start_time": "2022-09-10T16:49:22.561Z"
   },
   {
    "duration": 5,
    "start_time": "2022-09-10T16:49:33.697Z"
   },
   {
    "duration": 3,
    "start_time": "2022-09-10T16:49:40.514Z"
   },
   {
    "duration": 41,
    "start_time": "2022-09-10T16:49:55.361Z"
   },
   {
    "duration": 271,
    "start_time": "2022-09-10T16:50:02.657Z"
   },
   {
    "duration": 48,
    "start_time": "2022-09-10T16:50:13.697Z"
   },
   {
    "duration": 51,
    "start_time": "2022-09-10T16:50:20.962Z"
   },
   {
    "duration": 62,
    "start_time": "2022-09-10T16:50:27.114Z"
   },
   {
    "duration": 15,
    "start_time": "2022-09-10T16:51:23.985Z"
   },
   {
    "duration": 4,
    "start_time": "2022-09-10T16:51:39.522Z"
   },
   {
    "duration": 10,
    "start_time": "2022-09-10T16:51:45.289Z"
   },
   {
    "duration": 15,
    "start_time": "2022-09-10T16:53:51.147Z"
   },
   {
    "duration": 10,
    "start_time": "2022-09-10T16:54:17.978Z"
   },
   {
    "duration": 10,
    "start_time": "2022-09-10T16:54:18.986Z"
   },
   {
    "duration": 668,
    "start_time": "2022-09-10T16:55:41.371Z"
   },
   {
    "duration": 563,
    "start_time": "2022-09-10T16:55:51.378Z"
   },
   {
    "duration": 9,
    "start_time": "2022-09-10T16:55:56.682Z"
   },
   {
    "duration": 9,
    "start_time": "2022-09-10T16:56:00.514Z"
   },
   {
    "duration": 13,
    "start_time": "2022-09-10T17:14:49.236Z"
   },
   {
    "duration": 33561,
    "start_time": "2022-09-10T17:15:06.012Z"
   },
   {
    "duration": 219345,
    "start_time": "2022-09-10T17:15:53.422Z"
   },
   {
    "duration": 10,
    "start_time": "2022-09-10T17:22:33.308Z"
   },
   {
    "duration": 8,
    "start_time": "2022-09-10T17:22:40.468Z"
   },
   {
    "duration": 5,
    "start_time": "2022-09-10T17:22:44.260Z"
   },
   {
    "duration": 7,
    "start_time": "2022-09-10T17:24:06.005Z"
   },
   {
    "duration": 4,
    "start_time": "2022-09-10T17:24:17.965Z"
   },
   {
    "duration": 12,
    "start_time": "2022-09-10T17:24:34.523Z"
   },
   {
    "duration": 12,
    "start_time": "2022-09-10T17:24:57.069Z"
   },
   {
    "duration": 12,
    "start_time": "2022-09-10T17:25:01.725Z"
   },
   {
    "duration": 9,
    "start_time": "2022-09-10T17:25:22.013Z"
   },
   {
    "duration": 9,
    "start_time": "2022-09-10T17:26:02.901Z"
   },
   {
    "duration": 9,
    "start_time": "2022-09-10T17:26:20.350Z"
   },
   {
    "duration": 5,
    "start_time": "2022-09-10T17:27:31.716Z"
   },
   {
    "duration": 2,
    "start_time": "2022-09-10T17:27:59.877Z"
   },
   {
    "duration": 3,
    "start_time": "2022-09-10T17:28:07.757Z"
   },
   {
    "duration": 11,
    "start_time": "2022-09-10T17:28:17.581Z"
   },
   {
    "duration": 5,
    "start_time": "2022-09-10T17:28:19.125Z"
   },
   {
    "duration": 23,
    "start_time": "2022-09-10T17:29:52.245Z"
   },
   {
    "duration": 24,
    "start_time": "2022-09-10T17:30:43.198Z"
   },
   {
    "duration": 1544,
    "start_time": "2022-09-10T17:31:30.653Z"
   },
   {
    "duration": 190,
    "start_time": "2022-09-10T17:31:32.198Z"
   },
   {
    "duration": 50,
    "start_time": "2022-09-10T17:31:32.390Z"
   },
   {
    "duration": 5,
    "start_time": "2022-09-10T17:31:32.445Z"
   },
   {
    "duration": 13,
    "start_time": "2022-09-10T17:31:32.452Z"
   },
   {
    "duration": 15,
    "start_time": "2022-09-10T17:31:32.467Z"
   },
   {
    "duration": 874,
    "start_time": "2022-09-10T17:31:32.484Z"
   },
   {
    "duration": 350,
    "start_time": "2022-09-10T17:31:33.360Z"
   },
   {
    "duration": 6,
    "start_time": "2022-09-10T17:31:33.712Z"
   },
   {
    "duration": 31,
    "start_time": "2022-09-10T17:31:33.720Z"
   },
   {
    "duration": 111,
    "start_time": "2022-09-10T17:31:33.753Z"
   },
   {
    "duration": 7,
    "start_time": "2022-09-10T17:31:33.866Z"
   },
   {
    "duration": 135,
    "start_time": "2022-09-10T17:31:33.874Z"
   },
   {
    "duration": 7,
    "start_time": "2022-09-10T17:31:34.010Z"
   },
   {
    "duration": 21,
    "start_time": "2022-09-10T17:31:34.018Z"
   },
   {
    "duration": 16,
    "start_time": "2022-09-10T17:31:34.041Z"
   },
   {
    "duration": 5,
    "start_time": "2022-09-10T17:31:34.058Z"
   },
   {
    "duration": 8,
    "start_time": "2022-09-10T17:31:34.064Z"
   },
   {
    "duration": 8,
    "start_time": "2022-09-10T17:31:34.074Z"
   },
   {
    "duration": 9,
    "start_time": "2022-09-10T17:31:34.083Z"
   },
   {
    "duration": 28,
    "start_time": "2022-09-10T17:31:34.094Z"
   },
   {
    "duration": 17,
    "start_time": "2022-09-10T17:31:34.124Z"
   },
   {
    "duration": 20,
    "start_time": "2022-09-10T17:31:34.143Z"
   },
   {
    "duration": 5,
    "start_time": "2022-09-10T17:31:34.166Z"
   },
   {
    "duration": 3674,
    "start_time": "2022-09-10T17:31:34.173Z"
   },
   {
    "duration": 13,
    "start_time": "2022-09-10T17:31:37.850Z"
   },
   {
    "duration": 20,
    "start_time": "2022-09-10T17:31:37.866Z"
   },
   {
    "duration": 7,
    "start_time": "2022-09-10T17:31:37.889Z"
   },
   {
    "duration": 490974,
    "start_time": "2022-09-10T17:31:37.898Z"
   },
   {
    "duration": 4,
    "start_time": "2022-09-10T17:39:48.874Z"
   },
   {
    "duration": 56,
    "start_time": "2022-09-10T17:39:48.880Z"
   },
   {
    "duration": 24,
    "start_time": "2022-09-10T17:39:48.938Z"
   },
   {
    "duration": 10,
    "start_time": "2022-09-10T17:39:48.963Z"
   },
   {
    "duration": 73,
    "start_time": "2022-09-10T17:39:48.975Z"
   },
   {
    "duration": 2,
    "start_time": "2022-09-10T17:39:49.050Z"
   },
   {
    "duration": 15,
    "start_time": "2022-09-10T17:39:49.055Z"
   },
   {
    "duration": 9,
    "start_time": "2022-09-10T17:39:49.072Z"
   },
   {
    "duration": 10,
    "start_time": "2022-09-10T17:39:49.082Z"
   },
   {
    "duration": 2692,
    "start_time": "2022-09-10T17:39:49.094Z"
   },
   {
    "duration": 4,
    "start_time": "2022-09-10T17:39:51.787Z"
   },
   {
    "duration": 9,
    "start_time": "2022-09-10T17:39:51.792Z"
   },
   {
    "duration": 134,
    "start_time": "2022-09-10T17:39:51.803Z"
   },
   {
    "duration": 4,
    "start_time": "2022-09-10T17:39:51.939Z"
   },
   {
    "duration": 10,
    "start_time": "2022-09-10T17:39:51.946Z"
   },
   {
    "duration": 47,
    "start_time": "2022-09-10T17:39:51.958Z"
   },
   {
    "duration": 4,
    "start_time": "2022-09-10T17:39:52.007Z"
   },
   {
    "duration": 14,
    "start_time": "2022-09-10T17:39:52.013Z"
   },
   {
    "duration": 69019,
    "start_time": "2022-09-10T17:39:52.029Z"
   },
   {
    "duration": 4,
    "start_time": "2022-09-10T17:41:01.051Z"
   },
   {
    "duration": 18,
    "start_time": "2022-09-10T17:41:01.057Z"
   },
   {
    "duration": 16,
    "start_time": "2022-09-10T17:41:01.138Z"
   },
   {
    "duration": 2178,
    "start_time": "2022-09-11T16:44:25.422Z"
   },
   {
    "duration": 178,
    "start_time": "2022-09-11T16:44:27.602Z"
   },
   {
    "duration": 76,
    "start_time": "2022-09-11T16:44:27.782Z"
   },
   {
    "duration": 4,
    "start_time": "2022-09-11T16:44:27.860Z"
   },
   {
    "duration": 7,
    "start_time": "2022-09-11T16:44:27.866Z"
   },
   {
    "duration": 7,
    "start_time": "2022-09-11T16:44:27.874Z"
   },
   {
    "duration": 789,
    "start_time": "2022-09-11T16:44:27.883Z"
   },
   {
    "duration": 304,
    "start_time": "2022-09-11T16:44:28.674Z"
   },
   {
    "duration": 7,
    "start_time": "2022-09-11T16:44:28.980Z"
   },
   {
    "duration": 24,
    "start_time": "2022-09-11T16:44:28.990Z"
   },
   {
    "duration": 114,
    "start_time": "2022-09-11T16:44:29.015Z"
   },
   {
    "duration": 7,
    "start_time": "2022-09-11T16:44:29.130Z"
   },
   {
    "duration": 144,
    "start_time": "2022-09-11T16:44:29.139Z"
   },
   {
    "duration": 7,
    "start_time": "2022-09-11T16:44:29.285Z"
   },
   {
    "duration": 18,
    "start_time": "2022-09-11T16:44:29.294Z"
   },
   {
    "duration": 14,
    "start_time": "2022-09-11T16:44:29.314Z"
   },
   {
    "duration": 7,
    "start_time": "2022-09-11T16:44:29.329Z"
   },
   {
    "duration": 13,
    "start_time": "2022-09-11T16:44:29.337Z"
   },
   {
    "duration": 6,
    "start_time": "2022-09-11T16:44:29.351Z"
   },
   {
    "duration": 5,
    "start_time": "2022-09-11T16:44:29.359Z"
   },
   {
    "duration": 27,
    "start_time": "2022-09-11T16:44:29.365Z"
   },
   {
    "duration": 4,
    "start_time": "2022-09-11T16:44:29.406Z"
   },
   {
    "duration": 101,
    "start_time": "2022-09-11T16:46:42.422Z"
   },
   {
    "duration": 10,
    "start_time": "2022-09-11T16:48:26.197Z"
   },
   {
    "duration": 8,
    "start_time": "2022-09-11T16:48:43.518Z"
   },
   {
    "duration": 4,
    "start_time": "2022-09-11T16:48:44.345Z"
   },
   {
    "duration": 1565,
    "start_time": "2022-09-12T13:50:49.761Z"
   },
   {
    "duration": 92,
    "start_time": "2022-09-12T13:50:51.329Z"
   },
   {
    "duration": 55,
    "start_time": "2022-09-12T13:50:51.423Z"
   },
   {
    "duration": 3,
    "start_time": "2022-09-12T13:50:51.481Z"
   },
   {
    "duration": 7,
    "start_time": "2022-09-12T13:50:51.486Z"
   },
   {
    "duration": 8,
    "start_time": "2022-09-12T13:50:51.495Z"
   },
   {
    "duration": 813,
    "start_time": "2022-09-12T13:50:51.504Z"
   },
   {
    "duration": 292,
    "start_time": "2022-09-12T13:50:52.318Z"
   },
   {
    "duration": 14,
    "start_time": "2022-09-12T13:50:52.611Z"
   },
   {
    "duration": 10,
    "start_time": "2022-09-12T13:50:52.627Z"
   },
   {
    "duration": 115,
    "start_time": "2022-09-12T13:50:52.639Z"
   },
   {
    "duration": 6,
    "start_time": "2022-09-12T13:50:52.756Z"
   },
   {
    "duration": 128,
    "start_time": "2022-09-12T13:50:52.764Z"
   },
   {
    "duration": 6,
    "start_time": "2022-09-12T13:51:00.040Z"
   },
   {
    "duration": 4,
    "start_time": "2022-09-12T13:52:07.868Z"
   },
   {
    "duration": 899,
    "start_time": "2022-09-12T13:52:38.791Z"
   },
   {
    "duration": 4,
    "start_time": "2022-09-12T13:53:11.423Z"
   },
   {
    "duration": 17,
    "start_time": "2022-09-12T13:53:12.959Z"
   },
   {
    "duration": 4,
    "start_time": "2022-09-12T13:54:09.872Z"
   },
   {
    "duration": 8,
    "start_time": "2022-09-12T13:54:10.696Z"
   },
   {
    "duration": 10,
    "start_time": "2022-09-12T13:54:20.744Z"
   },
   {
    "duration": 14,
    "start_time": "2022-09-12T13:54:24.488Z"
   },
   {
    "duration": 6,
    "start_time": "2022-09-12T13:55:25.958Z"
   },
   {
    "duration": 13,
    "start_time": "2022-09-12T13:55:43.072Z"
   },
   {
    "duration": 4,
    "start_time": "2022-09-12T13:57:11.111Z"
   },
   {
    "duration": 11,
    "start_time": "2022-09-12T13:57:30.735Z"
   },
   {
    "duration": 9,
    "start_time": "2022-09-12T13:58:10.568Z"
   },
   {
    "duration": 4,
    "start_time": "2022-09-12T13:58:17.607Z"
   },
   {
    "duration": 9,
    "start_time": "2022-09-12T13:58:18.639Z"
   },
   {
    "duration": 1426,
    "start_time": "2022-09-12T13:58:43.056Z"
   },
   {
    "duration": 66,
    "start_time": "2022-09-12T13:58:44.484Z"
   },
   {
    "duration": 48,
    "start_time": "2022-09-12T13:58:44.552Z"
   },
   {
    "duration": 3,
    "start_time": "2022-09-12T13:58:44.603Z"
   },
   {
    "duration": 10,
    "start_time": "2022-09-12T13:58:44.608Z"
   },
   {
    "duration": 7,
    "start_time": "2022-09-12T13:58:44.619Z"
   },
   {
    "duration": 788,
    "start_time": "2022-09-12T13:58:44.628Z"
   },
   {
    "duration": 310,
    "start_time": "2022-09-12T13:58:45.418Z"
   },
   {
    "duration": 8,
    "start_time": "2022-09-12T13:58:45.729Z"
   },
   {
    "duration": 39,
    "start_time": "2022-09-12T13:58:45.740Z"
   },
   {
    "duration": 122,
    "start_time": "2022-09-12T13:58:45.781Z"
   },
   {
    "duration": 6,
    "start_time": "2022-09-12T13:58:45.905Z"
   },
   {
    "duration": 123,
    "start_time": "2022-09-12T13:58:45.922Z"
   },
   {
    "duration": 6,
    "start_time": "2022-09-12T13:58:46.047Z"
   },
   {
    "duration": 22,
    "start_time": "2022-09-12T13:58:46.054Z"
   },
   {
    "duration": 27,
    "start_time": "2022-09-12T13:58:46.077Z"
   },
   {
    "duration": 17,
    "start_time": "2022-09-12T13:58:46.106Z"
   },
   {
    "duration": 23,
    "start_time": "2022-09-12T13:58:46.124Z"
   },
   {
    "duration": 22,
    "start_time": "2022-09-12T13:58:46.149Z"
   },
   {
    "duration": 21,
    "start_time": "2022-09-12T13:58:46.172Z"
   },
   {
    "duration": 41,
    "start_time": "2022-09-12T13:58:46.194Z"
   },
   {
    "duration": 15,
    "start_time": "2022-09-12T13:58:46.237Z"
   },
   {
    "duration": 21,
    "start_time": "2022-09-12T13:58:46.254Z"
   },
   {
    "duration": 22,
    "start_time": "2022-09-12T13:58:46.277Z"
   },
   {
    "duration": 16,
    "start_time": "2022-09-12T13:58:46.300Z"
   },
   {
    "duration": 53,
    "start_time": "2022-09-12T13:58:46.318Z"
   },
   {
    "duration": 49,
    "start_time": "2022-09-12T13:58:46.373Z"
   },
   {
    "duration": 8,
    "start_time": "2022-09-12T13:58:46.426Z"
   },
   {
    "duration": 88,
    "start_time": "2022-09-12T13:58:46.435Z"
   },
   {
    "duration": 8,
    "start_time": "2022-09-12T13:58:46.524Z"
   },
   {
    "duration": 89,
    "start_time": "2022-09-12T13:58:46.534Z"
   },
   {
    "duration": 7156,
    "start_time": "2022-09-12T13:58:46.624Z"
   },
   {
    "duration": 8,
    "start_time": "2022-09-12T13:58:53.782Z"
   },
   {
    "duration": 29,
    "start_time": "2022-09-12T13:58:53.792Z"
   },
   {
    "duration": 31,
    "start_time": "2022-09-12T13:58:53.822Z"
   },
   {
    "duration": 30686,
    "start_time": "2022-09-12T13:58:53.854Z"
   },
   {
    "duration": 3,
    "start_time": "2022-09-12T13:59:24.542Z"
   },
   {
    "duration": 9,
    "start_time": "2022-09-12T13:59:24.547Z"
   },
   {
    "duration": 20,
    "start_time": "2022-09-12T13:59:24.557Z"
   },
   {
    "duration": 5,
    "start_time": "2022-09-12T13:59:24.578Z"
   },
   {
    "duration": 62,
    "start_time": "2022-09-12T13:59:24.584Z"
   },
   {
    "duration": 3,
    "start_time": "2022-09-12T13:59:24.647Z"
   },
   {
    "duration": 11,
    "start_time": "2022-09-12T13:59:24.651Z"
   },
   {
    "duration": 19,
    "start_time": "2022-09-12T13:59:24.664Z"
   },
   {
    "duration": 18,
    "start_time": "2022-09-12T13:59:24.684Z"
   },
   {
    "duration": 5359,
    "start_time": "2022-09-12T13:59:24.704Z"
   },
   {
    "duration": 5,
    "start_time": "2022-09-12T13:59:30.065Z"
   },
   {
    "duration": 10,
    "start_time": "2022-09-12T13:59:30.072Z"
   },
   {
    "duration": 192,
    "start_time": "2022-09-12T13:59:30.084Z"
   },
   {
    "duration": 4,
    "start_time": "2022-09-12T13:59:30.278Z"
   },
   {
    "duration": 7,
    "start_time": "2022-09-12T13:59:30.283Z"
   },
   {
    "duration": 46,
    "start_time": "2022-09-12T13:59:30.292Z"
   },
   {
    "duration": 3,
    "start_time": "2022-09-12T13:59:30.340Z"
   },
   {
    "duration": 13,
    "start_time": "2022-09-12T13:59:30.345Z"
   },
   {
    "duration": 1868,
    "start_time": "2022-09-12T13:59:30.359Z"
   },
   {
    "duration": 4,
    "start_time": "2022-09-12T13:59:32.229Z"
   },
   {
    "duration": 16,
    "start_time": "2022-09-12T13:59:32.234Z"
   },
   {
    "duration": 11,
    "start_time": "2022-09-12T13:59:32.252Z"
   },
   {
    "duration": 33,
    "start_time": "2022-09-12T14:04:58.624Z"
   },
   {
    "duration": 69,
    "start_time": "2022-09-12T14:08:21.447Z"
   },
   {
    "duration": 3187,
    "start_time": "2022-09-13T07:41:46.547Z"
   },
   {
    "duration": 122,
    "start_time": "2022-09-13T07:41:49.737Z"
   },
   {
    "duration": 61,
    "start_time": "2022-09-13T07:41:49.951Z"
   },
   {
    "duration": 3,
    "start_time": "2022-09-13T07:41:51.665Z"
   },
   {
    "duration": 5,
    "start_time": "2022-09-13T07:41:52.066Z"
   },
   {
    "duration": 9,
    "start_time": "2022-09-13T07:41:52.908Z"
   },
   {
    "duration": 964,
    "start_time": "2022-09-13T07:41:56.147Z"
   },
   {
    "duration": 348,
    "start_time": "2022-09-13T07:41:57.114Z"
   },
   {
    "duration": 7,
    "start_time": "2022-09-13T07:41:57.464Z"
   },
   {
    "duration": 40,
    "start_time": "2022-09-13T07:41:57.473Z"
   },
   {
    "duration": 151,
    "start_time": "2022-09-13T07:41:57.515Z"
   },
   {
    "duration": 8,
    "start_time": "2022-09-13T07:41:58.193Z"
   },
   {
    "duration": 138,
    "start_time": "2022-09-13T07:42:02.251Z"
   },
   {
    "duration": 10,
    "start_time": "2022-09-13T07:42:02.391Z"
   },
   {
    "duration": 5,
    "start_time": "2022-09-13T07:42:03.678Z"
   },
   {
    "duration": 13,
    "start_time": "2022-09-13T07:42:17.236Z"
   },
   {
    "duration": 16,
    "start_time": "2022-09-13T07:42:17.539Z"
   },
   {
    "duration": 9,
    "start_time": "2022-09-13T07:42:18.066Z"
   },
   {
    "duration": 21,
    "start_time": "2022-09-13T07:42:19.203Z"
   },
   {
    "duration": 3,
    "start_time": "2022-09-13T07:42:20.757Z"
   },
   {
    "duration": 30,
    "start_time": "2022-09-13T07:42:20.762Z"
   },
   {
    "duration": 5,
    "start_time": "2022-09-13T07:42:43.619Z"
   },
   {
    "duration": 8,
    "start_time": "2022-09-13T07:42:45.471Z"
   },
   {
    "duration": 4,
    "start_time": "2022-09-13T07:42:46.848Z"
   },
   {
    "duration": 3,
    "start_time": "2022-09-13T07:42:48.556Z"
   },
   {
    "duration": 101,
    "start_time": "2022-09-13T07:43:01.220Z"
   },
   {
    "duration": 5,
    "start_time": "2022-09-13T07:43:04.036Z"
   },
   {
    "duration": 8,
    "start_time": "2022-09-13T07:43:25.446Z"
   },
   {
    "duration": 3,
    "start_time": "2022-09-13T07:43:25.621Z"
   },
   {
    "duration": 10273,
    "start_time": "2022-09-13T07:43:26.806Z"
   },
   {
    "duration": 13,
    "start_time": "2022-09-13T07:43:43.227Z"
   },
   {
    "duration": 11,
    "start_time": "2022-09-13T07:43:45.120Z"
   },
   {
    "duration": 4,
    "start_time": "2022-09-13T07:56:07.682Z"
   },
   {
    "duration": 236014,
    "start_time": "2022-09-13T07:56:11.141Z"
   },
   {
    "duration": 4,
    "start_time": "2022-09-13T08:00:07.157Z"
   },
   {
    "duration": 4,
    "start_time": "2022-09-13T08:00:07.232Z"
   },
   {
    "duration": 8,
    "start_time": "2022-09-13T08:00:46.017Z"
   },
   {
    "duration": 3,
    "start_time": "2022-09-13T08:01:21.980Z"
   },
   {
    "duration": 13,
    "start_time": "2022-09-13T08:01:22.386Z"
   },
   {
    "duration": 6,
    "start_time": "2022-09-13T08:01:22.846Z"
   },
   {
    "duration": 117,
    "start_time": "2022-09-13T08:01:53.276Z"
   },
   {
    "duration": 18,
    "start_time": "2022-09-13T08:02:02.432Z"
   },
   {
    "duration": 8,
    "start_time": "2022-09-13T08:02:13.153Z"
   },
   {
    "duration": 40468,
    "start_time": "2022-09-13T08:02:52.872Z"
   },
   {
    "duration": 3,
    "start_time": "2022-09-13T08:03:33.343Z"
   },
   {
    "duration": 14,
    "start_time": "2022-09-13T08:03:33.348Z"
   },
   {
    "duration": 34,
    "start_time": "2022-09-13T08:05:15.898Z"
   },
   {
    "duration": 3,
    "start_time": "2022-09-13T08:05:16.193Z"
   },
   {
    "duration": 3,
    "start_time": "2022-09-13T08:05:17.926Z"
   },
   {
    "duration": 3,
    "start_time": "2022-09-13T08:05:18.638Z"
   },
   {
    "duration": 3,
    "start_time": "2022-09-13T08:05:21.844Z"
   },
   {
    "duration": 5909,
    "start_time": "2022-09-13T08:05:22.482Z"
   },
   {
    "duration": 5,
    "start_time": "2022-09-13T08:05:34.684Z"
   },
   {
    "duration": 4,
    "start_time": "2022-09-13T08:05:44.779Z"
   },
   {
    "duration": 4,
    "start_time": "2022-09-13T08:05:51.810Z"
   },
   {
    "duration": 3,
    "start_time": "2022-09-13T08:23:45.742Z"
   },
   {
    "duration": 199,
    "start_time": "2022-09-13T08:23:47.756Z"
   },
   {
    "duration": 5,
    "start_time": "2022-09-13T08:23:53.875Z"
   },
   {
    "duration": 5,
    "start_time": "2022-09-13T08:24:00.958Z"
   },
   {
    "duration": 4,
    "start_time": "2022-09-13T08:24:28.510Z"
   },
   {
    "duration": 3,
    "start_time": "2022-09-13T08:24:33.204Z"
   },
   {
    "duration": 3,
    "start_time": "2022-09-13T08:24:34.412Z"
   },
   {
    "duration": 4,
    "start_time": "2022-09-13T08:24:36.478Z"
   },
   {
    "duration": 3,
    "start_time": "2022-09-13T08:24:37.415Z"
   },
   {
    "duration": 4859,
    "start_time": "2022-09-13T08:24:38.185Z"
   },
   {
    "duration": 4,
    "start_time": "2022-09-13T08:24:50.175Z"
   },
   {
    "duration": 4,
    "start_time": "2022-09-13T08:24:51.445Z"
   },
   {
    "duration": 57,
    "start_time": "2022-09-13T09:01:24.201Z"
   },
   {
    "duration": 1744,
    "start_time": "2022-09-13T09:01:29.479Z"
   },
   {
    "duration": 132,
    "start_time": "2022-09-13T09:01:31.224Z"
   },
   {
    "duration": 52,
    "start_time": "2022-09-13T09:01:31.357Z"
   },
   {
    "duration": 3,
    "start_time": "2022-09-13T09:01:31.411Z"
   },
   {
    "duration": 30,
    "start_time": "2022-09-13T09:01:31.415Z"
   },
   {
    "duration": 14,
    "start_time": "2022-09-13T09:01:31.446Z"
   },
   {
    "duration": 833,
    "start_time": "2022-09-13T09:01:31.462Z"
   },
   {
    "duration": 313,
    "start_time": "2022-09-13T09:01:32.296Z"
   },
   {
    "duration": 7,
    "start_time": "2022-09-13T09:01:32.610Z"
   },
   {
    "duration": 11,
    "start_time": "2022-09-13T09:01:32.619Z"
   },
   {
    "duration": 123,
    "start_time": "2022-09-13T09:01:32.632Z"
   },
   {
    "duration": 6,
    "start_time": "2022-09-13T09:01:32.757Z"
   },
   {
    "duration": 126,
    "start_time": "2022-09-13T09:01:32.764Z"
   },
   {
    "duration": 11,
    "start_time": "2022-09-13T09:01:32.892Z"
   },
   {
    "duration": 4,
    "start_time": "2022-09-13T09:01:32.905Z"
   },
   {
    "duration": 13,
    "start_time": "2022-09-13T09:01:32.910Z"
   },
   {
    "duration": 14,
    "start_time": "2022-09-13T09:01:32.924Z"
   },
   {
    "duration": 9,
    "start_time": "2022-09-13T09:01:32.939Z"
   },
   {
    "duration": 13,
    "start_time": "2022-09-13T09:01:32.950Z"
   },
   {
    "duration": 4,
    "start_time": "2022-09-13T09:01:32.964Z"
   },
   {
    "duration": 48,
    "start_time": "2022-09-13T09:01:32.969Z"
   },
   {
    "duration": 13,
    "start_time": "2022-09-13T09:01:33.019Z"
   },
   {
    "duration": 10,
    "start_time": "2022-09-13T09:01:33.033Z"
   },
   {
    "duration": 4,
    "start_time": "2022-09-13T09:01:33.044Z"
   },
   {
    "duration": 5,
    "start_time": "2022-09-13T09:01:33.049Z"
   },
   {
    "duration": 55,
    "start_time": "2022-09-13T09:01:33.055Z"
   },
   {
    "duration": 4,
    "start_time": "2022-09-13T09:01:33.112Z"
   },
   {
    "duration": 83,
    "start_time": "2022-09-13T09:01:33.120Z"
   },
   {
    "duration": 7,
    "start_time": "2022-09-13T09:01:33.205Z"
   },
   {
    "duration": 8943,
    "start_time": "2022-09-13T09:01:33.214Z"
   },
   {
    "duration": 8,
    "start_time": "2022-09-13T09:01:42.158Z"
   },
   {
    "duration": 13,
    "start_time": "2022-09-13T09:01:42.168Z"
   },
   {
    "duration": 71,
    "start_time": "2022-09-13T09:01:44.925Z"
   },
   {
    "duration": 4,
    "start_time": "2022-09-13T09:02:27.982Z"
   },
   {
    "duration": 3,
    "start_time": "2022-09-13T09:03:09.838Z"
   },
   {
    "duration": 11,
    "start_time": "2022-09-13T09:04:11.591Z"
   },
   {
    "duration": 4,
    "start_time": "2022-09-13T09:05:01.032Z"
   },
   {
    "duration": 465295,
    "start_time": "2022-09-13T09:05:01.038Z"
   },
   {
    "duration": 5,
    "start_time": "2022-09-13T09:12:46.400Z"
   },
   {
    "duration": 16,
    "start_time": "2022-09-13T09:12:46.407Z"
   },
   {
    "duration": 3,
    "start_time": "2022-09-13T09:12:46.426Z"
   },
   {
    "duration": 30,
    "start_time": "2022-09-13T09:12:46.431Z"
   },
   {
    "duration": 5,
    "start_time": "2022-09-13T09:12:46.462Z"
   },
   {
    "duration": 46,
    "start_time": "2022-09-13T09:12:46.468Z"
   },
   {
    "duration": 2,
    "start_time": "2022-09-13T09:12:46.516Z"
   },
   {
    "duration": 38,
    "start_time": "2022-09-13T09:12:46.520Z"
   },
   {
    "duration": 28,
    "start_time": "2022-09-13T09:12:46.560Z"
   },
   {
    "duration": 10,
    "start_time": "2022-09-13T09:12:46.590Z"
   },
   {
    "duration": 4424,
    "start_time": "2022-09-13T09:12:46.602Z"
   },
   {
    "duration": 4,
    "start_time": "2022-09-13T09:12:51.027Z"
   },
   {
    "duration": 15,
    "start_time": "2022-09-13T09:12:51.032Z"
   },
   {
    "duration": 8,
    "start_time": "2022-09-13T09:12:51.048Z"
   },
   {
    "duration": 26,
    "start_time": "2022-09-13T09:12:51.057Z"
   },
   {
    "duration": 3,
    "start_time": "2022-09-13T09:12:51.085Z"
   },
   {
    "duration": 11,
    "start_time": "2022-09-13T09:12:51.089Z"
   },
   {
    "duration": 45512,
    "start_time": "2022-09-13T09:12:51.102Z"
   },
   {
    "duration": 4,
    "start_time": "2022-09-13T09:13:36.616Z"
   },
   {
    "duration": 21,
    "start_time": "2022-09-13T09:13:36.622Z"
   },
   {
    "duration": 58,
    "start_time": "2022-09-13T09:13:36.644Z"
   },
   {
    "duration": 28,
    "start_time": "2022-09-13T09:13:36.705Z"
   },
   {
    "duration": 3,
    "start_time": "2022-09-13T09:18:37.613Z"
   },
   {
    "duration": 5,
    "start_time": "2022-09-13T09:18:39.421Z"
   },
   {
    "duration": 3,
    "start_time": "2022-09-13T09:18:49.838Z"
   },
   {
    "duration": 1620,
    "start_time": "2022-09-13T09:19:09.623Z"
   },
   {
    "duration": 88,
    "start_time": "2022-09-13T09:19:11.245Z"
   },
   {
    "duration": 59,
    "start_time": "2022-09-13T09:19:11.335Z"
   },
   {
    "duration": 4,
    "start_time": "2022-09-13T09:19:11.396Z"
   },
   {
    "duration": 21,
    "start_time": "2022-09-13T09:19:11.408Z"
   },
   {
    "duration": 28,
    "start_time": "2022-09-13T09:19:11.431Z"
   },
   {
    "duration": 906,
    "start_time": "2022-09-13T09:19:11.461Z"
   },
   {
    "duration": 321,
    "start_time": "2022-09-13T09:19:12.369Z"
   },
   {
    "duration": 30,
    "start_time": "2022-09-13T09:19:12.692Z"
   },
   {
    "duration": 21,
    "start_time": "2022-09-13T09:19:12.724Z"
   },
   {
    "duration": 132,
    "start_time": "2022-09-13T09:19:12.747Z"
   },
   {
    "duration": 7,
    "start_time": "2022-09-13T09:19:12.881Z"
   },
   {
    "duration": 170,
    "start_time": "2022-09-13T09:19:12.889Z"
   },
   {
    "duration": 6,
    "start_time": "2022-09-13T09:19:13.062Z"
   },
   {
    "duration": 16,
    "start_time": "2022-09-13T09:19:13.070Z"
   },
   {
    "duration": 58,
    "start_time": "2022-09-13T09:19:13.088Z"
   },
   {
    "duration": 18,
    "start_time": "2022-09-13T09:19:13.147Z"
   },
   {
    "duration": 29,
    "start_time": "2022-09-13T09:19:13.167Z"
   },
   {
    "duration": 46,
    "start_time": "2022-09-13T09:19:13.198Z"
   },
   {
    "duration": 33,
    "start_time": "2022-09-13T09:19:13.246Z"
   },
   {
    "duration": 42,
    "start_time": "2022-09-13T09:19:13.281Z"
   },
   {
    "duration": 31,
    "start_time": "2022-09-13T09:19:13.326Z"
   },
   {
    "duration": 46,
    "start_time": "2022-09-13T09:19:13.358Z"
   },
   {
    "duration": 34,
    "start_time": "2022-09-13T09:19:13.405Z"
   },
   {
    "duration": 26,
    "start_time": "2022-09-13T09:19:13.441Z"
   },
   {
    "duration": 60,
    "start_time": "2022-09-13T09:19:13.469Z"
   },
   {
    "duration": 73,
    "start_time": "2022-09-13T09:19:13.530Z"
   },
   {
    "duration": 101,
    "start_time": "2022-09-13T09:19:13.605Z"
   },
   {
    "duration": 38,
    "start_time": "2022-09-13T09:19:13.711Z"
   },
   {
    "duration": 8556,
    "start_time": "2022-09-13T09:19:13.750Z"
   },
   {
    "duration": 10,
    "start_time": "2022-09-13T09:19:22.308Z"
   },
   {
    "duration": 21,
    "start_time": "2022-09-13T09:19:22.320Z"
   },
   {
    "duration": 6,
    "start_time": "2022-09-13T09:19:22.343Z"
   },
   {
    "duration": 312377,
    "start_time": "2022-09-13T09:19:22.350Z"
   },
   {
    "duration": 5,
    "start_time": "2022-09-13T09:24:34.799Z"
   },
   {
    "duration": 8,
    "start_time": "2022-09-13T09:24:34.805Z"
   },
   {
    "duration": 5,
    "start_time": "2022-09-13T09:24:34.814Z"
   },
   {
    "duration": 9,
    "start_time": "2022-09-13T09:24:34.820Z"
   },
   {
    "duration": 28,
    "start_time": "2022-09-13T09:24:34.830Z"
   },
   {
    "duration": 2,
    "start_time": "2022-09-13T09:24:34.859Z"
   },
   {
    "duration": 7,
    "start_time": "2022-09-13T09:24:34.864Z"
   },
   {
    "duration": 10,
    "start_time": "2022-09-13T09:24:34.872Z"
   },
   {
    "duration": 17,
    "start_time": "2022-09-13T09:24:34.883Z"
   },
   {
    "duration": 3999,
    "start_time": "2022-09-13T09:24:34.902Z"
   },
   {
    "duration": 4,
    "start_time": "2022-09-13T09:24:38.902Z"
   },
   {
    "duration": 21,
    "start_time": "2022-09-13T09:24:38.907Z"
   },
   {
    "duration": 22,
    "start_time": "2022-09-13T09:24:38.929Z"
   },
   {
    "duration": 31,
    "start_time": "2022-09-13T09:24:38.953Z"
   },
   {
    "duration": 19,
    "start_time": "2022-09-13T09:24:38.985Z"
   },
   {
    "duration": 11,
    "start_time": "2022-09-13T09:24:39.005Z"
   },
   {
    "duration": 87787,
    "start_time": "2022-09-13T09:24:39.018Z"
   },
   {
    "duration": 4,
    "start_time": "2022-09-13T09:26:06.807Z"
   },
   {
    "duration": 17,
    "start_time": "2022-09-13T09:26:06.812Z"
   },
   {
    "duration": 13,
    "start_time": "2022-09-13T09:26:06.831Z"
   },
   {
    "duration": 156,
    "start_time": "2022-09-13T09:26:06.845Z"
   },
   {
    "duration": 8,
    "start_time": "2022-09-13T09:31:49.938Z"
   },
   {
    "duration": 12,
    "start_time": "2022-09-13T09:33:20.601Z"
   },
   {
    "duration": 3,
    "start_time": "2022-09-13T09:33:22.472Z"
   },
   {
    "duration": 9,
    "start_time": "2022-09-13T09:33:23.320Z"
   },
   {
    "duration": 3,
    "start_time": "2022-09-13T09:33:31.476Z"
   },
   {
    "duration": 13,
    "start_time": "2022-09-13T09:33:32.739Z"
   },
   {
    "duration": 3,
    "start_time": "2022-09-13T09:34:12.167Z"
   },
   {
    "duration": 11,
    "start_time": "2022-09-13T09:34:15.296Z"
   },
   {
    "duration": 3,
    "start_time": "2022-09-13T09:34:48.993Z"
   },
   {
    "duration": 4,
    "start_time": "2022-09-13T09:34:49.824Z"
   },
   {
    "duration": 1747,
    "start_time": "2022-09-13T09:35:12.937Z"
   },
   {
    "duration": 4,
    "start_time": "2022-09-13T09:36:44.601Z"
   },
   {
    "duration": 6,
    "start_time": "2022-09-13T09:36:50.456Z"
   },
   {
    "duration": 4,
    "start_time": "2022-09-13T09:38:33.401Z"
   },
   {
    "duration": 1550,
    "start_time": "2022-09-13T09:41:19.072Z"
   },
   {
    "duration": 101,
    "start_time": "2022-09-13T09:41:20.626Z"
   },
   {
    "duration": 55,
    "start_time": "2022-09-13T09:41:20.729Z"
   },
   {
    "duration": 3,
    "start_time": "2022-09-13T09:41:20.786Z"
   },
   {
    "duration": 6,
    "start_time": "2022-09-13T09:41:20.790Z"
   },
   {
    "duration": 8,
    "start_time": "2022-09-13T09:41:20.798Z"
   },
   {
    "duration": 892,
    "start_time": "2022-09-13T09:41:20.807Z"
   },
   {
    "duration": 322,
    "start_time": "2022-09-13T09:41:21.700Z"
   },
   {
    "duration": 6,
    "start_time": "2022-09-13T09:41:22.024Z"
   },
   {
    "duration": 14,
    "start_time": "2022-09-13T09:41:22.032Z"
   },
   {
    "duration": 149,
    "start_time": "2022-09-13T09:41:22.047Z"
   },
   {
    "duration": 9,
    "start_time": "2022-09-13T09:41:22.197Z"
   },
   {
    "duration": 144,
    "start_time": "2022-09-13T09:41:22.207Z"
   },
   {
    "duration": 8,
    "start_time": "2022-09-13T09:41:22.353Z"
   },
   {
    "duration": 21,
    "start_time": "2022-09-13T09:41:22.362Z"
   },
   {
    "duration": 23,
    "start_time": "2022-09-13T09:41:22.384Z"
   },
   {
    "duration": 21,
    "start_time": "2022-09-13T09:41:22.409Z"
   },
   {
    "duration": 14,
    "start_time": "2022-09-13T09:41:22.432Z"
   },
   {
    "duration": 16,
    "start_time": "2022-09-13T09:41:22.448Z"
   },
   {
    "duration": 7,
    "start_time": "2022-09-13T09:41:22.465Z"
   },
   {
    "duration": 42,
    "start_time": "2022-09-13T09:41:22.473Z"
   },
   {
    "duration": 10,
    "start_time": "2022-09-13T09:41:22.517Z"
   },
   {
    "duration": 19,
    "start_time": "2022-09-13T09:41:22.528Z"
   },
   {
    "duration": 16,
    "start_time": "2022-09-13T09:41:22.549Z"
   },
   {
    "duration": 11,
    "start_time": "2022-09-13T09:41:22.566Z"
   },
   {
    "duration": 41,
    "start_time": "2022-09-13T09:41:22.579Z"
   },
   {
    "duration": 4,
    "start_time": "2022-09-13T09:41:22.622Z"
   },
   {
    "duration": 79,
    "start_time": "2022-09-13T09:41:22.630Z"
   },
   {
    "duration": 19,
    "start_time": "2022-09-13T09:41:22.711Z"
   },
   {
    "duration": 7812,
    "start_time": "2022-09-13T09:41:22.732Z"
   },
   {
    "duration": 11,
    "start_time": "2022-09-13T09:41:30.546Z"
   },
   {
    "duration": 45,
    "start_time": "2022-09-13T09:41:30.559Z"
   },
   {
    "duration": 36,
    "start_time": "2022-09-13T09:41:30.606Z"
   },
   {
    "duration": 433476,
    "start_time": "2022-09-13T09:41:30.644Z"
   },
   {
    "duration": 3,
    "start_time": "2022-09-13T09:48:44.123Z"
   },
   {
    "duration": 11,
    "start_time": "2022-09-13T09:48:44.128Z"
   },
   {
    "duration": 6,
    "start_time": "2022-09-13T09:48:44.140Z"
   },
   {
    "duration": 12,
    "start_time": "2022-09-13T09:48:44.147Z"
   },
   {
    "duration": 56,
    "start_time": "2022-09-13T09:48:44.161Z"
   },
   {
    "duration": 3,
    "start_time": "2022-09-13T09:48:44.219Z"
   },
   {
    "duration": 14,
    "start_time": "2022-09-13T09:48:44.223Z"
   },
   {
    "duration": 8,
    "start_time": "2022-09-13T09:48:44.239Z"
   },
   {
    "duration": 17,
    "start_time": "2022-09-13T09:48:44.249Z"
   },
   {
    "duration": 4513,
    "start_time": "2022-09-13T09:48:44.268Z"
   },
   {
    "duration": 3,
    "start_time": "2022-09-13T09:48:48.783Z"
   },
   {
    "duration": 17,
    "start_time": "2022-09-13T09:48:48.788Z"
   },
   {
    "duration": 10,
    "start_time": "2022-09-13T09:48:48.807Z"
   },
   {
    "duration": 32,
    "start_time": "2022-09-13T09:48:48.819Z"
   },
   {
    "duration": 4,
    "start_time": "2022-09-13T09:48:48.853Z"
   },
   {
    "duration": 8,
    "start_time": "2022-09-13T09:48:48.858Z"
   },
   {
    "duration": 47840,
    "start_time": "2022-09-13T09:48:48.867Z"
   },
   {
    "duration": 8,
    "start_time": "2022-09-13T09:49:36.710Z"
   },
   {
    "duration": 25,
    "start_time": "2022-09-13T09:49:36.720Z"
   },
   {
    "duration": 19,
    "start_time": "2022-09-13T09:49:36.747Z"
   },
   {
    "duration": 24,
    "start_time": "2022-09-13T09:49:36.767Z"
   },
   {
    "duration": 1012,
    "start_time": "2022-09-13T09:49:36.793Z"
   },
   {
    "duration": 8,
    "start_time": "2022-09-13T09:49:37.807Z"
   }
  ],
  "kernelspec": {
   "display_name": "Python 3 (ipykernel)",
   "language": "python",
   "name": "python3"
  },
  "language_info": {
   "codemirror_mode": {
    "name": "ipython",
    "version": 3
   },
   "file_extension": ".py",
   "mimetype": "text/x-python",
   "name": "python",
   "nbconvert_exporter": "python",
   "pygments_lexer": "ipython3",
   "version": "3.9.7"
  },
  "toc": {
   "base_numbering": 1,
   "nav_menu": {},
   "number_sections": true,
   "sideBar": true,
   "skip_h1_title": true,
   "title_cell": "Содержание",
   "title_sidebar": "Contents",
   "toc_cell": true,
   "toc_position": {},
   "toc_section_display": true,
   "toc_window_display": true
  }
 },
 "nbformat": 4,
 "nbformat_minor": 2
}
